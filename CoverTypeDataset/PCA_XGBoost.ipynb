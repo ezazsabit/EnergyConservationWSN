{
 "cells": [
  {
   "cell_type": "code",
   "execution_count": 1,
   "metadata": {},
   "outputs": [
    {
     "name": "stderr",
     "output_type": "stream",
     "text": [
      "c:\\Users\\USER\\AppData\\Local\\Programs\\Python\\Python311\\Lib\\site-packages\\tqdm\\auto.py:21: TqdmWarning: IProgress not found. Please update jupyter and ipywidgets. See https://ipywidgets.readthedocs.io/en/stable/user_install.html\n",
      "  from .autonotebook import tqdm as notebook_tqdm\n"
     ]
    }
   ],
   "source": [
    "import pandas as pd\n",
    "import numpy as np\n",
    "from sklearn.preprocessing import StandardScaler\n",
    "from sklearn.decomposition import PCA\n",
    "import seaborn as sns\n",
    "import matplotlib.pyplot as plt\n",
    "import optuna\n",
    "# import lightgbm as lgb\n",
    "from sklearn.model_selection import train_test_split\n",
    "from sklearn.metrics import roc_auc_score\n",
    "#plt.style.use('fivethirtyeight')\n",
    "import xgboost as xgb\n",
    "import sklearn\n",
    "import random\n",
    "from NecessaryModules.getData import getData"
   ]
  },
  {
   "cell_type": "code",
   "execution_count": 2,
   "metadata": {},
   "outputs": [],
   "source": [
    "import warnings\n",
    "warnings.filterwarnings(\"ignore\")"
   ]
  },
  {
   "cell_type": "code",
   "execution_count": 3,
   "metadata": {},
   "outputs": [],
   "source": [
    "import xgboost as xgb\n",
    "from sklearn.metrics import mean_absolute_error"
   ]
  },
  {
   "cell_type": "code",
   "execution_count": 4,
   "metadata": {},
   "outputs": [
    {
     "name": "stdout",
     "output_type": "stream",
     "text": [
      "   Elevation    Aspect     Slope  Horizontal_Distance_To_Hydrology  \\\n",
      "0   0.850622  0.105556  0.150943                          0.045351   \n",
      "1   0.879149  0.163889  0.188679                          0.426304   \n",
      "2   0.767116  0.327778  0.320755                          0.068027   \n",
      "3   0.791494  0.338889  0.226415                          0.294785   \n",
      "4   0.867220  0.575000  0.584906                          0.385488   \n",
      "\n",
      "   Vertical_Distance_To_Hydrology  Horizontal_Distance_To_Roadways  \\\n",
      "0                       -0.003509                         0.631060   \n",
      "1                        0.189474                         0.177358   \n",
      "2                        0.038596                         0.259652   \n",
      "3                       -0.077193                         0.085486   \n",
      "4                        0.314035                         0.074020   \n",
      "\n",
      "   Hillshade_9am  Hillshade_Noon  Hillshade_3pm  \\\n",
      "0       0.866142        0.874016          0.548   \n",
      "1       0.897638        0.866142          0.500   \n",
      "2       0.968504        0.877953          0.400   \n",
      "3       0.944882        0.909449          0.476   \n",
      "4       0.724409        0.984252          0.728   \n",
      "\n",
      "   Horizontal_Distance_To_Fire_Points  ...  Soil_Type32  Soil_Type33  \\\n",
      "0                            0.512105  ...            0            0   \n",
      "1                            0.388636  ...            1            0   \n",
      "2                            0.387924  ...            0            0   \n",
      "3                            0.198804  ...            0            0   \n",
      "4                            0.141982  ...            0            0   \n",
      "\n",
      "   Soil_Type34  Soil_Type35  Soil_Type36  Soil_Type37  Soil_Type38  \\\n",
      "0            0            0            0            0            0   \n",
      "1            0            0            0            0            0   \n",
      "2            0            0            0            0            0   \n",
      "3            0            0            0            0            0   \n",
      "4            0            0            0            0            0   \n",
      "\n",
      "   Soil_Type39  Soil_Type40  Cover_Type  \n",
      "0            0            0           1  \n",
      "1            0            0           1  \n",
      "2            0            0           1  \n",
      "3            0            0           1  \n",
      "4            0            0           1  \n",
      "\n",
      "[5 rows x 55 columns]\n",
      "['Elevation', 'Aspect', 'Slope', 'Horizontal_Distance_To_Hydrology', 'Vertical_Distance_To_Hydrology', 'Horizontal_Distance_To_Roadways', 'Hillshade_9am', 'Hillshade_Noon', 'Hillshade_3pm', 'Horizontal_Distance_To_Fire_Points', 'Wilderness_Area1', 'Wilderness_Area2', 'Wilderness_Area3', 'Wilderness_Area4', 'Soil_Type1', 'Soil_Type2', 'Soil_Type3', 'Soil_Type4', 'Soil_Type5', 'Soil_Type6', 'Soil_Type7', 'Soil_Type8', 'Soil_Type9', 'Soil_Type10', 'Soil_Type11', 'Soil_Type12', 'Soil_Type13', 'Soil_Type14', 'Soil_Type15', 'Soil_Type16', 'Soil_Type17', 'Soil_Type18', 'Soil_Type19', 'Soil_Type20', 'Soil_Type21', 'Soil_Type22', 'Soil_Type23', 'Soil_Type24', 'Soil_Type25', 'Soil_Type26', 'Soil_Type27', 'Soil_Type28', 'Soil_Type29', 'Soil_Type30', 'Soil_Type31', 'Soil_Type32', 'Soil_Type33', 'Soil_Type34', 'Soil_Type35', 'Soil_Type36', 'Soil_Type37', 'Soil_Type38', 'Soil_Type39', 'Soil_Type40', 'Cover_Type']\n",
      "<class 'pandas.core.frame.DataFrame'>\n"
     ]
    }
   ],
   "source": [
    "filename = '../shot_listed_dataset/CoverTypeNewNormalized.csv'\n",
    "dataset=getData(filename).values.tolist()\n",
    "random.shuffle(dataset)\n",
    "dataset=pd.DataFrame(dataset) #from dataset_list to dataset_dataframe after suffling\n",
    "# print(dataset)"
   ]
  },
  {
   "cell_type": "code",
   "execution_count": 5,
   "metadata": {},
   "outputs": [],
   "source": [
    "def split_data(data):\n",
    "    # splitting the data\n",
    "    \n",
    "    msk = np.random.rand(len(data)) < 0.8\n",
    "    yy = [54] #test title is 54 after suffleing the dataframe \n",
    "    train = data[msk]\n",
    "    test = data[~msk]\n",
    "    x_train = train[train.columns[:train.shape[1] - 1]]  # all columns except the last are x variables\n",
    "    y_train = train[yy[0]].tolist()  # the last column as y variable\n",
    "    x_test = test[test.columns[:test.shape[1] - 1]]\n",
    "    y_test = test[yy[0]].tolist()  # the last column as y variable\n",
    "    y_train = [0 if i == 7 else i for i in y_train]  # replace label 7 with 0\n",
    "    y_test = [0 if i == 7 else i for i in y_test]  # replace label 7 with 0\n",
    "    return x_train, y_train, x_test, y_test"
   ]
  },
  {
   "cell_type": "code",
   "execution_count": 6,
   "metadata": {},
   "outputs": [],
   "source": [
    "X=dataset.iloc[:,0:-1]\n",
    "y=dataset.iloc[:,-1]"
   ]
  },
  {
   "cell_type": "code",
   "execution_count": 7,
   "metadata": {},
   "outputs": [
    {
     "name": "stdout",
     "output_type": "stream",
     "text": [
      "PCA(n_components=40)\n",
      "<class 'numpy.ndarray'>\n",
      "19229\n",
      "[[ 9.19733798e-01 -2.83825094e-01 -7.67803395e-01 ... -2.64719341e-03\n",
      "  -7.64484831e-04 -9.41555779e-04]\n",
      " [-6.41619257e-03  9.54155266e-01 -2.72383198e-02 ... -3.00913770e-02\n",
      "   4.21891326e-02 -1.46033684e-02]\n",
      " [-5.07633296e-02  8.96393552e-01  5.37173569e-01 ... -1.78661529e-02\n",
      "   5.31383713e-02 -4.63994023e-03]\n",
      " ...\n",
      " [ 7.94161411e-01 -2.58908077e-01 -2.41996054e-01 ... -1.13335427e-02\n",
      "   1.77906692e-02 -6.98357587e-03]\n",
      " [-6.76464369e-01 -2.67087519e-01 -3.15591232e-01 ... -3.41453353e-02\n",
      "   1.60450851e-02 -1.08531527e-02]\n",
      " [-5.94956148e-01 -2.67593643e-01 -3.12702999e-01 ... -1.30569757e-02\n",
      "   2.94042004e-02  8.55628273e-03]]\n"
     ]
    }
   ],
   "source": [
    "pcaTrain = PCA(n_components=40).fit(X)# --train-- pca with the \"dataset\" Dataframe\n",
    "print(pcaTrain)\n",
    "compressed_dataset_X= pcaTrain.transform(X) # --transform-- the original \"dataset\" Dataframe into a lower-dimensional space based on the model's learned parameters\n",
    "print(type(compressed_dataset_X))\n",
    "print(len(compressed_dataset_X))\n",
    "print(compressed_dataset_X)"
   ]
  },
  {
   "cell_type": "code",
   "execution_count": 8,
   "metadata": {},
   "outputs": [
    {
     "name": "stdout",
     "output_type": "stream",
     "text": [
      "15270\n"
     ]
    }
   ],
   "source": [
    "# from NecessaryModules.splitData import split_data\n",
    "X_train, y_train, X_test, y_test = split_data(dataset)\n",
    "print(len(X_train))"
   ]
  },
  {
   "cell_type": "code",
   "execution_count": 9,
   "metadata": {},
   "outputs": [
    {
     "name": "stdout",
     "output_type": "stream",
     "text": [
      "<class 'numpy.ndarray'>\n",
      "15270\n",
      "[[-6.41619257e-03  9.54155266e-01 -2.72383198e-02 ... -3.00913770e-02\n",
      "   4.21891326e-02 -1.46033684e-02]\n",
      " [-5.07633296e-02  8.96393552e-01  5.37173569e-01 ... -1.78661529e-02\n",
      "   5.31383713e-02 -4.63994023e-03]\n",
      " [ 1.07607793e-01  9.44639545e-01 -9.34689242e-02 ... -1.17492582e-02\n",
      "   1.33037033e-03  6.42158168e-05]\n",
      " ...\n",
      " [ 1.00973870e+00 -6.10951789e-01  8.37897656e-01 ... -2.37449598e-02\n",
      "   3.55994617e-02 -1.11354803e-02]\n",
      " [-7.34970340e-01 -3.39148342e-01  1.55885826e-01 ...  3.17198283e-02\n",
      "  -2.60055053e-02  2.64607614e-02]\n",
      " [-5.94956148e-01 -2.67593643e-01 -3.12702999e-01 ... -1.30569757e-02\n",
      "   2.94042004e-02  8.55628273e-03]]\n",
      "<class 'numpy.ndarray'>\n",
      "3959\n",
      "[[ 9.19733798e-01 -2.83825094e-01 -7.67803395e-01 ... -2.64719341e-03\n",
      "  -7.64484831e-04 -9.41555779e-04]\n",
      " [-2.59112913e-02  1.32182782e-01  1.30957929e-01 ...  9.15979521e-04\n",
      "  -1.56376557e-03 -6.36055051e-04]\n",
      " [ 8.72644441e-01 -2.61906719e-01 -6.69431764e-01 ...  3.03102279e-02\n",
      "  -1.46845133e-02  1.27514866e-02]\n",
      " ...\n",
      " [ 7.91558884e-01 -2.22385299e-01 -4.37639058e-01 ... -5.40274820e-02\n",
      "   7.33058103e-02 -1.46714855e-02]\n",
      " [ 7.94161411e-01 -2.58908077e-01 -2.41996054e-01 ... -1.13335427e-02\n",
      "   1.77906692e-02 -6.98357587e-03]\n",
      " [-6.76464369e-01 -2.67087519e-01 -3.15591232e-01 ... -3.41453353e-02\n",
      "   1.60450851e-02 -1.08531527e-02]]\n"
     ]
    }
   ],
   "source": [
    "compressed_dataset_X_train= pcaTrain.transform(X_train) # --transform-- the original \"dataset\" Dataframe into a lower-dimensional space based on the model's learned parameters\n",
    "print(type(compressed_dataset_X_train))\n",
    "print(len(compressed_dataset_X_train))\n",
    "print(compressed_dataset_X_train)\n",
    "\n",
    "compressed_dataset_X_test= pcaTrain.transform(X_test) # --transform-- the original \"dataset\" Dataframe into a lower-dimensional space based on the model's learned parameters\n",
    "print(type(compressed_dataset_X_test))\n",
    "print(len(compressed_dataset_X_test))\n",
    "print(compressed_dataset_X_test)"
   ]
  },
  {
   "cell_type": "markdown",
   "metadata": {},
   "source": [
    "# tune XG-Boost"
   ]
  },
  {
   "cell_type": "code",
   "execution_count": 10,
   "metadata": {},
   "outputs": [
    {
     "data": {
      "text/html": [
       "<style>#sk-container-id-1 {\n",
       "  /* Definition of color scheme common for light and dark mode */\n",
       "  --sklearn-color-text: black;\n",
       "  --sklearn-color-line: gray;\n",
       "  /* Definition of color scheme for unfitted estimators */\n",
       "  --sklearn-color-unfitted-level-0: #fff5e6;\n",
       "  --sklearn-color-unfitted-level-1: #f6e4d2;\n",
       "  --sklearn-color-unfitted-level-2: #ffe0b3;\n",
       "  --sklearn-color-unfitted-level-3: chocolate;\n",
       "  /* Definition of color scheme for fitted estimators */\n",
       "  --sklearn-color-fitted-level-0: #f0f8ff;\n",
       "  --sklearn-color-fitted-level-1: #d4ebff;\n",
       "  --sklearn-color-fitted-level-2: #b3dbfd;\n",
       "  --sklearn-color-fitted-level-3: cornflowerblue;\n",
       "\n",
       "  /* Specific color for light theme */\n",
       "  --sklearn-color-text-on-default-background: var(--sg-text-color, var(--theme-code-foreground, var(--jp-content-font-color1, black)));\n",
       "  --sklearn-color-background: var(--sg-background-color, var(--theme-background, var(--jp-layout-color0, white)));\n",
       "  --sklearn-color-border-box: var(--sg-text-color, var(--theme-code-foreground, var(--jp-content-font-color1, black)));\n",
       "  --sklearn-color-icon: #696969;\n",
       "\n",
       "  @media (prefers-color-scheme: dark) {\n",
       "    /* Redefinition of color scheme for dark theme */\n",
       "    --sklearn-color-text-on-default-background: var(--sg-text-color, var(--theme-code-foreground, var(--jp-content-font-color1, white)));\n",
       "    --sklearn-color-background: var(--sg-background-color, var(--theme-background, var(--jp-layout-color0, #111)));\n",
       "    --sklearn-color-border-box: var(--sg-text-color, var(--theme-code-foreground, var(--jp-content-font-color1, white)));\n",
       "    --sklearn-color-icon: #878787;\n",
       "  }\n",
       "}\n",
       "\n",
       "#sk-container-id-1 {\n",
       "  color: var(--sklearn-color-text);\n",
       "}\n",
       "\n",
       "#sk-container-id-1 pre {\n",
       "  padding: 0;\n",
       "}\n",
       "\n",
       "#sk-container-id-1 input.sk-hidden--visually {\n",
       "  border: 0;\n",
       "  clip: rect(1px 1px 1px 1px);\n",
       "  clip: rect(1px, 1px, 1px, 1px);\n",
       "  height: 1px;\n",
       "  margin: -1px;\n",
       "  overflow: hidden;\n",
       "  padding: 0;\n",
       "  position: absolute;\n",
       "  width: 1px;\n",
       "}\n",
       "\n",
       "#sk-container-id-1 div.sk-dashed-wrapped {\n",
       "  border: 1px dashed var(--sklearn-color-line);\n",
       "  margin: 0 0.4em 0.5em 0.4em;\n",
       "  box-sizing: border-box;\n",
       "  padding-bottom: 0.4em;\n",
       "  background-color: var(--sklearn-color-background);\n",
       "}\n",
       "\n",
       "#sk-container-id-1 div.sk-container {\n",
       "  /* jupyter's `normalize.less` sets `[hidden] { display: none; }`\n",
       "     but bootstrap.min.css set `[hidden] { display: none !important; }`\n",
       "     so we also need the `!important` here to be able to override the\n",
       "     default hidden behavior on the sphinx rendered scikit-learn.org.\n",
       "     See: https://github.com/scikit-learn/scikit-learn/issues/21755 */\n",
       "  display: inline-block !important;\n",
       "  position: relative;\n",
       "}\n",
       "\n",
       "#sk-container-id-1 div.sk-text-repr-fallback {\n",
       "  display: none;\n",
       "}\n",
       "\n",
       "div.sk-parallel-item,\n",
       "div.sk-serial,\n",
       "div.sk-item {\n",
       "  /* draw centered vertical line to link estimators */\n",
       "  background-image: linear-gradient(var(--sklearn-color-text-on-default-background), var(--sklearn-color-text-on-default-background));\n",
       "  background-size: 2px 100%;\n",
       "  background-repeat: no-repeat;\n",
       "  background-position: center center;\n",
       "}\n",
       "\n",
       "/* Parallel-specific style estimator block */\n",
       "\n",
       "#sk-container-id-1 div.sk-parallel-item::after {\n",
       "  content: \"\";\n",
       "  width: 100%;\n",
       "  border-bottom: 2px solid var(--sklearn-color-text-on-default-background);\n",
       "  flex-grow: 1;\n",
       "}\n",
       "\n",
       "#sk-container-id-1 div.sk-parallel {\n",
       "  display: flex;\n",
       "  align-items: stretch;\n",
       "  justify-content: center;\n",
       "  background-color: var(--sklearn-color-background);\n",
       "  position: relative;\n",
       "}\n",
       "\n",
       "#sk-container-id-1 div.sk-parallel-item {\n",
       "  display: flex;\n",
       "  flex-direction: column;\n",
       "}\n",
       "\n",
       "#sk-container-id-1 div.sk-parallel-item:first-child::after {\n",
       "  align-self: flex-end;\n",
       "  width: 50%;\n",
       "}\n",
       "\n",
       "#sk-container-id-1 div.sk-parallel-item:last-child::after {\n",
       "  align-self: flex-start;\n",
       "  width: 50%;\n",
       "}\n",
       "\n",
       "#sk-container-id-1 div.sk-parallel-item:only-child::after {\n",
       "  width: 0;\n",
       "}\n",
       "\n",
       "/* Serial-specific style estimator block */\n",
       "\n",
       "#sk-container-id-1 div.sk-serial {\n",
       "  display: flex;\n",
       "  flex-direction: column;\n",
       "  align-items: center;\n",
       "  background-color: var(--sklearn-color-background);\n",
       "  padding-right: 1em;\n",
       "  padding-left: 1em;\n",
       "}\n",
       "\n",
       "\n",
       "/* Toggleable style: style used for estimator/Pipeline/ColumnTransformer box that is\n",
       "clickable and can be expanded/collapsed.\n",
       "- Pipeline and ColumnTransformer use this feature and define the default style\n",
       "- Estimators will overwrite some part of the style using the `sk-estimator` class\n",
       "*/\n",
       "\n",
       "/* Pipeline and ColumnTransformer style (default) */\n",
       "\n",
       "#sk-container-id-1 div.sk-toggleable {\n",
       "  /* Default theme specific background. It is overwritten whether we have a\n",
       "  specific estimator or a Pipeline/ColumnTransformer */\n",
       "  background-color: var(--sklearn-color-background);\n",
       "}\n",
       "\n",
       "/* Toggleable label */\n",
       "#sk-container-id-1 label.sk-toggleable__label {\n",
       "  cursor: pointer;\n",
       "  display: block;\n",
       "  width: 100%;\n",
       "  margin-bottom: 0;\n",
       "  padding: 0.5em;\n",
       "  box-sizing: border-box;\n",
       "  text-align: center;\n",
       "}\n",
       "\n",
       "#sk-container-id-1 label.sk-toggleable__label-arrow:before {\n",
       "  /* Arrow on the left of the label */\n",
       "  content: \"▸\";\n",
       "  float: left;\n",
       "  margin-right: 0.25em;\n",
       "  color: var(--sklearn-color-icon);\n",
       "}\n",
       "\n",
       "#sk-container-id-1 label.sk-toggleable__label-arrow:hover:before {\n",
       "  color: var(--sklearn-color-text);\n",
       "}\n",
       "\n",
       "/* Toggleable content - dropdown */\n",
       "\n",
       "#sk-container-id-1 div.sk-toggleable__content {\n",
       "  max-height: 0;\n",
       "  max-width: 0;\n",
       "  overflow: hidden;\n",
       "  text-align: left;\n",
       "  /* unfitted */\n",
       "  background-color: var(--sklearn-color-unfitted-level-0);\n",
       "}\n",
       "\n",
       "#sk-container-id-1 div.sk-toggleable__content.fitted {\n",
       "  /* fitted */\n",
       "  background-color: var(--sklearn-color-fitted-level-0);\n",
       "}\n",
       "\n",
       "#sk-container-id-1 div.sk-toggleable__content pre {\n",
       "  margin: 0.2em;\n",
       "  border-radius: 0.25em;\n",
       "  color: var(--sklearn-color-text);\n",
       "  /* unfitted */\n",
       "  background-color: var(--sklearn-color-unfitted-level-0);\n",
       "}\n",
       "\n",
       "#sk-container-id-1 div.sk-toggleable__content.fitted pre {\n",
       "  /* unfitted */\n",
       "  background-color: var(--sklearn-color-fitted-level-0);\n",
       "}\n",
       "\n",
       "#sk-container-id-1 input.sk-toggleable__control:checked~div.sk-toggleable__content {\n",
       "  /* Expand drop-down */\n",
       "  max-height: 200px;\n",
       "  max-width: 100%;\n",
       "  overflow: auto;\n",
       "}\n",
       "\n",
       "#sk-container-id-1 input.sk-toggleable__control:checked~label.sk-toggleable__label-arrow:before {\n",
       "  content: \"▾\";\n",
       "}\n",
       "\n",
       "/* Pipeline/ColumnTransformer-specific style */\n",
       "\n",
       "#sk-container-id-1 div.sk-label input.sk-toggleable__control:checked~label.sk-toggleable__label {\n",
       "  color: var(--sklearn-color-text);\n",
       "  background-color: var(--sklearn-color-unfitted-level-2);\n",
       "}\n",
       "\n",
       "#sk-container-id-1 div.sk-label.fitted input.sk-toggleable__control:checked~label.sk-toggleable__label {\n",
       "  background-color: var(--sklearn-color-fitted-level-2);\n",
       "}\n",
       "\n",
       "/* Estimator-specific style */\n",
       "\n",
       "/* Colorize estimator box */\n",
       "#sk-container-id-1 div.sk-estimator input.sk-toggleable__control:checked~label.sk-toggleable__label {\n",
       "  /* unfitted */\n",
       "  background-color: var(--sklearn-color-unfitted-level-2);\n",
       "}\n",
       "\n",
       "#sk-container-id-1 div.sk-estimator.fitted input.sk-toggleable__control:checked~label.sk-toggleable__label {\n",
       "  /* fitted */\n",
       "  background-color: var(--sklearn-color-fitted-level-2);\n",
       "}\n",
       "\n",
       "#sk-container-id-1 div.sk-label label.sk-toggleable__label,\n",
       "#sk-container-id-1 div.sk-label label {\n",
       "  /* The background is the default theme color */\n",
       "  color: var(--sklearn-color-text-on-default-background);\n",
       "}\n",
       "\n",
       "/* On hover, darken the color of the background */\n",
       "#sk-container-id-1 div.sk-label:hover label.sk-toggleable__label {\n",
       "  color: var(--sklearn-color-text);\n",
       "  background-color: var(--sklearn-color-unfitted-level-2);\n",
       "}\n",
       "\n",
       "/* Label box, darken color on hover, fitted */\n",
       "#sk-container-id-1 div.sk-label.fitted:hover label.sk-toggleable__label.fitted {\n",
       "  color: var(--sklearn-color-text);\n",
       "  background-color: var(--sklearn-color-fitted-level-2);\n",
       "}\n",
       "\n",
       "/* Estimator label */\n",
       "\n",
       "#sk-container-id-1 div.sk-label label {\n",
       "  font-family: monospace;\n",
       "  font-weight: bold;\n",
       "  display: inline-block;\n",
       "  line-height: 1.2em;\n",
       "}\n",
       "\n",
       "#sk-container-id-1 div.sk-label-container {\n",
       "  text-align: center;\n",
       "}\n",
       "\n",
       "/* Estimator-specific */\n",
       "#sk-container-id-1 div.sk-estimator {\n",
       "  font-family: monospace;\n",
       "  border: 1px dotted var(--sklearn-color-border-box);\n",
       "  border-radius: 0.25em;\n",
       "  box-sizing: border-box;\n",
       "  margin-bottom: 0.5em;\n",
       "  /* unfitted */\n",
       "  background-color: var(--sklearn-color-unfitted-level-0);\n",
       "}\n",
       "\n",
       "#sk-container-id-1 div.sk-estimator.fitted {\n",
       "  /* fitted */\n",
       "  background-color: var(--sklearn-color-fitted-level-0);\n",
       "}\n",
       "\n",
       "/* on hover */\n",
       "#sk-container-id-1 div.sk-estimator:hover {\n",
       "  /* unfitted */\n",
       "  background-color: var(--sklearn-color-unfitted-level-2);\n",
       "}\n",
       "\n",
       "#sk-container-id-1 div.sk-estimator.fitted:hover {\n",
       "  /* fitted */\n",
       "  background-color: var(--sklearn-color-fitted-level-2);\n",
       "}\n",
       "\n",
       "/* Specification for estimator info (e.g. \"i\" and \"?\") */\n",
       "\n",
       "/* Common style for \"i\" and \"?\" */\n",
       "\n",
       ".sk-estimator-doc-link,\n",
       "a:link.sk-estimator-doc-link,\n",
       "a:visited.sk-estimator-doc-link {\n",
       "  float: right;\n",
       "  font-size: smaller;\n",
       "  line-height: 1em;\n",
       "  font-family: monospace;\n",
       "  background-color: var(--sklearn-color-background);\n",
       "  border-radius: 1em;\n",
       "  height: 1em;\n",
       "  width: 1em;\n",
       "  text-decoration: none !important;\n",
       "  margin-left: 1ex;\n",
       "  /* unfitted */\n",
       "  border: var(--sklearn-color-unfitted-level-1) 1pt solid;\n",
       "  color: var(--sklearn-color-unfitted-level-1);\n",
       "}\n",
       "\n",
       ".sk-estimator-doc-link.fitted,\n",
       "a:link.sk-estimator-doc-link.fitted,\n",
       "a:visited.sk-estimator-doc-link.fitted {\n",
       "  /* fitted */\n",
       "  border: var(--sklearn-color-fitted-level-1) 1pt solid;\n",
       "  color: var(--sklearn-color-fitted-level-1);\n",
       "}\n",
       "\n",
       "/* On hover */\n",
       "div.sk-estimator:hover .sk-estimator-doc-link:hover,\n",
       ".sk-estimator-doc-link:hover,\n",
       "div.sk-label-container:hover .sk-estimator-doc-link:hover,\n",
       ".sk-estimator-doc-link:hover {\n",
       "  /* unfitted */\n",
       "  background-color: var(--sklearn-color-unfitted-level-3);\n",
       "  color: var(--sklearn-color-background);\n",
       "  text-decoration: none;\n",
       "}\n",
       "\n",
       "div.sk-estimator.fitted:hover .sk-estimator-doc-link.fitted:hover,\n",
       ".sk-estimator-doc-link.fitted:hover,\n",
       "div.sk-label-container:hover .sk-estimator-doc-link.fitted:hover,\n",
       ".sk-estimator-doc-link.fitted:hover {\n",
       "  /* fitted */\n",
       "  background-color: var(--sklearn-color-fitted-level-3);\n",
       "  color: var(--sklearn-color-background);\n",
       "  text-decoration: none;\n",
       "}\n",
       "\n",
       "/* Span, style for the box shown on hovering the info icon */\n",
       ".sk-estimator-doc-link span {\n",
       "  display: none;\n",
       "  z-index: 9999;\n",
       "  position: relative;\n",
       "  font-weight: normal;\n",
       "  right: .2ex;\n",
       "  padding: .5ex;\n",
       "  margin: .5ex;\n",
       "  width: min-content;\n",
       "  min-width: 20ex;\n",
       "  max-width: 50ex;\n",
       "  color: var(--sklearn-color-text);\n",
       "  box-shadow: 2pt 2pt 4pt #999;\n",
       "  /* unfitted */\n",
       "  background: var(--sklearn-color-unfitted-level-0);\n",
       "  border: .5pt solid var(--sklearn-color-unfitted-level-3);\n",
       "}\n",
       "\n",
       ".sk-estimator-doc-link.fitted span {\n",
       "  /* fitted */\n",
       "  background: var(--sklearn-color-fitted-level-0);\n",
       "  border: var(--sklearn-color-fitted-level-3);\n",
       "}\n",
       "\n",
       ".sk-estimator-doc-link:hover span {\n",
       "  display: block;\n",
       "}\n",
       "\n",
       "/* \"?\"-specific style due to the `<a>` HTML tag */\n",
       "\n",
       "#sk-container-id-1 a.estimator_doc_link {\n",
       "  float: right;\n",
       "  font-size: 1rem;\n",
       "  line-height: 1em;\n",
       "  font-family: monospace;\n",
       "  background-color: var(--sklearn-color-background);\n",
       "  border-radius: 1rem;\n",
       "  height: 1rem;\n",
       "  width: 1rem;\n",
       "  text-decoration: none;\n",
       "  /* unfitted */\n",
       "  color: var(--sklearn-color-unfitted-level-1);\n",
       "  border: var(--sklearn-color-unfitted-level-1) 1pt solid;\n",
       "}\n",
       "\n",
       "#sk-container-id-1 a.estimator_doc_link.fitted {\n",
       "  /* fitted */\n",
       "  border: var(--sklearn-color-fitted-level-1) 1pt solid;\n",
       "  color: var(--sklearn-color-fitted-level-1);\n",
       "}\n",
       "\n",
       "/* On hover */\n",
       "#sk-container-id-1 a.estimator_doc_link:hover {\n",
       "  /* unfitted */\n",
       "  background-color: var(--sklearn-color-unfitted-level-3);\n",
       "  color: var(--sklearn-color-background);\n",
       "  text-decoration: none;\n",
       "}\n",
       "\n",
       "#sk-container-id-1 a.estimator_doc_link.fitted:hover {\n",
       "  /* fitted */\n",
       "  background-color: var(--sklearn-color-fitted-level-3);\n",
       "}\n",
       "</style><div id=\"sk-container-id-1\" class=\"sk-top-container\"><div class=\"sk-text-repr-fallback\"><pre>XGBRegressor(alpha=10, base_score=None, booster=None, callbacks=None,\n",
       "             colsample_bylevel=1, colsample_bynode=None, colsample_bytree=1,\n",
       "             device=None, early_stopping_rounds=None, enable_categorical=False,\n",
       "             eval_metric=None, feature_types=None, gamma=None, grow_policy=None,\n",
       "             importance_type=None, interaction_constraints=None,\n",
       "             learning_rate=0.3, max_bin=None, max_cat_threshold=None,\n",
       "             max_cat_to_onehot=None, max_delta_step=None, max_depth=15,\n",
       "             max_leaves=None, min_child_weight=1, missing=nan,\n",
       "             monotone_constraints=None, multi_strategy=None, n_estimators=100,\n",
       "             n_jobs=None, num_parallel_tree=None, ...)</pre><b>In a Jupyter environment, please rerun this cell to show the HTML representation or trust the notebook. <br />On GitHub, the HTML representation is unable to render, please try loading this page with nbviewer.org.</b></div><div class=\"sk-container\" hidden><div class=\"sk-item\"><div class=\"sk-estimator fitted sk-toggleable\"><input class=\"sk-toggleable__control sk-hidden--visually\" id=\"sk-estimator-id-1\" type=\"checkbox\" checked><label for=\"sk-estimator-id-1\" class=\"sk-toggleable__label fitted sk-toggleable__label-arrow fitted\">&nbsp;XGBRegressor<span class=\"sk-estimator-doc-link fitted\">i<span>Fitted</span></span></label><div class=\"sk-toggleable__content fitted\"><pre>XGBRegressor(alpha=10, base_score=None, booster=None, callbacks=None,\n",
       "             colsample_bylevel=1, colsample_bynode=None, colsample_bytree=1,\n",
       "             device=None, early_stopping_rounds=None, enable_categorical=False,\n",
       "             eval_metric=None, feature_types=None, gamma=None, grow_policy=None,\n",
       "             importance_type=None, interaction_constraints=None,\n",
       "             learning_rate=0.3, max_bin=None, max_cat_threshold=None,\n",
       "             max_cat_to_onehot=None, max_delta_step=None, max_depth=15,\n",
       "             max_leaves=None, min_child_weight=1, missing=nan,\n",
       "             monotone_constraints=None, multi_strategy=None, n_estimators=100,\n",
       "             n_jobs=None, num_parallel_tree=None, ...)</pre></div> </div></div></div></div>"
      ],
      "text/plain": [
       "XGBRegressor(alpha=10, base_score=None, booster=None, callbacks=None,\n",
       "             colsample_bylevel=1, colsample_bynode=None, colsample_bytree=1,\n",
       "             device=None, early_stopping_rounds=None, enable_categorical=False,\n",
       "             eval_metric=None, feature_types=None, gamma=None, grow_policy=None,\n",
       "             importance_type=None, interaction_constraints=None,\n",
       "             learning_rate=0.3, max_bin=None, max_cat_threshold=None,\n",
       "             max_cat_to_onehot=None, max_delta_step=None, max_depth=15,\n",
       "             max_leaves=None, min_child_weight=1, missing=nan,\n",
       "             monotone_constraints=None, multi_strategy=None, n_estimators=100,\n",
       "             n_jobs=None, num_parallel_tree=None, ...)"
      ]
     },
     "execution_count": 10,
     "metadata": {},
     "output_type": "execute_result"
    }
   ],
   "source": [
    "# train the model with random parameter\n",
    "\n",
    "# Preparing the regressor and fitting data with some parameters\n",
    "xg_reg = xgb.XGBRegressor(objective ='reg:linear', \n",
    "                          colsample_bytree = 1, \n",
    "                          learning_rate = 0.3,\n",
    "                          max_depth = 15, \n",
    "                          alpha = 10, \n",
    "                          n_estimators = 100, \n",
    "                          verbose=1, \n",
    "                          min_child_weight = 1, \n",
    "                          colsample_bylevel = 1, \n",
    "                          reg_alpha = 2) \n",
    "\n",
    "xg_reg.fit(compressed_dataset_X_train, y_train)"
   ]
  },
  {
   "cell_type": "code",
   "execution_count": 11,
   "metadata": {},
   "outputs": [
    {
     "data": {
      "text/plain": [
       "0.6350088406163172"
      ]
     },
     "execution_count": 11,
     "metadata": {},
     "output_type": "execute_result"
    }
   ],
   "source": [
    "# Finding mean absolute error\n",
    "preds = xg_reg.predict(compressed_dataset_X_test)\n",
    "preds = preds.astype(int)\n",
    "mae = np.abs(y_test-preds).mean()\n",
    "mae"
   ]
  },
  {
   "cell_type": "code",
   "execution_count": 12,
   "metadata": {},
   "outputs": [],
   "source": [
    "# Defining the best parameter with optuna\n",
    "from sklearn.model_selection import KFold\n",
    "K = 5 # 5 fold cross validation\n",
    "kf = KFold(n_splits = K, random_state = 42, shuffle = True)\n",
    "\n",
    "\n",
    "train_tunned = np.array(compressed_dataset_X)\n",
    "target_train_tunned = np.array(y)\n",
    "\n",
    "# test = np.array(X)\n",
    "# target_train = df_train['congestion'].values\n",
    "\n",
    "# test_preds = np.zeros((len(test)))\n",
    "oof_preds = np.zeros((len(train_tunned)))\n",
    "abs_error_arr=[]\n",
    "def objective(trial):\n",
    "\n",
    " for train_index, val_index in (kf.split(compressed_dataset_X)):\n",
    "    train_X, valid_X = train_tunned[train_index], train_tunned[val_index]\n",
    "    train_Y, valid_Y = target_train_tunned[train_index], target_train_tunned[val_index]\n",
    "    \n",
    "        \n",
    "        # train_x, test_x, train_y, test_y = train_test_split(data, target, test_size=0.25,random_state=0)\n",
    "    param = {\n",
    "            # 'tree_method':'gpu_hist',  # this parameter means using the GPU when training our model to speedup the training process \n",
    "            'lambda': trial.suggest_loguniform('lambda', 1e-3, 10.0),\n",
    "            'alpha': trial.suggest_loguniform('alpha', 1e-3, 10.0),\n",
    "            'colsample_bytree': trial.suggest_categorical('colsample_bytree', [0.3,0.4,0.5,0.6,0.7,0.8,0.9, 1.0]),\n",
    "            'colsample_bylevel': trial.suggest_categorical('colsample_bylevel', [0.3,0.4,0.5,0.6,0.7,0.8,0.9, 1.0]),\n",
    "            'subsample': trial.suggest_categorical('subsample', [0.4,0.5,0.6,0.7,0.8,1.0]),\n",
    "            'learning_rate': trial.suggest_categorical('learning_rate', [1e-5,1e-4,1e-3,0.001,0.002,0.003,0.004,0.005,0.006,0.007,0.008,0.009,0.01,0.04,0.08,0.12,0.20, 0.24, 0.30, 0.38, 0.42, 0.48, 0.50, 0.60, 0.70, 0.80, 0.90, 1.0]),\n",
    "            'n_estimators': trial.suggest_int('n_estimators', 1, 300),\n",
    "            'max_depth': trial.suggest_categorical('max_depth', [5,7,9,11,13,15,17,20,25,30,35,40]),\n",
    "            'random_state': trial.suggest_categorical('random_state', [24,48,2020]),\n",
    "            'min_child_weight': trial.suggest_int('min_child_weight', 1, 300),\n",
    "        }\n",
    "    model = xgb.XGBRegressor(**param)  \n",
    "        \n",
    "    model.fit(train_X,train_Y,eval_set=[(valid_X,valid_Y)],early_stopping_rounds=100,verbose=False)\n",
    "        \n",
    "    preds = model.predict(valid_X)\n",
    "    oof_preds[val_index] = preds # preds gives total 3846 predicted value for valid_X\n",
    "\n",
    "\n",
    " \n",
    " print(len(oof_preds))\n",
    "      \n",
    " mae = mean_absolute_error(target_train_tunned, oof_preds)\n",
    "        \n",
    " return mae"
   ]
  },
  {
   "cell_type": "code",
   "execution_count": 13,
   "metadata": {},
   "outputs": [
    {
     "name": "stderr",
     "output_type": "stream",
     "text": [
      "[I 2024-02-18 23:17:33,364] A new study created in memory with name: XG_tune\n"
     ]
    }
   ],
   "source": [
    "# this is the main optuna for optimizing a object-->\"objective\"\n",
    "study = optuna.create_study(direction='minimize',study_name=\"XG_tune\")"
   ]
  },
  {
   "cell_type": "code",
   "execution_count": 14,
   "metadata": {},
   "outputs": [
    {
     "name": "stderr",
     "output_type": "stream",
     "text": [
      "[I 2024-02-18 23:17:56,064] Trial 0 finished with value: 1.2916181286744328 and parameters: {'lambda': 0.0035981646839084885, 'alpha': 1.3699259103358323, 'colsample_bytree': 0.9, 'colsample_bylevel': 0.7, 'subsample': 0.4, 'learning_rate': 0.008, 'n_estimators': 86, 'max_depth': 30, 'random_state': 24, 'min_child_weight': 21}. Best is trial 0 with value: 1.2916181286744328.\n"
     ]
    },
    {
     "name": "stdout",
     "output_type": "stream",
     "text": [
      "19229\n"
     ]
    },
    {
     "name": "stderr",
     "output_type": "stream",
     "text": [
      "[I 2024-02-18 23:18:07,696] Trial 1 finished with value: 0.8510451608943507 and parameters: {'lambda': 1.0819728208304342, 'alpha': 0.001331565007652033, 'colsample_bytree': 0.9, 'colsample_bylevel': 1.0, 'subsample': 0.4, 'learning_rate': 0.42, 'n_estimators': 210, 'max_depth': 7, 'random_state': 24, 'min_child_weight': 135}. Best is trial 1 with value: 0.8510451608943507.\n"
     ]
    },
    {
     "name": "stdout",
     "output_type": "stream",
     "text": [
      "19229\n"
     ]
    },
    {
     "name": "stderr",
     "output_type": "stream",
     "text": [
      "[I 2024-02-18 23:18:14,541] Trial 2 finished with value: 1.0688850202279132 and parameters: {'lambda': 0.04603107232455046, 'alpha': 0.017260660697964662, 'colsample_bytree': 0.8, 'colsample_bylevel': 0.9, 'subsample': 0.4, 'learning_rate': 0.9, 'n_estimators': 153, 'max_depth': 7, 'random_state': 24, 'min_child_weight': 239}. Best is trial 1 with value: 0.8510451608943507.\n"
     ]
    },
    {
     "name": "stdout",
     "output_type": "stream",
     "text": [
      "19229\n"
     ]
    },
    {
     "name": "stderr",
     "output_type": "stream",
     "text": [
      "[I 2024-02-18 23:18:53,257] Trial 3 finished with value: 0.8469196875936656 and parameters: {'lambda': 0.09789745776149793, 'alpha': 0.012780280452051478, 'colsample_bytree': 0.4, 'colsample_bylevel': 0.3, 'subsample': 0.7, 'learning_rate': 0.5, 'n_estimators': 138, 'max_depth': 40, 'random_state': 2020, 'min_child_weight': 26}. Best is trial 3 with value: 0.8469196875936656.\n"
     ]
    },
    {
     "name": "stdout",
     "output_type": "stream",
     "text": [
      "19229\n"
     ]
    },
    {
     "name": "stderr",
     "output_type": "stream",
     "text": [
      "[I 2024-02-18 23:19:05,716] Trial 4 finished with value: 1.3163719391127235 and parameters: {'lambda': 0.05412704323510874, 'alpha': 0.004101727408786494, 'colsample_bytree': 0.9, 'colsample_bylevel': 0.9, 'subsample': 0.6, 'learning_rate': 0.007, 'n_estimators': 187, 'max_depth': 25, 'random_state': 24, 'min_child_weight': 276}. Best is trial 3 with value: 0.8469196875936656.\n"
     ]
    },
    {
     "name": "stdout",
     "output_type": "stream",
     "text": [
      "19229\n"
     ]
    },
    {
     "name": "stderr",
     "output_type": "stream",
     "text": [
      "[I 2024-02-18 23:19:12,386] Trial 5 finished with value: 1.666193141537515 and parameters: {'lambda': 0.02634811754735464, 'alpha': 2.902634972448825, 'colsample_bytree': 0.3, 'colsample_bylevel': 0.3, 'subsample': 1.0, 'learning_rate': 0.002, 'n_estimators': 44, 'max_depth': 15, 'random_state': 2020, 'min_child_weight': 61}. Best is trial 3 with value: 0.8469196875936656.\n"
     ]
    },
    {
     "name": "stdout",
     "output_type": "stream",
     "text": [
      "19229\n"
     ]
    },
    {
     "name": "stderr",
     "output_type": "stream",
     "text": [
      "[I 2024-02-18 23:19:26,253] Trial 6 finished with value: 1.2669982688711774 and parameters: {'lambda': 0.0022932306660730555, 'alpha': 0.4909521976936643, 'colsample_bytree': 0.5, 'colsample_bylevel': 0.9, 'subsample': 0.8, 'learning_rate': 0.008, 'n_estimators': 191, 'max_depth': 17, 'random_state': 24, 'min_child_weight': 290}. Best is trial 3 with value: 0.8469196875936656.\n"
     ]
    },
    {
     "name": "stdout",
     "output_type": "stream",
     "text": [
      "19229\n"
     ]
    },
    {
     "name": "stderr",
     "output_type": "stream",
     "text": [
      "[I 2024-02-18 23:19:35,350] Trial 7 finished with value: 0.9929101089399872 and parameters: {'lambda': 0.4497313168819341, 'alpha': 7.434897399290092, 'colsample_bytree': 0.9, 'colsample_bylevel': 0.3, 'subsample': 0.4, 'learning_rate': 0.04, 'n_estimators': 90, 'max_depth': 25, 'random_state': 48, 'min_child_weight': 81}. Best is trial 3 with value: 0.8469196875936656.\n"
     ]
    },
    {
     "name": "stdout",
     "output_type": "stream",
     "text": [
      "19229\n"
     ]
    },
    {
     "name": "stderr",
     "output_type": "stream",
     "text": [
      "[I 2024-02-18 23:19:36,468] Trial 8 finished with value: 1.1130597265880409 and parameters: {'lambda': 0.006563191630423621, 'alpha': 0.011371760202573682, 'colsample_bytree': 0.9, 'colsample_bylevel': 0.9, 'subsample': 0.4, 'learning_rate': 0.7, 'n_estimators': 10, 'max_depth': 15, 'random_state': 24, 'min_child_weight': 290}. Best is trial 3 with value: 0.8469196875936656.\n"
     ]
    },
    {
     "name": "stdout",
     "output_type": "stream",
     "text": [
      "19229\n"
     ]
    },
    {
     "name": "stderr",
     "output_type": "stream",
     "text": [
      "[I 2024-02-18 23:19:43,884] Trial 9 finished with value: 1.0187243099294232 and parameters: {'lambda': 0.0862655515236607, 'alpha': 0.025524870607933937, 'colsample_bytree': 0.6, 'colsample_bylevel': 0.3, 'subsample': 0.4, 'learning_rate': 0.08, 'n_estimators': 148, 'max_depth': 20, 'random_state': 2020, 'min_child_weight': 275}. Best is trial 3 with value: 0.8469196875936656.\n"
     ]
    },
    {
     "name": "stdout",
     "output_type": "stream",
     "text": [
      "19229\n"
     ]
    },
    {
     "name": "stderr",
     "output_type": "stream",
     "text": [
      "[I 2024-02-18 23:20:03,330] Trial 10 finished with value: 0.8159021868750578 and parameters: {'lambda': 7.809459103420111, 'alpha': 0.1492333618722237, 'colsample_bytree': 0.4, 'colsample_bylevel': 0.8, 'subsample': 0.7, 'learning_rate': 0.5, 'n_estimators': 273, 'max_depth': 40, 'random_state': 2020, 'min_child_weight': 185}. Best is trial 10 with value: 0.8159021868750578.\n"
     ]
    },
    {
     "name": "stdout",
     "output_type": "stream",
     "text": [
      "19229\n"
     ]
    },
    {
     "name": "stderr",
     "output_type": "stream",
     "text": [
      "[I 2024-02-18 23:20:24,287] Trial 11 finished with value: 0.8153338867753143 and parameters: {'lambda': 7.851234769514663, 'alpha': 0.14625819037954854, 'colsample_bytree': 0.4, 'colsample_bylevel': 0.8, 'subsample': 0.7, 'learning_rate': 0.5, 'n_estimators': 298, 'max_depth': 40, 'random_state': 2020, 'min_child_weight': 185}. Best is trial 11 with value: 0.8153338867753143.\n"
     ]
    },
    {
     "name": "stdout",
     "output_type": "stream",
     "text": [
      "19229\n"
     ]
    },
    {
     "name": "stderr",
     "output_type": "stream",
     "text": [
      "[I 2024-02-18 23:20:45,141] Trial 12 finished with value: 0.809605257102838 and parameters: {'lambda': 9.812863486293963, 'alpha': 0.17516572777315115, 'colsample_bytree': 0.4, 'colsample_bylevel': 0.8, 'subsample': 0.7, 'learning_rate': 0.5, 'n_estimators': 298, 'max_depth': 40, 'random_state': 2020, 'min_child_weight': 188}. Best is trial 12 with value: 0.809605257102838.\n"
     ]
    },
    {
     "name": "stdout",
     "output_type": "stream",
     "text": [
      "19229\n"
     ]
    },
    {
     "name": "stderr",
     "output_type": "stream",
     "text": [
      "[I 2024-02-18 23:21:01,916] Trial 13 finished with value: 0.875746526687138 and parameters: {'lambda': 7.36281777235358, 'alpha': 0.11387839288377741, 'colsample_bytree': 0.4, 'colsample_bylevel': 0.8, 'subsample': 0.5, 'learning_rate': 0.5, 'n_estimators': 290, 'max_depth': 40, 'random_state': 2020, 'min_child_weight': 183}. Best is trial 12 with value: 0.809605257102838.\n"
     ]
    },
    {
     "name": "stdout",
     "output_type": "stream",
     "text": [
      "19229\n"
     ]
    },
    {
     "name": "stderr",
     "output_type": "stream",
     "text": [
      "[I 2024-02-18 23:21:21,014] Trial 14 finished with value: 0.8367674828031537 and parameters: {'lambda': 1.9696552707649742, 'alpha': 0.3673692826403709, 'colsample_bytree': 0.7, 'colsample_bylevel': 0.8, 'subsample': 0.7, 'learning_rate': 0.6, 'n_estimators': 248, 'max_depth': 13, 'random_state': 48, 'min_child_weight': 137}. Best is trial 12 with value: 0.809605257102838.\n"
     ]
    },
    {
     "name": "stdout",
     "output_type": "stream",
     "text": [
      "19229\n"
     ]
    },
    {
     "name": "stderr",
     "output_type": "stream",
     "text": [
      "[I 2024-02-18 23:21:42,362] Trial 15 finished with value: 1.0857855798772993 and parameters: {'lambda': 0.41169162817287447, 'alpha': 0.045165130394864944, 'colsample_bytree': 1.0, 'colsample_bylevel': 0.4, 'subsample': 0.7, 'learning_rate': 0.009, 'n_estimators': 295, 'max_depth': 35, 'random_state': 2020, 'min_child_weight': 214}. Best is trial 12 with value: 0.809605257102838.\n"
     ]
    },
    {
     "name": "stdout",
     "output_type": "stream",
     "text": [
      "19229\n"
     ]
    },
    {
     "name": "stderr",
     "output_type": "stream",
     "text": [
      "[I 2024-02-18 23:21:52,436] Trial 16 finished with value: 1.0506532698471778 and parameters: {'lambda': 2.4197315214081496, 'alpha': 0.4930719356998952, 'colsample_bytree': 0.4, 'colsample_bylevel': 0.5, 'subsample': 0.7, 'learning_rate': 1.0, 'n_estimators': 247, 'max_depth': 11, 'random_state': 2020, 'min_child_weight': 162}. Best is trial 12 with value: 0.809605257102838.\n"
     ]
    },
    {
     "name": "stdout",
     "output_type": "stream",
     "text": [
      "19229\n"
     ]
    },
    {
     "name": "stderr",
     "output_type": "stream",
     "text": [
      "[I 2024-02-18 23:22:06,931] Trial 17 finished with value: 0.7315000888184248 and parameters: {'lambda': 9.495468004574978, 'alpha': 0.0731619929278432, 'colsample_bytree': 0.4, 'colsample_bylevel': 0.6, 'subsample': 0.8, 'learning_rate': 0.2, 'n_estimators': 237, 'max_depth': 9, 'random_state': 2020, 'min_child_weight': 104}. Best is trial 17 with value: 0.7315000888184248.\n"
     ]
    },
    {
     "name": "stdout",
     "output_type": "stream",
     "text": [
      "19229\n"
     ]
    },
    {
     "name": "stderr",
     "output_type": "stream",
     "text": [
      "[I 2024-02-18 23:22:21,638] Trial 18 finished with value: 0.7093002935037522 and parameters: {'lambda': 0.6068494495897903, 'alpha': 0.06139808696672296, 'colsample_bytree': 0.6, 'colsample_bylevel': 0.6, 'subsample': 0.8, 'learning_rate': 0.2, 'n_estimators': 233, 'max_depth': 9, 'random_state': 48, 'min_child_weight': 100}. Best is trial 18 with value: 0.7093002935037522.\n"
     ]
    },
    {
     "name": "stdout",
     "output_type": "stream",
     "text": [
      "19229\n"
     ]
    },
    {
     "name": "stderr",
     "output_type": "stream",
     "text": [
      "[I 2024-02-18 23:22:37,090] Trial 19 finished with value: 0.7053357570665235 and parameters: {'lambda': 0.4220987225855011, 'alpha': 0.05232208784753208, 'colsample_bytree': 0.6, 'colsample_bylevel': 0.6, 'subsample': 0.8, 'learning_rate': 0.2, 'n_estimators': 240, 'max_depth': 9, 'random_state': 48, 'min_child_weight': 98}. Best is trial 19 with value: 0.7053357570665235.\n"
     ]
    },
    {
     "name": "stdout",
     "output_type": "stream",
     "text": [
      "19229\n"
     ]
    },
    {
     "name": "stderr",
     "output_type": "stream",
     "text": [
      "[I 2024-02-18 23:22:51,458] Trial 20 finished with value: 0.7130899077531853 and parameters: {'lambda': 0.29146178673226325, 'alpha': 0.00454844749412287, 'colsample_bytree': 0.6, 'colsample_bylevel': 0.6, 'subsample': 0.8, 'learning_rate': 0.2, 'n_estimators': 220, 'max_depth': 9, 'random_state': 48, 'min_child_weight': 93}. Best is trial 19 with value: 0.7053357570665235.\n"
     ]
    },
    {
     "name": "stdout",
     "output_type": "stream",
     "text": [
      "19229\n"
     ]
    },
    {
     "name": "stderr",
     "output_type": "stream",
     "text": [
      "[I 2024-02-18 23:23:05,151] Trial 21 finished with value: 0.7139487054660162 and parameters: {'lambda': 0.572014030910917, 'alpha': 0.004381456088291735, 'colsample_bytree': 0.6, 'colsample_bylevel': 0.6, 'subsample': 0.8, 'learning_rate': 0.2, 'n_estimators': 223, 'max_depth': 9, 'random_state': 48, 'min_child_weight': 99}. Best is trial 19 with value: 0.7053357570665235.\n"
     ]
    },
    {
     "name": "stdout",
     "output_type": "stream",
     "text": [
      "19229\n"
     ]
    },
    {
     "name": "stderr",
     "output_type": "stream",
     "text": [
      "[I 2024-02-18 23:23:18,932] Trial 22 finished with value: 0.6959563943381774 and parameters: {'lambda': 0.2095461838831115, 'alpha': 0.004807204383295813, 'colsample_bytree': 0.6, 'colsample_bylevel': 0.6, 'subsample': 0.8, 'learning_rate': 0.2, 'n_estimators': 182, 'max_depth': 9, 'random_state': 48, 'min_child_weight': 57}. Best is trial 22 with value: 0.6959563943381774.\n"
     ]
    },
    {
     "name": "stdout",
     "output_type": "stream",
     "text": [
      "19229\n"
     ]
    },
    {
     "name": "stderr",
     "output_type": "stream",
     "text": [
      "[I 2024-02-18 23:23:32,446] Trial 23 finished with value: 1.7140804811823145 and parameters: {'lambda': 0.19499165997110454, 'alpha': 0.0013932462176433613, 'colsample_bytree': 0.6, 'colsample_bylevel': 0.6, 'subsample': 0.8, 'learning_rate': 1e-05, 'n_estimators': 177, 'max_depth': 9, 'random_state': 48, 'min_child_weight': 57}. Best is trial 22 with value: 0.6959563943381774.\n"
     ]
    },
    {
     "name": "stdout",
     "output_type": "stream",
     "text": [
      "19229\n"
     ]
    },
    {
     "name": "stderr",
     "output_type": "stream",
     "text": [
      "[I 2024-02-18 23:23:43,069] Trial 24 finished with value: 1.1937556326671388 and parameters: {'lambda': 0.17511425759586374, 'alpha': 0.03412141297291233, 'colsample_bytree': 0.6, 'colsample_bylevel': 0.6, 'subsample': 0.8, 'learning_rate': 0.01, 'n_estimators': 258, 'max_depth': 5, 'random_state': 48, 'min_child_weight': 4}. Best is trial 22 with value: 0.6959563943381774.\n"
     ]
    },
    {
     "name": "stdout",
     "output_type": "stream",
     "text": [
      "19229\n"
     ]
    },
    {
     "name": "stderr",
     "output_type": "stream",
     "text": [
      "[I 2024-02-18 23:23:56,018] Trial 25 finished with value: 1.3053405463673828 and parameters: {'lambda': 1.2301898363869743, 'alpha': 0.06250056858162503, 'colsample_bytree': 0.6, 'colsample_bylevel': 0.6, 'subsample': 0.8, 'learning_rate': 0.006, 'n_estimators': 202, 'max_depth': 9, 'random_state': 48, 'min_child_weight': 123}. Best is trial 22 with value: 0.6959563943381774.\n"
     ]
    },
    {
     "name": "stdout",
     "output_type": "stream",
     "text": [
      "19229\n"
     ]
    },
    {
     "name": "stderr",
     "output_type": "stream",
     "text": [
      "[I 2024-02-18 23:24:07,816] Trial 26 finished with value: 0.7422278190873514 and parameters: {'lambda': 0.020581561422905063, 'alpha': 0.008596007489713864, 'colsample_bytree': 0.6, 'colsample_bylevel': 0.6, 'subsample': 0.5, 'learning_rate': 0.2, 'n_estimators': 166, 'max_depth': 9, 'random_state': 48, 'min_child_weight': 52}. Best is trial 22 with value: 0.6959563943381774.\n"
     ]
    },
    {
     "name": "stdout",
     "output_type": "stream",
     "text": [
      "19229\n"
     ]
    },
    {
     "name": "stderr",
     "output_type": "stream",
     "text": [
      "[I 2024-02-18 23:24:16,021] Trial 27 finished with value: 1.5022964969279706 and parameters: {'lambda': 0.7772472458675721, 'alpha': 0.00274059640242105, 'colsample_bytree': 0.5, 'colsample_bylevel': 0.4, 'subsample': 1.0, 'learning_rate': 0.004, 'n_estimators': 119, 'max_depth': 9, 'random_state': 48, 'min_child_weight': 75}. Best is trial 22 with value: 0.6959563943381774.\n"
     ]
    },
    {
     "name": "stdout",
     "output_type": "stream",
     "text": [
      "19229\n"
     ]
    },
    {
     "name": "stderr",
     "output_type": "stream",
     "text": [
      "[I 2024-02-18 23:24:37,339] Trial 28 finished with value: 1.39977384231052 and parameters: {'lambda': 3.3340120602901235, 'alpha': 0.02376953631897514, 'colsample_bytree': 0.3, 'colsample_bylevel': 1.0, 'subsample': 0.6, 'learning_rate': 0.003, 'n_estimators': 266, 'max_depth': 17, 'random_state': 48, 'min_child_weight': 117}. Best is trial 22 with value: 0.6959563943381774.\n"
     ]
    },
    {
     "name": "stdout",
     "output_type": "stream",
     "text": [
      "19229\n"
     ]
    },
    {
     "name": "stderr",
     "output_type": "stream",
     "text": [
      "[I 2024-02-18 23:25:06,065] Trial 29 finished with value: 1.627059721452 and parameters: {'lambda': 0.25611573437930296, 'alpha': 0.2655957578124773, 'colsample_bytree': 1.0, 'colsample_bylevel': 0.5, 'subsample': 0.8, 'learning_rate': 0.001, 'n_estimators': 110, 'max_depth': 20, 'random_state': 48, 'min_child_weight': 34}. Best is trial 22 with value: 0.6959563943381774.\n"
     ]
    },
    {
     "name": "stdout",
     "output_type": "stream",
     "text": [
      "19229\n"
     ]
    },
    {
     "name": "stderr",
     "output_type": "stream",
     "text": [
      "[I 2024-02-18 23:25:24,539] Trial 30 finished with value: 0.900561808609102 and parameters: {'lambda': 0.12453412536540037, 'alpha': 1.2079308916507072, 'colsample_bytree': 0.7, 'colsample_bylevel': 0.7, 'subsample': 0.8, 'learning_rate': 0.8, 'n_estimators': 234, 'max_depth': 30, 'random_state': 48, 'min_child_weight': 154}. Best is trial 22 with value: 0.6959563943381774.\n"
     ]
    },
    {
     "name": "stdout",
     "output_type": "stream",
     "text": [
      "19229\n"
     ]
    },
    {
     "name": "stderr",
     "output_type": "stream",
     "text": [
      "[I 2024-02-18 23:25:38,638] Trial 31 finished with value: 0.7114317121040598 and parameters: {'lambda': 0.3118306552048473, 'alpha': 0.006308944857702127, 'colsample_bytree': 0.6, 'colsample_bylevel': 0.6, 'subsample': 0.8, 'learning_rate': 0.2, 'n_estimators': 217, 'max_depth': 9, 'random_state': 48, 'min_child_weight': 95}. Best is trial 22 with value: 0.6959563943381774.\n"
     ]
    },
    {
     "name": "stdout",
     "output_type": "stream",
     "text": [
      "19229\n"
     ]
    },
    {
     "name": "stderr",
     "output_type": "stream",
     "text": [
      "[I 2024-02-18 23:25:52,237] Trial 32 finished with value: 0.7214117912210707 and parameters: {'lambda': 1.2687348665834184, 'alpha': 0.002188301860497615, 'colsample_bytree': 0.6, 'colsample_bylevel': 0.6, 'subsample': 0.8, 'learning_rate': 0.12, 'n_estimators': 202, 'max_depth': 9, 'random_state': 48, 'min_child_weight': 79}. Best is trial 22 with value: 0.6959563943381774.\n"
     ]
    },
    {
     "name": "stdout",
     "output_type": "stream",
     "text": [
      "19229\n"
     ]
    },
    {
     "name": "stderr",
     "output_type": "stream",
     "text": [
      "[I 2024-02-18 23:26:08,767] Trial 33 finished with value: 0.6829627829141459 and parameters: {'lambda': 0.7549927153961111, 'alpha': 0.007460099888962626, 'colsample_bytree': 0.6, 'colsample_bylevel': 0.6, 'subsample': 0.8, 'learning_rate': 0.24, 'n_estimators': 217, 'max_depth': 9, 'random_state': 48, 'min_child_weight': 41}. Best is trial 33 with value: 0.6829627829141459.\n"
     ]
    },
    {
     "name": "stdout",
     "output_type": "stream",
     "text": [
      "19229\n"
     ]
    },
    {
     "name": "stderr",
     "output_type": "stream",
     "text": [
      "[I 2024-02-18 23:26:22,203] Trial 34 finished with value: 0.6524185818583266 and parameters: {'lambda': 0.7947519677678372, 'alpha': 0.017453565609738545, 'colsample_bytree': 0.8, 'colsample_bylevel': 0.7, 'subsample': 0.8, 'learning_rate': 0.24, 'n_estimators': 166, 'max_depth': 7, 'random_state': 48, 'min_child_weight': 4}. Best is trial 34 with value: 0.6524185818583266.\n"
     ]
    },
    {
     "name": "stdout",
     "output_type": "stream",
     "text": [
      "19229\n"
     ]
    },
    {
     "name": "stderr",
     "output_type": "stream",
     "text": [
      "[I 2024-02-18 23:26:33,597] Trial 35 finished with value: 0.7044871548288354 and parameters: {'lambda': 1.0175486939511635, 'alpha': 0.012583162430064304, 'colsample_bytree': 0.8, 'colsample_bylevel': 0.7, 'subsample': 0.6, 'learning_rate': 0.24, 'n_estimators': 166, 'max_depth': 7, 'random_state': 48, 'min_child_weight': 17}. Best is trial 34 with value: 0.6524185818583266.\n"
     ]
    },
    {
     "name": "stdout",
     "output_type": "stream",
     "text": [
      "19229\n"
     ]
    },
    {
     "name": "stderr",
     "output_type": "stream",
     "text": [
      "[I 2024-02-18 23:26:44,589] Trial 36 finished with value: 0.70498503158255 and parameters: {'lambda': 0.9315342675667649, 'alpha': 0.016157967932742833, 'colsample_bytree': 0.8, 'colsample_bylevel': 0.7, 'subsample': 0.6, 'learning_rate': 0.24, 'n_estimators': 164, 'max_depth': 7, 'random_state': 48, 'min_child_weight': 17}. Best is trial 34 with value: 0.6524185818583266.\n"
     ]
    },
    {
     "name": "stdout",
     "output_type": "stream",
     "text": [
      "19229\n"
     ]
    },
    {
     "name": "stderr",
     "output_type": "stream",
     "text": [
      "[I 2024-02-18 23:26:53,134] Trial 37 finished with value: 0.7372343519145474 and parameters: {'lambda': 4.4315006905649215, 'alpha': 0.007970715278241048, 'colsample_bytree': 0.8, 'colsample_bylevel': 0.7, 'subsample': 0.6, 'learning_rate': 0.24, 'n_estimators': 131, 'max_depth': 7, 'random_state': 24, 'min_child_weight': 39}. Best is trial 34 with value: 0.6524185818583266.\n"
     ]
    },
    {
     "name": "stdout",
     "output_type": "stream",
     "text": [
      "19229\n"
     ]
    },
    {
     "name": "stderr",
     "output_type": "stream",
     "text": [
      "[I 2024-02-18 23:27:08,017] Trial 38 finished with value: 0.6709103069175999 and parameters: {'lambda': 1.6442447387169248, 'alpha': 0.0011166298925174378, 'colsample_bytree': 0.8, 'colsample_bylevel': 0.7, 'subsample': 0.6, 'learning_rate': 0.24, 'n_estimators': 182, 'max_depth': 7, 'random_state': 48, 'min_child_weight': 4}. Best is trial 34 with value: 0.6524185818583266.\n"
     ]
    },
    {
     "name": "stdout",
     "output_type": "stream",
     "text": [
      "19229\n"
     ]
    },
    {
     "name": "stderr",
     "output_type": "stream",
     "text": [
      "[I 2024-02-18 23:27:23,750] Trial 39 finished with value: 1.7040216315585544 and parameters: {'lambda': 2.0751013149205497, 'alpha': 0.0010548167020061107, 'colsample_bytree': 0.8, 'colsample_bylevel': 0.7, 'subsample': 1.0, 'learning_rate': 0.0001, 'n_estimators': 188, 'max_depth': 7, 'random_state': 24, 'min_child_weight': 1}. Best is trial 34 with value: 0.6524185818583266.\n"
     ]
    },
    {
     "name": "stdout",
     "output_type": "stream",
     "text": [
      "19229\n"
     ]
    },
    {
     "name": "stderr",
     "output_type": "stream",
     "text": [
      "[I 2024-02-18 23:27:33,283] Trial 40 finished with value: 1.6426043058992814 and parameters: {'lambda': 4.160442645611108, 'alpha': 0.0020074544319398243, 'colsample_bytree': 0.8, 'colsample_bylevel': 1.0, 'subsample': 0.6, 'learning_rate': 0.001, 'n_estimators': 143, 'max_depth': 7, 'random_state': 48, 'min_child_weight': 37}. Best is trial 34 with value: 0.6524185818583266.\n"
     ]
    },
    {
     "name": "stdout",
     "output_type": "stream",
     "text": [
      "19229\n"
     ]
    },
    {
     "name": "stderr",
     "output_type": "stream",
     "text": [
      "[I 2024-02-18 23:27:45,438] Trial 41 finished with value: 0.7013053692526829 and parameters: {'lambda': 1.412058962398749, 'alpha': 0.003633582383923007, 'colsample_bytree': 0.8, 'colsample_bylevel': 0.7, 'subsample': 0.6, 'learning_rate': 0.24, 'n_estimators': 174, 'max_depth': 7, 'random_state': 48, 'min_child_weight': 16}. Best is trial 34 with value: 0.6524185818583266.\n"
     ]
    },
    {
     "name": "stdout",
     "output_type": "stream",
     "text": [
      "19229\n"
     ]
    },
    {
     "name": "stderr",
     "output_type": "stream",
     "text": [
      "[I 2024-02-18 23:27:58,336] Trial 42 finished with value: 0.7054889265146019 and parameters: {'lambda': 1.3232508960208473, 'alpha': 0.003553237328912326, 'colsample_bytree': 0.8, 'colsample_bylevel': 0.7, 'subsample': 0.6, 'learning_rate': 0.24, 'n_estimators': 199, 'max_depth': 7, 'random_state': 48, 'min_child_weight': 21}. Best is trial 34 with value: 0.6524185818583266.\n"
     ]
    },
    {
     "name": "stdout",
     "output_type": "stream",
     "text": [
      "19229\n"
     ]
    },
    {
     "name": "stderr",
     "output_type": "stream",
     "text": [
      "[I 2024-02-18 23:28:30,149] Trial 43 finished with value: 0.7603417923764799 and parameters: {'lambda': 0.06654357058095152, 'alpha': 0.005755519493570777, 'colsample_bytree': 0.8, 'colsample_bylevel': 0.7, 'subsample': 0.6, 'learning_rate': 0.38, 'n_estimators': 179, 'max_depth': 25, 'random_state': 48, 'min_child_weight': 48}. Best is trial 34 with value: 0.6524185818583266.\n"
     ]
    },
    {
     "name": "stdout",
     "output_type": "stream",
     "text": [
      "19229\n"
     ]
    },
    {
     "name": "stderr",
     "output_type": "stream",
     "text": [
      "[I 2024-02-18 23:28:38,673] Trial 44 finished with value: 0.7869376764957797 and parameters: {'lambda': 0.03176080800015196, 'alpha': 0.0013026713374986178, 'colsample_bytree': 0.8, 'colsample_bylevel': 0.7, 'subsample': 0.5, 'learning_rate': 0.3, 'n_estimators': 154, 'max_depth': 7, 'random_state': 48, 'min_child_weight': 66}. Best is trial 34 with value: 0.6524185818583266.\n"
     ]
    },
    {
     "name": "stdout",
     "output_type": "stream",
     "text": [
      "19229\n"
     ]
    },
    {
     "name": "stderr",
     "output_type": "stream",
     "text": [
      "[I 2024-02-18 23:29:06,794] Trial 45 finished with value: 1.4638929968536398 and parameters: {'lambda': 1.9301107449004211, 'alpha': 0.0018499173285410014, 'colsample_bytree': 0.3, 'colsample_bylevel': 0.9, 'subsample': 0.4, 'learning_rate': 0.005, 'n_estimators': 77, 'max_depth': 35, 'random_state': 24, 'min_child_weight': 12}. Best is trial 34 with value: 0.6524185818583266.\n"
     ]
    },
    {
     "name": "stdout",
     "output_type": "stream",
     "text": [
      "19229\n"
     ]
    },
    {
     "name": "stderr",
     "output_type": "stream",
     "text": [
      "[I 2024-02-18 23:29:34,607] Trial 46 finished with value: 1.5951361428793014 and parameters: {'lambda': 0.12895311750077718, 'alpha': 0.003536387384343556, 'colsample_bytree': 0.5, 'colsample_bylevel': 0.7, 'subsample': 0.6, 'learning_rate': 0.001, 'n_estimators': 176, 'max_depth': 15, 'random_state': 48, 'min_child_weight': 31}. Best is trial 34 with value: 0.6524185818583266.\n"
     ]
    },
    {
     "name": "stdout",
     "output_type": "stream",
     "text": [
      "19229\n"
     ]
    },
    {
     "name": "stderr",
     "output_type": "stream",
     "text": [
      "[I 2024-02-18 23:30:57,890] Trial 47 finished with value: 1.5375047779856943 and parameters: {'lambda': 0.6173261317686334, 'alpha': 0.018039110145842686, 'colsample_bytree': 0.9, 'colsample_bylevel': 0.7, 'subsample': 1.0, 'learning_rate': 0.001, 'n_estimators': 207, 'max_depth': 13, 'random_state': 48, 'min_child_weight': 1}. Best is trial 34 with value: 0.6524185818583266.\n"
     ]
    },
    {
     "name": "stdout",
     "output_type": "stream",
     "text": [
      "19229\n"
     ]
    },
    {
     "name": "stderr",
     "output_type": "stream",
     "text": [
      "[I 2024-02-18 23:31:18,778] Trial 48 finished with value: 0.8086781526321792 and parameters: {'lambda': 3.4231974051456886, 'alpha': 0.009892086236309501, 'colsample_bytree': 0.8, 'colsample_bylevel': 0.3, 'subsample': 0.6, 'learning_rate': 0.48, 'n_estimators': 130, 'max_depth': 30, 'random_state': 48, 'min_child_weight': 49}. Best is trial 34 with value: 0.6524185818583266.\n"
     ]
    },
    {
     "name": "stdout",
     "output_type": "stream",
     "text": [
      "19229\n"
     ]
    },
    {
     "name": "stderr",
     "output_type": "stream",
     "text": [
      "[I 2024-02-18 23:31:27,428] Trial 49 finished with value: 1.644378424347938 and parameters: {'lambda': 0.005007980574222984, 'alpha': 0.0027137748414681685, 'colsample_bytree': 0.8, 'colsample_bylevel': 0.4, 'subsample': 0.4, 'learning_rate': 0.001, 'n_estimators': 151, 'max_depth': 7, 'random_state': 48, 'min_child_weight': 25}. Best is trial 34 with value: 0.6524185818583266.\n"
     ]
    },
    {
     "name": "stdout",
     "output_type": "stream",
     "text": [
      "19229\n"
     ]
    },
    {
     "name": "stderr",
     "output_type": "stream",
     "text": [
      "[I 2024-02-18 23:31:42,926] Trial 50 finished with value: 1.6115797851776157 and parameters: {'lambda': 0.7512338724687205, 'alpha': 0.006162323270970531, 'colsample_bytree': 0.7, 'colsample_bylevel': 0.5, 'subsample': 0.5, 'learning_rate': 0.001, 'n_estimators': 193, 'max_depth': 11, 'random_state': 24, 'min_child_weight': 63}. Best is trial 34 with value: 0.6524185818583266.\n"
     ]
    },
    {
     "name": "stdout",
     "output_type": "stream",
     "text": [
      "19229\n"
     ]
    },
    {
     "name": "stderr",
     "output_type": "stream",
     "text": [
      "[I 2024-02-18 23:31:54,133] Trial 51 finished with value: 0.6981402432591644 and parameters: {'lambda': 1.3553692797931292, 'alpha': 0.011050578486816799, 'colsample_bytree': 0.8, 'colsample_bylevel': 0.7, 'subsample': 0.6, 'learning_rate': 0.24, 'n_estimators': 159, 'max_depth': 7, 'random_state': 48, 'min_child_weight': 15}. Best is trial 34 with value: 0.6524185818583266.\n"
     ]
    },
    {
     "name": "stdout",
     "output_type": "stream",
     "text": [
      "19229\n"
     ]
    },
    {
     "name": "stderr",
     "output_type": "stream",
     "text": [
      "[I 2024-02-18 23:32:01,076] Trial 52 finished with value: 0.7580028014805621 and parameters: {'lambda': 1.4089501230129324, 'alpha': 0.02841030303151356, 'colsample_bytree': 0.8, 'colsample_bylevel': 0.7, 'subsample': 0.6, 'learning_rate': 0.24, 'n_estimators': 158, 'max_depth': 5, 'random_state': 48, 'min_child_weight': 10}. Best is trial 34 with value: 0.6524185818583266.\n"
     ]
    },
    {
     "name": "stdout",
     "output_type": "stream",
     "text": [
      "19229\n"
     ]
    },
    {
     "name": "stderr",
     "output_type": "stream",
     "text": [
      "[I 2024-02-18 23:32:12,703] Trial 53 finished with value: 0.7240516457960383 and parameters: {'lambda': 2.395939627609902, 'alpha': 0.01316009344579007, 'colsample_bytree': 1.0, 'colsample_bylevel': 0.7, 'subsample': 0.6, 'learning_rate': 0.24, 'n_estimators': 176, 'max_depth': 7, 'random_state': 48, 'min_child_weight': 43}. Best is trial 34 with value: 0.6524185818583266.\n"
     ]
    },
    {
     "name": "stdout",
     "output_type": "stream",
     "text": [
      "19229\n"
     ]
    },
    {
     "name": "stderr",
     "output_type": "stream",
     "text": [
      "[I 2024-02-18 23:32:21,619] Trial 54 finished with value: 0.9509286843856332 and parameters: {'lambda': 5.309488818394986, 'alpha': 0.0028421007517087826, 'colsample_bytree': 0.8, 'colsample_bylevel': 0.7, 'subsample': 0.6, 'learning_rate': 0.9, 'n_estimators': 186, 'max_depth': 7, 'random_state': 48, 'min_child_weight': 22}. Best is trial 34 with value: 0.6524185818583266.\n"
     ]
    },
    {
     "name": "stdout",
     "output_type": "stream",
     "text": [
      "19229\n"
     ]
    },
    {
     "name": "stderr",
     "output_type": "stream",
     "text": [
      "[I 2024-02-18 23:33:01,520] Trial 55 finished with value: 1.603262883141754 and parameters: {'lambda': 0.44203148919440427, 'alpha': 0.005176705171339708, 'colsample_bytree': 0.9, 'colsample_bylevel': 1.0, 'subsample': 0.8, 'learning_rate': 0.001, 'n_estimators': 135, 'max_depth': 17, 'random_state': 48, 'min_child_weight': 27}. Best is trial 34 with value: 0.6524185818583266.\n"
     ]
    },
    {
     "name": "stdout",
     "output_type": "stream",
     "text": [
      "19229\n"
     ]
    },
    {
     "name": "stderr",
     "output_type": "stream",
     "text": [
      "[I 2024-02-18 23:34:09,880] Trial 56 finished with value: 0.6756943265634279 and parameters: {'lambda': 2.966828855000182, 'alpha': 0.0015265404687207483, 'colsample_bytree': 0.8, 'colsample_bylevel': 0.9, 'subsample': 0.8, 'learning_rate': 0.42, 'n_estimators': 116, 'max_depth': 20, 'random_state': 48, 'min_child_weight': 11}. Best is trial 34 with value: 0.6524185818583266.\n"
     ]
    },
    {
     "name": "stdout",
     "output_type": "stream",
     "text": [
      "19229\n"
     ]
    },
    {
     "name": "stderr",
     "output_type": "stream",
     "text": [
      "[I 2024-02-18 23:34:16,187] Trial 57 finished with value: 0.8063405300721826 and parameters: {'lambda': 0.0019337453807651522, 'alpha': 0.0016122626103802493, 'colsample_bytree': 0.8, 'colsample_bylevel': 0.9, 'subsample': 0.8, 'learning_rate': 0.42, 'n_estimators': 75, 'max_depth': 20, 'random_state': 48, 'min_child_weight': 256}. Best is trial 34 with value: 0.6524185818583266.\n"
     ]
    },
    {
     "name": "stdout",
     "output_type": "stream",
     "text": [
      "19229\n"
     ]
    },
    {
     "name": "stderr",
     "output_type": "stream",
     "text": [
      "[I 2024-02-18 23:34:38,778] Trial 58 finished with value: 1.3163207775655368 and parameters: {'lambda': 0.001049897887838148, 'alpha': 0.0010287123291709524, 'colsample_bytree': 0.3, 'colsample_bylevel': 0.9, 'subsample': 0.8, 'learning_rate': 0.007, 'n_estimators': 100, 'max_depth': 20, 'random_state': 2020, 'min_child_weight': 39}. Best is trial 34 with value: 0.6524185818583266.\n"
     ]
    },
    {
     "name": "stdout",
     "output_type": "stream",
     "text": [
      "19229\n"
     ]
    },
    {
     "name": "stderr",
     "output_type": "stream",
     "text": [
      "[I 2024-02-18 23:34:49,033] Trial 59 finished with value: 0.7941934848713288 and parameters: {'lambda': 6.296511523829257, 'alpha': 0.0204541458597213, 'colsample_bytree': 0.5, 'colsample_bylevel': 0.9, 'subsample': 0.8, 'learning_rate': 0.42, 'n_estimators': 6, 'max_depth': 20, 'random_state': 48, 'min_child_weight': 11}. Best is trial 34 with value: 0.6524185818583266.\n"
     ]
    },
    {
     "name": "stdout",
     "output_type": "stream",
     "text": [
      "19229\n"
     ]
    },
    {
     "name": "stderr",
     "output_type": "stream",
     "text": [
      "[I 2024-02-18 23:34:57,015] Trial 60 finished with value: 1.6538821773810757 and parameters: {'lambda': 2.6592111749372256, 'alpha': 0.00796864049495813, 'colsample_bytree': 0.8, 'colsample_bylevel': 0.3, 'subsample': 0.8, 'learning_rate': 0.002, 'n_estimators': 47, 'max_depth': 25, 'random_state': 48, 'min_child_weight': 69}. Best is trial 34 with value: 0.6524185818583266.\n"
     ]
    },
    {
     "name": "stdout",
     "output_type": "stream",
     "text": [
      "19229\n"
     ]
    },
    {
     "name": "stderr",
     "output_type": "stream",
     "text": [
      "[I 2024-02-18 23:35:07,064] Trial 61 finished with value: 1.6476584463572315 and parameters: {'lambda': 1.459782481469506, 'alpha': 0.0033482522823461837, 'colsample_bytree': 0.8, 'colsample_bylevel': 0.9, 'subsample': 0.8, 'learning_rate': 0.001, 'n_estimators': 120, 'max_depth': 7, 'random_state': 48, 'min_child_weight': 10}. Best is trial 34 with value: 0.6524185818583266.\n"
     ]
    },
    {
     "name": "stdout",
     "output_type": "stream",
     "text": [
      "19229\n"
     ]
    },
    {
     "name": "stderr",
     "output_type": "stream",
     "text": [
      "[I 2024-02-18 23:35:46,500] Trial 62 finished with value: 0.9802599795442816 and parameters: {'lambda': 1.7709827556253865, 'alpha': 0.002262636470368736, 'colsample_bytree': 0.8, 'colsample_bylevel': 0.7, 'subsample': 0.6, 'learning_rate': 0.008, 'n_estimators': 212, 'max_depth': 15, 'random_state': 48, 'min_child_weight': 25}. Best is trial 34 with value: 0.6524185818583266.\n"
     ]
    },
    {
     "name": "stdout",
     "output_type": "stream",
     "text": [
      "19229\n"
     ]
    },
    {
     "name": "stderr",
     "output_type": "stream",
     "text": [
      "[I 2024-02-18 23:36:01,667] Trial 63 finished with value: 1.6263504216907685 and parameters: {'lambda': 0.8759106192570928, 'alpha': 0.001449133061856037, 'colsample_bytree': 0.8, 'colsample_bylevel': 0.4, 'subsample': 0.7, 'learning_rate': 0.001, 'n_estimators': 145, 'max_depth': 13, 'random_state': 48, 'min_child_weight': 57}. Best is trial 34 with value: 0.6524185818583266.\n"
     ]
    },
    {
     "name": "stdout",
     "output_type": "stream",
     "text": [
      "19229\n"
     ]
    },
    {
     "name": "stderr",
     "output_type": "stream",
     "text": [
      "[I 2024-02-18 23:37:02,671] Trial 64 finished with value: 0.6349575575992292 and parameters: {'lambda': 3.0485468356120906, 'alpha': 0.03639662156326458, 'colsample_bytree': 0.6, 'colsample_bylevel': 0.8, 'subsample': 0.8, 'learning_rate': 0.04, 'n_estimators': 170, 'max_depth': 35, 'random_state': 48, 'min_child_weight': 32}. Best is trial 64 with value: 0.6349575575992292.\n"
     ]
    },
    {
     "name": "stdout",
     "output_type": "stream",
     "text": [
      "19229\n"
     ]
    },
    {
     "name": "stderr",
     "output_type": "stream",
     "text": [
      "[I 2024-02-18 23:38:00,500] Trial 65 finished with value: 0.6393223174900116 and parameters: {'lambda': 2.866124581723625, 'alpha': 0.03406914746529711, 'colsample_bytree': 0.6, 'colsample_bylevel': 0.8, 'subsample': 0.8, 'learning_rate': 0.04, 'n_estimators': 160, 'max_depth': 35, 'random_state': 48, 'min_child_weight': 32}. Best is trial 64 with value: 0.6349575575992292.\n"
     ]
    },
    {
     "name": "stdout",
     "output_type": "stream",
     "text": [
      "19229\n"
     ]
    },
    {
     "name": "stderr",
     "output_type": "stream",
     "text": [
      "[I 2024-02-18 23:38:19,166] Trial 66 finished with value: 0.7954918275206043 and parameters: {'lambda': 3.691774454796205, 'alpha': 0.039367277915337104, 'colsample_bytree': 0.6, 'colsample_bylevel': 0.8, 'subsample': 0.8, 'learning_rate': 0.04, 'n_estimators': 121, 'max_depth': 35, 'random_state': 48, 'min_child_weight': 87}. Best is trial 64 with value: 0.6349575575992292.\n"
     ]
    },
    {
     "name": "stdout",
     "output_type": "stream",
     "text": [
      "19229\n"
     ]
    },
    {
     "name": "stderr",
     "output_type": "stream",
     "text": [
      "[I 2024-02-18 23:39:29,334] Trial 67 finished with value: 0.6232201573573345 and parameters: {'lambda': 2.8026612216160487, 'alpha': 0.08989175072301668, 'colsample_bytree': 0.6, 'colsample_bylevel': 0.8, 'subsample': 0.8, 'learning_rate': 0.04, 'n_estimators': 196, 'max_depth': 35, 'random_state': 2020, 'min_child_weight': 31}. Best is trial 67 with value: 0.6232201573573345.\n"
     ]
    },
    {
     "name": "stdout",
     "output_type": "stream",
     "text": [
      "19229\n"
     ]
    },
    {
     "name": "stderr",
     "output_type": "stream",
     "text": [
      "[I 2024-02-18 23:40:35,310] Trial 68 finished with value: 0.6248528267367779 and parameters: {'lambda': 2.8204596130354536, 'alpha': 0.10134878150574136, 'colsample_bytree': 0.6, 'colsample_bylevel': 0.8, 'subsample': 0.8, 'learning_rate': 0.04, 'n_estimators': 196, 'max_depth': 35, 'random_state': 2020, 'min_child_weight': 33}. Best is trial 67 with value: 0.6232201573573345.\n"
     ]
    },
    {
     "name": "stdout",
     "output_type": "stream",
     "text": [
      "19229\n"
     ]
    },
    {
     "name": "stderr",
     "output_type": "stream",
     "text": [
      "[I 2024-02-18 23:41:46,865] Trial 69 finished with value: 0.6235810247999599 and parameters: {'lambda': 5.751914325676902, 'alpha': 0.08413074340361258, 'colsample_bytree': 0.6, 'colsample_bylevel': 0.8, 'subsample': 0.8, 'learning_rate': 0.04, 'n_estimators': 196, 'max_depth': 35, 'random_state': 2020, 'min_child_weight': 31}. Best is trial 67 with value: 0.6232201573573345.\n"
     ]
    },
    {
     "name": "stdout",
     "output_type": "stream",
     "text": [
      "19229\n"
     ]
    },
    {
     "name": "stderr",
     "output_type": "stream",
     "text": [
      "[I 2024-02-18 23:42:33,656] Trial 70 finished with value: 0.8254812330267058 and parameters: {'lambda': 5.7861099072799425, 'alpha': 0.12187695244404131, 'colsample_bytree': 0.6, 'colsample_bylevel': 0.8, 'subsample': 0.8, 'learning_rate': 0.7, 'n_estimators': 192, 'max_depth': 35, 'random_state': 2020, 'min_child_weight': 35}. Best is trial 67 with value: 0.6232201573573345.\n"
     ]
    },
    {
     "name": "stdout",
     "output_type": "stream",
     "text": [
      "19229\n"
     ]
    },
    {
     "name": "stderr",
     "output_type": "stream",
     "text": [
      "[I 2024-02-18 23:42:50,191] Trial 71 finished with value: 0.8621780108076355 and parameters: {'lambda': 3.2116237765073903, 'alpha': 0.07800869021040038, 'colsample_bytree': 0.6, 'colsample_bylevel': 0.8, 'subsample': 0.8, 'learning_rate': 0.04, 'n_estimators': 197, 'max_depth': 35, 'random_state': 2020, 'min_child_weight': 215}. Best is trial 67 with value: 0.6232201573573345.\n"
     ]
    },
    {
     "name": "stdout",
     "output_type": "stream",
     "text": [
      "19229\n"
     ]
    },
    {
     "name": "stderr",
     "output_type": "stream",
     "text": [
      "[I 2024-02-18 23:43:55,112] Trial 72 finished with value: 0.6420228180727725 and parameters: {'lambda': 9.725754600249994, 'alpha': 0.0901691329381275, 'colsample_bytree': 0.6, 'colsample_bylevel': 0.8, 'subsample': 0.8, 'learning_rate': 0.04, 'n_estimators': 170, 'max_depth': 35, 'random_state': 2020, 'min_child_weight': 30}. Best is trial 67 with value: 0.6232201573573345.\n"
     ]
    },
    {
     "name": "stdout",
     "output_type": "stream",
     "text": [
      "19229\n"
     ]
    },
    {
     "name": "stderr",
     "output_type": "stream",
     "text": [
      "[I 2024-02-18 23:45:18,707] Trial 73 finished with value: 0.6171656376508105 and parameters: {'lambda': 9.738698942498097, 'alpha': 0.19720785347839384, 'colsample_bytree': 0.6, 'colsample_bylevel': 0.8, 'subsample': 0.8, 'learning_rate': 0.04, 'n_estimators': 225, 'max_depth': 35, 'random_state': 2020, 'min_child_weight': 29}. Best is trial 73 with value: 0.6171656376508105.\n"
     ]
    },
    {
     "name": "stdout",
     "output_type": "stream",
     "text": [
      "19229\n"
     ]
    },
    {
     "name": "stderr",
     "output_type": "stream",
     "text": [
      "[I 2024-02-18 23:45:59,190] Trial 74 finished with value: 0.6882763663083555 and parameters: {'lambda': 9.969097783173757, 'alpha': 0.19885336024574138, 'colsample_bytree': 0.6, 'colsample_bylevel': 0.8, 'subsample': 0.8, 'learning_rate': 0.04, 'n_estimators': 168, 'max_depth': 35, 'random_state': 2020, 'min_child_weight': 49}. Best is trial 73 with value: 0.6171656376508105.\n"
     ]
    },
    {
     "name": "stdout",
     "output_type": "stream",
     "text": [
      "19229\n"
     ]
    },
    {
     "name": "stderr",
     "output_type": "stream",
     "text": [
      "[I 2024-02-18 23:47:20,712] Trial 75 finished with value: 0.6169502810941756 and parameters: {'lambda': 7.60989350878893, 'alpha': 0.08922112191016218, 'colsample_bytree': 0.6, 'colsample_bylevel': 0.8, 'subsample': 0.8, 'learning_rate': 0.04, 'n_estimators': 208, 'max_depth': 35, 'random_state': 2020, 'min_child_weight': 29}. Best is trial 75 with value: 0.6169502810941756.\n"
     ]
    },
    {
     "name": "stdout",
     "output_type": "stream",
     "text": [
      "19229\n"
     ]
    },
    {
     "name": "stderr",
     "output_type": "stream",
     "text": [
      "[I 2024-02-18 23:47:59,164] Trial 76 finished with value: 0.6957885704485524 and parameters: {'lambda': 7.23155671745618, 'alpha': 0.09296620968112827, 'colsample_bytree': 0.6, 'colsample_bylevel': 0.8, 'subsample': 0.8, 'learning_rate': 0.04, 'n_estimators': 223, 'max_depth': 35, 'random_state': 2020, 'min_child_weight': 70}. Best is trial 75 with value: 0.6169502810941756.\n"
     ]
    },
    {
     "name": "stdout",
     "output_type": "stream",
     "text": [
      "19229\n"
     ]
    },
    {
     "name": "stderr",
     "output_type": "stream",
     "text": [
      "[I 2024-02-18 23:49:21,454] Trial 77 finished with value: 0.6127762765496686 and parameters: {'lambda': 5.1662328817368826, 'alpha': 0.2566921111077867, 'colsample_bytree': 0.6, 'colsample_bylevel': 0.8, 'subsample': 0.8, 'learning_rate': 0.04, 'n_estimators': 226, 'max_depth': 35, 'random_state': 2020, 'min_child_weight': 30}. Best is trial 77 with value: 0.6127762765496686.\n"
     ]
    },
    {
     "name": "stdout",
     "output_type": "stream",
     "text": [
      "19229\n"
     ]
    },
    {
     "name": "stderr",
     "output_type": "stream",
     "text": [
      "[I 2024-02-18 23:50:09,207] Trial 78 finished with value: 0.6618358544632192 and parameters: {'lambda': 5.0911407013401595, 'alpha': 0.6099946056266665, 'colsample_bytree': 0.6, 'colsample_bylevel': 0.8, 'subsample': 0.8, 'learning_rate': 0.04, 'n_estimators': 229, 'max_depth': 35, 'random_state': 2020, 'min_child_weight': 55}. Best is trial 77 with value: 0.6127762765496686.\n"
     ]
    },
    {
     "name": "stdout",
     "output_type": "stream",
     "text": [
      "19229\n"
     ]
    },
    {
     "name": "stderr",
     "output_type": "stream",
     "text": [
      "[I 2024-02-18 23:50:57,035] Trial 79 finished with value: 1.54990808812137 and parameters: {'lambda': 7.732872699339187, 'alpha': 0.22327877636965024, 'colsample_bytree': 0.6, 'colsample_bylevel': 0.8, 'subsample': 0.8, 'learning_rate': 0.001, 'n_estimators': 248, 'max_depth': 35, 'random_state': 2020, 'min_child_weight': 45}. Best is trial 77 with value: 0.6127762765496686.\n"
     ]
    },
    {
     "name": "stdout",
     "output_type": "stream",
     "text": [
      "19229\n"
     ]
    },
    {
     "name": "stderr",
     "output_type": "stream",
     "text": [
      "[I 2024-02-18 23:52:12,988] Trial 80 finished with value: 0.6184388908688219 and parameters: {'lambda': 4.767029591159889, 'alpha': 0.296959925071203, 'colsample_bytree': 0.6, 'colsample_bylevel': 0.8, 'subsample': 0.8, 'learning_rate': 0.04, 'n_estimators': 209, 'max_depth': 35, 'random_state': 2020, 'min_child_weight': 30}. Best is trial 77 with value: 0.6127762765496686.\n"
     ]
    },
    {
     "name": "stdout",
     "output_type": "stream",
     "text": [
      "19229\n"
     ]
    },
    {
     "name": "stderr",
     "output_type": "stream",
     "text": [
      "[I 2024-02-18 23:53:26,746] Trial 81 finished with value: 0.61471056545591 and parameters: {'lambda': 4.170969859936521, 'alpha': 0.31210037460209616, 'colsample_bytree': 0.6, 'colsample_bylevel': 0.8, 'subsample': 0.8, 'learning_rate': 0.04, 'n_estimators': 208, 'max_depth': 35, 'random_state': 2020, 'min_child_weight': 30}. Best is trial 77 with value: 0.6127762765496686.\n"
     ]
    },
    {
     "name": "stdout",
     "output_type": "stream",
     "text": [
      "19229\n"
     ]
    },
    {
     "name": "stderr",
     "output_type": "stream",
     "text": [
      "[I 2024-02-18 23:54:28,619] Trial 82 finished with value: 1.5529330194731064 and parameters: {'lambda': 4.545536255969264, 'alpha': 0.3341373214160507, 'colsample_bytree': 0.6, 'colsample_bylevel': 0.8, 'subsample': 0.8, 'learning_rate': 0.001, 'n_estimators': 210, 'max_depth': 35, 'random_state': 2020, 'min_child_weight': 23}. Best is trial 77 with value: 0.6127762765496686.\n"
     ]
    },
    {
     "name": "stdout",
     "output_type": "stream",
     "text": [
      "19229\n"
     ]
    },
    {
     "name": "stderr",
     "output_type": "stream",
     "text": [
      "[I 2024-02-18 23:54:49,208] Trial 83 finished with value: 1.5934816761627864 and parameters: {'lambda': 6.479031613053611, 'alpha': 0.14630869196820412, 'colsample_bytree': 0.6, 'colsample_bylevel': 0.8, 'subsample': 0.8, 'learning_rate': 0.001, 'n_estimators': 242, 'max_depth': 35, 'random_state': 2020, 'min_child_weight': 173}. Best is trial 77 with value: 0.6127762765496686.\n"
     ]
    },
    {
     "name": "stdout",
     "output_type": "stream",
     "text": [
      "19229\n"
     ]
    },
    {
     "name": "stderr",
     "output_type": "stream",
     "text": [
      "[I 2024-02-18 23:55:32,104] Trial 84 finished with value: 1.5612891747988829 and parameters: {'lambda': 7.971713521618962, 'alpha': 0.4844478295412134, 'colsample_bytree': 0.6, 'colsample_bylevel': 0.8, 'subsample': 0.8, 'learning_rate': 0.001, 'n_estimators': 226, 'max_depth': 35, 'random_state': 2020, 'min_child_weight': 41}. Best is trial 77 with value: 0.6127762765496686.\n"
     ]
    },
    {
     "name": "stdout",
     "output_type": "stream",
     "text": [
      "19229\n"
     ]
    },
    {
     "name": "stderr",
     "output_type": "stream",
     "text": [
      "[I 2024-02-18 23:56:33,609] Trial 85 finished with value: 1.5581928122786923 and parameters: {'lambda': 0.012195558474920676, 'alpha': 0.9738384733477641, 'colsample_bytree': 0.6, 'colsample_bylevel': 0.8, 'subsample': 0.8, 'learning_rate': 0.001, 'n_estimators': 207, 'max_depth': 35, 'random_state': 2020, 'min_child_weight': 34}. Best is trial 77 with value: 0.6127762765496686.\n"
     ]
    },
    {
     "name": "stdout",
     "output_type": "stream",
     "text": [
      "19229\n"
     ]
    },
    {
     "name": "stderr",
     "output_type": "stream",
     "text": [
      "[I 2024-02-18 23:57:17,117] Trial 86 finished with value: 1.5656820030218355 and parameters: {'lambda': 4.087170115057664, 'alpha': 0.05774394866316287, 'colsample_bytree': 0.6, 'colsample_bylevel': 0.8, 'subsample': 1.0, 'learning_rate': 0.001, 'n_estimators': 217, 'max_depth': 35, 'random_state': 2020, 'min_child_weight': 61}. Best is trial 77 with value: 0.6127762765496686.\n"
     ]
    },
    {
     "name": "stdout",
     "output_type": "stream",
     "text": [
      "19229\n"
     ]
    },
    {
     "name": "stderr",
     "output_type": "stream",
     "text": [
      "[I 2024-02-18 23:57:51,808] Trial 87 finished with value: 1.559561864256865 and parameters: {'lambda': 4.831154068654428, 'alpha': 0.30085578127340257, 'colsample_bytree': 0.6, 'colsample_bylevel': 0.8, 'subsample': 0.8, 'learning_rate': 0.001, 'n_estimators': 259, 'max_depth': 35, 'random_state': 2020, 'min_child_weight': 82}. Best is trial 77 with value: 0.6127762765496686.\n"
     ]
    },
    {
     "name": "stdout",
     "output_type": "stream",
     "text": [
      "19229\n"
     ]
    },
    {
     "name": "stderr",
     "output_type": "stream",
     "text": [
      "[I 2024-02-18 23:58:21,078] Trial 88 finished with value: 0.7449804667353016 and parameters: {'lambda': 2.267923172946712, 'alpha': 0.17940313948018258, 'colsample_bytree': 0.6, 'colsample_bylevel': 0.8, 'subsample': 0.4, 'learning_rate': 0.04, 'n_estimators': 232, 'max_depth': 40, 'random_state': 2020, 'min_child_weight': 52}. Best is trial 77 with value: 0.6127762765496686.\n"
     ]
    },
    {
     "name": "stdout",
     "output_type": "stream",
     "text": [
      "19229\n"
     ]
    },
    {
     "name": "stderr",
     "output_type": "stream",
     "text": [
      "[I 2024-02-18 23:59:23,990] Trial 89 finished with value: 0.6639025878077693 and parameters: {'lambda': 6.419837336846046, 'alpha': 0.12402468802907518, 'colsample_bytree': 0.4, 'colsample_bylevel': 0.8, 'subsample': 0.5, 'learning_rate': 0.04, 'n_estimators': 201, 'max_depth': 35, 'random_state': 2020, 'min_child_weight': 20}. Best is trial 77 with value: 0.6127762765496686.\n"
     ]
    },
    {
     "name": "stdout",
     "output_type": "stream",
     "text": [
      "19229\n"
     ]
    },
    {
     "name": "stderr",
     "output_type": "stream",
     "text": [
      "[I 2024-02-19 00:00:13,549] Trial 90 finished with value: 0.6233439879213241 and parameters: {'lambda': 8.397980886670762, 'alpha': 0.2502493132251493, 'colsample_bytree': 0.6, 'colsample_bylevel': 0.8, 'subsample': 0.8, 'learning_rate': 0.08, 'n_estimators': 186, 'max_depth': 35, 'random_state': 2020, 'min_child_weight': 44}. Best is trial 77 with value: 0.6127762765496686.\n"
     ]
    },
    {
     "name": "stdout",
     "output_type": "stream",
     "text": [
      "19229\n"
     ]
    },
    {
     "name": "stderr",
     "output_type": "stream",
     "text": [
      "[I 2024-02-19 00:01:30,974] Trial 91 finished with value: 0.5963676623929166 and parameters: {'lambda': 8.314021520631215, 'alpha': 0.40869705814698803, 'colsample_bytree': 0.6, 'colsample_bylevel': 0.8, 'subsample': 0.8, 'learning_rate': 0.08, 'n_estimators': 186, 'max_depth': 35, 'random_state': 2020, 'min_child_weight': 27}. Best is trial 91 with value: 0.5963676623929166.\n"
     ]
    },
    {
     "name": "stdout",
     "output_type": "stream",
     "text": [
      "19229\n"
     ]
    },
    {
     "name": "stderr",
     "output_type": "stream",
     "text": [
      "[I 2024-02-19 00:02:24,238] Trial 92 finished with value: 0.6197699391194897 and parameters: {'lambda': 5.612597741603225, 'alpha': 0.4586360332469496, 'colsample_bytree': 0.6, 'colsample_bylevel': 0.8, 'subsample': 0.8, 'learning_rate': 0.08, 'n_estimators': 214, 'max_depth': 35, 'random_state': 2020, 'min_child_weight': 46}. Best is trial 91 with value: 0.5963676623929166.\n"
     ]
    },
    {
     "name": "stdout",
     "output_type": "stream",
     "text": [
      "19229\n"
     ]
    },
    {
     "name": "stderr",
     "output_type": "stream",
     "text": [
      "[I 2024-02-19 00:02:50,797] Trial 93 finished with value: 0.6589920098564822 and parameters: {'lambda': 8.375126706382416, 'alpha': 0.5987854602728956, 'colsample_bytree': 0.6, 'colsample_bylevel': 0.8, 'subsample': 0.8, 'learning_rate': 0.08, 'n_estimators': 241, 'max_depth': 11, 'random_state': 2020, 'min_child_weight': 46}. Best is trial 91 with value: 0.5963676623929166.\n"
     ]
    },
    {
     "name": "stdout",
     "output_type": "stream",
     "text": [
      "19229\n"
     ]
    },
    {
     "name": "stderr",
     "output_type": "stream",
     "text": [
      "[I 2024-02-19 00:04:35,042] Trial 94 finished with value: 0.5778749393883036 and parameters: {'lambda': 5.05315363118466, 'alpha': 0.39343619071756475, 'colsample_bytree': 1.0, 'colsample_bylevel': 0.8, 'subsample': 0.8, 'learning_rate': 0.08, 'n_estimators': 214, 'max_depth': 35, 'random_state': 2020, 'min_child_weight': 26}. Best is trial 94 with value: 0.5778749393883036.\n"
     ]
    },
    {
     "name": "stdout",
     "output_type": "stream",
     "text": [
      "19229\n"
     ]
    },
    {
     "name": "stderr",
     "output_type": "stream",
     "text": [
      "[I 2024-02-19 00:06:46,571] Trial 95 finished with value: 0.5728990322120254 and parameters: {'lambda': 3.7451708241453012, 'alpha': 0.2497286976512612, 'colsample_bytree': 1.0, 'colsample_bylevel': 0.8, 'subsample': 0.7, 'learning_rate': 0.08, 'n_estimators': 216, 'max_depth': 35, 'random_state': 2020, 'min_child_weight': 18}. Best is trial 95 with value: 0.5728990322120254.\n"
     ]
    },
    {
     "name": "stdout",
     "output_type": "stream",
     "text": [
      "19229\n"
     ]
    },
    {
     "name": "stderr",
     "output_type": "stream",
     "text": [
      "[I 2024-02-19 00:06:56,353] Trial 96 finished with value: 0.8221345581600743 and parameters: {'lambda': 3.865409611309611, 'alpha': 0.41016528815017395, 'colsample_bytree': 1.0, 'colsample_bylevel': 0.8, 'subsample': 0.7, 'learning_rate': 0.08, 'n_estimators': 213, 'max_depth': 5, 'random_state': 2020, 'min_child_weight': 19}. Best is trial 95 with value: 0.5728990322120254.\n"
     ]
    },
    {
     "name": "stdout",
     "output_type": "stream",
     "text": [
      "19229\n"
     ]
    },
    {
     "name": "stderr",
     "output_type": "stream",
     "text": [
      "[I 2024-02-19 00:08:50,320] Trial 97 finished with value: 1.5267191166079008 and parameters: {'lambda': 5.162902650676347, 'alpha': 0.9997302681456961, 'colsample_bytree': 1.0, 'colsample_bylevel': 0.5, 'subsample': 0.7, 'learning_rate': 0.001, 'n_estimators': 221, 'max_depth': 35, 'random_state': 2020, 'min_child_weight': 7}. Best is trial 95 with value: 0.5728990322120254.\n"
     ]
    },
    {
     "name": "stdout",
     "output_type": "stream",
     "text": [
      "19229\n"
     ]
    },
    {
     "name": "stderr",
     "output_type": "stream",
     "text": [
      "[I 2024-02-19 00:09:46,926] Trial 98 finished with value: 1.5592786754198693 and parameters: {'lambda': 6.608966485358635, 'alpha': 0.6607467260336223, 'colsample_bytree': 1.0, 'colsample_bylevel': 0.8, 'subsample': 0.7, 'learning_rate': 0.001, 'n_estimators': 206, 'max_depth': 30, 'random_state': 2020, 'min_child_weight': 26}. Best is trial 95 with value: 0.5728990322120254.\n"
     ]
    },
    {
     "name": "stdout",
     "output_type": "stream",
     "text": [
      "19229\n"
     ]
    },
    {
     "name": "stderr",
     "output_type": "stream",
     "text": [
      "[I 2024-02-19 00:11:28,038] Trial 99 finished with value: 0.5716122463812666 and parameters: {'lambda': 4.154552497796218, 'alpha': 0.43516569590594656, 'colsample_bytree': 1.0, 'colsample_bylevel': 0.8, 'subsample': 0.7, 'learning_rate': 0.08, 'n_estimators': 253, 'max_depth': 17, 'random_state': 2020, 'min_child_weight': 16}. Best is trial 99 with value: 0.5716122463812666.\n"
     ]
    },
    {
     "name": "stdout",
     "output_type": "stream",
     "text": [
      "19229\n",
      "Number of finished trials: 100\n",
      "Best trial: {'lambda': 4.154552497796218, 'alpha': 0.43516569590594656, 'colsample_bytree': 1.0, 'colsample_bylevel': 0.8, 'subsample': 0.7, 'learning_rate': 0.08, 'n_estimators': 253, 'max_depth': 17, 'random_state': 2020, 'min_child_weight': 16}\n"
     ]
    }
   ],
   "source": [
    "\n",
    "study.optimize(objective, n_trials=100) # 150 bar \"objective\" object ke trial kore kore dekhbe, here total 5*100=750\n",
    "print('Number of finished trials:', len(study.trials))\n",
    "print('Best trial:', study.best_trial.params)"
   ]
  },
  {
   "cell_type": "code",
   "execution_count": 15,
   "metadata": {},
   "outputs": [],
   "source": [
    "import pickle\n",
    "model_tuned=xgb.XGBRegressor(**study.best_trial.params)\n",
    "pickle.dump(model_tuned, open(\"all_pkl_file/all_tuned_model/PLC_XGB.pkl\", \"wb\"))"
   ]
  },
  {
   "cell_type": "code",
   "execution_count": 16,
   "metadata": {},
   "outputs": [
    {
     "data": {
      "application/vnd.plotly.v1+json": {
       "config": {
        "plotlyServerURL": "https://plot.ly"
       },
       "data": [
        {
         "dimensions": [
          {
           "label": "Objective Value",
           "range": [
            0.5716122463812666,
            1.7140804811823145
           ],
           "values": [
            1.666193141537515,
            0.8469196875936656,
            1.0187243099294232,
            1.6538821773810757,
            0.8086781526321792,
            0.9929101089399872,
            1.5022964969279706,
            1.644378424347938,
            1.6263504216907685,
            1.0857855798772993,
            1.0506532698471778,
            1.6115797851776157,
            1.627059721452,
            1.5267191166079008,
            0.7315000888184248,
            1.7140804811823145,
            1.3053405463673828,
            1.1937556326671388,
            0.7214117912210707,
            0.7422278190873514,
            0.7093002935037522,
            0.7053357570665235,
            0.7130899077531853,
            0.7139487054660162,
            0.6959563943381774,
            0.7114317121040598,
            0.6829627829141459,
            1.5951361428793014,
            0.900561808609102,
            1.7040216315585544,
            0.9802599795442816,
            0.7580028014805621,
            0.7372343519145474,
            0.7044871548288354,
            0.70498503158255,
            0.6709103069175999,
            0.7013053692526829,
            0.7054889265146019,
            0.6981402432591644,
            0.6524185818583266,
            0.7869376764957797,
            0.7603417923764799,
            0.9509286843856332,
            1.5375047779856943,
            1.2916181286744328,
            0.7240516457960383,
            0.6639025878077693,
            0.875746526687138,
            0.8159021868750578,
            0.8153338867753143,
            0.809605257102838,
            1.54990808812137,
            1.5529330194731064,
            1.5934816761627864,
            1.5612891747988829,
            1.5581928122786923,
            1.559561864256865,
            1.5656820030218355,
            0.6349575575992292,
            0.6393223174900116,
            0.7954918275206043,
            0.6232201573573345,
            0.6248528267367779,
            0.6235810247999599,
            0.8621780108076355,
            0.6420228180727725,
            0.6171656376508105,
            0.6882763663083555,
            0.6169502810941756,
            0.6957885704485524,
            0.6127762765496686,
            0.6618358544632192,
            0.6184388908688219,
            0.61471056545591,
            0.7449804667353016,
            0.6589920098564822,
            0.6233439879213241,
            0.5963676623929166,
            0.6197699391194897,
            0.8254812330267058,
            0.8367674828031537,
            1.5592786754198693,
            0.8221345581600743,
            0.5716122463812666,
            0.5728990322120254,
            0.5778749393883036,
            1.4638929968536398,
            1.3163207775655368,
            1.2669982688711774,
            0.7941934848713288,
            1.6476584463572315,
            0.6756943265634279,
            0.8063405300721826,
            1.0688850202279132,
            1.3163719391127235,
            1.1130597265880409,
            1.39977384231052,
            1.6426043058992814,
            1.603262883141754,
            0.8510451608943507
           ]
          },
          {
           "label": "alpha",
           "range": [
            -2.987706055092171,
            0.8712749796865399
           ],
           "ticktext": [
            "0.00103",
            "0.01",
            "0.1",
            "1",
            "7.43"
           ],
           "tickvals": [
            -2.987706055092171,
            -2,
            -1,
            0,
            0.8712749796865399
           ],
           "values": [
            0.46279242356198086,
            -1.893459615861343,
            -1.5930364507847437,
            -2.098615765918853,
            -2.0047121062421893,
            0.8712749796865399,
            -2.562154916706853,
            -2.5664261880559316,
            -2.8388917350418343,
            -1.3451967315914495,
            -0.30708971561432163,
            -2.210255522650676,
            -0.5757788659506528,
            -0.00011715885736606156,
            -1.1357144728815598,
            -2.855972127284033,
            -1.2041160317640998,
            -1.466972992931445,
            -2.659892770407115,
            -2.0657032147790138,
            -1.2118451603366673,
            -1.2813149343594232,
            -2.342136814286027,
            -2.3583815365231264,
            -2.318107412997082,
            -2.2000432684571236,
            -2.127255357388613,
            -2.4514401673954462,
            0.08204208806549373,
            -2.9768230021895024,
            -2.645385216966661,
            -1.546524133957025,
            -2.0985027040173776,
            -1.900210197259148,
            -1.7916132581089588,
            -2.9520907501363114,
            -2.4396649886350117,
            -2.449375784012282,
            -1.956614986498657,
            -1.758115837103178,
            -2.885165142472641,
            -2.239915470816303,
            -2.5463605305128456,
            -1.7437848896478414,
            0.13669707985538118,
            -1.8807410269191074,
            -0.9064918567120273,
            -0.9435586704909434,
            -0.8261340772831813,
            -0.8348798043087241,
            -0.7565508621805147,
            -0.6511525565685339,
            -0.4760750131981099,
            -0.8347298723593367,
            -0.31475298551170205,
            -0.011513071818698989,
            -0.5216416386479334,
            -1.2384935213907435,
            -1.4389389269148465,
            -1.467638733932844,
            -1.4048646138411922,
            -1.0462801612128787,
            -0.9941814683672614,
            -1.0750452735156226,
            -1.1078570139736648,
            -1.0449421064589057,
            -0.7050757939870181,
            -0.7014670658605342,
            -1.04953232002817,
            -1.031674875270236,
            -0.5905874782510461,
            -0.2146740055743655,
            -0.5273021550422098,
            -0.5057057100673631,
            -0.7461699612529675,
            -0.22272875375302323,
            -0.6016271057085328,
            -0.3885984883836547,
            -0.3385318274395795,
            -0.9140784139282256,
            -0.43489715978169086,
            -0.17996498009796133,
            -0.38704109629021627,
            -0.3613453473768483,
            -0.6025315476949045,
            -0.40512569346086436,
            -2.732847679467634,
            -2.987706055092171,
            -0.3089607915603493,
            -1.6892186513968408,
            -2.475181826454462,
            -2.8162916780281777,
            -2.7925642175246637,
            -1.7629425845195035,
            -2.387033205204499,
            -1.9441723068955112,
            -1.6239792901302375,
            -2.6973543041721677,
            -2.2859465686682117,
            -2.875637626239395
           ]
          },
          {
           "label": "colsample_bylevel",
           "range": [
            0,
            7
           ],
           "ticktext": [
            "0.3",
            "0.4",
            "0.5",
            "0.6",
            "0.7",
            "0.8",
            "0.9",
            "1.0"
           ],
           "tickvals": [
            0,
            1,
            2,
            3,
            4,
            5,
            6,
            7
           ],
           "values": [
            0,
            0,
            0,
            0,
            0,
            0,
            1,
            1,
            1,
            1,
            2,
            2,
            2,
            2,
            3,
            3,
            3,
            3,
            3,
            3,
            3,
            3,
            3,
            3,
            3,
            3,
            3,
            4,
            4,
            4,
            4,
            4,
            4,
            4,
            4,
            4,
            4,
            4,
            4,
            4,
            4,
            4,
            4,
            4,
            4,
            4,
            5,
            5,
            5,
            5,
            5,
            5,
            5,
            5,
            5,
            5,
            5,
            5,
            5,
            5,
            5,
            5,
            5,
            5,
            5,
            5,
            5,
            5,
            5,
            5,
            5,
            5,
            5,
            5,
            5,
            5,
            5,
            5,
            5,
            5,
            5,
            5,
            5,
            5,
            5,
            5,
            6,
            6,
            6,
            6,
            6,
            6,
            6,
            6,
            6,
            6,
            7,
            7,
            7,
            7
           ]
          },
          {
           "label": "colsample_bytree",
           "range": [
            0,
            7
           ],
           "ticktext": [
            "0.3",
            "0.4",
            "0.5",
            "0.6",
            "0.7",
            "0.8",
            "0.9",
            "1.0"
           ],
           "tickvals": [
            0,
            1,
            2,
            3,
            4,
            5,
            6,
            7
           ],
           "values": [
            0,
            1,
            3,
            5,
            5,
            6,
            2,
            5,
            5,
            7,
            1,
            4,
            7,
            7,
            1,
            3,
            3,
            3,
            3,
            3,
            3,
            3,
            3,
            3,
            3,
            3,
            3,
            2,
            4,
            5,
            5,
            5,
            5,
            5,
            5,
            5,
            5,
            5,
            5,
            5,
            5,
            5,
            5,
            6,
            6,
            7,
            1,
            1,
            1,
            1,
            1,
            3,
            3,
            3,
            3,
            3,
            3,
            3,
            3,
            3,
            3,
            3,
            3,
            3,
            3,
            3,
            3,
            3,
            3,
            3,
            3,
            3,
            3,
            3,
            3,
            3,
            3,
            3,
            3,
            3,
            4,
            7,
            7,
            7,
            7,
            7,
            0,
            0,
            2,
            2,
            5,
            5,
            5,
            5,
            6,
            6,
            0,
            5,
            6,
            6
           ]
          },
          {
           "label": "lambda",
           "range": [
            -2.9788529379823676,
            0.9986558558523724
           ],
           "ticktext": [
            "0.00105",
            "0.01",
            "0.1",
            "1",
            "9.97"
           ],
           "tickvals": [
            -2.9788529379823676,
            -2,
            -1,
            0,
            0.9986558558523724
           ],
           "values": [
            -1.5792504077000242,
            -1.009228585975091,
            -1.0641625967521835,
            0.4247528271654547,
            0.5344319442718171,
            -0.3470468694357012,
            -0.10944080818040908,
            -2.3003373644070773,
            -0.05754020837975066,
            -0.3854279643731517,
            0.3837671819972687,
            -0.1242248383476374,
            -0.5915637399845152,
            0.712893936266927,
            0.9775163747387009,
            -0.7099839635399762,
            0.08997213463758504,
            -0.7566784927336325,
            0.10337087504171297,
            -1.6865216805148782,
            -0.2169190376266168,
            -0.3745859621666235,
            -0.5354183770943196,
            -0.2425933182831078,
            -0.6787202438427729,
            -0.5060811927652517,
            -0.12205723867350601,
            -0.889568154130782,
            -0.9047116250572514,
            0.31703930559595217,
            0.24821433240791782,
            0.14889561930974035,
            0.6465508213168643,
            0.007555201197784347,
            -0.03080116444844587,
            0.2159664608704375,
            0.1498528316377261,
            0.12164219673984272,
            0.13205763788691693,
            -0.09976838811950545,
            -1.4981084575817256,
            -1.1768938995597638,
            0.7250527105283858,
            -0.209485338709686,
            -2.443918963370688,
            0.3794758705928115,
            0.8075240242362779,
            0.8670440519447671,
            0.8926209549355822,
            0.8949379639319952,
            0.9917957571080063,
            0.888340860762609,
            0.6575851261212682,
            0.8115100989978417,
            0.9015516831273458,
            -1.9137983071154958,
            0.6840508876416679,
            0.6114227141719076,
            0.4840928715874415,
            0.4572950639326467,
            0.5672351603848772,
            0.44757060454776376,
            0.45031988531955053,
            0.7598124086399748,
            0.5067246644532687,
            0.9879233072739194,
            0.988500940468359,
            0.9986558558523724,
            0.8813785793896354,
            0.8592317967450979,
            0.7131739792615471,
            0.7068150995852157,
            0.6782478478023443,
            0.6202370515790975,
            0.35562833852314624,
            0.9229913861526378,
            0.9241748818733825,
            0.9198111443317653,
            0.7491639171774047,
            0.762386678823174,
            0.29439022255487357,
            0.8201335495310877,
            0.5871955221885465,
            0.6185242511756478,
            0.573471631459178,
            0.7035625023073919,
            0.2855822284478331,
            -2.9788529379823676,
            -2.639552259284742,
            0.7991000025391332,
            0.16428814747258197,
            0.4722924942532036,
            -2.7136007107124085,
            -1.3369489078083812,
            -1.2665856962000708,
            -2.1828849151365626,
            0.5229671664901802,
            0.6191395393573866,
            -0.3545467915191186,
            0.03421635142524636
           ]
          },
          {
           "label": "learning_rate",
           "range": [
            0,
            26
           ],
           "ticktext": [
            "1e-05",
            "0.0001",
            "0.001",
            "0.002",
            "0.003",
            "0.004",
            "0.005",
            "0.006",
            "0.007",
            "0.008",
            "0.009",
            "0.01",
            "0.04",
            "0.08",
            "0.12",
            "0.2",
            "0.24",
            "0.3",
            "0.38",
            "0.42",
            "0.48",
            "0.5",
            "0.6",
            "0.7",
            "0.8",
            "0.9",
            "1.0"
           ],
           "tickvals": [
            0,
            1,
            2,
            3,
            4,
            5,
            6,
            7,
            8,
            9,
            10,
            11,
            12,
            13,
            14,
            15,
            16,
            17,
            18,
            19,
            20,
            21,
            22,
            23,
            24,
            25,
            26
           ],
           "values": [
            3,
            21,
            13,
            3,
            20,
            12,
            5,
            2,
            2,
            10,
            26,
            2,
            2,
            2,
            15,
            0,
            7,
            11,
            14,
            15,
            15,
            15,
            15,
            15,
            15,
            15,
            16,
            2,
            24,
            1,
            9,
            16,
            16,
            16,
            16,
            16,
            16,
            16,
            16,
            16,
            17,
            18,
            25,
            2,
            9,
            16,
            12,
            21,
            21,
            21,
            21,
            2,
            2,
            2,
            2,
            2,
            2,
            2,
            12,
            12,
            12,
            12,
            12,
            12,
            12,
            12,
            12,
            12,
            12,
            12,
            12,
            12,
            12,
            12,
            12,
            13,
            13,
            13,
            13,
            23,
            22,
            2,
            13,
            13,
            13,
            13,
            6,
            8,
            9,
            19,
            2,
            19,
            19,
            25,
            8,
            23,
            4,
            2,
            2,
            19
           ]
          },
          {
           "label": "max_depth",
           "range": [
            0,
            11
           ],
           "ticktext": [
            "5",
            "7",
            "9",
            "11",
            "13",
            "15",
            "17",
            "20",
            "25",
            "30",
            "35",
            "40"
           ],
           "tickvals": [
            0,
            1,
            2,
            3,
            4,
            5,
            6,
            7,
            8,
            9,
            10,
            11
           ],
           "values": [
            5,
            11,
            7,
            8,
            9,
            8,
            2,
            1,
            4,
            10,
            3,
            3,
            7,
            10,
            2,
            2,
            2,
            0,
            2,
            2,
            2,
            2,
            2,
            2,
            2,
            2,
            2,
            5,
            9,
            1,
            5,
            0,
            1,
            1,
            1,
            1,
            1,
            1,
            1,
            1,
            1,
            8,
            1,
            4,
            9,
            1,
            10,
            11,
            11,
            11,
            11,
            10,
            10,
            10,
            10,
            10,
            10,
            10,
            10,
            10,
            10,
            10,
            10,
            10,
            10,
            10,
            10,
            10,
            10,
            10,
            10,
            10,
            10,
            10,
            11,
            3,
            10,
            10,
            10,
            10,
            4,
            9,
            0,
            6,
            10,
            10,
            10,
            7,
            6,
            7,
            1,
            7,
            7,
            1,
            8,
            5,
            6,
            1,
            6,
            1
           ]
          },
          {
           "label": "min_child_weight",
           "range": [
            1,
            290
           ],
           "values": [
            61,
            26,
            275,
            69,
            49,
            81,
            75,
            25,
            57,
            214,
            162,
            63,
            34,
            7,
            104,
            57,
            123,
            4,
            79,
            52,
            100,
            98,
            93,
            99,
            57,
            95,
            41,
            31,
            154,
            1,
            25,
            10,
            39,
            17,
            17,
            4,
            16,
            21,
            15,
            4,
            66,
            48,
            22,
            1,
            21,
            43,
            20,
            183,
            185,
            185,
            188,
            45,
            23,
            173,
            41,
            34,
            82,
            61,
            32,
            32,
            87,
            31,
            33,
            31,
            215,
            30,
            29,
            49,
            29,
            70,
            30,
            55,
            30,
            30,
            52,
            46,
            44,
            27,
            46,
            35,
            137,
            26,
            19,
            16,
            18,
            26,
            12,
            39,
            290,
            11,
            10,
            11,
            256,
            239,
            276,
            290,
            117,
            37,
            27,
            135
           ]
          },
          {
           "label": "n_estimators",
           "range": [
            6,
            298
           ],
           "values": [
            44,
            138,
            148,
            47,
            130,
            90,
            119,
            151,
            145,
            295,
            247,
            193,
            110,
            221,
            237,
            177,
            202,
            258,
            202,
            166,
            233,
            240,
            220,
            223,
            182,
            217,
            217,
            176,
            234,
            188,
            212,
            158,
            131,
            166,
            164,
            182,
            174,
            199,
            159,
            166,
            154,
            179,
            186,
            207,
            86,
            176,
            201,
            290,
            273,
            298,
            298,
            248,
            210,
            242,
            226,
            207,
            259,
            217,
            170,
            160,
            121,
            196,
            196,
            196,
            197,
            170,
            225,
            168,
            208,
            223,
            226,
            229,
            209,
            208,
            232,
            241,
            186,
            186,
            214,
            192,
            248,
            206,
            213,
            253,
            216,
            214,
            77,
            100,
            191,
            6,
            120,
            116,
            75,
            153,
            187,
            10,
            266,
            143,
            135,
            210
           ]
          },
          {
           "label": "random_state",
           "range": [
            0,
            2
           ],
           "ticktext": [
            "24",
            "48",
            "2020"
           ],
           "tickvals": [
            0,
            1,
            2
           ],
           "values": [
            2,
            2,
            2,
            1,
            1,
            1,
            1,
            1,
            1,
            2,
            2,
            0,
            1,
            2,
            2,
            1,
            1,
            1,
            1,
            1,
            1,
            1,
            1,
            1,
            1,
            1,
            1,
            1,
            1,
            0,
            1,
            1,
            0,
            1,
            1,
            1,
            1,
            1,
            1,
            1,
            1,
            1,
            1,
            1,
            0,
            1,
            2,
            2,
            2,
            2,
            2,
            2,
            2,
            2,
            2,
            2,
            2,
            2,
            1,
            1,
            1,
            2,
            2,
            2,
            2,
            2,
            2,
            2,
            2,
            2,
            2,
            2,
            2,
            2,
            2,
            2,
            2,
            2,
            2,
            2,
            1,
            2,
            2,
            2,
            2,
            2,
            0,
            2,
            0,
            1,
            1,
            1,
            1,
            0,
            0,
            0,
            1,
            1,
            1,
            0
           ]
          },
          {
           "label": "subsample",
           "range": [
            0,
            5
           ],
           "ticktext": [
            "0.4",
            "0.5",
            "0.6",
            "0.7",
            "0.8",
            "1.0"
           ],
           "tickvals": [
            0,
            1,
            2,
            3,
            4,
            5
           ],
           "values": [
            5,
            3,
            0,
            4,
            2,
            0,
            5,
            0,
            3,
            3,
            3,
            1,
            4,
            3,
            4,
            4,
            4,
            4,
            4,
            1,
            4,
            4,
            4,
            4,
            4,
            4,
            4,
            2,
            4,
            5,
            2,
            2,
            2,
            2,
            2,
            2,
            2,
            2,
            2,
            4,
            1,
            2,
            2,
            5,
            0,
            2,
            1,
            1,
            3,
            3,
            3,
            4,
            4,
            4,
            4,
            4,
            4,
            5,
            4,
            4,
            4,
            4,
            4,
            4,
            4,
            4,
            4,
            4,
            4,
            4,
            4,
            4,
            4,
            4,
            0,
            4,
            4,
            4,
            4,
            4,
            3,
            3,
            3,
            3,
            3,
            4,
            0,
            4,
            4,
            4,
            4,
            4,
            4,
            0,
            2,
            0,
            2,
            2,
            4,
            0
           ]
          }
         ],
         "labelangle": 30,
         "labelside": "bottom",
         "line": {
          "color": [
           1.666193141537515,
           0.8469196875936656,
           1.0187243099294232,
           1.6538821773810757,
           0.8086781526321792,
           0.9929101089399872,
           1.5022964969279706,
           1.644378424347938,
           1.6263504216907685,
           1.0857855798772993,
           1.0506532698471778,
           1.6115797851776157,
           1.627059721452,
           1.5267191166079008,
           0.7315000888184248,
           1.7140804811823145,
           1.3053405463673828,
           1.1937556326671388,
           0.7214117912210707,
           0.7422278190873514,
           0.7093002935037522,
           0.7053357570665235,
           0.7130899077531853,
           0.7139487054660162,
           0.6959563943381774,
           0.7114317121040598,
           0.6829627829141459,
           1.5951361428793014,
           0.900561808609102,
           1.7040216315585544,
           0.9802599795442816,
           0.7580028014805621,
           0.7372343519145474,
           0.7044871548288354,
           0.70498503158255,
           0.6709103069175999,
           0.7013053692526829,
           0.7054889265146019,
           0.6981402432591644,
           0.6524185818583266,
           0.7869376764957797,
           0.7603417923764799,
           0.9509286843856332,
           1.5375047779856943,
           1.2916181286744328,
           0.7240516457960383,
           0.6639025878077693,
           0.875746526687138,
           0.8159021868750578,
           0.8153338867753143,
           0.809605257102838,
           1.54990808812137,
           1.5529330194731064,
           1.5934816761627864,
           1.5612891747988829,
           1.5581928122786923,
           1.559561864256865,
           1.5656820030218355,
           0.6349575575992292,
           0.6393223174900116,
           0.7954918275206043,
           0.6232201573573345,
           0.6248528267367779,
           0.6235810247999599,
           0.8621780108076355,
           0.6420228180727725,
           0.6171656376508105,
           0.6882763663083555,
           0.6169502810941756,
           0.6957885704485524,
           0.6127762765496686,
           0.6618358544632192,
           0.6184388908688219,
           0.61471056545591,
           0.7449804667353016,
           0.6589920098564822,
           0.6233439879213241,
           0.5963676623929166,
           0.6197699391194897,
           0.8254812330267058,
           0.8367674828031537,
           1.5592786754198693,
           0.8221345581600743,
           0.5716122463812666,
           0.5728990322120254,
           0.5778749393883036,
           1.4638929968536398,
           1.3163207775655368,
           1.2669982688711774,
           0.7941934848713288,
           1.6476584463572315,
           0.6756943265634279,
           0.8063405300721826,
           1.0688850202279132,
           1.3163719391127235,
           1.1130597265880409,
           1.39977384231052,
           1.6426043058992814,
           1.603262883141754,
           0.8510451608943507
          ],
          "colorbar": {
           "title": {
            "text": "Objective Value"
           }
          },
          "colorscale": [
           [
            0,
            "rgb(247,251,255)"
           ],
           [
            0.125,
            "rgb(222,235,247)"
           ],
           [
            0.25,
            "rgb(198,219,239)"
           ],
           [
            0.375,
            "rgb(158,202,225)"
           ],
           [
            0.5,
            "rgb(107,174,214)"
           ],
           [
            0.625,
            "rgb(66,146,198)"
           ],
           [
            0.75,
            "rgb(33,113,181)"
           ],
           [
            0.875,
            "rgb(8,81,156)"
           ],
           [
            1,
            "rgb(8,48,107)"
           ]
          ],
          "reversescale": true,
          "showscale": true
         },
         "type": "parcoords"
        }
       ],
       "layout": {
        "template": {
         "data": {
          "bar": [
           {
            "error_x": {
             "color": "#2a3f5f"
            },
            "error_y": {
             "color": "#2a3f5f"
            },
            "marker": {
             "line": {
              "color": "#E5ECF6",
              "width": 0.5
             },
             "pattern": {
              "fillmode": "overlay",
              "size": 10,
              "solidity": 0.2
             }
            },
            "type": "bar"
           }
          ],
          "barpolar": [
           {
            "marker": {
             "line": {
              "color": "#E5ECF6",
              "width": 0.5
             },
             "pattern": {
              "fillmode": "overlay",
              "size": 10,
              "solidity": 0.2
             }
            },
            "type": "barpolar"
           }
          ],
          "carpet": [
           {
            "aaxis": {
             "endlinecolor": "#2a3f5f",
             "gridcolor": "white",
             "linecolor": "white",
             "minorgridcolor": "white",
             "startlinecolor": "#2a3f5f"
            },
            "baxis": {
             "endlinecolor": "#2a3f5f",
             "gridcolor": "white",
             "linecolor": "white",
             "minorgridcolor": "white",
             "startlinecolor": "#2a3f5f"
            },
            "type": "carpet"
           }
          ],
          "choropleth": [
           {
            "colorbar": {
             "outlinewidth": 0,
             "ticks": ""
            },
            "type": "choropleth"
           }
          ],
          "contour": [
           {
            "colorbar": {
             "outlinewidth": 0,
             "ticks": ""
            },
            "colorscale": [
             [
              0,
              "#0d0887"
             ],
             [
              0.1111111111111111,
              "#46039f"
             ],
             [
              0.2222222222222222,
              "#7201a8"
             ],
             [
              0.3333333333333333,
              "#9c179e"
             ],
             [
              0.4444444444444444,
              "#bd3786"
             ],
             [
              0.5555555555555556,
              "#d8576b"
             ],
             [
              0.6666666666666666,
              "#ed7953"
             ],
             [
              0.7777777777777778,
              "#fb9f3a"
             ],
             [
              0.8888888888888888,
              "#fdca26"
             ],
             [
              1,
              "#f0f921"
             ]
            ],
            "type": "contour"
           }
          ],
          "contourcarpet": [
           {
            "colorbar": {
             "outlinewidth": 0,
             "ticks": ""
            },
            "type": "contourcarpet"
           }
          ],
          "heatmap": [
           {
            "colorbar": {
             "outlinewidth": 0,
             "ticks": ""
            },
            "colorscale": [
             [
              0,
              "#0d0887"
             ],
             [
              0.1111111111111111,
              "#46039f"
             ],
             [
              0.2222222222222222,
              "#7201a8"
             ],
             [
              0.3333333333333333,
              "#9c179e"
             ],
             [
              0.4444444444444444,
              "#bd3786"
             ],
             [
              0.5555555555555556,
              "#d8576b"
             ],
             [
              0.6666666666666666,
              "#ed7953"
             ],
             [
              0.7777777777777778,
              "#fb9f3a"
             ],
             [
              0.8888888888888888,
              "#fdca26"
             ],
             [
              1,
              "#f0f921"
             ]
            ],
            "type": "heatmap"
           }
          ],
          "heatmapgl": [
           {
            "colorbar": {
             "outlinewidth": 0,
             "ticks": ""
            },
            "colorscale": [
             [
              0,
              "#0d0887"
             ],
             [
              0.1111111111111111,
              "#46039f"
             ],
             [
              0.2222222222222222,
              "#7201a8"
             ],
             [
              0.3333333333333333,
              "#9c179e"
             ],
             [
              0.4444444444444444,
              "#bd3786"
             ],
             [
              0.5555555555555556,
              "#d8576b"
             ],
             [
              0.6666666666666666,
              "#ed7953"
             ],
             [
              0.7777777777777778,
              "#fb9f3a"
             ],
             [
              0.8888888888888888,
              "#fdca26"
             ],
             [
              1,
              "#f0f921"
             ]
            ],
            "type": "heatmapgl"
           }
          ],
          "histogram": [
           {
            "marker": {
             "pattern": {
              "fillmode": "overlay",
              "size": 10,
              "solidity": 0.2
             }
            },
            "type": "histogram"
           }
          ],
          "histogram2d": [
           {
            "colorbar": {
             "outlinewidth": 0,
             "ticks": ""
            },
            "colorscale": [
             [
              0,
              "#0d0887"
             ],
             [
              0.1111111111111111,
              "#46039f"
             ],
             [
              0.2222222222222222,
              "#7201a8"
             ],
             [
              0.3333333333333333,
              "#9c179e"
             ],
             [
              0.4444444444444444,
              "#bd3786"
             ],
             [
              0.5555555555555556,
              "#d8576b"
             ],
             [
              0.6666666666666666,
              "#ed7953"
             ],
             [
              0.7777777777777778,
              "#fb9f3a"
             ],
             [
              0.8888888888888888,
              "#fdca26"
             ],
             [
              1,
              "#f0f921"
             ]
            ],
            "type": "histogram2d"
           }
          ],
          "histogram2dcontour": [
           {
            "colorbar": {
             "outlinewidth": 0,
             "ticks": ""
            },
            "colorscale": [
             [
              0,
              "#0d0887"
             ],
             [
              0.1111111111111111,
              "#46039f"
             ],
             [
              0.2222222222222222,
              "#7201a8"
             ],
             [
              0.3333333333333333,
              "#9c179e"
             ],
             [
              0.4444444444444444,
              "#bd3786"
             ],
             [
              0.5555555555555556,
              "#d8576b"
             ],
             [
              0.6666666666666666,
              "#ed7953"
             ],
             [
              0.7777777777777778,
              "#fb9f3a"
             ],
             [
              0.8888888888888888,
              "#fdca26"
             ],
             [
              1,
              "#f0f921"
             ]
            ],
            "type": "histogram2dcontour"
           }
          ],
          "mesh3d": [
           {
            "colorbar": {
             "outlinewidth": 0,
             "ticks": ""
            },
            "type": "mesh3d"
           }
          ],
          "parcoords": [
           {
            "line": {
             "colorbar": {
              "outlinewidth": 0,
              "ticks": ""
             }
            },
            "type": "parcoords"
           }
          ],
          "pie": [
           {
            "automargin": true,
            "type": "pie"
           }
          ],
          "scatter": [
           {
            "fillpattern": {
             "fillmode": "overlay",
             "size": 10,
             "solidity": 0.2
            },
            "type": "scatter"
           }
          ],
          "scatter3d": [
           {
            "line": {
             "colorbar": {
              "outlinewidth": 0,
              "ticks": ""
             }
            },
            "marker": {
             "colorbar": {
              "outlinewidth": 0,
              "ticks": ""
             }
            },
            "type": "scatter3d"
           }
          ],
          "scattercarpet": [
           {
            "marker": {
             "colorbar": {
              "outlinewidth": 0,
              "ticks": ""
             }
            },
            "type": "scattercarpet"
           }
          ],
          "scattergeo": [
           {
            "marker": {
             "colorbar": {
              "outlinewidth": 0,
              "ticks": ""
             }
            },
            "type": "scattergeo"
           }
          ],
          "scattergl": [
           {
            "marker": {
             "colorbar": {
              "outlinewidth": 0,
              "ticks": ""
             }
            },
            "type": "scattergl"
           }
          ],
          "scattermapbox": [
           {
            "marker": {
             "colorbar": {
              "outlinewidth": 0,
              "ticks": ""
             }
            },
            "type": "scattermapbox"
           }
          ],
          "scatterpolar": [
           {
            "marker": {
             "colorbar": {
              "outlinewidth": 0,
              "ticks": ""
             }
            },
            "type": "scatterpolar"
           }
          ],
          "scatterpolargl": [
           {
            "marker": {
             "colorbar": {
              "outlinewidth": 0,
              "ticks": ""
             }
            },
            "type": "scatterpolargl"
           }
          ],
          "scatterternary": [
           {
            "marker": {
             "colorbar": {
              "outlinewidth": 0,
              "ticks": ""
             }
            },
            "type": "scatterternary"
           }
          ],
          "surface": [
           {
            "colorbar": {
             "outlinewidth": 0,
             "ticks": ""
            },
            "colorscale": [
             [
              0,
              "#0d0887"
             ],
             [
              0.1111111111111111,
              "#46039f"
             ],
             [
              0.2222222222222222,
              "#7201a8"
             ],
             [
              0.3333333333333333,
              "#9c179e"
             ],
             [
              0.4444444444444444,
              "#bd3786"
             ],
             [
              0.5555555555555556,
              "#d8576b"
             ],
             [
              0.6666666666666666,
              "#ed7953"
             ],
             [
              0.7777777777777778,
              "#fb9f3a"
             ],
             [
              0.8888888888888888,
              "#fdca26"
             ],
             [
              1,
              "#f0f921"
             ]
            ],
            "type": "surface"
           }
          ],
          "table": [
           {
            "cells": {
             "fill": {
              "color": "#EBF0F8"
             },
             "line": {
              "color": "white"
             }
            },
            "header": {
             "fill": {
              "color": "#C8D4E3"
             },
             "line": {
              "color": "white"
             }
            },
            "type": "table"
           }
          ]
         },
         "layout": {
          "annotationdefaults": {
           "arrowcolor": "#2a3f5f",
           "arrowhead": 0,
           "arrowwidth": 1
          },
          "autotypenumbers": "strict",
          "coloraxis": {
           "colorbar": {
            "outlinewidth": 0,
            "ticks": ""
           }
          },
          "colorscale": {
           "diverging": [
            [
             0,
             "#8e0152"
            ],
            [
             0.1,
             "#c51b7d"
            ],
            [
             0.2,
             "#de77ae"
            ],
            [
             0.3,
             "#f1b6da"
            ],
            [
             0.4,
             "#fde0ef"
            ],
            [
             0.5,
             "#f7f7f7"
            ],
            [
             0.6,
             "#e6f5d0"
            ],
            [
             0.7,
             "#b8e186"
            ],
            [
             0.8,
             "#7fbc41"
            ],
            [
             0.9,
             "#4d9221"
            ],
            [
             1,
             "#276419"
            ]
           ],
           "sequential": [
            [
             0,
             "#0d0887"
            ],
            [
             0.1111111111111111,
             "#46039f"
            ],
            [
             0.2222222222222222,
             "#7201a8"
            ],
            [
             0.3333333333333333,
             "#9c179e"
            ],
            [
             0.4444444444444444,
             "#bd3786"
            ],
            [
             0.5555555555555556,
             "#d8576b"
            ],
            [
             0.6666666666666666,
             "#ed7953"
            ],
            [
             0.7777777777777778,
             "#fb9f3a"
            ],
            [
             0.8888888888888888,
             "#fdca26"
            ],
            [
             1,
             "#f0f921"
            ]
           ],
           "sequentialminus": [
            [
             0,
             "#0d0887"
            ],
            [
             0.1111111111111111,
             "#46039f"
            ],
            [
             0.2222222222222222,
             "#7201a8"
            ],
            [
             0.3333333333333333,
             "#9c179e"
            ],
            [
             0.4444444444444444,
             "#bd3786"
            ],
            [
             0.5555555555555556,
             "#d8576b"
            ],
            [
             0.6666666666666666,
             "#ed7953"
            ],
            [
             0.7777777777777778,
             "#fb9f3a"
            ],
            [
             0.8888888888888888,
             "#fdca26"
            ],
            [
             1,
             "#f0f921"
            ]
           ]
          },
          "colorway": [
           "#636efa",
           "#EF553B",
           "#00cc96",
           "#ab63fa",
           "#FFA15A",
           "#19d3f3",
           "#FF6692",
           "#B6E880",
           "#FF97FF",
           "#FECB52"
          ],
          "font": {
           "color": "#2a3f5f"
          },
          "geo": {
           "bgcolor": "white",
           "lakecolor": "white",
           "landcolor": "#E5ECF6",
           "showlakes": true,
           "showland": true,
           "subunitcolor": "white"
          },
          "hoverlabel": {
           "align": "left"
          },
          "hovermode": "closest",
          "mapbox": {
           "style": "light"
          },
          "paper_bgcolor": "white",
          "plot_bgcolor": "#E5ECF6",
          "polar": {
           "angularaxis": {
            "gridcolor": "white",
            "linecolor": "white",
            "ticks": ""
           },
           "bgcolor": "#E5ECF6",
           "radialaxis": {
            "gridcolor": "white",
            "linecolor": "white",
            "ticks": ""
           }
          },
          "scene": {
           "xaxis": {
            "backgroundcolor": "#E5ECF6",
            "gridcolor": "white",
            "gridwidth": 2,
            "linecolor": "white",
            "showbackground": true,
            "ticks": "",
            "zerolinecolor": "white"
           },
           "yaxis": {
            "backgroundcolor": "#E5ECF6",
            "gridcolor": "white",
            "gridwidth": 2,
            "linecolor": "white",
            "showbackground": true,
            "ticks": "",
            "zerolinecolor": "white"
           },
           "zaxis": {
            "backgroundcolor": "#E5ECF6",
            "gridcolor": "white",
            "gridwidth": 2,
            "linecolor": "white",
            "showbackground": true,
            "ticks": "",
            "zerolinecolor": "white"
           }
          },
          "shapedefaults": {
           "line": {
            "color": "#2a3f5f"
           }
          },
          "ternary": {
           "aaxis": {
            "gridcolor": "white",
            "linecolor": "white",
            "ticks": ""
           },
           "baxis": {
            "gridcolor": "white",
            "linecolor": "white",
            "ticks": ""
           },
           "bgcolor": "#E5ECF6",
           "caxis": {
            "gridcolor": "white",
            "linecolor": "white",
            "ticks": ""
           }
          },
          "title": {
           "x": 0.05
          },
          "xaxis": {
           "automargin": true,
           "gridcolor": "white",
           "linecolor": "white",
           "ticks": "",
           "title": {
            "standoff": 15
           },
           "zerolinecolor": "white",
           "zerolinewidth": 2
          },
          "yaxis": {
           "automargin": true,
           "gridcolor": "white",
           "linecolor": "white",
           "ticks": "",
           "title": {
            "standoff": 15
           },
           "zerolinecolor": "white",
           "zerolinewidth": 2
          }
         }
        },
        "title": {
         "text": "Parallel Coordinate Plot"
        }
       }
      }
     },
     "metadata": {},
     "output_type": "display_data"
    }
   ],
   "source": [
    "from matplotlib import pyplot as plt\n",
    "fig_study = optuna.visualization.plot_parallel_coordinate(study, params=[\"lambda\", \"alpha\",\"colsample_bytree\",\"colsample_bylevel\",\"subsample\",\"learning_rate\",\"n_estimators\",\"max_depth\",\"random_state\",\"min_child_weight\"])\n",
    "fig_study.show()"
   ]
  },
  {
   "cell_type": "code",
   "execution_count": 17,
   "metadata": {},
   "outputs": [
    {
     "name": "stdout",
     "output_type": "stream",
     "text": [
      "Number of finished trials:  100\n",
      "Best trial:\n",
      "  Value:  0.5716122463812666\n",
      "  Params: \n",
      "    lambda: 4.154552497796218\n",
      "    alpha: 0.43516569590594656\n",
      "    colsample_bytree: 1.0\n",
      "    colsample_bylevel: 0.8\n",
      "    subsample: 0.7\n",
      "    learning_rate: 0.08\n",
      "    n_estimators: 253\n",
      "    max_depth: 17\n",
      "    random_state: 2020\n",
      "    min_child_weight: 16\n"
     ]
    }
   ],
   "source": [
    "#evaluate the trial\n",
    "print(\"Number of finished trials: \", len(study.trials))\n",
    "print(\"Best trial:\")\n",
    "trial = study.best_trial\n",
    "print(\"  Value: \", trial.value)\n",
    "print(\"  Params: \")\n",
    "for key, value in trial.params.items():\n",
    "    print(\"    {}: {}\".format(key, value))"
   ]
  },
  {
   "cell_type": "markdown",
   "metadata": {},
   "source": [
    "# process the whole dataset"
   ]
  },
  {
   "cell_type": "code",
   "execution_count": 18,
   "metadata": {},
   "outputs": [],
   "source": [
    "import pickle\n",
    "\n",
    "# Load the saved pickle file\n",
    "with open('all_pkl_file/all_tuned_model/PLC_XGB.pkl', 'rb') as f:\n",
    "    tunned_model = pickle.load(f)"
   ]
  },
  {
   "cell_type": "code",
   "execution_count": 19,
   "metadata": {},
   "outputs": [
    {
     "data": {
      "text/html": [
       "<style>#sk-container-id-2 {\n",
       "  /* Definition of color scheme common for light and dark mode */\n",
       "  --sklearn-color-text: black;\n",
       "  --sklearn-color-line: gray;\n",
       "  /* Definition of color scheme for unfitted estimators */\n",
       "  --sklearn-color-unfitted-level-0: #fff5e6;\n",
       "  --sklearn-color-unfitted-level-1: #f6e4d2;\n",
       "  --sklearn-color-unfitted-level-2: #ffe0b3;\n",
       "  --sklearn-color-unfitted-level-3: chocolate;\n",
       "  /* Definition of color scheme for fitted estimators */\n",
       "  --sklearn-color-fitted-level-0: #f0f8ff;\n",
       "  --sklearn-color-fitted-level-1: #d4ebff;\n",
       "  --sklearn-color-fitted-level-2: #b3dbfd;\n",
       "  --sklearn-color-fitted-level-3: cornflowerblue;\n",
       "\n",
       "  /* Specific color for light theme */\n",
       "  --sklearn-color-text-on-default-background: var(--sg-text-color, var(--theme-code-foreground, var(--jp-content-font-color1, black)));\n",
       "  --sklearn-color-background: var(--sg-background-color, var(--theme-background, var(--jp-layout-color0, white)));\n",
       "  --sklearn-color-border-box: var(--sg-text-color, var(--theme-code-foreground, var(--jp-content-font-color1, black)));\n",
       "  --sklearn-color-icon: #696969;\n",
       "\n",
       "  @media (prefers-color-scheme: dark) {\n",
       "    /* Redefinition of color scheme for dark theme */\n",
       "    --sklearn-color-text-on-default-background: var(--sg-text-color, var(--theme-code-foreground, var(--jp-content-font-color1, white)));\n",
       "    --sklearn-color-background: var(--sg-background-color, var(--theme-background, var(--jp-layout-color0, #111)));\n",
       "    --sklearn-color-border-box: var(--sg-text-color, var(--theme-code-foreground, var(--jp-content-font-color1, white)));\n",
       "    --sklearn-color-icon: #878787;\n",
       "  }\n",
       "}\n",
       "\n",
       "#sk-container-id-2 {\n",
       "  color: var(--sklearn-color-text);\n",
       "}\n",
       "\n",
       "#sk-container-id-2 pre {\n",
       "  padding: 0;\n",
       "}\n",
       "\n",
       "#sk-container-id-2 input.sk-hidden--visually {\n",
       "  border: 0;\n",
       "  clip: rect(1px 1px 1px 1px);\n",
       "  clip: rect(1px, 1px, 1px, 1px);\n",
       "  height: 1px;\n",
       "  margin: -1px;\n",
       "  overflow: hidden;\n",
       "  padding: 0;\n",
       "  position: absolute;\n",
       "  width: 1px;\n",
       "}\n",
       "\n",
       "#sk-container-id-2 div.sk-dashed-wrapped {\n",
       "  border: 1px dashed var(--sklearn-color-line);\n",
       "  margin: 0 0.4em 0.5em 0.4em;\n",
       "  box-sizing: border-box;\n",
       "  padding-bottom: 0.4em;\n",
       "  background-color: var(--sklearn-color-background);\n",
       "}\n",
       "\n",
       "#sk-container-id-2 div.sk-container {\n",
       "  /* jupyter's `normalize.less` sets `[hidden] { display: none; }`\n",
       "     but bootstrap.min.css set `[hidden] { display: none !important; }`\n",
       "     so we also need the `!important` here to be able to override the\n",
       "     default hidden behavior on the sphinx rendered scikit-learn.org.\n",
       "     See: https://github.com/scikit-learn/scikit-learn/issues/21755 */\n",
       "  display: inline-block !important;\n",
       "  position: relative;\n",
       "}\n",
       "\n",
       "#sk-container-id-2 div.sk-text-repr-fallback {\n",
       "  display: none;\n",
       "}\n",
       "\n",
       "div.sk-parallel-item,\n",
       "div.sk-serial,\n",
       "div.sk-item {\n",
       "  /* draw centered vertical line to link estimators */\n",
       "  background-image: linear-gradient(var(--sklearn-color-text-on-default-background), var(--sklearn-color-text-on-default-background));\n",
       "  background-size: 2px 100%;\n",
       "  background-repeat: no-repeat;\n",
       "  background-position: center center;\n",
       "}\n",
       "\n",
       "/* Parallel-specific style estimator block */\n",
       "\n",
       "#sk-container-id-2 div.sk-parallel-item::after {\n",
       "  content: \"\";\n",
       "  width: 100%;\n",
       "  border-bottom: 2px solid var(--sklearn-color-text-on-default-background);\n",
       "  flex-grow: 1;\n",
       "}\n",
       "\n",
       "#sk-container-id-2 div.sk-parallel {\n",
       "  display: flex;\n",
       "  align-items: stretch;\n",
       "  justify-content: center;\n",
       "  background-color: var(--sklearn-color-background);\n",
       "  position: relative;\n",
       "}\n",
       "\n",
       "#sk-container-id-2 div.sk-parallel-item {\n",
       "  display: flex;\n",
       "  flex-direction: column;\n",
       "}\n",
       "\n",
       "#sk-container-id-2 div.sk-parallel-item:first-child::after {\n",
       "  align-self: flex-end;\n",
       "  width: 50%;\n",
       "}\n",
       "\n",
       "#sk-container-id-2 div.sk-parallel-item:last-child::after {\n",
       "  align-self: flex-start;\n",
       "  width: 50%;\n",
       "}\n",
       "\n",
       "#sk-container-id-2 div.sk-parallel-item:only-child::after {\n",
       "  width: 0;\n",
       "}\n",
       "\n",
       "/* Serial-specific style estimator block */\n",
       "\n",
       "#sk-container-id-2 div.sk-serial {\n",
       "  display: flex;\n",
       "  flex-direction: column;\n",
       "  align-items: center;\n",
       "  background-color: var(--sklearn-color-background);\n",
       "  padding-right: 1em;\n",
       "  padding-left: 1em;\n",
       "}\n",
       "\n",
       "\n",
       "/* Toggleable style: style used for estimator/Pipeline/ColumnTransformer box that is\n",
       "clickable and can be expanded/collapsed.\n",
       "- Pipeline and ColumnTransformer use this feature and define the default style\n",
       "- Estimators will overwrite some part of the style using the `sk-estimator` class\n",
       "*/\n",
       "\n",
       "/* Pipeline and ColumnTransformer style (default) */\n",
       "\n",
       "#sk-container-id-2 div.sk-toggleable {\n",
       "  /* Default theme specific background. It is overwritten whether we have a\n",
       "  specific estimator or a Pipeline/ColumnTransformer */\n",
       "  background-color: var(--sklearn-color-background);\n",
       "}\n",
       "\n",
       "/* Toggleable label */\n",
       "#sk-container-id-2 label.sk-toggleable__label {\n",
       "  cursor: pointer;\n",
       "  display: block;\n",
       "  width: 100%;\n",
       "  margin-bottom: 0;\n",
       "  padding: 0.5em;\n",
       "  box-sizing: border-box;\n",
       "  text-align: center;\n",
       "}\n",
       "\n",
       "#sk-container-id-2 label.sk-toggleable__label-arrow:before {\n",
       "  /* Arrow on the left of the label */\n",
       "  content: \"▸\";\n",
       "  float: left;\n",
       "  margin-right: 0.25em;\n",
       "  color: var(--sklearn-color-icon);\n",
       "}\n",
       "\n",
       "#sk-container-id-2 label.sk-toggleable__label-arrow:hover:before {\n",
       "  color: var(--sklearn-color-text);\n",
       "}\n",
       "\n",
       "/* Toggleable content - dropdown */\n",
       "\n",
       "#sk-container-id-2 div.sk-toggleable__content {\n",
       "  max-height: 0;\n",
       "  max-width: 0;\n",
       "  overflow: hidden;\n",
       "  text-align: left;\n",
       "  /* unfitted */\n",
       "  background-color: var(--sklearn-color-unfitted-level-0);\n",
       "}\n",
       "\n",
       "#sk-container-id-2 div.sk-toggleable__content.fitted {\n",
       "  /* fitted */\n",
       "  background-color: var(--sklearn-color-fitted-level-0);\n",
       "}\n",
       "\n",
       "#sk-container-id-2 div.sk-toggleable__content pre {\n",
       "  margin: 0.2em;\n",
       "  border-radius: 0.25em;\n",
       "  color: var(--sklearn-color-text);\n",
       "  /* unfitted */\n",
       "  background-color: var(--sklearn-color-unfitted-level-0);\n",
       "}\n",
       "\n",
       "#sk-container-id-2 div.sk-toggleable__content.fitted pre {\n",
       "  /* unfitted */\n",
       "  background-color: var(--sklearn-color-fitted-level-0);\n",
       "}\n",
       "\n",
       "#sk-container-id-2 input.sk-toggleable__control:checked~div.sk-toggleable__content {\n",
       "  /* Expand drop-down */\n",
       "  max-height: 200px;\n",
       "  max-width: 100%;\n",
       "  overflow: auto;\n",
       "}\n",
       "\n",
       "#sk-container-id-2 input.sk-toggleable__control:checked~label.sk-toggleable__label-arrow:before {\n",
       "  content: \"▾\";\n",
       "}\n",
       "\n",
       "/* Pipeline/ColumnTransformer-specific style */\n",
       "\n",
       "#sk-container-id-2 div.sk-label input.sk-toggleable__control:checked~label.sk-toggleable__label {\n",
       "  color: var(--sklearn-color-text);\n",
       "  background-color: var(--sklearn-color-unfitted-level-2);\n",
       "}\n",
       "\n",
       "#sk-container-id-2 div.sk-label.fitted input.sk-toggleable__control:checked~label.sk-toggleable__label {\n",
       "  background-color: var(--sklearn-color-fitted-level-2);\n",
       "}\n",
       "\n",
       "/* Estimator-specific style */\n",
       "\n",
       "/* Colorize estimator box */\n",
       "#sk-container-id-2 div.sk-estimator input.sk-toggleable__control:checked~label.sk-toggleable__label {\n",
       "  /* unfitted */\n",
       "  background-color: var(--sklearn-color-unfitted-level-2);\n",
       "}\n",
       "\n",
       "#sk-container-id-2 div.sk-estimator.fitted input.sk-toggleable__control:checked~label.sk-toggleable__label {\n",
       "  /* fitted */\n",
       "  background-color: var(--sklearn-color-fitted-level-2);\n",
       "}\n",
       "\n",
       "#sk-container-id-2 div.sk-label label.sk-toggleable__label,\n",
       "#sk-container-id-2 div.sk-label label {\n",
       "  /* The background is the default theme color */\n",
       "  color: var(--sklearn-color-text-on-default-background);\n",
       "}\n",
       "\n",
       "/* On hover, darken the color of the background */\n",
       "#sk-container-id-2 div.sk-label:hover label.sk-toggleable__label {\n",
       "  color: var(--sklearn-color-text);\n",
       "  background-color: var(--sklearn-color-unfitted-level-2);\n",
       "}\n",
       "\n",
       "/* Label box, darken color on hover, fitted */\n",
       "#sk-container-id-2 div.sk-label.fitted:hover label.sk-toggleable__label.fitted {\n",
       "  color: var(--sklearn-color-text);\n",
       "  background-color: var(--sklearn-color-fitted-level-2);\n",
       "}\n",
       "\n",
       "/* Estimator label */\n",
       "\n",
       "#sk-container-id-2 div.sk-label label {\n",
       "  font-family: monospace;\n",
       "  font-weight: bold;\n",
       "  display: inline-block;\n",
       "  line-height: 1.2em;\n",
       "}\n",
       "\n",
       "#sk-container-id-2 div.sk-label-container {\n",
       "  text-align: center;\n",
       "}\n",
       "\n",
       "/* Estimator-specific */\n",
       "#sk-container-id-2 div.sk-estimator {\n",
       "  font-family: monospace;\n",
       "  border: 1px dotted var(--sklearn-color-border-box);\n",
       "  border-radius: 0.25em;\n",
       "  box-sizing: border-box;\n",
       "  margin-bottom: 0.5em;\n",
       "  /* unfitted */\n",
       "  background-color: var(--sklearn-color-unfitted-level-0);\n",
       "}\n",
       "\n",
       "#sk-container-id-2 div.sk-estimator.fitted {\n",
       "  /* fitted */\n",
       "  background-color: var(--sklearn-color-fitted-level-0);\n",
       "}\n",
       "\n",
       "/* on hover */\n",
       "#sk-container-id-2 div.sk-estimator:hover {\n",
       "  /* unfitted */\n",
       "  background-color: var(--sklearn-color-unfitted-level-2);\n",
       "}\n",
       "\n",
       "#sk-container-id-2 div.sk-estimator.fitted:hover {\n",
       "  /* fitted */\n",
       "  background-color: var(--sklearn-color-fitted-level-2);\n",
       "}\n",
       "\n",
       "/* Specification for estimator info (e.g. \"i\" and \"?\") */\n",
       "\n",
       "/* Common style for \"i\" and \"?\" */\n",
       "\n",
       ".sk-estimator-doc-link,\n",
       "a:link.sk-estimator-doc-link,\n",
       "a:visited.sk-estimator-doc-link {\n",
       "  float: right;\n",
       "  font-size: smaller;\n",
       "  line-height: 1em;\n",
       "  font-family: monospace;\n",
       "  background-color: var(--sklearn-color-background);\n",
       "  border-radius: 1em;\n",
       "  height: 1em;\n",
       "  width: 1em;\n",
       "  text-decoration: none !important;\n",
       "  margin-left: 1ex;\n",
       "  /* unfitted */\n",
       "  border: var(--sklearn-color-unfitted-level-1) 1pt solid;\n",
       "  color: var(--sklearn-color-unfitted-level-1);\n",
       "}\n",
       "\n",
       ".sk-estimator-doc-link.fitted,\n",
       "a:link.sk-estimator-doc-link.fitted,\n",
       "a:visited.sk-estimator-doc-link.fitted {\n",
       "  /* fitted */\n",
       "  border: var(--sklearn-color-fitted-level-1) 1pt solid;\n",
       "  color: var(--sklearn-color-fitted-level-1);\n",
       "}\n",
       "\n",
       "/* On hover */\n",
       "div.sk-estimator:hover .sk-estimator-doc-link:hover,\n",
       ".sk-estimator-doc-link:hover,\n",
       "div.sk-label-container:hover .sk-estimator-doc-link:hover,\n",
       ".sk-estimator-doc-link:hover {\n",
       "  /* unfitted */\n",
       "  background-color: var(--sklearn-color-unfitted-level-3);\n",
       "  color: var(--sklearn-color-background);\n",
       "  text-decoration: none;\n",
       "}\n",
       "\n",
       "div.sk-estimator.fitted:hover .sk-estimator-doc-link.fitted:hover,\n",
       ".sk-estimator-doc-link.fitted:hover,\n",
       "div.sk-label-container:hover .sk-estimator-doc-link.fitted:hover,\n",
       ".sk-estimator-doc-link.fitted:hover {\n",
       "  /* fitted */\n",
       "  background-color: var(--sklearn-color-fitted-level-3);\n",
       "  color: var(--sklearn-color-background);\n",
       "  text-decoration: none;\n",
       "}\n",
       "\n",
       "/* Span, style for the box shown on hovering the info icon */\n",
       ".sk-estimator-doc-link span {\n",
       "  display: none;\n",
       "  z-index: 9999;\n",
       "  position: relative;\n",
       "  font-weight: normal;\n",
       "  right: .2ex;\n",
       "  padding: .5ex;\n",
       "  margin: .5ex;\n",
       "  width: min-content;\n",
       "  min-width: 20ex;\n",
       "  max-width: 50ex;\n",
       "  color: var(--sklearn-color-text);\n",
       "  box-shadow: 2pt 2pt 4pt #999;\n",
       "  /* unfitted */\n",
       "  background: var(--sklearn-color-unfitted-level-0);\n",
       "  border: .5pt solid var(--sklearn-color-unfitted-level-3);\n",
       "}\n",
       "\n",
       ".sk-estimator-doc-link.fitted span {\n",
       "  /* fitted */\n",
       "  background: var(--sklearn-color-fitted-level-0);\n",
       "  border: var(--sklearn-color-fitted-level-3);\n",
       "}\n",
       "\n",
       ".sk-estimator-doc-link:hover span {\n",
       "  display: block;\n",
       "}\n",
       "\n",
       "/* \"?\"-specific style due to the `<a>` HTML tag */\n",
       "\n",
       "#sk-container-id-2 a.estimator_doc_link {\n",
       "  float: right;\n",
       "  font-size: 1rem;\n",
       "  line-height: 1em;\n",
       "  font-family: monospace;\n",
       "  background-color: var(--sklearn-color-background);\n",
       "  border-radius: 1rem;\n",
       "  height: 1rem;\n",
       "  width: 1rem;\n",
       "  text-decoration: none;\n",
       "  /* unfitted */\n",
       "  color: var(--sklearn-color-unfitted-level-1);\n",
       "  border: var(--sklearn-color-unfitted-level-1) 1pt solid;\n",
       "}\n",
       "\n",
       "#sk-container-id-2 a.estimator_doc_link.fitted {\n",
       "  /* fitted */\n",
       "  border: var(--sklearn-color-fitted-level-1) 1pt solid;\n",
       "  color: var(--sklearn-color-fitted-level-1);\n",
       "}\n",
       "\n",
       "/* On hover */\n",
       "#sk-container-id-2 a.estimator_doc_link:hover {\n",
       "  /* unfitted */\n",
       "  background-color: var(--sklearn-color-unfitted-level-3);\n",
       "  color: var(--sklearn-color-background);\n",
       "  text-decoration: none;\n",
       "}\n",
       "\n",
       "#sk-container-id-2 a.estimator_doc_link.fitted:hover {\n",
       "  /* fitted */\n",
       "  background-color: var(--sklearn-color-fitted-level-3);\n",
       "}\n",
       "</style><div id=\"sk-container-id-2\" class=\"sk-top-container\"><div class=\"sk-text-repr-fallback\"><pre>XGBRegressor(alpha=0.43516569590594656, base_score=None, booster=None,\n",
       "             callbacks=None, colsample_bylevel=0.8, colsample_bynode=None,\n",
       "             colsample_bytree=1.0, device=None, early_stopping_rounds=None,\n",
       "             enable_categorical=False, eval_metric=None, feature_types=None,\n",
       "             gamma=None, grow_policy=None, importance_type=None,\n",
       "             interaction_constraints=None, lambda=4.154552497796218,\n",
       "             learning_rate=0.08, max_bin=None, max_cat_threshold=None,\n",
       "             max_cat_to_onehot=None, max_delta_step=None, max_depth=17,\n",
       "             max_leaves=None, min_child_weight=16, missing=nan,\n",
       "             monotone_constraints=None, multi_strategy=None, n_estimators=253,\n",
       "             n_jobs=None, ...)</pre><b>In a Jupyter environment, please rerun this cell to show the HTML representation or trust the notebook. <br />On GitHub, the HTML representation is unable to render, please try loading this page with nbviewer.org.</b></div><div class=\"sk-container\" hidden><div class=\"sk-item\"><div class=\"sk-estimator  sk-toggleable\"><input class=\"sk-toggleable__control sk-hidden--visually\" id=\"sk-estimator-id-2\" type=\"checkbox\" checked><label for=\"sk-estimator-id-2\" class=\"sk-toggleable__label  sk-toggleable__label-arrow \">&nbsp;XGBRegressor<span class=\"sk-estimator-doc-link \">i<span>Not fitted</span></span></label><div class=\"sk-toggleable__content \"><pre>XGBRegressor(alpha=0.43516569590594656, base_score=None, booster=None,\n",
       "             callbacks=None, colsample_bylevel=0.8, colsample_bynode=None,\n",
       "             colsample_bytree=1.0, device=None, early_stopping_rounds=None,\n",
       "             enable_categorical=False, eval_metric=None, feature_types=None,\n",
       "             gamma=None, grow_policy=None, importance_type=None,\n",
       "             interaction_constraints=None, lambda=4.154552497796218,\n",
       "             learning_rate=0.08, max_bin=None, max_cat_threshold=None,\n",
       "             max_cat_to_onehot=None, max_delta_step=None, max_depth=17,\n",
       "             max_leaves=None, min_child_weight=16, missing=nan,\n",
       "             monotone_constraints=None, multi_strategy=None, n_estimators=253,\n",
       "             n_jobs=None, ...)</pre></div> </div></div></div></div>"
      ],
      "text/plain": [
       "XGBRegressor(alpha=0.43516569590594656, base_score=None, booster=None,\n",
       "             callbacks=None, colsample_bylevel=0.8, colsample_bynode=None,\n",
       "             colsample_bytree=1.0, device=None, early_stopping_rounds=None,\n",
       "             enable_categorical=False, eval_metric=None, feature_types=None,\n",
       "             gamma=None, grow_policy=None, importance_type=None,\n",
       "             interaction_constraints=None, lambda=4.154552497796218,\n",
       "             learning_rate=0.08, max_bin=None, max_cat_threshold=None,\n",
       "             max_cat_to_onehot=None, max_delta_step=None, max_depth=17,\n",
       "             max_leaves=None, min_child_weight=16, missing=nan,\n",
       "             monotone_constraints=None, multi_strategy=None, n_estimators=253,\n",
       "             n_jobs=None, ...)"
      ]
     },
     "execution_count": 19,
     "metadata": {},
     "output_type": "execute_result"
    }
   ],
   "source": [
    "tunned_model"
   ]
  },
  {
   "cell_type": "code",
   "execution_count": 20,
   "metadata": {},
   "outputs": [
    {
     "name": "stdout",
     "output_type": "stream",
     "text": [
      "   Elevation    Aspect     Slope  Horizontal_Distance_To_Hydrology  \\\n",
      "0   0.672888  0.141667  0.045455                          0.184681   \n",
      "1   0.671332  0.155556  0.030303                          0.151754   \n",
      "2   0.726801  0.386111  0.136364                          0.191840   \n",
      "3   0.721877  0.430556  0.272727                          0.173228   \n",
      "4   0.672628  0.125000  0.030303                          0.109520   \n",
      "\n",
      "   Vertical_Distance_To_Hydrology  Horizontal_Distance_To_Roadways  \\\n",
      "0                        0.000000                         0.071659   \n",
      "1                       -0.009983                         0.054798   \n",
      "2                        0.108153                         0.446817   \n",
      "3                        0.196339                         0.434172   \n",
      "4                       -0.001664                         0.054939   \n",
      "\n",
      "   Hillshade_9am  Hillshade_Noon  Hillshade_3pm  \\\n",
      "0       0.870079        0.913386       0.582677   \n",
      "1       0.866142        0.925197       0.594488   \n",
      "2       0.921260        0.937008       0.531496   \n",
      "3       0.937008        0.937008       0.480315   \n",
      "4       0.866142        0.921260       0.590551   \n",
      "\n",
      "   Horizontal_Distance_To_Fire_Points  ...  Soil_Type32  Soil_Type33  \\\n",
      "0                            0.875366  ...          0.0          0.0   \n",
      "1                            0.867838  ...          0.0          0.0   \n",
      "2                            0.853339  ...          0.0          0.0   \n",
      "3                            0.865886  ...          0.0          0.0   \n",
      "4                            0.860449  ...          0.0          0.0   \n",
      "\n",
      "   Soil_Type34  Soil_Type35  Soil_Type36  Soil_Type37  Soil_Type38  \\\n",
      "0          0.0          0.0          0.0          0.0          0.0   \n",
      "1          0.0          0.0          0.0          0.0          0.0   \n",
      "2          0.0          0.0          0.0          0.0          0.0   \n",
      "3          0.0          0.0          0.0          0.0          0.0   \n",
      "4          0.0          0.0          0.0          0.0          0.0   \n",
      "\n",
      "   Soil_Type39  Soil_Type40  Cover_Type  \n",
      "0          0.0          0.0         5.0  \n",
      "1          0.0          0.0         5.0  \n",
      "2          0.0          0.0         2.0  \n",
      "3          0.0          0.0         2.0  \n",
      "4          0.0          0.0         5.0  \n",
      "\n",
      "[5 rows x 55 columns]\n",
      "['Elevation', 'Aspect', 'Slope', 'Horizontal_Distance_To_Hydrology', 'Vertical_Distance_To_Hydrology', 'Horizontal_Distance_To_Roadways', 'Hillshade_9am', 'Hillshade_Noon', 'Hillshade_3pm', 'Horizontal_Distance_To_Fire_Points', 'Wilderness_Area1', 'Wilderness_Area2', 'Wilderness_Area3', 'Wilderness_Area4', 'Soil_Type1', 'Soil_Type2', 'Soil_Type3', 'Soil_Type4', 'Soil_Type5', 'Soil_Type6', 'Soil_Type7', 'Soil_Type8', 'Soil_Type9', 'Soil_Type10', 'Soil_Type11', 'Soil_Type12', 'Soil_Type13', 'Soil_Type14', 'Soil_Type15', 'Soil_Type16', 'Soil_Type17', 'Soil_Type18', 'Soil_Type19', 'Soil_Type20', 'Soil_Type21', 'Soil_Type22', 'Soil_Type23', 'Soil_Type24', 'Soil_Type25', 'Soil_Type26', 'Soil_Type27', 'Soil_Type28', 'Soil_Type29', 'Soil_Type30', 'Soil_Type31', 'Soil_Type32', 'Soil_Type33', 'Soil_Type34', 'Soil_Type35', 'Soil_Type36', 'Soil_Type37', 'Soil_Type38', 'Soil_Type39', 'Soil_Type40', 'Cover_Type']\n",
      "<class 'pandas.core.frame.DataFrame'>\n",
      "              0         1         2         3         4         5         6   \\\n",
      "0       0.762312  0.130556  0.181818  0.047960  0.021631  0.655192  0.881890   \n",
      "1       0.680145  0.155556  0.257576  0.030064  0.000000  0.224111  0.901575   \n",
      "2       0.767755  0.969444  0.106061  0.088762  0.000000  0.794717  0.814961   \n",
      "3       0.828668  0.344444  0.287879  0.214746 -0.206323  0.056765  0.976378   \n",
      "4       0.799896  0.055556  0.196970  0.183250 -0.004992  0.315020  0.826772   \n",
      "...          ...       ...       ...       ...       ...       ...       ...   \n",
      "581007  0.713064  0.358333  0.045455  0.047960  0.000000  0.261346  0.885827   \n",
      "581008  0.727579  0.150000  0.060606  0.115963  0.018303  0.070114  0.874016   \n",
      "581009  0.779160  0.894444  0.242424  0.107373  0.071547  0.025292  0.704724   \n",
      "581010  0.805858  0.483333  0.227273  0.077309  0.038270  0.517915  0.897638   \n",
      "581011  0.758424  0.200000  0.181818  0.482462  0.212978  0.446536  0.921260   \n",
      "\n",
      "              7         8         9   ...   45   46   47   48   49   50   51  \\\n",
      "0       0.842520  0.484252  0.292346  ...  0.0  0.0  0.0  0.0  0.0  0.0  0.0   \n",
      "1       0.799213  0.397638  0.289000  ...  0.0  0.0  0.0  0.0  0.0  0.0  0.0   \n",
      "2       0.897638  0.629921  0.289140  ...  0.0  0.0  0.0  0.0  0.0  0.0  0.0   \n",
      "3       0.874016  0.370079  0.523491  ...  0.0  0.0  0.0  0.0  0.0  0.0  0.0   \n",
      "4       0.830709  0.535433  0.219573  ...  0.0  0.0  0.0  0.0  0.0  0.0  0.0   \n",
      "...          ...       ...       ...  ...  ...  ...  ...  ...  ...  ...  ...   \n",
      "581007  0.933071  0.582677  0.109438  ...  0.0  0.0  0.0  0.0  0.0  0.0  0.0   \n",
      "581008  0.909449  0.566929  0.088666  ...  0.0  0.0  0.0  0.0  0.0  0.0  0.0   \n",
      "581009  0.877953  0.720472  0.125471  ...  0.0  0.0  0.0  0.0  0.0  0.0  0.0   \n",
      "581010  0.968504  0.574803  0.709048  ...  0.0  0.0  0.0  0.0  0.0  0.0  0.0   \n",
      "581011  0.850394  0.440945  0.090478  ...  0.0  0.0  0.0  0.0  0.0  0.0  0.0   \n",
      "\n",
      "         52   53   54  \n",
      "0       0.0  0.0  5.0  \n",
      "1       0.0  0.0  2.0  \n",
      "2       0.0  0.0  2.0  \n",
      "3       0.0  0.0  2.0  \n",
      "4       0.0  0.0  1.0  \n",
      "...     ...  ...  ...  \n",
      "581007  0.0  0.0  2.0  \n",
      "581008  0.0  0.0  2.0  \n",
      "581009  0.0  0.0  1.0  \n",
      "581010  0.0  0.0  1.0  \n",
      "581011  0.0  0.0  2.0  \n",
      "\n",
      "[581012 rows x 55 columns]\n"
     ]
    }
   ],
   "source": [
    "filename_2 = '../shot_listed_dataset/Cover_type_whole_genuine_dataset_normalization.csv'\n",
    "dataset_2=getData(filename_2).values.tolist()\n",
    "random.shuffle(dataset_2)\n",
    "\n",
    "dataset_2=pd.DataFrame(dataset_2) #from dataset_list to dataset_dataframe after suffling\n",
    "print(dataset_2)"
   ]
  },
  {
   "cell_type": "code",
   "execution_count": 21,
   "metadata": {},
   "outputs": [
    {
     "data": {
      "text/plain": [
       "[]"
      ]
     },
     "execution_count": 21,
     "metadata": {},
     "output_type": "execute_result"
    }
   ],
   "source": [
    "# checking for NaN value\n",
    "result = dataset_2.columns[dataset_2.isna().any()].tolist()\n",
    "result"
   ]
  },
  {
   "cell_type": "code",
   "execution_count": 22,
   "metadata": {},
   "outputs": [],
   "source": [
    "X_2=dataset_2.iloc[:,0:-1]\n",
    "y_2=dataset_2.iloc[:,-1]\n",
    "X_train_2, y_train_2, X_test_2, y_test_2 = split_data(dataset_2)"
   ]
  },
  {
   "cell_type": "code",
   "execution_count": 23,
   "metadata": {},
   "outputs": [
    {
     "name": "stdout",
     "output_type": "stream",
     "text": [
      "<class 'numpy.ndarray'>\n",
      "464716\n",
      "<class 'numpy.ndarray'>\n",
      "116296\n"
     ]
    }
   ],
   "source": [
    "\n",
    "compressed_dataset_X_2 = pcaTrain.transform(X_2) # --transform-- the original \"dataset\" Dataframe into a lower-dimensional space based on the model's learned parameters\n",
    "\n",
    "\n",
    "compressed_dataset_X_train_2= pcaTrain.transform(X_train_2) # --transform-- the original \"dataset\" Dataframe into a lower-dimensional space based on the model's learned parameters\n",
    "print(type(compressed_dataset_X_train_2))\n",
    "print(len(compressed_dataset_X_train_2))\n",
    "\n",
    "\n",
    "compressed_dataset_X_test_2= pcaTrain.transform(X_test_2) # --transform-- the original \"dataset\" Dataframe into a lower-dimensional space based on the model's learned parameters\n",
    "print(type(compressed_dataset_X_test_2))\n",
    "print(len(compressed_dataset_X_test_2))\n"
   ]
  },
  {
   "cell_type": "markdown",
   "metadata": {},
   "source": [
    "# fit the XG-Boost"
   ]
  },
  {
   "cell_type": "code",
   "execution_count": 24,
   "metadata": {},
   "outputs": [],
   "source": [
    "from sklearn.model_selection import KFold\n",
    "K = 5 # 5 fold cross validation\n",
    "kf = KFold(n_splits = K, random_state = 42, shuffle = True)"
   ]
  },
  {
   "cell_type": "code",
   "execution_count": 26,
   "metadata": {},
   "outputs": [
    {
     "name": "stderr",
     "output_type": "stream",
     "text": [
      "100%|██████████| 5/5 [11:01<00:00, 132.35s/it]"
     ]
    },
    {
     "name": "stdout",
     "output_type": "stream",
     "text": [
      "0.16747998661055868\n"
     ]
    },
    {
     "name": "stderr",
     "output_type": "stream",
     "text": [
      "\n"
     ]
    }
   ],
   "source": [
    "# Let us make predictions for each of the 5 models and find mean \n",
    "# of those predictions\n",
    "\n",
    "from tqdm import tqdm\n",
    "train = np.array(compressed_dataset_X_train_2)\n",
    "target_train = np.array(y_train_2)\n",
    "\n",
    "test = np.array(compressed_dataset_X_test_2)\n",
    "# target_train = df_train['congestion'].values\n",
    "\n",
    "test_preds = np.zeros((len(test)))\n",
    "oof_preds = np.zeros((len(train)))\n",
    "for train_index, val_index in tqdm(kf.split(compressed_dataset_X_train_2), total=5):\n",
    "    train_X, valid_X = train[train_index], train[val_index]\n",
    "    train_y, valid_y = target_train[train_index], target_train[val_index]\n",
    "    xgb_params = study.best_trial.params\n",
    "    model = xgb.XGBRegressor(**xgb_params)\n",
    "    model.fit(train_X, train_y,eval_set=[(valid_X,valid_y)],early_stopping_rounds=100,verbose=False)\n",
    "    # for train accuracy\n",
    "    preds = model.predict(valid_X)\n",
    "    oof_preds[val_index] = preds\n",
    "    # for test accuracy\n",
    "    preds = model.predict(test)\n",
    "    test_preds += (preds)/5\n",
    "print(np.abs(oof_preds-target_train).mean())"
   ]
  },
  {
   "cell_type": "code",
   "execution_count": 27,
   "metadata": {},
   "outputs": [],
   "source": [
    "target_test = np.array(y_test_2)"
   ]
  },
  {
   "cell_type": "code",
   "execution_count": 28,
   "metadata": {},
   "outputs": [
    {
     "name": "stdout",
     "output_type": "stream",
     "text": [
      "0.9206937469904382\n"
     ]
    }
   ],
   "source": [
    "from sklearn.metrics import accuracy_score\n",
    "# valid_Acc_SVC=accuracy_score(target_train,oof_preds)\n",
    "# print(valid_Acc_SVC)\n",
    "\n",
    "# another technique for calculate test accuracy\n",
    "test_Acc_SVC=accuracy_score(target_test,test_preds.round())\n",
    "print(test_Acc_SVC)"
   ]
  },
  {
   "cell_type": "code",
   "execution_count": 29,
   "metadata": {},
   "outputs": [
    {
     "data": {
      "text/plain": [
       "464716"
      ]
     },
     "execution_count": 29,
     "metadata": {},
     "output_type": "execute_result"
    }
   ],
   "source": [
    "len(oof_preds)"
   ]
  },
  {
   "cell_type": "code",
   "execution_count": 31,
   "metadata": {},
   "outputs": [
    {
     "name": "stdout",
     "output_type": "stream",
     "text": [
      "0.9164306802434175\n"
     ]
    }
   ],
   "source": [
    "valid_Acc=accuracy_score(target_train,oof_preds.round())\n",
    "print(valid_Acc)"
   ]
  },
  {
   "cell_type": "code",
   "execution_count": null,
   "metadata": {},
   "outputs": [
    {
     "name": "stdout",
     "output_type": "stream",
     "text": [
      "0.9721717086374351\n"
     ]
    }
   ],
   "source": [
    "train_Acc=model.score(compressed_dataset_X_train_2,y_train_2)\n",
    "print(train_Acc)"
   ]
  },
  {
   "cell_type": "code",
   "execution_count": null,
   "metadata": {},
   "outputs": [
    {
     "name": "stdout",
     "output_type": "stream",
     "text": [
      "0.8712831805468825\n"
     ]
    }
   ],
   "source": [
    "test_Acc=model.score(compressed_dataset_X_test_2,y_test_2)\n",
    "print(test_Acc)"
   ]
  }
 ],
 "metadata": {
  "kernelspec": {
   "display_name": "Python 3",
   "language": "python",
   "name": "python3"
  },
  "language_info": {
   "codemirror_mode": {
    "name": "ipython",
    "version": 3
   },
   "file_extension": ".py",
   "mimetype": "text/x-python",
   "name": "python",
   "nbconvert_exporter": "python",
   "pygments_lexer": "ipython3",
   "version": "3.11.4"
  }
 },
 "nbformat": 4,
 "nbformat_minor": 2
}
