{
 "cells": [
  {
   "cell_type": "code",
   "execution_count": 1,
   "metadata": {},
   "outputs": [
    {
     "name": "stderr",
     "output_type": "stream",
     "text": [
      "c:\\Users\\USER\\AppData\\Local\\Programs\\Python\\Python311\\Lib\\site-packages\\tqdm\\auto.py:21: TqdmWarning: IProgress not found. Please update jupyter and ipywidgets. See https://ipywidgets.readthedocs.io/en/stable/user_install.html\n",
      "  from .autonotebook import tqdm as notebook_tqdm\n"
     ]
    }
   ],
   "source": [
    "import pandas as pd\n",
    "import numpy as np\n",
    "from sklearn.preprocessing import StandardScaler\n",
    "from sklearn.decomposition import PCA\n",
    "import seaborn as sns\n",
    "import matplotlib.pyplot as plt\n",
    "import optuna\n",
    "# import lightgbm as lgb\n",
    "from sklearn.model_selection import train_test_split\n",
    "from sklearn.metrics import roc_auc_score\n",
    "#plt.style.use('fivethirtyeight')\n",
    "import xgboost as xgb\n",
    "import sklearn\n",
    "import random\n",
    "from NecessaryModules.getData import getData"
   ]
  },
  {
   "cell_type": "code",
   "execution_count": 2,
   "metadata": {},
   "outputs": [
    {
     "name": "stdout",
     "output_type": "stream",
     "text": [
      "   Elevation    Aspect     Slope  Horizontal_Distance_To_Hydrology  \\\n",
      "0   0.850622  0.105556  0.150943                          0.045351   \n",
      "1   0.879149  0.163889  0.188679                          0.426304   \n",
      "2   0.767116  0.327778  0.320755                          0.068027   \n",
      "3   0.791494  0.338889  0.226415                          0.294785   \n",
      "4   0.867220  0.575000  0.584906                          0.385488   \n",
      "\n",
      "   Vertical_Distance_To_Hydrology  Horizontal_Distance_To_Roadways  \\\n",
      "0                       -0.003509                         0.631060   \n",
      "1                        0.189474                         0.177358   \n",
      "2                        0.038596                         0.259652   \n",
      "3                       -0.077193                         0.085486   \n",
      "4                        0.314035                         0.074020   \n",
      "\n",
      "   Hillshade_9am  Hillshade_Noon  Hillshade_3pm  \\\n",
      "0       0.866142        0.874016          0.548   \n",
      "1       0.897638        0.866142          0.500   \n",
      "2       0.968504        0.877953          0.400   \n",
      "3       0.944882        0.909449          0.476   \n",
      "4       0.724409        0.984252          0.728   \n",
      "\n",
      "   Horizontal_Distance_To_Fire_Points  ...  Soil_Type32  Soil_Type33  \\\n",
      "0                            0.512105  ...            0            0   \n",
      "1                            0.388636  ...            1            0   \n",
      "2                            0.387924  ...            0            0   \n",
      "3                            0.198804  ...            0            0   \n",
      "4                            0.141982  ...            0            0   \n",
      "\n",
      "   Soil_Type34  Soil_Type35  Soil_Type36  Soil_Type37  Soil_Type38  \\\n",
      "0            0            0            0            0            0   \n",
      "1            0            0            0            0            0   \n",
      "2            0            0            0            0            0   \n",
      "3            0            0            0            0            0   \n",
      "4            0            0            0            0            0   \n",
      "\n",
      "   Soil_Type39  Soil_Type40  Cover_Type  \n",
      "0            0            0           1  \n",
      "1            0            0           1  \n",
      "2            0            0           1  \n",
      "3            0            0           1  \n",
      "4            0            0           1  \n",
      "\n",
      "[5 rows x 55 columns]\n",
      "['Elevation', 'Aspect', 'Slope', 'Horizontal_Distance_To_Hydrology', 'Vertical_Distance_To_Hydrology', 'Horizontal_Distance_To_Roadways', 'Hillshade_9am', 'Hillshade_Noon', 'Hillshade_3pm', 'Horizontal_Distance_To_Fire_Points', 'Wilderness_Area1', 'Wilderness_Area2', 'Wilderness_Area3', 'Wilderness_Area4', 'Soil_Type1', 'Soil_Type2', 'Soil_Type3', 'Soil_Type4', 'Soil_Type5', 'Soil_Type6', 'Soil_Type7', 'Soil_Type8', 'Soil_Type9', 'Soil_Type10', 'Soil_Type11', 'Soil_Type12', 'Soil_Type13', 'Soil_Type14', 'Soil_Type15', 'Soil_Type16', 'Soil_Type17', 'Soil_Type18', 'Soil_Type19', 'Soil_Type20', 'Soil_Type21', 'Soil_Type22', 'Soil_Type23', 'Soil_Type24', 'Soil_Type25', 'Soil_Type26', 'Soil_Type27', 'Soil_Type28', 'Soil_Type29', 'Soil_Type30', 'Soil_Type31', 'Soil_Type32', 'Soil_Type33', 'Soil_Type34', 'Soil_Type35', 'Soil_Type36', 'Soil_Type37', 'Soil_Type38', 'Soil_Type39', 'Soil_Type40', 'Cover_Type']\n",
      "<class 'pandas.core.frame.DataFrame'>\n"
     ]
    }
   ],
   "source": [
    "filename = '../shot_listed_dataset/CoverTypeNewNormalized.csv'\n",
    "dataset=getData(filename).values.tolist()\n",
    "random.shuffle(dataset)\n",
    "dataset=pd.DataFrame(dataset) #from dataset_list to dataset_dataframe after suffling\n",
    "# print(dataset)"
   ]
  },
  {
   "cell_type": "code",
   "execution_count": 3,
   "metadata": {},
   "outputs": [],
   "source": [
    "def split_data(data):\n",
    "    # splitting the data\n",
    "    \n",
    "    msk = np.random.rand(len(data)) < 0.8\n",
    "    yy = [54] #test title is 54 after suffleing the dataframe \n",
    "    train = data[msk]\n",
    "    test = data[~msk]\n",
    "    x_train = train[train.columns[:train.shape[1] - 1]]  # all columns except the last are x variables\n",
    "    y_train = train[yy[0]].tolist()  # the last column as y variable\n",
    "    x_test = test[test.columns[:test.shape[1] - 1]]\n",
    "    y_test = test[yy[0]].tolist()  # the last column as y variable\n",
    "    y_train = [0 if i == 7 else i for i in y_train]  # replace label 7 with 0\n",
    "    y_test = [0 if i == 7 else i for i in y_test]  # replace label 7 with 0\n",
    "    return x_train, y_train, x_test, y_test"
   ]
  },
  {
   "cell_type": "code",
   "execution_count": 4,
   "metadata": {},
   "outputs": [],
   "source": [
    "X=dataset.iloc[:,0:-1]\n",
    "y=dataset.iloc[:,-1]"
   ]
  },
  {
   "cell_type": "code",
   "execution_count": 5,
   "metadata": {},
   "outputs": [
    {
     "name": "stdout",
     "output_type": "stream",
     "text": [
      "PCA(n_components=40)\n",
      "<class 'numpy.ndarray'>\n",
      "19229\n",
      "[[-6.78581499e-01 -2.69744245e-01  2.23739532e-01 ... -3.61957232e-02\n",
      "   1.20826191e-03  9.85852324e-03]\n",
      " [-6.39808589e-01 -4.28577519e-01  3.23296119e-01 ... -5.55093559e-02\n",
      "   7.55325816e-02 -8.77303554e-03]\n",
      " [ 1.36596226e-01  9.72874080e-01 -2.39688487e-01 ... -7.36861782e-03\n",
      "   2.10842981e-02 -1.14175242e-03]\n",
      " ...\n",
      " [ 9.40974378e-01 -5.32425351e-01  7.78834918e-01 ... -9.41746036e-03\n",
      "   3.16311080e-03 -6.49112838e-04]\n",
      " [ 9.82637280e-01 -4.31904468e-01  1.18386355e-01 ... -3.68725283e-02\n",
      "   4.11070361e-02  4.10711613e-03]\n",
      " [-6.41250630e-01 -3.30208003e-01  3.31839192e-01 ... -6.34739453e-02\n",
      "   2.10297344e-02  7.18982649e-03]]\n"
     ]
    }
   ],
   "source": [
    "pcaTrain = PCA(n_components=40).fit(X)# --train-- pca with the \"dataset\" Dataframe\n",
    "print(pcaTrain)\n",
    "compressed_dataset_X= pcaTrain.transform(X) # --transform-- the original \"dataset\" Dataframe into a lower-dimensional space based on the model's learned parameters\n",
    "print(type(compressed_dataset_X))\n",
    "print(len(compressed_dataset_X))\n",
    "print(compressed_dataset_X)"
   ]
  },
  {
   "cell_type": "code",
   "execution_count": 6,
   "metadata": {},
   "outputs": [
    {
     "name": "stdout",
     "output_type": "stream",
     "text": [
      "15376\n"
     ]
    }
   ],
   "source": [
    "# from NecessaryModules.splitData import split_data\n",
    "X_train, y_train, X_test, y_test = split_data(dataset)\n",
    "print(len(X_train))"
   ]
  },
  {
   "cell_type": "code",
   "execution_count": 7,
   "metadata": {},
   "outputs": [
    {
     "name": "stdout",
     "output_type": "stream",
     "text": [
      "<class 'numpy.ndarray'>\n",
      "15376\n",
      "[[-6.78581499e-01 -2.69744245e-01  2.23739532e-01 ... -3.61957232e-02\n",
      "   1.20826191e-03  9.85852324e-03]\n",
      " [-6.39808589e-01 -4.28577519e-01  3.23296119e-01 ... -5.55093559e-02\n",
      "   7.55325816e-02 -8.77303554e-03]\n",
      " [ 1.36596226e-01  9.72874080e-01 -2.39688487e-01 ... -7.36861782e-03\n",
      "   2.10842981e-02 -1.14175242e-03]\n",
      " ...\n",
      " [ 9.40974378e-01 -5.32425351e-01  7.78834918e-01 ... -9.41746036e-03\n",
      "   3.16311080e-03 -6.49112838e-04]\n",
      " [ 9.82637280e-01 -4.31904468e-01  1.18386355e-01 ... -3.68725283e-02\n",
      "   4.11070361e-02  4.10711613e-03]\n",
      " [-6.41250630e-01 -3.30208003e-01  3.31839192e-01 ... -6.34739453e-02\n",
      "   2.10297344e-02  7.18982649e-03]]\n",
      "<class 'numpy.ndarray'>\n",
      "3853\n",
      "[[ 8.18845461e-01 -2.28093312e-01 -4.59751539e-01 ...  1.28969834e-02\n",
      "  -1.35293880e-02 -8.58532677e-03]\n",
      " [-4.04432532e-01 -4.95969774e-01  3.25616691e-01 ... -2.87297738e-03\n",
      "  -1.28340974e-02 -2.35568611e-03]\n",
      " [-5.98791121e-01 -3.93344838e-01  2.54652564e-01 ...  4.67100301e-02\n",
      "  -6.40348883e-02  3.70911195e-03]\n",
      " ...\n",
      " [ 9.40343114e-01 -5.32315414e-01  7.72843511e-01 ...  6.46285396e-02\n",
      "  -8.25109101e-02  1.31821977e-02]\n",
      " [-4.26080787e-01 -4.56288682e-01  3.32368631e-01 ...  3.55400661e-02\n",
      "  -5.32340884e-02 -8.07770752e-03]\n",
      " [-4.13296947e-01 -5.08227778e-01  3.09248559e-01 ... -8.04603274e-03\n",
      "   7.92448625e-06 -6.59330423e-03]]\n"
     ]
    }
   ],
   "source": [
    "compressed_dataset_X_train= pcaTrain.transform(X_train) # --transform-- the original \"dataset\" Dataframe into a lower-dimensional space based on the model's learned parameters\n",
    "print(type(compressed_dataset_X_train))\n",
    "print(len(compressed_dataset_X_train))\n",
    "print(compressed_dataset_X_train)\n",
    "\n",
    "compressed_dataset_X_test= pcaTrain.transform(X_test) # --transform-- the original \"dataset\" Dataframe into a lower-dimensional space based on the model's learned parameters\n",
    "print(type(compressed_dataset_X_test))\n",
    "print(len(compressed_dataset_X_test))\n",
    "print(compressed_dataset_X_test)"
   ]
  },
  {
   "cell_type": "markdown",
   "metadata": {},
   "source": [
    "# Tune D tree for Ada-boost"
   ]
  },
  {
   "cell_type": "code",
   "execution_count": 8,
   "metadata": {},
   "outputs": [
    {
     "data": {
      "text/html": [
       "<style>#sk-container-id-1 {\n",
       "  /* Definition of color scheme common for light and dark mode */\n",
       "  --sklearn-color-text: black;\n",
       "  --sklearn-color-line: gray;\n",
       "  /* Definition of color scheme for unfitted estimators */\n",
       "  --sklearn-color-unfitted-level-0: #fff5e6;\n",
       "  --sklearn-color-unfitted-level-1: #f6e4d2;\n",
       "  --sklearn-color-unfitted-level-2: #ffe0b3;\n",
       "  --sklearn-color-unfitted-level-3: chocolate;\n",
       "  /* Definition of color scheme for fitted estimators */\n",
       "  --sklearn-color-fitted-level-0: #f0f8ff;\n",
       "  --sklearn-color-fitted-level-1: #d4ebff;\n",
       "  --sklearn-color-fitted-level-2: #b3dbfd;\n",
       "  --sklearn-color-fitted-level-3: cornflowerblue;\n",
       "\n",
       "  /* Specific color for light theme */\n",
       "  --sklearn-color-text-on-default-background: var(--sg-text-color, var(--theme-code-foreground, var(--jp-content-font-color1, black)));\n",
       "  --sklearn-color-background: var(--sg-background-color, var(--theme-background, var(--jp-layout-color0, white)));\n",
       "  --sklearn-color-border-box: var(--sg-text-color, var(--theme-code-foreground, var(--jp-content-font-color1, black)));\n",
       "  --sklearn-color-icon: #696969;\n",
       "\n",
       "  @media (prefers-color-scheme: dark) {\n",
       "    /* Redefinition of color scheme for dark theme */\n",
       "    --sklearn-color-text-on-default-background: var(--sg-text-color, var(--theme-code-foreground, var(--jp-content-font-color1, white)));\n",
       "    --sklearn-color-background: var(--sg-background-color, var(--theme-background, var(--jp-layout-color0, #111)));\n",
       "    --sklearn-color-border-box: var(--sg-text-color, var(--theme-code-foreground, var(--jp-content-font-color1, white)));\n",
       "    --sklearn-color-icon: #878787;\n",
       "  }\n",
       "}\n",
       "\n",
       "#sk-container-id-1 {\n",
       "  color: var(--sklearn-color-text);\n",
       "}\n",
       "\n",
       "#sk-container-id-1 pre {\n",
       "  padding: 0;\n",
       "}\n",
       "\n",
       "#sk-container-id-1 input.sk-hidden--visually {\n",
       "  border: 0;\n",
       "  clip: rect(1px 1px 1px 1px);\n",
       "  clip: rect(1px, 1px, 1px, 1px);\n",
       "  height: 1px;\n",
       "  margin: -1px;\n",
       "  overflow: hidden;\n",
       "  padding: 0;\n",
       "  position: absolute;\n",
       "  width: 1px;\n",
       "}\n",
       "\n",
       "#sk-container-id-1 div.sk-dashed-wrapped {\n",
       "  border: 1px dashed var(--sklearn-color-line);\n",
       "  margin: 0 0.4em 0.5em 0.4em;\n",
       "  box-sizing: border-box;\n",
       "  padding-bottom: 0.4em;\n",
       "  background-color: var(--sklearn-color-background);\n",
       "}\n",
       "\n",
       "#sk-container-id-1 div.sk-container {\n",
       "  /* jupyter's `normalize.less` sets `[hidden] { display: none; }`\n",
       "     but bootstrap.min.css set `[hidden] { display: none !important; }`\n",
       "     so we also need the `!important` here to be able to override the\n",
       "     default hidden behavior on the sphinx rendered scikit-learn.org.\n",
       "     See: https://github.com/scikit-learn/scikit-learn/issues/21755 */\n",
       "  display: inline-block !important;\n",
       "  position: relative;\n",
       "}\n",
       "\n",
       "#sk-container-id-1 div.sk-text-repr-fallback {\n",
       "  display: none;\n",
       "}\n",
       "\n",
       "div.sk-parallel-item,\n",
       "div.sk-serial,\n",
       "div.sk-item {\n",
       "  /* draw centered vertical line to link estimators */\n",
       "  background-image: linear-gradient(var(--sklearn-color-text-on-default-background), var(--sklearn-color-text-on-default-background));\n",
       "  background-size: 2px 100%;\n",
       "  background-repeat: no-repeat;\n",
       "  background-position: center center;\n",
       "}\n",
       "\n",
       "/* Parallel-specific style estimator block */\n",
       "\n",
       "#sk-container-id-1 div.sk-parallel-item::after {\n",
       "  content: \"\";\n",
       "  width: 100%;\n",
       "  border-bottom: 2px solid var(--sklearn-color-text-on-default-background);\n",
       "  flex-grow: 1;\n",
       "}\n",
       "\n",
       "#sk-container-id-1 div.sk-parallel {\n",
       "  display: flex;\n",
       "  align-items: stretch;\n",
       "  justify-content: center;\n",
       "  background-color: var(--sklearn-color-background);\n",
       "  position: relative;\n",
       "}\n",
       "\n",
       "#sk-container-id-1 div.sk-parallel-item {\n",
       "  display: flex;\n",
       "  flex-direction: column;\n",
       "}\n",
       "\n",
       "#sk-container-id-1 div.sk-parallel-item:first-child::after {\n",
       "  align-self: flex-end;\n",
       "  width: 50%;\n",
       "}\n",
       "\n",
       "#sk-container-id-1 div.sk-parallel-item:last-child::after {\n",
       "  align-self: flex-start;\n",
       "  width: 50%;\n",
       "}\n",
       "\n",
       "#sk-container-id-1 div.sk-parallel-item:only-child::after {\n",
       "  width: 0;\n",
       "}\n",
       "\n",
       "/* Serial-specific style estimator block */\n",
       "\n",
       "#sk-container-id-1 div.sk-serial {\n",
       "  display: flex;\n",
       "  flex-direction: column;\n",
       "  align-items: center;\n",
       "  background-color: var(--sklearn-color-background);\n",
       "  padding-right: 1em;\n",
       "  padding-left: 1em;\n",
       "}\n",
       "\n",
       "\n",
       "/* Toggleable style: style used for estimator/Pipeline/ColumnTransformer box that is\n",
       "clickable and can be expanded/collapsed.\n",
       "- Pipeline and ColumnTransformer use this feature and define the default style\n",
       "- Estimators will overwrite some part of the style using the `sk-estimator` class\n",
       "*/\n",
       "\n",
       "/* Pipeline and ColumnTransformer style (default) */\n",
       "\n",
       "#sk-container-id-1 div.sk-toggleable {\n",
       "  /* Default theme specific background. It is overwritten whether we have a\n",
       "  specific estimator or a Pipeline/ColumnTransformer */\n",
       "  background-color: var(--sklearn-color-background);\n",
       "}\n",
       "\n",
       "/* Toggleable label */\n",
       "#sk-container-id-1 label.sk-toggleable__label {\n",
       "  cursor: pointer;\n",
       "  display: block;\n",
       "  width: 100%;\n",
       "  margin-bottom: 0;\n",
       "  padding: 0.5em;\n",
       "  box-sizing: border-box;\n",
       "  text-align: center;\n",
       "}\n",
       "\n",
       "#sk-container-id-1 label.sk-toggleable__label-arrow:before {\n",
       "  /* Arrow on the left of the label */\n",
       "  content: \"▸\";\n",
       "  float: left;\n",
       "  margin-right: 0.25em;\n",
       "  color: var(--sklearn-color-icon);\n",
       "}\n",
       "\n",
       "#sk-container-id-1 label.sk-toggleable__label-arrow:hover:before {\n",
       "  color: var(--sklearn-color-text);\n",
       "}\n",
       "\n",
       "/* Toggleable content - dropdown */\n",
       "\n",
       "#sk-container-id-1 div.sk-toggleable__content {\n",
       "  max-height: 0;\n",
       "  max-width: 0;\n",
       "  overflow: hidden;\n",
       "  text-align: left;\n",
       "  /* unfitted */\n",
       "  background-color: var(--sklearn-color-unfitted-level-0);\n",
       "}\n",
       "\n",
       "#sk-container-id-1 div.sk-toggleable__content.fitted {\n",
       "  /* fitted */\n",
       "  background-color: var(--sklearn-color-fitted-level-0);\n",
       "}\n",
       "\n",
       "#sk-container-id-1 div.sk-toggleable__content pre {\n",
       "  margin: 0.2em;\n",
       "  border-radius: 0.25em;\n",
       "  color: var(--sklearn-color-text);\n",
       "  /* unfitted */\n",
       "  background-color: var(--sklearn-color-unfitted-level-0);\n",
       "}\n",
       "\n",
       "#sk-container-id-1 div.sk-toggleable__content.fitted pre {\n",
       "  /* unfitted */\n",
       "  background-color: var(--sklearn-color-fitted-level-0);\n",
       "}\n",
       "\n",
       "#sk-container-id-1 input.sk-toggleable__control:checked~div.sk-toggleable__content {\n",
       "  /* Expand drop-down */\n",
       "  max-height: 200px;\n",
       "  max-width: 100%;\n",
       "  overflow: auto;\n",
       "}\n",
       "\n",
       "#sk-container-id-1 input.sk-toggleable__control:checked~label.sk-toggleable__label-arrow:before {\n",
       "  content: \"▾\";\n",
       "}\n",
       "\n",
       "/* Pipeline/ColumnTransformer-specific style */\n",
       "\n",
       "#sk-container-id-1 div.sk-label input.sk-toggleable__control:checked~label.sk-toggleable__label {\n",
       "  color: var(--sklearn-color-text);\n",
       "  background-color: var(--sklearn-color-unfitted-level-2);\n",
       "}\n",
       "\n",
       "#sk-container-id-1 div.sk-label.fitted input.sk-toggleable__control:checked~label.sk-toggleable__label {\n",
       "  background-color: var(--sklearn-color-fitted-level-2);\n",
       "}\n",
       "\n",
       "/* Estimator-specific style */\n",
       "\n",
       "/* Colorize estimator box */\n",
       "#sk-container-id-1 div.sk-estimator input.sk-toggleable__control:checked~label.sk-toggleable__label {\n",
       "  /* unfitted */\n",
       "  background-color: var(--sklearn-color-unfitted-level-2);\n",
       "}\n",
       "\n",
       "#sk-container-id-1 div.sk-estimator.fitted input.sk-toggleable__control:checked~label.sk-toggleable__label {\n",
       "  /* fitted */\n",
       "  background-color: var(--sklearn-color-fitted-level-2);\n",
       "}\n",
       "\n",
       "#sk-container-id-1 div.sk-label label.sk-toggleable__label,\n",
       "#sk-container-id-1 div.sk-label label {\n",
       "  /* The background is the default theme color */\n",
       "  color: var(--sklearn-color-text-on-default-background);\n",
       "}\n",
       "\n",
       "/* On hover, darken the color of the background */\n",
       "#sk-container-id-1 div.sk-label:hover label.sk-toggleable__label {\n",
       "  color: var(--sklearn-color-text);\n",
       "  background-color: var(--sklearn-color-unfitted-level-2);\n",
       "}\n",
       "\n",
       "/* Label box, darken color on hover, fitted */\n",
       "#sk-container-id-1 div.sk-label.fitted:hover label.sk-toggleable__label.fitted {\n",
       "  color: var(--sklearn-color-text);\n",
       "  background-color: var(--sklearn-color-fitted-level-2);\n",
       "}\n",
       "\n",
       "/* Estimator label */\n",
       "\n",
       "#sk-container-id-1 div.sk-label label {\n",
       "  font-family: monospace;\n",
       "  font-weight: bold;\n",
       "  display: inline-block;\n",
       "  line-height: 1.2em;\n",
       "}\n",
       "\n",
       "#sk-container-id-1 div.sk-label-container {\n",
       "  text-align: center;\n",
       "}\n",
       "\n",
       "/* Estimator-specific */\n",
       "#sk-container-id-1 div.sk-estimator {\n",
       "  font-family: monospace;\n",
       "  border: 1px dotted var(--sklearn-color-border-box);\n",
       "  border-radius: 0.25em;\n",
       "  box-sizing: border-box;\n",
       "  margin-bottom: 0.5em;\n",
       "  /* unfitted */\n",
       "  background-color: var(--sklearn-color-unfitted-level-0);\n",
       "}\n",
       "\n",
       "#sk-container-id-1 div.sk-estimator.fitted {\n",
       "  /* fitted */\n",
       "  background-color: var(--sklearn-color-fitted-level-0);\n",
       "}\n",
       "\n",
       "/* on hover */\n",
       "#sk-container-id-1 div.sk-estimator:hover {\n",
       "  /* unfitted */\n",
       "  background-color: var(--sklearn-color-unfitted-level-2);\n",
       "}\n",
       "\n",
       "#sk-container-id-1 div.sk-estimator.fitted:hover {\n",
       "  /* fitted */\n",
       "  background-color: var(--sklearn-color-fitted-level-2);\n",
       "}\n",
       "\n",
       "/* Specification for estimator info (e.g. \"i\" and \"?\") */\n",
       "\n",
       "/* Common style for \"i\" and \"?\" */\n",
       "\n",
       ".sk-estimator-doc-link,\n",
       "a:link.sk-estimator-doc-link,\n",
       "a:visited.sk-estimator-doc-link {\n",
       "  float: right;\n",
       "  font-size: smaller;\n",
       "  line-height: 1em;\n",
       "  font-family: monospace;\n",
       "  background-color: var(--sklearn-color-background);\n",
       "  border-radius: 1em;\n",
       "  height: 1em;\n",
       "  width: 1em;\n",
       "  text-decoration: none !important;\n",
       "  margin-left: 1ex;\n",
       "  /* unfitted */\n",
       "  border: var(--sklearn-color-unfitted-level-1) 1pt solid;\n",
       "  color: var(--sklearn-color-unfitted-level-1);\n",
       "}\n",
       "\n",
       ".sk-estimator-doc-link.fitted,\n",
       "a:link.sk-estimator-doc-link.fitted,\n",
       "a:visited.sk-estimator-doc-link.fitted {\n",
       "  /* fitted */\n",
       "  border: var(--sklearn-color-fitted-level-1) 1pt solid;\n",
       "  color: var(--sklearn-color-fitted-level-1);\n",
       "}\n",
       "\n",
       "/* On hover */\n",
       "div.sk-estimator:hover .sk-estimator-doc-link:hover,\n",
       ".sk-estimator-doc-link:hover,\n",
       "div.sk-label-container:hover .sk-estimator-doc-link:hover,\n",
       ".sk-estimator-doc-link:hover {\n",
       "  /* unfitted */\n",
       "  background-color: var(--sklearn-color-unfitted-level-3);\n",
       "  color: var(--sklearn-color-background);\n",
       "  text-decoration: none;\n",
       "}\n",
       "\n",
       "div.sk-estimator.fitted:hover .sk-estimator-doc-link.fitted:hover,\n",
       ".sk-estimator-doc-link.fitted:hover,\n",
       "div.sk-label-container:hover .sk-estimator-doc-link.fitted:hover,\n",
       ".sk-estimator-doc-link.fitted:hover {\n",
       "  /* fitted */\n",
       "  background-color: var(--sklearn-color-fitted-level-3);\n",
       "  color: var(--sklearn-color-background);\n",
       "  text-decoration: none;\n",
       "}\n",
       "\n",
       "/* Span, style for the box shown on hovering the info icon */\n",
       ".sk-estimator-doc-link span {\n",
       "  display: none;\n",
       "  z-index: 9999;\n",
       "  position: relative;\n",
       "  font-weight: normal;\n",
       "  right: .2ex;\n",
       "  padding: .5ex;\n",
       "  margin: .5ex;\n",
       "  width: min-content;\n",
       "  min-width: 20ex;\n",
       "  max-width: 50ex;\n",
       "  color: var(--sklearn-color-text);\n",
       "  box-shadow: 2pt 2pt 4pt #999;\n",
       "  /* unfitted */\n",
       "  background: var(--sklearn-color-unfitted-level-0);\n",
       "  border: .5pt solid var(--sklearn-color-unfitted-level-3);\n",
       "}\n",
       "\n",
       ".sk-estimator-doc-link.fitted span {\n",
       "  /* fitted */\n",
       "  background: var(--sklearn-color-fitted-level-0);\n",
       "  border: var(--sklearn-color-fitted-level-3);\n",
       "}\n",
       "\n",
       ".sk-estimator-doc-link:hover span {\n",
       "  display: block;\n",
       "}\n",
       "\n",
       "/* \"?\"-specific style due to the `<a>` HTML tag */\n",
       "\n",
       "#sk-container-id-1 a.estimator_doc_link {\n",
       "  float: right;\n",
       "  font-size: 1rem;\n",
       "  line-height: 1em;\n",
       "  font-family: monospace;\n",
       "  background-color: var(--sklearn-color-background);\n",
       "  border-radius: 1rem;\n",
       "  height: 1rem;\n",
       "  width: 1rem;\n",
       "  text-decoration: none;\n",
       "  /* unfitted */\n",
       "  color: var(--sklearn-color-unfitted-level-1);\n",
       "  border: var(--sklearn-color-unfitted-level-1) 1pt solid;\n",
       "}\n",
       "\n",
       "#sk-container-id-1 a.estimator_doc_link.fitted {\n",
       "  /* fitted */\n",
       "  border: var(--sklearn-color-fitted-level-1) 1pt solid;\n",
       "  color: var(--sklearn-color-fitted-level-1);\n",
       "}\n",
       "\n",
       "/* On hover */\n",
       "#sk-container-id-1 a.estimator_doc_link:hover {\n",
       "  /* unfitted */\n",
       "  background-color: var(--sklearn-color-unfitted-level-3);\n",
       "  color: var(--sklearn-color-background);\n",
       "  text-decoration: none;\n",
       "}\n",
       "\n",
       "#sk-container-id-1 a.estimator_doc_link.fitted:hover {\n",
       "  /* fitted */\n",
       "  background-color: var(--sklearn-color-fitted-level-3);\n",
       "}\n",
       "</style><div id=\"sk-container-id-1\" class=\"sk-top-container\"><div class=\"sk-text-repr-fallback\"><pre>DecisionTreeClassifier(max_depth=12, max_features=&#x27;sqrt&#x27;)</pre><b>In a Jupyter environment, please rerun this cell to show the HTML representation or trust the notebook. <br />On GitHub, the HTML representation is unable to render, please try loading this page with nbviewer.org.</b></div><div class=\"sk-container\" hidden><div class=\"sk-item\"><div class=\"sk-estimator fitted sk-toggleable\"><input class=\"sk-toggleable__control sk-hidden--visually\" id=\"sk-estimator-id-1\" type=\"checkbox\" checked><label for=\"sk-estimator-id-1\" class=\"sk-toggleable__label fitted sk-toggleable__label-arrow fitted\">&nbsp;&nbsp;DecisionTreeClassifier<a class=\"sk-estimator-doc-link fitted\" rel=\"noreferrer\" target=\"_blank\" href=\"https://scikit-learn.org/1.4/modules/generated/sklearn.tree.DecisionTreeClassifier.html\">?<span>Documentation for DecisionTreeClassifier</span></a><span class=\"sk-estimator-doc-link fitted\">i<span>Fitted</span></span></label><div class=\"sk-toggleable__content fitted\"><pre>DecisionTreeClassifier(max_depth=12, max_features=&#x27;sqrt&#x27;)</pre></div> </div></div></div></div>"
      ],
      "text/plain": [
       "DecisionTreeClassifier(max_depth=12, max_features='sqrt')"
      ]
     },
     "execution_count": 8,
     "metadata": {},
     "output_type": "execute_result"
    }
   ],
   "source": [
    "from sklearn.tree import DecisionTreeClassifier\n",
    "params_dt = {'max_depth': 12,    \n",
    "             'max_features': \"sqrt\"}\n",
    "\n",
    "model_dt = DecisionTreeClassifier(**params_dt)\n",
    "\n",
    "model_dt.fit(compressed_dataset_X_train, y_train)"
   ]
  },
  {
   "cell_type": "code",
   "execution_count": 9,
   "metadata": {},
   "outputs": [
    {
     "data": {
      "text/plain": [
       "0.7062029587334544"
      ]
     },
     "execution_count": 9,
     "metadata": {},
     "output_type": "execute_result"
    }
   ],
   "source": [
    "# Finding mean absolute error\n",
    "preds = model_dt.predict(compressed_dataset_X_test)\n",
    "preds = preds.astype(int)\n",
    "mae = np.abs(y_test-preds).mean()\n",
    "mae"
   ]
  },
  {
   "cell_type": "code",
   "execution_count": 10,
   "metadata": {},
   "outputs": [],
   "source": [
    "# Defining the best parameter with optuna\n",
    "from sklearn.model_selection import StratifiedKFold\n",
    "from sklearn.metrics import mean_absolute_error\n",
    "K = 5 # stratified 5 fold cross validation, The folds are made by preserving the percentage of samples for each class.\n",
    "skf = StratifiedKFold(n_splits = K, random_state = 42, shuffle = True)\n",
    "\n",
    "\n",
    "train_tunned_dt = np.array(compressed_dataset_X)\n",
    "target_train_tunned_dt = np.array(y)\n",
    "\n",
    "# test = np.array(X)\n",
    "# target_train = df_train['congestion'].values\n",
    "\n",
    "# test_preds = np.zeros((len(test)))\n",
    "oof_preds_dt = np.zeros((len(train_tunned_dt)))\n",
    "abs_error_arr_dt=[]\n",
    "def objective(trial):\n",
    "\n",
    " for train_index, val_index in (skf.split(compressed_dataset_X,y)):\n",
    "    train_X, valid_X = train_tunned_dt[train_index], train_tunned_dt[val_index]\n",
    "    train_Y, valid_Y = target_train_tunned_dt[train_index], target_train_tunned_dt[val_index]\n",
    "    \n",
    "        \n",
    "        # train_x, test_x, train_y, test_y = train_test_split(data, target, test_size=0.25,random_state=0)\n",
    "    param = {\n",
    "        'criterion':trial.suggest_categorical('criterion',[\"gini\", \"entropy\", \"log_loss\"]), #The function to measure the quality of a split.\n",
    "        'splitter':trial.suggest_categorical('splitter',[\"best\", \"random\"]),\n",
    "        'max_features':trial.suggest_categorical('max_features',['sqrt','log2',1,2,3,4,5,6,7,8,9,10,11]), #a categorical value can be an integer\n",
    "        'random_state':trial.suggest_int('random_state',0,5),\n",
    "\n",
    "\n",
    "        }\n",
    "    model = DecisionTreeClassifier(**param)  \n",
    "        \n",
    "    model.fit(train_X,train_Y)\n",
    "        \n",
    "    preds = model.predict(valid_X)\n",
    "    oof_preds_dt[val_index] = preds # preds gives total 3846 predicted value for valid_X\n",
    "\n",
    "\n",
    " \n",
    "#  print(len(oof_preds_dt))\n",
    "      \n",
    " mae = mean_absolute_error(target_train_tunned_dt, oof_preds_dt)\n",
    "        \n",
    " return mae"
   ]
  },
  {
   "cell_type": "code",
   "execution_count": 11,
   "metadata": {},
   "outputs": [
    {
     "name": "stderr",
     "output_type": "stream",
     "text": [
      "[I 2024-02-19 00:30:56,580] A new study created in memory with name: no-name-5c823f88-f0e5-4ffc-848e-91ea6fb7599a\n"
     ]
    }
   ],
   "source": [
    "# this is the main optuna for optimizing a object-->\"objective\"\n",
    "study = optuna.create_study(direction='minimize')"
   ]
  },
  {
   "cell_type": "code",
   "execution_count": 12,
   "metadata": {},
   "outputs": [
    {
     "name": "stderr",
     "output_type": "stream",
     "text": [
      "[I 2024-02-19 00:30:56,989] Trial 0 finished with value: 0.6298819491393208 and parameters: {'criterion': 'gini', 'splitter': 'random', 'max_features': 6, 'random_state': 0}. Best is trial 0 with value: 0.6298819491393208.\n"
     ]
    },
    {
     "name": "stderr",
     "output_type": "stream",
     "text": [
      "[I 2024-02-19 00:30:57,302] Trial 1 finished with value: 0.6163087004004368 and parameters: {'criterion': 'gini', 'splitter': 'random', 'max_features': 8, 'random_state': 2}. Best is trial 1 with value: 0.6163087004004368.\n",
      "[I 2024-02-19 00:30:59,546] Trial 2 finished with value: 0.5899942794737116 and parameters: {'criterion': 'gini', 'splitter': 'best', 'max_features': 9, 'random_state': 1}. Best is trial 2 with value: 0.5899942794737116.\n",
      "[I 2024-02-19 00:31:01,351] Trial 3 finished with value: 0.6334182744812523 and parameters: {'criterion': 'log_loss', 'splitter': 'best', 'max_features': 3, 'random_state': 0}. Best is trial 2 with value: 0.5899942794737116.\n",
      "[I 2024-02-19 00:31:03,448] Trial 4 finished with value: 0.6034635186437152 and parameters: {'criterion': 'entropy', 'splitter': 'best', 'max_features': 5, 'random_state': 0}. Best is trial 2 with value: 0.5899942794737116.\n",
      "[I 2024-02-19 00:31:03,693] Trial 5 finished with value: 0.6084559779499714 and parameters: {'criterion': 'gini', 'splitter': 'random', 'max_features': 9, 'random_state': 1}. Best is trial 2 with value: 0.5899942794737116.\n",
      "[I 2024-02-19 00:31:06,651] Trial 6 finished with value: 0.5657080451401529 and parameters: {'criterion': 'entropy', 'splitter': 'best', 'max_features': 8, 'random_state': 4}. Best is trial 6 with value: 0.5657080451401529.\n",
      "[I 2024-02-19 00:31:09,437] Trial 7 finished with value: 0.5853138488740964 and parameters: {'criterion': 'gini', 'splitter': 'best', 'max_features': 10, 'random_state': 1}. Best is trial 6 with value: 0.5657080451401529.\n",
      "[I 2024-02-19 00:31:10,444] Trial 8 finished with value: 0.6616568724322638 and parameters: {'criterion': 'log_loss', 'splitter': 'best', 'max_features': 2, 'random_state': 3}. Best is trial 6 with value: 0.5657080451401529.\n",
      "[I 2024-02-19 00:31:12,946] Trial 9 finished with value: 0.5859379062873784 and parameters: {'criterion': 'gini', 'splitter': 'best', 'max_features': 9, 'random_state': 2}. Best is trial 6 with value: 0.5657080451401529.\n",
      "[I 2024-02-19 00:31:13,212] Trial 10 finished with value: 0.5980550210619378 and parameters: {'criterion': 'entropy', 'splitter': 'random', 'max_features': 8, 'random_state': 5}. Best is trial 6 with value: 0.5657080451401529.\n",
      "[I 2024-02-19 00:31:17,427] Trial 11 finished with value: 0.5755889541837849 and parameters: {'criterion': 'entropy', 'splitter': 'best', 'max_features': 10, 'random_state': 4}. Best is trial 6 with value: 0.5657080451401529.\n",
      "[I 2024-02-19 00:31:18,043] Trial 12 finished with value: 0.7615580633418274 and parameters: {'criterion': 'entropy', 'splitter': 'best', 'max_features': 1, 'random_state': 4}. Best is trial 6 with value: 0.5657080451401529.\n",
      "[I 2024-02-19 00:31:22,360] Trial 13 finished with value: 0.5864059493473399 and parameters: {'criterion': 'entropy', 'splitter': 'best', 'max_features': 10, 'random_state': 5}. Best is trial 6 with value: 0.5657080451401529.\n",
      "[I 2024-02-19 00:31:24,646] Trial 14 finished with value: 0.597222944510895 and parameters: {'criterion': 'entropy', 'splitter': 'best', 'max_features': 'log2', 'random_state': 4}. Best is trial 6 with value: 0.5657080451401529.\n",
      "[I 2024-02-19 00:31:26,347] Trial 15 finished with value: 0.6207811118622913 and parameters: {'criterion': 'entropy', 'splitter': 'best', 'max_features': 4, 'random_state': 4}. Best is trial 6 with value: 0.5657080451401529.\n",
      "[I 2024-02-19 00:31:31,569] Trial 16 finished with value: 0.5840657340475324 and parameters: {'criterion': 'entropy', 'splitter': 'best', 'max_features': 11, 'random_state': 3}. Best is trial 6 with value: 0.5657080451401529.\n",
      "[I 2024-02-19 00:31:34,407] Trial 17 finished with value: 0.5970669301575745 and parameters: {'criterion': 'entropy', 'splitter': 'best', 'max_features': 'sqrt', 'random_state': 5}. Best is trial 6 with value: 0.5657080451401529.\n",
      "[I 2024-02-19 00:31:34,733] Trial 18 finished with value: 0.5938946383067242 and parameters: {'criterion': 'log_loss', 'splitter': 'random', 'max_features': 10, 'random_state': 4}. Best is trial 6 with value: 0.5657080451401529.\n",
      "[I 2024-02-19 00:31:37,667] Trial 19 finished with value: 0.5912943990847158 and parameters: {'criterion': 'entropy', 'splitter': 'best', 'max_features': 7, 'random_state': 3}. Best is trial 6 with value: 0.5657080451401529.\n",
      "[I 2024-02-19 00:31:41,576] Trial 20 finished with value: 0.5657080451401529 and parameters: {'criterion': 'entropy', 'splitter': 'best', 'max_features': 8, 'random_state': 4}. Best is trial 6 with value: 0.5657080451401529.\n",
      "[I 2024-02-19 00:31:45,047] Trial 21 finished with value: 0.5657080451401529 and parameters: {'criterion': 'entropy', 'splitter': 'best', 'max_features': 8, 'random_state': 4}. Best is trial 6 with value: 0.5657080451401529.\n",
      "[I 2024-02-19 00:31:48,775] Trial 22 finished with value: 0.5923864995579593 and parameters: {'criterion': 'entropy', 'splitter': 'best', 'max_features': 8, 'random_state': 5}. Best is trial 6 with value: 0.5657080451401529.\n",
      "[I 2024-02-19 00:31:52,680] Trial 23 finished with value: 0.5801653752145197 and parameters: {'criterion': 'entropy', 'splitter': 'best', 'max_features': 8, 'random_state': 3}. Best is trial 6 with value: 0.5657080451401529.\n",
      "[I 2024-02-19 00:31:56,085] Trial 24 finished with value: 0.5657080451401529 and parameters: {'criterion': 'entropy', 'splitter': 'best', 'max_features': 8, 'random_state': 4}. Best is trial 6 with value: 0.5657080451401529.\n",
      "[I 2024-02-19 00:31:59,816] Trial 25 finished with value: 0.5923864995579593 and parameters: {'criterion': 'log_loss', 'splitter': 'best', 'max_features': 8, 'random_state': 5}. Best is trial 6 with value: 0.5657080451401529.\n",
      "[I 2024-02-19 00:32:00,123] Trial 26 finished with value: 0.6003952363617453 and parameters: {'criterion': 'entropy', 'splitter': 'random', 'max_features': 8, 'random_state': 3}. Best is trial 6 with value: 0.5657080451401529.\n",
      "[I 2024-02-19 00:32:02,632] Trial 27 finished with value: 0.5903063081803526 and parameters: {'criterion': 'entropy', 'splitter': 'best', 'max_features': 'sqrt', 'random_state': 4}. Best is trial 6 with value: 0.5657080451401529.\n",
      "[I 2024-02-19 00:32:04,488] Trial 28 finished with value: 0.6361745280565813 and parameters: {'criterion': 'entropy', 'splitter': 'best', 'max_features': 3, 'random_state': 2}. Best is trial 6 with value: 0.5657080451401529.\n",
      "[I 2024-02-19 00:32:04,756] Trial 29 finished with value: 0.6201570544490093 and parameters: {'criterion': 'log_loss', 'splitter': 'random', 'max_features': 6, 'random_state': 4}. Best is trial 6 with value: 0.5657080451401529.\n",
      "[I 2024-02-19 00:32:08,106] Trial 30 finished with value: 0.5912943990847158 and parameters: {'criterion': 'entropy', 'splitter': 'best', 'max_features': 7, 'random_state': 3}. Best is trial 6 with value: 0.5657080451401529.\n",
      "[I 2024-02-19 00:32:11,556] Trial 31 finished with value: 0.5657080451401529 and parameters: {'criterion': 'entropy', 'splitter': 'best', 'max_features': 8, 'random_state': 4}. Best is trial 6 with value: 0.5657080451401529.\n",
      "[I 2024-02-19 00:32:15,303] Trial 32 finished with value: 0.5923864995579593 and parameters: {'criterion': 'entropy', 'splitter': 'best', 'max_features': 8, 'random_state': 5}. Best is trial 6 with value: 0.5657080451401529.\n",
      "[I 2024-02-19 00:32:18,656] Trial 33 finished with value: 0.5657080451401529 and parameters: {'criterion': 'entropy', 'splitter': 'best', 'max_features': 8, 'random_state': 4}. Best is trial 6 with value: 0.5657080451401529.\n",
      "[I 2024-02-19 00:32:21,678] Trial 34 finished with value: 0.5657080451401529 and parameters: {'criterion': 'entropy', 'splitter': 'best', 'max_features': 8, 'random_state': 4}. Best is trial 6 with value: 0.5657080451401529.\n",
      "[I 2024-02-19 00:32:23,318] Trial 35 finished with value: 0.6217171979822144 and parameters: {'criterion': 'gini', 'splitter': 'best', 'max_features': 5, 'random_state': 3}. Best is trial 6 with value: 0.5657080451401529.\n",
      "[I 2024-02-19 00:32:23,535] Trial 36 finished with value: 0.6596806906235374 and parameters: {'criterion': 'entropy', 'splitter': 'random', 'max_features': 4, 'random_state': 5}. Best is trial 6 with value: 0.5657080451401529.\n",
      "[I 2024-02-19 00:32:24,869] Trial 37 finished with value: 0.6229133080243382 and parameters: {'criterion': 'gini', 'splitter': 'best', 'max_features': 'log2', 'random_state': 2}. Best is trial 6 with value: 0.5657080451401529.\n",
      "[I 2024-02-19 00:32:26,134] Trial 38 finished with value: 0.6516199490353113 and parameters: {'criterion': 'entropy', 'splitter': 'best', 'max_features': 2, 'random_state': 4}. Best is trial 6 with value: 0.5657080451401529.\n",
      "[I 2024-02-19 00:32:30,860] Trial 39 finished with value: 0.5840657340475324 and parameters: {'criterion': 'log_loss', 'splitter': 'best', 'max_features': 11, 'random_state': 3}. Best is trial 6 with value: 0.5657080451401529.\n",
      "[I 2024-02-19 00:32:31,017] Trial 40 finished with value: 0.7501690155494305 and parameters: {'criterion': 'gini', 'splitter': 'random', 'max_features': 1, 'random_state': 5}. Best is trial 6 with value: 0.5657080451401529.\n",
      "[I 2024-02-19 00:32:34,095] Trial 41 finished with value: 0.5657080451401529 and parameters: {'criterion': 'entropy', 'splitter': 'best', 'max_features': 8, 'random_state': 4}. Best is trial 6 with value: 0.5657080451401529.\n",
      "[I 2024-02-19 00:32:37,426] Trial 42 finished with value: 0.5657080451401529 and parameters: {'criterion': 'entropy', 'splitter': 'best', 'max_features': 8, 'random_state': 4}. Best is trial 6 with value: 0.5657080451401529.\n",
      "[I 2024-02-19 00:32:40,433] Trial 43 finished with value: 0.5657080451401529 and parameters: {'criterion': 'entropy', 'splitter': 'best', 'max_features': 8, 'random_state': 4}. Best is trial 6 with value: 0.5657080451401529.\n",
      "[I 2024-02-19 00:32:43,475] Trial 44 finished with value: 0.5993551406729419 and parameters: {'criterion': 'entropy', 'splitter': 'best', 'max_features': 6, 'random_state': 3}. Best is trial 6 with value: 0.5657080451401529.\n",
      "[I 2024-02-19 00:32:47,116] Trial 45 finished with value: 0.6102241406209371 and parameters: {'criterion': 'entropy', 'splitter': 'best', 'max_features': 8, 'random_state': 0}. Best is trial 6 with value: 0.5657080451401529.\n",
      "[I 2024-02-19 00:32:50,952] Trial 46 finished with value: 0.5863539445628998 and parameters: {'criterion': 'entropy', 'splitter': 'best', 'max_features': 9, 'random_state': 4}. Best is trial 6 with value: 0.5657080451401529.\n",
      "[I 2024-02-19 00:32:52,565] Trial 47 finished with value: 0.6524000208019137 and parameters: {'criterion': 'entropy', 'splitter': 'best', 'max_features': 3, 'random_state': 5}. Best is trial 6 with value: 0.5657080451401529.\n",
      "[I 2024-02-19 00:32:54,131] Trial 48 finished with value: 0.6154246190649539 and parameters: {'criterion': 'gini', 'splitter': 'best', 'max_features': 5, 'random_state': 4}. Best is trial 6 with value: 0.5657080451401529.\n",
      "[I 2024-02-19 00:32:57,798] Trial 49 finished with value: 0.5797493369389984 and parameters: {'criterion': 'entropy', 'splitter': 'best', 'max_features': 8, 'random_state': 1}. Best is trial 6 with value: 0.5657080451401529.\n",
      "[I 2024-02-19 00:32:57,985] Trial 50 finished with value: 0.7060169535597275 and parameters: {'criterion': 'log_loss', 'splitter': 'random', 'max_features': 2, 'random_state': 3}. Best is trial 6 with value: 0.5657080451401529.\n",
      "[I 2024-02-19 00:33:01,082] Trial 51 finished with value: 0.5657080451401529 and parameters: {'criterion': 'entropy', 'splitter': 'best', 'max_features': 8, 'random_state': 4}. Best is trial 6 with value: 0.5657080451401529.\n",
      "[I 2024-02-19 00:33:04,409] Trial 52 finished with value: 0.5657080451401529 and parameters: {'criterion': 'entropy', 'splitter': 'best', 'max_features': 8, 'random_state': 4}. Best is trial 6 with value: 0.5657080451401529.\n",
      "[I 2024-02-19 00:33:07,770] Trial 53 finished with value: 0.5657080451401529 and parameters: {'criterion': 'entropy', 'splitter': 'best', 'max_features': 8, 'random_state': 4}. Best is trial 6 with value: 0.5657080451401529.\n",
      "[I 2024-02-19 00:33:11,182] Trial 54 finished with value: 0.5657080451401529 and parameters: {'criterion': 'entropy', 'splitter': 'best', 'max_features': 8, 'random_state': 4}. Best is trial 6 with value: 0.5657080451401529.\n",
      "[I 2024-02-19 00:33:12,098] Trial 55 finished with value: 0.7375318529304696 and parameters: {'criterion': 'entropy', 'splitter': 'best', 'max_features': 1, 'random_state': 5}. Best is trial 6 with value: 0.5657080451401529.\n",
      "[I 2024-02-19 00:33:14,219] Trial 56 finished with value: 0.597222944510895 and parameters: {'criterion': 'entropy', 'splitter': 'best', 'max_features': 'log2', 'random_state': 4}. Best is trial 6 with value: 0.5657080451401529.\n",
      "[I 2024-02-19 00:33:18,123] Trial 57 finished with value: 0.5923864995579593 and parameters: {'criterion': 'entropy', 'splitter': 'best', 'max_features': 8, 'random_state': 5}. Best is trial 6 with value: 0.5657080451401529.\n",
      "[I 2024-02-19 00:33:20,778] Trial 58 finished with value: 0.5993551406729419 and parameters: {'criterion': 'entropy', 'splitter': 'best', 'max_features': 'sqrt', 'random_state': 3}. Best is trial 6 with value: 0.5657080451401529.\n",
      "[I 2024-02-19 00:33:22,785] Trial 59 finished with value: 0.6207811118622913 and parameters: {'criterion': 'entropy', 'splitter': 'best', 'max_features': 4, 'random_state': 4}. Best is trial 6 with value: 0.5657080451401529.\n",
      "[I 2024-02-19 00:33:27,316] Trial 60 finished with value: 0.5840657340475324 and parameters: {'criterion': 'entropy', 'splitter': 'best', 'max_features': 11, 'random_state': 3}. Best is trial 6 with value: 0.5657080451401529.\n",
      "[I 2024-02-19 00:33:30,656] Trial 61 finished with value: 0.5657080451401529 and parameters: {'criterion': 'entropy', 'splitter': 'best', 'max_features': 8, 'random_state': 4}. Best is trial 6 with value: 0.5657080451401529.\n",
      "[I 2024-02-19 00:33:33,993] Trial 62 finished with value: 0.5657080451401529 and parameters: {'criterion': 'entropy', 'splitter': 'best', 'max_features': 8, 'random_state': 4}. Best is trial 6 with value: 0.5657080451401529.\n",
      "[I 2024-02-19 00:33:37,325] Trial 63 finished with value: 0.5657080451401529 and parameters: {'criterion': 'entropy', 'splitter': 'best', 'max_features': 8, 'random_state': 4}. Best is trial 6 with value: 0.5657080451401529.\n",
      "[I 2024-02-19 00:33:40,533] Trial 64 finished with value: 0.5840657340475324 and parameters: {'criterion': 'entropy', 'splitter': 'best', 'max_features': 7, 'random_state': 4}. Best is trial 6 with value: 0.5657080451401529.\n",
      "[I 2024-02-19 00:33:44,935] Trial 65 finished with value: 0.5755889541837849 and parameters: {'criterion': 'log_loss', 'splitter': 'best', 'max_features': 10, 'random_state': 4}. Best is trial 6 with value: 0.5657080451401529.\n",
      "[I 2024-02-19 00:33:45,250] Trial 66 finished with value: 0.6106401788964585 and parameters: {'criterion': 'entropy', 'splitter': 'random', 'max_features': 9, 'random_state': 5}. Best is trial 6 with value: 0.5657080451401529.\n",
      "[I 2024-02-19 00:33:47,511] Trial 67 finished with value: 0.5869780019761818 and parameters: {'criterion': 'gini', 'splitter': 'best', 'max_features': 8, 'random_state': 4}. Best is trial 6 with value: 0.5657080451401529.\n",
      "[I 2024-02-19 00:33:51,295] Trial 68 finished with value: 0.5923864995579593 and parameters: {'criterion': 'entropy', 'splitter': 'best', 'max_features': 8, 'random_state': 5}. Best is trial 6 with value: 0.5657080451401529.\n",
      "[I 2024-02-19 00:33:54,182] Trial 69 finished with value: 0.5993551406729419 and parameters: {'criterion': 'entropy', 'splitter': 'best', 'max_features': 6, 'random_state': 3}. Best is trial 6 with value: 0.5657080451401529.\n",
      "[I 2024-02-19 00:33:57,236] Trial 70 finished with value: 0.5657080451401529 and parameters: {'criterion': 'entropy', 'splitter': 'best', 'max_features': 8, 'random_state': 4}. Best is trial 6 with value: 0.5657080451401529.\n",
      "[I 2024-02-19 00:34:00,603] Trial 71 finished with value: 0.5657080451401529 and parameters: {'criterion': 'entropy', 'splitter': 'best', 'max_features': 8, 'random_state': 4}. Best is trial 6 with value: 0.5657080451401529.\n",
      "[I 2024-02-19 00:34:03,671] Trial 72 finished with value: 0.5657080451401529 and parameters: {'criterion': 'entropy', 'splitter': 'best', 'max_features': 8, 'random_state': 4}. Best is trial 6 with value: 0.5657080451401529.\n",
      "[I 2024-02-19 00:34:07,124] Trial 73 finished with value: 0.5657080451401529 and parameters: {'criterion': 'entropy', 'splitter': 'best', 'max_features': 8, 'random_state': 4}. Best is trial 6 with value: 0.5657080451401529.\n",
      "[I 2024-02-19 00:34:09,065] Trial 74 finished with value: 0.6346143845233762 and parameters: {'criterion': 'entropy', 'splitter': 'best', 'max_features': 3, 'random_state': 3}. Best is trial 6 with value: 0.5657080451401529.\n",
      "[I 2024-02-19 00:34:12,623] Trial 75 finished with value: 0.5657080451401529 and parameters: {'criterion': 'entropy', 'splitter': 'best', 'max_features': 8, 'random_state': 4}. Best is trial 6 with value: 0.5657080451401529.\n",
      "[I 2024-02-19 00:34:15,956] Trial 76 finished with value: 0.5657080451401529 and parameters: {'criterion': 'entropy', 'splitter': 'best', 'max_features': 8, 'random_state': 4}. Best is trial 6 with value: 0.5657080451401529.\n",
      "[I 2024-02-19 00:34:16,197] Trial 77 finished with value: 0.6483956524000208 and parameters: {'criterion': 'log_loss', 'splitter': 'random', 'max_features': 5, 'random_state': 5}. Best is trial 6 with value: 0.5657080451401529.\n",
      "[I 2024-02-19 00:34:17,395] Trial 78 finished with value: 0.6516199490353113 and parameters: {'criterion': 'entropy', 'splitter': 'best', 'max_features': 2, 'random_state': 4}. Best is trial 6 with value: 0.5657080451401529.\n",
      "[I 2024-02-19 00:34:19,637] Trial 79 finished with value: 0.5869780019761818 and parameters: {'criterion': 'gini', 'splitter': 'best', 'max_features': 8, 'random_state': 4}. Best is trial 6 with value: 0.5657080451401529.\n",
      "[I 2024-02-19 00:34:22,575] Trial 80 finished with value: 0.5993551406729419 and parameters: {'criterion': 'entropy', 'splitter': 'best', 'max_features': 'sqrt', 'random_state': 3}. Best is trial 6 with value: 0.5657080451401529.\n",
      "[I 2024-02-19 00:34:25,919] Trial 81 finished with value: 0.5657080451401529 and parameters: {'criterion': 'entropy', 'splitter': 'best', 'max_features': 8, 'random_state': 4}. Best is trial 6 with value: 0.5657080451401529.\n",
      "[I 2024-02-19 00:34:29,228] Trial 82 finished with value: 0.5657080451401529 and parameters: {'criterion': 'entropy', 'splitter': 'best', 'max_features': 8, 'random_state': 4}. Best is trial 6 with value: 0.5657080451401529.\n",
      "[I 2024-02-19 00:34:32,544] Trial 83 finished with value: 0.5657080451401529 and parameters: {'criterion': 'entropy', 'splitter': 'best', 'max_features': 8, 'random_state': 4}. Best is trial 6 with value: 0.5657080451401529.\n",
      "[I 2024-02-19 00:34:33,478] Trial 84 finished with value: 0.7615580633418274 and parameters: {'criterion': 'entropy', 'splitter': 'best', 'max_features': 1, 'random_state': 4}. Best is trial 6 with value: 0.5657080451401529.\n",
      "[I 2024-02-19 00:34:35,597] Trial 85 finished with value: 0.597222944510895 and parameters: {'criterion': 'entropy', 'splitter': 'best', 'max_features': 'log2', 'random_state': 4}. Best is trial 6 with value: 0.5657080451401529.\n",
      "[I 2024-02-19 00:34:37,418] Trial 86 finished with value: 0.6133444276873472 and parameters: {'criterion': 'entropy', 'splitter': 'best', 'max_features': 4, 'random_state': 5}. Best is trial 6 with value: 0.5657080451401529.\n",
      "[I 2024-02-19 00:34:37,921] Trial 87 finished with value: 0.614800561651672 and parameters: {'criterion': 'entropy', 'splitter': 'random', 'max_features': 8, 'random_state': 4}. Best is trial 6 with value: 0.5657080451401529.\n",
      "[I 2024-02-19 00:34:41,567] Trial 88 finished with value: 0.5797493369389984 and parameters: {'criterion': 'entropy', 'splitter': 'best', 'max_features': 8, 'random_state': 1}. Best is trial 6 with value: 0.5657080451401529.\n",
      "[I 2024-02-19 00:34:44,699] Trial 89 finished with value: 0.597534973217536 and parameters: {'criterion': 'entropy', 'splitter': 'best', 'max_features': 7, 'random_state': 2}. Best is trial 6 with value: 0.5657080451401529.\n",
      "[I 2024-02-19 00:34:49,316] Trial 90 finished with value: 0.5840657340475324 and parameters: {'criterion': 'log_loss', 'splitter': 'best', 'max_features': 11, 'random_state': 3}. Best is trial 6 with value: 0.5657080451401529.\n",
      "[I 2024-02-19 00:34:52,949] Trial 91 finished with value: 0.5657080451401529 and parameters: {'criterion': 'entropy', 'splitter': 'best', 'max_features': 8, 'random_state': 4}. Best is trial 6 with value: 0.5657080451401529.\n",
      "[I 2024-02-19 00:34:56,011] Trial 92 finished with value: 0.5657080451401529 and parameters: {'criterion': 'entropy', 'splitter': 'best', 'max_features': 8, 'random_state': 4}. Best is trial 6 with value: 0.5657080451401529.\n",
      "[I 2024-02-19 00:34:59,406] Trial 93 finished with value: 0.5657080451401529 and parameters: {'criterion': 'entropy', 'splitter': 'best', 'max_features': 8, 'random_state': 4}. Best is trial 6 with value: 0.5657080451401529.\n",
      "[I 2024-02-19 00:35:03,832] Trial 94 finished with value: 0.5755889541837849 and parameters: {'criterion': 'entropy', 'splitter': 'best', 'max_features': 10, 'random_state': 4}. Best is trial 6 with value: 0.5657080451401529.\n",
      "[I 2024-02-19 00:35:07,544] Trial 95 finished with value: 0.5863539445628998 and parameters: {'criterion': 'entropy', 'splitter': 'best', 'max_features': 9, 'random_state': 4}. Best is trial 6 with value: 0.5657080451401529.\n",
      "[I 2024-02-19 00:35:10,905] Trial 96 finished with value: 0.5657080451401529 and parameters: {'criterion': 'entropy', 'splitter': 'best', 'max_features': 8, 'random_state': 4}. Best is trial 6 with value: 0.5657080451401529.\n",
      "[I 2024-02-19 00:35:12,369] Trial 97 finished with value: 0.6019553798949503 and parameters: {'criterion': 'gini', 'splitter': 'best', 'max_features': 6, 'random_state': 0}. Best is trial 6 with value: 0.5657080451401529.\n",
      "[I 2024-02-19 00:35:16,268] Trial 98 finished with value: 0.5923864995579593 and parameters: {'criterion': 'entropy', 'splitter': 'best', 'max_features': 8, 'random_state': 5}. Best is trial 6 with value: 0.5657080451401529.\n",
      "[I 2024-02-19 00:35:19,650] Trial 99 finished with value: 0.5657080451401529 and parameters: {'criterion': 'entropy', 'splitter': 'best', 'max_features': 8, 'random_state': 4}. Best is trial 6 with value: 0.5657080451401529.\n"
     ]
    },
    {
     "name": "stdout",
     "output_type": "stream",
     "text": [
      "Number of finished trials: 100\n",
      "Best trial: {'criterion': 'entropy', 'splitter': 'best', 'max_features': 8, 'random_state': 4}\n"
     ]
    }
   ],
   "source": [
    "\n",
    "study.optimize(objective, n_trials=100) # 150 bar \"objective\" object ke trial kore kore dekhbe, here total 5*100=750\n",
    "print('Number of finished trials:', len(study.trials))\n",
    "print('Best trial:', study.best_trial.params)"
   ]
  },
  {
   "cell_type": "code",
   "execution_count": 13,
   "metadata": {},
   "outputs": [
    {
     "data": {
      "application/vnd.plotly.v1+json": {
       "config": {
        "plotlyServerURL": "https://plot.ly"
       },
       "data": [
        {
         "dimensions": [
          {
           "label": "Objective Value",
           "range": [
            0.5657080451401529,
            0.7615580633418274
           ],
           "values": [
            0.6298819491393208,
            0.6163087004004368,
            0.5899942794737116,
            0.6334182744812523,
            0.6034635186437152,
            0.6084559779499714,
            0.5657080451401529,
            0.5853138488740964,
            0.6616568724322638,
            0.5859379062873784,
            0.5980550210619378,
            0.5755889541837849,
            0.7615580633418274,
            0.5864059493473399,
            0.597222944510895,
            0.6207811118622913,
            0.5840657340475324,
            0.5970669301575745,
            0.5938946383067242,
            0.5912943990847158,
            0.5657080451401529,
            0.5657080451401529,
            0.5923864995579593,
            0.5801653752145197,
            0.5657080451401529,
            0.5923864995579593,
            0.6003952363617453,
            0.5903063081803526,
            0.6361745280565813,
            0.6201570544490093,
            0.5912943990847158,
            0.5657080451401529,
            0.5923864995579593,
            0.5657080451401529,
            0.5657080451401529,
            0.6217171979822144,
            0.6596806906235374,
            0.6229133080243382,
            0.6516199490353113,
            0.5840657340475324,
            0.7501690155494305,
            0.5657080451401529,
            0.5657080451401529,
            0.5657080451401529,
            0.5993551406729419,
            0.6102241406209371,
            0.5863539445628998,
            0.6524000208019137,
            0.6154246190649539,
            0.5797493369389984,
            0.7060169535597275,
            0.5657080451401529,
            0.5657080451401529,
            0.5657080451401529,
            0.5657080451401529,
            0.7375318529304696,
            0.597222944510895,
            0.5923864995579593,
            0.5993551406729419,
            0.6207811118622913,
            0.5840657340475324,
            0.5657080451401529,
            0.5657080451401529,
            0.5657080451401529,
            0.5840657340475324,
            0.5755889541837849,
            0.6106401788964585,
            0.5869780019761818,
            0.5923864995579593,
            0.5993551406729419,
            0.5657080451401529,
            0.5657080451401529,
            0.5657080451401529,
            0.5657080451401529,
            0.6346143845233762,
            0.5657080451401529,
            0.5657080451401529,
            0.6483956524000208,
            0.6516199490353113,
            0.5869780019761818,
            0.5993551406729419,
            0.5657080451401529,
            0.5657080451401529,
            0.5657080451401529,
            0.7615580633418274,
            0.597222944510895,
            0.6133444276873472,
            0.614800561651672,
            0.5797493369389984,
            0.597534973217536,
            0.5840657340475324,
            0.5657080451401529,
            0.5657080451401529,
            0.5657080451401529,
            0.5755889541837849,
            0.5863539445628998,
            0.5657080451401529,
            0.6019553798949503,
            0.5923864995579593,
            0.5657080451401529
           ]
          },
          {
           "label": "criterion",
           "range": [
            0,
            2
           ],
           "ticktext": [
            "gini",
            "log_loss",
            "entropy"
           ],
           "tickvals": [
            0,
            1,
            2
           ],
           "values": [
            0,
            0,
            0,
            1,
            2,
            0,
            2,
            0,
            1,
            0,
            2,
            2,
            2,
            2,
            2,
            2,
            2,
            2,
            1,
            2,
            2,
            2,
            2,
            2,
            2,
            1,
            2,
            2,
            2,
            1,
            2,
            2,
            2,
            2,
            2,
            0,
            2,
            0,
            2,
            1,
            0,
            2,
            2,
            2,
            2,
            2,
            2,
            2,
            0,
            2,
            1,
            2,
            2,
            2,
            2,
            2,
            2,
            2,
            2,
            2,
            2,
            2,
            2,
            2,
            2,
            1,
            2,
            0,
            2,
            2,
            2,
            2,
            2,
            2,
            2,
            2,
            2,
            1,
            2,
            0,
            2,
            2,
            2,
            2,
            2,
            2,
            2,
            2,
            2,
            2,
            1,
            2,
            2,
            2,
            2,
            2,
            2,
            0,
            2,
            2
           ]
          },
          {
           "label": "max_features",
           "range": [
            0,
            12
           ],
           "ticktext": [
            "6",
            "8",
            "9",
            "3",
            "5",
            "10",
            "2",
            "1",
            "log2",
            "4",
            "11",
            "sqrt",
            "7"
           ],
           "tickvals": [
            0,
            1,
            2,
            3,
            4,
            5,
            6,
            7,
            8,
            9,
            10,
            11,
            12
           ],
           "values": [
            0,
            1,
            2,
            3,
            4,
            2,
            1,
            5,
            6,
            2,
            1,
            5,
            7,
            5,
            8,
            9,
            10,
            11,
            5,
            12,
            1,
            1,
            1,
            1,
            1,
            1,
            1,
            11,
            3,
            0,
            12,
            1,
            1,
            1,
            1,
            4,
            9,
            8,
            6,
            10,
            7,
            1,
            1,
            1,
            0,
            1,
            2,
            3,
            4,
            1,
            6,
            1,
            1,
            1,
            1,
            7,
            8,
            1,
            11,
            9,
            10,
            1,
            1,
            1,
            12,
            5,
            2,
            1,
            1,
            0,
            1,
            1,
            1,
            1,
            3,
            1,
            1,
            4,
            6,
            1,
            11,
            1,
            1,
            1,
            7,
            8,
            9,
            1,
            1,
            12,
            10,
            1,
            1,
            1,
            5,
            2,
            1,
            0,
            1,
            1
           ]
          },
          {
           "label": "random_state",
           "range": [
            0,
            5
           ],
           "values": [
            0,
            2,
            1,
            0,
            0,
            1,
            4,
            1,
            3,
            2,
            5,
            4,
            4,
            5,
            4,
            4,
            3,
            5,
            4,
            3,
            4,
            4,
            5,
            3,
            4,
            5,
            3,
            4,
            2,
            4,
            3,
            4,
            5,
            4,
            4,
            3,
            5,
            2,
            4,
            3,
            5,
            4,
            4,
            4,
            3,
            0,
            4,
            5,
            4,
            1,
            3,
            4,
            4,
            4,
            4,
            5,
            4,
            5,
            3,
            4,
            3,
            4,
            4,
            4,
            4,
            4,
            5,
            4,
            5,
            3,
            4,
            4,
            4,
            4,
            3,
            4,
            4,
            5,
            4,
            4,
            3,
            4,
            4,
            4,
            4,
            4,
            5,
            4,
            1,
            2,
            3,
            4,
            4,
            4,
            4,
            4,
            4,
            0,
            5,
            4
           ]
          },
          {
           "label": "splitter",
           "range": [
            0,
            1
           ],
           "ticktext": [
            "random",
            "best"
           ],
           "tickvals": [
            0,
            1
           ],
           "values": [
            0,
            0,
            1,
            1,
            1,
            0,
            1,
            1,
            1,
            1,
            0,
            1,
            1,
            1,
            1,
            1,
            1,
            1,
            0,
            1,
            1,
            1,
            1,
            1,
            1,
            1,
            0,
            1,
            1,
            0,
            1,
            1,
            1,
            1,
            1,
            1,
            0,
            1,
            1,
            1,
            0,
            1,
            1,
            1,
            1,
            1,
            1,
            1,
            1,
            1,
            0,
            1,
            1,
            1,
            1,
            1,
            1,
            1,
            1,
            1,
            1,
            1,
            1,
            1,
            1,
            1,
            0,
            1,
            1,
            1,
            1,
            1,
            1,
            1,
            1,
            1,
            1,
            0,
            1,
            1,
            1,
            1,
            1,
            1,
            1,
            1,
            1,
            0,
            1,
            1,
            1,
            1,
            1,
            1,
            1,
            1,
            1,
            1,
            1,
            1
           ]
          }
         ],
         "labelangle": 30,
         "labelside": "bottom",
         "line": {
          "color": [
           0.6298819491393208,
           0.6163087004004368,
           0.5899942794737116,
           0.6334182744812523,
           0.6034635186437152,
           0.6084559779499714,
           0.5657080451401529,
           0.5853138488740964,
           0.6616568724322638,
           0.5859379062873784,
           0.5980550210619378,
           0.5755889541837849,
           0.7615580633418274,
           0.5864059493473399,
           0.597222944510895,
           0.6207811118622913,
           0.5840657340475324,
           0.5970669301575745,
           0.5938946383067242,
           0.5912943990847158,
           0.5657080451401529,
           0.5657080451401529,
           0.5923864995579593,
           0.5801653752145197,
           0.5657080451401529,
           0.5923864995579593,
           0.6003952363617453,
           0.5903063081803526,
           0.6361745280565813,
           0.6201570544490093,
           0.5912943990847158,
           0.5657080451401529,
           0.5923864995579593,
           0.5657080451401529,
           0.5657080451401529,
           0.6217171979822144,
           0.6596806906235374,
           0.6229133080243382,
           0.6516199490353113,
           0.5840657340475324,
           0.7501690155494305,
           0.5657080451401529,
           0.5657080451401529,
           0.5657080451401529,
           0.5993551406729419,
           0.6102241406209371,
           0.5863539445628998,
           0.6524000208019137,
           0.6154246190649539,
           0.5797493369389984,
           0.7060169535597275,
           0.5657080451401529,
           0.5657080451401529,
           0.5657080451401529,
           0.5657080451401529,
           0.7375318529304696,
           0.597222944510895,
           0.5923864995579593,
           0.5993551406729419,
           0.6207811118622913,
           0.5840657340475324,
           0.5657080451401529,
           0.5657080451401529,
           0.5657080451401529,
           0.5840657340475324,
           0.5755889541837849,
           0.6106401788964585,
           0.5869780019761818,
           0.5923864995579593,
           0.5993551406729419,
           0.5657080451401529,
           0.5657080451401529,
           0.5657080451401529,
           0.5657080451401529,
           0.6346143845233762,
           0.5657080451401529,
           0.5657080451401529,
           0.6483956524000208,
           0.6516199490353113,
           0.5869780019761818,
           0.5993551406729419,
           0.5657080451401529,
           0.5657080451401529,
           0.5657080451401529,
           0.7615580633418274,
           0.597222944510895,
           0.6133444276873472,
           0.614800561651672,
           0.5797493369389984,
           0.597534973217536,
           0.5840657340475324,
           0.5657080451401529,
           0.5657080451401529,
           0.5657080451401529,
           0.5755889541837849,
           0.5863539445628998,
           0.5657080451401529,
           0.6019553798949503,
           0.5923864995579593,
           0.5657080451401529
          ],
          "colorbar": {
           "title": {
            "text": "Objective Value"
           }
          },
          "colorscale": [
           [
            0,
            "rgb(247,251,255)"
           ],
           [
            0.125,
            "rgb(222,235,247)"
           ],
           [
            0.25,
            "rgb(198,219,239)"
           ],
           [
            0.375,
            "rgb(158,202,225)"
           ],
           [
            0.5,
            "rgb(107,174,214)"
           ],
           [
            0.625,
            "rgb(66,146,198)"
           ],
           [
            0.75,
            "rgb(33,113,181)"
           ],
           [
            0.875,
            "rgb(8,81,156)"
           ],
           [
            1,
            "rgb(8,48,107)"
           ]
          ],
          "reversescale": true,
          "showscale": true
         },
         "type": "parcoords"
        }
       ],
       "layout": {
        "template": {
         "data": {
          "bar": [
           {
            "error_x": {
             "color": "#2a3f5f"
            },
            "error_y": {
             "color": "#2a3f5f"
            },
            "marker": {
             "line": {
              "color": "#E5ECF6",
              "width": 0.5
             },
             "pattern": {
              "fillmode": "overlay",
              "size": 10,
              "solidity": 0.2
             }
            },
            "type": "bar"
           }
          ],
          "barpolar": [
           {
            "marker": {
             "line": {
              "color": "#E5ECF6",
              "width": 0.5
             },
             "pattern": {
              "fillmode": "overlay",
              "size": 10,
              "solidity": 0.2
             }
            },
            "type": "barpolar"
           }
          ],
          "carpet": [
           {
            "aaxis": {
             "endlinecolor": "#2a3f5f",
             "gridcolor": "white",
             "linecolor": "white",
             "minorgridcolor": "white",
             "startlinecolor": "#2a3f5f"
            },
            "baxis": {
             "endlinecolor": "#2a3f5f",
             "gridcolor": "white",
             "linecolor": "white",
             "minorgridcolor": "white",
             "startlinecolor": "#2a3f5f"
            },
            "type": "carpet"
           }
          ],
          "choropleth": [
           {
            "colorbar": {
             "outlinewidth": 0,
             "ticks": ""
            },
            "type": "choropleth"
           }
          ],
          "contour": [
           {
            "colorbar": {
             "outlinewidth": 0,
             "ticks": ""
            },
            "colorscale": [
             [
              0,
              "#0d0887"
             ],
             [
              0.1111111111111111,
              "#46039f"
             ],
             [
              0.2222222222222222,
              "#7201a8"
             ],
             [
              0.3333333333333333,
              "#9c179e"
             ],
             [
              0.4444444444444444,
              "#bd3786"
             ],
             [
              0.5555555555555556,
              "#d8576b"
             ],
             [
              0.6666666666666666,
              "#ed7953"
             ],
             [
              0.7777777777777778,
              "#fb9f3a"
             ],
             [
              0.8888888888888888,
              "#fdca26"
             ],
             [
              1,
              "#f0f921"
             ]
            ],
            "type": "contour"
           }
          ],
          "contourcarpet": [
           {
            "colorbar": {
             "outlinewidth": 0,
             "ticks": ""
            },
            "type": "contourcarpet"
           }
          ],
          "heatmap": [
           {
            "colorbar": {
             "outlinewidth": 0,
             "ticks": ""
            },
            "colorscale": [
             [
              0,
              "#0d0887"
             ],
             [
              0.1111111111111111,
              "#46039f"
             ],
             [
              0.2222222222222222,
              "#7201a8"
             ],
             [
              0.3333333333333333,
              "#9c179e"
             ],
             [
              0.4444444444444444,
              "#bd3786"
             ],
             [
              0.5555555555555556,
              "#d8576b"
             ],
             [
              0.6666666666666666,
              "#ed7953"
             ],
             [
              0.7777777777777778,
              "#fb9f3a"
             ],
             [
              0.8888888888888888,
              "#fdca26"
             ],
             [
              1,
              "#f0f921"
             ]
            ],
            "type": "heatmap"
           }
          ],
          "heatmapgl": [
           {
            "colorbar": {
             "outlinewidth": 0,
             "ticks": ""
            },
            "colorscale": [
             [
              0,
              "#0d0887"
             ],
             [
              0.1111111111111111,
              "#46039f"
             ],
             [
              0.2222222222222222,
              "#7201a8"
             ],
             [
              0.3333333333333333,
              "#9c179e"
             ],
             [
              0.4444444444444444,
              "#bd3786"
             ],
             [
              0.5555555555555556,
              "#d8576b"
             ],
             [
              0.6666666666666666,
              "#ed7953"
             ],
             [
              0.7777777777777778,
              "#fb9f3a"
             ],
             [
              0.8888888888888888,
              "#fdca26"
             ],
             [
              1,
              "#f0f921"
             ]
            ],
            "type": "heatmapgl"
           }
          ],
          "histogram": [
           {
            "marker": {
             "pattern": {
              "fillmode": "overlay",
              "size": 10,
              "solidity": 0.2
             }
            },
            "type": "histogram"
           }
          ],
          "histogram2d": [
           {
            "colorbar": {
             "outlinewidth": 0,
             "ticks": ""
            },
            "colorscale": [
             [
              0,
              "#0d0887"
             ],
             [
              0.1111111111111111,
              "#46039f"
             ],
             [
              0.2222222222222222,
              "#7201a8"
             ],
             [
              0.3333333333333333,
              "#9c179e"
             ],
             [
              0.4444444444444444,
              "#bd3786"
             ],
             [
              0.5555555555555556,
              "#d8576b"
             ],
             [
              0.6666666666666666,
              "#ed7953"
             ],
             [
              0.7777777777777778,
              "#fb9f3a"
             ],
             [
              0.8888888888888888,
              "#fdca26"
             ],
             [
              1,
              "#f0f921"
             ]
            ],
            "type": "histogram2d"
           }
          ],
          "histogram2dcontour": [
           {
            "colorbar": {
             "outlinewidth": 0,
             "ticks": ""
            },
            "colorscale": [
             [
              0,
              "#0d0887"
             ],
             [
              0.1111111111111111,
              "#46039f"
             ],
             [
              0.2222222222222222,
              "#7201a8"
             ],
             [
              0.3333333333333333,
              "#9c179e"
             ],
             [
              0.4444444444444444,
              "#bd3786"
             ],
             [
              0.5555555555555556,
              "#d8576b"
             ],
             [
              0.6666666666666666,
              "#ed7953"
             ],
             [
              0.7777777777777778,
              "#fb9f3a"
             ],
             [
              0.8888888888888888,
              "#fdca26"
             ],
             [
              1,
              "#f0f921"
             ]
            ],
            "type": "histogram2dcontour"
           }
          ],
          "mesh3d": [
           {
            "colorbar": {
             "outlinewidth": 0,
             "ticks": ""
            },
            "type": "mesh3d"
           }
          ],
          "parcoords": [
           {
            "line": {
             "colorbar": {
              "outlinewidth": 0,
              "ticks": ""
             }
            },
            "type": "parcoords"
           }
          ],
          "pie": [
           {
            "automargin": true,
            "type": "pie"
           }
          ],
          "scatter": [
           {
            "fillpattern": {
             "fillmode": "overlay",
             "size": 10,
             "solidity": 0.2
            },
            "type": "scatter"
           }
          ],
          "scatter3d": [
           {
            "line": {
             "colorbar": {
              "outlinewidth": 0,
              "ticks": ""
             }
            },
            "marker": {
             "colorbar": {
              "outlinewidth": 0,
              "ticks": ""
             }
            },
            "type": "scatter3d"
           }
          ],
          "scattercarpet": [
           {
            "marker": {
             "colorbar": {
              "outlinewidth": 0,
              "ticks": ""
             }
            },
            "type": "scattercarpet"
           }
          ],
          "scattergeo": [
           {
            "marker": {
             "colorbar": {
              "outlinewidth": 0,
              "ticks": ""
             }
            },
            "type": "scattergeo"
           }
          ],
          "scattergl": [
           {
            "marker": {
             "colorbar": {
              "outlinewidth": 0,
              "ticks": ""
             }
            },
            "type": "scattergl"
           }
          ],
          "scattermapbox": [
           {
            "marker": {
             "colorbar": {
              "outlinewidth": 0,
              "ticks": ""
             }
            },
            "type": "scattermapbox"
           }
          ],
          "scatterpolar": [
           {
            "marker": {
             "colorbar": {
              "outlinewidth": 0,
              "ticks": ""
             }
            },
            "type": "scatterpolar"
           }
          ],
          "scatterpolargl": [
           {
            "marker": {
             "colorbar": {
              "outlinewidth": 0,
              "ticks": ""
             }
            },
            "type": "scatterpolargl"
           }
          ],
          "scatterternary": [
           {
            "marker": {
             "colorbar": {
              "outlinewidth": 0,
              "ticks": ""
             }
            },
            "type": "scatterternary"
           }
          ],
          "surface": [
           {
            "colorbar": {
             "outlinewidth": 0,
             "ticks": ""
            },
            "colorscale": [
             [
              0,
              "#0d0887"
             ],
             [
              0.1111111111111111,
              "#46039f"
             ],
             [
              0.2222222222222222,
              "#7201a8"
             ],
             [
              0.3333333333333333,
              "#9c179e"
             ],
             [
              0.4444444444444444,
              "#bd3786"
             ],
             [
              0.5555555555555556,
              "#d8576b"
             ],
             [
              0.6666666666666666,
              "#ed7953"
             ],
             [
              0.7777777777777778,
              "#fb9f3a"
             ],
             [
              0.8888888888888888,
              "#fdca26"
             ],
             [
              1,
              "#f0f921"
             ]
            ],
            "type": "surface"
           }
          ],
          "table": [
           {
            "cells": {
             "fill": {
              "color": "#EBF0F8"
             },
             "line": {
              "color": "white"
             }
            },
            "header": {
             "fill": {
              "color": "#C8D4E3"
             },
             "line": {
              "color": "white"
             }
            },
            "type": "table"
           }
          ]
         },
         "layout": {
          "annotationdefaults": {
           "arrowcolor": "#2a3f5f",
           "arrowhead": 0,
           "arrowwidth": 1
          },
          "autotypenumbers": "strict",
          "coloraxis": {
           "colorbar": {
            "outlinewidth": 0,
            "ticks": ""
           }
          },
          "colorscale": {
           "diverging": [
            [
             0,
             "#8e0152"
            ],
            [
             0.1,
             "#c51b7d"
            ],
            [
             0.2,
             "#de77ae"
            ],
            [
             0.3,
             "#f1b6da"
            ],
            [
             0.4,
             "#fde0ef"
            ],
            [
             0.5,
             "#f7f7f7"
            ],
            [
             0.6,
             "#e6f5d0"
            ],
            [
             0.7,
             "#b8e186"
            ],
            [
             0.8,
             "#7fbc41"
            ],
            [
             0.9,
             "#4d9221"
            ],
            [
             1,
             "#276419"
            ]
           ],
           "sequential": [
            [
             0,
             "#0d0887"
            ],
            [
             0.1111111111111111,
             "#46039f"
            ],
            [
             0.2222222222222222,
             "#7201a8"
            ],
            [
             0.3333333333333333,
             "#9c179e"
            ],
            [
             0.4444444444444444,
             "#bd3786"
            ],
            [
             0.5555555555555556,
             "#d8576b"
            ],
            [
             0.6666666666666666,
             "#ed7953"
            ],
            [
             0.7777777777777778,
             "#fb9f3a"
            ],
            [
             0.8888888888888888,
             "#fdca26"
            ],
            [
             1,
             "#f0f921"
            ]
           ],
           "sequentialminus": [
            [
             0,
             "#0d0887"
            ],
            [
             0.1111111111111111,
             "#46039f"
            ],
            [
             0.2222222222222222,
             "#7201a8"
            ],
            [
             0.3333333333333333,
             "#9c179e"
            ],
            [
             0.4444444444444444,
             "#bd3786"
            ],
            [
             0.5555555555555556,
             "#d8576b"
            ],
            [
             0.6666666666666666,
             "#ed7953"
            ],
            [
             0.7777777777777778,
             "#fb9f3a"
            ],
            [
             0.8888888888888888,
             "#fdca26"
            ],
            [
             1,
             "#f0f921"
            ]
           ]
          },
          "colorway": [
           "#636efa",
           "#EF553B",
           "#00cc96",
           "#ab63fa",
           "#FFA15A",
           "#19d3f3",
           "#FF6692",
           "#B6E880",
           "#FF97FF",
           "#FECB52"
          ],
          "font": {
           "color": "#2a3f5f"
          },
          "geo": {
           "bgcolor": "white",
           "lakecolor": "white",
           "landcolor": "#E5ECF6",
           "showlakes": true,
           "showland": true,
           "subunitcolor": "white"
          },
          "hoverlabel": {
           "align": "left"
          },
          "hovermode": "closest",
          "mapbox": {
           "style": "light"
          },
          "paper_bgcolor": "white",
          "plot_bgcolor": "#E5ECF6",
          "polar": {
           "angularaxis": {
            "gridcolor": "white",
            "linecolor": "white",
            "ticks": ""
           },
           "bgcolor": "#E5ECF6",
           "radialaxis": {
            "gridcolor": "white",
            "linecolor": "white",
            "ticks": ""
           }
          },
          "scene": {
           "xaxis": {
            "backgroundcolor": "#E5ECF6",
            "gridcolor": "white",
            "gridwidth": 2,
            "linecolor": "white",
            "showbackground": true,
            "ticks": "",
            "zerolinecolor": "white"
           },
           "yaxis": {
            "backgroundcolor": "#E5ECF6",
            "gridcolor": "white",
            "gridwidth": 2,
            "linecolor": "white",
            "showbackground": true,
            "ticks": "",
            "zerolinecolor": "white"
           },
           "zaxis": {
            "backgroundcolor": "#E5ECF6",
            "gridcolor": "white",
            "gridwidth": 2,
            "linecolor": "white",
            "showbackground": true,
            "ticks": "",
            "zerolinecolor": "white"
           }
          },
          "shapedefaults": {
           "line": {
            "color": "#2a3f5f"
           }
          },
          "ternary": {
           "aaxis": {
            "gridcolor": "white",
            "linecolor": "white",
            "ticks": ""
           },
           "baxis": {
            "gridcolor": "white",
            "linecolor": "white",
            "ticks": ""
           },
           "bgcolor": "#E5ECF6",
           "caxis": {
            "gridcolor": "white",
            "linecolor": "white",
            "ticks": ""
           }
          },
          "title": {
           "x": 0.05
          },
          "xaxis": {
           "automargin": true,
           "gridcolor": "white",
           "linecolor": "white",
           "ticks": "",
           "title": {
            "standoff": 15
           },
           "zerolinecolor": "white",
           "zerolinewidth": 2
          },
          "yaxis": {
           "automargin": true,
           "gridcolor": "white",
           "linecolor": "white",
           "ticks": "",
           "title": {
            "standoff": 15
           },
           "zerolinecolor": "white",
           "zerolinewidth": 2
          }
         }
        },
        "title": {
         "text": "Parallel Coordinate Plot"
        }
       }
      }
     },
     "metadata": {},
     "output_type": "display_data"
    }
   ],
   "source": [
    "from matplotlib import pyplot as plt\n",
    "fig_study = optuna.visualization.plot_parallel_coordinate(study, params=[\"criterion\", \"splitter\",\"max_features\",\"random_state\"])\n",
    "fig_study.show()"
   ]
  },
  {
   "cell_type": "code",
   "execution_count": 14,
   "metadata": {},
   "outputs": [
    {
     "name": "stdout",
     "output_type": "stream",
     "text": [
      "Number of finished trials:  100\n",
      "Best trial:\n",
      "  Value:  0.5657080451401529\n",
      "  Params: \n",
      "    criterion: entropy\n",
      "    splitter: best\n",
      "    max_features: 8\n",
      "    random_state: 4\n"
     ]
    }
   ],
   "source": [
    "#evaluate the trial\n",
    "print(\"Number of finished trials: \", len(study.trials))\n",
    "print(\"Best trial:\")\n",
    "trial = study.best_trial\n",
    "print(\"  Value: \", trial.value)\n",
    "print(\"  Params: \")\n",
    "for key, value in trial.params.items():\n",
    "    print(\"    {}: {}\".format(key, value))"
   ]
  },
  {
   "cell_type": "markdown",
   "metadata": {},
   "source": [
    "# Tune Adaboost classifier"
   ]
  },
  {
   "cell_type": "code",
   "execution_count": 15,
   "metadata": {},
   "outputs": [
    {
     "data": {
      "text/html": [
       "<style>#sk-container-id-2 {\n",
       "  /* Definition of color scheme common for light and dark mode */\n",
       "  --sklearn-color-text: black;\n",
       "  --sklearn-color-line: gray;\n",
       "  /* Definition of color scheme for unfitted estimators */\n",
       "  --sklearn-color-unfitted-level-0: #fff5e6;\n",
       "  --sklearn-color-unfitted-level-1: #f6e4d2;\n",
       "  --sklearn-color-unfitted-level-2: #ffe0b3;\n",
       "  --sklearn-color-unfitted-level-3: chocolate;\n",
       "  /* Definition of color scheme for fitted estimators */\n",
       "  --sklearn-color-fitted-level-0: #f0f8ff;\n",
       "  --sklearn-color-fitted-level-1: #d4ebff;\n",
       "  --sklearn-color-fitted-level-2: #b3dbfd;\n",
       "  --sklearn-color-fitted-level-3: cornflowerblue;\n",
       "\n",
       "  /* Specific color for light theme */\n",
       "  --sklearn-color-text-on-default-background: var(--sg-text-color, var(--theme-code-foreground, var(--jp-content-font-color1, black)));\n",
       "  --sklearn-color-background: var(--sg-background-color, var(--theme-background, var(--jp-layout-color0, white)));\n",
       "  --sklearn-color-border-box: var(--sg-text-color, var(--theme-code-foreground, var(--jp-content-font-color1, black)));\n",
       "  --sklearn-color-icon: #696969;\n",
       "\n",
       "  @media (prefers-color-scheme: dark) {\n",
       "    /* Redefinition of color scheme for dark theme */\n",
       "    --sklearn-color-text-on-default-background: var(--sg-text-color, var(--theme-code-foreground, var(--jp-content-font-color1, white)));\n",
       "    --sklearn-color-background: var(--sg-background-color, var(--theme-background, var(--jp-layout-color0, #111)));\n",
       "    --sklearn-color-border-box: var(--sg-text-color, var(--theme-code-foreground, var(--jp-content-font-color1, white)));\n",
       "    --sklearn-color-icon: #878787;\n",
       "  }\n",
       "}\n",
       "\n",
       "#sk-container-id-2 {\n",
       "  color: var(--sklearn-color-text);\n",
       "}\n",
       "\n",
       "#sk-container-id-2 pre {\n",
       "  padding: 0;\n",
       "}\n",
       "\n",
       "#sk-container-id-2 input.sk-hidden--visually {\n",
       "  border: 0;\n",
       "  clip: rect(1px 1px 1px 1px);\n",
       "  clip: rect(1px, 1px, 1px, 1px);\n",
       "  height: 1px;\n",
       "  margin: -1px;\n",
       "  overflow: hidden;\n",
       "  padding: 0;\n",
       "  position: absolute;\n",
       "  width: 1px;\n",
       "}\n",
       "\n",
       "#sk-container-id-2 div.sk-dashed-wrapped {\n",
       "  border: 1px dashed var(--sklearn-color-line);\n",
       "  margin: 0 0.4em 0.5em 0.4em;\n",
       "  box-sizing: border-box;\n",
       "  padding-bottom: 0.4em;\n",
       "  background-color: var(--sklearn-color-background);\n",
       "}\n",
       "\n",
       "#sk-container-id-2 div.sk-container {\n",
       "  /* jupyter's `normalize.less` sets `[hidden] { display: none; }`\n",
       "     but bootstrap.min.css set `[hidden] { display: none !important; }`\n",
       "     so we also need the `!important` here to be able to override the\n",
       "     default hidden behavior on the sphinx rendered scikit-learn.org.\n",
       "     See: https://github.com/scikit-learn/scikit-learn/issues/21755 */\n",
       "  display: inline-block !important;\n",
       "  position: relative;\n",
       "}\n",
       "\n",
       "#sk-container-id-2 div.sk-text-repr-fallback {\n",
       "  display: none;\n",
       "}\n",
       "\n",
       "div.sk-parallel-item,\n",
       "div.sk-serial,\n",
       "div.sk-item {\n",
       "  /* draw centered vertical line to link estimators */\n",
       "  background-image: linear-gradient(var(--sklearn-color-text-on-default-background), var(--sklearn-color-text-on-default-background));\n",
       "  background-size: 2px 100%;\n",
       "  background-repeat: no-repeat;\n",
       "  background-position: center center;\n",
       "}\n",
       "\n",
       "/* Parallel-specific style estimator block */\n",
       "\n",
       "#sk-container-id-2 div.sk-parallel-item::after {\n",
       "  content: \"\";\n",
       "  width: 100%;\n",
       "  border-bottom: 2px solid var(--sklearn-color-text-on-default-background);\n",
       "  flex-grow: 1;\n",
       "}\n",
       "\n",
       "#sk-container-id-2 div.sk-parallel {\n",
       "  display: flex;\n",
       "  align-items: stretch;\n",
       "  justify-content: center;\n",
       "  background-color: var(--sklearn-color-background);\n",
       "  position: relative;\n",
       "}\n",
       "\n",
       "#sk-container-id-2 div.sk-parallel-item {\n",
       "  display: flex;\n",
       "  flex-direction: column;\n",
       "}\n",
       "\n",
       "#sk-container-id-2 div.sk-parallel-item:first-child::after {\n",
       "  align-self: flex-end;\n",
       "  width: 50%;\n",
       "}\n",
       "\n",
       "#sk-container-id-2 div.sk-parallel-item:last-child::after {\n",
       "  align-self: flex-start;\n",
       "  width: 50%;\n",
       "}\n",
       "\n",
       "#sk-container-id-2 div.sk-parallel-item:only-child::after {\n",
       "  width: 0;\n",
       "}\n",
       "\n",
       "/* Serial-specific style estimator block */\n",
       "\n",
       "#sk-container-id-2 div.sk-serial {\n",
       "  display: flex;\n",
       "  flex-direction: column;\n",
       "  align-items: center;\n",
       "  background-color: var(--sklearn-color-background);\n",
       "  padding-right: 1em;\n",
       "  padding-left: 1em;\n",
       "}\n",
       "\n",
       "\n",
       "/* Toggleable style: style used for estimator/Pipeline/ColumnTransformer box that is\n",
       "clickable and can be expanded/collapsed.\n",
       "- Pipeline and ColumnTransformer use this feature and define the default style\n",
       "- Estimators will overwrite some part of the style using the `sk-estimator` class\n",
       "*/\n",
       "\n",
       "/* Pipeline and ColumnTransformer style (default) */\n",
       "\n",
       "#sk-container-id-2 div.sk-toggleable {\n",
       "  /* Default theme specific background. It is overwritten whether we have a\n",
       "  specific estimator or a Pipeline/ColumnTransformer */\n",
       "  background-color: var(--sklearn-color-background);\n",
       "}\n",
       "\n",
       "/* Toggleable label */\n",
       "#sk-container-id-2 label.sk-toggleable__label {\n",
       "  cursor: pointer;\n",
       "  display: block;\n",
       "  width: 100%;\n",
       "  margin-bottom: 0;\n",
       "  padding: 0.5em;\n",
       "  box-sizing: border-box;\n",
       "  text-align: center;\n",
       "}\n",
       "\n",
       "#sk-container-id-2 label.sk-toggleable__label-arrow:before {\n",
       "  /* Arrow on the left of the label */\n",
       "  content: \"▸\";\n",
       "  float: left;\n",
       "  margin-right: 0.25em;\n",
       "  color: var(--sklearn-color-icon);\n",
       "}\n",
       "\n",
       "#sk-container-id-2 label.sk-toggleable__label-arrow:hover:before {\n",
       "  color: var(--sklearn-color-text);\n",
       "}\n",
       "\n",
       "/* Toggleable content - dropdown */\n",
       "\n",
       "#sk-container-id-2 div.sk-toggleable__content {\n",
       "  max-height: 0;\n",
       "  max-width: 0;\n",
       "  overflow: hidden;\n",
       "  text-align: left;\n",
       "  /* unfitted */\n",
       "  background-color: var(--sklearn-color-unfitted-level-0);\n",
       "}\n",
       "\n",
       "#sk-container-id-2 div.sk-toggleable__content.fitted {\n",
       "  /* fitted */\n",
       "  background-color: var(--sklearn-color-fitted-level-0);\n",
       "}\n",
       "\n",
       "#sk-container-id-2 div.sk-toggleable__content pre {\n",
       "  margin: 0.2em;\n",
       "  border-radius: 0.25em;\n",
       "  color: var(--sklearn-color-text);\n",
       "  /* unfitted */\n",
       "  background-color: var(--sklearn-color-unfitted-level-0);\n",
       "}\n",
       "\n",
       "#sk-container-id-2 div.sk-toggleable__content.fitted pre {\n",
       "  /* unfitted */\n",
       "  background-color: var(--sklearn-color-fitted-level-0);\n",
       "}\n",
       "\n",
       "#sk-container-id-2 input.sk-toggleable__control:checked~div.sk-toggleable__content {\n",
       "  /* Expand drop-down */\n",
       "  max-height: 200px;\n",
       "  max-width: 100%;\n",
       "  overflow: auto;\n",
       "}\n",
       "\n",
       "#sk-container-id-2 input.sk-toggleable__control:checked~label.sk-toggleable__label-arrow:before {\n",
       "  content: \"▾\";\n",
       "}\n",
       "\n",
       "/* Pipeline/ColumnTransformer-specific style */\n",
       "\n",
       "#sk-container-id-2 div.sk-label input.sk-toggleable__control:checked~label.sk-toggleable__label {\n",
       "  color: var(--sklearn-color-text);\n",
       "  background-color: var(--sklearn-color-unfitted-level-2);\n",
       "}\n",
       "\n",
       "#sk-container-id-2 div.sk-label.fitted input.sk-toggleable__control:checked~label.sk-toggleable__label {\n",
       "  background-color: var(--sklearn-color-fitted-level-2);\n",
       "}\n",
       "\n",
       "/* Estimator-specific style */\n",
       "\n",
       "/* Colorize estimator box */\n",
       "#sk-container-id-2 div.sk-estimator input.sk-toggleable__control:checked~label.sk-toggleable__label {\n",
       "  /* unfitted */\n",
       "  background-color: var(--sklearn-color-unfitted-level-2);\n",
       "}\n",
       "\n",
       "#sk-container-id-2 div.sk-estimator.fitted input.sk-toggleable__control:checked~label.sk-toggleable__label {\n",
       "  /* fitted */\n",
       "  background-color: var(--sklearn-color-fitted-level-2);\n",
       "}\n",
       "\n",
       "#sk-container-id-2 div.sk-label label.sk-toggleable__label,\n",
       "#sk-container-id-2 div.sk-label label {\n",
       "  /* The background is the default theme color */\n",
       "  color: var(--sklearn-color-text-on-default-background);\n",
       "}\n",
       "\n",
       "/* On hover, darken the color of the background */\n",
       "#sk-container-id-2 div.sk-label:hover label.sk-toggleable__label {\n",
       "  color: var(--sklearn-color-text);\n",
       "  background-color: var(--sklearn-color-unfitted-level-2);\n",
       "}\n",
       "\n",
       "/* Label box, darken color on hover, fitted */\n",
       "#sk-container-id-2 div.sk-label.fitted:hover label.sk-toggleable__label.fitted {\n",
       "  color: var(--sklearn-color-text);\n",
       "  background-color: var(--sklearn-color-fitted-level-2);\n",
       "}\n",
       "\n",
       "/* Estimator label */\n",
       "\n",
       "#sk-container-id-2 div.sk-label label {\n",
       "  font-family: monospace;\n",
       "  font-weight: bold;\n",
       "  display: inline-block;\n",
       "  line-height: 1.2em;\n",
       "}\n",
       "\n",
       "#sk-container-id-2 div.sk-label-container {\n",
       "  text-align: center;\n",
       "}\n",
       "\n",
       "/* Estimator-specific */\n",
       "#sk-container-id-2 div.sk-estimator {\n",
       "  font-family: monospace;\n",
       "  border: 1px dotted var(--sklearn-color-border-box);\n",
       "  border-radius: 0.25em;\n",
       "  box-sizing: border-box;\n",
       "  margin-bottom: 0.5em;\n",
       "  /* unfitted */\n",
       "  background-color: var(--sklearn-color-unfitted-level-0);\n",
       "}\n",
       "\n",
       "#sk-container-id-2 div.sk-estimator.fitted {\n",
       "  /* fitted */\n",
       "  background-color: var(--sklearn-color-fitted-level-0);\n",
       "}\n",
       "\n",
       "/* on hover */\n",
       "#sk-container-id-2 div.sk-estimator:hover {\n",
       "  /* unfitted */\n",
       "  background-color: var(--sklearn-color-unfitted-level-2);\n",
       "}\n",
       "\n",
       "#sk-container-id-2 div.sk-estimator.fitted:hover {\n",
       "  /* fitted */\n",
       "  background-color: var(--sklearn-color-fitted-level-2);\n",
       "}\n",
       "\n",
       "/* Specification for estimator info (e.g. \"i\" and \"?\") */\n",
       "\n",
       "/* Common style for \"i\" and \"?\" */\n",
       "\n",
       ".sk-estimator-doc-link,\n",
       "a:link.sk-estimator-doc-link,\n",
       "a:visited.sk-estimator-doc-link {\n",
       "  float: right;\n",
       "  font-size: smaller;\n",
       "  line-height: 1em;\n",
       "  font-family: monospace;\n",
       "  background-color: var(--sklearn-color-background);\n",
       "  border-radius: 1em;\n",
       "  height: 1em;\n",
       "  width: 1em;\n",
       "  text-decoration: none !important;\n",
       "  margin-left: 1ex;\n",
       "  /* unfitted */\n",
       "  border: var(--sklearn-color-unfitted-level-1) 1pt solid;\n",
       "  color: var(--sklearn-color-unfitted-level-1);\n",
       "}\n",
       "\n",
       ".sk-estimator-doc-link.fitted,\n",
       "a:link.sk-estimator-doc-link.fitted,\n",
       "a:visited.sk-estimator-doc-link.fitted {\n",
       "  /* fitted */\n",
       "  border: var(--sklearn-color-fitted-level-1) 1pt solid;\n",
       "  color: var(--sklearn-color-fitted-level-1);\n",
       "}\n",
       "\n",
       "/* On hover */\n",
       "div.sk-estimator:hover .sk-estimator-doc-link:hover,\n",
       ".sk-estimator-doc-link:hover,\n",
       "div.sk-label-container:hover .sk-estimator-doc-link:hover,\n",
       ".sk-estimator-doc-link:hover {\n",
       "  /* unfitted */\n",
       "  background-color: var(--sklearn-color-unfitted-level-3);\n",
       "  color: var(--sklearn-color-background);\n",
       "  text-decoration: none;\n",
       "}\n",
       "\n",
       "div.sk-estimator.fitted:hover .sk-estimator-doc-link.fitted:hover,\n",
       ".sk-estimator-doc-link.fitted:hover,\n",
       "div.sk-label-container:hover .sk-estimator-doc-link.fitted:hover,\n",
       ".sk-estimator-doc-link.fitted:hover {\n",
       "  /* fitted */\n",
       "  background-color: var(--sklearn-color-fitted-level-3);\n",
       "  color: var(--sklearn-color-background);\n",
       "  text-decoration: none;\n",
       "}\n",
       "\n",
       "/* Span, style for the box shown on hovering the info icon */\n",
       ".sk-estimator-doc-link span {\n",
       "  display: none;\n",
       "  z-index: 9999;\n",
       "  position: relative;\n",
       "  font-weight: normal;\n",
       "  right: .2ex;\n",
       "  padding: .5ex;\n",
       "  margin: .5ex;\n",
       "  width: min-content;\n",
       "  min-width: 20ex;\n",
       "  max-width: 50ex;\n",
       "  color: var(--sklearn-color-text);\n",
       "  box-shadow: 2pt 2pt 4pt #999;\n",
       "  /* unfitted */\n",
       "  background: var(--sklearn-color-unfitted-level-0);\n",
       "  border: .5pt solid var(--sklearn-color-unfitted-level-3);\n",
       "}\n",
       "\n",
       ".sk-estimator-doc-link.fitted span {\n",
       "  /* fitted */\n",
       "  background: var(--sklearn-color-fitted-level-0);\n",
       "  border: var(--sklearn-color-fitted-level-3);\n",
       "}\n",
       "\n",
       ".sk-estimator-doc-link:hover span {\n",
       "  display: block;\n",
       "}\n",
       "\n",
       "/* \"?\"-specific style due to the `<a>` HTML tag */\n",
       "\n",
       "#sk-container-id-2 a.estimator_doc_link {\n",
       "  float: right;\n",
       "  font-size: 1rem;\n",
       "  line-height: 1em;\n",
       "  font-family: monospace;\n",
       "  background-color: var(--sklearn-color-background);\n",
       "  border-radius: 1rem;\n",
       "  height: 1rem;\n",
       "  width: 1rem;\n",
       "  text-decoration: none;\n",
       "  /* unfitted */\n",
       "  color: var(--sklearn-color-unfitted-level-1);\n",
       "  border: var(--sklearn-color-unfitted-level-1) 1pt solid;\n",
       "}\n",
       "\n",
       "#sk-container-id-2 a.estimator_doc_link.fitted {\n",
       "  /* fitted */\n",
       "  border: var(--sklearn-color-fitted-level-1) 1pt solid;\n",
       "  color: var(--sklearn-color-fitted-level-1);\n",
       "}\n",
       "\n",
       "/* On hover */\n",
       "#sk-container-id-2 a.estimator_doc_link:hover {\n",
       "  /* unfitted */\n",
       "  background-color: var(--sklearn-color-unfitted-level-3);\n",
       "  color: var(--sklearn-color-background);\n",
       "  text-decoration: none;\n",
       "}\n",
       "\n",
       "#sk-container-id-2 a.estimator_doc_link.fitted:hover {\n",
       "  /* fitted */\n",
       "  background-color: var(--sklearn-color-fitted-level-3);\n",
       "}\n",
       "</style><div id=\"sk-container-id-2\" class=\"sk-top-container\"><div class=\"sk-text-repr-fallback\"><pre>AdaBoostClassifier(algorithm=&#x27;SAMME&#x27;,\n",
       "                   estimator=DecisionTreeClassifier(criterion=&#x27;entropy&#x27;,\n",
       "                                                    max_features=8,\n",
       "                                                    random_state=4),\n",
       "                   learning_rate=1.2, n_estimators=180)</pre><b>In a Jupyter environment, please rerun this cell to show the HTML representation or trust the notebook. <br />On GitHub, the HTML representation is unable to render, please try loading this page with nbviewer.org.</b></div><div class=\"sk-container\" hidden><div class=\"sk-item sk-dashed-wrapped\"><div class=\"sk-label-container\"><div class=\"sk-label fitted sk-toggleable\"><input class=\"sk-toggleable__control sk-hidden--visually\" id=\"sk-estimator-id-2\" type=\"checkbox\" ><label for=\"sk-estimator-id-2\" class=\"sk-toggleable__label fitted sk-toggleable__label-arrow fitted\">&nbsp;&nbsp;AdaBoostClassifier<a class=\"sk-estimator-doc-link fitted\" rel=\"noreferrer\" target=\"_blank\" href=\"https://scikit-learn.org/1.4/modules/generated/sklearn.ensemble.AdaBoostClassifier.html\">?<span>Documentation for AdaBoostClassifier</span></a><span class=\"sk-estimator-doc-link fitted\">i<span>Fitted</span></span></label><div class=\"sk-toggleable__content fitted\"><pre>AdaBoostClassifier(algorithm=&#x27;SAMME&#x27;,\n",
       "                   estimator=DecisionTreeClassifier(criterion=&#x27;entropy&#x27;,\n",
       "                                                    max_features=8,\n",
       "                                                    random_state=4),\n",
       "                   learning_rate=1.2, n_estimators=180)</pre></div> </div></div><div class=\"sk-parallel\"><div class=\"sk-parallel-item\"><div class=\"sk-item\"><div class=\"sk-label-container\"><div class=\"sk-label fitted sk-toggleable\"><input class=\"sk-toggleable__control sk-hidden--visually\" id=\"sk-estimator-id-3\" type=\"checkbox\" ><label for=\"sk-estimator-id-3\" class=\"sk-toggleable__label fitted sk-toggleable__label-arrow fitted\">estimator: DecisionTreeClassifier</label><div class=\"sk-toggleable__content fitted\"><pre>DecisionTreeClassifier(criterion=&#x27;entropy&#x27;, max_features=8, random_state=4)</pre></div> </div></div><div class=\"sk-serial\"><div class=\"sk-item\"><div class=\"sk-estimator fitted sk-toggleable\"><input class=\"sk-toggleable__control sk-hidden--visually\" id=\"sk-estimator-id-4\" type=\"checkbox\" ><label for=\"sk-estimator-id-4\" class=\"sk-toggleable__label fitted sk-toggleable__label-arrow fitted\">&nbsp;DecisionTreeClassifier<a class=\"sk-estimator-doc-link fitted\" rel=\"noreferrer\" target=\"_blank\" href=\"https://scikit-learn.org/1.4/modules/generated/sklearn.tree.DecisionTreeClassifier.html\">?<span>Documentation for DecisionTreeClassifier</span></a></label><div class=\"sk-toggleable__content fitted\"><pre>DecisionTreeClassifier(criterion=&#x27;entropy&#x27;, max_features=8, random_state=4)</pre></div> </div></div></div></div></div></div></div></div></div>"
      ],
      "text/plain": [
       "AdaBoostClassifier(algorithm='SAMME',\n",
       "                   estimator=DecisionTreeClassifier(criterion='entropy',\n",
       "                                                    max_features=8,\n",
       "                                                    random_state=4),\n",
       "                   learning_rate=1.2, n_estimators=180)"
      ]
     },
     "execution_count": 15,
     "metadata": {},
     "output_type": "execute_result"
    }
   ],
   "source": [
    "# train the model with random parameter\n",
    "from sklearn.ensemble import AdaBoostClassifier\n",
    "# Preparing the regressor and fitting data with some parameters\n",
    "dt_params = study.best_trial.params\n",
    "model_dt = DecisionTreeClassifier(**dt_params)\n",
    "#model_dt = estimator\n",
    "#model = predictor = model_dt.fit()\n",
    "\n",
    "model_Ada = AdaBoostClassifier(\n",
    "        estimator=model_dt,\n",
    "        n_estimators=180, # maximum number of estimators at which boosting is terminated\n",
    "        learning_rate=1.2,\n",
    "        algorithm=\"SAMME\", #SAMME.R=real boosting algorithm\n",
    "        \n",
    "     )\n",
    "\n",
    "model_Ada.fit(compressed_dataset_X_train, y_train)"
   ]
  },
  {
   "cell_type": "code",
   "execution_count": 16,
   "metadata": {},
   "outputs": [
    {
     "data": {
      "text/plain": [
       "0.46716844017648584"
      ]
     },
     "execution_count": 16,
     "metadata": {},
     "output_type": "execute_result"
    }
   ],
   "source": [
    "# Finding mean absolute error\n",
    "preds = model_Ada.predict(compressed_dataset_X_test)\n",
    "preds = preds.astype(int)\n",
    "mae = np.abs(y_test-preds).mean()\n",
    "mae"
   ]
  },
  {
   "cell_type": "code",
   "execution_count": 17,
   "metadata": {},
   "outputs": [],
   "source": [
    "# Defining the best parameter with optuna\n",
    "\n",
    "K = 5 # 5 fold cross validation\n",
    "skf = StratifiedKFold(n_splits = K, random_state = 42, shuffle = True)\n",
    "\n",
    "\n",
    "train_tunned_Ada= np.array(compressed_dataset_X)\n",
    "target_train_tunned_Ada = np.array(y)\n",
    "\n",
    "# test = np.array(X)\n",
    "# target_train = df_train['congestion'].values\n",
    "\n",
    "# test_preds = np.zeros((len(test)))\n",
    "oof_preds_Ada = np.zeros((len(train_tunned_Ada)))\n",
    "abs_error_arr_Ada=[]\n",
    "def objective_Ada(trial):\n",
    "\n",
    " for train_index, val_index in (skf.split(compressed_dataset_X,y)):\n",
    "    train_X, valid_X = train_tunned_Ada[train_index], train_tunned_Ada[val_index]\n",
    "    train_Y, valid_Y = target_train_tunned_Ada[train_index], target_train_tunned_Ada[val_index]\n",
    "    \n",
    "        \n",
    "        # train_x, test_x, train_y, test_y = train_test_split(data, target, test_size=0.25,random_state=0)\n",
    "    param = {\n",
    "            # 'tree_method':'gpu_hist',  # this parameter means using the GPU when training our model to speedup the training process \n",
    "        'estimator':model_dt,\n",
    "        'n_estimators':trial.suggest_int(\"n_estimators\",50,500), # maximum number of estimators at which boosting is terminated\n",
    "        'learning_rate':trial.suggest_float(\"learning_rate\",1,3),\n",
    "        'algorithm':trial.suggest_categorical(\"algorithm\",[\"SAMME\",\"SAMME.R\"]),\n",
    "        'random_state':trial.suggest_int('random_state',0,5),\n",
    "        }\n",
    "    model_2 = AdaBoostClassifier(**param)  \n",
    "        \n",
    "    model_2.fit(train_X,train_Y)\n",
    "        \n",
    "    preds = model_2.predict(valid_X)\n",
    "    oof_preds_Ada[val_index] = preds # preds gives total 3846 predicted value for valid_X\n",
    "\n",
    "#  abs_error=np.abs(oof_preds-target_train_tunned).mean() \n",
    "#  abs_error_arr.append(abs_error)  \n",
    "#  abs_error=np.abs(oof_preds-target_train).mean()\n",
    " \n",
    "#  print(len(oof_preds))\n",
    "      \n",
    " mae = mean_absolute_error(target_train_tunned_Ada, oof_preds_Ada)\n",
    "        \n",
    " return mae"
   ]
  },
  {
   "cell_type": "code",
   "execution_count": 18,
   "metadata": {},
   "outputs": [
    {
     "name": "stderr",
     "output_type": "stream",
     "text": [
      "[I 2024-02-19 00:35:23,138] A new study created in memory with name: Ada_tunning\n"
     ]
    }
   ],
   "source": [
    "# this is the main optuna for optimizing a object-->\"objective\"\n",
    "study_Ada = optuna.create_study(direction='minimize',study_name=\"Ada_tunning\")"
   ]
  },
  {
   "cell_type": "code",
   "execution_count": 19,
   "metadata": {},
   "outputs": [
    {
     "name": "stderr",
     "output_type": "stream",
     "text": [
      "[I 2024-02-19 00:35:27,628] Trial 0 finished with value: 0.586717978053981 and parameters: {'n_estimators': 300, 'learning_rate': 2.984335190134546, 'algorithm': 'SAMME', 'random_state': 3}. Best is trial 0 with value: 0.586717978053981.\n",
      "c:\\Users\\USER\\AppData\\Local\\Programs\\Python\\Python311\\Lib\\site-packages\\sklearn\\ensemble\\_weight_boosting.py:519: FutureWarning:\n",
      "\n",
      "The SAMME.R algorithm (the default) is deprecated and will be removed in 1.6. Use the SAMME algorithm to circumvent this warning.\n",
      "\n",
      "c:\\Users\\USER\\AppData\\Local\\Programs\\Python\\Python311\\Lib\\site-packages\\sklearn\\ensemble\\_weight_boosting.py:519: FutureWarning:\n",
      "\n",
      "The SAMME.R algorithm (the default) is deprecated and will be removed in 1.6. Use the SAMME algorithm to circumvent this warning.\n",
      "\n",
      "c:\\Users\\USER\\AppData\\Local\\Programs\\Python\\Python311\\Lib\\site-packages\\sklearn\\ensemble\\_weight_boosting.py:519: FutureWarning:\n",
      "\n",
      "The SAMME.R algorithm (the default) is deprecated and will be removed in 1.6. Use the SAMME algorithm to circumvent this warning.\n",
      "\n",
      "c:\\Users\\USER\\AppData\\Local\\Programs\\Python\\Python311\\Lib\\site-packages\\sklearn\\ensemble\\_weight_boosting.py:519: FutureWarning:\n",
      "\n",
      "The SAMME.R algorithm (the default) is deprecated and will be removed in 1.6. Use the SAMME algorithm to circumvent this warning.\n",
      "\n",
      "c:\\Users\\USER\\AppData\\Local\\Programs\\Python\\Python311\\Lib\\site-packages\\sklearn\\ensemble\\_weight_boosting.py:519: FutureWarning:\n",
      "\n",
      "The SAMME.R algorithm (the default) is deprecated and will be removed in 1.6. Use the SAMME algorithm to circumvent this warning.\n",
      "\n",
      "[I 2024-02-19 00:35:31,860] Trial 1 finished with value: 0.586717978053981 and parameters: {'n_estimators': 121, 'learning_rate': 2.2511976014052433, 'algorithm': 'SAMME.R', 'random_state': 3}. Best is trial 0 with value: 0.586717978053981.\n",
      "c:\\Users\\USER\\AppData\\Local\\Programs\\Python\\Python311\\Lib\\site-packages\\sklearn\\ensemble\\_weight_boosting.py:519: FutureWarning:\n",
      "\n",
      "The SAMME.R algorithm (the default) is deprecated and will be removed in 1.6. Use the SAMME algorithm to circumvent this warning.\n",
      "\n",
      "c:\\Users\\USER\\AppData\\Local\\Programs\\Python\\Python311\\Lib\\site-packages\\sklearn\\ensemble\\_weight_boosting.py:519: FutureWarning:\n",
      "\n",
      "The SAMME.R algorithm (the default) is deprecated and will be removed in 1.6. Use the SAMME algorithm to circumvent this warning.\n",
      "\n",
      "c:\\Users\\USER\\AppData\\Local\\Programs\\Python\\Python311\\Lib\\site-packages\\sklearn\\ensemble\\_weight_boosting.py:519: FutureWarning:\n",
      "\n",
      "The SAMME.R algorithm (the default) is deprecated and will be removed in 1.6. Use the SAMME algorithm to circumvent this warning.\n",
      "\n",
      "c:\\Users\\USER\\AppData\\Local\\Programs\\Python\\Python311\\Lib\\site-packages\\sklearn\\ensemble\\_weight_boosting.py:519: FutureWarning:\n",
      "\n",
      "The SAMME.R algorithm (the default) is deprecated and will be removed in 1.6. Use the SAMME algorithm to circumvent this warning.\n",
      "\n",
      "c:\\Users\\USER\\AppData\\Local\\Programs\\Python\\Python311\\Lib\\site-packages\\sklearn\\ensemble\\_weight_boosting.py:519: FutureWarning:\n",
      "\n",
      "The SAMME.R algorithm (the default) is deprecated and will be removed in 1.6. Use the SAMME algorithm to circumvent this warning.\n",
      "\n",
      "[I 2024-02-19 00:35:36,055] Trial 2 finished with value: 0.5758489781059858 and parameters: {'n_estimators': 64, 'learning_rate': 1.3168456965188235, 'algorithm': 'SAMME.R', 'random_state': 4}. Best is trial 2 with value: 0.5758489781059858.\n",
      "c:\\Users\\USER\\AppData\\Local\\Programs\\Python\\Python311\\Lib\\site-packages\\sklearn\\ensemble\\_weight_boosting.py:519: FutureWarning:\n",
      "\n",
      "The SAMME.R algorithm (the default) is deprecated and will be removed in 1.6. Use the SAMME algorithm to circumvent this warning.\n",
      "\n",
      "c:\\Users\\USER\\AppData\\Local\\Programs\\Python\\Python311\\Lib\\site-packages\\sklearn\\ensemble\\_weight_boosting.py:519: FutureWarning:\n",
      "\n",
      "The SAMME.R algorithm (the default) is deprecated and will be removed in 1.6. Use the SAMME algorithm to circumvent this warning.\n",
      "\n",
      "c:\\Users\\USER\\AppData\\Local\\Programs\\Python\\Python311\\Lib\\site-packages\\sklearn\\ensemble\\_weight_boosting.py:519: FutureWarning:\n",
      "\n",
      "The SAMME.R algorithm (the default) is deprecated and will be removed in 1.6. Use the SAMME algorithm to circumvent this warning.\n",
      "\n",
      "c:\\Users\\USER\\AppData\\Local\\Programs\\Python\\Python311\\Lib\\site-packages\\sklearn\\ensemble\\_weight_boosting.py:519: FutureWarning:\n",
      "\n",
      "The SAMME.R algorithm (the default) is deprecated and will be removed in 1.6. Use the SAMME algorithm to circumvent this warning.\n",
      "\n",
      "c:\\Users\\USER\\AppData\\Local\\Programs\\Python\\Python311\\Lib\\site-packages\\sklearn\\ensemble\\_weight_boosting.py:519: FutureWarning:\n",
      "\n",
      "The SAMME.R algorithm (the default) is deprecated and will be removed in 1.6. Use the SAMME algorithm to circumvent this warning.\n",
      "\n",
      "[I 2024-02-19 00:35:40,053] Trial 3 finished with value: 0.5844297675386135 and parameters: {'n_estimators': 441, 'learning_rate': 1.6959565612913166, 'algorithm': 'SAMME.R', 'random_state': 2}. Best is trial 2 with value: 0.5758489781059858.\n",
      "[I 2024-02-19 00:35:44,219] Trial 4 finished with value: 0.586717978053981 and parameters: {'n_estimators': 145, 'learning_rate': 1.9460105143480184, 'algorithm': 'SAMME', 'random_state': 3}. Best is trial 2 with value: 0.5758489781059858.\n",
      "[I 2024-02-19 00:35:48,672] Trial 5 finished with value: 0.5758489781059858 and parameters: {'n_estimators': 275, 'learning_rate': 2.521818597136063, 'algorithm': 'SAMME', 'random_state': 4}. Best is trial 2 with value: 0.5758489781059858.\n",
      "c:\\Users\\USER\\AppData\\Local\\Programs\\Python\\Python311\\Lib\\site-packages\\sklearn\\ensemble\\_weight_boosting.py:519: FutureWarning:\n",
      "\n",
      "The SAMME.R algorithm (the default) is deprecated and will be removed in 1.6. Use the SAMME algorithm to circumvent this warning.\n",
      "\n",
      "c:\\Users\\USER\\AppData\\Local\\Programs\\Python\\Python311\\Lib\\site-packages\\sklearn\\ensemble\\_weight_boosting.py:519: FutureWarning:\n",
      "\n",
      "The SAMME.R algorithm (the default) is deprecated and will be removed in 1.6. Use the SAMME algorithm to circumvent this warning.\n",
      "\n",
      "c:\\Users\\USER\\AppData\\Local\\Programs\\Python\\Python311\\Lib\\site-packages\\sklearn\\ensemble\\_weight_boosting.py:519: FutureWarning:\n",
      "\n",
      "The SAMME.R algorithm (the default) is deprecated and will be removed in 1.6. Use the SAMME algorithm to circumvent this warning.\n",
      "\n",
      "c:\\Users\\USER\\AppData\\Local\\Programs\\Python\\Python311\\Lib\\site-packages\\sklearn\\ensemble\\_weight_boosting.py:519: FutureWarning:\n",
      "\n",
      "The SAMME.R algorithm (the default) is deprecated and will be removed in 1.6. Use the SAMME algorithm to circumvent this warning.\n",
      "\n",
      "c:\\Users\\USER\\AppData\\Local\\Programs\\Python\\Python311\\Lib\\site-packages\\sklearn\\ensemble\\_weight_boosting.py:519: FutureWarning:\n",
      "\n",
      "The SAMME.R algorithm (the default) is deprecated and will be removed in 1.6. Use the SAMME algorithm to circumvent this warning.\n",
      "\n",
      "[I 2024-02-19 00:35:52,987] Trial 6 finished with value: 0.586717978053981 and parameters: {'n_estimators': 122, 'learning_rate': 1.7836311603897048, 'algorithm': 'SAMME.R', 'random_state': 3}. Best is trial 2 with value: 0.5758489781059858.\n",
      "c:\\Users\\USER\\AppData\\Local\\Programs\\Python\\Python311\\Lib\\site-packages\\sklearn\\ensemble\\_weight_boosting.py:519: FutureWarning:\n",
      "\n",
      "The SAMME.R algorithm (the default) is deprecated and will be removed in 1.6. Use the SAMME algorithm to circumvent this warning.\n",
      "\n",
      "c:\\Users\\USER\\AppData\\Local\\Programs\\Python\\Python311\\Lib\\site-packages\\sklearn\\ensemble\\_weight_boosting.py:519: FutureWarning:\n",
      "\n",
      "The SAMME.R algorithm (the default) is deprecated and will be removed in 1.6. Use the SAMME algorithm to circumvent this warning.\n",
      "\n",
      "c:\\Users\\USER\\AppData\\Local\\Programs\\Python\\Python311\\Lib\\site-packages\\sklearn\\ensemble\\_weight_boosting.py:519: FutureWarning:\n",
      "\n",
      "The SAMME.R algorithm (the default) is deprecated and will be removed in 1.6. Use the SAMME algorithm to circumvent this warning.\n",
      "\n",
      "c:\\Users\\USER\\AppData\\Local\\Programs\\Python\\Python311\\Lib\\site-packages\\sklearn\\ensemble\\_weight_boosting.py:519: FutureWarning:\n",
      "\n",
      "The SAMME.R algorithm (the default) is deprecated and will be removed in 1.6. Use the SAMME algorithm to circumvent this warning.\n",
      "\n",
      "c:\\Users\\USER\\AppData\\Local\\Programs\\Python\\Python311\\Lib\\site-packages\\sklearn\\ensemble\\_weight_boosting.py:519: FutureWarning:\n",
      "\n",
      "The SAMME.R algorithm (the default) is deprecated and will be removed in 1.6. Use the SAMME algorithm to circumvent this warning.\n",
      "\n",
      "[I 2024-02-19 00:35:57,601] Trial 7 finished with value: 0.5855738727962972 and parameters: {'n_estimators': 95, 'learning_rate': 2.731760084861241, 'algorithm': 'SAMME.R', 'random_state': 5}. Best is trial 2 with value: 0.5758489781059858.\n",
      "[I 2024-02-19 00:36:01,897] Trial 8 finished with value: 0.586717978053981 and parameters: {'n_estimators': 337, 'learning_rate': 2.706548649398764, 'algorithm': 'SAMME', 'random_state': 3}. Best is trial 2 with value: 0.5758489781059858.\n",
      "c:\\Users\\USER\\AppData\\Local\\Programs\\Python\\Python311\\Lib\\site-packages\\sklearn\\ensemble\\_weight_boosting.py:519: FutureWarning:\n",
      "\n",
      "The SAMME.R algorithm (the default) is deprecated and will be removed in 1.6. Use the SAMME algorithm to circumvent this warning.\n",
      "\n",
      "c:\\Users\\USER\\AppData\\Local\\Programs\\Python\\Python311\\Lib\\site-packages\\sklearn\\ensemble\\_weight_boosting.py:519: FutureWarning:\n",
      "\n",
      "The SAMME.R algorithm (the default) is deprecated and will be removed in 1.6. Use the SAMME algorithm to circumvent this warning.\n",
      "\n",
      "c:\\Users\\USER\\AppData\\Local\\Programs\\Python\\Python311\\Lib\\site-packages\\sklearn\\ensemble\\_weight_boosting.py:519: FutureWarning:\n",
      "\n",
      "The SAMME.R algorithm (the default) is deprecated and will be removed in 1.6. Use the SAMME algorithm to circumvent this warning.\n",
      "\n",
      "c:\\Users\\USER\\AppData\\Local\\Programs\\Python\\Python311\\Lib\\site-packages\\sklearn\\ensemble\\_weight_boosting.py:519: FutureWarning:\n",
      "\n",
      "The SAMME.R algorithm (the default) is deprecated and will be removed in 1.6. Use the SAMME algorithm to circumvent this warning.\n",
      "\n",
      "c:\\Users\\USER\\AppData\\Local\\Programs\\Python\\Python311\\Lib\\site-packages\\sklearn\\ensemble\\_weight_boosting.py:519: FutureWarning:\n",
      "\n",
      "The SAMME.R algorithm (the default) is deprecated and will be removed in 1.6. Use the SAMME algorithm to circumvent this warning.\n",
      "\n",
      "[I 2024-02-19 00:36:06,126] Trial 9 finished with value: 0.5855738727962972 and parameters: {'n_estimators': 132, 'learning_rate': 2.622586790712681, 'algorithm': 'SAMME.R', 'random_state': 5}. Best is trial 2 with value: 0.5758489781059858.\n",
      "c:\\Users\\USER\\AppData\\Local\\Programs\\Python\\Python311\\Lib\\site-packages\\sklearn\\ensemble\\_weight_boosting.py:519: FutureWarning:\n",
      "\n",
      "The SAMME.R algorithm (the default) is deprecated and will be removed in 1.6. Use the SAMME algorithm to circumvent this warning.\n",
      "\n",
      "c:\\Users\\USER\\AppData\\Local\\Programs\\Python\\Python311\\Lib\\site-packages\\sklearn\\ensemble\\_weight_boosting.py:519: FutureWarning:\n",
      "\n",
      "The SAMME.R algorithm (the default) is deprecated and will be removed in 1.6. Use the SAMME algorithm to circumvent this warning.\n",
      "\n",
      "c:\\Users\\USER\\AppData\\Local\\Programs\\Python\\Python311\\Lib\\site-packages\\sklearn\\ensemble\\_weight_boosting.py:519: FutureWarning:\n",
      "\n",
      "The SAMME.R algorithm (the default) is deprecated and will be removed in 1.6. Use the SAMME algorithm to circumvent this warning.\n",
      "\n",
      "c:\\Users\\USER\\AppData\\Local\\Programs\\Python\\Python311\\Lib\\site-packages\\sklearn\\ensemble\\_weight_boosting.py:519: FutureWarning:\n",
      "\n",
      "The SAMME.R algorithm (the default) is deprecated and will be removed in 1.6. Use the SAMME algorithm to circumvent this warning.\n",
      "\n",
      "c:\\Users\\USER\\AppData\\Local\\Programs\\Python\\Python311\\Lib\\site-packages\\sklearn\\ensemble\\_weight_boosting.py:519: FutureWarning:\n",
      "\n",
      "The SAMME.R algorithm (the default) is deprecated and will be removed in 1.6. Use the SAMME algorithm to circumvent this warning.\n",
      "\n",
      "[I 2024-02-19 00:36:09,658] Trial 10 finished with value: 0.5800613656456394 and parameters: {'n_estimators': 227, 'learning_rate': 1.1169458724213537, 'algorithm': 'SAMME.R', 'random_state': 0}. Best is trial 2 with value: 0.5758489781059858.\n",
      "[I 2024-02-19 00:36:14,026] Trial 11 finished with value: 0.5758489781059858 and parameters: {'n_estimators': 499, 'learning_rate': 1.0021332492525743, 'algorithm': 'SAMME', 'random_state': 4}. Best is trial 2 with value: 0.5758489781059858.\n",
      "[I 2024-02-19 00:36:18,437] Trial 12 finished with value: 0.5758489781059858 and parameters: {'n_estimators': 221, 'learning_rate': 1.384037338997943, 'algorithm': 'SAMME', 'random_state': 4}. Best is trial 2 with value: 0.5758489781059858.\n",
      "[I 2024-02-19 00:36:23,040] Trial 13 finished with value: 0.5758489781059858 and parameters: {'n_estimators': 385, 'learning_rate': 2.298689701667271, 'algorithm': 'SAMME', 'random_state': 4}. Best is trial 2 with value: 0.5758489781059858.\n",
      "c:\\Users\\USER\\AppData\\Local\\Programs\\Python\\Python311\\Lib\\site-packages\\sklearn\\ensemble\\_weight_boosting.py:519: FutureWarning:\n",
      "\n",
      "The SAMME.R algorithm (the default) is deprecated and will be removed in 1.6. Use the SAMME algorithm to circumvent this warning.\n",
      "\n",
      "c:\\Users\\USER\\AppData\\Local\\Programs\\Python\\Python311\\Lib\\site-packages\\sklearn\\ensemble\\_weight_boosting.py:519: FutureWarning:\n",
      "\n",
      "The SAMME.R algorithm (the default) is deprecated and will be removed in 1.6. Use the SAMME algorithm to circumvent this warning.\n",
      "\n",
      "c:\\Users\\USER\\AppData\\Local\\Programs\\Python\\Python311\\Lib\\site-packages\\sklearn\\ensemble\\_weight_boosting.py:519: FutureWarning:\n",
      "\n",
      "The SAMME.R algorithm (the default) is deprecated and will be removed in 1.6. Use the SAMME algorithm to circumvent this warning.\n",
      "\n",
      "c:\\Users\\USER\\AppData\\Local\\Programs\\Python\\Python311\\Lib\\site-packages\\sklearn\\ensemble\\_weight_boosting.py:519: FutureWarning:\n",
      "\n",
      "The SAMME.R algorithm (the default) is deprecated and will be removed in 1.6. Use the SAMME algorithm to circumvent this warning.\n",
      "\n",
      "c:\\Users\\USER\\AppData\\Local\\Programs\\Python\\Python311\\Lib\\site-packages\\sklearn\\ensemble\\_weight_boosting.py:519: FutureWarning:\n",
      "\n",
      "The SAMME.R algorithm (the default) is deprecated and will be removed in 1.6. Use the SAMME algorithm to circumvent this warning.\n",
      "\n",
      "[I 2024-02-19 00:36:26,694] Trial 14 finished with value: 0.5945707005044464 and parameters: {'n_estimators': 55, 'learning_rate': 1.5200041114725926, 'algorithm': 'SAMME.R', 'random_state': 1}. Best is trial 2 with value: 0.5758489781059858.\n",
      "[I 2024-02-19 00:36:30,813] Trial 15 finished with value: 0.5855738727962972 and parameters: {'n_estimators': 206, 'learning_rate': 2.2809431428718967, 'algorithm': 'SAMME', 'random_state': 5}. Best is trial 2 with value: 0.5758489781059858.\n",
      "[I 2024-02-19 00:36:35,076] Trial 16 finished with value: 0.5758489781059858 and parameters: {'n_estimators': 281, 'learning_rate': 1.3460356351217848, 'algorithm': 'SAMME', 'random_state': 4}. Best is trial 2 with value: 0.5758489781059858.\n",
      "c:\\Users\\USER\\AppData\\Local\\Programs\\Python\\Python311\\Lib\\site-packages\\sklearn\\ensemble\\_weight_boosting.py:519: FutureWarning:\n",
      "\n",
      "The SAMME.R algorithm (the default) is deprecated and will be removed in 1.6. Use the SAMME algorithm to circumvent this warning.\n",
      "\n",
      "c:\\Users\\USER\\AppData\\Local\\Programs\\Python\\Python311\\Lib\\site-packages\\sklearn\\ensemble\\_weight_boosting.py:519: FutureWarning:\n",
      "\n",
      "The SAMME.R algorithm (the default) is deprecated and will be removed in 1.6. Use the SAMME algorithm to circumvent this warning.\n",
      "\n",
      "c:\\Users\\USER\\AppData\\Local\\Programs\\Python\\Python311\\Lib\\site-packages\\sklearn\\ensemble\\_weight_boosting.py:519: FutureWarning:\n",
      "\n",
      "The SAMME.R algorithm (the default) is deprecated and will be removed in 1.6. Use the SAMME algorithm to circumvent this warning.\n",
      "\n",
      "c:\\Users\\USER\\AppData\\Local\\Programs\\Python\\Python311\\Lib\\site-packages\\sklearn\\ensemble\\_weight_boosting.py:519: FutureWarning:\n",
      "\n",
      "The SAMME.R algorithm (the default) is deprecated and will be removed in 1.6. Use the SAMME algorithm to circumvent this warning.\n",
      "\n",
      "c:\\Users\\USER\\AppData\\Local\\Programs\\Python\\Python311\\Lib\\site-packages\\sklearn\\ensemble\\_weight_boosting.py:519: FutureWarning:\n",
      "\n",
      "The SAMME.R algorithm (the default) is deprecated and will be removed in 1.6. Use the SAMME algorithm to circumvent this warning.\n",
      "\n",
      "[I 2024-02-19 00:36:38,975] Trial 17 finished with value: 0.5844297675386135 and parameters: {'n_estimators': 181, 'learning_rate': 2.056269673660502, 'algorithm': 'SAMME.R', 'random_state': 2}. Best is trial 2 with value: 0.5758489781059858.\n",
      "c:\\Users\\USER\\AppData\\Local\\Programs\\Python\\Python311\\Lib\\site-packages\\sklearn\\ensemble\\_weight_boosting.py:519: FutureWarning:\n",
      "\n",
      "The SAMME.R algorithm (the default) is deprecated and will be removed in 1.6. Use the SAMME algorithm to circumvent this warning.\n",
      "\n",
      "c:\\Users\\USER\\AppData\\Local\\Programs\\Python\\Python311\\Lib\\site-packages\\sklearn\\ensemble\\_weight_boosting.py:519: FutureWarning:\n",
      "\n",
      "The SAMME.R algorithm (the default) is deprecated and will be removed in 1.6. Use the SAMME algorithm to circumvent this warning.\n",
      "\n",
      "c:\\Users\\USER\\AppData\\Local\\Programs\\Python\\Python311\\Lib\\site-packages\\sklearn\\ensemble\\_weight_boosting.py:519: FutureWarning:\n",
      "\n",
      "The SAMME.R algorithm (the default) is deprecated and will be removed in 1.6. Use the SAMME algorithm to circumvent this warning.\n",
      "\n",
      "c:\\Users\\USER\\AppData\\Local\\Programs\\Python\\Python311\\Lib\\site-packages\\sklearn\\ensemble\\_weight_boosting.py:519: FutureWarning:\n",
      "\n",
      "The SAMME.R algorithm (the default) is deprecated and will be removed in 1.6. Use the SAMME algorithm to circumvent this warning.\n",
      "\n",
      "c:\\Users\\USER\\AppData\\Local\\Programs\\Python\\Python311\\Lib\\site-packages\\sklearn\\ensemble\\_weight_boosting.py:519: FutureWarning:\n",
      "\n",
      "The SAMME.R algorithm (the default) is deprecated and will be removed in 1.6. Use the SAMME algorithm to circumvent this warning.\n",
      "\n",
      "[I 2024-02-19 00:36:43,061] Trial 18 finished with value: 0.5758489781059858 and parameters: {'n_estimators': 50, 'learning_rate': 2.4236946775068153, 'algorithm': 'SAMME.R', 'random_state': 4}. Best is trial 2 with value: 0.5758489781059858.\n",
      "[I 2024-02-19 00:36:47,477] Trial 19 finished with value: 0.5855738727962972 and parameters: {'n_estimators': 364, 'learning_rate': 2.953190341264409, 'algorithm': 'SAMME', 'random_state': 5}. Best is trial 2 with value: 0.5758489781059858.\n",
      "[I 2024-02-19 00:36:51,606] Trial 20 finished with value: 0.5844297675386135 and parameters: {'n_estimators': 254, 'learning_rate': 2.0171525861863953, 'algorithm': 'SAMME', 'random_state': 2}. Best is trial 2 with value: 0.5758489781059858.\n",
      "[I 2024-02-19 00:36:55,890] Trial 21 finished with value: 0.5758489781059858 and parameters: {'n_estimators': 490, 'learning_rate': 1.0018733248604816, 'algorithm': 'SAMME', 'random_state': 4}. Best is trial 2 with value: 0.5758489781059858.\n",
      "[I 2024-02-19 00:37:00,209] Trial 22 finished with value: 0.5758489781059858 and parameters: {'n_estimators': 440, 'learning_rate': 1.2162178179330203, 'algorithm': 'SAMME', 'random_state': 4}. Best is trial 2 with value: 0.5758489781059858.\n",
      "[I 2024-02-19 00:37:04,342] Trial 23 finished with value: 0.5855738727962972 and parameters: {'n_estimators': 325, 'learning_rate': 1.5514793518318366, 'algorithm': 'SAMME', 'random_state': 5}. Best is trial 2 with value: 0.5758489781059858.\n",
      "[I 2024-02-19 00:37:08,631] Trial 24 finished with value: 0.5758489781059858 and parameters: {'n_estimators': 409, 'learning_rate': 1.0390611575149231, 'algorithm': 'SAMME', 'random_state': 4}. Best is trial 2 with value: 0.5758489781059858.\n",
      "[I 2024-02-19 00:37:12,901] Trial 25 finished with value: 0.5758489781059858 and parameters: {'n_estimators': 483, 'learning_rate': 1.2527548620653617, 'algorithm': 'SAMME', 'random_state': 4}. Best is trial 2 with value: 0.5758489781059858.\n",
      "c:\\Users\\USER\\AppData\\Local\\Programs\\Python\\Python311\\Lib\\site-packages\\sklearn\\ensemble\\_weight_boosting.py:519: FutureWarning:\n",
      "\n",
      "The SAMME.R algorithm (the default) is deprecated and will be removed in 1.6. Use the SAMME algorithm to circumvent this warning.\n",
      "\n",
      "c:\\Users\\USER\\AppData\\Local\\Programs\\Python\\Python311\\Lib\\site-packages\\sklearn\\ensemble\\_weight_boosting.py:519: FutureWarning:\n",
      "\n",
      "The SAMME.R algorithm (the default) is deprecated and will be removed in 1.6. Use the SAMME algorithm to circumvent this warning.\n",
      "\n",
      "c:\\Users\\USER\\AppData\\Local\\Programs\\Python\\Python311\\Lib\\site-packages\\sklearn\\ensemble\\_weight_boosting.py:519: FutureWarning:\n",
      "\n",
      "The SAMME.R algorithm (the default) is deprecated and will be removed in 1.6. Use the SAMME algorithm to circumvent this warning.\n",
      "\n",
      "c:\\Users\\USER\\AppData\\Local\\Programs\\Python\\Python311\\Lib\\site-packages\\sklearn\\ensemble\\_weight_boosting.py:519: FutureWarning:\n",
      "\n",
      "The SAMME.R algorithm (the default) is deprecated and will be removed in 1.6. Use the SAMME algorithm to circumvent this warning.\n",
      "\n",
      "c:\\Users\\USER\\AppData\\Local\\Programs\\Python\\Python311\\Lib\\site-packages\\sklearn\\ensemble\\_weight_boosting.py:519: FutureWarning:\n",
      "\n",
      "The SAMME.R algorithm (the default) is deprecated and will be removed in 1.6. Use the SAMME algorithm to circumvent this warning.\n",
      "\n",
      "[I 2024-02-19 00:37:16,973] Trial 26 finished with value: 0.586717978053981 and parameters: {'n_estimators': 180, 'learning_rate': 1.4840520549164737, 'algorithm': 'SAMME.R', 'random_state': 3}. Best is trial 2 with value: 0.5758489781059858.\n",
      "[I 2024-02-19 00:37:20,902] Trial 27 finished with value: 0.5945707005044464 and parameters: {'n_estimators': 264, 'learning_rate': 1.7996199984565648, 'algorithm': 'SAMME', 'random_state': 1}. Best is trial 2 with value: 0.5758489781059858.\n",
      "c:\\Users\\USER\\AppData\\Local\\Programs\\Python\\Python311\\Lib\\site-packages\\sklearn\\ensemble\\_weight_boosting.py:519: FutureWarning:\n",
      "\n",
      "The SAMME.R algorithm (the default) is deprecated and will be removed in 1.6. Use the SAMME algorithm to circumvent this warning.\n",
      "\n",
      "c:\\Users\\USER\\AppData\\Local\\Programs\\Python\\Python311\\Lib\\site-packages\\sklearn\\ensemble\\_weight_boosting.py:519: FutureWarning:\n",
      "\n",
      "The SAMME.R algorithm (the default) is deprecated and will be removed in 1.6. Use the SAMME algorithm to circumvent this warning.\n",
      "\n",
      "c:\\Users\\USER\\AppData\\Local\\Programs\\Python\\Python311\\Lib\\site-packages\\sklearn\\ensemble\\_weight_boosting.py:519: FutureWarning:\n",
      "\n",
      "The SAMME.R algorithm (the default) is deprecated and will be removed in 1.6. Use the SAMME algorithm to circumvent this warning.\n",
      "\n",
      "c:\\Users\\USER\\AppData\\Local\\Programs\\Python\\Python311\\Lib\\site-packages\\sklearn\\ensemble\\_weight_boosting.py:519: FutureWarning:\n",
      "\n",
      "The SAMME.R algorithm (the default) is deprecated and will be removed in 1.6. Use the SAMME algorithm to circumvent this warning.\n",
      "\n",
      "c:\\Users\\USER\\AppData\\Local\\Programs\\Python\\Python311\\Lib\\site-packages\\sklearn\\ensemble\\_weight_boosting.py:519: FutureWarning:\n",
      "\n",
      "The SAMME.R algorithm (the default) is deprecated and will be removed in 1.6. Use the SAMME algorithm to circumvent this warning.\n",
      "\n",
      "[I 2024-02-19 00:37:25,036] Trial 28 finished with value: 0.5855738727962972 and parameters: {'n_estimators': 314, 'learning_rate': 1.1726816739990942, 'algorithm': 'SAMME.R', 'random_state': 5}. Best is trial 2 with value: 0.5758489781059858.\n",
      "[I 2024-02-19 00:37:29,081] Trial 29 finished with value: 0.586717978053981 and parameters: {'n_estimators': 353, 'learning_rate': 2.4665403803400103, 'algorithm': 'SAMME', 'random_state': 3}. Best is trial 2 with value: 0.5758489781059858.\n",
      "[I 2024-02-19 00:37:33,341] Trial 30 finished with value: 0.5758489781059858 and parameters: {'n_estimators': 299, 'learning_rate': 2.9600060857999893, 'algorithm': 'SAMME', 'random_state': 4}. Best is trial 2 with value: 0.5758489781059858.\n",
      "[I 2024-02-19 00:37:37,648] Trial 31 finished with value: 0.5758489781059858 and parameters: {'n_estimators': 226, 'learning_rate': 1.3594193139337216, 'algorithm': 'SAMME', 'random_state': 4}. Best is trial 2 with value: 0.5758489781059858.\n",
      "[I 2024-02-19 00:37:41,683] Trial 32 finished with value: 0.586717978053981 and parameters: {'n_estimators': 168, 'learning_rate': 1.3771957064125293, 'algorithm': 'SAMME', 'random_state': 3}. Best is trial 2 with value: 0.5758489781059858.\n",
      "[I 2024-02-19 00:37:45,943] Trial 33 finished with value: 0.5758489781059858 and parameters: {'n_estimators': 246, 'learning_rate': 1.5962355269802742, 'algorithm': 'SAMME', 'random_state': 4}. Best is trial 2 with value: 0.5758489781059858.\n",
      "[I 2024-02-19 00:37:50,217] Trial 34 finished with value: 0.5855738727962972 and parameters: {'n_estimators': 89, 'learning_rate': 2.1456575512991254, 'algorithm': 'SAMME', 'random_state': 5}. Best is trial 2 with value: 0.5758489781059858.\n",
      "c:\\Users\\USER\\AppData\\Local\\Programs\\Python\\Python311\\Lib\\site-packages\\sklearn\\ensemble\\_weight_boosting.py:519: FutureWarning:\n",
      "\n",
      "The SAMME.R algorithm (the default) is deprecated and will be removed in 1.6. Use the SAMME algorithm to circumvent this warning.\n",
      "\n",
      "c:\\Users\\USER\\AppData\\Local\\Programs\\Python\\Python311\\Lib\\site-packages\\sklearn\\ensemble\\_weight_boosting.py:519: FutureWarning:\n",
      "\n",
      "The SAMME.R algorithm (the default) is deprecated and will be removed in 1.6. Use the SAMME algorithm to circumvent this warning.\n",
      "\n",
      "c:\\Users\\USER\\AppData\\Local\\Programs\\Python\\Python311\\Lib\\site-packages\\sklearn\\ensemble\\_weight_boosting.py:519: FutureWarning:\n",
      "\n",
      "The SAMME.R algorithm (the default) is deprecated and will be removed in 1.6. Use the SAMME algorithm to circumvent this warning.\n",
      "\n",
      "c:\\Users\\USER\\AppData\\Local\\Programs\\Python\\Python311\\Lib\\site-packages\\sklearn\\ensemble\\_weight_boosting.py:519: FutureWarning:\n",
      "\n",
      "The SAMME.R algorithm (the default) is deprecated and will be removed in 1.6. Use the SAMME algorithm to circumvent this warning.\n",
      "\n",
      "c:\\Users\\USER\\AppData\\Local\\Programs\\Python\\Python311\\Lib\\site-packages\\sklearn\\ensemble\\_weight_boosting.py:519: FutureWarning:\n",
      "\n",
      "The SAMME.R algorithm (the default) is deprecated and will be removed in 1.6. Use the SAMME algorithm to circumvent this warning.\n",
      "\n",
      "[I 2024-02-19 00:37:54,225] Trial 35 finished with value: 0.586717978053981 and parameters: {'n_estimators': 290, 'learning_rate': 1.1160574596005064, 'algorithm': 'SAMME.R', 'random_state': 3}. Best is trial 2 with value: 0.5758489781059858.\n",
      "[I 2024-02-19 00:37:58,116] Trial 36 finished with value: 0.5844297675386135 and parameters: {'n_estimators': 206, 'learning_rate': 1.6856520457321957, 'algorithm': 'SAMME', 'random_state': 2}. Best is trial 2 with value: 0.5758489781059858.\n",
      "c:\\Users\\USER\\AppData\\Local\\Programs\\Python\\Python311\\Lib\\site-packages\\sklearn\\ensemble\\_weight_boosting.py:519: FutureWarning:\n",
      "\n",
      "The SAMME.R algorithm (the default) is deprecated and will be removed in 1.6. Use the SAMME algorithm to circumvent this warning.\n",
      "\n",
      "c:\\Users\\USER\\AppData\\Local\\Programs\\Python\\Python311\\Lib\\site-packages\\sklearn\\ensemble\\_weight_boosting.py:519: FutureWarning:\n",
      "\n",
      "The SAMME.R algorithm (the default) is deprecated and will be removed in 1.6. Use the SAMME algorithm to circumvent this warning.\n",
      "\n",
      "c:\\Users\\USER\\AppData\\Local\\Programs\\Python\\Python311\\Lib\\site-packages\\sklearn\\ensemble\\_weight_boosting.py:519: FutureWarning:\n",
      "\n",
      "The SAMME.R algorithm (the default) is deprecated and will be removed in 1.6. Use the SAMME algorithm to circumvent this warning.\n",
      "\n",
      "c:\\Users\\USER\\AppData\\Local\\Programs\\Python\\Python311\\Lib\\site-packages\\sklearn\\ensemble\\_weight_boosting.py:519: FutureWarning:\n",
      "\n",
      "The SAMME.R algorithm (the default) is deprecated and will be removed in 1.6. Use the SAMME algorithm to circumvent this warning.\n",
      "\n",
      "c:\\Users\\USER\\AppData\\Local\\Programs\\Python\\Python311\\Lib\\site-packages\\sklearn\\ensemble\\_weight_boosting.py:519: FutureWarning:\n",
      "\n",
      "The SAMME.R algorithm (the default) is deprecated and will be removed in 1.6. Use the SAMME algorithm to circumvent this warning.\n",
      "\n",
      "[I 2024-02-19 00:38:02,189] Trial 37 finished with value: 0.586717978053981 and parameters: {'n_estimators': 83, 'learning_rate': 1.266090696059422, 'algorithm': 'SAMME.R', 'random_state': 3}. Best is trial 2 with value: 0.5758489781059858.\n",
      "[I 2024-02-19 00:38:06,468] Trial 38 finished with value: 0.5758489781059858 and parameters: {'n_estimators': 454, 'learning_rate': 1.413251448238266, 'algorithm': 'SAMME', 'random_state': 4}. Best is trial 2 with value: 0.5758489781059858.\n",
      "c:\\Users\\USER\\AppData\\Local\\Programs\\Python\\Python311\\Lib\\site-packages\\sklearn\\ensemble\\_weight_boosting.py:519: FutureWarning:\n",
      "\n",
      "The SAMME.R algorithm (the default) is deprecated and will be removed in 1.6. Use the SAMME algorithm to circumvent this warning.\n",
      "\n",
      "c:\\Users\\USER\\AppData\\Local\\Programs\\Python\\Python311\\Lib\\site-packages\\sklearn\\ensemble\\_weight_boosting.py:519: FutureWarning:\n",
      "\n",
      "The SAMME.R algorithm (the default) is deprecated and will be removed in 1.6. Use the SAMME algorithm to circumvent this warning.\n",
      "\n",
      "c:\\Users\\USER\\AppData\\Local\\Programs\\Python\\Python311\\Lib\\site-packages\\sklearn\\ensemble\\_weight_boosting.py:519: FutureWarning:\n",
      "\n",
      "The SAMME.R algorithm (the default) is deprecated and will be removed in 1.6. Use the SAMME algorithm to circumvent this warning.\n",
      "\n",
      "c:\\Users\\USER\\AppData\\Local\\Programs\\Python\\Python311\\Lib\\site-packages\\sklearn\\ensemble\\_weight_boosting.py:519: FutureWarning:\n",
      "\n",
      "The SAMME.R algorithm (the default) is deprecated and will be removed in 1.6. Use the SAMME algorithm to circumvent this warning.\n",
      "\n",
      "c:\\Users\\USER\\AppData\\Local\\Programs\\Python\\Python311\\Lib\\site-packages\\sklearn\\ensemble\\_weight_boosting.py:519: FutureWarning:\n",
      "\n",
      "The SAMME.R algorithm (the default) is deprecated and will be removed in 1.6. Use the SAMME algorithm to circumvent this warning.\n",
      "\n",
      "[I 2024-02-19 00:38:10,587] Trial 39 finished with value: 0.5855738727962972 and parameters: {'n_estimators': 148, 'learning_rate': 1.8295562166515458, 'algorithm': 'SAMME.R', 'random_state': 5}. Best is trial 2 with value: 0.5758489781059858.\n",
      "[I 2024-02-19 00:38:14,703] Trial 40 finished with value: 0.586717978053981 and parameters: {'n_estimators': 410, 'learning_rate': 1.9188052557297226, 'algorithm': 'SAMME', 'random_state': 3}. Best is trial 2 with value: 0.5758489781059858.\n",
      "[I 2024-02-19 00:38:19,016] Trial 41 finished with value: 0.5758489781059858 and parameters: {'n_estimators': 394, 'learning_rate': 2.480488240766284, 'algorithm': 'SAMME', 'random_state': 4}. Best is trial 2 with value: 0.5758489781059858.\n",
      "[I 2024-02-19 00:38:23,328] Trial 42 finished with value: 0.5758489781059858 and parameters: {'n_estimators': 379, 'learning_rate': 2.3160965491614016, 'algorithm': 'SAMME', 'random_state': 4}. Best is trial 2 with value: 0.5758489781059858.\n",
      "[I 2024-02-19 00:38:27,580] Trial 43 finished with value: 0.5758489781059858 and parameters: {'n_estimators': 462, 'learning_rate': 2.683513638785652, 'algorithm': 'SAMME', 'random_state': 4}. Best is trial 2 with value: 0.5758489781059858.\n",
      "[I 2024-02-19 00:38:31,720] Trial 44 finished with value: 0.5855738727962972 and parameters: {'n_estimators': 430, 'learning_rate': 2.8034128045571842, 'algorithm': 'SAMME', 'random_state': 5}. Best is trial 2 with value: 0.5758489781059858.\n",
      "c:\\Users\\USER\\AppData\\Local\\Programs\\Python\\Python311\\Lib\\site-packages\\sklearn\\ensemble\\_weight_boosting.py:519: FutureWarning:\n",
      "\n",
      "The SAMME.R algorithm (the default) is deprecated and will be removed in 1.6. Use the SAMME algorithm to circumvent this warning.\n",
      "\n",
      "c:\\Users\\USER\\AppData\\Local\\Programs\\Python\\Python311\\Lib\\site-packages\\sklearn\\ensemble\\_weight_boosting.py:519: FutureWarning:\n",
      "\n",
      "The SAMME.R algorithm (the default) is deprecated and will be removed in 1.6. Use the SAMME algorithm to circumvent this warning.\n",
      "\n",
      "c:\\Users\\USER\\AppData\\Local\\Programs\\Python\\Python311\\Lib\\site-packages\\sklearn\\ensemble\\_weight_boosting.py:519: FutureWarning:\n",
      "\n",
      "The SAMME.R algorithm (the default) is deprecated and will be removed in 1.6. Use the SAMME algorithm to circumvent this warning.\n",
      "\n",
      "c:\\Users\\USER\\AppData\\Local\\Programs\\Python\\Python311\\Lib\\site-packages\\sklearn\\ensemble\\_weight_boosting.py:519: FutureWarning:\n",
      "\n",
      "The SAMME.R algorithm (the default) is deprecated and will be removed in 1.6. Use the SAMME algorithm to circumvent this warning.\n",
      "\n",
      "c:\\Users\\USER\\AppData\\Local\\Programs\\Python\\Python311\\Lib\\site-packages\\sklearn\\ensemble\\_weight_boosting.py:519: FutureWarning:\n",
      "\n",
      "The SAMME.R algorithm (the default) is deprecated and will be removed in 1.6. Use the SAMME algorithm to circumvent this warning.\n",
      "\n",
      "[I 2024-02-19 00:38:35,994] Trial 45 finished with value: 0.5758489781059858 and parameters: {'n_estimators': 340, 'learning_rate': 2.5588375211706262, 'algorithm': 'SAMME.R', 'random_state': 4}. Best is trial 2 with value: 0.5758489781059858.\n",
      "[I 2024-02-19 00:38:40,036] Trial 46 finished with value: 0.586717978053981 and parameters: {'n_estimators': 225, 'learning_rate': 2.2016832809053617, 'algorithm': 'SAMME', 'random_state': 3}. Best is trial 2 with value: 0.5758489781059858.\n",
      "c:\\Users\\USER\\AppData\\Local\\Programs\\Python\\Python311\\Lib\\site-packages\\sklearn\\ensemble\\_weight_boosting.py:519: FutureWarning:\n",
      "\n",
      "The SAMME.R algorithm (the default) is deprecated and will be removed in 1.6. Use the SAMME algorithm to circumvent this warning.\n",
      "\n",
      "c:\\Users\\USER\\AppData\\Local\\Programs\\Python\\Python311\\Lib\\site-packages\\sklearn\\ensemble\\_weight_boosting.py:519: FutureWarning:\n",
      "\n",
      "The SAMME.R algorithm (the default) is deprecated and will be removed in 1.6. Use the SAMME algorithm to circumvent this warning.\n",
      "\n",
      "c:\\Users\\USER\\AppData\\Local\\Programs\\Python\\Python311\\Lib\\site-packages\\sklearn\\ensemble\\_weight_boosting.py:519: FutureWarning:\n",
      "\n",
      "The SAMME.R algorithm (the default) is deprecated and will be removed in 1.6. Use the SAMME algorithm to circumvent this warning.\n",
      "\n",
      "c:\\Users\\USER\\AppData\\Local\\Programs\\Python\\Python311\\Lib\\site-packages\\sklearn\\ensemble\\_weight_boosting.py:519: FutureWarning:\n",
      "\n",
      "The SAMME.R algorithm (the default) is deprecated and will be removed in 1.6. Use the SAMME algorithm to circumvent this warning.\n",
      "\n",
      "c:\\Users\\USER\\AppData\\Local\\Programs\\Python\\Python311\\Lib\\site-packages\\sklearn\\ensemble\\_weight_boosting.py:519: FutureWarning:\n",
      "\n",
      "The SAMME.R algorithm (the default) is deprecated and will be removed in 1.6. Use the SAMME algorithm to circumvent this warning.\n",
      "\n",
      "[I 2024-02-19 00:38:44,177] Trial 47 finished with value: 0.5855738727962972 and parameters: {'n_estimators': 111, 'learning_rate': 2.3422553968451583, 'algorithm': 'SAMME.R', 'random_state': 5}. Best is trial 2 with value: 0.5758489781059858.\n",
      "[I 2024-02-19 00:38:47,835] Trial 48 finished with value: 0.5945707005044464 and parameters: {'n_estimators': 317, 'learning_rate': 2.116385462839059, 'algorithm': 'SAMME', 'random_state': 1}. Best is trial 2 with value: 0.5758489781059858.\n",
      "[I 2024-02-19 00:38:52,551] Trial 49 finished with value: 0.5758489781059858 and parameters: {'n_estimators': 499, 'learning_rate': 1.6826002917661558, 'algorithm': 'SAMME', 'random_state': 4}. Best is trial 2 with value: 0.5758489781059858.\n",
      "c:\\Users\\USER\\AppData\\Local\\Programs\\Python\\Python311\\Lib\\site-packages\\sklearn\\ensemble\\_weight_boosting.py:519: FutureWarning:\n",
      "\n",
      "The SAMME.R algorithm (the default) is deprecated and will be removed in 1.6. Use the SAMME algorithm to circumvent this warning.\n",
      "\n",
      "c:\\Users\\USER\\AppData\\Local\\Programs\\Python\\Python311\\Lib\\site-packages\\sklearn\\ensemble\\_weight_boosting.py:519: FutureWarning:\n",
      "\n",
      "The SAMME.R algorithm (the default) is deprecated and will be removed in 1.6. Use the SAMME algorithm to circumvent this warning.\n",
      "\n",
      "c:\\Users\\USER\\AppData\\Local\\Programs\\Python\\Python311\\Lib\\site-packages\\sklearn\\ensemble\\_weight_boosting.py:519: FutureWarning:\n",
      "\n",
      "The SAMME.R algorithm (the default) is deprecated and will be removed in 1.6. Use the SAMME algorithm to circumvent this warning.\n",
      "\n",
      "c:\\Users\\USER\\AppData\\Local\\Programs\\Python\\Python311\\Lib\\site-packages\\sklearn\\ensemble\\_weight_boosting.py:519: FutureWarning:\n",
      "\n",
      "The SAMME.R algorithm (the default) is deprecated and will be removed in 1.6. Use the SAMME algorithm to circumvent this warning.\n",
      "\n",
      "c:\\Users\\USER\\AppData\\Local\\Programs\\Python\\Python311\\Lib\\site-packages\\sklearn\\ensemble\\_weight_boosting.py:519: FutureWarning:\n",
      "\n",
      "The SAMME.R algorithm (the default) is deprecated and will be removed in 1.6. Use the SAMME algorithm to circumvent this warning.\n",
      "\n",
      "[I 2024-02-19 00:38:56,080] Trial 50 finished with value: 0.5800613656456394 and parameters: {'n_estimators': 280, 'learning_rate': 2.3763383591981704, 'algorithm': 'SAMME.R', 'random_state': 0}. Best is trial 2 with value: 0.5758489781059858.\n",
      "[I 2024-02-19 00:39:00,503] Trial 51 finished with value: 0.5758489781059858 and parameters: {'n_estimators': 270, 'learning_rate': 1.3001534338626246, 'algorithm': 'SAMME', 'random_state': 4}. Best is trial 2 with value: 0.5758489781059858.\n",
      "[I 2024-02-19 00:39:04,818] Trial 52 finished with value: 0.5758489781059858 and parameters: {'n_estimators': 369, 'learning_rate': 1.0733437488366342, 'algorithm': 'SAMME', 'random_state': 4}. Best is trial 2 with value: 0.5758489781059858.\n",
      "[I 2024-02-19 00:39:09,505] Trial 53 finished with value: 0.5758489781059858 and parameters: {'n_estimators': 66, 'learning_rate': 1.472294087998328, 'algorithm': 'SAMME', 'random_state': 4}. Best is trial 2 with value: 0.5758489781059858.\n",
      "[I 2024-02-19 00:39:13,921] Trial 54 finished with value: 0.5855738727962972 and parameters: {'n_estimators': 244, 'learning_rate': 1.1714172193771684, 'algorithm': 'SAMME', 'random_state': 5}. Best is trial 2 with value: 0.5758489781059858.\n",
      "[I 2024-02-19 00:39:18,227] Trial 55 finished with value: 0.5758489781059858 and parameters: {'n_estimators': 154, 'learning_rate': 1.6128474088876688, 'algorithm': 'SAMME', 'random_state': 4}. Best is trial 2 with value: 0.5758489781059858.\n",
      "[I 2024-02-19 00:39:22,437] Trial 56 finished with value: 0.586717978053981 and parameters: {'n_estimators': 193, 'learning_rate': 2.8291435640924147, 'algorithm': 'SAMME', 'random_state': 3}. Best is trial 2 with value: 0.5758489781059858.\n",
      "[I 2024-02-19 00:39:26,587] Trial 57 finished with value: 0.5855738727962972 and parameters: {'n_estimators': 346, 'learning_rate': 2.5561861708962517, 'algorithm': 'SAMME', 'random_state': 5}. Best is trial 2 with value: 0.5758489781059858.\n",
      "c:\\Users\\USER\\AppData\\Local\\Programs\\Python\\Python311\\Lib\\site-packages\\sklearn\\ensemble\\_weight_boosting.py:519: FutureWarning:\n",
      "\n",
      "The SAMME.R algorithm (the default) is deprecated and will be removed in 1.6. Use the SAMME algorithm to circumvent this warning.\n",
      "\n",
      "c:\\Users\\USER\\AppData\\Local\\Programs\\Python\\Python311\\Lib\\site-packages\\sklearn\\ensemble\\_weight_boosting.py:519: FutureWarning:\n",
      "\n",
      "The SAMME.R algorithm (the default) is deprecated and will be removed in 1.6. Use the SAMME algorithm to circumvent this warning.\n",
      "\n",
      "c:\\Users\\USER\\AppData\\Local\\Programs\\Python\\Python311\\Lib\\site-packages\\sklearn\\ensemble\\_weight_boosting.py:519: FutureWarning:\n",
      "\n",
      "The SAMME.R algorithm (the default) is deprecated and will be removed in 1.6. Use the SAMME algorithm to circumvent this warning.\n",
      "\n",
      "c:\\Users\\USER\\AppData\\Local\\Programs\\Python\\Python311\\Lib\\site-packages\\sklearn\\ensemble\\_weight_boosting.py:519: FutureWarning:\n",
      "\n",
      "The SAMME.R algorithm (the default) is deprecated and will be removed in 1.6. Use the SAMME algorithm to circumvent this warning.\n",
      "\n",
      "c:\\Users\\USER\\AppData\\Local\\Programs\\Python\\Python311\\Lib\\site-packages\\sklearn\\ensemble\\_weight_boosting.py:519: FutureWarning:\n",
      "\n",
      "The SAMME.R algorithm (the default) is deprecated and will be removed in 1.6. Use the SAMME algorithm to circumvent this warning.\n",
      "\n",
      "[I 2024-02-19 00:39:30,916] Trial 58 finished with value: 0.5758489781059858 and parameters: {'n_estimators': 114, 'learning_rate': 1.3186519939953316, 'algorithm': 'SAMME.R', 'random_state': 4}. Best is trial 2 with value: 0.5758489781059858.\n",
      "[I 2024-02-19 00:39:35,518] Trial 59 finished with value: 0.5758489781059858 and parameters: {'n_estimators': 477, 'learning_rate': 1.0027136588142889, 'algorithm': 'SAMME', 'random_state': 4}. Best is trial 2 with value: 0.5758489781059858.\n",
      "[I 2024-02-19 00:39:39,539] Trial 60 finished with value: 0.586717978053981 and parameters: {'n_estimators': 305, 'learning_rate': 1.1981700591118813, 'algorithm': 'SAMME', 'random_state': 3}. Best is trial 2 with value: 0.5758489781059858.\n",
      "c:\\Users\\USER\\AppData\\Local\\Programs\\Python\\Python311\\Lib\\site-packages\\sklearn\\ensemble\\_weight_boosting.py:519: FutureWarning:\n",
      "\n",
      "The SAMME.R algorithm (the default) is deprecated and will be removed in 1.6. Use the SAMME algorithm to circumvent this warning.\n",
      "\n",
      "c:\\Users\\USER\\AppData\\Local\\Programs\\Python\\Python311\\Lib\\site-packages\\sklearn\\ensemble\\_weight_boosting.py:519: FutureWarning:\n",
      "\n",
      "The SAMME.R algorithm (the default) is deprecated and will be removed in 1.6. Use the SAMME algorithm to circumvent this warning.\n",
      "\n",
      "c:\\Users\\USER\\AppData\\Local\\Programs\\Python\\Python311\\Lib\\site-packages\\sklearn\\ensemble\\_weight_boosting.py:519: FutureWarning:\n",
      "\n",
      "The SAMME.R algorithm (the default) is deprecated and will be removed in 1.6. Use the SAMME algorithm to circumvent this warning.\n",
      "\n",
      "c:\\Users\\USER\\AppData\\Local\\Programs\\Python\\Python311\\Lib\\site-packages\\sklearn\\ensemble\\_weight_boosting.py:519: FutureWarning:\n",
      "\n",
      "The SAMME.R algorithm (the default) is deprecated and will be removed in 1.6. Use the SAMME algorithm to circumvent this warning.\n",
      "\n",
      "c:\\Users\\USER\\AppData\\Local\\Programs\\Python\\Python311\\Lib\\site-packages\\sklearn\\ensemble\\_weight_boosting.py:519: FutureWarning:\n",
      "\n",
      "The SAMME.R algorithm (the default) is deprecated and will be removed in 1.6. Use the SAMME algorithm to circumvent this warning.\n",
      "\n",
      "[I 2024-02-19 00:39:43,804] Trial 61 finished with value: 0.5758489781059858 and parameters: {'n_estimators': 58, 'learning_rate': 2.374410057799153, 'algorithm': 'SAMME.R', 'random_state': 4}. Best is trial 2 with value: 0.5758489781059858.\n",
      "c:\\Users\\USER\\AppData\\Local\\Programs\\Python\\Python311\\Lib\\site-packages\\sklearn\\ensemble\\_weight_boosting.py:519: FutureWarning:\n",
      "\n",
      "The SAMME.R algorithm (the default) is deprecated and will be removed in 1.6. Use the SAMME algorithm to circumvent this warning.\n",
      "\n",
      "c:\\Users\\USER\\AppData\\Local\\Programs\\Python\\Python311\\Lib\\site-packages\\sklearn\\ensemble\\_weight_boosting.py:519: FutureWarning:\n",
      "\n",
      "The SAMME.R algorithm (the default) is deprecated and will be removed in 1.6. Use the SAMME algorithm to circumvent this warning.\n",
      "\n",
      "c:\\Users\\USER\\AppData\\Local\\Programs\\Python\\Python311\\Lib\\site-packages\\sklearn\\ensemble\\_weight_boosting.py:519: FutureWarning:\n",
      "\n",
      "The SAMME.R algorithm (the default) is deprecated and will be removed in 1.6. Use the SAMME algorithm to circumvent this warning.\n",
      "\n",
      "c:\\Users\\USER\\AppData\\Local\\Programs\\Python\\Python311\\Lib\\site-packages\\sklearn\\ensemble\\_weight_boosting.py:519: FutureWarning:\n",
      "\n",
      "The SAMME.R algorithm (the default) is deprecated and will be removed in 1.6. Use the SAMME algorithm to circumvent this warning.\n",
      "\n",
      "c:\\Users\\USER\\AppData\\Local\\Programs\\Python\\Python311\\Lib\\site-packages\\sklearn\\ensemble\\_weight_boosting.py:519: FutureWarning:\n",
      "\n",
      "The SAMME.R algorithm (the default) is deprecated and will be removed in 1.6. Use the SAMME algorithm to circumvent this warning.\n",
      "\n",
      "[I 2024-02-19 00:39:48,020] Trial 62 finished with value: 0.5758489781059858 and parameters: {'n_estimators': 83, 'learning_rate': 2.4434178902242953, 'algorithm': 'SAMME.R', 'random_state': 4}. Best is trial 2 with value: 0.5758489781059858.\n",
      "c:\\Users\\USER\\AppData\\Local\\Programs\\Python\\Python311\\Lib\\site-packages\\sklearn\\ensemble\\_weight_boosting.py:519: FutureWarning:\n",
      "\n",
      "The SAMME.R algorithm (the default) is deprecated and will be removed in 1.6. Use the SAMME algorithm to circumvent this warning.\n",
      "\n",
      "c:\\Users\\USER\\AppData\\Local\\Programs\\Python\\Python311\\Lib\\site-packages\\sklearn\\ensemble\\_weight_boosting.py:519: FutureWarning:\n",
      "\n",
      "The SAMME.R algorithm (the default) is deprecated and will be removed in 1.6. Use the SAMME algorithm to circumvent this warning.\n",
      "\n",
      "c:\\Users\\USER\\AppData\\Local\\Programs\\Python\\Python311\\Lib\\site-packages\\sklearn\\ensemble\\_weight_boosting.py:519: FutureWarning:\n",
      "\n",
      "The SAMME.R algorithm (the default) is deprecated and will be removed in 1.6. Use the SAMME algorithm to circumvent this warning.\n",
      "\n",
      "c:\\Users\\USER\\AppData\\Local\\Programs\\Python\\Python311\\Lib\\site-packages\\sklearn\\ensemble\\_weight_boosting.py:519: FutureWarning:\n",
      "\n",
      "The SAMME.R algorithm (the default) is deprecated and will be removed in 1.6. Use the SAMME algorithm to circumvent this warning.\n",
      "\n",
      "c:\\Users\\USER\\AppData\\Local\\Programs\\Python\\Python311\\Lib\\site-packages\\sklearn\\ensemble\\_weight_boosting.py:519: FutureWarning:\n",
      "\n",
      "The SAMME.R algorithm (the default) is deprecated and will be removed in 1.6. Use the SAMME algorithm to circumvent this warning.\n",
      "\n",
      "[I 2024-02-19 00:39:52,684] Trial 63 finished with value: 0.5758489781059858 and parameters: {'n_estimators': 135, 'learning_rate': 2.5882494922755357, 'algorithm': 'SAMME.R', 'random_state': 4}. Best is trial 2 with value: 0.5758489781059858.\n",
      "c:\\Users\\USER\\AppData\\Local\\Programs\\Python\\Python311\\Lib\\site-packages\\sklearn\\ensemble\\_weight_boosting.py:519: FutureWarning:\n",
      "\n",
      "The SAMME.R algorithm (the default) is deprecated and will be removed in 1.6. Use the SAMME algorithm to circumvent this warning.\n",
      "\n",
      "c:\\Users\\USER\\AppData\\Local\\Programs\\Python\\Python311\\Lib\\site-packages\\sklearn\\ensemble\\_weight_boosting.py:519: FutureWarning:\n",
      "\n",
      "The SAMME.R algorithm (the default) is deprecated and will be removed in 1.6. Use the SAMME algorithm to circumvent this warning.\n",
      "\n",
      "c:\\Users\\USER\\AppData\\Local\\Programs\\Python\\Python311\\Lib\\site-packages\\sklearn\\ensemble\\_weight_boosting.py:519: FutureWarning:\n",
      "\n",
      "The SAMME.R algorithm (the default) is deprecated and will be removed in 1.6. Use the SAMME algorithm to circumvent this warning.\n",
      "\n",
      "c:\\Users\\USER\\AppData\\Local\\Programs\\Python\\Python311\\Lib\\site-packages\\sklearn\\ensemble\\_weight_boosting.py:519: FutureWarning:\n",
      "\n",
      "The SAMME.R algorithm (the default) is deprecated and will be removed in 1.6. Use the SAMME algorithm to circumvent this warning.\n",
      "\n",
      "c:\\Users\\USER\\AppData\\Local\\Programs\\Python\\Python311\\Lib\\site-packages\\sklearn\\ensemble\\_weight_boosting.py:519: FutureWarning:\n",
      "\n",
      "The SAMME.R algorithm (the default) is deprecated and will be removed in 1.6. Use the SAMME algorithm to circumvent this warning.\n",
      "\n",
      "[I 2024-02-19 00:39:56,943] Trial 64 finished with value: 0.5758489781059858 and parameters: {'n_estimators': 52, 'learning_rate': 2.2542074718396408, 'algorithm': 'SAMME.R', 'random_state': 4}. Best is trial 2 with value: 0.5758489781059858.\n",
      "c:\\Users\\USER\\AppData\\Local\\Programs\\Python\\Python311\\Lib\\site-packages\\sklearn\\ensemble\\_weight_boosting.py:519: FutureWarning:\n",
      "\n",
      "The SAMME.R algorithm (the default) is deprecated and will be removed in 1.6. Use the SAMME algorithm to circumvent this warning.\n",
      "\n",
      "c:\\Users\\USER\\AppData\\Local\\Programs\\Python\\Python311\\Lib\\site-packages\\sklearn\\ensemble\\_weight_boosting.py:519: FutureWarning:\n",
      "\n",
      "The SAMME.R algorithm (the default) is deprecated and will be removed in 1.6. Use the SAMME algorithm to circumvent this warning.\n",
      "\n",
      "c:\\Users\\USER\\AppData\\Local\\Programs\\Python\\Python311\\Lib\\site-packages\\sklearn\\ensemble\\_weight_boosting.py:519: FutureWarning:\n",
      "\n",
      "The SAMME.R algorithm (the default) is deprecated and will be removed in 1.6. Use the SAMME algorithm to circumvent this warning.\n",
      "\n",
      "c:\\Users\\USER\\AppData\\Local\\Programs\\Python\\Python311\\Lib\\site-packages\\sklearn\\ensemble\\_weight_boosting.py:519: FutureWarning:\n",
      "\n",
      "The SAMME.R algorithm (the default) is deprecated and will be removed in 1.6. Use the SAMME algorithm to circumvent this warning.\n",
      "\n",
      "c:\\Users\\USER\\AppData\\Local\\Programs\\Python\\Python311\\Lib\\site-packages\\sklearn\\ensemble\\_weight_boosting.py:519: FutureWarning:\n",
      "\n",
      "The SAMME.R algorithm (the default) is deprecated and will be removed in 1.6. Use the SAMME algorithm to circumvent this warning.\n",
      "\n",
      "[I 2024-02-19 00:40:01,829] Trial 65 finished with value: 0.5855738727962972 and parameters: {'n_estimators': 68, 'learning_rate': 1.43156205757476, 'algorithm': 'SAMME.R', 'random_state': 5}. Best is trial 2 with value: 0.5758489781059858.\n",
      "[I 2024-02-19 00:40:06,092] Trial 66 finished with value: 0.5844297675386135 and parameters: {'n_estimators': 329, 'learning_rate': 1.1226023397228835, 'algorithm': 'SAMME', 'random_state': 2}. Best is trial 2 with value: 0.5758489781059858.\n",
      "c:\\Users\\USER\\AppData\\Local\\Programs\\Python\\Python311\\Lib\\site-packages\\sklearn\\ensemble\\_weight_boosting.py:519: FutureWarning:\n",
      "\n",
      "The SAMME.R algorithm (the default) is deprecated and will be removed in 1.6. Use the SAMME algorithm to circumvent this warning.\n",
      "\n",
      "c:\\Users\\USER\\AppData\\Local\\Programs\\Python\\Python311\\Lib\\site-packages\\sklearn\\ensemble\\_weight_boosting.py:519: FutureWarning:\n",
      "\n",
      "The SAMME.R algorithm (the default) is deprecated and will be removed in 1.6. Use the SAMME algorithm to circumvent this warning.\n",
      "\n",
      "c:\\Users\\USER\\AppData\\Local\\Programs\\Python\\Python311\\Lib\\site-packages\\sklearn\\ensemble\\_weight_boosting.py:519: FutureWarning:\n",
      "\n",
      "The SAMME.R algorithm (the default) is deprecated and will be removed in 1.6. Use the SAMME algorithm to circumvent this warning.\n",
      "\n",
      "c:\\Users\\USER\\AppData\\Local\\Programs\\Python\\Python311\\Lib\\site-packages\\sklearn\\ensemble\\_weight_boosting.py:519: FutureWarning:\n",
      "\n",
      "The SAMME.R algorithm (the default) is deprecated and will be removed in 1.6. Use the SAMME algorithm to circumvent this warning.\n",
      "\n",
      "c:\\Users\\USER\\AppData\\Local\\Programs\\Python\\Python311\\Lib\\site-packages\\sklearn\\ensemble\\_weight_boosting.py:519: FutureWarning:\n",
      "\n",
      "The SAMME.R algorithm (the default) is deprecated and will be removed in 1.6. Use the SAMME algorithm to circumvent this warning.\n",
      "\n",
      "[I 2024-02-19 00:40:12,000] Trial 67 finished with value: 0.5758489781059858 and parameters: {'n_estimators': 414, 'learning_rate': 2.6522713378819165, 'algorithm': 'SAMME.R', 'random_state': 4}. Best is trial 2 with value: 0.5758489781059858.\n",
      "[I 2024-02-19 00:40:16,296] Trial 68 finished with value: 0.586717978053981 and parameters: {'n_estimators': 288, 'learning_rate': 2.413965457369127, 'algorithm': 'SAMME', 'random_state': 3}. Best is trial 2 with value: 0.5758489781059858.\n",
      "[I 2024-02-19 00:40:20,766] Trial 69 finished with value: 0.5758489781059858 and parameters: {'n_estimators': 392, 'learning_rate': 1.9485056373275813, 'algorithm': 'SAMME', 'random_state': 4}. Best is trial 2 with value: 0.5758489781059858.\n",
      "c:\\Users\\USER\\AppData\\Local\\Programs\\Python\\Python311\\Lib\\site-packages\\sklearn\\ensemble\\_weight_boosting.py:519: FutureWarning:\n",
      "\n",
      "The SAMME.R algorithm (the default) is deprecated and will be removed in 1.6. Use the SAMME algorithm to circumvent this warning.\n",
      "\n",
      "c:\\Users\\USER\\AppData\\Local\\Programs\\Python\\Python311\\Lib\\site-packages\\sklearn\\ensemble\\_weight_boosting.py:519: FutureWarning:\n",
      "\n",
      "The SAMME.R algorithm (the default) is deprecated and will be removed in 1.6. Use the SAMME algorithm to circumvent this warning.\n",
      "\n",
      "c:\\Users\\USER\\AppData\\Local\\Programs\\Python\\Python311\\Lib\\site-packages\\sklearn\\ensemble\\_weight_boosting.py:519: FutureWarning:\n",
      "\n",
      "The SAMME.R algorithm (the default) is deprecated and will be removed in 1.6. Use the SAMME algorithm to circumvent this warning.\n",
      "\n",
      "c:\\Users\\USER\\AppData\\Local\\Programs\\Python\\Python311\\Lib\\site-packages\\sklearn\\ensemble\\_weight_boosting.py:519: FutureWarning:\n",
      "\n",
      "The SAMME.R algorithm (the default) is deprecated and will be removed in 1.6. Use the SAMME algorithm to circumvent this warning.\n",
      "\n",
      "c:\\Users\\USER\\AppData\\Local\\Programs\\Python\\Python311\\Lib\\site-packages\\sklearn\\ensemble\\_weight_boosting.py:519: FutureWarning:\n",
      "\n",
      "The SAMME.R algorithm (the default) is deprecated and will be removed in 1.6. Use the SAMME algorithm to circumvent this warning.\n",
      "\n",
      "[I 2024-02-19 00:40:25,096] Trial 70 finished with value: 0.5855738727962972 and parameters: {'n_estimators': 106, 'learning_rate': 2.4920522646719148, 'algorithm': 'SAMME.R', 'random_state': 5}. Best is trial 2 with value: 0.5758489781059858.\n",
      "[I 2024-02-19 00:40:29,559] Trial 71 finished with value: 0.5758489781059858 and parameters: {'n_estimators': 500, 'learning_rate': 1.0663721877565753, 'algorithm': 'SAMME', 'random_state': 4}. Best is trial 2 with value: 0.5758489781059858.\n",
      "[I 2024-02-19 00:40:33,875] Trial 72 finished with value: 0.5758489781059858 and parameters: {'n_estimators': 476, 'learning_rate': 1.137801470651423, 'algorithm': 'SAMME', 'random_state': 4}. Best is trial 2 with value: 0.5758489781059858.\n",
      "[I 2024-02-19 00:40:38,145] Trial 73 finished with value: 0.5758489781059858 and parameters: {'n_estimators': 438, 'learning_rate': 1.2344794518514066, 'algorithm': 'SAMME', 'random_state': 4}. Best is trial 2 with value: 0.5758489781059858.\n",
      "[I 2024-02-19 00:40:42,166] Trial 74 finished with value: 0.586717978053981 and parameters: {'n_estimators': 457, 'learning_rate': 1.3532430012338925, 'algorithm': 'SAMME', 'random_state': 3}. Best is trial 2 with value: 0.5758489781059858.\n",
      "[I 2024-02-19 00:40:46,733] Trial 75 finished with value: 0.5758489781059858 and parameters: {'n_estimators': 490, 'learning_rate': 1.0064065365034298, 'algorithm': 'SAMME', 'random_state': 4}. Best is trial 2 with value: 0.5758489781059858.\n",
      "[I 2024-02-19 00:40:51,248] Trial 76 finished with value: 0.5758489781059858 and parameters: {'n_estimators': 213, 'learning_rate': 1.5380013344934922, 'algorithm': 'SAMME', 'random_state': 4}. Best is trial 2 with value: 0.5758489781059858.\n",
      "[I 2024-02-19 00:40:55,621] Trial 77 finished with value: 0.5758489781059858 and parameters: {'n_estimators': 259, 'learning_rate': 1.2733585875952746, 'algorithm': 'SAMME', 'random_state': 4}. Best is trial 2 with value: 0.5758489781059858.\n",
      "c:\\Users\\USER\\AppData\\Local\\Programs\\Python\\Python311\\Lib\\site-packages\\sklearn\\ensemble\\_weight_boosting.py:519: FutureWarning:\n",
      "\n",
      "The SAMME.R algorithm (the default) is deprecated and will be removed in 1.6. Use the SAMME algorithm to circumvent this warning.\n",
      "\n",
      "c:\\Users\\USER\\AppData\\Local\\Programs\\Python\\Python311\\Lib\\site-packages\\sklearn\\ensemble\\_weight_boosting.py:519: FutureWarning:\n",
      "\n",
      "The SAMME.R algorithm (the default) is deprecated and will be removed in 1.6. Use the SAMME algorithm to circumvent this warning.\n",
      "\n",
      "c:\\Users\\USER\\AppData\\Local\\Programs\\Python\\Python311\\Lib\\site-packages\\sklearn\\ensemble\\_weight_boosting.py:519: FutureWarning:\n",
      "\n",
      "The SAMME.R algorithm (the default) is deprecated and will be removed in 1.6. Use the SAMME algorithm to circumvent this warning.\n",
      "\n",
      "c:\\Users\\USER\\AppData\\Local\\Programs\\Python\\Python311\\Lib\\site-packages\\sklearn\\ensemble\\_weight_boosting.py:519: FutureWarning:\n",
      "\n",
      "The SAMME.R algorithm (the default) is deprecated and will be removed in 1.6. Use the SAMME algorithm to circumvent this warning.\n",
      "\n",
      "c:\\Users\\USER\\AppData\\Local\\Programs\\Python\\Python311\\Lib\\site-packages\\sklearn\\ensemble\\_weight_boosting.py:519: FutureWarning:\n",
      "\n",
      "The SAMME.R algorithm (the default) is deprecated and will be removed in 1.6. Use the SAMME algorithm to circumvent this warning.\n",
      "\n",
      "[I 2024-02-19 00:40:59,658] Trial 78 finished with value: 0.586717978053981 and parameters: {'n_estimators': 423, 'learning_rate': 2.765040623132327, 'algorithm': 'SAMME.R', 'random_state': 3}. Best is trial 2 with value: 0.5758489781059858.\n",
      "[I 2024-02-19 00:41:03,841] Trial 79 finished with value: 0.5855738727962972 and parameters: {'n_estimators': 465, 'learning_rate': 2.1833956255697258, 'algorithm': 'SAMME', 'random_state': 5}. Best is trial 2 with value: 0.5758489781059858.\n",
      "[I 2024-02-19 00:41:08,028] Trial 80 finished with value: 0.5855738727962972 and parameters: {'n_estimators': 237, 'learning_rate': 1.0858372450921456, 'algorithm': 'SAMME', 'random_state': 5}. Best is trial 2 with value: 0.5758489781059858.\n",
      "[I 2024-02-19 00:41:12,373] Trial 81 finished with value: 0.5758489781059858 and parameters: {'n_estimators': 449, 'learning_rate': 1.2101419877415338, 'algorithm': 'SAMME', 'random_state': 4}. Best is trial 2 with value: 0.5758489781059858.\n",
      "[I 2024-02-19 00:41:16,669] Trial 82 finished with value: 0.5758489781059858 and parameters: {'n_estimators': 473, 'learning_rate': 1.1463067984703383, 'algorithm': 'SAMME', 'random_state': 4}. Best is trial 2 with value: 0.5758489781059858.\n",
      "[I 2024-02-19 00:41:20,977] Trial 83 finished with value: 0.5758489781059858 and parameters: {'n_estimators': 393, 'learning_rate': 1.408353996854191, 'algorithm': 'SAMME', 'random_state': 4}. Best is trial 2 with value: 0.5758489781059858.\n",
      "[I 2024-02-19 00:41:25,294] Trial 84 finished with value: 0.5758489781059858 and parameters: {'n_estimators': 490, 'learning_rate': 1.0307696296912616, 'algorithm': 'SAMME', 'random_state': 4}. Best is trial 2 with value: 0.5758489781059858.\n",
      "[I 2024-02-19 00:41:29,682] Trial 85 finished with value: 0.5758489781059858 and parameters: {'n_estimators': 356, 'learning_rate': 1.3180085918326157, 'algorithm': 'SAMME', 'random_state': 4}. Best is trial 2 with value: 0.5758489781059858.\n",
      "[I 2024-02-19 00:41:34,447] Trial 86 finished with value: 0.586717978053981 and parameters: {'n_estimators': 445, 'learning_rate': 2.5241317685141906, 'algorithm': 'SAMME', 'random_state': 3}. Best is trial 2 with value: 0.5758489781059858.\n",
      "c:\\Users\\USER\\AppData\\Local\\Programs\\Python\\Python311\\Lib\\site-packages\\sklearn\\ensemble\\_weight_boosting.py:519: FutureWarning:\n",
      "\n",
      "The SAMME.R algorithm (the default) is deprecated and will be removed in 1.6. Use the SAMME algorithm to circumvent this warning.\n",
      "\n",
      "c:\\Users\\USER\\AppData\\Local\\Programs\\Python\\Python311\\Lib\\site-packages\\sklearn\\ensemble\\_weight_boosting.py:519: FutureWarning:\n",
      "\n",
      "The SAMME.R algorithm (the default) is deprecated and will be removed in 1.6. Use the SAMME algorithm to circumvent this warning.\n",
      "\n",
      "c:\\Users\\USER\\AppData\\Local\\Programs\\Python\\Python311\\Lib\\site-packages\\sklearn\\ensemble\\_weight_boosting.py:519: FutureWarning:\n",
      "\n",
      "The SAMME.R algorithm (the default) is deprecated and will be removed in 1.6. Use the SAMME algorithm to circumvent this warning.\n",
      "\n",
      "c:\\Users\\USER\\AppData\\Local\\Programs\\Python\\Python311\\Lib\\site-packages\\sklearn\\ensemble\\_weight_boosting.py:519: FutureWarning:\n",
      "\n",
      "The SAMME.R algorithm (the default) is deprecated and will be removed in 1.6. Use the SAMME algorithm to circumvent this warning.\n",
      "\n",
      "c:\\Users\\USER\\AppData\\Local\\Programs\\Python\\Python311\\Lib\\site-packages\\sklearn\\ensemble\\_weight_boosting.py:519: FutureWarning:\n",
      "\n",
      "The SAMME.R algorithm (the default) is deprecated and will be removed in 1.6. Use the SAMME algorithm to circumvent this warning.\n",
      "\n",
      "[I 2024-02-19 00:41:38,801] Trial 87 finished with value: 0.5758489781059858 and parameters: {'n_estimators': 176, 'learning_rate': 1.481461494028324, 'algorithm': 'SAMME.R', 'random_state': 4}. Best is trial 2 with value: 0.5758489781059858.\n",
      "[I 2024-02-19 00:41:43,069] Trial 88 finished with value: 0.5758489781059858 and parameters: {'n_estimators': 431, 'learning_rate': 1.246385104317504, 'algorithm': 'SAMME', 'random_state': 4}. Best is trial 2 with value: 0.5758489781059858.\n",
      "[I 2024-02-19 00:41:47,335] Trial 89 finished with value: 0.5758489781059858 and parameters: {'n_estimators': 72, 'learning_rate': 1.587555619885944, 'algorithm': 'SAMME', 'random_state': 4}. Best is trial 2 with value: 0.5758489781059858.\n",
      "c:\\Users\\USER\\AppData\\Local\\Programs\\Python\\Python311\\Lib\\site-packages\\sklearn\\ensemble\\_weight_boosting.py:519: FutureWarning:\n",
      "\n",
      "The SAMME.R algorithm (the default) is deprecated and will be removed in 1.6. Use the SAMME algorithm to circumvent this warning.\n",
      "\n",
      "c:\\Users\\USER\\AppData\\Local\\Programs\\Python\\Python311\\Lib\\site-packages\\sklearn\\ensemble\\_weight_boosting.py:519: FutureWarning:\n",
      "\n",
      "The SAMME.R algorithm (the default) is deprecated and will be removed in 1.6. Use the SAMME algorithm to circumvent this warning.\n",
      "\n",
      "c:\\Users\\USER\\AppData\\Local\\Programs\\Python\\Python311\\Lib\\site-packages\\sklearn\\ensemble\\_weight_boosting.py:519: FutureWarning:\n",
      "\n",
      "The SAMME.R algorithm (the default) is deprecated and will be removed in 1.6. Use the SAMME algorithm to circumvent this warning.\n",
      "\n",
      "c:\\Users\\USER\\AppData\\Local\\Programs\\Python\\Python311\\Lib\\site-packages\\sklearn\\ensemble\\_weight_boosting.py:519: FutureWarning:\n",
      "\n",
      "The SAMME.R algorithm (the default) is deprecated and will be removed in 1.6. Use the SAMME algorithm to circumvent this warning.\n",
      "\n",
      "c:\\Users\\USER\\AppData\\Local\\Programs\\Python\\Python311\\Lib\\site-packages\\sklearn\\ensemble\\_weight_boosting.py:519: FutureWarning:\n",
      "\n",
      "The SAMME.R algorithm (the default) is deprecated and will be removed in 1.6. Use the SAMME algorithm to circumvent this warning.\n",
      "\n",
      "[I 2024-02-19 00:41:51,665] Trial 90 finished with value: 0.5855738727962972 and parameters: {'n_estimators': 98, 'learning_rate': 2.2849778065326967, 'algorithm': 'SAMME.R', 'random_state': 5}. Best is trial 2 with value: 0.5758489781059858.\n",
      "[I 2024-02-19 00:41:55,935] Trial 91 finished with value: 0.5758489781059858 and parameters: {'n_estimators': 405, 'learning_rate': 1.047302647098934, 'algorithm': 'SAMME', 'random_state': 4}. Best is trial 2 with value: 0.5758489781059858.\n",
      "[I 2024-02-19 00:42:00,323] Trial 92 finished with value: 0.5758489781059858 and parameters: {'n_estimators': 370, 'learning_rate': 1.1813409662742125, 'algorithm': 'SAMME', 'random_state': 4}. Best is trial 2 with value: 0.5758489781059858.\n",
      "[I 2024-02-19 00:42:04,584] Trial 93 finished with value: 0.5758489781059858 and parameters: {'n_estimators': 465, 'learning_rate': 1.0988678201926607, 'algorithm': 'SAMME', 'random_state': 4}. Best is trial 2 with value: 0.5758489781059858.\n",
      "[I 2024-02-19 00:42:08,819] Trial 94 finished with value: 0.5758489781059858 and parameters: {'n_estimators': 160, 'learning_rate': 2.057558063191287, 'algorithm': 'SAMME', 'random_state': 4}. Best is trial 2 with value: 0.5758489781059858.\n",
      "[I 2024-02-19 00:42:13,421] Trial 95 finished with value: 0.5758489781059858 and parameters: {'n_estimators': 381, 'learning_rate': 1.0378649357741798, 'algorithm': 'SAMME', 'random_state': 4}. Best is trial 2 with value: 0.5758489781059858.\n",
      "[I 2024-02-19 00:42:17,735] Trial 96 finished with value: 0.5758489781059858 and parameters: {'n_estimators': 403, 'learning_rate': 1.3750450953002544, 'algorithm': 'SAMME', 'random_state': 4}. Best is trial 2 with value: 0.5758489781059858.\n",
      "[I 2024-02-19 00:42:21,797] Trial 97 finished with value: 0.586717978053981 and parameters: {'n_estimators': 438, 'learning_rate': 1.149899093792816, 'algorithm': 'SAMME', 'random_state': 3}. Best is trial 2 with value: 0.5758489781059858.\n",
      "c:\\Users\\USER\\AppData\\Local\\Programs\\Python\\Python311\\Lib\\site-packages\\sklearn\\ensemble\\_weight_boosting.py:519: FutureWarning:\n",
      "\n",
      "The SAMME.R algorithm (the default) is deprecated and will be removed in 1.6. Use the SAMME algorithm to circumvent this warning.\n",
      "\n",
      "c:\\Users\\USER\\AppData\\Local\\Programs\\Python\\Python311\\Lib\\site-packages\\sklearn\\ensemble\\_weight_boosting.py:519: FutureWarning:\n",
      "\n",
      "The SAMME.R algorithm (the default) is deprecated and will be removed in 1.6. Use the SAMME algorithm to circumvent this warning.\n",
      "\n",
      "c:\\Users\\USER\\AppData\\Local\\Programs\\Python\\Python311\\Lib\\site-packages\\sklearn\\ensemble\\_weight_boosting.py:519: FutureWarning:\n",
      "\n",
      "The SAMME.R algorithm (the default) is deprecated and will be removed in 1.6. Use the SAMME algorithm to circumvent this warning.\n",
      "\n",
      "c:\\Users\\USER\\AppData\\Local\\Programs\\Python\\Python311\\Lib\\site-packages\\sklearn\\ensemble\\_weight_boosting.py:519: FutureWarning:\n",
      "\n",
      "The SAMME.R algorithm (the default) is deprecated and will be removed in 1.6. Use the SAMME algorithm to circumvent this warning.\n",
      "\n",
      "c:\\Users\\USER\\AppData\\Local\\Programs\\Python\\Python311\\Lib\\site-packages\\sklearn\\ensemble\\_weight_boosting.py:519: FutureWarning:\n",
      "\n",
      "The SAMME.R algorithm (the default) is deprecated and will be removed in 1.6. Use the SAMME algorithm to circumvent this warning.\n",
      "\n",
      "[I 2024-02-19 00:42:26,112] Trial 98 finished with value: 0.5758489781059858 and parameters: {'n_estimators': 126, 'learning_rate': 1.854978409039647, 'algorithm': 'SAMME.R', 'random_state': 4}. Best is trial 2 with value: 0.5758489781059858.\n",
      "[I 2024-02-19 00:42:30,296] Trial 99 finished with value: 0.5855738727962972 and parameters: {'n_estimators': 422, 'learning_rate': 1.2160368392477676, 'algorithm': 'SAMME', 'random_state': 5}. Best is trial 2 with value: 0.5758489781059858.\n"
     ]
    },
    {
     "name": "stdout",
     "output_type": "stream",
     "text": [
      "Number of finished trials: 100\n",
      "Best trial: {'n_estimators': 64, 'learning_rate': 1.3168456965188235, 'algorithm': 'SAMME.R', 'random_state': 4}\n"
     ]
    }
   ],
   "source": [
    "\n",
    "study_Ada.optimize(objective_Ada, n_trials=100) # 150 bar \"objective\" object ke trial kore kore dekhbe, here total 5*100=750\n",
    "print('Number of finished trials:', len(study_Ada.trials))\n",
    "print('Best trial:', study_Ada.best_trial.params)"
   ]
  },
  {
   "cell_type": "code",
   "execution_count": 20,
   "metadata": {},
   "outputs": [],
   "source": [
    "import pickle\n",
    "model_tuned=AdaBoostClassifier(**study_Ada.best_trial.params)\n",
    "pickle.dump(model_tuned, open(\"all_pkl_file/all_tuned_model/PLC_Ada.pkl\", \"wb\"))"
   ]
  },
  {
   "cell_type": "code",
   "execution_count": 21,
   "metadata": {},
   "outputs": [
    {
     "data": {
      "application/vnd.plotly.v1+json": {
       "config": {
        "plotlyServerURL": "https://plot.ly"
       },
       "data": [
        {
         "dimensions": [
          {
           "label": "Objective Value",
           "range": [
            0.5758489781059858,
            0.5945707005044464
           ],
           "values": [
            0.586717978053981,
            0.586717978053981,
            0.5758489781059858,
            0.5844297675386135,
            0.586717978053981,
            0.5758489781059858,
            0.586717978053981,
            0.5855738727962972,
            0.586717978053981,
            0.5855738727962972,
            0.5800613656456394,
            0.5758489781059858,
            0.5758489781059858,
            0.5758489781059858,
            0.5945707005044464,
            0.5855738727962972,
            0.5758489781059858,
            0.5844297675386135,
            0.5758489781059858,
            0.5855738727962972,
            0.5844297675386135,
            0.5758489781059858,
            0.5758489781059858,
            0.5855738727962972,
            0.5758489781059858,
            0.5758489781059858,
            0.586717978053981,
            0.5945707005044464,
            0.5855738727962972,
            0.586717978053981,
            0.5758489781059858,
            0.5758489781059858,
            0.586717978053981,
            0.5758489781059858,
            0.5855738727962972,
            0.586717978053981,
            0.5844297675386135,
            0.586717978053981,
            0.5758489781059858,
            0.5855738727962972,
            0.586717978053981,
            0.5758489781059858,
            0.5758489781059858,
            0.5758489781059858,
            0.5855738727962972,
            0.5758489781059858,
            0.586717978053981,
            0.5855738727962972,
            0.5945707005044464,
            0.5758489781059858,
            0.5800613656456394,
            0.5758489781059858,
            0.5758489781059858,
            0.5758489781059858,
            0.5855738727962972,
            0.5758489781059858,
            0.586717978053981,
            0.5855738727962972,
            0.5758489781059858,
            0.5758489781059858,
            0.586717978053981,
            0.5758489781059858,
            0.5758489781059858,
            0.5758489781059858,
            0.5758489781059858,
            0.5855738727962972,
            0.5844297675386135,
            0.5758489781059858,
            0.586717978053981,
            0.5758489781059858,
            0.5855738727962972,
            0.5758489781059858,
            0.5758489781059858,
            0.5758489781059858,
            0.586717978053981,
            0.5758489781059858,
            0.5758489781059858,
            0.5758489781059858,
            0.586717978053981,
            0.5855738727962972,
            0.5855738727962972,
            0.5758489781059858,
            0.5758489781059858,
            0.5758489781059858,
            0.5758489781059858,
            0.5758489781059858,
            0.586717978053981,
            0.5758489781059858,
            0.5758489781059858,
            0.5758489781059858,
            0.5855738727962972,
            0.5758489781059858,
            0.5758489781059858,
            0.5758489781059858,
            0.5758489781059858,
            0.5758489781059858,
            0.5758489781059858,
            0.586717978053981,
            0.5758489781059858,
            0.5855738727962972
           ]
          },
          {
           "label": "algorithm",
           "range": [
            0,
            1
           ],
           "ticktext": [
            "SAMME",
            "SAMME.R"
           ],
           "tickvals": [
            0,
            1
           ],
           "values": [
            0,
            1,
            1,
            1,
            0,
            0,
            1,
            1,
            0,
            1,
            1,
            0,
            0,
            0,
            1,
            0,
            0,
            1,
            1,
            0,
            0,
            0,
            0,
            0,
            0,
            0,
            1,
            0,
            1,
            0,
            0,
            0,
            0,
            0,
            0,
            1,
            0,
            1,
            0,
            1,
            0,
            0,
            0,
            0,
            0,
            1,
            0,
            1,
            0,
            0,
            1,
            0,
            0,
            0,
            0,
            0,
            0,
            0,
            1,
            0,
            0,
            1,
            1,
            1,
            1,
            1,
            0,
            1,
            0,
            0,
            1,
            0,
            0,
            0,
            0,
            0,
            0,
            0,
            1,
            0,
            0,
            0,
            0,
            0,
            0,
            0,
            0,
            1,
            0,
            0,
            1,
            0,
            0,
            0,
            0,
            0,
            0,
            0,
            1,
            0
           ]
          },
          {
           "label": "learning_rate",
           "range": [
            1.0018733248604816,
            2.984335190134546
           ],
           "values": [
            2.984335190134546,
            2.2511976014052433,
            1.3168456965188235,
            1.6959565612913166,
            1.9460105143480184,
            2.521818597136063,
            1.7836311603897048,
            2.731760084861241,
            2.706548649398764,
            2.622586790712681,
            1.1169458724213537,
            1.0021332492525743,
            1.384037338997943,
            2.298689701667271,
            1.5200041114725926,
            2.2809431428718967,
            1.3460356351217848,
            2.056269673660502,
            2.4236946775068153,
            2.953190341264409,
            2.0171525861863953,
            1.0018733248604816,
            1.2162178179330203,
            1.5514793518318366,
            1.0390611575149231,
            1.2527548620653617,
            1.4840520549164737,
            1.7996199984565648,
            1.1726816739990942,
            2.4665403803400103,
            2.9600060857999893,
            1.3594193139337216,
            1.3771957064125293,
            1.5962355269802742,
            2.1456575512991254,
            1.1160574596005064,
            1.6856520457321957,
            1.266090696059422,
            1.413251448238266,
            1.8295562166515458,
            1.9188052557297226,
            2.480488240766284,
            2.3160965491614016,
            2.683513638785652,
            2.8034128045571842,
            2.5588375211706262,
            2.2016832809053617,
            2.3422553968451583,
            2.116385462839059,
            1.6826002917661558,
            2.3763383591981704,
            1.3001534338626246,
            1.0733437488366342,
            1.472294087998328,
            1.1714172193771684,
            1.6128474088876688,
            2.8291435640924147,
            2.5561861708962517,
            1.3186519939953316,
            1.0027136588142889,
            1.1981700591118813,
            2.374410057799153,
            2.4434178902242953,
            2.5882494922755357,
            2.2542074718396408,
            1.43156205757476,
            1.1226023397228835,
            2.6522713378819165,
            2.413965457369127,
            1.9485056373275813,
            2.4920522646719148,
            1.0663721877565753,
            1.137801470651423,
            1.2344794518514066,
            1.3532430012338925,
            1.0064065365034298,
            1.5380013344934922,
            1.2733585875952746,
            2.765040623132327,
            2.1833956255697258,
            1.0858372450921456,
            1.2101419877415338,
            1.1463067984703383,
            1.408353996854191,
            1.0307696296912616,
            1.3180085918326157,
            2.5241317685141906,
            1.481461494028324,
            1.246385104317504,
            1.587555619885944,
            2.2849778065326967,
            1.047302647098934,
            1.1813409662742125,
            1.0988678201926607,
            2.057558063191287,
            1.0378649357741798,
            1.3750450953002544,
            1.149899093792816,
            1.854978409039647,
            1.2160368392477676
           ]
          },
          {
           "label": "n_estimators",
           "range": [
            50,
            500
           ],
           "values": [
            300,
            121,
            64,
            441,
            145,
            275,
            122,
            95,
            337,
            132,
            227,
            499,
            221,
            385,
            55,
            206,
            281,
            181,
            50,
            364,
            254,
            490,
            440,
            325,
            409,
            483,
            180,
            264,
            314,
            353,
            299,
            226,
            168,
            246,
            89,
            290,
            206,
            83,
            454,
            148,
            410,
            394,
            379,
            462,
            430,
            340,
            225,
            111,
            317,
            499,
            280,
            270,
            369,
            66,
            244,
            154,
            193,
            346,
            114,
            477,
            305,
            58,
            83,
            135,
            52,
            68,
            329,
            414,
            288,
            392,
            106,
            500,
            476,
            438,
            457,
            490,
            213,
            259,
            423,
            465,
            237,
            449,
            473,
            393,
            490,
            356,
            445,
            176,
            431,
            72,
            98,
            405,
            370,
            465,
            160,
            381,
            403,
            438,
            126,
            422
           ]
          },
          {
           "label": "random_state",
           "range": [
            0,
            5
           ],
           "values": [
            3,
            3,
            4,
            2,
            3,
            4,
            3,
            5,
            3,
            5,
            0,
            4,
            4,
            4,
            1,
            5,
            4,
            2,
            4,
            5,
            2,
            4,
            4,
            5,
            4,
            4,
            3,
            1,
            5,
            3,
            4,
            4,
            3,
            4,
            5,
            3,
            2,
            3,
            4,
            5,
            3,
            4,
            4,
            4,
            5,
            4,
            3,
            5,
            1,
            4,
            0,
            4,
            4,
            4,
            5,
            4,
            3,
            5,
            4,
            4,
            3,
            4,
            4,
            4,
            4,
            5,
            2,
            4,
            3,
            4,
            5,
            4,
            4,
            4,
            3,
            4,
            4,
            4,
            3,
            5,
            5,
            4,
            4,
            4,
            4,
            4,
            3,
            4,
            4,
            4,
            5,
            4,
            4,
            4,
            4,
            4,
            4,
            3,
            4,
            5
           ]
          }
         ],
         "labelangle": 30,
         "labelside": "bottom",
         "line": {
          "color": [
           0.586717978053981,
           0.586717978053981,
           0.5758489781059858,
           0.5844297675386135,
           0.586717978053981,
           0.5758489781059858,
           0.586717978053981,
           0.5855738727962972,
           0.586717978053981,
           0.5855738727962972,
           0.5800613656456394,
           0.5758489781059858,
           0.5758489781059858,
           0.5758489781059858,
           0.5945707005044464,
           0.5855738727962972,
           0.5758489781059858,
           0.5844297675386135,
           0.5758489781059858,
           0.5855738727962972,
           0.5844297675386135,
           0.5758489781059858,
           0.5758489781059858,
           0.5855738727962972,
           0.5758489781059858,
           0.5758489781059858,
           0.586717978053981,
           0.5945707005044464,
           0.5855738727962972,
           0.586717978053981,
           0.5758489781059858,
           0.5758489781059858,
           0.586717978053981,
           0.5758489781059858,
           0.5855738727962972,
           0.586717978053981,
           0.5844297675386135,
           0.586717978053981,
           0.5758489781059858,
           0.5855738727962972,
           0.586717978053981,
           0.5758489781059858,
           0.5758489781059858,
           0.5758489781059858,
           0.5855738727962972,
           0.5758489781059858,
           0.586717978053981,
           0.5855738727962972,
           0.5945707005044464,
           0.5758489781059858,
           0.5800613656456394,
           0.5758489781059858,
           0.5758489781059858,
           0.5758489781059858,
           0.5855738727962972,
           0.5758489781059858,
           0.586717978053981,
           0.5855738727962972,
           0.5758489781059858,
           0.5758489781059858,
           0.586717978053981,
           0.5758489781059858,
           0.5758489781059858,
           0.5758489781059858,
           0.5758489781059858,
           0.5855738727962972,
           0.5844297675386135,
           0.5758489781059858,
           0.586717978053981,
           0.5758489781059858,
           0.5855738727962972,
           0.5758489781059858,
           0.5758489781059858,
           0.5758489781059858,
           0.586717978053981,
           0.5758489781059858,
           0.5758489781059858,
           0.5758489781059858,
           0.586717978053981,
           0.5855738727962972,
           0.5855738727962972,
           0.5758489781059858,
           0.5758489781059858,
           0.5758489781059858,
           0.5758489781059858,
           0.5758489781059858,
           0.586717978053981,
           0.5758489781059858,
           0.5758489781059858,
           0.5758489781059858,
           0.5855738727962972,
           0.5758489781059858,
           0.5758489781059858,
           0.5758489781059858,
           0.5758489781059858,
           0.5758489781059858,
           0.5758489781059858,
           0.586717978053981,
           0.5758489781059858,
           0.5855738727962972
          ],
          "colorbar": {
           "title": {
            "text": "Objective Value"
           }
          },
          "colorscale": [
           [
            0,
            "rgb(247,251,255)"
           ],
           [
            0.125,
            "rgb(222,235,247)"
           ],
           [
            0.25,
            "rgb(198,219,239)"
           ],
           [
            0.375,
            "rgb(158,202,225)"
           ],
           [
            0.5,
            "rgb(107,174,214)"
           ],
           [
            0.625,
            "rgb(66,146,198)"
           ],
           [
            0.75,
            "rgb(33,113,181)"
           ],
           [
            0.875,
            "rgb(8,81,156)"
           ],
           [
            1,
            "rgb(8,48,107)"
           ]
          ],
          "reversescale": true,
          "showscale": true
         },
         "type": "parcoords"
        }
       ],
       "layout": {
        "template": {
         "data": {
          "bar": [
           {
            "error_x": {
             "color": "#2a3f5f"
            },
            "error_y": {
             "color": "#2a3f5f"
            },
            "marker": {
             "line": {
              "color": "#E5ECF6",
              "width": 0.5
             },
             "pattern": {
              "fillmode": "overlay",
              "size": 10,
              "solidity": 0.2
             }
            },
            "type": "bar"
           }
          ],
          "barpolar": [
           {
            "marker": {
             "line": {
              "color": "#E5ECF6",
              "width": 0.5
             },
             "pattern": {
              "fillmode": "overlay",
              "size": 10,
              "solidity": 0.2
             }
            },
            "type": "barpolar"
           }
          ],
          "carpet": [
           {
            "aaxis": {
             "endlinecolor": "#2a3f5f",
             "gridcolor": "white",
             "linecolor": "white",
             "minorgridcolor": "white",
             "startlinecolor": "#2a3f5f"
            },
            "baxis": {
             "endlinecolor": "#2a3f5f",
             "gridcolor": "white",
             "linecolor": "white",
             "minorgridcolor": "white",
             "startlinecolor": "#2a3f5f"
            },
            "type": "carpet"
           }
          ],
          "choropleth": [
           {
            "colorbar": {
             "outlinewidth": 0,
             "ticks": ""
            },
            "type": "choropleth"
           }
          ],
          "contour": [
           {
            "colorbar": {
             "outlinewidth": 0,
             "ticks": ""
            },
            "colorscale": [
             [
              0,
              "#0d0887"
             ],
             [
              0.1111111111111111,
              "#46039f"
             ],
             [
              0.2222222222222222,
              "#7201a8"
             ],
             [
              0.3333333333333333,
              "#9c179e"
             ],
             [
              0.4444444444444444,
              "#bd3786"
             ],
             [
              0.5555555555555556,
              "#d8576b"
             ],
             [
              0.6666666666666666,
              "#ed7953"
             ],
             [
              0.7777777777777778,
              "#fb9f3a"
             ],
             [
              0.8888888888888888,
              "#fdca26"
             ],
             [
              1,
              "#f0f921"
             ]
            ],
            "type": "contour"
           }
          ],
          "contourcarpet": [
           {
            "colorbar": {
             "outlinewidth": 0,
             "ticks": ""
            },
            "type": "contourcarpet"
           }
          ],
          "heatmap": [
           {
            "colorbar": {
             "outlinewidth": 0,
             "ticks": ""
            },
            "colorscale": [
             [
              0,
              "#0d0887"
             ],
             [
              0.1111111111111111,
              "#46039f"
             ],
             [
              0.2222222222222222,
              "#7201a8"
             ],
             [
              0.3333333333333333,
              "#9c179e"
             ],
             [
              0.4444444444444444,
              "#bd3786"
             ],
             [
              0.5555555555555556,
              "#d8576b"
             ],
             [
              0.6666666666666666,
              "#ed7953"
             ],
             [
              0.7777777777777778,
              "#fb9f3a"
             ],
             [
              0.8888888888888888,
              "#fdca26"
             ],
             [
              1,
              "#f0f921"
             ]
            ],
            "type": "heatmap"
           }
          ],
          "heatmapgl": [
           {
            "colorbar": {
             "outlinewidth": 0,
             "ticks": ""
            },
            "colorscale": [
             [
              0,
              "#0d0887"
             ],
             [
              0.1111111111111111,
              "#46039f"
             ],
             [
              0.2222222222222222,
              "#7201a8"
             ],
             [
              0.3333333333333333,
              "#9c179e"
             ],
             [
              0.4444444444444444,
              "#bd3786"
             ],
             [
              0.5555555555555556,
              "#d8576b"
             ],
             [
              0.6666666666666666,
              "#ed7953"
             ],
             [
              0.7777777777777778,
              "#fb9f3a"
             ],
             [
              0.8888888888888888,
              "#fdca26"
             ],
             [
              1,
              "#f0f921"
             ]
            ],
            "type": "heatmapgl"
           }
          ],
          "histogram": [
           {
            "marker": {
             "pattern": {
              "fillmode": "overlay",
              "size": 10,
              "solidity": 0.2
             }
            },
            "type": "histogram"
           }
          ],
          "histogram2d": [
           {
            "colorbar": {
             "outlinewidth": 0,
             "ticks": ""
            },
            "colorscale": [
             [
              0,
              "#0d0887"
             ],
             [
              0.1111111111111111,
              "#46039f"
             ],
             [
              0.2222222222222222,
              "#7201a8"
             ],
             [
              0.3333333333333333,
              "#9c179e"
             ],
             [
              0.4444444444444444,
              "#bd3786"
             ],
             [
              0.5555555555555556,
              "#d8576b"
             ],
             [
              0.6666666666666666,
              "#ed7953"
             ],
             [
              0.7777777777777778,
              "#fb9f3a"
             ],
             [
              0.8888888888888888,
              "#fdca26"
             ],
             [
              1,
              "#f0f921"
             ]
            ],
            "type": "histogram2d"
           }
          ],
          "histogram2dcontour": [
           {
            "colorbar": {
             "outlinewidth": 0,
             "ticks": ""
            },
            "colorscale": [
             [
              0,
              "#0d0887"
             ],
             [
              0.1111111111111111,
              "#46039f"
             ],
             [
              0.2222222222222222,
              "#7201a8"
             ],
             [
              0.3333333333333333,
              "#9c179e"
             ],
             [
              0.4444444444444444,
              "#bd3786"
             ],
             [
              0.5555555555555556,
              "#d8576b"
             ],
             [
              0.6666666666666666,
              "#ed7953"
             ],
             [
              0.7777777777777778,
              "#fb9f3a"
             ],
             [
              0.8888888888888888,
              "#fdca26"
             ],
             [
              1,
              "#f0f921"
             ]
            ],
            "type": "histogram2dcontour"
           }
          ],
          "mesh3d": [
           {
            "colorbar": {
             "outlinewidth": 0,
             "ticks": ""
            },
            "type": "mesh3d"
           }
          ],
          "parcoords": [
           {
            "line": {
             "colorbar": {
              "outlinewidth": 0,
              "ticks": ""
             }
            },
            "type": "parcoords"
           }
          ],
          "pie": [
           {
            "automargin": true,
            "type": "pie"
           }
          ],
          "scatter": [
           {
            "fillpattern": {
             "fillmode": "overlay",
             "size": 10,
             "solidity": 0.2
            },
            "type": "scatter"
           }
          ],
          "scatter3d": [
           {
            "line": {
             "colorbar": {
              "outlinewidth": 0,
              "ticks": ""
             }
            },
            "marker": {
             "colorbar": {
              "outlinewidth": 0,
              "ticks": ""
             }
            },
            "type": "scatter3d"
           }
          ],
          "scattercarpet": [
           {
            "marker": {
             "colorbar": {
              "outlinewidth": 0,
              "ticks": ""
             }
            },
            "type": "scattercarpet"
           }
          ],
          "scattergeo": [
           {
            "marker": {
             "colorbar": {
              "outlinewidth": 0,
              "ticks": ""
             }
            },
            "type": "scattergeo"
           }
          ],
          "scattergl": [
           {
            "marker": {
             "colorbar": {
              "outlinewidth": 0,
              "ticks": ""
             }
            },
            "type": "scattergl"
           }
          ],
          "scattermapbox": [
           {
            "marker": {
             "colorbar": {
              "outlinewidth": 0,
              "ticks": ""
             }
            },
            "type": "scattermapbox"
           }
          ],
          "scatterpolar": [
           {
            "marker": {
             "colorbar": {
              "outlinewidth": 0,
              "ticks": ""
             }
            },
            "type": "scatterpolar"
           }
          ],
          "scatterpolargl": [
           {
            "marker": {
             "colorbar": {
              "outlinewidth": 0,
              "ticks": ""
             }
            },
            "type": "scatterpolargl"
           }
          ],
          "scatterternary": [
           {
            "marker": {
             "colorbar": {
              "outlinewidth": 0,
              "ticks": ""
             }
            },
            "type": "scatterternary"
           }
          ],
          "surface": [
           {
            "colorbar": {
             "outlinewidth": 0,
             "ticks": ""
            },
            "colorscale": [
             [
              0,
              "#0d0887"
             ],
             [
              0.1111111111111111,
              "#46039f"
             ],
             [
              0.2222222222222222,
              "#7201a8"
             ],
             [
              0.3333333333333333,
              "#9c179e"
             ],
             [
              0.4444444444444444,
              "#bd3786"
             ],
             [
              0.5555555555555556,
              "#d8576b"
             ],
             [
              0.6666666666666666,
              "#ed7953"
             ],
             [
              0.7777777777777778,
              "#fb9f3a"
             ],
             [
              0.8888888888888888,
              "#fdca26"
             ],
             [
              1,
              "#f0f921"
             ]
            ],
            "type": "surface"
           }
          ],
          "table": [
           {
            "cells": {
             "fill": {
              "color": "#EBF0F8"
             },
             "line": {
              "color": "white"
             }
            },
            "header": {
             "fill": {
              "color": "#C8D4E3"
             },
             "line": {
              "color": "white"
             }
            },
            "type": "table"
           }
          ]
         },
         "layout": {
          "annotationdefaults": {
           "arrowcolor": "#2a3f5f",
           "arrowhead": 0,
           "arrowwidth": 1
          },
          "autotypenumbers": "strict",
          "coloraxis": {
           "colorbar": {
            "outlinewidth": 0,
            "ticks": ""
           }
          },
          "colorscale": {
           "diverging": [
            [
             0,
             "#8e0152"
            ],
            [
             0.1,
             "#c51b7d"
            ],
            [
             0.2,
             "#de77ae"
            ],
            [
             0.3,
             "#f1b6da"
            ],
            [
             0.4,
             "#fde0ef"
            ],
            [
             0.5,
             "#f7f7f7"
            ],
            [
             0.6,
             "#e6f5d0"
            ],
            [
             0.7,
             "#b8e186"
            ],
            [
             0.8,
             "#7fbc41"
            ],
            [
             0.9,
             "#4d9221"
            ],
            [
             1,
             "#276419"
            ]
           ],
           "sequential": [
            [
             0,
             "#0d0887"
            ],
            [
             0.1111111111111111,
             "#46039f"
            ],
            [
             0.2222222222222222,
             "#7201a8"
            ],
            [
             0.3333333333333333,
             "#9c179e"
            ],
            [
             0.4444444444444444,
             "#bd3786"
            ],
            [
             0.5555555555555556,
             "#d8576b"
            ],
            [
             0.6666666666666666,
             "#ed7953"
            ],
            [
             0.7777777777777778,
             "#fb9f3a"
            ],
            [
             0.8888888888888888,
             "#fdca26"
            ],
            [
             1,
             "#f0f921"
            ]
           ],
           "sequentialminus": [
            [
             0,
             "#0d0887"
            ],
            [
             0.1111111111111111,
             "#46039f"
            ],
            [
             0.2222222222222222,
             "#7201a8"
            ],
            [
             0.3333333333333333,
             "#9c179e"
            ],
            [
             0.4444444444444444,
             "#bd3786"
            ],
            [
             0.5555555555555556,
             "#d8576b"
            ],
            [
             0.6666666666666666,
             "#ed7953"
            ],
            [
             0.7777777777777778,
             "#fb9f3a"
            ],
            [
             0.8888888888888888,
             "#fdca26"
            ],
            [
             1,
             "#f0f921"
            ]
           ]
          },
          "colorway": [
           "#636efa",
           "#EF553B",
           "#00cc96",
           "#ab63fa",
           "#FFA15A",
           "#19d3f3",
           "#FF6692",
           "#B6E880",
           "#FF97FF",
           "#FECB52"
          ],
          "font": {
           "color": "#2a3f5f"
          },
          "geo": {
           "bgcolor": "white",
           "lakecolor": "white",
           "landcolor": "#E5ECF6",
           "showlakes": true,
           "showland": true,
           "subunitcolor": "white"
          },
          "hoverlabel": {
           "align": "left"
          },
          "hovermode": "closest",
          "mapbox": {
           "style": "light"
          },
          "paper_bgcolor": "white",
          "plot_bgcolor": "#E5ECF6",
          "polar": {
           "angularaxis": {
            "gridcolor": "white",
            "linecolor": "white",
            "ticks": ""
           },
           "bgcolor": "#E5ECF6",
           "radialaxis": {
            "gridcolor": "white",
            "linecolor": "white",
            "ticks": ""
           }
          },
          "scene": {
           "xaxis": {
            "backgroundcolor": "#E5ECF6",
            "gridcolor": "white",
            "gridwidth": 2,
            "linecolor": "white",
            "showbackground": true,
            "ticks": "",
            "zerolinecolor": "white"
           },
           "yaxis": {
            "backgroundcolor": "#E5ECF6",
            "gridcolor": "white",
            "gridwidth": 2,
            "linecolor": "white",
            "showbackground": true,
            "ticks": "",
            "zerolinecolor": "white"
           },
           "zaxis": {
            "backgroundcolor": "#E5ECF6",
            "gridcolor": "white",
            "gridwidth": 2,
            "linecolor": "white",
            "showbackground": true,
            "ticks": "",
            "zerolinecolor": "white"
           }
          },
          "shapedefaults": {
           "line": {
            "color": "#2a3f5f"
           }
          },
          "ternary": {
           "aaxis": {
            "gridcolor": "white",
            "linecolor": "white",
            "ticks": ""
           },
           "baxis": {
            "gridcolor": "white",
            "linecolor": "white",
            "ticks": ""
           },
           "bgcolor": "#E5ECF6",
           "caxis": {
            "gridcolor": "white",
            "linecolor": "white",
            "ticks": ""
           }
          },
          "title": {
           "x": 0.05
          },
          "xaxis": {
           "automargin": true,
           "gridcolor": "white",
           "linecolor": "white",
           "ticks": "",
           "title": {
            "standoff": 15
           },
           "zerolinecolor": "white",
           "zerolinewidth": 2
          },
          "yaxis": {
           "automargin": true,
           "gridcolor": "white",
           "linecolor": "white",
           "ticks": "",
           "title": {
            "standoff": 15
           },
           "zerolinecolor": "white",
           "zerolinewidth": 2
          }
         }
        },
        "title": {
         "text": "Parallel Coordinate Plot"
        }
       }
      }
     },
     "metadata": {},
     "output_type": "display_data"
    }
   ],
   "source": [
    "from matplotlib import pyplot as plt\n",
    "fig_study = optuna.visualization.plot_parallel_coordinate(study_Ada, params=[\"n_estimators\", \"learning_rate\",\"algorithm\",\"random_state\"])\n",
    "fig_study.show()"
   ]
  },
  {
   "cell_type": "code",
   "execution_count": 22,
   "metadata": {},
   "outputs": [
    {
     "name": "stdout",
     "output_type": "stream",
     "text": [
      "Number of finished trials:  100\n",
      "Best trial:\n",
      "  Value:  0.5758489781059858\n",
      "  Params: \n",
      "    n_estimators: 64\n",
      "    learning_rate: 1.3168456965188235\n",
      "    algorithm: SAMME.R\n",
      "    random_state: 4\n"
     ]
    }
   ],
   "source": [
    "#evaluate the trial\n",
    "print(\"Number of finished trials: \", len(study_Ada.trials))\n",
    "print(\"Best trial:\")\n",
    "trial = study_Ada.best_trial\n",
    "print(\"  Value: \", trial.value)\n",
    "print(\"  Params: \")\n",
    "for key, value in trial.params.items():\n",
    "    print(\"    {}: {}\".format(key, value))"
   ]
  },
  {
   "cell_type": "markdown",
   "metadata": {},
   "source": [
    "# Process the whole dataset"
   ]
  },
  {
   "cell_type": "code",
   "execution_count": 23,
   "metadata": {},
   "outputs": [
    {
     "name": "stdout",
     "output_type": "stream",
     "text": [
      "   Elevation    Aspect     Slope  Horizontal_Distance_To_Hydrology  \\\n",
      "0   0.672888  0.141667  0.045455                          0.184681   \n",
      "1   0.671332  0.155556  0.030303                          0.151754   \n",
      "2   0.726801  0.386111  0.136364                          0.191840   \n",
      "3   0.721877  0.430556  0.272727                          0.173228   \n",
      "4   0.672628  0.125000  0.030303                          0.109520   \n",
      "\n",
      "   Vertical_Distance_To_Hydrology  Horizontal_Distance_To_Roadways  \\\n",
      "0                        0.000000                         0.071659   \n",
      "1                       -0.009983                         0.054798   \n",
      "2                        0.108153                         0.446817   \n",
      "3                        0.196339                         0.434172   \n",
      "4                       -0.001664                         0.054939   \n",
      "\n",
      "   Hillshade_9am  Hillshade_Noon  Hillshade_3pm  \\\n",
      "0       0.870079        0.913386       0.582677   \n",
      "1       0.866142        0.925197       0.594488   \n",
      "2       0.921260        0.937008       0.531496   \n",
      "3       0.937008        0.937008       0.480315   \n",
      "4       0.866142        0.921260       0.590551   \n",
      "\n",
      "   Horizontal_Distance_To_Fire_Points  ...  Soil_Type32  Soil_Type33  \\\n",
      "0                            0.875366  ...          0.0          0.0   \n",
      "1                            0.867838  ...          0.0          0.0   \n",
      "2                            0.853339  ...          0.0          0.0   \n",
      "3                            0.865886  ...          0.0          0.0   \n",
      "4                            0.860449  ...          0.0          0.0   \n",
      "\n",
      "   Soil_Type34  Soil_Type35  Soil_Type36  Soil_Type37  Soil_Type38  \\\n",
      "0          0.0          0.0          0.0          0.0          0.0   \n",
      "1          0.0          0.0          0.0          0.0          0.0   \n",
      "2          0.0          0.0          0.0          0.0          0.0   \n",
      "3          0.0          0.0          0.0          0.0          0.0   \n",
      "4          0.0          0.0          0.0          0.0          0.0   \n",
      "\n",
      "   Soil_Type39  Soil_Type40  Cover_Type  \n",
      "0          0.0          0.0         5.0  \n",
      "1          0.0          0.0         5.0  \n",
      "2          0.0          0.0         2.0  \n",
      "3          0.0          0.0         2.0  \n",
      "4          0.0          0.0         5.0  \n",
      "\n",
      "[5 rows x 55 columns]\n",
      "['Elevation', 'Aspect', 'Slope', 'Horizontal_Distance_To_Hydrology', 'Vertical_Distance_To_Hydrology', 'Horizontal_Distance_To_Roadways', 'Hillshade_9am', 'Hillshade_Noon', 'Hillshade_3pm', 'Horizontal_Distance_To_Fire_Points', 'Wilderness_Area1', 'Wilderness_Area2', 'Wilderness_Area3', 'Wilderness_Area4', 'Soil_Type1', 'Soil_Type2', 'Soil_Type3', 'Soil_Type4', 'Soil_Type5', 'Soil_Type6', 'Soil_Type7', 'Soil_Type8', 'Soil_Type9', 'Soil_Type10', 'Soil_Type11', 'Soil_Type12', 'Soil_Type13', 'Soil_Type14', 'Soil_Type15', 'Soil_Type16', 'Soil_Type17', 'Soil_Type18', 'Soil_Type19', 'Soil_Type20', 'Soil_Type21', 'Soil_Type22', 'Soil_Type23', 'Soil_Type24', 'Soil_Type25', 'Soil_Type26', 'Soil_Type27', 'Soil_Type28', 'Soil_Type29', 'Soil_Type30', 'Soil_Type31', 'Soil_Type32', 'Soil_Type33', 'Soil_Type34', 'Soil_Type35', 'Soil_Type36', 'Soil_Type37', 'Soil_Type38', 'Soil_Type39', 'Soil_Type40', 'Cover_Type']\n",
      "<class 'pandas.core.frame.DataFrame'>\n",
      "              0         1         2         3         4         5         6   \\\n",
      "0       0.781752  0.600000  0.287879  0.231210  0.081531  0.640860  0.775591   \n",
      "1       0.769311  0.205556  0.227273  0.211167  0.108153  0.622313  0.933071   \n",
      "2       0.820114  0.222222  0.242424  0.068003 -0.024958  0.224954  0.944882   \n",
      "3       0.796527  0.600000  0.181818  0.214746 -0.031614  0.850499  0.818898   \n",
      "4       0.540435  0.327778  0.575758  0.289191  0.309484  0.057328  0.992126   \n",
      "...          ...       ...       ...       ...       ...       ...       ...   \n",
      "581007  0.737688  0.647222  0.303030  0.095920  0.064892  0.236336  0.720472   \n",
      "581008  0.790565  0.125000  0.136364  0.231210  0.021631  0.934804  0.877953   \n",
      "581009  0.754018  0.766667  0.075758  0.182534  0.111481  0.462976  0.814961   \n",
      "581010  0.697512  0.163889  0.090909  0.085898  0.008319  0.152733  0.881890   \n",
      "581011  0.724987  0.058333  0.318182  0.221188  0.016639  0.422228  0.795276   \n",
      "\n",
      "              7         8         9   ...   45   46   47   48   49   50   51  \\\n",
      "0       1.000000  0.740157  0.231563  ...  0.0  0.0  0.0  0.0  0.0  0.0  0.0   \n",
      "1       0.826772  0.397638  0.680747  ...  0.0  0.0  0.0  0.0  0.0  0.0  0.0   \n",
      "2       0.826772  0.374016  0.214136  ...  0.0  0.0  0.0  0.0  0.0  0.0  0.0   \n",
      "3       0.988189  0.700787  0.376551  ...  0.0  0.0  0.0  0.0  0.0  0.0  0.0   \n",
      "4       0.700787  0.062992  0.133835  ...  0.0  0.0  0.0  0.0  0.0  0.0  0.0   \n",
      "...          ...       ...       ...  ...  ...  ...  ...  ...  ...  ...  ...   \n",
      "581007  0.996063  0.799213  0.136066  ...  0.0  0.0  0.0  0.0  0.0  0.0  0.0   \n",
      "581008  0.866142  0.519685  0.390632  ...  0.0  0.0  0.0  0.0  0.0  0.0  0.0   \n",
      "581009  0.948819  0.681102  0.341280  ...  0.0  0.0  0.0  0.0  0.0  0.0  0.0   \n",
      "581010  0.897638  0.547244  0.281054  ...  0.0  0.0  0.0  0.0  0.0  0.0  0.0   \n",
      "581011  0.755906  0.472441  0.332915  ...  0.0  0.0  0.0  0.0  0.0  0.0  0.0   \n",
      "\n",
      "         52   53   54  \n",
      "0       0.0  0.0  2.0  \n",
      "1       0.0  0.0  1.0  \n",
      "2       0.0  0.0  1.0  \n",
      "3       0.0  0.0  2.0  \n",
      "4       0.0  0.0  3.0  \n",
      "...     ...  ...  ...  \n",
      "581007  0.0  0.0  2.0  \n",
      "581008  0.0  0.0  2.0  \n",
      "581009  0.0  0.0  2.0  \n",
      "581010  0.0  0.0  2.0  \n",
      "581011  0.0  0.0  1.0  \n",
      "\n",
      "[581012 rows x 55 columns]\n"
     ]
    }
   ],
   "source": [
    "filename_2 = '../shot_listed_dataset/Cover_type_whole_genuine_dataset_normalization.csv'\n",
    "dataset_2=getData(filename_2).values.tolist()\n",
    "random.shuffle(dataset_2)\n",
    "\n",
    "dataset_2=pd.DataFrame(dataset_2) #from dataset_list to dataset_dataframe after suffling\n",
    "print(dataset_2)"
   ]
  },
  {
   "cell_type": "code",
   "execution_count": 24,
   "metadata": {},
   "outputs": [
    {
     "data": {
      "text/plain": [
       "[]"
      ]
     },
     "execution_count": 24,
     "metadata": {},
     "output_type": "execute_result"
    }
   ],
   "source": [
    "# checking for NaN value\n",
    "result = dataset_2.columns[dataset_2.isna().any()].tolist()\n",
    "result"
   ]
  },
  {
   "cell_type": "code",
   "execution_count": 25,
   "metadata": {},
   "outputs": [],
   "source": [
    "X_2=dataset_2.iloc[:,0:-1]\n",
    "y_2=dataset_2.iloc[:,-1]\n",
    "X_train_2, y_train_2, X_test_2, y_test_2 = split_data(dataset_2)"
   ]
  },
  {
   "cell_type": "code",
   "execution_count": 26,
   "metadata": {},
   "outputs": [
    {
     "name": "stdout",
     "output_type": "stream",
     "text": [
      "<class 'numpy.ndarray'>\n",
      "<class 'numpy.ndarray'>\n",
      "464628\n",
      "[[ 1.05504853e-02  1.14009363e+00  4.31266811e-01 ...  3.15816034e-02\n",
      "  -6.60917342e-02 -9.10416339e-03]\n",
      " [-7.29690503e-03  1.26933916e+00  5.52382464e-02 ... -1.11399164e-02\n",
      "   2.20114655e-02 -9.32234768e-03]\n",
      " [ 7.79426228e-02  1.16328143e+00 -4.54846236e-03 ...  6.51268730e-04\n",
      "  -2.13730318e-03  2.19608900e-02]\n",
      " ...\n",
      " [ 1.05856676e-02  8.71505836e-01  3.74865828e-01 ... -3.13322557e-02\n",
      "   1.73089838e-02  3.87865798e-03]\n",
      " [ 7.52944185e-02  1.15465645e+00  3.50359164e-02 ... -1.37247637e-02\n",
      "   2.81158695e-02 -7.07904258e-03]\n",
      " [-4.43906549e-01 -4.23598269e-01  2.75538167e-01 ... -4.82513317e-02\n",
      "   4.34215984e-02 -5.22800644e-03]]\n",
      "<class 'numpy.ndarray'>\n",
      "116384\n",
      "[[ 8.99348006e-01 -2.77689891e-01 -7.49960821e-01 ... -3.46289173e-02\n",
      "   5.32238758e-02 -1.23383652e-02]\n",
      " [-2.38365887e-02  1.02441796e+00 -2.19801732e-02 ... -1.07817943e-02\n",
      "   1.84743254e-02 -9.25233971e-04]\n",
      " [ 1.00826950e-01  9.71556365e-01 -9.79926247e-02 ... -1.19584300e-03\n",
      "  -3.44701103e-03 -1.10461329e-02]\n",
      " ...\n",
      " [-5.27320744e-02  1.28065848e+00  1.49029882e-01 ... -4.16786411e-02\n",
      "   3.58767301e-02 -1.57902237e-02]\n",
      " [-7.02414492e-01 -2.60448009e-01 -3.13115522e-01 ... -4.67469615e-02\n",
      "   8.13820918e-02 -3.09173921e-03]\n",
      " [-3.86760855e-02  1.28344463e+00  9.02756249e-02 ... -6.17491413e-02\n",
      "   4.02357970e-02 -1.80647002e-02]]\n"
     ]
    }
   ],
   "source": [
    "# pcaTrain_2 = PCA(n_components=30).fit(X_2)# --train-- pca with the \"dataset\" Dataframe\n",
    "# print(pcaTrain_2)\n",
    "compressed_dataset_X_2 = pcaTrain.transform(X_2) # --transform-- the original \"dataset\" Dataframe into a lower-dimensional space based on the model's learned parameters\n",
    "print(type(compressed_dataset_X_2))\n",
    "\n",
    "compressed_dataset_X_train_2= pcaTrain.transform(X_train_2) # --transform-- the original \"dataset\" Dataframe into a lower-dimensional space based on the model's learned parameters\n",
    "print(type(compressed_dataset_X_train_2))\n",
    "print(len(compressed_dataset_X_train_2))\n",
    "print(compressed_dataset_X_train_2)\n",
    "\n",
    "compressed_dataset_X_test_2= pcaTrain.transform(X_test_2) # --transform-- the original \"dataset\" Dataframe into a lower-dimensional space based on the model's learned parameters\n",
    "print(type(compressed_dataset_X_test_2))\n",
    "print(len(compressed_dataset_X_test_2))\n",
    "print(compressed_dataset_X_test_2)"
   ]
  },
  {
   "cell_type": "markdown",
   "metadata": {},
   "source": [
    "# fit AdaBoost classifier"
   ]
  },
  {
   "cell_type": "code",
   "execution_count": 27,
   "metadata": {},
   "outputs": [],
   "source": [
    "\n",
    "K = 5 # 5 fold cross validation\n",
    "skf = StratifiedKFold(n_splits = K, random_state = 42, shuffle = True)"
   ]
  },
  {
   "cell_type": "code",
   "execution_count": 28,
   "metadata": {},
   "outputs": [
    {
     "name": "stderr",
     "output_type": "stream",
     "text": [
      "  0%|          | 0/5 [00:00<?, ?it/s]c:\\Users\\USER\\AppData\\Local\\Programs\\Python\\Python311\\Lib\\site-packages\\sklearn\\ensemble\\_weight_boosting.py:519: FutureWarning:\n",
      "\n",
      "The SAMME.R algorithm (the default) is deprecated and will be removed in 1.6. Use the SAMME algorithm to circumvent this warning.\n",
      "\n",
      " 20%|██        | 1/5 [00:33<02:15, 33.78s/it]c:\\Users\\USER\\AppData\\Local\\Programs\\Python\\Python311\\Lib\\site-packages\\sklearn\\ensemble\\_weight_boosting.py:519: FutureWarning:\n",
      "\n",
      "The SAMME.R algorithm (the default) is deprecated and will be removed in 1.6. Use the SAMME algorithm to circumvent this warning.\n",
      "\n",
      " 40%|████      | 2/5 [01:06<01:39, 33.33s/it]c:\\Users\\USER\\AppData\\Local\\Programs\\Python\\Python311\\Lib\\site-packages\\sklearn\\ensemble\\_weight_boosting.py:519: FutureWarning:\n",
      "\n",
      "The SAMME.R algorithm (the default) is deprecated and will be removed in 1.6. Use the SAMME algorithm to circumvent this warning.\n",
      "\n",
      " 60%|██████    | 3/5 [01:39<01:05, 32.84s/it]c:\\Users\\USER\\AppData\\Local\\Programs\\Python\\Python311\\Lib\\site-packages\\sklearn\\ensemble\\_weight_boosting.py:519: FutureWarning:\n",
      "\n",
      "The SAMME.R algorithm (the default) is deprecated and will be removed in 1.6. Use the SAMME algorithm to circumvent this warning.\n",
      "\n",
      " 80%|████████  | 4/5 [02:11<00:32, 32.51s/it]c:\\Users\\USER\\AppData\\Local\\Programs\\Python\\Python311\\Lib\\site-packages\\sklearn\\ensemble\\_weight_boosting.py:519: FutureWarning:\n",
      "\n",
      "The SAMME.R algorithm (the default) is deprecated and will be removed in 1.6. Use the SAMME algorithm to circumvent this warning.\n",
      "\n",
      "100%|██████████| 5/5 [02:44<00:00, 32.93s/it]"
     ]
    },
    {
     "name": "stdout",
     "output_type": "stream",
     "text": [
      "0.14550349957385264\n"
     ]
    },
    {
     "name": "stderr",
     "output_type": "stream",
     "text": [
      "\n"
     ]
    }
   ],
   "source": [
    "# Let us make predictions for each of the 5 models and find mean \n",
    "# of those predictions\n",
    "\n",
    "from tqdm import tqdm\n",
    "train_Ada = np.array(compressed_dataset_X_train_2)\n",
    "target_train_Ada = np.array(y_train_2)\n",
    "\n",
    "test_Ada = np.array(compressed_dataset_X_test_2) # or test_Ada = np.array(X)\n",
    "\n",
    "\n",
    "test_preds_Ada = np.zeros((len(test_Ada)))\n",
    "oof_preds_Ada = np.zeros((len(train_Ada)))\n",
    "\n",
    "for train_index, val_index in tqdm(skf.split(compressed_dataset_X_train_2,y_train_2), total=5):\n",
    "    train_X, valid_X = train_Ada[train_index], train_Ada[val_index]\n",
    "    train_y, valid_y = target_train_Ada[train_index], target_train_Ada[val_index]\n",
    "    ada_params = study_Ada.best_trial.params\n",
    "    model_Ada_2 = AdaBoostClassifier(**ada_params,estimator=model_dt)\n",
    "    model_Ada_2.fit(train_X, train_y)\n",
    "    # for train accuracy\n",
    "    preds = model_Ada_2.predict(valid_X)\n",
    "    oof_preds_Ada[val_index] = preds\n",
    "    # for test accuracy\n",
    "    preds = model_Ada_2.predict(test_Ada)\n",
    "    test_preds_Ada += (preds)/5\n",
    "print(np.abs(oof_preds_Ada-target_train_Ada).mean())"
   ]
  },
  {
   "cell_type": "code",
   "execution_count": 29,
   "metadata": {},
   "outputs": [
    {
     "name": "stdout",
     "output_type": "stream",
     "text": [
      "0.9012995342510568\n"
     ]
    }
   ],
   "source": [
    "from sklearn.metrics import accuracy_score\n",
    "valid_Acc_Ada=accuracy_score(target_train_Ada,oof_preds_Ada)\n",
    "print(valid_Acc_Ada)"
   ]
  },
  {
   "cell_type": "code",
   "execution_count": 30,
   "metadata": {},
   "outputs": [
    {
     "name": "stdout",
     "output_type": "stream",
     "text": [
      "0.9803929164837246\n"
     ]
    }
   ],
   "source": [
    "train_Acc_Ada=model_Ada_2.score(compressed_dataset_X_train_2,y_train_2)\n",
    "print(train_Acc_Ada)"
   ]
  },
  {
   "cell_type": "code",
   "execution_count": 31,
   "metadata": {},
   "outputs": [
    {
     "name": "stdout",
     "output_type": "stream",
     "text": [
      "0.9016359637063514\n"
     ]
    }
   ],
   "source": [
    "test_Acc_Ada=model_Ada_2.score(compressed_dataset_X_test_2,y_test_2)\n",
    "print(test_Acc_Ada)"
   ]
  },
  {
   "cell_type": "markdown",
   "metadata": {},
   "source": [
    "# Evaluation"
   ]
  },
  {
   "cell_type": "code",
   "execution_count": 32,
   "metadata": {},
   "outputs": [
    {
     "data": {
      "image/png": "[encoded data removed]",
      "text/plain": [
       "<Figure size 800x600 with 2 Axes>"
      ]
     },
     "metadata": {},
     "output_type": "display_data"
    }
   ],
   "source": [
    "############# plot confusion matrix ############\n",
    "\n",
    "from matplotlib import pyplot as plt\n",
    "from sklearn import metrics\n",
    "\n",
    "cm = metrics.confusion_matrix(y_test_2, test_preds_Ada.round())\n",
    "# Plot confusion matrix with custom color map\n",
    "\n",
    "plt.figure(figsize=(8, 6))\n",
    "plt.imshow(cm, interpolation='nearest', cmap=plt.cm.PuRd)  # Set cmap to custom color map\n",
    "plt.title('Confusion Matrix')\n",
    "plt.colorbar()\n",
    "\n",
    "# Adding annotations\n",
    "thresh = cm.max() / 2.\n",
    "for i in range(cm.shape[0]):\n",
    "    for j in range(cm.shape[1]):\n",
    "        plt.text(j, i, format(cm[i, j], 'd'), #'d = integer\n",
    "                 horizontalalignment=\"center\",\n",
    "                 color=\"white\" if cm[i, j] > thresh else \"black\")\n",
    "\n",
    "plt.ylabel('True label')\n",
    "plt.xlabel('Predicted label')\n",
    "plt.tight_layout() #improves the layout of plots by preventing overlapping elements such as axis labels, tick labels, and titles\n",
    "plt.show()\n"
   ]
  },
  {
   "cell_type": "code",
   "execution_count": null,
   "metadata": {},
   "outputs": [],
   "source": [
    "############# validaition_curve #####################\n",
    "from sklearn.model_selection import ValidationCurveDisplay\n",
    "ValidationCurveDisplay.from_estimator(\n",
    "   AdaBoostClassifier(**trial.params), compressed_dataset_X, y, param_name=\"n_estimators\", param_range=range(50,500,10)\n",
    ")\n",
    "plt.show()"
   ]
  }
 ],
 "metadata": {
  "kernelspec": {
   "display_name": "Python 3",
   "language": "python",
   "name": "python3"
  },
  "language_info": {
   "codemirror_mode": {
    "name": "ipython",
    "version": 3
   },
   "file_extension": ".py",
   "mimetype": "text/x-python",
   "name": "python",
   "nbconvert_exporter": "python",
   "pygments_lexer": "ipython3",
   "version": "3.11.4"
  }
 },
 "nbformat": 4,
 "nbformat_minor": 2
}
