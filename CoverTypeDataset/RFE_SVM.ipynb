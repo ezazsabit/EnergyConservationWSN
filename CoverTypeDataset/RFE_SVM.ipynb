{
 "cells": [
  {
   "cell_type": "code",
   "execution_count": 1,
   "metadata": {},
   "outputs": [
    {
     "name": "stderr",
     "output_type": "stream",
     "text": [
      "c:\\Users\\USER\\AppData\\Local\\Programs\\Python\\Python311\\Lib\\site-packages\\tqdm\\auto.py:21: TqdmWarning: IProgress not found. Please update jupyter and ipywidgets. See https://ipywidgets.readthedocs.io/en/stable/user_install.html\n",
      "  from .autonotebook import tqdm as notebook_tqdm\n"
     ]
    }
   ],
   "source": [
    "import pandas as pd\n",
    "import numpy as np\n",
    "from sklearn.preprocessing import StandardScaler\n",
    "from sklearn.decomposition import PCA\n",
    "import seaborn as sns\n",
    "import matplotlib.pyplot as plt\n",
    "import optuna\n",
    "# import lightgbm as lgb\n",
    "from sklearn.model_selection import train_test_split\n",
    "from sklearn.metrics import roc_auc_score\n",
    "#plt.style.use('fivethirtyeight')\n",
    "import xgboost as xgb\n",
    "import sklearn\n",
    "import random\n",
    "from NecessaryModules.getData import getData\n",
    "\n",
    "from sklearn.neural_network import MLPClassifier\n",
    "from sklearn.feature_selection import RFE\n",
    "from sklearn.svm import SVR\n",
    "# from NecessaryModules.splitData import split_data"
   ]
  },
  {
   "cell_type": "code",
   "execution_count": 2,
   "metadata": {},
   "outputs": [],
   "source": [
    "import warnings\n",
    "warnings.filterwarnings(\"ignore\")\n",
    "from sklearn.metrics import mean_absolute_error"
   ]
  },
  {
   "cell_type": "code",
   "execution_count": 3,
   "metadata": {},
   "outputs": [
    {
     "name": "stdout",
     "output_type": "stream",
     "text": [
      "   Elevation    Aspect     Slope  Horizontal_Distance_To_Hydrology  \\\n",
      "0   0.850622  0.105556  0.150943                          0.045351   \n",
      "1   0.879149  0.163889  0.188679                          0.426304   \n",
      "2   0.767116  0.327778  0.320755                          0.068027   \n",
      "3   0.791494  0.338889  0.226415                          0.294785   \n",
      "4   0.867220  0.575000  0.584906                          0.385488   \n",
      "\n",
      "   Vertical_Distance_To_Hydrology  Horizontal_Distance_To_Roadways  \\\n",
      "0                       -0.003509                         0.631060   \n",
      "1                        0.189474                         0.177358   \n",
      "2                        0.038596                         0.259652   \n",
      "3                       -0.077193                         0.085486   \n",
      "4                        0.314035                         0.074020   \n",
      "\n",
      "   Hillshade_9am  Hillshade_Noon  Hillshade_3pm  \\\n",
      "0       0.866142        0.874016          0.548   \n",
      "1       0.897638        0.866142          0.500   \n",
      "2       0.968504        0.877953          0.400   \n",
      "3       0.944882        0.909449          0.476   \n",
      "4       0.724409        0.984252          0.728   \n",
      "\n",
      "   Horizontal_Distance_To_Fire_Points  ...  Soil_Type32  Soil_Type33  \\\n",
      "0                            0.512105  ...            0            0   \n",
      "1                            0.388636  ...            1            0   \n",
      "2                            0.387924  ...            0            0   \n",
      "3                            0.198804  ...            0            0   \n",
      "4                            0.141982  ...            0            0   \n",
      "\n",
      "   Soil_Type34  Soil_Type35  Soil_Type36  Soil_Type37  Soil_Type38  \\\n",
      "0            0            0            0            0            0   \n",
      "1            0            0            0            0            0   \n",
      "2            0            0            0            0            0   \n",
      "3            0            0            0            0            0   \n",
      "4            0            0            0            0            0   \n",
      "\n",
      "   Soil_Type39  Soil_Type40  Cover_Type  \n",
      "0            0            0           1  \n",
      "1            0            0           1  \n",
      "2            0            0           1  \n",
      "3            0            0           1  \n",
      "4            0            0           1  \n",
      "\n",
      "[5 rows x 55 columns]\n",
      "['Elevation', 'Aspect', 'Slope', 'Horizontal_Distance_To_Hydrology', 'Vertical_Distance_To_Hydrology', 'Horizontal_Distance_To_Roadways', 'Hillshade_9am', 'Hillshade_Noon', 'Hillshade_3pm', 'Horizontal_Distance_To_Fire_Points', 'Wilderness_Area1', 'Wilderness_Area2', 'Wilderness_Area3', 'Wilderness_Area4', 'Soil_Type1', 'Soil_Type2', 'Soil_Type3', 'Soil_Type4', 'Soil_Type5', 'Soil_Type6', 'Soil_Type7', 'Soil_Type8', 'Soil_Type9', 'Soil_Type10', 'Soil_Type11', 'Soil_Type12', 'Soil_Type13', 'Soil_Type14', 'Soil_Type15', 'Soil_Type16', 'Soil_Type17', 'Soil_Type18', 'Soil_Type19', 'Soil_Type20', 'Soil_Type21', 'Soil_Type22', 'Soil_Type23', 'Soil_Type24', 'Soil_Type25', 'Soil_Type26', 'Soil_Type27', 'Soil_Type28', 'Soil_Type29', 'Soil_Type30', 'Soil_Type31', 'Soil_Type32', 'Soil_Type33', 'Soil_Type34', 'Soil_Type35', 'Soil_Type36', 'Soil_Type37', 'Soil_Type38', 'Soil_Type39', 'Soil_Type40', 'Cover_Type']\n",
      "<class 'pandas.core.frame.DataFrame'>\n"
     ]
    }
   ],
   "source": [
    "filename = '../shot_listed_dataset/CoverTypeNewNormalized.csv'\n",
    "dataset=getData(filename).values.tolist()\n",
    "random.shuffle(dataset)\n",
    "dataset=pd.DataFrame(dataset) #from dataset_list to dataset_dataframe after suffling\n",
    "# print(dataset)"
   ]
  },
  {
   "cell_type": "code",
   "execution_count": 4,
   "metadata": {},
   "outputs": [],
   "source": [
    "def split_data(data):\n",
    "    # splitting the data\n",
    "    \n",
    "    msk = np.random.rand(len(data)) < 0.7\n",
    "    yy = [54] #test title is 54 after suffleing the dataframe \n",
    "    train = data[msk]\n",
    "    test = data[~msk]\n",
    "    x_train = train[train.columns[:train.shape[1] - 1]]  # all columns except the last are x variables\n",
    "    y_train = train[yy[0]].tolist()  # the last column as y variable\n",
    "    x_test = test[test.columns[:test.shape[1] - 1]]\n",
    "    y_test = test[yy[0]].tolist()  # the last column as y variable\n",
    "    y_train = [0 if i == 7 else i for i in y_train]  # replace label 7 with 0\n",
    "    y_test = [0 if i == 7 else i for i in y_test]  # replace label 7 with 0\n",
    "    return x_train, y_train, x_test, y_test"
   ]
  },
  {
   "cell_type": "markdown",
   "metadata": {},
   "source": [
    "# RFE implement"
   ]
  },
  {
   "cell_type": "code",
   "execution_count": 5,
   "metadata": {},
   "outputs": [],
   "source": [
    "X=dataset.iloc[:,0:-1]\n",
    "y=dataset.iloc[:,-1]"
   ]
  },
  {
   "cell_type": "code",
   "execution_count": 6,
   "metadata": {},
   "outputs": [
    {
     "name": "stdout",
     "output_type": "stream",
     "text": [
      "RFE(estimator=SVR(kernel='linear'), n_features_to_select=40)\n",
      "<class 'numpy.ndarray'>\n",
      "19229\n",
      "[[0.54797718 1.         1.         ... 0.         0.         0.        ]\n",
      " [0.85892116 0.         0.         ... 1.         0.         0.        ]\n",
      " [0.50985477 1.         0.         ... 0.         0.         0.        ]\n",
      " ...\n",
      " [0.73236515 0.         0.         ... 0.         0.         0.        ]\n",
      " [0.64211618 0.         0.         ... 0.         0.         0.        ]\n",
      " [0.77567427 0.         0.         ... 0.         0.         0.        ]]\n"
     ]
    }
   ],
   "source": [
    "estimator = SVR(kernel=\"linear\")\n",
    "model = RFE(estimator, n_features_to_select=40, step=1)\n",
    "rfeTrain = model.fit(X,y)\n",
    "print(rfeTrain)\n",
    "\n",
    "compressed_dataset_X= rfeTrain.transform(X)\n",
    "print(type(compressed_dataset_X))\n",
    "print(len(compressed_dataset_X))\n",
    "print(compressed_dataset_X)\n"
   ]
  },
  {
   "cell_type": "code",
   "execution_count": 7,
   "metadata": {},
   "outputs": [
    {
     "name": "stdout",
     "output_type": "stream",
     "text": [
      "13462\n"
     ]
    }
   ],
   "source": [
    "# from NecessaryModules.splitData import split_data\n",
    "X_train, y_train, X_test, y_test = split_data(dataset)\n",
    "print(len(X_train))"
   ]
  },
  {
   "cell_type": "code",
   "execution_count": 8,
   "metadata": {},
   "outputs": [
    {
     "name": "stdout",
     "output_type": "stream",
     "text": [
      "<class 'numpy.ndarray'>\n",
      "13462\n",
      "[[0.54797718 1.         1.         ... 0.         0.         0.        ]\n",
      " [0.85892116 0.         0.         ... 1.         0.         0.        ]\n",
      " [0.50985477 1.         0.         ... 0.         0.         0.        ]\n",
      " ...\n",
      " [0.76374481 0.         0.         ... 0.         0.         0.        ]\n",
      " [0.73236515 0.         0.         ... 0.         0.         0.        ]\n",
      " [0.64211618 0.         0.         ... 0.         0.         0.        ]]\n",
      "<class 'numpy.ndarray'>\n",
      "5767\n",
      "[[0.61877593 1.         0.         ... 0.         0.         0.        ]\n",
      " [0.49507261 1.         1.         ... 0.         0.         0.        ]\n",
      " [0.89859959 0.         0.         ... 0.         1.         0.        ]\n",
      " ...\n",
      " [0.54512448 1.         0.         ... 0.         0.         0.        ]\n",
      " [0.56405602 1.         0.         ... 0.         0.         0.        ]\n",
      " [0.77567427 0.         0.         ... 0.         0.         0.        ]]\n"
     ]
    }
   ],
   "source": [
    "compressed_dataset_X_train= rfeTrain.transform(X_train) # --transform-- the original \"dataset\" Dataframe into a lower-dimensional space based on the model's learned parameters\n",
    "print(type(compressed_dataset_X_train))\n",
    "print(len(compressed_dataset_X_train))\n",
    "print(compressed_dataset_X_train)\n",
    "\n",
    "compressed_dataset_X_test= rfeTrain.transform(X_test) # --transform-- the original \"dataset\" Dataframe into a lower-dimensional space based on the model's learned parameters\n",
    "print(type(compressed_dataset_X_test))\n",
    "print(len(compressed_dataset_X_test))\n",
    "print(compressed_dataset_X_test)"
   ]
  },
  {
   "cell_type": "markdown",
   "metadata": {},
   "source": [
    "# tune with SVC"
   ]
  },
  {
   "cell_type": "code",
   "execution_count": 9,
   "metadata": {},
   "outputs": [
    {
     "data": {
      "text/html": [
       "<style>#sk-container-id-1 {\n",
       "  /* Definition of color scheme common for light and dark mode */\n",
       "  --sklearn-color-text: black;\n",
       "  --sklearn-color-line: gray;\n",
       "  /* Definition of color scheme for unfitted estimators */\n",
       "  --sklearn-color-unfitted-level-0: #fff5e6;\n",
       "  --sklearn-color-unfitted-level-1: #f6e4d2;\n",
       "  --sklearn-color-unfitted-level-2: #ffe0b3;\n",
       "  --sklearn-color-unfitted-level-3: chocolate;\n",
       "  /* Definition of color scheme for fitted estimators */\n",
       "  --sklearn-color-fitted-level-0: #f0f8ff;\n",
       "  --sklearn-color-fitted-level-1: #d4ebff;\n",
       "  --sklearn-color-fitted-level-2: #b3dbfd;\n",
       "  --sklearn-color-fitted-level-3: cornflowerblue;\n",
       "\n",
       "  /* Specific color for light theme */\n",
       "  --sklearn-color-text-on-default-background: var(--sg-text-color, var(--theme-code-foreground, var(--jp-content-font-color1, black)));\n",
       "  --sklearn-color-background: var(--sg-background-color, var(--theme-background, var(--jp-layout-color0, white)));\n",
       "  --sklearn-color-border-box: var(--sg-text-color, var(--theme-code-foreground, var(--jp-content-font-color1, black)));\n",
       "  --sklearn-color-icon: #696969;\n",
       "\n",
       "  @media (prefers-color-scheme: dark) {\n",
       "    /* Redefinition of color scheme for dark theme */\n",
       "    --sklearn-color-text-on-default-background: var(--sg-text-color, var(--theme-code-foreground, var(--jp-content-font-color1, white)));\n",
       "    --sklearn-color-background: var(--sg-background-color, var(--theme-background, var(--jp-layout-color0, #111)));\n",
       "    --sklearn-color-border-box: var(--sg-text-color, var(--theme-code-foreground, var(--jp-content-font-color1, white)));\n",
       "    --sklearn-color-icon: #878787;\n",
       "  }\n",
       "}\n",
       "\n",
       "#sk-container-id-1 {\n",
       "  color: var(--sklearn-color-text);\n",
       "}\n",
       "\n",
       "#sk-container-id-1 pre {\n",
       "  padding: 0;\n",
       "}\n",
       "\n",
       "#sk-container-id-1 input.sk-hidden--visually {\n",
       "  border: 0;\n",
       "  clip: rect(1px 1px 1px 1px);\n",
       "  clip: rect(1px, 1px, 1px, 1px);\n",
       "  height: 1px;\n",
       "  margin: -1px;\n",
       "  overflow: hidden;\n",
       "  padding: 0;\n",
       "  position: absolute;\n",
       "  width: 1px;\n",
       "}\n",
       "\n",
       "#sk-container-id-1 div.sk-dashed-wrapped {\n",
       "  border: 1px dashed var(--sklearn-color-line);\n",
       "  margin: 0 0.4em 0.5em 0.4em;\n",
       "  box-sizing: border-box;\n",
       "  padding-bottom: 0.4em;\n",
       "  background-color: var(--sklearn-color-background);\n",
       "}\n",
       "\n",
       "#sk-container-id-1 div.sk-container {\n",
       "  /* jupyter's `normalize.less` sets `[hidden] { display: none; }`\n",
       "     but bootstrap.min.css set `[hidden] { display: none !important; }`\n",
       "     so we also need the `!important` here to be able to override the\n",
       "     default hidden behavior on the sphinx rendered scikit-learn.org.\n",
       "     See: https://github.com/scikit-learn/scikit-learn/issues/21755 */\n",
       "  display: inline-block !important;\n",
       "  position: relative;\n",
       "}\n",
       "\n",
       "#sk-container-id-1 div.sk-text-repr-fallback {\n",
       "  display: none;\n",
       "}\n",
       "\n",
       "div.sk-parallel-item,\n",
       "div.sk-serial,\n",
       "div.sk-item {\n",
       "  /* draw centered vertical line to link estimators */\n",
       "  background-image: linear-gradient(var(--sklearn-color-text-on-default-background), var(--sklearn-color-text-on-default-background));\n",
       "  background-size: 2px 100%;\n",
       "  background-repeat: no-repeat;\n",
       "  background-position: center center;\n",
       "}\n",
       "\n",
       "/* Parallel-specific style estimator block */\n",
       "\n",
       "#sk-container-id-1 div.sk-parallel-item::after {\n",
       "  content: \"\";\n",
       "  width: 100%;\n",
       "  border-bottom: 2px solid var(--sklearn-color-text-on-default-background);\n",
       "  flex-grow: 1;\n",
       "}\n",
       "\n",
       "#sk-container-id-1 div.sk-parallel {\n",
       "  display: flex;\n",
       "  align-items: stretch;\n",
       "  justify-content: center;\n",
       "  background-color: var(--sklearn-color-background);\n",
       "  position: relative;\n",
       "}\n",
       "\n",
       "#sk-container-id-1 div.sk-parallel-item {\n",
       "  display: flex;\n",
       "  flex-direction: column;\n",
       "}\n",
       "\n",
       "#sk-container-id-1 div.sk-parallel-item:first-child::after {\n",
       "  align-self: flex-end;\n",
       "  width: 50%;\n",
       "}\n",
       "\n",
       "#sk-container-id-1 div.sk-parallel-item:last-child::after {\n",
       "  align-self: flex-start;\n",
       "  width: 50%;\n",
       "}\n",
       "\n",
       "#sk-container-id-1 div.sk-parallel-item:only-child::after {\n",
       "  width: 0;\n",
       "}\n",
       "\n",
       "/* Serial-specific style estimator block */\n",
       "\n",
       "#sk-container-id-1 div.sk-serial {\n",
       "  display: flex;\n",
       "  flex-direction: column;\n",
       "  align-items: center;\n",
       "  background-color: var(--sklearn-color-background);\n",
       "  padding-right: 1em;\n",
       "  padding-left: 1em;\n",
       "}\n",
       "\n",
       "\n",
       "/* Toggleable style: style used for estimator/Pipeline/ColumnTransformer box that is\n",
       "clickable and can be expanded/collapsed.\n",
       "- Pipeline and ColumnTransformer use this feature and define the default style\n",
       "- Estimators will overwrite some part of the style using the `sk-estimator` class\n",
       "*/\n",
       "\n",
       "/* Pipeline and ColumnTransformer style (default) */\n",
       "\n",
       "#sk-container-id-1 div.sk-toggleable {\n",
       "  /* Default theme specific background. It is overwritten whether we have a\n",
       "  specific estimator or a Pipeline/ColumnTransformer */\n",
       "  background-color: var(--sklearn-color-background);\n",
       "}\n",
       "\n",
       "/* Toggleable label */\n",
       "#sk-container-id-1 label.sk-toggleable__label {\n",
       "  cursor: pointer;\n",
       "  display: block;\n",
       "  width: 100%;\n",
       "  margin-bottom: 0;\n",
       "  padding: 0.5em;\n",
       "  box-sizing: border-box;\n",
       "  text-align: center;\n",
       "}\n",
       "\n",
       "#sk-container-id-1 label.sk-toggleable__label-arrow:before {\n",
       "  /* Arrow on the left of the label */\n",
       "  content: \"▸\";\n",
       "  float: left;\n",
       "  margin-right: 0.25em;\n",
       "  color: var(--sklearn-color-icon);\n",
       "}\n",
       "\n",
       "#sk-container-id-1 label.sk-toggleable__label-arrow:hover:before {\n",
       "  color: var(--sklearn-color-text);\n",
       "}\n",
       "\n",
       "/* Toggleable content - dropdown */\n",
       "\n",
       "#sk-container-id-1 div.sk-toggleable__content {\n",
       "  max-height: 0;\n",
       "  max-width: 0;\n",
       "  overflow: hidden;\n",
       "  text-align: left;\n",
       "  /* unfitted */\n",
       "  background-color: var(--sklearn-color-unfitted-level-0);\n",
       "}\n",
       "\n",
       "#sk-container-id-1 div.sk-toggleable__content.fitted {\n",
       "  /* fitted */\n",
       "  background-color: var(--sklearn-color-fitted-level-0);\n",
       "}\n",
       "\n",
       "#sk-container-id-1 div.sk-toggleable__content pre {\n",
       "  margin: 0.2em;\n",
       "  border-radius: 0.25em;\n",
       "  color: var(--sklearn-color-text);\n",
       "  /* unfitted */\n",
       "  background-color: var(--sklearn-color-unfitted-level-0);\n",
       "}\n",
       "\n",
       "#sk-container-id-1 div.sk-toggleable__content.fitted pre {\n",
       "  /* unfitted */\n",
       "  background-color: var(--sklearn-color-fitted-level-0);\n",
       "}\n",
       "\n",
       "#sk-container-id-1 input.sk-toggleable__control:checked~div.sk-toggleable__content {\n",
       "  /* Expand drop-down */\n",
       "  max-height: 200px;\n",
       "  max-width: 100%;\n",
       "  overflow: auto;\n",
       "}\n",
       "\n",
       "#sk-container-id-1 input.sk-toggleable__control:checked~label.sk-toggleable__label-arrow:before {\n",
       "  content: \"▾\";\n",
       "}\n",
       "\n",
       "/* Pipeline/ColumnTransformer-specific style */\n",
       "\n",
       "#sk-container-id-1 div.sk-label input.sk-toggleable__control:checked~label.sk-toggleable__label {\n",
       "  color: var(--sklearn-color-text);\n",
       "  background-color: var(--sklearn-color-unfitted-level-2);\n",
       "}\n",
       "\n",
       "#sk-container-id-1 div.sk-label.fitted input.sk-toggleable__control:checked~label.sk-toggleable__label {\n",
       "  background-color: var(--sklearn-color-fitted-level-2);\n",
       "}\n",
       "\n",
       "/* Estimator-specific style */\n",
       "\n",
       "/* Colorize estimator box */\n",
       "#sk-container-id-1 div.sk-estimator input.sk-toggleable__control:checked~label.sk-toggleable__label {\n",
       "  /* unfitted */\n",
       "  background-color: var(--sklearn-color-unfitted-level-2);\n",
       "}\n",
       "\n",
       "#sk-container-id-1 div.sk-estimator.fitted input.sk-toggleable__control:checked~label.sk-toggleable__label {\n",
       "  /* fitted */\n",
       "  background-color: var(--sklearn-color-fitted-level-2);\n",
       "}\n",
       "\n",
       "#sk-container-id-1 div.sk-label label.sk-toggleable__label,\n",
       "#sk-container-id-1 div.sk-label label {\n",
       "  /* The background is the default theme color */\n",
       "  color: var(--sklearn-color-text-on-default-background);\n",
       "}\n",
       "\n",
       "/* On hover, darken the color of the background */\n",
       "#sk-container-id-1 div.sk-label:hover label.sk-toggleable__label {\n",
       "  color: var(--sklearn-color-text);\n",
       "  background-color: var(--sklearn-color-unfitted-level-2);\n",
       "}\n",
       "\n",
       "/* Label box, darken color on hover, fitted */\n",
       "#sk-container-id-1 div.sk-label.fitted:hover label.sk-toggleable__label.fitted {\n",
       "  color: var(--sklearn-color-text);\n",
       "  background-color: var(--sklearn-color-fitted-level-2);\n",
       "}\n",
       "\n",
       "/* Estimator label */\n",
       "\n",
       "#sk-container-id-1 div.sk-label label {\n",
       "  font-family: monospace;\n",
       "  font-weight: bold;\n",
       "  display: inline-block;\n",
       "  line-height: 1.2em;\n",
       "}\n",
       "\n",
       "#sk-container-id-1 div.sk-label-container {\n",
       "  text-align: center;\n",
       "}\n",
       "\n",
       "/* Estimator-specific */\n",
       "#sk-container-id-1 div.sk-estimator {\n",
       "  font-family: monospace;\n",
       "  border: 1px dotted var(--sklearn-color-border-box);\n",
       "  border-radius: 0.25em;\n",
       "  box-sizing: border-box;\n",
       "  margin-bottom: 0.5em;\n",
       "  /* unfitted */\n",
       "  background-color: var(--sklearn-color-unfitted-level-0);\n",
       "}\n",
       "\n",
       "#sk-container-id-1 div.sk-estimator.fitted {\n",
       "  /* fitted */\n",
       "  background-color: var(--sklearn-color-fitted-level-0);\n",
       "}\n",
       "\n",
       "/* on hover */\n",
       "#sk-container-id-1 div.sk-estimator:hover {\n",
       "  /* unfitted */\n",
       "  background-color: var(--sklearn-color-unfitted-level-2);\n",
       "}\n",
       "\n",
       "#sk-container-id-1 div.sk-estimator.fitted:hover {\n",
       "  /* fitted */\n",
       "  background-color: var(--sklearn-color-fitted-level-2);\n",
       "}\n",
       "\n",
       "/* Specification for estimator info (e.g. \"i\" and \"?\") */\n",
       "\n",
       "/* Common style for \"i\" and \"?\" */\n",
       "\n",
       ".sk-estimator-doc-link,\n",
       "a:link.sk-estimator-doc-link,\n",
       "a:visited.sk-estimator-doc-link {\n",
       "  float: right;\n",
       "  font-size: smaller;\n",
       "  line-height: 1em;\n",
       "  font-family: monospace;\n",
       "  background-color: var(--sklearn-color-background);\n",
       "  border-radius: 1em;\n",
       "  height: 1em;\n",
       "  width: 1em;\n",
       "  text-decoration: none !important;\n",
       "  margin-left: 1ex;\n",
       "  /* unfitted */\n",
       "  border: var(--sklearn-color-unfitted-level-1) 1pt solid;\n",
       "  color: var(--sklearn-color-unfitted-level-1);\n",
       "}\n",
       "\n",
       ".sk-estimator-doc-link.fitted,\n",
       "a:link.sk-estimator-doc-link.fitted,\n",
       "a:visited.sk-estimator-doc-link.fitted {\n",
       "  /* fitted */\n",
       "  border: var(--sklearn-color-fitted-level-1) 1pt solid;\n",
       "  color: var(--sklearn-color-fitted-level-1);\n",
       "}\n",
       "\n",
       "/* On hover */\n",
       "div.sk-estimator:hover .sk-estimator-doc-link:hover,\n",
       ".sk-estimator-doc-link:hover,\n",
       "div.sk-label-container:hover .sk-estimator-doc-link:hover,\n",
       ".sk-estimator-doc-link:hover {\n",
       "  /* unfitted */\n",
       "  background-color: var(--sklearn-color-unfitted-level-3);\n",
       "  color: var(--sklearn-color-background);\n",
       "  text-decoration: none;\n",
       "}\n",
       "\n",
       "div.sk-estimator.fitted:hover .sk-estimator-doc-link.fitted:hover,\n",
       ".sk-estimator-doc-link.fitted:hover,\n",
       "div.sk-label-container:hover .sk-estimator-doc-link.fitted:hover,\n",
       ".sk-estimator-doc-link.fitted:hover {\n",
       "  /* fitted */\n",
       "  background-color: var(--sklearn-color-fitted-level-3);\n",
       "  color: var(--sklearn-color-background);\n",
       "  text-decoration: none;\n",
       "}\n",
       "\n",
       "/* Span, style for the box shown on hovering the info icon */\n",
       ".sk-estimator-doc-link span {\n",
       "  display: none;\n",
       "  z-index: 9999;\n",
       "  position: relative;\n",
       "  font-weight: normal;\n",
       "  right: .2ex;\n",
       "  padding: .5ex;\n",
       "  margin: .5ex;\n",
       "  width: min-content;\n",
       "  min-width: 20ex;\n",
       "  max-width: 50ex;\n",
       "  color: var(--sklearn-color-text);\n",
       "  box-shadow: 2pt 2pt 4pt #999;\n",
       "  /* unfitted */\n",
       "  background: var(--sklearn-color-unfitted-level-0);\n",
       "  border: .5pt solid var(--sklearn-color-unfitted-level-3);\n",
       "}\n",
       "\n",
       ".sk-estimator-doc-link.fitted span {\n",
       "  /* fitted */\n",
       "  background: var(--sklearn-color-fitted-level-0);\n",
       "  border: var(--sklearn-color-fitted-level-3);\n",
       "}\n",
       "\n",
       ".sk-estimator-doc-link:hover span {\n",
       "  display: block;\n",
       "}\n",
       "\n",
       "/* \"?\"-specific style due to the `<a>` HTML tag */\n",
       "\n",
       "#sk-container-id-1 a.estimator_doc_link {\n",
       "  float: right;\n",
       "  font-size: 1rem;\n",
       "  line-height: 1em;\n",
       "  font-family: monospace;\n",
       "  background-color: var(--sklearn-color-background);\n",
       "  border-radius: 1rem;\n",
       "  height: 1rem;\n",
       "  width: 1rem;\n",
       "  text-decoration: none;\n",
       "  /* unfitted */\n",
       "  color: var(--sklearn-color-unfitted-level-1);\n",
       "  border: var(--sklearn-color-unfitted-level-1) 1pt solid;\n",
       "}\n",
       "\n",
       "#sk-container-id-1 a.estimator_doc_link.fitted {\n",
       "  /* fitted */\n",
       "  border: var(--sklearn-color-fitted-level-1) 1pt solid;\n",
       "  color: var(--sklearn-color-fitted-level-1);\n",
       "}\n",
       "\n",
       "/* On hover */\n",
       "#sk-container-id-1 a.estimator_doc_link:hover {\n",
       "  /* unfitted */\n",
       "  background-color: var(--sklearn-color-unfitted-level-3);\n",
       "  color: var(--sklearn-color-background);\n",
       "  text-decoration: none;\n",
       "}\n",
       "\n",
       "#sk-container-id-1 a.estimator_doc_link.fitted:hover {\n",
       "  /* fitted */\n",
       "  background-color: var(--sklearn-color-fitted-level-3);\n",
       "}\n",
       "</style><div id=\"sk-container-id-1\" class=\"sk-top-container\"><div class=\"sk-text-repr-fallback\"><pre>SVC(C=8.75, decision_function_shape=&#x27;ovo&#x27;, gamma=0.4, tol=0.483)</pre><b>In a Jupyter environment, please rerun this cell to show the HTML representation or trust the notebook. <br />On GitHub, the HTML representation is unable to render, please try loading this page with nbviewer.org.</b></div><div class=\"sk-container\" hidden><div class=\"sk-item\"><div class=\"sk-estimator fitted sk-toggleable\"><input class=\"sk-toggleable__control sk-hidden--visually\" id=\"sk-estimator-id-1\" type=\"checkbox\" checked><label for=\"sk-estimator-id-1\" class=\"sk-toggleable__label fitted sk-toggleable__label-arrow fitted\">&nbsp;&nbsp;SVC<a class=\"sk-estimator-doc-link fitted\" rel=\"noreferrer\" target=\"_blank\" href=\"https://scikit-learn.org/1.4/modules/generated/sklearn.svm.SVC.html\">?<span>Documentation for SVC</span></a><span class=\"sk-estimator-doc-link fitted\">i<span>Fitted</span></span></label><div class=\"sk-toggleable__content fitted\"><pre>SVC(C=8.75, decision_function_shape=&#x27;ovo&#x27;, gamma=0.4, tol=0.483)</pre></div> </div></div></div></div>"
      ],
      "text/plain": [
       "SVC(C=8.75, decision_function_shape='ovo', gamma=0.4, tol=0.483)"
      ]
     },
     "execution_count": 9,
     "metadata": {},
     "output_type": "execute_result"
    }
   ],
   "source": [
    "# train the model with random parameter\n",
    "from sklearn.svm import SVC\n",
    "\n",
    "model_SVC = SVC(\n",
    "        C=8.75,#Regularization parameter\n",
    "        kernel=\"rbf\", # maximum number of estimators at which boosting is terminated\n",
    "        gamma=0.4,\n",
    "        tol=0.483,\n",
    "        decision_function_shape='ovo',\n",
    "        \n",
    "     )\n",
    "\n",
    "model_SVC.fit(compressed_dataset_X_train, y_train)"
   ]
  },
  {
   "cell_type": "code",
   "execution_count": 10,
   "metadata": {},
   "outputs": [
    {
     "data": {
      "text/plain": [
       "0.7062597537714583"
      ]
     },
     "execution_count": 10,
     "metadata": {},
     "output_type": "execute_result"
    }
   ],
   "source": [
    "# Finding mean absolute error\n",
    "preds = model_SVC.predict(compressed_dataset_X_test)\n",
    "preds = preds.astype(int)\n",
    "mae = np.abs(y_test-preds).mean()\n",
    "mae"
   ]
  },
  {
   "cell_type": "code",
   "execution_count": 11,
   "metadata": {},
   "outputs": [],
   "source": [
    "# Defining the best parameter with optuna\n",
    "from sklearn.metrics import mean_absolute_error\n",
    "from sklearn.model_selection import StratifiedKFold\n",
    "K = 5 # stratified 5 fold cross validation, The folds are made by preserving the percentage of samples for each class.\n",
    "skf = StratifiedKFold(n_splits = K, random_state = 42, shuffle = True)\n",
    "\n",
    "train_tunned= np.array(compressed_dataset_X)\n",
    "target_train_tunned= np.array(y)\n",
    "\n",
    "oof_preds= np.zeros((len(train_tunned)))\n",
    "abs_error_arr=[]\n",
    "def objective_SVC(trial):\n",
    "\n",
    " for train_index, val_index in (skf.split(compressed_dataset_X,y)):\n",
    "    train_X, valid_X = train_tunned[train_index], train_tunned[val_index]\n",
    "    train_Y, valid_Y = target_train_tunned[train_index], target_train_tunned[val_index]\n",
    "    \n",
    "        \n",
    "        \n",
    "    param = {\n",
    "        'C':trial.suggest_float(\"C\",0,10), #For regularization    \n",
    "        'kernel':trial.suggest_categorical('kernel',[\"linear\", \"poly\", \"rbf\", \"sigmoid\"]),\n",
    "        'degree':trial.suggest_int('degree',1,10),\n",
    "        'gamma':trial.suggest_float('gamma',0,1),\n",
    "        # 'tol':trial.suggest_float('tol',0,5),\n",
    "        # 'coef0':trial.suggest_float('coed0',0,3),\n",
    "        'decision_function_shape':trial.suggest_categorical('decision_function_shape',['ovo','ovr']),\n",
    "        'random_state':trial.suggest_int('random_state',0,5),\n",
    "        }\n",
    "    model= SVC(**param)  \n",
    "        \n",
    "    model.fit(train_X,train_Y)\n",
    "        \n",
    "    preds = model.predict(valid_X)\n",
    "    oof_preds[val_index] = preds # preds gives total 3846 predicted value for valid_X\n",
    "\n",
    "      \n",
    " mae = mean_absolute_error(target_train_tunned, oof_preds)\n",
    "        \n",
    " return mae"
   ]
  },
  {
   "cell_type": "code",
   "execution_count": 12,
   "metadata": {},
   "outputs": [
    {
     "name": "stderr",
     "output_type": "stream",
     "text": [
      "[I 2024-02-19 19:59:23,792] A new study created in memory with name: SVC_tunning\n"
     ]
    }
   ],
   "source": [
    "# this is the main optuna for optimizing a object-->\"objective\"\n",
    "study_SVC = optuna.create_study(direction='minimize',study_name=\"SVC_tunning\")"
   ]
  },
  {
   "cell_type": "code",
   "execution_count": 13,
   "metadata": {},
   "outputs": [
    {
     "name": "stderr",
     "output_type": "stream",
     "text": [
      "[I 2024-02-19 20:00:08,560] Trial 0 finished with value: 1.032711009412866 and parameters: {'C': 9.080948513808536, 'kernel': 'sigmoid', 'degree': 10, 'gamma': 0.8874071226485558, 'decision_function_shape': 'ovo', 'random_state': 2}. Best is trial 0 with value: 1.032711009412866.\n",
      "[I 2024-02-19 20:00:37,607] Trial 1 finished with value: 0.9990119090956368 and parameters: {'C': 0.5201437014827814, 'kernel': 'linear', 'degree': 9, 'gamma': 0.5152638911615832, 'decision_function_shape': 'ovr', 'random_state': 0}. Best is trial 1 with value: 0.9990119090956368.\n",
      "[I 2024-02-19 20:01:18,802] Trial 2 finished with value: 0.982422382859223 and parameters: {'C': 9.577274041492931, 'kernel': 'sigmoid', 'degree': 6, 'gamma': 0.08764880879176506, 'decision_function_shape': 'ovo', 'random_state': 1}. Best is trial 2 with value: 0.982422382859223.\n",
      "[I 2024-02-19 20:01:58,817] Trial 3 finished with value: 0.9699932393780227 and parameters: {'C': 8.219865046226168, 'kernel': 'sigmoid', 'degree': 1, 'gamma': 0.5381056483214773, 'decision_function_shape': 'ovo', 'random_state': 4}. Best is trial 3 with value: 0.9699932393780227.\n",
      "[I 2024-02-19 20:02:26,843] Trial 4 finished with value: 0.8967184981018254 and parameters: {'C': 7.520533788272246, 'kernel': 'linear', 'degree': 6, 'gamma': 0.8219005763032301, 'decision_function_shape': 'ovo', 'random_state': 1}. Best is trial 4 with value: 0.8967184981018254.\n",
      "[I 2024-02-19 20:03:13,140] Trial 5 finished with value: 1.0369233969525196 and parameters: {'C': 3.4922775618744497, 'kernel': 'sigmoid', 'degree': 5, 'gamma': 0.23870518652696937, 'decision_function_shape': 'ovo', 'random_state': 1}. Best is trial 4 with value: 0.8967184981018254.\n",
      "[I 2024-02-19 20:03:57,574] Trial 6 finished with value: 0.9721774403245098 and parameters: {'C': 7.808040626908651, 'kernel': 'sigmoid', 'degree': 9, 'gamma': 0.34001649927663613, 'decision_function_shape': 'ovr', 'random_state': 5}. Best is trial 4 with value: 0.8967184981018254.\n",
      "[I 2024-02-19 20:05:08,613] Trial 7 finished with value: 1.0377554735035623 and parameters: {'C': 0.9447581147756212, 'kernel': 'rbf', 'degree': 3, 'gamma': 0.03428707168163925, 'decision_function_shape': 'ovo', 'random_state': 3}. Best is trial 4 with value: 0.8967184981018254.\n",
      "[I 2024-02-19 20:05:53,729] Trial 8 finished with value: 1.0251703156690415 and parameters: {'C': 2.3458343833654327, 'kernel': 'sigmoid', 'degree': 8, 'gamma': 0.5328055762299944, 'decision_function_shape': 'ovo', 'random_state': 2}. Best is trial 4 with value: 0.8967184981018254.\n",
      "[I 2024-02-19 20:06:55,004] Trial 9 finished with value: 0.943210775391336 and parameters: {'C': 9.330502861261513, 'kernel': 'rbf', 'degree': 7, 'gamma': 0.0947464517017127, 'decision_function_shape': 'ovr', 'random_state': 5}. Best is trial 4 with value: 0.8967184981018254.\n",
      "[I 2024-02-19 20:07:25,162] Trial 10 finished with value: 0.9003588330126372 and parameters: {'C': 6.153934745978002, 'kernel': 'linear', 'degree': 4, 'gamma': 0.9907830614770655, 'decision_function_shape': 'ovr', 'random_state': 0}. Best is trial 4 with value: 0.8967184981018254.\n",
      "[I 2024-02-19 20:07:56,194] Trial 11 finished with value: 0.901554943054761 and parameters: {'C': 5.813481809131397, 'kernel': 'linear', 'degree': 4, 'gamma': 0.9837862178020188, 'decision_function_shape': 'ovr', 'random_state': 0}. Best is trial 4 with value: 0.8967184981018254.\n",
      "[I 2024-02-19 20:08:24,717] Trial 12 finished with value: 0.8999427947371158 and parameters: {'C': 6.2558123329341875, 'kernel': 'linear', 'degree': 2, 'gamma': 0.7852511627647231, 'decision_function_shape': 'ovr', 'random_state': 1}. Best is trial 4 with value: 0.8967184981018254.\n",
      "[I 2024-02-19 20:08:56,644] Trial 13 finished with value: 0.9042591918456498 and parameters: {'C': 6.859349475289009, 'kernel': 'poly', 'degree': 1, 'gamma': 0.7324684785366093, 'decision_function_shape': 'ovr', 'random_state': 1}. Best is trial 4 with value: 0.8967184981018254.\n",
      "[I 2024-02-19 20:09:27,057] Trial 14 finished with value: 0.9044152061989703 and parameters: {'C': 4.502409051813334, 'kernel': 'linear', 'degree': 3, 'gamma': 0.7341502022255932, 'decision_function_shape': 'ovo', 'random_state': 3}. Best is trial 4 with value: 0.8967184981018254.\n"
     ]
    },
    {
     "name": "stdout",
     "output_type": "stream",
     "text": [
      "Number of finished trials: 15\n",
      "Best trial: {'C': 7.520533788272246, 'kernel': 'linear', 'degree': 6, 'gamma': 0.8219005763032301, 'decision_function_shape': 'ovo', 'random_state': 1}\n"
     ]
    }
   ],
   "source": [
    "\n",
    "study_SVC.optimize(objective_SVC, n_trials=15) \n",
    "print('Number of finished trials:', len(study_SVC.trials))\n",
    "print('Best trial:', study_SVC.best_trial.params)"
   ]
  },
  {
   "cell_type": "code",
   "execution_count": 14,
   "metadata": {},
   "outputs": [
    {
     "name": "stdout",
     "output_type": "stream",
     "text": [
      "Number of finished trials:  15\n",
      "Best trial:\n",
      "  Value:  0.8967184981018254\n",
      "  Params: \n",
      "    C: 7.520533788272246\n",
      "    kernel: linear\n",
      "    degree: 6\n",
      "    gamma: 0.8219005763032301\n",
      "    decision_function_shape: ovo\n",
      "    random_state: 1\n"
     ]
    }
   ],
   "source": [
    "#evaluate the trial\n",
    "print(\"Number of finished trials: \", len(study_SVC.trials))\n",
    "print(\"Best trial:\")\n",
    "trial = study_SVC.best_trial\n",
    "print(\"  Value: \", trial.value)\n",
    "print(\"  Params: \")\n",
    "for key, value in trial.params.items():\n",
    "    print(\"    {}: {}\".format(key, value))"
   ]
  },
  {
   "cell_type": "markdown",
   "metadata": {},
   "source": [
    "# process the whole data"
   ]
  },
  {
   "cell_type": "code",
   "execution_count": 15,
   "metadata": {},
   "outputs": [],
   "source": [
    "# filename_2 = '../shot_listed_dataset/Cover_type_whole_genuine_dataset_normalization.csv'\n",
    "# dataset_2=getData(filename_2).values.tolist()\n",
    "# random.shuffle(dataset_2)\n",
    "\n"
   ]
  },
  {
   "cell_type": "code",
   "execution_count": 16,
   "metadata": {},
   "outputs": [],
   "source": [
    "# dataset_2=pd.DataFrame(dataset_2) #from dataset_list to dataset_dataframe after suffling\n",
    "# print(dataset_2)"
   ]
  },
  {
   "cell_type": "code",
   "execution_count": 17,
   "metadata": {},
   "outputs": [],
   "source": [
    "# X_2=dataset_2.iloc[:,0:-1]\n",
    "# y_2=dataset_2.iloc[:,-1]\n",
    "# X_train_2, y_train_2, X_test_2, y_test_2 = split_data(dataset_2)"
   ]
  },
  {
   "cell_type": "code",
   "execution_count": 18,
   "metadata": {},
   "outputs": [],
   "source": [
    "\n",
    "# estimator = SVR(kernel=\"linear\")\n",
    "# model = RFE(estimator, n_features_to_select=30, step=1)\n",
    "# rfeTrain_2 = model.fit(X_2,y_2)# --train-- pca with the \"dataset\" Dataframe\n",
    "# print(rfeTrain_2)\n",
    "# compressed_dataset_X_2 = rfeTrain_2.transform(X_2) # --transform-- the original \"dataset\" Dataframe into a lower-dimensional space based on the model's learned parameters\n",
    "# print(type(compressed_dataset_X_2))"
   ]
  },
  {
   "cell_type": "code",
   "execution_count": 19,
   "metadata": {},
   "outputs": [],
   "source": [
    "# compressed_dataset_X_train_2= rfeTrain_2.transform(X_train_2) # --transform-- the original \"dataset\" Dataframe into a lower-dimensional space based on the model's learned parameters\n",
    "# print(type(compressed_dataset_X_train_2))\n",
    "# print(len(compressed_dataset_X_train_2))\n",
    "# print(compressed_dataset_X_train_2)\n",
    "\n",
    "# compressed_dataset_X_test_2= rfeTrain_2.transform(X_test_2) # --transform-- the original \"dataset\" Dataframe into a lower-dimensional space based on the model's learned parameters\n",
    "# print(type(compressed_dataset_X_test_2))\n",
    "# print(len(compressed_dataset_X_test_2))\n",
    "# print(compressed_dataset_X_test_2)"
   ]
  },
  {
   "cell_type": "markdown",
   "metadata": {},
   "source": [
    "# fit the SVM model"
   ]
  },
  {
   "cell_type": "code",
   "execution_count": 20,
   "metadata": {},
   "outputs": [
    {
     "name": "stderr",
     "output_type": "stream",
     "text": [
      "  0%|          | 0/5 [00:00<?, ?it/s]"
     ]
    },
    {
     "name": "stderr",
     "output_type": "stream",
     "text": [
      "100%|██████████| 5/5 [00:22<00:00,  4.47s/it]"
     ]
    },
    {
     "name": "stdout",
     "output_type": "stream",
     "text": [
      "0.6924676868221661\n"
     ]
    },
    {
     "name": "stderr",
     "output_type": "stream",
     "text": [
      "\n"
     ]
    }
   ],
   "source": [
    "# Let us make predictions for each of the 5 models and find mean \n",
    "# of those predictions\n",
    "\n",
    "from tqdm import tqdm\n",
    "train_SVC = np.array(compressed_dataset_X_train)\n",
    "target_train_SVC = np.array(y_train)\n",
    "\n",
    "test_SVC = np.array(compressed_dataset_X_test) # or test_Ada = np.array(X)\n",
    "\n",
    "\n",
    "test_preds_SVC = np.zeros((len(test_SVC)))\n",
    "oof_preds_SVC = np.zeros((len(train_SVC)))\n",
    "\n",
    "for train_index, val_index in tqdm(skf.split(compressed_dataset_X_train,y_train), total=5):\n",
    "    train_X, valid_X = train_SVC[train_index], train_SVC[val_index]\n",
    "    train_y, valid_y = target_train_SVC[train_index], target_train_SVC[val_index]\n",
    "    svc_params = study_SVC.best_trial.params\n",
    "    model_SVC_2 = SVC(**svc_params)\n",
    "    model_SVC_2.fit(train_X, train_y)\n",
    "    # for train accuracy\n",
    "    preds = model_SVC_2.predict(valid_X)\n",
    "    oof_preds_SVC[val_index] = preds\n",
    "    # for test accuracy\n",
    "    preds = model_SVC_2.predict(test_SVC)\n",
    "    test_preds_SVC += (preds)/5\n",
    "print(np.abs(oof_preds_SVC-target_train_SVC).mean())"
   ]
  },
  {
   "cell_type": "code",
   "execution_count": 21,
   "metadata": {},
   "outputs": [
    {
     "name": "stdout",
     "output_type": "stream",
     "text": [
      "0.648344026356858\n"
     ]
    }
   ],
   "source": [
    "from sklearn.metrics import accuracy_score\n",
    "# valid_Acc_SVC=accuracy_score(target_train,oof_preds)\n",
    "# print(valid_Acc_SVC)\n",
    "target_test=np.array(y_test)\n",
    "# another technique for calculate test accuracy\n",
    "test_Acc_SVC=accuracy_score(target_test,test_preds_SVC.round())\n",
    "print(test_Acc_SVC)"
   ]
  },
  {
   "cell_type": "code",
   "execution_count": 22,
   "metadata": {},
   "outputs": [
    {
     "name": "stdout",
     "output_type": "stream",
     "text": [
      "0.6533204575843113\n"
     ]
    }
   ],
   "source": [
    "#validation accuracy\n",
    "valid_Acc=accuracy_score(target_train_SVC,oof_preds_SVC)\n",
    "print(valid_Acc)"
   ]
  },
  {
   "cell_type": "code",
   "execution_count": 23,
   "metadata": {},
   "outputs": [
    {
     "name": "stdout",
     "output_type": "stream",
     "text": [
      "0.6525033427425345\n"
     ]
    }
   ],
   "source": [
    "# train accuracy\n",
    "train_Acc=model_SVC_2.score(compressed_dataset_X_train,y_train)\n",
    "print(train_Acc)"
   ]
  },
  {
   "cell_type": "code",
   "execution_count": 24,
   "metadata": {},
   "outputs": [
    {
     "name": "stdout",
     "output_type": "stream",
     "text": [
      "0.648344026356858\n"
     ]
    }
   ],
   "source": [
    "# test_accuracy\n",
    "test_Acc=model_SVC_2.score(compressed_dataset_X_test,y_test)\n",
    "print(test_Acc)"
   ]
  }
 ],
 "metadata": {
  "kernelspec": {
   "display_name": "Python 3",
   "language": "python",
   "name": "python3"
  },
  "language_info": {
   "codemirror_mode": {
    "name": "ipython",
    "version": 3
   },
   "file_extension": ".py",
   "mimetype": "text/x-python",
   "name": "python",
   "nbconvert_exporter": "python",
   "pygments_lexer": "ipython3",
   "version": "3.11.4"
  }
 },
 "nbformat": 4,
 "nbformat_minor": 2
}
