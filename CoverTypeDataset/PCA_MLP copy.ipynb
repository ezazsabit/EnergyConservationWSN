{
 "cells": [
  {
   "cell_type": "code",
   "execution_count": 1,
   "metadata": {},
   "outputs": [
    {
     "name": "stderr",
     "output_type": "stream",
     "text": [
      "c:\\Users\\USER\\AppData\\Local\\Programs\\Python\\Python311\\Lib\\site-packages\\tqdm\\auto.py:21: TqdmWarning: IProgress not found. Please update jupyter and ipywidgets. See https://ipywidgets.readthedocs.io/en/stable/user_install.html\n",
      "  from .autonotebook import tqdm as notebook_tqdm\n"
     ]
    }
   ],
   "source": [
    "import pandas as pd\n",
    "import numpy as np\n",
    "from sklearn.preprocessing import StandardScaler\n",
    "from sklearn.decomposition import PCA\n",
    "import seaborn as sns\n",
    "import matplotlib.pyplot as plt\n",
    "import optuna\n",
    "# import lightgbm as lgb\n",
    "from sklearn.model_selection import train_test_split\n",
    "from sklearn.metrics import roc_auc_score\n",
    "#plt.style.use('fivethirtyeight')\n",
    "import xgboost as xgb\n",
    "import sklearn\n",
    "import random\n",
    "from NecessaryModules.getData import getData"
   ]
  },
  {
   "cell_type": "code",
   "execution_count": 2,
   "metadata": {},
   "outputs": [
    {
     "name": "stdout",
     "output_type": "stream",
     "text": [
      "   Elevation    Aspect     Slope  Horizontal_Distance_To_Hydrology  \\\n",
      "0   0.850622  0.105556  0.150943                          0.045351   \n",
      "1   0.879149  0.163889  0.188679                          0.426304   \n",
      "2   0.767116  0.327778  0.320755                          0.068027   \n",
      "3   0.791494  0.338889  0.226415                          0.294785   \n",
      "4   0.867220  0.575000  0.584906                          0.385488   \n",
      "\n",
      "   Vertical_Distance_To_Hydrology  Horizontal_Distance_To_Roadways  \\\n",
      "0                       -0.003509                         0.631060   \n",
      "1                        0.189474                         0.177358   \n",
      "2                        0.038596                         0.259652   \n",
      "3                       -0.077193                         0.085486   \n",
      "4                        0.314035                         0.074020   \n",
      "\n",
      "   Hillshade_9am  Hillshade_Noon  Hillshade_3pm  \\\n",
      "0       0.866142        0.874016          0.548   \n",
      "1       0.897638        0.866142          0.500   \n",
      "2       0.968504        0.877953          0.400   \n",
      "3       0.944882        0.909449          0.476   \n",
      "4       0.724409        0.984252          0.728   \n",
      "\n",
      "   Horizontal_Distance_To_Fire_Points  ...  Soil_Type32  Soil_Type33  \\\n",
      "0                            0.512105  ...            0            0   \n",
      "1                            0.388636  ...            1            0   \n",
      "2                            0.387924  ...            0            0   \n",
      "3                            0.198804  ...            0            0   \n",
      "4                            0.141982  ...            0            0   \n",
      "\n",
      "   Soil_Type34  Soil_Type35  Soil_Type36  Soil_Type37  Soil_Type38  \\\n",
      "0            0            0            0            0            0   \n",
      "1            0            0            0            0            0   \n",
      "2            0            0            0            0            0   \n",
      "3            0            0            0            0            0   \n",
      "4            0            0            0            0            0   \n",
      "\n",
      "   Soil_Type39  Soil_Type40  Cover_Type  \n",
      "0            0            0           1  \n",
      "1            0            0           1  \n",
      "2            0            0           1  \n",
      "3            0            0           1  \n",
      "4            0            0           1  \n",
      "\n",
      "[5 rows x 55 columns]\n",
      "['Elevation', 'Aspect', 'Slope', 'Horizontal_Distance_To_Hydrology', 'Vertical_Distance_To_Hydrology', 'Horizontal_Distance_To_Roadways', 'Hillshade_9am', 'Hillshade_Noon', 'Hillshade_3pm', 'Horizontal_Distance_To_Fire_Points', 'Wilderness_Area1', 'Wilderness_Area2', 'Wilderness_Area3', 'Wilderness_Area4', 'Soil_Type1', 'Soil_Type2', 'Soil_Type3', 'Soil_Type4', 'Soil_Type5', 'Soil_Type6', 'Soil_Type7', 'Soil_Type8', 'Soil_Type9', 'Soil_Type10', 'Soil_Type11', 'Soil_Type12', 'Soil_Type13', 'Soil_Type14', 'Soil_Type15', 'Soil_Type16', 'Soil_Type17', 'Soil_Type18', 'Soil_Type19', 'Soil_Type20', 'Soil_Type21', 'Soil_Type22', 'Soil_Type23', 'Soil_Type24', 'Soil_Type25', 'Soil_Type26', 'Soil_Type27', 'Soil_Type28', 'Soil_Type29', 'Soil_Type30', 'Soil_Type31', 'Soil_Type32', 'Soil_Type33', 'Soil_Type34', 'Soil_Type35', 'Soil_Type36', 'Soil_Type37', 'Soil_Type38', 'Soil_Type39', 'Soil_Type40', 'Cover_Type']\n",
      "<class 'pandas.core.frame.DataFrame'>\n"
     ]
    }
   ],
   "source": [
    "filename = '../shot_listed_dataset/CoverTypeNewNormalized.csv'\n",
    "dataset=getData(filename).values.tolist()\n",
    "random.shuffle(dataset)\n",
    "dataset=pd.DataFrame(dataset) #from dataset_list to dataset_dataframe after suffling\n",
    "# print(dataset)"
   ]
  },
  {
   "cell_type": "code",
   "execution_count": 3,
   "metadata": {},
   "outputs": [],
   "source": [
    "def split_data(data):\n",
    "    # splitting the data\n",
    "    \n",
    "    msk = np.random.rand(len(data)) < 0.7\n",
    "    yy = [54] #test title is 54 after suffleing the dataframe \n",
    "    train = data[msk]\n",
    "    test = data[~msk]\n",
    "    x_train = train[train.columns[:train.shape[1] - 1]]  # all columns except the last are x variables\n",
    "    y_train = train[yy[0]].tolist()  # the last column as y variable\n",
    "    x_test = test[test.columns[:test.shape[1] - 1]]\n",
    "    y_test = test[yy[0]].tolist()  # the last column as y variable\n",
    "    y_train = [0 if i == 7 else i for i in y_train]  # replace label 7 with 0\n",
    "    y_test = [0 if i == 7 else i for i in y_test]  # replace label 7 with 0\n",
    "    return x_train, y_train, x_test, y_test"
   ]
  },
  {
   "cell_type": "markdown",
   "metadata": {},
   "source": [
    "# PCA implement"
   ]
  },
  {
   "cell_type": "code",
   "execution_count": 4,
   "metadata": {},
   "outputs": [],
   "source": [
    "X=dataset.iloc[:,0:-1]\n",
    "y=dataset.iloc[:,-1]"
   ]
  },
  {
   "cell_type": "code",
   "execution_count": 5,
   "metadata": {},
   "outputs": [
    {
     "name": "stdout",
     "output_type": "stream",
     "text": [
      "PCA(n_components=20)\n",
      "<class 'numpy.ndarray'>\n",
      "19229\n",
      "[[ 9.61016675e-01 -5.53028181e-01  7.99456335e-01 ...  2.77014513e-02\n",
      "   1.27470509e-02  3.80537882e-03]\n",
      " [-7.39150886e-01 -3.37453009e-01  1.88247114e-01 ...  3.45730470e-02\n",
      "   3.89505863e-02 -1.06354547e-01]\n",
      " [ 9.63277065e-01 -4.09564883e-01  1.29226987e-01 ... -4.10219427e-03\n",
      "   2.76478407e-02 -2.78378064e-03]\n",
      " ...\n",
      " [ 9.63795918e-01 -4.25889615e-01  1.38504229e-01 ... -3.10471667e-03\n",
      "   1.57032212e-02 -8.96998101e-03]\n",
      " [-5.97270714e-01 -4.08650571e-01  5.50203933e-02 ... -1.61619418e-01\n",
      "   9.38971402e-02 -5.17081292e-02]\n",
      " [-6.95180348e-01 -3.99704434e-01  1.90847003e-01 ...  3.30389210e-02\n",
      "   7.03383496e-02 -4.29812193e-04]]\n"
     ]
    }
   ],
   "source": [
    "pcaTrain = PCA(n_components=20).fit(X)# --train-- pca with the \"dataset\" Dataframe\n",
    "print(pcaTrain)\n",
    "compressed_dataset_X= pcaTrain.transform(X) # --transform-- the original \"dataset\" Dataframe into a lower-dimensional space based on the model's learned parameters\n",
    "print(type(compressed_dataset_X))\n",
    "print(len(compressed_dataset_X))\n",
    "print(compressed_dataset_X)"
   ]
  },
  {
   "cell_type": "code",
   "execution_count": 6,
   "metadata": {},
   "outputs": [
    {
     "name": "stdout",
     "output_type": "stream",
     "text": [
      "13472\n"
     ]
    }
   ],
   "source": [
    "# from NecessaryModules.splitData import split_data\n",
    "X_train, y_train, X_test, y_test = split_data(dataset)\n",
    "print(len(X_train))"
   ]
  },
  {
   "cell_type": "code",
   "execution_count": 7,
   "metadata": {},
   "outputs": [
    {
     "name": "stdout",
     "output_type": "stream",
     "text": [
      "<class 'numpy.ndarray'>\n",
      "13472\n",
      "[[ 9.61016675e-01 -5.53028181e-01  7.99456335e-01 ...  2.77014513e-02\n",
      "   1.27470509e-02  3.80537882e-03]\n",
      " [-7.39150886e-01 -3.37453009e-01  1.88247114e-01 ...  3.45730470e-02\n",
      "   3.89505863e-02 -1.06354547e-01]\n",
      " [ 9.63277065e-01 -4.09564883e-01  1.29226987e-01 ... -4.10219427e-03\n",
      "   2.76478407e-02 -2.78378064e-03]\n",
      " ...\n",
      " [ 9.46154988e-01 -5.45809122e-01  8.10396534e-01 ...  2.20557491e-02\n",
      "  -1.34947110e-02 -1.74572692e-02]\n",
      " [-5.97270714e-01 -4.08650571e-01  5.50203933e-02 ... -1.61619418e-01\n",
      "   9.38971402e-02 -5.17081292e-02]\n",
      " [-6.95180348e-01 -3.99704434e-01  1.90847003e-01 ...  3.30389210e-02\n",
      "   7.03383496e-02 -4.29812193e-04]]\n",
      "<class 'numpy.ndarray'>\n",
      "5757\n",
      "[[-0.69238102 -0.37243265  0.02632897 ...  0.03927924  0.09359955\n",
      "  -0.00812419]\n",
      " [-0.02564402  1.1449305   0.56713323 ... -0.09472311 -0.14599396\n",
      "   0.01487168]\n",
      " [-0.75617797 -0.35712796  0.25603873 ... -0.03648649 -0.03142175\n",
      "  -0.06498909]\n",
      " ...\n",
      " [-0.6719775  -0.38454102  0.01068868 ... -0.03861459  0.02237109\n",
      "  -0.06518132]\n",
      " [-0.6504651  -0.38436615 -0.01264309 ... -0.02927032  0.05127203\n",
      "  -0.04477807]\n",
      " [ 0.96379592 -0.42588961  0.13850423 ... -0.00310472  0.01570322\n",
      "  -0.00896998]]\n"
     ]
    }
   ],
   "source": [
    "compressed_dataset_X_train= pcaTrain.transform(X_train) # --transform-- the original \"dataset\" Dataframe into a lower-dimensional space based on the model's learned parameters\n",
    "print(type(compressed_dataset_X_train))\n",
    "print(len(compressed_dataset_X_train))\n",
    "print(compressed_dataset_X_train)\n",
    "\n",
    "compressed_dataset_X_test= pcaTrain.transform(X_test) # --transform-- the original \"dataset\" Dataframe into a lower-dimensional space based on the model's learned parameters\n",
    "print(type(compressed_dataset_X_test))\n",
    "print(len(compressed_dataset_X_test))\n",
    "print(compressed_dataset_X_test)"
   ]
  },
  {
   "cell_type": "markdown",
   "metadata": {},
   "source": [
    "# MLP implement"
   ]
  },
  {
   "cell_type": "code",
   "execution_count": 10,
   "metadata": {},
   "outputs": [],
   "source": [
    "# train the model with random parameter\n",
    "from sklearn.neural_network import MLPClassifier\n",
    "\n",
    "model_MLP = MLPClassifier(\n",
    "\n",
    "    solver=\"adam\",\n",
    "    hidden_layer_sizes=370,\n",
    "    learning_rate='adaptive',\n",
    "    random_state=3,\n",
    "    max_iter=964,\n",
    "    activation='relu',\n",
    "    batch_size=17\n",
    "\n",
    "     \n",
    "     \n",
    "     \n",
    "        \n",
    "     )\n",
    "\n"
   ]
  },
  {
   "cell_type": "code",
   "execution_count": 12,
   "metadata": {},
   "outputs": [
    {
     "name": "stderr",
     "output_type": "stream",
     "text": [
      "  0%|          | 0/5 [00:00<?, ?it/s]"
     ]
    },
    {
     "name": "stderr",
     "output_type": "stream",
     "text": [
      "100%|██████████| 5/5 [13:24<00:00, 160.93s/it]"
     ]
    },
    {
     "name": "stdout",
     "output_type": "stream",
     "text": [
      "0.46540973871733965\n"
     ]
    },
    {
     "name": "stderr",
     "output_type": "stream",
     "text": [
      "\n"
     ]
    }
   ],
   "source": [
    "# Let us make predictions for each of the 5 models and find mean \n",
    "# of those predictions\n",
    "\n",
    "from tqdm import tqdm\n",
    "from sklearn.metrics import accuracy_score\n",
    "from sklearn.metrics import mean_absolute_error\n",
    "from sklearn.model_selection import StratifiedKFold\n",
    "from sklearn.neural_network import MLPClassifier\n",
    "K = 5 # stratified 5 fold cross validation, The folds are made by preserving the percentage of samples for each class.\n",
    "skf = StratifiedKFold(n_splits = K, random_state = 42, shuffle = True)\n",
    "train_MLP = np.array(compressed_dataset_X_train)\n",
    "target_train_MLP= np.array(y_train)\n",
    "\n",
    "test_MLP = np.array(compressed_dataset_X_test) # or test_Ada = np.array(X)\n",
    "\n",
    "\n",
    "test_preds_MLP = np.zeros((len(test_MLP)))\n",
    "oof_preds_MLP = np.zeros((len(train_MLP)))\n",
    "\n",
    "for train_index, val_index in tqdm(skf.split(compressed_dataset_X_train,y_train), total=5):\n",
    "    train_X, valid_X = train_MLP[train_index], train_MLP[val_index]\n",
    "    train_y, valid_y = target_train_MLP[train_index], target_train_MLP[val_index]\n",
    "    # ada_params = study_MLP.best_trial.params\n",
    "    # model_MLP_2 = MLPClassifier(**ada_params,tol=.00001,early_stopping=True) # for early_stopping\n",
    "    model_MLP.fit(train_X, train_y)\n",
    "    # for train accuracy\n",
    "    preds = model_MLP.predict(valid_X)\n",
    "    oof_preds_MLP[val_index] = preds\n",
    "    # for test accuracy\n",
    "    preds = model_MLP.predict(test_MLP)\n",
    "    test_preds_MLP += (preds)/5\n",
    "print(np.abs(oof_preds_MLP-target_train_MLP).mean())"
   ]
  },
  {
   "cell_type": "code",
   "execution_count": 13,
   "metadata": {},
   "outputs": [],
   "source": [
    "target_test_MLP = np.array(y_test)"
   ]
  },
  {
   "cell_type": "code",
   "execution_count": 14,
   "metadata": {},
   "outputs": [
    {
     "name": "stdout",
     "output_type": "stream",
     "text": [
      "0.7725653206650831\n",
      "0.7264200104220948\n"
     ]
    }
   ],
   "source": [
    "from sklearn.metrics import accuracy_score\n",
    "valid_Acc_MLP=accuracy_score(target_train_MLP,oof_preds_MLP)\n",
    "print(valid_Acc_MLP)\n",
    "\n",
    "# another technique for calculate test accuracy\n",
    "test_Acc_MLP=accuracy_score(target_test_MLP,test_preds_MLP.round())\n",
    "print(test_Acc_MLP)"
   ]
  },
  {
   "cell_type": "code",
   "execution_count": 15,
   "metadata": {},
   "outputs": [
    {
     "name": "stdout",
     "output_type": "stream",
     "text": [
      "0.8209619952494062\n"
     ]
    }
   ],
   "source": [
    "train_Acc_MLP=model_MLP.score(compressed_dataset_X_train,y_train)\n",
    "print(train_Acc_MLP)"
   ]
  },
  {
   "cell_type": "code",
   "execution_count": 16,
   "metadata": {},
   "outputs": [
    {
     "name": "stdout",
     "output_type": "stream",
     "text": [
      "0.7745353482716693\n"
     ]
    }
   ],
   "source": [
    "test_Acc_MLP=model_MLP.score(compressed_dataset_X_test,y_test)\n",
    "print(test_Acc_MLP)"
   ]
  },
  {
   "cell_type": "code",
   "execution_count": 18,
   "metadata": {},
   "outputs": [
    {
     "data": {
      "text/plain": [
       "5757"
      ]
     },
     "execution_count": 18,
     "metadata": {},
     "output_type": "execute_result"
    }
   ],
   "source": [
    "len(y_test)"
   ]
  },
  {
   "cell_type": "markdown",
   "metadata": {},
   "source": [
    "# Evaluation"
   ]
  },
  {
   "cell_type": "markdown",
   "metadata": {},
   "source": [
    "**confusion-matrix**"
   ]
  },
  {
   "cell_type": "code",
   "execution_count": 17,
   "metadata": {},
   "outputs": [
    {
     "data": {
      "image/png": "[encoded data removed]",
      "text/plain": [
       "<Figure size 800x600 with 2 Axes>"
      ]
     },
     "metadata": {},
     "output_type": "display_data"
    }
   ],
   "source": [
    "############# plot confusion matrix ############\n",
    "\n",
    "from matplotlib import pyplot as plt\n",
    "from sklearn import metrics\n",
    "\n",
    "cm = metrics.confusion_matrix(y_test, test_preds_MLP.round())\n",
    "# Plot confusion matrix with custom color map\n",
    "\n",
    "plt.figure(figsize=(8, 6))\n",
    "plt.imshow(cm, interpolation='nearest', cmap=plt.cm.PuRd)  # Set cmap to custom color map\n",
    "plt.title('Confusion Matrix')\n",
    "plt.colorbar()\n",
    "\n",
    "# Adding annotations\n",
    "thresh = cm.max() / 2.\n",
    "for i in range(cm.shape[0]):\n",
    "    for j in range(cm.shape[1]):\n",
    "        plt.text(j, i, format(cm[i, j], 'd'), #'d = integer\n",
    "                 horizontalalignment=\"center\",\n",
    "                 color=\"white\" if cm[i, j] > thresh else \"black\")\n",
    "\n",
    "plt.ylabel('True label')\n",
    "plt.xlabel('Predicted label')\n",
    "plt.tight_layout() #improves the layout of plots by preventing overlapping elements such as axis labels, tick labels, and titles\n",
    "plt.show()\n"
   ]
  },
  {
   "cell_type": "markdown",
   "metadata": {},
   "source": [
    "**train-loss**"
   ]
  },
  {
   "cell_type": "code",
   "execution_count": null,
   "metadata": {},
   "outputs": [],
   "source": [
    "# find the losses at each iteration\n",
    "# train_losses=classifier.fit(compressedDataframeTrain, y_train).loss_curve_\n",
    "train_losses=tunned_model.loss_curve_"
   ]
  },
  {
   "cell_type": "code",
   "execution_count": null,
   "metadata": {},
   "outputs": [
    {
     "name": "stdout",
     "output_type": "stream",
     "text": [
      "[1.018139743537125, 0.8398871491080491, 0.8004493668712055, 0.7699043716983041, 0.74373603839393, 0.7223123896814918, 0.7034758544257165, 0.6875908901532551, 0.6730110081992331, 0.6597644072340302, 0.6498510837060442, 0.6396747504982417, 0.6307251920120416, 0.621461270171723, 0.6130047117292743, 0.606765568488888, 0.6000990003211314, 0.5941293542425539, 0.586832667412677, 0.5799253685119561, 0.5758682631351955, 0.5703895671840727, 0.5654980496494396, 0.5602678580860742, 0.5549991189588401, 0.5508883969698828, 0.5440615147619842, 0.5415185215222991, 0.5369356630632617, 0.5326530738396661, 0.5293006639903006, 0.5249154599920377, 0.5205289113202317, 0.5176135720909906, 0.5147527427496812, 0.5116111498297335, 0.5069445391199633, 0.5026096372064954, 0.5015295502971607, 0.4965197035024674, 0.4928550295216376, 0.4887826864287143, 0.4866336596561266, 0.4854697070747538, 0.48181460233968854, 0.4798024830495578, 0.47592543129886633, 0.4738788513457339, 0.47091748945397016, 0.4695801956636619, 0.4644233201693557, 0.46403225462268555, 0.45999621494544896, 0.45743059406481623, 0.45698354033604094, 0.4534928758303997, 0.45120526424996976, 0.4482514046933047, 0.4485035506762492, 0.4449718345853851, 0.44272181168217306, 0.4405631151629735, 0.44009378775910135, 0.4386987386520644, 0.4348936233350104, 0.43361492619498937, 0.4287423364969487, 0.4321293659385363, 0.4265072520764757, 0.42660618840280745, 0.42550269812521485, 0.42387538290443166, 0.42012646178407226, 0.4190628602119527, 0.41887099470308237, 0.4157570164777098, 0.41435489105307766, 0.4136046562002146, 0.41123782319968616, 0.40852885035040687, 0.4097446927637567, 0.4080922286429075, 0.40711539744866515, 0.40414824785532705, 0.4050751397034288, 0.4032378873569629, 0.4012177585321488, 0.3995990218844847, 0.3968326975532112, 0.39686773853464835, 0.3991128444512635, 0.3956849529191898, 0.3926713990958155, 0.3920063360039626, 0.3924560632377535, 0.3912330077414563, 0.38880790704027035, 0.3896689655627804, 0.38740853587983554, 0.38572206368707357, 0.3845117952493909, 0.3837482363581211, 0.3812449709361995, 0.38200704466145746, 0.37969187731469745, 0.38143598689696734, 0.3789917850795023, 0.3781483210539207, 0.3744075295612178, 0.3755184026122289, 0.3748039550668605, 0.3735498423005017, 0.3729525487045624, 0.3703622046606485, 0.3709172385234197, 0.37077449128172346, 0.37142631260328973, 0.36777061248948223, 0.3667753405308366, 0.3677486767052828, 0.3641285404569776, 0.364169743726349, 0.364938983025286, 0.36429133415464415, 0.36063390968509107, 0.3633987449551026, 0.36178487613227106, 0.3599244725128215, 0.3599645216041829, 0.360453099099998, 0.3569801791143521, 0.3576444210114415, 0.35506546603247346, 0.3575766757888768, 0.3551060431607324, 0.3542385750944519, 0.3539973926491756, 0.35502923700496686, 0.3532656651827806, 0.3514281690422528, 0.350609365106231, 0.34929786459327594, 0.35027312284259104, 0.3479995690688588, 0.3487680340284431, 0.34875223580954073, 0.34749965283473666, 0.3459998614197202, 0.34892178788102246, 0.3457014849040222, 0.34625375245783974, 0.3429619918480549, 0.3442971899675035, 0.3436442532514755, 0.34252067116797474, 0.342473766717709, 0.3396037563998938, 0.3401955071203959, 0.3416434380844887, 0.34147656848366387, 0.3408494140717334, 0.3382389431855859, 0.3380978229881143, 0.3368025260432043, 0.3382157827764176, 0.33722317509368666, 0.3366479946889034, 0.33342071398010964, 0.3349664361532007, 0.3349694525400619, 0.33609171240781355, 0.3331280464679432, 0.3353110012752533, 0.3333059848450341, 0.33477367314761697, 0.33062035911906695, 0.3323616714849996, 0.3312492046842978, 0.33137321083835414, 0.3300302889270884, 0.32951463519420315, 0.32985127244886425, 0.3288005780144715, 0.32590636719726995, 0.3292013539133237, 0.327093797167448, 0.3305277037551593, 0.3276044467495071, 0.32701840248346015, 0.3245575995269095, 0.32569376716656806, 0.32584189698949856, 0.3248061263755444, 0.32459657371287404, 0.32146818455337456, 0.32327230787328, 0.3222122764358964, 0.3237357499812998, 0.32150185633667516, 0.32097741580093836, 0.3208365749335611, 0.32190076783113125, 0.3200441343957535, 0.3191777512132998, 0.32144797975355033, 0.319604680455766, 0.31893297643223034, 0.3185824421913927, 0.31720698314410095, 0.317112271373, 0.31763901212463014, 0.31648428760006364, 0.3173934137358403, 0.31684011035071125, 0.31493729253780833, 0.31542453104461793, 0.31673909242167037, 0.318232661395754, 0.3163599083983572, 0.3131860874751785, 0.31103040512144453, 0.31374447447986414, 0.3144094877470587, 0.3125485053143337, 0.3124022026982555, 0.31336548956105564, 0.3129426599441866, 0.3122789077012895, 0.3124899824117755, 0.3127737259529248, 0.3110217835779115, 0.3101093037842046, 0.30862567848865025, 0.3086924181372086, 0.3092444100924487, 0.30973900271176225, 0.309155681645431, 0.30760103634856434, 0.3092313918235324, 0.30921729255993624, 0.3053817227182146, 0.308701119998515, 0.306379610617592, 0.30520011900923805, 0.3065890198880414, 0.30725185964249246, 0.30445213834700346, 0.3062208189686433, 0.3053634243963033, 0.30384646848783, 0.30453843417834026, 0.3047335537304033, 0.3052686115224803, 0.3039996070949364, 0.3029875548003986, 0.3048493918799545, 0.30189053440696856, 0.3014276600609558, 0.30249313629569147, 0.30434510384086055, 0.30209569987395424, 0.3012877492418219, 0.30236333708480806, 0.30061099082951476, 0.30021381724136, 0.30082897457216745, 0.3007331461849309, 0.2991565635495723, 0.300918058700017, 0.2984599398236485, 0.29806227016744363, 0.2962891754645943, 0.2990627113740287, 0.29969535850109164, 0.299307467801971, 0.2972600985606461, 0.298543880889907, 0.29660390987586077, 0.30023840208266, 0.2963587865416184, 0.294573315460811, 0.2969573126698413, 0.29549093327981885, 0.2967717303562842, 0.2959531500501452, 0.29669255894429264, 0.2930133339570054, 0.29466548865246045, 0.2954596071180281, 0.29288303854795095, 0.2954327294242853, 0.291912802433103, 0.2938206610114859, 0.29445810046013504, 0.29537704902826384, 0.29420782527233247, 0.2933345100367061, 0.2935966300580097, 0.29397495819200936, 0.2935754186546613, 0.2913773038394478, 0.2921803106926139, 0.29324864684532126, 0.29135015615545923, 0.29237497254616485, 0.29162726328799354, 0.2891746756035754, 0.29070068160016443, 0.29216851759292345, 0.28701821159621294, 0.28965359056523526, 0.28950730240465644, 0.2890468721254988, 0.2881044846524684, 0.2894516594970827, 0.28798752991236237, 0.2883898865748153, 0.2886591487705818, 0.2870926666169288, 0.2885202909779353, 0.2866757517269054, 0.2919449590776964, 0.2888132700358553, 0.2856594490626415, 0.2875616114613228, 0.28661099914993265, 0.28664215073551264, 0.2883150878182299, 0.2852910498258658, 0.28589572985587536, 0.2852633150038357, 0.28813447296747113, 0.284765430421196, 0.28638604735415985, 0.2865740462104157, 0.28578454777214407, 0.2826920496159542, 0.28520541020992457, 0.2851110542413234, 0.2837931825995375, 0.2844328373656681, 0.2840928903824672, 0.28262597922371785, 0.28192889810873895, 0.28079983616509263, 0.28488539695111037, 0.2808157218628481, 0.2854506855869813, 0.28184423831731287, 0.2842966891432766, 0.28214286186717713, 0.2802494362040926, 0.2815623791461443, 0.2804482966559018, 0.2819039248773226, 0.281738163287677, 0.28297418201599456, 0.2784378126231366, 0.2819275819652525, 0.28024519750632676, 0.28000704648165947, 0.2818779562239577, 0.27995066633267385, 0.28114436013962074, 0.28118806156038506, 0.2797203525918636, 0.2791144835722543, 0.27738767745911785, 0.2800028923726397, 0.2791671033392851, 0.2776218872895768, 0.278850712707834, 0.27588943831214296, 0.27802422789798875, 0.27948582467946026, 0.2778176082932766, 0.2793100049219657, 0.2760610526583964, 0.27962282448019404, 0.2763313925834684, 0.27714915507833077, 0.2776274419976715, 0.27597305065944133, 0.2764375066138272]\n",
      "384\n"
     ]
    }
   ],
   "source": [
    "print(train_losses)\n",
    "print(len(train_losses)) #384= converge at iteration 276 from max_iter 571\n"
   ]
  },
  {
   "cell_type": "code",
   "execution_count": null,
   "metadata": {},
   "outputs": [
    {
     "data": {
      "text/plain": [
       "<matplotlib.legend.Legend at 0x1d9fbb5b0d0>"
      ]
     },
     "execution_count": 53,
     "metadata": {},
     "output_type": "execute_result"
    },
    {
     "data": {
      "image/png": "[encoded data removed]",
      "text/plain": [
       "<Figure size 640x480 with 1 Axes>"
      ]
     },
     "metadata": {},
     "output_type": "display_data"
    }
   ],
   "source": [
    "import matplotlib.pyplot as plt\n",
    "plt.plot(range(len(train_losses)), train_losses, label=\"train loss\")\n",
    "\n",
    "plt.legend()\n"
   ]
  },
  {
   "cell_type": "markdown",
   "metadata": {},
   "source": [
    "**validation graph**"
   ]
  },
  {
   "cell_type": "markdown",
   "metadata": {},
   "source": [
    "**Learning_curve********"
   ]
  },
  {
   "cell_type": "code",
   "execution_count": null,
   "metadata": {},
   "outputs": [
    {
     "data": {
      "text/plain": [
       "(19229, 30)"
      ]
     },
     "execution_count": 8,
     "metadata": {},
     "output_type": "execute_result"
    }
   ],
   "source": [
    "\n",
    "compressed_dataset_X.shape"
   ]
  },
  {
   "cell_type": "code",
   "execution_count": null,
   "metadata": {},
   "outputs": [
    {
     "data": {
      "text/plain": [
       "(19229,)"
      ]
     },
     "execution_count": 9,
     "metadata": {},
     "output_type": "execute_result"
    }
   ],
   "source": [
    "y.shape"
   ]
  },
  {
   "cell_type": "code",
   "execution_count": null,
   "metadata": {},
   "outputs": [],
   "source": [
    "from sklearn.model_selection import learning_curve\n",
    "from sklearn.neural_network import MLPClassifier\n",
    "################# it will take 0.8 as train data from the whole by-default ################\n",
    "mlp = MLPClassifier(batch_size=11, hidden_layer_sizes=212, learning_rate='adaptive',random_state=5,max_iter=1000) #tuned MLP\n",
    "train_sizes, train_scores, test_scores = learning_curve(mlp, compressed_dataset_X, y, train_sizes=np.linspace(0.1, 1.0, 5))"
   ]
  },
  {
   "cell_type": "code",
   "execution_count": null,
   "metadata": {},
   "outputs": [
    {
     "data": {
      "text/plain": [
       "array([ 1538,  4999,  8460, 11921, 15383])"
      ]
     },
     "execution_count": 21,
     "metadata": {},
     "output_type": "execute_result"
    }
   ],
   "source": [
    "train_sizes"
   ]
  },
  {
   "cell_type": "code",
   "execution_count": null,
   "metadata": {},
   "outputs": [
    {
     "data": {
      "text/plain": [
       "array([[0.99024707, 0.98114434, 0.98114434, 0.98114434, 0.98114434],\n",
       "       [0.95639128, 0.93438688, 0.94238848, 0.94238848, 0.94238848],\n",
       "       [0.92174941, 0.90425532, 0.90484634, 0.92080378, 0.92080378],\n",
       "       [0.91066186, 0.90202164, 0.90621592, 0.92072813, 0.91544334],\n",
       "       [0.89221868, 0.89462394, 0.90561009, 0.89676916, 0.91302087]])"
      ]
     },
     "execution_count": 22,
     "metadata": {},
     "output_type": "execute_result"
    }
   ],
   "source": [
    "train_scores # by-default 5-fold cross validation"
   ]
  },
  {
   "cell_type": "code",
   "execution_count": null,
   "metadata": {},
   "outputs": [
    {
     "data": {
      "text/plain": [
       "array([[0.67524701, 0.68720749, 0.68720749, 0.67160686, 0.67906372],\n",
       "       [0.77769111, 0.7698908 , 0.76729069, 0.76859074, 0.76644993],\n",
       "       [0.80655226, 0.79875195, 0.79303172, 0.79979199, 0.79141743],\n",
       "       [0.8174727 , 0.81877275, 0.81929277, 0.8200728 , 0.82158648],\n",
       "       [0.825013  , 0.8276131 , 0.83619345, 0.82371295, 0.8319896 ]])"
      ]
     },
     "execution_count": 23,
     "metadata": {},
     "output_type": "execute_result"
    }
   ],
   "source": [
    "test_scores"
   ]
  },
  {
   "cell_type": "code",
   "execution_count": null,
   "metadata": {},
   "outputs": [],
   "source": [
    "#***** Calculate mean and standard deviation of train and test scores (as we got values for 5 fold cross in each row****)\n",
    "train_mean = np.mean(train_scores, axis=1)\n",
    "train_std = np.std(train_scores, axis=1)\n",
    "test_mean = np.mean(test_scores, axis=1)\n",
    "test_std = np.std(test_scores, axis=1)"
   ]
  },
  {
   "cell_type": "code",
   "execution_count": null,
   "metadata": {},
   "outputs": [
    {
     "data": {
      "text/plain": [
       "array([0.98296489, 0.94358872, 0.91449173, 0.91101418, 0.90044855])"
      ]
     },
     "execution_count": 26,
     "metadata": {},
     "output_type": "execute_result"
    }
   ],
   "source": [
    "train_mean"
   ]
  },
  {
   "cell_type": "code",
   "execution_count": null,
   "metadata": {},
   "outputs": [
    {
     "data": {
      "text/plain": [
       "array([0.00364109, 0.00711198, 0.0081262 , 0.0066029 , 0.00774467])"
      ]
     },
     "execution_count": 27,
     "metadata": {},
     "output_type": "execute_result"
    }
   ],
   "source": [
    "train_std"
   ]
  },
  {
   "cell_type": "code",
   "execution_count": null,
   "metadata": {},
   "outputs": [
    {
     "data": {
      "image/png": "[encoded data removed]",
      "text/plain": [
       "<Figure size 640x480 with 1 Axes>"
      ]
     },
     "metadata": {},
     "output_type": "display_data"
    }
   ],
   "source": [
    "# Plot learning curves\n",
    "plt.figure()\n",
    "plt.plot(train_sizes, train_mean, label='Training score', color='blue')\n",
    "plt.fill_between(train_sizes, train_mean - train_std, train_mean + train_std, color='blue', alpha=0.1) #alpha=0.1: The transparency of the shaded region.\n",
    "plt.plot(train_sizes, test_mean, label='Cross-validation score', color='red')\n",
    "plt.fill_between(train_sizes, test_mean - test_std, test_mean + test_std, color='red', alpha=0.1)\n",
    "plt.title('Learning Curve')\n",
    "plt.xlabel('Training Examples')\n",
    "plt.ylabel('Score')\n",
    "plt.legend(loc='best')\n",
    "plt.show()"
   ]
  },
  {
   "cell_type": "markdown",
   "metadata": {},
   "source": [
    "**ROC_curve*******"
   ]
  },
  {
   "cell_type": "code",
   "execution_count": null,
   "metadata": {},
   "outputs": [],
   "source": [
    "from sklearn.datasets import load_iris\n",
    "from sklearn.model_selection import train_test_split\n",
    "from sklearn.preprocessing import label_binarize\n",
    "from sklearn.multiclass import OneVsRestClassifier\n",
    "from sklearn.metrics import roc_curve, auc\n",
    "import matplotlib.pyplot as plt"
   ]
  },
  {
   "cell_type": "code",
   "execution_count": null,
   "metadata": {},
   "outputs": [
    {
     "name": "stdout",
     "output_type": "stream",
     "text": [
      "7\n",
      "[0 0 1 0 0 0 0]\n"
     ]
    }
   ],
   "source": [
    "# Binarize the output\n",
    "y_train = label_binarize(y_train,classes=[0,1,2,3,4,5,6])\n",
    "n_classes = y_train.shape[1]\n",
    "print(n_classes)\n",
    "print(y_train[0])"
   ]
  },
  {
   "cell_type": "code",
   "execution_count": null,
   "metadata": {},
   "outputs": [
    {
     "name": "stdout",
     "output_type": "stream",
     "text": [
      "7\n",
      "[1 0 0 0 0 0 0]\n"
     ]
    }
   ],
   "source": [
    "# Binarize the output (y_test)\n",
    "y_test = label_binarize(y_test,classes=[0,1,2,3,4,5,6])\n",
    "n_classes = y_test.shape[1]\n",
    "print(n_classes)\n",
    "print(y_test[0])"
   ]
  },
  {
   "cell_type": "code",
   "execution_count": null,
   "metadata": {},
   "outputs": [
    {
     "data": {
      "text/html": [
       "<style>#sk-container-id-1 {\n",
       "  /* Definition of color scheme common for light and dark mode */\n",
       "  --sklearn-color-text: black;\n",
       "  --sklearn-color-line: gray;\n",
       "  /* Definition of color scheme for unfitted estimators */\n",
       "  --sklearn-color-unfitted-level-0: #fff5e6;\n",
       "  --sklearn-color-unfitted-level-1: #f6e4d2;\n",
       "  --sklearn-color-unfitted-level-2: #ffe0b3;\n",
       "  --sklearn-color-unfitted-level-3: chocolate;\n",
       "  /* Definition of color scheme for fitted estimators */\n",
       "  --sklearn-color-fitted-level-0: #f0f8ff;\n",
       "  --sklearn-color-fitted-level-1: #d4ebff;\n",
       "  --sklearn-color-fitted-level-2: #b3dbfd;\n",
       "  --sklearn-color-fitted-level-3: cornflowerblue;\n",
       "\n",
       "  /* Specific color for light theme */\n",
       "  --sklearn-color-text-on-default-background: var(--sg-text-color, var(--theme-code-foreground, var(--jp-content-font-color1, black)));\n",
       "  --sklearn-color-background: var(--sg-background-color, var(--theme-background, var(--jp-layout-color0, white)));\n",
       "  --sklearn-color-border-box: var(--sg-text-color, var(--theme-code-foreground, var(--jp-content-font-color1, black)));\n",
       "  --sklearn-color-icon: #696969;\n",
       "\n",
       "  @media (prefers-color-scheme: dark) {\n",
       "    /* Redefinition of color scheme for dark theme */\n",
       "    --sklearn-color-text-on-default-background: var(--sg-text-color, var(--theme-code-foreground, var(--jp-content-font-color1, white)));\n",
       "    --sklearn-color-background: var(--sg-background-color, var(--theme-background, var(--jp-layout-color0, #111)));\n",
       "    --sklearn-color-border-box: var(--sg-text-color, var(--theme-code-foreground, var(--jp-content-font-color1, white)));\n",
       "    --sklearn-color-icon: #878787;\n",
       "  }\n",
       "}\n",
       "\n",
       "#sk-container-id-1 {\n",
       "  color: var(--sklearn-color-text);\n",
       "}\n",
       "\n",
       "#sk-container-id-1 pre {\n",
       "  padding: 0;\n",
       "}\n",
       "\n",
       "#sk-container-id-1 input.sk-hidden--visually {\n",
       "  border: 0;\n",
       "  clip: rect(1px 1px 1px 1px);\n",
       "  clip: rect(1px, 1px, 1px, 1px);\n",
       "  height: 1px;\n",
       "  margin: -1px;\n",
       "  overflow: hidden;\n",
       "  padding: 0;\n",
       "  position: absolute;\n",
       "  width: 1px;\n",
       "}\n",
       "\n",
       "#sk-container-id-1 div.sk-dashed-wrapped {\n",
       "  border: 1px dashed var(--sklearn-color-line);\n",
       "  margin: 0 0.4em 0.5em 0.4em;\n",
       "  box-sizing: border-box;\n",
       "  padding-bottom: 0.4em;\n",
       "  background-color: var(--sklearn-color-background);\n",
       "}\n",
       "\n",
       "#sk-container-id-1 div.sk-container {\n",
       "  /* jupyter's `normalize.less` sets `[hidden] { display: none; }`\n",
       "     but bootstrap.min.css set `[hidden] { display: none !important; }`\n",
       "     so we also need the `!important` here to be able to override the\n",
       "     default hidden behavior on the sphinx rendered scikit-learn.org.\n",
       "     See: https://github.com/scikit-learn/scikit-learn/issues/21755 */\n",
       "  display: inline-block !important;\n",
       "  position: relative;\n",
       "}\n",
       "\n",
       "#sk-container-id-1 div.sk-text-repr-fallback {\n",
       "  display: none;\n",
       "}\n",
       "\n",
       "div.sk-parallel-item,\n",
       "div.sk-serial,\n",
       "div.sk-item {\n",
       "  /* draw centered vertical line to link estimators */\n",
       "  background-image: linear-gradient(var(--sklearn-color-text-on-default-background), var(--sklearn-color-text-on-default-background));\n",
       "  background-size: 2px 100%;\n",
       "  background-repeat: no-repeat;\n",
       "  background-position: center center;\n",
       "}\n",
       "\n",
       "/* Parallel-specific style estimator block */\n",
       "\n",
       "#sk-container-id-1 div.sk-parallel-item::after {\n",
       "  content: \"\";\n",
       "  width: 100%;\n",
       "  border-bottom: 2px solid var(--sklearn-color-text-on-default-background);\n",
       "  flex-grow: 1;\n",
       "}\n",
       "\n",
       "#sk-container-id-1 div.sk-parallel {\n",
       "  display: flex;\n",
       "  align-items: stretch;\n",
       "  justify-content: center;\n",
       "  background-color: var(--sklearn-color-background);\n",
       "  position: relative;\n",
       "}\n",
       "\n",
       "#sk-container-id-1 div.sk-parallel-item {\n",
       "  display: flex;\n",
       "  flex-direction: column;\n",
       "}\n",
       "\n",
       "#sk-container-id-1 div.sk-parallel-item:first-child::after {\n",
       "  align-self: flex-end;\n",
       "  width: 50%;\n",
       "}\n",
       "\n",
       "#sk-container-id-1 div.sk-parallel-item:last-child::after {\n",
       "  align-self: flex-start;\n",
       "  width: 50%;\n",
       "}\n",
       "\n",
       "#sk-container-id-1 div.sk-parallel-item:only-child::after {\n",
       "  width: 0;\n",
       "}\n",
       "\n",
       "/* Serial-specific style estimator block */\n",
       "\n",
       "#sk-container-id-1 div.sk-serial {\n",
       "  display: flex;\n",
       "  flex-direction: column;\n",
       "  align-items: center;\n",
       "  background-color: var(--sklearn-color-background);\n",
       "  padding-right: 1em;\n",
       "  padding-left: 1em;\n",
       "}\n",
       "\n",
       "\n",
       "/* Toggleable style: style used for estimator/Pipeline/ColumnTransformer box that is\n",
       "clickable and can be expanded/collapsed.\n",
       "- Pipeline and ColumnTransformer use this feature and define the default style\n",
       "- Estimators will overwrite some part of the style using the `sk-estimator` class\n",
       "*/\n",
       "\n",
       "/* Pipeline and ColumnTransformer style (default) */\n",
       "\n",
       "#sk-container-id-1 div.sk-toggleable {\n",
       "  /* Default theme specific background. It is overwritten whether we have a\n",
       "  specific estimator or a Pipeline/ColumnTransformer */\n",
       "  background-color: var(--sklearn-color-background);\n",
       "}\n",
       "\n",
       "/* Toggleable label */\n",
       "#sk-container-id-1 label.sk-toggleable__label {\n",
       "  cursor: pointer;\n",
       "  display: block;\n",
       "  width: 100%;\n",
       "  margin-bottom: 0;\n",
       "  padding: 0.5em;\n",
       "  box-sizing: border-box;\n",
       "  text-align: center;\n",
       "}\n",
       "\n",
       "#sk-container-id-1 label.sk-toggleable__label-arrow:before {\n",
       "  /* Arrow on the left of the label */\n",
       "  content: \"▸\";\n",
       "  float: left;\n",
       "  margin-right: 0.25em;\n",
       "  color: var(--sklearn-color-icon);\n",
       "}\n",
       "\n",
       "#sk-container-id-1 label.sk-toggleable__label-arrow:hover:before {\n",
       "  color: var(--sklearn-color-text);\n",
       "}\n",
       "\n",
       "/* Toggleable content - dropdown */\n",
       "\n",
       "#sk-container-id-1 div.sk-toggleable__content {\n",
       "  max-height: 0;\n",
       "  max-width: 0;\n",
       "  overflow: hidden;\n",
       "  text-align: left;\n",
       "  /* unfitted */\n",
       "  background-color: var(--sklearn-color-unfitted-level-0);\n",
       "}\n",
       "\n",
       "#sk-container-id-1 div.sk-toggleable__content.fitted {\n",
       "  /* fitted */\n",
       "  background-color: var(--sklearn-color-fitted-level-0);\n",
       "}\n",
       "\n",
       "#sk-container-id-1 div.sk-toggleable__content pre {\n",
       "  margin: 0.2em;\n",
       "  border-radius: 0.25em;\n",
       "  color: var(--sklearn-color-text);\n",
       "  /* unfitted */\n",
       "  background-color: var(--sklearn-color-unfitted-level-0);\n",
       "}\n",
       "\n",
       "#sk-container-id-1 div.sk-toggleable__content.fitted pre {\n",
       "  /* unfitted */\n",
       "  background-color: var(--sklearn-color-fitted-level-0);\n",
       "}\n",
       "\n",
       "#sk-container-id-1 input.sk-toggleable__control:checked~div.sk-toggleable__content {\n",
       "  /* Expand drop-down */\n",
       "  max-height: 200px;\n",
       "  max-width: 100%;\n",
       "  overflow: auto;\n",
       "}\n",
       "\n",
       "#sk-container-id-1 input.sk-toggleable__control:checked~label.sk-toggleable__label-arrow:before {\n",
       "  content: \"▾\";\n",
       "}\n",
       "\n",
       "/* Pipeline/ColumnTransformer-specific style */\n",
       "\n",
       "#sk-container-id-1 div.sk-label input.sk-toggleable__control:checked~label.sk-toggleable__label {\n",
       "  color: var(--sklearn-color-text);\n",
       "  background-color: var(--sklearn-color-unfitted-level-2);\n",
       "}\n",
       "\n",
       "#sk-container-id-1 div.sk-label.fitted input.sk-toggleable__control:checked~label.sk-toggleable__label {\n",
       "  background-color: var(--sklearn-color-fitted-level-2);\n",
       "}\n",
       "\n",
       "/* Estimator-specific style */\n",
       "\n",
       "/* Colorize estimator box */\n",
       "#sk-container-id-1 div.sk-estimator input.sk-toggleable__control:checked~label.sk-toggleable__label {\n",
       "  /* unfitted */\n",
       "  background-color: var(--sklearn-color-unfitted-level-2);\n",
       "}\n",
       "\n",
       "#sk-container-id-1 div.sk-estimator.fitted input.sk-toggleable__control:checked~label.sk-toggleable__label {\n",
       "  /* fitted */\n",
       "  background-color: var(--sklearn-color-fitted-level-2);\n",
       "}\n",
       "\n",
       "#sk-container-id-1 div.sk-label label.sk-toggleable__label,\n",
       "#sk-container-id-1 div.sk-label label {\n",
       "  /* The background is the default theme color */\n",
       "  color: var(--sklearn-color-text-on-default-background);\n",
       "}\n",
       "\n",
       "/* On hover, darken the color of the background */\n",
       "#sk-container-id-1 div.sk-label:hover label.sk-toggleable__label {\n",
       "  color: var(--sklearn-color-text);\n",
       "  background-color: var(--sklearn-color-unfitted-level-2);\n",
       "}\n",
       "\n",
       "/* Label box, darken color on hover, fitted */\n",
       "#sk-container-id-1 div.sk-label.fitted:hover label.sk-toggleable__label.fitted {\n",
       "  color: var(--sklearn-color-text);\n",
       "  background-color: var(--sklearn-color-fitted-level-2);\n",
       "}\n",
       "\n",
       "/* Estimator label */\n",
       "\n",
       "#sk-container-id-1 div.sk-label label {\n",
       "  font-family: monospace;\n",
       "  font-weight: bold;\n",
       "  display: inline-block;\n",
       "  line-height: 1.2em;\n",
       "}\n",
       "\n",
       "#sk-container-id-1 div.sk-label-container {\n",
       "  text-align: center;\n",
       "}\n",
       "\n",
       "/* Estimator-specific */\n",
       "#sk-container-id-1 div.sk-estimator {\n",
       "  font-family: monospace;\n",
       "  border: 1px dotted var(--sklearn-color-border-box);\n",
       "  border-radius: 0.25em;\n",
       "  box-sizing: border-box;\n",
       "  margin-bottom: 0.5em;\n",
       "  /* unfitted */\n",
       "  background-color: var(--sklearn-color-unfitted-level-0);\n",
       "}\n",
       "\n",
       "#sk-container-id-1 div.sk-estimator.fitted {\n",
       "  /* fitted */\n",
       "  background-color: var(--sklearn-color-fitted-level-0);\n",
       "}\n",
       "\n",
       "/* on hover */\n",
       "#sk-container-id-1 div.sk-estimator:hover {\n",
       "  /* unfitted */\n",
       "  background-color: var(--sklearn-color-unfitted-level-2);\n",
       "}\n",
       "\n",
       "#sk-container-id-1 div.sk-estimator.fitted:hover {\n",
       "  /* fitted */\n",
       "  background-color: var(--sklearn-color-fitted-level-2);\n",
       "}\n",
       "\n",
       "/* Specification for estimator info (e.g. \"i\" and \"?\") */\n",
       "\n",
       "/* Common style for \"i\" and \"?\" */\n",
       "\n",
       ".sk-estimator-doc-link,\n",
       "a:link.sk-estimator-doc-link,\n",
       "a:visited.sk-estimator-doc-link {\n",
       "  float: right;\n",
       "  font-size: smaller;\n",
       "  line-height: 1em;\n",
       "  font-family: monospace;\n",
       "  background-color: var(--sklearn-color-background);\n",
       "  border-radius: 1em;\n",
       "  height: 1em;\n",
       "  width: 1em;\n",
       "  text-decoration: none !important;\n",
       "  margin-left: 1ex;\n",
       "  /* unfitted */\n",
       "  border: var(--sklearn-color-unfitted-level-1) 1pt solid;\n",
       "  color: var(--sklearn-color-unfitted-level-1);\n",
       "}\n",
       "\n",
       ".sk-estimator-doc-link.fitted,\n",
       "a:link.sk-estimator-doc-link.fitted,\n",
       "a:visited.sk-estimator-doc-link.fitted {\n",
       "  /* fitted */\n",
       "  border: var(--sklearn-color-fitted-level-1) 1pt solid;\n",
       "  color: var(--sklearn-color-fitted-level-1);\n",
       "}\n",
       "\n",
       "/* On hover */\n",
       "div.sk-estimator:hover .sk-estimator-doc-link:hover,\n",
       ".sk-estimator-doc-link:hover,\n",
       "div.sk-label-container:hover .sk-estimator-doc-link:hover,\n",
       ".sk-estimator-doc-link:hover {\n",
       "  /* unfitted */\n",
       "  background-color: var(--sklearn-color-unfitted-level-3);\n",
       "  color: var(--sklearn-color-background);\n",
       "  text-decoration: none;\n",
       "}\n",
       "\n",
       "div.sk-estimator.fitted:hover .sk-estimator-doc-link.fitted:hover,\n",
       ".sk-estimator-doc-link.fitted:hover,\n",
       "div.sk-label-container:hover .sk-estimator-doc-link.fitted:hover,\n",
       ".sk-estimator-doc-link.fitted:hover {\n",
       "  /* fitted */\n",
       "  background-color: var(--sklearn-color-fitted-level-3);\n",
       "  color: var(--sklearn-color-background);\n",
       "  text-decoration: none;\n",
       "}\n",
       "\n",
       "/* Span, style for the box shown on hovering the info icon */\n",
       ".sk-estimator-doc-link span {\n",
       "  display: none;\n",
       "  z-index: 9999;\n",
       "  position: relative;\n",
       "  font-weight: normal;\n",
       "  right: .2ex;\n",
       "  padding: .5ex;\n",
       "  margin: .5ex;\n",
       "  width: min-content;\n",
       "  min-width: 20ex;\n",
       "  max-width: 50ex;\n",
       "  color: var(--sklearn-color-text);\n",
       "  box-shadow: 2pt 2pt 4pt #999;\n",
       "  /* unfitted */\n",
       "  background: var(--sklearn-color-unfitted-level-0);\n",
       "  border: .5pt solid var(--sklearn-color-unfitted-level-3);\n",
       "}\n",
       "\n",
       ".sk-estimator-doc-link.fitted span {\n",
       "  /* fitted */\n",
       "  background: var(--sklearn-color-fitted-level-0);\n",
       "  border: var(--sklearn-color-fitted-level-3);\n",
       "}\n",
       "\n",
       ".sk-estimator-doc-link:hover span {\n",
       "  display: block;\n",
       "}\n",
       "\n",
       "/* \"?\"-specific style due to the `<a>` HTML tag */\n",
       "\n",
       "#sk-container-id-1 a.estimator_doc_link {\n",
       "  float: right;\n",
       "  font-size: 1rem;\n",
       "  line-height: 1em;\n",
       "  font-family: monospace;\n",
       "  background-color: var(--sklearn-color-background);\n",
       "  border-radius: 1rem;\n",
       "  height: 1rem;\n",
       "  width: 1rem;\n",
       "  text-decoration: none;\n",
       "  /* unfitted */\n",
       "  color: var(--sklearn-color-unfitted-level-1);\n",
       "  border: var(--sklearn-color-unfitted-level-1) 1pt solid;\n",
       "}\n",
       "\n",
       "#sk-container-id-1 a.estimator_doc_link.fitted {\n",
       "  /* fitted */\n",
       "  border: var(--sklearn-color-fitted-level-1) 1pt solid;\n",
       "  color: var(--sklearn-color-fitted-level-1);\n",
       "}\n",
       "\n",
       "/* On hover */\n",
       "#sk-container-id-1 a.estimator_doc_link:hover {\n",
       "  /* unfitted */\n",
       "  background-color: var(--sklearn-color-unfitted-level-3);\n",
       "  color: var(--sklearn-color-background);\n",
       "  text-decoration: none;\n",
       "}\n",
       "\n",
       "#sk-container-id-1 a.estimator_doc_link.fitted:hover {\n",
       "  /* fitted */\n",
       "  background-color: var(--sklearn-color-fitted-level-3);\n",
       "}\n",
       "</style><div id=\"sk-container-id-1\" class=\"sk-top-container\"><div class=\"sk-text-repr-fallback\"><pre>OneVsRestClassifier(estimator=MLPClassifier(batch_size=11,\n",
       "                                            hidden_layer_sizes=212,\n",
       "                                            learning_rate=&#x27;adaptive&#x27;,\n",
       "                                            max_iter=500, random_state=5))</pre><b>In a Jupyter environment, please rerun this cell to show the HTML representation or trust the notebook. <br />On GitHub, the HTML representation is unable to render, please try loading this page with nbviewer.org.</b></div><div class=\"sk-container\" hidden><div class=\"sk-item sk-dashed-wrapped\"><div class=\"sk-label-container\"><div class=\"sk-label fitted sk-toggleable\"><input class=\"sk-toggleable__control sk-hidden--visually\" id=\"sk-estimator-id-1\" type=\"checkbox\" ><label for=\"sk-estimator-id-1\" class=\"sk-toggleable__label fitted sk-toggleable__label-arrow fitted\">&nbsp;&nbsp;OneVsRestClassifier<a class=\"sk-estimator-doc-link fitted\" rel=\"noreferrer\" target=\"_blank\" href=\"https://scikit-learn.org/1.4/modules/generated/sklearn.multiclass.OneVsRestClassifier.html\">?<span>Documentation for OneVsRestClassifier</span></a><span class=\"sk-estimator-doc-link fitted\">i<span>Fitted</span></span></label><div class=\"sk-toggleable__content fitted\"><pre>OneVsRestClassifier(estimator=MLPClassifier(batch_size=11,\n",
       "                                            hidden_layer_sizes=212,\n",
       "                                            learning_rate=&#x27;adaptive&#x27;,\n",
       "                                            max_iter=500, random_state=5))</pre></div> </div></div><div class=\"sk-parallel\"><div class=\"sk-parallel-item\"><div class=\"sk-item\"><div class=\"sk-label-container\"><div class=\"sk-label fitted sk-toggleable\"><input class=\"sk-toggleable__control sk-hidden--visually\" id=\"sk-estimator-id-2\" type=\"checkbox\" ><label for=\"sk-estimator-id-2\" class=\"sk-toggleable__label fitted sk-toggleable__label-arrow fitted\">estimator: MLPClassifier</label><div class=\"sk-toggleable__content fitted\"><pre>MLPClassifier(batch_size=11, hidden_layer_sizes=212, learning_rate=&#x27;adaptive&#x27;,\n",
       "              max_iter=500, random_state=5)</pre></div> </div></div><div class=\"sk-serial\"><div class=\"sk-item\"><div class=\"sk-estimator fitted sk-toggleable\"><input class=\"sk-toggleable__control sk-hidden--visually\" id=\"sk-estimator-id-3\" type=\"checkbox\" ><label for=\"sk-estimator-id-3\" class=\"sk-toggleable__label fitted sk-toggleable__label-arrow fitted\">&nbsp;MLPClassifier<a class=\"sk-estimator-doc-link fitted\" rel=\"noreferrer\" target=\"_blank\" href=\"https://scikit-learn.org/1.4/modules/generated/sklearn.neural_network.MLPClassifier.html\">?<span>Documentation for MLPClassifier</span></a></label><div class=\"sk-toggleable__content fitted\"><pre>MLPClassifier(batch_size=11, hidden_layer_sizes=212, learning_rate=&#x27;adaptive&#x27;,\n",
       "              max_iter=500, random_state=5)</pre></div> </div></div></div></div></div></div></div></div></div>"
      ],
      "text/plain": [
       "OneVsRestClassifier(estimator=MLPClassifier(batch_size=11,\n",
       "                                            hidden_layer_sizes=212,\n",
       "                                            learning_rate='adaptive',\n",
       "                                            max_iter=500, random_state=5))"
      ]
     },
     "execution_count": 13,
     "metadata": {},
     "output_type": "execute_result"
    }
   ],
   "source": [
    "# Learn to predict each class against the other\n",
    "from sklearn.neural_network import MLPClassifier\n",
    "clf = MLPClassifier(batch_size=11, hidden_layer_sizes=212, learning_rate='adaptive',random_state=5,max_iter=500) #tuned MLP\n",
    "classifier = OneVsRestClassifier(clf)\n",
    "\n",
    "# Train the classifier\n",
    "classifier.fit(compressed_dataset_X_train, y_train)"
   ]
  },
  {
   "cell_type": "code",
   "execution_count": null,
   "metadata": {},
   "outputs": [],
   "source": [
    "# Compute ROC curve and ROC area for each class\n",
    "fpr = dict() #dictionary\n",
    "tpr = dict()\n",
    "roc_auc = dict()\n",
    "for i in range(n_classes):\n",
    "    fpr[i], tpr[i], _ = roc_curve(y_test[:, i], classifier.predict_proba(compressed_dataset_X_test)[:, i])\n",
    "    roc_auc[i] = auc(fpr[i], tpr[i])"
   ]
  },
  {
   "cell_type": "code",
   "execution_count": null,
   "metadata": {},
   "outputs": [
    {
     "data": {
      "image/png": "[encoded data removed]",
      "text/plain": [
       "<Figure size 640x480 with 1 Axes>"
      ]
     },
     "metadata": {},
     "output_type": "display_data"
    }
   ],
   "source": [
    "# Plot ROC curve for each class\n",
    "plt.figure()\n",
    "for i in range(n_classes):\n",
    "    plt.plot(fpr[i], tpr[i], label='ROC curve for class(%i) (area = %0.2f)' % (i,roc_auc[i]))\n",
    "plt.plot([0, 1], [0, 1], 'k--')\n",
    "plt.xlim([0.0, 1.0])\n",
    "plt.ylim([0.0, 1.05])\n",
    "plt.xlabel('False Positive Rate')\n",
    "plt.ylabel('True Positive Rate')\n",
    "plt.title('Receiver Operating Characteristic (ROC) Curve')\n",
    "plt.legend(loc=\"best\")\n",
    "plt.show()"
   ]
  },
  {
   "cell_type": "markdown",
   "metadata": {},
   "source": [
    "# MLP with validation and early stopping"
   ]
  },
  {
   "cell_type": "code",
   "execution_count": null,
   "metadata": {},
   "outputs": [
    {
     "name": "stdout",
     "output_type": "stream",
     "text": [
      "MLPClassifier(batch_size=11, early_stopping=True, hidden_layer_sizes=212,\n",
      "              learning_rate='adaptive', max_iter=571, random_state=5)\n",
      "train accuracy: 0.8461086828886425 \t test accuracy: 0.8105128205128205\n"
     ]
    }
   ],
   "source": [
    "from sklearn.neural_network import MLPClassifier\n",
    "\n",
    "\n",
    "\n",
    "model=MLPClassifier(batch_size=11, hidden_layer_sizes=212, learning_rate='adaptive',\n",
    "              max_iter=571, random_state=5,early_stopping=True,tol=0.0001,n_iter_no_change=10) #tuned MLP\n",
    "print(model)\n",
    "\n",
    "\n",
    "train_acc = model.fit(compressed_dataset_X_train, y_train).score(compressed_dataset_X_train, y_train)\n",
    "\n",
    "test_acc=model.score(compressed_dataset_X_test,y_test)\n",
    "\n",
    "\n",
    "print('train accuracy: {} \\t test accuracy: {}'.format(train_acc,test_acc))\n",
    "\n"
   ]
  },
  {
   "cell_type": "code",
   "execution_count": null,
   "metadata": {},
   "outputs": [
    {
     "name": "stdout",
     "output_type": "stream",
     "text": [
      "67\n"
     ]
    }
   ],
   "source": [
    "train_losses_ES=model.loss_curve_\n",
    "print(len(train_losses_ES)) # converse at 329 but trining stop at 68th iteration as the validation loss increases"
   ]
  },
  {
   "cell_type": "code",
   "execution_count": null,
   "metadata": {},
   "outputs": [
    {
     "name": "stdout",
     "output_type": "stream",
     "text": [
      "67\n"
     ]
    }
   ],
   "source": [
    "validation_score_ES=model.validation_scores_\n",
    "print(len(validation_score_ES))"
   ]
  },
  {
   "cell_type": "code",
   "execution_count": null,
   "metadata": {},
   "outputs": [
    {
     "data": {
      "text/plain": [
       "[<matplotlib.lines.Line2D at 0x28e4edff910>]"
      ]
     },
     "execution_count": 69,
     "metadata": {},
     "output_type": "execute_result"
    },
    {
     "data": {
      "image/png": "[encoded data removed]",
      "text/plain": [
       "<Figure size 640x480 with 1 Axes>"
      ]
     },
     "metadata": {},
     "output_type": "display_data"
    }
   ],
   "source": [
    "plt.plot(range(len(validation_score_ES)), validation_score_ES, label=\"validation acc\")"
   ]
  },
  {
   "cell_type": "markdown",
   "metadata": {},
   "source": [
    "# with pre-tuned MLP"
   ]
  },
  {
   "cell_type": "code",
   "execution_count": null,
   "metadata": {},
   "outputs": [],
   "source": [
    "# import torch\n",
    "# from NecessaryModules.convert2Tensor import convert2Tensor\n",
    "# from sklearn.neural_network import MLPClassifier\n",
    "\n",
    "# # classifier =pickle.load(open(\"Classifier/MLP_model.pkl\", \"rb\"))\n",
    "# classifier=MLPClassifier(activation='tanh', batch_size=18, hidden_layer_sizes=158,\n",
    "#               learning_rate='adaptive', max_iter=910, random_state=3,\n",
    "#               solver='lbfgs')\n",
    "# print(classifier)\n",
    "\n",
    "# epoch=20\n",
    "# train_A=[]\n",
    "# valid_A=[]\n",
    "\n",
    "\n",
    "\n",
    "# for i in (1,epoch):\n",
    "#     train_acc = classifier.fit(compressedDataframeTrain, y_train).score(compressedDataframeTrain, y_train)\n",
    "#     valid_acc=classifier.score(compressedDataframeValid,y_val)\n",
    "    \n",
    "#     train_A.append(train_acc)\n",
    "#     valid_A.append(valid_acc)\n",
    "#     # test_acc=classifier.fit(compressedDataframeTest, y_train).score(compressedDataframeTest,y_test)\n",
    "#     # test_A.append(test_acc)\n",
    "\n",
    "# # print('train accuracy: {} '.format(np.max(train_A)))\n",
    "# print(train_A)\n",
    "# print(valid_A)\n",
    "\n"
   ]
  },
  {
   "cell_type": "code",
   "execution_count": null,
   "metadata": {},
   "outputs": [],
   "source": [
    "# test_A=[]\n",
    "# for i in (1,epoch):\n",
    "#     test_acc=classifier.score(compressedDataframeTest,y_test)\n",
    "#     test_A.append(test_acc)\n",
    "# #\n",
    "# print('test accuracy: {} '.format(np.max(test_A)))"
   ]
  }
 ],
 "metadata": {
  "kernelspec": {
   "display_name": "Python 3",
   "language": "python",
   "name": "python3"
  },
  "language_info": {
   "codemirror_mode": {
    "name": "ipython",
    "version": 3
   },
   "file_extension": ".py",
   "mimetype": "text/x-python",
   "name": "python",
   "nbconvert_exporter": "python",
   "pygments_lexer": "ipython3",
   "version": "3.11.4"
  }
 },
 "nbformat": 4,
 "nbformat_minor": 2
}
