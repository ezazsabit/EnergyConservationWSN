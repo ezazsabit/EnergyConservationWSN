{
 "cells": [
  {
   "cell_type": "code",
   "execution_count": 1,
   "metadata": {},
   "outputs": [],
   "source": [
    "import os\n",
    "import numpy as np # linear algebra\n",
    "import pandas as pd # data processing, CSV file I/O (e.g. pd.read_csv)\n",
    "\n",
    "from numpy.random import seed\n",
    "from sklearn.preprocessing import minmax_scale\n",
    "from sklearn.model_selection import train_test_split\n",
    "from keras.layers import Input, Dense\n",
    "from keras.models import Model"
   ]
  },
  {
   "cell_type": "markdown",
   "metadata": {},
   "source": [
    "# prepare data"
   ]
  },
  {
   "cell_type": "code",
   "execution_count": 2,
   "metadata": {},
   "outputs": [],
   "source": [
    "import pandas as pd\n",
    "def getData(filename):\n",
    "    chunksize = 1200000\n",
    "    flag =1\n",
    "    for data in pd.read_csv(filename, sep=\",\", chunksize=chunksize):\n",
    "        while flag<2 and chunksize < 1200000:\n",
    "            print(data)\n",
    "        flag+=1\n",
    "    print(data.head())\n",
    "    print(list(data.columns.values))\n",
    "    print(type(data))\n",
    "    \n",
    "    return data"
   ]
  },
  {
   "cell_type": "code",
   "execution_count": 3,
   "metadata": {},
   "outputs": [
    {
     "name": "stdout",
     "output_type": "stream",
     "text": [
      "   Elevation    Aspect     Slope  Horizontal_Distance_To_Hydrology  \\\n",
      "0   0.850622  0.105556  0.150943                          0.045351   \n",
      "1   0.879149  0.163889  0.188679                          0.426304   \n",
      "2   0.767116  0.327778  0.320755                          0.068027   \n",
      "3   0.791494  0.338889  0.226415                          0.294785   \n",
      "4   0.867220  0.575000  0.584906                          0.385488   \n",
      "\n",
      "   Vertical_Distance_To_Hydrology  Horizontal_Distance_To_Roadways  \\\n",
      "0                       -0.003509                         0.631060   \n",
      "1                        0.189474                         0.177358   \n",
      "2                        0.038596                         0.259652   \n",
      "3                       -0.077193                         0.085486   \n",
      "4                        0.314035                         0.074020   \n",
      "\n",
      "   Hillshade_9am  Hillshade_Noon  Hillshade_3pm  \\\n",
      "0       0.866142        0.874016          0.548   \n",
      "1       0.897638        0.866142          0.500   \n",
      "2       0.968504        0.877953          0.400   \n",
      "3       0.944882        0.909449          0.476   \n",
      "4       0.724409        0.984252          0.728   \n",
      "\n",
      "   Horizontal_Distance_To_Fire_Points  ...  Soil_Type32  Soil_Type33  \\\n",
      "0                            0.512105  ...            0            0   \n",
      "1                            0.388636  ...            1            0   \n",
      "2                            0.387924  ...            0            0   \n",
      "3                            0.198804  ...            0            0   \n",
      "4                            0.141982  ...            0            0   \n",
      "\n",
      "   Soil_Type34  Soil_Type35  Soil_Type36  Soil_Type37  Soil_Type38  \\\n",
      "0            0            0            0            0            0   \n",
      "1            0            0            0            0            0   \n",
      "2            0            0            0            0            0   \n",
      "3            0            0            0            0            0   \n",
      "4            0            0            0            0            0   \n",
      "\n",
      "   Soil_Type39  Soil_Type40  Cover_Type  \n",
      "0            0            0           1  \n",
      "1            0            0           1  \n",
      "2            0            0           1  \n",
      "3            0            0           1  \n",
      "4            0            0           1  \n",
      "\n",
      "[5 rows x 55 columns]\n",
      "['Elevation', 'Aspect', 'Slope', 'Horizontal_Distance_To_Hydrology', 'Vertical_Distance_To_Hydrology', 'Horizontal_Distance_To_Roadways', 'Hillshade_9am', 'Hillshade_Noon', 'Hillshade_3pm', 'Horizontal_Distance_To_Fire_Points', 'Wilderness_Area1', 'Wilderness_Area2', 'Wilderness_Area3', 'Wilderness_Area4', 'Soil_Type1', 'Soil_Type2', 'Soil_Type3', 'Soil_Type4', 'Soil_Type5', 'Soil_Type6', 'Soil_Type7', 'Soil_Type8', 'Soil_Type9', 'Soil_Type10', 'Soil_Type11', 'Soil_Type12', 'Soil_Type13', 'Soil_Type14', 'Soil_Type15', 'Soil_Type16', 'Soil_Type17', 'Soil_Type18', 'Soil_Type19', 'Soil_Type20', 'Soil_Type21', 'Soil_Type22', 'Soil_Type23', 'Soil_Type24', 'Soil_Type25', 'Soil_Type26', 'Soil_Type27', 'Soil_Type28', 'Soil_Type29', 'Soil_Type30', 'Soil_Type31', 'Soil_Type32', 'Soil_Type33', 'Soil_Type34', 'Soil_Type35', 'Soil_Type36', 'Soil_Type37', 'Soil_Type38', 'Soil_Type39', 'Soil_Type40', 'Cover_Type']\n",
      "<class 'pandas.core.frame.DataFrame'>\n"
     ]
    }
   ],
   "source": [
    "import random\n",
    "filename = '../shot_listed_dataset/CoverTypeNewNormalized.csv'\n",
    "dataset=getData(filename).values.tolist()\n",
    "random.shuffle(dataset)\n",
    "dataset=pd.DataFrame(dataset) #from dataset_list to dataset_dataframe after suffling\n",
    "# print(dataset)"
   ]
  },
  {
   "cell_type": "code",
   "execution_count": 4,
   "metadata": {},
   "outputs": [],
   "source": [
    "X=dataset.iloc[:,0:-1]\n",
    "y=dataset.iloc[:,-1]"
   ]
  },
  {
   "cell_type": "code",
   "execution_count": 5,
   "metadata": {},
   "outputs": [],
   "source": [
    "def split_data(data):\n",
    "    # splitting the data\n",
    "    \n",
    "    msk = np.random.rand(len(data)) < 0.9\n",
    "    yy = [54] #test title is 54 after suffleing the dataframe \n",
    "    train = data[msk]\n",
    "    test = data[~msk]\n",
    "    x_train = train[train.columns[:train.shape[1] - 1]]  # all columns except the last are x variables\n",
    "    y_train = train[yy[0]].tolist()  # the last column as y variable\n",
    "    x_test = test[test.columns[:test.shape[1] - 1]]\n",
    "    y_test = test[yy[0]].tolist()  # the last column as y variable\n",
    "    y_train = [0 if i == 7 else i for i in y_train]  # replace label 7 with 0\n",
    "    y_test = [0 if i == 7 else i for i in y_test]  # replace label 7 with 0\n",
    "    return x_train, y_train, x_test, y_test"
   ]
  },
  {
   "cell_type": "code",
   "execution_count": 6,
   "metadata": {},
   "outputs": [],
   "source": [
    "X_comb, y_comb, X_test, y_test = split_data(dataset)"
   ]
  },
  {
   "cell_type": "code",
   "execution_count": 7,
   "metadata": {},
   "outputs": [
    {
     "name": "stdout",
     "output_type": "stream",
     "text": [
      "Train data shape (17317, 54)\n",
      "Test data shape (1912, 54)\n"
     ]
    }
   ],
   "source": [
    "print('Train data shape', X_comb.shape)\n",
    "print('Test data shape', X_test.shape)"
   ]
  },
  {
   "cell_type": "markdown",
   "metadata": {},
   "source": [
    "# Design Auto-Encoder"
   ]
  },
  {
   "cell_type": "code",
   "execution_count": 8,
   "metadata": {},
   "outputs": [
    {
     "data": {
      "text/plain": [
       "54"
      ]
     },
     "execution_count": 8,
     "metadata": {},
     "output_type": "execute_result"
    }
   ],
   "source": [
    "# define the number of features\n",
    "ncol = X_comb.shape[1]\n",
    "ncol"
   ]
  },
  {
   "cell_type": "code",
   "execution_count": 9,
   "metadata": {},
   "outputs": [],
   "source": [
    "# Split train data into train and validation 90:10 in ratio\n",
    "X_train, X_valid, y_train, y_valid = train_test_split(X_comb, y_comb, train_size = 0.9, random_state = seed(2017))"
   ]
  },
  {
   "cell_type": "code",
   "execution_count": 10,
   "metadata": {},
   "outputs": [],
   "source": [
    "### Define the encoder dimension\n",
    "encoding_dim = 30"
   ]
  },
  {
   "cell_type": "code",
   "execution_count": 11,
   "metadata": {},
   "outputs": [],
   "source": [
    "input_dim = Input(shape = (ncol, ))\n",
    "\n",
    "# Encoder Layers\n",
    "# encoded1 = Dense(50, activation = 'relu')(input_dim)\n",
    "# encoded2 = Dense(40, activation = 'relu')(encoded1)\n",
    "# encoded3 = Dense(encoding_dim, activation = 'relu')(encoded2)\n",
    "encoded1 = Dense(45, activation = 'relu')(input_dim)\n",
    "encoded2 = Dense(encoding_dim, activation = 'relu')(encoded1)\n",
    "\n",
    "\n",
    "\n",
    "\n",
    "# Decoder Layers\n",
    "# decoded1 = Dense(40, activation = 'relu')(encoded3)\n",
    "# decoded2 = Dense(50, activation = 'relu')(decoded1)\n",
    "# decoded8 = Dense(ncol, activation = 'sigmoid')(decoded2)\n",
    "decoded1 = Dense(45, activation = 'relu')(encoded2)\n",
    "decoded2 = Dense(ncol, activation = 'sigmoid')(decoded1)\n",
    "\n",
    "\n",
    "\n",
    "# Combine Encoder and Deocder layers\n",
    "autoencoder = Model(inputs = input_dim, outputs = decoded2)\n",
    "\n",
    "# Compile the Model\n",
    "autoencoder.compile(optimizer = 'adadelta', loss = 'categorical_crossentropy')"
   ]
  },
  {
   "cell_type": "code",
   "execution_count": 12,
   "metadata": {},
   "outputs": [
    {
     "name": "stdout",
     "output_type": "stream",
     "text": [
      "Model: \"model\"\n",
      "_________________________________________________________________\n",
      " Layer (type)                Output Shape              Param #   \n",
      "=================================================================\n",
      " input_1 (InputLayer)        [(None, 54)]              0         \n",
      "                                                                 \n",
      " dense (Dense)               (None, 45)                2475      \n",
      "                                                                 \n",
      " dense_1 (Dense)             (None, 30)                1380      \n",
      "                                                                 \n",
      " dense_2 (Dense)             (None, 45)                1395      \n",
      "                                                                 \n",
      " dense_3 (Dense)             (None, 54)                2484      \n",
      "                                                                 \n",
      "=================================================================\n",
      "Total params: 7734 (30.21 KB)\n",
      "Trainable params: 7734 (30.21 KB)\n",
      "Non-trainable params: 0 (0.00 Byte)\n",
      "_________________________________________________________________\n"
     ]
    }
   ],
   "source": [
    "autoencoder.summary()"
   ]
  },
  {
   "cell_type": "code",
   "execution_count": 13,
   "metadata": {},
   "outputs": [
    {
     "data": {
      "text/plain": [
       "(15585, 54)"
      ]
     },
     "execution_count": 13,
     "metadata": {},
     "output_type": "execute_result"
    }
   ],
   "source": [
    "X_train_arr=X_train.to_numpy()\n",
    "# X_train_arr=X_train_arr.reshape(X_train_arr.shape[0],X_train_arr.shape[1],1)\n",
    "X_train_arr.shape"
   ]
  },
  {
   "cell_type": "code",
   "execution_count": 14,
   "metadata": {},
   "outputs": [
    {
     "data": {
      "text/plain": [
       "(1912, 54)"
      ]
     },
     "execution_count": 14,
     "metadata": {},
     "output_type": "execute_result"
    }
   ],
   "source": [
    "X_test_arr=X_test.to_numpy()\n",
    "# X_test_arr=X_test_arr.reshape(X_test_arr.shape[0],X_test_arr.shape[1],1)\n",
    "X_test_arr.shape"
   ]
  },
  {
   "cell_type": "code",
   "execution_count": 15,
   "metadata": {},
   "outputs": [
    {
     "name": "stdout",
     "output_type": "stream",
     "text": [
      "Epoch 1/10\n"
     ]
    },
    {
     "name": "stdout",
     "output_type": "stream",
     "text": [
      "488/488 [==============================] - 2s 2ms/step - loss: 25.7235 - val_loss: 25.6775\n",
      "Epoch 2/10\n",
      "488/488 [==============================] - 1s 2ms/step - loss: 25.6746 - val_loss: 25.6246\n",
      "Epoch 3/10\n",
      "488/488 [==============================] - 1s 1ms/step - loss: 25.6180 - val_loss: 25.5646\n",
      "Epoch 4/10\n",
      "488/488 [==============================] - 1s 1ms/step - loss: 25.5545 - val_loss: 25.4974\n",
      "Epoch 5/10\n",
      "488/488 [==============================] - 1s 1ms/step - loss: 25.4830 - val_loss: 25.4213\n",
      "Epoch 6/10\n",
      "488/488 [==============================] - 1s 1ms/step - loss: 25.4014 - val_loss: 25.3337\n",
      "Epoch 7/10\n",
      "488/488 [==============================] - 1s 1ms/step - loss: 25.3057 - val_loss: 25.2287\n",
      "Epoch 8/10\n",
      "488/488 [==============================] - 1s 1ms/step - loss: 25.1880 - val_loss: 25.0965\n",
      "Epoch 9/10\n",
      "488/488 [==============================] - 1s 2ms/step - loss: 25.0361 - val_loss: 24.9229\n",
      "Epoch 10/10\n",
      "488/488 [==============================] - 1s 1ms/step - loss: 24.8346 - val_loss: 24.6903\n"
     ]
    },
    {
     "data": {
      "text/plain": [
       "<keras.src.callbacks.History at 0x22b7253a810>"
      ]
     },
     "execution_count": 15,
     "metadata": {},
     "output_type": "execute_result"
    }
   ],
   "source": [
    "# Train Auto Encoder\n",
    "autoencoder.fit(X_train_arr, X_train_arr, epochs = 10, batch_size = 32, \n",
    "                shuffle = False, validation_data = (X_test_arr, X_test_arr))"
   ]
  },
  {
   "cell_type": "markdown",
   "metadata": {},
   "source": [
    "# Encoder"
   ]
  },
  {
   "cell_type": "code",
   "execution_count": 16,
   "metadata": {},
   "outputs": [
    {
     "data": {
      "text/plain": [
       "<KerasTensor: shape=(None, 30) dtype=float32 (created by layer 'input_2')>"
      ]
     },
     "execution_count": 16,
     "metadata": {},
     "output_type": "execute_result"
    }
   ],
   "source": [
    "# Use Encoder level to reduce dimension of train and test data\n",
    "\n",
    "encoder = Model(inputs = input_dim, outputs = encoded2)\n",
    "encoded_input = Input(shape = (encoding_dim, ))\n",
    "encoded_input\n"
   ]
  },
  {
   "cell_type": "code",
   "execution_count": 17,
   "metadata": {},
   "outputs": [
    {
     "name": "stdout",
     "output_type": "stream",
     "text": [
      "488/488 [==============================] - 1s 834us/step\n",
      "60/60 [==============================] - 0s 847us/step\n"
     ]
    }
   ],
   "source": [
    "# Predict the new train and test data using Encoder\n",
    "\n",
    "encoded_train = pd.DataFrame(encoder.predict(X_train))\n",
    "encoded_train = encoded_train.add_prefix('feature_') # column level are prefix\n",
    "\n",
    "encoded_test = pd.DataFrame(encoder.predict(X_test))\n",
    "encoded_test = encoded_test.add_prefix('feature_')"
   ]
  },
  {
   "cell_type": "code",
   "execution_count": 18,
   "metadata": {},
   "outputs": [
    {
     "name": "stdout",
     "output_type": "stream",
     "text": [
      "601/601 [==============================] - 1s 812us/step\n"
     ]
    }
   ],
   "source": [
    "encoded_X = pd.DataFrame(encoder.predict(X))\n",
    "encoded_X = encoded_X.add_prefix('feature_')"
   ]
  },
  {
   "cell_type": "code",
   "execution_count": 19,
   "metadata": {},
   "outputs": [
    {
     "data": {
      "text/html": [
       "<div>\n",
       "<style scoped>\n",
       "    .dataframe tbody tr th:only-of-type {\n",
       "        vertical-align: middle;\n",
       "    }\n",
       "\n",
       "    .dataframe tbody tr th {\n",
       "        vertical-align: top;\n",
       "    }\n",
       "\n",
       "    .dataframe thead th {\n",
       "        text-align: right;\n",
       "    }\n",
       "</style>\n",
       "<table border=\"1\" class=\"dataframe\">\n",
       "  <thead>\n",
       "    <tr style=\"text-align: right;\">\n",
       "      <th></th>\n",
       "      <th>feature_0</th>\n",
       "      <th>feature_1</th>\n",
       "      <th>feature_2</th>\n",
       "      <th>feature_3</th>\n",
       "      <th>feature_4</th>\n",
       "      <th>feature_5</th>\n",
       "      <th>feature_6</th>\n",
       "      <th>feature_7</th>\n",
       "      <th>feature_8</th>\n",
       "      <th>feature_9</th>\n",
       "      <th>...</th>\n",
       "      <th>feature_20</th>\n",
       "      <th>feature_21</th>\n",
       "      <th>feature_22</th>\n",
       "      <th>feature_23</th>\n",
       "      <th>feature_24</th>\n",
       "      <th>feature_25</th>\n",
       "      <th>feature_26</th>\n",
       "      <th>feature_27</th>\n",
       "      <th>feature_28</th>\n",
       "      <th>feature_29</th>\n",
       "    </tr>\n",
       "  </thead>\n",
       "  <tbody>\n",
       "    <tr>\n",
       "      <th>0</th>\n",
       "      <td>0.204300</td>\n",
       "      <td>0.321397</td>\n",
       "      <td>0.113794</td>\n",
       "      <td>0.372049</td>\n",
       "      <td>0.000000</td>\n",
       "      <td>0.000000</td>\n",
       "      <td>0.090391</td>\n",
       "      <td>0.0</td>\n",
       "      <td>0.202624</td>\n",
       "      <td>0.000000</td>\n",
       "      <td>...</td>\n",
       "      <td>0.381788</td>\n",
       "      <td>0.0</td>\n",
       "      <td>0.222355</td>\n",
       "      <td>0.000000</td>\n",
       "      <td>0.106510</td>\n",
       "      <td>0.000000</td>\n",
       "      <td>0.000000</td>\n",
       "      <td>0.000000</td>\n",
       "      <td>0.0</td>\n",
       "      <td>0.0</td>\n",
       "    </tr>\n",
       "    <tr>\n",
       "      <th>1</th>\n",
       "      <td>0.087226</td>\n",
       "      <td>0.432947</td>\n",
       "      <td>0.000000</td>\n",
       "      <td>0.283922</td>\n",
       "      <td>0.000000</td>\n",
       "      <td>0.000000</td>\n",
       "      <td>0.000000</td>\n",
       "      <td>0.0</td>\n",
       "      <td>0.000000</td>\n",
       "      <td>0.220458</td>\n",
       "      <td>...</td>\n",
       "      <td>0.466670</td>\n",
       "      <td>0.0</td>\n",
       "      <td>0.273561</td>\n",
       "      <td>0.012996</td>\n",
       "      <td>0.000000</td>\n",
       "      <td>0.128778</td>\n",
       "      <td>0.050771</td>\n",
       "      <td>0.000000</td>\n",
       "      <td>0.0</td>\n",
       "      <td>0.0</td>\n",
       "    </tr>\n",
       "    <tr>\n",
       "      <th>2</th>\n",
       "      <td>0.000000</td>\n",
       "      <td>0.256681</td>\n",
       "      <td>0.000000</td>\n",
       "      <td>0.082119</td>\n",
       "      <td>0.069201</td>\n",
       "      <td>0.000000</td>\n",
       "      <td>0.000000</td>\n",
       "      <td>0.0</td>\n",
       "      <td>0.000000</td>\n",
       "      <td>0.278083</td>\n",
       "      <td>...</td>\n",
       "      <td>0.539246</td>\n",
       "      <td>0.0</td>\n",
       "      <td>0.490144</td>\n",
       "      <td>0.129457</td>\n",
       "      <td>0.310576</td>\n",
       "      <td>0.000000</td>\n",
       "      <td>0.363932</td>\n",
       "      <td>0.000000</td>\n",
       "      <td>0.0</td>\n",
       "      <td>0.0</td>\n",
       "    </tr>\n",
       "    <tr>\n",
       "      <th>3</th>\n",
       "      <td>0.108678</td>\n",
       "      <td>0.297535</td>\n",
       "      <td>0.000000</td>\n",
       "      <td>0.249656</td>\n",
       "      <td>0.000000</td>\n",
       "      <td>0.027944</td>\n",
       "      <td>0.089239</td>\n",
       "      <td>0.0</td>\n",
       "      <td>0.000000</td>\n",
       "      <td>0.000000</td>\n",
       "      <td>...</td>\n",
       "      <td>0.462010</td>\n",
       "      <td>0.0</td>\n",
       "      <td>0.245632</td>\n",
       "      <td>0.060301</td>\n",
       "      <td>0.161764</td>\n",
       "      <td>0.000000</td>\n",
       "      <td>0.288373</td>\n",
       "      <td>0.000000</td>\n",
       "      <td>0.0</td>\n",
       "      <td>0.0</td>\n",
       "    </tr>\n",
       "    <tr>\n",
       "      <th>4</th>\n",
       "      <td>0.048430</td>\n",
       "      <td>0.362034</td>\n",
       "      <td>0.412581</td>\n",
       "      <td>0.106168</td>\n",
       "      <td>0.004587</td>\n",
       "      <td>0.056550</td>\n",
       "      <td>0.000000</td>\n",
       "      <td>0.0</td>\n",
       "      <td>0.000000</td>\n",
       "      <td>0.290070</td>\n",
       "      <td>...</td>\n",
       "      <td>0.689972</td>\n",
       "      <td>0.0</td>\n",
       "      <td>0.478559</td>\n",
       "      <td>0.271357</td>\n",
       "      <td>0.143056</td>\n",
       "      <td>0.000000</td>\n",
       "      <td>0.000000</td>\n",
       "      <td>0.000000</td>\n",
       "      <td>0.0</td>\n",
       "      <td>0.0</td>\n",
       "    </tr>\n",
       "    <tr>\n",
       "      <th>...</th>\n",
       "      <td>...</td>\n",
       "      <td>...</td>\n",
       "      <td>...</td>\n",
       "      <td>...</td>\n",
       "      <td>...</td>\n",
       "      <td>...</td>\n",
       "      <td>...</td>\n",
       "      <td>...</td>\n",
       "      <td>...</td>\n",
       "      <td>...</td>\n",
       "      <td>...</td>\n",
       "      <td>...</td>\n",
       "      <td>...</td>\n",
       "      <td>...</td>\n",
       "      <td>...</td>\n",
       "      <td>...</td>\n",
       "      <td>...</td>\n",
       "      <td>...</td>\n",
       "      <td>...</td>\n",
       "      <td>...</td>\n",
       "      <td>...</td>\n",
       "    </tr>\n",
       "    <tr>\n",
       "      <th>15580</th>\n",
       "      <td>0.000000</td>\n",
       "      <td>0.134720</td>\n",
       "      <td>0.376474</td>\n",
       "      <td>0.000000</td>\n",
       "      <td>0.287587</td>\n",
       "      <td>0.210677</td>\n",
       "      <td>0.000000</td>\n",
       "      <td>0.0</td>\n",
       "      <td>0.000000</td>\n",
       "      <td>0.015738</td>\n",
       "      <td>...</td>\n",
       "      <td>0.668616</td>\n",
       "      <td>0.0</td>\n",
       "      <td>0.502715</td>\n",
       "      <td>0.156058</td>\n",
       "      <td>0.244428</td>\n",
       "      <td>0.000000</td>\n",
       "      <td>0.101250</td>\n",
       "      <td>0.149570</td>\n",
       "      <td>0.0</td>\n",
       "      <td>0.0</td>\n",
       "    </tr>\n",
       "    <tr>\n",
       "      <th>15581</th>\n",
       "      <td>0.118693</td>\n",
       "      <td>0.278983</td>\n",
       "      <td>0.000000</td>\n",
       "      <td>0.175455</td>\n",
       "      <td>0.000000</td>\n",
       "      <td>0.050421</td>\n",
       "      <td>0.000000</td>\n",
       "      <td>0.0</td>\n",
       "      <td>0.000000</td>\n",
       "      <td>0.070023</td>\n",
       "      <td>...</td>\n",
       "      <td>0.441462</td>\n",
       "      <td>0.0</td>\n",
       "      <td>0.246216</td>\n",
       "      <td>0.068570</td>\n",
       "      <td>0.000000</td>\n",
       "      <td>0.101888</td>\n",
       "      <td>0.289805</td>\n",
       "      <td>0.000000</td>\n",
       "      <td>0.0</td>\n",
       "      <td>0.0</td>\n",
       "    </tr>\n",
       "    <tr>\n",
       "      <th>15582</th>\n",
       "      <td>0.000000</td>\n",
       "      <td>0.297222</td>\n",
       "      <td>0.361981</td>\n",
       "      <td>0.000000</td>\n",
       "      <td>0.242336</td>\n",
       "      <td>0.134125</td>\n",
       "      <td>0.000000</td>\n",
       "      <td>0.0</td>\n",
       "      <td>0.000000</td>\n",
       "      <td>0.142449</td>\n",
       "      <td>...</td>\n",
       "      <td>0.455845</td>\n",
       "      <td>0.0</td>\n",
       "      <td>0.417462</td>\n",
       "      <td>0.295446</td>\n",
       "      <td>0.072133</td>\n",
       "      <td>0.000000</td>\n",
       "      <td>0.207776</td>\n",
       "      <td>0.184497</td>\n",
       "      <td>0.0</td>\n",
       "      <td>0.0</td>\n",
       "    </tr>\n",
       "    <tr>\n",
       "      <th>15583</th>\n",
       "      <td>0.054161</td>\n",
       "      <td>0.133904</td>\n",
       "      <td>0.167346</td>\n",
       "      <td>0.000000</td>\n",
       "      <td>0.338827</td>\n",
       "      <td>0.172042</td>\n",
       "      <td>0.000000</td>\n",
       "      <td>0.0</td>\n",
       "      <td>0.000000</td>\n",
       "      <td>0.000000</td>\n",
       "      <td>...</td>\n",
       "      <td>0.750630</td>\n",
       "      <td>0.0</td>\n",
       "      <td>0.410826</td>\n",
       "      <td>0.136579</td>\n",
       "      <td>0.049351</td>\n",
       "      <td>0.000000</td>\n",
       "      <td>0.679719</td>\n",
       "      <td>0.000000</td>\n",
       "      <td>0.0</td>\n",
       "      <td>0.0</td>\n",
       "    </tr>\n",
       "    <tr>\n",
       "      <th>15584</th>\n",
       "      <td>0.202604</td>\n",
       "      <td>0.130166</td>\n",
       "      <td>0.079340</td>\n",
       "      <td>0.033087</td>\n",
       "      <td>0.000000</td>\n",
       "      <td>0.015743</td>\n",
       "      <td>0.070719</td>\n",
       "      <td>0.0</td>\n",
       "      <td>0.000000</td>\n",
       "      <td>0.000000</td>\n",
       "      <td>...</td>\n",
       "      <td>0.483816</td>\n",
       "      <td>0.0</td>\n",
       "      <td>0.111859</td>\n",
       "      <td>0.000000</td>\n",
       "      <td>0.122745</td>\n",
       "      <td>0.000000</td>\n",
       "      <td>0.199596</td>\n",
       "      <td>0.000000</td>\n",
       "      <td>0.0</td>\n",
       "      <td>0.0</td>\n",
       "    </tr>\n",
       "  </tbody>\n",
       "</table>\n",
       "<p>15585 rows × 30 columns</p>\n",
       "</div>"
      ],
      "text/plain": [
       "       feature_0  feature_1  feature_2  feature_3  feature_4  feature_5  \\\n",
       "0       0.204300   0.321397   0.113794   0.372049   0.000000   0.000000   \n",
       "1       0.087226   0.432947   0.000000   0.283922   0.000000   0.000000   \n",
       "2       0.000000   0.256681   0.000000   0.082119   0.069201   0.000000   \n",
       "3       0.108678   0.297535   0.000000   0.249656   0.000000   0.027944   \n",
       "4       0.048430   0.362034   0.412581   0.106168   0.004587   0.056550   \n",
       "...          ...        ...        ...        ...        ...        ...   \n",
       "15580   0.000000   0.134720   0.376474   0.000000   0.287587   0.210677   \n",
       "15581   0.118693   0.278983   0.000000   0.175455   0.000000   0.050421   \n",
       "15582   0.000000   0.297222   0.361981   0.000000   0.242336   0.134125   \n",
       "15583   0.054161   0.133904   0.167346   0.000000   0.338827   0.172042   \n",
       "15584   0.202604   0.130166   0.079340   0.033087   0.000000   0.015743   \n",
       "\n",
       "       feature_6  feature_7  feature_8  feature_9  ...  feature_20  \\\n",
       "0       0.090391        0.0   0.202624   0.000000  ...    0.381788   \n",
       "1       0.000000        0.0   0.000000   0.220458  ...    0.466670   \n",
       "2       0.000000        0.0   0.000000   0.278083  ...    0.539246   \n",
       "3       0.089239        0.0   0.000000   0.000000  ...    0.462010   \n",
       "4       0.000000        0.0   0.000000   0.290070  ...    0.689972   \n",
       "...          ...        ...        ...        ...  ...         ...   \n",
       "15580   0.000000        0.0   0.000000   0.015738  ...    0.668616   \n",
       "15581   0.000000        0.0   0.000000   0.070023  ...    0.441462   \n",
       "15582   0.000000        0.0   0.000000   0.142449  ...    0.455845   \n",
       "15583   0.000000        0.0   0.000000   0.000000  ...    0.750630   \n",
       "15584   0.070719        0.0   0.000000   0.000000  ...    0.483816   \n",
       "\n",
       "       feature_21  feature_22  feature_23  feature_24  feature_25  feature_26  \\\n",
       "0             0.0    0.222355    0.000000    0.106510    0.000000    0.000000   \n",
       "1             0.0    0.273561    0.012996    0.000000    0.128778    0.050771   \n",
       "2             0.0    0.490144    0.129457    0.310576    0.000000    0.363932   \n",
       "3             0.0    0.245632    0.060301    0.161764    0.000000    0.288373   \n",
       "4             0.0    0.478559    0.271357    0.143056    0.000000    0.000000   \n",
       "...           ...         ...         ...         ...         ...         ...   \n",
       "15580         0.0    0.502715    0.156058    0.244428    0.000000    0.101250   \n",
       "15581         0.0    0.246216    0.068570    0.000000    0.101888    0.289805   \n",
       "15582         0.0    0.417462    0.295446    0.072133    0.000000    0.207776   \n",
       "15583         0.0    0.410826    0.136579    0.049351    0.000000    0.679719   \n",
       "15584         0.0    0.111859    0.000000    0.122745    0.000000    0.199596   \n",
       "\n",
       "       feature_27  feature_28  feature_29  \n",
       "0        0.000000         0.0         0.0  \n",
       "1        0.000000         0.0         0.0  \n",
       "2        0.000000         0.0         0.0  \n",
       "3        0.000000         0.0         0.0  \n",
       "4        0.000000         0.0         0.0  \n",
       "...           ...         ...         ...  \n",
       "15580    0.149570         0.0         0.0  \n",
       "15581    0.000000         0.0         0.0  \n",
       "15582    0.184497         0.0         0.0  \n",
       "15583    0.000000         0.0         0.0  \n",
       "15584    0.000000         0.0         0.0  \n",
       "\n",
       "[15585 rows x 30 columns]"
      ]
     },
     "execution_count": 19,
     "metadata": {},
     "output_type": "execute_result"
    }
   ],
   "source": [
    "encoded_train"
   ]
  },
  {
   "cell_type": "markdown",
   "metadata": {},
   "source": [
    "# store the compressed data in pickle"
   ]
  },
  {
   "cell_type": "code",
   "execution_count": 20,
   "metadata": {},
   "outputs": [],
   "source": [
    "import pickle\n",
    "\n",
    "pickle.dump(encoded_train, open(\"encoded_train.pkl\", \"wb\"))\n",
    "pickle.dump(encoded_test, open(\"encoded_test.pkl\", \"wb\"))"
   ]
  },
  {
   "cell_type": "code",
   "execution_count": 21,
   "metadata": {},
   "outputs": [],
   "source": [
    "pickle.dump(encoded_X, open(\"encoded_X.pkl\", \"wb\"))"
   ]
  },
  {
   "cell_type": "code",
   "execution_count": 22,
   "metadata": {},
   "outputs": [],
   "source": [
    "pickle.dump(encoder,open(\"Encoder.pkl\",\"wb\"))"
   ]
  },
  {
   "cell_type": "markdown",
   "metadata": {},
   "source": [
    "# tune SVC"
   ]
  },
  {
   "cell_type": "code",
   "execution_count": 23,
   "metadata": {},
   "outputs": [
    {
     "data": {
      "text/html": [
       "<style>#sk-container-id-1 {\n",
       "  /* Definition of color scheme common for light and dark mode */\n",
       "  --sklearn-color-text: black;\n",
       "  --sklearn-color-line: gray;\n",
       "  /* Definition of color scheme for unfitted estimators */\n",
       "  --sklearn-color-unfitted-level-0: #fff5e6;\n",
       "  --sklearn-color-unfitted-level-1: #f6e4d2;\n",
       "  --sklearn-color-unfitted-level-2: #ffe0b3;\n",
       "  --sklearn-color-unfitted-level-3: chocolate;\n",
       "  /* Definition of color scheme for fitted estimators */\n",
       "  --sklearn-color-fitted-level-0: #f0f8ff;\n",
       "  --sklearn-color-fitted-level-1: #d4ebff;\n",
       "  --sklearn-color-fitted-level-2: #b3dbfd;\n",
       "  --sklearn-color-fitted-level-3: cornflowerblue;\n",
       "\n",
       "  /* Specific color for light theme */\n",
       "  --sklearn-color-text-on-default-background: var(--sg-text-color, var(--theme-code-foreground, var(--jp-content-font-color1, black)));\n",
       "  --sklearn-color-background: var(--sg-background-color, var(--theme-background, var(--jp-layout-color0, white)));\n",
       "  --sklearn-color-border-box: var(--sg-text-color, var(--theme-code-foreground, var(--jp-content-font-color1, black)));\n",
       "  --sklearn-color-icon: #696969;\n",
       "\n",
       "  @media (prefers-color-scheme: dark) {\n",
       "    /* Redefinition of color scheme for dark theme */\n",
       "    --sklearn-color-text-on-default-background: var(--sg-text-color, var(--theme-code-foreground, var(--jp-content-font-color1, white)));\n",
       "    --sklearn-color-background: var(--sg-background-color, var(--theme-background, var(--jp-layout-color0, #111)));\n",
       "    --sklearn-color-border-box: var(--sg-text-color, var(--theme-code-foreground, var(--jp-content-font-color1, white)));\n",
       "    --sklearn-color-icon: #878787;\n",
       "  }\n",
       "}\n",
       "\n",
       "#sk-container-id-1 {\n",
       "  color: var(--sklearn-color-text);\n",
       "}\n",
       "\n",
       "#sk-container-id-1 pre {\n",
       "  padding: 0;\n",
       "}\n",
       "\n",
       "#sk-container-id-1 input.sk-hidden--visually {\n",
       "  border: 0;\n",
       "  clip: rect(1px 1px 1px 1px);\n",
       "  clip: rect(1px, 1px, 1px, 1px);\n",
       "  height: 1px;\n",
       "  margin: -1px;\n",
       "  overflow: hidden;\n",
       "  padding: 0;\n",
       "  position: absolute;\n",
       "  width: 1px;\n",
       "}\n",
       "\n",
       "#sk-container-id-1 div.sk-dashed-wrapped {\n",
       "  border: 1px dashed var(--sklearn-color-line);\n",
       "  margin: 0 0.4em 0.5em 0.4em;\n",
       "  box-sizing: border-box;\n",
       "  padding-bottom: 0.4em;\n",
       "  background-color: var(--sklearn-color-background);\n",
       "}\n",
       "\n",
       "#sk-container-id-1 div.sk-container {\n",
       "  /* jupyter's `normalize.less` sets `[hidden] { display: none; }`\n",
       "     but bootstrap.min.css set `[hidden] { display: none !important; }`\n",
       "     so we also need the `!important` here to be able to override the\n",
       "     default hidden behavior on the sphinx rendered scikit-learn.org.\n",
       "     See: https://github.com/scikit-learn/scikit-learn/issues/21755 */\n",
       "  display: inline-block !important;\n",
       "  position: relative;\n",
       "}\n",
       "\n",
       "#sk-container-id-1 div.sk-text-repr-fallback {\n",
       "  display: none;\n",
       "}\n",
       "\n",
       "div.sk-parallel-item,\n",
       "div.sk-serial,\n",
       "div.sk-item {\n",
       "  /* draw centered vertical line to link estimators */\n",
       "  background-image: linear-gradient(var(--sklearn-color-text-on-default-background), var(--sklearn-color-text-on-default-background));\n",
       "  background-size: 2px 100%;\n",
       "  background-repeat: no-repeat;\n",
       "  background-position: center center;\n",
       "}\n",
       "\n",
       "/* Parallel-specific style estimator block */\n",
       "\n",
       "#sk-container-id-1 div.sk-parallel-item::after {\n",
       "  content: \"\";\n",
       "  width: 100%;\n",
       "  border-bottom: 2px solid var(--sklearn-color-text-on-default-background);\n",
       "  flex-grow: 1;\n",
       "}\n",
       "\n",
       "#sk-container-id-1 div.sk-parallel {\n",
       "  display: flex;\n",
       "  align-items: stretch;\n",
       "  justify-content: center;\n",
       "  background-color: var(--sklearn-color-background);\n",
       "  position: relative;\n",
       "}\n",
       "\n",
       "#sk-container-id-1 div.sk-parallel-item {\n",
       "  display: flex;\n",
       "  flex-direction: column;\n",
       "}\n",
       "\n",
       "#sk-container-id-1 div.sk-parallel-item:first-child::after {\n",
       "  align-self: flex-end;\n",
       "  width: 50%;\n",
       "}\n",
       "\n",
       "#sk-container-id-1 div.sk-parallel-item:last-child::after {\n",
       "  align-self: flex-start;\n",
       "  width: 50%;\n",
       "}\n",
       "\n",
       "#sk-container-id-1 div.sk-parallel-item:only-child::after {\n",
       "  width: 0;\n",
       "}\n",
       "\n",
       "/* Serial-specific style estimator block */\n",
       "\n",
       "#sk-container-id-1 div.sk-serial {\n",
       "  display: flex;\n",
       "  flex-direction: column;\n",
       "  align-items: center;\n",
       "  background-color: var(--sklearn-color-background);\n",
       "  padding-right: 1em;\n",
       "  padding-left: 1em;\n",
       "}\n",
       "\n",
       "\n",
       "/* Toggleable style: style used for estimator/Pipeline/ColumnTransformer box that is\n",
       "clickable and can be expanded/collapsed.\n",
       "- Pipeline and ColumnTransformer use this feature and define the default style\n",
       "- Estimators will overwrite some part of the style using the `sk-estimator` class\n",
       "*/\n",
       "\n",
       "/* Pipeline and ColumnTransformer style (default) */\n",
       "\n",
       "#sk-container-id-1 div.sk-toggleable {\n",
       "  /* Default theme specific background. It is overwritten whether we have a\n",
       "  specific estimator or a Pipeline/ColumnTransformer */\n",
       "  background-color: var(--sklearn-color-background);\n",
       "}\n",
       "\n",
       "/* Toggleable label */\n",
       "#sk-container-id-1 label.sk-toggleable__label {\n",
       "  cursor: pointer;\n",
       "  display: block;\n",
       "  width: 100%;\n",
       "  margin-bottom: 0;\n",
       "  padding: 0.5em;\n",
       "  box-sizing: border-box;\n",
       "  text-align: center;\n",
       "}\n",
       "\n",
       "#sk-container-id-1 label.sk-toggleable__label-arrow:before {\n",
       "  /* Arrow on the left of the label */\n",
       "  content: \"▸\";\n",
       "  float: left;\n",
       "  margin-right: 0.25em;\n",
       "  color: var(--sklearn-color-icon);\n",
       "}\n",
       "\n",
       "#sk-container-id-1 label.sk-toggleable__label-arrow:hover:before {\n",
       "  color: var(--sklearn-color-text);\n",
       "}\n",
       "\n",
       "/* Toggleable content - dropdown */\n",
       "\n",
       "#sk-container-id-1 div.sk-toggleable__content {\n",
       "  max-height: 0;\n",
       "  max-width: 0;\n",
       "  overflow: hidden;\n",
       "  text-align: left;\n",
       "  /* unfitted */\n",
       "  background-color: var(--sklearn-color-unfitted-level-0);\n",
       "}\n",
       "\n",
       "#sk-container-id-1 div.sk-toggleable__content.fitted {\n",
       "  /* fitted */\n",
       "  background-color: var(--sklearn-color-fitted-level-0);\n",
       "}\n",
       "\n",
       "#sk-container-id-1 div.sk-toggleable__content pre {\n",
       "  margin: 0.2em;\n",
       "  border-radius: 0.25em;\n",
       "  color: var(--sklearn-color-text);\n",
       "  /* unfitted */\n",
       "  background-color: var(--sklearn-color-unfitted-level-0);\n",
       "}\n",
       "\n",
       "#sk-container-id-1 div.sk-toggleable__content.fitted pre {\n",
       "  /* unfitted */\n",
       "  background-color: var(--sklearn-color-fitted-level-0);\n",
       "}\n",
       "\n",
       "#sk-container-id-1 input.sk-toggleable__control:checked~div.sk-toggleable__content {\n",
       "  /* Expand drop-down */\n",
       "  max-height: 200px;\n",
       "  max-width: 100%;\n",
       "  overflow: auto;\n",
       "}\n",
       "\n",
       "#sk-container-id-1 input.sk-toggleable__control:checked~label.sk-toggleable__label-arrow:before {\n",
       "  content: \"▾\";\n",
       "}\n",
       "\n",
       "/* Pipeline/ColumnTransformer-specific style */\n",
       "\n",
       "#sk-container-id-1 div.sk-label input.sk-toggleable__control:checked~label.sk-toggleable__label {\n",
       "  color: var(--sklearn-color-text);\n",
       "  background-color: var(--sklearn-color-unfitted-level-2);\n",
       "}\n",
       "\n",
       "#sk-container-id-1 div.sk-label.fitted input.sk-toggleable__control:checked~label.sk-toggleable__label {\n",
       "  background-color: var(--sklearn-color-fitted-level-2);\n",
       "}\n",
       "\n",
       "/* Estimator-specific style */\n",
       "\n",
       "/* Colorize estimator box */\n",
       "#sk-container-id-1 div.sk-estimator input.sk-toggleable__control:checked~label.sk-toggleable__label {\n",
       "  /* unfitted */\n",
       "  background-color: var(--sklearn-color-unfitted-level-2);\n",
       "}\n",
       "\n",
       "#sk-container-id-1 div.sk-estimator.fitted input.sk-toggleable__control:checked~label.sk-toggleable__label {\n",
       "  /* fitted */\n",
       "  background-color: var(--sklearn-color-fitted-level-2);\n",
       "}\n",
       "\n",
       "#sk-container-id-1 div.sk-label label.sk-toggleable__label,\n",
       "#sk-container-id-1 div.sk-label label {\n",
       "  /* The background is the default theme color */\n",
       "  color: var(--sklearn-color-text-on-default-background);\n",
       "}\n",
       "\n",
       "/* On hover, darken the color of the background */\n",
       "#sk-container-id-1 div.sk-label:hover label.sk-toggleable__label {\n",
       "  color: var(--sklearn-color-text);\n",
       "  background-color: var(--sklearn-color-unfitted-level-2);\n",
       "}\n",
       "\n",
       "/* Label box, darken color on hover, fitted */\n",
       "#sk-container-id-1 div.sk-label.fitted:hover label.sk-toggleable__label.fitted {\n",
       "  color: var(--sklearn-color-text);\n",
       "  background-color: var(--sklearn-color-fitted-level-2);\n",
       "}\n",
       "\n",
       "/* Estimator label */\n",
       "\n",
       "#sk-container-id-1 div.sk-label label {\n",
       "  font-family: monospace;\n",
       "  font-weight: bold;\n",
       "  display: inline-block;\n",
       "  line-height: 1.2em;\n",
       "}\n",
       "\n",
       "#sk-container-id-1 div.sk-label-container {\n",
       "  text-align: center;\n",
       "}\n",
       "\n",
       "/* Estimator-specific */\n",
       "#sk-container-id-1 div.sk-estimator {\n",
       "  font-family: monospace;\n",
       "  border: 1px dotted var(--sklearn-color-border-box);\n",
       "  border-radius: 0.25em;\n",
       "  box-sizing: border-box;\n",
       "  margin-bottom: 0.5em;\n",
       "  /* unfitted */\n",
       "  background-color: var(--sklearn-color-unfitted-level-0);\n",
       "}\n",
       "\n",
       "#sk-container-id-1 div.sk-estimator.fitted {\n",
       "  /* fitted */\n",
       "  background-color: var(--sklearn-color-fitted-level-0);\n",
       "}\n",
       "\n",
       "/* on hover */\n",
       "#sk-container-id-1 div.sk-estimator:hover {\n",
       "  /* unfitted */\n",
       "  background-color: var(--sklearn-color-unfitted-level-2);\n",
       "}\n",
       "\n",
       "#sk-container-id-1 div.sk-estimator.fitted:hover {\n",
       "  /* fitted */\n",
       "  background-color: var(--sklearn-color-fitted-level-2);\n",
       "}\n",
       "\n",
       "/* Specification for estimator info (e.g. \"i\" and \"?\") */\n",
       "\n",
       "/* Common style for \"i\" and \"?\" */\n",
       "\n",
       ".sk-estimator-doc-link,\n",
       "a:link.sk-estimator-doc-link,\n",
       "a:visited.sk-estimator-doc-link {\n",
       "  float: right;\n",
       "  font-size: smaller;\n",
       "  line-height: 1em;\n",
       "  font-family: monospace;\n",
       "  background-color: var(--sklearn-color-background);\n",
       "  border-radius: 1em;\n",
       "  height: 1em;\n",
       "  width: 1em;\n",
       "  text-decoration: none !important;\n",
       "  margin-left: 1ex;\n",
       "  /* unfitted */\n",
       "  border: var(--sklearn-color-unfitted-level-1) 1pt solid;\n",
       "  color: var(--sklearn-color-unfitted-level-1);\n",
       "}\n",
       "\n",
       ".sk-estimator-doc-link.fitted,\n",
       "a:link.sk-estimator-doc-link.fitted,\n",
       "a:visited.sk-estimator-doc-link.fitted {\n",
       "  /* fitted */\n",
       "  border: var(--sklearn-color-fitted-level-1) 1pt solid;\n",
       "  color: var(--sklearn-color-fitted-level-1);\n",
       "}\n",
       "\n",
       "/* On hover */\n",
       "div.sk-estimator:hover .sk-estimator-doc-link:hover,\n",
       ".sk-estimator-doc-link:hover,\n",
       "div.sk-label-container:hover .sk-estimator-doc-link:hover,\n",
       ".sk-estimator-doc-link:hover {\n",
       "  /* unfitted */\n",
       "  background-color: var(--sklearn-color-unfitted-level-3);\n",
       "  color: var(--sklearn-color-background);\n",
       "  text-decoration: none;\n",
       "}\n",
       "\n",
       "div.sk-estimator.fitted:hover .sk-estimator-doc-link.fitted:hover,\n",
       ".sk-estimator-doc-link.fitted:hover,\n",
       "div.sk-label-container:hover .sk-estimator-doc-link.fitted:hover,\n",
       ".sk-estimator-doc-link.fitted:hover {\n",
       "  /* fitted */\n",
       "  background-color: var(--sklearn-color-fitted-level-3);\n",
       "  color: var(--sklearn-color-background);\n",
       "  text-decoration: none;\n",
       "}\n",
       "\n",
       "/* Span, style for the box shown on hovering the info icon */\n",
       ".sk-estimator-doc-link span {\n",
       "  display: none;\n",
       "  z-index: 9999;\n",
       "  position: relative;\n",
       "  font-weight: normal;\n",
       "  right: .2ex;\n",
       "  padding: .5ex;\n",
       "  margin: .5ex;\n",
       "  width: min-content;\n",
       "  min-width: 20ex;\n",
       "  max-width: 50ex;\n",
       "  color: var(--sklearn-color-text);\n",
       "  box-shadow: 2pt 2pt 4pt #999;\n",
       "  /* unfitted */\n",
       "  background: var(--sklearn-color-unfitted-level-0);\n",
       "  border: .5pt solid var(--sklearn-color-unfitted-level-3);\n",
       "}\n",
       "\n",
       ".sk-estimator-doc-link.fitted span {\n",
       "  /* fitted */\n",
       "  background: var(--sklearn-color-fitted-level-0);\n",
       "  border: var(--sklearn-color-fitted-level-3);\n",
       "}\n",
       "\n",
       ".sk-estimator-doc-link:hover span {\n",
       "  display: block;\n",
       "}\n",
       "\n",
       "/* \"?\"-specific style due to the `<a>` HTML tag */\n",
       "\n",
       "#sk-container-id-1 a.estimator_doc_link {\n",
       "  float: right;\n",
       "  font-size: 1rem;\n",
       "  line-height: 1em;\n",
       "  font-family: monospace;\n",
       "  background-color: var(--sklearn-color-background);\n",
       "  border-radius: 1rem;\n",
       "  height: 1rem;\n",
       "  width: 1rem;\n",
       "  text-decoration: none;\n",
       "  /* unfitted */\n",
       "  color: var(--sklearn-color-unfitted-level-1);\n",
       "  border: var(--sklearn-color-unfitted-level-1) 1pt solid;\n",
       "}\n",
       "\n",
       "#sk-container-id-1 a.estimator_doc_link.fitted {\n",
       "  /* fitted */\n",
       "  border: var(--sklearn-color-fitted-level-1) 1pt solid;\n",
       "  color: var(--sklearn-color-fitted-level-1);\n",
       "}\n",
       "\n",
       "/* On hover */\n",
       "#sk-container-id-1 a.estimator_doc_link:hover {\n",
       "  /* unfitted */\n",
       "  background-color: var(--sklearn-color-unfitted-level-3);\n",
       "  color: var(--sklearn-color-background);\n",
       "  text-decoration: none;\n",
       "}\n",
       "\n",
       "#sk-container-id-1 a.estimator_doc_link.fitted:hover {\n",
       "  /* fitted */\n",
       "  background-color: var(--sklearn-color-fitted-level-3);\n",
       "}\n",
       "</style><div id=\"sk-container-id-1\" class=\"sk-top-container\"><div class=\"sk-text-repr-fallback\"><pre>SVC(C=8.75, decision_function_shape=&#x27;ovo&#x27;, gamma=0.4, tol=0.483)</pre><b>In a Jupyter environment, please rerun this cell to show the HTML representation or trust the notebook. <br />On GitHub, the HTML representation is unable to render, please try loading this page with nbviewer.org.</b></div><div class=\"sk-container\" hidden><div class=\"sk-item\"><div class=\"sk-estimator fitted sk-toggleable\"><input class=\"sk-toggleable__control sk-hidden--visually\" id=\"sk-estimator-id-1\" type=\"checkbox\" checked><label for=\"sk-estimator-id-1\" class=\"sk-toggleable__label fitted sk-toggleable__label-arrow fitted\">&nbsp;&nbsp;SVC<a class=\"sk-estimator-doc-link fitted\" rel=\"noreferrer\" target=\"_blank\" href=\"https://scikit-learn.org/1.4/modules/generated/sklearn.svm.SVC.html\">?<span>Documentation for SVC</span></a><span class=\"sk-estimator-doc-link fitted\">i<span>Fitted</span></span></label><div class=\"sk-toggleable__content fitted\"><pre>SVC(C=8.75, decision_function_shape=&#x27;ovo&#x27;, gamma=0.4, tol=0.483)</pre></div> </div></div></div></div>"
      ],
      "text/plain": [
       "SVC(C=8.75, decision_function_shape='ovo', gamma=0.4, tol=0.483)"
      ]
     },
     "execution_count": 23,
     "metadata": {},
     "output_type": "execute_result"
    }
   ],
   "source": [
    "# train the model with random parameter\n",
    "from sklearn.svm import SVC\n",
    "\n",
    "model_SVC = SVC(\n",
    "        C=8.75,#Regularization parameter\n",
    "        kernel=\"rbf\", # maximum number of estimators at which boosting is terminated\n",
    "        gamma=0.4,\n",
    "        tol=0.483,\n",
    "        decision_function_shape='ovo',\n",
    "        \n",
    "     )\n",
    "\n",
    "model_SVC.fit(encoded_train, y_train)"
   ]
  },
  {
   "cell_type": "code",
   "execution_count": 24,
   "metadata": {},
   "outputs": [
    {
     "data": {
      "text/plain": [
       "0.7301255230125523"
      ]
     },
     "execution_count": 24,
     "metadata": {},
     "output_type": "execute_result"
    }
   ],
   "source": [
    "# Finding mean absolute error\n",
    "preds = model_SVC.predict(encoded_test)\n",
    "preds = preds.astype(int)\n",
    "mae = np.abs(y_test-preds).mean()\n",
    "mae"
   ]
  },
  {
   "cell_type": "code",
   "execution_count": 25,
   "metadata": {},
   "outputs": [],
   "source": [
    "# Defining the best parameter with optuna\n",
    "from sklearn.metrics import mean_absolute_error\n",
    "from sklearn.model_selection import StratifiedKFold\n",
    "K = 5 # stratified 5 fold cross validation, The folds are made by preserving the percentage of samples for each class.\n",
    "skf = StratifiedKFold(n_splits = K, random_state = 42, shuffle = True)\n",
    "\n",
    "train_tunned= np.array(encoded_X)\n",
    "target_train_tunned= np.array(y)\n",
    "\n",
    "oof_preds= np.zeros((len(train_tunned)))\n",
    "abs_error_arr=[]\n",
    "def objective_SVC(trial):\n",
    "\n",
    " for train_index, val_index in (skf.split(encoded_X,y)):\n",
    "    train_X, valid_X = train_tunned[train_index], train_tunned[val_index]\n",
    "    train_Y, valid_Y = target_train_tunned[train_index], target_train_tunned[val_index]\n",
    "    \n",
    "        \n",
    "        \n",
    "    param = {\n",
    "        'C':trial.suggest_float(\"C\",0,10), #For regularization    \n",
    "        'kernel':trial.suggest_categorical('kernel',[\"linear\", \"poly\", \"rbf\", \"sigmoid\"]),\n",
    "        'degree':trial.suggest_int('degree',1,10),\n",
    "        'gamma':trial.suggest_float('gamma',0,1),\n",
    "        # 'tol':trial.suggest_float('tol',0,5),\n",
    "        # 'coef0':trial.suggest_float('coed0',0,3),\n",
    "        'decision_function_shape':trial.suggest_categorical('decision_function_shape',['ovo','ovr']),\n",
    "        'random_state':trial.suggest_int('random_state',0,5),\n",
    "        }\n",
    "    model= SVC(**param)  \n",
    "        \n",
    "    model.fit(train_X,train_Y)\n",
    "        \n",
    "    preds = model.predict(valid_X)\n",
    "    oof_preds[val_index] = preds # preds gives total 3846 predicted value for valid_X\n",
    "\n",
    "      \n",
    " mae = mean_absolute_error(target_train_tunned, oof_preds)\n",
    "        \n",
    " return mae"
   ]
  },
  {
   "cell_type": "code",
   "execution_count": 26,
   "metadata": {},
   "outputs": [
    {
     "name": "stderr",
     "output_type": "stream",
     "text": [
      "c:\\Users\\USER\\AppData\\Local\\Programs\\Python\\Python311\\Lib\\site-packages\\tqdm\\auto.py:21: TqdmWarning: IProgress not found. Please update jupyter and ipywidgets. See https://ipywidgets.readthedocs.io/en/stable/user_install.html\n",
      "  from .autonotebook import tqdm as notebook_tqdm\n",
      "[I 2024-02-06 21:17:39,737] A new study created in memory with name: SVC_tunning\n"
     ]
    }
   ],
   "source": [
    "# this is the main optuna for optimizing a object-->\"objective\"\n",
    "import optuna\n",
    "\n",
    "study_SVC = optuna.create_study(direction='minimize',study_name=\"SVC_tunning\")"
   ]
  },
  {
   "cell_type": "code",
   "execution_count": 27,
   "metadata": {},
   "outputs": [
    {
     "name": "stderr",
     "output_type": "stream",
     "text": [
      "[I 2024-02-06 21:18:49,754] Trial 0 finished with value: 1.4850486244734515 and parameters: {'C': 2.221235489664277, 'kernel': 'sigmoid', 'degree': 4, 'gamma': 0.3979894246378155, 'decision_function_shape': 'ovr', 'random_state': 5}. Best is trial 0 with value: 1.4850486244734515.\n",
      "[I 2024-02-06 21:19:36,866] Trial 1 finished with value: 1.0612616360705185 and parameters: {'C': 4.254694079937726, 'kernel': 'linear', 'degree': 1, 'gamma': 0.2556866162422985, 'decision_function_shape': 'ovo', 'random_state': 0}. Best is trial 1 with value: 1.0612616360705185.\n",
      "[I 2024-02-06 21:20:37,620] Trial 2 finished with value: 0.8850694263872276 and parameters: {'C': 7.419478061172072, 'kernel': 'rbf', 'degree': 4, 'gamma': 0.4490570815336288, 'decision_function_shape': 'ovo', 'random_state': 1}. Best is trial 2 with value: 0.8850694263872276.\n",
      "[I 2024-02-06 21:21:39,597] Trial 3 finished with value: 0.8928701440532529 and parameters: {'C': 7.495812493486943, 'kernel': 'rbf', 'degree': 1, 'gamma': 0.3694877137897895, 'decision_function_shape': 'ovo', 'random_state': 4}. Best is trial 2 with value: 0.8850694263872276.\n",
      "[I 2024-02-06 21:23:01,173] Trial 4 finished with value: 1.125019501794165 and parameters: {'C': 4.0436774466270275, 'kernel': 'poly', 'degree': 8, 'gamma': 0.2773884768204705, 'decision_function_shape': 'ovo', 'random_state': 3}. Best is trial 2 with value: 0.8850694263872276.\n",
      "[I 2024-02-06 21:23:55,440] Trial 5 finished with value: 1.661760882001144 and parameters: {'C': 9.106586936286705, 'kernel': 'sigmoid', 'degree': 8, 'gamma': 0.4721496994291754, 'decision_function_shape': 'ovr', 'random_state': 1}. Best is trial 2 with value: 0.8850694263872276.\n",
      "[I 2024-02-06 21:24:42,595] Trial 6 finished with value: 1.0597534973217535 and parameters: {'C': 0.5501877900129193, 'kernel': 'linear', 'degree': 9, 'gamma': 0.9010759047471769, 'decision_function_shape': 'ovr', 'random_state': 3}. Best is trial 2 with value: 0.8850694263872276.\n",
      "[I 2024-02-06 21:25:35,985] Trial 7 finished with value: 0.8561027614540537 and parameters: {'C': 5.481776517608422, 'kernel': 'rbf', 'degree': 5, 'gamma': 0.7100567257390465, 'decision_function_shape': 'ovo', 'random_state': 5}. Best is trial 7 with value: 0.8561027614540537.\n",
      "[I 2024-02-06 21:27:33,893] Trial 8 finished with value: 0.54631026054397 and parameters: {'C': 7.58936837701599, 'kernel': 'poly', 'degree': 7, 'gamma': 0.928441476289657, 'decision_function_shape': 'ovo', 'random_state': 2}. Best is trial 8 with value: 0.54631026054397.\n",
      "[I 2024-02-06 21:29:09,250] Trial 9 finished with value: 1.297883405273285 and parameters: {'C': 0.5856350836166313, 'kernel': 'poly', 'degree': 2, 'gamma': 0.07559681792169493, 'decision_function_shape': 'ovo', 'random_state': 3}. Best is trial 8 with value: 0.54631026054397.\n"
     ]
    },
    {
     "name": "stdout",
     "output_type": "stream",
     "text": [
      "Number of finished trials: 10\n",
      "Best trial: {'C': 7.58936837701599, 'kernel': 'poly', 'degree': 7, 'gamma': 0.928441476289657, 'decision_function_shape': 'ovo', 'random_state': 2}\n"
     ]
    }
   ],
   "source": [
    "\n",
    "study_SVC.optimize(objective_SVC, n_trials=10) \n",
    "print('Number of finished trials:', len(study_SVC.trials))\n",
    "print('Best trial:', study_SVC.best_trial.params)"
   ]
  },
  {
   "cell_type": "code",
   "execution_count": 41,
   "metadata": {},
   "outputs": [],
   "source": [
    "fig_study = optuna.visualization.plot_parallel_coordinate(study_SVC, params=[\"C\", \"kernel\",\"degree\",\"gamma\",\"decision_function_shape\",\"random_state\"])\n"
   ]
  },
  {
   "cell_type": "code",
   "execution_count": 28,
   "metadata": {},
   "outputs": [
    {
     "name": "stdout",
     "output_type": "stream",
     "text": [
      "Number of finished trials:  10\n",
      "Best trial:\n",
      "  Value:  0.54631026054397\n",
      "  Params: \n",
      "    C: 7.58936837701599\n",
      "    kernel: poly\n",
      "    degree: 7\n",
      "    gamma: 0.928441476289657\n",
      "    decision_function_shape: ovo\n",
      "    random_state: 2\n"
     ]
    }
   ],
   "source": [
    "#evaluate the trial\n",
    "print(\"Number of finished trials: \", len(study_SVC.trials))\n",
    "print(\"Best trial:\")\n",
    "trial = study_SVC.best_trial\n",
    "print(\"  Value: \", trial.value)\n",
    "print(\"  Params: \")\n",
    "for key, value in trial.params.items():\n",
    "    print(\"    {}: {}\".format(key, value))"
   ]
  },
  {
   "cell_type": "markdown",
   "metadata": {},
   "source": [
    "# fit the SVM model"
   ]
  },
  {
   "cell_type": "code",
   "execution_count": 29,
   "metadata": {},
   "outputs": [
    {
     "name": "stderr",
     "output_type": "stream",
     "text": [
      "100%|██████████| 5/5 [01:23<00:00, 16.65s/it]"
     ]
    },
    {
     "name": "stdout",
     "output_type": "stream",
     "text": [
      "0.46750080205325634\n"
     ]
    },
    {
     "name": "stderr",
     "output_type": "stream",
     "text": [
      "\n"
     ]
    }
   ],
   "source": [
    "# Let us make predictions for each of the 5 models and find mean \n",
    "# of those predictions\n",
    "\n",
    "from tqdm import tqdm\n",
    "train_SVC = np.array(encoded_train)\n",
    "target_train_SVC = np.array(y_train)\n",
    "\n",
    "test_SVC = np.array(encoded_test) # or test_Ada = np.array(X)\n",
    "\n",
    "\n",
    "test_preds_SVC = np.zeros((len(test_SVC)))\n",
    "oof_preds_SVC = np.zeros((len(train_SVC)))\n",
    "\n",
    "for train_index, val_index in tqdm(skf.split(encoded_train,y_train), total=5):\n",
    "    train_X, valid_X = train_SVC[train_index], train_SVC[val_index]\n",
    "    train_y, valid_y = target_train_SVC[train_index], target_train_SVC[val_index]\n",
    "    svc_params = study_SVC.best_trial.params\n",
    "    model_SVC_2 = SVC(**svc_params)\n",
    "    model_SVC_2.fit(train_X, train_y)\n",
    "    # for train accuracy\n",
    "    preds = model_SVC_2.predict(valid_X)\n",
    "    oof_preds_SVC[val_index] = preds\n",
    "    # for test accuracy\n",
    "    preds = model_SVC_2.predict(test_SVC)\n",
    "    test_preds_SVC += (preds)/5\n",
    "print(np.abs(oof_preds_SVC-target_train_SVC).mean())"
   ]
  },
  {
   "cell_type": "code",
   "execution_count": 30,
   "metadata": {},
   "outputs": [
    {
     "name": "stdout",
     "output_type": "stream",
     "text": [
      "0.7447698744769874\n"
     ]
    }
   ],
   "source": [
    "from sklearn.metrics import accuracy_score\n",
    "# valid_Acc_SVC=accuracy_score(target_train,oof_preds)\n",
    "# print(valid_Acc_SVC)\n",
    "target_test=np.array(y_test)\n",
    "# another technique for calculate test accuracy\n",
    "test_Acc_SVC=accuracy_score(target_test,test_preds_SVC.round())\n",
    "print(test_Acc_SVC)"
   ]
  },
  {
   "cell_type": "code",
   "execution_count": 31,
   "metadata": {},
   "outputs": [
    {
     "name": "stdout",
     "output_type": "stream",
     "text": [
      "0.7700994546037857\n"
     ]
    }
   ],
   "source": [
    "#validation accuracy\n",
    "valid_Acc=accuracy_score(target_train_SVC,oof_preds_SVC)\n",
    "print(valid_Acc)"
   ]
  },
  {
   "cell_type": "code",
   "execution_count": 32,
   "metadata": {},
   "outputs": [
    {
     "name": "stderr",
     "output_type": "stream",
     "text": [
      "c:\\Users\\USER\\AppData\\Local\\Programs\\Python\\Python311\\Lib\\site-packages\\sklearn\\base.py:486: UserWarning: X has feature names, but SVC was fitted without feature names\n",
      "  warnings.warn(\n"
     ]
    },
    {
     "name": "stdout",
     "output_type": "stream",
     "text": [
      "0.8062239332691691\n"
     ]
    }
   ],
   "source": [
    "# train accuracy\n",
    "train_Acc=model_SVC_2.score(encoded_train,y_train)\n",
    "print(train_Acc)"
   ]
  },
  {
   "cell_type": "code",
   "execution_count": 33,
   "metadata": {},
   "outputs": [
    {
     "name": "stderr",
     "output_type": "stream",
     "text": [
      "c:\\Users\\USER\\AppData\\Local\\Programs\\Python\\Python311\\Lib\\site-packages\\sklearn\\base.py:486: UserWarning: X has feature names, but SVC was fitted without feature names\n",
      "  warnings.warn(\n"
     ]
    },
    {
     "name": "stdout",
     "output_type": "stream",
     "text": [
      "0.7667364016736402\n"
     ]
    }
   ],
   "source": [
    "# test_accuracy\n",
    "test_Acc=model_SVC_2.score(encoded_test,y_test)\n",
    "print(test_Acc)"
   ]
  },
  {
   "cell_type": "markdown",
   "metadata": {},
   "source": [
    "# Evaluation"
   ]
  },
  {
   "cell_type": "code",
   "execution_count": 34,
   "metadata": {},
   "outputs": [
    {
     "data": {
      "image/png": "[encoded data removed]",
      "text/plain": [
       "<Figure size 640x480 with 2 Axes>"
      ]
     },
     "metadata": {},
     "output_type": "display_data"
    }
   ],
   "source": [
    "############# plot confusion matrix ############\n",
    "\n",
    "from matplotlib import pyplot as plt\n",
    "from sklearn import metrics\n",
    "\n",
    "cm = metrics.confusion_matrix(y_test, test_preds_SVC.round())\n",
    "disp = metrics.ConfusionMatrixDisplay(confusion_matrix=cm)\n",
    "disp.plot()\n",
    "\n",
    "plt.show()\n",
    "# plt.imshow(cm, interpolation='nearest', cmap=plt.cm.pink)\n"
   ]
  },
  {
   "cell_type": "code",
   "execution_count": 35,
   "metadata": {},
   "outputs": [
    {
     "data": {
      "image/png": "[encoded data removed]",
      "text/plain": [
       "<Figure size 800x600 with 2 Axes>"
      ]
     },
     "metadata": {},
     "output_type": "display_data"
    }
   ],
   "source": [
    "# Plot confusion matrix with custom color map\n",
    "\n",
    "plt.figure(figsize=(8, 6))\n",
    "plt.imshow(cm, interpolation='nearest', cmap=plt.cm.PuRd)  # Set cmap to custom color map\n",
    "plt.title('Confusion Matrix')\n",
    "plt.colorbar()\n",
    "\n",
    "# Adding ticks and labels\n",
    "# tick_marks = np.arange(len(cm))\n",
    "# plt.xticks(tick_marks, ['Class 0', 'Class 1', 'Class 2','Class 3','Class 4','class 5','class 6'])\n",
    "# plt.yticks(tick_marks, ['Class 0', 'Class 1', 'Class 2'])\n",
    "\n",
    "# Adding annotations\n",
    "thresh = cm.max() / 2.\n",
    "for i in range(cm.shape[0]):\n",
    "    for j in range(cm.shape[1]):\n",
    "        plt.text(j, i, format(cm[i, j], 'd'), #'d = integer\n",
    "                 horizontalalignment=\"center\",\n",
    "                 color=\"white\" if cm[i, j] > thresh else \"black\")\n",
    "\n",
    "plt.ylabel('True label')\n",
    "plt.xlabel('Predicted label')\n",
    "plt.tight_layout() #improves the layout of plots by preventing overlapping elements such as axis labels, tick labels, and titles\n",
    "plt.show()"
   ]
  }
 ],
 "metadata": {
  "kernelspec": {
   "display_name": "Python 3",
   "language": "python",
   "name": "python3"
  },
  "language_info": {
   "codemirror_mode": {
    "name": "ipython",
    "version": 3
   },
   "file_extension": ".py",
   "mimetype": "text/x-python",
   "name": "python",
   "nbconvert_exporter": "python",
   "pygments_lexer": "ipython3",
   "version": "3.11.4"
  }
 },
 "nbformat": 4,
 "nbformat_minor": 2
}
