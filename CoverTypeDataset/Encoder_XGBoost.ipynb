{
 "cells": [
  {
   "cell_type": "code",
   "execution_count": 1,
   "metadata": {},
   "outputs": [],
   "source": [
    "import os\n",
    "import numpy as np # linear algebra\n",
    "import pandas as pd # data processing, CSV file I/O (e.g. pd.read_csv)\n",
    "\n",
    "from numpy.random import seed\n",
    "from sklearn.preprocessing import minmax_scale\n",
    "from sklearn.model_selection import train_test_split\n",
    "from keras.layers import Input, Dense\n",
    "from keras.models import Model"
   ]
  },
  {
   "cell_type": "code",
   "execution_count": 9,
   "metadata": {},
   "outputs": [],
   "source": [
    "import warnings\n",
    "warnings.filterwarnings(\"ignore\")\n",
    "from sklearn.metrics import mean_absolute_error"
   ]
  },
  {
   "cell_type": "code",
   "execution_count": 2,
   "metadata": {},
   "outputs": [],
   "source": [
    "import pandas as pd\n",
    "def getData(filename):\n",
    "    chunksize = 1200000\n",
    "    flag =1\n",
    "    for data in pd.read_csv(filename, sep=\",\", chunksize=chunksize):\n",
    "        while flag<2 and chunksize < 1200000:\n",
    "            print(data)\n",
    "        flag+=1\n",
    "    print(data.head())\n",
    "    print(list(data.columns.values))\n",
    "    print(type(data))\n",
    "    \n",
    "    return data"
   ]
  },
  {
   "cell_type": "code",
   "execution_count": 3,
   "metadata": {},
   "outputs": [
    {
     "name": "stdout",
     "output_type": "stream",
     "text": [
      "   Elevation    Aspect     Slope  Horizontal_Distance_To_Hydrology  \\\n",
      "0   0.850622  0.105556  0.150943                          0.045351   \n",
      "1   0.879149  0.163889  0.188679                          0.426304   \n",
      "2   0.767116  0.327778  0.320755                          0.068027   \n",
      "3   0.791494  0.338889  0.226415                          0.294785   \n",
      "4   0.867220  0.575000  0.584906                          0.385488   \n",
      "\n",
      "   Vertical_Distance_To_Hydrology  Horizontal_Distance_To_Roadways  \\\n",
      "0                       -0.003509                         0.631060   \n",
      "1                        0.189474                         0.177358   \n",
      "2                        0.038596                         0.259652   \n",
      "3                       -0.077193                         0.085486   \n",
      "4                        0.314035                         0.074020   \n",
      "\n",
      "   Hillshade_9am  Hillshade_Noon  Hillshade_3pm  \\\n",
      "0       0.866142        0.874016          0.548   \n",
      "1       0.897638        0.866142          0.500   \n",
      "2       0.968504        0.877953          0.400   \n",
      "3       0.944882        0.909449          0.476   \n",
      "4       0.724409        0.984252          0.728   \n",
      "\n",
      "   Horizontal_Distance_To_Fire_Points  ...  Soil_Type32  Soil_Type33  \\\n",
      "0                            0.512105  ...            0            0   \n",
      "1                            0.388636  ...            1            0   \n",
      "2                            0.387924  ...            0            0   \n",
      "3                            0.198804  ...            0            0   \n",
      "4                            0.141982  ...            0            0   \n",
      "\n",
      "   Soil_Type34  Soil_Type35  Soil_Type36  Soil_Type37  Soil_Type38  \\\n",
      "0            0            0            0            0            0   \n",
      "1            0            0            0            0            0   \n",
      "2            0            0            0            0            0   \n",
      "3            0            0            0            0            0   \n",
      "4            0            0            0            0            0   \n",
      "\n",
      "   Soil_Type39  Soil_Type40  Cover_Type  \n",
      "0            0            0           1  \n",
      "1            0            0           1  \n",
      "2            0            0           1  \n",
      "3            0            0           1  \n",
      "4            0            0           1  \n",
      "\n",
      "[5 rows x 55 columns]\n",
      "['Elevation', 'Aspect', 'Slope', 'Horizontal_Distance_To_Hydrology', 'Vertical_Distance_To_Hydrology', 'Horizontal_Distance_To_Roadways', 'Hillshade_9am', 'Hillshade_Noon', 'Hillshade_3pm', 'Horizontal_Distance_To_Fire_Points', 'Wilderness_Area1', 'Wilderness_Area2', 'Wilderness_Area3', 'Wilderness_Area4', 'Soil_Type1', 'Soil_Type2', 'Soil_Type3', 'Soil_Type4', 'Soil_Type5', 'Soil_Type6', 'Soil_Type7', 'Soil_Type8', 'Soil_Type9', 'Soil_Type10', 'Soil_Type11', 'Soil_Type12', 'Soil_Type13', 'Soil_Type14', 'Soil_Type15', 'Soil_Type16', 'Soil_Type17', 'Soil_Type18', 'Soil_Type19', 'Soil_Type20', 'Soil_Type21', 'Soil_Type22', 'Soil_Type23', 'Soil_Type24', 'Soil_Type25', 'Soil_Type26', 'Soil_Type27', 'Soil_Type28', 'Soil_Type29', 'Soil_Type30', 'Soil_Type31', 'Soil_Type32', 'Soil_Type33', 'Soil_Type34', 'Soil_Type35', 'Soil_Type36', 'Soil_Type37', 'Soil_Type38', 'Soil_Type39', 'Soil_Type40', 'Cover_Type']\n",
      "<class 'pandas.core.frame.DataFrame'>\n"
     ]
    }
   ],
   "source": [
    "import random\n",
    "filename = '../shot_listed_dataset/CoverTypeNewNormalized.csv'\n",
    "dataset=getData(filename).values.tolist()\n",
    "random.shuffle(dataset)\n",
    "dataset=pd.DataFrame(dataset) #from dataset_list to dataset_dataframe after suffling\n",
    "# print(dataset)"
   ]
  },
  {
   "cell_type": "code",
   "execution_count": 4,
   "metadata": {},
   "outputs": [],
   "source": [
    "X=dataset.iloc[:,0:-1]\n",
    "y=dataset.iloc[:,-1]"
   ]
  },
  {
   "cell_type": "code",
   "execution_count": 5,
   "metadata": {},
   "outputs": [],
   "source": [
    "def split_data(data):\n",
    "    # splitting the data\n",
    "    \n",
    "    msk = np.random.rand(len(data)) < 0.9\n",
    "    yy = [54] #test title is 54 after suffleing the dataframe \n",
    "    train = data[msk]\n",
    "    test = data[~msk]\n",
    "    x_train = train[train.columns[:train.shape[1] - 1]]  # all columns except the last are x variables\n",
    "    y_train = train[yy[0]].tolist()  # the last column as y variable\n",
    "    x_test = test[test.columns[:test.shape[1] - 1]]\n",
    "    y_test = test[yy[0]].tolist()  # the last column as y variable\n",
    "    y_train = [0 if i == 7 else i for i in y_train]  # replace label 7 with 0\n",
    "    y_test = [0 if i == 7 else i for i in y_test]  # replace label 7 with 0\n",
    "    return x_train, y_train, x_test, y_test"
   ]
  },
  {
   "cell_type": "code",
   "execution_count": 6,
   "metadata": {},
   "outputs": [],
   "source": [
    "X_train, y_train, X_test, y_test = split_data(dataset)"
   ]
  },
  {
   "cell_type": "markdown",
   "metadata": {},
   "source": [
    "# Call the Encoder pkl file"
   ]
  },
  {
   "cell_type": "code",
   "execution_count": 7,
   "metadata": {},
   "outputs": [
    {
     "data": {
      "text/plain": [
       "<keras.src.engine.functional.Functional at 0x1a859b3f210>"
      ]
     },
     "execution_count": 7,
     "metadata": {},
     "output_type": "execute_result"
    }
   ],
   "source": [
    "import pickle\n",
    "\n",
    "# Load the encoder model from the saved file\n",
    "with open(\"Encoder.pkl\", \"rb\") as file: #\"rb\"= read mode\n",
    "    encoder = pickle.load(file)\n",
    "\n",
    "encoder\n"
   ]
  },
  {
   "cell_type": "code",
   "execution_count": 8,
   "metadata": {},
   "outputs": [
    {
     "name": "stdout",
     "output_type": "stream",
     "text": [
      "601/601 [==============================] - 1s 1ms/step\n",
      "542/542 [==============================] - 1s 2ms/step\n",
      "60/60 [==============================] - 0s 1ms/step\n"
     ]
    }
   ],
   "source": [
    "encoded_X = pd.DataFrame(encoder.predict(X))\n",
    "encoded_X = encoded_X.add_prefix('feature_')\n",
    "\n",
    "encoded_X_train = pd.DataFrame(encoder.predict(X_train))\n",
    "encoded_X_train = encoded_X_train.add_prefix('feature_')\n",
    "\n",
    "encoded_X_test = pd.DataFrame(encoder.predict(X_test))\n",
    "encoded_X_test = encoded_X_test.add_prefix('feature_')\n",
    "\n"
   ]
  },
  {
   "cell_type": "markdown",
   "metadata": {},
   "source": [
    "# tune the Encoder file"
   ]
  },
  {
   "cell_type": "code",
   "execution_count": 10,
   "metadata": {},
   "outputs": [
    {
     "data": {
      "text/html": [
       "<style>#sk-container-id-1 {\n",
       "  /* Definition of color scheme common for light and dark mode */\n",
       "  --sklearn-color-text: black;\n",
       "  --sklearn-color-line: gray;\n",
       "  /* Definition of color scheme for unfitted estimators */\n",
       "  --sklearn-color-unfitted-level-0: #fff5e6;\n",
       "  --sklearn-color-unfitted-level-1: #f6e4d2;\n",
       "  --sklearn-color-unfitted-level-2: #ffe0b3;\n",
       "  --sklearn-color-unfitted-level-3: chocolate;\n",
       "  /* Definition of color scheme for fitted estimators */\n",
       "  --sklearn-color-fitted-level-0: #f0f8ff;\n",
       "  --sklearn-color-fitted-level-1: #d4ebff;\n",
       "  --sklearn-color-fitted-level-2: #b3dbfd;\n",
       "  --sklearn-color-fitted-level-3: cornflowerblue;\n",
       "\n",
       "  /* Specific color for light theme */\n",
       "  --sklearn-color-text-on-default-background: var(--sg-text-color, var(--theme-code-foreground, var(--jp-content-font-color1, black)));\n",
       "  --sklearn-color-background: var(--sg-background-color, var(--theme-background, var(--jp-layout-color0, white)));\n",
       "  --sklearn-color-border-box: var(--sg-text-color, var(--theme-code-foreground, var(--jp-content-font-color1, black)));\n",
       "  --sklearn-color-icon: #696969;\n",
       "\n",
       "  @media (prefers-color-scheme: dark) {\n",
       "    /* Redefinition of color scheme for dark theme */\n",
       "    --sklearn-color-text-on-default-background: var(--sg-text-color, var(--theme-code-foreground, var(--jp-content-font-color1, white)));\n",
       "    --sklearn-color-background: var(--sg-background-color, var(--theme-background, var(--jp-layout-color0, #111)));\n",
       "    --sklearn-color-border-box: var(--sg-text-color, var(--theme-code-foreground, var(--jp-content-font-color1, white)));\n",
       "    --sklearn-color-icon: #878787;\n",
       "  }\n",
       "}\n",
       "\n",
       "#sk-container-id-1 {\n",
       "  color: var(--sklearn-color-text);\n",
       "}\n",
       "\n",
       "#sk-container-id-1 pre {\n",
       "  padding: 0;\n",
       "}\n",
       "\n",
       "#sk-container-id-1 input.sk-hidden--visually {\n",
       "  border: 0;\n",
       "  clip: rect(1px 1px 1px 1px);\n",
       "  clip: rect(1px, 1px, 1px, 1px);\n",
       "  height: 1px;\n",
       "  margin: -1px;\n",
       "  overflow: hidden;\n",
       "  padding: 0;\n",
       "  position: absolute;\n",
       "  width: 1px;\n",
       "}\n",
       "\n",
       "#sk-container-id-1 div.sk-dashed-wrapped {\n",
       "  border: 1px dashed var(--sklearn-color-line);\n",
       "  margin: 0 0.4em 0.5em 0.4em;\n",
       "  box-sizing: border-box;\n",
       "  padding-bottom: 0.4em;\n",
       "  background-color: var(--sklearn-color-background);\n",
       "}\n",
       "\n",
       "#sk-container-id-1 div.sk-container {\n",
       "  /* jupyter's `normalize.less` sets `[hidden] { display: none; }`\n",
       "     but bootstrap.min.css set `[hidden] { display: none !important; }`\n",
       "     so we also need the `!important` here to be able to override the\n",
       "     default hidden behavior on the sphinx rendered scikit-learn.org.\n",
       "     See: https://github.com/scikit-learn/scikit-learn/issues/21755 */\n",
       "  display: inline-block !important;\n",
       "  position: relative;\n",
       "}\n",
       "\n",
       "#sk-container-id-1 div.sk-text-repr-fallback {\n",
       "  display: none;\n",
       "}\n",
       "\n",
       "div.sk-parallel-item,\n",
       "div.sk-serial,\n",
       "div.sk-item {\n",
       "  /* draw centered vertical line to link estimators */\n",
       "  background-image: linear-gradient(var(--sklearn-color-text-on-default-background), var(--sklearn-color-text-on-default-background));\n",
       "  background-size: 2px 100%;\n",
       "  background-repeat: no-repeat;\n",
       "  background-position: center center;\n",
       "}\n",
       "\n",
       "/* Parallel-specific style estimator block */\n",
       "\n",
       "#sk-container-id-1 div.sk-parallel-item::after {\n",
       "  content: \"\";\n",
       "  width: 100%;\n",
       "  border-bottom: 2px solid var(--sklearn-color-text-on-default-background);\n",
       "  flex-grow: 1;\n",
       "}\n",
       "\n",
       "#sk-container-id-1 div.sk-parallel {\n",
       "  display: flex;\n",
       "  align-items: stretch;\n",
       "  justify-content: center;\n",
       "  background-color: var(--sklearn-color-background);\n",
       "  position: relative;\n",
       "}\n",
       "\n",
       "#sk-container-id-1 div.sk-parallel-item {\n",
       "  display: flex;\n",
       "  flex-direction: column;\n",
       "}\n",
       "\n",
       "#sk-container-id-1 div.sk-parallel-item:first-child::after {\n",
       "  align-self: flex-end;\n",
       "  width: 50%;\n",
       "}\n",
       "\n",
       "#sk-container-id-1 div.sk-parallel-item:last-child::after {\n",
       "  align-self: flex-start;\n",
       "  width: 50%;\n",
       "}\n",
       "\n",
       "#sk-container-id-1 div.sk-parallel-item:only-child::after {\n",
       "  width: 0;\n",
       "}\n",
       "\n",
       "/* Serial-specific style estimator block */\n",
       "\n",
       "#sk-container-id-1 div.sk-serial {\n",
       "  display: flex;\n",
       "  flex-direction: column;\n",
       "  align-items: center;\n",
       "  background-color: var(--sklearn-color-background);\n",
       "  padding-right: 1em;\n",
       "  padding-left: 1em;\n",
       "}\n",
       "\n",
       "\n",
       "/* Toggleable style: style used for estimator/Pipeline/ColumnTransformer box that is\n",
       "clickable and can be expanded/collapsed.\n",
       "- Pipeline and ColumnTransformer use this feature and define the default style\n",
       "- Estimators will overwrite some part of the style using the `sk-estimator` class\n",
       "*/\n",
       "\n",
       "/* Pipeline and ColumnTransformer style (default) */\n",
       "\n",
       "#sk-container-id-1 div.sk-toggleable {\n",
       "  /* Default theme specific background. It is overwritten whether we have a\n",
       "  specific estimator or a Pipeline/ColumnTransformer */\n",
       "  background-color: var(--sklearn-color-background);\n",
       "}\n",
       "\n",
       "/* Toggleable label */\n",
       "#sk-container-id-1 label.sk-toggleable__label {\n",
       "  cursor: pointer;\n",
       "  display: block;\n",
       "  width: 100%;\n",
       "  margin-bottom: 0;\n",
       "  padding: 0.5em;\n",
       "  box-sizing: border-box;\n",
       "  text-align: center;\n",
       "}\n",
       "\n",
       "#sk-container-id-1 label.sk-toggleable__label-arrow:before {\n",
       "  /* Arrow on the left of the label */\n",
       "  content: \"▸\";\n",
       "  float: left;\n",
       "  margin-right: 0.25em;\n",
       "  color: var(--sklearn-color-icon);\n",
       "}\n",
       "\n",
       "#sk-container-id-1 label.sk-toggleable__label-arrow:hover:before {\n",
       "  color: var(--sklearn-color-text);\n",
       "}\n",
       "\n",
       "/* Toggleable content - dropdown */\n",
       "\n",
       "#sk-container-id-1 div.sk-toggleable__content {\n",
       "  max-height: 0;\n",
       "  max-width: 0;\n",
       "  overflow: hidden;\n",
       "  text-align: left;\n",
       "  /* unfitted */\n",
       "  background-color: var(--sklearn-color-unfitted-level-0);\n",
       "}\n",
       "\n",
       "#sk-container-id-1 div.sk-toggleable__content.fitted {\n",
       "  /* fitted */\n",
       "  background-color: var(--sklearn-color-fitted-level-0);\n",
       "}\n",
       "\n",
       "#sk-container-id-1 div.sk-toggleable__content pre {\n",
       "  margin: 0.2em;\n",
       "  border-radius: 0.25em;\n",
       "  color: var(--sklearn-color-text);\n",
       "  /* unfitted */\n",
       "  background-color: var(--sklearn-color-unfitted-level-0);\n",
       "}\n",
       "\n",
       "#sk-container-id-1 div.sk-toggleable__content.fitted pre {\n",
       "  /* unfitted */\n",
       "  background-color: var(--sklearn-color-fitted-level-0);\n",
       "}\n",
       "\n",
       "#sk-container-id-1 input.sk-toggleable__control:checked~div.sk-toggleable__content {\n",
       "  /* Expand drop-down */\n",
       "  max-height: 200px;\n",
       "  max-width: 100%;\n",
       "  overflow: auto;\n",
       "}\n",
       "\n",
       "#sk-container-id-1 input.sk-toggleable__control:checked~label.sk-toggleable__label-arrow:before {\n",
       "  content: \"▾\";\n",
       "}\n",
       "\n",
       "/* Pipeline/ColumnTransformer-specific style */\n",
       "\n",
       "#sk-container-id-1 div.sk-label input.sk-toggleable__control:checked~label.sk-toggleable__label {\n",
       "  color: var(--sklearn-color-text);\n",
       "  background-color: var(--sklearn-color-unfitted-level-2);\n",
       "}\n",
       "\n",
       "#sk-container-id-1 div.sk-label.fitted input.sk-toggleable__control:checked~label.sk-toggleable__label {\n",
       "  background-color: var(--sklearn-color-fitted-level-2);\n",
       "}\n",
       "\n",
       "/* Estimator-specific style */\n",
       "\n",
       "/* Colorize estimator box */\n",
       "#sk-container-id-1 div.sk-estimator input.sk-toggleable__control:checked~label.sk-toggleable__label {\n",
       "  /* unfitted */\n",
       "  background-color: var(--sklearn-color-unfitted-level-2);\n",
       "}\n",
       "\n",
       "#sk-container-id-1 div.sk-estimator.fitted input.sk-toggleable__control:checked~label.sk-toggleable__label {\n",
       "  /* fitted */\n",
       "  background-color: var(--sklearn-color-fitted-level-2);\n",
       "}\n",
       "\n",
       "#sk-container-id-1 div.sk-label label.sk-toggleable__label,\n",
       "#sk-container-id-1 div.sk-label label {\n",
       "  /* The background is the default theme color */\n",
       "  color: var(--sklearn-color-text-on-default-background);\n",
       "}\n",
       "\n",
       "/* On hover, darken the color of the background */\n",
       "#sk-container-id-1 div.sk-label:hover label.sk-toggleable__label {\n",
       "  color: var(--sklearn-color-text);\n",
       "  background-color: var(--sklearn-color-unfitted-level-2);\n",
       "}\n",
       "\n",
       "/* Label box, darken color on hover, fitted */\n",
       "#sk-container-id-1 div.sk-label.fitted:hover label.sk-toggleable__label.fitted {\n",
       "  color: var(--sklearn-color-text);\n",
       "  background-color: var(--sklearn-color-fitted-level-2);\n",
       "}\n",
       "\n",
       "/* Estimator label */\n",
       "\n",
       "#sk-container-id-1 div.sk-label label {\n",
       "  font-family: monospace;\n",
       "  font-weight: bold;\n",
       "  display: inline-block;\n",
       "  line-height: 1.2em;\n",
       "}\n",
       "\n",
       "#sk-container-id-1 div.sk-label-container {\n",
       "  text-align: center;\n",
       "}\n",
       "\n",
       "/* Estimator-specific */\n",
       "#sk-container-id-1 div.sk-estimator {\n",
       "  font-family: monospace;\n",
       "  border: 1px dotted var(--sklearn-color-border-box);\n",
       "  border-radius: 0.25em;\n",
       "  box-sizing: border-box;\n",
       "  margin-bottom: 0.5em;\n",
       "  /* unfitted */\n",
       "  background-color: var(--sklearn-color-unfitted-level-0);\n",
       "}\n",
       "\n",
       "#sk-container-id-1 div.sk-estimator.fitted {\n",
       "  /* fitted */\n",
       "  background-color: var(--sklearn-color-fitted-level-0);\n",
       "}\n",
       "\n",
       "/* on hover */\n",
       "#sk-container-id-1 div.sk-estimator:hover {\n",
       "  /* unfitted */\n",
       "  background-color: var(--sklearn-color-unfitted-level-2);\n",
       "}\n",
       "\n",
       "#sk-container-id-1 div.sk-estimator.fitted:hover {\n",
       "  /* fitted */\n",
       "  background-color: var(--sklearn-color-fitted-level-2);\n",
       "}\n",
       "\n",
       "/* Specification for estimator info (e.g. \"i\" and \"?\") */\n",
       "\n",
       "/* Common style for \"i\" and \"?\" */\n",
       "\n",
       ".sk-estimator-doc-link,\n",
       "a:link.sk-estimator-doc-link,\n",
       "a:visited.sk-estimator-doc-link {\n",
       "  float: right;\n",
       "  font-size: smaller;\n",
       "  line-height: 1em;\n",
       "  font-family: monospace;\n",
       "  background-color: var(--sklearn-color-background);\n",
       "  border-radius: 1em;\n",
       "  height: 1em;\n",
       "  width: 1em;\n",
       "  text-decoration: none !important;\n",
       "  margin-left: 1ex;\n",
       "  /* unfitted */\n",
       "  border: var(--sklearn-color-unfitted-level-1) 1pt solid;\n",
       "  color: var(--sklearn-color-unfitted-level-1);\n",
       "}\n",
       "\n",
       ".sk-estimator-doc-link.fitted,\n",
       "a:link.sk-estimator-doc-link.fitted,\n",
       "a:visited.sk-estimator-doc-link.fitted {\n",
       "  /* fitted */\n",
       "  border: var(--sklearn-color-fitted-level-1) 1pt solid;\n",
       "  color: var(--sklearn-color-fitted-level-1);\n",
       "}\n",
       "\n",
       "/* On hover */\n",
       "div.sk-estimator:hover .sk-estimator-doc-link:hover,\n",
       ".sk-estimator-doc-link:hover,\n",
       "div.sk-label-container:hover .sk-estimator-doc-link:hover,\n",
       ".sk-estimator-doc-link:hover {\n",
       "  /* unfitted */\n",
       "  background-color: var(--sklearn-color-unfitted-level-3);\n",
       "  color: var(--sklearn-color-background);\n",
       "  text-decoration: none;\n",
       "}\n",
       "\n",
       "div.sk-estimator.fitted:hover .sk-estimator-doc-link.fitted:hover,\n",
       ".sk-estimator-doc-link.fitted:hover,\n",
       "div.sk-label-container:hover .sk-estimator-doc-link.fitted:hover,\n",
       ".sk-estimator-doc-link.fitted:hover {\n",
       "  /* fitted */\n",
       "  background-color: var(--sklearn-color-fitted-level-3);\n",
       "  color: var(--sklearn-color-background);\n",
       "  text-decoration: none;\n",
       "}\n",
       "\n",
       "/* Span, style for the box shown on hovering the info icon */\n",
       ".sk-estimator-doc-link span {\n",
       "  display: none;\n",
       "  z-index: 9999;\n",
       "  position: relative;\n",
       "  font-weight: normal;\n",
       "  right: .2ex;\n",
       "  padding: .5ex;\n",
       "  margin: .5ex;\n",
       "  width: min-content;\n",
       "  min-width: 20ex;\n",
       "  max-width: 50ex;\n",
       "  color: var(--sklearn-color-text);\n",
       "  box-shadow: 2pt 2pt 4pt #999;\n",
       "  /* unfitted */\n",
       "  background: var(--sklearn-color-unfitted-level-0);\n",
       "  border: .5pt solid var(--sklearn-color-unfitted-level-3);\n",
       "}\n",
       "\n",
       ".sk-estimator-doc-link.fitted span {\n",
       "  /* fitted */\n",
       "  background: var(--sklearn-color-fitted-level-0);\n",
       "  border: var(--sklearn-color-fitted-level-3);\n",
       "}\n",
       "\n",
       ".sk-estimator-doc-link:hover span {\n",
       "  display: block;\n",
       "}\n",
       "\n",
       "/* \"?\"-specific style due to the `<a>` HTML tag */\n",
       "\n",
       "#sk-container-id-1 a.estimator_doc_link {\n",
       "  float: right;\n",
       "  font-size: 1rem;\n",
       "  line-height: 1em;\n",
       "  font-family: monospace;\n",
       "  background-color: var(--sklearn-color-background);\n",
       "  border-radius: 1rem;\n",
       "  height: 1rem;\n",
       "  width: 1rem;\n",
       "  text-decoration: none;\n",
       "  /* unfitted */\n",
       "  color: var(--sklearn-color-unfitted-level-1);\n",
       "  border: var(--sklearn-color-unfitted-level-1) 1pt solid;\n",
       "}\n",
       "\n",
       "#sk-container-id-1 a.estimator_doc_link.fitted {\n",
       "  /* fitted */\n",
       "  border: var(--sklearn-color-fitted-level-1) 1pt solid;\n",
       "  color: var(--sklearn-color-fitted-level-1);\n",
       "}\n",
       "\n",
       "/* On hover */\n",
       "#sk-container-id-1 a.estimator_doc_link:hover {\n",
       "  /* unfitted */\n",
       "  background-color: var(--sklearn-color-unfitted-level-3);\n",
       "  color: var(--sklearn-color-background);\n",
       "  text-decoration: none;\n",
       "}\n",
       "\n",
       "#sk-container-id-1 a.estimator_doc_link.fitted:hover {\n",
       "  /* fitted */\n",
       "  background-color: var(--sklearn-color-fitted-level-3);\n",
       "}\n",
       "</style><div id=\"sk-container-id-1\" class=\"sk-top-container\"><div class=\"sk-text-repr-fallback\"><pre>XGBRegressor(alpha=10, base_score=None, booster=None, callbacks=None,\n",
       "             colsample_bylevel=1, colsample_bynode=None, colsample_bytree=1,\n",
       "             device=None, early_stopping_rounds=None, enable_categorical=False,\n",
       "             eval_metric=None, feature_types=None, gamma=None, grow_policy=None,\n",
       "             importance_type=None, interaction_constraints=None,\n",
       "             learning_rate=0.3, max_bin=None, max_cat_threshold=None,\n",
       "             max_cat_to_onehot=None, max_delta_step=None, max_depth=15,\n",
       "             max_leaves=None, min_child_weight=1, missing=nan,\n",
       "             monotone_constraints=None, multi_strategy=None, n_estimators=100,\n",
       "             n_jobs=None, num_parallel_tree=None, ...)</pre><b>In a Jupyter environment, please rerun this cell to show the HTML representation or trust the notebook. <br />On GitHub, the HTML representation is unable to render, please try loading this page with nbviewer.org.</b></div><div class=\"sk-container\" hidden><div class=\"sk-item\"><div class=\"sk-estimator fitted sk-toggleable\"><input class=\"sk-toggleable__control sk-hidden--visually\" id=\"sk-estimator-id-1\" type=\"checkbox\" checked><label for=\"sk-estimator-id-1\" class=\"sk-toggleable__label fitted sk-toggleable__label-arrow fitted\">&nbsp;XGBRegressor<span class=\"sk-estimator-doc-link fitted\">i<span>Fitted</span></span></label><div class=\"sk-toggleable__content fitted\"><pre>XGBRegressor(alpha=10, base_score=None, booster=None, callbacks=None,\n",
       "             colsample_bylevel=1, colsample_bynode=None, colsample_bytree=1,\n",
       "             device=None, early_stopping_rounds=None, enable_categorical=False,\n",
       "             eval_metric=None, feature_types=None, gamma=None, grow_policy=None,\n",
       "             importance_type=None, interaction_constraints=None,\n",
       "             learning_rate=0.3, max_bin=None, max_cat_threshold=None,\n",
       "             max_cat_to_onehot=None, max_delta_step=None, max_depth=15,\n",
       "             max_leaves=None, min_child_weight=1, missing=nan,\n",
       "             monotone_constraints=None, multi_strategy=None, n_estimators=100,\n",
       "             n_jobs=None, num_parallel_tree=None, ...)</pre></div> </div></div></div></div>"
      ],
      "text/plain": [
       "XGBRegressor(alpha=10, base_score=None, booster=None, callbacks=None,\n",
       "             colsample_bylevel=1, colsample_bynode=None, colsample_bytree=1,\n",
       "             device=None, early_stopping_rounds=None, enable_categorical=False,\n",
       "             eval_metric=None, feature_types=None, gamma=None, grow_policy=None,\n",
       "             importance_type=None, interaction_constraints=None,\n",
       "             learning_rate=0.3, max_bin=None, max_cat_threshold=None,\n",
       "             max_cat_to_onehot=None, max_delta_step=None, max_depth=15,\n",
       "             max_leaves=None, min_child_weight=1, missing=nan,\n",
       "             monotone_constraints=None, multi_strategy=None, n_estimators=100,\n",
       "             n_jobs=None, num_parallel_tree=None, ...)"
      ]
     },
     "execution_count": 10,
     "metadata": {},
     "output_type": "execute_result"
    }
   ],
   "source": [
    "# train the model with random parameter\n",
    "\n",
    "# Preparing the regressor and fitting data with some parameters\n",
    "import xgboost\n",
    "\n",
    "\n",
    "xg_reg = xgboost.XGBRegressor(objective ='reg:linear', \n",
    "                          colsample_bytree = 1, \n",
    "                          learning_rate = 0.3,\n",
    "                          max_depth = 15, \n",
    "                          alpha = 10, \n",
    "                          n_estimators = 100, \n",
    "                          verbose=1, \n",
    "                          min_child_weight = 1, \n",
    "                          colsample_bylevel = 1, \n",
    "                          reg_alpha = 2) \n",
    "\n",
    "xg_reg.fit(encoded_X_train, y_train)"
   ]
  },
  {
   "cell_type": "code",
   "execution_count": 12,
   "metadata": {},
   "outputs": [
    {
     "data": {
      "text/plain": [
       "0.6948974224092583"
      ]
     },
     "execution_count": 12,
     "metadata": {},
     "output_type": "execute_result"
    }
   ],
   "source": [
    "# Finding mean absolute error\n",
    "preds = xg_reg.predict(encoded_X_test)\n",
    "preds = preds.astype(int)\n",
    "mae = np.abs(y_test-preds).mean()\n",
    "mae"
   ]
  },
  {
   "cell_type": "code",
   "execution_count": 13,
   "metadata": {},
   "outputs": [],
   "source": [
    "# Defining the best parameter with optuna\n",
    "from sklearn.model_selection import KFold\n",
    "K = 5 # 5 fold cross validation\n",
    "kf = KFold(n_splits = K, random_state = 42, shuffle = True)\n",
    "\n",
    "\n",
    "train_tunned = np.array(encoded_X)\n",
    "target_train_tunned = np.array(y)\n",
    "\n",
    "# test = np.array(X)\n",
    "# target_train = df_train['congestion'].values\n",
    "\n",
    "# test_preds = np.zeros((len(test)))\n",
    "oof_preds = np.zeros((len(train_tunned)))\n",
    "abs_error_arr=[]\n",
    "def objective(trial):\n",
    "\n",
    " for train_index, val_index in (kf.split(encoded_X)):\n",
    "    train_X, valid_X = train_tunned[train_index], train_tunned[val_index]\n",
    "    train_Y, valid_Y = target_train_tunned[train_index], target_train_tunned[val_index]\n",
    "    \n",
    "        \n",
    "        # train_x, test_x, train_y, test_y = train_test_split(data, target, test_size=0.25,random_state=0)\n",
    "    param = {\n",
    "            # 'tree_method':'gpu_hist',  # this parameter means using the GPU when training our model to speedup the training process \n",
    "            'lambda': trial.suggest_loguniform('lambda', 1e-3, 10.0),\n",
    "            'alpha': trial.suggest_loguniform('alpha', 1e-3, 10.0),\n",
    "            'colsample_bytree': trial.suggest_categorical('colsample_bytree', [0.3,0.4,0.5,0.6,0.7,0.8,0.9, 1.0]),\n",
    "            'colsample_bylevel': trial.suggest_categorical('colsample_bylevel', [0.3,0.4,0.5,0.6,0.7,0.8,0.9, 1.0]),\n",
    "            'subsample': trial.suggest_categorical('subsample', [0.4,0.5,0.6,0.7,0.8,1.0]),\n",
    "            'learning_rate': trial.suggest_categorical('learning_rate', [1e-5,1e-4,1e-3,0.001,0.002,0.003,0.004,0.005,0.006,0.007,0.008,0.009,0.01,0.04,0.08,0.12,0.20, 0.24, 0.30, 0.38, 0.42, 0.48, 0.50, 0.60, 0.70, 0.80, 0.90, 1.0]),\n",
    "            'n_estimators': trial.suggest_int('n_estimators', 1, 300),\n",
    "            'max_depth': trial.suggest_categorical('max_depth', [5,7,9,11,13,15,17,20,25,30,35,40]),\n",
    "            'random_state': trial.suggest_categorical('random_state', [24,48,2020]),\n",
    "            'min_child_weight': trial.suggest_int('min_child_weight', 1, 300),\n",
    "        }\n",
    "    model = xgboost.XGBRegressor(**param)  \n",
    "        \n",
    "    model.fit(train_X,train_Y,eval_set=[(valid_X,valid_Y)],early_stopping_rounds=100,verbose=False)\n",
    "        \n",
    "    preds = model.predict(valid_X)\n",
    "    oof_preds[val_index] = preds # preds gives total 3846 predicted value for valid_X\n",
    "\n",
    "\n",
    " \n",
    " print(len(oof_preds))\n",
    "      \n",
    " mae = mean_absolute_error(target_train_tunned, oof_preds)\n",
    "        \n",
    " return mae"
   ]
  },
  {
   "cell_type": "code",
   "execution_count": 14,
   "metadata": {},
   "outputs": [
    {
     "name": "stderr",
     "output_type": "stream",
     "text": [
      "[I 2024-02-06 23:38:56,973] A new study created in memory with name: XG_tune\n"
     ]
    }
   ],
   "source": [
    "# this is the main optuna for optimizing a object-->\"objective\"\n",
    "import optuna\n",
    "study = optuna.create_study(direction='minimize',study_name=\"XG_tune\")"
   ]
  },
  {
   "cell_type": "code",
   "execution_count": 15,
   "metadata": {},
   "outputs": [
    {
     "name": "stderr",
     "output_type": "stream",
     "text": [
      "[I 2024-02-06 23:39:14,911] Trial 0 finished with value: 0.8836438858800129 and parameters: {'lambda': 1.319357935099395, 'alpha': 1.7850984372336263, 'colsample_bytree': 0.9, 'colsample_bylevel': 0.9, 'subsample': 0.7, 'learning_rate': 0.48, 'n_estimators': 156, 'max_depth': 13, 'random_state': 24, 'min_child_weight': 167}. Best is trial 0 with value: 0.8836438858800129.\n"
     ]
    },
    {
     "name": "stdout",
     "output_type": "stream",
     "text": [
      "19229\n"
     ]
    },
    {
     "name": "stderr",
     "output_type": "stream",
     "text": [
      "[I 2024-02-06 23:39:30,493] Trial 1 finished with value: 0.8682206135987693 and parameters: {'lambda': 0.0027980722893795854, 'alpha': 1.7491994487902052, 'colsample_bytree': 0.7, 'colsample_bylevel': 0.4, 'subsample': 0.8, 'learning_rate': 0.5, 'n_estimators': 296, 'max_depth': 35, 'random_state': 48, 'min_child_weight': 215}. Best is trial 1 with value: 0.8682206135987693.\n"
     ]
    },
    {
     "name": "stdout",
     "output_type": "stream",
     "text": [
      "19229\n"
     ]
    },
    {
     "name": "stderr",
     "output_type": "stream",
     "text": [
      "[I 2024-02-06 23:39:48,429] Trial 2 finished with value: 1.149044299833649 and parameters: {'lambda': 0.01864251825241687, 'alpha': 0.1753631874282531, 'colsample_bytree': 0.8, 'colsample_bylevel': 0.4, 'subsample': 0.7, 'learning_rate': 0.009, 'n_estimators': 189, 'max_depth': 15, 'random_state': 2020, 'min_child_weight': 61}. Best is trial 1 with value: 0.8682206135987693.\n"
     ]
    },
    {
     "name": "stdout",
     "output_type": "stream",
     "text": [
      "19229\n"
     ]
    },
    {
     "name": "stderr",
     "output_type": "stream",
     "text": [
      "[I 2024-02-06 23:39:49,018] Trial 3 finished with value: 1.2619069882279297 and parameters: {'lambda': 0.002703838446422212, 'alpha': 0.0021445550122645243, 'colsample_bytree': 0.7, 'colsample_bylevel': 0.8, 'subsample': 0.6, 'learning_rate': 0.9, 'n_estimators': 4, 'max_depth': 7, 'random_state': 48, 'min_child_weight': 252}. Best is trial 1 with value: 0.8682206135987693.\n"
     ]
    },
    {
     "name": "stdout",
     "output_type": "stream",
     "text": [
      "19229\n"
     ]
    },
    {
     "name": "stderr",
     "output_type": "stream",
     "text": [
      "[I 2024-02-06 23:39:59,611] Trial 4 finished with value: 0.9921060924123034 and parameters: {'lambda': 0.0017750996256084785, 'alpha': 0.05896156600200979, 'colsample_bytree': 0.6, 'colsample_bylevel': 0.4, 'subsample': 0.4, 'learning_rate': 0.5, 'n_estimators': 247, 'max_depth': 35, 'random_state': 48, 'min_child_weight': 154}. Best is trial 1 with value: 0.8682206135987693.\n"
     ]
    },
    {
     "name": "stdout",
     "output_type": "stream",
     "text": [
      "19229\n"
     ]
    },
    {
     "name": "stderr",
     "output_type": "stream",
     "text": [
      "[I 2024-02-06 23:40:08,887] Trial 5 finished with value: 0.9094780368053426 and parameters: {'lambda': 0.027810204625230008, 'alpha': 1.4431009932228358, 'colsample_bytree': 0.4, 'colsample_bylevel': 0.4, 'subsample': 0.6, 'learning_rate': 0.3, 'n_estimators': 206, 'max_depth': 7, 'random_state': 2020, 'min_child_weight': 75}. Best is trial 1 with value: 0.8682206135987693.\n"
     ]
    },
    {
     "name": "stdout",
     "output_type": "stream",
     "text": [
      "19229\n"
     ]
    },
    {
     "name": "stderr",
     "output_type": "stream",
     "text": [
      "[I 2024-02-06 23:40:20,140] Trial 6 finished with value: 1.504416441978174 and parameters: {'lambda': 0.0013400662791432589, 'alpha': 0.009736605773325014, 'colsample_bytree': 0.9, 'colsample_bylevel': 0.9, 'subsample': 0.8, 'learning_rate': 0.009, 'n_estimators': 39, 'max_depth': 35, 'random_state': 48, 'min_child_weight': 48}. Best is trial 1 with value: 0.8682206135987693.\n"
     ]
    },
    {
     "name": "stdout",
     "output_type": "stream",
     "text": [
      "19229\n"
     ]
    },
    {
     "name": "stderr",
     "output_type": "stream",
     "text": [
      "[I 2024-02-06 23:40:25,173] Trial 7 finished with value: 0.9369942765077811 and parameters: {'lambda': 0.008884623080819025, 'alpha': 2.193979716793846, 'colsample_bytree': 0.4, 'colsample_bylevel': 1.0, 'subsample': 0.7, 'learning_rate': 0.6, 'n_estimators': 49, 'max_depth': 13, 'random_state': 48, 'min_child_weight': 60}. Best is trial 1 with value: 0.8682206135987693.\n"
     ]
    },
    {
     "name": "stdout",
     "output_type": "stream",
     "text": [
      "19229\n"
     ]
    },
    {
     "name": "stderr",
     "output_type": "stream",
     "text": [
      "[I 2024-02-06 23:40:45,636] Trial 8 finished with value: 1.3233375381807175 and parameters: {'lambda': 0.9836142537731906, 'alpha': 0.5378302771337908, 'colsample_bytree': 0.7, 'colsample_bylevel': 1.0, 'subsample': 0.6, 'learning_rate': 0.004, 'n_estimators': 278, 'max_depth': 9, 'random_state': 2020, 'min_child_weight': 65}. Best is trial 1 with value: 0.8682206135987693.\n"
     ]
    },
    {
     "name": "stdout",
     "output_type": "stream",
     "text": [
      "19229\n"
     ]
    },
    {
     "name": "stderr",
     "output_type": "stream",
     "text": [
      "[I 2024-02-06 23:40:58,899] Trial 9 finished with value: 1.7066187527406742 and parameters: {'lambda': 0.7702401020877467, 'alpha': 0.014025957118045, 'colsample_bytree': 0.4, 'colsample_bylevel': 0.6, 'subsample': 0.4, 'learning_rate': 0.0001, 'n_estimators': 281, 'max_depth': 11, 'random_state': 2020, 'min_child_weight': 174}. Best is trial 1 with value: 0.8682206135987693.\n"
     ]
    },
    {
     "name": "stdout",
     "output_type": "stream",
     "text": [
      "19229\n"
     ]
    },
    {
     "name": "stderr",
     "output_type": "stream",
     "text": [
      "[I 2024-02-06 23:41:03,999] Trial 10 finished with value: 1.5810071861968966 and parameters: {'lambda': 0.12541297954406366, 'alpha': 9.450281927857997, 'colsample_bytree': 1.0, 'colsample_bylevel': 0.3, 'subsample': 0.5, 'learning_rate': 0.005, 'n_estimators': 108, 'max_depth': 30, 'random_state': 24, 'min_child_weight': 298}. Best is trial 1 with value: 0.8682206135987693.\n"
     ]
    },
    {
     "name": "stdout",
     "output_type": "stream",
     "text": [
      "19229\n"
     ]
    },
    {
     "name": "stderr",
     "output_type": "stream",
     "text": [
      "[I 2024-02-06 23:41:10,158] Trial 11 finished with value: 0.9110525343269753 and parameters: {'lambda': 7.526906879820351, 'alpha': 9.943253219555883, 'colsample_bytree': 0.3, 'colsample_bylevel': 0.5, 'subsample': 1.0, 'learning_rate': 0.5, 'n_estimators': 123, 'max_depth': 13, 'random_state': 24, 'min_child_weight': 207}. Best is trial 1 with value: 0.8682206135987693.\n"
     ]
    },
    {
     "name": "stdout",
     "output_type": "stream",
     "text": [
      "19229\n"
     ]
    },
    {
     "name": "stderr",
     "output_type": "stream",
     "text": [
      "[I 2024-02-06 23:41:22,030] Trial 12 finished with value: 0.8611241843824754 and parameters: {'lambda': 0.21508278643729706, 'alpha': 0.7223729563033559, 'colsample_bytree': 0.9, 'colsample_bylevel': 0.7, 'subsample': 0.8, 'learning_rate': 0.24, 'n_estimators': 176, 'max_depth': 17, 'random_state': 24, 'min_child_weight': 219}. Best is trial 12 with value: 0.8611241843824754.\n"
     ]
    },
    {
     "name": "stdout",
     "output_type": "stream",
     "text": [
      "19229\n"
     ]
    },
    {
     "name": "stderr",
     "output_type": "stream",
     "text": [
      "[I 2024-02-06 23:41:35,516] Trial 13 finished with value: 0.8700915172930918 and parameters: {'lambda': 0.1364843027289271, 'alpha': 0.24189343711229017, 'colsample_bytree': 0.5, 'colsample_bylevel': 0.7, 'subsample': 0.8, 'learning_rate': 0.24, 'n_estimators': 227, 'max_depth': 17, 'random_state': 24, 'min_child_weight': 224}. Best is trial 12 with value: 0.8611241843824754.\n"
     ]
    },
    {
     "name": "stdout",
     "output_type": "stream",
     "text": [
      "19229\n"
     ]
    },
    {
     "name": "stderr",
     "output_type": "stream",
     "text": [
      "[I 2024-02-06 23:41:45,369] Trial 14 finished with value: 1.714638396614805 and parameters: {'lambda': 0.3200983840646216, 'alpha': 0.6953582147558128, 'colsample_bytree': 0.9, 'colsample_bylevel': 0.7, 'subsample': 0.8, 'learning_rate': 1e-05, 'n_estimators': 174, 'max_depth': 17, 'random_state': 48, 'min_child_weight': 274}. Best is trial 12 with value: 0.8611241843824754.\n"
     ]
    },
    {
     "name": "stdout",
     "output_type": "stream",
     "text": [
      "19229\n"
     ]
    },
    {
     "name": "stderr",
     "output_type": "stream",
     "text": [
      "[I 2024-02-06 23:42:08,954] Trial 15 finished with value: 0.8267175364806437 and parameters: {'lambda': 0.050149477554562255, 'alpha': 0.0544290903163187, 'colsample_bytree': 0.7, 'colsample_bylevel': 0.7, 'subsample': 0.8, 'learning_rate': 0.38, 'n_estimators': 298, 'max_depth': 25, 'random_state': 24, 'min_child_weight': 119}. Best is trial 15 with value: 0.8267175364806437.\n"
     ]
    },
    {
     "name": "stdout",
     "output_type": "stream",
     "text": [
      "19229\n"
     ]
    },
    {
     "name": "stderr",
     "output_type": "stream",
     "text": [
      "[I 2024-02-06 23:42:18,075] Trial 16 finished with value: 0.8438145233994774 and parameters: {'lambda': 0.03575929502981798, 'alpha': 0.03374129379907601, 'colsample_bytree': 0.8, 'colsample_bylevel': 0.7, 'subsample': 0.8, 'learning_rate': 0.38, 'n_estimators': 104, 'max_depth': 25, 'random_state': 24, 'min_child_weight': 108}. Best is trial 15 with value: 0.8267175364806437.\n"
     ]
    },
    {
     "name": "stdout",
     "output_type": "stream",
     "text": [
      "19229\n"
     ]
    },
    {
     "name": "stderr",
     "output_type": "stream",
     "text": [
      "[I 2024-02-06 23:42:26,750] Trial 17 finished with value: 0.8259250618389486 and parameters: {'lambda': 0.017436883358775516, 'alpha': 0.042264896643539135, 'colsample_bytree': 0.8, 'colsample_bylevel': 0.7, 'subsample': 1.0, 'learning_rate': 0.38, 'n_estimators': 90, 'max_depth': 25, 'random_state': 24, 'min_child_weight': 107}. Best is trial 17 with value: 0.8259250618389486.\n"
     ]
    },
    {
     "name": "stdout",
     "output_type": "stream",
     "text": [
      "19229\n"
     ]
    },
    {
     "name": "stderr",
     "output_type": "stream",
     "text": [
      "[I 2024-02-06 23:42:33,225] Trial 18 finished with value: 0.8482677846229856 and parameters: {'lambda': 0.006101484306761713, 'alpha': 0.008353910436861707, 'colsample_bytree': 0.8, 'colsample_bylevel': 0.7, 'subsample': 1.0, 'learning_rate': 0.38, 'n_estimators': 69, 'max_depth': 25, 'random_state': 24, 'min_child_weight': 124}. Best is trial 17 with value: 0.8259250618389486.\n"
     ]
    },
    {
     "name": "stdout",
     "output_type": "stream",
     "text": [
      "19229\n"
     ]
    },
    {
     "name": "stderr",
     "output_type": "stream",
     "text": [
      "[I 2024-02-06 23:43:12,375] Trial 19 finished with value: 0.8738196957252004 and parameters: {'lambda': 0.039245855758093605, 'alpha': 0.0016356967060370167, 'colsample_bytree': 1.0, 'colsample_bylevel': 0.3, 'subsample': 1.0, 'learning_rate': 0.8, 'n_estimators': 137, 'max_depth': 25, 'random_state': 24, 'min_child_weight': 7}. Best is trial 17 with value: 0.8259250618389486.\n"
     ]
    },
    {
     "name": "stdout",
     "output_type": "stream",
     "text": [
      "19229\n"
     ]
    },
    {
     "name": "stderr",
     "output_type": "stream",
     "text": [
      "[I 2024-02-06 23:43:16,852] Trial 20 finished with value: 0.9360753493808771 and parameters: {'lambda': 0.06961000746120173, 'alpha': 0.028952835776188787, 'colsample_bytree': 0.6, 'colsample_bylevel': 0.6, 'subsample': 0.5, 'learning_rate': 0.38, 'n_estimators': 86, 'max_depth': 20, 'random_state': 24, 'min_child_weight': 117}. Best is trial 17 with value: 0.8259250618389486.\n"
     ]
    },
    {
     "name": "stdout",
     "output_type": "stream",
     "text": [
      "19229\n"
     ]
    },
    {
     "name": "stderr",
     "output_type": "stream",
     "text": [
      "[I 2024-02-06 23:43:26,160] Trial 21 finished with value: 0.8217601721359594 and parameters: {'lambda': 0.011595939367501527, 'alpha': 0.06624805971271011, 'colsample_bytree': 0.8, 'colsample_bylevel': 0.7, 'subsample': 1.0, 'learning_rate': 0.38, 'n_estimators': 96, 'max_depth': 25, 'random_state': 24, 'min_child_weight': 107}. Best is trial 21 with value: 0.8217601721359594.\n"
     ]
    },
    {
     "name": "stdout",
     "output_type": "stream",
     "text": [
      "19229\n"
     ]
    },
    {
     "name": "stderr",
     "output_type": "stream",
     "text": [
      "[I 2024-02-06 23:43:28,550] Trial 22 finished with value: 0.9701184165873782 and parameters: {'lambda': 0.011327132649977622, 'alpha': 0.11277776607762983, 'colsample_bytree': 0.8, 'colsample_bylevel': 0.7, 'subsample': 1.0, 'learning_rate': 0.38, 'n_estimators': 85, 'max_depth': 5, 'random_state': 24, 'min_child_weight': 105}. Best is trial 21 with value: 0.8217601721359594.\n"
     ]
    },
    {
     "name": "stdout",
     "output_type": "stream",
     "text": [
      "19229\n"
     ]
    },
    {
     "name": "stderr",
     "output_type": "stream",
     "text": [
      "[I 2024-02-06 23:43:32,383] Trial 23 finished with value: 1.634186085601252 and parameters: {'lambda': 0.007823185986905038, 'alpha': 0.06423570486424275, 'colsample_bytree': 0.8, 'colsample_bylevel': 0.7, 'subsample': 1.0, 'learning_rate': 0.007, 'n_estimators': 23, 'max_depth': 25, 'random_state': 24, 'min_child_weight': 136}. Best is trial 21 with value: 0.8217601721359594.\n"
     ]
    },
    {
     "name": "stdout",
     "output_type": "stream",
     "text": [
      "19229\n"
     ]
    },
    {
     "name": "stderr",
     "output_type": "stream",
     "text": [
      "[I 2024-02-06 23:53:55,230] Trial 24 finished with value: 0.8280564275510108 and parameters: {'lambda': 0.01748927607592883, 'alpha': 0.00404719274790523, 'colsample_bytree': 0.3, 'colsample_bylevel': 0.8, 'subsample': 1.0, 'learning_rate': 0.12, 'n_estimators': 147, 'max_depth': 40, 'random_state': 24, 'min_child_weight': 90}. Best is trial 21 with value: 0.8217601721359594.\n"
     ]
    },
    {
     "name": "stdout",
     "output_type": "stream",
     "text": [
      "19229\n"
     ]
    },
    {
     "name": "stderr",
     "output_type": "stream",
     "text": [
      "[I 2024-02-06 23:54:01,009] Trial 25 finished with value: 1.4616720936551184 and parameters: {'lambda': 0.057976422510014065, 'alpha': 0.03097360253301284, 'colsample_bytree': 0.5, 'colsample_bylevel': 0.5, 'subsample': 1.0, 'learning_rate': 0.01, 'n_estimators': 67, 'max_depth': 25, 'random_state': 24, 'min_child_weight': 144}. Best is trial 21 with value: 0.8217601721359594.\n"
     ]
    },
    {
     "name": "stdout",
     "output_type": "stream",
     "text": [
      "19229\n"
     ]
    },
    {
     "name": "stderr",
     "output_type": "stream",
     "text": [
      "[I 2024-02-06 23:55:04,124] Trial 26 finished with value: 1.1150808378242716 and parameters: {'lambda': 0.005065115637758137, 'alpha': 0.2065868995885235, 'colsample_bytree': 0.7, 'colsample_bylevel': 0.7, 'subsample': 1.0, 'learning_rate': 0.008, 'n_estimators': 119, 'max_depth': 25, 'random_state': 24, 'min_child_weight': 10}. Best is trial 21 with value: 0.8217601721359594.\n"
     ]
    },
    {
     "name": "stdout",
     "output_type": "stream",
     "text": [
      "19229\n"
     ]
    },
    {
     "name": "stderr",
     "output_type": "stream",
     "text": [
      "[I 2024-02-06 23:55:21,972] Trial 27 finished with value: 0.8312283791246642 and parameters: {'lambda': 0.015646960253574458, 'alpha': 0.017706272210461088, 'colsample_bytree': 0.8, 'colsample_bylevel': 0.7, 'subsample': 0.5, 'learning_rate': 0.2, 'n_estimators': 250, 'max_depth': 25, 'random_state': 24, 'min_child_weight': 88}. Best is trial 21 with value: 0.8217601721359594.\n"
     ]
    },
    {
     "name": "stdout",
     "output_type": "stream",
     "text": [
      "19229\n"
     ]
    },
    {
     "name": "stderr",
     "output_type": "stream",
     "text": [
      "[I 2024-02-06 23:55:35,192] Trial 28 finished with value: 1.4415206544527839 and parameters: {'lambda': 0.003752895773761177, 'alpha': 0.059255812157568415, 'colsample_bytree': 0.8, 'colsample_bylevel': 0.7, 'subsample': 0.4, 'learning_rate': 0.006, 'n_estimators': 92, 'max_depth': 30, 'random_state': 24, 'min_child_weight': 35}. Best is trial 21 with value: 0.8217601721359594.\n"
     ]
    },
    {
     "name": "stdout",
     "output_type": "stream",
     "text": [
      "19229\n"
     ]
    },
    {
     "name": "stderr",
     "output_type": "stream",
     "text": [
      "[I 2024-02-06 23:55:45,961] Trial 29 finished with value: 0.9526550633880471 and parameters: {'lambda': 0.4870455583157678, 'alpha': 0.09639664943343494, 'colsample_bytree': 0.7, 'colsample_bylevel': 0.9, 'subsample': 0.7, 'learning_rate': 0.7, 'n_estimators': 154, 'max_depth': 15, 'random_state': 24, 'min_child_weight': 183}. Best is trial 21 with value: 0.8217601721359594.\n"
     ]
    },
    {
     "name": "stdout",
     "output_type": "stream",
     "text": [
      "19229\n"
     ]
    },
    {
     "name": "stderr",
     "output_type": "stream",
     "text": [
      "[I 2024-02-06 23:55:51,474] Trial 30 finished with value: 1.6327351514656685 and parameters: {'lambda': 0.0668709488096602, 'alpha': 0.0056479436597925824, 'colsample_bytree': 0.8, 'colsample_bylevel': 0.7, 'subsample': 1.0, 'learning_rate': 0.003, 'n_estimators': 58, 'max_depth': 20, 'random_state': 2020, 'min_child_weight': 167}. Best is trial 21 with value: 0.8217601721359594.\n"
     ]
    },
    {
     "name": "stdout",
     "output_type": "stream",
     "text": [
      "19229\n"
     ]
    },
    {
     "name": "stderr",
     "output_type": "stream",
     "text": [
      "[I 2024-02-06 23:56:04,627] Trial 31 finished with value: 0.831663879072699 and parameters: {'lambda': 0.01949139411324719, 'alpha': 0.0035752683581725627, 'colsample_bytree': 0.3, 'colsample_bylevel': 0.8, 'subsample': 1.0, 'learning_rate': 0.12, 'n_estimators': 138, 'max_depth': 40, 'random_state': 24, 'min_child_weight': 88}. Best is trial 21 with value: 0.8217601721359594.\n"
     ]
    },
    {
     "name": "stdout",
     "output_type": "stream",
     "text": [
      "19229\n"
     ]
    },
    {
     "name": "stderr",
     "output_type": "stream",
     "text": [
      "[I 2024-02-06 23:56:19,420] Trial 32 finished with value: 0.8632308922944776 and parameters: {'lambda': 0.028547563864970132, 'alpha': 0.004703327273114603, 'colsample_bytree': 0.3, 'colsample_bylevel': 0.8, 'subsample': 1.0, 'learning_rate': 0.08, 'n_estimators': 140, 'max_depth': 40, 'random_state': 24, 'min_child_weight': 95}. Best is trial 21 with value: 0.8217601721359594.\n"
     ]
    },
    {
     "name": "stdout",
     "output_type": "stream",
     "text": [
      "19229\n"
     ]
    },
    {
     "name": "stderr",
     "output_type": "stream",
     "text": [
      "[I 2024-02-06 23:56:32,271] Trial 33 finished with value: 0.8681057309384574 and parameters: {'lambda': 2.3336939693988685, 'alpha': 0.001030228263466982, 'colsample_bytree': 0.3, 'colsample_bylevel': 0.8, 'subsample': 1.0, 'learning_rate': 0.42, 'n_estimators': 167, 'max_depth': 40, 'random_state': 24, 'min_child_weight': 137}. Best is trial 21 with value: 0.8217601721359594.\n"
     ]
    },
    {
     "name": "stdout",
     "output_type": "stream",
     "text": [
      "19229\n"
     ]
    },
    {
     "name": "stderr",
     "output_type": "stream",
     "text": [
      "[I 2024-02-06 23:56:37,307] Trial 34 finished with value: 1.0245657920583806 and parameters: {'lambda': 0.010819941744364481, 'alpha': 0.018508548067285645, 'colsample_bytree': 0.3, 'colsample_bylevel': 0.8, 'subsample': 1.0, 'learning_rate': 1.0, 'n_estimators': 199, 'max_depth': 5, 'random_state': 24, 'min_child_weight': 121}. Best is trial 21 with value: 0.8217601721359594.\n"
     ]
    },
    {
     "name": "stdout",
     "output_type": "stream",
     "text": [
      "19229\n"
     ]
    },
    {
     "name": "stderr",
     "output_type": "stream",
     "text": [
      "[I 2024-02-06 23:56:51,522] Trial 35 finished with value: 0.9057821048295494 and parameters: {'lambda': 0.017811919888699318, 'alpha': 0.38999220773237864, 'colsample_bytree': 0.7, 'colsample_bylevel': 0.8, 'subsample': 0.8, 'learning_rate': 0.04, 'n_estimators': 219, 'max_depth': 11, 'random_state': 24, 'min_child_weight': 82}. Best is trial 21 with value: 0.8217601721359594.\n"
     ]
    },
    {
     "name": "stdout",
     "output_type": "stream",
     "text": [
      "19229\n"
     ]
    },
    {
     "name": "stderr",
     "output_type": "stream",
     "text": [
      "[I 2024-02-06 23:56:58,237] Trial 36 finished with value: 1.6199900440135917 and parameters: {'lambda': 0.0035327460433128175, 'alpha': 0.04487083340136972, 'colsample_bytree': 0.6, 'colsample_bylevel': 0.5, 'subsample': 0.6, 'learning_rate': 0.002, 'n_estimators': 118, 'max_depth': 9, 'random_state': 24, 'min_child_weight': 107}. Best is trial 21 with value: 0.8217601721359594.\n"
     ]
    },
    {
     "name": "stdout",
     "output_type": "stream",
     "text": [
      "19229\n"
     ]
    },
    {
     "name": "stderr",
     "output_type": "stream",
     "text": [
      "[I 2024-02-06 23:57:04,885] Trial 37 finished with value: 1.7012308900271609 and parameters: {'lambda': 0.0020575277226804814, 'alpha': 0.11998777572102853, 'colsample_bytree': 0.7, 'colsample_bylevel': 0.4, 'subsample': 0.7, 'learning_rate': 0.001, 'n_estimators': 21, 'max_depth': 40, 'random_state': 2020, 'min_child_weight': 33}. Best is trial 21 with value: 0.8217601721359594.\n"
     ]
    },
    {
     "name": "stdout",
     "output_type": "stream",
     "text": [
      "19229\n"
     ]
    },
    {
     "name": "stderr",
     "output_type": "stream",
     "text": [
      "[I 2024-02-06 23:57:15,702] Trial 38 finished with value: 0.9656838860200614 and parameters: {'lambda': 0.04683023710747106, 'alpha': 0.0022979821819232842, 'colsample_bytree': 0.8, 'colsample_bylevel': 0.9, 'subsample': 0.4, 'learning_rate': 0.48, 'n_estimators': 297, 'max_depth': 7, 'random_state': 48, 'min_child_weight': 160}. Best is trial 21 with value: 0.8217601721359594.\n"
     ]
    },
    {
     "name": "stdout",
     "output_type": "stream",
     "text": [
      "19229\n"
     ]
    },
    {
     "name": "stderr",
     "output_type": "stream",
     "text": [
      "[I 2024-02-06 23:57:28,257] Trial 39 finished with value: 0.8118384433362955 and parameters: {'lambda': 0.023487397136393945, 'alpha': 0.013153694381634096, 'colsample_bytree': 1.0, 'colsample_bylevel': 1.0, 'subsample': 1.0, 'learning_rate': 0.38, 'n_estimators': 77, 'max_depth': 25, 'random_state': 24, 'min_child_weight': 69}. Best is trial 39 with value: 0.8118384433362955.\n"
     ]
    },
    {
     "name": "stdout",
     "output_type": "stream",
     "text": [
      "19229\n"
     ]
    },
    {
     "name": "stderr",
     "output_type": "stream",
     "text": [
      "[I 2024-02-06 23:57:37,416] Trial 40 finished with value: 1.688000565690105 and parameters: {'lambda': 0.0936835934047644, 'alpha': 0.011418603881646998, 'colsample_bytree': 1.0, 'colsample_bylevel': 1.0, 'subsample': 0.8, 'learning_rate': 0.001, 'n_estimators': 40, 'max_depth': 25, 'random_state': 48, 'min_child_weight': 51}. Best is trial 39 with value: 0.8118384433362955.\n"
     ]
    },
    {
     "name": "stdout",
     "output_type": "stream",
     "text": [
      "19229\n"
     ]
    },
    {
     "name": "stderr",
     "output_type": "stream",
     "text": [
      "[I 2024-02-06 23:57:51,164] Trial 41 finished with value: 1.6663666838906261 and parameters: {'lambda': 0.02602287034454229, 'alpha': 0.022789275045240986, 'colsample_bytree': 1.0, 'colsample_bylevel': 1.0, 'subsample': 1.0, 'learning_rate': 0.001, 'n_estimators': 73, 'max_depth': 25, 'random_state': 24, 'min_child_weight': 63}. Best is trial 39 with value: 0.8118384433362955.\n"
     ]
    },
    {
     "name": "stdout",
     "output_type": "stream",
     "text": [
      "19229\n"
     ]
    },
    {
     "name": "stderr",
     "output_type": "stream",
     "text": [
      "[I 2024-02-06 23:58:07,487] Trial 42 finished with value: 0.8076852835553825 and parameters: {'lambda': 0.013259770212515187, 'alpha': 0.007409856571870373, 'colsample_bytree': 1.0, 'colsample_bylevel': 1.0, 'subsample': 1.0, 'learning_rate': 0.38, 'n_estimators': 96, 'max_depth': 35, 'random_state': 24, 'min_child_weight': 74}. Best is trial 42 with value: 0.8076852835553825.\n"
     ]
    },
    {
     "name": "stdout",
     "output_type": "stream",
     "text": [
      "19229\n"
     ]
    },
    {
     "name": "stderr",
     "output_type": "stream",
     "text": [
      "[I 2024-02-06 23:58:25,222] Trial 43 finished with value: 0.7980863144919844 and parameters: {'lambda': 0.010438547734936132, 'alpha': 0.008190188937292266, 'colsample_bytree': 1.0, 'colsample_bylevel': 1.0, 'subsample': 1.0, 'learning_rate': 0.38, 'n_estimators': 103, 'max_depth': 35, 'random_state': 24, 'min_child_weight': 70}. Best is trial 43 with value: 0.7980863144919844.\n"
     ]
    },
    {
     "name": "stdout",
     "output_type": "stream",
     "text": [
      "19229\n"
     ]
    },
    {
     "name": "stderr",
     "output_type": "stream",
     "text": [
      "[I 2024-02-06 23:58:51,835] Trial 44 finished with value: 1.6445685753838941 and parameters: {'lambda': 0.0012671816948530393, 'alpha': 0.006759016481960976, 'colsample_bytree': 1.0, 'colsample_bylevel': 1.0, 'subsample': 1.0, 'learning_rate': 0.001, 'n_estimators': 95, 'max_depth': 35, 'random_state': 2020, 'min_child_weight': 37}. Best is trial 43 with value: 0.7980863144919844.\n"
     ]
    },
    {
     "name": "stdout",
     "output_type": "stream",
     "text": [
      "19229\n"
     ]
    },
    {
     "name": "stderr",
     "output_type": "stream",
     "text": [
      "[I 2024-02-06 23:59:09,692] Trial 45 finished with value: 0.8048384850981323 and parameters: {'lambda': 0.005885067281564499, 'alpha': 0.012585889964895592, 'colsample_bytree': 1.0, 'colsample_bylevel': 1.0, 'subsample': 1.0, 'learning_rate': 0.38, 'n_estimators': 104, 'max_depth': 35, 'random_state': 24, 'min_child_weight': 72}. Best is trial 43 with value: 0.7980863144919844.\n"
     ]
    },
    {
     "name": "stdout",
     "output_type": "stream",
     "text": [
      "19229\n"
     ]
    },
    {
     "name": "stderr",
     "output_type": "stream",
     "text": [
      "[I 2024-02-06 23:59:21,586] Trial 46 finished with value: 1.655568289641465 and parameters: {'lambda': 0.005618890986187312, 'alpha': 0.0135217792385083, 'colsample_bytree': 1.0, 'colsample_bylevel': 1.0, 'subsample': 0.6, 'learning_rate': 0.001, 'n_estimators': 107, 'max_depth': 35, 'random_state': 24, 'min_child_weight': 74}. Best is trial 43 with value: 0.7980863144919844.\n"
     ]
    },
    {
     "name": "stdout",
     "output_type": "stream",
     "text": [
      "19229\n"
     ]
    },
    {
     "name": "stderr",
     "output_type": "stream",
     "text": [
      "[I 2024-02-06 23:59:54,481] Trial 47 finished with value: 1.6540821061329498 and parameters: {'lambda': 0.0024936002575892797, 'alpha': 0.009440286712022641, 'colsample_bytree': 1.0, 'colsample_bylevel': 1.0, 'subsample': 1.0, 'learning_rate': 0.001, 'n_estimators': 75, 'max_depth': 35, 'random_state': 48, 'min_child_weight': 24}. Best is trial 43 with value: 0.7980863144919844.\n"
     ]
    },
    {
     "name": "stdout",
     "output_type": "stream",
     "text": [
      "19229\n"
     ]
    },
    {
     "name": "stderr",
     "output_type": "stream",
     "text": [
      "[I 2024-02-07 00:00:08,181] Trial 48 finished with value: 1.6760446068723411 and parameters: {'lambda': 0.009901207064886845, 'alpha': 0.0028409126286175713, 'colsample_bytree': 1.0, 'colsample_bylevel': 1.0, 'subsample': 1.0, 'learning_rate': 0.001, 'n_estimators': 55, 'max_depth': 35, 'random_state': 24, 'min_child_weight': 51}. Best is trial 43 with value: 0.7980863144919844.\n"
     ]
    },
    {
     "name": "stdout",
     "output_type": "stream",
     "text": [
      "19229\n"
     ]
    },
    {
     "name": "stderr",
     "output_type": "stream",
     "text": [
      "[I 2024-02-07 00:00:28,899] Trial 49 finished with value: 0.7976721182784099 and parameters: {'lambda': 0.0039561668230410785, 'alpha': 0.0077742125264134675, 'colsample_bytree': 1.0, 'colsample_bylevel': 1.0, 'subsample': 1.0, 'learning_rate': 0.38, 'n_estimators': 126, 'max_depth': 35, 'random_state': 2020, 'min_child_weight': 69}. Best is trial 49 with value: 0.7976721182784099.\n"
     ]
    },
    {
     "name": "stdout",
     "output_type": "stream",
     "text": [
      "19229\n"
     ]
    },
    {
     "name": "stderr",
     "output_type": "stream",
     "text": [
      "[I 2024-02-07 00:00:46,583] Trial 50 finished with value: 0.8096870566711548 and parameters: {'lambda': 0.0010544341138840538, 'alpha': 0.007303126981396155, 'colsample_bytree': 1.0, 'colsample_bylevel': 1.0, 'subsample': 0.7, 'learning_rate': 0.3, 'n_estimators': 126, 'max_depth': 35, 'random_state': 2020, 'min_child_weight': 65}. Best is trial 49 with value: 0.7976721182784099.\n"
     ]
    },
    {
     "name": "stdout",
     "output_type": "stream",
     "text": [
      "19229\n"
     ]
    },
    {
     "name": "stderr",
     "output_type": "stream",
     "text": [
      "[I 2024-02-07 00:01:02,955] Trial 51 finished with value: 1.6399254107154149 and parameters: {'lambda': 0.001362987793923046, 'alpha': 0.0073007870614151356, 'colsample_bytree': 1.0, 'colsample_bylevel': 1.0, 'subsample': 0.7, 'learning_rate': 0.001, 'n_estimators': 131, 'max_depth': 35, 'random_state': 2020, 'min_child_weight': 74}. Best is trial 49 with value: 0.7976721182784099.\n"
     ]
    },
    {
     "name": "stdout",
     "output_type": "stream",
     "text": [
      "19229\n"
     ]
    },
    {
     "name": "stderr",
     "output_type": "stream",
     "text": [
      "[I 2024-02-07 00:01:20,304] Trial 52 finished with value: 0.9213134478244397 and parameters: {'lambda': 0.003486409411146925, 'alpha': 0.0014226771577653887, 'colsample_bytree': 1.0, 'colsample_bylevel': 1.0, 'subsample': 0.7, 'learning_rate': 0.6, 'n_estimators': 114, 'max_depth': 35, 'random_state': 2020, 'min_child_weight': 64}. Best is trial 49 with value: 0.7976721182784099.\n"
     ]
    },
    {
     "name": "stdout",
     "output_type": "stream",
     "text": [
      "19229\n"
     ]
    },
    {
     "name": "stderr",
     "output_type": "stream",
     "text": [
      "[I 2024-02-07 00:02:06,203] Trial 53 finished with value: 0.7769696146594712 and parameters: {'lambda': 0.001789766265614667, 'alpha': 0.012637127367822146, 'colsample_bytree': 1.0, 'colsample_bylevel': 1.0, 'subsample': 0.7, 'learning_rate': 0.3, 'n_estimators': 127, 'max_depth': 35, 'random_state': 2020, 'min_child_weight': 19}. Best is trial 53 with value: 0.7769696146594712.\n"
     ]
    },
    {
     "name": "stdout",
     "output_type": "stream",
     "text": [
      "19229\n"
     ]
    },
    {
     "name": "stderr",
     "output_type": "stream",
     "text": [
      "[I 2024-02-07 00:02:30,547] Trial 54 finished with value: 0.8009118117251777 and parameters: {'lambda': 0.0010257650717682306, 'alpha': 0.0033036220083272724, 'colsample_bytree': 1.0, 'colsample_bylevel': 1.0, 'subsample': 0.7, 'learning_rate': 0.3, 'n_estimators': 128, 'max_depth': 35, 'random_state': 2020, 'min_child_weight': 46}. Best is trial 53 with value: 0.7769696146594712.\n"
     ]
    },
    {
     "name": "stdout",
     "output_type": "stream",
     "text": [
      "19229\n"
     ]
    },
    {
     "name": "stderr",
     "output_type": "stream",
     "text": [
      "[I 2024-02-07 00:03:08,957] Trial 55 finished with value: 0.8161911739266402 and parameters: {'lambda': 0.0017384636975264598, 'alpha': 0.0027724588829544385, 'colsample_bytree': 0.4, 'colsample_bylevel': 1.0, 'subsample': 0.7, 'learning_rate': 0.3, 'n_estimators': 160, 'max_depth': 35, 'random_state': 2020, 'min_child_weight': 20}. Best is trial 53 with value: 0.7769696146594712.\n"
     ]
    },
    {
     "name": "stdout",
     "output_type": "stream",
     "text": [
      "19229\n"
     ]
    },
    {
     "name": "stderr",
     "output_type": "stream",
     "text": [
      "[I 2024-02-07 00:03:27,598] Trial 56 finished with value: 0.8034883327560087 and parameters: {'lambda': 0.0026063297928613704, 'alpha': 0.0049375704100817, 'colsample_bytree': 1.0, 'colsample_bylevel': 1.0, 'subsample': 0.7, 'learning_rate': 0.3, 'n_estimators': 103, 'max_depth': 35, 'random_state': 2020, 'min_child_weight': 48}. Best is trial 53 with value: 0.7769696146594712.\n"
     ]
    },
    {
     "name": "stdout",
     "output_type": "stream",
     "text": [
      "19229\n"
     ]
    },
    {
     "name": "stderr",
     "output_type": "stream",
     "text": [
      "[I 2024-02-07 00:03:46,186] Trial 57 finished with value: 0.7975644196830064 and parameters: {'lambda': 0.0023773811002903667, 'alpha': 0.004707811791491884, 'colsample_bytree': 1.0, 'colsample_bylevel': 0.6, 'subsample': 0.7, 'learning_rate': 0.3, 'n_estimators': 106, 'max_depth': 35, 'random_state': 2020, 'min_child_weight': 40}. Best is trial 53 with value: 0.7769696146594712.\n"
     ]
    },
    {
     "name": "stdout",
     "output_type": "stream",
     "text": [
      "19229\n"
     ]
    },
    {
     "name": "stderr",
     "output_type": "stream",
     "text": [
      "[I 2024-02-07 00:06:30,370] Trial 58 finished with value: 0.7543914306394872 and parameters: {'lambda': 0.0018779219929175805, 'alpha': 0.0037227986174478366, 'colsample_bytree': 0.9, 'colsample_bylevel': 0.6, 'subsample': 0.7, 'learning_rate': 0.3, 'n_estimators': 179, 'max_depth': 35, 'random_state': 2020, 'min_child_weight': 2}. Best is trial 58 with value: 0.7543914306394872.\n"
     ]
    },
    {
     "name": "stdout",
     "output_type": "stream",
     "text": [
      "19229\n"
     ]
    },
    {
     "name": "stderr",
     "output_type": "stream",
     "text": [
      "[I 2024-02-07 00:10:59,735] Trial 59 finished with value: 1.5422844037330679 and parameters: {'lambda': 0.0017438172880675175, 'alpha': 0.0016674221825397919, 'colsample_bytree': 0.9, 'colsample_bylevel': 0.6, 'subsample': 0.7, 'learning_rate': 0.001, 'n_estimators': 181, 'max_depth': 35, 'random_state': 2020, 'min_child_weight': 1}. Best is trial 58 with value: 0.7543914306394872.\n"
     ]
    },
    {
     "name": "stdout",
     "output_type": "stream",
     "text": [
      "19229\n"
     ]
    },
    {
     "name": "stderr",
     "output_type": "stream",
     "text": [
      "[I 2024-02-07 00:11:26,087] Trial 60 finished with value: 1.5862692912126197 and parameters: {'lambda': 0.004417461628040066, 'alpha': 0.003112479259510521, 'colsample_bytree': 0.9, 'colsample_bylevel': 0.6, 'subsample': 0.7, 'learning_rate': 0.001, 'n_estimators': 189, 'max_depth': 13, 'random_state': 2020, 'min_child_weight': 19}. Best is trial 58 with value: 0.7543914306394872.\n"
     ]
    },
    {
     "name": "stdout",
     "output_type": "stream",
     "text": [
      "19229\n"
     ]
    },
    {
     "name": "stderr",
     "output_type": "stream",
     "text": [
      "[I 2024-02-07 00:11:44,968] Trial 61 finished with value: 0.8065649361344169 and parameters: {'lambda': 0.002544335272339066, 'alpha': 0.004666208907816803, 'colsample_bytree': 0.9, 'colsample_bylevel': 0.6, 'subsample': 0.7, 'learning_rate': 0.3, 'n_estimators': 128, 'max_depth': 35, 'random_state': 2020, 'min_child_weight': 43}. Best is trial 58 with value: 0.7543914306394872.\n"
     ]
    },
    {
     "name": "stdout",
     "output_type": "stream",
     "text": [
      "19229\n"
     ]
    },
    {
     "name": "stderr",
     "output_type": "stream",
     "text": [
      "[I 2024-02-07 00:12:40,863] Trial 62 finished with value: 0.7995070098842686 and parameters: {'lambda': 0.0010538744186140224, 'alpha': 0.0019602493180281176, 'colsample_bytree': 0.5, 'colsample_bylevel': 0.6, 'subsample': 0.7, 'learning_rate': 0.3, 'n_estimators': 146, 'max_depth': 35, 'random_state': 2020, 'min_child_weight': 11}. Best is trial 58 with value: 0.7543914306394872.\n"
     ]
    },
    {
     "name": "stdout",
     "output_type": "stream",
     "text": [
      "19229\n"
     ]
    },
    {
     "name": "stderr",
     "output_type": "stream",
     "text": [
      "[I 2024-02-07 00:13:01,151] Trial 63 finished with value: 1.6191143960921515 and parameters: {'lambda': 0.0010538961085781713, 'alpha': 0.001073244922977505, 'colsample_bytree': 0.5, 'colsample_bylevel': 0.6, 'subsample': 0.7, 'learning_rate': 0.001, 'n_estimators': 148, 'max_depth': 15, 'random_state': 2020, 'min_child_weight': 25}. Best is trial 58 with value: 0.7543914306394872.\n"
     ]
    },
    {
     "name": "stdout",
     "output_type": "stream",
     "text": [
      "19229\n"
     ]
    },
    {
     "name": "stderr",
     "output_type": "stream",
     "text": [
      "[I 2024-02-07 00:14:11,938] Trial 64 finished with value: 0.7992325597090093 and parameters: {'lambda': 0.0016091602184443291, 'alpha': 0.002058353837774289, 'colsample_bytree': 0.5, 'colsample_bylevel': 0.6, 'subsample': 0.7, 'learning_rate': 0.3, 'n_estimators': 163, 'max_depth': 35, 'random_state': 2020, 'min_child_weight': 9}. Best is trial 58 with value: 0.7543914306394872.\n"
     ]
    },
    {
     "name": "stdout",
     "output_type": "stream",
     "text": [
      "19229\n"
     ]
    },
    {
     "name": "stderr",
     "output_type": "stream",
     "text": [
      "[I 2024-02-07 00:15:02,277] Trial 65 finished with value: 0.8050363170027297 and parameters: {'lambda': 0.001801436238825085, 'alpha': 0.0020136729823638424, 'colsample_bytree': 0.5, 'colsample_bylevel': 0.6, 'subsample': 0.7, 'learning_rate': 0.3, 'n_estimators': 165, 'max_depth': 30, 'random_state': 2020, 'min_child_weight': 12}. Best is trial 58 with value: 0.7543914306394872.\n"
     ]
    },
    {
     "name": "stdout",
     "output_type": "stream",
     "text": [
      "19229\n"
     ]
    },
    {
     "name": "stderr",
     "output_type": "stream",
     "text": [
      "[I 2024-02-07 00:16:00,644] Trial 66 finished with value: 1.604377580684658 and parameters: {'lambda': 0.0014870573344054102, 'alpha': 0.002234634228509267, 'colsample_bytree': 0.5, 'colsample_bylevel': 0.6, 'subsample': 0.5, 'learning_rate': 0.001, 'n_estimators': 145, 'max_depth': 35, 'random_state': 2020, 'min_child_weight': 8}. Best is trial 58 with value: 0.7543914306394872.\n"
     ]
    },
    {
     "name": "stdout",
     "output_type": "stream",
     "text": [
      "19229\n"
     ]
    },
    {
     "name": "stderr",
     "output_type": "stream",
     "text": [
      "[I 2024-02-07 00:16:06,135] Trial 67 finished with value: 1.0590577114899817 and parameters: {'lambda': 0.007815559367493483, 'alpha': 0.0014041257455675786, 'colsample_bytree': 0.5, 'colsample_bylevel': 0.6, 'subsample': 0.7, 'learning_rate': 0.9, 'n_estimators': 185, 'max_depth': 7, 'random_state': 2020, 'min_child_weight': 33}. Best is trial 58 with value: 0.7543914306394872.\n"
     ]
    },
    {
     "name": "stdout",
     "output_type": "stream",
     "text": [
      "19229\n"
     ]
    },
    {
     "name": "stderr",
     "output_type": "stream",
     "text": [
      "[I 2024-02-07 00:16:16,236] Trial 68 finished with value: 1.706990001911963 and parameters: {'lambda': 0.0031938896633074633, 'alpha': 0.00550847223056869, 'colsample_bytree': 0.5, 'colsample_bylevel': 0.3, 'subsample': 0.7, 'learning_rate': 0.0001, 'n_estimators': 157, 'max_depth': 9, 'random_state': 2020, 'min_child_weight': 16}. Best is trial 58 with value: 0.7543914306394872.\n"
     ]
    },
    {
     "name": "stdout",
     "output_type": "stream",
     "text": [
      "19229\n"
     ]
    },
    {
     "name": "stderr",
     "output_type": "stream",
     "text": [
      "[I 2024-02-07 00:17:23,408] Trial 69 finished with value: 1.2747108134100544 and parameters: {'lambda': 0.0021481337682239397, 'alpha': 0.018608953388815536, 'colsample_bytree': 0.4, 'colsample_bylevel': 0.6, 'subsample': 0.7, 'learning_rate': 0.004, 'n_estimators': 171, 'max_depth': 17, 'random_state': 2020, 'min_child_weight': 5}. Best is trial 58 with value: 0.7543914306394872.\n"
     ]
    },
    {
     "name": "stdout",
     "output_type": "stream",
     "text": [
      "19229\n"
     ]
    },
    {
     "name": "stderr",
     "output_type": "stream",
     "text": [
      "[I 2024-02-07 00:17:38,906] Trial 70 finished with value: 1.1136233284368153 and parameters: {'lambda': 0.0042458535277682535, 'alpha': 6.030646865617103, 'colsample_bytree': 0.5, 'colsample_bylevel': 0.6, 'subsample': 0.7, 'learning_rate': 0.009, 'n_estimators': 204, 'max_depth': 11, 'random_state': 2020, 'min_child_weight': 26}. Best is trial 58 with value: 0.7543914306394872.\n"
     ]
    },
    {
     "name": "stdout",
     "output_type": "stream",
     "text": [
      "19229\n"
     ]
    },
    {
     "name": "stderr",
     "output_type": "stream",
     "text": [
      "[I 2024-02-07 00:17:51,045] Trial 71 finished with value: 1.6496971637015223 and parameters: {'lambda': 0.001058950114710847, 'alpha': 0.003887861916671153, 'colsample_bytree': 0.6, 'colsample_bylevel': 0.6, 'subsample': 0.7, 'learning_rate': 0.001, 'n_estimators': 115, 'max_depth': 35, 'random_state': 2020, 'min_child_weight': 55}. Best is trial 58 with value: 0.7543914306394872.\n"
     ]
    },
    {
     "name": "stdout",
     "output_type": "stream",
     "text": [
      "19229\n"
     ]
    },
    {
     "name": "stderr",
     "output_type": "stream",
     "text": [
      "[I 2024-02-07 00:18:09,875] Trial 72 finished with value: 1.6288656805661275 and parameters: {'lambda': 0.001414587242457561, 'alpha': 0.0036402228135137106, 'colsample_bytree': 0.9, 'colsample_bylevel': 0.6, 'subsample': 0.7, 'learning_rate': 0.001, 'n_estimators': 136, 'max_depth': 35, 'random_state': 2020, 'min_child_weight': 43}. Best is trial 58 with value: 0.7543914306394872.\n"
     ]
    },
    {
     "name": "stdout",
     "output_type": "stream",
     "text": [
      "19229\n"
     ]
    },
    {
     "name": "stderr",
     "output_type": "stream",
     "text": [
      "[I 2024-02-07 00:20:02,777] Trial 73 finished with value: 1.6044669651602042 and parameters: {'lambda': 0.002905828931576225, 'alpha': 0.0020695994949238195, 'colsample_bytree': 1.0, 'colsample_bylevel': 0.3, 'subsample': 0.4, 'learning_rate': 0.001, 'n_estimators': 127, 'max_depth': 35, 'random_state': 2020, 'min_child_weight': 2}. Best is trial 58 with value: 0.7543914306394872.\n"
     ]
    },
    {
     "name": "stdout",
     "output_type": "stream",
     "text": [
      "19229\n"
     ]
    },
    {
     "name": "stderr",
     "output_type": "stream",
     "text": [
      "[I 2024-02-07 00:20:27,584] Trial 74 finished with value: 0.8224951672394922 and parameters: {'lambda': 0.002118604549906324, 'alpha': 0.009860257884823937, 'colsample_bytree': 0.5, 'colsample_bylevel': 0.4, 'subsample': 0.7, 'learning_rate': 0.3, 'n_estimators': 158, 'max_depth': 35, 'random_state': 2020, 'min_child_weight': 29}. Best is trial 58 with value: 0.7543914306394872.\n"
     ]
    },
    {
     "name": "stdout",
     "output_type": "stream",
     "text": [
      "19229\n"
     ]
    },
    {
     "name": "stderr",
     "output_type": "stream",
     "text": [
      "[I 2024-02-07 00:21:02,410] Trial 75 finished with value: 1.2771435013191335 and parameters: {'lambda': 0.00683247935854546, 'alpha': 0.002883585938100173, 'colsample_bytree': 1.0, 'colsample_bylevel': 0.5, 'subsample': 0.7, 'learning_rate': 0.005, 'n_estimators': 142, 'max_depth': 20, 'random_state': 2020, 'min_child_weight': 16}. Best is trial 58 with value: 0.7543914306394872.\n"
     ]
    },
    {
     "name": "stdout",
     "output_type": "stream",
     "text": [
      "19229\n"
     ]
    },
    {
     "name": "stderr",
     "output_type": "stream",
     "text": [
      "[I 2024-02-07 00:21:05,646] Trial 76 finished with value: 0.9366372197572838 and parameters: {'lambda': 0.001002413119976996, 'alpha': 0.005926062304436947, 'colsample_bytree': 0.9, 'colsample_bylevel': 0.6, 'subsample': 0.6, 'learning_rate': 0.3, 'n_estimators': 114, 'max_depth': 5, 'random_state': 2020, 'min_child_weight': 40}. Best is trial 58 with value: 0.7543914306394872.\n"
     ]
    },
    {
     "name": "stdout",
     "output_type": "stream",
     "text": [
      "19229\n"
     ]
    },
    {
     "name": "stderr",
     "output_type": "stream",
     "text": [
      "[I 2024-02-07 00:21:14,822] Trial 77 finished with value: 1.6677991673989654 and parameters: {'lambda': 0.001566141032850184, 'alpha': 0.0017437224337214542, 'colsample_bytree': 1.0, 'colsample_bylevel': 0.9, 'subsample': 0.5, 'learning_rate': 0.001, 'n_estimators': 82, 'max_depth': 35, 'random_state': 2020, 'min_child_weight': 55}. Best is trial 58 with value: 0.7543914306394872.\n"
     ]
    },
    {
     "name": "stdout",
     "output_type": "stream",
     "text": [
      "19229\n"
     ]
    },
    {
     "name": "stderr",
     "output_type": "stream",
     "text": [
      "[I 2024-02-07 00:21:29,419] Trial 78 finished with value: 0.8939084597998435 and parameters: {'lambda': 0.002208344065119758, 'alpha': 0.0043251165796886655, 'colsample_bytree': 0.5, 'colsample_bylevel': 0.6, 'subsample': 0.7, 'learning_rate': 0.5, 'n_estimators': 151, 'max_depth': 13, 'random_state': 2020, 'min_child_weight': 12}. Best is trial 58 with value: 0.7543914306394872.\n"
     ]
    },
    {
     "name": "stdout",
     "output_type": "stream",
     "text": [
      "19229\n"
     ]
    },
    {
     "name": "stderr",
     "output_type": "stream",
     "text": [
      "[I 2024-02-07 00:21:39,010] Trial 79 finished with value: 1.714557268112546 and parameters: {'lambda': 0.004136638803372903, 'alpha': 0.0013716315370767215, 'colsample_bytree': 1.0, 'colsample_bylevel': 0.6, 'subsample': 0.7, 'learning_rate': 1e-05, 'n_estimators': 176, 'max_depth': 35, 'random_state': 2020, 'min_child_weight': 188}. Best is trial 58 with value: 0.7543914306394872.\n"
     ]
    },
    {
     "name": "stdout",
     "output_type": "stream",
     "text": [
      "19229\n"
     ]
    },
    {
     "name": "stderr",
     "output_type": "stream",
     "text": [
      "[I 2024-02-07 00:21:55,773] Trial 80 finished with value: 1.61783258693875 and parameters: {'lambda': 9.563715068835341, 'alpha': 0.0025069612581882753, 'colsample_bytree': 1.0, 'colsample_bylevel': 0.4, 'subsample': 0.4, 'learning_rate': 0.001, 'n_estimators': 195, 'max_depth': 35, 'random_state': 2020, 'min_child_weight': 33}. Best is trial 58 with value: 0.7543914306394872.\n"
     ]
    },
    {
     "name": "stdout",
     "output_type": "stream",
     "text": [
      "19229\n"
     ]
    },
    {
     "name": "stderr",
     "output_type": "stream",
     "text": [
      "[I 2024-02-07 00:22:16,327] Trial 81 finished with value: 0.8022912245500387 and parameters: {'lambda': 0.0026921932742903667, 'alpha': 0.005136152835360087, 'colsample_bytree': 1.0, 'colsample_bylevel': 1.0, 'subsample': 0.7, 'learning_rate': 0.3, 'n_estimators': 121, 'max_depth': 35, 'random_state': 2020, 'min_child_weight': 48}. Best is trial 58 with value: 0.7543914306394872.\n"
     ]
    },
    {
     "name": "stdout",
     "output_type": "stream",
     "text": [
      "19229\n"
     ]
    },
    {
     "name": "stderr",
     "output_type": "stream",
     "text": [
      "[I 2024-02-07 00:22:39,867] Trial 82 finished with value: 0.7987596743971023 and parameters: {'lambda': 0.003135486786710407, 'alpha': 0.0034434671300658066, 'colsample_bytree': 1.0, 'colsample_bylevel': 1.0, 'subsample': 0.7, 'learning_rate': 0.3, 'n_estimators': 133, 'max_depth': 35, 'random_state': 2020, 'min_child_weight': 43}. Best is trial 58 with value: 0.7543914306394872.\n"
     ]
    },
    {
     "name": "stdout",
     "output_type": "stream",
     "text": [
      "19229\n"
     ]
    },
    {
     "name": "stderr",
     "output_type": "stream",
     "text": [
      "[I 2024-02-07 00:23:01,240] Trial 83 finished with value: 1.6202371334334023 and parameters: {'lambda': 0.0012514293039743716, 'alpha': 0.0036004387216084805, 'colsample_bytree': 0.6, 'colsample_bylevel': 1.0, 'subsample': 0.7, 'learning_rate': 0.001, 'n_estimators': 138, 'max_depth': 15, 'random_state': 2020, 'min_child_weight': 24}. Best is trial 58 with value: 0.7543914306394872.\n"
     ]
    },
    {
     "name": "stdout",
     "output_type": "stream",
     "text": [
      "19229\n"
     ]
    },
    {
     "name": "stderr",
     "output_type": "stream",
     "text": [
      "[I 2024-02-07 00:23:30,760] Trial 84 finished with value: 0.8023680487716933 and parameters: {'lambda': 0.004677753212265787, 'alpha': 0.003269624714595379, 'colsample_bytree': 1.0, 'colsample_bylevel': 1.0, 'subsample': 0.7, 'learning_rate': 0.3, 'n_estimators': 220, 'max_depth': 35, 'random_state': 48, 'min_child_weight': 57}. Best is trial 58 with value: 0.7543914306394872.\n"
     ]
    },
    {
     "name": "stdout",
     "output_type": "stream",
     "text": [
      "19229\n"
     ]
    },
    {
     "name": "stderr",
     "output_type": "stream",
     "text": [
      "[I 2024-02-07 00:23:45,042] Trial 85 finished with value: 1.3249276708382403 and parameters: {'lambda': 0.0033537757211859957, 'alpha': 0.008688079870338629, 'colsample_bytree': 1.0, 'colsample_bylevel': 1.0, 'subsample': 0.7, 'learning_rate': 0.007, 'n_estimators': 133, 'max_depth': 35, 'random_state': 2020, 'min_child_weight': 82}. Best is trial 58 with value: 0.7543914306394872.\n"
     ]
    },
    {
     "name": "stdout",
     "output_type": "stream",
     "text": [
      "19229\n"
     ]
    },
    {
     "name": "stderr",
     "output_type": "stream",
     "text": [
      "[I 2024-02-07 00:23:56,607] Trial 86 finished with value: 1.2921169902711844 and parameters: {'lambda': 0.0018625022478296741, 'alpha': 0.0011956129551514121, 'colsample_bytree': 0.4, 'colsample_bylevel': 0.5, 'subsample': 0.7, 'learning_rate': 0.01, 'n_estimators': 101, 'max_depth': 17, 'random_state': 2020, 'min_child_weight': 40}. Best is trial 58 with value: 0.7543914306394872.\n"
     ]
    },
    {
     "name": "stdout",
     "output_type": "stream",
     "text": [
      "19229\n"
     ]
    },
    {
     "name": "stderr",
     "output_type": "stream",
     "text": [
      "[I 2024-02-07 00:24:03,149] Trial 87 finished with value: 0.9269393699914853 and parameters: {'lambda': 3.725701176877952, 'alpha': 0.0063699772313217246, 'colsample_bytree': 1.0, 'colsample_bylevel': 1.0, 'subsample': 0.6, 'learning_rate': 0.24, 'n_estimators': 123, 'max_depth': 30, 'random_state': 2020, 'min_child_weight': 231}. Best is trial 58 with value: 0.7543914306394872.\n"
     ]
    },
    {
     "name": "stdout",
     "output_type": "stream",
     "text": [
      "19229\n"
     ]
    },
    {
     "name": "stderr",
     "output_type": "stream",
     "text": [
      "[I 2024-02-07 00:24:55,409] Trial 88 finished with value: 0.9441689015573189 and parameters: {'lambda': 0.0014542171499215344, 'alpha': 0.0018775452005164847, 'colsample_bytree': 1.0, 'colsample_bylevel': 0.9, 'subsample': 0.7, 'learning_rate': 0.8, 'n_estimators': 109, 'max_depth': 35, 'random_state': 2020, 'min_child_weight': 12}. Best is trial 58 with value: 0.7543914306394872.\n"
     ]
    },
    {
     "name": "stdout",
     "output_type": "stream",
     "text": [
      "19229\n"
     ]
    },
    {
     "name": "stderr",
     "output_type": "stream",
     "text": [
      "[I 2024-02-07 00:25:05,364] Trial 89 finished with value: 0.8347158334689463 and parameters: {'lambda': 0.003036132782766771, 'alpha': 0.010262119573320697, 'colsample_bytree': 0.9, 'colsample_bylevel': 1.0, 'subsample': 0.8, 'learning_rate': 0.3, 'n_estimators': 167, 'max_depth': 11, 'random_state': 2020, 'min_child_weight': 98}. Best is trial 58 with value: 0.7543914306394872.\n"
     ]
    },
    {
     "name": "stdout",
     "output_type": "stream",
     "text": [
      "19229\n"
     ]
    },
    {
     "name": "stderr",
     "output_type": "stream",
     "text": [
      "[I 2024-02-07 00:25:11,901] Trial 90 finished with value: 0.8706209979986811 and parameters: {'lambda': 0.17789019659561944, 'alpha': 0.01603164665548432, 'colsample_bytree': 0.5, 'colsample_bylevel': 0.3, 'subsample': 0.5, 'learning_rate': 0.2, 'n_estimators': 150, 'max_depth': 9, 'random_state': 48, 'min_child_weight': 30}. Best is trial 58 with value: 0.7543914306394872.\n"
     ]
    },
    {
     "name": "stdout",
     "output_type": "stream",
     "text": [
      "19229\n"
     ]
    },
    {
     "name": "stderr",
     "output_type": "stream",
     "text": [
      "[I 2024-02-07 00:25:32,554] Trial 91 finished with value: 0.8031192127435236 and parameters: {'lambda': 0.002492519540646901, 'alpha': 0.005712719073413036, 'colsample_bytree': 1.0, 'colsample_bylevel': 1.0, 'subsample': 0.7, 'learning_rate': 0.3, 'n_estimators': 120, 'max_depth': 35, 'random_state': 2020, 'min_child_weight': 46}. Best is trial 58 with value: 0.7543914306394872.\n"
     ]
    },
    {
     "name": "stdout",
     "output_type": "stream",
     "text": [
      "19229\n"
     ]
    },
    {
     "name": "stderr",
     "output_type": "stream",
     "text": [
      "[I 2024-02-07 00:26:17,072] Trial 92 finished with value: 1.1934406587489712 and parameters: {'lambda': 0.0013086094946265566, 'alpha': 0.004866008163079683, 'colsample_bytree': 1.0, 'colsample_bylevel': 1.0, 'subsample': 0.7, 'learning_rate': 0.008, 'n_estimators': 112, 'max_depth': 35, 'random_state': 2020, 'min_child_weight': 19}. Best is trial 58 with value: 0.7543914306394872.\n"
     ]
    },
    {
     "name": "stdout",
     "output_type": "stream",
     "text": [
      "19229\n"
     ]
    },
    {
     "name": "stderr",
     "output_type": "stream",
     "text": [
      "[I 2024-02-07 00:26:34,470] Trial 93 finished with value: 1.6373921724704619 and parameters: {'lambda': 0.0021321926928526184, 'alpha': 0.0026085972183738384, 'colsample_bytree': 1.0, 'colsample_bylevel': 1.0, 'subsample': 0.7, 'learning_rate': 0.001, 'n_estimators': 129, 'max_depth': 35, 'random_state': 2020, 'min_child_weight': 61}. Best is trial 58 with value: 0.7543914306394872.\n"
     ]
    },
    {
     "name": "stdout",
     "output_type": "stream",
     "text": [
      "19229\n"
     ]
    },
    {
     "name": "stderr",
     "output_type": "stream",
     "text": [
      "[I 2024-02-07 00:26:39,624] Trial 94 finished with value: 0.9447047511594481 and parameters: {'lambda': 0.0016892813600556758, 'alpha': 0.025191620583608416, 'colsample_bytree': 1.0, 'colsample_bylevel': 1.0, 'subsample': 0.7, 'learning_rate': 0.3, 'n_estimators': 100, 'max_depth': 35, 'random_state': 2020, 'min_child_weight': 299}. Best is trial 58 with value: 0.7543914306394872.\n"
     ]
    },
    {
     "name": "stdout",
     "output_type": "stream",
     "text": [
      "19229\n"
     ]
    },
    {
     "name": "stderr",
     "output_type": "stream",
     "text": [
      "[I 2024-02-07 00:26:56,066] Trial 95 finished with value: 0.855733781233116 and parameters: {'lambda': 0.006699318486056758, 'alpha': 0.004012758935867095, 'colsample_bytree': 1.0, 'colsample_bylevel': 0.6, 'subsample': 0.7, 'learning_rate': 0.04, 'n_estimators': 90, 'max_depth': 35, 'random_state': 2020, 'min_child_weight': 37}. Best is trial 58 with value: 0.7543914306394872.\n"
     ]
    },
    {
     "name": "stdout",
     "output_type": "stream",
     "text": [
      "19229\n"
     ]
    },
    {
     "name": "stderr",
     "output_type": "stream",
     "text": [
      "[I 2024-02-07 00:27:15,375] Trial 96 finished with value: 0.9561887610559086 and parameters: {'lambda': 0.00277860946326453, 'alpha': 0.008508267409274756, 'colsample_bytree': 1.0, 'colsample_bylevel': 1.0, 'subsample': 0.7, 'learning_rate': 0.7, 'n_estimators': 120, 'max_depth': 35, 'random_state': 2020, 'min_child_weight': 49}. Best is trial 58 with value: 0.7543914306394872.\n"
     ]
    },
    {
     "name": "stdout",
     "output_type": "stream",
     "text": [
      "19229\n"
     ]
    },
    {
     "name": "stderr",
     "output_type": "stream",
     "text": [
      "[I 2024-02-07 00:27:19,681] Trial 97 finished with value: 1.4848230673423815 and parameters: {'lambda': 0.005012344109582298, 'alpha': 0.0024765238066834306, 'colsample_bytree': 0.7, 'colsample_bylevel': 1.0, 'subsample': 0.7, 'learning_rate': 0.006, 'n_estimators': 142, 'max_depth': 5, 'random_state': 2020, 'min_child_weight': 80}. Best is trial 58 with value: 0.7543914306394872.\n"
     ]
    },
    {
     "name": "stdout",
     "output_type": "stream",
     "text": [
      "19229\n"
     ]
    },
    {
     "name": "stderr",
     "output_type": "stream",
     "text": [
      "[I 2024-02-07 00:27:25,586] Trial 98 finished with value: 0.9401401450316739 and parameters: {'lambda': 0.0035632672363972227, 'alpha': 0.007713767450167022, 'colsample_bytree': 0.3, 'colsample_bylevel': 0.6, 'subsample': 0.7, 'learning_rate': 0.42, 'n_estimators': 133, 'max_depth': 7, 'random_state': 2020, 'min_child_weight': 1}. Best is trial 58 with value: 0.7543914306394872.\n"
     ]
    },
    {
     "name": "stdout",
     "output_type": "stream",
     "text": [
      "19229\n"
     ]
    },
    {
     "name": "stderr",
     "output_type": "stream",
     "text": [
      "[I 2024-02-07 00:27:58,294] Trial 99 finished with value: 1.0100604571513276 and parameters: {'lambda': 0.0011422144723222739, 'alpha': 0.003171149447163504, 'colsample_bytree': 1.0, 'colsample_bylevel': 1.0, 'subsample': 0.7, 'learning_rate': 1.0, 'n_estimators': 180, 'max_depth': 35, 'random_state': 2020, 'min_child_weight': 22}. Best is trial 58 with value: 0.7543914306394872.\n"
     ]
    },
    {
     "name": "stdout",
     "output_type": "stream",
     "text": [
      "19229\n",
      "Number of finished trials: 100\n",
      "Best trial: {'lambda': 0.0018779219929175805, 'alpha': 0.0037227986174478366, 'colsample_bytree': 0.9, 'colsample_bylevel': 0.6, 'subsample': 0.7, 'learning_rate': 0.3, 'n_estimators': 179, 'max_depth': 35, 'random_state': 2020, 'min_child_weight': 2}\n"
     ]
    }
   ],
   "source": [
    "\n",
    "study.optimize(objective, n_trials=100) # 150 bar \"objective\" object ke trial kore kore dekhbe, here total 5*100=750\n",
    "print('Number of finished trials:', len(study.trials))\n",
    "print('Best trial:', study.best_trial.params)"
   ]
  },
  {
   "cell_type": "code",
   "execution_count": 17,
   "metadata": {},
   "outputs": [
    {
     "data": {
      "application/vnd.plotly.v1+json": {
       "config": {
        "plotlyServerURL": "https://plot.ly"
       },
       "data": [
        {
         "dimensions": [
          {
           "label": "Objective Value",
           "range": [
            0.7543914306394872,
            1.714638396614805
           ],
           "values": [
            1.706990001911963,
            0.8706209979986811,
            1.6044669651602042,
            1.5810071861968966,
            0.8738196957252004,
            0.9094780368053426,
            0.8224951672394922,
            0.9921060924123034,
            1.7012308900271609,
            0.8682206135987693,
            1.149044299833649,
            1.61783258693875,
            0.9110525343269753,
            1.2921169902711844,
            1.4616720936551184,
            1.6199900440135917,
            1.2771435013191335,
            0.9401401450316739,
            1.7066187527406742,
            1.2747108134100544,
            1.6191143960921515,
            1.604377580684658,
            1.1136233284368153,
            0.8050363170027297,
            0.7995070098842686,
            0.7992325597090093,
            0.8939084597998435,
            1.0590577114899817,
            1.6496971637015223,
            0.9360753493808771,
            1.5862692912126197,
            1.5422844037330679,
            1.6288656805661275,
            0.9366372197572838,
            0.7543914306394872,
            0.8065649361344169,
            1.714557268112546,
            0.855733781233116,
            0.7975644196830064,
            0.8700915172930918,
            1.1150808378242716,
            0.8267175364806437,
            1.6327351514656685,
            1.4415206544527839,
            1.634186085601252,
            0.8312283791246642,
            0.9701184165873782,
            0.8438145233994774,
            0.8259250618389486,
            0.8482677846229856,
            0.8217601721359594,
            1.714638396614805,
            0.8611241843824754,
            0.8632308922944776,
            0.8280564275510108,
            0.831663879072699,
            0.8681057309384574,
            1.0245657920583806,
            0.9057821048295494,
            1.2619069882279297,
            0.9526550633880471,
            0.9656838860200614,
            1.504416441978174,
            0.8836438858800129,
            1.6677991673989654,
            0.9441689015573189,
            0.8161911739266402,
            0.9369942765077811,
            1.6202371334334023,
            1.3233375381807175,
            1.4848230673423815,
            0.8347158334689463,
            1.6663666838906261,
            1.688000565690105,
            1.655568289641465,
            1.6760446068723411,
            1.6540821061329498,
            1.6399254107154149,
            1.6373921724704619,
            1.6445685753838941,
            1.3249276708382403,
            1.1934406587489712,
            0.9269393699914853,
            0.8023680487716933,
            0.8096870566711548,
            0.7769696146594712,
            0.8009118117251777,
            0.8034883327560087,
            0.8022912245500387,
            0.7987596743971023,
            0.8031192127435236,
            0.9447047511594481,
            0.8118384433362955,
            0.8076852835553825,
            0.7980863144919844,
            0.8048384850981323,
            0.7976721182784099,
            0.9213134478244397,
            0.9561887610559086,
            1.0100604571513276
           ]
          },
          {
           "label": "alpha",
           "range": [
            -2.9870665397792844,
            0.9975284995027788
           ],
           "ticktext": [
            "0.00103",
            "0.01",
            "0.1",
            "1",
            "9.94"
           ],
           "tickvals": [
            -2.9870665397792844,
            -2,
            -1,
            0,
            0.9975284995027788
           ],
           "values": [
            -2.2589688356011965,
            -1.7950218677480074,
            -2.6841136902790588,
            0.9754447648993845,
            -2.7862972209003596,
            0.15929672559424668,
            -2.006111726388262,
            -1.2294309902609502,
            -0.920862997346783,
            0.24283933181745124,
            -0.7560615693207178,
            -2.6008523774438803,
            0.9975284995027788,
            -2.922409387777715,
            -1.5090082790081472,
            -1.3480358640917347,
            -2.5400671009943587,
            -2.1127334581108355,
            -1.8530674932159972,
            -1.730278051922645,
            -2.96930115728884,
            -2.6507935533106033,
            0.780363898392355,
            -2.6960110568639926,
            -2.7076886885630023,
            -2.6864799665104493,
            -2.364002182018094,
            -2.852593997504831,
            -2.410289168100879,
            -1.5383088930199211,
            -2.50689353387537,
            -2.7779544251668336,
            -2.438872032911946,
            -2.2272337868197,
            -2.429130456045009,
            -2.331035821590041,
            -2.8627625379775234,
            -2.3965569294680855,
            -2.327180907670225,
            -0.6163759144598755,
            -0.6848972221039337,
            -1.2641689240680904,
            -2.2481096441735384,
            -1.2272690450788326,
            -1.1922235059628854,
            -1.7518728633631817,
            -0.9477765122460434,
            -1.471838268545159,
            -1.3740201887301025,
            -2.078110185162022,
            -1.1788268369142207,
            -0.15779141035424074,
            -0.14123852120516706,
            -2.3275948005516893,
            -2.3928461118035718,
            -2.446691354674245,
            -2.9870665397792844,
            -1.7326276488374897,
            -0.40894407033923863,
            -2.6686628087317468,
            -1.0159380610957065,
            -2.63865334306392,
            -2.0115924138424797,
            0.251662169786383,
            -2.758522645032386,
            -2.726409598878471,
            -2.5571348859500964,
            0.3412326082317522,
            -2.443644576242529,
            -0.26935475283415705,
            -2.606157492813142,
            -1.9887629292897924,
            -1.6422694900394226,
            -1.9423869927243338,
            -1.8689661587918776,
            -2.546542122663108,
            -2.025014815494469,
            -2.1366303182351483,
            -2.5835929731580047,
            -2.170116494521742,
            -2.0610761952266956,
            -2.31282716684427,
            -2.195862119992594,
            -2.4855020925181934,
            -2.1364911481001325,
            -1.8983516372948754,
            -2.481009649332488,
            -2.306486698253195,
            -2.289362061542405,
            -2.4630040582570474,
            -2.2431571321211985,
            -1.5987438933244373,
            -1.8809522529368357,
            -2.1301901983159617,
            -2.0867060795000207,
            -1.9001160694936308,
            -2.109343591079719,
            -2.8468936413832435,
            -2.070158868963549,
            -2.49878329043931
           ]
          },
          {
           "label": "colsample_bylevel",
           "range": [
            0,
            7
           ],
           "ticktext": [
            "0.3",
            "0.4",
            "0.5",
            "0.6",
            "0.7",
            "0.8",
            "0.9",
            "1.0"
           ],
           "tickvals": [
            0,
            1,
            2,
            3,
            4,
            5,
            6,
            7
           ],
           "values": [
            0,
            0,
            0,
            0,
            0,
            1,
            1,
            1,
            1,
            1,
            1,
            1,
            2,
            2,
            2,
            2,
            2,
            3,
            3,
            3,
            3,
            3,
            3,
            3,
            3,
            3,
            3,
            3,
            3,
            3,
            3,
            3,
            3,
            3,
            3,
            3,
            3,
            3,
            3,
            4,
            4,
            4,
            4,
            4,
            4,
            4,
            4,
            4,
            4,
            4,
            4,
            4,
            4,
            5,
            5,
            5,
            5,
            5,
            5,
            5,
            6,
            6,
            6,
            6,
            6,
            6,
            7,
            7,
            7,
            7,
            7,
            7,
            7,
            7,
            7,
            7,
            7,
            7,
            7,
            7,
            7,
            7,
            7,
            7,
            7,
            7,
            7,
            7,
            7,
            7,
            7,
            7,
            7,
            7,
            7,
            7,
            7,
            7,
            7,
            7
           ]
          },
          {
           "label": "colsample_bytree",
           "range": [
            0,
            7
           ],
           "ticktext": [
            "0.3",
            "0.4",
            "0.5",
            "0.6",
            "0.7",
            "0.8",
            "0.9",
            "1.0"
           ],
           "tickvals": [
            0,
            1,
            2,
            3,
            4,
            5,
            6,
            7
           ],
           "values": [
            2,
            2,
            7,
            7,
            7,
            1,
            2,
            3,
            4,
            4,
            5,
            7,
            0,
            1,
            2,
            3,
            7,
            0,
            1,
            1,
            2,
            2,
            2,
            2,
            2,
            2,
            2,
            2,
            3,
            3,
            6,
            6,
            6,
            6,
            6,
            6,
            7,
            7,
            7,
            2,
            4,
            4,
            5,
            5,
            5,
            5,
            5,
            5,
            5,
            5,
            5,
            6,
            6,
            0,
            0,
            0,
            0,
            0,
            4,
            4,
            4,
            5,
            6,
            6,
            7,
            7,
            1,
            1,
            3,
            4,
            4,
            6,
            7,
            7,
            7,
            7,
            7,
            7,
            7,
            7,
            7,
            7,
            7,
            7,
            7,
            7,
            7,
            7,
            7,
            7,
            7,
            7,
            7,
            7,
            7,
            7,
            7,
            7,
            7,
            7
           ]
          },
          {
           "label": "lambda",
           "range": [
            -2.998953257759793,
            0.9806266287281512
           ],
           "ticktext": [
            "0.001",
            "0.01",
            "0.1",
            "1",
            "9.56"
           ],
           "tickvals": [
            -2.998953257759793,
            -2,
            -1,
            0,
            0.9806266287281512
           ],
           "values": [
            -2.495680091154459,
            -0.7498479849219203,
            -2.5367299565415435,
            -0.9016575141220627,
            -1.4062061966618136,
            -1.5557958156205112,
            -2.6739500993632337,
            -2.750777267601652,
            -2.686654304486995,
            -2.5531410695178507,
            -1.7294954230303885,
            0.9806266287281512,
            0.8766165431326736,
            -2.7299031944350065,
            -1.2367485867060084,
            -2.4518875813458063,
            -2.165421671670918,
            -2.4481516053951293,
            -0.1133738738435999,
            -2.6679386778176224,
            -2.9772021990808226,
            -2.8276722866657598,
            -2.3720349920775146,
            -2.744381104963271,
            -2.9772111372755847,
            -2.7934007125683795,
            -2.655933261585096,
            -2.1070399336368366,
            -2.975124498264656,
            -1.1573283196890238,
            -2.3548272142723214,
            -2.758499021089792,
            -2.849370262947526,
            -2.998953257759793,
            -2.726322451872392,
            -2.594425661367607,
            -2.383352398502677,
            -2.1739693753288925,
            -2.6239011941714283,
            -0.8649172946321881,
            -2.295410635147338,
            -1.2997335869975526,
            -1.1747625146963692,
            -2.425633496740378,
            -2.106616344798534,
            -1.8055700206302145,
            -1.9458800135164311,
            -1.4466110516120778,
            -1.75853113758255,
            -2.214564501412075,
            -1.9356940641370086,
            -0.49471651827570323,
            -0.6673943457930982,
            -1.5444309467926378,
            -1.7572281666640424,
            -1.710157097052855,
            0.3680439039306723,
            -1.9657750775075598,
            -1.7492892668292754,
            -2.5680192609269246,
            -0.3124304129132219,
            -1.3294736433239287,
            -2.872873721072258,
            0.12036263341622547,
            -2.8051691317859224,
            -2.8373707379259807,
            -2.7598343737920823,
            -2.0513609918758577,
            -2.902593679624311,
            -0.007175186429670614,
            -2.2999591212846777,
            -2.5176792388497202,
            -1.5846448020848005,
            -1.0283364594607756,
            -2.250349393702674,
            -2.0043118569515213,
            -2.603173165868529,
            -2.8655080334210883,
            -2.6711735493354163,
            -2.8971611093354963,
            -2.474465983562998,
            -2.8831899329991706,
            0.5712080189882218,
            -2.3299626943221563,
            -2.9769805518851777,
            -2.747203681970838,
            -2.9889520931398095,
            -2.5839706315406143,
            -2.56989376504808,
            -2.503695025049961,
            -2.603361428257287,
            -2.772298010024586,
            -1.6291651088901118,
            -1.8774640020474878,
            -1.9813599184386743,
            -2.230248567681181,
            -2.4027254034250514,
            -2.457621614770014,
            -2.5561724895191134,
            -2.942252341448532
           ]
          },
          {
           "label": "learning_rate",
           "range": [
            0,
            26
           ],
           "ticktext": [
            "1e-05",
            "0.0001",
            "0.001",
            "0.002",
            "0.003",
            "0.004",
            "0.005",
            "0.006",
            "0.007",
            "0.008",
            "0.009",
            "0.01",
            "0.04",
            "0.08",
            "0.12",
            "0.2",
            "0.24",
            "0.3",
            "0.38",
            "0.42",
            "0.48",
            "0.5",
            "0.6",
            "0.7",
            "0.8",
            "0.9",
            "1.0"
           ],
           "tickvals": [
            0,
            1,
            2,
            3,
            4,
            5,
            6,
            7,
            8,
            9,
            10,
            11,
            12,
            13,
            14,
            15,
            16,
            17,
            18,
            19,
            20,
            21,
            22,
            23,
            24,
            25,
            26
           ],
           "values": [
            1,
            15,
            2,
            6,
            24,
            17,
            17,
            21,
            2,
            21,
            10,
            2,
            21,
            11,
            11,
            3,
            6,
            19,
            1,
            5,
            2,
            2,
            10,
            17,
            17,
            17,
            21,
            25,
            2,
            18,
            2,
            2,
            2,
            17,
            17,
            17,
            0,
            12,
            17,
            16,
            9,
            18,
            4,
            7,
            8,
            15,
            18,
            18,
            18,
            18,
            18,
            0,
            16,
            13,
            14,
            14,
            19,
            26,
            12,
            25,
            23,
            20,
            10,
            20,
            2,
            24,
            17,
            22,
            2,
            5,
            7,
            17,
            2,
            2,
            2,
            2,
            2,
            2,
            2,
            2,
            8,
            9,
            16,
            17,
            17,
            17,
            17,
            17,
            17,
            17,
            17,
            17,
            18,
            18,
            18,
            18,
            18,
            22,
            23,
            26
           ]
          },
          {
           "label": "max_depth",
           "range": [
            0,
            11
           ],
           "ticktext": [
            "5",
            "7",
            "9",
            "11",
            "13",
            "15",
            "17",
            "20",
            "25",
            "30",
            "35",
            "40"
           ],
           "tickvals": [
            0,
            1,
            2,
            3,
            4,
            5,
            6,
            7,
            8,
            9,
            10,
            11
           ],
           "values": [
            2,
            2,
            10,
            9,
            8,
            1,
            10,
            10,
            11,
            10,
            5,
            10,
            4,
            6,
            8,
            2,
            7,
            1,
            3,
            6,
            5,
            10,
            3,
            9,
            10,
            10,
            4,
            1,
            10,
            7,
            4,
            10,
            10,
            0,
            10,
            10,
            10,
            10,
            10,
            6,
            8,
            8,
            7,
            9,
            8,
            8,
            0,
            8,
            8,
            8,
            8,
            6,
            6,
            11,
            11,
            11,
            11,
            0,
            3,
            1,
            5,
            1,
            10,
            4,
            10,
            10,
            10,
            4,
            5,
            2,
            0,
            3,
            8,
            8,
            10,
            10,
            10,
            10,
            10,
            10,
            10,
            10,
            9,
            10,
            10,
            10,
            10,
            10,
            10,
            10,
            10,
            10,
            8,
            10,
            10,
            10,
            10,
            10,
            10,
            10
           ]
          },
          {
           "label": "min_child_weight",
           "range": [
            1,
            299
           ],
           "values": [
            16,
            30,
            2,
            298,
            7,
            75,
            29,
            154,
            33,
            215,
            61,
            33,
            207,
            40,
            144,
            107,
            16,
            1,
            174,
            5,
            25,
            8,
            26,
            12,
            11,
            9,
            12,
            33,
            55,
            117,
            19,
            1,
            43,
            40,
            2,
            43,
            188,
            37,
            40,
            224,
            10,
            119,
            167,
            35,
            136,
            88,
            105,
            108,
            107,
            124,
            107,
            274,
            219,
            95,
            90,
            88,
            137,
            121,
            82,
            252,
            183,
            160,
            48,
            167,
            55,
            12,
            20,
            60,
            24,
            65,
            80,
            98,
            63,
            51,
            74,
            51,
            24,
            74,
            61,
            37,
            82,
            19,
            231,
            57,
            65,
            19,
            46,
            48,
            48,
            43,
            46,
            299,
            69,
            74,
            70,
            72,
            69,
            64,
            49,
            22
           ]
          },
          {
           "label": "n_estimators",
           "range": [
            4,
            298
           ],
           "values": [
            157,
            150,
            127,
            108,
            137,
            206,
            158,
            247,
            21,
            296,
            189,
            195,
            123,
            101,
            67,
            118,
            142,
            133,
            281,
            171,
            148,
            145,
            204,
            165,
            146,
            163,
            151,
            185,
            115,
            86,
            189,
            181,
            136,
            114,
            179,
            128,
            176,
            90,
            106,
            227,
            119,
            298,
            58,
            92,
            23,
            250,
            85,
            104,
            90,
            69,
            96,
            174,
            176,
            140,
            147,
            138,
            167,
            199,
            219,
            4,
            154,
            297,
            39,
            156,
            82,
            109,
            160,
            49,
            138,
            278,
            142,
            167,
            73,
            40,
            107,
            55,
            75,
            131,
            129,
            95,
            133,
            112,
            123,
            220,
            126,
            127,
            128,
            103,
            121,
            133,
            120,
            100,
            77,
            96,
            103,
            104,
            126,
            114,
            120,
            180
           ]
          },
          {
           "label": "random_state",
           "range": [
            0,
            2
           ],
           "ticktext": [
            "24",
            "48",
            "2020"
           ],
           "tickvals": [
            0,
            1,
            2
           ],
           "values": [
            2,
            1,
            2,
            0,
            0,
            2,
            2,
            1,
            2,
            1,
            2,
            2,
            0,
            2,
            0,
            0,
            2,
            2,
            2,
            2,
            2,
            2,
            2,
            2,
            2,
            2,
            2,
            2,
            2,
            0,
            2,
            2,
            2,
            2,
            2,
            2,
            2,
            2,
            2,
            0,
            0,
            0,
            2,
            0,
            0,
            0,
            0,
            0,
            0,
            0,
            0,
            1,
            0,
            0,
            0,
            0,
            0,
            0,
            0,
            1,
            0,
            1,
            1,
            0,
            2,
            2,
            2,
            1,
            2,
            2,
            2,
            2,
            0,
            1,
            0,
            0,
            1,
            2,
            2,
            2,
            2,
            2,
            2,
            1,
            2,
            2,
            2,
            2,
            2,
            2,
            2,
            2,
            0,
            0,
            0,
            0,
            2,
            2,
            2,
            2
           ]
          },
          {
           "label": "subsample",
           "range": [
            0,
            5
           ],
           "ticktext": [
            "0.4",
            "0.5",
            "0.6",
            "0.7",
            "0.8",
            "1.0"
           ],
           "tickvals": [
            0,
            1,
            2,
            3,
            4,
            5
           ],
           "values": [
            3,
            1,
            0,
            1,
            5,
            2,
            3,
            0,
            3,
            4,
            3,
            0,
            5,
            3,
            5,
            2,
            3,
            3,
            0,
            3,
            3,
            1,
            3,
            3,
            3,
            3,
            3,
            3,
            3,
            1,
            3,
            3,
            3,
            2,
            3,
            3,
            3,
            3,
            3,
            4,
            5,
            4,
            5,
            0,
            5,
            1,
            5,
            4,
            5,
            5,
            5,
            4,
            4,
            5,
            5,
            5,
            5,
            5,
            4,
            2,
            3,
            0,
            4,
            3,
            1,
            3,
            3,
            3,
            3,
            2,
            3,
            4,
            5,
            4,
            2,
            5,
            5,
            3,
            3,
            5,
            3,
            3,
            2,
            3,
            3,
            3,
            3,
            3,
            3,
            3,
            3,
            3,
            5,
            5,
            5,
            5,
            5,
            3,
            3,
            3
           ]
          }
         ],
         "labelangle": 30,
         "labelside": "bottom",
         "line": {
          "color": [
           1.706990001911963,
           0.8706209979986811,
           1.6044669651602042,
           1.5810071861968966,
           0.8738196957252004,
           0.9094780368053426,
           0.8224951672394922,
           0.9921060924123034,
           1.7012308900271609,
           0.8682206135987693,
           1.149044299833649,
           1.61783258693875,
           0.9110525343269753,
           1.2921169902711844,
           1.4616720936551184,
           1.6199900440135917,
           1.2771435013191335,
           0.9401401450316739,
           1.7066187527406742,
           1.2747108134100544,
           1.6191143960921515,
           1.604377580684658,
           1.1136233284368153,
           0.8050363170027297,
           0.7995070098842686,
           0.7992325597090093,
           0.8939084597998435,
           1.0590577114899817,
           1.6496971637015223,
           0.9360753493808771,
           1.5862692912126197,
           1.5422844037330679,
           1.6288656805661275,
           0.9366372197572838,
           0.7543914306394872,
           0.8065649361344169,
           1.714557268112546,
           0.855733781233116,
           0.7975644196830064,
           0.8700915172930918,
           1.1150808378242716,
           0.8267175364806437,
           1.6327351514656685,
           1.4415206544527839,
           1.634186085601252,
           0.8312283791246642,
           0.9701184165873782,
           0.8438145233994774,
           0.8259250618389486,
           0.8482677846229856,
           0.8217601721359594,
           1.714638396614805,
           0.8611241843824754,
           0.8632308922944776,
           0.8280564275510108,
           0.831663879072699,
           0.8681057309384574,
           1.0245657920583806,
           0.9057821048295494,
           1.2619069882279297,
           0.9526550633880471,
           0.9656838860200614,
           1.504416441978174,
           0.8836438858800129,
           1.6677991673989654,
           0.9441689015573189,
           0.8161911739266402,
           0.9369942765077811,
           1.6202371334334023,
           1.3233375381807175,
           1.4848230673423815,
           0.8347158334689463,
           1.6663666838906261,
           1.688000565690105,
           1.655568289641465,
           1.6760446068723411,
           1.6540821061329498,
           1.6399254107154149,
           1.6373921724704619,
           1.6445685753838941,
           1.3249276708382403,
           1.1934406587489712,
           0.9269393699914853,
           0.8023680487716933,
           0.8096870566711548,
           0.7769696146594712,
           0.8009118117251777,
           0.8034883327560087,
           0.8022912245500387,
           0.7987596743971023,
           0.8031192127435236,
           0.9447047511594481,
           0.8118384433362955,
           0.8076852835553825,
           0.7980863144919844,
           0.8048384850981323,
           0.7976721182784099,
           0.9213134478244397,
           0.9561887610559086,
           1.0100604571513276
          ],
          "colorbar": {
           "title": {
            "text": "Objective Value"
           }
          },
          "colorscale": [
           [
            0,
            "rgb(247,251,255)"
           ],
           [
            0.125,
            "rgb(222,235,247)"
           ],
           [
            0.25,
            "rgb(198,219,239)"
           ],
           [
            0.375,
            "rgb(158,202,225)"
           ],
           [
            0.5,
            "rgb(107,174,214)"
           ],
           [
            0.625,
            "rgb(66,146,198)"
           ],
           [
            0.75,
            "rgb(33,113,181)"
           ],
           [
            0.875,
            "rgb(8,81,156)"
           ],
           [
            1,
            "rgb(8,48,107)"
           ]
          ],
          "reversescale": true,
          "showscale": true
         },
         "type": "parcoords"
        }
       ],
       "layout": {
        "template": {
         "data": {
          "bar": [
           {
            "error_x": {
             "color": "#2a3f5f"
            },
            "error_y": {
             "color": "#2a3f5f"
            },
            "marker": {
             "line": {
              "color": "#E5ECF6",
              "width": 0.5
             },
             "pattern": {
              "fillmode": "overlay",
              "size": 10,
              "solidity": 0.2
             }
            },
            "type": "bar"
           }
          ],
          "barpolar": [
           {
            "marker": {
             "line": {
              "color": "#E5ECF6",
              "width": 0.5
             },
             "pattern": {
              "fillmode": "overlay",
              "size": 10,
              "solidity": 0.2
             }
            },
            "type": "barpolar"
           }
          ],
          "carpet": [
           {
            "aaxis": {
             "endlinecolor": "#2a3f5f",
             "gridcolor": "white",
             "linecolor": "white",
             "minorgridcolor": "white",
             "startlinecolor": "#2a3f5f"
            },
            "baxis": {
             "endlinecolor": "#2a3f5f",
             "gridcolor": "white",
             "linecolor": "white",
             "minorgridcolor": "white",
             "startlinecolor": "#2a3f5f"
            },
            "type": "carpet"
           }
          ],
          "choropleth": [
           {
            "colorbar": {
             "outlinewidth": 0,
             "ticks": ""
            },
            "type": "choropleth"
           }
          ],
          "contour": [
           {
            "colorbar": {
             "outlinewidth": 0,
             "ticks": ""
            },
            "colorscale": [
             [
              0,
              "#0d0887"
             ],
             [
              0.1111111111111111,
              "#46039f"
             ],
             [
              0.2222222222222222,
              "#7201a8"
             ],
             [
              0.3333333333333333,
              "#9c179e"
             ],
             [
              0.4444444444444444,
              "#bd3786"
             ],
             [
              0.5555555555555556,
              "#d8576b"
             ],
             [
              0.6666666666666666,
              "#ed7953"
             ],
             [
              0.7777777777777778,
              "#fb9f3a"
             ],
             [
              0.8888888888888888,
              "#fdca26"
             ],
             [
              1,
              "#f0f921"
             ]
            ],
            "type": "contour"
           }
          ],
          "contourcarpet": [
           {
            "colorbar": {
             "outlinewidth": 0,
             "ticks": ""
            },
            "type": "contourcarpet"
           }
          ],
          "heatmap": [
           {
            "colorbar": {
             "outlinewidth": 0,
             "ticks": ""
            },
            "colorscale": [
             [
              0,
              "#0d0887"
             ],
             [
              0.1111111111111111,
              "#46039f"
             ],
             [
              0.2222222222222222,
              "#7201a8"
             ],
             [
              0.3333333333333333,
              "#9c179e"
             ],
             [
              0.4444444444444444,
              "#bd3786"
             ],
             [
              0.5555555555555556,
              "#d8576b"
             ],
             [
              0.6666666666666666,
              "#ed7953"
             ],
             [
              0.7777777777777778,
              "#fb9f3a"
             ],
             [
              0.8888888888888888,
              "#fdca26"
             ],
             [
              1,
              "#f0f921"
             ]
            ],
            "type": "heatmap"
           }
          ],
          "heatmapgl": [
           {
            "colorbar": {
             "outlinewidth": 0,
             "ticks": ""
            },
            "colorscale": [
             [
              0,
              "#0d0887"
             ],
             [
              0.1111111111111111,
              "#46039f"
             ],
             [
              0.2222222222222222,
              "#7201a8"
             ],
             [
              0.3333333333333333,
              "#9c179e"
             ],
             [
              0.4444444444444444,
              "#bd3786"
             ],
             [
              0.5555555555555556,
              "#d8576b"
             ],
             [
              0.6666666666666666,
              "#ed7953"
             ],
             [
              0.7777777777777778,
              "#fb9f3a"
             ],
             [
              0.8888888888888888,
              "#fdca26"
             ],
             [
              1,
              "#f0f921"
             ]
            ],
            "type": "heatmapgl"
           }
          ],
          "histogram": [
           {
            "marker": {
             "pattern": {
              "fillmode": "overlay",
              "size": 10,
              "solidity": 0.2
             }
            },
            "type": "histogram"
           }
          ],
          "histogram2d": [
           {
            "colorbar": {
             "outlinewidth": 0,
             "ticks": ""
            },
            "colorscale": [
             [
              0,
              "#0d0887"
             ],
             [
              0.1111111111111111,
              "#46039f"
             ],
             [
              0.2222222222222222,
              "#7201a8"
             ],
             [
              0.3333333333333333,
              "#9c179e"
             ],
             [
              0.4444444444444444,
              "#bd3786"
             ],
             [
              0.5555555555555556,
              "#d8576b"
             ],
             [
              0.6666666666666666,
              "#ed7953"
             ],
             [
              0.7777777777777778,
              "#fb9f3a"
             ],
             [
              0.8888888888888888,
              "#fdca26"
             ],
             [
              1,
              "#f0f921"
             ]
            ],
            "type": "histogram2d"
           }
          ],
          "histogram2dcontour": [
           {
            "colorbar": {
             "outlinewidth": 0,
             "ticks": ""
            },
            "colorscale": [
             [
              0,
              "#0d0887"
             ],
             [
              0.1111111111111111,
              "#46039f"
             ],
             [
              0.2222222222222222,
              "#7201a8"
             ],
             [
              0.3333333333333333,
              "#9c179e"
             ],
             [
              0.4444444444444444,
              "#bd3786"
             ],
             [
              0.5555555555555556,
              "#d8576b"
             ],
             [
              0.6666666666666666,
              "#ed7953"
             ],
             [
              0.7777777777777778,
              "#fb9f3a"
             ],
             [
              0.8888888888888888,
              "#fdca26"
             ],
             [
              1,
              "#f0f921"
             ]
            ],
            "type": "histogram2dcontour"
           }
          ],
          "mesh3d": [
           {
            "colorbar": {
             "outlinewidth": 0,
             "ticks": ""
            },
            "type": "mesh3d"
           }
          ],
          "parcoords": [
           {
            "line": {
             "colorbar": {
              "outlinewidth": 0,
              "ticks": ""
             }
            },
            "type": "parcoords"
           }
          ],
          "pie": [
           {
            "automargin": true,
            "type": "pie"
           }
          ],
          "scatter": [
           {
            "fillpattern": {
             "fillmode": "overlay",
             "size": 10,
             "solidity": 0.2
            },
            "type": "scatter"
           }
          ],
          "scatter3d": [
           {
            "line": {
             "colorbar": {
              "outlinewidth": 0,
              "ticks": ""
             }
            },
            "marker": {
             "colorbar": {
              "outlinewidth": 0,
              "ticks": ""
             }
            },
            "type": "scatter3d"
           }
          ],
          "scattercarpet": [
           {
            "marker": {
             "colorbar": {
              "outlinewidth": 0,
              "ticks": ""
             }
            },
            "type": "scattercarpet"
           }
          ],
          "scattergeo": [
           {
            "marker": {
             "colorbar": {
              "outlinewidth": 0,
              "ticks": ""
             }
            },
            "type": "scattergeo"
           }
          ],
          "scattergl": [
           {
            "marker": {
             "colorbar": {
              "outlinewidth": 0,
              "ticks": ""
             }
            },
            "type": "scattergl"
           }
          ],
          "scattermapbox": [
           {
            "marker": {
             "colorbar": {
              "outlinewidth": 0,
              "ticks": ""
             }
            },
            "type": "scattermapbox"
           }
          ],
          "scatterpolar": [
           {
            "marker": {
             "colorbar": {
              "outlinewidth": 0,
              "ticks": ""
             }
            },
            "type": "scatterpolar"
           }
          ],
          "scatterpolargl": [
           {
            "marker": {
             "colorbar": {
              "outlinewidth": 0,
              "ticks": ""
             }
            },
            "type": "scatterpolargl"
           }
          ],
          "scatterternary": [
           {
            "marker": {
             "colorbar": {
              "outlinewidth": 0,
              "ticks": ""
             }
            },
            "type": "scatterternary"
           }
          ],
          "surface": [
           {
            "colorbar": {
             "outlinewidth": 0,
             "ticks": ""
            },
            "colorscale": [
             [
              0,
              "#0d0887"
             ],
             [
              0.1111111111111111,
              "#46039f"
             ],
             [
              0.2222222222222222,
              "#7201a8"
             ],
             [
              0.3333333333333333,
              "#9c179e"
             ],
             [
              0.4444444444444444,
              "#bd3786"
             ],
             [
              0.5555555555555556,
              "#d8576b"
             ],
             [
              0.6666666666666666,
              "#ed7953"
             ],
             [
              0.7777777777777778,
              "#fb9f3a"
             ],
             [
              0.8888888888888888,
              "#fdca26"
             ],
             [
              1,
              "#f0f921"
             ]
            ],
            "type": "surface"
           }
          ],
          "table": [
           {
            "cells": {
             "fill": {
              "color": "#EBF0F8"
             },
             "line": {
              "color": "white"
             }
            },
            "header": {
             "fill": {
              "color": "#C8D4E3"
             },
             "line": {
              "color": "white"
             }
            },
            "type": "table"
           }
          ]
         },
         "layout": {
          "annotationdefaults": {
           "arrowcolor": "#2a3f5f",
           "arrowhead": 0,
           "arrowwidth": 1
          },
          "autotypenumbers": "strict",
          "coloraxis": {
           "colorbar": {
            "outlinewidth": 0,
            "ticks": ""
           }
          },
          "colorscale": {
           "diverging": [
            [
             0,
             "#8e0152"
            ],
            [
             0.1,
             "#c51b7d"
            ],
            [
             0.2,
             "#de77ae"
            ],
            [
             0.3,
             "#f1b6da"
            ],
            [
             0.4,
             "#fde0ef"
            ],
            [
             0.5,
             "#f7f7f7"
            ],
            [
             0.6,
             "#e6f5d0"
            ],
            [
             0.7,
             "#b8e186"
            ],
            [
             0.8,
             "#7fbc41"
            ],
            [
             0.9,
             "#4d9221"
            ],
            [
             1,
             "#276419"
            ]
           ],
           "sequential": [
            [
             0,
             "#0d0887"
            ],
            [
             0.1111111111111111,
             "#46039f"
            ],
            [
             0.2222222222222222,
             "#7201a8"
            ],
            [
             0.3333333333333333,
             "#9c179e"
            ],
            [
             0.4444444444444444,
             "#bd3786"
            ],
            [
             0.5555555555555556,
             "#d8576b"
            ],
            [
             0.6666666666666666,
             "#ed7953"
            ],
            [
             0.7777777777777778,
             "#fb9f3a"
            ],
            [
             0.8888888888888888,
             "#fdca26"
            ],
            [
             1,
             "#f0f921"
            ]
           ],
           "sequentialminus": [
            [
             0,
             "#0d0887"
            ],
            [
             0.1111111111111111,
             "#46039f"
            ],
            [
             0.2222222222222222,
             "#7201a8"
            ],
            [
             0.3333333333333333,
             "#9c179e"
            ],
            [
             0.4444444444444444,
             "#bd3786"
            ],
            [
             0.5555555555555556,
             "#d8576b"
            ],
            [
             0.6666666666666666,
             "#ed7953"
            ],
            [
             0.7777777777777778,
             "#fb9f3a"
            ],
            [
             0.8888888888888888,
             "#fdca26"
            ],
            [
             1,
             "#f0f921"
            ]
           ]
          },
          "colorway": [
           "#636efa",
           "#EF553B",
           "#00cc96",
           "#ab63fa",
           "#FFA15A",
           "#19d3f3",
           "#FF6692",
           "#B6E880",
           "#FF97FF",
           "#FECB52"
          ],
          "font": {
           "color": "#2a3f5f"
          },
          "geo": {
           "bgcolor": "white",
           "lakecolor": "white",
           "landcolor": "#E5ECF6",
           "showlakes": true,
           "showland": true,
           "subunitcolor": "white"
          },
          "hoverlabel": {
           "align": "left"
          },
          "hovermode": "closest",
          "mapbox": {
           "style": "light"
          },
          "paper_bgcolor": "white",
          "plot_bgcolor": "#E5ECF6",
          "polar": {
           "angularaxis": {
            "gridcolor": "white",
            "linecolor": "white",
            "ticks": ""
           },
           "bgcolor": "#E5ECF6",
           "radialaxis": {
            "gridcolor": "white",
            "linecolor": "white",
            "ticks": ""
           }
          },
          "scene": {
           "xaxis": {
            "backgroundcolor": "#E5ECF6",
            "gridcolor": "white",
            "gridwidth": 2,
            "linecolor": "white",
            "showbackground": true,
            "ticks": "",
            "zerolinecolor": "white"
           },
           "yaxis": {
            "backgroundcolor": "#E5ECF6",
            "gridcolor": "white",
            "gridwidth": 2,
            "linecolor": "white",
            "showbackground": true,
            "ticks": "",
            "zerolinecolor": "white"
           },
           "zaxis": {
            "backgroundcolor": "#E5ECF6",
            "gridcolor": "white",
            "gridwidth": 2,
            "linecolor": "white",
            "showbackground": true,
            "ticks": "",
            "zerolinecolor": "white"
           }
          },
          "shapedefaults": {
           "line": {
            "color": "#2a3f5f"
           }
          },
          "ternary": {
           "aaxis": {
            "gridcolor": "white",
            "linecolor": "white",
            "ticks": ""
           },
           "baxis": {
            "gridcolor": "white",
            "linecolor": "white",
            "ticks": ""
           },
           "bgcolor": "#E5ECF6",
           "caxis": {
            "gridcolor": "white",
            "linecolor": "white",
            "ticks": ""
           }
          },
          "title": {
           "x": 0.05
          },
          "xaxis": {
           "automargin": true,
           "gridcolor": "white",
           "linecolor": "white",
           "ticks": "",
           "title": {
            "standoff": 15
           },
           "zerolinecolor": "white",
           "zerolinewidth": 2
          },
          "yaxis": {
           "automargin": true,
           "gridcolor": "white",
           "linecolor": "white",
           "ticks": "",
           "title": {
            "standoff": 15
           },
           "zerolinecolor": "white",
           "zerolinewidth": 2
          }
         }
        },
        "title": {
         "text": "Parallel Coordinate Plot"
        }
       }
      }
     },
     "metadata": {},
     "output_type": "display_data"
    },
    {
     "data": {
      "text/plain": [
       "<Figure size 640x480 with 0 Axes>"
      ]
     },
     "metadata": {},
     "output_type": "display_data"
    }
   ],
   "source": [
    "from matplotlib import pyplot as plt\n",
    "fig_study = optuna.visualization.plot_parallel_coordinate(study, params=[\"lambda\", \"alpha\",\"colsample_bytree\",\"colsample_bylevel\",\"subsample\",\"learning_rate\",\"n_estimators\",\"max_depth\",\"random_state\",\"min_child_weight\"])\n",
    "plt.savefig('plot.png', dpi=300, bbox_inches='tight')\n",
    "fig_study.show()"
   ]
  },
  {
   "cell_type": "code",
   "execution_count": 18,
   "metadata": {},
   "outputs": [
    {
     "name": "stdout",
     "output_type": "stream",
     "text": [
      "Number of finished trials:  100\n",
      "Best trial:\n",
      "  Value:  0.7543914306394872\n",
      "  Params: \n",
      "    lambda: 0.0018779219929175805\n",
      "    alpha: 0.0037227986174478366\n",
      "    colsample_bytree: 0.9\n",
      "    colsample_bylevel: 0.6\n",
      "    subsample: 0.7\n",
      "    learning_rate: 0.3\n",
      "    n_estimators: 179\n",
      "    max_depth: 35\n",
      "    random_state: 2020\n",
      "    min_child_weight: 2\n"
     ]
    }
   ],
   "source": [
    "#evaluate the trial\n",
    "print(\"Number of finished trials: \", len(study.trials))\n",
    "print(\"Best trial:\")\n",
    "trial = study.best_trial\n",
    "print(\"  Value: \", trial.value)\n",
    "print(\"  Params: \")\n",
    "for key, value in trial.params.items():\n",
    "    print(\"    {}: {}\".format(key, value))"
   ]
  },
  {
   "cell_type": "markdown",
   "metadata": {},
   "source": [
    "# process the whole data"
   ]
  },
  {
   "cell_type": "code",
   "execution_count": 19,
   "metadata": {},
   "outputs": [
    {
     "name": "stdout",
     "output_type": "stream",
     "text": [
      "   Elevation    Aspect     Slope  Horizontal_Distance_To_Hydrology  \\\n",
      "0   0.672888  0.141667  0.045455                          0.184681   \n",
      "1   0.671332  0.155556  0.030303                          0.151754   \n",
      "2   0.726801  0.386111  0.136364                          0.191840   \n",
      "3   0.721877  0.430556  0.272727                          0.173228   \n",
      "4   0.672628  0.125000  0.030303                          0.109520   \n",
      "\n",
      "   Vertical_Distance_To_Hydrology  Horizontal_Distance_To_Roadways  \\\n",
      "0                        0.000000                         0.071659   \n",
      "1                       -0.009983                         0.054798   \n",
      "2                        0.108153                         0.446817   \n",
      "3                        0.196339                         0.434172   \n",
      "4                       -0.001664                         0.054939   \n",
      "\n",
      "   Hillshade_9am  Hillshade_Noon  Hillshade_3pm  \\\n",
      "0       0.870079        0.913386       0.582677   \n",
      "1       0.866142        0.925197       0.594488   \n",
      "2       0.921260        0.937008       0.531496   \n",
      "3       0.937008        0.937008       0.480315   \n",
      "4       0.866142        0.921260       0.590551   \n",
      "\n",
      "   Horizontal_Distance_To_Fire_Points  ...  Soil_Type32  Soil_Type33  \\\n",
      "0                            0.875366  ...          0.0          0.0   \n",
      "1                            0.867838  ...          0.0          0.0   \n",
      "2                            0.853339  ...          0.0          0.0   \n",
      "3                            0.865886  ...          0.0          0.0   \n",
      "4                            0.860449  ...          0.0          0.0   \n",
      "\n",
      "   Soil_Type34  Soil_Type35  Soil_Type36  Soil_Type37  Soil_Type38  \\\n",
      "0          0.0          0.0          0.0          0.0          0.0   \n",
      "1          0.0          0.0          0.0          0.0          0.0   \n",
      "2          0.0          0.0          0.0          0.0          0.0   \n",
      "3          0.0          0.0          0.0          0.0          0.0   \n",
      "4          0.0          0.0          0.0          0.0          0.0   \n",
      "\n",
      "   Soil_Type39  Soil_Type40  Cover_Type  \n",
      "0          0.0          0.0         5.0  \n",
      "1          0.0          0.0         5.0  \n",
      "2          0.0          0.0         2.0  \n",
      "3          0.0          0.0         2.0  \n",
      "4          0.0          0.0         5.0  \n",
      "\n",
      "[5 rows x 55 columns]\n",
      "['Elevation', 'Aspect', 'Slope', 'Horizontal_Distance_To_Hydrology', 'Vertical_Distance_To_Hydrology', 'Horizontal_Distance_To_Roadways', 'Hillshade_9am', 'Hillshade_Noon', 'Hillshade_3pm', 'Horizontal_Distance_To_Fire_Points', 'Wilderness_Area1', 'Wilderness_Area2', 'Wilderness_Area3', 'Wilderness_Area4', 'Soil_Type1', 'Soil_Type2', 'Soil_Type3', 'Soil_Type4', 'Soil_Type5', 'Soil_Type6', 'Soil_Type7', 'Soil_Type8', 'Soil_Type9', 'Soil_Type10', 'Soil_Type11', 'Soil_Type12', 'Soil_Type13', 'Soil_Type14', 'Soil_Type15', 'Soil_Type16', 'Soil_Type17', 'Soil_Type18', 'Soil_Type19', 'Soil_Type20', 'Soil_Type21', 'Soil_Type22', 'Soil_Type23', 'Soil_Type24', 'Soil_Type25', 'Soil_Type26', 'Soil_Type27', 'Soil_Type28', 'Soil_Type29', 'Soil_Type30', 'Soil_Type31', 'Soil_Type32', 'Soil_Type33', 'Soil_Type34', 'Soil_Type35', 'Soil_Type36', 'Soil_Type37', 'Soil_Type38', 'Soil_Type39', 'Soil_Type40', 'Cover_Type']\n",
      "<class 'pandas.core.frame.DataFrame'>\n",
      "              0         1         2         3         4         5         6   \\\n",
      "0       0.624676  0.375000  0.121212  0.115963  0.106489  0.025292  0.921260   \n",
      "1       0.825557  0.000000  0.287879  0.068003  0.048253  0.252916  0.744094   \n",
      "2       0.881545  0.388889  0.121212  0.577666  0.392679  0.199663  0.917323   \n",
      "3       0.766719  0.286111  0.242424  0.095920  0.038270  0.300548  0.964567   \n",
      "4       0.795749  0.008333  0.212121  0.429492  0.242928  0.582127  0.787402   \n",
      "...          ...       ...       ...       ...       ...       ...       ...   \n",
      "581007  0.493779  0.222222  0.287879  0.068003  0.063228  0.016861  0.952756   \n",
      "581008  0.802748  0.141667  0.151515  0.194703  0.094842  0.408318  0.885827   \n",
      "581009  0.802748  0.725000  0.075758  0.000000  0.000000  0.374175  0.822835   \n",
      "581010  0.843961  0.388889  0.166667  0.000000  0.000000  0.616130  0.929134   \n",
      "581011  0.631674  0.991667  0.242424  0.319256  0.277870  0.140087  0.755906   \n",
      "\n",
      "              7         8         9   ...   45   46   47   48   49   50   51  \\\n",
      "0       0.933071  0.527559  0.080301  ...  0.0  0.0  0.0  0.0  0.0  0.0  0.0   \n",
      "1       0.791339  0.578740  0.301129  ...  0.0  1.0  0.0  0.0  0.0  0.0  0.0   \n",
      "2       0.937008  0.535433  0.150146  ...  0.0  0.0  0.0  0.0  0.0  0.0  0.0   \n",
      "3       0.858268  0.381890  0.119755  ...  0.0  0.0  0.0  0.0  0.0  0.0  0.0   \n",
      "4       0.834646  0.582677  0.331242  ...  0.0  0.0  0.0  0.0  0.0  0.0  0.0   \n",
      "...          ...       ...       ...  ...  ...  ...  ...  ...  ...  ...  ...   \n",
      "581007  0.791339  0.322835  0.138993  ...  0.0  0.0  0.0  0.0  0.0  0.0  0.0   \n",
      "581008  0.858268  0.496063  0.793252  ...  0.0  0.0  0.0  0.0  0.0  0.0  0.0   \n",
      "581009  0.952756  0.677165  0.076955  ...  0.0  0.0  0.0  0.0  0.0  0.0  0.0   \n",
      "581010  0.933071  0.511811  0.308100  ...  0.0  0.0  0.0  0.0  0.0  0.0  1.0   \n",
      "581011  0.822835  0.598425  0.144431  ...  0.0  0.0  0.0  0.0  0.0  0.0  0.0   \n",
      "\n",
      "         52   53   54  \n",
      "0       0.0  0.0  3.0  \n",
      "1       0.0  0.0  2.0  \n",
      "2       0.0  0.0  1.0  \n",
      "3       0.0  0.0  1.0  \n",
      "4       0.0  0.0  2.0  \n",
      "...     ...  ...  ...  \n",
      "581007  0.0  0.0  3.0  \n",
      "581008  0.0  0.0  2.0  \n",
      "581009  0.0  0.0  1.0  \n",
      "581010  0.0  0.0  1.0  \n",
      "581011  0.0  0.0  6.0  \n",
      "\n",
      "[581012 rows x 55 columns]\n"
     ]
    }
   ],
   "source": [
    "filename_2 = '../shot_listed_dataset/Cover_type_whole_genuine_dataset_normalization.csv'\n",
    "dataset_2=getData(filename_2).values.tolist()\n",
    "random.shuffle(dataset_2)\n",
    "\n",
    "dataset_2=pd.DataFrame(dataset_2) #from dataset_list to dataset_dataframe after suffling\n",
    "print(dataset_2)"
   ]
  },
  {
   "cell_type": "code",
   "execution_count": 20,
   "metadata": {},
   "outputs": [],
   "source": [
    "X_2=dataset_2.iloc[:,0:-1]\n",
    "y_2=dataset_2.iloc[:,-1]\n",
    "X_train_2, y_train_2, X_test_2, y_test_2 = split_data(dataset_2)"
   ]
  },
  {
   "cell_type": "code",
   "execution_count": 21,
   "metadata": {},
   "outputs": [
    {
     "name": "stdout",
     "output_type": "stream",
     "text": [
      "18157/18157 [==============================] - 19s 1ms/step\n",
      "16340/16340 [==============================] - 17s 1ms/step\n",
      "1818/1818 [==============================] - 2s 1ms/step\n"
     ]
    }
   ],
   "source": [
    "encoded_X_2 = pd.DataFrame(encoder.predict(X_2))\n",
    "encoded_X_2 = encoded_X_2.add_prefix('feature_')\n",
    "\n",
    "encoded_X_train_2 = pd.DataFrame(encoder.predict(X_train_2))\n",
    "encoded_X_train_2 = encoded_X_train_2.add_prefix('feature_')\n",
    "\n",
    "encoded_X_test_2 = pd.DataFrame(encoder.predict(X_test_2))\n",
    "encoded_X_test_2 = encoded_X_test_2.add_prefix('feature_')\n",
    "\n"
   ]
  },
  {
   "cell_type": "markdown",
   "metadata": {},
   "source": [
    "# fit the XG-Boost model"
   ]
  },
  {
   "cell_type": "markdown",
   "metadata": {},
   "source": [
    "**Process 1 ( without k-fold validation, whole data)**"
   ]
  },
  {
   "cell_type": "code",
   "execution_count": 79,
   "metadata": {},
   "outputs": [],
   "source": [
    "X_train_, X_valid_, y_train_, y_valid_ = train_test_split(X_train_2, y_train_2, test_size=0.2, random_state=7)"
   ]
  },
  {
   "cell_type": "code",
   "execution_count": 80,
   "metadata": {},
   "outputs": [
    {
     "name": "stdout",
     "output_type": "stream",
     "text": [
      "[0]\tvalidation_0-merror:0.37742\tvalidation_0-mlogloss:1.50969\tvalidation_1-merror:0.37467\tvalidation_1-mlogloss:1.50758\n",
      "[1]\tvalidation_0-merror:0.32856\tvalidation_0-mlogloss:1.26158\tvalidation_1-merror:0.32740\tvalidation_1-mlogloss:1.25892\n",
      "[2]\tvalidation_0-merror:0.30666\tvalidation_0-mlogloss:1.10569\tvalidation_1-merror:0.30522\tvalidation_1-mlogloss:1.10281\n",
      "[3]\tvalidation_0-merror:0.29240\tvalidation_0-mlogloss:0.99706\tvalidation_1-merror:0.28967\tvalidation_1-mlogloss:0.99450\n",
      "[4]\tvalidation_0-merror:0.28126\tvalidation_0-mlogloss:0.91787\tvalidation_1-merror:0.27931\tvalidation_1-mlogloss:0.91568\n",
      "[5]\tvalidation_0-merror:0.27757\tvalidation_0-mlogloss:0.86639\tvalidation_1-merror:0.27567\tvalidation_1-mlogloss:0.86426\n",
      "[6]\tvalidation_0-merror:0.27354\tvalidation_0-mlogloss:0.81815\tvalidation_1-merror:0.27203\tvalidation_1-mlogloss:0.81529\n",
      "[7]\tvalidation_0-merror:0.26916\tvalidation_0-mlogloss:0.77872\tvalidation_1-merror:0.26675\tvalidation_1-mlogloss:0.77583\n",
      "[8]\tvalidation_0-merror:0.26459\tvalidation_0-mlogloss:0.74676\tvalidation_1-merror:0.26166\tvalidation_1-mlogloss:0.74387\n",
      "[9]\tvalidation_0-merror:0.26244\tvalidation_0-mlogloss:0.72734\tvalidation_1-merror:0.26062\tvalidation_1-mlogloss:0.72456\n",
      "[10]\tvalidation_0-merror:0.26005\tvalidation_0-mlogloss:0.71019\tvalidation_1-merror:0.25833\tvalidation_1-mlogloss:0.70740\n",
      "[11]\tvalidation_0-merror:0.25845\tvalidation_0-mlogloss:0.69714\tvalidation_1-merror:0.25718\tvalidation_1-mlogloss:0.69446\n",
      "[12]\tvalidation_0-merror:0.25776\tvalidation_0-mlogloss:0.68830\tvalidation_1-merror:0.25689\tvalidation_1-mlogloss:0.68570\n",
      "[13]\tvalidation_0-merror:0.25673\tvalidation_0-mlogloss:0.68077\tvalidation_1-merror:0.25578\tvalidation_1-mlogloss:0.67871\n",
      "[14]\tvalidation_0-merror:0.25513\tvalidation_0-mlogloss:0.67303\tvalidation_1-merror:0.25345\tvalidation_1-mlogloss:0.67075\n",
      "[15]\tvalidation_0-merror:0.25460\tvalidation_0-mlogloss:0.66955\tvalidation_1-merror:0.25331\tvalidation_1-mlogloss:0.66698\n",
      "[16]\tvalidation_0-merror:0.25287\tvalidation_0-mlogloss:0.66425\tvalidation_1-merror:0.25201\tvalidation_1-mlogloss:0.66151\n",
      "[17]\tvalidation_0-merror:0.25235\tvalidation_0-mlogloss:0.66235\tvalidation_1-merror:0.25131\tvalidation_1-mlogloss:0.65961\n",
      "[18]\tvalidation_0-merror:0.25111\tvalidation_0-mlogloss:0.65904\tvalidation_1-merror:0.25025\tvalidation_1-mlogloss:0.65615\n",
      "[19]\tvalidation_0-merror:0.25018\tvalidation_0-mlogloss:0.65637\tvalidation_1-merror:0.24901\tvalidation_1-mlogloss:0.65340\n",
      "[20]\tvalidation_0-merror:0.24928\tvalidation_0-mlogloss:0.65473\tvalidation_1-merror:0.24853\tvalidation_1-mlogloss:0.65174\n",
      "[21]\tvalidation_0-merror:0.24890\tvalidation_0-mlogloss:0.65375\tvalidation_1-merror:0.24803\tvalidation_1-mlogloss:0.65112\n",
      "[22]\tvalidation_0-merror:0.24935\tvalidation_0-mlogloss:0.65582\tvalidation_1-merror:0.24869\tvalidation_1-mlogloss:0.65308\n",
      "[23]\tvalidation_0-merror:0.24904\tvalidation_0-mlogloss:0.65565\tvalidation_1-merror:0.24822\tvalidation_1-mlogloss:0.65277\n",
      "[24]\tvalidation_0-merror:0.24871\tvalidation_0-mlogloss:0.65577\tvalidation_1-merror:0.24796\tvalidation_1-mlogloss:0.65279\n",
      "[25]\tvalidation_0-merror:0.24813\tvalidation_0-mlogloss:0.65561\tvalidation_1-merror:0.24723\tvalidation_1-mlogloss:0.65270\n",
      "[26]\tvalidation_0-merror:0.24741\tvalidation_0-mlogloss:0.65502\tvalidation_1-merror:0.24659\tvalidation_1-mlogloss:0.65227\n",
      "[27]\tvalidation_0-merror:0.24741\tvalidation_0-mlogloss:0.65686\tvalidation_1-merror:0.24667\tvalidation_1-mlogloss:0.65407\n",
      "[28]\tvalidation_0-merror:0.24739\tvalidation_0-mlogloss:0.65737\tvalidation_1-merror:0.24665\tvalidation_1-mlogloss:0.65451\n",
      "[29]\tvalidation_0-merror:0.24719\tvalidation_0-mlogloss:0.65779\tvalidation_1-merror:0.24635\tvalidation_1-mlogloss:0.65480\n",
      "[30]\tvalidation_0-merror:0.24680\tvalidation_0-mlogloss:0.65886\tvalidation_1-merror:0.24601\tvalidation_1-mlogloss:0.65584\n"
     ]
    },
    {
     "data": {
      "text/html": [
       "<style>#sk-container-id-5 {\n",
       "  /* Definition of color scheme common for light and dark mode */\n",
       "  --sklearn-color-text: black;\n",
       "  --sklearn-color-line: gray;\n",
       "  /* Definition of color scheme for unfitted estimators */\n",
       "  --sklearn-color-unfitted-level-0: #fff5e6;\n",
       "  --sklearn-color-unfitted-level-1: #f6e4d2;\n",
       "  --sklearn-color-unfitted-level-2: #ffe0b3;\n",
       "  --sklearn-color-unfitted-level-3: chocolate;\n",
       "  /* Definition of color scheme for fitted estimators */\n",
       "  --sklearn-color-fitted-level-0: #f0f8ff;\n",
       "  --sklearn-color-fitted-level-1: #d4ebff;\n",
       "  --sklearn-color-fitted-level-2: #b3dbfd;\n",
       "  --sklearn-color-fitted-level-3: cornflowerblue;\n",
       "\n",
       "  /* Specific color for light theme */\n",
       "  --sklearn-color-text-on-default-background: var(--sg-text-color, var(--theme-code-foreground, var(--jp-content-font-color1, black)));\n",
       "  --sklearn-color-background: var(--sg-background-color, var(--theme-background, var(--jp-layout-color0, white)));\n",
       "  --sklearn-color-border-box: var(--sg-text-color, var(--theme-code-foreground, var(--jp-content-font-color1, black)));\n",
       "  --sklearn-color-icon: #696969;\n",
       "\n",
       "  @media (prefers-color-scheme: dark) {\n",
       "    /* Redefinition of color scheme for dark theme */\n",
       "    --sklearn-color-text-on-default-background: var(--sg-text-color, var(--theme-code-foreground, var(--jp-content-font-color1, white)));\n",
       "    --sklearn-color-background: var(--sg-background-color, var(--theme-background, var(--jp-layout-color0, #111)));\n",
       "    --sklearn-color-border-box: var(--sg-text-color, var(--theme-code-foreground, var(--jp-content-font-color1, white)));\n",
       "    --sklearn-color-icon: #878787;\n",
       "  }\n",
       "}\n",
       "\n",
       "#sk-container-id-5 {\n",
       "  color: var(--sklearn-color-text);\n",
       "}\n",
       "\n",
       "#sk-container-id-5 pre {\n",
       "  padding: 0;\n",
       "}\n",
       "\n",
       "#sk-container-id-5 input.sk-hidden--visually {\n",
       "  border: 0;\n",
       "  clip: rect(1px 1px 1px 1px);\n",
       "  clip: rect(1px, 1px, 1px, 1px);\n",
       "  height: 1px;\n",
       "  margin: -1px;\n",
       "  overflow: hidden;\n",
       "  padding: 0;\n",
       "  position: absolute;\n",
       "  width: 1px;\n",
       "}\n",
       "\n",
       "#sk-container-id-5 div.sk-dashed-wrapped {\n",
       "  border: 1px dashed var(--sklearn-color-line);\n",
       "  margin: 0 0.4em 0.5em 0.4em;\n",
       "  box-sizing: border-box;\n",
       "  padding-bottom: 0.4em;\n",
       "  background-color: var(--sklearn-color-background);\n",
       "}\n",
       "\n",
       "#sk-container-id-5 div.sk-container {\n",
       "  /* jupyter's `normalize.less` sets `[hidden] { display: none; }`\n",
       "     but bootstrap.min.css set `[hidden] { display: none !important; }`\n",
       "     so we also need the `!important` here to be able to override the\n",
       "     default hidden behavior on the sphinx rendered scikit-learn.org.\n",
       "     See: https://github.com/scikit-learn/scikit-learn/issues/21755 */\n",
       "  display: inline-block !important;\n",
       "  position: relative;\n",
       "}\n",
       "\n",
       "#sk-container-id-5 div.sk-text-repr-fallback {\n",
       "  display: none;\n",
       "}\n",
       "\n",
       "div.sk-parallel-item,\n",
       "div.sk-serial,\n",
       "div.sk-item {\n",
       "  /* draw centered vertical line to link estimators */\n",
       "  background-image: linear-gradient(var(--sklearn-color-text-on-default-background), var(--sklearn-color-text-on-default-background));\n",
       "  background-size: 2px 100%;\n",
       "  background-repeat: no-repeat;\n",
       "  background-position: center center;\n",
       "}\n",
       "\n",
       "/* Parallel-specific style estimator block */\n",
       "\n",
       "#sk-container-id-5 div.sk-parallel-item::after {\n",
       "  content: \"\";\n",
       "  width: 100%;\n",
       "  border-bottom: 2px solid var(--sklearn-color-text-on-default-background);\n",
       "  flex-grow: 1;\n",
       "}\n",
       "\n",
       "#sk-container-id-5 div.sk-parallel {\n",
       "  display: flex;\n",
       "  align-items: stretch;\n",
       "  justify-content: center;\n",
       "  background-color: var(--sklearn-color-background);\n",
       "  position: relative;\n",
       "}\n",
       "\n",
       "#sk-container-id-5 div.sk-parallel-item {\n",
       "  display: flex;\n",
       "  flex-direction: column;\n",
       "}\n",
       "\n",
       "#sk-container-id-5 div.sk-parallel-item:first-child::after {\n",
       "  align-self: flex-end;\n",
       "  width: 50%;\n",
       "}\n",
       "\n",
       "#sk-container-id-5 div.sk-parallel-item:last-child::after {\n",
       "  align-self: flex-start;\n",
       "  width: 50%;\n",
       "}\n",
       "\n",
       "#sk-container-id-5 div.sk-parallel-item:only-child::after {\n",
       "  width: 0;\n",
       "}\n",
       "\n",
       "/* Serial-specific style estimator block */\n",
       "\n",
       "#sk-container-id-5 div.sk-serial {\n",
       "  display: flex;\n",
       "  flex-direction: column;\n",
       "  align-items: center;\n",
       "  background-color: var(--sklearn-color-background);\n",
       "  padding-right: 1em;\n",
       "  padding-left: 1em;\n",
       "}\n",
       "\n",
       "\n",
       "/* Toggleable style: style used for estimator/Pipeline/ColumnTransformer box that is\n",
       "clickable and can be expanded/collapsed.\n",
       "- Pipeline and ColumnTransformer use this feature and define the default style\n",
       "- Estimators will overwrite some part of the style using the `sk-estimator` class\n",
       "*/\n",
       "\n",
       "/* Pipeline and ColumnTransformer style (default) */\n",
       "\n",
       "#sk-container-id-5 div.sk-toggleable {\n",
       "  /* Default theme specific background. It is overwritten whether we have a\n",
       "  specific estimator or a Pipeline/ColumnTransformer */\n",
       "  background-color: var(--sklearn-color-background);\n",
       "}\n",
       "\n",
       "/* Toggleable label */\n",
       "#sk-container-id-5 label.sk-toggleable__label {\n",
       "  cursor: pointer;\n",
       "  display: block;\n",
       "  width: 100%;\n",
       "  margin-bottom: 0;\n",
       "  padding: 0.5em;\n",
       "  box-sizing: border-box;\n",
       "  text-align: center;\n",
       "}\n",
       "\n",
       "#sk-container-id-5 label.sk-toggleable__label-arrow:before {\n",
       "  /* Arrow on the left of the label */\n",
       "  content: \"▸\";\n",
       "  float: left;\n",
       "  margin-right: 0.25em;\n",
       "  color: var(--sklearn-color-icon);\n",
       "}\n",
       "\n",
       "#sk-container-id-5 label.sk-toggleable__label-arrow:hover:before {\n",
       "  color: var(--sklearn-color-text);\n",
       "}\n",
       "\n",
       "/* Toggleable content - dropdown */\n",
       "\n",
       "#sk-container-id-5 div.sk-toggleable__content {\n",
       "  max-height: 0;\n",
       "  max-width: 0;\n",
       "  overflow: hidden;\n",
       "  text-align: left;\n",
       "  /* unfitted */\n",
       "  background-color: var(--sklearn-color-unfitted-level-0);\n",
       "}\n",
       "\n",
       "#sk-container-id-5 div.sk-toggleable__content.fitted {\n",
       "  /* fitted */\n",
       "  background-color: var(--sklearn-color-fitted-level-0);\n",
       "}\n",
       "\n",
       "#sk-container-id-5 div.sk-toggleable__content pre {\n",
       "  margin: 0.2em;\n",
       "  border-radius: 0.25em;\n",
       "  color: var(--sklearn-color-text);\n",
       "  /* unfitted */\n",
       "  background-color: var(--sklearn-color-unfitted-level-0);\n",
       "}\n",
       "\n",
       "#sk-container-id-5 div.sk-toggleable__content.fitted pre {\n",
       "  /* unfitted */\n",
       "  background-color: var(--sklearn-color-fitted-level-0);\n",
       "}\n",
       "\n",
       "#sk-container-id-5 input.sk-toggleable__control:checked~div.sk-toggleable__content {\n",
       "  /* Expand drop-down */\n",
       "  max-height: 200px;\n",
       "  max-width: 100%;\n",
       "  overflow: auto;\n",
       "}\n",
       "\n",
       "#sk-container-id-5 input.sk-toggleable__control:checked~label.sk-toggleable__label-arrow:before {\n",
       "  content: \"▾\";\n",
       "}\n",
       "\n",
       "/* Pipeline/ColumnTransformer-specific style */\n",
       "\n",
       "#sk-container-id-5 div.sk-label input.sk-toggleable__control:checked~label.sk-toggleable__label {\n",
       "  color: var(--sklearn-color-text);\n",
       "  background-color: var(--sklearn-color-unfitted-level-2);\n",
       "}\n",
       "\n",
       "#sk-container-id-5 div.sk-label.fitted input.sk-toggleable__control:checked~label.sk-toggleable__label {\n",
       "  background-color: var(--sklearn-color-fitted-level-2);\n",
       "}\n",
       "\n",
       "/* Estimator-specific style */\n",
       "\n",
       "/* Colorize estimator box */\n",
       "#sk-container-id-5 div.sk-estimator input.sk-toggleable__control:checked~label.sk-toggleable__label {\n",
       "  /* unfitted */\n",
       "  background-color: var(--sklearn-color-unfitted-level-2);\n",
       "}\n",
       "\n",
       "#sk-container-id-5 div.sk-estimator.fitted input.sk-toggleable__control:checked~label.sk-toggleable__label {\n",
       "  /* fitted */\n",
       "  background-color: var(--sklearn-color-fitted-level-2);\n",
       "}\n",
       "\n",
       "#sk-container-id-5 div.sk-label label.sk-toggleable__label,\n",
       "#sk-container-id-5 div.sk-label label {\n",
       "  /* The background is the default theme color */\n",
       "  color: var(--sklearn-color-text-on-default-background);\n",
       "}\n",
       "\n",
       "/* On hover, darken the color of the background */\n",
       "#sk-container-id-5 div.sk-label:hover label.sk-toggleable__label {\n",
       "  color: var(--sklearn-color-text);\n",
       "  background-color: var(--sklearn-color-unfitted-level-2);\n",
       "}\n",
       "\n",
       "/* Label box, darken color on hover, fitted */\n",
       "#sk-container-id-5 div.sk-label.fitted:hover label.sk-toggleable__label.fitted {\n",
       "  color: var(--sklearn-color-text);\n",
       "  background-color: var(--sklearn-color-fitted-level-2);\n",
       "}\n",
       "\n",
       "/* Estimator label */\n",
       "\n",
       "#sk-container-id-5 div.sk-label label {\n",
       "  font-family: monospace;\n",
       "  font-weight: bold;\n",
       "  display: inline-block;\n",
       "  line-height: 1.2em;\n",
       "}\n",
       "\n",
       "#sk-container-id-5 div.sk-label-container {\n",
       "  text-align: center;\n",
       "}\n",
       "\n",
       "/* Estimator-specific */\n",
       "#sk-container-id-5 div.sk-estimator {\n",
       "  font-family: monospace;\n",
       "  border: 1px dotted var(--sklearn-color-border-box);\n",
       "  border-radius: 0.25em;\n",
       "  box-sizing: border-box;\n",
       "  margin-bottom: 0.5em;\n",
       "  /* unfitted */\n",
       "  background-color: var(--sklearn-color-unfitted-level-0);\n",
       "}\n",
       "\n",
       "#sk-container-id-5 div.sk-estimator.fitted {\n",
       "  /* fitted */\n",
       "  background-color: var(--sklearn-color-fitted-level-0);\n",
       "}\n",
       "\n",
       "/* on hover */\n",
       "#sk-container-id-5 div.sk-estimator:hover {\n",
       "  /* unfitted */\n",
       "  background-color: var(--sklearn-color-unfitted-level-2);\n",
       "}\n",
       "\n",
       "#sk-container-id-5 div.sk-estimator.fitted:hover {\n",
       "  /* fitted */\n",
       "  background-color: var(--sklearn-color-fitted-level-2);\n",
       "}\n",
       "\n",
       "/* Specification for estimator info (e.g. \"i\" and \"?\") */\n",
       "\n",
       "/* Common style for \"i\" and \"?\" */\n",
       "\n",
       ".sk-estimator-doc-link,\n",
       "a:link.sk-estimator-doc-link,\n",
       "a:visited.sk-estimator-doc-link {\n",
       "  float: right;\n",
       "  font-size: smaller;\n",
       "  line-height: 1em;\n",
       "  font-family: monospace;\n",
       "  background-color: var(--sklearn-color-background);\n",
       "  border-radius: 1em;\n",
       "  height: 1em;\n",
       "  width: 1em;\n",
       "  text-decoration: none !important;\n",
       "  margin-left: 1ex;\n",
       "  /* unfitted */\n",
       "  border: var(--sklearn-color-unfitted-level-1) 1pt solid;\n",
       "  color: var(--sklearn-color-unfitted-level-1);\n",
       "}\n",
       "\n",
       ".sk-estimator-doc-link.fitted,\n",
       "a:link.sk-estimator-doc-link.fitted,\n",
       "a:visited.sk-estimator-doc-link.fitted {\n",
       "  /* fitted */\n",
       "  border: var(--sklearn-color-fitted-level-1) 1pt solid;\n",
       "  color: var(--sklearn-color-fitted-level-1);\n",
       "}\n",
       "\n",
       "/* On hover */\n",
       "div.sk-estimator:hover .sk-estimator-doc-link:hover,\n",
       ".sk-estimator-doc-link:hover,\n",
       "div.sk-label-container:hover .sk-estimator-doc-link:hover,\n",
       ".sk-estimator-doc-link:hover {\n",
       "  /* unfitted */\n",
       "  background-color: var(--sklearn-color-unfitted-level-3);\n",
       "  color: var(--sklearn-color-background);\n",
       "  text-decoration: none;\n",
       "}\n",
       "\n",
       "div.sk-estimator.fitted:hover .sk-estimator-doc-link.fitted:hover,\n",
       ".sk-estimator-doc-link.fitted:hover,\n",
       "div.sk-label-container:hover .sk-estimator-doc-link.fitted:hover,\n",
       ".sk-estimator-doc-link.fitted:hover {\n",
       "  /* fitted */\n",
       "  background-color: var(--sklearn-color-fitted-level-3);\n",
       "  color: var(--sklearn-color-background);\n",
       "  text-decoration: none;\n",
       "}\n",
       "\n",
       "/* Span, style for the box shown on hovering the info icon */\n",
       ".sk-estimator-doc-link span {\n",
       "  display: none;\n",
       "  z-index: 9999;\n",
       "  position: relative;\n",
       "  font-weight: normal;\n",
       "  right: .2ex;\n",
       "  padding: .5ex;\n",
       "  margin: .5ex;\n",
       "  width: min-content;\n",
       "  min-width: 20ex;\n",
       "  max-width: 50ex;\n",
       "  color: var(--sklearn-color-text);\n",
       "  box-shadow: 2pt 2pt 4pt #999;\n",
       "  /* unfitted */\n",
       "  background: var(--sklearn-color-unfitted-level-0);\n",
       "  border: .5pt solid var(--sklearn-color-unfitted-level-3);\n",
       "}\n",
       "\n",
       ".sk-estimator-doc-link.fitted span {\n",
       "  /* fitted */\n",
       "  background: var(--sklearn-color-fitted-level-0);\n",
       "  border: var(--sklearn-color-fitted-level-3);\n",
       "}\n",
       "\n",
       ".sk-estimator-doc-link:hover span {\n",
       "  display: block;\n",
       "}\n",
       "\n",
       "/* \"?\"-specific style due to the `<a>` HTML tag */\n",
       "\n",
       "#sk-container-id-5 a.estimator_doc_link {\n",
       "  float: right;\n",
       "  font-size: 1rem;\n",
       "  line-height: 1em;\n",
       "  font-family: monospace;\n",
       "  background-color: var(--sklearn-color-background);\n",
       "  border-radius: 1rem;\n",
       "  height: 1rem;\n",
       "  width: 1rem;\n",
       "  text-decoration: none;\n",
       "  /* unfitted */\n",
       "  color: var(--sklearn-color-unfitted-level-1);\n",
       "  border: var(--sklearn-color-unfitted-level-1) 1pt solid;\n",
       "}\n",
       "\n",
       "#sk-container-id-5 a.estimator_doc_link.fitted {\n",
       "  /* fitted */\n",
       "  border: var(--sklearn-color-fitted-level-1) 1pt solid;\n",
       "  color: var(--sklearn-color-fitted-level-1);\n",
       "}\n",
       "\n",
       "/* On hover */\n",
       "#sk-container-id-5 a.estimator_doc_link:hover {\n",
       "  /* unfitted */\n",
       "  background-color: var(--sklearn-color-unfitted-level-3);\n",
       "  color: var(--sklearn-color-background);\n",
       "  text-decoration: none;\n",
       "}\n",
       "\n",
       "#sk-container-id-5 a.estimator_doc_link.fitted:hover {\n",
       "  /* fitted */\n",
       "  background-color: var(--sklearn-color-fitted-level-3);\n",
       "}\n",
       "</style><div id=\"sk-container-id-5\" class=\"sk-top-container\"><div class=\"sk-text-repr-fallback\"><pre>XGBClassifier(alpha=0.0037227986174478366, base_score=None, booster=None,\n",
       "              callbacks=None, colsample_bylevel=0.6, colsample_bynode=None,\n",
       "              colsample_bytree=0.9, device=None, early_stopping_rounds=None,\n",
       "              enable_categorical=False, eval_metric=None, feature_types=None,\n",
       "              gamma=None, grow_policy=None, importance_type=None,\n",
       "              interaction_constraints=None, lambda=0.0018779219929175805,\n",
       "              learning_rate=0.3, max_bin=None, max_cat_threshold=None,\n",
       "              max_cat_to_onehot=None, max_delta_step=None, max_depth=35,\n",
       "              max_leaves=None, min_child_weight=2, missing=nan,\n",
       "              monotone_constraints=None, multi_strategy=None, n_estimators=179,\n",
       "              n_jobs=None, ...)</pre><b>In a Jupyter environment, please rerun this cell to show the HTML representation or trust the notebook. <br />On GitHub, the HTML representation is unable to render, please try loading this page with nbviewer.org.</b></div><div class=\"sk-container\" hidden><div class=\"sk-item\"><div class=\"sk-estimator fitted sk-toggleable\"><input class=\"sk-toggleable__control sk-hidden--visually\" id=\"sk-estimator-id-5\" type=\"checkbox\" checked><label for=\"sk-estimator-id-5\" class=\"sk-toggleable__label fitted sk-toggleable__label-arrow fitted\">&nbsp;XGBClassifier<span class=\"sk-estimator-doc-link fitted\">i<span>Fitted</span></span></label><div class=\"sk-toggleable__content fitted\"><pre>XGBClassifier(alpha=0.0037227986174478366, base_score=None, booster=None,\n",
       "              callbacks=None, colsample_bylevel=0.6, colsample_bynode=None,\n",
       "              colsample_bytree=0.9, device=None, early_stopping_rounds=None,\n",
       "              enable_categorical=False, eval_metric=None, feature_types=None,\n",
       "              gamma=None, grow_policy=None, importance_type=None,\n",
       "              interaction_constraints=None, lambda=0.0018779219929175805,\n",
       "              learning_rate=0.3, max_bin=None, max_cat_threshold=None,\n",
       "              max_cat_to_onehot=None, max_delta_step=None, max_depth=35,\n",
       "              max_leaves=None, min_child_weight=2, missing=nan,\n",
       "              monotone_constraints=None, multi_strategy=None, n_estimators=179,\n",
       "              n_jobs=None, ...)</pre></div> </div></div></div></div>"
      ],
      "text/plain": [
       "XGBClassifier(alpha=0.0037227986174478366, base_score=None, booster=None,\n",
       "              callbacks=None, colsample_bylevel=0.6, colsample_bynode=None,\n",
       "              colsample_bytree=0.9, device=None, early_stopping_rounds=None,\n",
       "              enable_categorical=False, eval_metric=None, feature_types=None,\n",
       "              gamma=None, grow_policy=None, importance_type=None,\n",
       "              interaction_constraints=None, lambda=0.0018779219929175805,\n",
       "              learning_rate=0.3, max_bin=None, max_cat_threshold=None,\n",
       "              max_cat_to_onehot=None, max_delta_step=None, max_depth=35,\n",
       "              max_leaves=None, min_child_weight=2, missing=nan,\n",
       "              monotone_constraints=None, multi_strategy=None, n_estimators=179,\n",
       "              n_jobs=None, ...)"
      ]
     },
     "execution_count": 80,
     "metadata": {},
     "output_type": "execute_result"
    }
   ],
   "source": [
    "########### fit the XGBoost model for graph representation  ########\n",
    "xgb_params = study.best_trial.params\n",
    "model_SAMPLE = xgboost.XGBClassifier(**xgb_params)\n",
    "eval_set = [(X_train_, y_train_), (X_valid_, y_valid_)] #validation_0 = valid_set position 0\n",
    "model_SAMPLE.fit(X_train, y_train, early_stopping_rounds=10, eval_metric=[\"merror\",\"mlogloss\"], eval_set=eval_set, verbose=True)"
   ]
  },
  {
   "cell_type": "code",
   "execution_count": 68,
   "metadata": {},
   "outputs": [
    {
     "data": {
      "text/plain": [
       "dict"
      ]
     },
     "execution_count": 68,
     "metadata": {},
     "output_type": "execute_result"
    }
   ],
   "source": [
    "results = model_SAMPLE.evals_result()\n",
    "type(results)"
   ]
  },
  {
   "cell_type": "code",
   "execution_count": 84,
   "metadata": {},
   "outputs": [
    {
     "data": {
      "image/png": "[encoded data removed]",
      "text/plain": [
       "<Figure size 640x480 with 1 Axes>"
      ]
     },
     "metadata": {},
     "output_type": "display_data"
    }
   ],
   "source": [
    "from matplotlib import pyplot as plt\n",
    "\n",
    "# retrieve performance metrics\n",
    "results = model_SAMPLE.evals_result()\n",
    "epochs = len(results['validation_0']['mlogloss'])\n",
    "x_axis = range(0, epochs)\n",
    "# plot log loss\n",
    "fig, ax = plt.subplots() #plt.subplots(nrows, ncols), it creates a grid of subplots with nrows rows and ncols columns.\n",
    "ax.plot(x_axis, results['validation_0']['mlogloss'], label='Train')\n",
    "ax.plot(x_axis, results['validation_1']['mlogloss'], label='Valid')\n",
    "ax.legend()\n",
    "plt.ylabel('Log Loss')\n",
    "plt.xlabel('epoch')\n",
    "plt.title('XGBoost Log Loss')\n",
    "plt.show()"
   ]
  },
  {
   "cell_type": "code",
   "execution_count": 82,
   "metadata": {},
   "outputs": [
    {
     "name": "stdout",
     "output_type": "stream",
     "text": [
      "0.7510997312830517\n"
     ]
    }
   ],
   "source": [
    "train_Acc=model_SAMPLE.score(X_train_,y_train_)\n",
    "print(train_Acc)"
   ]
  },
  {
   "cell_type": "code",
   "execution_count": 83,
   "metadata": {},
   "outputs": [
    {
     "name": "stdout",
     "output_type": "stream",
     "text": [
      "0.7502794160634145\n"
     ]
    }
   ],
   "source": [
    "test_Acc=model_SAMPLE.score(X_test_2,y_test_2)\n",
    "print(test_Acc)"
   ]
  },
  {
   "cell_type": "markdown",
   "metadata": {},
   "source": [
    "**Process 2( with 5-fold cross validation, with small dataset)**"
   ]
  },
  {
   "cell_type": "code",
   "execution_count": 85,
   "metadata": {},
   "outputs": [],
   "source": [
    "\n",
    "K = 5 # 5 fold cross validation\n",
    "kf = KFold(n_splits = K, random_state = 42, shuffle = True)"
   ]
  },
  {
   "cell_type": "code",
   "execution_count": 86,
   "metadata": {},
   "outputs": [
    {
     "name": "stderr",
     "output_type": "stream",
     "text": [
      "  0%|          | 0/5 [00:00<?, ?it/s]"
     ]
    },
    {
     "name": "stdout",
     "output_type": "stream",
     "text": [
      "[0]\tvalidation_0-rmse:1.58830\n",
      "[1]\tvalidation_0-rmse:1.31816\n",
      "[2]\tvalidation_0-rmse:1.15304\n",
      "[3]\tvalidation_0-rmse:1.06434\n",
      "[4]\tvalidation_0-rmse:1.01365\n",
      "[5]\tvalidation_0-rmse:0.98331\n",
      "[6]\tvalidation_0-rmse:0.96453\n",
      "[7]\tvalidation_0-rmse:0.95442\n",
      "[8]\tvalidation_0-rmse:0.94657\n",
      "[9]\tvalidation_0-rmse:0.94416\n",
      "[10]\tvalidation_0-rmse:0.94272\n",
      "[11]\tvalidation_0-rmse:0.94179\n",
      "[12]\tvalidation_0-rmse:0.94045\n",
      "[13]\tvalidation_0-rmse:0.93893\n",
      "[14]\tvalidation_0-rmse:0.93909\n",
      "[15]\tvalidation_0-rmse:0.93739\n",
      "[16]\tvalidation_0-rmse:0.93681\n",
      "[17]\tvalidation_0-rmse:0.93664\n",
      "[18]\tvalidation_0-rmse:0.93665\n",
      "[19]\tvalidation_0-rmse:0.93649\n",
      "[20]\tvalidation_0-rmse:0.93702\n",
      "[21]\tvalidation_0-rmse:0.93690\n",
      "[22]\tvalidation_0-rmse:0.93708\n",
      "[23]\tvalidation_0-rmse:0.93660\n",
      "[24]\tvalidation_0-rmse:0.93650\n",
      "[25]\tvalidation_0-rmse:0.93643\n",
      "[26]\tvalidation_0-rmse:0.93664\n",
      "[27]\tvalidation_0-rmse:0.93689\n",
      "[28]\tvalidation_0-rmse:0.93668\n",
      "[29]\tvalidation_0-rmse:0.93680\n",
      "[30]\tvalidation_0-rmse:0.93669\n",
      "[31]\tvalidation_0-rmse:0.93672\n",
      "[32]\tvalidation_0-rmse:0.93683\n",
      "[33]\tvalidation_0-rmse:0.93671\n",
      "[34]\tvalidation_0-rmse:0.93682\n"
     ]
    },
    {
     "name": "stderr",
     "output_type": "stream",
     "text": [
      " 20%|██        | 1/5 [00:30<02:03, 30.94s/it]"
     ]
    },
    {
     "name": "stdout",
     "output_type": "stream",
     "text": [
      "[0]\tvalidation_0-rmse:1.59378\n",
      "[1]\tvalidation_0-rmse:1.33279\n",
      "[2]\tvalidation_0-rmse:1.17928\n",
      "[3]\tvalidation_0-rmse:1.09498\n",
      "[4]\tvalidation_0-rmse:1.04470\n",
      "[5]\tvalidation_0-rmse:1.01745\n",
      "[6]\tvalidation_0-rmse:1.00087\n",
      "[7]\tvalidation_0-rmse:0.99321\n",
      "[8]\tvalidation_0-rmse:0.98912\n",
      "[9]\tvalidation_0-rmse:0.98581\n",
      "[10]\tvalidation_0-rmse:0.98147\n",
      "[11]\tvalidation_0-rmse:0.97974\n",
      "[12]\tvalidation_0-rmse:0.97841\n",
      "[13]\tvalidation_0-rmse:0.97829\n",
      "[14]\tvalidation_0-rmse:0.97706\n",
      "[15]\tvalidation_0-rmse:0.97636\n",
      "[16]\tvalidation_0-rmse:0.97600\n",
      "[17]\tvalidation_0-rmse:0.97554\n",
      "[18]\tvalidation_0-rmse:0.97561\n",
      "[19]\tvalidation_0-rmse:0.97523\n",
      "[20]\tvalidation_0-rmse:0.97521\n",
      "[21]\tvalidation_0-rmse:0.97535\n",
      "[22]\tvalidation_0-rmse:0.97502\n",
      "[23]\tvalidation_0-rmse:0.97464\n",
      "[24]\tvalidation_0-rmse:0.97453\n",
      "[25]\tvalidation_0-rmse:0.97440\n",
      "[26]\tvalidation_0-rmse:0.97453\n",
      "[27]\tvalidation_0-rmse:0.97451\n",
      "[28]\tvalidation_0-rmse:0.97429\n",
      "[29]\tvalidation_0-rmse:0.97437\n",
      "[30]\tvalidation_0-rmse:0.97441\n",
      "[31]\tvalidation_0-rmse:0.97444\n",
      "[32]\tvalidation_0-rmse:0.97437\n",
      "[33]\tvalidation_0-rmse:0.97435\n",
      "[34]\tvalidation_0-rmse:0.97439\n",
      "[35]\tvalidation_0-rmse:0.97438\n",
      "[36]\tvalidation_0-rmse:0.97436\n",
      "[37]\tvalidation_0-rmse:0.97445\n",
      "[38]\tvalidation_0-rmse:0.97442\n"
     ]
    },
    {
     "name": "stderr",
     "output_type": "stream",
     "text": [
      " 40%|████      | 2/5 [00:59<01:28, 29.39s/it]"
     ]
    },
    {
     "name": "stdout",
     "output_type": "stream",
     "text": [
      "[0]\tvalidation_0-rmse:1.57213\n",
      "[1]\tvalidation_0-rmse:1.30198\n",
      "[2]\tvalidation_0-rmse:1.14400\n",
      "[3]\tvalidation_0-rmse:1.05341\n",
      "[4]\tvalidation_0-rmse:1.00039\n",
      "[5]\tvalidation_0-rmse:0.97414\n",
      "[6]\tvalidation_0-rmse:0.95944\n",
      "[7]\tvalidation_0-rmse:0.95341\n",
      "[8]\tvalidation_0-rmse:0.94938\n",
      "[9]\tvalidation_0-rmse:0.94844\n",
      "[10]\tvalidation_0-rmse:0.94822\n",
      "[11]\tvalidation_0-rmse:0.94820\n",
      "[12]\tvalidation_0-rmse:0.94823\n",
      "[13]\tvalidation_0-rmse:0.94677\n",
      "[14]\tvalidation_0-rmse:0.94627\n",
      "[15]\tvalidation_0-rmse:0.94562\n",
      "[16]\tvalidation_0-rmse:0.94450\n",
      "[17]\tvalidation_0-rmse:0.94417\n",
      "[18]\tvalidation_0-rmse:0.94420\n",
      "[19]\tvalidation_0-rmse:0.94394\n",
      "[20]\tvalidation_0-rmse:0.94400\n",
      "[21]\tvalidation_0-rmse:0.94383\n",
      "[22]\tvalidation_0-rmse:0.94379\n",
      "[23]\tvalidation_0-rmse:0.94350\n",
      "[24]\tvalidation_0-rmse:0.94326\n",
      "[25]\tvalidation_0-rmse:0.94302\n",
      "[26]\tvalidation_0-rmse:0.94298\n",
      "[27]\tvalidation_0-rmse:0.94299\n",
      "[28]\tvalidation_0-rmse:0.94319\n",
      "[29]\tvalidation_0-rmse:0.94323\n",
      "[30]\tvalidation_0-rmse:0.94317\n",
      "[31]\tvalidation_0-rmse:0.94310\n",
      "[32]\tvalidation_0-rmse:0.94308\n",
      "[33]\tvalidation_0-rmse:0.94314\n",
      "[34]\tvalidation_0-rmse:0.94304\n",
      "[35]\tvalidation_0-rmse:0.94302\n",
      "[36]\tvalidation_0-rmse:0.94300\n"
     ]
    },
    {
     "name": "stderr",
     "output_type": "stream",
     "text": [
      " 60%|██████    | 3/5 [01:26<00:56, 28.28s/it]"
     ]
    },
    {
     "name": "stdout",
     "output_type": "stream",
     "text": [
      "[0]\tvalidation_0-rmse:1.58112\n",
      "[1]\tvalidation_0-rmse:1.31525\n",
      "[2]\tvalidation_0-rmse:1.15368\n",
      "[3]\tvalidation_0-rmse:1.06629\n",
      "[4]\tvalidation_0-rmse:1.01965\n",
      "[5]\tvalidation_0-rmse:0.99024\n",
      "[6]\tvalidation_0-rmse:0.97364\n",
      "[7]\tvalidation_0-rmse:0.97027\n",
      "[8]\tvalidation_0-rmse:0.96351\n",
      "[9]\tvalidation_0-rmse:0.95994\n",
      "[10]\tvalidation_0-rmse:0.95969\n",
      "[11]\tvalidation_0-rmse:0.95856\n",
      "[12]\tvalidation_0-rmse:0.95915\n",
      "[13]\tvalidation_0-rmse:0.95851\n",
      "[14]\tvalidation_0-rmse:0.95786\n",
      "[15]\tvalidation_0-rmse:0.95721\n",
      "[16]\tvalidation_0-rmse:0.95692\n",
      "[17]\tvalidation_0-rmse:0.95602\n",
      "[18]\tvalidation_0-rmse:0.95583\n",
      "[19]\tvalidation_0-rmse:0.95555\n",
      "[20]\tvalidation_0-rmse:0.95524\n",
      "[21]\tvalidation_0-rmse:0.95498\n",
      "[22]\tvalidation_0-rmse:0.95519\n",
      "[23]\tvalidation_0-rmse:0.95502\n",
      "[24]\tvalidation_0-rmse:0.95484\n",
      "[25]\tvalidation_0-rmse:0.95468\n",
      "[26]\tvalidation_0-rmse:0.95429\n",
      "[27]\tvalidation_0-rmse:0.95406\n",
      "[28]\tvalidation_0-rmse:0.95388\n",
      "[29]\tvalidation_0-rmse:0.95385\n",
      "[30]\tvalidation_0-rmse:0.95370\n",
      "[31]\tvalidation_0-rmse:0.95382\n",
      "[32]\tvalidation_0-rmse:0.95379\n",
      "[33]\tvalidation_0-rmse:0.95381\n",
      "[34]\tvalidation_0-rmse:0.95385\n",
      "[35]\tvalidation_0-rmse:0.95378\n",
      "[36]\tvalidation_0-rmse:0.95372\n",
      "[37]\tvalidation_0-rmse:0.95377\n",
      "[38]\tvalidation_0-rmse:0.95371\n",
      "[39]\tvalidation_0-rmse:0.95374\n"
     ]
    },
    {
     "name": "stderr",
     "output_type": "stream",
     "text": [
      " 80%|████████  | 4/5 [01:52<00:27, 27.68s/it]"
     ]
    },
    {
     "name": "stdout",
     "output_type": "stream",
     "text": [
      "[0]\tvalidation_0-rmse:1.55730\n",
      "[1]\tvalidation_0-rmse:1.29391\n",
      "[2]\tvalidation_0-rmse:1.13436\n",
      "[3]\tvalidation_0-rmse:1.04304\n",
      "[4]\tvalidation_0-rmse:0.99935\n",
      "[5]\tvalidation_0-rmse:0.97079\n",
      "[6]\tvalidation_0-rmse:0.95767\n",
      "[7]\tvalidation_0-rmse:0.95110\n",
      "[8]\tvalidation_0-rmse:0.94687\n",
      "[9]\tvalidation_0-rmse:0.94481\n",
      "[10]\tvalidation_0-rmse:0.94437\n",
      "[11]\tvalidation_0-rmse:0.94382\n",
      "[12]\tvalidation_0-rmse:0.94347\n",
      "[13]\tvalidation_0-rmse:0.94267\n",
      "[14]\tvalidation_0-rmse:0.94128\n",
      "[15]\tvalidation_0-rmse:0.94115\n",
      "[16]\tvalidation_0-rmse:0.94005\n",
      "[17]\tvalidation_0-rmse:0.93950\n",
      "[18]\tvalidation_0-rmse:0.93945\n",
      "[19]\tvalidation_0-rmse:0.93947\n",
      "[20]\tvalidation_0-rmse:0.93924\n",
      "[21]\tvalidation_0-rmse:0.93948\n",
      "[22]\tvalidation_0-rmse:0.93930\n",
      "[23]\tvalidation_0-rmse:0.93918\n",
      "[24]\tvalidation_0-rmse:0.93909\n",
      "[25]\tvalidation_0-rmse:0.93902\n",
      "[26]\tvalidation_0-rmse:0.93893\n",
      "[27]\tvalidation_0-rmse:0.93894\n",
      "[28]\tvalidation_0-rmse:0.93897\n",
      "[29]\tvalidation_0-rmse:0.93897\n",
      "[30]\tvalidation_0-rmse:0.93909\n",
      "[31]\tvalidation_0-rmse:0.93912\n",
      "[32]\tvalidation_0-rmse:0.93912\n",
      "[33]\tvalidation_0-rmse:0.93913\n",
      "[34]\tvalidation_0-rmse:0.93919\n",
      "[35]\tvalidation_0-rmse:0.93916\n"
     ]
    },
    {
     "name": "stderr",
     "output_type": "stream",
     "text": [
      "100%|██████████| 5/5 [02:23<00:00, 28.66s/it]"
     ]
    },
    {
     "name": "stdout",
     "output_type": "stream",
     "text": [
      "0.5983332802768522\n"
     ]
    },
    {
     "name": "stderr",
     "output_type": "stream",
     "text": [
      "\n"
     ]
    }
   ],
   "source": [
    "# Let us make predictions for each of the 5 models and find mean \n",
    "# of those predictions\n",
    "# \"kwargs\" is a common abbreviation for \"keyword arguments.\"\n",
    "\n",
    "from tqdm import tqdm\n",
    "train = np.array(encoded_X_train)\n",
    "target_train = np.array(y_train)\n",
    "# early_stop = xgboost.callback.EarlyStopping(rounds=2,save_best=True)\n",
    "test = np.array(encoded_X_test)\n",
    "\n",
    "\n",
    "test_preds = np.zeros((len(test)))\n",
    "oof_preds = np.zeros((len(train)))\n",
    "for train_index, val_index in tqdm(kf.split(encoded_X_train), total=5):\n",
    "    train_X, valid_X = train[train_index], train[val_index]\n",
    "    train_y, valid_y = target_train[train_index], target_train[val_index]\n",
    "    xgb_params = study.best_trial.params\n",
    "\n",
    "    model_xb = xgboost.XGBRegressor(**xgb_params)\n",
    "    model_xb.fit(train_X, train_y,eval_set=[(valid_X,valid_y)],early_stopping_rounds=10,verbose=True)\n",
    "    # for train accuracy\n",
    "    preds = model_xb.predict(valid_X)\n",
    "    oof_preds[val_index] = preds\n",
    "    # for test accuracy\n",
    "    preds = model_xb.predict(test)\n",
    "    test_preds += (preds)/5\n",
    "print(np.abs(oof_preds-target_train).mean())"
   ]
  },
  {
   "cell_type": "code",
   "execution_count": 87,
   "metadata": {},
   "outputs": [
    {
     "name": "stdout",
     "output_type": "stream",
     "text": [
      "0.6168628808864266\n"
     ]
    }
   ],
   "source": [
    "#validation accuracy\n",
    "# target_test = np.array(y_test_2)\n",
    "from sklearn.metrics import accuracy_score\n",
    "\n",
    "\n",
    "valid_Acc=accuracy_score(target_train,oof_preds.round())\n",
    "print(valid_Acc)"
   ]
  },
  {
   "cell_type": "code",
   "execution_count": 88,
   "metadata": {},
   "outputs": [
    {
     "name": "stdout",
     "output_type": "stream",
     "text": [
      "0.6643871646501841\n"
     ]
    }
   ],
   "source": [
    "target_test=np.array(y_test)\n",
    "# another technique for calculate test accuracy\n",
    "test_Acc_xb=accuracy_score(target_test,test_preds.round())\n",
    "print(test_Acc_xb)"
   ]
  },
  {
   "cell_type": "code",
   "execution_count": 89,
   "metadata": {},
   "outputs": [
    {
     "name": "stdout",
     "output_type": "stream",
     "text": [
      "0.9557685012655562\n"
     ]
    }
   ],
   "source": [
    "# train accuracy\n",
    "train_Acc=model_xb.score(encoded_X_train,y_train)\n",
    "print(train_Acc)"
   ]
  },
  {
   "cell_type": "code",
   "execution_count": 91,
   "metadata": {},
   "outputs": [
    {
     "name": "stdout",
     "output_type": "stream",
     "text": [
      "0.7823088907293867\n"
     ]
    }
   ],
   "source": [
    "# test_accuracy\n",
    "test_Acc=model_xb.score(encoded_X_test,y_test)\n",
    "print(test_Acc)"
   ]
  },
  {
   "cell_type": "markdown",
   "metadata": {},
   "source": [
    "# Evaluation"
   ]
  },
  {
   "cell_type": "code",
   "execution_count": 41,
   "metadata": {},
   "outputs": [
    {
     "data": {
      "image/png": "[encoded data removed]",
      "text/plain": [
       "<Figure size 800x600 with 2 Axes>"
      ]
     },
     "metadata": {},
     "output_type": "display_data"
    }
   ],
   "source": [
    "############# plot confusion matrix ############\n",
    "\n",
    "from matplotlib import pyplot as plt\n",
    "from sklearn import metrics\n",
    "\n",
    "cm = metrics.confusion_matrix(y_test, test_preds.round())\n",
    "# Plot confusion matrix with custom color map\n",
    "\n",
    "plt.figure(figsize=(8, 6))\n",
    "plt.imshow(cm, interpolation='nearest', cmap=plt.cm.PuRd)  # Set cmap to custom color map\n",
    "plt.title('Confusion Matrix')\n",
    "plt.colorbar()\n",
    "\n",
    "# Adding annotations\n",
    "thresh = cm.max() / 2.\n",
    "for i in range(cm.shape[0]):\n",
    "    for j in range(cm.shape[1]):\n",
    "        plt.text(j, i, format(cm[i, j], 'd'), #'d = integer\n",
    "                 horizontalalignment=\"center\",\n",
    "                 color=\"white\" if cm[i, j] > thresh else \"black\")\n",
    "\n",
    "plt.ylabel('True label')\n",
    "plt.xlabel('Predicted label')\n",
    "plt.tight_layout() #improves the layout of plots by preventing overlapping elements such as axis labels, tick labels, and titles\n",
    "plt.show()\n"
   ]
  }
 ],
 "metadata": {
  "kernelspec": {
   "display_name": "Python 3",
   "language": "python",
   "name": "python3"
  },
  "language_info": {
   "codemirror_mode": {
    "name": "ipython",
    "version": 3
   },
   "file_extension": ".py",
   "mimetype": "text/x-python",
   "name": "python",
   "nbconvert_exporter": "python",
   "pygments_lexer": "ipython3",
   "version": "3.11.4"
  }
 },
 "nbformat": 4,
 "nbformat_minor": 2
}
