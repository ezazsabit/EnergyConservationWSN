{
 "cells": [
  {
   "cell_type": "code",
   "execution_count": 2,
   "metadata": {},
   "outputs": [
    {
     "name": "stdout",
     "output_type": "stream",
     "text": [
      "['Elevation', 'Aspect', 'Slope', 'Horizontal_Distance_To_Hydrology', 'Vertical_Distance_To_Hydrology', 'Horizontal_Distance_To_Roadways', 'Hillshade_Noon', 'Hillshade_3pm', 'Horizontal_Distance_To_Fire_Points', 'Wilderness', 'Soil_type', 'Cover_Type']\n",
      "<class 'pandas.core.frame.DataFrame'>\n",
      "1\n",
      "2\n",
      "3\n",
      "4\n",
      "5\n",
      "6\n",
      "7\n",
      "             0         1         2         3         4         5         6   \\\n",
      "0      0.833593  0.183333  0.121212  0.261990  0.113145  0.813967  0.885827   \n",
      "1      0.667963  0.536111  0.363636  0.107373  0.086522  0.176900  0.988189   \n",
      "2      0.862623  0.011111  0.166667  0.369363  0.156406  0.101447  0.862205   \n",
      "3      0.706843  0.033333  0.166667  0.042949  0.008319  0.215259  0.854331   \n",
      "4      0.713841  0.994444  0.090909  0.128848  0.034942  0.360686  0.901575   \n",
      "...         ...       ...       ...       ...       ...       ...       ...   \n",
      "19224  0.575168  0.963889  0.575758  0.107373  0.183028  0.088661  0.598425   \n",
      "19225  0.543027  0.575000  0.181818  0.000000  0.000000  0.198679  0.988189   \n",
      "19226  0.682478  0.983333  0.136364  0.000000  0.000000  0.116622  0.885827   \n",
      "19227  0.622084  0.275000  0.166667  0.021475  0.009983  0.115077  0.881890   \n",
      "19228  0.741835  0.852778  0.151515  0.107373 -0.029950  0.231137  0.921260   \n",
      "\n",
      "             7         8     9      10   11  \n",
      "0      0.515748  0.312840  0.25  0.725  2.0  \n",
      "1      0.637795  0.180538  0.75  0.075  3.0  \n",
      "2      0.590551  0.233793  0.75  0.775  7.0  \n",
      "3      0.570866  0.180956  0.75  0.250  5.0  \n",
      "4      0.614173  0.784888  0.25  0.300  2.0  \n",
      "...         ...       ...   ...    ...  ...  \n",
      "19224  0.586614  0.039732  1.00  0.250  3.0  \n",
      "19225  0.681102  0.113621  1.00  0.025  4.0  \n",
      "19226  0.622047  0.217203  0.25  0.500  2.0  \n",
      "19227  0.448819  0.156141  0.75  0.100  3.0  \n",
      "19228  0.716535  0.195316  0.75  0.575  5.0  \n",
      "\n",
      "[19229 rows x 12 columns]\n"
     ]
    }
   ],
   "source": [
    "from Dataset_making import dataset\n",
    "import csv"
   ]
  },
  {
   "cell_type": "code",
   "execution_count": 3,
   "metadata": {},
   "outputs": [],
   "source": [
    "dataset.to_csv('Cover_type_tunned_model_normalization.csv', index=False)"
   ]
  }
 ],
 "metadata": {
  "kernelspec": {
   "display_name": "Python 3",
   "language": "python",
   "name": "python3"
  },
  "language_info": {
   "codemirror_mode": {
    "name": "ipython",
    "version": 3
   },
   "file_extension": ".py",
   "mimetype": "text/x-python",
   "name": "python",
   "nbconvert_exporter": "python",
   "pygments_lexer": "ipython3",
   "version": "3.11.4"
  }
 },
 "nbformat": 4,
 "nbformat_minor": 2
}
