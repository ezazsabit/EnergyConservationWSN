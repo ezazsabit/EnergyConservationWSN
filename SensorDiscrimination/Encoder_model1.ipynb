{
 "cells": [
  {
   "cell_type": "code",
   "execution_count": 78,
   "metadata": {},
   "outputs": [],
   "source": [
    "import pandas as pd\n",
    "import numpy as np\n",
    "from sklearn.preprocessing import StandardScaler\n",
    "from sklearn.decomposition import PCA\n",
    "import seaborn as sns\n",
    "import matplotlib.pyplot as plt\n",
    "import optuna\n",
    "from sklearn.model_selection import train_test_split\n",
    "from sklearn.metrics import roc_auc_score\n",
    "import sklearn\n",
    "import random\n",
    "import warnings\n",
    "warnings.filterwarnings(\"ignore\")\n",
    "from sklearn.metrics import mean_absolute_error"
   ]
  },
  {
   "cell_type": "code",
   "execution_count": 79,
   "metadata": {},
   "outputs": [],
   "source": [
    "import warnings\n",
    "warnings.filterwarnings(\"ignore\")\n",
    "from sklearn.metrics import mean_absolute_error"
   ]
  },
  {
   "cell_type": "code",
   "execution_count": 80,
   "metadata": {},
   "outputs": [
    {
     "name": "stdout",
     "output_type": "stream",
     "text": [
      "            F2        F3        F1       F11        F4        F6       F10  \\\n",
      "1342  0.523636  0.468035  0.274045  0.239894  0.369865  0.050000  0.268449   \n",
      "1536  0.467166  0.618102  0.400784  0.211525  0.533178  0.081886  0.277861   \n",
      "1296  0.807914  0.878701  0.756121  0.190957  0.836355  0.330126  0.329443   \n",
      "1636  0.412834  0.591016  0.350245  0.203191  0.488774 -0.008725  0.270331   \n",
      "1237  0.928556  0.975437  0.836043  0.243972  0.939464  0.457944  0.593750   \n",
      "...        ...       ...       ...       ...       ...       ...       ...   \n",
      "690   0.402139  0.909489  0.608815  0.222872  0.641277  0.175151  0.348456   \n",
      "1144  0.253262  0.963829  0.921645  0.441135  0.989024  0.658329  0.967056   \n",
      "285   0.806417  0.502692  0.256611  0.170762  0.394312  0.043293  0.180629   \n",
      "1418  0.185647  0.947510  0.875612  0.972163  0.982039  0.745190  0.935241   \n",
      "72    0.249626  0.919919  0.893634  0.976950  0.995343  0.579714  0.953878   \n",
      "\n",
      "            F9        F5      F7     F12       F8  \n",
      "1342  0.031937  0.060712  0.2075  5.2650  0.02563  \n",
      "1536  0.091995  0.162672  0.2795  5.4090  0.15500  \n",
      "1296  0.222101  0.262418  0.6104  0.8093  0.28560  \n",
      "1636  0.067669  0.099746  0.2222  5.1230  0.19040  \n",
      "1237  0.385123  0.404866  0.8521  0.9082  0.42360  \n",
      "...        ...       ...     ...     ...      ...  \n",
      "690   0.212105  0.177306  0.4419  5.4460  0.19410  \n",
      "1144  0.773916  0.827160  2.1440  0.8374  1.10700  \n",
      "285   0.101523  0.087763  0.2161  0.1306  0.15260  \n",
      "1418  0.803202  0.755265  1.1940  5.2080  0.62990  \n",
      "72    0.941429  0.901598  1.2010  5.0480  0.56030  \n",
      "\n",
      "[2212 rows x 12 columns]\n",
      "1342    0\n",
      "1536    0\n",
      "1296    2\n",
      "1636    0\n",
      "1237    2\n",
      "       ..\n",
      "690     1\n",
      "1144    2\n",
      "285     0\n",
      "1418    0\n",
      "72      0\n",
      "Name: out, Length: 2212, dtype: int64\n"
     ]
    }
   ],
   "source": [
    "filename = 'Dataset/Sensor_Discrimination_normalized.csv'\n",
    "df=pd.read_csv(filename)\n",
    "# shuffle the DataFrame rows\n",
    "df = df.sample(frac = 1) #frac = fraction\n",
    "dataset=df.iloc[:,:-1]\n",
    "label=df.iloc[:,-1]\n",
    "print(dataset)\n",
    "print(label)"
   ]
  },
  {
   "cell_type": "code",
   "execution_count": 81,
   "metadata": {},
   "outputs": [
    {
     "name": "stdout",
     "output_type": "stream",
     "text": [
      "1327\n"
     ]
    }
   ],
   "source": [
    "dataset_arr=dataset.to_numpy()\n",
    "# from NecessaryModules.splitData import split_data\n",
    "X_train,X_comb, y_train,y_comb = train_test_split(dataset_arr, label, test_size=0.4, random_state=42)\n",
    "print(len(X_train))"
   ]
  },
  {
   "cell_type": "code",
   "execution_count": 82,
   "metadata": {},
   "outputs": [
    {
     "name": "stdout",
     "output_type": "stream",
     "text": [
      "442\n"
     ]
    }
   ],
   "source": [
    "X_valid, X_test, y_valid, y_test = train_test_split(X_comb, y_comb, test_size=0.50, random_state=42)\n",
    "print(len(X_valid))"
   ]
  },
  {
   "cell_type": "markdown",
   "metadata": {},
   "source": [
    "# Encoder implement"
   ]
  },
  {
   "cell_type": "code",
   "execution_count": 83,
   "metadata": {},
   "outputs": [
    {
     "data": {
      "text/plain": [
       "<keras.src.engine.functional.Functional at 0x18ae50d8590>"
      ]
     },
     "execution_count": 83,
     "metadata": {},
     "output_type": "execute_result"
    }
   ],
   "source": [
    "import pickle\n",
    "\n",
    "# Load the encoder model from the saved file\n",
    "with open(\"all_pkl_file/Encoder_3.pkl\", \"rb\") as file: #\"rb\"= read mode\n",
    "    encoder = pickle.load(file)\n",
    "\n",
    "encoder\n"
   ]
  },
  {
   "cell_type": "code",
   "execution_count": 84,
   "metadata": {},
   "outputs": [
    {
     "name": "stdout",
     "output_type": "stream",
     "text": [
      "70/70 [==============================] - 0s 962us/step\n",
      "42/42 [==============================] - 0s 954us/step\n"
     ]
    },
    {
     "name": "stdout",
     "output_type": "stream",
     "text": [
      "14/14 [==============================] - 0s 935us/step\n",
      "14/14 [==============================] - 0s 1ms/step\n"
     ]
    }
   ],
   "source": [
    "encoded_X = pd.DataFrame(encoder.predict(dataset))\n",
    "encoded_X = encoded_X.add_prefix('feature_')\n",
    "\n",
    "encoded_X_train = pd.DataFrame(encoder.predict(X_train))\n",
    "encoded_X_train = encoded_X_train.add_prefix('feature_')\n",
    "\n",
    "encoded_X_valid = pd.DataFrame(encoder.predict(X_valid))\n",
    "encoded_X_valid = encoded_X_valid.add_prefix('feature_')\n",
    "\n",
    "encoded_X_test = pd.DataFrame(encoder.predict(X_test))\n",
    "encoded_X_test = encoded_X_test.add_prefix('feature_')\n",
    "\n"
   ]
  },
  {
   "cell_type": "markdown",
   "metadata": {},
   "source": [
    "# reshape the data "
   ]
  },
  {
   "cell_type": "code",
   "execution_count": 85,
   "metadata": {},
   "outputs": [
    {
     "data": {
      "text/plain": [
       "array([[0.22117647, 0.87483176, 0.7294809 , ..., 0.13274734, 0.2567    ,\n",
       "        0.22193495],\n",
       "       [0.1148877 , 0.94111709, 0.87972576, ..., 0.41782502, 0.044375  ,\n",
       "        0.54161802],\n",
       "       [0.32299465, 0.88744953, 0.86033301, ..., 0.4840556 , 0.28845   ,\n",
       "        0.46830692],\n",
       "       ...,\n",
       "       [0.91465241, 0.91487214, 0.90989226, ..., 0.30690924, 0.033265  ,\n",
       "        0.4000834 ],\n",
       "       [0.61754011, 0.85397039, 0.77375122, ..., 0.22857727, 0.03961   ,\n",
       "        0.27689741],\n",
       "       [0.13655615, 0.86036339, 0.83055828, ..., 0.19762878, 0.03589   ,\n",
       "        0.11301084]])"
      ]
     },
     "execution_count": 85,
     "metadata": {},
     "output_type": "execute_result"
    }
   ],
   "source": [
    "from sklearn.preprocessing import MaxAbsScaler\n",
    "\n",
    "scaler = MaxAbsScaler(copy=True).fit(dataset)\n",
    "encoded_X_n=scaler.transform(dataset)\n",
    "encoded_X_train_n=scaler.transform(X_train)\n",
    "encoded_X_valid_n=scaler.transform(X_valid)\n",
    "encoded_X_test_n=scaler.transform(X_test)\n",
    "encoded_X_train_n"
   ]
  },
  {
   "cell_type": "code",
   "execution_count": 86,
   "metadata": {},
   "outputs": [
    {
     "data": {
      "text/plain": [
       "(442, 12)"
      ]
     },
     "execution_count": 86,
     "metadata": {},
     "output_type": "execute_result"
    }
   ],
   "source": [
    "encoded_X_valid_n.shape"
   ]
  },
  {
   "cell_type": "code",
   "execution_count": 87,
   "metadata": {},
   "outputs": [
    {
     "data": {
      "text/plain": [
       "(1327, 12, 1)"
      ]
     },
     "execution_count": 87,
     "metadata": {},
     "output_type": "execute_result"
    }
   ],
   "source": [
    "X_train_arr=encoded_X_train_n.reshape(encoded_X_train_n.shape[0],encoded_X_train_n.shape[1],1)\n",
    "X_train_arr.shape"
   ]
  },
  {
   "cell_type": "code",
   "execution_count": 88,
   "metadata": {},
   "outputs": [
    {
     "data": {
      "text/plain": [
       "(442, 12, 1)"
      ]
     },
     "execution_count": 88,
     "metadata": {},
     "output_type": "execute_result"
    }
   ],
   "source": [
    "# X_valid_arr=compressed_dataset_X_valid.to_numpy()\n",
    "X_valid_arr=encoded_X_valid_n.reshape(encoded_X_valid_n.shape[0],encoded_X_valid_n.shape[1],1)\n",
    "X_valid_arr.shape"
   ]
  },
  {
   "cell_type": "code",
   "execution_count": 89,
   "metadata": {},
   "outputs": [
    {
     "data": {
      "text/plain": [
       "(443, 12, 1)"
      ]
     },
     "execution_count": 89,
     "metadata": {},
     "output_type": "execute_result"
    }
   ],
   "source": [
    "X_test_arr=encoded_X_test_n.reshape(encoded_X_test_n.shape[0],encoded_X_test_n.shape[1],1)\n",
    "X_test_arr.shape"
   ]
  },
  {
   "cell_type": "code",
   "execution_count": 90,
   "metadata": {},
   "outputs": [],
   "source": [
    "# for \"y\"\n",
    "\n",
    "y_train_arr=np.array(y_train)\n",
    "y_train_arr=y_train_arr.reshape(y_train_arr.shape[0],1)\n",
    "\n",
    "y_valid_arr=np.array(y_valid)\n",
    "y_valid_arr=y_valid_arr.reshape(y_valid_arr.shape[0],1)\n",
    "\n",
    "y_test_arr=np.array(y_test)\n",
    "y_test_arr=y_test_arr.reshape(y_test_arr.shape[0],1)"
   ]
  },
  {
   "cell_type": "code",
   "execution_count": 91,
   "metadata": {},
   "outputs": [
    {
     "data": {
      "text/plain": [
       "(443, 1)"
      ]
     },
     "execution_count": 91,
     "metadata": {},
     "output_type": "execute_result"
    }
   ],
   "source": [
    "y_test_arr.shape"
   ]
  },
  {
   "cell_type": "markdown",
   "metadata": {},
   "source": [
    "# one hot encode"
   ]
  },
  {
   "cell_type": "code",
   "execution_count": 92,
   "metadata": {},
   "outputs": [],
   "source": [
    "from keras.utils import to_categorical\n",
    "# one hot encoding\n",
    "y_train_arr = to_categorical(y_train, 3)\n",
    "y_valid_arr = to_categorical(y_valid, 3)\n",
    "y_test_arr = to_categorical(y_test, 3)"
   ]
  },
  {
   "cell_type": "code",
   "execution_count": 93,
   "metadata": {},
   "outputs": [
    {
     "data": {
      "text/plain": [
       "array([[0., 1., 0.],\n",
       "       [0., 1., 0.],\n",
       "       [1., 0., 0.],\n",
       "       ...,\n",
       "       [0., 1., 0.],\n",
       "       [0., 1., 0.],\n",
       "       [0., 1., 0.]], dtype=float32)"
      ]
     },
     "execution_count": 93,
     "metadata": {},
     "output_type": "execute_result"
    }
   ],
   "source": [
    "y_test_arr"
   ]
  },
  {
   "cell_type": "markdown",
   "metadata": {},
   "source": [
    "# model"
   ]
  },
  {
   "cell_type": "code",
   "execution_count": 94,
   "metadata": {},
   "outputs": [],
   "source": [
    "\n",
    "# cnn model\n",
    "from numpy import mean\n",
    "from numpy import std\n",
    "from numpy import dstack\n",
    "from pandas import read_csv\n",
    "from matplotlib import pyplot\n",
    "from keras.models import Sequential\n",
    "from keras.layers import Dense\n",
    "from keras.layers import Flatten\n",
    "from keras.layers import Dropout\n",
    "from keras.layers import Conv1D\n",
    "from keras.layers import MaxPooling1D\n"
   ]
  },
  {
   "cell_type": "code",
   "execution_count": 95,
   "metadata": {},
   "outputs": [],
   "source": [
    "import tensorflow as tf\n",
    "callback=tf.keras.callbacks.EarlyStopping(\n",
    "    monitor='val_loss',\n",
    "    min_delta=0,\n",
    "    patience=4,\n",
    "    verbose=0,\n",
    "    mode='auto',\n",
    "    baseline=None,\n",
    "    restore_best_weights=True,\n",
    "    start_from_epoch=0\n",
    ")"
   ]
  },
  {
   "cell_type": "code",
   "execution_count": 96,
   "metadata": {},
   "outputs": [],
   "source": [
    "# Global value\n",
    "verbose, epochs, batch_size = 1, 100, 40\n"
   ]
  },
  {
   "cell_type": "code",
   "execution_count": 97,
   "metadata": {},
   "outputs": [],
   "source": [
    "# fit and evaluate a model\n",
    "import optuna\n",
    "from matplotlib import pyplot as plt\n",
    "\n",
    "def optimize_model(trainX, trainy,validX,validy):\n",
    "    n_timesteps, n_features, n_outputs = trainX.shape[1], trainX.shape[2], 3\n",
    "    def objective_model1(trial):\n",
    "    # Define hyperparameters to be tuned\n",
    "     \n",
    "     filters = trial.suggest_int('filters', 32, 128)\n",
    "    #  kernel_size = trial.suggest_int('kernel_size', 2, 5)\n",
    "     dropout_rate = trial.suggest_float('dropout_rate', 0.1, 0.5)\n",
    "     dense_units = trial.suggest_int('dense_units', 50, 200)\n",
    "     \n",
    "     # Build the CNN model\n",
    "     model = Sequential()\n",
    "     model.add(Conv1D(filters=filters, kernel_size=3, activation='relu', input_shape=(n_timesteps, n_features)))\n",
    "     model.add(Conv1D(filters=filters, kernel_size=2, activation='relu'))\n",
    "     model.add(Dropout(dropout_rate))\n",
    "    #  model.add(MaxPooling1D(pool_size=2))\n",
    "     model.add(Flatten())\n",
    "     model.add(Dense(dense_units, activation='relu'))\n",
    "     model.add(Dense(n_outputs, activation='softmax'))\n",
    " \n",
    "     # Compile the model\n",
    "     model.compile(loss='categorical_crossentropy', optimizer='adam', metrics=['accuracy'])\n",
    " \n",
    "     # Fit the model\n",
    "     history = model.fit(trainX, trainy, validation_data=(validX, validy), epochs=epochs,callbacks=[callback],batch_size=batch_size, verbose=verbose)\n",
    "    \n",
    "    # Return the validation accuracy as the objective value\n",
    "     return history.history['val_accuracy'][-1]\n",
    "    study = optuna.create_study(direction='maximize')\n",
    "    study.optimize(objective_model1, n_trials= 10, \n",
    "                   #timeout=600\n",
    "                   )#The maximum time (in seconds) allowed for the optimization process to run.\n",
    "    # Get the best hyperparameters\n",
    "    best_params = study.best_params\n",
    "    print(\"Best Hyperparameters:\", best_params)\n",
    "\n",
    "\n",
    "    return best_params\n",
    " \n",
    "\n"
   ]
  },
  {
   "cell_type": "code",
   "execution_count": 98,
   "metadata": {},
   "outputs": [],
   "source": [
    "# summarize scores\n",
    "def summarize_results(scores):\n",
    " print(scores)\n",
    " m, s = mean(scores), std(scores)\n",
    " print('Test Accuracy: %.3f%% (+/-%.3f)' % (m, s))\n",
    " "
   ]
  },
  {
   "cell_type": "markdown",
   "metadata": {},
   "source": [
    "# Calculate the accuracy"
   ]
  },
  {
   "cell_type": "code",
   "execution_count": 99,
   "metadata": {},
   "outputs": [
    {
     "name": "stderr",
     "output_type": "stream",
     "text": [
      "[I 2024-02-12 15:40:22,545] A new study created in memory with name: no-name-4e695737-5847-47c4-b34b-a5f371420cad\n"
     ]
    },
    {
     "name": "stdout",
     "output_type": "stream",
     "text": [
      "Epoch 1/100\n",
      "34/34 [==============================] - 1s 11ms/step - loss: 0.7983 - accuracy: 0.7084 - val_loss: 0.3868 - val_accuracy: 0.8688\n",
      "Epoch 2/100\n",
      "34/34 [==============================] - 0s 6ms/step - loss: 0.2996 - accuracy: 0.8855 - val_loss: 0.2167 - val_accuracy: 0.9208\n",
      "Epoch 3/100\n",
      "34/34 [==============================] - 0s 7ms/step - loss: 0.2052 - accuracy: 0.9254 - val_loss: 0.1783 - val_accuracy: 0.9412\n",
      "Epoch 4/100\n",
      "34/34 [==============================] - 0s 6ms/step - loss: 0.1584 - accuracy: 0.9457 - val_loss: 0.1402 - val_accuracy: 0.9751\n",
      "Epoch 5/100\n",
      "34/34 [==============================] - 0s 6ms/step - loss: 0.1439 - accuracy: 0.9472 - val_loss: 0.1273 - val_accuracy: 0.9729\n",
      "Epoch 6/100\n",
      "34/34 [==============================] - 0s 6ms/step - loss: 0.1086 - accuracy: 0.9638 - val_loss: 0.1074 - val_accuracy: 0.9796\n",
      "Epoch 7/100\n",
      "34/34 [==============================] - 0s 6ms/step - loss: 0.1019 - accuracy: 0.9668 - val_loss: 0.1242 - val_accuracy: 0.9683\n",
      "Epoch 8/100\n",
      "34/34 [==============================] - 0s 7ms/step - loss: 0.1100 - accuracy: 0.9646 - val_loss: 0.0999 - val_accuracy: 0.9774\n",
      "Epoch 9/100\n",
      "34/34 [==============================] - 0s 7ms/step - loss: 0.0726 - accuracy: 0.9774 - val_loss: 0.0858 - val_accuracy: 0.9796\n",
      "Epoch 10/100\n",
      "34/34 [==============================] - 0s 6ms/step - loss: 0.0659 - accuracy: 0.9804 - val_loss: 0.0866 - val_accuracy: 0.9751\n",
      "Epoch 11/100\n",
      "34/34 [==============================] - 0s 7ms/step - loss: 0.0692 - accuracy: 0.9781 - val_loss: 0.0919 - val_accuracy: 0.9729\n",
      "Epoch 12/100\n",
      "34/34 [==============================] - 0s 6ms/step - loss: 0.0711 - accuracy: 0.9766 - val_loss: 0.0799 - val_accuracy: 0.9774\n",
      "Epoch 13/100\n",
      "34/34 [==============================] - 0s 7ms/step - loss: 0.0575 - accuracy: 0.9819 - val_loss: 0.0767 - val_accuracy: 0.9796\n",
      "Epoch 14/100\n",
      "34/34 [==============================] - 0s 6ms/step - loss: 0.0601 - accuracy: 0.9766 - val_loss: 0.0887 - val_accuracy: 0.9683\n",
      "Epoch 15/100\n",
      "34/34 [==============================] - 0s 6ms/step - loss: 0.0708 - accuracy: 0.9721 - val_loss: 0.0632 - val_accuracy: 0.9864\n",
      "Epoch 16/100\n",
      "34/34 [==============================] - 0s 6ms/step - loss: 0.0459 - accuracy: 0.9842 - val_loss: 0.0579 - val_accuracy: 0.9819\n",
      "Epoch 17/100\n",
      "34/34 [==============================] - 0s 7ms/step - loss: 0.0416 - accuracy: 0.9887 - val_loss: 0.0608 - val_accuracy: 0.9819\n",
      "Epoch 18/100\n",
      "34/34 [==============================] - 0s 6ms/step - loss: 0.0371 - accuracy: 0.9879 - val_loss: 0.0585 - val_accuracy: 0.9842\n",
      "Epoch 19/100\n",
      "34/34 [==============================] - 0s 6ms/step - loss: 0.0383 - accuracy: 0.9879 - val_loss: 0.0508 - val_accuracy: 0.9842\n",
      "Epoch 20/100\n",
      "34/34 [==============================] - 0s 6ms/step - loss: 0.0254 - accuracy: 0.9917 - val_loss: 0.0566 - val_accuracy: 0.9842\n",
      "Epoch 21/100\n",
      "34/34 [==============================] - 0s 6ms/step - loss: 0.0386 - accuracy: 0.9879 - val_loss: 0.0742 - val_accuracy: 0.9751\n",
      "Epoch 22/100\n",
      "34/34 [==============================] - 0s 6ms/step - loss: 0.0372 - accuracy: 0.9864 - val_loss: 0.0493 - val_accuracy: 0.9864\n",
      "Epoch 23/100\n",
      "34/34 [==============================] - 0s 5ms/step - loss: 0.0299 - accuracy: 0.9872 - val_loss: 0.0553 - val_accuracy: 0.9819\n",
      "Epoch 24/100\n",
      "34/34 [==============================] - 0s 6ms/step - loss: 0.0322 - accuracy: 0.9864 - val_loss: 0.0458 - val_accuracy: 0.9864\n",
      "Epoch 25/100\n",
      "34/34 [==============================] - 0s 6ms/step - loss: 0.0304 - accuracy: 0.9910 - val_loss: 0.0446 - val_accuracy: 0.9842\n",
      "Epoch 26/100\n",
      "34/34 [==============================] - 0s 6ms/step - loss: 0.0380 - accuracy: 0.9872 - val_loss: 0.0515 - val_accuracy: 0.9774\n",
      "Epoch 27/100\n",
      "34/34 [==============================] - 0s 7ms/step - loss: 0.0312 - accuracy: 0.9894 - val_loss: 0.0459 - val_accuracy: 0.9842\n",
      "Epoch 28/100\n",
      "34/34 [==============================] - 0s 6ms/step - loss: 0.0253 - accuracy: 0.9902 - val_loss: 0.0379 - val_accuracy: 0.9864\n",
      "Epoch 29/100\n",
      "34/34 [==============================] - 0s 6ms/step - loss: 0.0248 - accuracy: 0.9902 - val_loss: 0.0393 - val_accuracy: 0.9842\n",
      "Epoch 30/100\n",
      "34/34 [==============================] - 0s 6ms/step - loss: 0.0309 - accuracy: 0.9887 - val_loss: 0.0410 - val_accuracy: 0.9842\n",
      "Epoch 31/100\n",
      "34/34 [==============================] - 0s 6ms/step - loss: 0.0393 - accuracy: 0.9842 - val_loss: 0.0430 - val_accuracy: 0.9864\n",
      "Epoch 32/100\n",
      "34/34 [==============================] - 0s 6ms/step - loss: 0.0282 - accuracy: 0.9879 - val_loss: 0.0351 - val_accuracy: 0.9842\n",
      "Epoch 33/100\n",
      "34/34 [==============================] - 0s 6ms/step - loss: 0.0197 - accuracy: 0.9925 - val_loss: 0.0366 - val_accuracy: 0.9842\n",
      "Epoch 34/100\n",
      "34/34 [==============================] - 0s 6ms/step - loss: 0.0230 - accuracy: 0.9894 - val_loss: 0.0370 - val_accuracy: 0.9887\n",
      "Epoch 35/100\n",
      "34/34 [==============================] - 0s 6ms/step - loss: 0.0220 - accuracy: 0.9932 - val_loss: 0.0421 - val_accuracy: 0.9842\n",
      "Epoch 36/100\n",
      "34/34 [==============================] - 0s 6ms/step - loss: 0.0210 - accuracy: 0.9925 - val_loss: 0.0528 - val_accuracy: 0.9842\n"
     ]
    },
    {
     "name": "stderr",
     "output_type": "stream",
     "text": [
      "[I 2024-02-12 15:40:31,493] Trial 0 finished with value: 0.9841628670692444 and parameters: {'filters': 103, 'dropout_rate': 0.18674099182264345, 'dense_units': 114}. Best is trial 0 with value: 0.9841628670692444.\n"
     ]
    },
    {
     "name": "stdout",
     "output_type": "stream",
     "text": [
      "Epoch 1/100\n",
      "34/34 [==============================] - 1s 12ms/step - loss: 0.7985 - accuracy: 0.6940 - val_loss: 0.3767 - val_accuracy: 0.8778\n",
      "Epoch 2/100\n",
      "34/34 [==============================] - 0s 7ms/step - loss: 0.3168 - accuracy: 0.8779 - val_loss: 0.2442 - val_accuracy: 0.9050\n",
      "Epoch 3/100\n",
      "34/34 [==============================] - 0s 6ms/step - loss: 0.2173 - accuracy: 0.9239 - val_loss: 0.1704 - val_accuracy: 0.9570\n",
      "Epoch 4/100\n",
      "34/34 [==============================] - 0s 6ms/step - loss: 0.1624 - accuracy: 0.9420 - val_loss: 0.1768 - val_accuracy: 0.9299\n",
      "Epoch 5/100\n",
      "34/34 [==============================] - 0s 6ms/step - loss: 0.1418 - accuracy: 0.9503 - val_loss: 0.1274 - val_accuracy: 0.9729\n",
      "Epoch 6/100\n",
      "34/34 [==============================] - 0s 6ms/step - loss: 0.1217 - accuracy: 0.9601 - val_loss: 0.1330 - val_accuracy: 0.9683\n",
      "Epoch 7/100\n",
      "34/34 [==============================] - 0s 6ms/step - loss: 0.0976 - accuracy: 0.9668 - val_loss: 0.1045 - val_accuracy: 0.9796\n",
      "Epoch 8/100\n",
      "34/34 [==============================] - 0s 6ms/step - loss: 0.0980 - accuracy: 0.9691 - val_loss: 0.0995 - val_accuracy: 0.9751\n",
      "Epoch 9/100\n",
      "34/34 [==============================] - 0s 7ms/step - loss: 0.0966 - accuracy: 0.9706 - val_loss: 0.0790 - val_accuracy: 0.9796\n",
      "Epoch 10/100\n",
      "34/34 [==============================] - 0s 9ms/step - loss: 0.0861 - accuracy: 0.9729 - val_loss: 0.0825 - val_accuracy: 0.9774\n",
      "Epoch 11/100\n",
      "34/34 [==============================] - 0s 8ms/step - loss: 0.0699 - accuracy: 0.9759 - val_loss: 0.0858 - val_accuracy: 0.9774\n",
      "Epoch 12/100\n",
      "34/34 [==============================] - 0s 7ms/step - loss: 0.0668 - accuracy: 0.9789 - val_loss: 0.0706 - val_accuracy: 0.9774\n",
      "Epoch 13/100\n",
      "34/34 [==============================] - 0s 7ms/step - loss: 0.0486 - accuracy: 0.9849 - val_loss: 0.0605 - val_accuracy: 0.9796\n",
      "Epoch 14/100\n",
      "34/34 [==============================] - 0s 7ms/step - loss: 0.0601 - accuracy: 0.9804 - val_loss: 0.0586 - val_accuracy: 0.9842\n",
      "Epoch 15/100\n",
      "34/34 [==============================] - 0s 7ms/step - loss: 0.0599 - accuracy: 0.9834 - val_loss: 0.0557 - val_accuracy: 0.9819\n",
      "Epoch 16/100\n",
      "34/34 [==============================] - 0s 6ms/step - loss: 0.0506 - accuracy: 0.9812 - val_loss: 0.0554 - val_accuracy: 0.9819\n",
      "Epoch 17/100\n",
      "34/34 [==============================] - 0s 6ms/step - loss: 0.0365 - accuracy: 0.9857 - val_loss: 0.0482 - val_accuracy: 0.9842\n",
      "Epoch 18/100\n",
      "34/34 [==============================] - 0s 6ms/step - loss: 0.0413 - accuracy: 0.9872 - val_loss: 0.0437 - val_accuracy: 0.9864\n",
      "Epoch 19/100\n",
      "34/34 [==============================] - 0s 6ms/step - loss: 0.0340 - accuracy: 0.9902 - val_loss: 0.0436 - val_accuracy: 0.9842\n",
      "Epoch 20/100\n",
      "34/34 [==============================] - 0s 7ms/step - loss: 0.0474 - accuracy: 0.9819 - val_loss: 0.0422 - val_accuracy: 0.9819\n",
      "Epoch 21/100\n",
      "34/34 [==============================] - 0s 6ms/step - loss: 0.0324 - accuracy: 0.9910 - val_loss: 0.0412 - val_accuracy: 0.9864\n",
      "Epoch 22/100\n",
      "34/34 [==============================] - 0s 8ms/step - loss: 0.0442 - accuracy: 0.9849 - val_loss: 0.0527 - val_accuracy: 0.9842\n",
      "Epoch 23/100\n",
      "34/34 [==============================] - 0s 7ms/step - loss: 0.0270 - accuracy: 0.9917 - val_loss: 0.0414 - val_accuracy: 0.9819\n",
      "Epoch 24/100\n",
      "34/34 [==============================] - 0s 6ms/step - loss: 0.0274 - accuracy: 0.9940 - val_loss: 0.0574 - val_accuracy: 0.9819\n",
      "Epoch 25/100\n",
      "34/34 [==============================] - 0s 7ms/step - loss: 0.0417 - accuracy: 0.9842 - val_loss: 0.0400 - val_accuracy: 0.9887\n",
      "Epoch 26/100\n",
      "34/34 [==============================] - 0s 6ms/step - loss: 0.0304 - accuracy: 0.9894 - val_loss: 0.0334 - val_accuracy: 0.9887\n",
      "Epoch 27/100\n",
      "34/34 [==============================] - 0s 6ms/step - loss: 0.0276 - accuracy: 0.9940 - val_loss: 0.0339 - val_accuracy: 0.9842\n",
      "Epoch 28/100\n",
      "34/34 [==============================] - 0s 7ms/step - loss: 0.0384 - accuracy: 0.9864 - val_loss: 0.0500 - val_accuracy: 0.9842\n",
      "Epoch 29/100\n",
      "34/34 [==============================] - 0s 6ms/step - loss: 0.0243 - accuracy: 0.9925 - val_loss: 0.0360 - val_accuracy: 0.9887\n",
      "Epoch 30/100\n",
      "34/34 [==============================] - 0s 6ms/step - loss: 0.0262 - accuracy: 0.9925 - val_loss: 0.0424 - val_accuracy: 0.9864\n"
     ]
    },
    {
     "name": "stderr",
     "output_type": "stream",
     "text": [
      "[I 2024-02-12 15:40:39,249] Trial 1 finished with value: 0.9864253401756287 and parameters: {'filters': 93, 'dropout_rate': 0.3512491720502938, 'dense_units': 200}. Best is trial 1 with value: 0.9864253401756287.\n"
     ]
    },
    {
     "name": "stdout",
     "output_type": "stream",
     "text": [
      "Epoch 1/100\n",
      "34/34 [==============================] - 1s 9ms/step - loss: 0.8697 - accuracy: 0.7249 - val_loss: 0.5352 - val_accuracy: 0.8620\n",
      "Epoch 2/100\n",
      "34/34 [==============================] - 0s 5ms/step - loss: 0.3434 - accuracy: 0.8772 - val_loss: 0.2569 - val_accuracy: 0.8959\n",
      "Epoch 3/100\n",
      "34/34 [==============================] - 0s 5ms/step - loss: 0.2506 - accuracy: 0.9058 - val_loss: 0.1977 - val_accuracy: 0.9457\n",
      "Epoch 4/100\n",
      "34/34 [==============================] - 0s 5ms/step - loss: 0.2008 - accuracy: 0.9299 - val_loss: 0.1618 - val_accuracy: 0.9593\n",
      "Epoch 5/100\n",
      "34/34 [==============================] - 0s 5ms/step - loss: 0.1537 - accuracy: 0.9548 - val_loss: 0.1360 - val_accuracy: 0.9774\n",
      "Epoch 6/100\n",
      "34/34 [==============================] - 0s 5ms/step - loss: 0.1477 - accuracy: 0.9540 - val_loss: 0.1148 - val_accuracy: 0.9774\n",
      "Epoch 7/100\n",
      "34/34 [==============================] - 0s 5ms/step - loss: 0.1140 - accuracy: 0.9661 - val_loss: 0.1209 - val_accuracy: 0.9683\n",
      "Epoch 8/100\n",
      "34/34 [==============================] - 0s 5ms/step - loss: 0.1122 - accuracy: 0.9668 - val_loss: 0.0954 - val_accuracy: 0.9796\n",
      "Epoch 9/100\n",
      "34/34 [==============================] - 0s 5ms/step - loss: 0.0848 - accuracy: 0.9759 - val_loss: 0.0934 - val_accuracy: 0.9751\n",
      "Epoch 10/100\n",
      "34/34 [==============================] - 0s 5ms/step - loss: 0.0729 - accuracy: 0.9804 - val_loss: 0.0809 - val_accuracy: 0.9842\n",
      "Epoch 11/100\n",
      "34/34 [==============================] - 0s 5ms/step - loss: 0.0689 - accuracy: 0.9819 - val_loss: 0.0755 - val_accuracy: 0.9819\n",
      "Epoch 12/100\n",
      "34/34 [==============================] - 0s 5ms/step - loss: 0.0705 - accuracy: 0.9804 - val_loss: 0.0750 - val_accuracy: 0.9819\n",
      "Epoch 13/100\n",
      "34/34 [==============================] - 0s 5ms/step - loss: 0.0600 - accuracy: 0.9819 - val_loss: 0.0674 - val_accuracy: 0.9819\n",
      "Epoch 14/100\n",
      "34/34 [==============================] - 0s 5ms/step - loss: 0.0500 - accuracy: 0.9879 - val_loss: 0.0670 - val_accuracy: 0.9796\n",
      "Epoch 15/100\n",
      "34/34 [==============================] - 0s 8ms/step - loss: 0.0557 - accuracy: 0.9827 - val_loss: 0.0622 - val_accuracy: 0.9842\n",
      "Epoch 16/100\n",
      "34/34 [==============================] - 0s 5ms/step - loss: 0.0445 - accuracy: 0.9879 - val_loss: 0.0604 - val_accuracy: 0.9842\n",
      "Epoch 17/100\n",
      "34/34 [==============================] - 0s 5ms/step - loss: 0.0391 - accuracy: 0.9902 - val_loss: 0.0602 - val_accuracy: 0.9819\n",
      "Epoch 18/100\n",
      "34/34 [==============================] - 0s 4ms/step - loss: 0.0392 - accuracy: 0.9887 - val_loss: 0.0543 - val_accuracy: 0.9819\n",
      "Epoch 19/100\n",
      "34/34 [==============================] - 0s 4ms/step - loss: 0.0387 - accuracy: 0.9879 - val_loss: 0.0557 - val_accuracy: 0.9819\n",
      "Epoch 20/100\n",
      "34/34 [==============================] - 0s 4ms/step - loss: 0.0612 - accuracy: 0.9781 - val_loss: 0.0611 - val_accuracy: 0.9796\n",
      "Epoch 21/100\n",
      "34/34 [==============================] - 0s 4ms/step - loss: 0.0396 - accuracy: 0.9872 - val_loss: 0.0526 - val_accuracy: 0.9842\n",
      "Epoch 22/100\n",
      "34/34 [==============================] - 0s 4ms/step - loss: 0.0347 - accuracy: 0.9902 - val_loss: 0.0527 - val_accuracy: 0.9842\n",
      "Epoch 23/100\n",
      "34/34 [==============================] - 0s 4ms/step - loss: 0.0354 - accuracy: 0.9887 - val_loss: 0.0514 - val_accuracy: 0.9819\n",
      "Epoch 24/100\n",
      "34/34 [==============================] - 0s 5ms/step - loss: 0.0323 - accuracy: 0.9894 - val_loss: 0.0479 - val_accuracy: 0.9842\n",
      "Epoch 25/100\n",
      "34/34 [==============================] - 0s 4ms/step - loss: 0.0278 - accuracy: 0.9910 - val_loss: 0.0472 - val_accuracy: 0.9864\n",
      "Epoch 26/100\n",
      "34/34 [==============================] - 0s 4ms/step - loss: 0.0227 - accuracy: 0.9932 - val_loss: 0.0440 - val_accuracy: 0.9842\n",
      "Epoch 27/100\n",
      "34/34 [==============================] - 0s 4ms/step - loss: 0.0291 - accuracy: 0.9894 - val_loss: 0.0475 - val_accuracy: 0.9864\n",
      "Epoch 28/100\n",
      "34/34 [==============================] - 0s 5ms/step - loss: 0.0240 - accuracy: 0.9932 - val_loss: 0.0475 - val_accuracy: 0.9819\n",
      "Epoch 29/100\n",
      "34/34 [==============================] - 0s 5ms/step - loss: 0.0246 - accuracy: 0.9925 - val_loss: 0.0518 - val_accuracy: 0.9842\n",
      "Epoch 30/100\n",
      "34/34 [==============================] - 0s 5ms/step - loss: 0.0352 - accuracy: 0.9894 - val_loss: 0.0448 - val_accuracy: 0.9887\n"
     ]
    },
    {
     "name": "stderr",
     "output_type": "stream",
     "text": [
      "[I 2024-02-12 15:40:45,116] Trial 2 finished with value: 0.9886877536773682 and parameters: {'filters': 54, 'dropout_rate': 0.13801574125033134, 'dense_units': 151}. Best is trial 2 with value: 0.9886877536773682.\n"
     ]
    },
    {
     "name": "stdout",
     "output_type": "stream",
     "text": [
      "Epoch 1/100\n",
      "34/34 [==============================] - 1s 11ms/step - loss: 0.8446 - accuracy: 0.6722 - val_loss: 0.4784 - val_accuracy: 0.8575\n",
      "Epoch 2/100\n",
      "34/34 [==============================] - 0s 7ms/step - loss: 0.3480 - accuracy: 0.8644 - val_loss: 0.2526 - val_accuracy: 0.8665\n",
      "Epoch 3/100\n",
      "34/34 [==============================] - 0s 5ms/step - loss: 0.2291 - accuracy: 0.9028 - val_loss: 0.2025 - val_accuracy: 0.9276\n",
      "Epoch 4/100\n",
      "34/34 [==============================] - 0s 6ms/step - loss: 0.1908 - accuracy: 0.9284 - val_loss: 0.1547 - val_accuracy: 0.9570\n",
      "Epoch 5/100\n",
      "34/34 [==============================] - 0s 5ms/step - loss: 0.1408 - accuracy: 0.9518 - val_loss: 0.1332 - val_accuracy: 0.9729\n",
      "Epoch 6/100\n",
      "34/34 [==============================] - 0s 5ms/step - loss: 0.1256 - accuracy: 0.9593 - val_loss: 0.1279 - val_accuracy: 0.9683\n",
      "Epoch 7/100\n",
      "34/34 [==============================] - 0s 5ms/step - loss: 0.1047 - accuracy: 0.9668 - val_loss: 0.0971 - val_accuracy: 0.9796\n",
      "Epoch 8/100\n",
      "34/34 [==============================] - 0s 6ms/step - loss: 0.0866 - accuracy: 0.9729 - val_loss: 0.0997 - val_accuracy: 0.9774\n",
      "Epoch 9/100\n",
      "34/34 [==============================] - 0s 6ms/step - loss: 0.0787 - accuracy: 0.9751 - val_loss: 0.0821 - val_accuracy: 0.9819\n",
      "Epoch 10/100\n",
      "34/34 [==============================] - 0s 6ms/step - loss: 0.0689 - accuracy: 0.9789 - val_loss: 0.0826 - val_accuracy: 0.9774\n",
      "Epoch 11/100\n",
      "34/34 [==============================] - 0s 6ms/step - loss: 0.0701 - accuracy: 0.9766 - val_loss: 0.0903 - val_accuracy: 0.9774\n",
      "Epoch 12/100\n",
      "34/34 [==============================] - 0s 6ms/step - loss: 0.0906 - accuracy: 0.9714 - val_loss: 0.0849 - val_accuracy: 0.9774\n",
      "Epoch 13/100\n",
      "34/34 [==============================] - 0s 6ms/step - loss: 0.0825 - accuracy: 0.9676 - val_loss: 0.0747 - val_accuracy: 0.9819\n",
      "Epoch 14/100\n",
      "34/34 [==============================] - 0s 6ms/step - loss: 0.0538 - accuracy: 0.9834 - val_loss: 0.0684 - val_accuracy: 0.9819\n",
      "Epoch 15/100\n",
      "34/34 [==============================] - 0s 6ms/step - loss: 0.0579 - accuracy: 0.9849 - val_loss: 0.0673 - val_accuracy: 0.9796\n",
      "Epoch 16/100\n",
      "34/34 [==============================] - 0s 6ms/step - loss: 0.0485 - accuracy: 0.9842 - val_loss: 0.0626 - val_accuracy: 0.9864\n",
      "Epoch 17/100\n",
      "34/34 [==============================] - 0s 6ms/step - loss: 0.0437 - accuracy: 0.9849 - val_loss: 0.0570 - val_accuracy: 0.9864\n",
      "Epoch 18/100\n",
      "34/34 [==============================] - 0s 7ms/step - loss: 0.0400 - accuracy: 0.9887 - val_loss: 0.0725 - val_accuracy: 0.9796\n",
      "Epoch 19/100\n",
      "34/34 [==============================] - 0s 7ms/step - loss: 0.0437 - accuracy: 0.9857 - val_loss: 0.0557 - val_accuracy: 0.9819\n",
      "Epoch 20/100\n",
      "34/34 [==============================] - 0s 6ms/step - loss: 0.0411 - accuracy: 0.9849 - val_loss: 0.0546 - val_accuracy: 0.9819\n",
      "Epoch 21/100\n",
      "34/34 [==============================] - 0s 6ms/step - loss: 0.0456 - accuracy: 0.9857 - val_loss: 0.0555 - val_accuracy: 0.9819\n",
      "Epoch 22/100\n",
      "34/34 [==============================] - 0s 6ms/step - loss: 0.0325 - accuracy: 0.9864 - val_loss: 0.0622 - val_accuracy: 0.9819\n",
      "Epoch 23/100\n",
      "34/34 [==============================] - 0s 6ms/step - loss: 0.0410 - accuracy: 0.9872 - val_loss: 0.0456 - val_accuracy: 0.9842\n",
      "Epoch 24/100\n",
      "34/34 [==============================] - 0s 6ms/step - loss: 0.0366 - accuracy: 0.9894 - val_loss: 0.0553 - val_accuracy: 0.9819\n",
      "Epoch 25/100\n",
      "34/34 [==============================] - 0s 6ms/step - loss: 0.0322 - accuracy: 0.9887 - val_loss: 0.0474 - val_accuracy: 0.9819\n",
      "Epoch 26/100\n",
      "34/34 [==============================] - 0s 6ms/step - loss: 0.0321 - accuracy: 0.9902 - val_loss: 0.0514 - val_accuracy: 0.9887\n",
      "Epoch 27/100\n",
      "34/34 [==============================] - 0s 6ms/step - loss: 0.0311 - accuracy: 0.9902 - val_loss: 0.0598 - val_accuracy: 0.9819\n"
     ]
    },
    {
     "name": "stderr",
     "output_type": "stream",
     "text": [
      "[I 2024-02-12 15:40:51,567] Trial 3 finished with value: 0.9819004535675049 and parameters: {'filters': 126, 'dropout_rate': 0.25947440517382103, 'dense_units': 88}. Best is trial 2 with value: 0.9886877536773682.\n"
     ]
    },
    {
     "name": "stdout",
     "output_type": "stream",
     "text": [
      "Epoch 1/100\n",
      "34/34 [==============================] - 1s 9ms/step - loss: 0.8481 - accuracy: 0.7370 - val_loss: 0.4756 - val_accuracy: 0.8371\n",
      "Epoch 2/100\n",
      "34/34 [==============================] - 0s 5ms/step - loss: 0.3546 - accuracy: 0.8666 - val_loss: 0.2527 - val_accuracy: 0.8620\n",
      "Epoch 3/100\n",
      "34/34 [==============================] - 0s 5ms/step - loss: 0.2519 - accuracy: 0.9088 - val_loss: 0.1993 - val_accuracy: 0.9389\n",
      "Epoch 4/100\n",
      "34/34 [==============================] - 0s 5ms/step - loss: 0.1905 - accuracy: 0.9231 - val_loss: 0.1630 - val_accuracy: 0.9615\n",
      "Epoch 5/100\n",
      "34/34 [==============================] - 0s 5ms/step - loss: 0.1533 - accuracy: 0.9427 - val_loss: 0.1569 - val_accuracy: 0.9638\n",
      "Epoch 6/100\n",
      "34/34 [==============================] - 0s 5ms/step - loss: 0.1508 - accuracy: 0.9450 - val_loss: 0.1355 - val_accuracy: 0.9548\n",
      "Epoch 7/100\n",
      "34/34 [==============================] - 0s 5ms/step - loss: 0.1220 - accuracy: 0.9601 - val_loss: 0.1284 - val_accuracy: 0.9615\n",
      "Epoch 8/100\n",
      "34/34 [==============================] - 0s 5ms/step - loss: 0.1331 - accuracy: 0.9457 - val_loss: 0.0908 - val_accuracy: 0.9774\n",
      "Epoch 9/100\n",
      "34/34 [==============================] - 0s 5ms/step - loss: 0.0990 - accuracy: 0.9676 - val_loss: 0.0852 - val_accuracy: 0.9819\n",
      "Epoch 10/100\n",
      "34/34 [==============================] - 0s 5ms/step - loss: 0.0886 - accuracy: 0.9691 - val_loss: 0.1014 - val_accuracy: 0.9729\n",
      "Epoch 11/100\n",
      "34/34 [==============================] - 0s 5ms/step - loss: 0.0820 - accuracy: 0.9729 - val_loss: 0.0782 - val_accuracy: 0.9796\n",
      "Epoch 12/100\n",
      "34/34 [==============================] - 0s 5ms/step - loss: 0.0792 - accuracy: 0.9721 - val_loss: 0.0702 - val_accuracy: 0.9796\n",
      "Epoch 13/100\n",
      "34/34 [==============================] - 0s 5ms/step - loss: 0.0575 - accuracy: 0.9864 - val_loss: 0.0698 - val_accuracy: 0.9819\n",
      "Epoch 14/100\n",
      "34/34 [==============================] - 0s 5ms/step - loss: 0.0614 - accuracy: 0.9789 - val_loss: 0.0660 - val_accuracy: 0.9842\n",
      "Epoch 15/100\n",
      "34/34 [==============================] - 0s 5ms/step - loss: 0.0603 - accuracy: 0.9804 - val_loss: 0.0772 - val_accuracy: 0.9842\n",
      "Epoch 16/100\n",
      "34/34 [==============================] - 0s 5ms/step - loss: 0.0590 - accuracy: 0.9812 - val_loss: 0.0624 - val_accuracy: 0.9819\n",
      "Epoch 17/100\n",
      "34/34 [==============================] - 0s 7ms/step - loss: 0.0561 - accuracy: 0.9842 - val_loss: 0.0655 - val_accuracy: 0.9796\n",
      "Epoch 18/100\n",
      "34/34 [==============================] - 0s 6ms/step - loss: 0.0454 - accuracy: 0.9864 - val_loss: 0.0617 - val_accuracy: 0.9842\n",
      "Epoch 19/100\n",
      "34/34 [==============================] - 0s 5ms/step - loss: 0.0469 - accuracy: 0.9857 - val_loss: 0.0594 - val_accuracy: 0.9819\n",
      "Epoch 20/100\n",
      "34/34 [==============================] - 0s 5ms/step - loss: 0.0472 - accuracy: 0.9872 - val_loss: 0.0527 - val_accuracy: 0.9842\n",
      "Epoch 21/100\n",
      "34/34 [==============================] - 0s 6ms/step - loss: 0.0517 - accuracy: 0.9804 - val_loss: 0.0564 - val_accuracy: 0.9864\n",
      "Epoch 22/100\n",
      "34/34 [==============================] - 0s 5ms/step - loss: 0.0519 - accuracy: 0.9849 - val_loss: 0.0635 - val_accuracy: 0.9796\n",
      "Epoch 23/100\n",
      "34/34 [==============================] - 0s 5ms/step - loss: 0.0429 - accuracy: 0.9834 - val_loss: 0.0479 - val_accuracy: 0.9864\n",
      "Epoch 24/100\n",
      "34/34 [==============================] - 0s 5ms/step - loss: 0.0517 - accuracy: 0.9797 - val_loss: 0.0503 - val_accuracy: 0.9887\n",
      "Epoch 25/100\n",
      "34/34 [==============================] - 0s 5ms/step - loss: 0.0462 - accuracy: 0.9834 - val_loss: 0.0485 - val_accuracy: 0.9842\n",
      "Epoch 26/100\n",
      "34/34 [==============================] - 0s 5ms/step - loss: 0.0660 - accuracy: 0.9759 - val_loss: 0.0464 - val_accuracy: 0.9864\n",
      "Epoch 27/100\n",
      "34/34 [==============================] - 0s 5ms/step - loss: 0.0360 - accuracy: 0.9894 - val_loss: 0.0489 - val_accuracy: 0.9819\n",
      "Epoch 28/100\n",
      "34/34 [==============================] - 0s 5ms/step - loss: 0.0458 - accuracy: 0.9857 - val_loss: 0.0454 - val_accuracy: 0.9842\n",
      "Epoch 29/100\n",
      "34/34 [==============================] - 0s 5ms/step - loss: 0.0465 - accuracy: 0.9879 - val_loss: 0.0545 - val_accuracy: 0.9864\n",
      "Epoch 30/100\n",
      "34/34 [==============================] - 0s 5ms/step - loss: 0.0578 - accuracy: 0.9819 - val_loss: 0.0529 - val_accuracy: 0.9887\n",
      "Epoch 31/100\n",
      "34/34 [==============================] - 0s 5ms/step - loss: 0.0316 - accuracy: 0.9894 - val_loss: 0.0398 - val_accuracy: 0.9864\n",
      "Epoch 32/100\n",
      "34/34 [==============================] - 0s 5ms/step - loss: 0.0372 - accuracy: 0.9887 - val_loss: 0.0392 - val_accuracy: 0.9864\n",
      "Epoch 33/100\n",
      "34/34 [==============================] - 0s 5ms/step - loss: 0.0277 - accuracy: 0.9917 - val_loss: 0.0404 - val_accuracy: 0.9842\n",
      "Epoch 34/100\n",
      "34/34 [==============================] - 0s 5ms/step - loss: 0.0455 - accuracy: 0.9819 - val_loss: 0.0493 - val_accuracy: 0.9842\n",
      "Epoch 35/100\n",
      "34/34 [==============================] - 0s 5ms/step - loss: 0.0456 - accuracy: 0.9894 - val_loss: 0.0379 - val_accuracy: 0.9864\n",
      "Epoch 36/100\n",
      "34/34 [==============================] - 0s 5ms/step - loss: 0.0315 - accuracy: 0.9902 - val_loss: 0.0356 - val_accuracy: 0.9842\n",
      "Epoch 37/100\n",
      "34/34 [==============================] - 0s 6ms/step - loss: 0.0278 - accuracy: 0.9902 - val_loss: 0.0392 - val_accuracy: 0.9864\n",
      "Epoch 38/100\n",
      "34/34 [==============================] - 0s 6ms/step - loss: 0.0426 - accuracy: 0.9849 - val_loss: 0.0388 - val_accuracy: 0.9864\n",
      "Epoch 39/100\n",
      "34/34 [==============================] - 0s 6ms/step - loss: 0.0263 - accuracy: 0.9902 - val_loss: 0.0529 - val_accuracy: 0.9819\n",
      "Epoch 40/100\n",
      "34/34 [==============================] - 0s 6ms/step - loss: 0.0248 - accuracy: 0.9917 - val_loss: 0.0352 - val_accuracy: 0.9864\n",
      "Epoch 41/100\n",
      "34/34 [==============================] - 0s 7ms/step - loss: 0.0278 - accuracy: 0.9910 - val_loss: 0.0341 - val_accuracy: 0.9864\n",
      "Epoch 42/100\n",
      "34/34 [==============================] - 0s 7ms/step - loss: 0.0272 - accuracy: 0.9910 - val_loss: 0.0329 - val_accuracy: 0.9864\n",
      "Epoch 43/100\n",
      "34/34 [==============================] - 0s 6ms/step - loss: 0.0297 - accuracy: 0.9887 - val_loss: 0.0438 - val_accuracy: 0.9864\n",
      "Epoch 44/100\n",
      "34/34 [==============================] - 0s 6ms/step - loss: 0.0315 - accuracy: 0.9910 - val_loss: 0.0407 - val_accuracy: 0.9864\n",
      "Epoch 45/100\n",
      "34/34 [==============================] - 0s 5ms/step - loss: 0.0264 - accuracy: 0.9902 - val_loss: 0.0318 - val_accuracy: 0.9864\n",
      "Epoch 46/100\n",
      "34/34 [==============================] - 0s 6ms/step - loss: 0.0182 - accuracy: 0.9932 - val_loss: 0.0343 - val_accuracy: 0.9887\n",
      "Epoch 47/100\n",
      "34/34 [==============================] - 0s 5ms/step - loss: 0.0228 - accuracy: 0.9917 - val_loss: 0.0339 - val_accuracy: 0.9887\n",
      "Epoch 48/100\n",
      "34/34 [==============================] - 0s 5ms/step - loss: 0.0180 - accuracy: 0.9940 - val_loss: 0.0297 - val_accuracy: 0.9864\n",
      "Epoch 49/100\n",
      "34/34 [==============================] - 0s 7ms/step - loss: 0.0205 - accuracy: 0.9910 - val_loss: 0.0358 - val_accuracy: 0.9887\n",
      "Epoch 50/100\n",
      "34/34 [==============================] - 0s 5ms/step - loss: 0.0213 - accuracy: 0.9925 - val_loss: 0.0300 - val_accuracy: 0.9864\n",
      "Epoch 51/100\n",
      "34/34 [==============================] - 0s 5ms/step - loss: 0.0178 - accuracy: 0.9932 - val_loss: 0.0417 - val_accuracy: 0.9842\n",
      "Epoch 52/100\n",
      "34/34 [==============================] - 0s 5ms/step - loss: 0.0219 - accuracy: 0.9910 - val_loss: 0.0299 - val_accuracy: 0.9864\n"
     ]
    },
    {
     "name": "stderr",
     "output_type": "stream",
     "text": [
      "[I 2024-02-12 15:41:01,782] Trial 4 finished with value: 0.9864253401756287 and parameters: {'filters': 60, 'dropout_rate': 0.2926563782099887, 'dense_units': 178}. Best is trial 2 with value: 0.9886877536773682.\n"
     ]
    },
    {
     "name": "stdout",
     "output_type": "stream",
     "text": [
      "Epoch 1/100\n",
      "34/34 [==============================] - 1s 10ms/step - loss: 0.9040 - accuracy: 0.6390 - val_loss: 0.5715 - val_accuracy: 0.8552\n",
      "Epoch 2/100\n",
      "34/34 [==============================] - 0s 5ms/step - loss: 0.4076 - accuracy: 0.8523 - val_loss: 0.3048 - val_accuracy: 0.8778\n",
      "Epoch 3/100\n",
      "34/34 [==============================] - 0s 6ms/step - loss: 0.2706 - accuracy: 0.8922 - val_loss: 0.2217 - val_accuracy: 0.9344\n",
      "Epoch 4/100\n",
      "34/34 [==============================] - 0s 5ms/step - loss: 0.2140 - accuracy: 0.9118 - val_loss: 0.1889 - val_accuracy: 0.9389\n",
      "Epoch 5/100\n",
      "34/34 [==============================] - 0s 5ms/step - loss: 0.1790 - accuracy: 0.9299 - val_loss: 0.1588 - val_accuracy: 0.9548\n",
      "Epoch 6/100\n",
      "34/34 [==============================] - 0s 5ms/step - loss: 0.1454 - accuracy: 0.9510 - val_loss: 0.1326 - val_accuracy: 0.9729\n",
      "Epoch 7/100\n",
      "34/34 [==============================] - 0s 5ms/step - loss: 0.1463 - accuracy: 0.9472 - val_loss: 0.1100 - val_accuracy: 0.9774\n",
      "Epoch 8/100\n",
      "34/34 [==============================] - 0s 5ms/step - loss: 0.1129 - accuracy: 0.9638 - val_loss: 0.1139 - val_accuracy: 0.9706\n",
      "Epoch 9/100\n",
      "34/34 [==============================] - 0s 6ms/step - loss: 0.1139 - accuracy: 0.9653 - val_loss: 0.0904 - val_accuracy: 0.9796\n",
      "Epoch 10/100\n",
      "34/34 [==============================] - 0s 5ms/step - loss: 0.0994 - accuracy: 0.9721 - val_loss: 0.0937 - val_accuracy: 0.9751\n",
      "Epoch 11/100\n",
      "34/34 [==============================] - 0s 6ms/step - loss: 0.0927 - accuracy: 0.9683 - val_loss: 0.0793 - val_accuracy: 0.9819\n",
      "Epoch 12/100\n",
      "34/34 [==============================] - 0s 6ms/step - loss: 0.0822 - accuracy: 0.9751 - val_loss: 0.0830 - val_accuracy: 0.9774\n",
      "Epoch 13/100\n",
      "34/34 [==============================] - 0s 6ms/step - loss: 0.0778 - accuracy: 0.9789 - val_loss: 0.0711 - val_accuracy: 0.9842\n",
      "Epoch 14/100\n",
      "34/34 [==============================] - 0s 6ms/step - loss: 0.0624 - accuracy: 0.9797 - val_loss: 0.0890 - val_accuracy: 0.9729\n",
      "Epoch 15/100\n",
      "34/34 [==============================] - 0s 6ms/step - loss: 0.0630 - accuracy: 0.9812 - val_loss: 0.0667 - val_accuracy: 0.9819\n",
      "Epoch 16/100\n",
      "34/34 [==============================] - 0s 6ms/step - loss: 0.0569 - accuracy: 0.9804 - val_loss: 0.0682 - val_accuracy: 0.9819\n",
      "Epoch 17/100\n",
      "34/34 [==============================] - 0s 5ms/step - loss: 0.0605 - accuracy: 0.9789 - val_loss: 0.0578 - val_accuracy: 0.9819\n",
      "Epoch 18/100\n",
      "34/34 [==============================] - 0s 5ms/step - loss: 0.0624 - accuracy: 0.9789 - val_loss: 0.0634 - val_accuracy: 0.9796\n",
      "Epoch 19/100\n",
      "34/34 [==============================] - 0s 5ms/step - loss: 0.0531 - accuracy: 0.9797 - val_loss: 0.0518 - val_accuracy: 0.9842\n",
      "Epoch 20/100\n",
      "34/34 [==============================] - 0s 8ms/step - loss: 0.0463 - accuracy: 0.9857 - val_loss: 0.0535 - val_accuracy: 0.9887\n",
      "Epoch 21/100\n",
      "34/34 [==============================] - 0s 5ms/step - loss: 0.0422 - accuracy: 0.9879 - val_loss: 0.0544 - val_accuracy: 0.9819\n",
      "Epoch 22/100\n",
      "34/34 [==============================] - 0s 5ms/step - loss: 0.0495 - accuracy: 0.9849 - val_loss: 0.0491 - val_accuracy: 0.9842\n",
      "Epoch 23/100\n",
      "34/34 [==============================] - 0s 5ms/step - loss: 0.0440 - accuracy: 0.9864 - val_loss: 0.0445 - val_accuracy: 0.9864\n",
      "Epoch 24/100\n",
      "34/34 [==============================] - 0s 5ms/step - loss: 0.0400 - accuracy: 0.9872 - val_loss: 0.0475 - val_accuracy: 0.9819\n",
      "Epoch 25/100\n",
      "34/34 [==============================] - 0s 5ms/step - loss: 0.0325 - accuracy: 0.9910 - val_loss: 0.0582 - val_accuracy: 0.9774\n",
      "Epoch 26/100\n",
      "34/34 [==============================] - 0s 5ms/step - loss: 0.0444 - accuracy: 0.9842 - val_loss: 0.0518 - val_accuracy: 0.9842\n",
      "Epoch 27/100\n",
      "34/34 [==============================] - 0s 6ms/step - loss: 0.0472 - accuracy: 0.9842 - val_loss: 0.0418 - val_accuracy: 0.9842\n",
      "Epoch 28/100\n",
      "34/34 [==============================] - 0s 5ms/step - loss: 0.0319 - accuracy: 0.9894 - val_loss: 0.0444 - val_accuracy: 0.9796\n",
      "Epoch 29/100\n",
      "34/34 [==============================] - 0s 5ms/step - loss: 0.0380 - accuracy: 0.9879 - val_loss: 0.0583 - val_accuracy: 0.9842\n",
      "Epoch 30/100\n",
      "34/34 [==============================] - 0s 7ms/step - loss: 0.0779 - accuracy: 0.9736 - val_loss: 0.0417 - val_accuracy: 0.9842\n",
      "Epoch 31/100\n",
      "34/34 [==============================] - 0s 6ms/step - loss: 0.0353 - accuracy: 0.9902 - val_loss: 0.0386 - val_accuracy: 0.9842\n",
      "Epoch 32/100\n",
      "34/34 [==============================] - 0s 5ms/step - loss: 0.0316 - accuracy: 0.9887 - val_loss: 0.0381 - val_accuracy: 0.9842\n",
      "Epoch 33/100\n",
      "34/34 [==============================] - 0s 6ms/step - loss: 0.0203 - accuracy: 0.9962 - val_loss: 0.0353 - val_accuracy: 0.9842\n",
      "Epoch 34/100\n",
      "34/34 [==============================] - 0s 5ms/step - loss: 0.0349 - accuracy: 0.9879 - val_loss: 0.0355 - val_accuracy: 0.9842\n",
      "Epoch 35/100\n",
      "34/34 [==============================] - 0s 5ms/step - loss: 0.0240 - accuracy: 0.9940 - val_loss: 0.0339 - val_accuracy: 0.9842\n",
      "Epoch 36/100\n",
      "34/34 [==============================] - 0s 5ms/step - loss: 0.0271 - accuracy: 0.9887 - val_loss: 0.0332 - val_accuracy: 0.9842\n",
      "Epoch 37/100\n",
      "34/34 [==============================] - 0s 5ms/step - loss: 0.0288 - accuracy: 0.9894 - val_loss: 0.0317 - val_accuracy: 0.9842\n",
      "Epoch 38/100\n",
      "34/34 [==============================] - 0s 4ms/step - loss: 0.0334 - accuracy: 0.9872 - val_loss: 0.0451 - val_accuracy: 0.9842\n",
      "Epoch 39/100\n",
      "34/34 [==============================] - 0s 4ms/step - loss: 0.0252 - accuracy: 0.9925 - val_loss: 0.0328 - val_accuracy: 0.9842\n",
      "Epoch 40/100\n",
      "34/34 [==============================] - 0s 5ms/step - loss: 0.0225 - accuracy: 0.9925 - val_loss: 0.0318 - val_accuracy: 0.9842\n",
      "Epoch 41/100\n",
      "34/34 [==============================] - 0s 5ms/step - loss: 0.0264 - accuracy: 0.9887 - val_loss: 0.0293 - val_accuracy: 0.9842\n",
      "Epoch 42/100\n",
      "34/34 [==============================] - 0s 5ms/step - loss: 0.0203 - accuracy: 0.9947 - val_loss: 0.0292 - val_accuracy: 0.9887\n",
      "Epoch 43/100\n",
      "34/34 [==============================] - 0s 4ms/step - loss: 0.0200 - accuracy: 0.9925 - val_loss: 0.0326 - val_accuracy: 0.9887\n",
      "Epoch 44/100\n",
      "34/34 [==============================] - 0s 5ms/step - loss: 0.0200 - accuracy: 0.9932 - val_loss: 0.0285 - val_accuracy: 0.9842\n",
      "Epoch 45/100\n",
      "34/34 [==============================] - 0s 4ms/step - loss: 0.0188 - accuracy: 0.9932 - val_loss: 0.0472 - val_accuracy: 0.9796\n",
      "Epoch 46/100\n",
      "34/34 [==============================] - 0s 4ms/step - loss: 0.0238 - accuracy: 0.9932 - val_loss: 0.0327 - val_accuracy: 0.9910\n",
      "Epoch 47/100\n",
      "34/34 [==============================] - 0s 4ms/step - loss: 0.0266 - accuracy: 0.9925 - val_loss: 0.0328 - val_accuracy: 0.9910\n",
      "Epoch 48/100\n",
      "34/34 [==============================] - 0s 5ms/step - loss: 0.0238 - accuracy: 0.9910 - val_loss: 0.0288 - val_accuracy: 0.9864\n"
     ]
    },
    {
     "name": "stderr",
     "output_type": "stream",
     "text": [
      "[I 2024-02-12 15:41:11,517] Trial 5 finished with value: 0.9864253401756287 and parameters: {'filters': 62, 'dropout_rate': 0.2968241949584094, 'dense_units': 129}. Best is trial 2 with value: 0.9886877536773682.\n"
     ]
    },
    {
     "name": "stdout",
     "output_type": "stream",
     "text": [
      "Epoch 1/100\n",
      "34/34 [==============================] - 1s 10ms/step - loss: 0.8295 - accuracy: 0.7302 - val_loss: 0.4717 - val_accuracy: 0.8462\n",
      "Epoch 2/100\n",
      "34/34 [==============================] - 0s 5ms/step - loss: 0.3577 - accuracy: 0.8659 - val_loss: 0.2655 - val_accuracy: 0.8824\n",
      "Epoch 3/100\n",
      "34/34 [==============================] - 0s 5ms/step - loss: 0.2486 - accuracy: 0.9103 - val_loss: 0.1922 - val_accuracy: 0.9344\n",
      "Epoch 4/100\n",
      "34/34 [==============================] - 0s 5ms/step - loss: 0.1835 - accuracy: 0.9352 - val_loss: 0.1496 - val_accuracy: 0.9774\n",
      "Epoch 5/100\n",
      "34/34 [==============================] - 0s 5ms/step - loss: 0.1597 - accuracy: 0.9390 - val_loss: 0.1282 - val_accuracy: 0.9774\n",
      "Epoch 6/100\n",
      "34/34 [==============================] - 0s 5ms/step - loss: 0.1304 - accuracy: 0.9548 - val_loss: 0.1232 - val_accuracy: 0.9751\n",
      "Epoch 7/100\n",
      "34/34 [==============================] - 0s 5ms/step - loss: 0.0973 - accuracy: 0.9661 - val_loss: 0.0973 - val_accuracy: 0.9819\n",
      "Epoch 8/100\n",
      "34/34 [==============================] - 0s 5ms/step - loss: 0.0850 - accuracy: 0.9729 - val_loss: 0.0933 - val_accuracy: 0.9796\n",
      "Epoch 9/100\n",
      "34/34 [==============================] - 0s 5ms/step - loss: 0.0862 - accuracy: 0.9729 - val_loss: 0.0792 - val_accuracy: 0.9842\n",
      "Epoch 10/100\n",
      "34/34 [==============================] - 0s 5ms/step - loss: 0.0797 - accuracy: 0.9766 - val_loss: 0.0884 - val_accuracy: 0.9751\n",
      "Epoch 11/100\n",
      "34/34 [==============================] - 0s 5ms/step - loss: 0.0600 - accuracy: 0.9834 - val_loss: 0.0686 - val_accuracy: 0.9819\n",
      "Epoch 12/100\n",
      "34/34 [==============================] - 0s 5ms/step - loss: 0.0627 - accuracy: 0.9819 - val_loss: 0.0749 - val_accuracy: 0.9796\n",
      "Epoch 13/100\n",
      "34/34 [==============================] - 0s 5ms/step - loss: 0.0611 - accuracy: 0.9819 - val_loss: 0.0668 - val_accuracy: 0.9819\n",
      "Epoch 14/100\n",
      "34/34 [==============================] - 0s 5ms/step - loss: 0.0451 - accuracy: 0.9887 - val_loss: 0.0646 - val_accuracy: 0.9864\n",
      "Epoch 15/100\n",
      "34/34 [==============================] - 0s 5ms/step - loss: 0.0635 - accuracy: 0.9774 - val_loss: 0.0595 - val_accuracy: 0.9842\n",
      "Epoch 16/100\n",
      "34/34 [==============================] - 0s 5ms/step - loss: 0.0467 - accuracy: 0.9879 - val_loss: 0.0572 - val_accuracy: 0.9887\n",
      "Epoch 17/100\n",
      "34/34 [==============================] - 0s 5ms/step - loss: 0.0449 - accuracy: 0.9864 - val_loss: 0.0530 - val_accuracy: 0.9864\n",
      "Epoch 18/100\n",
      "34/34 [==============================] - 0s 5ms/step - loss: 0.0423 - accuracy: 0.9887 - val_loss: 0.0552 - val_accuracy: 0.9887\n",
      "Epoch 19/100\n",
      "34/34 [==============================] - 0s 5ms/step - loss: 0.0427 - accuracy: 0.9842 - val_loss: 0.1025 - val_accuracy: 0.9706\n",
      "Epoch 20/100\n",
      "34/34 [==============================] - 0s 5ms/step - loss: 0.0534 - accuracy: 0.9834 - val_loss: 0.0571 - val_accuracy: 0.9864\n",
      "Epoch 21/100\n",
      "34/34 [==============================] - 0s 5ms/step - loss: 0.0353 - accuracy: 0.9887 - val_loss: 0.0499 - val_accuracy: 0.9819\n",
      "Epoch 22/100\n",
      "34/34 [==============================] - 0s 5ms/step - loss: 0.0360 - accuracy: 0.9887 - val_loss: 0.0526 - val_accuracy: 0.9819\n",
      "Epoch 23/100\n",
      "34/34 [==============================] - 0s 5ms/step - loss: 0.0278 - accuracy: 0.9925 - val_loss: 0.0451 - val_accuracy: 0.9887\n",
      "Epoch 24/100\n",
      "34/34 [==============================] - 0s 5ms/step - loss: 0.0355 - accuracy: 0.9872 - val_loss: 0.0466 - val_accuracy: 0.9842\n",
      "Epoch 25/100\n",
      "34/34 [==============================] - 0s 5ms/step - loss: 0.0400 - accuracy: 0.9910 - val_loss: 0.0516 - val_accuracy: 0.9864\n",
      "Epoch 26/100\n",
      "34/34 [==============================] - 0s 5ms/step - loss: 0.0331 - accuracy: 0.9887 - val_loss: 0.0450 - val_accuracy: 0.9842\n",
      "Epoch 27/100\n",
      "34/34 [==============================] - 0s 5ms/step - loss: 0.0294 - accuracy: 0.9917 - val_loss: 0.0623 - val_accuracy: 0.9842\n",
      "Epoch 28/100\n",
      "34/34 [==============================] - 0s 5ms/step - loss: 0.0294 - accuracy: 0.9879 - val_loss: 0.0657 - val_accuracy: 0.9842\n",
      "Epoch 29/100\n",
      "34/34 [==============================] - 0s 5ms/step - loss: 0.0243 - accuracy: 0.9910 - val_loss: 0.0436 - val_accuracy: 0.9864\n",
      "Epoch 30/100\n",
      "34/34 [==============================] - 0s 5ms/step - loss: 0.0222 - accuracy: 0.9917 - val_loss: 0.0410 - val_accuracy: 0.9842\n",
      "Epoch 31/100\n",
      "34/34 [==============================] - 0s 6ms/step - loss: 0.0265 - accuracy: 0.9902 - val_loss: 0.0386 - val_accuracy: 0.9842\n",
      "Epoch 32/100\n",
      "34/34 [==============================] - 0s 9ms/step - loss: 0.0218 - accuracy: 0.9947 - val_loss: 0.0443 - val_accuracy: 0.9887\n",
      "Epoch 33/100\n",
      "34/34 [==============================] - 0s 5ms/step - loss: 0.0196 - accuracy: 0.9940 - val_loss: 0.0487 - val_accuracy: 0.9864\n",
      "Epoch 34/100\n",
      "34/34 [==============================] - 0s 5ms/step - loss: 0.0218 - accuracy: 0.9917 - val_loss: 0.0408 - val_accuracy: 0.9864\n",
      "Epoch 35/100\n",
      "34/34 [==============================] - 0s 5ms/step - loss: 0.0240 - accuracy: 0.9917 - val_loss: 0.0416 - val_accuracy: 0.9819\n"
     ]
    },
    {
     "name": "stderr",
     "output_type": "stream",
     "text": [
      "[I 2024-02-12 15:41:18,717] Trial 6 finished with value: 0.9819004535675049 and parameters: {'filters': 89, 'dropout_rate': 0.24362333141957893, 'dense_units': 112}. Best is trial 2 with value: 0.9886877536773682.\n"
     ]
    },
    {
     "name": "stdout",
     "output_type": "stream",
     "text": [
      "Epoch 1/100\n",
      "34/34 [==============================] - 1s 10ms/step - loss: 0.8270 - accuracy: 0.6865 - val_loss: 0.3973 - val_accuracy: 0.8507\n",
      "Epoch 2/100\n",
      "34/34 [==============================] - 0s 5ms/step - loss: 0.3123 - accuracy: 0.8794 - val_loss: 0.3445 - val_accuracy: 0.8439\n",
      "Epoch 3/100\n",
      "34/34 [==============================] - 0s 6ms/step - loss: 0.2519 - accuracy: 0.8907 - val_loss: 0.1844 - val_accuracy: 0.9502\n",
      "Epoch 4/100\n",
      "34/34 [==============================] - 0s 6ms/step - loss: 0.1868 - accuracy: 0.9254 - val_loss: 0.1598 - val_accuracy: 0.9593\n",
      "Epoch 5/100\n",
      "34/34 [==============================] - 0s 6ms/step - loss: 0.1727 - accuracy: 0.9269 - val_loss: 0.1563 - val_accuracy: 0.9434\n",
      "Epoch 6/100\n",
      "34/34 [==============================] - 0s 6ms/step - loss: 0.1289 - accuracy: 0.9563 - val_loss: 0.1272 - val_accuracy: 0.9661\n",
      "Epoch 7/100\n",
      "34/34 [==============================] - 0s 6ms/step - loss: 0.1115 - accuracy: 0.9601 - val_loss: 0.1083 - val_accuracy: 0.9774\n",
      "Epoch 8/100\n",
      "34/34 [==============================] - 0s 6ms/step - loss: 0.1002 - accuracy: 0.9638 - val_loss: 0.0987 - val_accuracy: 0.9796\n",
      "Epoch 9/100\n",
      "34/34 [==============================] - 0s 6ms/step - loss: 0.1034 - accuracy: 0.9661 - val_loss: 0.0910 - val_accuracy: 0.9819\n",
      "Epoch 10/100\n",
      "34/34 [==============================] - 0s 6ms/step - loss: 0.0809 - accuracy: 0.9759 - val_loss: 0.0795 - val_accuracy: 0.9796\n",
      "Epoch 11/100\n",
      "34/34 [==============================] - 0s 6ms/step - loss: 0.0689 - accuracy: 0.9781 - val_loss: 0.0756 - val_accuracy: 0.9796\n",
      "Epoch 12/100\n",
      "34/34 [==============================] - 0s 5ms/step - loss: 0.0710 - accuracy: 0.9774 - val_loss: 0.0755 - val_accuracy: 0.9796\n",
      "Epoch 13/100\n",
      "34/34 [==============================] - 0s 6ms/step - loss: 0.0687 - accuracy: 0.9797 - val_loss: 0.0724 - val_accuracy: 0.9796\n",
      "Epoch 14/100\n",
      "34/34 [==============================] - 0s 6ms/step - loss: 0.0639 - accuracy: 0.9781 - val_loss: 0.0680 - val_accuracy: 0.9774\n",
      "Epoch 15/100\n",
      "34/34 [==============================] - 0s 5ms/step - loss: 0.0578 - accuracy: 0.9819 - val_loss: 0.0624 - val_accuracy: 0.9796\n",
      "Epoch 16/100\n",
      "34/34 [==============================] - 0s 5ms/step - loss: 0.0535 - accuracy: 0.9819 - val_loss: 0.0645 - val_accuracy: 0.9796\n",
      "Epoch 17/100\n",
      "34/34 [==============================] - 0s 6ms/step - loss: 0.0455 - accuracy: 0.9879 - val_loss: 0.0573 - val_accuracy: 0.9819\n",
      "Epoch 18/100\n",
      "34/34 [==============================] - 0s 6ms/step - loss: 0.0448 - accuracy: 0.9864 - val_loss: 0.0592 - val_accuracy: 0.9796\n",
      "Epoch 19/100\n",
      "34/34 [==============================] - 0s 7ms/step - loss: 0.0428 - accuracy: 0.9872 - val_loss: 0.0621 - val_accuracy: 0.9819\n",
      "Epoch 20/100\n",
      "34/34 [==============================] - 0s 6ms/step - loss: 0.0416 - accuracy: 0.9857 - val_loss: 0.0516 - val_accuracy: 0.9842\n",
      "Epoch 21/100\n",
      "34/34 [==============================] - 0s 6ms/step - loss: 0.0392 - accuracy: 0.9857 - val_loss: 0.0521 - val_accuracy: 0.9887\n",
      "Epoch 22/100\n",
      "34/34 [==============================] - 0s 6ms/step - loss: 0.0361 - accuracy: 0.9894 - val_loss: 0.0524 - val_accuracy: 0.9864\n",
      "Epoch 23/100\n",
      "34/34 [==============================] - 0s 6ms/step - loss: 0.0355 - accuracy: 0.9879 - val_loss: 0.0525 - val_accuracy: 0.9819\n",
      "Epoch 24/100\n",
      "34/34 [==============================] - 0s 5ms/step - loss: 0.0315 - accuracy: 0.9894 - val_loss: 0.0446 - val_accuracy: 0.9819\n",
      "Epoch 25/100\n",
      "34/34 [==============================] - 0s 6ms/step - loss: 0.0353 - accuracy: 0.9887 - val_loss: 0.0446 - val_accuracy: 0.9819\n",
      "Epoch 26/100\n",
      "34/34 [==============================] - 0s 6ms/step - loss: 0.0380 - accuracy: 0.9864 - val_loss: 0.0453 - val_accuracy: 0.9887\n",
      "Epoch 27/100\n",
      "34/34 [==============================] - 0s 6ms/step - loss: 0.0370 - accuracy: 0.9894 - val_loss: 0.0502 - val_accuracy: 0.9864\n",
      "Epoch 28/100\n",
      "34/34 [==============================] - 0s 6ms/step - loss: 0.0284 - accuracy: 0.9910 - val_loss: 0.0419 - val_accuracy: 0.9864\n",
      "Epoch 29/100\n",
      "34/34 [==============================] - 0s 5ms/step - loss: 0.0363 - accuracy: 0.9910 - val_loss: 0.0401 - val_accuracy: 0.9864\n",
      "Epoch 30/100\n",
      "34/34 [==============================] - 0s 5ms/step - loss: 0.0226 - accuracy: 0.9902 - val_loss: 0.0440 - val_accuracy: 0.9819\n",
      "Epoch 31/100\n",
      "34/34 [==============================] - 0s 5ms/step - loss: 0.0349 - accuracy: 0.9872 - val_loss: 0.0620 - val_accuracy: 0.9842\n",
      "Epoch 32/100\n",
      "34/34 [==============================] - 0s 5ms/step - loss: 0.0370 - accuracy: 0.9849 - val_loss: 0.0402 - val_accuracy: 0.9864\n",
      "Epoch 33/100\n",
      "34/34 [==============================] - 0s 6ms/step - loss: 0.0323 - accuracy: 0.9910 - val_loss: 0.0357 - val_accuracy: 0.9887\n",
      "Epoch 34/100\n",
      "34/34 [==============================] - 0s 6ms/step - loss: 0.0307 - accuracy: 0.9910 - val_loss: 0.0326 - val_accuracy: 0.9864\n",
      "Epoch 35/100\n",
      "34/34 [==============================] - 0s 7ms/step - loss: 0.0314 - accuracy: 0.9910 - val_loss: 0.0339 - val_accuracy: 0.9864\n",
      "Epoch 36/100\n",
      "34/34 [==============================] - 0s 6ms/step - loss: 0.0728 - accuracy: 0.9706 - val_loss: 0.0442 - val_accuracy: 0.9842\n",
      "Epoch 37/100\n",
      "34/34 [==============================] - 0s 6ms/step - loss: 0.0440 - accuracy: 0.9819 - val_loss: 0.0337 - val_accuracy: 0.9842\n",
      "Epoch 38/100\n",
      "34/34 [==============================] - 0s 6ms/step - loss: 0.0411 - accuracy: 0.9857 - val_loss: 0.0389 - val_accuracy: 0.9819\n"
     ]
    },
    {
     "name": "stderr",
     "output_type": "stream",
     "text": [
      "[I 2024-02-12 15:41:27,205] Trial 7 finished with value: 0.9819004535675049 and parameters: {'filters': 123, 'dropout_rate': 0.3180638080596777, 'dense_units': 114}. Best is trial 2 with value: 0.9886877536773682.\n"
     ]
    },
    {
     "name": "stdout",
     "output_type": "stream",
     "text": [
      "Epoch 1/100\n",
      "34/34 [==============================] - 1s 10ms/step - loss: 0.8171 - accuracy: 0.7460 - val_loss: 0.3917 - val_accuracy: 0.8688\n",
      "Epoch 2/100\n",
      "34/34 [==============================] - 0s 6ms/step - loss: 0.2969 - accuracy: 0.8809 - val_loss: 0.2200 - val_accuracy: 0.9163\n",
      "Epoch 3/100\n",
      "34/34 [==============================] - 0s 6ms/step - loss: 0.2319 - accuracy: 0.9194 - val_loss: 0.1855 - val_accuracy: 0.9389\n",
      "Epoch 4/100\n",
      "34/34 [==============================] - 0s 6ms/step - loss: 0.1821 - accuracy: 0.9314 - val_loss: 0.1427 - val_accuracy: 0.9796\n",
      "Epoch 5/100\n",
      "34/34 [==============================] - 0s 5ms/step - loss: 0.1494 - accuracy: 0.9518 - val_loss: 0.1427 - val_accuracy: 0.9593\n",
      "Epoch 6/100\n",
      "34/34 [==============================] - 0s 5ms/step - loss: 0.1356 - accuracy: 0.9518 - val_loss: 0.1311 - val_accuracy: 0.9638\n",
      "Epoch 7/100\n",
      "34/34 [==============================] - 0s 5ms/step - loss: 0.1169 - accuracy: 0.9570 - val_loss: 0.0998 - val_accuracy: 0.9796\n",
      "Epoch 8/100\n",
      "34/34 [==============================] - 0s 6ms/step - loss: 0.0985 - accuracy: 0.9714 - val_loss: 0.0884 - val_accuracy: 0.9819\n",
      "Epoch 9/100\n",
      "34/34 [==============================] - 0s 9ms/step - loss: 0.0910 - accuracy: 0.9691 - val_loss: 0.0943 - val_accuracy: 0.9796\n",
      "Epoch 10/100\n",
      "34/34 [==============================] - 0s 6ms/step - loss: 0.0928 - accuracy: 0.9631 - val_loss: 0.0812 - val_accuracy: 0.9796\n",
      "Epoch 11/100\n",
      "34/34 [==============================] - 0s 6ms/step - loss: 0.0804 - accuracy: 0.9714 - val_loss: 0.0747 - val_accuracy: 0.9796\n",
      "Epoch 12/100\n",
      "34/34 [==============================] - 0s 6ms/step - loss: 0.0577 - accuracy: 0.9872 - val_loss: 0.0822 - val_accuracy: 0.9819\n",
      "Epoch 13/100\n",
      "34/34 [==============================] - 0s 5ms/step - loss: 0.0659 - accuracy: 0.9751 - val_loss: 0.0756 - val_accuracy: 0.9774\n",
      "Epoch 14/100\n",
      "34/34 [==============================] - 0s 5ms/step - loss: 0.0622 - accuracy: 0.9797 - val_loss: 0.0953 - val_accuracy: 0.9638\n",
      "Epoch 15/100\n",
      "34/34 [==============================] - 0s 5ms/step - loss: 0.0588 - accuracy: 0.9834 - val_loss: 0.0669 - val_accuracy: 0.9842\n",
      "Epoch 16/100\n",
      "34/34 [==============================] - 0s 5ms/step - loss: 0.0580 - accuracy: 0.9797 - val_loss: 0.0569 - val_accuracy: 0.9842\n",
      "Epoch 17/100\n",
      "34/34 [==============================] - 0s 5ms/step - loss: 0.0537 - accuracy: 0.9827 - val_loss: 0.0539 - val_accuracy: 0.9842\n",
      "Epoch 18/100\n",
      "34/34 [==============================] - 0s 5ms/step - loss: 0.0555 - accuracy: 0.9781 - val_loss: 0.0585 - val_accuracy: 0.9819\n",
      "Epoch 19/100\n",
      "34/34 [==============================] - 0s 6ms/step - loss: 0.0626 - accuracy: 0.9797 - val_loss: 0.0512 - val_accuracy: 0.9842\n",
      "Epoch 20/100\n",
      "34/34 [==============================] - 0s 6ms/step - loss: 0.0479 - accuracy: 0.9842 - val_loss: 0.0550 - val_accuracy: 0.9819\n",
      "Epoch 21/100\n",
      "34/34 [==============================] - 0s 6ms/step - loss: 0.0454 - accuracy: 0.9827 - val_loss: 0.0499 - val_accuracy: 0.9819\n",
      "Epoch 22/100\n",
      "34/34 [==============================] - 0s 6ms/step - loss: 0.0444 - accuracy: 0.9849 - val_loss: 0.0601 - val_accuracy: 0.9796\n",
      "Epoch 23/100\n",
      "34/34 [==============================] - 0s 6ms/step - loss: 0.0441 - accuracy: 0.9864 - val_loss: 0.0474 - val_accuracy: 0.9842\n",
      "Epoch 24/100\n",
      "34/34 [==============================] - 0s 5ms/step - loss: 0.0340 - accuracy: 0.9887 - val_loss: 0.0527 - val_accuracy: 0.9864\n",
      "Epoch 25/100\n",
      "34/34 [==============================] - 0s 5ms/step - loss: 0.0397 - accuracy: 0.9857 - val_loss: 0.0478 - val_accuracy: 0.9864\n",
      "Epoch 26/100\n",
      "34/34 [==============================] - 0s 5ms/step - loss: 0.0341 - accuracy: 0.9894 - val_loss: 0.0447 - val_accuracy: 0.9842\n",
      "Epoch 27/100\n",
      "34/34 [==============================] - 0s 6ms/step - loss: 0.0388 - accuracy: 0.9864 - val_loss: 0.0437 - val_accuracy: 0.9819\n",
      "Epoch 28/100\n",
      "34/34 [==============================] - 0s 5ms/step - loss: 0.0327 - accuracy: 0.9887 - val_loss: 0.0611 - val_accuracy: 0.9796\n",
      "Epoch 29/100\n",
      "34/34 [==============================] - 0s 5ms/step - loss: 0.0352 - accuracy: 0.9842 - val_loss: 0.0413 - val_accuracy: 0.9864\n",
      "Epoch 30/100\n",
      "34/34 [==============================] - 0s 5ms/step - loss: 0.0323 - accuracy: 0.9887 - val_loss: 0.0387 - val_accuracy: 0.9864\n",
      "Epoch 31/100\n",
      "34/34 [==============================] - 0s 5ms/step - loss: 0.0304 - accuracy: 0.9894 - val_loss: 0.0474 - val_accuracy: 0.9842\n",
      "Epoch 32/100\n",
      "34/34 [==============================] - 0s 5ms/step - loss: 0.0311 - accuracy: 0.9879 - val_loss: 0.0401 - val_accuracy: 0.9864\n",
      "Epoch 33/100\n",
      "34/34 [==============================] - 0s 5ms/step - loss: 0.0555 - accuracy: 0.9759 - val_loss: 0.0855 - val_accuracy: 0.9661\n",
      "Epoch 34/100\n",
      "34/34 [==============================] - 0s 6ms/step - loss: 0.0765 - accuracy: 0.9751 - val_loss: 0.0390 - val_accuracy: 0.9842\n"
     ]
    },
    {
     "name": "stderr",
     "output_type": "stream",
     "text": [
      "[I 2024-02-12 15:41:34,706] Trial 8 finished with value: 0.9841628670692444 and parameters: {'filters': 124, 'dropout_rate': 0.4165257716359333, 'dense_units': 84}. Best is trial 2 with value: 0.9886877536773682.\n"
     ]
    },
    {
     "name": "stdout",
     "output_type": "stream",
     "text": [
      "Epoch 1/100\n",
      "34/34 [==============================] - 1s 19ms/step - loss: 0.9053 - accuracy: 0.6639 - val_loss: 0.5647 - val_accuracy: 0.8348\n",
      "Epoch 2/100\n",
      "34/34 [==============================] - 0s 6ms/step - loss: 0.4127 - accuracy: 0.8425 - val_loss: 0.3009 - val_accuracy: 0.8620\n",
      "Epoch 3/100\n",
      "34/34 [==============================] - 0s 6ms/step - loss: 0.2886 - accuracy: 0.8892 - val_loss: 0.2488 - val_accuracy: 0.8937\n",
      "Epoch 4/100\n",
      "34/34 [==============================] - 0s 6ms/step - loss: 0.2297 - accuracy: 0.9148 - val_loss: 0.1988 - val_accuracy: 0.9457\n",
      "Epoch 5/100\n",
      "34/34 [==============================] - 0s 6ms/step - loss: 0.1856 - accuracy: 0.9246 - val_loss: 0.1706 - val_accuracy: 0.9434\n",
      "Epoch 6/100\n",
      "34/34 [==============================] - 0s 6ms/step - loss: 0.1582 - accuracy: 0.9435 - val_loss: 0.1528 - val_accuracy: 0.9502\n",
      "Epoch 7/100\n",
      "34/34 [==============================] - 0s 6ms/step - loss: 0.1416 - accuracy: 0.9518 - val_loss: 0.1297 - val_accuracy: 0.9661\n",
      "Epoch 8/100\n",
      "34/34 [==============================] - 0s 6ms/step - loss: 0.1286 - accuracy: 0.9548 - val_loss: 0.1015 - val_accuracy: 0.9819\n",
      "Epoch 9/100\n",
      "34/34 [==============================] - 0s 6ms/step - loss: 0.1159 - accuracy: 0.9638 - val_loss: 0.0981 - val_accuracy: 0.9774\n",
      "Epoch 10/100\n",
      "34/34 [==============================] - 0s 6ms/step - loss: 0.1088 - accuracy: 0.9668 - val_loss: 0.0929 - val_accuracy: 0.9819\n",
      "Epoch 11/100\n",
      "34/34 [==============================] - 0s 6ms/step - loss: 0.1072 - accuracy: 0.9653 - val_loss: 0.0974 - val_accuracy: 0.9751\n",
      "Epoch 12/100\n",
      "34/34 [==============================] - 0s 6ms/step - loss: 0.0871 - accuracy: 0.9721 - val_loss: 0.0785 - val_accuracy: 0.9819\n",
      "Epoch 13/100\n",
      "34/34 [==============================] - 0s 6ms/step - loss: 0.0907 - accuracy: 0.9714 - val_loss: 0.0775 - val_accuracy: 0.9842\n",
      "Epoch 14/100\n",
      "34/34 [==============================] - 0s 6ms/step - loss: 0.0711 - accuracy: 0.9797 - val_loss: 0.0731 - val_accuracy: 0.9819\n",
      "Epoch 15/100\n",
      "34/34 [==============================] - 0s 6ms/step - loss: 0.0607 - accuracy: 0.9819 - val_loss: 0.0708 - val_accuracy: 0.9819\n",
      "Epoch 16/100\n",
      "34/34 [==============================] - 0s 5ms/step - loss: 0.0704 - accuracy: 0.9804 - val_loss: 0.0669 - val_accuracy: 0.9819\n",
      "Epoch 17/100\n",
      "34/34 [==============================] - 0s 5ms/step - loss: 0.0564 - accuracy: 0.9849 - val_loss: 0.0650 - val_accuracy: 0.9842\n",
      "Epoch 18/100\n",
      "34/34 [==============================] - 0s 5ms/step - loss: 0.0570 - accuracy: 0.9819 - val_loss: 0.0572 - val_accuracy: 0.9819\n",
      "Epoch 19/100\n",
      "34/34 [==============================] - 0s 6ms/step - loss: 0.0526 - accuracy: 0.9804 - val_loss: 0.0586 - val_accuracy: 0.9842\n",
      "Epoch 20/100\n",
      "34/34 [==============================] - 0s 5ms/step - loss: 0.0519 - accuracy: 0.9819 - val_loss: 0.0581 - val_accuracy: 0.9842\n",
      "Epoch 21/100\n",
      "34/34 [==============================] - 0s 6ms/step - loss: 0.0519 - accuracy: 0.9864 - val_loss: 0.0565 - val_accuracy: 0.9842\n",
      "Epoch 22/100\n",
      "34/34 [==============================] - 0s 6ms/step - loss: 0.0439 - accuracy: 0.9857 - val_loss: 0.0558 - val_accuracy: 0.9910\n",
      "Epoch 23/100\n",
      "34/34 [==============================] - 0s 6ms/step - loss: 0.0524 - accuracy: 0.9819 - val_loss: 0.0732 - val_accuracy: 0.9796\n",
      "Epoch 24/100\n",
      "34/34 [==============================] - 0s 6ms/step - loss: 0.0974 - accuracy: 0.9661 - val_loss: 0.0528 - val_accuracy: 0.9864\n",
      "Epoch 25/100\n",
      "34/34 [==============================] - 0s 9ms/step - loss: 0.0445 - accuracy: 0.9827 - val_loss: 0.0475 - val_accuracy: 0.9819\n",
      "Epoch 26/100\n",
      "34/34 [==============================] - 0s 6ms/step - loss: 0.0500 - accuracy: 0.9842 - val_loss: 0.0543 - val_accuracy: 0.9842\n",
      "Epoch 27/100\n",
      "34/34 [==============================] - 0s 6ms/step - loss: 0.0446 - accuracy: 0.9857 - val_loss: 0.0568 - val_accuracy: 0.9842\n",
      "Epoch 28/100\n",
      "34/34 [==============================] - 0s 6ms/step - loss: 0.0367 - accuracy: 0.9887 - val_loss: 0.0441 - val_accuracy: 0.9842\n",
      "Epoch 29/100\n",
      "34/34 [==============================] - 0s 6ms/step - loss: 0.0324 - accuracy: 0.9902 - val_loss: 0.0425 - val_accuracy: 0.9842\n",
      "Epoch 30/100\n",
      "34/34 [==============================] - 0s 6ms/step - loss: 0.0352 - accuracy: 0.9902 - val_loss: 0.0389 - val_accuracy: 0.9842\n",
      "Epoch 31/100\n",
      "34/34 [==============================] - 0s 6ms/step - loss: 0.0390 - accuracy: 0.9857 - val_loss: 0.0436 - val_accuracy: 0.9842\n",
      "Epoch 32/100\n",
      "34/34 [==============================] - 0s 6ms/step - loss: 0.0354 - accuracy: 0.9887 - val_loss: 0.0391 - val_accuracy: 0.9842\n",
      "Epoch 33/100\n",
      "34/34 [==============================] - 0s 5ms/step - loss: 0.0292 - accuracy: 0.9894 - val_loss: 0.0435 - val_accuracy: 0.9887\n",
      "Epoch 34/100\n",
      "34/34 [==============================] - 0s 5ms/step - loss: 0.0271 - accuracy: 0.9910 - val_loss: 0.0373 - val_accuracy: 0.9842\n",
      "Epoch 35/100\n",
      "34/34 [==============================] - 0s 5ms/step - loss: 0.0234 - accuracy: 0.9955 - val_loss: 0.0383 - val_accuracy: 0.9864\n",
      "Epoch 36/100\n",
      "34/34 [==============================] - 0s 6ms/step - loss: 0.0230 - accuracy: 0.9940 - val_loss: 0.0376 - val_accuracy: 0.9864\n",
      "Epoch 37/100\n",
      "34/34 [==============================] - 0s 6ms/step - loss: 0.0289 - accuracy: 0.9917 - val_loss: 0.0459 - val_accuracy: 0.9842\n",
      "Epoch 38/100\n",
      "34/34 [==============================] - 0s 6ms/step - loss: 0.0208 - accuracy: 0.9955 - val_loss: 0.0356 - val_accuracy: 0.9842\n",
      "Epoch 39/100\n",
      "34/34 [==============================] - 0s 6ms/step - loss: 0.0256 - accuracy: 0.9932 - val_loss: 0.0384 - val_accuracy: 0.9887\n",
      "Epoch 40/100\n",
      "34/34 [==============================] - 0s 7ms/step - loss: 0.0261 - accuracy: 0.9910 - val_loss: 0.0388 - val_accuracy: 0.9864\n",
      "Epoch 41/100\n",
      "34/34 [==============================] - 0s 6ms/step - loss: 0.0229 - accuracy: 0.9910 - val_loss: 0.0423 - val_accuracy: 0.9864\n",
      "Epoch 42/100\n",
      "34/34 [==============================] - 0s 6ms/step - loss: 0.0475 - accuracy: 0.9849 - val_loss: 0.0361 - val_accuracy: 0.9819\n"
     ]
    },
    {
     "name": "stderr",
     "output_type": "stream",
     "text": [
      "[I 2024-02-12 15:41:44,364] Trial 9 finished with value: 0.9819004535675049 and parameters: {'filters': 92, 'dropout_rate': 0.3137254437142739, 'dense_units': 56}. Best is trial 2 with value: 0.9886877536773682.\n"
     ]
    },
    {
     "name": "stdout",
     "output_type": "stream",
     "text": [
      "Best Hyperparameters: {'filters': 54, 'dropout_rate': 0.13801574125033134, 'dense_units': 151}\n"
     ]
    }
   ],
   "source": [
    "\n",
    "best_params=optimize_model(X_train_arr, y_train_arr, X_valid_arr, y_valid_arr)"
   ]
  },
  {
   "cell_type": "code",
   "execution_count": 100,
   "metadata": {},
   "outputs": [
    {
     "data": {
      "text/plain": [
       "{'filters': 54, 'dropout_rate': 0.13801574125033134, 'dense_units': 151}"
      ]
     },
     "execution_count": 100,
     "metadata": {},
     "output_type": "execute_result"
    }
   ],
   "source": [
    "best_params"
   ]
  },
  {
   "cell_type": "code",
   "execution_count": 101,
   "metadata": {},
   "outputs": [],
   "source": [
    "\n",
    "import pickle\n",
    "from keras import regularizers\n",
    "\n",
    "# fit and evaluate a model\n",
    "def evaluate_model(trainX, trainy,validX,validy, testX, testy):\n",
    "#  verbose, epochs, batch_size = 1, 1500, 100\n",
    " n_timesteps, n_features, n_outputs = trainX.shape[1], trainX.shape[2], 3\n",
    " model = Sequential()\n",
    " model.add(Conv1D(filters=best_params['filters'], kernel_size=3, activation='relu', input_shape=(n_timesteps,n_features)))\n",
    " model.add(Conv1D(filters=best_params['filters'], kernel_size=2, activation='relu'))\n",
    " model.add(Dropout(best_params['dropout_rate']))\n",
    " model.add(MaxPooling1D(pool_size=2))\n",
    " model.add(Flatten())\n",
    " model.add(Dense(best_params['dense_units'], activation='relu'))\n",
    " model.add(Dense(n_outputs, activation='softmax',\n",
    "                 kernel_regularizer=regularizers.L1L2(l1=1e-5, l2=1e-4),\n",
    "    bias_regularizer=regularizers.L2(1e-4),\n",
    "    activity_regularizer=regularizers.L2(1e-5))) # \"softmax\" for multi-class\n",
    " model.compile(loss='categorical_crossentropy', optimizer='adam', metrics=['accuracy'])\n",
    " # fit network\n",
    " history=model.fit(trainX, trainy, validation_data=(validX, validy), epochs=epochs, batch_size=batch_size,callbacks=[callback], verbose=verbose)\n",
    " #summarize_mode\n",
    " print(model.summary())\n",
    " # evaluate model\n",
    " _, accuracy = model.evaluate(testX, testy, batch_size=batch_size, verbose=0)\n",
    " # '_,'-->a variable is being used for a specific purpose, but its value is not of interest or not used in the subsequent code.\n",
    " return accuracy,history,model"
   ]
  },
  {
   "cell_type": "code",
   "execution_count": 102,
   "metadata": {},
   "outputs": [
    {
     "name": "stdout",
     "output_type": "stream",
     "text": [
      "Epoch 1/100\n",
      "34/34 [==============================] - 1s 13ms/step - loss: 0.9874 - accuracy: 0.6398 - val_loss: 0.8260 - val_accuracy: 0.8258\n",
      "Epoch 2/100\n",
      "34/34 [==============================] - 0s 8ms/step - loss: 0.5826 - accuracy: 0.8289 - val_loss: 0.4097 - val_accuracy: 0.8552\n",
      "Epoch 3/100\n",
      "34/34 [==============================] - 0s 6ms/step - loss: 0.3402 - accuracy: 0.8681 - val_loss: 0.2882 - val_accuracy: 0.8937\n",
      "Epoch 4/100\n",
      "34/34 [==============================] - 0s 6ms/step - loss: 0.2386 - accuracy: 0.9088 - val_loss: 0.2230 - val_accuracy: 0.9050\n",
      "Epoch 5/100\n",
      "34/34 [==============================] - 0s 6ms/step - loss: 0.2034 - accuracy: 0.9239 - val_loss: 0.1887 - val_accuracy: 0.9321\n",
      "Epoch 6/100\n",
      "34/34 [==============================] - 0s 5ms/step - loss: 0.1668 - accuracy: 0.9412 - val_loss: 0.1766 - val_accuracy: 0.9321\n",
      "Epoch 7/100\n",
      "34/34 [==============================] - 0s 5ms/step - loss: 0.1386 - accuracy: 0.9540 - val_loss: 0.1340 - val_accuracy: 0.9683\n",
      "Epoch 8/100\n",
      "34/34 [==============================] - 0s 5ms/step - loss: 0.1290 - accuracy: 0.9570 - val_loss: 0.1249 - val_accuracy: 0.9706\n",
      "Epoch 9/100\n",
      "34/34 [==============================] - 0s 5ms/step - loss: 0.1196 - accuracy: 0.9608 - val_loss: 0.1016 - val_accuracy: 0.9774\n",
      "Epoch 10/100\n",
      "34/34 [==============================] - 0s 5ms/step - loss: 0.0950 - accuracy: 0.9721 - val_loss: 0.1014 - val_accuracy: 0.9774\n",
      "Epoch 11/100\n",
      "34/34 [==============================] - 0s 5ms/step - loss: 0.0805 - accuracy: 0.9744 - val_loss: 0.0851 - val_accuracy: 0.9796\n",
      "Epoch 12/100\n",
      "34/34 [==============================] - 0s 5ms/step - loss: 0.0872 - accuracy: 0.9729 - val_loss: 0.0936 - val_accuracy: 0.9706\n",
      "Epoch 13/100\n",
      "34/34 [==============================] - 0s 5ms/step - loss: 0.0789 - accuracy: 0.9766 - val_loss: 0.0971 - val_accuracy: 0.9706\n",
      "Epoch 14/100\n",
      "34/34 [==============================] - 0s 5ms/step - loss: 0.0718 - accuracy: 0.9781 - val_loss: 0.0727 - val_accuracy: 0.9819\n",
      "Epoch 15/100\n",
      "34/34 [==============================] - 0s 5ms/step - loss: 0.0716 - accuracy: 0.9804 - val_loss: 0.0687 - val_accuracy: 0.9819\n",
      "Epoch 16/100\n",
      "34/34 [==============================] - 0s 5ms/step - loss: 0.0576 - accuracy: 0.9842 - val_loss: 0.0685 - val_accuracy: 0.9796\n",
      "Epoch 17/100\n",
      "34/34 [==============================] - 0s 5ms/step - loss: 0.0767 - accuracy: 0.9714 - val_loss: 0.0688 - val_accuracy: 0.9796\n",
      "Epoch 18/100\n",
      "34/34 [==============================] - 0s 5ms/step - loss: 0.0551 - accuracy: 0.9819 - val_loss: 0.0541 - val_accuracy: 0.9842\n",
      "Epoch 19/100\n",
      "34/34 [==============================] - 0s 5ms/step - loss: 0.0454 - accuracy: 0.9879 - val_loss: 0.0651 - val_accuracy: 0.9774\n",
      "Epoch 20/100\n",
      "34/34 [==============================] - 0s 6ms/step - loss: 0.0486 - accuracy: 0.9834 - val_loss: 0.0538 - val_accuracy: 0.9819\n",
      "Epoch 21/100\n",
      "34/34 [==============================] - 0s 6ms/step - loss: 0.0460 - accuracy: 0.9879 - val_loss: 0.0493 - val_accuracy: 0.9864\n",
      "Epoch 22/100\n",
      "34/34 [==============================] - 0s 6ms/step - loss: 0.0540 - accuracy: 0.9842 - val_loss: 0.0543 - val_accuracy: 0.9864\n",
      "Epoch 23/100\n",
      "34/34 [==============================] - 0s 5ms/step - loss: 0.0395 - accuracy: 0.9872 - val_loss: 0.0522 - val_accuracy: 0.9842\n",
      "Epoch 24/100\n",
      "34/34 [==============================] - 0s 5ms/step - loss: 0.0393 - accuracy: 0.9887 - val_loss: 0.0440 - val_accuracy: 0.9842\n",
      "Epoch 25/100\n",
      "34/34 [==============================] - 0s 5ms/step - loss: 0.0304 - accuracy: 0.9925 - val_loss: 0.0532 - val_accuracy: 0.9819\n",
      "Epoch 26/100\n",
      "34/34 [==============================] - 0s 5ms/step - loss: 0.0332 - accuracy: 0.9902 - val_loss: 0.0400 - val_accuracy: 0.9887\n",
      "Epoch 27/100\n",
      "34/34 [==============================] - 0s 5ms/step - loss: 0.0407 - accuracy: 0.9864 - val_loss: 0.0385 - val_accuracy: 0.9842\n",
      "Epoch 28/100\n",
      "34/34 [==============================] - 0s 5ms/step - loss: 0.0322 - accuracy: 0.9902 - val_loss: 0.0422 - val_accuracy: 0.9864\n",
      "Epoch 29/100\n",
      "34/34 [==============================] - 0s 5ms/step - loss: 0.0295 - accuracy: 0.9894 - val_loss: 0.0392 - val_accuracy: 0.9864\n",
      "Epoch 30/100\n",
      "34/34 [==============================] - 0s 5ms/step - loss: 0.0268 - accuracy: 0.9947 - val_loss: 0.0389 - val_accuracy: 0.9864\n",
      "Epoch 31/100\n",
      "34/34 [==============================] - 0s 5ms/step - loss: 0.0375 - accuracy: 0.9879 - val_loss: 0.0381 - val_accuracy: 0.9864\n",
      "Epoch 32/100\n",
      "34/34 [==============================] - 0s 5ms/step - loss: 0.0296 - accuracy: 0.9947 - val_loss: 0.0422 - val_accuracy: 0.9887\n",
      "Epoch 33/100\n",
      "34/34 [==============================] - 0s 5ms/step - loss: 0.0279 - accuracy: 0.9902 - val_loss: 0.0479 - val_accuracy: 0.9819\n",
      "Epoch 34/100\n",
      "34/34 [==============================] - 0s 5ms/step - loss: 0.0305 - accuracy: 0.9894 - val_loss: 0.0327 - val_accuracy: 0.9864\n",
      "Epoch 35/100\n",
      "34/34 [==============================] - 0s 5ms/step - loss: 0.0254 - accuracy: 0.9917 - val_loss: 0.0307 - val_accuracy: 0.9864\n",
      "Epoch 36/100\n",
      "34/34 [==============================] - 0s 5ms/step - loss: 0.0316 - accuracy: 0.9917 - val_loss: 0.0475 - val_accuracy: 0.9887\n",
      "Epoch 37/100\n",
      "34/34 [==============================] - 0s 5ms/step - loss: 0.0284 - accuracy: 0.9917 - val_loss: 0.0329 - val_accuracy: 0.9887\n",
      "Epoch 38/100\n",
      "34/34 [==============================] - 0s 5ms/step - loss: 0.0295 - accuracy: 0.9910 - val_loss: 0.0321 - val_accuracy: 0.9887\n",
      "Epoch 39/100\n",
      "34/34 [==============================] - 0s 5ms/step - loss: 0.0266 - accuracy: 0.9917 - val_loss: 0.0318 - val_accuracy: 0.9887\n",
      "Model: \"sequential_42\"\n",
      "_________________________________________________________________\n",
      " Layer (type)                Output Shape              Param #   \n",
      "=================================================================\n",
      " conv1d_84 (Conv1D)          (None, 10, 54)            216       \n",
      "                                                                 \n",
      " conv1d_85 (Conv1D)          (None, 9, 54)             5886      \n",
      "                                                                 \n",
      " dropout_42 (Dropout)        (None, 9, 54)             0         \n",
      "                                                                 \n",
      " max_pooling1d_4 (MaxPoolin  (None, 4, 54)             0         \n",
      " g1D)                                                            \n",
      "                                                                 \n",
      " flatten_42 (Flatten)        (None, 216)               0         \n",
      "                                                                 \n",
      " dense_84 (Dense)            (None, 151)               32767     \n",
      "                                                                 \n",
      " dense_85 (Dense)            (None, 3)                 456       \n",
      "                                                                 \n",
      "=================================================================\n",
      "Total params: 39325 (153.61 KB)\n",
      "Trainable params: 39325 (153.61 KB)\n",
      "Non-trainable params: 0 (0.00 Byte)\n",
      "_________________________________________________________________\n",
      "None\n",
      "[98.41986298561096]\n",
      "Test Accuracy: 98.420% (+/-0.000)\n"
     ]
    }
   ],
   "source": [
    "scores = list()\n",
    "score,history,model= evaluate_model(X_train_arr, y_train_arr, X_valid_arr, y_valid_arr, X_test_arr, y_test_arr)\n",
    "score = score * 100.0\n",
    "scores.append(score)\n",
    "# summarize results\n",
    "summarize_results(scores)"
   ]
  },
  {
   "cell_type": "code",
   "execution_count": 103,
   "metadata": {},
   "outputs": [
    {
     "data": {
      "image/png": "[encoded data removed]",
      "text/plain": [
       "<Figure size 640x480 with 1 Axes>"
      ]
     },
     "metadata": {},
     "output_type": "display_data"
    }
   ],
   "source": [
    "# plot loss-curve_2\n",
    "pyplot.plot(history.history['loss'], label='training')\n",
    "pyplot.plot(history.history['val_loss'], label='validation')\n",
    "plt.xlabel('epoch')\n",
    "plt.ylabel('loss')\n",
    "plt.title('Loss-curve')\n",
    "pyplot.legend()\n",
    "pyplot.show()"
   ]
  },
  {
   "cell_type": "code",
   "execution_count": 104,
   "metadata": {},
   "outputs": [
    {
     "data": {
      "image/png": "[encoded data removed]",
      "text/plain": [
       "<Figure size 640x480 with 1 Axes>"
      ]
     },
     "metadata": {},
     "output_type": "display_data"
    }
   ],
   "source": [
    "# plot loss-curve_2\n",
    "pyplot.plot(history.history['accuracy'], label='training')\n",
    "pyplot.plot(history.history['val_accuracy'], label='validation')\n",
    "plt.xlabel('epoch')\n",
    "plt.ylabel('score')\n",
    "plt.title('training-curve')\n",
    "pyplot.legend()\n",
    "pyplot.show()"
   ]
  },
  {
   "cell_type": "code",
   "execution_count": 105,
   "metadata": {},
   "outputs": [
    {
     "name": "stdout",
     "output_type": "stream",
     "text": [
      "14/14 [==============================] - 0s 2ms/step\n",
      "[[0. 1. 0.]\n",
      " [0. 1. 0.]\n",
      " [1. 0. 0.]\n",
      " ...\n",
      " [0. 1. 0.]\n",
      " [0. 1. 0.]\n",
      " [0. 1. 0.]]\n",
      "[1 1 0 1 0 2 0 0 2 1 2 0 0 1 0 2 1 0 0 0 0 1 0 0 1 1 2 1 1 1 0 0 0 1 2 1 2\n",
      " 2 2 1 0 1 0 1 0 1 0 0 0 0 1 2 2 2 1 1 0 2 1 0 1 1 0 2 0 0 1 0 1 2 0 2 0 0\n",
      " 0 0 1 0 1 0 1 0 1 1 0 0 2 0 2 0 0 0 0 0 0 1 0 0 0 2 1 1 0 0 0 2 2 0 0 2 1\n",
      " 1 0 1 0 0 2 0 1 0 1 1 1 1 2 2 0 1 2 1 0 0 0 0 0 1 0 1 1 2 1 1 1 1 0 0 1 2\n",
      " 0 0 0 0 1 1 0 0 0 2 1 2 1 1 2 0 0 0 2 2 1 0 1 2 0 0 1 1 1 2 2 1 1 0 0 0 1\n",
      " 0 0 0 2 1 0 1 1 1 0 2 1 0 0 0 0 0 1 1 1 0 1 2 0 0 1 0 1 0 1 2 1 2 0 1 0 2\n",
      " 0 0 1 0 1 0 2 0 1 1 2 2 1 2 2 0 1 1 0 2 0 0 1 2 2 1 1 0 0 1 1 0 1 2 1 1 0\n",
      " 0 0 0 0 1 1 1 2 0 0 1 1 0 2 0 1 1 0 0 0 1 0 0 1 1 0 0 0 1 2 2 1 0 2 0 0 0\n",
      " 2 1 2 0 0 1 1 2 2 1 1 1 0 0 0 1 0 0 0 1 1 0 1 1 0 0 0 0 0 2 0 0 0 0 1 2 0\n",
      " 1 1 1 1 1 0 0 1 2 0 2 2 0 1 0 0 2 0 2 2 1 0 1 1 2 0 1 2 0 1 1 0 0 0 0 1 1\n",
      " 0 0 2 0 2 1 1 1 2 2 1 0 1 1 1 2 0 1 2 1 1 0 1 1 0 2 0 0 2 0 1 2 1 1 1 0 1\n",
      " 2 0 1 0 1 1 2 1 1 0 0 0 0 2 0 0 1 0 0 1 1 1 1 0 0 2 0 0 0 0 1 1 1 1 1 1]\n",
      "[1 1 0 1 0 2 0 0 2 1 2 0 0 1 0 2 1 0 0 1 0 1 0 0 1 1 2 1 1 1 0 0 0 1 2 1 2\n",
      " 2 2 1 0 1 0 1 0 1 0 0 0 0 1 2 2 2 1 1 0 2 1 0 1 1 0 2 0 0 1 0 1 2 0 2 0 0\n",
      " 0 0 1 0 1 0 1 0 1 1 0 0 2 0 2 0 0 0 0 0 0 1 0 0 0 2 1 1 0 0 0 2 2 0 0 2 1\n",
      " 1 0 1 0 0 2 0 1 0 1 1 1 1 2 2 0 1 2 1 0 0 0 0 0 1 0 1 1 2 1 1 1 1 0 0 1 2\n",
      " 0 0 0 0 1 1 0 0 0 2 1 2 1 1 2 0 0 0 2 2 1 0 1 2 0 0 1 1 1 2 2 1 0 0 0 0 1\n",
      " 0 0 0 2 1 0 1 1 1 0 2 1 0 0 0 0 0 1 1 1 0 1 2 0 0 1 0 1 0 1 2 1 2 0 1 0 2\n",
      " 0 0 1 0 1 0 2 0 1 1 2 2 1 2 2 0 1 1 0 2 0 0 1 2 2 1 1 1 0 1 1 0 1 2 1 1 0\n",
      " 0 0 0 0 1 1 1 2 0 0 1 1 0 2 0 1 1 0 0 0 1 0 0 1 1 0 0 0 1 2 2 1 0 2 0 0 0\n",
      " 2 1 2 0 0 1 1 2 2 1 1 1 0 0 0 1 0 0 0 1 1 0 1 1 0 0 0 0 0 2 0 0 0 0 1 2 0\n",
      " 1 1 1 1 1 0 0 1 2 0 2 2 0 0 0 0 2 0 2 2 1 0 1 1 2 0 1 2 0 1 1 0 0 0 0 0 1\n",
      " 0 0 2 0 2 1 1 1 2 2 1 0 1 1 1 2 0 1 2 1 1 0 1 1 0 2 0 0 2 0 1 2 1 1 1 0 1\n",
      " 2 0 1 0 1 0 2 1 1 0 0 0 0 2 0 0 1 0 0 1 1 1 1 0 0 2 0 0 0 0 0 1 1 1 1 1]\n"
     ]
    },
    {
     "data": {
      "image/png": "[encoded data removed]",
      "text/plain": [
       "<Figure size 640x480 with 2 Axes>"
      ]
     },
     "metadata": {},
     "output_type": "display_data"
    }
   ],
   "source": [
    " #confusion_matrix\n",
    "\n",
    "from sklearn.metrics import ConfusionMatrixDisplay, confusion_matrix\n",
    "\n",
    "\n",
    "predictions=model.predict(X_test_arr)\n",
    "print(y_test_arr)\n",
    "\n",
    "\n",
    "for i in range(len(predictions)):\n",
    "    for j in range(len(predictions[0])):\n",
    "        if predictions[i][j]==max(predictions[i]):\n",
    "            predictions[i][j]=1\n",
    "        else: predictions[i][j]=0\n",
    "\n",
    "# reverse one-hot encoding for fit into confusion matrix\n",
    "y_test_cm=y_test_arr.argmax(axis=1)\n",
    "print(y_test_cm)\n",
    "predictions_cm=predictions.argmax(axis=1)\n",
    "print(predictions_cm)\n",
    "\n",
    "cm = confusion_matrix(y_test_cm, predictions_cm, labels=[0,1,2])\n",
    "disp = ConfusionMatrixDisplay(confusion_matrix=cm,\n",
    "                            display_labels=[0,1,2])\n",
    "disp.plot()\n",
    "plt.show()\n"
   ]
  }
 ],
 "metadata": {
  "kernelspec": {
   "display_name": "Python 3",
   "language": "python",
   "name": "python3"
  },
  "language_info": {
   "codemirror_mode": {
    "name": "ipython",
    "version": 3
   },
   "file_extension": ".py",
   "mimetype": "text/x-python",
   "name": "python",
   "nbconvert_exporter": "python",
   "pygments_lexer": "ipython3",
   "version": "3.11.4"
  }
 },
 "nbformat": 4,
 "nbformat_minor": 2
}
