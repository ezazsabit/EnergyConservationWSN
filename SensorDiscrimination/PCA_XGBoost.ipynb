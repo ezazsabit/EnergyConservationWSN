{
 "cells": [
  {
   "cell_type": "code",
   "execution_count": 49,
   "metadata": {},
   "outputs": [],
   "source": [
    "import pandas as pd\n",
    "import numpy as np\n",
    "from sklearn.preprocessing import StandardScaler\n",
    "from sklearn.decomposition import PCA\n",
    "import seaborn as sns\n",
    "import matplotlib.pyplot as plt\n",
    "import optuna\n",
    "from sklearn.model_selection import train_test_split\n",
    "from sklearn.metrics import roc_auc_score\n",
    "import sklearn\n",
    "import random\n"
   ]
  },
  {
   "cell_type": "code",
   "execution_count": 50,
   "metadata": {},
   "outputs": [],
   "source": [
    "import warnings\n",
    "warnings.filterwarnings(\"ignore\")\n",
    "from sklearn.metrics import mean_absolute_error"
   ]
  },
  {
   "cell_type": "code",
   "execution_count": 51,
   "metadata": {},
   "outputs": [],
   "source": [
    "import xgboost as xgb\n",
    "from sklearn.metrics import mean_absolute_error"
   ]
  },
  {
   "cell_type": "code",
   "execution_count": 52,
   "metadata": {},
   "outputs": [
    {
     "name": "stdout",
     "output_type": "stream",
     "text": [
      "            F2        F3        F1       F11        F4        F6       F10  \\\n",
      "193   0.409412  0.515310  0.266601  0.168599  0.426576  0.029192  0.177861   \n",
      "1509  0.288556  0.835296  0.722233  0.409043  0.914186  0.492303  0.950301   \n",
      "1127  0.261604  0.964670  0.921645  0.399113  0.987028  0.580264  0.941453   \n",
      "2191  0.188257  0.904441  0.707738  0.220390  0.746217  0.323529  0.292357   \n",
      "405   0.676791  0.480485  0.258570  0.184574  0.402129  0.011407  0.186822   \n",
      "...        ...       ...       ...       ...       ...       ...       ...   \n",
      "3     0.476578  0.529778  0.314398  0.188298  0.471312  0.099313  0.215361   \n",
      "910   0.895187  0.870962  0.857395  0.253014  0.963745  0.561297  0.763931   \n",
      "1207  0.957219  0.926649  0.823702  0.204078  0.864627  0.399670  0.415098   \n",
      "300   0.792513  0.469886  0.264643  0.173582  0.356893  0.030539  0.181777   \n",
      "267   0.124299  0.925639  0.912243  0.936170  0.970231  0.747938  0.939006   \n",
      "\n",
      "            F9        F5      F7     F12       F8  \n",
      "193   0.033366  0.066485  0.2576  5.6930  0.16720  \n",
      "1509  0.458024  0.374001  0.6726  5.3700  0.36620  \n",
      "1127  0.743069  0.775962  2.1680  0.7874  0.97530  \n",
      "2191  0.238344  0.177306  0.4102  5.5990  0.29540  \n",
      "405   0.119172  0.067829  0.1221  5.1450  0.02686  \n",
      "...        ...       ...     ...     ...      ...  \n",
      "3     0.106755  0.105919  0.2087  4.8290  0.12940  \n",
      "910   0.534166  0.514161  0.8557  0.7886  0.51270  \n",
      "1207  0.337954  0.403050  0.7971  0.9570  0.39060  \n",
      "300   0.084850  0.102397  0.2063  0.1538  0.08789  \n",
      "267   0.684108  0.601307  1.1760  0.8325  0.43090  \n",
      "\n",
      "[2212 rows x 12 columns]\n",
      "193     0\n",
      "1509    0\n",
      "1127    2\n",
      "2191    1\n",
      "405     0\n",
      "       ..\n",
      "3       0\n",
      "910     2\n",
      "1207    2\n",
      "300     0\n",
      "267     0\n",
      "Name: out, Length: 2212, dtype: int64\n"
     ]
    }
   ],
   "source": [
    "filename = 'Dataset/Sensor_Discrimination_normalized.csv'\n",
    "df=pd.read_csv(filename)\n",
    "# shuffle the DataFrame rows\n",
    "df = df.sample(frac = 1) #frac = fraction\n",
    "dataset=df.iloc[:,:-1]\n",
    "label=df.iloc[:,-1]\n",
    "print(dataset)\n",
    "print(label)"
   ]
  },
  {
   "cell_type": "code",
   "execution_count": 53,
   "metadata": {},
   "outputs": [
    {
     "name": "stdout",
     "output_type": "stream",
     "text": [
      "PCA(n_components=3)\n",
      "<class 'numpy.ndarray'>\n",
      "3\n",
      "[[ 1.84953354 -0.87269856  0.23445507]\n",
      " [ 1.46823148  0.3490067  -0.13801831]\n",
      " [-3.18630691  1.48962021  0.6166575 ]\n",
      " ...\n",
      " [-2.93581681 -0.16348927  0.25466583]\n",
      " [-3.68048696 -1.26097346  0.35123575]\n",
      " [-3.09720773  0.85575057 -0.23379201]]\n"
     ]
    }
   ],
   "source": [
    "pcaTrain = PCA(n_components=3).fit(dataset)# --train-- pca with the \"dataset\" Dataframe\n",
    "print(pcaTrain)\n",
    "compressed_dataset_X= pcaTrain.transform(dataset) # --transform-- the original \"dataset\" Dataframe into a lower-dimensional space based on the model's learned parameters\n",
    "print(type(compressed_dataset_X))\n",
    "print(len(compressed_dataset_X[0]))\n",
    "print(compressed_dataset_X)"
   ]
  },
  {
   "cell_type": "code",
   "execution_count": 54,
   "metadata": {},
   "outputs": [],
   "source": [
    "dataset_arr=dataset.to_numpy()\n"
   ]
  },
  {
   "cell_type": "code",
   "execution_count": 55,
   "metadata": {},
   "outputs": [
    {
     "name": "stdout",
     "output_type": "stream",
     "text": [
      "1548\n"
     ]
    }
   ],
   "source": [
    "# from NecessaryModules.splitData import split_data\n",
    "X_train, X_test, y_train, y_test = train_test_split(dataset_arr, label, test_size=0.3, random_state=42)\n",
    "print(len(X_train))"
   ]
  },
  {
   "cell_type": "code",
   "execution_count": 56,
   "metadata": {},
   "outputs": [
    {
     "name": "stdout",
     "output_type": "stream",
     "text": [
      "<class 'numpy.ndarray'>\n",
      "1548\n",
      "[[-2.9013479   0.32935409  0.07955765]\n",
      " [ 1.56152952 -0.30192325 -0.31674257]\n",
      " [ 1.18785917 -0.77812526  0.1356577 ]\n",
      " ...\n",
      " [-3.17855277  1.08685607  0.20928067]\n",
      " [-3.93844722 -0.92774663  0.00628211]\n",
      " [ 1.22680988 -0.61820096 -0.17317756]]\n",
      "<class 'numpy.ndarray'>\n",
      "664\n",
      "[[ 1.57117946 -0.50825339  0.07986403]\n",
      " [ 0.83528177 -0.92018484  0.29158838]\n",
      " [ 1.75580005 -0.78940411  0.39461333]\n",
      " ...\n",
      " [-3.33792142  1.68908457  0.24686796]\n",
      " [ 1.38546371 -0.44951489  0.01597519]\n",
      " [-3.87877118 -0.98217673  0.10734265]]\n"
     ]
    }
   ],
   "source": [
    "compressed_dataset_X_train= pcaTrain.transform(X_train) # --transform-- the original \"dataset\" Dataframe into a lower-dimensional space based on the model's learned parameters\n",
    "print(type(compressed_dataset_X_train))\n",
    "print(len(compressed_dataset_X_train))\n",
    "print(compressed_dataset_X_train)\n",
    "\n",
    "compressed_dataset_X_test= pcaTrain.transform(X_test) # --transform-- the original \"dataset\" Dataframe into a lower-dimensional space based on the model's learned parameters\n",
    "print(type(compressed_dataset_X_test))\n",
    "print(len(compressed_dataset_X_test))\n",
    "print(compressed_dataset_X_test)"
   ]
  },
  {
   "cell_type": "markdown",
   "metadata": {},
   "source": [
    "# tune XG-Boost"
   ]
  },
  {
   "cell_type": "code",
   "execution_count": 57,
   "metadata": {},
   "outputs": [
    {
     "data": {
      "text/html": [
       "<style>#sk-container-id-3 {\n",
       "  /* Definition of color scheme common for light and dark mode */\n",
       "  --sklearn-color-text: black;\n",
       "  --sklearn-color-line: gray;\n",
       "  /* Definition of color scheme for unfitted estimators */\n",
       "  --sklearn-color-unfitted-level-0: #fff5e6;\n",
       "  --sklearn-color-unfitted-level-1: #f6e4d2;\n",
       "  --sklearn-color-unfitted-level-2: #ffe0b3;\n",
       "  --sklearn-color-unfitted-level-3: chocolate;\n",
       "  /* Definition of color scheme for fitted estimators */\n",
       "  --sklearn-color-fitted-level-0: #f0f8ff;\n",
       "  --sklearn-color-fitted-level-1: #d4ebff;\n",
       "  --sklearn-color-fitted-level-2: #b3dbfd;\n",
       "  --sklearn-color-fitted-level-3: cornflowerblue;\n",
       "\n",
       "  /* Specific color for light theme */\n",
       "  --sklearn-color-text-on-default-background: var(--sg-text-color, var(--theme-code-foreground, var(--jp-content-font-color1, black)));\n",
       "  --sklearn-color-background: var(--sg-background-color, var(--theme-background, var(--jp-layout-color0, white)));\n",
       "  --sklearn-color-border-box: var(--sg-text-color, var(--theme-code-foreground, var(--jp-content-font-color1, black)));\n",
       "  --sklearn-color-icon: #696969;\n",
       "\n",
       "  @media (prefers-color-scheme: dark) {\n",
       "    /* Redefinition of color scheme for dark theme */\n",
       "    --sklearn-color-text-on-default-background: var(--sg-text-color, var(--theme-code-foreground, var(--jp-content-font-color1, white)));\n",
       "    --sklearn-color-background: var(--sg-background-color, var(--theme-background, var(--jp-layout-color0, #111)));\n",
       "    --sklearn-color-border-box: var(--sg-text-color, var(--theme-code-foreground, var(--jp-content-font-color1, white)));\n",
       "    --sklearn-color-icon: #878787;\n",
       "  }\n",
       "}\n",
       "\n",
       "#sk-container-id-3 {\n",
       "  color: var(--sklearn-color-text);\n",
       "}\n",
       "\n",
       "#sk-container-id-3 pre {\n",
       "  padding: 0;\n",
       "}\n",
       "\n",
       "#sk-container-id-3 input.sk-hidden--visually {\n",
       "  border: 0;\n",
       "  clip: rect(1px 1px 1px 1px);\n",
       "  clip: rect(1px, 1px, 1px, 1px);\n",
       "  height: 1px;\n",
       "  margin: -1px;\n",
       "  overflow: hidden;\n",
       "  padding: 0;\n",
       "  position: absolute;\n",
       "  width: 1px;\n",
       "}\n",
       "\n",
       "#sk-container-id-3 div.sk-dashed-wrapped {\n",
       "  border: 1px dashed var(--sklearn-color-line);\n",
       "  margin: 0 0.4em 0.5em 0.4em;\n",
       "  box-sizing: border-box;\n",
       "  padding-bottom: 0.4em;\n",
       "  background-color: var(--sklearn-color-background);\n",
       "}\n",
       "\n",
       "#sk-container-id-3 div.sk-container {\n",
       "  /* jupyter's `normalize.less` sets `[hidden] { display: none; }`\n",
       "     but bootstrap.min.css set `[hidden] { display: none !important; }`\n",
       "     so we also need the `!important` here to be able to override the\n",
       "     default hidden behavior on the sphinx rendered scikit-learn.org.\n",
       "     See: https://github.com/scikit-learn/scikit-learn/issues/21755 */\n",
       "  display: inline-block !important;\n",
       "  position: relative;\n",
       "}\n",
       "\n",
       "#sk-container-id-3 div.sk-text-repr-fallback {\n",
       "  display: none;\n",
       "}\n",
       "\n",
       "div.sk-parallel-item,\n",
       "div.sk-serial,\n",
       "div.sk-item {\n",
       "  /* draw centered vertical line to link estimators */\n",
       "  background-image: linear-gradient(var(--sklearn-color-text-on-default-background), var(--sklearn-color-text-on-default-background));\n",
       "  background-size: 2px 100%;\n",
       "  background-repeat: no-repeat;\n",
       "  background-position: center center;\n",
       "}\n",
       "\n",
       "/* Parallel-specific style estimator block */\n",
       "\n",
       "#sk-container-id-3 div.sk-parallel-item::after {\n",
       "  content: \"\";\n",
       "  width: 100%;\n",
       "  border-bottom: 2px solid var(--sklearn-color-text-on-default-background);\n",
       "  flex-grow: 1;\n",
       "}\n",
       "\n",
       "#sk-container-id-3 div.sk-parallel {\n",
       "  display: flex;\n",
       "  align-items: stretch;\n",
       "  justify-content: center;\n",
       "  background-color: var(--sklearn-color-background);\n",
       "  position: relative;\n",
       "}\n",
       "\n",
       "#sk-container-id-3 div.sk-parallel-item {\n",
       "  display: flex;\n",
       "  flex-direction: column;\n",
       "}\n",
       "\n",
       "#sk-container-id-3 div.sk-parallel-item:first-child::after {\n",
       "  align-self: flex-end;\n",
       "  width: 50%;\n",
       "}\n",
       "\n",
       "#sk-container-id-3 div.sk-parallel-item:last-child::after {\n",
       "  align-self: flex-start;\n",
       "  width: 50%;\n",
       "}\n",
       "\n",
       "#sk-container-id-3 div.sk-parallel-item:only-child::after {\n",
       "  width: 0;\n",
       "}\n",
       "\n",
       "/* Serial-specific style estimator block */\n",
       "\n",
       "#sk-container-id-3 div.sk-serial {\n",
       "  display: flex;\n",
       "  flex-direction: column;\n",
       "  align-items: center;\n",
       "  background-color: var(--sklearn-color-background);\n",
       "  padding-right: 1em;\n",
       "  padding-left: 1em;\n",
       "}\n",
       "\n",
       "\n",
       "/* Toggleable style: style used for estimator/Pipeline/ColumnTransformer box that is\n",
       "clickable and can be expanded/collapsed.\n",
       "- Pipeline and ColumnTransformer use this feature and define the default style\n",
       "- Estimators will overwrite some part of the style using the `sk-estimator` class\n",
       "*/\n",
       "\n",
       "/* Pipeline and ColumnTransformer style (default) */\n",
       "\n",
       "#sk-container-id-3 div.sk-toggleable {\n",
       "  /* Default theme specific background. It is overwritten whether we have a\n",
       "  specific estimator or a Pipeline/ColumnTransformer */\n",
       "  background-color: var(--sklearn-color-background);\n",
       "}\n",
       "\n",
       "/* Toggleable label */\n",
       "#sk-container-id-3 label.sk-toggleable__label {\n",
       "  cursor: pointer;\n",
       "  display: block;\n",
       "  width: 100%;\n",
       "  margin-bottom: 0;\n",
       "  padding: 0.5em;\n",
       "  box-sizing: border-box;\n",
       "  text-align: center;\n",
       "}\n",
       "\n",
       "#sk-container-id-3 label.sk-toggleable__label-arrow:before {\n",
       "  /* Arrow on the left of the label */\n",
       "  content: \"▸\";\n",
       "  float: left;\n",
       "  margin-right: 0.25em;\n",
       "  color: var(--sklearn-color-icon);\n",
       "}\n",
       "\n",
       "#sk-container-id-3 label.sk-toggleable__label-arrow:hover:before {\n",
       "  color: var(--sklearn-color-text);\n",
       "}\n",
       "\n",
       "/* Toggleable content - dropdown */\n",
       "\n",
       "#sk-container-id-3 div.sk-toggleable__content {\n",
       "  max-height: 0;\n",
       "  max-width: 0;\n",
       "  overflow: hidden;\n",
       "  text-align: left;\n",
       "  /* unfitted */\n",
       "  background-color: var(--sklearn-color-unfitted-level-0);\n",
       "}\n",
       "\n",
       "#sk-container-id-3 div.sk-toggleable__content.fitted {\n",
       "  /* fitted */\n",
       "  background-color: var(--sklearn-color-fitted-level-0);\n",
       "}\n",
       "\n",
       "#sk-container-id-3 div.sk-toggleable__content pre {\n",
       "  margin: 0.2em;\n",
       "  border-radius: 0.25em;\n",
       "  color: var(--sklearn-color-text);\n",
       "  /* unfitted */\n",
       "  background-color: var(--sklearn-color-unfitted-level-0);\n",
       "}\n",
       "\n",
       "#sk-container-id-3 div.sk-toggleable__content.fitted pre {\n",
       "  /* unfitted */\n",
       "  background-color: var(--sklearn-color-fitted-level-0);\n",
       "}\n",
       "\n",
       "#sk-container-id-3 input.sk-toggleable__control:checked~div.sk-toggleable__content {\n",
       "  /* Expand drop-down */\n",
       "  max-height: 200px;\n",
       "  max-width: 100%;\n",
       "  overflow: auto;\n",
       "}\n",
       "\n",
       "#sk-container-id-3 input.sk-toggleable__control:checked~label.sk-toggleable__label-arrow:before {\n",
       "  content: \"▾\";\n",
       "}\n",
       "\n",
       "/* Pipeline/ColumnTransformer-specific style */\n",
       "\n",
       "#sk-container-id-3 div.sk-label input.sk-toggleable__control:checked~label.sk-toggleable__label {\n",
       "  color: var(--sklearn-color-text);\n",
       "  background-color: var(--sklearn-color-unfitted-level-2);\n",
       "}\n",
       "\n",
       "#sk-container-id-3 div.sk-label.fitted input.sk-toggleable__control:checked~label.sk-toggleable__label {\n",
       "  background-color: var(--sklearn-color-fitted-level-2);\n",
       "}\n",
       "\n",
       "/* Estimator-specific style */\n",
       "\n",
       "/* Colorize estimator box */\n",
       "#sk-container-id-3 div.sk-estimator input.sk-toggleable__control:checked~label.sk-toggleable__label {\n",
       "  /* unfitted */\n",
       "  background-color: var(--sklearn-color-unfitted-level-2);\n",
       "}\n",
       "\n",
       "#sk-container-id-3 div.sk-estimator.fitted input.sk-toggleable__control:checked~label.sk-toggleable__label {\n",
       "  /* fitted */\n",
       "  background-color: var(--sklearn-color-fitted-level-2);\n",
       "}\n",
       "\n",
       "#sk-container-id-3 div.sk-label label.sk-toggleable__label,\n",
       "#sk-container-id-3 div.sk-label label {\n",
       "  /* The background is the default theme color */\n",
       "  color: var(--sklearn-color-text-on-default-background);\n",
       "}\n",
       "\n",
       "/* On hover, darken the color of the background */\n",
       "#sk-container-id-3 div.sk-label:hover label.sk-toggleable__label {\n",
       "  color: var(--sklearn-color-text);\n",
       "  background-color: var(--sklearn-color-unfitted-level-2);\n",
       "}\n",
       "\n",
       "/* Label box, darken color on hover, fitted */\n",
       "#sk-container-id-3 div.sk-label.fitted:hover label.sk-toggleable__label.fitted {\n",
       "  color: var(--sklearn-color-text);\n",
       "  background-color: var(--sklearn-color-fitted-level-2);\n",
       "}\n",
       "\n",
       "/* Estimator label */\n",
       "\n",
       "#sk-container-id-3 div.sk-label label {\n",
       "  font-family: monospace;\n",
       "  font-weight: bold;\n",
       "  display: inline-block;\n",
       "  line-height: 1.2em;\n",
       "}\n",
       "\n",
       "#sk-container-id-3 div.sk-label-container {\n",
       "  text-align: center;\n",
       "}\n",
       "\n",
       "/* Estimator-specific */\n",
       "#sk-container-id-3 div.sk-estimator {\n",
       "  font-family: monospace;\n",
       "  border: 1px dotted var(--sklearn-color-border-box);\n",
       "  border-radius: 0.25em;\n",
       "  box-sizing: border-box;\n",
       "  margin-bottom: 0.5em;\n",
       "  /* unfitted */\n",
       "  background-color: var(--sklearn-color-unfitted-level-0);\n",
       "}\n",
       "\n",
       "#sk-container-id-3 div.sk-estimator.fitted {\n",
       "  /* fitted */\n",
       "  background-color: var(--sklearn-color-fitted-level-0);\n",
       "}\n",
       "\n",
       "/* on hover */\n",
       "#sk-container-id-3 div.sk-estimator:hover {\n",
       "  /* unfitted */\n",
       "  background-color: var(--sklearn-color-unfitted-level-2);\n",
       "}\n",
       "\n",
       "#sk-container-id-3 div.sk-estimator.fitted:hover {\n",
       "  /* fitted */\n",
       "  background-color: var(--sklearn-color-fitted-level-2);\n",
       "}\n",
       "\n",
       "/* Specification for estimator info (e.g. \"i\" and \"?\") */\n",
       "\n",
       "/* Common style for \"i\" and \"?\" */\n",
       "\n",
       ".sk-estimator-doc-link,\n",
       "a:link.sk-estimator-doc-link,\n",
       "a:visited.sk-estimator-doc-link {\n",
       "  float: right;\n",
       "  font-size: smaller;\n",
       "  line-height: 1em;\n",
       "  font-family: monospace;\n",
       "  background-color: var(--sklearn-color-background);\n",
       "  border-radius: 1em;\n",
       "  height: 1em;\n",
       "  width: 1em;\n",
       "  text-decoration: none !important;\n",
       "  margin-left: 1ex;\n",
       "  /* unfitted */\n",
       "  border: var(--sklearn-color-unfitted-level-1) 1pt solid;\n",
       "  color: var(--sklearn-color-unfitted-level-1);\n",
       "}\n",
       "\n",
       ".sk-estimator-doc-link.fitted,\n",
       "a:link.sk-estimator-doc-link.fitted,\n",
       "a:visited.sk-estimator-doc-link.fitted {\n",
       "  /* fitted */\n",
       "  border: var(--sklearn-color-fitted-level-1) 1pt solid;\n",
       "  color: var(--sklearn-color-fitted-level-1);\n",
       "}\n",
       "\n",
       "/* On hover */\n",
       "div.sk-estimator:hover .sk-estimator-doc-link:hover,\n",
       ".sk-estimator-doc-link:hover,\n",
       "div.sk-label-container:hover .sk-estimator-doc-link:hover,\n",
       ".sk-estimator-doc-link:hover {\n",
       "  /* unfitted */\n",
       "  background-color: var(--sklearn-color-unfitted-level-3);\n",
       "  color: var(--sklearn-color-background);\n",
       "  text-decoration: none;\n",
       "}\n",
       "\n",
       "div.sk-estimator.fitted:hover .sk-estimator-doc-link.fitted:hover,\n",
       ".sk-estimator-doc-link.fitted:hover,\n",
       "div.sk-label-container:hover .sk-estimator-doc-link.fitted:hover,\n",
       ".sk-estimator-doc-link.fitted:hover {\n",
       "  /* fitted */\n",
       "  background-color: var(--sklearn-color-fitted-level-3);\n",
       "  color: var(--sklearn-color-background);\n",
       "  text-decoration: none;\n",
       "}\n",
       "\n",
       "/* Span, style for the box shown on hovering the info icon */\n",
       ".sk-estimator-doc-link span {\n",
       "  display: none;\n",
       "  z-index: 9999;\n",
       "  position: relative;\n",
       "  font-weight: normal;\n",
       "  right: .2ex;\n",
       "  padding: .5ex;\n",
       "  margin: .5ex;\n",
       "  width: min-content;\n",
       "  min-width: 20ex;\n",
       "  max-width: 50ex;\n",
       "  color: var(--sklearn-color-text);\n",
       "  box-shadow: 2pt 2pt 4pt #999;\n",
       "  /* unfitted */\n",
       "  background: var(--sklearn-color-unfitted-level-0);\n",
       "  border: .5pt solid var(--sklearn-color-unfitted-level-3);\n",
       "}\n",
       "\n",
       ".sk-estimator-doc-link.fitted span {\n",
       "  /* fitted */\n",
       "  background: var(--sklearn-color-fitted-level-0);\n",
       "  border: var(--sklearn-color-fitted-level-3);\n",
       "}\n",
       "\n",
       ".sk-estimator-doc-link:hover span {\n",
       "  display: block;\n",
       "}\n",
       "\n",
       "/* \"?\"-specific style due to the `<a>` HTML tag */\n",
       "\n",
       "#sk-container-id-3 a.estimator_doc_link {\n",
       "  float: right;\n",
       "  font-size: 1rem;\n",
       "  line-height: 1em;\n",
       "  font-family: monospace;\n",
       "  background-color: var(--sklearn-color-background);\n",
       "  border-radius: 1rem;\n",
       "  height: 1rem;\n",
       "  width: 1rem;\n",
       "  text-decoration: none;\n",
       "  /* unfitted */\n",
       "  color: var(--sklearn-color-unfitted-level-1);\n",
       "  border: var(--sklearn-color-unfitted-level-1) 1pt solid;\n",
       "}\n",
       "\n",
       "#sk-container-id-3 a.estimator_doc_link.fitted {\n",
       "  /* fitted */\n",
       "  border: var(--sklearn-color-fitted-level-1) 1pt solid;\n",
       "  color: var(--sklearn-color-fitted-level-1);\n",
       "}\n",
       "\n",
       "/* On hover */\n",
       "#sk-container-id-3 a.estimator_doc_link:hover {\n",
       "  /* unfitted */\n",
       "  background-color: var(--sklearn-color-unfitted-level-3);\n",
       "  color: var(--sklearn-color-background);\n",
       "  text-decoration: none;\n",
       "}\n",
       "\n",
       "#sk-container-id-3 a.estimator_doc_link.fitted:hover {\n",
       "  /* fitted */\n",
       "  background-color: var(--sklearn-color-fitted-level-3);\n",
       "}\n",
       "</style><div id=\"sk-container-id-3\" class=\"sk-top-container\"><div class=\"sk-text-repr-fallback\"><pre>XGBRegressor(alpha=10, base_score=None, booster=None, callbacks=None,\n",
       "             colsample_bylevel=1, colsample_bynode=None, colsample_bytree=1,\n",
       "             device=None, early_stopping_rounds=None, enable_categorical=False,\n",
       "             eval_metric=None, feature_types=None, gamma=None, grow_policy=None,\n",
       "             importance_type=None, interaction_constraints=None,\n",
       "             learning_rate=0.3, max_bin=None, max_cat_threshold=None,\n",
       "             max_cat_to_onehot=None, max_delta_step=None, max_depth=15,\n",
       "             max_leaves=None, min_child_weight=1, missing=nan,\n",
       "             monotone_constraints=None, multi_strategy=None, n_estimators=100,\n",
       "             n_jobs=None, num_parallel_tree=None, ...)</pre><b>In a Jupyter environment, please rerun this cell to show the HTML representation or trust the notebook. <br />On GitHub, the HTML representation is unable to render, please try loading this page with nbviewer.org.</b></div><div class=\"sk-container\" hidden><div class=\"sk-item\"><div class=\"sk-estimator fitted sk-toggleable\"><input class=\"sk-toggleable__control sk-hidden--visually\" id=\"sk-estimator-id-3\" type=\"checkbox\" checked><label for=\"sk-estimator-id-3\" class=\"sk-toggleable__label fitted sk-toggleable__label-arrow fitted\">&nbsp;XGBRegressor<span class=\"sk-estimator-doc-link fitted\">i<span>Fitted</span></span></label><div class=\"sk-toggleable__content fitted\"><pre>XGBRegressor(alpha=10, base_score=None, booster=None, callbacks=None,\n",
       "             colsample_bylevel=1, colsample_bynode=None, colsample_bytree=1,\n",
       "             device=None, early_stopping_rounds=None, enable_categorical=False,\n",
       "             eval_metric=None, feature_types=None, gamma=None, grow_policy=None,\n",
       "             importance_type=None, interaction_constraints=None,\n",
       "             learning_rate=0.3, max_bin=None, max_cat_threshold=None,\n",
       "             max_cat_to_onehot=None, max_delta_step=None, max_depth=15,\n",
       "             max_leaves=None, min_child_weight=1, missing=nan,\n",
       "             monotone_constraints=None, multi_strategy=None, n_estimators=100,\n",
       "             n_jobs=None, num_parallel_tree=None, ...)</pre></div> </div></div></div></div>"
      ],
      "text/plain": [
       "XGBRegressor(alpha=10, base_score=None, booster=None, callbacks=None,\n",
       "             colsample_bylevel=1, colsample_bynode=None, colsample_bytree=1,\n",
       "             device=None, early_stopping_rounds=None, enable_categorical=False,\n",
       "             eval_metric=None, feature_types=None, gamma=None, grow_policy=None,\n",
       "             importance_type=None, interaction_constraints=None,\n",
       "             learning_rate=0.3, max_bin=None, max_cat_threshold=None,\n",
       "             max_cat_to_onehot=None, max_delta_step=None, max_depth=15,\n",
       "             max_leaves=None, min_child_weight=1, missing=nan,\n",
       "             monotone_constraints=None, multi_strategy=None, n_estimators=100,\n",
       "             n_jobs=None, num_parallel_tree=None, ...)"
      ]
     },
     "execution_count": 57,
     "metadata": {},
     "output_type": "execute_result"
    }
   ],
   "source": [
    "# train the model with random parameter\n",
    "\n",
    "# Preparing the regressor and fitting data with some parameters\n",
    "xg_reg = xgb.XGBRegressor(objective ='reg:linear', \n",
    "                          colsample_bytree = 1, \n",
    "                          learning_rate = 0.3,\n",
    "                          max_depth = 15, \n",
    "                          alpha = 10, \n",
    "                          n_estimators = 100, \n",
    "                          verbose=1, \n",
    "                          min_child_weight = 1, \n",
    "                          colsample_bylevel = 1, \n",
    "                          reg_alpha = 2) \n",
    "\n",
    "xg_reg.fit(compressed_dataset_X_train, y_train)"
   ]
  },
  {
   "cell_type": "code",
   "execution_count": 58,
   "metadata": {},
   "outputs": [
    {
     "data": {
      "text/plain": [
       "0.42018072289156627"
      ]
     },
     "execution_count": 58,
     "metadata": {},
     "output_type": "execute_result"
    }
   ],
   "source": [
    "# Finding mean absolute error\n",
    "preds = xg_reg.predict(compressed_dataset_X_test)\n",
    "preds = preds.astype(int)\n",
    "mae = np.abs(y_test-preds).mean()\n",
    "mae"
   ]
  },
  {
   "cell_type": "code",
   "execution_count": 59,
   "metadata": {},
   "outputs": [],
   "source": [
    "# Defining the best parameter with optuna\n",
    "from sklearn.model_selection import KFold\n",
    "K = 5 # 5 fold cross validation\n",
    "kf = KFold(n_splits = K, random_state = 42, shuffle = True)\n",
    "\n",
    "\n",
    "train_tunned = np.array(compressed_dataset_X)\n",
    "target_train_tunned = np.array(label)\n",
    "\n",
    "# test = np.array(X)\n",
    "# target_train = df_train['congestion'].values\n",
    "\n",
    "# test_preds = np.zeros((len(test)))\n",
    "oof_preds = np.zeros((len(train_tunned)))\n",
    "abs_error_arr=[]\n",
    "def objective(trial):\n",
    "\n",
    " for train_index, val_index in (kf.split(compressed_dataset_X)):\n",
    "    train_X, valid_X = train_tunned[train_index], train_tunned[val_index]\n",
    "    train_Y, valid_Y = target_train_tunned[train_index], target_train_tunned[val_index]\n",
    "    \n",
    "        \n",
    "        # train_x, test_x, train_y, test_y = train_test_split(data, target, test_size=0.25,random_state=0)\n",
    "    param = {\n",
    "            # 'tree_method':'gpu_hist',  # this parameter means using the GPU when training our model to speedup the training process \n",
    "            'lambda': trial.suggest_loguniform('lambda', 1e-3, 10.0),\n",
    "            'alpha': trial.suggest_loguniform('alpha', 1e-3, 10.0),\n",
    "            'colsample_bytree': trial.suggest_categorical('colsample_bytree', [0.3,0.4,0.5,0.6,0.7,0.8,0.9, 1.0]),\n",
    "            'colsample_bylevel': trial.suggest_categorical('colsample_bylevel', [0.3,0.4,0.5,0.6,0.7,0.8,0.9, 1.0]),\n",
    "            'subsample': trial.suggest_categorical('subsample', [0.4,0.5,0.6,0.7,0.8,1.0]),\n",
    "            'learning_rate': trial.suggest_categorical('learning_rate', [1e-5,1e-4,1e-3,0.001,0.002,0.003,0.004,0.005,0.006,0.007,0.008,0.009,0.01,0.04,0.08,0.12,0.20, 0.24, 0.30, 0.38, 0.42, 0.48, 0.50, 0.60, 0.70, 0.80, 0.90, 1.0]),\n",
    "            'n_estimators': trial.suggest_int('n_estimators', 1, 300),\n",
    "            'max_depth': trial.suggest_categorical('max_depth', [5,7,9,11,13,15,17,20,25,30,35,40]),\n",
    "            'random_state': trial.suggest_categorical('random_state', [24,48,2020]),\n",
    "            'min_child_weight': trial.suggest_int('min_child_weight', 1, 300),\n",
    "        }\n",
    "    model = xgb.XGBRegressor(**param)  \n",
    "        \n",
    "    model.fit(train_X,train_Y,eval_set=[(valid_X,valid_Y)],early_stopping_rounds=100,verbose=False)\n",
    "        \n",
    "    preds = model.predict(valid_X)\n",
    "    oof_preds[val_index] = preds # preds gives total 3846 predicted value for valid_X\n",
    "\n",
    "\n",
    " \n",
    "#  print(len(oof_preds))\n",
    "      \n",
    " mae = mean_absolute_error(target_train_tunned, oof_preds)\n",
    "        \n",
    " return mae"
   ]
  },
  {
   "cell_type": "code",
   "execution_count": 60,
   "metadata": {},
   "outputs": [
    {
     "name": "stderr",
     "output_type": "stream",
     "text": [
      "[I 2024-02-12 11:12:53,176] A new study created in memory with name: XG_tune\n"
     ]
    }
   ],
   "source": [
    "# this is the main optuna for optimizing a object-->\"objective\"\n",
    "study = optuna.create_study(direction='minimize',study_name=\"XG_tune\")"
   ]
  },
  {
   "cell_type": "code",
   "execution_count": 61,
   "metadata": {},
   "outputs": [
    {
     "name": "stderr",
     "output_type": "stream",
     "text": [
      "[I 2024-02-12 11:12:54,628] Trial 0 finished with value: 0.2734728475441091 and parameters: {'lambda': 0.022322473550623327, 'alpha': 1.0201035196451722, 'colsample_bytree': 1.0, 'colsample_bylevel': 0.4, 'subsample': 0.8, 'learning_rate': 0.01, 'n_estimators': 256, 'max_depth': 15, 'random_state': 48, 'min_child_weight': 130}. Best is trial 0 with value: 0.2734728475441091.\n",
      "[I 2024-02-12 11:12:55,273] Trial 1 finished with value: 0.5158673265096723 and parameters: {'lambda': 0.03818769212443581, 'alpha': 1.018222421872955, 'colsample_bytree': 0.5, 'colsample_bylevel': 0.5, 'subsample': 0.4, 'learning_rate': 0.01, 'n_estimators': 180, 'max_depth': 35, 'random_state': 24, 'min_child_weight': 149}. Best is trial 0 with value: 0.2734728475441091.\n",
      "[I 2024-02-12 11:12:56,178] Trial 2 finished with value: 0.271803153278584 and parameters: {'lambda': 0.02508730969042275, 'alpha': 4.958425745386568, 'colsample_bytree': 0.5, 'colsample_bylevel': 0.7, 'subsample': 0.8, 'learning_rate': 0.48, 'n_estimators': 240, 'max_depth': 30, 'random_state': 2020, 'min_child_weight': 53}. Best is trial 2 with value: 0.271803153278584.\n",
      "[I 2024-02-12 11:12:57,097] Trial 3 finished with value: 0.18567064649212406 and parameters: {'lambda': 0.01836969752670667, 'alpha': 0.0021007431826710714, 'colsample_bytree': 0.8, 'colsample_bylevel': 0.6, 'subsample': 0.8, 'learning_rate': 0.9, 'n_estimators': 217, 'max_depth': 30, 'random_state': 2020, 'min_child_weight': 133}. Best is trial 3 with value: 0.18567064649212406.\n",
      "[I 2024-02-12 11:12:58,135] Trial 4 finished with value: 0.33095708198779705 and parameters: {'lambda': 0.2539646174288288, 'alpha': 0.046959478163021026, 'colsample_bytree': 0.4, 'colsample_bylevel': 0.4, 'subsample': 0.4, 'learning_rate': 1.0, 'n_estimators': 265, 'max_depth': 25, 'random_state': 2020, 'min_child_weight': 23}. Best is trial 3 with value: 0.18567064649212406.\n",
      "[I 2024-02-12 11:12:58,602] Trial 5 finished with value: 0.27569808237024945 and parameters: {'lambda': 0.007273566049049864, 'alpha': 7.684339558669742, 'colsample_bytree': 0.6, 'colsample_bylevel': 0.3, 'subsample': 1.0, 'learning_rate': 0.9, 'n_estimators': 242, 'max_depth': 20, 'random_state': 48, 'min_child_weight': 43}. Best is trial 3 with value: 0.18567064649212406.\n",
      "[I 2024-02-12 11:12:58,941] Trial 6 finished with value: 0.5367265118127705 and parameters: {'lambda': 0.2552814514185178, 'alpha': 0.005501609151654774, 'colsample_bytree': 0.9, 'colsample_bylevel': 0.4, 'subsample': 0.4, 'learning_rate': 0.01, 'n_estimators': 91, 'max_depth': 17, 'random_state': 48, 'min_child_weight': 185}. Best is trial 3 with value: 0.18567064649212406.\n",
      "[I 2024-02-12 11:12:59,582] Trial 7 finished with value: 0.34159992528781646 and parameters: {'lambda': 0.11556347769369094, 'alpha': 2.433987213766257, 'colsample_bytree': 0.4, 'colsample_bylevel': 0.7, 'subsample': 0.6, 'learning_rate': 0.42, 'n_estimators': 194, 'max_depth': 9, 'random_state': 48, 'min_child_weight': 250}. Best is trial 3 with value: 0.18567064649212406.\n",
      "[I 2024-02-12 11:13:00,320] Trial 8 finished with value: 0.4468819914793235 and parameters: {'lambda': 0.18499444401611878, 'alpha': 0.014758832069029393, 'colsample_bytree': 0.7, 'colsample_bylevel': 0.9, 'subsample': 1.0, 'learning_rate': 0.006, 'n_estimators': 178, 'max_depth': 25, 'random_state': 24, 'min_child_weight': 200}. Best is trial 3 with value: 0.18567064649212406.\n",
      "[I 2024-02-12 11:13:01,356] Trial 9 finished with value: 0.17830858954489923 and parameters: {'lambda': 0.6403934426616534, 'alpha': 0.012982912874996387, 'colsample_bytree': 0.8, 'colsample_bylevel': 0.3, 'subsample': 0.5, 'learning_rate': 0.24, 'n_estimators': 237, 'max_depth': 35, 'random_state': 2020, 'min_child_weight': 83}. Best is trial 9 with value: 0.17830858954489923.\n",
      "[I 2024-02-12 11:13:01,535] Trial 10 finished with value: 0.47816933252196925 and parameters: {'lambda': 4.30254133776798, 'alpha': 0.23543106611451622, 'colsample_bytree': 0.8, 'colsample_bylevel': 0.8, 'subsample': 0.5, 'learning_rate': 0.24, 'n_estimators': 28, 'max_depth': 35, 'random_state': 2020, 'min_child_weight': 300}. Best is trial 9 with value: 0.17830858954489923.\n",
      "[I 2024-02-12 11:13:02,810] Trial 11 finished with value: 0.1746285152695774 and parameters: {'lambda': 0.0012646304049896474, 'alpha': 0.0010003456295659468, 'colsample_bytree': 0.8, 'colsample_bylevel': 0.6, 'subsample': 0.5, 'learning_rate': 0.24, 'n_estimators': 296, 'max_depth': 30, 'random_state': 2020, 'min_child_weight': 97}. Best is trial 11 with value: 0.1746285152695774.\n",
      "[I 2024-02-12 11:13:04,077] Trial 12 finished with value: 0.16924801880489446 and parameters: {'lambda': 0.0020798090921414036, 'alpha': 0.0010328214007418975, 'colsample_bytree': 0.8, 'colsample_bylevel': 1.0, 'subsample': 0.5, 'learning_rate': 0.24, 'n_estimators': 294, 'max_depth': 40, 'random_state': 2020, 'min_child_weight': 92}. Best is trial 12 with value: 0.16924801880489446.\n",
      "[I 2024-02-12 11:13:05,156] Trial 13 finished with value: 0.30154413269497166 and parameters: {'lambda': 0.001020259703177525, 'alpha': 0.0013960615142148247, 'colsample_bytree': 0.3, 'colsample_bylevel': 1.0, 'subsample': 0.7, 'learning_rate': 0.24, 'n_estimators': 296, 'max_depth': 40, 'random_state': 2020, 'min_child_weight': 98}. Best is trial 12 with value: 0.16924801880489446.\n",
      "[I 2024-02-12 11:13:06,488] Trial 14 finished with value: 0.30933674583668364 and parameters: {'lambda': 0.001362386472714745, 'alpha': 0.0013035569510544825, 'colsample_bytree': 0.8, 'colsample_bylevel': 0.6, 'subsample': 0.5, 'learning_rate': 0.008, 'n_estimators': 297, 'max_depth': 40, 'random_state': 2020, 'min_child_weight': 87}. Best is trial 12 with value: 0.16924801880489446.\n",
      "[I 2024-02-12 11:13:07,021] Trial 15 finished with value: 0.6385196028092024 and parameters: {'lambda': 0.0038186401412614946, 'alpha': 0.005505545457790114, 'colsample_bytree': 0.8, 'colsample_bylevel': 1.0, 'subsample': 0.5, 'learning_rate': 0.001, 'n_estimators': 110, 'max_depth': 5, 'random_state': 2020, 'min_child_weight': 191}. Best is trial 12 with value: 0.16924801880489446.\n",
      "[I 2024-02-12 11:13:08,292] Trial 16 finished with value: 0.664202793785935 and parameters: {'lambda': 0.003240305160535573, 'alpha': 0.08050527656887779, 'colsample_bytree': 0.9, 'colsample_bylevel': 1.0, 'subsample': 0.5, 'learning_rate': 0.0001, 'n_estimators': 135, 'max_depth': 7, 'random_state': 24, 'min_child_weight': 7}. Best is trial 12 with value: 0.16924801880489446.\n",
      "[I 2024-02-12 11:13:09,939] Trial 17 finished with value: 0.3092105690268088 and parameters: {'lambda': 0.007457796293855217, 'alpha': 0.004375993362246147, 'colsample_bytree': 0.3, 'colsample_bylevel': 0.6, 'subsample': 0.6, 'learning_rate': 0.2, 'n_estimators': 300, 'max_depth': 11, 'random_state': 2020, 'min_child_weight': 101}. Best is trial 12 with value: 0.16924801880489446.\n",
      "[I 2024-02-12 11:13:10,231] Trial 18 finished with value: 0.18855753607726294 and parameters: {'lambda': 0.0024845008142220294, 'alpha': 0.02606335433805864, 'colsample_bytree': 1.0, 'colsample_bylevel': 0.8, 'subsample': 0.7, 'learning_rate': 0.12, 'n_estimators': 20, 'max_depth': 13, 'random_state': 2020, 'min_child_weight': 61}. Best is trial 12 with value: 0.16924801880489446.\n",
      "[I 2024-02-12 11:13:10,696] Trial 19 finished with value: 0.6430036482716124 and parameters: {'lambda': 1.707448635430367, 'alpha': 0.2306638257001287, 'colsample_bytree': 0.6, 'colsample_bylevel': 0.5, 'subsample': 0.5, 'learning_rate': 0.003, 'n_estimators': 59, 'max_depth': 30, 'random_state': 24, 'min_child_weight': 116}. Best is trial 12 with value: 0.16924801880489446.\n",
      "[I 2024-02-12 11:13:11,814] Trial 20 finished with value: 0.4818638610581162 and parameters: {'lambda': 0.008949767853764268, 'alpha': 0.0029933341538994837, 'colsample_bytree': 0.7, 'colsample_bylevel': 0.9, 'subsample': 0.5, 'learning_rate': 0.005, 'n_estimators': 203, 'max_depth': 40, 'random_state': 2020, 'min_child_weight': 166}. Best is trial 12 with value: 0.16924801880489446.\n",
      "[I 2024-02-12 11:13:13,841] Trial 21 finished with value: 0.17335089842565096 and parameters: {'lambda': 0.7147785558499081, 'alpha': 0.017036353817967743, 'colsample_bytree': 0.8, 'colsample_bylevel': 0.3, 'subsample': 0.5, 'learning_rate': 0.24, 'n_estimators': 266, 'max_depth': 35, 'random_state': 2020, 'min_child_weight': 72}. Best is trial 12 with value: 0.16924801880489446.\n",
      "[I 2024-02-12 11:13:15,712] Trial 22 finished with value: 0.17234980139873374 and parameters: {'lambda': 1.457267836354203, 'alpha': 0.0011543887828779353, 'colsample_bytree': 0.8, 'colsample_bylevel': 0.3, 'subsample': 0.5, 'learning_rate': 0.24, 'n_estimators': 276, 'max_depth': 11, 'random_state': 2020, 'min_child_weight': 69}. Best is trial 12 with value: 0.16924801880489446.\n",
      "[I 2024-02-12 11:13:17,580] Trial 23 finished with value: 0.16970518124362965 and parameters: {'lambda': 6.326248676296235, 'alpha': 0.01137302617163078, 'colsample_bytree': 0.8, 'colsample_bylevel': 0.3, 'subsample': 0.5, 'learning_rate': 0.38, 'n_estimators': 269, 'max_depth': 11, 'random_state': 2020, 'min_child_weight': 56}. Best is trial 12 with value: 0.16924801880489446.\n",
      "[I 2024-02-12 11:13:19,515] Trial 24 finished with value: 0.15716628837465496 and parameters: {'lambda': 9.904938886747313, 'alpha': 0.008424780416886317, 'colsample_bytree': 0.8, 'colsample_bylevel': 0.3, 'subsample': 0.5, 'learning_rate': 0.38, 'n_estimators': 271, 'max_depth': 11, 'random_state': 2020, 'min_child_weight': 25}. Best is trial 24 with value: 0.15716628837465496.\n",
      "[I 2024-02-12 11:13:20,837] Trial 25 finished with value: 0.1575939602199201 and parameters: {'lambda': 8.66868712538663, 'alpha': 0.008054755509644152, 'colsample_bytree': 0.8, 'colsample_bylevel': 0.3, 'subsample': 0.5, 'learning_rate': 0.38, 'n_estimators': 158, 'max_depth': 11, 'random_state': 2020, 'min_child_weight': 33}. Best is trial 24 with value: 0.15716628837465496.\n",
      "[I 2024-02-12 11:13:24,104] Trial 26 finished with value: 0.17758673777785147 and parameters: {'lambda': 3.292686994817706, 'alpha': 0.00704911668095988, 'colsample_bytree': 0.8, 'colsample_bylevel': 1.0, 'subsample': 0.7, 'learning_rate': 0.38, 'n_estimators': 150, 'max_depth': 11, 'random_state': 2020, 'min_child_weight': 1}. Best is trial 24 with value: 0.15716628837465496.\n",
      "[I 2024-02-12 11:13:26,046] Trial 27 finished with value: 0.2518629760533625 and parameters: {'lambda': 7.01807900781384, 'alpha': 0.03926935516263354, 'colsample_bytree': 0.8, 'colsample_bylevel': 0.3, 'subsample': 1.0, 'learning_rate': 0.009, 'n_estimators': 227, 'max_depth': 11, 'random_state': 2020, 'min_child_weight': 31}. Best is trial 24 with value: 0.15716628837465496.\n",
      "[I 2024-02-12 11:13:27,218] Trial 28 finished with value: 0.287567821416318 and parameters: {'lambda': 9.303847353593552, 'alpha': 0.0022761670010665717, 'colsample_bytree': 0.4, 'colsample_bylevel': 0.3, 'subsample': 0.6, 'learning_rate': 0.38, 'n_estimators': 108, 'max_depth': 20, 'random_state': 24, 'min_child_weight': 25}. Best is trial 24 with value: 0.15716628837465496.\n",
      "[I 2024-02-12 11:13:28,969] Trial 29 finished with value: 0.11744245318945101 and parameters: {'lambda': 2.1274538503280187, 'alpha': 0.1087931961344151, 'colsample_bytree': 1.0, 'colsample_bylevel': 1.0, 'subsample': 0.8, 'learning_rate': 0.08, 'n_estimators': 164, 'max_depth': 15, 'random_state': 48, 'min_child_weight': 41}. Best is trial 29 with value: 0.11744245318945101.\n",
      "[I 2024-02-12 11:13:30,529] Trial 30 finished with value: 0.12516368514644302 and parameters: {'lambda': 2.2778268443121803, 'alpha': 0.2596519902840478, 'colsample_bytree': 1.0, 'colsample_bylevel': 0.3, 'subsample': 0.8, 'learning_rate': 0.08, 'n_estimators': 155, 'max_depth': 15, 'random_state': 48, 'min_child_weight': 35}. Best is trial 29 with value: 0.11744245318945101.\n",
      "[I 2024-02-12 11:13:32,054] Trial 31 finished with value: 0.1278043016250449 and parameters: {'lambda': 2.674951212800479, 'alpha': 0.3797306278040388, 'colsample_bytree': 1.0, 'colsample_bylevel': 0.3, 'subsample': 0.8, 'learning_rate': 0.08, 'n_estimators': 159, 'max_depth': 15, 'random_state': 48, 'min_child_weight': 38}. Best is trial 29 with value: 0.11744245318945101.\n",
      "[I 2024-02-12 11:13:33,719] Trial 32 finished with value: 0.11293297735361854 and parameters: {'lambda': 2.1642502301248774, 'alpha': 0.4762485943654242, 'colsample_bytree': 1.0, 'colsample_bylevel': 0.3, 'subsample': 0.8, 'learning_rate': 0.08, 'n_estimators': 131, 'max_depth': 15, 'random_state': 48, 'min_child_weight': 13}. Best is trial 32 with value: 0.11293297735361854.\n",
      "[I 2024-02-12 11:13:36,003] Trial 33 finished with value: 0.10032765590287757 and parameters: {'lambda': 2.513441172590509, 'alpha': 0.4445696999115688, 'colsample_bytree': 1.0, 'colsample_bylevel': 0.5, 'subsample': 0.8, 'learning_rate': 0.08, 'n_estimators': 137, 'max_depth': 15, 'random_state': 48, 'min_child_weight': 1}. Best is trial 33 with value: 0.10032765590287757.\n",
      "[I 2024-02-12 11:13:37,934] Trial 34 finished with value: 0.10191403356753953 and parameters: {'lambda': 0.7205561431685366, 'alpha': 0.6867936759659978, 'colsample_bytree': 1.0, 'colsample_bylevel': 0.5, 'subsample': 0.8, 'learning_rate': 0.08, 'n_estimators': 139, 'max_depth': 15, 'random_state': 48, 'min_child_weight': 1}. Best is trial 33 with value: 0.10032765590287757.\n",
      "[I 2024-02-12 11:13:39,745] Trial 35 finished with value: 0.10028135822133977 and parameters: {'lambda': 0.8853639317687356, 'alpha': 0.7469283203638263, 'colsample_bytree': 1.0, 'colsample_bylevel': 0.5, 'subsample': 0.8, 'learning_rate': 0.08, 'n_estimators': 129, 'max_depth': 15, 'random_state': 48, 'min_child_weight': 1}. Best is trial 35 with value: 0.10028135822133977.\n",
      "[I 2024-02-12 11:13:41,151] Trial 36 finished with value: 0.11016491584137562 and parameters: {'lambda': 0.8396421622489276, 'alpha': 1.0484909785898666, 'colsample_bytree': 1.0, 'colsample_bylevel': 0.5, 'subsample': 0.8, 'learning_rate': 0.08, 'n_estimators': 126, 'max_depth': 15, 'random_state': 48, 'min_child_weight': 10}. Best is trial 35 with value: 0.10028135822133977.\n",
      "[I 2024-02-12 11:13:42,002] Trial 37 finished with value: 0.1466589348321649 and parameters: {'lambda': 0.7504174778629096, 'alpha': 1.2781989946707855, 'colsample_bytree': 1.0, 'colsample_bylevel': 0.5, 'subsample': 0.8, 'learning_rate': 0.04, 'n_estimators': 79, 'max_depth': 15, 'random_state': 48, 'min_child_weight': 12}. Best is trial 35 with value: 0.10028135822133977.\n",
      "[I 2024-02-12 11:13:43,551] Trial 38 finished with value: 0.5646424041842034 and parameters: {'lambda': 0.41769408832550425, 'alpha': 0.9605757888399995, 'colsample_bytree': 0.5, 'colsample_bylevel': 0.5, 'subsample': 0.8, 'learning_rate': 0.004, 'n_estimators': 127, 'max_depth': 15, 'random_state': 48, 'min_child_weight': 2}. Best is trial 35 with value: 0.10028135822133977.\n",
      "[I 2024-02-12 11:13:44,161] Trial 39 finished with value: 0.14354627342667525 and parameters: {'lambda': 0.059401523183068274, 'alpha': 2.9883192980340074, 'colsample_bytree': 1.0, 'colsample_bylevel': 0.5, 'subsample': 0.8, 'learning_rate': 0.6, 'n_estimators': 72, 'max_depth': 15, 'random_state': 48, 'min_child_weight': 51}. Best is trial 35 with value: 0.10028135822133977.\n",
      "[I 2024-02-12 11:13:45,616] Trial 40 finished with value: 0.13946919366136315 and parameters: {'lambda': 1.1795569673126711, 'alpha': 0.7459683614769927, 'colsample_bytree': 1.0, 'colsample_bylevel': 0.5, 'subsample': 0.8, 'learning_rate': 0.7, 'n_estimators': 181, 'max_depth': 17, 'random_state': 48, 'min_child_weight': 19}. Best is trial 35 with value: 0.10028135822133977.\n",
      "[I 2024-02-12 11:13:47,092] Trial 41 finished with value: 0.11313319980176009 and parameters: {'lambda': 1.0530583670885652, 'alpha': 0.5098467189672061, 'colsample_bytree': 1.0, 'colsample_bylevel': 0.5, 'subsample': 0.8, 'learning_rate': 0.08, 'n_estimators': 124, 'max_depth': 15, 'random_state': 48, 'min_child_weight': 14}. Best is trial 35 with value: 0.10028135822133977.\n",
      "[I 2024-02-12 11:13:48,150] Trial 42 finished with value: 0.1080123519577403 and parameters: {'lambda': 0.40430735163963827, 'alpha': 1.7888237124815178, 'colsample_bytree': 1.0, 'colsample_bylevel': 0.5, 'subsample': 0.8, 'learning_rate': 0.08, 'n_estimators': 106, 'max_depth': 15, 'random_state': 48, 'min_child_weight': 4}. Best is trial 35 with value: 0.10028135822133977.\n",
      "[I 2024-02-12 11:13:49,083] Trial 43 finished with value: 0.586055948090812 and parameters: {'lambda': 0.4162286282216925, 'alpha': 2.3748147295015163, 'colsample_bytree': 1.0, 'colsample_bylevel': 0.5, 'subsample': 0.4, 'learning_rate': 0.002, 'n_estimators': 101, 'max_depth': 9, 'random_state': 48, 'min_child_weight': 4}. Best is trial 35 with value: 0.10028135822133977.\n",
      "[I 2024-02-12 11:13:49,943] Trial 44 finished with value: 0.2006295363708849 and parameters: {'lambda': 0.1379368784081096, 'alpha': 1.6800814274900877, 'colsample_bytree': 1.0, 'colsample_bylevel': 0.5, 'subsample': 0.8, 'learning_rate': 0.8, 'n_estimators': 142, 'max_depth': 15, 'random_state': 48, 'min_child_weight': 218}. Best is trial 35 with value: 0.10028135822133977.\n",
      "[I 2024-02-12 11:13:50,633] Trial 45 finished with value: 0.13740734508584015 and parameters: {'lambda': 0.32684185214288214, 'alpha': 5.620944242070934, 'colsample_bytree': 1.0, 'colsample_bylevel': 0.7, 'subsample': 0.8, 'learning_rate': 0.3, 'n_estimators': 95, 'max_depth': 15, 'random_state': 48, 'min_child_weight': 50}. Best is trial 35 with value: 0.10028135822133977.\n",
      "[I 2024-02-12 11:13:51,509] Trial 46 finished with value: 0.6704215293928685 and parameters: {'lambda': 0.20895197517104655, 'alpha': 9.826494101008352, 'colsample_bytree': 0.5, 'colsample_bylevel': 0.5, 'subsample': 0.8, 'learning_rate': 1e-05, 'n_estimators': 119, 'max_depth': 25, 'random_state': 48, 'min_child_weight': 21}. Best is trial 35 with value: 0.10028135822133977.\n",
      "[I 2024-02-12 11:13:52,576] Trial 47 finished with value: 0.6205449069279227 and parameters: {'lambda': 0.0707132132868086, 'alpha': 3.6490373324513414, 'colsample_bytree': 0.9, 'colsample_bylevel': 0.4, 'subsample': 0.8, 'learning_rate': 0.001, 'n_estimators': 171, 'max_depth': 5, 'random_state': 48, 'min_child_weight': 127}. Best is trial 35 with value: 0.10028135822133977.\n",
      "[I 2024-02-12 11:13:53,060] Trial 48 finished with value: 0.31633465153448936 and parameters: {'lambda': 0.555781315082598, 'alpha': 1.683142800724327, 'colsample_bytree': 0.6, 'colsample_bylevel': 0.5, 'subsample': 0.4, 'learning_rate': 0.48, 'n_estimators': 59, 'max_depth': 7, 'random_state': 48, 'min_child_weight': 75}. Best is trial 35 with value: 0.10028135822133977.\n",
      "[I 2024-02-12 11:13:53,886] Trial 49 finished with value: 0.2190132462778236 and parameters: {'lambda': 0.790778472373856, 'alpha': 0.741040311325894, 'colsample_bytree': 0.7, 'colsample_bylevel': 0.5, 'subsample': 0.8, 'learning_rate': 0.5, 'n_estimators': 143, 'max_depth': 15, 'random_state': 48, 'min_child_weight': 282}. Best is trial 35 with value: 0.10028135822133977.\n",
      "[I 2024-02-12 11:13:55,586] Trial 50 finished with value: 0.6162903037791226 and parameters: {'lambda': 5.089589815004928, 'alpha': 0.13617876736601597, 'colsample_bytree': 1.0, 'colsample_bylevel': 0.5, 'subsample': 1.0, 'learning_rate': 0.001, 'n_estimators': 114, 'max_depth': 15, 'random_state': 48, 'min_child_weight': 1}. Best is trial 35 with value: 0.10028135822133977.\n",
      "[I 2024-02-12 11:13:57,249] Trial 51 finished with value: 0.10348126820626372 and parameters: {'lambda': 3.387022193349703, 'alpha': 0.4639583989696868, 'colsample_bytree': 1.0, 'colsample_bylevel': 0.9, 'subsample': 0.8, 'learning_rate': 0.08, 'n_estimators': 133, 'max_depth': 15, 'random_state': 48, 'min_child_weight': 19}. Best is trial 35 with value: 0.10028135822133977.\n",
      "[I 2024-02-12 11:13:58,297] Trial 52 finished with value: 0.10195465934447044 and parameters: {'lambda': 3.1518633663860456, 'alpha': 0.6812262841333546, 'colsample_bytree': 1.0, 'colsample_bylevel': 0.9, 'subsample': 0.8, 'learning_rate': 0.08, 'n_estimators': 88, 'max_depth': 13, 'random_state': 48, 'min_child_weight': 20}. Best is trial 35 with value: 0.10028135822133977.\n",
      "[I 2024-02-12 11:13:59,067] Trial 53 finished with value: 0.6295339561338666 and parameters: {'lambda': 4.180181119217899, 'alpha': 0.3249871082263573, 'colsample_bytree': 1.0, 'colsample_bylevel': 0.9, 'subsample': 0.8, 'learning_rate': 0.001, 'n_estimators': 86, 'max_depth': 13, 'random_state': 48, 'min_child_weight': 43}. Best is trial 35 with value: 0.10028135822133977.\n",
      "[I 2024-02-12 11:13:59,715] Trial 54 finished with value: 0.6589143531393616 and parameters: {'lambda': 1.4839507843116553, 'alpha': 0.1644619340011217, 'colsample_bytree': 0.3, 'colsample_bylevel': 0.9, 'subsample': 0.8, 'learning_rate': 0.001, 'n_estimators': 51, 'max_depth': 13, 'random_state': 48, 'min_child_weight': 21}. Best is trial 35 with value: 0.10028135822133977.\n",
      "[I 2024-02-12 11:14:00,532] Trial 55 finished with value: 0.5381813993370985 and parameters: {'lambda': 3.4211251204616264, 'alpha': 0.6442229230352966, 'colsample_bytree': 0.4, 'colsample_bylevel': 0.9, 'subsample': 0.8, 'learning_rate': 0.007, 'n_estimators': 103, 'max_depth': 13, 'random_state': 48, 'min_child_weight': 61}. Best is trial 35 with value: 0.10028135822133977.\n",
      "[I 2024-02-12 11:14:01,315] Trial 56 finished with value: 0.6294802774626351 and parameters: {'lambda': 1.0801090817808627, 'alpha': 1.5521945957902812, 'colsample_bytree': 1.0, 'colsample_bylevel': 0.9, 'subsample': 0.6, 'learning_rate': 0.001, 'n_estimators': 85, 'max_depth': 20, 'random_state': 24, 'min_child_weight': 29}. Best is trial 35 with value: 0.10028135822133977.\n",
      "[I 2024-02-12 11:14:02,248] Trial 57 finished with value: 0.17290487828662165 and parameters: {'lambda': 0.5285358390666858, 'alpha': 0.5368748242041032, 'colsample_bytree': 1.0, 'colsample_bylevel': 0.8, 'subsample': 0.8, 'learning_rate': 1.0, 'n_estimators': 140, 'max_depth': 17, 'random_state': 48, 'min_child_weight': 163}. Best is trial 35 with value: 0.10028135822133977.\n",
      "[I 2024-02-12 11:14:04,283] Trial 58 finished with value: 0.5924930076163673 and parameters: {'lambda': 0.3112691847383313, 'alpha': 0.06675787386641162, 'colsample_bytree': 0.9, 'colsample_bylevel': 0.9, 'subsample': 0.7, 'learning_rate': 0.001, 'n_estimators': 186, 'max_depth': 9, 'random_state': 48, 'min_child_weight': 17}. Best is trial 35 with value: 0.10028135822133977.\n",
      "[I 2024-02-12 11:14:04,741] Trial 59 finished with value: 0.6509206051421209 and parameters: {'lambda': 1.7185703439692706, 'alpha': 0.19264649746711812, 'colsample_bytree': 1.0, 'colsample_bylevel': 0.7, 'subsample': 0.8, 'learning_rate': 0.001, 'n_estimators': 40, 'max_depth': 30, 'random_state': 48, 'min_child_weight': 46}. Best is trial 35 with value: 0.10028135822133977.\n",
      "[I 2024-02-12 11:14:05,331] Trial 60 finished with value: 0.646050835388694 and parameters: {'lambda': 3.0118399514942893, 'alpha': 2.1592789164820836, 'colsample_bytree': 0.7, 'colsample_bylevel': 0.4, 'subsample': 0.4, 'learning_rate': 0.001, 'n_estimators': 69, 'max_depth': 25, 'random_state': 48, 'min_child_weight': 30}. Best is trial 35 with value: 0.10028135822133977.\n",
      "[I 2024-02-12 11:14:06,614] Trial 61 finished with value: 0.10840045888360471 and parameters: {'lambda': 0.967239396596974, 'alpha': 1.0358220731696821, 'colsample_bytree': 1.0, 'colsample_bylevel': 0.5, 'subsample': 0.8, 'learning_rate': 0.08, 'n_estimators': 117, 'max_depth': 15, 'random_state': 48, 'min_child_weight': 9}. Best is trial 35 with value: 0.10028135822133977.\n",
      "[I 2024-02-12 11:14:07,898] Trial 62 finished with value: 0.1106196999468771 and parameters: {'lambda': 1.1265313351508808, 'alpha': 1.0269807573264609, 'colsample_bytree': 1.0, 'colsample_bylevel': 0.6, 'subsample': 0.8, 'learning_rate': 0.08, 'n_estimators': 115, 'max_depth': 15, 'random_state': 48, 'min_child_weight': 10}. Best is trial 35 with value: 0.10028135822133977.\n",
      "[I 2024-02-12 11:14:09,341] Trial 63 finished with value: 0.31770954824749137 and parameters: {'lambda': 4.464136660147181, 'alpha': 0.32152373609968427, 'colsample_bytree': 0.6, 'colsample_bylevel': 0.9, 'subsample': 0.8, 'learning_rate': 0.08, 'n_estimators': 97, 'max_depth': 15, 'random_state': 48, 'min_child_weight': 2}. Best is trial 35 with value: 0.10028135822133977.\n",
      "[I 2024-02-12 11:14:10,487] Trial 64 finished with value: 0.6094829440655803 and parameters: {'lambda': 0.4545814365445675, 'alpha': 4.328763338946116, 'colsample_bytree': 1.0, 'colsample_bylevel': 0.5, 'subsample': 1.0, 'learning_rate': 0.001, 'n_estimators': 146, 'max_depth': 35, 'random_state': 24, 'min_child_weight': 22}. Best is trial 35 with value: 0.10028135822133977.\n",
      "[I 2024-02-12 11:14:11,857] Trial 65 finished with value: 0.13613873517079064 and parameters: {'lambda': 6.232443053644869, 'alpha': 0.39850717839440647, 'colsample_bytree': 1.0, 'colsample_bylevel': 0.5, 'subsample': 0.8, 'learning_rate': 0.42, 'n_estimators': 136, 'max_depth': 13, 'random_state': 48, 'min_child_weight': 37}. Best is trial 35 with value: 0.10028135822133977.\n",
      "[I 2024-02-12 11:14:12,930] Trial 66 finished with value: 0.6328253162381446 and parameters: {'lambda': 1.7576200927001435, 'alpha': 0.8521765042087782, 'colsample_bytree': 0.3, 'colsample_bylevel': 0.8, 'subsample': 0.8, 'learning_rate': 0.001, 'n_estimators': 168, 'max_depth': 5, 'random_state': 48, 'min_child_weight': 59}. Best is trial 35 with value: 0.10028135822133977.\n",
      "[I 2024-02-12 11:14:13,964] Trial 67 finished with value: 0.6152585628989807 and parameters: {'lambda': 1.3165478011734324, 'alpha': 1.200810591918483, 'colsample_bytree': 1.0, 'colsample_bylevel': 0.9, 'subsample': 0.6, 'learning_rate': 0.001, 'n_estimators': 109, 'max_depth': 15, 'random_state': 48, 'min_child_weight': 14}. Best is trial 35 with value: 0.10028135822133977.\n",
      "[I 2024-02-12 11:14:14,897] Trial 68 finished with value: 0.6435887639766145 and parameters: {'lambda': 2.560758489182126, 'alpha': 0.631903656218721, 'colsample_bytree': 0.5, 'colsample_bylevel': 0.5, 'subsample': 0.8, 'learning_rate': 0.001, 'n_estimators': 117, 'max_depth': 7, 'random_state': 48, 'min_child_weight': 24}. Best is trial 35 with value: 0.10028135822133977.\n",
      "[I 2024-02-12 11:14:15,763] Trial 69 finished with value: 0.6477870632360468 and parameters: {'lambda': 0.23747598507698472, 'alpha': 0.283876793629361, 'colsample_bytree': 0.4, 'colsample_bylevel': 0.5, 'subsample': 0.7, 'learning_rate': 0.001, 'n_estimators': 151, 'max_depth': 15, 'random_state': 24, 'min_child_weight': 220}. Best is trial 35 with value: 0.10028135822133977.\n",
      "[I 2024-02-12 11:14:17,013] Trial 70 finished with value: 0.6110191859075863 and parameters: {'lambda': 0.1445368644395728, 'alpha': 1.3753093045735734, 'colsample_bytree': 1.0, 'colsample_bylevel': 0.6, 'subsample': 0.8, 'learning_rate': 0.001, 'n_estimators': 129, 'max_depth': 40, 'random_state': 48, 'min_child_weight': 9}. Best is trial 35 with value: 0.10028135822133977.\n",
      "[I 2024-02-12 11:14:18,172] Trial 71 finished with value: 0.6141413466947635 and parameters: {'lambda': 0.7741478186131672, 'alpha': 2.103764489799558, 'colsample_bytree': 1.0, 'colsample_bylevel': 0.5, 'subsample': 0.8, 'learning_rate': 0.001, 'n_estimators': 126, 'max_depth': 15, 'random_state': 48, 'min_child_weight': 11}. Best is trial 35 with value: 0.10028135822133977.\n",
      "[I 2024-02-12 11:14:18,379] Trial 72 finished with value: 0.5477715023064053 and parameters: {'lambda': 0.9798904241048805, 'alpha': 1.0595087015560045, 'colsample_bytree': 1.0, 'colsample_bylevel': 0.5, 'subsample': 0.8, 'learning_rate': 0.08, 'n_estimators': 4, 'max_depth': 15, 'random_state': 48, 'min_child_weight': 31}. Best is trial 35 with value: 0.10028135822133977.\n",
      "[I 2024-02-12 11:14:19,563] Trial 73 finished with value: 0.6199024153391663 and parameters: {'lambda': 0.8889711114726688, 'alpha': 0.44362300741191163, 'colsample_bytree': 1.0, 'colsample_bylevel': 0.5, 'subsample': 0.8, 'learning_rate': 0.001, 'n_estimators': 103, 'max_depth': 15, 'random_state': 48, 'min_child_weight': 8}. Best is trial 35 with value: 0.10028135822133977.\n",
      "[I 2024-02-12 11:14:20,862] Trial 74 finished with value: 0.11625910019057724 and parameters: {'lambda': 0.01960014013519858, 'alpha': 0.8553816131996048, 'colsample_bytree': 1.0, 'colsample_bylevel': 0.5, 'subsample': 0.8, 'learning_rate': 0.08, 'n_estimators': 120, 'max_depth': 15, 'random_state': 48, 'min_child_weight': 17}. Best is trial 35 with value: 0.10028135822133977.\n",
      "[I 2024-02-12 11:14:21,962] Trial 75 finished with value: 0.38441766037270564 and parameters: {'lambda': 0.616353484782027, 'alpha': 2.9270893898541726, 'colsample_bytree': 1.0, 'colsample_bylevel': 0.7, 'subsample': 0.8, 'learning_rate': 0.006, 'n_estimators': 136, 'max_depth': 15, 'random_state': 48, 'min_child_weight': 39}. Best is trial 35 with value: 0.10028135822133977.\n",
      "[I 2024-02-12 11:14:23,273] Trial 76 finished with value: 0.10216590212207544 and parameters: {'lambda': 1.9189349710530883, 'alpha': 0.6173575524976989, 'colsample_bytree': 1.0, 'colsample_bylevel': 0.5, 'subsample': 0.8, 'learning_rate': 0.08, 'n_estimators': 83, 'max_depth': 30, 'random_state': 48, 'min_child_weight': 2}. Best is trial 35 with value: 0.10028135822133977.\n",
      "[I 2024-02-12 11:14:24,412] Trial 77 finished with value: 0.629308278802075 and parameters: {'lambda': 3.5331492183795503, 'alpha': 0.21750412185858833, 'colsample_bytree': 1.0, 'colsample_bylevel': 0.9, 'subsample': 0.8, 'learning_rate': 0.001, 'n_estimators': 77, 'max_depth': 30, 'random_state': 48, 'min_child_weight': 2}. Best is trial 35 with value: 0.10028135822133977.\n",
      "[I 2024-02-12 11:14:25,272] Trial 78 finished with value: 0.6283963821410702 and parameters: {'lambda': 1.981081723217226, 'alpha': 0.5669498778940478, 'colsample_bytree': 1.0, 'colsample_bylevel': 0.4, 'subsample': 1.0, 'learning_rate': 0.001, 'n_estimators': 91, 'max_depth': 20, 'random_state': 48, 'min_child_weight': 27}. Best is trial 35 with value: 0.10028135822133977.\n",
      "[I 2024-02-12 11:14:26,078] Trial 79 finished with value: 0.6502954921875466 and parameters: {'lambda': 1.4231507105331924, 'alpha': 0.4007062886131554, 'colsample_bytree': 0.6, 'colsample_bylevel': 0.5, 'subsample': 0.8, 'learning_rate': 0.001, 'n_estimators': 90, 'max_depth': 13, 'random_state': 48, 'min_child_weight': 49}. Best is trial 35 with value: 0.10028135822133977.\n",
      "[I 2024-02-12 11:14:26,862] Trial 80 finished with value: 0.4561000570089002 and parameters: {'lambda': 0.32171675667687566, 'alpha': 1.926171354535797, 'colsample_bytree': 0.9, 'colsample_bylevel': 0.5, 'subsample': 0.8, 'learning_rate': 0.01, 'n_estimators': 63, 'max_depth': 35, 'random_state': 48, 'min_child_weight': 1}. Best is trial 35 with value: 0.10028135822133977.\n",
      "[I 2024-02-12 11:14:27,888] Trial 81 finished with value: 0.6207014697100327 and parameters: {'lambda': 2.3602831716058663, 'alpha': 0.7186529022938504, 'colsample_bytree': 1.0, 'colsample_bylevel': 0.5, 'subsample': 0.8, 'learning_rate': 0.001, 'n_estimators': 109, 'max_depth': 30, 'random_state': 48, 'min_child_weight': 17}. Best is trial 35 with value: 0.10028135822133977.\n",
      "[I 2024-02-12 11:14:29,349] Trial 82 finished with value: 0.6023029259542445 and parameters: {'lambda': 5.479787607116251, 'alpha': 1.2097651771170743, 'colsample_bytree': 1.0, 'colsample_bylevel': 0.5, 'subsample': 0.8, 'learning_rate': 0.001, 'n_estimators': 159, 'max_depth': 30, 'random_state': 48, 'min_child_weight': 10}. Best is trial 35 with value: 0.10028135822133977.\n",
      "[I 2024-02-12 11:14:30,261] Trial 83 finished with value: 0.12101732267179305 and parameters: {'lambda': 1.3743486023353397, 'alpha': 0.8684784770280173, 'colsample_bytree': 1.0, 'colsample_bylevel': 0.5, 'subsample': 0.8, 'learning_rate': 0.08, 'n_estimators': 80, 'max_depth': 15, 'random_state': 48, 'min_child_weight': 24}. Best is trial 35 with value: 0.10028135822133977.\n",
      "[I 2024-02-12 11:14:31,688] Trial 84 finished with value: 0.6043935911510995 and parameters: {'lambda': 3.8902490314035507, 'alpha': 0.5252880813518366, 'colsample_bytree': 1.0, 'colsample_bylevel': 1.0, 'subsample': 0.4, 'learning_rate': 0.001, 'n_estimators': 132, 'max_depth': 15, 'random_state': 48, 'min_child_weight': 8}. Best is trial 35 with value: 0.10028135822133977.\n",
      "[I 2024-02-12 11:14:33,400] Trial 85 finished with value: 0.6129608501361895 and parameters: {'lambda': 0.6399523451828949, 'alpha': 2.713936782709176, 'colsample_bytree': 0.7, 'colsample_bylevel': 0.5, 'subsample': 0.8, 'learning_rate': 0.001, 'n_estimators': 148, 'max_depth': 17, 'random_state': 48, 'min_child_weight': 17}. Best is trial 35 with value: 0.10028135822133977.\n",
      "[I 2024-02-12 11:14:34,464] Trial 86 finished with value: 0.13700023356363136 and parameters: {'lambda': 2.7408642898087683, 'alpha': 1.3639683010953756, 'colsample_bytree': 1.0, 'colsample_bylevel': 0.5, 'subsample': 0.6, 'learning_rate': 0.08, 'n_estimators': 124, 'max_depth': 9, 'random_state': 48, 'min_child_weight': 34}. Best is trial 35 with value: 0.10028135822133977.\n",
      "[I 2024-02-12 11:14:35,331] Trial 87 finished with value: 0.6542184265300119 and parameters: {'lambda': 7.784625896645759, 'alpha': 0.36063905097801774, 'colsample_bytree': 0.3, 'colsample_bylevel': 0.9, 'subsample': 0.8, 'learning_rate': 0.001, 'n_estimators': 106, 'max_depth': 15, 'random_state': 24, 'min_child_weight': 144}. Best is trial 35 with value: 0.10028135822133977.\n",
      "[I 2024-02-12 11:14:36,337] Trial 88 finished with value: 0.6487881089905934 and parameters: {'lambda': 0.8506768277736133, 'alpha': 0.6622006376262815, 'colsample_bytree': 0.5, 'colsample_bylevel': 0.8, 'subsample': 0.8, 'learning_rate': 0.001, 'n_estimators': 95, 'max_depth': 25, 'random_state': 48, 'min_child_weight': 41}. Best is trial 35 with value: 0.10028135822133977.\n",
      "[I 2024-02-12 11:14:37,959] Trial 89 finished with value: 0.589316376833545 and parameters: {'lambda': 0.030074474496432396, 'alpha': 5.669540985748366, 'colsample_bytree': 1.0, 'colsample_bylevel': 0.5, 'subsample': 0.8, 'learning_rate': 0.001, 'n_estimators': 198, 'max_depth': 15, 'random_state': 48, 'min_child_weight': 7}. Best is trial 35 with value: 0.10028135822133977.\n",
      "[I 2024-02-12 11:14:39,462] Trial 90 finished with value: 0.29992833581987166 and parameters: {'lambda': 1.8332351881588365, 'alpha': 1.6466927581492752, 'colsample_bytree': 1.0, 'colsample_bylevel': 0.5, 'subsample': 0.7, 'learning_rate': 0.008, 'n_estimators': 174, 'max_depth': 30, 'random_state': 48, 'min_child_weight': 26}. Best is trial 35 with value: 0.10028135822133977.\n",
      "[I 2024-02-12 11:14:40,533] Trial 91 finished with value: 0.18413312140413077 and parameters: {'lambda': 1.1220332482969237, 'alpha': 0.9572008227709381, 'colsample_bytree': 1.0, 'colsample_bylevel': 0.6, 'subsample': 0.8, 'learning_rate': 0.08, 'n_estimators': 116, 'max_depth': 15, 'random_state': 48, 'min_child_weight': 106}. Best is trial 35 with value: 0.10028135822133977.\n",
      "[I 2024-02-12 11:14:41,769] Trial 92 finished with value: 0.11000830041769916 and parameters: {'lambda': 0.5192826974852024, 'alpha': 1.0016407080679657, 'colsample_bytree': 1.0, 'colsample_bylevel': 0.6, 'subsample': 0.8, 'learning_rate': 0.08, 'n_estimators': 113, 'max_depth': 15, 'random_state': 48, 'min_child_weight': 11}. Best is trial 35 with value: 0.10028135822133977.\n",
      "[I 2024-02-12 11:14:43,487] Trial 93 finished with value: 0.11806193316001891 and parameters: {'lambda': 0.5764965798526904, 'alpha': 0.4686650526346559, 'colsample_bytree': 1.0, 'colsample_bylevel': 0.6, 'subsample': 0.8, 'learning_rate': 0.9, 'n_estimators': 136, 'max_depth': 15, 'random_state': 48, 'min_child_weight': 1}. Best is trial 35 with value: 0.10028135822133977.\n",
      "[I 2024-02-12 11:14:44,400] Trial 94 finished with value: 0.1226863997087421 and parameters: {'lambda': 0.4390394258991828, 'alpha': 0.7813967454701536, 'colsample_bytree': 1.0, 'colsample_bylevel': 0.6, 'subsample': 0.8, 'learning_rate': 0.08, 'n_estimators': 123, 'max_depth': 5, 'random_state': 48, 'min_child_weight': 16}. Best is trial 35 with value: 0.10028135822133977.\n",
      "[I 2024-02-12 11:14:45,688] Trial 95 finished with value: 0.6115698195710967 and parameters: {'lambda': 0.36360679703552634, 'alpha': 1.0293562075085119, 'colsample_bytree': 1.0, 'colsample_bylevel': 0.9, 'subsample': 0.8, 'learning_rate': 0.001, 'n_estimators': 112, 'max_depth': 15, 'random_state': 48, 'min_child_weight': 9}. Best is trial 35 with value: 0.10028135822133977.\n",
      "[I 2024-02-12 11:14:46,777] Trial 96 finished with value: 0.6358268420206918 and parameters: {'lambda': 0.5125248567558857, 'alpha': 3.5697315047525087, 'colsample_bytree': 0.4, 'colsample_bylevel': 0.6, 'subsample': 0.8, 'learning_rate': 0.001, 'n_estimators': 153, 'max_depth': 7, 'random_state': 48, 'min_child_weight': 22}. Best is trial 35 with value: 0.10028135822133977.\n",
      "[I 2024-02-12 11:14:47,664] Trial 97 finished with value: 0.6256605460835624 and parameters: {'lambda': 0.7325288480081303, 'alpha': 0.6289983382884746, 'colsample_bytree': 1.0, 'colsample_bylevel': 0.5, 'subsample': 0.8, 'learning_rate': 0.001, 'n_estimators': 98, 'max_depth': 40, 'random_state': 48, 'min_child_weight': 33}. Best is trial 35 with value: 0.10028135822133977.\n",
      "[I 2024-02-12 11:14:49,121] Trial 98 finished with value: 0.6014532690992407 and parameters: {'lambda': 0.013450680003900513, 'alpha': 0.2759448527252525, 'colsample_bytree': 1.0, 'colsample_bylevel': 0.7, 'subsample': 1.0, 'learning_rate': 0.001, 'n_estimators': 129, 'max_depth': 13, 'random_state': 48, 'min_child_weight': 13}. Best is trial 35 with value: 0.10028135822133977.\n",
      "[I 2024-02-12 11:14:50,468] Trial 99 finished with value: 0.6639112690581551 and parameters: {'lambda': 0.1680058300353988, 'alpha': 1.8547779195070655, 'colsample_bytree': 1.0, 'colsample_bylevel': 0.4, 'subsample': 0.8, 'learning_rate': 0.0001, 'n_estimators': 140, 'max_depth': 15, 'random_state': 48, 'min_child_weight': 6}. Best is trial 35 with value: 0.10028135822133977.\n"
     ]
    },
    {
     "name": "stdout",
     "output_type": "stream",
     "text": [
      "Number of finished trials: 100\n",
      "Best trial: {'lambda': 0.8853639317687356, 'alpha': 0.7469283203638263, 'colsample_bytree': 1.0, 'colsample_bylevel': 0.5, 'subsample': 0.8, 'learning_rate': 0.08, 'n_estimators': 129, 'max_depth': 15, 'random_state': 48, 'min_child_weight': 1}\n"
     ]
    }
   ],
   "source": [
    "\n",
    "study.optimize(objective, n_trials=100) # 150 bar \"objective\" object ke trial kore kore dekhbe, here total 5*100=750\n",
    "print('Number of finished trials:', len(study.trials))\n",
    "print('Best trial:', study.best_trial.params)"
   ]
  },
  {
   "cell_type": "code",
   "execution_count": 62,
   "metadata": {},
   "outputs": [
    {
     "data": {
      "application/vnd.plotly.v1+json": {
       "config": {
        "plotlyServerURL": "https://plot.ly"
       },
       "data": [
        {
         "dimensions": [
          {
           "label": "Objective Value",
           "range": [
            0.10028135822133977,
            0.6704215293928685
           ],
           "values": [
            0.287567821416318,
            0.27569808237024945,
            0.2518629760533625,
            0.17234980139873374,
            0.17830858954489923,
            0.17335089842565096,
            0.16970518124362965,
            0.15716628837465496,
            0.1575939602199201,
            0.12516368514644302,
            0.1278043016250449,
            0.11293297735361854,
            0.33095708198779705,
            0.646050835388694,
            0.6205449069279227,
            0.5367265118127705,
            0.6639112690581551,
            0.6283963821410702,
            0.2734728475441091,
            0.6477870632360468,
            0.6704215293928685,
            0.6435887639766145,
            0.5646424041842034,
            0.5158673265096723,
            0.6502954921875466,
            0.6430036482716124,
            0.31633465153448936,
            0.6129608501361895,
            0.2190132462778236,
            0.4561000570089002,
            0.6141413466947635,
            0.6199024153391663,
            0.589316376833545,
            0.6162903037791226,
            0.6207014697100327,
            0.6023029259542445,
            0.6094829440655803,
            0.6256605460835624,
            0.586055948090812,
            0.29992833581987166,
            0.1466589348321649,
            0.13700023356363136,
            0.10032765590287757,
            0.10191403356753953,
            0.10028135822133977,
            0.11016491584137562,
            0.11313319980176009,
            0.1080123519577403,
            0.10840045888360471,
            0.5477715023064053,
            0.11625910019057724,
            0.12101732267179305,
            0.10216590212207544,
            0.13613873517079064,
            0.14354627342667525,
            0.13946919366136315,
            0.2006295363708849,
            0.3092105690268088,
            0.6358268420206918,
            0.30933674583668364,
            0.1746285152695774,
            0.18567064649212406,
            0.6110191859075863,
            0.1226863997087421,
            0.1106196999468771,
            0.18413312140413077,
            0.11000830041769916,
            0.11806193316001891,
            0.34159992528781646,
            0.271803153278584,
            0.6014532690992407,
            0.6509206051421209,
            0.38441766037270564,
            0.13740734508584015,
            0.6328253162381446,
            0.6487881089905934,
            0.47816933252196925,
            0.18855753607726294,
            0.17290487828662165,
            0.6589143531393616,
            0.6542184265300119,
            0.5381813993370985,
            0.31770954824749137,
            0.4818638610581162,
            0.4468819914793235,
            0.5924930076163673,
            0.6295339561338666,
            0.6152585628989807,
            0.6115698195710967,
            0.6294802774626351,
            0.629308278802075,
            0.10195465934447044,
            0.10348126820626372,
            0.30154413269497166,
            0.6385196028092024,
            0.16924801880489446,
            0.17758673777785147,
            0.664202793785935,
            0.6043935911510995,
            0.11744245318945101
           ]
          },
          {
           "label": "alpha",
           "range": [
            -2.9998499209211165,
            0.9923985977742144
           ],
           "ticktext": [
            "0.001",
            "0.01",
            "0.1",
            "1",
            "9.83"
           ],
           "tickvals": [
            -2.9998499209211165,
            -2,
            -1,
            0,
            0.9923985977742144
           ],
           "values": [
            -2.642795877171095,
            0.8856065473919342,
            -1.4059462301685757,
            -2.937647901905799,
            -1.8866278573343718,
            -1.768623348899103,
            -1.9441239614534147,
            -2.07444140974177,
            -2.0939476374202926,
            -0.5856083441027528,
            -0.4205243727052233,
            -0.322166293122604,
            -1.3282767378290032,
            0.33430874426353735,
            0.5621783065531043,
            -2.259510266238038,
            0.2682919171281671,
            -0.24645533390464988,
            0.008644246006457149,
            -0.5468701087444737,
            0.9923985977742144,
            -0.199349131784261,
            -0.01746836388246073,
            0.007842656233515976,
            -0.397173841773536,
            -0.6370205092095325,
            0.22612096382827435,
            0.43359972717031925,
            -0.13015816650081993,
            0.2846949198700709,
            0.3229971202225354,
            -0.35298593832782205,
            0.7535478992057625,
            -0.8658906011942468,
            -0.14348081617584305,
            0.08270107925914932,
            0.6363638428241686,
            -0.20135050188875214,
            0.37562973392144217,
            0.21661257555852867,
            0.10659847163132741,
            0.13480427734441208,
            -0.3520601403991391,
            -0.16317371250022333,
            -0.12672107363857665,
            0.02056469806746161,
            -0.29256037118134787,
            0.2525675432119303,
            0.015285161512585493,
            0.025104527844584414,
            -0.0678400893279504,
            -0.061240939938574684,
            -0.20946323450692161,
            -0.39956385115870685,
            0.4754269994237048,
            -0.127279591732878,
            0.2253303309238602,
            -2.3589233454365215,
            0.5526355521375381,
            -2.8848699902045887,
            -2.9998499209211165,
            -2.6776270371543087,
            0.1384003811940582,
            -0.10712840195087724,
            0.011562306240678784,
            -0.01899693675654769,
            0.0007119665552783311,
            -0.3291374296967454,
            0.38631829246210514,
            0.6953438138666287,
            -0.5591777025368174,
            -0.7152388825478458,
            0.4664359854770504,
            0.7498092772550407,
            -0.06947044412423652,
            -0.17901040540599475,
            -0.6281362307367774,
            -1.583969691587266,
            -0.2701269610313422,
            -0.7839346069317982,
            -0.44292724847879783,
            -0.19096382597609485,
            -0.4927869602931005,
            -2.5238447989986934,
            -1.830948008776172,
            -1.1754975033706965,
            -0.48813386652020935,
            0.07947451000758438,
            0.01256568786794809,
            0.1909461670382455,
            -0.6625325084404788,
            -0.16670860376014415,
            -0.3335209589017557,
            -2.8550954451115147,
            -2.259199647160321,
            -2.985974771779763,
            -2.151865300685122,
            -1.0941756536737894,
            -0.27960245311246734,
            -0.9633982643223565
           ]
          },
          {
           "label": "colsample_bylevel",
           "range": [
            0,
            7
           ],
           "ticktext": [
            "0.3",
            "0.4",
            "0.5",
            "0.6",
            "0.7",
            "0.8",
            "0.9",
            "1.0"
           ],
           "tickvals": [
            0,
            1,
            2,
            3,
            4,
            5,
            6,
            7
           ],
           "values": [
            0,
            0,
            0,
            0,
            0,
            0,
            0,
            0,
            0,
            0,
            0,
            0,
            1,
            1,
            1,
            1,
            1,
            1,
            1,
            2,
            2,
            2,
            2,
            2,
            2,
            2,
            2,
            2,
            2,
            2,
            2,
            2,
            2,
            2,
            2,
            2,
            2,
            2,
            2,
            2,
            2,
            2,
            2,
            2,
            2,
            2,
            2,
            2,
            2,
            2,
            2,
            2,
            2,
            2,
            2,
            2,
            2,
            3,
            3,
            3,
            3,
            3,
            3,
            3,
            3,
            3,
            3,
            3,
            4,
            4,
            4,
            4,
            4,
            4,
            5,
            5,
            5,
            5,
            5,
            6,
            6,
            6,
            6,
            6,
            6,
            6,
            6,
            6,
            6,
            6,
            6,
            6,
            6,
            7,
            7,
            7,
            7,
            7,
            7,
            7
           ]
          },
          {
           "label": "colsample_bytree",
           "range": [
            0,
            7
           ],
           "ticktext": [
            "0.3",
            "0.4",
            "0.5",
            "0.6",
            "0.7",
            "0.8",
            "0.9",
            "1.0"
           ],
           "tickvals": [
            0,
            1,
            2,
            3,
            4,
            5,
            6,
            7
           ],
           "values": [
            1,
            3,
            5,
            5,
            5,
            5,
            5,
            5,
            5,
            7,
            7,
            7,
            1,
            4,
            6,
            6,
            7,
            7,
            7,
            1,
            2,
            2,
            2,
            2,
            3,
            3,
            3,
            4,
            4,
            6,
            7,
            7,
            7,
            7,
            7,
            7,
            7,
            7,
            7,
            7,
            7,
            7,
            7,
            7,
            7,
            7,
            7,
            7,
            7,
            7,
            7,
            7,
            7,
            7,
            7,
            7,
            7,
            0,
            1,
            5,
            5,
            5,
            7,
            7,
            7,
            7,
            7,
            7,
            1,
            2,
            7,
            7,
            7,
            7,
            0,
            2,
            5,
            7,
            7,
            0,
            0,
            1,
            3,
            4,
            4,
            6,
            7,
            7,
            7,
            7,
            7,
            7,
            7,
            0,
            5,
            5,
            5,
            6,
            7,
            7
           ]
          },
          {
           "label": "lambda",
           "range": [
            -2.991289266178394,
            0.9958518002955359
           ],
           "ticktext": [
            "0.00102",
            "0.01",
            "0.1",
            "1",
            "9.9"
           ],
           "tickvals": [
            -2.991289266178394,
            -2,
            -1,
            0,
            0.9958518002955359
           ],
           "values": [
            0.9686625763940988,
            -2.138252613114262,
            0.8462182530877709,
            0.1635393796084338,
            -0.19355312370845307,
            -0.14582848528748169,
            0.8011462594451111,
            0.9958518002955359,
            0.9379533284595617,
            0.3575207068291424,
            0.42731586553303885,
            0.3353074723678921,
            -0.5952267854501385,
            0.478831889829573,
            -1.1504994274848719,
            -0.5929807395993263,
            -0.7746756473915696,
            0.2969023913438076,
            -1.6512576829483703,
            -0.6243803021480777,
            -0.6799535192232411,
            0.40836862112308747,
            -0.37914167131323806,
            -1.418076587447808,
            0.15325089396138233,
            0.23234764782373968,
            -0.2550960579417465,
            -0.19385236507028514,
            -0.10194516214099254,
            -0.492526318200367,
            -0.11117610562376837,
            -0.05111235188902275,
            -1.5218019525265563,
            0.7066827826789625,
            0.37296410995671564,
            0.7387637258484229,
            -0.3423883032588014,
            -0.13517526751440426,
            -0.3806680523052565,
            0.2632181847480404,
            -0.12469705942240701,
            0.43788753256748514,
            0.4002687249656034,
            -0.14233217485226535,
            -0.052878174420501585,
            -0.0759057616423871,
            0.022452443172180918,
            -0.3932883616900703,
            -0.014466022552351713,
            -0.008822486416962195,
            -1.7077408235554679,
            0.13809690511672795,
            0.28306025759564324,
            0.794658319008818,
            -1.2262024186295786,
            0.07171892020432094,
            -0.8603196065729195,
            -2.1273894833591087,
            -0.2902850670719352,
            -2.865699677181764,
            -2.898036380833344,
            -1.7358979946775184,
            -0.840021371033275,
            -0.3574964782051792,
            0.051743276391716914,
            0.05000572620530019,
            -0.2845961478688144,
            -0.23920326487493676,
            -0.9371793972496661,
            -1.6005459090022256,
            -1.87125575919492,
            0.2351673132392898,
            -0.21017014423128072,
            -0.4856623371122955,
            0.24492500869336026,
            -0.07023539710824778,
            0.6337250516151203,
            -2.604760856591189,
            -0.2769255586286859,
            0.17141949767056444,
            0.8912377466502848,
            0.5341689578835062,
            0.6497374811444324,
            -2.0481882296155667,
            -0.7328413146746884,
            -0.5068638718023044,
            0.6211950993283372,
            0.119436632077843,
            -0.43936800694778305,
            0.03346761773070832,
            0.5481619797361029,
            0.49856738251334726,
            0.5298180423540289,
            -2.991289266178394,
            -2.418091266483476,
            -2.6819765275538887,
            0.51755044832977,
            -2.489414087541562,
            0.5899774032544077,
            0.3278601479503893
           ]
          },
          {
           "label": "learning_rate",
           "range": [
            0,
            26
           ],
           "ticktext": [
            "1e-05",
            "0.0001",
            "0.001",
            "0.002",
            "0.003",
            "0.004",
            "0.005",
            "0.006",
            "0.007",
            "0.008",
            "0.009",
            "0.01",
            "0.04",
            "0.08",
            "0.12",
            "0.2",
            "0.24",
            "0.3",
            "0.38",
            "0.42",
            "0.48",
            "0.5",
            "0.6",
            "0.7",
            "0.8",
            "0.9",
            "1.0"
           ],
           "tickvals": [
            0,
            1,
            2,
            3,
            4,
            5,
            6,
            7,
            8,
            9,
            10,
            11,
            12,
            13,
            14,
            15,
            16,
            17,
            18,
            19,
            20,
            21,
            22,
            23,
            24,
            25,
            26
           ],
           "values": [
            18,
            25,
            10,
            16,
            16,
            16,
            18,
            18,
            18,
            13,
            13,
            13,
            26,
            2,
            2,
            11,
            1,
            2,
            11,
            2,
            0,
            2,
            5,
            11,
            2,
            4,
            20,
            2,
            21,
            11,
            2,
            2,
            2,
            2,
            2,
            2,
            2,
            2,
            3,
            9,
            12,
            13,
            13,
            13,
            13,
            13,
            13,
            13,
            13,
            13,
            13,
            13,
            13,
            19,
            22,
            23,
            24,
            15,
            2,
            9,
            16,
            25,
            2,
            13,
            13,
            13,
            13,
            25,
            19,
            20,
            2,
            2,
            7,
            17,
            2,
            2,
            16,
            14,
            26,
            2,
            2,
            8,
            13,
            6,
            7,
            2,
            2,
            2,
            2,
            2,
            2,
            13,
            13,
            16,
            2,
            16,
            18,
            1,
            2,
            13
           ]
          },
          {
           "label": "max_depth",
           "range": [
            0,
            11
           ],
           "ticktext": [
            "5",
            "7",
            "9",
            "11",
            "13",
            "15",
            "17",
            "20",
            "25",
            "30",
            "35",
            "40"
           ],
           "tickvals": [
            0,
            1,
            2,
            3,
            4,
            5,
            6,
            7,
            8,
            9,
            10,
            11
           ],
           "values": [
            7,
            7,
            3,
            3,
            10,
            10,
            3,
            3,
            3,
            5,
            5,
            5,
            8,
            8,
            0,
            6,
            5,
            7,
            5,
            5,
            8,
            1,
            5,
            10,
            4,
            9,
            1,
            6,
            5,
            10,
            5,
            5,
            5,
            5,
            9,
            9,
            10,
            11,
            2,
            9,
            5,
            2,
            5,
            5,
            5,
            5,
            5,
            5,
            5,
            5,
            5,
            5,
            9,
            4,
            5,
            6,
            5,
            3,
            1,
            11,
            9,
            9,
            11,
            0,
            5,
            5,
            5,
            5,
            2,
            9,
            4,
            9,
            5,
            5,
            0,
            8,
            10,
            4,
            6,
            4,
            5,
            4,
            5,
            11,
            8,
            2,
            4,
            5,
            5,
            7,
            9,
            4,
            5,
            11,
            0,
            11,
            3,
            1,
            5,
            5
           ]
          },
          {
           "label": "min_child_weight",
           "range": [
            1,
            300
           ],
           "values": [
            25,
            43,
            31,
            69,
            83,
            72,
            56,
            25,
            33,
            35,
            38,
            13,
            23,
            30,
            127,
            185,
            6,
            27,
            130,
            220,
            21,
            24,
            2,
            149,
            49,
            116,
            75,
            17,
            282,
            1,
            11,
            8,
            7,
            1,
            17,
            10,
            22,
            33,
            4,
            26,
            12,
            34,
            1,
            1,
            1,
            10,
            14,
            4,
            9,
            31,
            17,
            24,
            2,
            37,
            51,
            19,
            218,
            101,
            22,
            87,
            97,
            133,
            9,
            16,
            10,
            106,
            11,
            1,
            250,
            53,
            13,
            46,
            39,
            50,
            59,
            41,
            300,
            61,
            163,
            21,
            144,
            61,
            2,
            166,
            200,
            17,
            43,
            14,
            9,
            29,
            2,
            20,
            19,
            98,
            191,
            92,
            1,
            7,
            8,
            41
           ]
          },
          {
           "label": "n_estimators",
           "range": [
            4,
            300
           ],
           "values": [
            108,
            242,
            227,
            276,
            237,
            266,
            269,
            271,
            158,
            155,
            159,
            131,
            265,
            69,
            171,
            91,
            140,
            91,
            256,
            151,
            119,
            117,
            127,
            180,
            90,
            59,
            59,
            148,
            143,
            63,
            126,
            103,
            198,
            114,
            109,
            159,
            146,
            98,
            101,
            174,
            79,
            124,
            137,
            139,
            129,
            126,
            124,
            106,
            117,
            4,
            120,
            80,
            83,
            136,
            72,
            181,
            142,
            300,
            153,
            297,
            296,
            217,
            129,
            123,
            115,
            116,
            113,
            136,
            194,
            240,
            129,
            40,
            136,
            95,
            168,
            95,
            28,
            20,
            140,
            51,
            106,
            103,
            97,
            203,
            178,
            186,
            86,
            109,
            112,
            85,
            77,
            88,
            133,
            296,
            110,
            294,
            150,
            135,
            132,
            164
           ]
          },
          {
           "label": "random_state",
           "range": [
            0,
            2
           ],
           "ticktext": [
            "24",
            "48",
            "2020"
           ],
           "tickvals": [
            0,
            1,
            2
           ],
           "values": [
            0,
            1,
            2,
            2,
            2,
            2,
            2,
            2,
            2,
            1,
            1,
            1,
            2,
            1,
            1,
            1,
            1,
            1,
            1,
            0,
            1,
            1,
            1,
            0,
            1,
            0,
            1,
            1,
            1,
            1,
            1,
            1,
            1,
            1,
            1,
            1,
            0,
            1,
            1,
            1,
            1,
            1,
            1,
            1,
            1,
            1,
            1,
            1,
            1,
            1,
            1,
            1,
            1,
            1,
            1,
            1,
            1,
            2,
            1,
            2,
            2,
            2,
            1,
            1,
            1,
            1,
            1,
            1,
            1,
            2,
            1,
            1,
            1,
            1,
            1,
            1,
            2,
            2,
            1,
            1,
            0,
            1,
            1,
            2,
            0,
            1,
            1,
            1,
            1,
            0,
            1,
            1,
            1,
            2,
            2,
            2,
            2,
            0,
            1,
            1
           ]
          },
          {
           "label": "subsample",
           "range": [
            0,
            5
           ],
           "ticktext": [
            "0.4",
            "0.5",
            "0.6",
            "0.7",
            "0.8",
            "1.0"
           ],
           "tickvals": [
            0,
            1,
            2,
            3,
            4,
            5
           ],
           "values": [
            2,
            5,
            5,
            1,
            1,
            1,
            1,
            1,
            1,
            4,
            4,
            4,
            0,
            0,
            4,
            0,
            4,
            5,
            4,
            3,
            4,
            4,
            4,
            0,
            4,
            1,
            0,
            4,
            4,
            4,
            4,
            4,
            4,
            5,
            4,
            4,
            5,
            4,
            0,
            3,
            4,
            2,
            4,
            4,
            4,
            4,
            4,
            4,
            4,
            4,
            4,
            4,
            4,
            4,
            4,
            4,
            4,
            2,
            4,
            1,
            1,
            4,
            4,
            4,
            4,
            4,
            4,
            4,
            2,
            4,
            5,
            4,
            4,
            4,
            4,
            4,
            1,
            3,
            4,
            4,
            4,
            4,
            4,
            1,
            5,
            3,
            4,
            2,
            4,
            2,
            4,
            4,
            4,
            3,
            1,
            1,
            3,
            1,
            0,
            4
           ]
          }
         ],
         "labelangle": 30,
         "labelside": "bottom",
         "line": {
          "color": [
           0.287567821416318,
           0.27569808237024945,
           0.2518629760533625,
           0.17234980139873374,
           0.17830858954489923,
           0.17335089842565096,
           0.16970518124362965,
           0.15716628837465496,
           0.1575939602199201,
           0.12516368514644302,
           0.1278043016250449,
           0.11293297735361854,
           0.33095708198779705,
           0.646050835388694,
           0.6205449069279227,
           0.5367265118127705,
           0.6639112690581551,
           0.6283963821410702,
           0.2734728475441091,
           0.6477870632360468,
           0.6704215293928685,
           0.6435887639766145,
           0.5646424041842034,
           0.5158673265096723,
           0.6502954921875466,
           0.6430036482716124,
           0.31633465153448936,
           0.6129608501361895,
           0.2190132462778236,
           0.4561000570089002,
           0.6141413466947635,
           0.6199024153391663,
           0.589316376833545,
           0.6162903037791226,
           0.6207014697100327,
           0.6023029259542445,
           0.6094829440655803,
           0.6256605460835624,
           0.586055948090812,
           0.29992833581987166,
           0.1466589348321649,
           0.13700023356363136,
           0.10032765590287757,
           0.10191403356753953,
           0.10028135822133977,
           0.11016491584137562,
           0.11313319980176009,
           0.1080123519577403,
           0.10840045888360471,
           0.5477715023064053,
           0.11625910019057724,
           0.12101732267179305,
           0.10216590212207544,
           0.13613873517079064,
           0.14354627342667525,
           0.13946919366136315,
           0.2006295363708849,
           0.3092105690268088,
           0.6358268420206918,
           0.30933674583668364,
           0.1746285152695774,
           0.18567064649212406,
           0.6110191859075863,
           0.1226863997087421,
           0.1106196999468771,
           0.18413312140413077,
           0.11000830041769916,
           0.11806193316001891,
           0.34159992528781646,
           0.271803153278584,
           0.6014532690992407,
           0.6509206051421209,
           0.38441766037270564,
           0.13740734508584015,
           0.6328253162381446,
           0.6487881089905934,
           0.47816933252196925,
           0.18855753607726294,
           0.17290487828662165,
           0.6589143531393616,
           0.6542184265300119,
           0.5381813993370985,
           0.31770954824749137,
           0.4818638610581162,
           0.4468819914793235,
           0.5924930076163673,
           0.6295339561338666,
           0.6152585628989807,
           0.6115698195710967,
           0.6294802774626351,
           0.629308278802075,
           0.10195465934447044,
           0.10348126820626372,
           0.30154413269497166,
           0.6385196028092024,
           0.16924801880489446,
           0.17758673777785147,
           0.664202793785935,
           0.6043935911510995,
           0.11744245318945101
          ],
          "colorbar": {
           "title": {
            "text": "Objective Value"
           }
          },
          "colorscale": [
           [
            0,
            "rgb(247,251,255)"
           ],
           [
            0.125,
            "rgb(222,235,247)"
           ],
           [
            0.25,
            "rgb(198,219,239)"
           ],
           [
            0.375,
            "rgb(158,202,225)"
           ],
           [
            0.5,
            "rgb(107,174,214)"
           ],
           [
            0.625,
            "rgb(66,146,198)"
           ],
           [
            0.75,
            "rgb(33,113,181)"
           ],
           [
            0.875,
            "rgb(8,81,156)"
           ],
           [
            1,
            "rgb(8,48,107)"
           ]
          ],
          "reversescale": true,
          "showscale": true
         },
         "type": "parcoords"
        }
       ],
       "layout": {
        "template": {
         "data": {
          "bar": [
           {
            "error_x": {
             "color": "#2a3f5f"
            },
            "error_y": {
             "color": "#2a3f5f"
            },
            "marker": {
             "line": {
              "color": "#E5ECF6",
              "width": 0.5
             },
             "pattern": {
              "fillmode": "overlay",
              "size": 10,
              "solidity": 0.2
             }
            },
            "type": "bar"
           }
          ],
          "barpolar": [
           {
            "marker": {
             "line": {
              "color": "#E5ECF6",
              "width": 0.5
             },
             "pattern": {
              "fillmode": "overlay",
              "size": 10,
              "solidity": 0.2
             }
            },
            "type": "barpolar"
           }
          ],
          "carpet": [
           {
            "aaxis": {
             "endlinecolor": "#2a3f5f",
             "gridcolor": "white",
             "linecolor": "white",
             "minorgridcolor": "white",
             "startlinecolor": "#2a3f5f"
            },
            "baxis": {
             "endlinecolor": "#2a3f5f",
             "gridcolor": "white",
             "linecolor": "white",
             "minorgridcolor": "white",
             "startlinecolor": "#2a3f5f"
            },
            "type": "carpet"
           }
          ],
          "choropleth": [
           {
            "colorbar": {
             "outlinewidth": 0,
             "ticks": ""
            },
            "type": "choropleth"
           }
          ],
          "contour": [
           {
            "colorbar": {
             "outlinewidth": 0,
             "ticks": ""
            },
            "colorscale": [
             [
              0,
              "#0d0887"
             ],
             [
              0.1111111111111111,
              "#46039f"
             ],
             [
              0.2222222222222222,
              "#7201a8"
             ],
             [
              0.3333333333333333,
              "#9c179e"
             ],
             [
              0.4444444444444444,
              "#bd3786"
             ],
             [
              0.5555555555555556,
              "#d8576b"
             ],
             [
              0.6666666666666666,
              "#ed7953"
             ],
             [
              0.7777777777777778,
              "#fb9f3a"
             ],
             [
              0.8888888888888888,
              "#fdca26"
             ],
             [
              1,
              "#f0f921"
             ]
            ],
            "type": "contour"
           }
          ],
          "contourcarpet": [
           {
            "colorbar": {
             "outlinewidth": 0,
             "ticks": ""
            },
            "type": "contourcarpet"
           }
          ],
          "heatmap": [
           {
            "colorbar": {
             "outlinewidth": 0,
             "ticks": ""
            },
            "colorscale": [
             [
              0,
              "#0d0887"
             ],
             [
              0.1111111111111111,
              "#46039f"
             ],
             [
              0.2222222222222222,
              "#7201a8"
             ],
             [
              0.3333333333333333,
              "#9c179e"
             ],
             [
              0.4444444444444444,
              "#bd3786"
             ],
             [
              0.5555555555555556,
              "#d8576b"
             ],
             [
              0.6666666666666666,
              "#ed7953"
             ],
             [
              0.7777777777777778,
              "#fb9f3a"
             ],
             [
              0.8888888888888888,
              "#fdca26"
             ],
             [
              1,
              "#f0f921"
             ]
            ],
            "type": "heatmap"
           }
          ],
          "heatmapgl": [
           {
            "colorbar": {
             "outlinewidth": 0,
             "ticks": ""
            },
            "colorscale": [
             [
              0,
              "#0d0887"
             ],
             [
              0.1111111111111111,
              "#46039f"
             ],
             [
              0.2222222222222222,
              "#7201a8"
             ],
             [
              0.3333333333333333,
              "#9c179e"
             ],
             [
              0.4444444444444444,
              "#bd3786"
             ],
             [
              0.5555555555555556,
              "#d8576b"
             ],
             [
              0.6666666666666666,
              "#ed7953"
             ],
             [
              0.7777777777777778,
              "#fb9f3a"
             ],
             [
              0.8888888888888888,
              "#fdca26"
             ],
             [
              1,
              "#f0f921"
             ]
            ],
            "type": "heatmapgl"
           }
          ],
          "histogram": [
           {
            "marker": {
             "pattern": {
              "fillmode": "overlay",
              "size": 10,
              "solidity": 0.2
             }
            },
            "type": "histogram"
           }
          ],
          "histogram2d": [
           {
            "colorbar": {
             "outlinewidth": 0,
             "ticks": ""
            },
            "colorscale": [
             [
              0,
              "#0d0887"
             ],
             [
              0.1111111111111111,
              "#46039f"
             ],
             [
              0.2222222222222222,
              "#7201a8"
             ],
             [
              0.3333333333333333,
              "#9c179e"
             ],
             [
              0.4444444444444444,
              "#bd3786"
             ],
             [
              0.5555555555555556,
              "#d8576b"
             ],
             [
              0.6666666666666666,
              "#ed7953"
             ],
             [
              0.7777777777777778,
              "#fb9f3a"
             ],
             [
              0.8888888888888888,
              "#fdca26"
             ],
             [
              1,
              "#f0f921"
             ]
            ],
            "type": "histogram2d"
           }
          ],
          "histogram2dcontour": [
           {
            "colorbar": {
             "outlinewidth": 0,
             "ticks": ""
            },
            "colorscale": [
             [
              0,
              "#0d0887"
             ],
             [
              0.1111111111111111,
              "#46039f"
             ],
             [
              0.2222222222222222,
              "#7201a8"
             ],
             [
              0.3333333333333333,
              "#9c179e"
             ],
             [
              0.4444444444444444,
              "#bd3786"
             ],
             [
              0.5555555555555556,
              "#d8576b"
             ],
             [
              0.6666666666666666,
              "#ed7953"
             ],
             [
              0.7777777777777778,
              "#fb9f3a"
             ],
             [
              0.8888888888888888,
              "#fdca26"
             ],
             [
              1,
              "#f0f921"
             ]
            ],
            "type": "histogram2dcontour"
           }
          ],
          "mesh3d": [
           {
            "colorbar": {
             "outlinewidth": 0,
             "ticks": ""
            },
            "type": "mesh3d"
           }
          ],
          "parcoords": [
           {
            "line": {
             "colorbar": {
              "outlinewidth": 0,
              "ticks": ""
             }
            },
            "type": "parcoords"
           }
          ],
          "pie": [
           {
            "automargin": true,
            "type": "pie"
           }
          ],
          "scatter": [
           {
            "fillpattern": {
             "fillmode": "overlay",
             "size": 10,
             "solidity": 0.2
            },
            "type": "scatter"
           }
          ],
          "scatter3d": [
           {
            "line": {
             "colorbar": {
              "outlinewidth": 0,
              "ticks": ""
             }
            },
            "marker": {
             "colorbar": {
              "outlinewidth": 0,
              "ticks": ""
             }
            },
            "type": "scatter3d"
           }
          ],
          "scattercarpet": [
           {
            "marker": {
             "colorbar": {
              "outlinewidth": 0,
              "ticks": ""
             }
            },
            "type": "scattercarpet"
           }
          ],
          "scattergeo": [
           {
            "marker": {
             "colorbar": {
              "outlinewidth": 0,
              "ticks": ""
             }
            },
            "type": "scattergeo"
           }
          ],
          "scattergl": [
           {
            "marker": {
             "colorbar": {
              "outlinewidth": 0,
              "ticks": ""
             }
            },
            "type": "scattergl"
           }
          ],
          "scattermapbox": [
           {
            "marker": {
             "colorbar": {
              "outlinewidth": 0,
              "ticks": ""
             }
            },
            "type": "scattermapbox"
           }
          ],
          "scatterpolar": [
           {
            "marker": {
             "colorbar": {
              "outlinewidth": 0,
              "ticks": ""
             }
            },
            "type": "scatterpolar"
           }
          ],
          "scatterpolargl": [
           {
            "marker": {
             "colorbar": {
              "outlinewidth": 0,
              "ticks": ""
             }
            },
            "type": "scatterpolargl"
           }
          ],
          "scatterternary": [
           {
            "marker": {
             "colorbar": {
              "outlinewidth": 0,
              "ticks": ""
             }
            },
            "type": "scatterternary"
           }
          ],
          "surface": [
           {
            "colorbar": {
             "outlinewidth": 0,
             "ticks": ""
            },
            "colorscale": [
             [
              0,
              "#0d0887"
             ],
             [
              0.1111111111111111,
              "#46039f"
             ],
             [
              0.2222222222222222,
              "#7201a8"
             ],
             [
              0.3333333333333333,
              "#9c179e"
             ],
             [
              0.4444444444444444,
              "#bd3786"
             ],
             [
              0.5555555555555556,
              "#d8576b"
             ],
             [
              0.6666666666666666,
              "#ed7953"
             ],
             [
              0.7777777777777778,
              "#fb9f3a"
             ],
             [
              0.8888888888888888,
              "#fdca26"
             ],
             [
              1,
              "#f0f921"
             ]
            ],
            "type": "surface"
           }
          ],
          "table": [
           {
            "cells": {
             "fill": {
              "color": "#EBF0F8"
             },
             "line": {
              "color": "white"
             }
            },
            "header": {
             "fill": {
              "color": "#C8D4E3"
             },
             "line": {
              "color": "white"
             }
            },
            "type": "table"
           }
          ]
         },
         "layout": {
          "annotationdefaults": {
           "arrowcolor": "#2a3f5f",
           "arrowhead": 0,
           "arrowwidth": 1
          },
          "autotypenumbers": "strict",
          "coloraxis": {
           "colorbar": {
            "outlinewidth": 0,
            "ticks": ""
           }
          },
          "colorscale": {
           "diverging": [
            [
             0,
             "#8e0152"
            ],
            [
             0.1,
             "#c51b7d"
            ],
            [
             0.2,
             "#de77ae"
            ],
            [
             0.3,
             "#f1b6da"
            ],
            [
             0.4,
             "#fde0ef"
            ],
            [
             0.5,
             "#f7f7f7"
            ],
            [
             0.6,
             "#e6f5d0"
            ],
            [
             0.7,
             "#b8e186"
            ],
            [
             0.8,
             "#7fbc41"
            ],
            [
             0.9,
             "#4d9221"
            ],
            [
             1,
             "#276419"
            ]
           ],
           "sequential": [
            [
             0,
             "#0d0887"
            ],
            [
             0.1111111111111111,
             "#46039f"
            ],
            [
             0.2222222222222222,
             "#7201a8"
            ],
            [
             0.3333333333333333,
             "#9c179e"
            ],
            [
             0.4444444444444444,
             "#bd3786"
            ],
            [
             0.5555555555555556,
             "#d8576b"
            ],
            [
             0.6666666666666666,
             "#ed7953"
            ],
            [
             0.7777777777777778,
             "#fb9f3a"
            ],
            [
             0.8888888888888888,
             "#fdca26"
            ],
            [
             1,
             "#f0f921"
            ]
           ],
           "sequentialminus": [
            [
             0,
             "#0d0887"
            ],
            [
             0.1111111111111111,
             "#46039f"
            ],
            [
             0.2222222222222222,
             "#7201a8"
            ],
            [
             0.3333333333333333,
             "#9c179e"
            ],
            [
             0.4444444444444444,
             "#bd3786"
            ],
            [
             0.5555555555555556,
             "#d8576b"
            ],
            [
             0.6666666666666666,
             "#ed7953"
            ],
            [
             0.7777777777777778,
             "#fb9f3a"
            ],
            [
             0.8888888888888888,
             "#fdca26"
            ],
            [
             1,
             "#f0f921"
            ]
           ]
          },
          "colorway": [
           "#636efa",
           "#EF553B",
           "#00cc96",
           "#ab63fa",
           "#FFA15A",
           "#19d3f3",
           "#FF6692",
           "#B6E880",
           "#FF97FF",
           "#FECB52"
          ],
          "font": {
           "color": "#2a3f5f"
          },
          "geo": {
           "bgcolor": "white",
           "lakecolor": "white",
           "landcolor": "#E5ECF6",
           "showlakes": true,
           "showland": true,
           "subunitcolor": "white"
          },
          "hoverlabel": {
           "align": "left"
          },
          "hovermode": "closest",
          "mapbox": {
           "style": "light"
          },
          "paper_bgcolor": "white",
          "plot_bgcolor": "#E5ECF6",
          "polar": {
           "angularaxis": {
            "gridcolor": "white",
            "linecolor": "white",
            "ticks": ""
           },
           "bgcolor": "#E5ECF6",
           "radialaxis": {
            "gridcolor": "white",
            "linecolor": "white",
            "ticks": ""
           }
          },
          "scene": {
           "xaxis": {
            "backgroundcolor": "#E5ECF6",
            "gridcolor": "white",
            "gridwidth": 2,
            "linecolor": "white",
            "showbackground": true,
            "ticks": "",
            "zerolinecolor": "white"
           },
           "yaxis": {
            "backgroundcolor": "#E5ECF6",
            "gridcolor": "white",
            "gridwidth": 2,
            "linecolor": "white",
            "showbackground": true,
            "ticks": "",
            "zerolinecolor": "white"
           },
           "zaxis": {
            "backgroundcolor": "#E5ECF6",
            "gridcolor": "white",
            "gridwidth": 2,
            "linecolor": "white",
            "showbackground": true,
            "ticks": "",
            "zerolinecolor": "white"
           }
          },
          "shapedefaults": {
           "line": {
            "color": "#2a3f5f"
           }
          },
          "ternary": {
           "aaxis": {
            "gridcolor": "white",
            "linecolor": "white",
            "ticks": ""
           },
           "baxis": {
            "gridcolor": "white",
            "linecolor": "white",
            "ticks": ""
           },
           "bgcolor": "#E5ECF6",
           "caxis": {
            "gridcolor": "white",
            "linecolor": "white",
            "ticks": ""
           }
          },
          "title": {
           "x": 0.05
          },
          "xaxis": {
           "automargin": true,
           "gridcolor": "white",
           "linecolor": "white",
           "ticks": "",
           "title": {
            "standoff": 15
           },
           "zerolinecolor": "white",
           "zerolinewidth": 2
          },
          "yaxis": {
           "automargin": true,
           "gridcolor": "white",
           "linecolor": "white",
           "ticks": "",
           "title": {
            "standoff": 15
           },
           "zerolinecolor": "white",
           "zerolinewidth": 2
          }
         }
        },
        "title": {
         "text": "Parallel Coordinate Plot"
        }
       }
      }
     },
     "metadata": {},
     "output_type": "display_data"
    }
   ],
   "source": [
    "from matplotlib import pyplot as plt\n",
    "fig_study = optuna.visualization.plot_parallel_coordinate(study, params=[\"lambda\", \"alpha\",\"colsample_bytree\",\"colsample_bylevel\",\"subsample\",\"learning_rate\",\"n_estimators\",\"max_depth\",\"random_state\",\"min_child_weight\"])\n",
    "fig_study.show()"
   ]
  },
  {
   "cell_type": "code",
   "execution_count": 63,
   "metadata": {},
   "outputs": [
    {
     "name": "stdout",
     "output_type": "stream",
     "text": [
      "Number of finished trials:  100\n",
      "Best trial:\n",
      "  Value:  0.10028135822133977\n",
      "  Params: \n",
      "    lambda: 0.8853639317687356\n",
      "    alpha: 0.7469283203638263\n",
      "    colsample_bytree: 1.0\n",
      "    colsample_bylevel: 0.5\n",
      "    subsample: 0.8\n",
      "    learning_rate: 0.08\n",
      "    n_estimators: 129\n",
      "    max_depth: 15\n",
      "    random_state: 48\n",
      "    min_child_weight: 1\n"
     ]
    }
   ],
   "source": [
    "#evaluate the trial\n",
    "print(\"Number of finished trials: \", len(study.trials))\n",
    "print(\"Best trial:\")\n",
    "trial = study.best_trial\n",
    "print(\"  Value: \", trial.value)\n",
    "print(\"  Params: \")\n",
    "for key, value in trial.params.items():\n",
    "    print(\"    {}: {}\".format(key, value))"
   ]
  },
  {
   "cell_type": "markdown",
   "metadata": {},
   "source": [
    "# fit the XG-Boost"
   ]
  },
  {
   "cell_type": "code",
   "execution_count": 64,
   "metadata": {},
   "outputs": [],
   "source": [
    "from sklearn.model_selection import KFold\n",
    "K = 5 # 5 fold cross validation\n",
    "kf = KFold(n_splits = K, random_state = 42, shuffle = True)"
   ]
  },
  {
   "cell_type": "code",
   "execution_count": 65,
   "metadata": {},
   "outputs": [
    {
     "name": "stderr",
     "output_type": "stream",
     "text": [
      "100%|██████████| 5/5 [00:01<00:00,  2.95it/s]"
     ]
    },
    {
     "name": "stdout",
     "output_type": "stream",
     "text": [
      "0.09971808568987056\n"
     ]
    },
    {
     "name": "stderr",
     "output_type": "stream",
     "text": [
      "\n"
     ]
    }
   ],
   "source": [
    "# Let us make predictions for each of the 5 models and find mean \n",
    "# of those predictions\n",
    "\n",
    "from tqdm import tqdm\n",
    "train = np.array(compressed_dataset_X_train)\n",
    "target_train = np.array(y_train)\n",
    "\n",
    "test = np.array(compressed_dataset_X_test)\n",
    "# target_train = df_train['congestion'].values\n",
    "\n",
    "test_preds = np.zeros((len(test)))\n",
    "oof_preds = np.zeros((len(train)))\n",
    "for train_index, val_index in tqdm(kf.split(compressed_dataset_X_train), total=5):\n",
    "    train_X, valid_X = train[train_index], train[val_index]\n",
    "    train_y, valid_y = target_train[train_index], target_train[val_index]\n",
    "    xgb_params = study.best_trial.params\n",
    "    model = xgb.XGBRegressor(**xgb_params)\n",
    "    model.fit(train_X, train_y,eval_set=[(valid_X,valid_y)],early_stopping_rounds=100,verbose=False)\n",
    "    # for train accuracy\n",
    "    preds = model.predict(valid_X)\n",
    "    oof_preds[val_index] = preds\n",
    "    # for test accuracy\n",
    "    preds = model.predict(test)\n",
    "    test_preds += (preds)/5\n",
    "print(np.abs(oof_preds-target_train).mean())"
   ]
  },
  {
   "cell_type": "code",
   "execution_count": 66,
   "metadata": {},
   "outputs": [],
   "source": [
    "target_test = np.array(y_test)"
   ]
  },
  {
   "cell_type": "code",
   "execution_count": 67,
   "metadata": {},
   "outputs": [
    {
     "name": "stdout",
     "output_type": "stream",
     "text": [
      "0.9307228915662651\n"
     ]
    }
   ],
   "source": [
    "from sklearn.metrics import accuracy_score\n",
    "# valid_Acc_SVC=accuracy_score(target_train,oof_preds)\n",
    "# print(valid_Acc_SVC)\n",
    "\n",
    "# another technique for calculate test accuracy\n",
    "test_Acc_SVC=accuracy_score(target_test,test_preds.round())\n",
    "print(test_Acc_SVC)"
   ]
  },
  {
   "cell_type": "code",
   "execution_count": 68,
   "metadata": {},
   "outputs": [
    {
     "name": "stdout",
     "output_type": "stream",
     "text": [
      "0.9483204134366925\n"
     ]
    }
   ],
   "source": [
    "valid_Acc=accuracy_score(target_train,oof_preds.round())\n",
    "print(valid_Acc)"
   ]
  },
  {
   "cell_type": "code",
   "execution_count": 69,
   "metadata": {},
   "outputs": [
    {
     "name": "stdout",
     "output_type": "stream",
     "text": [
      "0.9690215447838055\n"
     ]
    }
   ],
   "source": [
    "train_Acc=model.score(compressed_dataset_X_train,y_train)\n",
    "print(train_Acc)"
   ]
  },
  {
   "cell_type": "code",
   "execution_count": 70,
   "metadata": {},
   "outputs": [
    {
     "name": "stdout",
     "output_type": "stream",
     "text": [
      "0.8973250364738544\n"
     ]
    }
   ],
   "source": [
    "test_Acc=model.score(compressed_dataset_X_test,y_test)\n",
    "print(test_Acc)"
   ]
  }
 ],
 "metadata": {
  "kernelspec": {
   "display_name": "Python 3",
   "language": "python",
   "name": "python3"
  },
  "language_info": {
   "codemirror_mode": {
    "name": "ipython",
    "version": 3
   },
   "file_extension": ".py",
   "mimetype": "text/x-python",
   "name": "python",
   "nbconvert_exporter": "python",
   "pygments_lexer": "ipython3",
   "version": "3.11.4"
  }
 },
 "nbformat": 4,
 "nbformat_minor": 2
}
