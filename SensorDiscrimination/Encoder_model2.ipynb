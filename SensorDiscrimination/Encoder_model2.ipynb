{
 "cells": [
  {
   "cell_type": "code",
   "execution_count": 61,
   "metadata": {},
   "outputs": [],
   "source": [
    "import pandas as pd\n",
    "import numpy as np\n",
    "from sklearn.preprocessing import StandardScaler\n",
    "from sklearn.decomposition import PCA\n",
    "import seaborn as sns\n",
    "import matplotlib.pyplot as plt\n",
    "import optuna\n",
    "from sklearn.model_selection import train_test_split\n",
    "from sklearn.metrics import roc_auc_score\n",
    "import sklearn\n",
    "import random\n",
    "import warnings\n",
    "warnings.filterwarnings(\"ignore\")\n",
    "from sklearn.metrics import mean_absolute_error"
   ]
  },
  {
   "cell_type": "code",
   "execution_count": 62,
   "metadata": {},
   "outputs": [],
   "source": [
    "import warnings\n",
    "warnings.filterwarnings(\"ignore\")\n",
    "from sklearn.metrics import mean_absolute_error"
   ]
  },
  {
   "cell_type": "code",
   "execution_count": 63,
   "metadata": {},
   "outputs": [
    {
     "name": "stdout",
     "output_type": "stream",
     "text": [
      "            F2        F3        F1       F11        F4        F6       F10  \\\n",
      "1979  0.126909  0.913526  0.844662  0.303723  0.834359  0.528587  0.707078   \n",
      "1774  0.827807  0.575370  0.365916  0.233688  0.471977  0.031198  0.275226   \n",
      "28    0.511230  0.531292  0.356317  0.182624  0.417595  0.037246  0.211785   \n",
      "1405  0.174952  0.968540  0.891283  0.986348  0.989855  0.771853  0.933358   \n",
      "691   0.438075  0.786339  0.595886  0.198759  0.642774  0.154673  0.370294   \n",
      "...        ...       ...       ...       ...       ...       ...       ...   \n",
      "106   0.485348  0.479307  0.226053  0.167961  0.405289 -0.029192  0.183603   \n",
      "2187  0.219679  0.837147  0.745544  0.178723  0.741227  0.399395  0.320783   \n",
      "484   0.234439  0.910162  0.753379  0.217021  0.763346  0.414788  0.380836   \n",
      "1701  0.676791  0.869953  0.816063  0.461702  0.852320  0.242606  0.919616   \n",
      "1964  0.138139  0.904273  0.779236  0.296809  0.876601  0.572567  0.718185   \n",
      "\n",
      "            F9        F5      F7     F12       F8  \n",
      "1979  0.331277  0.371097  0.6360  0.7166  0.36250  \n",
      "1774  0.045763  0.041213  0.1990  5.4980  0.14040  \n",
      "28    0.041468  0.098838  0.1721  5.3480  0.09277  \n",
      "1405  0.855916  0.830065  1.2110  4.9630  0.70560  \n",
      "691   0.164428  0.175527  0.2795  5.4100  0.14040  \n",
      "...        ...       ...     ...     ...      ...  \n",
      "106   0.079110  0.059840  0.0708  4.9370  0.17460  \n",
      "2187  0.234518  0.194590  0.3052  5.0870  0.19170  \n",
      "484   0.241195  0.256209  0.5225  4.7400  0.14040  \n",
      "1701  0.434205  0.312055  0.5286  5.4310  0.23680  \n",
      "1964  0.369895  0.325345  0.6226  0.7263  0.35770  \n",
      "\n",
      "[2212 rows x 12 columns]\n",
      "1979    1\n",
      "1774    0\n",
      "28      0\n",
      "1405    0\n",
      "691     1\n",
      "       ..\n",
      "106     0\n",
      "2187    1\n",
      "484     1\n",
      "1701    0\n",
      "1964    1\n",
      "Name: out, Length: 2212, dtype: int64\n"
     ]
    }
   ],
   "source": [
    "filename = 'Dataset/Sensor_Discrimination_normalized.csv'\n",
    "df=pd.read_csv(filename)\n",
    "# shuffle the DataFrame rows\n",
    "df = df.sample(frac = 1) #frac = fraction\n",
    "dataset=df.iloc[:,:-1]\n",
    "label=df.iloc[:,-1]\n",
    "print(dataset)\n",
    "print(label)"
   ]
  },
  {
   "cell_type": "code",
   "execution_count": 64,
   "metadata": {},
   "outputs": [
    {
     "name": "stdout",
     "output_type": "stream",
     "text": [
      "1327\n"
     ]
    }
   ],
   "source": [
    "dataset_arr=dataset.to_numpy()\n",
    "# from NecessaryModules.splitData import split_data\n",
    "X_train,X_comb, y_train,y_comb = train_test_split(dataset_arr, label, test_size=0.4, random_state=42)\n",
    "print(len(X_train))"
   ]
  },
  {
   "cell_type": "code",
   "execution_count": 65,
   "metadata": {},
   "outputs": [
    {
     "name": "stdout",
     "output_type": "stream",
     "text": [
      "442\n"
     ]
    }
   ],
   "source": [
    "X_valid, X_test, y_valid, y_test = train_test_split(X_comb, y_comb, test_size=0.50, random_state=42)\n",
    "print(len(X_valid))"
   ]
  },
  {
   "cell_type": "markdown",
   "metadata": {},
   "source": [
    "# Encoding"
   ]
  },
  {
   "cell_type": "code",
   "execution_count": 66,
   "metadata": {},
   "outputs": [
    {
     "data": {
      "text/plain": [
       "<keras.src.engine.functional.Functional at 0x1ce5525b450>"
      ]
     },
     "execution_count": 66,
     "metadata": {},
     "output_type": "execute_result"
    }
   ],
   "source": [
    "import pickle\n",
    "\n",
    "# Load the encoder model from the saved file\n",
    "with open(\"all_pkl_file/Encoder_3.pkl\", \"rb\") as file: #\"rb\"= read mode\n",
    "    encoder = pickle.load(file)\n",
    "\n",
    "encoder\n"
   ]
  },
  {
   "cell_type": "code",
   "execution_count": 67,
   "metadata": {},
   "outputs": [
    {
     "name": "stdout",
     "output_type": "stream",
     "text": [
      "70/70 [==============================] - 0s 1ms/step\n"
     ]
    },
    {
     "name": "stdout",
     "output_type": "stream",
     "text": [
      "42/42 [==============================] - 0s 977us/step\n",
      "14/14 [==============================] - 0s 893us/step\n",
      "14/14 [==============================] - 0s 802us/step\n"
     ]
    }
   ],
   "source": [
    "encoded_X = pd.DataFrame(encoder.predict(dataset))\n",
    "encoded_X = encoded_X.add_prefix('feature_')\n",
    "\n",
    "encoded_X_train = pd.DataFrame(encoder.predict(X_train))\n",
    "encoded_X_train = encoded_X_train.add_prefix('feature_')\n",
    "\n",
    "encoded_X_valid = pd.DataFrame(encoder.predict(X_valid))\n",
    "encoded_X_valid = encoded_X_valid.add_prefix('feature_')\n",
    "\n",
    "encoded_X_test = pd.DataFrame(encoder.predict(X_test))\n",
    "encoded_X_test = encoded_X_test.add_prefix('feature_')\n",
    "\n"
   ]
  },
  {
   "cell_type": "markdown",
   "metadata": {},
   "source": [
    "# reshape the data "
   ]
  },
  {
   "cell_type": "code",
   "execution_count": 68,
   "metadata": {},
   "outputs": [
    {
     "data": {
      "text/plain": [
       "array([[ 5.34759358e-01,  9.06123822e-01,  8.34084231e-01, ...,\n",
       "         1.91128373e-01,  2.79050000e-01,  2.25020851e-01],\n",
       "       [ 8.20320856e-01,  6.08681023e-01,  3.70421156e-01, ...,\n",
       "         9.48078496e-02,  2.44450000e-01,  1.39449541e-01],\n",
       "       [ 3.91871658e-01,  5.42395693e-01,  2.54456415e-01, ...,\n",
       "         9.48078496e-02,  2.67150000e-01,  1.42535446e-01],\n",
       "       ...,\n",
       "       [ 4.59037433e-01,  8.59690444e-01,  5.68658178e-01, ...,\n",
       "         2.40556010e-01,  2.67100000e-01,  3.04420350e-01],\n",
       "       [ 2.20534759e-01,  9.88223419e-01,  9.17727718e-01, ...,\n",
       "         4.63614064e-01,  3.36900000e-02,  4.28607173e-01],\n",
       "       [ 3.39465241e-01,  8.21332436e-01,  7.36924584e-01, ...,\n",
       "         1.45707277e-01, -3.66200000e-04,  2.02585488e-01]])"
      ]
     },
     "execution_count": 68,
     "metadata": {},
     "output_type": "execute_result"
    }
   ],
   "source": [
    "from sklearn.preprocessing import MaxAbsScaler\n",
    "\n",
    "scaler = MaxAbsScaler(copy=True).fit(dataset)\n",
    "encoded_X_n=scaler.transform(dataset)\n",
    "encoded_X_train_n=scaler.transform(X_train)\n",
    "encoded_X_valid_n=scaler.transform(X_valid)\n",
    "encoded_X_test_n=scaler.transform(X_test)\n",
    "encoded_X_train_n"
   ]
  },
  {
   "cell_type": "code",
   "execution_count": 69,
   "metadata": {},
   "outputs": [
    {
     "data": {
      "text/plain": [
       "(442, 12)"
      ]
     },
     "execution_count": 69,
     "metadata": {},
     "output_type": "execute_result"
    }
   ],
   "source": [
    "encoded_X_valid_n.shape"
   ]
  },
  {
   "cell_type": "code",
   "execution_count": 70,
   "metadata": {},
   "outputs": [
    {
     "data": {
      "text/plain": [
       "(1327, 12, 1)"
      ]
     },
     "execution_count": 70,
     "metadata": {},
     "output_type": "execute_result"
    }
   ],
   "source": [
    "X_train_arr=encoded_X_train_n.reshape(encoded_X_train_n.shape[0],encoded_X_train_n.shape[1],1)\n",
    "X_train_arr.shape"
   ]
  },
  {
   "cell_type": "code",
   "execution_count": 71,
   "metadata": {},
   "outputs": [
    {
     "data": {
      "text/plain": [
       "(442, 12, 1)"
      ]
     },
     "execution_count": 71,
     "metadata": {},
     "output_type": "execute_result"
    }
   ],
   "source": [
    "# X_valid_arr=compressed_dataset_X_valid.to_numpy()\n",
    "X_valid_arr=encoded_X_valid_n.reshape(encoded_X_valid_n.shape[0],encoded_X_valid_n.shape[1],1)\n",
    "X_valid_arr.shape"
   ]
  },
  {
   "cell_type": "code",
   "execution_count": 72,
   "metadata": {},
   "outputs": [
    {
     "data": {
      "text/plain": [
       "(443, 12, 1)"
      ]
     },
     "execution_count": 72,
     "metadata": {},
     "output_type": "execute_result"
    }
   ],
   "source": [
    "X_test_arr=encoded_X_test_n.reshape(encoded_X_test_n.shape[0],encoded_X_test_n.shape[1],1)\n",
    "X_test_arr.shape"
   ]
  },
  {
   "cell_type": "code",
   "execution_count": 73,
   "metadata": {},
   "outputs": [],
   "source": [
    "# for \"y\"\n",
    "\n",
    "y_train_arr=np.array(y_train)\n",
    "y_train_arr=y_train_arr.reshape(y_train_arr.shape[0],1)\n",
    "\n",
    "y_valid_arr=np.array(y_valid)\n",
    "y_valid_arr=y_valid_arr.reshape(y_valid_arr.shape[0],1)\n",
    "\n",
    "y_test_arr=np.array(y_test)\n",
    "y_test_arr=y_test_arr.reshape(y_test_arr.shape[0],1)"
   ]
  },
  {
   "cell_type": "code",
   "execution_count": 74,
   "metadata": {},
   "outputs": [
    {
     "data": {
      "text/plain": [
       "(443, 1)"
      ]
     },
     "execution_count": 74,
     "metadata": {},
     "output_type": "execute_result"
    }
   ],
   "source": [
    "y_test_arr.shape"
   ]
  },
  {
   "cell_type": "markdown",
   "metadata": {},
   "source": [
    "# one hot encode"
   ]
  },
  {
   "cell_type": "code",
   "execution_count": 75,
   "metadata": {},
   "outputs": [],
   "source": [
    "from keras.utils import to_categorical\n",
    "# one hot encoding\n",
    "y_train_arr = to_categorical(y_train, 3)\n",
    "y_valid_arr = to_categorical(y_valid, 3)\n",
    "y_test_arr = to_categorical(y_test, 3)"
   ]
  },
  {
   "cell_type": "code",
   "execution_count": 76,
   "metadata": {},
   "outputs": [
    {
     "data": {
      "text/plain": [
       "array([[1., 0., 0.],\n",
       "       [1., 0., 0.],\n",
       "       [1., 0., 0.],\n",
       "       ...,\n",
       "       [0., 0., 1.],\n",
       "       [1., 0., 0.],\n",
       "       [1., 0., 0.]], dtype=float32)"
      ]
     },
     "execution_count": 76,
     "metadata": {},
     "output_type": "execute_result"
    }
   ],
   "source": [
    "y_test_arr"
   ]
  },
  {
   "cell_type": "markdown",
   "metadata": {},
   "source": [
    "# model"
   ]
  },
  {
   "cell_type": "code",
   "execution_count": 77,
   "metadata": {},
   "outputs": [],
   "source": [
    "\n",
    "# cnn model\n",
    "from numpy import mean\n",
    "from numpy import std\n",
    "from numpy import dstack\n",
    "from pandas import read_csv\n",
    "from matplotlib import pyplot\n",
    "from keras.models import Sequential\n",
    "from keras.layers import Dense\n",
    "from keras.layers import Flatten\n",
    "from keras.layers import Dropout\n",
    "from keras.layers import Conv1D\n",
    "from keras.layers import MaxPooling1D,LSTM\n"
   ]
  },
  {
   "cell_type": "code",
   "execution_count": 78,
   "metadata": {},
   "outputs": [],
   "source": [
    "import tensorflow as tf\n",
    "callback=tf.keras.callbacks.EarlyStopping(\n",
    "    monitor='val_loss',\n",
    "    min_delta=0,\n",
    "    patience=4,\n",
    "    verbose=0,\n",
    "    mode='auto',\n",
    "    baseline=None,\n",
    "    restore_best_weights=True,\n",
    "    start_from_epoch=0\n",
    ")"
   ]
  },
  {
   "cell_type": "code",
   "execution_count": 79,
   "metadata": {},
   "outputs": [],
   "source": [
    "# Global value\n",
    "verbose, epochs, batch_size = 1, 100, 40\n"
   ]
  },
  {
   "cell_type": "code",
   "execution_count": 80,
   "metadata": {},
   "outputs": [],
   "source": [
    "# summarize scores\n",
    "def summarize_results(scores):\n",
    " print(scores)\n",
    " m, s = mean(scores), std(scores)\n",
    " print('Test Accuracy: %.3f%% (+/-%.3f)' % (m, s))\n",
    " "
   ]
  },
  {
   "cell_type": "markdown",
   "metadata": {},
   "source": [
    "# Accuracy measure"
   ]
  },
  {
   "cell_type": "markdown",
   "metadata": {},
   "source": [
    "**tunned model**"
   ]
  },
  {
   "cell_type": "code",
   "execution_count": 81,
   "metadata": {},
   "outputs": [],
   "source": [
    "# fit and evaluate a model\n",
    "import optuna\n",
    "from matplotlib import pyplot as plt\n",
    "\n",
    "def optimize_model2(trainX, trainy,validX,validy):\n",
    "    n_timesteps, n_features, n_outputs = trainX.shape[1], trainX.shape[2], 3\n",
    "    def objective_model2(trial):\n",
    "    # Define hyperparameters to be tuned\n",
    "     \n",
    "     filters = trial.suggest_int('filters', 32, 128)\n",
    "    #  kernel_size = trial.suggest_int('kernel_size', 2, 5)\n",
    "     dropout_rate = trial.suggest_float('dropout_rate', 0.1, 0.5)\n",
    "    #  dense_units = trial.suggest_int('dense_units', 50, 200)\n",
    "    #  pool_size=trial.suggest_int('pool_size',2,4)\n",
    "     \n",
    "     \n",
    "     # Build the CNN model\n",
    "     model = Sequential()\n",
    "     model.add(Conv1D(filters=filters, kernel_size=3, activation='relu', input_shape=(n_timesteps, n_features)))\n",
    "    #  model.add(MaxPooling1D(pool_size=pool_size))\n",
    "     model.add(LSTM(units=filters)) # remember the important features\n",
    "     model.add(Dense(100, activation='relu'))\n",
    "     model.add(Dense(filters, activation='relu')) \n",
    "     model.add(Dropout(dropout_rate))#for regularization\n",
    "     model.add(Dense(n_outputs, activation='softmax'))\n",
    " \n",
    "     # Compile the model\n",
    "     model.compile(loss='categorical_crossentropy', optimizer='adam', metrics=['accuracy'])\n",
    " \n",
    "     # Fit the model\n",
    "     history = model.fit(trainX, trainy, validation_data=(validX, validy), epochs=epochs,callbacks=[callback],batch_size=batch_size, verbose=verbose)\n",
    "    \n",
    "    # Return the validation accuracy as the objective value\n",
    "     return history.history['val_accuracy'][-1]\n",
    "    study = optuna.create_study(direction='maximize')\n",
    "    study.optimize(objective_model2, n_trials= 10, \n",
    "                   #timeout=600\n",
    "                   )#The maximum time (in seconds) allowed for the optimization process to run.\n",
    "    # Get the best hyperparameters\n",
    "    best_params = study.best_params\n",
    "    print(\"Best Hyperparameters:\", best_params)\n",
    "   \n",
    "\n",
    "    return best_params\n",
    " \n",
    "\n"
   ]
  },
  {
   "cell_type": "code",
   "execution_count": 82,
   "metadata": {},
   "outputs": [
    {
     "name": "stderr",
     "output_type": "stream",
     "text": [
      "[I 2024-02-12 16:02:01,448] A new study created in memory with name: no-name-6801af5c-ae1f-4482-8bd9-9d6b26ffa297\n"
     ]
    },
    {
     "name": "stdout",
     "output_type": "stream",
     "text": [
      "Epoch 1/100\n",
      "34/34 [==============================] - 3s 27ms/step - loss: 1.0746 - accuracy: 0.4205 - val_loss: 1.0294 - val_accuracy: 0.4367\n",
      "Epoch 2/100\n",
      "34/34 [==============================] - 0s 14ms/step - loss: 0.9227 - accuracy: 0.5049 - val_loss: 0.7979 - val_accuracy: 0.5837\n",
      "Epoch 3/100\n",
      "34/34 [==============================] - 0s 13ms/step - loss: 0.7077 - accuracy: 0.6541 - val_loss: 0.7032 - val_accuracy: 0.6267\n",
      "Epoch 4/100\n",
      "34/34 [==============================] - 0s 13ms/step - loss: 0.5765 - accuracy: 0.7129 - val_loss: 0.5694 - val_accuracy: 0.7036\n",
      "Epoch 5/100\n",
      "34/34 [==============================] - 0s 12ms/step - loss: 0.4981 - accuracy: 0.7573 - val_loss: 0.4942 - val_accuracy: 0.7421\n",
      "Epoch 6/100\n",
      "34/34 [==============================] - 0s 13ms/step - loss: 0.4646 - accuracy: 0.7694 - val_loss: 0.4560 - val_accuracy: 0.7579\n",
      "Epoch 7/100\n",
      "34/34 [==============================] - 0s 13ms/step - loss: 0.4181 - accuracy: 0.7747 - val_loss: 0.4463 - val_accuracy: 0.7805\n",
      "Epoch 8/100\n",
      "34/34 [==============================] - 0s 13ms/step - loss: 0.4562 - accuracy: 0.7626 - val_loss: 0.5057 - val_accuracy: 0.7602\n",
      "Epoch 9/100\n",
      "34/34 [==============================] - 0s 12ms/step - loss: 0.3919 - accuracy: 0.7928 - val_loss: 0.3698 - val_accuracy: 0.8213\n",
      "Epoch 10/100\n",
      "34/34 [==============================] - 0s 13ms/step - loss: 0.4422 - accuracy: 0.7769 - val_loss: 0.3872 - val_accuracy: 0.8167\n",
      "Epoch 11/100\n",
      "34/34 [==============================] - 0s 13ms/step - loss: 0.3383 - accuracy: 0.8485 - val_loss: 0.3205 - val_accuracy: 0.8620\n",
      "Epoch 12/100\n",
      "34/34 [==============================] - 0s 13ms/step - loss: 0.2968 - accuracy: 0.8719 - val_loss: 0.2960 - val_accuracy: 0.8710\n",
      "Epoch 13/100\n",
      "34/34 [==============================] - 0s 13ms/step - loss: 0.2826 - accuracy: 0.8990 - val_loss: 0.4299 - val_accuracy: 0.8258\n",
      "Epoch 14/100\n",
      "34/34 [==============================] - 0s 12ms/step - loss: 0.2584 - accuracy: 0.9066 - val_loss: 0.1983 - val_accuracy: 0.9344\n",
      "Epoch 15/100\n",
      "34/34 [==============================] - 0s 12ms/step - loss: 0.2024 - accuracy: 0.9292 - val_loss: 0.2457 - val_accuracy: 0.9163\n",
      "Epoch 16/100\n",
      "34/34 [==============================] - 0s 12ms/step - loss: 0.2495 - accuracy: 0.9141 - val_loss: 0.1703 - val_accuracy: 0.9480\n",
      "Epoch 17/100\n",
      "34/34 [==============================] - 0s 12ms/step - loss: 0.2120 - accuracy: 0.9231 - val_loss: 0.1593 - val_accuracy: 0.9412\n",
      "Epoch 18/100\n",
      "34/34 [==============================] - 0s 12ms/step - loss: 0.1486 - accuracy: 0.9503 - val_loss: 0.1714 - val_accuracy: 0.9367\n",
      "Epoch 19/100\n",
      "34/34 [==============================] - 0s 12ms/step - loss: 0.1304 - accuracy: 0.9563 - val_loss: 0.2363 - val_accuracy: 0.9027\n",
      "Epoch 20/100\n",
      "34/34 [==============================] - 0s 12ms/step - loss: 0.1169 - accuracy: 0.9601 - val_loss: 0.1106 - val_accuracy: 0.9593\n",
      "Epoch 21/100\n",
      "34/34 [==============================] - 0s 12ms/step - loss: 0.1197 - accuracy: 0.9608 - val_loss: 0.1563 - val_accuracy: 0.9457\n",
      "Epoch 22/100\n",
      "34/34 [==============================] - 0s 12ms/step - loss: 0.1271 - accuracy: 0.9563 - val_loss: 0.0896 - val_accuracy: 0.9751\n",
      "Epoch 23/100\n",
      "34/34 [==============================] - 0s 12ms/step - loss: 0.0978 - accuracy: 0.9691 - val_loss: 0.1061 - val_accuracy: 0.9638\n",
      "Epoch 24/100\n",
      "34/34 [==============================] - 0s 11ms/step - loss: 0.1147 - accuracy: 0.9608 - val_loss: 0.1226 - val_accuracy: 0.9615\n",
      "Epoch 25/100\n",
      "34/34 [==============================] - 0s 10ms/step - loss: 0.0943 - accuracy: 0.9676 - val_loss: 0.0711 - val_accuracy: 0.9819\n",
      "Epoch 26/100\n",
      "34/34 [==============================] - 0s 11ms/step - loss: 0.1003 - accuracy: 0.9661 - val_loss: 0.0708 - val_accuracy: 0.9819\n",
      "Epoch 27/100\n",
      "34/34 [==============================] - 0s 13ms/step - loss: 0.0820 - accuracy: 0.9744 - val_loss: 0.1120 - val_accuracy: 0.9615\n",
      "Epoch 28/100\n",
      "34/34 [==============================] - 0s 12ms/step - loss: 0.0753 - accuracy: 0.9736 - val_loss: 0.0908 - val_accuracy: 0.9638\n",
      "Epoch 29/100\n",
      "34/34 [==============================] - 0s 12ms/step - loss: 0.0843 - accuracy: 0.9729 - val_loss: 0.1409 - val_accuracy: 0.9525\n",
      "Epoch 30/100\n",
      "34/34 [==============================] - 0s 13ms/step - loss: 0.1342 - accuracy: 0.9563 - val_loss: 0.2630 - val_accuracy: 0.8891\n"
     ]
    },
    {
     "name": "stderr",
     "output_type": "stream",
     "text": [
      "[I 2024-02-12 16:02:17,145] Trial 0 finished with value: 0.889140248298645 and parameters: {'filters': 86, 'dropout_rate': 0.41525430036380906}. Best is trial 0 with value: 0.889140248298645.\n"
     ]
    },
    {
     "name": "stdout",
     "output_type": "stream",
     "text": [
      "Epoch 1/100\n",
      "34/34 [==============================] - 3s 27ms/step - loss: 1.0682 - accuracy: 0.4197 - val_loss: 1.0168 - val_accuracy: 0.4434\n",
      "Epoch 2/100\n",
      "34/34 [==============================] - 0s 14ms/step - loss: 0.8454 - accuracy: 0.5554 - val_loss: 0.7779 - val_accuracy: 0.6199\n",
      "Epoch 3/100\n",
      "34/34 [==============================] - 0s 13ms/step - loss: 0.5820 - accuracy: 0.7076 - val_loss: 0.5687 - val_accuracy: 0.7262\n",
      "Epoch 4/100\n",
      "34/34 [==============================] - 0s 12ms/step - loss: 0.5147 - accuracy: 0.7460 - val_loss: 0.5843 - val_accuracy: 0.6765\n",
      "Epoch 5/100\n",
      "34/34 [==============================] - 1s 16ms/step - loss: 0.5011 - accuracy: 0.7378 - val_loss: 0.4813 - val_accuracy: 0.7692\n",
      "Epoch 6/100\n",
      "34/34 [==============================] - 0s 12ms/step - loss: 0.4613 - accuracy: 0.7807 - val_loss: 0.7729 - val_accuracy: 0.6991\n",
      "Epoch 7/100\n",
      "34/34 [==============================] - 0s 13ms/step - loss: 0.4151 - accuracy: 0.7905 - val_loss: 0.4624 - val_accuracy: 0.7624\n",
      "Epoch 8/100\n",
      "34/34 [==============================] - 0s 13ms/step - loss: 0.4238 - accuracy: 0.7950 - val_loss: 0.4212 - val_accuracy: 0.8281\n",
      "Epoch 9/100\n",
      "34/34 [==============================] - 0s 13ms/step - loss: 0.3653 - accuracy: 0.8312 - val_loss: 0.3644 - val_accuracy: 0.8258\n",
      "Epoch 10/100\n",
      "34/34 [==============================] - 0s 13ms/step - loss: 0.3028 - accuracy: 0.8659 - val_loss: 0.3689 - val_accuracy: 0.8281\n",
      "Epoch 11/100\n",
      "34/34 [==============================] - 1s 15ms/step - loss: 0.2425 - accuracy: 0.9118 - val_loss: 0.1921 - val_accuracy: 0.9457\n",
      "Epoch 12/100\n",
      "34/34 [==============================] - 0s 14ms/step - loss: 0.2402 - accuracy: 0.9043 - val_loss: 0.2253 - val_accuracy: 0.9208\n",
      "Epoch 13/100\n",
      "34/34 [==============================] - 0s 13ms/step - loss: 0.2601 - accuracy: 0.9043 - val_loss: 0.3285 - val_accuracy: 0.8462\n",
      "Epoch 14/100\n",
      "34/34 [==============================] - 0s 13ms/step - loss: 0.1585 - accuracy: 0.9465 - val_loss: 0.2154 - val_accuracy: 0.9344\n",
      "Epoch 15/100\n",
      "34/34 [==============================] - 0s 13ms/step - loss: 0.1569 - accuracy: 0.9472 - val_loss: 0.1443 - val_accuracy: 0.9502\n",
      "Epoch 16/100\n",
      "34/34 [==============================] - 0s 12ms/step - loss: 0.1557 - accuracy: 0.9442 - val_loss: 0.1314 - val_accuracy: 0.9570\n",
      "Epoch 17/100\n",
      "34/34 [==============================] - 0s 12ms/step - loss: 0.1374 - accuracy: 0.9601 - val_loss: 0.1011 - val_accuracy: 0.9706\n",
      "Epoch 18/100\n",
      "34/34 [==============================] - 1s 15ms/step - loss: 0.1207 - accuracy: 0.9631 - val_loss: 0.0834 - val_accuracy: 0.9796\n",
      "Epoch 19/100\n",
      "34/34 [==============================] - 0s 14ms/step - loss: 0.1182 - accuracy: 0.9570 - val_loss: 0.1109 - val_accuracy: 0.9683\n",
      "Epoch 20/100\n",
      "34/34 [==============================] - 0s 13ms/step - loss: 0.1056 - accuracy: 0.9676 - val_loss: 0.0874 - val_accuracy: 0.9751\n",
      "Epoch 21/100\n",
      "34/34 [==============================] - 0s 13ms/step - loss: 0.1132 - accuracy: 0.9601 - val_loss: 0.0877 - val_accuracy: 0.9729\n",
      "Epoch 22/100\n",
      "34/34 [==============================] - 0s 13ms/step - loss: 0.1222 - accuracy: 0.9578 - val_loss: 0.0838 - val_accuracy: 0.9774\n"
     ]
    },
    {
     "name": "stderr",
     "output_type": "stream",
     "text": [
      "[I 2024-02-12 16:02:29,953] Trial 1 finished with value: 0.9773755669593811 and parameters: {'filters': 104, 'dropout_rate': 0.42914653679935755}. Best is trial 1 with value: 0.9773755669593811.\n"
     ]
    },
    {
     "name": "stdout",
     "output_type": "stream",
     "text": [
      "Epoch 1/100\n",
      "34/34 [==============================] - 3s 23ms/step - loss: 1.0720 - accuracy: 0.4235 - val_loss: 1.0348 - val_accuracy: 0.4367\n",
      "Epoch 2/100\n",
      "34/34 [==============================] - 0s 8ms/step - loss: 0.9729 - accuracy: 0.4635 - val_loss: 0.8700 - val_accuracy: 0.5362\n",
      "Epoch 3/100\n",
      "34/34 [==============================] - 0s 8ms/step - loss: 0.7541 - accuracy: 0.6368 - val_loss: 0.6938 - val_accuracy: 0.6448\n",
      "Epoch 4/100\n",
      "34/34 [==============================] - 0s 8ms/step - loss: 0.6242 - accuracy: 0.7257 - val_loss: 0.5857 - val_accuracy: 0.7376\n",
      "Epoch 5/100\n",
      "34/34 [==============================] - 0s 8ms/step - loss: 0.5623 - accuracy: 0.7687 - val_loss: 0.7009 - val_accuracy: 0.7172\n",
      "Epoch 6/100\n",
      "34/34 [==============================] - 0s 8ms/step - loss: 0.5377 - accuracy: 0.7935 - val_loss: 0.4924 - val_accuracy: 0.8032\n",
      "Epoch 7/100\n",
      "34/34 [==============================] - 0s 8ms/step - loss: 0.4412 - accuracy: 0.8267 - val_loss: 0.4538 - val_accuracy: 0.8054\n",
      "Epoch 8/100\n",
      "34/34 [==============================] - 0s 8ms/step - loss: 0.3985 - accuracy: 0.8531 - val_loss: 0.3668 - val_accuracy: 0.8575\n",
      "Epoch 9/100\n",
      "34/34 [==============================] - 0s 8ms/step - loss: 0.3178 - accuracy: 0.8832 - val_loss: 0.3752 - val_accuracy: 0.8462\n",
      "Epoch 10/100\n",
      "34/34 [==============================] - 0s 8ms/step - loss: 0.3248 - accuracy: 0.8862 - val_loss: 0.2703 - val_accuracy: 0.8959\n",
      "Epoch 11/100\n",
      "34/34 [==============================] - 0s 8ms/step - loss: 0.2658 - accuracy: 0.9013 - val_loss: 0.2326 - val_accuracy: 0.9050\n",
      "Epoch 12/100\n",
      "34/34 [==============================] - 0s 11ms/step - loss: 0.2080 - accuracy: 0.9126 - val_loss: 0.2399 - val_accuracy: 0.8914\n",
      "Epoch 13/100\n",
      "34/34 [==============================] - 0s 9ms/step - loss: 0.2153 - accuracy: 0.9081 - val_loss: 0.1587 - val_accuracy: 0.9299\n",
      "Epoch 14/100\n",
      "34/34 [==============================] - 0s 8ms/step - loss: 0.1620 - accuracy: 0.9329 - val_loss: 0.1497 - val_accuracy: 0.9253\n",
      "Epoch 15/100\n",
      "34/34 [==============================] - 0s 9ms/step - loss: 0.1889 - accuracy: 0.9292 - val_loss: 0.1325 - val_accuracy: 0.9751\n",
      "Epoch 16/100\n",
      "34/34 [==============================] - 0s 8ms/step - loss: 0.1535 - accuracy: 0.9518 - val_loss: 0.3379 - val_accuracy: 0.8914\n",
      "Epoch 17/100\n",
      "34/34 [==============================] - 0s 8ms/step - loss: 0.3545 - accuracy: 0.8824 - val_loss: 0.1780 - val_accuracy: 0.9457\n",
      "Epoch 18/100\n",
      "34/34 [==============================] - 0s 8ms/step - loss: 0.1668 - accuracy: 0.9442 - val_loss: 0.1333 - val_accuracy: 0.9502\n",
      "Epoch 19/100\n",
      "34/34 [==============================] - 0s 8ms/step - loss: 0.1241 - accuracy: 0.9601 - val_loss: 0.1124 - val_accuracy: 0.9706\n",
      "Epoch 20/100\n",
      "34/34 [==============================] - 0s 8ms/step - loss: 0.1099 - accuracy: 0.9714 - val_loss: 0.2100 - val_accuracy: 0.9140\n",
      "Epoch 21/100\n",
      "34/34 [==============================] - 0s 8ms/step - loss: 0.1540 - accuracy: 0.9465 - val_loss: 0.1211 - val_accuracy: 0.9638\n",
      "Epoch 22/100\n",
      "34/34 [==============================] - 0s 8ms/step - loss: 0.1272 - accuracy: 0.9548 - val_loss: 0.1152 - val_accuracy: 0.9683\n",
      "Epoch 23/100\n",
      "34/34 [==============================] - 0s 8ms/step - loss: 0.1153 - accuracy: 0.9601 - val_loss: 0.0781 - val_accuracy: 0.9796\n",
      "Epoch 24/100\n",
      "34/34 [==============================] - 0s 8ms/step - loss: 0.1236 - accuracy: 0.9555 - val_loss: 0.1944 - val_accuracy: 0.9163\n",
      "Epoch 25/100\n",
      "34/34 [==============================] - 0s 8ms/step - loss: 0.1229 - accuracy: 0.9570 - val_loss: 0.0702 - val_accuracy: 0.9887\n",
      "Epoch 26/100\n",
      "34/34 [==============================] - 0s 8ms/step - loss: 0.1025 - accuracy: 0.9683 - val_loss: 0.0740 - val_accuracy: 0.9887\n",
      "Epoch 27/100\n",
      "34/34 [==============================] - 0s 8ms/step - loss: 0.0849 - accuracy: 0.9714 - val_loss: 0.0729 - val_accuracy: 0.9774\n",
      "Epoch 28/100\n",
      "34/34 [==============================] - 0s 8ms/step - loss: 0.0839 - accuracy: 0.9766 - val_loss: 0.0727 - val_accuracy: 0.9819\n",
      "Epoch 29/100\n",
      "34/34 [==============================] - 0s 8ms/step - loss: 0.0850 - accuracy: 0.9691 - val_loss: 0.0716 - val_accuracy: 0.9864\n"
     ]
    },
    {
     "name": "stderr",
     "output_type": "stream",
     "text": [
      "[I 2024-02-12 16:02:41,075] Trial 2 finished with value: 0.9864253401756287 and parameters: {'filters': 47, 'dropout_rate': 0.16735527524819632}. Best is trial 2 with value: 0.9864253401756287.\n"
     ]
    },
    {
     "name": "stdout",
     "output_type": "stream",
     "text": [
      "Epoch 1/100\n",
      "34/34 [==============================] - 3s 22ms/step - loss: 1.0825 - accuracy: 0.4288 - val_loss: 1.0645 - val_accuracy: 0.4367\n",
      "Epoch 2/100\n",
      "34/34 [==============================] - 0s 8ms/step - loss: 1.0290 - accuracy: 0.4393 - val_loss: 0.9636 - val_accuracy: 0.5158\n",
      "Epoch 3/100\n",
      "34/34 [==============================] - 0s 9ms/step - loss: 0.8489 - accuracy: 0.5682 - val_loss: 0.7586 - val_accuracy: 0.6176\n",
      "Epoch 4/100\n",
      "34/34 [==============================] - 0s 8ms/step - loss: 0.6684 - accuracy: 0.6888 - val_loss: 0.5854 - val_accuracy: 0.6855\n",
      "Epoch 5/100\n",
      "34/34 [==============================] - 0s 9ms/step - loss: 0.6147 - accuracy: 0.7038 - val_loss: 0.5646 - val_accuracy: 0.7353\n",
      "Epoch 6/100\n",
      "34/34 [==============================] - 0s 9ms/step - loss: 0.5359 - accuracy: 0.7370 - val_loss: 1.2184 - val_accuracy: 0.5837\n",
      "Epoch 7/100\n",
      "34/34 [==============================] - 0s 9ms/step - loss: 0.7410 - accuracy: 0.6534 - val_loss: 0.6539 - val_accuracy: 0.7104\n",
      "Epoch 8/100\n",
      "34/34 [==============================] - 0s 8ms/step - loss: 0.5417 - accuracy: 0.7302 - val_loss: 0.5248 - val_accuracy: 0.7059\n",
      "Epoch 9/100\n",
      "34/34 [==============================] - 0s 9ms/step - loss: 0.4945 - accuracy: 0.7468 - val_loss: 0.5291 - val_accuracy: 0.7647\n",
      "Epoch 10/100\n",
      "34/34 [==============================] - 0s 8ms/step - loss: 0.5047 - accuracy: 0.7468 - val_loss: 0.5309 - val_accuracy: 0.7511\n",
      "Epoch 11/100\n",
      "34/34 [==============================] - 0s 8ms/step - loss: 0.4716 - accuracy: 0.7573 - val_loss: 0.4277 - val_accuracy: 0.7557\n",
      "Epoch 12/100\n",
      "34/34 [==============================] - 0s 9ms/step - loss: 0.4230 - accuracy: 0.7732 - val_loss: 0.4035 - val_accuracy: 0.7443\n",
      "Epoch 13/100\n",
      "34/34 [==============================] - 0s 9ms/step - loss: 0.4186 - accuracy: 0.7784 - val_loss: 0.4436 - val_accuracy: 0.7353\n",
      "Epoch 14/100\n",
      "34/34 [==============================] - 0s 9ms/step - loss: 0.4678 - accuracy: 0.7656 - val_loss: 0.4505 - val_accuracy: 0.7534\n",
      "Epoch 15/100\n",
      "34/34 [==============================] - 0s 9ms/step - loss: 0.4099 - accuracy: 0.7830 - val_loss: 0.3872 - val_accuracy: 0.7851\n",
      "Epoch 16/100\n",
      "34/34 [==============================] - 0s 9ms/step - loss: 0.4038 - accuracy: 0.7882 - val_loss: 0.5054 - val_accuracy: 0.7036\n",
      "Epoch 17/100\n",
      "34/34 [==============================] - 0s 9ms/step - loss: 0.4733 - accuracy: 0.7852 - val_loss: 0.3993 - val_accuracy: 0.8688\n",
      "Epoch 18/100\n",
      "34/34 [==============================] - 0s 8ms/step - loss: 0.3767 - accuracy: 0.8448 - val_loss: 0.3676 - val_accuracy: 0.8756\n",
      "Epoch 19/100\n",
      "34/34 [==============================] - 0s 9ms/step - loss: 0.3729 - accuracy: 0.8237 - val_loss: 0.3545 - val_accuracy: 0.8801\n",
      "Epoch 20/100\n",
      "34/34 [==============================] - 0s 9ms/step - loss: 0.3607 - accuracy: 0.8312 - val_loss: 0.3472 - val_accuracy: 0.8846\n",
      "Epoch 21/100\n",
      "34/34 [==============================] - 0s 12ms/step - loss: 0.3493 - accuracy: 0.8606 - val_loss: 0.3589 - val_accuracy: 0.8620\n",
      "Epoch 22/100\n",
      "34/34 [==============================] - 0s 9ms/step - loss: 0.3145 - accuracy: 0.8696 - val_loss: 0.2948 - val_accuracy: 0.9118\n",
      "Epoch 23/100\n",
      "34/34 [==============================] - 0s 9ms/step - loss: 0.3234 - accuracy: 0.8726 - val_loss: 0.4592 - val_accuracy: 0.8122\n",
      "Epoch 24/100\n",
      "34/34 [==============================] - 0s 8ms/step - loss: 0.3359 - accuracy: 0.8628 - val_loss: 0.2779 - val_accuracy: 0.8959\n",
      "Epoch 25/100\n",
      "34/34 [==============================] - 0s 8ms/step - loss: 0.3414 - accuracy: 0.8666 - val_loss: 0.2352 - val_accuracy: 0.9276\n",
      "Epoch 26/100\n",
      "34/34 [==============================] - 0s 8ms/step - loss: 0.2646 - accuracy: 0.9058 - val_loss: 0.2070 - val_accuracy: 0.9389\n",
      "Epoch 27/100\n",
      "34/34 [==============================] - 0s 8ms/step - loss: 0.2661 - accuracy: 0.8968 - val_loss: 0.2159 - val_accuracy: 0.9299\n",
      "Epoch 28/100\n",
      "34/34 [==============================] - 0s 9ms/step - loss: 0.2593 - accuracy: 0.9013 - val_loss: 0.1896 - val_accuracy: 0.9253\n",
      "Epoch 29/100\n",
      "34/34 [==============================] - 0s 9ms/step - loss: 0.2137 - accuracy: 0.9224 - val_loss: 0.1605 - val_accuracy: 0.9457\n",
      "Epoch 30/100\n",
      "34/34 [==============================] - 0s 9ms/step - loss: 0.2280 - accuracy: 0.9194 - val_loss: 0.1750 - val_accuracy: 0.9186\n",
      "Epoch 31/100\n",
      "34/34 [==============================] - 0s 9ms/step - loss: 0.2454 - accuracy: 0.9231 - val_loss: 0.2888 - val_accuracy: 0.8824\n",
      "Epoch 32/100\n",
      "34/34 [==============================] - 0s 9ms/step - loss: 0.2504 - accuracy: 0.9073 - val_loss: 0.2353 - val_accuracy: 0.9186\n",
      "Epoch 33/100\n",
      "34/34 [==============================] - 0s 9ms/step - loss: 0.2146 - accuracy: 0.9261 - val_loss: 0.1277 - val_accuracy: 0.9615\n",
      "Epoch 34/100\n",
      "34/34 [==============================] - 0s 9ms/step - loss: 0.1720 - accuracy: 0.9480 - val_loss: 0.1289 - val_accuracy: 0.9548\n",
      "Epoch 35/100\n",
      "34/34 [==============================] - 0s 9ms/step - loss: 0.1742 - accuracy: 0.9427 - val_loss: 0.1116 - val_accuracy: 0.9593\n",
      "Epoch 36/100\n",
      "34/34 [==============================] - 0s 8ms/step - loss: 0.1651 - accuracy: 0.9488 - val_loss: 0.1013 - val_accuracy: 0.9615\n",
      "Epoch 37/100\n",
      "34/34 [==============================] - 0s 8ms/step - loss: 0.1840 - accuracy: 0.9314 - val_loss: 0.2058 - val_accuracy: 0.9321\n",
      "Epoch 38/100\n",
      "34/34 [==============================] - 0s 9ms/step - loss: 0.1693 - accuracy: 0.9382 - val_loss: 0.1061 - val_accuracy: 0.9638\n",
      "Epoch 39/100\n",
      "34/34 [==============================] - 0s 9ms/step - loss: 0.1554 - accuracy: 0.9495 - val_loss: 0.1254 - val_accuracy: 0.9570\n",
      "Epoch 40/100\n",
      "34/34 [==============================] - 0s 9ms/step - loss: 0.1628 - accuracy: 0.9472 - val_loss: 0.1214 - val_accuracy: 0.9593\n"
     ]
    },
    {
     "name": "stderr",
     "output_type": "stream",
     "text": [
      "[I 2024-02-12 16:02:56,157] Trial 3 finished with value: 0.959276020526886 and parameters: {'filters': 45, 'dropout_rate': 0.4928461329897421}. Best is trial 2 with value: 0.9864253401756287.\n"
     ]
    },
    {
     "name": "stdout",
     "output_type": "stream",
     "text": [
      "Epoch 1/100\n",
      "34/34 [==============================] - 3s 28ms/step - loss: 1.0642 - accuracy: 0.4115 - val_loss: 0.9764 - val_accuracy: 0.4796\n",
      "Epoch 2/100\n",
      "34/34 [==============================] - 0s 14ms/step - loss: 0.7647 - accuracy: 0.6172 - val_loss: 0.7051 - val_accuracy: 0.6199\n",
      "Epoch 3/100\n",
      "34/34 [==============================] - 0s 15ms/step - loss: 0.5703 - accuracy: 0.7438 - val_loss: 0.6368 - val_accuracy: 0.6584\n",
      "Epoch 4/100\n",
      "34/34 [==============================] - 1s 15ms/step - loss: 0.5752 - accuracy: 0.7483 - val_loss: 0.5313 - val_accuracy: 0.7534\n",
      "Epoch 5/100\n",
      "34/34 [==============================] - 0s 15ms/step - loss: 0.4581 - accuracy: 0.7837 - val_loss: 0.4675 - val_accuracy: 0.7964\n",
      "Epoch 6/100\n",
      "34/34 [==============================] - 1s 15ms/step - loss: 0.4192 - accuracy: 0.8018 - val_loss: 0.6906 - val_accuracy: 0.7014\n",
      "Epoch 7/100\n",
      "34/34 [==============================] - 0s 14ms/step - loss: 0.5513 - accuracy: 0.7626 - val_loss: 0.4760 - val_accuracy: 0.7602\n",
      "Epoch 8/100\n",
      "34/34 [==============================] - 0s 13ms/step - loss: 0.3899 - accuracy: 0.8101 - val_loss: 0.3601 - val_accuracy: 0.8190\n",
      "Epoch 9/100\n",
      "34/34 [==============================] - 1s 19ms/step - loss: 0.4172 - accuracy: 0.8056 - val_loss: 0.3442 - val_accuracy: 0.8507\n",
      "Epoch 10/100\n",
      "34/34 [==============================] - 1s 17ms/step - loss: 0.4975 - accuracy: 0.7792 - val_loss: 0.4297 - val_accuracy: 0.7964\n",
      "Epoch 11/100\n",
      "34/34 [==============================] - 0s 15ms/step - loss: 0.3584 - accuracy: 0.8335 - val_loss: 0.3686 - val_accuracy: 0.8416\n",
      "Epoch 12/100\n",
      "34/34 [==============================] - 0s 14ms/step - loss: 0.2850 - accuracy: 0.8824 - val_loss: 0.2453 - val_accuracy: 0.9095\n",
      "Epoch 13/100\n",
      "34/34 [==============================] - 0s 14ms/step - loss: 0.2524 - accuracy: 0.9035 - val_loss: 0.2279 - val_accuracy: 0.9027\n",
      "Epoch 14/100\n",
      "34/34 [==============================] - 0s 13ms/step - loss: 0.2348 - accuracy: 0.9246 - val_loss: 0.2155 - val_accuracy: 0.9299\n",
      "Epoch 15/100\n",
      "34/34 [==============================] - 0s 14ms/step - loss: 0.1515 - accuracy: 0.9548 - val_loss: 0.1500 - val_accuracy: 0.9615\n",
      "Epoch 16/100\n",
      "34/34 [==============================] - 1s 17ms/step - loss: 0.1551 - accuracy: 0.9480 - val_loss: 0.1073 - val_accuracy: 0.9751\n",
      "Epoch 17/100\n",
      "34/34 [==============================] - 1s 15ms/step - loss: 0.1180 - accuracy: 0.9623 - val_loss: 0.0967 - val_accuracy: 0.9729\n",
      "Epoch 18/100\n",
      "34/34 [==============================] - 0s 14ms/step - loss: 0.1086 - accuracy: 0.9593 - val_loss: 0.0968 - val_accuracy: 0.9570\n",
      "Epoch 19/100\n",
      "34/34 [==============================] - 0s 14ms/step - loss: 0.1336 - accuracy: 0.9570 - val_loss: 0.0950 - val_accuracy: 0.9729\n",
      "Epoch 20/100\n",
      "34/34 [==============================] - 0s 13ms/step - loss: 0.0922 - accuracy: 0.9729 - val_loss: 0.0929 - val_accuracy: 0.9751\n",
      "Epoch 21/100\n",
      "34/34 [==============================] - 0s 14ms/step - loss: 0.0983 - accuracy: 0.9601 - val_loss: 0.0997 - val_accuracy: 0.9661\n",
      "Epoch 22/100\n",
      "34/34 [==============================] - 1s 16ms/step - loss: 0.1032 - accuracy: 0.9631 - val_loss: 0.1227 - val_accuracy: 0.9683\n",
      "Epoch 23/100\n",
      "34/34 [==============================] - 1s 16ms/step - loss: 0.1034 - accuracy: 0.9653 - val_loss: 0.0766 - val_accuracy: 0.9729\n",
      "Epoch 24/100\n",
      "34/34 [==============================] - 0s 15ms/step - loss: 0.1147 - accuracy: 0.9570 - val_loss: 0.1111 - val_accuracy: 0.9729\n",
      "Epoch 25/100\n",
      "34/34 [==============================] - 0s 14ms/step - loss: 0.1654 - accuracy: 0.9382 - val_loss: 0.0956 - val_accuracy: 0.9706\n",
      "Epoch 26/100\n",
      "34/34 [==============================] - 0s 14ms/step - loss: 0.0760 - accuracy: 0.9751 - val_loss: 0.0661 - val_accuracy: 0.9842\n",
      "Epoch 27/100\n",
      "34/34 [==============================] - 0s 13ms/step - loss: 0.0747 - accuracy: 0.9751 - val_loss: 0.3474 - val_accuracy: 0.9050\n",
      "Epoch 28/100\n",
      "34/34 [==============================] - 0s 14ms/step - loss: 0.1039 - accuracy: 0.9676 - val_loss: 0.0936 - val_accuracy: 0.9661\n",
      "Epoch 29/100\n",
      "34/34 [==============================] - 1s 17ms/step - loss: 0.0904 - accuracy: 0.9729 - val_loss: 0.1911 - val_accuracy: 0.9412\n",
      "Epoch 30/100\n",
      "34/34 [==============================] - 1s 15ms/step - loss: 0.1606 - accuracy: 0.9397 - val_loss: 0.1612 - val_accuracy: 0.9367\n"
     ]
    },
    {
     "name": "stderr",
     "output_type": "stream",
     "text": [
      "[I 2024-02-12 16:03:14,287] Trial 4 finished with value: 0.9366515874862671 and parameters: {'filters': 102, 'dropout_rate': 0.24107636485704692}. Best is trial 2 with value: 0.9864253401756287.\n"
     ]
    },
    {
     "name": "stdout",
     "output_type": "stream",
     "text": [
      "Epoch 1/100\n",
      "34/34 [==============================] - 3s 23ms/step - loss: 1.0723 - accuracy: 0.4333 - val_loss: 1.0350 - val_accuracy: 0.4367\n",
      "Epoch 2/100\n",
      "34/34 [==============================] - 0s 11ms/step - loss: 0.9295 - accuracy: 0.5087 - val_loss: 0.8063 - val_accuracy: 0.5973\n",
      "Epoch 3/100\n",
      "34/34 [==============================] - 0s 8ms/step - loss: 0.6910 - accuracy: 0.6616 - val_loss: 0.6413 - val_accuracy: 0.6652\n",
      "Epoch 4/100\n",
      "34/34 [==============================] - 0s 9ms/step - loss: 0.5881 - accuracy: 0.7280 - val_loss: 0.6521 - val_accuracy: 0.6900\n",
      "Epoch 5/100\n",
      "34/34 [==============================] - 0s 9ms/step - loss: 0.5850 - accuracy: 0.7204 - val_loss: 0.5539 - val_accuracy: 0.7647\n",
      "Epoch 6/100\n",
      "34/34 [==============================] - 0s 9ms/step - loss: 0.4964 - accuracy: 0.7664 - val_loss: 0.5105 - val_accuracy: 0.7760\n",
      "Epoch 7/100\n",
      "34/34 [==============================] - 0s 8ms/step - loss: 0.4960 - accuracy: 0.7589 - val_loss: 0.5225 - val_accuracy: 0.7195\n",
      "Epoch 8/100\n",
      "34/34 [==============================] - 0s 8ms/step - loss: 0.5098 - accuracy: 0.7483 - val_loss: 0.5171 - val_accuracy: 0.7647\n",
      "Epoch 9/100\n",
      "34/34 [==============================] - 0s 8ms/step - loss: 0.4593 - accuracy: 0.7641 - val_loss: 0.4481 - val_accuracy: 0.7805\n",
      "Epoch 10/100\n",
      "34/34 [==============================] - 0s 8ms/step - loss: 0.3974 - accuracy: 0.7958 - val_loss: 0.4176 - val_accuracy: 0.7964\n",
      "Epoch 11/100\n",
      "34/34 [==============================] - 0s 8ms/step - loss: 0.3930 - accuracy: 0.7973 - val_loss: 0.3730 - val_accuracy: 0.8145\n",
      "Epoch 12/100\n",
      "34/34 [==============================] - 0s 8ms/step - loss: 0.4259 - accuracy: 0.7769 - val_loss: 0.3718 - val_accuracy: 0.8303\n",
      "Epoch 13/100\n",
      "34/34 [==============================] - 0s 9ms/step - loss: 0.3655 - accuracy: 0.8056 - val_loss: 0.3764 - val_accuracy: 0.7715\n",
      "Epoch 14/100\n",
      "34/34 [==============================] - 0s 9ms/step - loss: 0.3528 - accuracy: 0.8199 - val_loss: 0.3684 - val_accuracy: 0.7964\n",
      "Epoch 15/100\n",
      "34/34 [==============================] - 0s 8ms/step - loss: 0.3378 - accuracy: 0.8176 - val_loss: 0.3350 - val_accuracy: 0.8484\n",
      "Epoch 16/100\n",
      "34/34 [==============================] - 0s 9ms/step - loss: 0.3668 - accuracy: 0.8267 - val_loss: 0.4171 - val_accuracy: 0.8326\n",
      "Epoch 17/100\n",
      "34/34 [==============================] - 0s 8ms/step - loss: 0.3328 - accuracy: 0.8515 - val_loss: 0.3236 - val_accuracy: 0.8371\n",
      "Epoch 18/100\n",
      "34/34 [==============================] - 0s 8ms/step - loss: 0.3287 - accuracy: 0.8342 - val_loss: 0.3119 - val_accuracy: 0.8733\n",
      "Epoch 19/100\n",
      "34/34 [==============================] - 0s 8ms/step - loss: 0.3112 - accuracy: 0.8681 - val_loss: 0.3959 - val_accuracy: 0.8529\n",
      "Epoch 20/100\n",
      "34/34 [==============================] - 0s 8ms/step - loss: 0.3038 - accuracy: 0.8726 - val_loss: 0.3048 - val_accuracy: 0.8778\n",
      "Epoch 21/100\n",
      "34/34 [==============================] - 0s 8ms/step - loss: 0.2836 - accuracy: 0.8847 - val_loss: 0.2877 - val_accuracy: 0.8869\n",
      "Epoch 22/100\n",
      "34/34 [==============================] - 0s 8ms/step - loss: 0.2740 - accuracy: 0.8870 - val_loss: 0.2546 - val_accuracy: 0.8959\n",
      "Epoch 23/100\n",
      "34/34 [==============================] - 0s 8ms/step - loss: 0.2638 - accuracy: 0.8960 - val_loss: 0.2524 - val_accuracy: 0.9005\n",
      "Epoch 24/100\n",
      "34/34 [==============================] - 0s 8ms/step - loss: 0.2499 - accuracy: 0.8892 - val_loss: 0.2436 - val_accuracy: 0.9118\n",
      "Epoch 25/100\n",
      "34/34 [==============================] - 0s 8ms/step - loss: 0.2508 - accuracy: 0.9058 - val_loss: 0.2594 - val_accuracy: 0.9072\n",
      "Epoch 26/100\n",
      "34/34 [==============================] - 0s 8ms/step - loss: 0.2544 - accuracy: 0.8930 - val_loss: 0.2580 - val_accuracy: 0.9140\n",
      "Epoch 27/100\n",
      "34/34 [==============================] - 0s 8ms/step - loss: 0.2278 - accuracy: 0.9043 - val_loss: 0.2065 - val_accuracy: 0.9231\n",
      "Epoch 28/100\n",
      "34/34 [==============================] - 0s 9ms/step - loss: 0.2643 - accuracy: 0.8960 - val_loss: 0.2432 - val_accuracy: 0.9072\n",
      "Epoch 29/100\n",
      "34/34 [==============================] - 0s 8ms/step - loss: 0.2282 - accuracy: 0.9118 - val_loss: 0.2084 - val_accuracy: 0.9050\n",
      "Epoch 30/100\n",
      "34/34 [==============================] - 0s 9ms/step - loss: 0.2163 - accuracy: 0.9209 - val_loss: 0.1764 - val_accuracy: 0.9412\n",
      "Epoch 31/100\n",
      "34/34 [==============================] - 0s 8ms/step - loss: 0.1856 - accuracy: 0.9284 - val_loss: 0.1673 - val_accuracy: 0.9457\n",
      "Epoch 32/100\n",
      "34/34 [==============================] - 0s 8ms/step - loss: 0.1898 - accuracy: 0.9337 - val_loss: 0.1853 - val_accuracy: 0.9480\n",
      "Epoch 33/100\n",
      "34/34 [==============================] - 0s 8ms/step - loss: 0.1798 - accuracy: 0.9299 - val_loss: 0.1755 - val_accuracy: 0.9457\n",
      "Epoch 34/100\n",
      "34/34 [==============================] - 0s 8ms/step - loss: 0.1597 - accuracy: 0.9457 - val_loss: 0.1795 - val_accuracy: 0.9389\n",
      "Epoch 35/100\n",
      "34/34 [==============================] - 0s 8ms/step - loss: 0.1741 - accuracy: 0.9420 - val_loss: 0.1404 - val_accuracy: 0.9570\n",
      "Epoch 36/100\n",
      "34/34 [==============================] - 0s 8ms/step - loss: 0.1447 - accuracy: 0.9555 - val_loss: 0.1222 - val_accuracy: 0.9615\n",
      "Epoch 37/100\n",
      "34/34 [==============================] - 0s 8ms/step - loss: 0.1597 - accuracy: 0.9412 - val_loss: 0.2098 - val_accuracy: 0.9163\n",
      "Epoch 38/100\n",
      "34/34 [==============================] - 0s 9ms/step - loss: 0.1884 - accuracy: 0.9299 - val_loss: 0.1628 - val_accuracy: 0.9570\n",
      "Epoch 39/100\n",
      "34/34 [==============================] - 0s 9ms/step - loss: 0.1284 - accuracy: 0.9661 - val_loss: 0.1131 - val_accuracy: 0.9593\n",
      "Epoch 40/100\n",
      "34/34 [==============================] - 0s 13ms/step - loss: 0.1396 - accuracy: 0.9525 - val_loss: 0.1321 - val_accuracy: 0.9548\n",
      "Epoch 41/100\n",
      "34/34 [==============================] - 0s 10ms/step - loss: 0.1229 - accuracy: 0.9593 - val_loss: 0.1039 - val_accuracy: 0.9729\n",
      "Epoch 42/100\n",
      "34/34 [==============================] - 0s 9ms/step - loss: 0.1067 - accuracy: 0.9699 - val_loss: 0.0933 - val_accuracy: 0.9706\n",
      "Epoch 43/100\n",
      "34/34 [==============================] - 0s 8ms/step - loss: 0.0963 - accuracy: 0.9691 - val_loss: 0.0882 - val_accuracy: 0.9706\n",
      "Epoch 44/100\n",
      "34/34 [==============================] - 0s 8ms/step - loss: 0.1035 - accuracy: 0.9631 - val_loss: 0.1290 - val_accuracy: 0.9661\n",
      "Epoch 45/100\n",
      "34/34 [==============================] - 0s 8ms/step - loss: 0.1128 - accuracy: 0.9631 - val_loss: 0.0946 - val_accuracy: 0.9593\n",
      "Epoch 46/100\n",
      "34/34 [==============================] - 0s 8ms/step - loss: 0.0898 - accuracy: 0.9706 - val_loss: 0.0741 - val_accuracy: 0.9819\n",
      "Epoch 47/100\n",
      "34/34 [==============================] - 0s 9ms/step - loss: 0.0876 - accuracy: 0.9699 - val_loss: 0.0970 - val_accuracy: 0.9525\n",
      "Epoch 48/100\n",
      "34/34 [==============================] - 0s 9ms/step - loss: 0.0853 - accuracy: 0.9706 - val_loss: 0.1129 - val_accuracy: 0.9570\n",
      "Epoch 49/100\n",
      "34/34 [==============================] - 0s 9ms/step - loss: 0.0832 - accuracy: 0.9774 - val_loss: 0.1467 - val_accuracy: 0.9367\n",
      "Epoch 50/100\n",
      "34/34 [==============================] - 0s 9ms/step - loss: 0.1771 - accuracy: 0.9322 - val_loss: 0.1440 - val_accuracy: 0.9457\n"
     ]
    },
    {
     "name": "stderr",
     "output_type": "stream",
     "text": [
      "[I 2024-02-12 16:03:31,883] Trial 5 finished with value: 0.9457013607025146 and parameters: {'filters': 46, 'dropout_rate': 0.3872870354400929}. Best is trial 2 with value: 0.9864253401756287.\n"
     ]
    },
    {
     "name": "stdout",
     "output_type": "stream",
     "text": [
      "Epoch 1/100\n",
      "34/34 [==============================] - 3s 22ms/step - loss: 1.0626 - accuracy: 0.4326 - val_loss: 1.0248 - val_accuracy: 0.4367\n",
      "Epoch 2/100\n",
      "34/34 [==============================] - 0s 7ms/step - loss: 0.9046 - accuracy: 0.4898 - val_loss: 0.7446 - val_accuracy: 0.6629\n",
      "Epoch 3/100\n",
      "34/34 [==============================] - 0s 8ms/step - loss: 0.6705 - accuracy: 0.6707 - val_loss: 0.6428 - val_accuracy: 0.7285\n",
      "Epoch 4/100\n",
      "34/34 [==============================] - 0s 8ms/step - loss: 0.5359 - accuracy: 0.7332 - val_loss: 0.6118 - val_accuracy: 0.7376\n",
      "Epoch 5/100\n",
      "34/34 [==============================] - 0s 8ms/step - loss: 0.5126 - accuracy: 0.7408 - val_loss: 0.4946 - val_accuracy: 0.7873\n",
      "Epoch 6/100\n",
      "34/34 [==============================] - 0s 8ms/step - loss: 0.4347 - accuracy: 0.7815 - val_loss: 0.4670 - val_accuracy: 0.7738\n",
      "Epoch 7/100\n",
      "34/34 [==============================] - 0s 8ms/step - loss: 0.4071 - accuracy: 0.7852 - val_loss: 0.4854 - val_accuracy: 0.7466\n",
      "Epoch 8/100\n",
      "34/34 [==============================] - 0s 8ms/step - loss: 0.4613 - accuracy: 0.7664 - val_loss: 0.4299 - val_accuracy: 0.7919\n",
      "Epoch 9/100\n",
      "34/34 [==============================] - 0s 8ms/step - loss: 0.4181 - accuracy: 0.7875 - val_loss: 0.4276 - val_accuracy: 0.7828\n",
      "Epoch 10/100\n",
      "34/34 [==============================] - 0s 8ms/step - loss: 0.3988 - accuracy: 0.7935 - val_loss: 0.4632 - val_accuracy: 0.7647\n",
      "Epoch 11/100\n",
      "34/34 [==============================] - 0s 8ms/step - loss: 0.3714 - accuracy: 0.8003 - val_loss: 0.4082 - val_accuracy: 0.7986\n",
      "Epoch 12/100\n",
      "34/34 [==============================] - 0s 8ms/step - loss: 0.3731 - accuracy: 0.8086 - val_loss: 0.4319 - val_accuracy: 0.8100\n",
      "Epoch 13/100\n",
      "34/34 [==============================] - 0s 7ms/step - loss: 0.3694 - accuracy: 0.8109 - val_loss: 0.3741 - val_accuracy: 0.8167\n",
      "Epoch 14/100\n",
      "34/34 [==============================] - 0s 8ms/step - loss: 0.3673 - accuracy: 0.8387 - val_loss: 0.3471 - val_accuracy: 0.8394\n",
      "Epoch 15/100\n",
      "34/34 [==============================] - 0s 8ms/step - loss: 0.3588 - accuracy: 0.8237 - val_loss: 0.4376 - val_accuracy: 0.7647\n",
      "Epoch 16/100\n",
      "34/34 [==============================] - 0s 8ms/step - loss: 0.3428 - accuracy: 0.8523 - val_loss: 0.3399 - val_accuracy: 0.8507\n",
      "Epoch 17/100\n",
      "34/34 [==============================] - 0s 8ms/step - loss: 0.3556 - accuracy: 0.8531 - val_loss: 0.3039 - val_accuracy: 0.8710\n",
      "Epoch 18/100\n",
      "34/34 [==============================] - 0s 8ms/step - loss: 0.2832 - accuracy: 0.8975 - val_loss: 0.2543 - val_accuracy: 0.8891\n",
      "Epoch 19/100\n",
      "34/34 [==============================] - 0s 8ms/step - loss: 0.2622 - accuracy: 0.9111 - val_loss: 0.2845 - val_accuracy: 0.9050\n",
      "Epoch 20/100\n",
      "34/34 [==============================] - 0s 8ms/step - loss: 0.2376 - accuracy: 0.9118 - val_loss: 0.2149 - val_accuracy: 0.9208\n",
      "Epoch 21/100\n",
      "34/34 [==============================] - 0s 8ms/step - loss: 0.1815 - accuracy: 0.9435 - val_loss: 0.1681 - val_accuracy: 0.9480\n",
      "Epoch 22/100\n",
      "34/34 [==============================] - 0s 8ms/step - loss: 0.1572 - accuracy: 0.9480 - val_loss: 0.2193 - val_accuracy: 0.9434\n",
      "Epoch 23/100\n",
      "34/34 [==============================] - 0s 8ms/step - loss: 0.1664 - accuracy: 0.9397 - val_loss: 0.1333 - val_accuracy: 0.9638\n",
      "Epoch 24/100\n",
      "34/34 [==============================] - 0s 8ms/step - loss: 0.1901 - accuracy: 0.9367 - val_loss: 0.1658 - val_accuracy: 0.9502\n",
      "Epoch 25/100\n",
      "34/34 [==============================] - 0s 8ms/step - loss: 0.1288 - accuracy: 0.9638 - val_loss: 0.1013 - val_accuracy: 0.9683\n",
      "Epoch 26/100\n",
      "34/34 [==============================] - 0s 8ms/step - loss: 0.1245 - accuracy: 0.9601 - val_loss: 0.0934 - val_accuracy: 0.9706\n",
      "Epoch 27/100\n",
      "34/34 [==============================] - 0s 8ms/step - loss: 0.1179 - accuracy: 0.9586 - val_loss: 0.0950 - val_accuracy: 0.9661\n",
      "Epoch 28/100\n",
      "34/34 [==============================] - 0s 8ms/step - loss: 0.0991 - accuracy: 0.9646 - val_loss: 0.1236 - val_accuracy: 0.9570\n",
      "Epoch 29/100\n",
      "34/34 [==============================] - 0s 11ms/step - loss: 0.1444 - accuracy: 0.9450 - val_loss: 0.1145 - val_accuracy: 0.9638\n",
      "Epoch 30/100\n",
      "34/34 [==============================] - 0s 8ms/step - loss: 0.1634 - accuracy: 0.9427 - val_loss: 0.1163 - val_accuracy: 0.9570\n"
     ]
    },
    {
     "name": "stderr",
     "output_type": "stream",
     "text": [
      "[I 2024-02-12 16:03:42,926] Trial 6 finished with value: 0.9570135474205017 and parameters: {'filters': 39, 'dropout_rate': 0.1422012627099743}. Best is trial 2 with value: 0.9864253401756287.\n"
     ]
    },
    {
     "name": "stdout",
     "output_type": "stream",
     "text": [
      "Epoch 1/100\n",
      "34/34 [==============================] - 4s 38ms/step - loss: 1.0638 - accuracy: 0.4137 - val_loss: 1.0143 - val_accuracy: 0.4367\n",
      "Epoch 2/100\n",
      "34/34 [==============================] - 1s 22ms/step - loss: 0.9159 - accuracy: 0.4876 - val_loss: 0.7266 - val_accuracy: 0.7421\n",
      "Epoch 3/100\n",
      "34/34 [==============================] - 1s 23ms/step - loss: 0.6706 - accuracy: 0.6971 - val_loss: 0.5876 - val_accuracy: 0.7262\n",
      "Epoch 4/100\n",
      "34/34 [==============================] - 1s 23ms/step - loss: 0.5063 - accuracy: 0.7536 - val_loss: 0.6508 - val_accuracy: 0.6629\n",
      "Epoch 5/100\n",
      "34/34 [==============================] - 1s 23ms/step - loss: 0.4758 - accuracy: 0.7694 - val_loss: 0.4343 - val_accuracy: 0.7919\n",
      "Epoch 6/100\n",
      "34/34 [==============================] - 1s 21ms/step - loss: 0.4896 - accuracy: 0.7573 - val_loss: 0.5992 - val_accuracy: 0.6742\n",
      "Epoch 7/100\n",
      "34/34 [==============================] - 1s 23ms/step - loss: 0.4118 - accuracy: 0.7890 - val_loss: 0.3822 - val_accuracy: 0.8032\n",
      "Epoch 8/100\n",
      "34/34 [==============================] - 1s 25ms/step - loss: 0.4121 - accuracy: 0.7935 - val_loss: 0.3825 - val_accuracy: 0.8167\n",
      "Epoch 9/100\n",
      "34/34 [==============================] - 1s 23ms/step - loss: 0.3018 - accuracy: 0.8832 - val_loss: 0.2602 - val_accuracy: 0.9027\n",
      "Epoch 10/100\n",
      "34/34 [==============================] - 1s 23ms/step - loss: 0.2334 - accuracy: 0.9156 - val_loss: 0.1740 - val_accuracy: 0.9570\n",
      "Epoch 11/100\n",
      "34/34 [==============================] - 1s 21ms/step - loss: 0.1747 - accuracy: 0.9435 - val_loss: 0.2426 - val_accuracy: 0.9095\n",
      "Epoch 12/100\n",
      "34/34 [==============================] - 1s 22ms/step - loss: 0.2104 - accuracy: 0.9322 - val_loss: 0.2469 - val_accuracy: 0.9118\n",
      "Epoch 13/100\n",
      "34/34 [==============================] - 1s 27ms/step - loss: 0.1754 - accuracy: 0.9337 - val_loss: 0.1292 - val_accuracy: 0.9570\n",
      "Epoch 14/100\n",
      "34/34 [==============================] - 1s 23ms/step - loss: 0.1843 - accuracy: 0.9359 - val_loss: 0.1920 - val_accuracy: 0.9231\n",
      "Epoch 15/100\n",
      "34/34 [==============================] - 1s 21ms/step - loss: 0.1347 - accuracy: 0.9510 - val_loss: 0.1121 - val_accuracy: 0.9593\n",
      "Epoch 16/100\n",
      "34/34 [==============================] - 1s 25ms/step - loss: 0.0950 - accuracy: 0.9691 - val_loss: 0.0820 - val_accuracy: 0.9751\n",
      "Epoch 17/100\n",
      "34/34 [==============================] - 1s 26ms/step - loss: 0.0880 - accuracy: 0.9691 - val_loss: 0.0869 - val_accuracy: 0.9751\n",
      "Epoch 18/100\n",
      "34/34 [==============================] - 1s 24ms/step - loss: 0.1004 - accuracy: 0.9653 - val_loss: 0.0904 - val_accuracy: 0.9796\n",
      "Epoch 19/100\n",
      "34/34 [==============================] - 1s 23ms/step - loss: 0.0944 - accuracy: 0.9661 - val_loss: 0.2834 - val_accuracy: 0.9186\n",
      "Epoch 20/100\n",
      "34/34 [==============================] - 1s 21ms/step - loss: 0.1613 - accuracy: 0.9435 - val_loss: 0.2122 - val_accuracy: 0.9118\n"
     ]
    },
    {
     "name": "stderr",
     "output_type": "stream",
     "text": [
      "[I 2024-02-12 16:04:02,051] Trial 7 finished with value: 0.9117646813392639 and parameters: {'filters': 120, 'dropout_rate': 0.4361329648996156}. Best is trial 2 with value: 0.9864253401756287.\n"
     ]
    },
    {
     "name": "stdout",
     "output_type": "stream",
     "text": [
      "Epoch 1/100\n",
      "34/34 [==============================] - 3s 27ms/step - loss: 1.0662 - accuracy: 0.4250 - val_loss: 1.0188 - val_accuracy: 0.4367\n",
      "Epoch 2/100\n",
      "34/34 [==============================] - 0s 13ms/step - loss: 0.8929 - accuracy: 0.4951 - val_loss: 0.8969 - val_accuracy: 0.4593\n",
      "Epoch 3/100\n",
      "34/34 [==============================] - 0s 14ms/step - loss: 0.6918 - accuracy: 0.6594 - val_loss: 0.5949 - val_accuracy: 0.6471\n",
      "Epoch 4/100\n",
      "34/34 [==============================] - 0s 13ms/step - loss: 0.4979 - accuracy: 0.7347 - val_loss: 0.4752 - val_accuracy: 0.7443\n",
      "Epoch 5/100\n",
      "34/34 [==============================] - 0s 14ms/step - loss: 0.4449 - accuracy: 0.7626 - val_loss: 0.4421 - val_accuracy: 0.7964\n",
      "Epoch 6/100\n",
      "34/34 [==============================] - 0s 13ms/step - loss: 0.3896 - accuracy: 0.7973 - val_loss: 0.4098 - val_accuracy: 0.8281\n",
      "Epoch 7/100\n",
      "34/34 [==============================] - 0s 14ms/step - loss: 0.3721 - accuracy: 0.8116 - val_loss: 0.4613 - val_accuracy: 0.7760\n",
      "Epoch 8/100\n",
      "34/34 [==============================] - 0s 14ms/step - loss: 0.3393 - accuracy: 0.8463 - val_loss: 0.3103 - val_accuracy: 0.8914\n",
      "Epoch 9/100\n",
      "34/34 [==============================] - 0s 13ms/step - loss: 0.3444 - accuracy: 0.8757 - val_loss: 0.2839 - val_accuracy: 0.9140\n",
      "Epoch 10/100\n",
      "34/34 [==============================] - 0s 13ms/step - loss: 0.2861 - accuracy: 0.8945 - val_loss: 0.2836 - val_accuracy: 0.9231\n",
      "Epoch 11/100\n",
      "34/34 [==============================] - 0s 14ms/step - loss: 0.2653 - accuracy: 0.8990 - val_loss: 0.2572 - val_accuracy: 0.8982\n",
      "Epoch 12/100\n",
      "34/34 [==============================] - 0s 12ms/step - loss: 0.2868 - accuracy: 0.8824 - val_loss: 0.2638 - val_accuracy: 0.9072\n",
      "Epoch 13/100\n",
      "34/34 [==============================] - 1s 15ms/step - loss: 0.2030 - accuracy: 0.9344 - val_loss: 0.1634 - val_accuracy: 0.9548\n",
      "Epoch 14/100\n",
      "34/34 [==============================] - 0s 15ms/step - loss: 0.1564 - accuracy: 0.9495 - val_loss: 0.1354 - val_accuracy: 0.9548\n",
      "Epoch 15/100\n",
      "34/34 [==============================] - 0s 14ms/step - loss: 0.1843 - accuracy: 0.9284 - val_loss: 0.1380 - val_accuracy: 0.9638\n",
      "Epoch 16/100\n",
      "34/34 [==============================] - 0s 13ms/step - loss: 0.1419 - accuracy: 0.9472 - val_loss: 0.1622 - val_accuracy: 0.9412\n",
      "Epoch 17/100\n",
      "34/34 [==============================] - 0s 13ms/step - loss: 0.1449 - accuracy: 0.9480 - val_loss: 0.2142 - val_accuracy: 0.9186\n",
      "Epoch 18/100\n",
      "34/34 [==============================] - 0s 15ms/step - loss: 0.1393 - accuracy: 0.9480 - val_loss: 0.1298 - val_accuracy: 0.9570\n",
      "Epoch 19/100\n",
      "34/34 [==============================] - 0s 14ms/step - loss: 0.1144 - accuracy: 0.9631 - val_loss: 0.1685 - val_accuracy: 0.9434\n",
      "Epoch 20/100\n",
      "34/34 [==============================] - 1s 15ms/step - loss: 0.1187 - accuracy: 0.9570 - val_loss: 0.1435 - val_accuracy: 0.9593\n",
      "Epoch 21/100\n",
      "34/34 [==============================] - 0s 14ms/step - loss: 0.1229 - accuracy: 0.9638 - val_loss: 0.1496 - val_accuracy: 0.9457\n",
      "Epoch 22/100\n",
      "34/34 [==============================] - 0s 13ms/step - loss: 0.1025 - accuracy: 0.9631 - val_loss: 0.0827 - val_accuracy: 0.9774\n",
      "Epoch 23/100\n",
      "34/34 [==============================] - 0s 14ms/step - loss: 0.1029 - accuracy: 0.9661 - val_loss: 0.0799 - val_accuracy: 0.9796\n",
      "Epoch 24/100\n",
      "34/34 [==============================] - 0s 12ms/step - loss: 0.0964 - accuracy: 0.9653 - val_loss: 0.0988 - val_accuracy: 0.9683\n",
      "Epoch 25/100\n",
      "34/34 [==============================] - 0s 12ms/step - loss: 0.1445 - accuracy: 0.9488 - val_loss: 0.1074 - val_accuracy: 0.9570\n",
      "Epoch 26/100\n",
      "34/34 [==============================] - 1s 15ms/step - loss: 0.0908 - accuracy: 0.9676 - val_loss: 0.0954 - val_accuracy: 0.9729\n",
      "Epoch 27/100\n",
      "34/34 [==============================] - 1s 16ms/step - loss: 0.1115 - accuracy: 0.9593 - val_loss: 0.0989 - val_accuracy: 0.9638\n"
     ]
    },
    {
     "name": "stderr",
     "output_type": "stream",
     "text": [
      "[I 2024-02-12 16:04:17,622] Trial 8 finished with value: 0.9638009071350098 and parameters: {'filters': 69, 'dropout_rate': 0.23326855045859995}. Best is trial 2 with value: 0.9864253401756287.\n"
     ]
    },
    {
     "name": "stdout",
     "output_type": "stream",
     "text": [
      "Epoch 1/100\n",
      "34/34 [==============================] - 3s 32ms/step - loss: 1.0398 - accuracy: 0.4265 - val_loss: 0.9519 - val_accuracy: 0.4525\n",
      "Epoch 2/100\n",
      "34/34 [==============================] - 1s 17ms/step - loss: 0.7945 - accuracy: 0.5908 - val_loss: 0.8613 - val_accuracy: 0.6403\n",
      "Epoch 3/100\n",
      "34/34 [==============================] - 1s 18ms/step - loss: 0.6827 - accuracy: 0.6677 - val_loss: 0.6197 - val_accuracy: 0.7217\n",
      "Epoch 4/100\n",
      "34/34 [==============================] - 1s 18ms/step - loss: 0.5056 - accuracy: 0.7460 - val_loss: 0.6273 - val_accuracy: 0.6878\n",
      "Epoch 5/100\n",
      "34/34 [==============================] - 1s 18ms/step - loss: 0.5313 - accuracy: 0.7265 - val_loss: 0.4252 - val_accuracy: 0.8009\n",
      "Epoch 6/100\n",
      "34/34 [==============================] - 1s 18ms/step - loss: 0.3770 - accuracy: 0.8101 - val_loss: 0.5627 - val_accuracy: 0.7149\n",
      "Epoch 7/100\n",
      "34/34 [==============================] - 1s 17ms/step - loss: 0.3751 - accuracy: 0.8357 - val_loss: 0.3170 - val_accuracy: 0.8710\n",
      "Epoch 8/100\n",
      "34/34 [==============================] - 1s 21ms/step - loss: 0.3325 - accuracy: 0.8621 - val_loss: 0.3253 - val_accuracy: 0.8371\n",
      "Epoch 9/100\n",
      "34/34 [==============================] - 1s 22ms/step - loss: 0.2786 - accuracy: 0.8832 - val_loss: 0.4037 - val_accuracy: 0.8507\n",
      "Epoch 10/100\n",
      "34/34 [==============================] - 1s 18ms/step - loss: 0.3569 - accuracy: 0.8598 - val_loss: 0.2633 - val_accuracy: 0.9027\n",
      "Epoch 11/100\n",
      "34/34 [==============================] - 1s 16ms/step - loss: 0.2537 - accuracy: 0.9224 - val_loss: 0.2977 - val_accuracy: 0.8982\n",
      "Epoch 12/100\n",
      "34/34 [==============================] - 1s 18ms/step - loss: 0.1953 - accuracy: 0.9292 - val_loss: 0.2152 - val_accuracy: 0.9140\n",
      "Epoch 13/100\n",
      "34/34 [==============================] - 1s 20ms/step - loss: 0.2171 - accuracy: 0.9239 - val_loss: 0.2184 - val_accuracy: 0.9186\n",
      "Epoch 14/100\n",
      "34/34 [==============================] - 1s 18ms/step - loss: 0.1624 - accuracy: 0.9488 - val_loss: 0.1187 - val_accuracy: 0.9661\n",
      "Epoch 15/100\n",
      "34/34 [==============================] - 1s 18ms/step - loss: 0.1012 - accuracy: 0.9661 - val_loss: 0.0902 - val_accuracy: 0.9661\n",
      "Epoch 16/100\n",
      "34/34 [==============================] - 1s 16ms/step - loss: 0.1203 - accuracy: 0.9586 - val_loss: 0.0986 - val_accuracy: 0.9706\n",
      "Epoch 17/100\n",
      "34/34 [==============================] - 1s 19ms/step - loss: 0.1134 - accuracy: 0.9646 - val_loss: 0.1325 - val_accuracy: 0.9638\n",
      "Epoch 18/100\n",
      "34/34 [==============================] - 1s 19ms/step - loss: 0.1196 - accuracy: 0.9533 - val_loss: 0.1979 - val_accuracy: 0.9253\n",
      "Epoch 19/100\n",
      "34/34 [==============================] - 1s 18ms/step - loss: 0.1198 - accuracy: 0.9616 - val_loss: 0.1966 - val_accuracy: 0.9321\n"
     ]
    },
    {
     "name": "stderr",
     "output_type": "stream",
     "text": [
      "[I 2024-02-12 16:04:32,410] Trial 9 finished with value: 0.9321267008781433 and parameters: {'filters': 127, 'dropout_rate': 0.4753125586777608}. Best is trial 2 with value: 0.9864253401756287.\n"
     ]
    },
    {
     "name": "stdout",
     "output_type": "stream",
     "text": [
      "Best Hyperparameters: {'filters': 47, 'dropout_rate': 0.16735527524819632}\n"
     ]
    }
   ],
   "source": [
    "\n",
    "best_params=optimize_model2(X_train_arr, y_train_arr, X_valid_arr, y_valid_arr)"
   ]
  },
  {
   "cell_type": "code",
   "execution_count": 83,
   "metadata": {},
   "outputs": [
    {
     "data": {
      "text/plain": [
       "{'filters': 47, 'dropout_rate': 0.16735527524819632}"
      ]
     },
     "execution_count": 83,
     "metadata": {},
     "output_type": "execute_result"
    }
   ],
   "source": [
    "best_params"
   ]
  },
  {
   "cell_type": "code",
   "execution_count": 84,
   "metadata": {},
   "outputs": [],
   "source": [
    "# fit and evaluate a model\n",
    "def evaluate_model_1(trainX, trainy,validX,validy, testX, testy):\n",
    "#  verbose, epochs, batch_size = 1, 1500, 100\n",
    " n_timesteps, n_features, n_outputs = trainX.shape[1], trainX.shape[2], 3\n",
    " model = Sequential()\n",
    " model.add(Conv1D(filters=best_params['filters'], kernel_size=3, activation='relu', input_shape=(n_timesteps,n_features)))\n",
    "#  model.add(MaxPooling1D(pool_size=best_params['pool_size']))\n",
    " model.add(LSTM(units=best_params['filters']))\n",
    " model.add(Dense(100, activation='relu'))\n",
    " model.add(Dense(best_params['filters'], activation='relu'))\n",
    " model.add(Dropout(best_params['dropout_rate']))\n",
    " model.add(Dense(n_outputs, activation='softmax')) # \"softmax\" for multi-class\n",
    " model.compile(loss='categorical_crossentropy', optimizer='adam', metrics=['accuracy'])\n",
    " # fit network\n",
    " history=model.fit(trainX, trainy, validation_data=(validX, validy), epochs=epochs, batch_size=batch_size,callbacks=[callback], verbose=verbose) \n",
    " # evaluate model\n",
    " _, accuracy = model.evaluate(testX, testy, batch_size=batch_size, verbose=0)\n",
    " # '_,'-->a variable is being used for a specific purpose, but its value is not of interest or not used in the subsequent code.\n",
    " return accuracy,history,model"
   ]
  },
  {
   "cell_type": "code",
   "execution_count": 85,
   "metadata": {},
   "outputs": [
    {
     "name": "stdout",
     "output_type": "stream",
     "text": [
      "Epoch 1/100\n",
      "34/34 [==============================] - 3s 23ms/step - loss: 1.0819 - accuracy: 0.4303 - val_loss: 1.0525 - val_accuracy: 0.4367\n",
      "Epoch 2/100\n",
      "34/34 [==============================] - 0s 8ms/step - loss: 0.9947 - accuracy: 0.4665 - val_loss: 0.8861 - val_accuracy: 0.4751\n",
      "Epoch 3/100\n",
      "34/34 [==============================] - 0s 9ms/step - loss: 0.8324 - accuracy: 0.6134 - val_loss: 0.7377 - val_accuracy: 0.6833\n",
      "Epoch 4/100\n",
      "34/34 [==============================] - 0s 8ms/step - loss: 0.6487 - accuracy: 0.7031 - val_loss: 0.6922 - val_accuracy: 0.6403\n",
      "Epoch 5/100\n",
      "34/34 [==============================] - 0s 9ms/step - loss: 0.5995 - accuracy: 0.7272 - val_loss: 0.5936 - val_accuracy: 0.7624\n",
      "Epoch 6/100\n",
      "34/34 [==============================] - 0s 9ms/step - loss: 0.5235 - accuracy: 0.7656 - val_loss: 0.5759 - val_accuracy: 0.7828\n",
      "Epoch 7/100\n",
      "34/34 [==============================] - 0s 9ms/step - loss: 0.5224 - accuracy: 0.8026 - val_loss: 0.4723 - val_accuracy: 0.7919\n",
      "Epoch 8/100\n",
      "34/34 [==============================] - 0s 9ms/step - loss: 0.4417 - accuracy: 0.8011 - val_loss: 0.4278 - val_accuracy: 0.8100\n",
      "Epoch 9/100\n",
      "34/34 [==============================] - 0s 9ms/step - loss: 0.3540 - accuracy: 0.8598 - val_loss: 0.3535 - val_accuracy: 0.8507\n",
      "Epoch 10/100\n",
      "34/34 [==============================] - 0s 8ms/step - loss: 0.2887 - accuracy: 0.8794 - val_loss: 0.2767 - val_accuracy: 0.8869\n",
      "Epoch 11/100\n",
      "34/34 [==============================] - 0s 8ms/step - loss: 0.3354 - accuracy: 0.8659 - val_loss: 0.2366 - val_accuracy: 0.9027\n",
      "Epoch 12/100\n",
      "34/34 [==============================] - 0s 9ms/step - loss: 0.2450 - accuracy: 0.9073 - val_loss: 0.2264 - val_accuracy: 0.8914\n",
      "Epoch 13/100\n",
      "34/34 [==============================] - 0s 8ms/step - loss: 0.1867 - accuracy: 0.9329 - val_loss: 0.1988 - val_accuracy: 0.9525\n",
      "Epoch 14/100\n",
      "34/34 [==============================] - 0s 8ms/step - loss: 0.1785 - accuracy: 0.9442 - val_loss: 0.1483 - val_accuracy: 0.9615\n",
      "Epoch 15/100\n",
      "34/34 [==============================] - 0s 9ms/step - loss: 0.1703 - accuracy: 0.9435 - val_loss: 0.1452 - val_accuracy: 0.9570\n",
      "Epoch 16/100\n",
      "34/34 [==============================] - 0s 8ms/step - loss: 0.1710 - accuracy: 0.9450 - val_loss: 0.1195 - val_accuracy: 0.9729\n",
      "Epoch 17/100\n",
      "34/34 [==============================] - 0s 8ms/step - loss: 0.1188 - accuracy: 0.9661 - val_loss: 0.1116 - val_accuracy: 0.9683\n",
      "Epoch 18/100\n",
      "34/34 [==============================] - 0s 9ms/step - loss: 0.1194 - accuracy: 0.9623 - val_loss: 0.1040 - val_accuracy: 0.9729\n",
      "Epoch 19/100\n",
      "34/34 [==============================] - 0s 8ms/step - loss: 0.1045 - accuracy: 0.9601 - val_loss: 0.0964 - val_accuracy: 0.9751\n",
      "Epoch 20/100\n",
      "34/34 [==============================] - 0s 8ms/step - loss: 0.1410 - accuracy: 0.9495 - val_loss: 0.1358 - val_accuracy: 0.9615\n",
      "Epoch 21/100\n",
      "34/34 [==============================] - 0s 8ms/step - loss: 0.1284 - accuracy: 0.9586 - val_loss: 0.0996 - val_accuracy: 0.9751\n",
      "Epoch 22/100\n",
      "34/34 [==============================] - 0s 8ms/step - loss: 0.1125 - accuracy: 0.9646 - val_loss: 0.1485 - val_accuracy: 0.9412\n",
      "Epoch 23/100\n",
      "34/34 [==============================] - 0s 8ms/step - loss: 0.1305 - accuracy: 0.9555 - val_loss: 0.0853 - val_accuracy: 0.9796\n",
      "Epoch 24/100\n",
      "34/34 [==============================] - 0s 9ms/step - loss: 0.1271 - accuracy: 0.9525 - val_loss: 0.0962 - val_accuracy: 0.9706\n",
      "Epoch 25/100\n",
      "34/34 [==============================] - 0s 8ms/step - loss: 0.0870 - accuracy: 0.9729 - val_loss: 0.0763 - val_accuracy: 0.9796\n",
      "Epoch 26/100\n",
      "34/34 [==============================] - 0s 8ms/step - loss: 0.0959 - accuracy: 0.9653 - val_loss: 0.0865 - val_accuracy: 0.9796\n",
      "Epoch 27/100\n",
      "34/34 [==============================] - 0s 8ms/step - loss: 0.0924 - accuracy: 0.9653 - val_loss: 0.0884 - val_accuracy: 0.9774\n",
      "Epoch 28/100\n",
      "34/34 [==============================] - 0s 8ms/step - loss: 0.0776 - accuracy: 0.9736 - val_loss: 0.0775 - val_accuracy: 0.9842\n",
      "Epoch 29/100\n",
      "34/34 [==============================] - 0s 8ms/step - loss: 0.0951 - accuracy: 0.9668 - val_loss: 0.0750 - val_accuracy: 0.9774\n",
      "Epoch 30/100\n",
      "34/34 [==============================] - 0s 8ms/step - loss: 0.0932 - accuracy: 0.9676 - val_loss: 0.0820 - val_accuracy: 0.9796\n",
      "Epoch 31/100\n",
      "34/34 [==============================] - 0s 8ms/step - loss: 0.0897 - accuracy: 0.9653 - val_loss: 0.1148 - val_accuracy: 0.9525\n",
      "Epoch 32/100\n",
      "34/34 [==============================] - 0s 8ms/step - loss: 0.1057 - accuracy: 0.9593 - val_loss: 0.1377 - val_accuracy: 0.9593\n",
      "Epoch 33/100\n",
      "34/34 [==============================] - 0s 8ms/step - loss: 0.1052 - accuracy: 0.9593 - val_loss: 0.1491 - val_accuracy: 0.9502\n",
      "99.3228018283844\n",
      "Test Accuracy: 99.323% (+/-0.000)\n"
     ]
    }
   ],
   "source": [
    "\n",
    "score_1,history_1,model_1= evaluate_model_1(X_train_arr, y_train_arr, X_valid_arr, y_valid_arr, X_test_arr, y_test_arr)\n",
    "score_1 = score_1 * 100.0\n",
    "summarize_results(score_1)"
   ]
  },
  {
   "cell_type": "code",
   "execution_count": 86,
   "metadata": {},
   "outputs": [
    {
     "data": {
      "image/png": "[encoded data removed]",
      "text/plain": [
       "<Figure size 640x480 with 1 Axes>"
      ]
     },
     "metadata": {},
     "output_type": "display_data"
    }
   ],
   "source": [
    "# plot loss-curve_2\n",
    "pyplot.plot(history_1.history['loss'], label='training')\n",
    "pyplot.plot(history_1.history['val_loss'], label='validation')\n",
    "plt.xlabel('epoch')\n",
    "plt.ylabel('loss')\n",
    "plt.title('Loss-curve')\n",
    "pyplot.legend()\n",
    "pyplot.show()"
   ]
  },
  {
   "cell_type": "code",
   "execution_count": 87,
   "metadata": {},
   "outputs": [
    {
     "name": "stdout",
     "output_type": "stream",
     "text": [
      "14/14 [==============================] - 1s 3ms/step\n",
      "[[1. 0. 0.]\n",
      " [1. 0. 0.]\n",
      " [1. 0. 0.]\n",
      " ...\n",
      " [0. 0. 1.]\n",
      " [1. 0. 0.]\n",
      " [1. 0. 0.]]\n"
     ]
    },
    {
     "data": {
      "image/png": "[encoded data removed]",
      "text/plain": [
       "<Figure size 640x480 with 2 Axes>"
      ]
     },
     "metadata": {},
     "output_type": "display_data"
    }
   ],
   "source": [
    " #confusion_matrix\n",
    "\n",
    "from sklearn.metrics import ConfusionMatrixDisplay, confusion_matrix\n",
    "\n",
    "\n",
    "predictions=model_1.predict(X_test_arr)\n",
    "print(y_test_arr)\n",
    "\n",
    "\n",
    "for i in range(len(predictions)):\n",
    "    for j in range(len(predictions[0])):\n",
    "        if predictions[i][j]==max(predictions[i]):\n",
    "            predictions[i][j]=1\n",
    "        else: predictions[i][j]=0\n",
    "\n",
    "# reverse one-hot encoding for fit into confusion matrix\n",
    "y_test_cm=y_test_arr.argmax(axis=1)\n",
    "# print(y_test_cm)\n",
    "predictions_cm=predictions.argmax(axis=1)\n",
    "# print(predictions_cm)\n",
    "\n",
    "cm = confusion_matrix(y_test_cm, predictions_cm, labels=[0,1,2])\n",
    "disp = ConfusionMatrixDisplay(confusion_matrix=cm,\n",
    "                            display_labels=[0,1,2])\n",
    "disp.plot()\n",
    "plt.show()\n"
   ]
  },
  {
   "cell_type": "markdown",
   "metadata": {},
   "source": [
    "# ROC curve"
   ]
  },
  {
   "cell_type": "code",
   "execution_count": 88,
   "metadata": {},
   "outputs": [],
   "source": [
    "# # Load the encoder model from the saved file\n",
    "# with open(\"../all_pkl_file/all_tuned_model/PCA_model2_fitted_2.pkl\", \"rb\") as file: #\"rb\"= read mode\n",
    "#     model = pickle.load(file)\n",
    "\n",
    "# model"
   ]
  },
  {
   "cell_type": "code",
   "execution_count": 89,
   "metadata": {},
   "outputs": [],
   "source": [
    "# import matplotlib.pyplot as plt\n",
    "# from sklearn.metrics import roc_curve, auc"
   ]
  },
  {
   "cell_type": "code",
   "execution_count": 90,
   "metadata": {},
   "outputs": [],
   "source": [
    "# predictions=model.predict(X_test_arr)\n",
    "# for i in range(len(predictions)):\n",
    "#     for j in range(len(predictions[0])):\n",
    "#         if predictions[i][j]==max(predictions[i]):\n",
    "#             predictions[i][j]=1\n",
    "#         else: predictions[i][j]=0\n",
    "# # Compute ROC curve and ROC area for each class\n",
    "# fpr = dict()\n",
    "# tpr = dict()\n",
    "# roc_auc = dict()\n",
    "\n",
    "# for i in range(7):\n",
    "#     fpr[i], tpr[i], _ = roc_curve(y_test_arr[:, i], predictions[:, i])\n",
    "#     roc_auc[i] = auc(fpr[i], tpr[i])"
   ]
  },
  {
   "cell_type": "code",
   "execution_count": 91,
   "metadata": {},
   "outputs": [],
   "source": [
    "# # Plot ROC curve for each class\n",
    "# plt.figure()\n",
    "# for i in range(7):\n",
    "#     plt.plot(fpr[i], tpr[i], label=f'class {i}(area = {roc_auc[i]:0.2f})')\n",
    "# plt.plot([0, 1], [0, 1], 'k--')\n",
    "# plt.xlabel('False Positive Rate')\n",
    "# plt.ylabel('True Positive Rate')\n",
    "# plt.title('ROC Curve')\n",
    "# plt.legend(loc='lower right')\n",
    "# plt.show()"
   ]
  }
 ],
 "metadata": {
  "kernelspec": {
   "display_name": "Python 3",
   "language": "python",
   "name": "python3"
  },
  "language_info": {
   "codemirror_mode": {
    "name": "ipython",
    "version": 3
   },
   "file_extension": ".py",
   "mimetype": "text/x-python",
   "name": "python",
   "nbconvert_exporter": "python",
   "pygments_lexer": "ipython3",
   "version": "3.11.4"
  }
 },
 "nbformat": 4,
 "nbformat_minor": 2
}
