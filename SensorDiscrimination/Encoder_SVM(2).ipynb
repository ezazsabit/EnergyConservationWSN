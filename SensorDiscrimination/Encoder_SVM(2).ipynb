{
 "cells": [
  {
   "cell_type": "code",
   "execution_count": 46,
   "metadata": {},
   "outputs": [],
   "source": [
    "import pandas as pd\n",
    "import numpy as np\n",
    "from sklearn.preprocessing import StandardScaler\n",
    "from sklearn.decomposition import PCA\n",
    "import seaborn as sns\n",
    "import matplotlib.pyplot as plt\n",
    "import optuna\n",
    "from sklearn.model_selection import train_test_split\n",
    "from sklearn.metrics import roc_auc_score\n",
    "import sklearn\n",
    "import random\n",
    "import warnings\n",
    "warnings.filterwarnings(\"ignore\")\n",
    "from sklearn.metrics import mean_absolute_error"
   ]
  },
  {
   "cell_type": "code",
   "execution_count": 47,
   "metadata": {},
   "outputs": [],
   "source": [
    "import warnings\n",
    "warnings.filterwarnings(\"ignore\")\n",
    "from sklearn.metrics import mean_absolute_error"
   ]
  },
  {
   "cell_type": "markdown",
   "metadata": {},
   "source": [
    "# prepare data"
   ]
  },
  {
   "cell_type": "code",
   "execution_count": 48,
   "metadata": {},
   "outputs": [
    {
     "name": "stdout",
     "output_type": "stream",
     "text": [
      "            F2        F3        F1       F11        F4        F6       F10  \\\n",
      "1509  0.288556  0.835296  0.722233  0.409043  0.914186  0.492303  0.950301   \n",
      "1238  0.984813  0.956258  0.849559  0.226773  0.891901  0.435954  0.608810   \n",
      "1736  0.817326  0.601110  0.370813  0.196454  0.513055  0.057367  0.285015   \n",
      "1001  0.483636  0.882402  0.800979  0.189362  0.892233  0.373832  0.293675   \n",
      "2141  0.125070  0.966016  0.828012  0.318085  0.930983  0.572018  0.719880   \n",
      "...        ...       ...       ...       ...       ...       ...       ...   \n",
      "2199  0.148321  0.964166  0.893830  0.306915  0.887078  0.621220  0.553087   \n",
      "1206  0.926417  0.900908  0.847600  0.211525  0.879428  0.431556  0.385542   \n",
      "680   0.462888  0.825202  0.642311  0.192553  0.795610  0.162067  0.294051   \n",
      "1659  0.452406  0.746131  0.743389  0.208865  0.782970  0.132875  0.250753   \n",
      "435   0.726203  0.784993  0.589226  0.232092  0.673374  0.110060  0.274096   \n",
      "\n",
      "            F9        F5      F7     F12      F8  \n",
      "1509  0.458024  0.374001  0.6726  5.3700  0.3662  \n",
      "1238  0.418586  0.386347  0.9070  0.7202  0.3748  \n",
      "1736  0.104373  0.103704  0.1440  4.9050  0.1770  \n",
      "1001  0.249746  0.297858  0.5469  0.8740  0.3284  \n",
      "2141  0.434596  0.454611  0.8325  0.8398  0.4199  \n",
      "...        ...       ...     ...     ...     ...  \n",
      "2199  0.415463  0.389252  0.7593  4.7690  0.4346  \n",
      "1206  0.341273  0.377269  0.7837  0.8557  0.4333  \n",
      "680   0.147286  0.279230  0.5811  5.4060  0.2490  \n",
      "1659  0.142522  0.210530  0.4395  4.9120  0.2417  \n",
      "435   0.175400  0.189724  0.2991  5.3520  0.1892  \n",
      "\n",
      "[2212 rows x 12 columns]\n",
      "1509    0\n",
      "1238    2\n",
      "1736    0\n",
      "1001    2\n",
      "2141    1\n",
      "       ..\n",
      "2199    1\n",
      "1206    2\n",
      "680     1\n",
      "1659    0\n",
      "435     0\n",
      "Name: out, Length: 2212, dtype: int64\n"
     ]
    }
   ],
   "source": [
    "filename = 'Dataset/Sensor_Discrimination_normalized.csv'\n",
    "df=pd.read_csv(filename)\n",
    "# shuffle the DataFrame rows\n",
    "df = df.sample(frac = 1) #frac = fraction\n",
    "dataset=df.iloc[:,:-1]\n",
    "label=df.iloc[:,-1]\n",
    "print(dataset)\n",
    "print(label)"
   ]
  },
  {
   "cell_type": "code",
   "execution_count": 49,
   "metadata": {},
   "outputs": [
    {
     "name": "stdout",
     "output_type": "stream",
     "text": [
      "1548\n"
     ]
    }
   ],
   "source": [
    "dataset_arr=dataset.to_numpy()\n",
    "# from NecessaryModules.splitData import split_data\n",
    "X_train, X_test, y_train, y_test = train_test_split(dataset_arr, label, test_size=0.3, random_state=42)\n",
    "print(len(X_train))"
   ]
  },
  {
   "cell_type": "markdown",
   "metadata": {},
   "source": [
    "# call the encoder"
   ]
  },
  {
   "cell_type": "code",
   "execution_count": 50,
   "metadata": {},
   "outputs": [
    {
     "data": {
      "text/plain": [
       "<keras.src.engine.functional.Functional at 0x25f1bdb2f50>"
      ]
     },
     "execution_count": 50,
     "metadata": {},
     "output_type": "execute_result"
    }
   ],
   "source": [
    "import pickle\n",
    "\n",
    "# Load the encoder model from the saved file\n",
    "with open(\"all_pkl_file/Encoder_3.pkl\", \"rb\") as file: #\"rb\"= read mode\n",
    "    encoder = pickle.load(file)\n",
    "\n",
    "encoder\n"
   ]
  },
  {
   "cell_type": "code",
   "execution_count": 51,
   "metadata": {},
   "outputs": [
    {
     "name": "stdout",
     "output_type": "stream",
     "text": [
      "70/70 [==============================] - 0s 1ms/step\n"
     ]
    },
    {
     "name": "stdout",
     "output_type": "stream",
     "text": [
      "49/49 [==============================] - 0s 1ms/step\n",
      "21/21 [==============================] - 0s 920us/step\n"
     ]
    }
   ],
   "source": [
    "encoded_X = pd.DataFrame(encoder.predict(dataset))\n",
    "encoded_X = encoded_X.add_prefix('feature_')\n",
    "\n",
    "encoded_X_train = pd.DataFrame(encoder.predict(X_train))\n",
    "encoded_X_train = encoded_X_train.add_prefix('feature_')\n",
    "\n",
    "encoded_X_test = pd.DataFrame(encoder.predict(X_test))\n",
    "encoded_X_test = encoded_X_test.add_prefix('feature_')\n",
    "\n"
   ]
  },
  {
   "cell_type": "markdown",
   "metadata": {},
   "source": [
    "# tune SVC"
   ]
  },
  {
   "cell_type": "code",
   "execution_count": 52,
   "metadata": {},
   "outputs": [
    {
     "data": {
      "text/plain": [
       "array([[0.28042781, 0.90780619, 0.69735553, ..., 0.17465249, 0.28455   ,\n",
       "        0.16897415],\n",
       "       [0.38053476, 0.94885599, 0.88442703, ..., 0.46892886, 0.27885   ,\n",
       "        0.39499583],\n",
       "       [0.21150802, 0.97442799, 0.96297747, ..., 0.68029436, 0.045105  ,\n",
       "        0.80733945],\n",
       "       ...,\n",
       "       [0.44256684, 0.5031965 , 0.26738492, ..., 0.08732625, 0.27245   ,\n",
       "        0.11609675],\n",
       "       [0.30909091, 0.85514805, 0.67600392, ..., 0.1212592 , 0.2795    ,\n",
       "        0.15679733],\n",
       "       [0.40962567, 0.64569314, 0.40195886, ..., 0.1207686 , 0.2827    ,\n",
       "        0.05599666]])"
      ]
     },
     "execution_count": 52,
     "metadata": {},
     "output_type": "execute_result"
    }
   ],
   "source": [
    "from sklearn.preprocessing import MaxAbsScaler\n",
    "\n",
    "scaler = MaxAbsScaler(copy=True).fit(dataset)\n",
    "encoded_X_n=scaler.transform(dataset)\n",
    "encoded_X_train_n=scaler.transform(X_train)\n",
    "encoded_X_test_n=scaler.transform(X_test)\n",
    "encoded_X_train_n"
   ]
  },
  {
   "cell_type": "code",
   "execution_count": 53,
   "metadata": {},
   "outputs": [
    {
     "data": {
      "text/html": [
       "<style>#sk-container-id-3 {\n",
       "  /* Definition of color scheme common for light and dark mode */\n",
       "  --sklearn-color-text: black;\n",
       "  --sklearn-color-line: gray;\n",
       "  /* Definition of color scheme for unfitted estimators */\n",
       "  --sklearn-color-unfitted-level-0: #fff5e6;\n",
       "  --sklearn-color-unfitted-level-1: #f6e4d2;\n",
       "  --sklearn-color-unfitted-level-2: #ffe0b3;\n",
       "  --sklearn-color-unfitted-level-3: chocolate;\n",
       "  /* Definition of color scheme for fitted estimators */\n",
       "  --sklearn-color-fitted-level-0: #f0f8ff;\n",
       "  --sklearn-color-fitted-level-1: #d4ebff;\n",
       "  --sklearn-color-fitted-level-2: #b3dbfd;\n",
       "  --sklearn-color-fitted-level-3: cornflowerblue;\n",
       "\n",
       "  /* Specific color for light theme */\n",
       "  --sklearn-color-text-on-default-background: var(--sg-text-color, var(--theme-code-foreground, var(--jp-content-font-color1, black)));\n",
       "  --sklearn-color-background: var(--sg-background-color, var(--theme-background, var(--jp-layout-color0, white)));\n",
       "  --sklearn-color-border-box: var(--sg-text-color, var(--theme-code-foreground, var(--jp-content-font-color1, black)));\n",
       "  --sklearn-color-icon: #696969;\n",
       "\n",
       "  @media (prefers-color-scheme: dark) {\n",
       "    /* Redefinition of color scheme for dark theme */\n",
       "    --sklearn-color-text-on-default-background: var(--sg-text-color, var(--theme-code-foreground, var(--jp-content-font-color1, white)));\n",
       "    --sklearn-color-background: var(--sg-background-color, var(--theme-background, var(--jp-layout-color0, #111)));\n",
       "    --sklearn-color-border-box: var(--sg-text-color, var(--theme-code-foreground, var(--jp-content-font-color1, white)));\n",
       "    --sklearn-color-icon: #878787;\n",
       "  }\n",
       "}\n",
       "\n",
       "#sk-container-id-3 {\n",
       "  color: var(--sklearn-color-text);\n",
       "}\n",
       "\n",
       "#sk-container-id-3 pre {\n",
       "  padding: 0;\n",
       "}\n",
       "\n",
       "#sk-container-id-3 input.sk-hidden--visually {\n",
       "  border: 0;\n",
       "  clip: rect(1px 1px 1px 1px);\n",
       "  clip: rect(1px, 1px, 1px, 1px);\n",
       "  height: 1px;\n",
       "  margin: -1px;\n",
       "  overflow: hidden;\n",
       "  padding: 0;\n",
       "  position: absolute;\n",
       "  width: 1px;\n",
       "}\n",
       "\n",
       "#sk-container-id-3 div.sk-dashed-wrapped {\n",
       "  border: 1px dashed var(--sklearn-color-line);\n",
       "  margin: 0 0.4em 0.5em 0.4em;\n",
       "  box-sizing: border-box;\n",
       "  padding-bottom: 0.4em;\n",
       "  background-color: var(--sklearn-color-background);\n",
       "}\n",
       "\n",
       "#sk-container-id-3 div.sk-container {\n",
       "  /* jupyter's `normalize.less` sets `[hidden] { display: none; }`\n",
       "     but bootstrap.min.css set `[hidden] { display: none !important; }`\n",
       "     so we also need the `!important` here to be able to override the\n",
       "     default hidden behavior on the sphinx rendered scikit-learn.org.\n",
       "     See: https://github.com/scikit-learn/scikit-learn/issues/21755 */\n",
       "  display: inline-block !important;\n",
       "  position: relative;\n",
       "}\n",
       "\n",
       "#sk-container-id-3 div.sk-text-repr-fallback {\n",
       "  display: none;\n",
       "}\n",
       "\n",
       "div.sk-parallel-item,\n",
       "div.sk-serial,\n",
       "div.sk-item {\n",
       "  /* draw centered vertical line to link estimators */\n",
       "  background-image: linear-gradient(var(--sklearn-color-text-on-default-background), var(--sklearn-color-text-on-default-background));\n",
       "  background-size: 2px 100%;\n",
       "  background-repeat: no-repeat;\n",
       "  background-position: center center;\n",
       "}\n",
       "\n",
       "/* Parallel-specific style estimator block */\n",
       "\n",
       "#sk-container-id-3 div.sk-parallel-item::after {\n",
       "  content: \"\";\n",
       "  width: 100%;\n",
       "  border-bottom: 2px solid var(--sklearn-color-text-on-default-background);\n",
       "  flex-grow: 1;\n",
       "}\n",
       "\n",
       "#sk-container-id-3 div.sk-parallel {\n",
       "  display: flex;\n",
       "  align-items: stretch;\n",
       "  justify-content: center;\n",
       "  background-color: var(--sklearn-color-background);\n",
       "  position: relative;\n",
       "}\n",
       "\n",
       "#sk-container-id-3 div.sk-parallel-item {\n",
       "  display: flex;\n",
       "  flex-direction: column;\n",
       "}\n",
       "\n",
       "#sk-container-id-3 div.sk-parallel-item:first-child::after {\n",
       "  align-self: flex-end;\n",
       "  width: 50%;\n",
       "}\n",
       "\n",
       "#sk-container-id-3 div.sk-parallel-item:last-child::after {\n",
       "  align-self: flex-start;\n",
       "  width: 50%;\n",
       "}\n",
       "\n",
       "#sk-container-id-3 div.sk-parallel-item:only-child::after {\n",
       "  width: 0;\n",
       "}\n",
       "\n",
       "/* Serial-specific style estimator block */\n",
       "\n",
       "#sk-container-id-3 div.sk-serial {\n",
       "  display: flex;\n",
       "  flex-direction: column;\n",
       "  align-items: center;\n",
       "  background-color: var(--sklearn-color-background);\n",
       "  padding-right: 1em;\n",
       "  padding-left: 1em;\n",
       "}\n",
       "\n",
       "\n",
       "/* Toggleable style: style used for estimator/Pipeline/ColumnTransformer box that is\n",
       "clickable and can be expanded/collapsed.\n",
       "- Pipeline and ColumnTransformer use this feature and define the default style\n",
       "- Estimators will overwrite some part of the style using the `sk-estimator` class\n",
       "*/\n",
       "\n",
       "/* Pipeline and ColumnTransformer style (default) */\n",
       "\n",
       "#sk-container-id-3 div.sk-toggleable {\n",
       "  /* Default theme specific background. It is overwritten whether we have a\n",
       "  specific estimator or a Pipeline/ColumnTransformer */\n",
       "  background-color: var(--sklearn-color-background);\n",
       "}\n",
       "\n",
       "/* Toggleable label */\n",
       "#sk-container-id-3 label.sk-toggleable__label {\n",
       "  cursor: pointer;\n",
       "  display: block;\n",
       "  width: 100%;\n",
       "  margin-bottom: 0;\n",
       "  padding: 0.5em;\n",
       "  box-sizing: border-box;\n",
       "  text-align: center;\n",
       "}\n",
       "\n",
       "#sk-container-id-3 label.sk-toggleable__label-arrow:before {\n",
       "  /* Arrow on the left of the label */\n",
       "  content: \"▸\";\n",
       "  float: left;\n",
       "  margin-right: 0.25em;\n",
       "  color: var(--sklearn-color-icon);\n",
       "}\n",
       "\n",
       "#sk-container-id-3 label.sk-toggleable__label-arrow:hover:before {\n",
       "  color: var(--sklearn-color-text);\n",
       "}\n",
       "\n",
       "/* Toggleable content - dropdown */\n",
       "\n",
       "#sk-container-id-3 div.sk-toggleable__content {\n",
       "  max-height: 0;\n",
       "  max-width: 0;\n",
       "  overflow: hidden;\n",
       "  text-align: left;\n",
       "  /* unfitted */\n",
       "  background-color: var(--sklearn-color-unfitted-level-0);\n",
       "}\n",
       "\n",
       "#sk-container-id-3 div.sk-toggleable__content.fitted {\n",
       "  /* fitted */\n",
       "  background-color: var(--sklearn-color-fitted-level-0);\n",
       "}\n",
       "\n",
       "#sk-container-id-3 div.sk-toggleable__content pre {\n",
       "  margin: 0.2em;\n",
       "  border-radius: 0.25em;\n",
       "  color: var(--sklearn-color-text);\n",
       "  /* unfitted */\n",
       "  background-color: var(--sklearn-color-unfitted-level-0);\n",
       "}\n",
       "\n",
       "#sk-container-id-3 div.sk-toggleable__content.fitted pre {\n",
       "  /* unfitted */\n",
       "  background-color: var(--sklearn-color-fitted-level-0);\n",
       "}\n",
       "\n",
       "#sk-container-id-3 input.sk-toggleable__control:checked~div.sk-toggleable__content {\n",
       "  /* Expand drop-down */\n",
       "  max-height: 200px;\n",
       "  max-width: 100%;\n",
       "  overflow: auto;\n",
       "}\n",
       "\n",
       "#sk-container-id-3 input.sk-toggleable__control:checked~label.sk-toggleable__label-arrow:before {\n",
       "  content: \"▾\";\n",
       "}\n",
       "\n",
       "/* Pipeline/ColumnTransformer-specific style */\n",
       "\n",
       "#sk-container-id-3 div.sk-label input.sk-toggleable__control:checked~label.sk-toggleable__label {\n",
       "  color: var(--sklearn-color-text);\n",
       "  background-color: var(--sklearn-color-unfitted-level-2);\n",
       "}\n",
       "\n",
       "#sk-container-id-3 div.sk-label.fitted input.sk-toggleable__control:checked~label.sk-toggleable__label {\n",
       "  background-color: var(--sklearn-color-fitted-level-2);\n",
       "}\n",
       "\n",
       "/* Estimator-specific style */\n",
       "\n",
       "/* Colorize estimator box */\n",
       "#sk-container-id-3 div.sk-estimator input.sk-toggleable__control:checked~label.sk-toggleable__label {\n",
       "  /* unfitted */\n",
       "  background-color: var(--sklearn-color-unfitted-level-2);\n",
       "}\n",
       "\n",
       "#sk-container-id-3 div.sk-estimator.fitted input.sk-toggleable__control:checked~label.sk-toggleable__label {\n",
       "  /* fitted */\n",
       "  background-color: var(--sklearn-color-fitted-level-2);\n",
       "}\n",
       "\n",
       "#sk-container-id-3 div.sk-label label.sk-toggleable__label,\n",
       "#sk-container-id-3 div.sk-label label {\n",
       "  /* The background is the default theme color */\n",
       "  color: var(--sklearn-color-text-on-default-background);\n",
       "}\n",
       "\n",
       "/* On hover, darken the color of the background */\n",
       "#sk-container-id-3 div.sk-label:hover label.sk-toggleable__label {\n",
       "  color: var(--sklearn-color-text);\n",
       "  background-color: var(--sklearn-color-unfitted-level-2);\n",
       "}\n",
       "\n",
       "/* Label box, darken color on hover, fitted */\n",
       "#sk-container-id-3 div.sk-label.fitted:hover label.sk-toggleable__label.fitted {\n",
       "  color: var(--sklearn-color-text);\n",
       "  background-color: var(--sklearn-color-fitted-level-2);\n",
       "}\n",
       "\n",
       "/* Estimator label */\n",
       "\n",
       "#sk-container-id-3 div.sk-label label {\n",
       "  font-family: monospace;\n",
       "  font-weight: bold;\n",
       "  display: inline-block;\n",
       "  line-height: 1.2em;\n",
       "}\n",
       "\n",
       "#sk-container-id-3 div.sk-label-container {\n",
       "  text-align: center;\n",
       "}\n",
       "\n",
       "/* Estimator-specific */\n",
       "#sk-container-id-3 div.sk-estimator {\n",
       "  font-family: monospace;\n",
       "  border: 1px dotted var(--sklearn-color-border-box);\n",
       "  border-radius: 0.25em;\n",
       "  box-sizing: border-box;\n",
       "  margin-bottom: 0.5em;\n",
       "  /* unfitted */\n",
       "  background-color: var(--sklearn-color-unfitted-level-0);\n",
       "}\n",
       "\n",
       "#sk-container-id-3 div.sk-estimator.fitted {\n",
       "  /* fitted */\n",
       "  background-color: var(--sklearn-color-fitted-level-0);\n",
       "}\n",
       "\n",
       "/* on hover */\n",
       "#sk-container-id-3 div.sk-estimator:hover {\n",
       "  /* unfitted */\n",
       "  background-color: var(--sklearn-color-unfitted-level-2);\n",
       "}\n",
       "\n",
       "#sk-container-id-3 div.sk-estimator.fitted:hover {\n",
       "  /* fitted */\n",
       "  background-color: var(--sklearn-color-fitted-level-2);\n",
       "}\n",
       "\n",
       "/* Specification for estimator info (e.g. \"i\" and \"?\") */\n",
       "\n",
       "/* Common style for \"i\" and \"?\" */\n",
       "\n",
       ".sk-estimator-doc-link,\n",
       "a:link.sk-estimator-doc-link,\n",
       "a:visited.sk-estimator-doc-link {\n",
       "  float: right;\n",
       "  font-size: smaller;\n",
       "  line-height: 1em;\n",
       "  font-family: monospace;\n",
       "  background-color: var(--sklearn-color-background);\n",
       "  border-radius: 1em;\n",
       "  height: 1em;\n",
       "  width: 1em;\n",
       "  text-decoration: none !important;\n",
       "  margin-left: 1ex;\n",
       "  /* unfitted */\n",
       "  border: var(--sklearn-color-unfitted-level-1) 1pt solid;\n",
       "  color: var(--sklearn-color-unfitted-level-1);\n",
       "}\n",
       "\n",
       ".sk-estimator-doc-link.fitted,\n",
       "a:link.sk-estimator-doc-link.fitted,\n",
       "a:visited.sk-estimator-doc-link.fitted {\n",
       "  /* fitted */\n",
       "  border: var(--sklearn-color-fitted-level-1) 1pt solid;\n",
       "  color: var(--sklearn-color-fitted-level-1);\n",
       "}\n",
       "\n",
       "/* On hover */\n",
       "div.sk-estimator:hover .sk-estimator-doc-link:hover,\n",
       ".sk-estimator-doc-link:hover,\n",
       "div.sk-label-container:hover .sk-estimator-doc-link:hover,\n",
       ".sk-estimator-doc-link:hover {\n",
       "  /* unfitted */\n",
       "  background-color: var(--sklearn-color-unfitted-level-3);\n",
       "  color: var(--sklearn-color-background);\n",
       "  text-decoration: none;\n",
       "}\n",
       "\n",
       "div.sk-estimator.fitted:hover .sk-estimator-doc-link.fitted:hover,\n",
       ".sk-estimator-doc-link.fitted:hover,\n",
       "div.sk-label-container:hover .sk-estimator-doc-link.fitted:hover,\n",
       ".sk-estimator-doc-link.fitted:hover {\n",
       "  /* fitted */\n",
       "  background-color: var(--sklearn-color-fitted-level-3);\n",
       "  color: var(--sklearn-color-background);\n",
       "  text-decoration: none;\n",
       "}\n",
       "\n",
       "/* Span, style for the box shown on hovering the info icon */\n",
       ".sk-estimator-doc-link span {\n",
       "  display: none;\n",
       "  z-index: 9999;\n",
       "  position: relative;\n",
       "  font-weight: normal;\n",
       "  right: .2ex;\n",
       "  padding: .5ex;\n",
       "  margin: .5ex;\n",
       "  width: min-content;\n",
       "  min-width: 20ex;\n",
       "  max-width: 50ex;\n",
       "  color: var(--sklearn-color-text);\n",
       "  box-shadow: 2pt 2pt 4pt #999;\n",
       "  /* unfitted */\n",
       "  background: var(--sklearn-color-unfitted-level-0);\n",
       "  border: .5pt solid var(--sklearn-color-unfitted-level-3);\n",
       "}\n",
       "\n",
       ".sk-estimator-doc-link.fitted span {\n",
       "  /* fitted */\n",
       "  background: var(--sklearn-color-fitted-level-0);\n",
       "  border: var(--sklearn-color-fitted-level-3);\n",
       "}\n",
       "\n",
       ".sk-estimator-doc-link:hover span {\n",
       "  display: block;\n",
       "}\n",
       "\n",
       "/* \"?\"-specific style due to the `<a>` HTML tag */\n",
       "\n",
       "#sk-container-id-3 a.estimator_doc_link {\n",
       "  float: right;\n",
       "  font-size: 1rem;\n",
       "  line-height: 1em;\n",
       "  font-family: monospace;\n",
       "  background-color: var(--sklearn-color-background);\n",
       "  border-radius: 1rem;\n",
       "  height: 1rem;\n",
       "  width: 1rem;\n",
       "  text-decoration: none;\n",
       "  /* unfitted */\n",
       "  color: var(--sklearn-color-unfitted-level-1);\n",
       "  border: var(--sklearn-color-unfitted-level-1) 1pt solid;\n",
       "}\n",
       "\n",
       "#sk-container-id-3 a.estimator_doc_link.fitted {\n",
       "  /* fitted */\n",
       "  border: var(--sklearn-color-fitted-level-1) 1pt solid;\n",
       "  color: var(--sklearn-color-fitted-level-1);\n",
       "}\n",
       "\n",
       "/* On hover */\n",
       "#sk-container-id-3 a.estimator_doc_link:hover {\n",
       "  /* unfitted */\n",
       "  background-color: var(--sklearn-color-unfitted-level-3);\n",
       "  color: var(--sklearn-color-background);\n",
       "  text-decoration: none;\n",
       "}\n",
       "\n",
       "#sk-container-id-3 a.estimator_doc_link.fitted:hover {\n",
       "  /* fitted */\n",
       "  background-color: var(--sklearn-color-fitted-level-3);\n",
       "}\n",
       "</style><div id=\"sk-container-id-3\" class=\"sk-top-container\"><div class=\"sk-text-repr-fallback\"><pre>SVC(C=8.75, decision_function_shape=&#x27;ovo&#x27;, gamma=0.4, tol=0.483)</pre><b>In a Jupyter environment, please rerun this cell to show the HTML representation or trust the notebook. <br />On GitHub, the HTML representation is unable to render, please try loading this page with nbviewer.org.</b></div><div class=\"sk-container\" hidden><div class=\"sk-item\"><div class=\"sk-estimator fitted sk-toggleable\"><input class=\"sk-toggleable__control sk-hidden--visually\" id=\"sk-estimator-id-3\" type=\"checkbox\" checked><label for=\"sk-estimator-id-3\" class=\"sk-toggleable__label fitted sk-toggleable__label-arrow fitted\">&nbsp;&nbsp;SVC<a class=\"sk-estimator-doc-link fitted\" rel=\"noreferrer\" target=\"_blank\" href=\"https://scikit-learn.org/1.4/modules/generated/sklearn.svm.SVC.html\">?<span>Documentation for SVC</span></a><span class=\"sk-estimator-doc-link fitted\">i<span>Fitted</span></span></label><div class=\"sk-toggleable__content fitted\"><pre>SVC(C=8.75, decision_function_shape=&#x27;ovo&#x27;, gamma=0.4, tol=0.483)</pre></div> </div></div></div></div>"
      ],
      "text/plain": [
       "SVC(C=8.75, decision_function_shape='ovo', gamma=0.4, tol=0.483)"
      ]
     },
     "execution_count": 53,
     "metadata": {},
     "output_type": "execute_result"
    }
   ],
   "source": [
    "# train the model with random parameter\n",
    "from sklearn.svm import SVC\n",
    "\n",
    "model_SVC = SVC(\n",
    "        C=8.75,#Regularization parameter\n",
    "        kernel=\"rbf\", # maximum number of estimators at which boosting is terminated\n",
    "        gamma=0.4,\n",
    "        tol=0.483,\n",
    "        decision_function_shape='ovo',\n",
    "        \n",
    "     )\n",
    "\n",
    "model_SVC.fit(encoded_X_train_n, y_train)"
   ]
  },
  {
   "cell_type": "code",
   "execution_count": 54,
   "metadata": {},
   "outputs": [
    {
     "data": {
      "text/plain": [
       "0.012048192771084338"
      ]
     },
     "execution_count": 54,
     "metadata": {},
     "output_type": "execute_result"
    }
   ],
   "source": [
    "# Finding mean absolute error\n",
    "preds = model_SVC.predict(encoded_X_test_n)\n",
    "preds = preds.astype(int)\n",
    "mae = np.abs(y_test-preds).mean()\n",
    "mae"
   ]
  },
  {
   "cell_type": "code",
   "execution_count": 55,
   "metadata": {},
   "outputs": [],
   "source": [
    "# Defining the best parameter with optuna\n",
    "from sklearn.metrics import mean_absolute_error\n",
    "from sklearn.model_selection import StratifiedKFold\n",
    "K = 5 # stratified 5 fold cross validation, The folds are made by preserving the percentage of samples for each class.\n",
    "skf = StratifiedKFold(n_splits = K, random_state = 42, shuffle = True)\n",
    "\n",
    "train_tunned= np.array(encoded_X_n)\n",
    "target_train_tunned= np.array(label)\n",
    "\n",
    "oof_preds= np.zeros((len(train_tunned)))\n",
    "abs_error_arr=[]\n",
    "def objective_SVC(trial):\n",
    "\n",
    " for train_index, val_index in (skf.split(encoded_X_n,label)):\n",
    "    train_X, valid_X = train_tunned[train_index], train_tunned[val_index]\n",
    "    train_Y, valid_Y = target_train_tunned[train_index], target_train_tunned[val_index]\n",
    "    \n",
    "        \n",
    "        \n",
    "    param = {\n",
    "        'C':trial.suggest_float(\"C\",0,10), #For regularization    \n",
    "        'kernel':trial.suggest_categorical('kernel',[\"linear\", \"poly\", \"rbf\", \"sigmoid\"]),\n",
    "        'degree':trial.suggest_int('degree',1,10),\n",
    "        'gamma':trial.suggest_float('gamma',0,1),\n",
    "        # 'tol':trial.suggest_float('tol',0,5),\n",
    "        # 'coef0':trial.suggest_float('coed0',0,3),\n",
    "        'decision_function_shape':trial.suggest_categorical('decision_function_shape',['ovo','ovr']),\n",
    "        'random_state':trial.suggest_int('random_state',0,5),\n",
    "        }\n",
    "    model= SVC(**param)  \n",
    "        \n",
    "    model.fit(train_X,train_Y)\n",
    "        \n",
    "    preds = model.predict(valid_X)\n",
    "    oof_preds[val_index] = preds # preds gives total 3846 predicted value for valid_X\n",
    "\n",
    "      \n",
    " mae = mean_absolute_error(target_train_tunned, oof_preds)\n",
    "        \n",
    " return mae"
   ]
  },
  {
   "cell_type": "code",
   "execution_count": 56,
   "metadata": {},
   "outputs": [
    {
     "name": "stderr",
     "output_type": "stream",
     "text": [
      "[I 2024-02-12 14:27:41,179] A new study created in memory with name: SVC_tunning\n"
     ]
    }
   ],
   "source": [
    "# this is the main optuna for optimizing a object-->\"objective\"\n",
    "import optuna\n",
    "\n",
    "study_SVC = optuna.create_study(direction='minimize',study_name=\"SVC_tunning\")"
   ]
  },
  {
   "cell_type": "code",
   "execution_count": 57,
   "metadata": {},
   "outputs": [
    {
     "name": "stderr",
     "output_type": "stream",
     "text": [
      "[I 2024-02-12 14:27:41,484] Trial 0 finished with value: 0.030289330922242313 and parameters: {'C': 5.544702219116594, 'kernel': 'rbf', 'degree': 6, 'gamma': 0.07490109212506624, 'decision_function_shape': 'ovr', 'random_state': 2}. Best is trial 0 with value: 0.030289330922242313.\n",
      "[I 2024-02-12 14:27:41,798] Trial 1 finished with value: 0.034358047016274866 and parameters: {'C': 3.755858785173214, 'kernel': 'rbf', 'degree': 3, 'gamma': 0.07228148707663717, 'decision_function_shape': 'ovo', 'random_state': 0}. Best is trial 0 with value: 0.030289330922242313.\n",
      "[I 2024-02-12 14:27:41,888] Trial 2 finished with value: 0.025768535262206148 and parameters: {'C': 2.758452781870795, 'kernel': 'linear', 'degree': 7, 'gamma': 0.3884193460169706, 'decision_function_shape': 'ovr', 'random_state': 5}. Best is trial 2 with value: 0.025768535262206148.\n",
      "[I 2024-02-12 14:27:41,999] Trial 3 finished with value: 0.012206148282097649 and parameters: {'C': 1.4495586946449612, 'kernel': 'poly', 'degree': 8, 'gamma': 0.7894061502377243, 'decision_function_shape': 'ovo', 'random_state': 5}. Best is trial 3 with value: 0.012206148282097649.\n",
      "[I 2024-02-12 14:27:42,629] Trial 4 finished with value: 1.089511754068716 and parameters: {'C': 8.743482065659334, 'kernel': 'sigmoid', 'degree': 7, 'gamma': 0.6359993104582526, 'decision_function_shape': 'ovr', 'random_state': 4}. Best is trial 3 with value: 0.012206148282097649.\n",
      "[I 2024-02-12 14:27:43,569] Trial 5 finished with value: 0.7662748643761302 and parameters: {'C': 0.10457868191676156, 'kernel': 'sigmoid', 'degree': 8, 'gamma': 0.8253088407538544, 'decision_function_shape': 'ovr', 'random_state': 2}. Best is trial 3 with value: 0.012206148282097649.\n",
      "[I 2024-02-12 14:27:43,669] Trial 6 finished with value: 0.012206148282097649 and parameters: {'C': 6.326066748676199, 'kernel': 'poly', 'degree': 3, 'gamma': 0.8262913397286331, 'decision_function_shape': 'ovr', 'random_state': 0}. Best is trial 3 with value: 0.012206148282097649.\n",
      "[I 2024-02-12 14:27:43,796] Trial 7 finished with value: 0.015822784810126583 and parameters: {'C': 7.673172791693269, 'kernel': 'poly', 'degree': 9, 'gamma': 0.8321162317325824, 'decision_function_shape': 'ovo', 'random_state': 0}. Best is trial 3 with value: 0.012206148282097649.\n",
      "[I 2024-02-12 14:27:44,448] Trial 8 finished with value: 0.7296564195298373 and parameters: {'C': 3.7648910743252637, 'kernel': 'sigmoid', 'degree': 5, 'gamma': 0.4083586290353526, 'decision_function_shape': 'ovo', 'random_state': 4}. Best is trial 3 with value: 0.012206148282097649.\n",
      "[I 2024-02-12 14:27:45,489] Trial 9 finished with value: 0.8842676311030742 and parameters: {'C': 0.0453315074388394, 'kernel': 'sigmoid', 'degree': 8, 'gamma': 0.9315131143320647, 'decision_function_shape': 'ovo', 'random_state': 5}. Best is trial 3 with value: 0.012206148282097649.\n",
      "[I 2024-02-12 14:27:45,599] Trial 10 finished with value: 0.015370705244122965 and parameters: {'C': 1.9870484567453688, 'kernel': 'poly', 'degree': 10, 'gamma': 0.6308147499258178, 'decision_function_shape': 'ovo', 'random_state': 3}. Best is trial 3 with value: 0.012206148282097649.\n",
      "[I 2024-02-12 14:27:45,699] Trial 11 finished with value: 0.02396021699819168 and parameters: {'C': 6.439193310275094, 'kernel': 'poly', 'degree': 1, 'gamma': 0.9936618825596779, 'decision_function_shape': 'ovr', 'random_state': 1}. Best is trial 3 with value: 0.012206148282097649.\n",
      "[I 2024-02-12 14:27:45,819] Trial 12 finished with value: 0.009945750452079566 and parameters: {'C': 6.759677314646872, 'kernel': 'poly', 'degree': 4, 'gamma': 0.6742979739841678, 'decision_function_shape': 'ovr', 'random_state': 1}. Best is trial 12 with value: 0.009945750452079566.\n",
      "[I 2024-02-12 14:27:45,929] Trial 13 finished with value: 0.00949367088607595 and parameters: {'C': 9.276145537351413, 'kernel': 'poly', 'degree': 4, 'gamma': 0.6305749209155205, 'decision_function_shape': 'ovo', 'random_state': 1}. Best is trial 13 with value: 0.00949367088607595.\n",
      "[I 2024-02-12 14:27:46,039] Trial 14 finished with value: 0.010397830018083183 and parameters: {'C': 9.544454111392755, 'kernel': 'poly', 'degree': 4, 'gamma': 0.5668716564190412, 'decision_function_shape': 'ovr', 'random_state': 1}. Best is trial 13 with value: 0.00949367088607595.\n",
      "[I 2024-02-12 14:27:46,139] Trial 15 finished with value: 0.02305605786618445 and parameters: {'C': 7.937799205585469, 'kernel': 'linear', 'degree': 2, 'gamma': 0.2792733231471289, 'decision_function_shape': 'ovo', 'random_state': 1}. Best is trial 13 with value: 0.00949367088607595.\n",
      "[I 2024-02-12 14:27:46,249] Trial 16 finished with value: 0.011754068716094032 and parameters: {'C': 9.819187870410593, 'kernel': 'poly', 'degree': 5, 'gamma': 0.49511457819463073, 'decision_function_shape': 'ovr', 'random_state': 2}. Best is trial 13 with value: 0.00949367088607595.\n",
      "[I 2024-02-12 14:27:46,359] Trial 17 finished with value: 0.009945750452079566 and parameters: {'C': 7.0521133174682245, 'kernel': 'poly', 'degree': 4, 'gamma': 0.6985645307751174, 'decision_function_shape': 'ovo', 'random_state': 1}. Best is trial 13 with value: 0.00949367088607595.\n",
      "[I 2024-02-12 14:27:46,468] Trial 18 finished with value: 0.022603978300180832 and parameters: {'C': 8.524075141479953, 'kernel': 'linear', 'degree': 2, 'gamma': 0.23667436365483607, 'decision_function_shape': 'ovo', 'random_state': 3}. Best is trial 13 with value: 0.00949367088607595.\n",
      "[I 2024-02-12 14:27:46,598] Trial 19 finished with value: 0.012658227848101266 and parameters: {'C': 4.841586553620254, 'kernel': 'rbf', 'degree': 4, 'gamma': 0.714074728558272, 'decision_function_shape': 'ovr', 'random_state': 1}. Best is trial 13 with value: 0.00949367088607595.\n",
      "[I 2024-02-12 14:27:46,708] Trial 20 finished with value: 0.014466546112115732 and parameters: {'C': 9.187941719415173, 'kernel': 'poly', 'degree': 6, 'gamma': 0.48570363838729597, 'decision_function_shape': 'ovr', 'random_state': 0}. Best is trial 13 with value: 0.00949367088607595.\n",
      "[I 2024-02-12 14:27:46,818] Trial 21 finished with value: 0.009945750452079566 and parameters: {'C': 6.912812075963297, 'kernel': 'poly', 'degree': 4, 'gamma': 0.7018021945780776, 'decision_function_shape': 'ovo', 'random_state': 1}. Best is trial 13 with value: 0.00949367088607595.\n",
      "[I 2024-02-12 14:27:46,938] Trial 22 finished with value: 0.013562386980108499 and parameters: {'C': 7.294546799505274, 'kernel': 'poly', 'degree': 3, 'gamma': 0.5910255617855609, 'decision_function_shape': 'ovo', 'random_state': 2}. Best is trial 13 with value: 0.00949367088607595.\n",
      "[I 2024-02-12 14:27:47,045] Trial 23 finished with value: 0.013110307414104882 and parameters: {'C': 5.585441393694998, 'kernel': 'poly', 'degree': 5, 'gamma': 0.7085169411782568, 'decision_function_shape': 'ovo', 'random_state': 1}. Best is trial 13 with value: 0.00949367088607595.\n",
      "[I 2024-02-12 14:27:47,165] Trial 24 finished with value: 0.00949367088607595 and parameters: {'C': 8.153701641470509, 'kernel': 'poly', 'degree': 4, 'gamma': 0.7445274894095002, 'decision_function_shape': 'ovo', 'random_state': 2}. Best is trial 13 with value: 0.00949367088607595.\n",
      "[I 2024-02-12 14:27:47,265] Trial 25 finished with value: 0.0162748643761302 and parameters: {'C': 8.24133403206986, 'kernel': 'poly', 'degree': 2, 'gamma': 0.5444646580911434, 'decision_function_shape': 'ovo', 'random_state': 3}. Best is trial 13 with value: 0.00949367088607595.\n",
      "[I 2024-02-12 14:27:47,375] Trial 26 finished with value: 0.022603978300180832 and parameters: {'C': 9.143610093370272, 'kernel': 'poly', 'degree': 1, 'gamma': 0.918878454808988, 'decision_function_shape': 'ovo', 'random_state': 2}. Best is trial 13 with value: 0.00949367088607595.\n",
      "[I 2024-02-12 14:27:47,498] Trial 27 finished with value: 0.009945750452079566 and parameters: {'C': 7.972684298098562, 'kernel': 'rbf', 'degree': 3, 'gamma': 0.7634959891322588, 'decision_function_shape': 'ovo', 'random_state': 2}. Best is trial 13 with value: 0.00949367088607595.\n",
      "[I 2024-02-12 14:27:47,602] Trial 28 finished with value: 0.024412296564195298 and parameters: {'C': 5.7695431973977325, 'kernel': 'linear', 'degree': 6, 'gamma': 0.41898468368779096, 'decision_function_shape': 'ovr', 'random_state': 0}. Best is trial 13 with value: 0.00949367088607595.\n",
      "[I 2024-02-12 14:27:48,275] Trial 29 finished with value: 0.13924050632911392 and parameters: {'C': 9.835190133092782, 'kernel': 'rbf', 'degree': 5, 'gamma': 0.0015615796469222731, 'decision_function_shape': 'ovr', 'random_state': 2}. Best is trial 13 with value: 0.00949367088607595.\n",
      "[I 2024-02-12 14:27:48,395] Trial 30 finished with value: 0.0081374321880651 and parameters: {'C': 8.759551355278056, 'kernel': 'poly', 'degree': 4, 'gamma': 0.8973871330253977, 'decision_function_shape': 'ovo', 'random_state': 3}. Best is trial 30 with value: 0.0081374321880651.\n",
      "[I 2024-02-12 14:27:48,518] Trial 31 finished with value: 0.0076853526220614825 and parameters: {'C': 8.589991814028238, 'kernel': 'poly', 'degree': 4, 'gamma': 0.9149918928211989, 'decision_function_shape': 'ovo', 'random_state': 3}. Best is trial 31 with value: 0.0076853526220614825.\n",
      "[I 2024-02-12 14:27:48,639] Trial 32 finished with value: 0.010397830018083183 and parameters: {'C': 8.827407516042163, 'kernel': 'poly', 'degree': 3, 'gamma': 0.8898251848344952, 'decision_function_shape': 'ovo', 'random_state': 4}. Best is trial 31 with value: 0.0076853526220614825.\n",
      "[I 2024-02-12 14:27:48,779] Trial 33 finished with value: 0.009945750452079566 and parameters: {'C': 7.525052703993719, 'kernel': 'poly', 'degree': 5, 'gamma': 0.9992946232992744, 'decision_function_shape': 'ovo', 'random_state': 3}. Best is trial 31 with value: 0.0076853526220614825.\n",
      "[I 2024-02-12 14:27:48,899] Trial 34 finished with value: 0.009041591320072333 and parameters: {'C': 9.229874203329333, 'kernel': 'poly', 'degree': 4, 'gamma': 0.8636178986614369, 'decision_function_shape': 'ovo', 'random_state': 3}. Best is trial 31 with value: 0.0076853526220614825.\n",
      "[I 2024-02-12 14:27:49,018] Trial 35 finished with value: 0.00949367088607595 and parameters: {'C': 9.24858271504471, 'kernel': 'rbf', 'degree': 6, 'gamma': 0.8909749482199022, 'decision_function_shape': 'ovo', 'random_state': 4}. Best is trial 31 with value: 0.0076853526220614825.\n",
      "[I 2024-02-12 14:27:49,155] Trial 36 finished with value: 0.012658227848101266 and parameters: {'C': 8.785578437059849, 'kernel': 'poly', 'degree': 7, 'gamma': 0.9409913792272852, 'decision_function_shape': 'ovo', 'random_state': 3}. Best is trial 31 with value: 0.0076853526220614825.\n",
      "[I 2024-02-12 14:27:49,889] Trial 37 finished with value: 1.126130198915009 and parameters: {'C': 9.925444553803175, 'kernel': 'sigmoid', 'degree': 2, 'gamma': 0.8628747765124937, 'decision_function_shape': 'ovo', 'random_state': 4}. Best is trial 31 with value: 0.0076853526220614825.\n",
      "[I 2024-02-12 14:27:49,998] Trial 38 finished with value: 0.024412296564195298 and parameters: {'C': 4.68448982130144, 'kernel': 'linear', 'degree': 3, 'gamma': 0.8101621900001136, 'decision_function_shape': 'ovo', 'random_state': 3}. Best is trial 31 with value: 0.0076853526220614825.\n",
      "[I 2024-02-12 14:27:50,118] Trial 39 finished with value: 0.009041591320072333 and parameters: {'C': 8.70741974620228, 'kernel': 'poly', 'degree': 5, 'gamma': 0.7803455618082956, 'decision_function_shape': 'ovo', 'random_state': 3}. Best is trial 31 with value: 0.0076853526220614825.\n",
      "[I 2024-02-12 14:27:50,243] Trial 40 finished with value: 0.009041591320072333 and parameters: {'C': 8.516529954981902, 'kernel': 'poly', 'degree': 5, 'gamma': 0.7826963694967908, 'decision_function_shape': 'ovo', 'random_state': 3}. Best is trial 31 with value: 0.0076853526220614825.\n",
      "[I 2024-02-12 14:27:50,363] Trial 41 finished with value: 0.009041591320072333 and parameters: {'C': 8.542984818687934, 'kernel': 'poly', 'degree': 5, 'gamma': 0.7892161858515047, 'decision_function_shape': 'ovo', 'random_state': 3}. Best is trial 31 with value: 0.0076853526220614825.\n",
      "[I 2024-02-12 14:27:50,498] Trial 42 finished with value: 0.0108499095840868 and parameters: {'C': 7.649938594728505, 'kernel': 'poly', 'degree': 6, 'gamma': 0.8500505983619702, 'decision_function_shape': 'ovo', 'random_state': 4}. Best is trial 31 with value: 0.0076853526220614825.\n",
      "[I 2024-02-12 14:27:50,650] Trial 43 finished with value: 0.012658227848101266 and parameters: {'C': 8.470782672899412, 'kernel': 'poly', 'degree': 7, 'gamma': 0.9516309734113758, 'decision_function_shape': 'ovo', 'random_state': 3}. Best is trial 31 with value: 0.0076853526220614825.\n",
      "[I 2024-02-12 14:27:51,368] Trial 44 finished with value: 1.1053345388788427 and parameters: {'C': 3.736233094626666, 'kernel': 'sigmoid', 'degree': 5, 'gamma': 0.78047654627327, 'decision_function_shape': 'ovo', 'random_state': 3}. Best is trial 31 with value: 0.0076853526220614825.\n",
      "[I 2024-02-12 14:27:51,488] Trial 45 finished with value: 0.011301989150090416 and parameters: {'C': 6.15369692269945, 'kernel': 'poly', 'degree': 3, 'gamma': 0.8602820908585238, 'decision_function_shape': 'ovo', 'random_state': 4}. Best is trial 31 with value: 0.0076853526220614825.\n",
      "[I 2024-02-12 14:27:51,608] Trial 46 finished with value: 0.007233273056057866 and parameters: {'C': 8.986196799104398, 'kernel': 'poly', 'degree': 4, 'gamma': 0.9592553881208677, 'decision_function_shape': 'ovo', 'random_state': 3}. Best is trial 46 with value: 0.007233273056057866.\n",
      "[I 2024-02-12 14:27:51,732] Trial 47 finished with value: 0.007233273056057866 and parameters: {'C': 9.435631802323712, 'kernel': 'poly', 'degree': 4, 'gamma': 0.9485666959796035, 'decision_function_shape': 'ovo', 'random_state': 4}. Best is trial 46 with value: 0.007233273056057866.\n",
      "[I 2024-02-12 14:27:52,491] Trial 48 finished with value: 1.1360759493670887 and parameters: {'C': 9.320630213898383, 'kernel': 'sigmoid', 'degree': 4, 'gamma': 0.9623514626299555, 'decision_function_shape': 'ovo', 'random_state': 4}. Best is trial 46 with value: 0.007233273056057866.\n",
      "[I 2024-02-12 14:27:52,610] Trial 49 finished with value: 0.0076853526220614825 and parameters: {'C': 9.675059040115633, 'kernel': 'poly', 'degree': 4, 'gamma': 0.8947219835317851, 'decision_function_shape': 'ovo', 'random_state': 5}. Best is trial 46 with value: 0.007233273056057866.\n"
     ]
    },
    {
     "name": "stdout",
     "output_type": "stream",
     "text": [
      "Number of finished trials: 50\n",
      "Best trial: {'C': 8.986196799104398, 'kernel': 'poly', 'degree': 4, 'gamma': 0.9592553881208677, 'decision_function_shape': 'ovo', 'random_state': 3}\n"
     ]
    }
   ],
   "source": [
    "\n",
    "study_SVC.optimize(objective_SVC, n_trials=50) \n",
    "print('Number of finished trials:', len(study_SVC.trials))\n",
    "print('Best trial:', study_SVC.best_trial.params)"
   ]
  },
  {
   "cell_type": "code",
   "execution_count": 58,
   "metadata": {},
   "outputs": [
    {
     "data": {
      "application/vnd.plotly.v1+json": {
       "config": {
        "plotlyServerURL": "https://plot.ly"
       },
       "data": [
        {
         "dimensions": [
          {
           "label": "Objective Value",
           "range": [
            0.007233273056057866,
            1.1360759493670887
           ],
           "values": [
            0.030289330922242313,
            0.034358047016274866,
            0.025768535262206148,
            0.012206148282097649,
            1.089511754068716,
            0.7662748643761302,
            0.012206148282097649,
            0.015822784810126583,
            0.7296564195298373,
            0.8842676311030742,
            0.015370705244122965,
            0.02396021699819168,
            0.009945750452079566,
            0.00949367088607595,
            0.010397830018083183,
            0.02305605786618445,
            0.011754068716094032,
            0.009945750452079566,
            0.022603978300180832,
            0.012658227848101266,
            0.014466546112115732,
            0.009945750452079566,
            0.013562386980108499,
            0.013110307414104882,
            0.00949367088607595,
            0.0162748643761302,
            0.022603978300180832,
            0.009945750452079566,
            0.024412296564195298,
            0.13924050632911392,
            0.0081374321880651,
            0.0076853526220614825,
            0.010397830018083183,
            0.009945750452079566,
            0.009041591320072333,
            0.00949367088607595,
            0.012658227848101266,
            1.126130198915009,
            0.024412296564195298,
            0.009041591320072333,
            0.009041591320072333,
            0.009041591320072333,
            0.0108499095840868,
            0.012658227848101266,
            1.1053345388788427,
            0.011301989150090416,
            0.007233273056057866,
            0.007233273056057866,
            1.1360759493670887,
            0.0076853526220614825
           ]
          },
          {
           "label": "C",
           "range": [
            0.0453315074388394,
            9.925444553803175
           ],
           "values": [
            5.544702219116594,
            3.755858785173214,
            2.758452781870795,
            1.4495586946449612,
            8.743482065659334,
            0.10457868191676156,
            6.326066748676199,
            7.673172791693269,
            3.7648910743252637,
            0.0453315074388394,
            1.9870484567453688,
            6.439193310275094,
            6.759677314646872,
            9.276145537351413,
            9.544454111392755,
            7.937799205585469,
            9.819187870410593,
            7.0521133174682245,
            8.524075141479953,
            4.841586553620254,
            9.187941719415173,
            6.912812075963297,
            7.294546799505274,
            5.585441393694998,
            8.153701641470509,
            8.24133403206986,
            9.143610093370272,
            7.972684298098562,
            5.7695431973977325,
            9.835190133092782,
            8.759551355278056,
            8.589991814028238,
            8.827407516042163,
            7.525052703993719,
            9.229874203329333,
            9.24858271504471,
            8.785578437059849,
            9.925444553803175,
            4.68448982130144,
            8.70741974620228,
            8.516529954981902,
            8.542984818687934,
            7.649938594728505,
            8.470782672899412,
            3.736233094626666,
            6.15369692269945,
            8.986196799104398,
            9.435631802323712,
            9.320630213898383,
            9.675059040115633
           ]
          },
          {
           "label": "decision_function...",
           "range": [
            0,
            1
           ],
           "ticktext": [
            "ovr",
            "ovo"
           ],
           "tickvals": [
            0,
            1
           ],
           "values": [
            0,
            1,
            0,
            1,
            0,
            0,
            0,
            1,
            1,
            1,
            1,
            0,
            0,
            1,
            0,
            1,
            0,
            1,
            1,
            0,
            0,
            1,
            1,
            1,
            1,
            1,
            1,
            1,
            0,
            0,
            1,
            1,
            1,
            1,
            1,
            1,
            1,
            1,
            1,
            1,
            1,
            1,
            1,
            1,
            1,
            1,
            1,
            1,
            1,
            1
           ]
          },
          {
           "label": "degree",
           "range": [
            1,
            10
           ],
           "values": [
            6,
            3,
            7,
            8,
            7,
            8,
            3,
            9,
            5,
            8,
            10,
            1,
            4,
            4,
            4,
            2,
            5,
            4,
            2,
            4,
            6,
            4,
            3,
            5,
            4,
            2,
            1,
            3,
            6,
            5,
            4,
            4,
            3,
            5,
            4,
            6,
            7,
            2,
            3,
            5,
            5,
            5,
            6,
            7,
            5,
            3,
            4,
            4,
            4,
            4
           ]
          },
          {
           "label": "gamma",
           "range": [
            0.0015615796469222731,
            0.9992946232992744
           ],
           "values": [
            0.07490109212506624,
            0.07228148707663717,
            0.3884193460169706,
            0.7894061502377243,
            0.6359993104582526,
            0.8253088407538544,
            0.8262913397286331,
            0.8321162317325824,
            0.4083586290353526,
            0.9315131143320647,
            0.6308147499258178,
            0.9936618825596779,
            0.6742979739841678,
            0.6305749209155205,
            0.5668716564190412,
            0.2792733231471289,
            0.49511457819463073,
            0.6985645307751174,
            0.23667436365483607,
            0.714074728558272,
            0.48570363838729597,
            0.7018021945780776,
            0.5910255617855609,
            0.7085169411782568,
            0.7445274894095002,
            0.5444646580911434,
            0.918878454808988,
            0.7634959891322588,
            0.41898468368779096,
            0.0015615796469222731,
            0.8973871330253977,
            0.9149918928211989,
            0.8898251848344952,
            0.9992946232992744,
            0.8636178986614369,
            0.8909749482199022,
            0.9409913792272852,
            0.8628747765124937,
            0.8101621900001136,
            0.7803455618082956,
            0.7826963694967908,
            0.7892161858515047,
            0.8500505983619702,
            0.9516309734113758,
            0.78047654627327,
            0.8602820908585238,
            0.9592553881208677,
            0.9485666959796035,
            0.9623514626299555,
            0.8947219835317851
           ]
          },
          {
           "label": "kernel",
           "range": [
            0,
            3
           ],
           "ticktext": [
            "rbf",
            "linear",
            "poly",
            "sigmoid"
           ],
           "tickvals": [
            0,
            1,
            2,
            3
           ],
           "values": [
            0,
            0,
            1,
            2,
            3,
            3,
            2,
            2,
            3,
            3,
            2,
            2,
            2,
            2,
            2,
            1,
            2,
            2,
            1,
            0,
            2,
            2,
            2,
            2,
            2,
            2,
            2,
            0,
            1,
            0,
            2,
            2,
            2,
            2,
            2,
            0,
            2,
            3,
            1,
            2,
            2,
            2,
            2,
            2,
            3,
            2,
            2,
            2,
            3,
            2
           ]
          },
          {
           "label": "random_state",
           "range": [
            0,
            5
           ],
           "values": [
            2,
            0,
            5,
            5,
            4,
            2,
            0,
            0,
            4,
            5,
            3,
            1,
            1,
            1,
            1,
            1,
            2,
            1,
            3,
            1,
            0,
            1,
            2,
            1,
            2,
            3,
            2,
            2,
            0,
            2,
            3,
            3,
            4,
            3,
            3,
            4,
            3,
            4,
            3,
            3,
            3,
            3,
            4,
            3,
            3,
            4,
            3,
            4,
            4,
            5
           ]
          }
         ],
         "labelangle": 30,
         "labelside": "bottom",
         "line": {
          "color": [
           0.030289330922242313,
           0.034358047016274866,
           0.025768535262206148,
           0.012206148282097649,
           1.089511754068716,
           0.7662748643761302,
           0.012206148282097649,
           0.015822784810126583,
           0.7296564195298373,
           0.8842676311030742,
           0.015370705244122965,
           0.02396021699819168,
           0.009945750452079566,
           0.00949367088607595,
           0.010397830018083183,
           0.02305605786618445,
           0.011754068716094032,
           0.009945750452079566,
           0.022603978300180832,
           0.012658227848101266,
           0.014466546112115732,
           0.009945750452079566,
           0.013562386980108499,
           0.013110307414104882,
           0.00949367088607595,
           0.0162748643761302,
           0.022603978300180832,
           0.009945750452079566,
           0.024412296564195298,
           0.13924050632911392,
           0.0081374321880651,
           0.0076853526220614825,
           0.010397830018083183,
           0.009945750452079566,
           0.009041591320072333,
           0.00949367088607595,
           0.012658227848101266,
           1.126130198915009,
           0.024412296564195298,
           0.009041591320072333,
           0.009041591320072333,
           0.009041591320072333,
           0.0108499095840868,
           0.012658227848101266,
           1.1053345388788427,
           0.011301989150090416,
           0.007233273056057866,
           0.007233273056057866,
           1.1360759493670887,
           0.0076853526220614825
          ],
          "colorbar": {
           "title": {
            "text": "Objective Value"
           }
          },
          "colorscale": [
           [
            0,
            "rgb(247,251,255)"
           ],
           [
            0.125,
            "rgb(222,235,247)"
           ],
           [
            0.25,
            "rgb(198,219,239)"
           ],
           [
            0.375,
            "rgb(158,202,225)"
           ],
           [
            0.5,
            "rgb(107,174,214)"
           ],
           [
            0.625,
            "rgb(66,146,198)"
           ],
           [
            0.75,
            "rgb(33,113,181)"
           ],
           [
            0.875,
            "rgb(8,81,156)"
           ],
           [
            1,
            "rgb(8,48,107)"
           ]
          ],
          "reversescale": true,
          "showscale": true
         },
         "type": "parcoords"
        }
       ],
       "layout": {
        "template": {
         "data": {
          "bar": [
           {
            "error_x": {
             "color": "#2a3f5f"
            },
            "error_y": {
             "color": "#2a3f5f"
            },
            "marker": {
             "line": {
              "color": "#E5ECF6",
              "width": 0.5
             },
             "pattern": {
              "fillmode": "overlay",
              "size": 10,
              "solidity": 0.2
             }
            },
            "type": "bar"
           }
          ],
          "barpolar": [
           {
            "marker": {
             "line": {
              "color": "#E5ECF6",
              "width": 0.5
             },
             "pattern": {
              "fillmode": "overlay",
              "size": 10,
              "solidity": 0.2
             }
            },
            "type": "barpolar"
           }
          ],
          "carpet": [
           {
            "aaxis": {
             "endlinecolor": "#2a3f5f",
             "gridcolor": "white",
             "linecolor": "white",
             "minorgridcolor": "white",
             "startlinecolor": "#2a3f5f"
            },
            "baxis": {
             "endlinecolor": "#2a3f5f",
             "gridcolor": "white",
             "linecolor": "white",
             "minorgridcolor": "white",
             "startlinecolor": "#2a3f5f"
            },
            "type": "carpet"
           }
          ],
          "choropleth": [
           {
            "colorbar": {
             "outlinewidth": 0,
             "ticks": ""
            },
            "type": "choropleth"
           }
          ],
          "contour": [
           {
            "colorbar": {
             "outlinewidth": 0,
             "ticks": ""
            },
            "colorscale": [
             [
              0,
              "#0d0887"
             ],
             [
              0.1111111111111111,
              "#46039f"
             ],
             [
              0.2222222222222222,
              "#7201a8"
             ],
             [
              0.3333333333333333,
              "#9c179e"
             ],
             [
              0.4444444444444444,
              "#bd3786"
             ],
             [
              0.5555555555555556,
              "#d8576b"
             ],
             [
              0.6666666666666666,
              "#ed7953"
             ],
             [
              0.7777777777777778,
              "#fb9f3a"
             ],
             [
              0.8888888888888888,
              "#fdca26"
             ],
             [
              1,
              "#f0f921"
             ]
            ],
            "type": "contour"
           }
          ],
          "contourcarpet": [
           {
            "colorbar": {
             "outlinewidth": 0,
             "ticks": ""
            },
            "type": "contourcarpet"
           }
          ],
          "heatmap": [
           {
            "colorbar": {
             "outlinewidth": 0,
             "ticks": ""
            },
            "colorscale": [
             [
              0,
              "#0d0887"
             ],
             [
              0.1111111111111111,
              "#46039f"
             ],
             [
              0.2222222222222222,
              "#7201a8"
             ],
             [
              0.3333333333333333,
              "#9c179e"
             ],
             [
              0.4444444444444444,
              "#bd3786"
             ],
             [
              0.5555555555555556,
              "#d8576b"
             ],
             [
              0.6666666666666666,
              "#ed7953"
             ],
             [
              0.7777777777777778,
              "#fb9f3a"
             ],
             [
              0.8888888888888888,
              "#fdca26"
             ],
             [
              1,
              "#f0f921"
             ]
            ],
            "type": "heatmap"
           }
          ],
          "heatmapgl": [
           {
            "colorbar": {
             "outlinewidth": 0,
             "ticks": ""
            },
            "colorscale": [
             [
              0,
              "#0d0887"
             ],
             [
              0.1111111111111111,
              "#46039f"
             ],
             [
              0.2222222222222222,
              "#7201a8"
             ],
             [
              0.3333333333333333,
              "#9c179e"
             ],
             [
              0.4444444444444444,
              "#bd3786"
             ],
             [
              0.5555555555555556,
              "#d8576b"
             ],
             [
              0.6666666666666666,
              "#ed7953"
             ],
             [
              0.7777777777777778,
              "#fb9f3a"
             ],
             [
              0.8888888888888888,
              "#fdca26"
             ],
             [
              1,
              "#f0f921"
             ]
            ],
            "type": "heatmapgl"
           }
          ],
          "histogram": [
           {
            "marker": {
             "pattern": {
              "fillmode": "overlay",
              "size": 10,
              "solidity": 0.2
             }
            },
            "type": "histogram"
           }
          ],
          "histogram2d": [
           {
            "colorbar": {
             "outlinewidth": 0,
             "ticks": ""
            },
            "colorscale": [
             [
              0,
              "#0d0887"
             ],
             [
              0.1111111111111111,
              "#46039f"
             ],
             [
              0.2222222222222222,
              "#7201a8"
             ],
             [
              0.3333333333333333,
              "#9c179e"
             ],
             [
              0.4444444444444444,
              "#bd3786"
             ],
             [
              0.5555555555555556,
              "#d8576b"
             ],
             [
              0.6666666666666666,
              "#ed7953"
             ],
             [
              0.7777777777777778,
              "#fb9f3a"
             ],
             [
              0.8888888888888888,
              "#fdca26"
             ],
             [
              1,
              "#f0f921"
             ]
            ],
            "type": "histogram2d"
           }
          ],
          "histogram2dcontour": [
           {
            "colorbar": {
             "outlinewidth": 0,
             "ticks": ""
            },
            "colorscale": [
             [
              0,
              "#0d0887"
             ],
             [
              0.1111111111111111,
              "#46039f"
             ],
             [
              0.2222222222222222,
              "#7201a8"
             ],
             [
              0.3333333333333333,
              "#9c179e"
             ],
             [
              0.4444444444444444,
              "#bd3786"
             ],
             [
              0.5555555555555556,
              "#d8576b"
             ],
             [
              0.6666666666666666,
              "#ed7953"
             ],
             [
              0.7777777777777778,
              "#fb9f3a"
             ],
             [
              0.8888888888888888,
              "#fdca26"
             ],
             [
              1,
              "#f0f921"
             ]
            ],
            "type": "histogram2dcontour"
           }
          ],
          "mesh3d": [
           {
            "colorbar": {
             "outlinewidth": 0,
             "ticks": ""
            },
            "type": "mesh3d"
           }
          ],
          "parcoords": [
           {
            "line": {
             "colorbar": {
              "outlinewidth": 0,
              "ticks": ""
             }
            },
            "type": "parcoords"
           }
          ],
          "pie": [
           {
            "automargin": true,
            "type": "pie"
           }
          ],
          "scatter": [
           {
            "fillpattern": {
             "fillmode": "overlay",
             "size": 10,
             "solidity": 0.2
            },
            "type": "scatter"
           }
          ],
          "scatter3d": [
           {
            "line": {
             "colorbar": {
              "outlinewidth": 0,
              "ticks": ""
             }
            },
            "marker": {
             "colorbar": {
              "outlinewidth": 0,
              "ticks": ""
             }
            },
            "type": "scatter3d"
           }
          ],
          "scattercarpet": [
           {
            "marker": {
             "colorbar": {
              "outlinewidth": 0,
              "ticks": ""
             }
            },
            "type": "scattercarpet"
           }
          ],
          "scattergeo": [
           {
            "marker": {
             "colorbar": {
              "outlinewidth": 0,
              "ticks": ""
             }
            },
            "type": "scattergeo"
           }
          ],
          "scattergl": [
           {
            "marker": {
             "colorbar": {
              "outlinewidth": 0,
              "ticks": ""
             }
            },
            "type": "scattergl"
           }
          ],
          "scattermapbox": [
           {
            "marker": {
             "colorbar": {
              "outlinewidth": 0,
              "ticks": ""
             }
            },
            "type": "scattermapbox"
           }
          ],
          "scatterpolar": [
           {
            "marker": {
             "colorbar": {
              "outlinewidth": 0,
              "ticks": ""
             }
            },
            "type": "scatterpolar"
           }
          ],
          "scatterpolargl": [
           {
            "marker": {
             "colorbar": {
              "outlinewidth": 0,
              "ticks": ""
             }
            },
            "type": "scatterpolargl"
           }
          ],
          "scatterternary": [
           {
            "marker": {
             "colorbar": {
              "outlinewidth": 0,
              "ticks": ""
             }
            },
            "type": "scatterternary"
           }
          ],
          "surface": [
           {
            "colorbar": {
             "outlinewidth": 0,
             "ticks": ""
            },
            "colorscale": [
             [
              0,
              "#0d0887"
             ],
             [
              0.1111111111111111,
              "#46039f"
             ],
             [
              0.2222222222222222,
              "#7201a8"
             ],
             [
              0.3333333333333333,
              "#9c179e"
             ],
             [
              0.4444444444444444,
              "#bd3786"
             ],
             [
              0.5555555555555556,
              "#d8576b"
             ],
             [
              0.6666666666666666,
              "#ed7953"
             ],
             [
              0.7777777777777778,
              "#fb9f3a"
             ],
             [
              0.8888888888888888,
              "#fdca26"
             ],
             [
              1,
              "#f0f921"
             ]
            ],
            "type": "surface"
           }
          ],
          "table": [
           {
            "cells": {
             "fill": {
              "color": "#EBF0F8"
             },
             "line": {
              "color": "white"
             }
            },
            "header": {
             "fill": {
              "color": "#C8D4E3"
             },
             "line": {
              "color": "white"
             }
            },
            "type": "table"
           }
          ]
         },
         "layout": {
          "annotationdefaults": {
           "arrowcolor": "#2a3f5f",
           "arrowhead": 0,
           "arrowwidth": 1
          },
          "autotypenumbers": "strict",
          "coloraxis": {
           "colorbar": {
            "outlinewidth": 0,
            "ticks": ""
           }
          },
          "colorscale": {
           "diverging": [
            [
             0,
             "#8e0152"
            ],
            [
             0.1,
             "#c51b7d"
            ],
            [
             0.2,
             "#de77ae"
            ],
            [
             0.3,
             "#f1b6da"
            ],
            [
             0.4,
             "#fde0ef"
            ],
            [
             0.5,
             "#f7f7f7"
            ],
            [
             0.6,
             "#e6f5d0"
            ],
            [
             0.7,
             "#b8e186"
            ],
            [
             0.8,
             "#7fbc41"
            ],
            [
             0.9,
             "#4d9221"
            ],
            [
             1,
             "#276419"
            ]
           ],
           "sequential": [
            [
             0,
             "#0d0887"
            ],
            [
             0.1111111111111111,
             "#46039f"
            ],
            [
             0.2222222222222222,
             "#7201a8"
            ],
            [
             0.3333333333333333,
             "#9c179e"
            ],
            [
             0.4444444444444444,
             "#bd3786"
            ],
            [
             0.5555555555555556,
             "#d8576b"
            ],
            [
             0.6666666666666666,
             "#ed7953"
            ],
            [
             0.7777777777777778,
             "#fb9f3a"
            ],
            [
             0.8888888888888888,
             "#fdca26"
            ],
            [
             1,
             "#f0f921"
            ]
           ],
           "sequentialminus": [
            [
             0,
             "#0d0887"
            ],
            [
             0.1111111111111111,
             "#46039f"
            ],
            [
             0.2222222222222222,
             "#7201a8"
            ],
            [
             0.3333333333333333,
             "#9c179e"
            ],
            [
             0.4444444444444444,
             "#bd3786"
            ],
            [
             0.5555555555555556,
             "#d8576b"
            ],
            [
             0.6666666666666666,
             "#ed7953"
            ],
            [
             0.7777777777777778,
             "#fb9f3a"
            ],
            [
             0.8888888888888888,
             "#fdca26"
            ],
            [
             1,
             "#f0f921"
            ]
           ]
          },
          "colorway": [
           "#636efa",
           "#EF553B",
           "#00cc96",
           "#ab63fa",
           "#FFA15A",
           "#19d3f3",
           "#FF6692",
           "#B6E880",
           "#FF97FF",
           "#FECB52"
          ],
          "font": {
           "color": "#2a3f5f"
          },
          "geo": {
           "bgcolor": "white",
           "lakecolor": "white",
           "landcolor": "#E5ECF6",
           "showlakes": true,
           "showland": true,
           "subunitcolor": "white"
          },
          "hoverlabel": {
           "align": "left"
          },
          "hovermode": "closest",
          "mapbox": {
           "style": "light"
          },
          "paper_bgcolor": "white",
          "plot_bgcolor": "#E5ECF6",
          "polar": {
           "angularaxis": {
            "gridcolor": "white",
            "linecolor": "white",
            "ticks": ""
           },
           "bgcolor": "#E5ECF6",
           "radialaxis": {
            "gridcolor": "white",
            "linecolor": "white",
            "ticks": ""
           }
          },
          "scene": {
           "xaxis": {
            "backgroundcolor": "#E5ECF6",
            "gridcolor": "white",
            "gridwidth": 2,
            "linecolor": "white",
            "showbackground": true,
            "ticks": "",
            "zerolinecolor": "white"
           },
           "yaxis": {
            "backgroundcolor": "#E5ECF6",
            "gridcolor": "white",
            "gridwidth": 2,
            "linecolor": "white",
            "showbackground": true,
            "ticks": "",
            "zerolinecolor": "white"
           },
           "zaxis": {
            "backgroundcolor": "#E5ECF6",
            "gridcolor": "white",
            "gridwidth": 2,
            "linecolor": "white",
            "showbackground": true,
            "ticks": "",
            "zerolinecolor": "white"
           }
          },
          "shapedefaults": {
           "line": {
            "color": "#2a3f5f"
           }
          },
          "ternary": {
           "aaxis": {
            "gridcolor": "white",
            "linecolor": "white",
            "ticks": ""
           },
           "baxis": {
            "gridcolor": "white",
            "linecolor": "white",
            "ticks": ""
           },
           "bgcolor": "#E5ECF6",
           "caxis": {
            "gridcolor": "white",
            "linecolor": "white",
            "ticks": ""
           }
          },
          "title": {
           "x": 0.05
          },
          "xaxis": {
           "automargin": true,
           "gridcolor": "white",
           "linecolor": "white",
           "ticks": "",
           "title": {
            "standoff": 15
           },
           "zerolinecolor": "white",
           "zerolinewidth": 2
          },
          "yaxis": {
           "automargin": true,
           "gridcolor": "white",
           "linecolor": "white",
           "ticks": "",
           "title": {
            "standoff": 15
           },
           "zerolinecolor": "white",
           "zerolinewidth": 2
          }
         }
        },
        "title": {
         "text": "Parallel Coordinate Plot"
        }
       }
      }
     },
     "metadata": {},
     "output_type": "display_data"
    }
   ],
   "source": [
    "fig_study = optuna.visualization.plot_parallel_coordinate(study_SVC, params=[\"C\", \"kernel\",\"degree\",\"gamma\",\"decision_function_shape\",\"random_state\"])\n",
    "fig_study.show()"
   ]
  },
  {
   "cell_type": "code",
   "execution_count": 59,
   "metadata": {},
   "outputs": [
    {
     "name": "stdout",
     "output_type": "stream",
     "text": [
      "Number of finished trials:  50\n",
      "Best trial:\n",
      "  Value:  0.007233273056057866\n",
      "  Params: \n",
      "    C: 8.986196799104398\n",
      "    kernel: poly\n",
      "    degree: 4\n",
      "    gamma: 0.9592553881208677\n",
      "    decision_function_shape: ovo\n",
      "    random_state: 3\n"
     ]
    }
   ],
   "source": [
    "#evaluate the trial\n",
    "print(\"Number of finished trials: \", len(study_SVC.trials))\n",
    "print(\"Best trial:\")\n",
    "trial = study_SVC.best_trial\n",
    "print(\"  Value: \", trial.value)\n",
    "print(\"  Params: \")\n",
    "for key, value in trial.params.items():\n",
    "    print(\"    {}: {}\".format(key, value))"
   ]
  },
  {
   "cell_type": "markdown",
   "metadata": {},
   "source": [
    "# fit the SVM model"
   ]
  },
  {
   "cell_type": "code",
   "execution_count": 60,
   "metadata": {},
   "outputs": [
    {
     "name": "stderr",
     "output_type": "stream",
     "text": [
      "100%|██████████| 5/5 [00:00<00:00, 30.89it/s]"
     ]
    },
    {
     "name": "stdout",
     "output_type": "stream",
     "text": [
      "0.00904392764857881\n"
     ]
    },
    {
     "name": "stderr",
     "output_type": "stream",
     "text": [
      "\n"
     ]
    }
   ],
   "source": [
    "# Let us make predictions for each of the 5 models and find mean \n",
    "# of those predictions\n",
    "\n",
    "from tqdm import tqdm\n",
    "train_SVC = np.array(encoded_X_train_n)\n",
    "target_train_SVC = np.array(y_train)\n",
    "\n",
    "test_SVC = np.array(encoded_X_test_n) # or test_Ada = np.array(X)\n",
    "\n",
    "\n",
    "test_preds_SVC = np.zeros((len(test_SVC)))\n",
    "oof_preds_SVC = np.zeros((len(train_SVC)))\n",
    "\n",
    "for train_index, val_index in tqdm(skf.split(encoded_X_train_n,y_train), total=5):\n",
    "    train_X, valid_X = train_SVC[train_index], train_SVC[val_index]\n",
    "    train_y, valid_y = target_train_SVC[train_index], target_train_SVC[val_index]\n",
    "    svc_params = study_SVC.best_trial.params\n",
    "    model_SVC_2 = SVC(**svc_params)\n",
    "    model_SVC_2.fit(train_X, train_y)\n",
    "    # for train accuracy\n",
    "    preds = model_SVC_2.predict(valid_X)\n",
    "    oof_preds_SVC[val_index] = preds\n",
    "    # for test accuracy\n",
    "    preds = model_SVC_2.predict(test_SVC)\n",
    "    test_preds_SVC += (preds)/5\n",
    "print(np.abs(oof_preds_SVC-target_train_SVC).mean())"
   ]
  },
  {
   "cell_type": "code",
   "execution_count": 61,
   "metadata": {},
   "outputs": [
    {
     "name": "stdout",
     "output_type": "stream",
     "text": [
      "0.9924698795180723\n"
     ]
    }
   ],
   "source": [
    "from sklearn.metrics import accuracy_score\n",
    "# valid_Acc_SVC=accuracy_score(target_train,oof_preds)\n",
    "# print(valid_Acc_SVC)\n",
    "target_test=np.array(y_test)\n",
    "# another technique for calculate test accuracy\n",
    "test_Acc_SVC=accuracy_score(target_test,test_preds_SVC.round())\n",
    "print(test_Acc_SVC)"
   ]
  },
  {
   "cell_type": "code",
   "execution_count": 62,
   "metadata": {},
   "outputs": [
    {
     "name": "stdout",
     "output_type": "stream",
     "text": [
      "0.9909560723514211\n"
     ]
    }
   ],
   "source": [
    "#validation accuracy\n",
    "valid_Acc=accuracy_score(target_train_SVC,oof_preds_SVC)\n",
    "print(valid_Acc)"
   ]
  },
  {
   "cell_type": "code",
   "execution_count": 63,
   "metadata": {},
   "outputs": [
    {
     "name": "stdout",
     "output_type": "stream",
     "text": [
      "0.9935400516795866\n"
     ]
    }
   ],
   "source": [
    "# train accuracy\n",
    "train_Acc=model_SVC_2.score(encoded_X_train_n,y_train)\n",
    "print(train_Acc)"
   ]
  },
  {
   "cell_type": "code",
   "execution_count": 64,
   "metadata": {},
   "outputs": [
    {
     "name": "stdout",
     "output_type": "stream",
     "text": [
      "0.9894578313253012\n"
     ]
    }
   ],
   "source": [
    "# test_accuracy\n",
    "test_Acc=model_SVC_2.score(encoded_X_test_n,y_test)\n",
    "print(test_Acc)"
   ]
  },
  {
   "cell_type": "markdown",
   "metadata": {},
   "source": [
    "# Evaluation"
   ]
  },
  {
   "cell_type": "code",
   "execution_count": 65,
   "metadata": {},
   "outputs": [
    {
     "data": {
      "image/png": "[encoded data removed]",
      "text/plain": [
       "<Figure size 640x480 with 2 Axes>"
      ]
     },
     "metadata": {},
     "output_type": "display_data"
    }
   ],
   "source": [
    "############# plot confusion matrix ############\n",
    "\n",
    "from matplotlib import pyplot as plt\n",
    "from sklearn import metrics\n",
    "\n",
    "cm = metrics.confusion_matrix(y_test, test_preds_SVC.round())\n",
    "disp = metrics.ConfusionMatrixDisplay(confusion_matrix=cm)\n",
    "disp.plot()\n",
    "\n",
    "plt.show()\n",
    "# plt.imshow(cm, interpolation='nearest', cmap=plt.cm.pink)\n"
   ]
  },
  {
   "cell_type": "code",
   "execution_count": 66,
   "metadata": {},
   "outputs": [
    {
     "data": {
      "image/png": "[encoded data removed]",
      "text/plain": [
       "<Figure size 800x600 with 2 Axes>"
      ]
     },
     "metadata": {},
     "output_type": "display_data"
    }
   ],
   "source": [
    "# Plot confusion matrix with custom color map\n",
    "\n",
    "plt.figure(figsize=(8, 6))\n",
    "plt.imshow(cm, interpolation='nearest', cmap=plt.cm.PuRd)  # Set cmap to custom color map\n",
    "plt.title('Confusion Matrix')\n",
    "plt.colorbar()\n",
    "\n",
    "# Adding ticks and labels\n",
    "# tick_marks = np.arange(len(cm))\n",
    "# plt.xticks(tick_marks, ['Class 0', 'Class 1', 'Class 2','Class 3','Class 4','class 5','class 6'])\n",
    "# plt.yticks(tick_marks, ['Class 0', 'Class 1', 'Class 2'])\n",
    "\n",
    "# Adding annotations\n",
    "thresh = cm.max() / 2.\n",
    "for i in range(cm.shape[0]):\n",
    "    for j in range(cm.shape[1]):\n",
    "        plt.text(j, i, format(cm[i, j], 'd'), #'d = integer\n",
    "                 horizontalalignment=\"center\",\n",
    "                 color=\"white\" if cm[i, j] > thresh else \"black\")\n",
    "\n",
    "plt.ylabel('True label')\n",
    "plt.xlabel('Predicted label')\n",
    "plt.tight_layout() #improves the layout of plots by preventing overlapping elements such as axis labels, tick labels, and titles\n",
    "plt.show()"
   ]
  }
 ],
 "metadata": {
  "kernelspec": {
   "display_name": "Python 3",
   "language": "python",
   "name": "python3"
  },
  "language_info": {
   "codemirror_mode": {
    "name": "ipython",
    "version": 3
   },
   "file_extension": ".py",
   "mimetype": "text/x-python",
   "name": "python",
   "nbconvert_exporter": "python",
   "pygments_lexer": "ipython3",
   "version": "3.11.4"
  }
 },
 "nbformat": 4,
 "nbformat_minor": 2
}
