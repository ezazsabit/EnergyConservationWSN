{
 "cells": [
  {
   "cell_type": "code",
   "execution_count": 112,
   "metadata": {},
   "outputs": [],
   "source": [
    "import pandas as pd\n",
    "import numpy as np\n",
    "from sklearn.preprocessing import StandardScaler\n",
    "from sklearn.decomposition import PCA\n",
    "import seaborn as sns\n",
    "import matplotlib.pyplot as plt\n",
    "import optuna\n",
    "from sklearn.model_selection import train_test_split\n",
    "from sklearn.metrics import roc_auc_score\n",
    "import sklearn\n",
    "import random\n",
    "import warnings\n",
    "warnings.filterwarnings(\"ignore\")\n",
    "from sklearn.metrics import mean_absolute_error"
   ]
  },
  {
   "cell_type": "code",
   "execution_count": 113,
   "metadata": {},
   "outputs": [],
   "source": [
    "import warnings\n",
    "warnings.filterwarnings(\"ignore\")\n",
    "from sklearn.metrics import mean_absolute_error"
   ]
  },
  {
   "cell_type": "code",
   "execution_count": 114,
   "metadata": {},
   "outputs": [
    {
     "name": "stdout",
     "output_type": "stream",
     "text": [
      "            F2        F3        F1       F11        F4        F6       F10  \\\n",
      "1013  0.088513  0.956258  0.944564  0.411170  0.885914  0.758659  0.958208   \n",
      "1450  0.675080  0.559051  0.304212  0.155833  0.565774  0.073474  0.195783   \n",
      "849   0.468877  0.811238  0.583741  0.192199  0.636454  0.228175  0.328690   \n",
      "245   0.137861  0.937584  0.916748  0.984929  0.985864  0.734195  0.971197   \n",
      "1440  0.649626  0.575370  0.316748  0.154096  0.415932  0.100000  0.190324   \n",
      "...        ...       ...       ...       ...       ...       ...       ...   \n",
      "1178  0.145711  0.970895  0.948286  0.326241  0.975719  0.597856  0.964420   \n",
      "688   0.419679  0.884926  0.616063  0.207979  0.708465  0.198296  0.381965   \n",
      "2031  0.222032  0.855316  0.820372  0.238652  0.788625  0.443375  0.358057   \n",
      "822   0.502888  0.794751  0.611361  0.199823  0.772659  0.168444  0.295934   \n",
      "181   0.222246  0.833950  0.738688  0.468617  0.864294  0.505223  0.959714   \n",
      "\n",
      "            F9        F5       F7     F12      F8  \n",
      "1013  0.381804  0.427015  1.01200  0.7874  0.4077  \n",
      "1450  0.106287  0.056282  0.02319  5.3410  0.1392  \n",
      "849   0.173995  0.278359  0.42970  5.0100  0.1831  \n",
      "245   0.701679  0.606754  0.98510  0.7520  0.3223  \n",
      "1440  0.102968  0.067829  0.27830  4.9930  0.2014  \n",
      "...        ...       ...      ...     ...     ...  \n",
      "1178  0.654041  0.765069  1.76300  0.8459  0.9045  \n",
      "688   0.176845  0.231808  0.27100  5.4940  0.2466  \n",
      "2031  0.246427  0.197240  0.47000  5.3780  0.2466  \n",
      "822   0.194455  0.302723  0.59080  5.3390  0.1953  \n",
      "181   0.430301  0.312927  0.51760  5.3970  0.3918  \n",
      "\n",
      "[2212 rows x 12 columns]\n",
      "1013    2\n",
      "1450    0\n",
      "849     1\n",
      "245     0\n",
      "1440    0\n",
      "       ..\n",
      "1178    2\n",
      "688     1\n",
      "2031    1\n",
      "822     1\n",
      "181     0\n",
      "Name: out, Length: 2212, dtype: int64\n"
     ]
    }
   ],
   "source": [
    "filename = 'Dataset/Sensor_Discrimination_normalized.csv'\n",
    "df=pd.read_csv(filename)\n",
    "# shuffle the DataFrame rows\n",
    "df = df.sample(frac = 1) #frac = fraction\n",
    "dataset=df.iloc[:,:-1]\n",
    "label=df.iloc[:,-1]\n",
    "print(dataset)\n",
    "print(label)"
   ]
  },
  {
   "cell_type": "markdown",
   "metadata": {},
   "source": [
    "# PCA implement"
   ]
  },
  {
   "cell_type": "code",
   "execution_count": 115,
   "metadata": {},
   "outputs": [
    {
     "name": "stdout",
     "output_type": "stream",
     "text": [
      "PCA(n_components=9)\n",
      "<class 'numpy.ndarray'>\n",
      "9\n",
      "[[-3.12711956e+00  5.09117893e-01 -2.84661083e-01 ...  1.86195111e-01\n",
      "   3.11647444e-02 -3.67313218e-02]\n",
      " [ 1.50224996e+00 -1.00847700e+00  1.52687310e-01 ... -6.25161527e-02\n",
      "  -7.96562407e-02 -1.65079374e-02]\n",
      " [ 1.14323091e+00 -4.35751573e-01  4.20218386e-02 ... -6.52855000e-04\n",
      "   5.10782032e-02 -2.82082522e-02]\n",
      " ...\n",
      " [ 1.50093309e+00 -1.60912667e-01 -2.62802465e-01 ...  3.79877684e-02\n",
      "  -3.88338741e-03  4.77678693e-03]\n",
      " [ 1.46500511e+00 -3.07475958e-01  1.34132808e-01 ... -3.31989874e-02\n",
      "   1.43505625e-01  2.33620448e-03]\n",
      " [ 1.50135425e+00  2.64157137e-01 -2.58833706e-01 ... -3.64891603e-02\n",
      "  -3.88846947e-02  4.37923921e-02]]\n"
     ]
    }
   ],
   "source": [
    "pcaTrain = PCA(n_components=9).fit(dataset)# --train-- pca with the \"dataset\" Dataframe\n",
    "print(pcaTrain)\n",
    "compressed_dataset_X= pcaTrain.transform(dataset) # --transform-- the original \"dataset\" Dataframe into a lower-dimensional space based on the model's learned parameters\n",
    "print(type(compressed_dataset_X))\n",
    "print(len(compressed_dataset_X[0]))\n",
    "print(compressed_dataset_X)"
   ]
  },
  {
   "cell_type": "code",
   "execution_count": 116,
   "metadata": {},
   "outputs": [
    {
     "name": "stdout",
     "output_type": "stream",
     "text": [
      "1327\n"
     ]
    }
   ],
   "source": [
    "dataset_arr=dataset.to_numpy()\n",
    "# from NecessaryModules.splitData import split_data\n",
    "X_train,X_comb, y_train,y_comb = train_test_split(dataset_arr, label, test_size=0.4, random_state=42)\n",
    "print(len(X_train))"
   ]
  },
  {
   "cell_type": "code",
   "execution_count": 117,
   "metadata": {},
   "outputs": [
    {
     "name": "stdout",
     "output_type": "stream",
     "text": [
      "442\n"
     ]
    }
   ],
   "source": [
    "X_valid, X_test, y_valid, y_test = train_test_split(X_comb, y_comb, test_size=0.50, random_state=42)\n",
    "print(len(X_valid))"
   ]
  },
  {
   "cell_type": "code",
   "execution_count": 118,
   "metadata": {},
   "outputs": [
    {
     "name": "stdout",
     "output_type": "stream",
     "text": [
      "<class 'numpy.ndarray'>\n",
      "1327\n",
      "[[-2.99010782e+00 -2.82810323e-01 -3.49890987e-01 ...  6.00452109e-02\n",
      "   1.15713774e-02 -1.07665999e-02]\n",
      " [-3.27166193e+00 -2.73236697e-01 -3.50677306e-01 ...  2.50891612e-03\n",
      "   2.29038626e-02 -2.48395494e-02]\n",
      " [ 1.51219383e+00 -5.71786239e-01  2.58872133e-01 ... -1.58787716e-01\n",
      "  -1.83144118e-02  4.67458446e-02]\n",
      " ...\n",
      " [ 1.58271458e+00 -9.82553770e-01  2.20666072e-01 ...  4.76462200e-02\n",
      "  -6.11379673e-03 -5.93479483e-02]\n",
      " [-3.03906911e+00 -3.04574331e-01 -3.93223021e-01 ...  7.65069919e-02\n",
      "   6.45590676e-02 -1.09396784e-01]\n",
      " [ 8.08825007e-01 -1.98687492e-01 -3.08823905e-01 ... -2.90409406e-02\n",
      "  -4.92945091e-02 -3.46689615e-02]]\n",
      "<class 'numpy.ndarray'>\n",
      "442\n",
      "[[ 8.22325723e-01  1.23532461e+00 -8.05579827e-02 ... -1.28818371e-02\n",
      "  -1.07558530e-03 -5.80808132e-02]\n",
      " [ 1.56209114e+00  4.03602416e-01 -1.44928776e-01 ... -2.79987872e-02\n",
      "   2.36382548e-02  4.91754153e-02]\n",
      " [ 1.74500039e+00  4.15581182e-01 -1.80132111e-02 ... -6.95531296e-02\n",
      "  -2.15181709e-02  5.36360132e-02]\n",
      " ...\n",
      " [-3.93820863e+00 -1.28045286e+00  3.70753950e-01 ...  6.08906376e-02\n",
      "   5.67405268e-03 -1.31254695e-01]\n",
      " [-3.12901297e+00  1.46059395e+00  6.34578573e-01 ... -3.86285353e-02\n",
      "   9.47085271e-02  5.25461149e-02]\n",
      " [ 1.60972596e+01  6.49938826e-01 -1.99227132e-02 ... -1.96001391e-02\n",
      "  -1.24682801e-01  1.59659599e-02]]\n",
      "<class 'numpy.ndarray'>\n",
      "443\n",
      "[[ 1.52239845e+00 -4.06725543e-01 -1.03312196e-01 ...  2.16109053e-02\n",
      "  -2.50596247e-03  5.40173718e-02]\n",
      " [-3.02468608e+00 -4.82778010e-01  9.05979049e-02 ...  3.63109816e-02\n",
      "  -9.15379818e-02  6.41508174e-02]\n",
      " [ 1.34511962e+00  3.84684091e-02  1.27938000e-01 ... -2.42254256e-01\n",
      "  -6.74316769e-02  2.83008932e-02]\n",
      " ...\n",
      " [ 1.66457628e+00  1.28257319e+00 -5.12214034e-02 ... -3.86814139e-02\n",
      "  -8.50270689e-02  1.29827133e-02]\n",
      " [-3.74429655e+00 -6.24187845e-01 -2.82384343e-01 ... -1.43799728e-01\n",
      "   1.18683768e-02  5.11376968e-02]\n",
      " [ 1.60658051e+01  1.29797628e+00  6.59397089e-02 ...  1.32775216e-01\n",
      "  -4.86154524e-02 -1.50239762e-02]]\n"
     ]
    }
   ],
   "source": [
    "compressed_dataset_X_train= pcaTrain.transform(X_train) # --transform-- the original \"dataset\" Dataframe into a lower-dimensional space based on the model's learned parameters\n",
    "print(type(compressed_dataset_X_train))\n",
    "print(len(compressed_dataset_X_train))\n",
    "print(compressed_dataset_X_train)\n",
    "\n",
    "compressed_dataset_X_valid= pcaTrain.transform(X_valid) # --transform-- the original \"dataset\" Dataframe into a lower-dimensional space based on the model's learned parameters\n",
    "print(type(compressed_dataset_X_valid))\n",
    "print(len(compressed_dataset_X_valid))\n",
    "print(compressed_dataset_X_valid)\n",
    "\n",
    "compressed_dataset_X_test= pcaTrain.transform(X_test) # --transform-- the original \"dataset\" Dataframe into a lower-dimensional space based on the model's learned parameters\n",
    "print(type(compressed_dataset_X_test))\n",
    "print(len(compressed_dataset_X_test))\n",
    "print(compressed_dataset_X_test)"
   ]
  },
  {
   "cell_type": "markdown",
   "metadata": {},
   "source": [
    "# reshape the data "
   ]
  },
  {
   "cell_type": "code",
   "execution_count": 119,
   "metadata": {},
   "outputs": [
    {
     "data": {
      "text/plain": [
       "(442, 9)"
      ]
     },
     "execution_count": 119,
     "metadata": {},
     "output_type": "execute_result"
    }
   ],
   "source": [
    "compressed_dataset_X_valid.shape"
   ]
  },
  {
   "cell_type": "code",
   "execution_count": 120,
   "metadata": {},
   "outputs": [
    {
     "data": {
      "text/plain": [
       "(1327, 9, 1)"
      ]
     },
     "execution_count": 120,
     "metadata": {},
     "output_type": "execute_result"
    }
   ],
   "source": [
    "X_train_arr=compressed_dataset_X_train.reshape(compressed_dataset_X_train.shape[0],compressed_dataset_X_train.shape[1],1)\n",
    "X_train_arr.shape"
   ]
  },
  {
   "cell_type": "code",
   "execution_count": 121,
   "metadata": {},
   "outputs": [
    {
     "data": {
      "text/plain": [
       "(442, 9, 1)"
      ]
     },
     "execution_count": 121,
     "metadata": {},
     "output_type": "execute_result"
    }
   ],
   "source": [
    "# X_valid_arr=compressed_dataset_X_valid.to_numpy()\n",
    "X_valid_arr=compressed_dataset_X_valid.reshape(compressed_dataset_X_valid.shape[0],compressed_dataset_X_valid.shape[1],1)\n",
    "X_valid_arr.shape"
   ]
  },
  {
   "cell_type": "code",
   "execution_count": 122,
   "metadata": {},
   "outputs": [
    {
     "data": {
      "text/plain": [
       "(443, 9, 1)"
      ]
     },
     "execution_count": 122,
     "metadata": {},
     "output_type": "execute_result"
    }
   ],
   "source": [
    "X_test_arr=compressed_dataset_X_test.reshape(compressed_dataset_X_test.shape[0],compressed_dataset_X_test.shape[1],1)\n",
    "X_test_arr.shape"
   ]
  },
  {
   "cell_type": "code",
   "execution_count": 123,
   "metadata": {},
   "outputs": [],
   "source": [
    "# for \"y\"\n",
    "\n",
    "y_train_arr=np.array(y_train)\n",
    "y_train_arr=y_train_arr.reshape(y_train_arr.shape[0],1)\n",
    "\n",
    "y_valid_arr=np.array(y_valid)\n",
    "y_valid_arr=y_valid_arr.reshape(y_valid_arr.shape[0],1)\n",
    "\n",
    "y_test_arr=np.array(y_test)\n",
    "y_test_arr=y_test_arr.reshape(y_test_arr.shape[0],1)"
   ]
  },
  {
   "cell_type": "code",
   "execution_count": 124,
   "metadata": {},
   "outputs": [
    {
     "data": {
      "text/plain": [
       "(443, 1)"
      ]
     },
     "execution_count": 124,
     "metadata": {},
     "output_type": "execute_result"
    }
   ],
   "source": [
    "y_test_arr.shape"
   ]
  },
  {
   "cell_type": "markdown",
   "metadata": {},
   "source": [
    "# one hot encode"
   ]
  },
  {
   "cell_type": "code",
   "execution_count": 125,
   "metadata": {},
   "outputs": [],
   "source": [
    "from keras.utils import to_categorical\n",
    "# one hot encoding\n",
    "y_train_arr = to_categorical(y_train, 3)\n",
    "y_valid_arr = to_categorical(y_valid, 3)\n",
    "y_test_arr = to_categorical(y_test, 3)"
   ]
  },
  {
   "cell_type": "code",
   "execution_count": 126,
   "metadata": {},
   "outputs": [
    {
     "data": {
      "text/plain": [
       "(443, 3)"
      ]
     },
     "execution_count": 126,
     "metadata": {},
     "output_type": "execute_result"
    }
   ],
   "source": [
    "y_test_arr.shape"
   ]
  },
  {
   "cell_type": "markdown",
   "metadata": {},
   "source": [
    "# model"
   ]
  },
  {
   "cell_type": "code",
   "execution_count": 127,
   "metadata": {},
   "outputs": [],
   "source": [
    "\n",
    "# cnn model\n",
    "from numpy import mean\n",
    "from numpy import std\n",
    "from numpy import dstack\n",
    "from pandas import read_csv\n",
    "from matplotlib import pyplot\n",
    "from keras.models import Sequential\n",
    "from keras.layers import Dense\n",
    "from keras.layers import Flatten\n",
    "from keras.layers import Dropout\n",
    "from keras.layers import Conv1D\n",
    "from keras.layers import MaxPooling1D,LSTM\n"
   ]
  },
  {
   "cell_type": "code",
   "execution_count": 128,
   "metadata": {},
   "outputs": [],
   "source": [
    "import tensorflow as tf\n",
    "callback=tf.keras.callbacks.EarlyStopping(\n",
    "    monitor='val_loss',\n",
    "    min_delta=0,\n",
    "    patience=4,\n",
    "    verbose=0,\n",
    "    mode='auto',\n",
    "    baseline=None,\n",
    "    restore_best_weights=True,\n",
    "    start_from_epoch=0\n",
    ")"
   ]
  },
  {
   "cell_type": "code",
   "execution_count": 129,
   "metadata": {},
   "outputs": [],
   "source": [
    "# Global value\n",
    "verbose, epochs, batch_size = 1, 100, 40\n"
   ]
  },
  {
   "cell_type": "code",
   "execution_count": 130,
   "metadata": {},
   "outputs": [],
   "source": [
    "# summarize scores\n",
    "def summarize_results(scores):\n",
    " print(scores)\n",
    " m, s = mean(scores), std(scores)\n",
    " print('Test Accuracy: %.3f%% (+/-%.3f)' % (m, s))\n",
    " "
   ]
  },
  {
   "cell_type": "markdown",
   "metadata": {},
   "source": [
    "# Accuracy measure"
   ]
  },
  {
   "cell_type": "markdown",
   "metadata": {},
   "source": [
    "**tunned model**"
   ]
  },
  {
   "cell_type": "code",
   "execution_count": 131,
   "metadata": {},
   "outputs": [],
   "source": [
    "# fit and evaluate a model\n",
    "import optuna\n",
    "from matplotlib import pyplot as plt\n",
    "\n",
    "def optimize_model2(trainX, trainy,validX,validy):\n",
    "    n_timesteps, n_features, n_outputs = trainX.shape[1], trainX.shape[2], 3\n",
    "    def objective_model2(trial):\n",
    "    # Define hyperparameters to be tuned\n",
    "     \n",
    "     filters = trial.suggest_int('filters', 32, 128)\n",
    "    #  kernel_size = trial.suggest_int('kernel_size', 2, 5)\n",
    "     dropout_rate = trial.suggest_float('dropout_rate', 0.1, 0.5)\n",
    "    #  dense_units = trial.suggest_int('dense_units', 50, 200)\n",
    "    #  pool_size=trial.suggest_int('pool_size',2,4)\n",
    "     \n",
    "     \n",
    "     # Build the CNN model\n",
    "     model = Sequential()\n",
    "     model.add(Conv1D(filters=filters, kernel_size=3, activation='relu', input_shape=(n_timesteps, n_features)))\n",
    "    #  model.add(MaxPooling1D(pool_size=pool_size))\n",
    "     model.add(LSTM(units=filters)) # remember the important features\n",
    "     model.add(Dense(100, activation='relu'))\n",
    "     model.add(Dense(filters, activation='relu')) \n",
    "     model.add(Dropout(dropout_rate))#for regularization\n",
    "     model.add(Dense(n_outputs, activation='softmax'))\n",
    " \n",
    "     # Compile the model\n",
    "     model.compile(loss='categorical_crossentropy', optimizer='adam', metrics=['accuracy'])\n",
    " \n",
    "     # Fit the model\n",
    "     history = model.fit(trainX, trainy, validation_data=(validX, validy), epochs=epochs,callbacks=[callback],batch_size=batch_size, verbose=verbose)\n",
    "    \n",
    "    # Return the validation accuracy as the objective value\n",
    "     return history.history['val_accuracy'][-1]\n",
    "    study = optuna.create_study(direction='maximize')\n",
    "    study.optimize(objective_model2, n_trials= 10, \n",
    "                   #timeout=600\n",
    "                   )#The maximum time (in seconds) allowed for the optimization process to run.\n",
    "    # Get the best hyperparameters\n",
    "    best_params = study.best_params\n",
    "    print(\"Best Hyperparameters:\", best_params)\n",
    "    \n",
    "\n",
    "    return best_params\n",
    " \n",
    "\n"
   ]
  },
  {
   "cell_type": "code",
   "execution_count": 132,
   "metadata": {},
   "outputs": [
    {
     "name": "stderr",
     "output_type": "stream",
     "text": [
      "[I 2024-02-12 12:45:50,463] A new study created in memory with name: no-name-e853333b-e1bd-47c5-848f-edea1009278d\n"
     ]
    },
    {
     "name": "stdout",
     "output_type": "stream",
     "text": [
      "Epoch 1/100\n",
      "34/34 [==============================] - 3s 25ms/step - loss: 0.9622 - accuracy: 0.5132 - val_loss: 0.7664 - val_accuracy: 0.5792\n",
      "Epoch 2/100\n",
      "34/34 [==============================] - 0s 14ms/step - loss: 0.5483 - accuracy: 0.7754 - val_loss: 0.3828 - val_accuracy: 0.8416\n",
      "Epoch 3/100\n",
      "34/34 [==============================] - 0s 11ms/step - loss: 0.3372 - accuracy: 0.8855 - val_loss: 0.2849 - val_accuracy: 0.8756\n",
      "Epoch 4/100\n",
      "34/34 [==============================] - 0s 12ms/step - loss: 0.2960 - accuracy: 0.8877 - val_loss: 0.2654 - val_accuracy: 0.8846\n",
      "Epoch 5/100\n",
      "34/34 [==============================] - 0s 13ms/step - loss: 0.2295 - accuracy: 0.9209 - val_loss: 0.2010 - val_accuracy: 0.9344\n",
      "Epoch 6/100\n",
      "34/34 [==============================] - 0s 12ms/step - loss: 0.2443 - accuracy: 0.9201 - val_loss: 0.2094 - val_accuracy: 0.9321\n",
      "Epoch 7/100\n",
      "34/34 [==============================] - 0s 11ms/step - loss: 0.2046 - accuracy: 0.9420 - val_loss: 0.1490 - val_accuracy: 0.9344\n",
      "Epoch 8/100\n",
      "34/34 [==============================] - 0s 11ms/step - loss: 0.1759 - accuracy: 0.9465 - val_loss: 0.2218 - val_accuracy: 0.9412\n",
      "Epoch 9/100\n",
      "34/34 [==============================] - 0s 11ms/step - loss: 0.1803 - accuracy: 0.9480 - val_loss: 0.1798 - val_accuracy: 0.9299\n",
      "Epoch 10/100\n",
      "34/34 [==============================] - 0s 12ms/step - loss: 0.1520 - accuracy: 0.9457 - val_loss: 0.1173 - val_accuracy: 0.9593\n",
      "Epoch 11/100\n",
      "34/34 [==============================] - 0s 12ms/step - loss: 0.1387 - accuracy: 0.9570 - val_loss: 0.1158 - val_accuracy: 0.9570\n",
      "Epoch 12/100\n",
      "34/34 [==============================] - 0s 12ms/step - loss: 0.1269 - accuracy: 0.9578 - val_loss: 0.1321 - val_accuracy: 0.9502\n",
      "Epoch 13/100\n",
      "34/34 [==============================] - 0s 12ms/step - loss: 0.1589 - accuracy: 0.9427 - val_loss: 0.1099 - val_accuracy: 0.9593\n",
      "Epoch 14/100\n",
      "34/34 [==============================] - 0s 11ms/step - loss: 0.1265 - accuracy: 0.9593 - val_loss: 0.1264 - val_accuracy: 0.9457\n",
      "Epoch 15/100\n",
      "34/34 [==============================] - 0s 11ms/step - loss: 0.1400 - accuracy: 0.9495 - val_loss: 0.1264 - val_accuracy: 0.9480\n",
      "Epoch 16/100\n",
      "34/34 [==============================] - 0s 11ms/step - loss: 0.1082 - accuracy: 0.9623 - val_loss: 0.0823 - val_accuracy: 0.9729\n",
      "Epoch 17/100\n",
      "34/34 [==============================] - 0s 11ms/step - loss: 0.1200 - accuracy: 0.9601 - val_loss: 0.1202 - val_accuracy: 0.9570\n",
      "Epoch 18/100\n",
      "34/34 [==============================] - 0s 13ms/step - loss: 0.1112 - accuracy: 0.9586 - val_loss: 0.0996 - val_accuracy: 0.9683\n",
      "Epoch 19/100\n",
      "34/34 [==============================] - 0s 13ms/step - loss: 0.0893 - accuracy: 0.9699 - val_loss: 0.0805 - val_accuracy: 0.9751\n",
      "Epoch 20/100\n",
      "34/34 [==============================] - 0s 12ms/step - loss: 0.0832 - accuracy: 0.9736 - val_loss: 0.0635 - val_accuracy: 0.9796\n",
      "Epoch 21/100\n",
      "34/34 [==============================] - 0s 11ms/step - loss: 0.0789 - accuracy: 0.9774 - val_loss: 0.0774 - val_accuracy: 0.9706\n",
      "Epoch 22/100\n",
      "34/34 [==============================] - 0s 11ms/step - loss: 0.1047 - accuracy: 0.9631 - val_loss: 0.0953 - val_accuracy: 0.9661\n",
      "Epoch 23/100\n",
      "34/34 [==============================] - 0s 11ms/step - loss: 0.0829 - accuracy: 0.9781 - val_loss: 0.0613 - val_accuracy: 0.9796\n",
      "Epoch 24/100\n",
      "34/34 [==============================] - 0s 11ms/step - loss: 0.0687 - accuracy: 0.9766 - val_loss: 0.0550 - val_accuracy: 0.9864\n",
      "Epoch 25/100\n",
      "34/34 [==============================] - 0s 11ms/step - loss: 0.0739 - accuracy: 0.9751 - val_loss: 0.0827 - val_accuracy: 0.9661\n",
      "Epoch 26/100\n",
      "34/34 [==============================] - 0s 12ms/step - loss: 0.0626 - accuracy: 0.9819 - val_loss: 0.0817 - val_accuracy: 0.9751\n",
      "Epoch 27/100\n",
      "34/34 [==============================] - 0s 11ms/step - loss: 0.0819 - accuracy: 0.9729 - val_loss: 0.0537 - val_accuracy: 0.9796\n",
      "Epoch 28/100\n",
      "34/34 [==============================] - 0s 12ms/step - loss: 0.0594 - accuracy: 0.9842 - val_loss: 0.0533 - val_accuracy: 0.9751\n",
      "Epoch 29/100\n",
      "34/34 [==============================] - 0s 12ms/step - loss: 0.0627 - accuracy: 0.9797 - val_loss: 0.0502 - val_accuracy: 0.9751\n",
      "Epoch 30/100\n",
      "34/34 [==============================] - 0s 12ms/step - loss: 0.0703 - accuracy: 0.9744 - val_loss: 0.0466 - val_accuracy: 0.9751\n",
      "Epoch 31/100\n",
      "34/34 [==============================] - 0s 10ms/step - loss: 0.0559 - accuracy: 0.9819 - val_loss: 0.0532 - val_accuracy: 0.9796\n",
      "Epoch 32/100\n",
      "34/34 [==============================] - 0s 12ms/step - loss: 0.0591 - accuracy: 0.9827 - val_loss: 0.0680 - val_accuracy: 0.9729\n",
      "Epoch 33/100\n",
      "34/34 [==============================] - 0s 11ms/step - loss: 0.0557 - accuracy: 0.9842 - val_loss: 0.0820 - val_accuracy: 0.9661\n",
      "Epoch 34/100\n",
      "34/34 [==============================] - 0s 12ms/step - loss: 0.0636 - accuracy: 0.9789 - val_loss: 0.0527 - val_accuracy: 0.9864\n"
     ]
    },
    {
     "name": "stderr",
     "output_type": "stream",
     "text": [
      "[I 2024-02-12 12:46:07,083] Trial 0 finished with value: 0.9864253401756287 and parameters: {'filters': 95, 'dropout_rate': 0.17578687438952972}. Best is trial 0 with value: 0.9864253401756287.\n"
     ]
    },
    {
     "name": "stdout",
     "output_type": "stream",
     "text": [
      "Epoch 1/100\n",
      "34/34 [==============================] - 3s 21ms/step - loss: 1.0556 - accuracy: 0.4484 - val_loss: 0.9291 - val_accuracy: 0.6471\n",
      "Epoch 2/100\n",
      "34/34 [==============================] - 0s 9ms/step - loss: 0.6407 - accuracy: 0.7513 - val_loss: 0.4008 - val_accuracy: 0.8552\n",
      "Epoch 3/100\n",
      "34/34 [==============================] - 0s 8ms/step - loss: 0.3584 - accuracy: 0.8659 - val_loss: 0.3008 - val_accuracy: 0.8733\n",
      "Epoch 4/100\n",
      "34/34 [==============================] - 0s 8ms/step - loss: 0.2788 - accuracy: 0.8900 - val_loss: 0.2377 - val_accuracy: 0.8891\n",
      "Epoch 5/100\n",
      "34/34 [==============================] - 0s 7ms/step - loss: 0.2302 - accuracy: 0.9164 - val_loss: 0.2768 - val_accuracy: 0.8688\n",
      "Epoch 6/100\n",
      "34/34 [==============================] - 0s 7ms/step - loss: 0.2299 - accuracy: 0.9088 - val_loss: 0.2739 - val_accuracy: 0.8688\n",
      "Epoch 7/100\n",
      "34/34 [==============================] - 0s 7ms/step - loss: 0.2281 - accuracy: 0.9133 - val_loss: 0.1611 - val_accuracy: 0.9276\n",
      "Epoch 8/100\n",
      "34/34 [==============================] - 0s 7ms/step - loss: 0.1948 - accuracy: 0.9307 - val_loss: 0.2266 - val_accuracy: 0.8891\n",
      "Epoch 9/100\n",
      "34/34 [==============================] - 0s 7ms/step - loss: 0.1980 - accuracy: 0.9322 - val_loss: 0.1444 - val_accuracy: 0.9480\n",
      "Epoch 10/100\n",
      "34/34 [==============================] - 0s 7ms/step - loss: 0.1703 - accuracy: 0.9472 - val_loss: 0.1313 - val_accuracy: 0.9502\n",
      "Epoch 11/100\n",
      "34/34 [==============================] - 0s 7ms/step - loss: 0.1473 - accuracy: 0.9563 - val_loss: 0.1134 - val_accuracy: 0.9638\n",
      "Epoch 12/100\n",
      "34/34 [==============================] - 0s 7ms/step - loss: 0.1363 - accuracy: 0.9578 - val_loss: 0.1066 - val_accuracy: 0.9570\n",
      "Epoch 13/100\n",
      "34/34 [==============================] - 0s 7ms/step - loss: 0.1464 - accuracy: 0.9540 - val_loss: 0.1707 - val_accuracy: 0.9344\n",
      "Epoch 14/100\n",
      "34/34 [==============================] - 0s 8ms/step - loss: 0.1454 - accuracy: 0.9548 - val_loss: 0.0927 - val_accuracy: 0.9774\n",
      "Epoch 15/100\n",
      "34/34 [==============================] - 0s 7ms/step - loss: 0.1300 - accuracy: 0.9601 - val_loss: 0.0899 - val_accuracy: 0.9683\n",
      "Epoch 16/100\n",
      "34/34 [==============================] - 0s 8ms/step - loss: 0.1271 - accuracy: 0.9608 - val_loss: 0.0843 - val_accuracy: 0.9729\n",
      "Epoch 17/100\n",
      "34/34 [==============================] - 0s 7ms/step - loss: 0.1285 - accuracy: 0.9616 - val_loss: 0.0874 - val_accuracy: 0.9638\n",
      "Epoch 18/100\n",
      "34/34 [==============================] - 0s 7ms/step - loss: 0.1062 - accuracy: 0.9699 - val_loss: 0.0901 - val_accuracy: 0.9706\n",
      "Epoch 19/100\n",
      "34/34 [==============================] - 0s 7ms/step - loss: 0.0970 - accuracy: 0.9661 - val_loss: 0.0803 - val_accuracy: 0.9638\n",
      "Epoch 20/100\n",
      "34/34 [==============================] - 0s 7ms/step - loss: 0.1013 - accuracy: 0.9729 - val_loss: 0.0791 - val_accuracy: 0.9638\n",
      "Epoch 21/100\n",
      "34/34 [==============================] - 0s 7ms/step - loss: 0.1051 - accuracy: 0.9653 - val_loss: 0.0808 - val_accuracy: 0.9796\n",
      "Epoch 22/100\n",
      "34/34 [==============================] - 0s 7ms/step - loss: 0.1130 - accuracy: 0.9721 - val_loss: 0.0822 - val_accuracy: 0.9638\n",
      "Epoch 23/100\n",
      "34/34 [==============================] - 0s 8ms/step - loss: 0.0874 - accuracy: 0.9759 - val_loss: 0.0672 - val_accuracy: 0.9683\n",
      "Epoch 24/100\n",
      "34/34 [==============================] - 0s 7ms/step - loss: 0.0874 - accuracy: 0.9751 - val_loss: 0.0740 - val_accuracy: 0.9615\n",
      "Epoch 25/100\n",
      "34/34 [==============================] - 0s 7ms/step - loss: 0.0993 - accuracy: 0.9706 - val_loss: 0.0689 - val_accuracy: 0.9751\n",
      "Epoch 26/100\n",
      "34/34 [==============================] - 0s 7ms/step - loss: 0.0790 - accuracy: 0.9736 - val_loss: 0.0672 - val_accuracy: 0.9774\n",
      "Epoch 27/100\n",
      "34/34 [==============================] - 0s 7ms/step - loss: 0.0713 - accuracy: 0.9759 - val_loss: 0.0935 - val_accuracy: 0.9593\n",
      "Epoch 28/100\n",
      "34/34 [==============================] - 0s 7ms/step - loss: 0.0889 - accuracy: 0.9683 - val_loss: 0.0506 - val_accuracy: 0.9819\n",
      "Epoch 29/100\n",
      "34/34 [==============================] - 0s 9ms/step - loss: 0.1143 - accuracy: 0.9601 - val_loss: 0.0698 - val_accuracy: 0.9661\n",
      "Epoch 30/100\n",
      "34/34 [==============================] - 0s 7ms/step - loss: 0.0743 - accuracy: 0.9774 - val_loss: 0.0632 - val_accuracy: 0.9683\n",
      "Epoch 31/100\n",
      "34/34 [==============================] - 0s 7ms/step - loss: 0.0678 - accuracy: 0.9781 - val_loss: 0.0600 - val_accuracy: 0.9729\n",
      "Epoch 32/100\n",
      "34/34 [==============================] - 0s 8ms/step - loss: 0.0630 - accuracy: 0.9797 - val_loss: 0.0613 - val_accuracy: 0.9706\n"
     ]
    },
    {
     "name": "stderr",
     "output_type": "stream",
     "text": [
      "[I 2024-02-12 12:46:18,049] Trial 1 finished with value: 0.970588207244873 and parameters: {'filters': 48, 'dropout_rate': 0.2818546520511827}. Best is trial 0 with value: 0.9864253401756287.\n"
     ]
    },
    {
     "name": "stdout",
     "output_type": "stream",
     "text": [
      "Epoch 1/100\n",
      "34/34 [==============================] - 3s 24ms/step - loss: 0.9407 - accuracy: 0.5765 - val_loss: 0.6352 - val_accuracy: 0.6606\n",
      "Epoch 2/100\n",
      "34/34 [==============================] - 0s 10ms/step - loss: 0.4807 - accuracy: 0.7928 - val_loss: 0.3049 - val_accuracy: 0.8643\n",
      "Epoch 3/100\n",
      "34/34 [==============================] - 0s 10ms/step - loss: 0.3007 - accuracy: 0.8772 - val_loss: 0.2474 - val_accuracy: 0.8982\n",
      "Epoch 4/100\n",
      "34/34 [==============================] - 0s 12ms/step - loss: 0.2694 - accuracy: 0.8960 - val_loss: 0.2389 - val_accuracy: 0.8824\n",
      "Epoch 5/100\n",
      "34/34 [==============================] - 0s 11ms/step - loss: 0.2331 - accuracy: 0.9111 - val_loss: 0.1678 - val_accuracy: 0.9253\n",
      "Epoch 6/100\n",
      "34/34 [==============================] - 0s 11ms/step - loss: 0.1764 - accuracy: 0.9405 - val_loss: 0.1475 - val_accuracy: 0.9457\n",
      "Epoch 7/100\n",
      "34/34 [==============================] - 0s 11ms/step - loss: 0.2070 - accuracy: 0.9254 - val_loss: 0.1223 - val_accuracy: 0.9570\n",
      "Epoch 8/100\n",
      "34/34 [==============================] - 0s 11ms/step - loss: 0.1229 - accuracy: 0.9646 - val_loss: 0.1471 - val_accuracy: 0.9321\n",
      "Epoch 9/100\n",
      "34/34 [==============================] - 0s 11ms/step - loss: 0.1336 - accuracy: 0.9510 - val_loss: 0.0886 - val_accuracy: 0.9661\n",
      "Epoch 10/100\n",
      "34/34 [==============================] - 0s 10ms/step - loss: 0.1226 - accuracy: 0.9601 - val_loss: 0.1078 - val_accuracy: 0.9570\n",
      "Epoch 11/100\n",
      "34/34 [==============================] - 0s 10ms/step - loss: 0.1380 - accuracy: 0.9548 - val_loss: 0.1199 - val_accuracy: 0.9525\n",
      "Epoch 12/100\n",
      "34/34 [==============================] - 0s 10ms/step - loss: 0.1283 - accuracy: 0.9586 - val_loss: 0.1156 - val_accuracy: 0.9548\n",
      "Epoch 13/100\n",
      "34/34 [==============================] - 0s 12ms/step - loss: 0.1097 - accuracy: 0.9631 - val_loss: 0.0868 - val_accuracy: 0.9683\n",
      "Epoch 14/100\n",
      "34/34 [==============================] - 0s 13ms/step - loss: 0.0997 - accuracy: 0.9706 - val_loss: 0.1009 - val_accuracy: 0.9615\n",
      "Epoch 15/100\n",
      "34/34 [==============================] - 0s 12ms/step - loss: 0.0947 - accuracy: 0.9691 - val_loss: 0.0920 - val_accuracy: 0.9661\n",
      "Epoch 16/100\n",
      "34/34 [==============================] - 0s 11ms/step - loss: 0.1118 - accuracy: 0.9638 - val_loss: 0.0825 - val_accuracy: 0.9729\n",
      "Epoch 17/100\n",
      "34/34 [==============================] - 0s 11ms/step - loss: 0.0905 - accuracy: 0.9736 - val_loss: 0.0966 - val_accuracy: 0.9638\n",
      "Epoch 18/100\n",
      "34/34 [==============================] - 0s 11ms/step - loss: 0.0873 - accuracy: 0.9699 - val_loss: 0.0755 - val_accuracy: 0.9751\n",
      "Epoch 19/100\n",
      "34/34 [==============================] - 0s 10ms/step - loss: 0.0831 - accuracy: 0.9744 - val_loss: 0.0907 - val_accuracy: 0.9661\n",
      "Epoch 20/100\n",
      "34/34 [==============================] - 0s 10ms/step - loss: 0.0835 - accuracy: 0.9744 - val_loss: 0.1353 - val_accuracy: 0.9638\n",
      "Epoch 21/100\n",
      "34/34 [==============================] - 0s 11ms/step - loss: 0.1023 - accuracy: 0.9653 - val_loss: 0.0816 - val_accuracy: 0.9683\n",
      "Epoch 22/100\n",
      "34/34 [==============================] - 0s 13ms/step - loss: 0.0957 - accuracy: 0.9646 - val_loss: 0.0739 - val_accuracy: 0.9729\n",
      "Epoch 23/100\n",
      "34/34 [==============================] - 0s 12ms/step - loss: 0.0763 - accuracy: 0.9736 - val_loss: 0.0742 - val_accuracy: 0.9661\n",
      "Epoch 24/100\n",
      "34/34 [==============================] - 0s 11ms/step - loss: 0.0658 - accuracy: 0.9789 - val_loss: 0.0812 - val_accuracy: 0.9683\n",
      "Epoch 25/100\n",
      "34/34 [==============================] - 0s 11ms/step - loss: 0.0639 - accuracy: 0.9774 - val_loss: 0.0781 - val_accuracy: 0.9729\n",
      "Epoch 26/100\n",
      "34/34 [==============================] - 0s 11ms/step - loss: 0.0702 - accuracy: 0.9774 - val_loss: 0.0780 - val_accuracy: 0.9729\n"
     ]
    },
    {
     "name": "stderr",
     "output_type": "stream",
     "text": [
      "[I 2024-02-12 12:46:30,831] Trial 2 finished with value: 0.9728506803512573 and parameters: {'filters': 88, 'dropout_rate': 0.24580039366984807}. Best is trial 0 with value: 0.9864253401756287.\n"
     ]
    },
    {
     "name": "stdout",
     "output_type": "stream",
     "text": [
      "Epoch 1/100\n",
      "34/34 [==============================] - 3s 20ms/step - loss: 1.0612 - accuracy: 0.4424 - val_loss: 0.9763 - val_accuracy: 0.5633\n",
      "Epoch 2/100\n",
      "34/34 [==============================] - 0s 5ms/step - loss: 0.8510 - accuracy: 0.6006 - val_loss: 0.7116 - val_accuracy: 0.6674\n",
      "Epoch 3/100\n",
      "34/34 [==============================] - 0s 6ms/step - loss: 0.5714 - accuracy: 0.7860 - val_loss: 0.4369 - val_accuracy: 0.8100\n",
      "Epoch 4/100\n",
      "34/34 [==============================] - 0s 6ms/step - loss: 0.3475 - accuracy: 0.8711 - val_loss: 0.3055 - val_accuracy: 0.8552\n",
      "Epoch 5/100\n",
      "34/34 [==============================] - 0s 6ms/step - loss: 0.2972 - accuracy: 0.8809 - val_loss: 0.2902 - val_accuracy: 0.8575\n",
      "Epoch 6/100\n",
      "34/34 [==============================] - 0s 6ms/step - loss: 0.2435 - accuracy: 0.9111 - val_loss: 0.2566 - val_accuracy: 0.9027\n",
      "Epoch 7/100\n",
      "34/34 [==============================] - 0s 6ms/step - loss: 0.2158 - accuracy: 0.9254 - val_loss: 0.2084 - val_accuracy: 0.9231\n",
      "Epoch 8/100\n",
      "34/34 [==============================] - 0s 6ms/step - loss: 0.2041 - accuracy: 0.9299 - val_loss: 0.2275 - val_accuracy: 0.9140\n",
      "Epoch 9/100\n",
      "34/34 [==============================] - 0s 6ms/step - loss: 0.2091 - accuracy: 0.9224 - val_loss: 0.1711 - val_accuracy: 0.9321\n",
      "Epoch 10/100\n",
      "34/34 [==============================] - 0s 6ms/step - loss: 0.1740 - accuracy: 0.9427 - val_loss: 0.1540 - val_accuracy: 0.9457\n",
      "Epoch 11/100\n",
      "34/34 [==============================] - 0s 6ms/step - loss: 0.1533 - accuracy: 0.9518 - val_loss: 0.1832 - val_accuracy: 0.9299\n",
      "Epoch 12/100\n",
      "34/34 [==============================] - 0s 6ms/step - loss: 0.1651 - accuracy: 0.9457 - val_loss: 0.1284 - val_accuracy: 0.9457\n",
      "Epoch 13/100\n",
      "34/34 [==============================] - 0s 6ms/step - loss: 0.1495 - accuracy: 0.9570 - val_loss: 0.1622 - val_accuracy: 0.9344\n",
      "Epoch 14/100\n",
      "34/34 [==============================] - 0s 6ms/step - loss: 0.1323 - accuracy: 0.9555 - val_loss: 0.1120 - val_accuracy: 0.9502\n",
      "Epoch 15/100\n",
      "34/34 [==============================] - 0s 6ms/step - loss: 0.1254 - accuracy: 0.9638 - val_loss: 0.1076 - val_accuracy: 0.9593\n",
      "Epoch 16/100\n",
      "34/34 [==============================] - 0s 6ms/step - loss: 0.1259 - accuracy: 0.9616 - val_loss: 0.1178 - val_accuracy: 0.9593\n",
      "Epoch 17/100\n",
      "34/34 [==============================] - 0s 6ms/step - loss: 0.1200 - accuracy: 0.9570 - val_loss: 0.1370 - val_accuracy: 0.9502\n",
      "Epoch 18/100\n",
      "34/34 [==============================] - 0s 7ms/step - loss: 0.1357 - accuracy: 0.9563 - val_loss: 0.0884 - val_accuracy: 0.9683\n",
      "Epoch 19/100\n",
      "34/34 [==============================] - 0s 6ms/step - loss: 0.1033 - accuracy: 0.9699 - val_loss: 0.0941 - val_accuracy: 0.9593\n",
      "Epoch 20/100\n",
      "34/34 [==============================] - 0s 6ms/step - loss: 0.1041 - accuracy: 0.9661 - val_loss: 0.1155 - val_accuracy: 0.9525\n",
      "Epoch 21/100\n",
      "34/34 [==============================] - 0s 6ms/step - loss: 0.1076 - accuracy: 0.9661 - val_loss: 0.0910 - val_accuracy: 0.9638\n",
      "Epoch 22/100\n",
      "34/34 [==============================] - 0s 6ms/step - loss: 0.0878 - accuracy: 0.9706 - val_loss: 0.0896 - val_accuracy: 0.9638\n"
     ]
    },
    {
     "name": "stderr",
     "output_type": "stream",
     "text": [
      "[I 2024-02-12 12:46:38,546] Trial 3 finished with value: 0.9638009071350098 and parameters: {'filters': 32, 'dropout_rate': 0.16260460709168306}. Best is trial 0 with value: 0.9864253401756287.\n"
     ]
    },
    {
     "name": "stdout",
     "output_type": "stream",
     "text": [
      "Epoch 1/100\n",
      "34/34 [==============================] - 3s 20ms/step - loss: 1.0359 - accuracy: 0.5139 - val_loss: 0.8763 - val_accuracy: 0.5543\n",
      "Epoch 2/100\n",
      "34/34 [==============================] - 0s 6ms/step - loss: 0.7342 - accuracy: 0.6556 - val_loss: 0.5880 - val_accuracy: 0.8348\n",
      "Epoch 3/100\n",
      "34/34 [==============================] - 0s 7ms/step - loss: 0.4667 - accuracy: 0.8327 - val_loss: 0.3597 - val_accuracy: 0.8371\n",
      "Epoch 4/100\n",
      "34/34 [==============================] - 0s 7ms/step - loss: 0.3153 - accuracy: 0.8862 - val_loss: 0.2851 - val_accuracy: 0.8801\n",
      "Epoch 5/100\n",
      "34/34 [==============================] - 0s 7ms/step - loss: 0.2822 - accuracy: 0.9043 - val_loss: 0.2516 - val_accuracy: 0.8869\n",
      "Epoch 6/100\n",
      "34/34 [==============================] - 0s 7ms/step - loss: 0.2583 - accuracy: 0.9073 - val_loss: 0.2242 - val_accuracy: 0.9095\n",
      "Epoch 7/100\n",
      "34/34 [==============================] - 0s 6ms/step - loss: 0.2403 - accuracy: 0.9224 - val_loss: 0.2329 - val_accuracy: 0.9095\n",
      "Epoch 8/100\n",
      "34/34 [==============================] - 0s 7ms/step - loss: 0.2446 - accuracy: 0.9111 - val_loss: 0.2378 - val_accuracy: 0.9118\n",
      "Epoch 9/100\n",
      "34/34 [==============================] - 0s 7ms/step - loss: 0.2292 - accuracy: 0.9171 - val_loss: 0.2122 - val_accuracy: 0.9027\n",
      "Epoch 10/100\n",
      "34/34 [==============================] - 0s 7ms/step - loss: 0.2495 - accuracy: 0.9111 - val_loss: 0.2094 - val_accuracy: 0.9276\n",
      "Epoch 11/100\n",
      "34/34 [==============================] - 0s 7ms/step - loss: 0.2219 - accuracy: 0.9261 - val_loss: 0.2003 - val_accuracy: 0.9163\n",
      "Epoch 12/100\n",
      "34/34 [==============================] - 0s 7ms/step - loss: 0.2196 - accuracy: 0.9239 - val_loss: 0.1977 - val_accuracy: 0.9231\n",
      "Epoch 13/100\n",
      "34/34 [==============================] - 0s 7ms/step - loss: 0.2104 - accuracy: 0.9322 - val_loss: 0.1848 - val_accuracy: 0.9321\n",
      "Epoch 14/100\n",
      "34/34 [==============================] - 0s 7ms/step - loss: 0.2030 - accuracy: 0.9292 - val_loss: 0.1833 - val_accuracy: 0.9299\n",
      "Epoch 15/100\n",
      "34/34 [==============================] - 0s 7ms/step - loss: 0.2154 - accuracy: 0.9246 - val_loss: 0.1892 - val_accuracy: 0.9344\n",
      "Epoch 16/100\n",
      "34/34 [==============================] - 0s 7ms/step - loss: 0.2235 - accuracy: 0.9209 - val_loss: 0.1856 - val_accuracy: 0.9005\n",
      "Epoch 17/100\n",
      "34/34 [==============================] - 0s 6ms/step - loss: 0.2096 - accuracy: 0.9179 - val_loss: 0.1760 - val_accuracy: 0.9163\n",
      "Epoch 18/100\n",
      "34/34 [==============================] - 0s 10ms/step - loss: 0.1873 - accuracy: 0.9216 - val_loss: 0.1621 - val_accuracy: 0.9299\n",
      "Epoch 19/100\n",
      "34/34 [==============================] - 0s 8ms/step - loss: 0.2025 - accuracy: 0.9261 - val_loss: 0.1806 - val_accuracy: 0.9253\n",
      "Epoch 20/100\n",
      "34/34 [==============================] - 0s 7ms/step - loss: 0.1776 - accuracy: 0.9254 - val_loss: 0.1752 - val_accuracy: 0.9208\n",
      "Epoch 21/100\n",
      "34/34 [==============================] - 0s 7ms/step - loss: 0.1660 - accuracy: 0.9359 - val_loss: 0.1570 - val_accuracy: 0.9321\n",
      "Epoch 22/100\n",
      "34/34 [==============================] - 0s 7ms/step - loss: 0.1615 - accuracy: 0.9314 - val_loss: 0.1928 - val_accuracy: 0.9050\n",
      "Epoch 23/100\n",
      "34/34 [==============================] - 0s 7ms/step - loss: 0.1609 - accuracy: 0.9277 - val_loss: 0.1400 - val_accuracy: 0.9412\n",
      "Epoch 24/100\n",
      "34/34 [==============================] - 0s 7ms/step - loss: 0.1544 - accuracy: 0.9344 - val_loss: 0.1312 - val_accuracy: 0.9525\n",
      "Epoch 25/100\n",
      "34/34 [==============================] - 0s 7ms/step - loss: 0.1415 - accuracy: 0.9405 - val_loss: 0.1465 - val_accuracy: 0.9321\n",
      "Epoch 26/100\n",
      "34/34 [==============================] - 0s 6ms/step - loss: 0.1619 - accuracy: 0.9314 - val_loss: 0.1340 - val_accuracy: 0.9525\n",
      "Epoch 27/100\n",
      "34/34 [==============================] - 0s 6ms/step - loss: 0.1572 - accuracy: 0.9337 - val_loss: 0.1307 - val_accuracy: 0.9525\n",
      "Epoch 28/100\n",
      "34/34 [==============================] - 0s 7ms/step - loss: 0.1338 - accuracy: 0.9533 - val_loss: 0.1139 - val_accuracy: 0.9593\n",
      "Epoch 29/100\n",
      "34/34 [==============================] - 0s 7ms/step - loss: 0.1310 - accuracy: 0.9495 - val_loss: 0.1425 - val_accuracy: 0.9412\n",
      "Epoch 30/100\n",
      "34/34 [==============================] - 0s 7ms/step - loss: 0.1228 - accuracy: 0.9631 - val_loss: 0.0924 - val_accuracy: 0.9683\n",
      "Epoch 31/100\n",
      "34/34 [==============================] - 0s 7ms/step - loss: 0.1161 - accuracy: 0.9563 - val_loss: 0.0956 - val_accuracy: 0.9683\n",
      "Epoch 32/100\n",
      "34/34 [==============================] - 0s 6ms/step - loss: 0.1146 - accuracy: 0.9593 - val_loss: 0.1067 - val_accuracy: 0.9548\n",
      "Epoch 33/100\n",
      "34/34 [==============================] - 0s 7ms/step - loss: 0.1217 - accuracy: 0.9555 - val_loss: 0.1457 - val_accuracy: 0.9525\n",
      "Epoch 34/100\n",
      "34/34 [==============================] - 0s 7ms/step - loss: 0.1348 - accuracy: 0.9480 - val_loss: 0.1391 - val_accuracy: 0.9434\n"
     ]
    },
    {
     "name": "stderr",
     "output_type": "stream",
     "text": [
      "[I 2024-02-12 12:46:49,751] Trial 4 finished with value: 0.9434388875961304 and parameters: {'filters': 37, 'dropout_rate': 0.23813341950148714}. Best is trial 0 with value: 0.9864253401756287.\n"
     ]
    },
    {
     "name": "stdout",
     "output_type": "stream",
     "text": [
      "Epoch 1/100\n",
      "34/34 [==============================] - 3s 21ms/step - loss: 1.0505 - accuracy: 0.5072 - val_loss: 0.9299 - val_accuracy: 0.5543\n",
      "Epoch 2/100\n",
      "34/34 [==============================] - 0s 6ms/step - loss: 0.7447 - accuracy: 0.6255 - val_loss: 0.5691 - val_accuracy: 0.7783\n",
      "Epoch 3/100\n",
      "34/34 [==============================] - 0s 6ms/step - loss: 0.4969 - accuracy: 0.8161 - val_loss: 0.3668 - val_accuracy: 0.8529\n",
      "Epoch 4/100\n",
      "34/34 [==============================] - 0s 7ms/step - loss: 0.3279 - accuracy: 0.8794 - val_loss: 0.2810 - val_accuracy: 0.8801\n",
      "Epoch 5/100\n",
      "34/34 [==============================] - 0s 6ms/step - loss: 0.3037 - accuracy: 0.8900 - val_loss: 0.2107 - val_accuracy: 0.9253\n",
      "Epoch 6/100\n",
      "34/34 [==============================] - 0s 6ms/step - loss: 0.2776 - accuracy: 0.9058 - val_loss: 0.1889 - val_accuracy: 0.9299\n",
      "Epoch 7/100\n",
      "34/34 [==============================] - 0s 7ms/step - loss: 0.2240 - accuracy: 0.9171 - val_loss: 0.1701 - val_accuracy: 0.9321\n",
      "Epoch 8/100\n",
      "34/34 [==============================] - 0s 6ms/step - loss: 0.2111 - accuracy: 0.9254 - val_loss: 0.1615 - val_accuracy: 0.9321\n",
      "Epoch 9/100\n",
      "34/34 [==============================] - 0s 6ms/step - loss: 0.2130 - accuracy: 0.9164 - val_loss: 0.1713 - val_accuracy: 0.9208\n",
      "Epoch 10/100\n",
      "34/34 [==============================] - 0s 6ms/step - loss: 0.1800 - accuracy: 0.9375 - val_loss: 0.2605 - val_accuracy: 0.8891\n",
      "Epoch 11/100\n",
      "34/34 [==============================] - 0s 6ms/step - loss: 0.1903 - accuracy: 0.9277 - val_loss: 0.1459 - val_accuracy: 0.9502\n",
      "Epoch 12/100\n",
      "34/34 [==============================] - 0s 6ms/step - loss: 0.1461 - accuracy: 0.9472 - val_loss: 0.1245 - val_accuracy: 0.9570\n",
      "Epoch 13/100\n",
      "34/34 [==============================] - 0s 6ms/step - loss: 0.1450 - accuracy: 0.9563 - val_loss: 0.1433 - val_accuracy: 0.9480\n",
      "Epoch 14/100\n",
      "34/34 [==============================] - 0s 7ms/step - loss: 0.1565 - accuracy: 0.9480 - val_loss: 0.1147 - val_accuracy: 0.9570\n",
      "Epoch 15/100\n",
      "34/34 [==============================] - 0s 7ms/step - loss: 0.1443 - accuracy: 0.9457 - val_loss: 0.1121 - val_accuracy: 0.9638\n",
      "Epoch 16/100\n",
      "34/34 [==============================] - 0s 6ms/step - loss: 0.1443 - accuracy: 0.9540 - val_loss: 0.1137 - val_accuracy: 0.9502\n",
      "Epoch 17/100\n",
      "34/34 [==============================] - 0s 6ms/step - loss: 0.1318 - accuracy: 0.9555 - val_loss: 0.1097 - val_accuracy: 0.9480\n",
      "Epoch 18/100\n",
      "34/34 [==============================] - 0s 6ms/step - loss: 0.1128 - accuracy: 0.9646 - val_loss: 0.1231 - val_accuracy: 0.9457\n",
      "Epoch 19/100\n",
      "34/34 [==============================] - 0s 6ms/step - loss: 0.1152 - accuracy: 0.9631 - val_loss: 0.0933 - val_accuracy: 0.9548\n",
      "Epoch 20/100\n",
      "34/34 [==============================] - 0s 7ms/step - loss: 0.1037 - accuracy: 0.9691 - val_loss: 0.0929 - val_accuracy: 0.9570\n",
      "Epoch 21/100\n",
      "34/34 [==============================] - 0s 8ms/step - loss: 0.1033 - accuracy: 0.9631 - val_loss: 0.0834 - val_accuracy: 0.9638\n",
      "Epoch 22/100\n",
      "34/34 [==============================] - 0s 6ms/step - loss: 0.1207 - accuracy: 0.9601 - val_loss: 0.1077 - val_accuracy: 0.9593\n",
      "Epoch 23/100\n",
      "34/34 [==============================] - 0s 6ms/step - loss: 0.1046 - accuracy: 0.9668 - val_loss: 0.1283 - val_accuracy: 0.9502\n",
      "Epoch 24/100\n",
      "34/34 [==============================] - 0s 8ms/step - loss: 0.1202 - accuracy: 0.9653 - val_loss: 0.1203 - val_accuracy: 0.9525\n",
      "Epoch 25/100\n",
      "34/34 [==============================] - 0s 7ms/step - loss: 0.0933 - accuracy: 0.9699 - val_loss: 0.0750 - val_accuracy: 0.9638\n",
      "Epoch 26/100\n",
      "34/34 [==============================] - 0s 7ms/step - loss: 0.1293 - accuracy: 0.9646 - val_loss: 0.0865 - val_accuracy: 0.9593\n",
      "Epoch 27/100\n",
      "34/34 [==============================] - 0s 6ms/step - loss: 0.0920 - accuracy: 0.9706 - val_loss: 0.1579 - val_accuracy: 0.9367\n",
      "Epoch 28/100\n",
      "34/34 [==============================] - 0s 6ms/step - loss: 0.1110 - accuracy: 0.9653 - val_loss: 0.0851 - val_accuracy: 0.9683\n",
      "Epoch 29/100\n",
      "34/34 [==============================] - 0s 7ms/step - loss: 0.0854 - accuracy: 0.9729 - val_loss: 0.0685 - val_accuracy: 0.9729\n",
      "Epoch 30/100\n",
      "34/34 [==============================] - 0s 6ms/step - loss: 0.0785 - accuracy: 0.9781 - val_loss: 0.0803 - val_accuracy: 0.9661\n",
      "Epoch 31/100\n",
      "34/34 [==============================] - 0s 7ms/step - loss: 0.0786 - accuracy: 0.9766 - val_loss: 0.0688 - val_accuracy: 0.9729\n",
      "Epoch 32/100\n",
      "34/34 [==============================] - 0s 6ms/step - loss: 0.0835 - accuracy: 0.9774 - val_loss: 0.0874 - val_accuracy: 0.9661\n",
      "Epoch 33/100\n",
      "34/34 [==============================] - 0s 6ms/step - loss: 0.0953 - accuracy: 0.9683 - val_loss: 0.0743 - val_accuracy: 0.9683\n"
     ]
    },
    {
     "name": "stderr",
     "output_type": "stream",
     "text": [
      "[I 2024-02-12 12:47:00,011] Trial 5 finished with value: 0.9683257937431335 and parameters: {'filters': 33, 'dropout_rate': 0.20397694457026636}. Best is trial 0 with value: 0.9864253401756287.\n"
     ]
    },
    {
     "name": "stdout",
     "output_type": "stream",
     "text": [
      "Epoch 1/100\n",
      "34/34 [==============================] - 3s 23ms/step - loss: 1.0065 - accuracy: 0.5177 - val_loss: 0.7955 - val_accuracy: 0.6584\n",
      "Epoch 2/100\n",
      "34/34 [==============================] - 0s 8ms/step - loss: 0.5507 - accuracy: 0.7769 - val_loss: 0.3202 - val_accuracy: 0.8552\n",
      "Epoch 3/100\n",
      "34/34 [==============================] - 0s 9ms/step - loss: 0.2951 - accuracy: 0.8824 - val_loss: 0.2204 - val_accuracy: 0.8937\n",
      "Epoch 4/100\n",
      "34/34 [==============================] - 0s 9ms/step - loss: 0.2489 - accuracy: 0.9066 - val_loss: 0.2614 - val_accuracy: 0.9095\n",
      "Epoch 5/100\n",
      "34/34 [==============================] - 0s 9ms/step - loss: 0.2202 - accuracy: 0.9164 - val_loss: 0.1846 - val_accuracy: 0.9412\n",
      "Epoch 6/100\n",
      "34/34 [==============================] - 0s 9ms/step - loss: 0.1978 - accuracy: 0.9337 - val_loss: 0.1853 - val_accuracy: 0.9344\n",
      "Epoch 7/100\n",
      "34/34 [==============================] - 0s 9ms/step - loss: 0.1685 - accuracy: 0.9420 - val_loss: 0.1605 - val_accuracy: 0.9412\n",
      "Epoch 8/100\n",
      "34/34 [==============================] - 0s 9ms/step - loss: 0.1740 - accuracy: 0.9337 - val_loss: 0.1295 - val_accuracy: 0.9525\n",
      "Epoch 9/100\n",
      "34/34 [==============================] - 0s 9ms/step - loss: 0.1795 - accuracy: 0.9375 - val_loss: 0.1174 - val_accuracy: 0.9615\n",
      "Epoch 10/100\n",
      "34/34 [==============================] - 0s 9ms/step - loss: 0.1334 - accuracy: 0.9586 - val_loss: 0.1097 - val_accuracy: 0.9502\n",
      "Epoch 11/100\n",
      "34/34 [==============================] - 0s 9ms/step - loss: 0.1366 - accuracy: 0.9525 - val_loss: 0.1627 - val_accuracy: 0.9412\n",
      "Epoch 12/100\n",
      "34/34 [==============================] - 0s 9ms/step - loss: 0.1398 - accuracy: 0.9578 - val_loss: 0.1139 - val_accuracy: 0.9638\n",
      "Epoch 13/100\n",
      "34/34 [==============================] - 0s 9ms/step - loss: 0.1221 - accuracy: 0.9593 - val_loss: 0.1414 - val_accuracy: 0.9548\n",
      "Epoch 14/100\n",
      "34/34 [==============================] - 0s 9ms/step - loss: 0.1174 - accuracy: 0.9646 - val_loss: 0.1144 - val_accuracy: 0.9548\n"
     ]
    },
    {
     "name": "stderr",
     "output_type": "stream",
     "text": [
      "[I 2024-02-12 12:47:07,170] Trial 6 finished with value: 0.9547511339187622 and parameters: {'filters': 63, 'dropout_rate': 0.2653544076760609}. Best is trial 0 with value: 0.9864253401756287.\n"
     ]
    },
    {
     "name": "stdout",
     "output_type": "stream",
     "text": [
      "Epoch 1/100\n",
      "34/34 [==============================] - 3s 24ms/step - loss: 0.9629 - accuracy: 0.5185 - val_loss: 0.6682 - val_accuracy: 0.6900\n",
      "Epoch 2/100\n",
      "34/34 [==============================] - 0s 10ms/step - loss: 0.4646 - accuracy: 0.8297 - val_loss: 0.3454 - val_accuracy: 0.8348\n",
      "Epoch 3/100\n",
      "34/34 [==============================] - 0s 12ms/step - loss: 0.3249 - accuracy: 0.8779 - val_loss: 0.2642 - val_accuracy: 0.8688\n",
      "Epoch 4/100\n",
      "34/34 [==============================] - 0s 11ms/step - loss: 0.2766 - accuracy: 0.8983 - val_loss: 0.2288 - val_accuracy: 0.8937\n",
      "Epoch 5/100\n",
      "34/34 [==============================] - 0s 10ms/step - loss: 0.2465 - accuracy: 0.9118 - val_loss: 0.2058 - val_accuracy: 0.9140\n",
      "Epoch 6/100\n",
      "34/34 [==============================] - 0s 10ms/step - loss: 0.2433 - accuracy: 0.9216 - val_loss: 0.2064 - val_accuracy: 0.9389\n",
      "Epoch 7/100\n",
      "34/34 [==============================] - 0s 10ms/step - loss: 0.2284 - accuracy: 0.9186 - val_loss: 0.1800 - val_accuracy: 0.9389\n",
      "Epoch 8/100\n",
      "34/34 [==============================] - 0s 10ms/step - loss: 0.2087 - accuracy: 0.9292 - val_loss: 0.1694 - val_accuracy: 0.9276\n",
      "Epoch 9/100\n",
      "34/34 [==============================] - 0s 11ms/step - loss: 0.1990 - accuracy: 0.9329 - val_loss: 0.1628 - val_accuracy: 0.9525\n",
      "Epoch 10/100\n",
      "34/34 [==============================] - 0s 12ms/step - loss: 0.1456 - accuracy: 0.9578 - val_loss: 0.0964 - val_accuracy: 0.9638\n",
      "Epoch 11/100\n",
      "34/34 [==============================] - 0s 11ms/step - loss: 0.1236 - accuracy: 0.9525 - val_loss: 0.0927 - val_accuracy: 0.9683\n",
      "Epoch 12/100\n",
      "34/34 [==============================] - 0s 11ms/step - loss: 0.1258 - accuracy: 0.9586 - val_loss: 0.0929 - val_accuracy: 0.9593\n",
      "Epoch 13/100\n",
      "34/34 [==============================] - 0s 10ms/step - loss: 0.1348 - accuracy: 0.9570 - val_loss: 0.1414 - val_accuracy: 0.9457\n",
      "Epoch 14/100\n",
      "34/34 [==============================] - 0s 10ms/step - loss: 0.1043 - accuracy: 0.9683 - val_loss: 0.0813 - val_accuracy: 0.9683\n",
      "Epoch 15/100\n",
      "34/34 [==============================] - 0s 10ms/step - loss: 0.1207 - accuracy: 0.9631 - val_loss: 0.0908 - val_accuracy: 0.9638\n",
      "Epoch 16/100\n",
      "34/34 [==============================] - 0s 9ms/step - loss: 0.1382 - accuracy: 0.9510 - val_loss: 0.1125 - val_accuracy: 0.9525\n",
      "Epoch 17/100\n",
      "34/34 [==============================] - 0s 10ms/step - loss: 0.1019 - accuracy: 0.9691 - val_loss: 0.1729 - val_accuracy: 0.9457\n",
      "Epoch 18/100\n",
      "34/34 [==============================] - 0s 13ms/step - loss: 0.1625 - accuracy: 0.9435 - val_loss: 0.1750 - val_accuracy: 0.9140\n"
     ]
    },
    {
     "name": "stderr",
     "output_type": "stream",
     "text": [
      "[I 2024-02-12 12:47:16,660] Trial 7 finished with value: 0.9140271544456482 and parameters: {'filters': 73, 'dropout_rate': 0.2982515153685326}. Best is trial 0 with value: 0.9864253401756287.\n"
     ]
    },
    {
     "name": "stdout",
     "output_type": "stream",
     "text": [
      "Epoch 1/100\n",
      "34/34 [==============================] - 3s 37ms/step - loss: 0.9910 - accuracy: 0.5584 - val_loss: 0.6828 - val_accuracy: 0.5814\n",
      "Epoch 2/100\n",
      "34/34 [==============================] - 0s 11ms/step - loss: 0.4567 - accuracy: 0.8244 - val_loss: 0.6074 - val_accuracy: 0.7715\n",
      "Epoch 3/100\n",
      "34/34 [==============================] - 0s 12ms/step - loss: 0.3295 - accuracy: 0.8824 - val_loss: 0.4159 - val_accuracy: 0.8145\n",
      "Epoch 4/100\n",
      "34/34 [==============================] - 0s 12ms/step - loss: 0.3108 - accuracy: 0.8847 - val_loss: 0.4148 - val_accuracy: 0.8235\n",
      "Epoch 5/100\n",
      "34/34 [==============================] - 0s 12ms/step - loss: 0.2745 - accuracy: 0.8930 - val_loss: 0.2821 - val_accuracy: 0.8914\n",
      "Epoch 6/100\n",
      "34/34 [==============================] - 0s 12ms/step - loss: 0.2289 - accuracy: 0.9148 - val_loss: 0.1726 - val_accuracy: 0.9276\n",
      "Epoch 7/100\n",
      "34/34 [==============================] - 0s 14ms/step - loss: 0.2010 - accuracy: 0.9314 - val_loss: 0.1236 - val_accuracy: 0.9570\n",
      "Epoch 8/100\n",
      "34/34 [==============================] - 0s 12ms/step - loss: 0.1647 - accuracy: 0.9480 - val_loss: 0.1926 - val_accuracy: 0.9253\n",
      "Epoch 9/100\n",
      "34/34 [==============================] - 0s 11ms/step - loss: 0.1415 - accuracy: 0.9555 - val_loss: 0.1388 - val_accuracy: 0.9367\n",
      "Epoch 10/100\n",
      "34/34 [==============================] - 0s 11ms/step - loss: 0.1389 - accuracy: 0.9548 - val_loss: 0.1504 - val_accuracy: 0.9367\n",
      "Epoch 11/100\n",
      "34/34 [==============================] - 0s 13ms/step - loss: 0.1390 - accuracy: 0.9601 - val_loss: 0.1047 - val_accuracy: 0.9615\n",
      "Epoch 12/100\n",
      "34/34 [==============================] - 0s 14ms/step - loss: 0.1257 - accuracy: 0.9616 - val_loss: 0.1175 - val_accuracy: 0.9502\n",
      "Epoch 13/100\n",
      "34/34 [==============================] - 0s 12ms/step - loss: 0.1424 - accuracy: 0.9578 - val_loss: 0.1440 - val_accuracy: 0.9434\n",
      "Epoch 14/100\n",
      "34/34 [==============================] - 0s 12ms/step - loss: 0.1249 - accuracy: 0.9608 - val_loss: 0.1225 - val_accuracy: 0.9480\n",
      "Epoch 15/100\n",
      "34/34 [==============================] - 0s 12ms/step - loss: 0.1149 - accuracy: 0.9699 - val_loss: 0.0924 - val_accuracy: 0.9638\n",
      "Epoch 16/100\n",
      "34/34 [==============================] - 0s 11ms/step - loss: 0.1372 - accuracy: 0.9623 - val_loss: 0.1876 - val_accuracy: 0.9299\n",
      "Epoch 17/100\n",
      "34/34 [==============================] - 0s 11ms/step - loss: 0.1568 - accuracy: 0.9525 - val_loss: 0.1400 - val_accuracy: 0.9389\n",
      "Epoch 18/100\n",
      "34/34 [==============================] - 0s 12ms/step - loss: 0.1235 - accuracy: 0.9676 - val_loss: 0.0964 - val_accuracy: 0.9661\n",
      "Epoch 19/100\n",
      "34/34 [==============================] - 0s 13ms/step - loss: 0.0952 - accuracy: 0.9691 - val_loss: 0.0898 - val_accuracy: 0.9729\n",
      "Epoch 20/100\n",
      "34/34 [==============================] - 0s 14ms/step - loss: 0.0936 - accuracy: 0.9714 - val_loss: 0.0866 - val_accuracy: 0.9661\n",
      "Epoch 21/100\n",
      "34/34 [==============================] - 0s 12ms/step - loss: 0.0928 - accuracy: 0.9751 - val_loss: 0.1001 - val_accuracy: 0.9593\n",
      "Epoch 22/100\n",
      "34/34 [==============================] - 0s 12ms/step - loss: 0.0880 - accuracy: 0.9744 - val_loss: 0.0873 - val_accuracy: 0.9661\n",
      "Epoch 23/100\n",
      "34/34 [==============================] - 0s 12ms/step - loss: 0.1115 - accuracy: 0.9661 - val_loss: 0.0749 - val_accuracy: 0.9796\n",
      "Epoch 24/100\n",
      "34/34 [==============================] - 0s 12ms/step - loss: 0.0821 - accuracy: 0.9774 - val_loss: 0.1339 - val_accuracy: 0.9502\n",
      "Epoch 25/100\n",
      "34/34 [==============================] - 0s 11ms/step - loss: 0.1079 - accuracy: 0.9623 - val_loss: 0.0807 - val_accuracy: 0.9706\n",
      "Epoch 26/100\n",
      "34/34 [==============================] - 0s 12ms/step - loss: 0.0707 - accuracy: 0.9766 - val_loss: 0.0718 - val_accuracy: 0.9819\n",
      "Epoch 27/100\n",
      "34/34 [==============================] - 0s 14ms/step - loss: 0.0772 - accuracy: 0.9759 - val_loss: 0.0876 - val_accuracy: 0.9683\n",
      "Epoch 28/100\n",
      "34/34 [==============================] - 1s 15ms/step - loss: 0.0961 - accuracy: 0.9744 - val_loss: 0.1071 - val_accuracy: 0.9638\n",
      "Epoch 29/100\n",
      "34/34 [==============================] - 0s 13ms/step - loss: 0.0864 - accuracy: 0.9714 - val_loss: 0.0760 - val_accuracy: 0.9683\n",
      "Epoch 30/100\n",
      "34/34 [==============================] - 0s 12ms/step - loss: 0.0655 - accuracy: 0.9781 - val_loss: 0.0693 - val_accuracy: 0.9842\n",
      "Epoch 31/100\n",
      "34/34 [==============================] - 0s 12ms/step - loss: 0.0676 - accuracy: 0.9774 - val_loss: 0.0620 - val_accuracy: 0.9774\n",
      "Epoch 32/100\n",
      "34/34 [==============================] - 0s 11ms/step - loss: 0.0689 - accuracy: 0.9789 - val_loss: 0.1012 - val_accuracy: 0.9638\n",
      "Epoch 33/100\n",
      "34/34 [==============================] - 0s 11ms/step - loss: 0.0631 - accuracy: 0.9789 - val_loss: 0.0627 - val_accuracy: 0.9819\n",
      "Epoch 34/100\n",
      "34/34 [==============================] - 0s 12ms/step - loss: 0.0601 - accuracy: 0.9827 - val_loss: 0.0592 - val_accuracy: 0.9819\n",
      "Epoch 35/100\n",
      "34/34 [==============================] - 0s 15ms/step - loss: 0.0544 - accuracy: 0.9842 - val_loss: 0.0890 - val_accuracy: 0.9683\n",
      "Epoch 36/100\n",
      "34/34 [==============================] - 0s 13ms/step - loss: 0.0629 - accuracy: 0.9812 - val_loss: 0.0430 - val_accuracy: 0.9864\n",
      "Epoch 37/100\n",
      "34/34 [==============================] - 0s 12ms/step - loss: 0.0638 - accuracy: 0.9789 - val_loss: 0.0602 - val_accuracy: 0.9842\n",
      "Epoch 38/100\n",
      "34/34 [==============================] - 0s 12ms/step - loss: 0.0611 - accuracy: 0.9797 - val_loss: 0.0851 - val_accuracy: 0.9661\n",
      "Epoch 39/100\n",
      "34/34 [==============================] - 0s 12ms/step - loss: 0.0835 - accuracy: 0.9729 - val_loss: 0.0564 - val_accuracy: 0.9796\n",
      "Epoch 40/100\n",
      "34/34 [==============================] - 0s 11ms/step - loss: 0.0590 - accuracy: 0.9789 - val_loss: 0.0563 - val_accuracy: 0.9751\n"
     ]
    },
    {
     "name": "stderr",
     "output_type": "stream",
     "text": [
      "[I 2024-02-12 12:47:36,731] Trial 8 finished with value: 0.9751130938529968 and parameters: {'filters': 86, 'dropout_rate': 0.38693231203394396}. Best is trial 0 with value: 0.9864253401756287.\n"
     ]
    },
    {
     "name": "stdout",
     "output_type": "stream",
     "text": [
      "Epoch 1/100\n",
      "34/34 [==============================] - 3s 26ms/step - loss: 0.9406 - accuracy: 0.5019 - val_loss: 0.7017 - val_accuracy: 0.7104\n",
      "Epoch 2/100\n",
      "34/34 [==============================] - 0s 12ms/step - loss: 0.4967 - accuracy: 0.8169 - val_loss: 0.3468 - val_accuracy: 0.8756\n",
      "Epoch 3/100\n",
      "34/34 [==============================] - 0s 13ms/step - loss: 0.3666 - accuracy: 0.8674 - val_loss: 0.2837 - val_accuracy: 0.8869\n",
      "Epoch 4/100\n",
      "34/34 [==============================] - 0s 13ms/step - loss: 0.2755 - accuracy: 0.8900 - val_loss: 0.2293 - val_accuracy: 0.8959\n",
      "Epoch 5/100\n",
      "34/34 [==============================] - 0s 13ms/step - loss: 0.2402 - accuracy: 0.9141 - val_loss: 0.2289 - val_accuracy: 0.9072\n",
      "Epoch 6/100\n",
      "34/34 [==============================] - 0s 13ms/step - loss: 0.2545 - accuracy: 0.9088 - val_loss: 0.2055 - val_accuracy: 0.9253\n",
      "Epoch 7/100\n",
      "34/34 [==============================] - 0s 14ms/step - loss: 0.2313 - accuracy: 0.9194 - val_loss: 0.2435 - val_accuracy: 0.8959\n",
      "Epoch 8/100\n",
      "34/34 [==============================] - 0s 14ms/step - loss: 0.2170 - accuracy: 0.9209 - val_loss: 0.1560 - val_accuracy: 0.9434\n",
      "Epoch 9/100\n",
      "34/34 [==============================] - 0s 14ms/step - loss: 0.1961 - accuracy: 0.9382 - val_loss: 0.1789 - val_accuracy: 0.9434\n",
      "Epoch 10/100\n",
      "34/34 [==============================] - 0s 13ms/step - loss: 0.1638 - accuracy: 0.9533 - val_loss: 0.1027 - val_accuracy: 0.9706\n",
      "Epoch 11/100\n",
      "34/34 [==============================] - 0s 13ms/step - loss: 0.1344 - accuracy: 0.9578 - val_loss: 0.1188 - val_accuracy: 0.9548\n",
      "Epoch 12/100\n",
      "34/34 [==============================] - 0s 13ms/step - loss: 0.1891 - accuracy: 0.9375 - val_loss: 0.1247 - val_accuracy: 0.9593\n",
      "Epoch 13/100\n",
      "34/34 [==============================] - 0s 12ms/step - loss: 0.1467 - accuracy: 0.9510 - val_loss: 0.1397 - val_accuracy: 0.9457\n",
      "Epoch 14/100\n",
      "34/34 [==============================] - 0s 12ms/step - loss: 0.1116 - accuracy: 0.9683 - val_loss: 0.1422 - val_accuracy: 0.9434\n"
     ]
    },
    {
     "name": "stderr",
     "output_type": "stream",
     "text": [
      "[I 2024-02-12 12:47:45,871] Trial 9 finished with value: 0.9434388875961304 and parameters: {'filters': 98, 'dropout_rate': 0.42592996058535215}. Best is trial 0 with value: 0.9864253401756287.\n"
     ]
    },
    {
     "name": "stdout",
     "output_type": "stream",
     "text": [
      "Best Hyperparameters: {'filters': 95, 'dropout_rate': 0.17578687438952972}\n"
     ]
    }
   ],
   "source": [
    "\n",
    "best_params=optimize_model2(X_train_arr, y_train_arr, X_valid_arr, y_valid_arr)"
   ]
  },
  {
   "cell_type": "code",
   "execution_count": 133,
   "metadata": {},
   "outputs": [
    {
     "data": {
      "text/plain": [
       "{'filters': 95, 'dropout_rate': 0.17578687438952972}"
      ]
     },
     "execution_count": 133,
     "metadata": {},
     "output_type": "execute_result"
    }
   ],
   "source": [
    "best_params"
   ]
  },
  {
   "cell_type": "code",
   "execution_count": 134,
   "metadata": {},
   "outputs": [],
   "source": [
    "# fit and evaluate a model\n",
    "def evaluate_model_1(trainX, trainy,validX,validy, testX, testy):\n",
    "#  verbose, epochs, batch_size = 1, 1500, 100\n",
    " n_timesteps, n_features, n_outputs = trainX.shape[1], trainX.shape[2], 3\n",
    " model = Sequential()\n",
    " model.add(Conv1D(filters=best_params['filters'], kernel_size=3, activation='relu', input_shape=(n_timesteps,n_features)))\n",
    "#  model.add(MaxPooling1D(pool_size=2))\n",
    " model.add(LSTM(units=best_params['filters']))\n",
    " model.add(Dense(100, activation='relu'))\n",
    " model.add(Dense(best_params['filters'], activation='relu'))\n",
    " model.add(Dropout(best_params['dropout_rate']))\n",
    " model.add(Dense(n_outputs, activation='softmax')) # \"softmax\" for multi-class\n",
    " model.compile(loss='categorical_crossentropy', optimizer='adam', metrics=['accuracy'])\n",
    " # fit network\n",
    " history=model.fit(trainX, trainy, validation_data=(validX, validy), epochs=epochs, batch_size=batch_size,callbacks=[callback], verbose=verbose) \n",
    " # evaluate model\n",
    " _, accuracy = model.evaluate(testX, testy, batch_size=batch_size, verbose=0)\n",
    " # '_,'-->a variable is being used for a specific purpose, but its value is not of interest or not used in the subsequent code.\n",
    " return accuracy,history"
   ]
  },
  {
   "cell_type": "code",
   "execution_count": 135,
   "metadata": {},
   "outputs": [
    {
     "name": "stdout",
     "output_type": "stream",
     "text": [
      "Epoch 1/100\n",
      "34/34 [==============================] - 3s 25ms/step - loss: 0.9278 - accuracy: 0.5094 - val_loss: 0.5631 - val_accuracy: 0.8054\n",
      "Epoch 2/100\n",
      "34/34 [==============================] - 0s 11ms/step - loss: 0.4223 - accuracy: 0.8267 - val_loss: 0.3679 - val_accuracy: 0.8303\n",
      "Epoch 3/100\n",
      "34/34 [==============================] - 0s 12ms/step - loss: 0.3227 - accuracy: 0.8742 - val_loss: 0.2640 - val_accuracy: 0.8733\n",
      "Epoch 4/100\n",
      "34/34 [==============================] - 0s 14ms/step - loss: 0.2889 - accuracy: 0.8870 - val_loss: 0.2297 - val_accuracy: 0.9027\n",
      "Epoch 5/100\n",
      "34/34 [==============================] - 0s 12ms/step - loss: 0.2450 - accuracy: 0.9141 - val_loss: 0.1937 - val_accuracy: 0.9231\n",
      "Epoch 6/100\n",
      "34/34 [==============================] - 0s 12ms/step - loss: 0.2007 - accuracy: 0.9164 - val_loss: 0.1360 - val_accuracy: 0.9525\n",
      "Epoch 7/100\n",
      "34/34 [==============================] - 0s 11ms/step - loss: 0.1819 - accuracy: 0.9465 - val_loss: 0.1128 - val_accuracy: 0.9593\n",
      "Epoch 8/100\n",
      "34/34 [==============================] - 0s 14ms/step - loss: 0.1409 - accuracy: 0.9593 - val_loss: 0.1629 - val_accuracy: 0.9412\n",
      "Epoch 9/100\n",
      "34/34 [==============================] - 0s 12ms/step - loss: 0.1587 - accuracy: 0.9472 - val_loss: 0.1328 - val_accuracy: 0.9502\n",
      "Epoch 10/100\n",
      "34/34 [==============================] - 0s 13ms/step - loss: 0.1200 - accuracy: 0.9653 - val_loss: 0.1140 - val_accuracy: 0.9615\n",
      "Epoch 11/100\n",
      "34/34 [==============================] - 0s 13ms/step - loss: 0.1197 - accuracy: 0.9601 - val_loss: 0.1444 - val_accuracy: 0.9434\n",
      "95.7110583782196\n",
      "Test Accuracy: 95.711% (+/-0.000)\n"
     ]
    }
   ],
   "source": [
    "\n",
    "score_1,history_1= evaluate_model_1(X_train_arr, y_train_arr, X_valid_arr, y_valid_arr, X_test_arr, y_test_arr)\n",
    "score_1 = score_1 * 100.0\n",
    "summarize_results(score_1)"
   ]
  },
  {
   "cell_type": "markdown",
   "metadata": {},
   "source": [
    "**defined-model**"
   ]
  },
  {
   "cell_type": "code",
   "execution_count": 136,
   "metadata": {},
   "outputs": [],
   "source": [
    "# import pickle\n",
    "\n",
    "# # fit and evaluate a model\n",
    "# def evaluate_model_2(trainX, trainy,validX,validy, testX, testy):\n",
    "# #  verbose, epochs, batch_size = 1, 1500, 100\n",
    "#  n_timesteps, n_features, n_outputs = trainX.shape[1], trainX.shape[2], 7\n",
    "\n",
    "#  model = Sequential()\n",
    "#  model.add(Conv1D(filters=64, kernel_size=3, activation='relu', input_shape=(n_timesteps, n_features)))\n",
    "#  model.add(MaxPooling1D(pool_size=2))\n",
    "#  model.add(LSTM(units=64)) # remember the important features\n",
    "#  model.add(Dense(100, activation='relu'))\n",
    "#  model.add(Dense(64, activation='relu')) \n",
    "#  model.add(Dropout(0.5))#for regularization\n",
    "#  model.add(Dense(n_outputs, activation='softmax'))\n",
    "#  model.compile(loss='categorical_crossentropy', optimizer='adam', metrics=['accuracy'])\n",
    "#  # fit network\n",
    "#  history=model.fit(trainX, trainy, validation_data=(validX, validy), epochs=epochs, batch_size=batch_size,callbacks=[callback], verbose=verbose)\n",
    "#  #summarize_mode\n",
    "#  print(model.summary())\n",
    "\n",
    "#  #load-model\n",
    "#  pickle.dump(model, open(\"../all_pkl_file/all_tuned_model/PCA_model2_fitted_2.pkl\", \"wb\"))\n",
    " \n",
    "#  # evaluate model\n",
    "#  _, accuracy = model.evaluate(testX, testy, batch_size=batch_size, verbose=0)\n",
    "#  # '_,'-->a variable is being used for a specific purpose, but its value is not of interest or not used in the subsequent code.\n",
    "#  return accuracy,history"
   ]
  },
  {
   "cell_type": "code",
   "execution_count": 137,
   "metadata": {},
   "outputs": [],
   "source": [
    "# score_2,history_2= evaluate_model_2(X_train_arr, y_train_arr, X_valid_arr, y_valid_arr, X_test_arr, y_test_arr)\n",
    "# score_2 = score_2 * 100.0\n",
    "# summarize_results(score_2)"
   ]
  },
  {
   "cell_type": "markdown",
   "metadata": {},
   "source": [
    "# Evaluation"
   ]
  },
  {
   "cell_type": "code",
   "execution_count": 138,
   "metadata": {},
   "outputs": [],
   "source": [
    "# # plot loss-curve_2\n",
    "# pyplot.plot(history_2.history['loss'], label='training')\n",
    "# pyplot.plot(history_2.history['val_loss'], label='validation')\n",
    "# plt.xlabel('epoch')\n",
    "# plt.ylabel('loss')\n",
    "# plt.title('Loss-curve')\n",
    "# pyplot.legend()\n",
    "# pyplot.show()"
   ]
  },
  {
   "cell_type": "code",
   "execution_count": null,
   "metadata": {},
   "outputs": [],
   "source": []
  },
  {
   "cell_type": "markdown",
   "metadata": {},
   "source": [
    "# Confusion-matrix"
   ]
  },
  {
   "cell_type": "code",
   "execution_count": 139,
   "metadata": {},
   "outputs": [],
   "source": [
    "# # Load the encoder model from the saved file\n",
    "# with open(\"../all_pkl_file/all_tuned_model/PCA_model2_fitted_2.pkl\", \"rb\") as file: #\"rb\"= read mode\n",
    "#     model = pickle.load(file)\n",
    "\n",
    "# model"
   ]
  },
  {
   "cell_type": "markdown",
   "metadata": {},
   "source": [
    "**confusionmatrix**"
   ]
  },
  {
   "cell_type": "code",
   "execution_count": 140,
   "metadata": {},
   "outputs": [],
   "source": [
    "#  #confusion_matrix\n",
    "\n",
    "# from sklearn.metrics import ConfusionMatrixDisplay, confusion_matrix\n",
    "\n",
    "\n",
    "# predictions=model.predict(X_test_arr)\n",
    "# print(y_test_arr)\n",
    "# print(len(y_test_arr),',',len(y_test_arr[0]))\n",
    "# print(predictions)\n",
    "# print(len(predictions),',',len(predictions[0]))\n",
    "\n",
    "# for i in range(len(predictions)):\n",
    "#     for j in range(len(predictions[0])):\n",
    "#         if predictions[i][j]==max(predictions[i]):\n",
    "#             predictions[i][j]=1\n",
    "#         else: predictions[i][j]=0\n",
    "\n",
    "# # reverse one-hot encoding for fit into confusion matrix\n",
    "# y_test_cm=y_test_arr.argmax(axis=1)\n",
    "# print(y_test_cm)\n",
    "# predictions_cm=predictions.argmax(axis=1)\n",
    "# print(predictions_cm)\n",
    "\n",
    "# cm = confusion_matrix(y_test_cm, predictions_cm, labels=[0,1,2,3,4,5,6])\n",
    "# disp = ConfusionMatrixDisplay(confusion_matrix=cm,\n",
    "#                             display_labels=[0,1,2,3,4,5,6])\n",
    "# disp.plot()\n",
    "# plt.show()\n"
   ]
  },
  {
   "cell_type": "markdown",
   "metadata": {},
   "source": [
    "# Evaluation"
   ]
  },
  {
   "cell_type": "code",
   "execution_count": 141,
   "metadata": {},
   "outputs": [],
   "source": [
    "# # plot loss-curve\n",
    "# pyplot.plot(history_1.history['loss'], label='training')\n",
    "# pyplot.plot(history_1.history['val_loss'], label='validation')\n",
    "# plt.xlabel('epoch')\n",
    "# plt.ylabel('loss')\n",
    "# plt.title('Loss-curve')\n",
    "# pyplot.legend()\n",
    "# pyplot.show()"
   ]
  },
  {
   "cell_type": "code",
   "execution_count": 142,
   "metadata": {},
   "outputs": [],
   "source": [
    "# # plot training history\n",
    "# pyplot.plot(history.history['accuracy'], label='train')\n",
    "# pyplot.plot(history.history['val_accuracy'], label='test')\n",
    "# plt.xlabel('epoch')\n",
    "# plt.ylabel('accuracy')\n",
    "# plt.title('Accuracy-curve')\n",
    "# pyplot.legend()\n",
    "# pyplot.show()"
   ]
  },
  {
   "cell_type": "markdown",
   "metadata": {},
   "source": [
    "# ROC curve"
   ]
  },
  {
   "cell_type": "code",
   "execution_count": 143,
   "metadata": {},
   "outputs": [],
   "source": [
    "# # Load the encoder model from the saved file\n",
    "# with open(\"../all_pkl_file/all_tuned_model/PCA_model2_fitted_2.pkl\", \"rb\") as file: #\"rb\"= read mode\n",
    "#     model = pickle.load(file)\n",
    "\n",
    "# model"
   ]
  },
  {
   "cell_type": "code",
   "execution_count": 144,
   "metadata": {},
   "outputs": [],
   "source": [
    "# import matplotlib.pyplot as plt\n",
    "# from sklearn.metrics import roc_curve, auc"
   ]
  },
  {
   "cell_type": "code",
   "execution_count": 145,
   "metadata": {},
   "outputs": [],
   "source": [
    "# predictions=model.predict(X_test_arr)\n",
    "# for i in range(len(predictions)):\n",
    "#     for j in range(len(predictions[0])):\n",
    "#         if predictions[i][j]==max(predictions[i]):\n",
    "#             predictions[i][j]=1\n",
    "#         else: predictions[i][j]=0\n",
    "# # Compute ROC curve and ROC area for each class\n",
    "# fpr = dict()\n",
    "# tpr = dict()\n",
    "# roc_auc = dict()\n",
    "\n",
    "# for i in range(7):\n",
    "#     fpr[i], tpr[i], _ = roc_curve(y_test_arr[:, i], predictions[:, i])\n",
    "#     roc_auc[i] = auc(fpr[i], tpr[i])"
   ]
  },
  {
   "cell_type": "code",
   "execution_count": 146,
   "metadata": {},
   "outputs": [],
   "source": [
    "# # Plot ROC curve for each class\n",
    "# plt.figure()\n",
    "# for i in range(7):\n",
    "#     plt.plot(fpr[i], tpr[i], label=f'class {i}(area = {roc_auc[i]:0.2f})')\n",
    "# plt.plot([0, 1], [0, 1], 'k--')\n",
    "# plt.xlabel('False Positive Rate')\n",
    "# plt.ylabel('True Positive Rate')\n",
    "# plt.title('ROC Curve')\n",
    "# plt.legend(loc='lower right')\n",
    "# plt.show()"
   ]
  }
 ],
 "metadata": {
  "kernelspec": {
   "display_name": "Python 3",
   "language": "python",
   "name": "python3"
  },
  "language_info": {
   "codemirror_mode": {
    "name": "ipython",
    "version": 3
   },
   "file_extension": ".py",
   "mimetype": "text/x-python",
   "name": "python",
   "nbconvert_exporter": "python",
   "pygments_lexer": "ipython3",
   "version": "3.11.4"
  }
 },
 "nbformat": 4,
 "nbformat_minor": 2
}
