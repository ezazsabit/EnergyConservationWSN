{
 "cells": [
  {
   "cell_type": "code",
   "execution_count": 96,
   "metadata": {},
   "outputs": [],
   "source": [
    "import pandas as pd\n",
    "import numpy as np\n",
    "from sklearn.preprocessing import StandardScaler\n",
    "from sklearn.decomposition import PCA\n",
    "import seaborn as sns\n",
    "import matplotlib.pyplot as plt\n",
    "import optuna\n",
    "from sklearn.model_selection import train_test_split\n",
    "from sklearn.metrics import roc_auc_score\n",
    "import sklearn\n",
    "import random\n"
   ]
  },
  {
   "cell_type": "code",
   "execution_count": 97,
   "metadata": {},
   "outputs": [],
   "source": [
    "import warnings\n",
    "warnings.filterwarnings(\"ignore\")\n",
    "from sklearn.metrics import mean_absolute_error"
   ]
  },
  {
   "cell_type": "code",
   "execution_count": 98,
   "metadata": {},
   "outputs": [
    {
     "name": "stdout",
     "output_type": "stream",
     "text": [
      "            F2        F3        F1       F11        F4        F6       F10  \\\n",
      "1962  0.125326  0.958445  0.786288  0.310816  0.864627  0.544255  0.711408   \n",
      "539   0.541604  0.856662  0.570029  0.135053  0.579744  0.278450  0.184752   \n",
      "911   0.880000  0.921433  0.895201  0.245390  0.917678  0.546179  0.766378   \n",
      "794   0.137348  0.894011  0.896964  0.195213  0.906868  0.507697  0.365211   \n",
      "1526  0.435294  0.594549  0.410578  0.211879  0.506735  0.062424  0.286333   \n",
      "...        ...       ...       ...       ...       ...       ...       ...   \n",
      "1683  0.586096  0.906965  0.839765  0.476950  0.869948  0.265750  0.845068   \n",
      "400   0.669519  0.549293  0.258962  0.184752  0.358889  0.039582  0.209149   \n",
      "913   0.868449  0.944650  0.901469  0.248936  0.937469  0.556075  0.742093   \n",
      "624   0.133433  0.958277  0.929285  0.281738  0.862631  0.633040  0.826619   \n",
      "2025  0.233797  0.884758  0.766895  0.232624  0.831199  0.472237  0.365587   \n",
      "\n",
      "            F9        F5      F7      F12       F8  \n",
      "1962  0.367513  0.377996  0.6885   0.7581  0.33940  \n",
      "539   0.184928  0.193682  0.4236   5.1830  0.13920  \n",
      "911   0.502538  0.529775  0.8203   0.8923  0.48100  \n",
      "794   0.325537  0.323566  0.6543   5.3440  0.20020  \n",
      "1526  0.075322  0.120552  0.2332   4.7620  0.18430  \n",
      "...        ...       ...     ...      ...      ...  \n",
      "1683  0.350332  0.303631  0.5664   5.5650  0.31740  \n",
      "400   0.048145  0.077124  0.1257   5.4440  0.08667  \n",
      "913   0.459586  0.475309  0.7971   0.9131  0.44190  \n",
      "624   0.294104  0.436456  1.0790  20.0000  0.41500  \n",
      "2025  0.264077  0.247785  0.5957   5.5590  0.20630  \n",
      "\n",
      "[2212 rows x 12 columns]\n",
      "1962    1\n",
      "539     1\n",
      "911     2\n",
      "794     1\n",
      "1526    0\n",
      "       ..\n",
      "1683    0\n",
      "400     0\n",
      "913     2\n",
      "624     1\n",
      "2025    1\n",
      "Name: out, Length: 2212, dtype: int64\n"
     ]
    }
   ],
   "source": [
    "filename = 'Dataset/Sensor_Discrimination_normalized.csv'\n",
    "df=pd.read_csv(filename)\n",
    "# shuffle the DataFrame rows\n",
    "df = df.sample(frac = 1) #frac = fraction\n",
    "dataset=df.iloc[:,:-1]\n",
    "label=df.iloc[:,-1]\n",
    "print(dataset)\n",
    "print(label)"
   ]
  },
  {
   "cell_type": "markdown",
   "metadata": {},
   "source": [
    "# RFE implement"
   ]
  },
  {
   "cell_type": "code",
   "execution_count": 99,
   "metadata": {},
   "outputs": [
    {
     "data": {
      "text/html": [
       "<style>#sk-container-id-4 {\n",
       "  /* Definition of color scheme common for light and dark mode */\n",
       "  --sklearn-color-text: black;\n",
       "  --sklearn-color-line: gray;\n",
       "  /* Definition of color scheme for unfitted estimators */\n",
       "  --sklearn-color-unfitted-level-0: #fff5e6;\n",
       "  --sklearn-color-unfitted-level-1: #f6e4d2;\n",
       "  --sklearn-color-unfitted-level-2: #ffe0b3;\n",
       "  --sklearn-color-unfitted-level-3: chocolate;\n",
       "  /* Definition of color scheme for fitted estimators */\n",
       "  --sklearn-color-fitted-level-0: #f0f8ff;\n",
       "  --sklearn-color-fitted-level-1: #d4ebff;\n",
       "  --sklearn-color-fitted-level-2: #b3dbfd;\n",
       "  --sklearn-color-fitted-level-3: cornflowerblue;\n",
       "\n",
       "  /* Specific color for light theme */\n",
       "  --sklearn-color-text-on-default-background: var(--sg-text-color, var(--theme-code-foreground, var(--jp-content-font-color1, black)));\n",
       "  --sklearn-color-background: var(--sg-background-color, var(--theme-background, var(--jp-layout-color0, white)));\n",
       "  --sklearn-color-border-box: var(--sg-text-color, var(--theme-code-foreground, var(--jp-content-font-color1, black)));\n",
       "  --sklearn-color-icon: #696969;\n",
       "\n",
       "  @media (prefers-color-scheme: dark) {\n",
       "    /* Redefinition of color scheme for dark theme */\n",
       "    --sklearn-color-text-on-default-background: var(--sg-text-color, var(--theme-code-foreground, var(--jp-content-font-color1, white)));\n",
       "    --sklearn-color-background: var(--sg-background-color, var(--theme-background, var(--jp-layout-color0, #111)));\n",
       "    --sklearn-color-border-box: var(--sg-text-color, var(--theme-code-foreground, var(--jp-content-font-color1, white)));\n",
       "    --sklearn-color-icon: #878787;\n",
       "  }\n",
       "}\n",
       "\n",
       "#sk-container-id-4 {\n",
       "  color: var(--sklearn-color-text);\n",
       "}\n",
       "\n",
       "#sk-container-id-4 pre {\n",
       "  padding: 0;\n",
       "}\n",
       "\n",
       "#sk-container-id-4 input.sk-hidden--visually {\n",
       "  border: 0;\n",
       "  clip: rect(1px 1px 1px 1px);\n",
       "  clip: rect(1px, 1px, 1px, 1px);\n",
       "  height: 1px;\n",
       "  margin: -1px;\n",
       "  overflow: hidden;\n",
       "  padding: 0;\n",
       "  position: absolute;\n",
       "  width: 1px;\n",
       "}\n",
       "\n",
       "#sk-container-id-4 div.sk-dashed-wrapped {\n",
       "  border: 1px dashed var(--sklearn-color-line);\n",
       "  margin: 0 0.4em 0.5em 0.4em;\n",
       "  box-sizing: border-box;\n",
       "  padding-bottom: 0.4em;\n",
       "  background-color: var(--sklearn-color-background);\n",
       "}\n",
       "\n",
       "#sk-container-id-4 div.sk-container {\n",
       "  /* jupyter's `normalize.less` sets `[hidden] { display: none; }`\n",
       "     but bootstrap.min.css set `[hidden] { display: none !important; }`\n",
       "     so we also need the `!important` here to be able to override the\n",
       "     default hidden behavior on the sphinx rendered scikit-learn.org.\n",
       "     See: https://github.com/scikit-learn/scikit-learn/issues/21755 */\n",
       "  display: inline-block !important;\n",
       "  position: relative;\n",
       "}\n",
       "\n",
       "#sk-container-id-4 div.sk-text-repr-fallback {\n",
       "  display: none;\n",
       "}\n",
       "\n",
       "div.sk-parallel-item,\n",
       "div.sk-serial,\n",
       "div.sk-item {\n",
       "  /* draw centered vertical line to link estimators */\n",
       "  background-image: linear-gradient(var(--sklearn-color-text-on-default-background), var(--sklearn-color-text-on-default-background));\n",
       "  background-size: 2px 100%;\n",
       "  background-repeat: no-repeat;\n",
       "  background-position: center center;\n",
       "}\n",
       "\n",
       "/* Parallel-specific style estimator block */\n",
       "\n",
       "#sk-container-id-4 div.sk-parallel-item::after {\n",
       "  content: \"\";\n",
       "  width: 100%;\n",
       "  border-bottom: 2px solid var(--sklearn-color-text-on-default-background);\n",
       "  flex-grow: 1;\n",
       "}\n",
       "\n",
       "#sk-container-id-4 div.sk-parallel {\n",
       "  display: flex;\n",
       "  align-items: stretch;\n",
       "  justify-content: center;\n",
       "  background-color: var(--sklearn-color-background);\n",
       "  position: relative;\n",
       "}\n",
       "\n",
       "#sk-container-id-4 div.sk-parallel-item {\n",
       "  display: flex;\n",
       "  flex-direction: column;\n",
       "}\n",
       "\n",
       "#sk-container-id-4 div.sk-parallel-item:first-child::after {\n",
       "  align-self: flex-end;\n",
       "  width: 50%;\n",
       "}\n",
       "\n",
       "#sk-container-id-4 div.sk-parallel-item:last-child::after {\n",
       "  align-self: flex-start;\n",
       "  width: 50%;\n",
       "}\n",
       "\n",
       "#sk-container-id-4 div.sk-parallel-item:only-child::after {\n",
       "  width: 0;\n",
       "}\n",
       "\n",
       "/* Serial-specific style estimator block */\n",
       "\n",
       "#sk-container-id-4 div.sk-serial {\n",
       "  display: flex;\n",
       "  flex-direction: column;\n",
       "  align-items: center;\n",
       "  background-color: var(--sklearn-color-background);\n",
       "  padding-right: 1em;\n",
       "  padding-left: 1em;\n",
       "}\n",
       "\n",
       "\n",
       "/* Toggleable style: style used for estimator/Pipeline/ColumnTransformer box that is\n",
       "clickable and can be expanded/collapsed.\n",
       "- Pipeline and ColumnTransformer use this feature and define the default style\n",
       "- Estimators will overwrite some part of the style using the `sk-estimator` class\n",
       "*/\n",
       "\n",
       "/* Pipeline and ColumnTransformer style (default) */\n",
       "\n",
       "#sk-container-id-4 div.sk-toggleable {\n",
       "  /* Default theme specific background. It is overwritten whether we have a\n",
       "  specific estimator or a Pipeline/ColumnTransformer */\n",
       "  background-color: var(--sklearn-color-background);\n",
       "}\n",
       "\n",
       "/* Toggleable label */\n",
       "#sk-container-id-4 label.sk-toggleable__label {\n",
       "  cursor: pointer;\n",
       "  display: block;\n",
       "  width: 100%;\n",
       "  margin-bottom: 0;\n",
       "  padding: 0.5em;\n",
       "  box-sizing: border-box;\n",
       "  text-align: center;\n",
       "}\n",
       "\n",
       "#sk-container-id-4 label.sk-toggleable__label-arrow:before {\n",
       "  /* Arrow on the left of the label */\n",
       "  content: \"▸\";\n",
       "  float: left;\n",
       "  margin-right: 0.25em;\n",
       "  color: var(--sklearn-color-icon);\n",
       "}\n",
       "\n",
       "#sk-container-id-4 label.sk-toggleable__label-arrow:hover:before {\n",
       "  color: var(--sklearn-color-text);\n",
       "}\n",
       "\n",
       "/* Toggleable content - dropdown */\n",
       "\n",
       "#sk-container-id-4 div.sk-toggleable__content {\n",
       "  max-height: 0;\n",
       "  max-width: 0;\n",
       "  overflow: hidden;\n",
       "  text-align: left;\n",
       "  /* unfitted */\n",
       "  background-color: var(--sklearn-color-unfitted-level-0);\n",
       "}\n",
       "\n",
       "#sk-container-id-4 div.sk-toggleable__content.fitted {\n",
       "  /* fitted */\n",
       "  background-color: var(--sklearn-color-fitted-level-0);\n",
       "}\n",
       "\n",
       "#sk-container-id-4 div.sk-toggleable__content pre {\n",
       "  margin: 0.2em;\n",
       "  border-radius: 0.25em;\n",
       "  color: var(--sklearn-color-text);\n",
       "  /* unfitted */\n",
       "  background-color: var(--sklearn-color-unfitted-level-0);\n",
       "}\n",
       "\n",
       "#sk-container-id-4 div.sk-toggleable__content.fitted pre {\n",
       "  /* unfitted */\n",
       "  background-color: var(--sklearn-color-fitted-level-0);\n",
       "}\n",
       "\n",
       "#sk-container-id-4 input.sk-toggleable__control:checked~div.sk-toggleable__content {\n",
       "  /* Expand drop-down */\n",
       "  max-height: 200px;\n",
       "  max-width: 100%;\n",
       "  overflow: auto;\n",
       "}\n",
       "\n",
       "#sk-container-id-4 input.sk-toggleable__control:checked~label.sk-toggleable__label-arrow:before {\n",
       "  content: \"▾\";\n",
       "}\n",
       "\n",
       "/* Pipeline/ColumnTransformer-specific style */\n",
       "\n",
       "#sk-container-id-4 div.sk-label input.sk-toggleable__control:checked~label.sk-toggleable__label {\n",
       "  color: var(--sklearn-color-text);\n",
       "  background-color: var(--sklearn-color-unfitted-level-2);\n",
       "}\n",
       "\n",
       "#sk-container-id-4 div.sk-label.fitted input.sk-toggleable__control:checked~label.sk-toggleable__label {\n",
       "  background-color: var(--sklearn-color-fitted-level-2);\n",
       "}\n",
       "\n",
       "/* Estimator-specific style */\n",
       "\n",
       "/* Colorize estimator box */\n",
       "#sk-container-id-4 div.sk-estimator input.sk-toggleable__control:checked~label.sk-toggleable__label {\n",
       "  /* unfitted */\n",
       "  background-color: var(--sklearn-color-unfitted-level-2);\n",
       "}\n",
       "\n",
       "#sk-container-id-4 div.sk-estimator.fitted input.sk-toggleable__control:checked~label.sk-toggleable__label {\n",
       "  /* fitted */\n",
       "  background-color: var(--sklearn-color-fitted-level-2);\n",
       "}\n",
       "\n",
       "#sk-container-id-4 div.sk-label label.sk-toggleable__label,\n",
       "#sk-container-id-4 div.sk-label label {\n",
       "  /* The background is the default theme color */\n",
       "  color: var(--sklearn-color-text-on-default-background);\n",
       "}\n",
       "\n",
       "/* On hover, darken the color of the background */\n",
       "#sk-container-id-4 div.sk-label:hover label.sk-toggleable__label {\n",
       "  color: var(--sklearn-color-text);\n",
       "  background-color: var(--sklearn-color-unfitted-level-2);\n",
       "}\n",
       "\n",
       "/* Label box, darken color on hover, fitted */\n",
       "#sk-container-id-4 div.sk-label.fitted:hover label.sk-toggleable__label.fitted {\n",
       "  color: var(--sklearn-color-text);\n",
       "  background-color: var(--sklearn-color-fitted-level-2);\n",
       "}\n",
       "\n",
       "/* Estimator label */\n",
       "\n",
       "#sk-container-id-4 div.sk-label label {\n",
       "  font-family: monospace;\n",
       "  font-weight: bold;\n",
       "  display: inline-block;\n",
       "  line-height: 1.2em;\n",
       "}\n",
       "\n",
       "#sk-container-id-4 div.sk-label-container {\n",
       "  text-align: center;\n",
       "}\n",
       "\n",
       "/* Estimator-specific */\n",
       "#sk-container-id-4 div.sk-estimator {\n",
       "  font-family: monospace;\n",
       "  border: 1px dotted var(--sklearn-color-border-box);\n",
       "  border-radius: 0.25em;\n",
       "  box-sizing: border-box;\n",
       "  margin-bottom: 0.5em;\n",
       "  /* unfitted */\n",
       "  background-color: var(--sklearn-color-unfitted-level-0);\n",
       "}\n",
       "\n",
       "#sk-container-id-4 div.sk-estimator.fitted {\n",
       "  /* fitted */\n",
       "  background-color: var(--sklearn-color-fitted-level-0);\n",
       "}\n",
       "\n",
       "/* on hover */\n",
       "#sk-container-id-4 div.sk-estimator:hover {\n",
       "  /* unfitted */\n",
       "  background-color: var(--sklearn-color-unfitted-level-2);\n",
       "}\n",
       "\n",
       "#sk-container-id-4 div.sk-estimator.fitted:hover {\n",
       "  /* fitted */\n",
       "  background-color: var(--sklearn-color-fitted-level-2);\n",
       "}\n",
       "\n",
       "/* Specification for estimator info (e.g. \"i\" and \"?\") */\n",
       "\n",
       "/* Common style for \"i\" and \"?\" */\n",
       "\n",
       ".sk-estimator-doc-link,\n",
       "a:link.sk-estimator-doc-link,\n",
       "a:visited.sk-estimator-doc-link {\n",
       "  float: right;\n",
       "  font-size: smaller;\n",
       "  line-height: 1em;\n",
       "  font-family: monospace;\n",
       "  background-color: var(--sklearn-color-background);\n",
       "  border-radius: 1em;\n",
       "  height: 1em;\n",
       "  width: 1em;\n",
       "  text-decoration: none !important;\n",
       "  margin-left: 1ex;\n",
       "  /* unfitted */\n",
       "  border: var(--sklearn-color-unfitted-level-1) 1pt solid;\n",
       "  color: var(--sklearn-color-unfitted-level-1);\n",
       "}\n",
       "\n",
       ".sk-estimator-doc-link.fitted,\n",
       "a:link.sk-estimator-doc-link.fitted,\n",
       "a:visited.sk-estimator-doc-link.fitted {\n",
       "  /* fitted */\n",
       "  border: var(--sklearn-color-fitted-level-1) 1pt solid;\n",
       "  color: var(--sklearn-color-fitted-level-1);\n",
       "}\n",
       "\n",
       "/* On hover */\n",
       "div.sk-estimator:hover .sk-estimator-doc-link:hover,\n",
       ".sk-estimator-doc-link:hover,\n",
       "div.sk-label-container:hover .sk-estimator-doc-link:hover,\n",
       ".sk-estimator-doc-link:hover {\n",
       "  /* unfitted */\n",
       "  background-color: var(--sklearn-color-unfitted-level-3);\n",
       "  color: var(--sklearn-color-background);\n",
       "  text-decoration: none;\n",
       "}\n",
       "\n",
       "div.sk-estimator.fitted:hover .sk-estimator-doc-link.fitted:hover,\n",
       ".sk-estimator-doc-link.fitted:hover,\n",
       "div.sk-label-container:hover .sk-estimator-doc-link.fitted:hover,\n",
       ".sk-estimator-doc-link.fitted:hover {\n",
       "  /* fitted */\n",
       "  background-color: var(--sklearn-color-fitted-level-3);\n",
       "  color: var(--sklearn-color-background);\n",
       "  text-decoration: none;\n",
       "}\n",
       "\n",
       "/* Span, style for the box shown on hovering the info icon */\n",
       ".sk-estimator-doc-link span {\n",
       "  display: none;\n",
       "  z-index: 9999;\n",
       "  position: relative;\n",
       "  font-weight: normal;\n",
       "  right: .2ex;\n",
       "  padding: .5ex;\n",
       "  margin: .5ex;\n",
       "  width: min-content;\n",
       "  min-width: 20ex;\n",
       "  max-width: 50ex;\n",
       "  color: var(--sklearn-color-text);\n",
       "  box-shadow: 2pt 2pt 4pt #999;\n",
       "  /* unfitted */\n",
       "  background: var(--sklearn-color-unfitted-level-0);\n",
       "  border: .5pt solid var(--sklearn-color-unfitted-level-3);\n",
       "}\n",
       "\n",
       ".sk-estimator-doc-link.fitted span {\n",
       "  /* fitted */\n",
       "  background: var(--sklearn-color-fitted-level-0);\n",
       "  border: var(--sklearn-color-fitted-level-3);\n",
       "}\n",
       "\n",
       ".sk-estimator-doc-link:hover span {\n",
       "  display: block;\n",
       "}\n",
       "\n",
       "/* \"?\"-specific style due to the `<a>` HTML tag */\n",
       "\n",
       "#sk-container-id-4 a.estimator_doc_link {\n",
       "  float: right;\n",
       "  font-size: 1rem;\n",
       "  line-height: 1em;\n",
       "  font-family: monospace;\n",
       "  background-color: var(--sklearn-color-background);\n",
       "  border-radius: 1rem;\n",
       "  height: 1rem;\n",
       "  width: 1rem;\n",
       "  text-decoration: none;\n",
       "  /* unfitted */\n",
       "  color: var(--sklearn-color-unfitted-level-1);\n",
       "  border: var(--sklearn-color-unfitted-level-1) 1pt solid;\n",
       "}\n",
       "\n",
       "#sk-container-id-4 a.estimator_doc_link.fitted {\n",
       "  /* fitted */\n",
       "  border: var(--sklearn-color-fitted-level-1) 1pt solid;\n",
       "  color: var(--sklearn-color-fitted-level-1);\n",
       "}\n",
       "\n",
       "/* On hover */\n",
       "#sk-container-id-4 a.estimator_doc_link:hover {\n",
       "  /* unfitted */\n",
       "  background-color: var(--sklearn-color-unfitted-level-3);\n",
       "  color: var(--sklearn-color-background);\n",
       "  text-decoration: none;\n",
       "}\n",
       "\n",
       "#sk-container-id-4 a.estimator_doc_link.fitted:hover {\n",
       "  /* fitted */\n",
       "  background-color: var(--sklearn-color-fitted-level-3);\n",
       "}\n",
       "</style><div id=\"sk-container-id-4\" class=\"sk-top-container\"><div class=\"sk-text-repr-fallback\"><pre>RFE(estimator=SVR(kernel=&#x27;linear&#x27;), n_features_to_select=8)</pre><b>In a Jupyter environment, please rerun this cell to show the HTML representation or trust the notebook. <br />On GitHub, the HTML representation is unable to render, please try loading this page with nbviewer.org.</b></div><div class=\"sk-container\" hidden><div class=\"sk-item sk-dashed-wrapped\"><div class=\"sk-label-container\"><div class=\"sk-label fitted sk-toggleable\"><input class=\"sk-toggleable__control sk-hidden--visually\" id=\"sk-estimator-id-10\" type=\"checkbox\" ><label for=\"sk-estimator-id-10\" class=\"sk-toggleable__label fitted sk-toggleable__label-arrow fitted\">&nbsp;&nbsp;RFE<a class=\"sk-estimator-doc-link fitted\" rel=\"noreferrer\" target=\"_blank\" href=\"https://scikit-learn.org/1.4/modules/generated/sklearn.feature_selection.RFE.html\">?<span>Documentation for RFE</span></a><span class=\"sk-estimator-doc-link fitted\">i<span>Fitted</span></span></label><div class=\"sk-toggleable__content fitted\"><pre>RFE(estimator=SVR(kernel=&#x27;linear&#x27;), n_features_to_select=8)</pre></div> </div></div><div class=\"sk-parallel\"><div class=\"sk-parallel-item\"><div class=\"sk-item\"><div class=\"sk-label-container\"><div class=\"sk-label fitted sk-toggleable\"><input class=\"sk-toggleable__control sk-hidden--visually\" id=\"sk-estimator-id-11\" type=\"checkbox\" ><label for=\"sk-estimator-id-11\" class=\"sk-toggleable__label fitted sk-toggleable__label-arrow fitted\">estimator: SVR</label><div class=\"sk-toggleable__content fitted\"><pre>SVR(kernel=&#x27;linear&#x27;)</pre></div> </div></div><div class=\"sk-serial\"><div class=\"sk-item\"><div class=\"sk-estimator fitted sk-toggleable\"><input class=\"sk-toggleable__control sk-hidden--visually\" id=\"sk-estimator-id-12\" type=\"checkbox\" ><label for=\"sk-estimator-id-12\" class=\"sk-toggleable__label fitted sk-toggleable__label-arrow fitted\">&nbsp;SVR<a class=\"sk-estimator-doc-link fitted\" rel=\"noreferrer\" target=\"_blank\" href=\"https://scikit-learn.org/1.4/modules/generated/sklearn.svm.SVR.html\">?<span>Documentation for SVR</span></a></label><div class=\"sk-toggleable__content fitted\"><pre>SVR(kernel=&#x27;linear&#x27;)</pre></div> </div></div></div></div></div></div></div></div></div>"
      ],
      "text/plain": [
       "RFE(estimator=SVR(kernel='linear'), n_features_to_select=8)"
      ]
     },
     "execution_count": 99,
     "metadata": {},
     "output_type": "execute_result"
    }
   ],
   "source": [
    "from sklearn.feature_selection import RFE\n",
    "from sklearn.svm import SVR\n",
    "\n",
    "\n",
    "estimator = SVR(kernel=\"linear\")\n",
    "model = RFE(estimator, n_features_to_select=8, step=1)\n",
    "model.fit(dataset,label)\n",
    "\n"
   ]
  },
  {
   "cell_type": "code",
   "execution_count": 100,
   "metadata": {},
   "outputs": [
    {
     "name": "stdout",
     "output_type": "stream",
     "text": [
      "<class 'numpy.ndarray'>\n",
      "8\n",
      "[[0.95844549 0.78628795 0.3108156  ... 0.36751269 0.37799564 0.6885    ]\n",
      " [0.85666218 0.57002938 0.13505319 ... 0.18492776 0.19368192 0.4236    ]\n",
      " [0.92143338 0.89520078 0.24539007 ... 0.50253807 0.52977487 0.8203    ]\n",
      " ...\n",
      " [0.94465007 0.90146915 0.24893617 ... 0.4595861  0.47530864 0.7971    ]\n",
      " [0.95827725 0.92928501 0.28173759 ... 0.29410387 0.43645606 1.079     ]\n",
      " [0.88475774 0.7668952  0.23262411 ... 0.26407653 0.24778504 0.5957    ]]\n"
     ]
    }
   ],
   "source": [
    "\n",
    "compressed_dataset_X= model.transform(dataset) # --transform-- the original \"dataset\" Dataframe into a lower-dimensional space based on the model's learned parameters\n",
    "print(type(compressed_dataset_X))\n",
    "print(len(compressed_dataset_X[0]))\n",
    "print(compressed_dataset_X)"
   ]
  },
  {
   "cell_type": "code",
   "execution_count": 101,
   "metadata": {},
   "outputs": [],
   "source": [
    "dataset_arr=dataset.to_numpy()\n"
   ]
  },
  {
   "cell_type": "code",
   "execution_count": 102,
   "metadata": {},
   "outputs": [
    {
     "name": "stdout",
     "output_type": "stream",
     "text": [
      "1327\n"
     ]
    }
   ],
   "source": [
    "# from NecessaryModules.splitData import split_data\n",
    "X_train,X_comb, y_train,y_comb = train_test_split(dataset_arr, label, test_size=0.4, random_state=42)\n",
    "print(len(X_train))"
   ]
  },
  {
   "cell_type": "code",
   "execution_count": 103,
   "metadata": {},
   "outputs": [
    {
     "name": "stdout",
     "output_type": "stream",
     "text": [
      "442\n"
     ]
    }
   ],
   "source": [
    "X_valid, X_test, y_valid, y_test = train_test_split(X_comb, y_comb, test_size=0.50, random_state=42)\n",
    "print(len(X_valid))"
   ]
  },
  {
   "cell_type": "code",
   "execution_count": 104,
   "metadata": {},
   "outputs": [
    {
     "name": "stdout",
     "output_type": "stream",
     "text": [
      "<class 'numpy.ndarray'>\n",
      "1327\n",
      "[[0.92193809 0.9870715  0.94060284 ... 0.83092542 0.85911402 1.089     ]\n",
      " [0.58866083 0.35220372 0.2037234  ... 0.10628661 0.0815541  0.304     ]\n",
      " [0.89502019 0.79412341 0.28262411 ... 0.24260055 0.26859114 0.5115    ]\n",
      " ...\n",
      " [0.47863392 0.25171401 0.17054965 ... 0.09293245 0.07933914 0.2563    ]\n",
      " [0.84858681 0.62095984 0.20088652 ... 0.18543538 0.13961511 0.3015    ]\n",
      " [0.93405114 0.85386876 0.32393617 ... 0.40179617 0.37799564 0.7166    ]]\n",
      "<class 'numpy.ndarray'>\n",
      "442\n",
      "[[0.88610363 0.80391773 0.27039007 ... 0.23166732 0.24023239 0.4358    ]\n",
      " [0.97240915 0.89167483 0.20673759 ... 0.23783678 0.30406681 0.6445    ]\n",
      " [0.55888291 0.29911851 0.18989362 ... 0.07532214 0.07625272 0.09521   ]\n",
      " ...\n",
      " [0.9064603  0.87835455 0.93865248 ... 0.7985162  0.79920116 1.101     ]\n",
      " [0.51547779 0.24740451 0.18900709 ... 0.06052323 0.08111837 0.09888   ]\n",
      " [0.97644684 0.81547502 0.32287234 ... 0.3546271  0.35105301 0.6531    ]]\n",
      "<class 'numpy.ndarray'>\n",
      "443\n",
      "[[0.96904441 0.81234084 0.26117021 ... 0.29550957 0.30007262 0.5847    ]\n",
      " [0.96063257 0.89853085 0.94007092 ... 0.71885982 0.63108206 1.016     ]\n",
      " [0.61793405 0.391381   0.2037234  ... 0.07723545 0.08819898 0.03052   ]\n",
      " ...\n",
      " [0.92311575 0.68227228 0.39308511 ... 0.44631004 0.41975309 0.7544    ]\n",
      " [0.87903769 0.81018609 0.17661348 ... 0.28266302 0.26506899 0.6958    ]\n",
      " [0.53314266 0.28168462 0.18723404 ... 0.10913706 0.04655047 0.1599    ]]\n"
     ]
    }
   ],
   "source": [
    "compressed_dataset_X_train= model.transform(X_train) # --transform-- the original \"dataset\" Dataframe into a lower-dimensional space based on the model's learned parameters\n",
    "print(type(compressed_dataset_X_train))\n",
    "print(len(compressed_dataset_X_train))\n",
    "print(compressed_dataset_X_train)\n",
    "\n",
    "compressed_dataset_X_valid= model.transform(X_valid) # --transform-- the original \"dataset\" Dataframe into a lower-dimensional space based on the model's learned parameters\n",
    "print(type(compressed_dataset_X_valid))\n",
    "print(len(compressed_dataset_X_valid))\n",
    "print(compressed_dataset_X_valid)\n",
    "\n",
    "compressed_dataset_X_test= model.transform(X_test) # --transform-- the original \"dataset\" Dataframe into a lower-dimensional space based on the model's learned parameters\n",
    "print(type(compressed_dataset_X_test))\n",
    "print(len(compressed_dataset_X_test))\n",
    "print(compressed_dataset_X_test)"
   ]
  },
  {
   "cell_type": "markdown",
   "metadata": {},
   "source": [
    "# reshape the data "
   ]
  },
  {
   "cell_type": "code",
   "execution_count": 105,
   "metadata": {},
   "outputs": [
    {
     "data": {
      "text/plain": [
       "(442, 8)"
      ]
     },
     "execution_count": 105,
     "metadata": {},
     "output_type": "execute_result"
    }
   ],
   "source": [
    "compressed_dataset_X_valid.shape"
   ]
  },
  {
   "cell_type": "code",
   "execution_count": 106,
   "metadata": {},
   "outputs": [
    {
     "data": {
      "text/plain": [
       "(1327, 8, 1)"
      ]
     },
     "execution_count": 106,
     "metadata": {},
     "output_type": "execute_result"
    }
   ],
   "source": [
    "X_train_arr=compressed_dataset_X_train.reshape(compressed_dataset_X_train.shape[0],compressed_dataset_X_train.shape[1],1)\n",
    "X_train_arr.shape"
   ]
  },
  {
   "cell_type": "code",
   "execution_count": 107,
   "metadata": {},
   "outputs": [
    {
     "data": {
      "text/plain": [
       "(442, 8, 1)"
      ]
     },
     "execution_count": 107,
     "metadata": {},
     "output_type": "execute_result"
    }
   ],
   "source": [
    "# X_valid_arr=compressed_dataset_X_valid.to_numpy()\n",
    "X_valid_arr=compressed_dataset_X_valid.reshape(compressed_dataset_X_valid.shape[0],compressed_dataset_X_valid.shape[1],1)\n",
    "X_valid_arr.shape"
   ]
  },
  {
   "cell_type": "code",
   "execution_count": 108,
   "metadata": {},
   "outputs": [
    {
     "data": {
      "text/plain": [
       "(443, 8, 1)"
      ]
     },
     "execution_count": 108,
     "metadata": {},
     "output_type": "execute_result"
    }
   ],
   "source": [
    "X_test_arr=compressed_dataset_X_test.reshape(compressed_dataset_X_test.shape[0],compressed_dataset_X_test.shape[1],1)\n",
    "X_test_arr.shape"
   ]
  },
  {
   "cell_type": "code",
   "execution_count": 109,
   "metadata": {},
   "outputs": [],
   "source": [
    "# for \"y\"\n",
    "\n",
    "y_train_arr=np.array(y_train)\n",
    "y_train_arr=y_train_arr.reshape(y_train_arr.shape[0],1)\n",
    "\n",
    "y_valid_arr=np.array(y_valid)\n",
    "y_valid_arr=y_valid_arr.reshape(y_valid_arr.shape[0],1)\n",
    "\n",
    "y_test_arr=np.array(y_test)\n",
    "y_test_arr=y_test_arr.reshape(y_test_arr.shape[0],1)"
   ]
  },
  {
   "cell_type": "code",
   "execution_count": 110,
   "metadata": {},
   "outputs": [
    {
     "data": {
      "text/plain": [
       "(443, 1)"
      ]
     },
     "execution_count": 110,
     "metadata": {},
     "output_type": "execute_result"
    }
   ],
   "source": [
    "y_test_arr.shape"
   ]
  },
  {
   "cell_type": "markdown",
   "metadata": {},
   "source": [
    "# one hot encode"
   ]
  },
  {
   "cell_type": "code",
   "execution_count": 111,
   "metadata": {},
   "outputs": [],
   "source": [
    "from keras.utils import to_categorical\n",
    "# one hot encoding\n",
    "y_train_arr = to_categorical(y_train, 3)\n",
    "y_valid_arr = to_categorical(y_valid, 3)\n",
    "y_test_arr = to_categorical(y_test, 3)"
   ]
  },
  {
   "cell_type": "code",
   "execution_count": 112,
   "metadata": {},
   "outputs": [
    {
     "data": {
      "text/plain": [
       "(443, 3)"
      ]
     },
     "execution_count": 112,
     "metadata": {},
     "output_type": "execute_result"
    }
   ],
   "source": [
    "y_test_arr.shape"
   ]
  },
  {
   "cell_type": "markdown",
   "metadata": {},
   "source": [
    "# model"
   ]
  },
  {
   "cell_type": "code",
   "execution_count": 113,
   "metadata": {},
   "outputs": [],
   "source": [
    "\n",
    "# cnn model\n",
    "from numpy import mean\n",
    "from numpy import std\n",
    "from numpy import dstack\n",
    "from pandas import read_csv\n",
    "from matplotlib import pyplot\n",
    "from keras.models import Sequential\n",
    "from keras.layers import Dense\n",
    "from keras.layers import Flatten\n",
    "from keras.layers import Dropout\n",
    "from keras.layers import Conv1D\n",
    "from keras.layers import MaxPooling1D,LSTM\n"
   ]
  },
  {
   "cell_type": "code",
   "execution_count": 114,
   "metadata": {},
   "outputs": [],
   "source": [
    "import tensorflow as tf\n",
    "callback=tf.keras.callbacks.EarlyStopping(\n",
    "    monitor='val_loss',\n",
    "    min_delta=0,\n",
    "    patience=3,\n",
    "    verbose=0,\n",
    "    mode='auto',\n",
    "    baseline=None,\n",
    "    restore_best_weights=True,\n",
    "    start_from_epoch=0\n",
    ")"
   ]
  },
  {
   "cell_type": "code",
   "execution_count": 115,
   "metadata": {},
   "outputs": [],
   "source": [
    "# Global value\n",
    "verbose, epochs, batch_size = 1, 100, 40\n"
   ]
  },
  {
   "cell_type": "code",
   "execution_count": 116,
   "metadata": {},
   "outputs": [],
   "source": [
    "# summarize scores\n",
    "def summarize_results(scores):\n",
    " print(scores)\n",
    " m, s = mean(scores), std(scores)\n",
    " print('Test Accuracy: %.3f%% (+/-%.3f)' % (m, s))\n",
    " "
   ]
  },
  {
   "cell_type": "markdown",
   "metadata": {},
   "source": [
    "# Accuracy measure"
   ]
  },
  {
   "cell_type": "markdown",
   "metadata": {},
   "source": [
    "**tunned model**"
   ]
  },
  {
   "cell_type": "code",
   "execution_count": 117,
   "metadata": {},
   "outputs": [],
   "source": [
    "# fit and evaluate a model\n",
    "import optuna\n",
    "from matplotlib import pyplot as plt\n",
    "\n",
    "def optimize_model2(trainX, trainy,validX,validy):\n",
    "    n_timesteps, n_features, n_outputs = trainX.shape[1], trainX.shape[2], 3\n",
    "    def objective_model2(trial):\n",
    "    # Define hyperparameters to be tuned\n",
    "     \n",
    "     filters = trial.suggest_int('filters', 32, 128)\n",
    "    #  kernel_size = trial.suggest_int('kernel_size', 2, 5)\n",
    "     dropout_rate = trial.suggest_float('dropout_rate', 0.1, 0.5)\n",
    "    #  dense_units = trial.suggest_int('dense_units', 50, 200)\n",
    "    #  pool_size=trial.suggest_int('pool_size',2,4)\n",
    "     \n",
    "     \n",
    "     # Build the CNN model\n",
    "     model = Sequential()\n",
    "     model.add(Conv1D(filters=filters, kernel_size=3, activation='relu', input_shape=(n_timesteps, n_features)))\n",
    "     model.add(MaxPooling1D(pool_size=2))\n",
    "     model.add(LSTM(units=filters)) # remember the important features\n",
    "     model.add(Dense(100, activation='relu'))\n",
    "     model.add(Dense(filters, activation='relu')) \n",
    "     model.add(Dropout(dropout_rate))#for regularization\n",
    "     model.add(Dense(n_outputs, activation='softmax'))\n",
    " \n",
    "     # Compile the model\n",
    "     model.compile(loss='categorical_crossentropy', optimizer='adam', metrics=['accuracy'])\n",
    " \n",
    "     # Fit the model\n",
    "     history = model.fit(trainX, trainy, validation_data=(validX, validy), epochs=epochs,callbacks=[callback],batch_size=batch_size, verbose=verbose)\n",
    "    \n",
    "    # Return the validation accuracy as the objective value\n",
    "     return history.history['val_accuracy'][-1]\n",
    "    study = optuna.create_study(direction='maximize')\n",
    "    study.optimize(objective_model2, n_trials= 7, \n",
    "                   #timeout=600\n",
    "                   )#The maximum time (in seconds) allowed for the optimization process to run.\n",
    "    # Get the best hyperparameters\n",
    "    best_params = study.best_params\n",
    "    print(\"Best Hyperparameters:\", best_params)\n",
    "    # fig_study = optuna.visualization.plot_parallel_coordinate(study, params=[\"filters\", \"kernel_size\",\"dropout_rate\",\"pool_size\"])\n",
    "    # fig_study.show()\n",
    "\n",
    "    return best_params\n",
    " \n",
    "\n"
   ]
  },
  {
   "cell_type": "code",
   "execution_count": 118,
   "metadata": {},
   "outputs": [
    {
     "name": "stderr",
     "output_type": "stream",
     "text": [
      "[I 2024-02-12 10:56:38,422] A new study created in memory with name: no-name-e84912fa-905c-4981-a206-e63358a3fa6d\n"
     ]
    },
    {
     "name": "stdout",
     "output_type": "stream",
     "text": [
      "Epoch 1/100\n",
      "34/34 [==============================] - 4s 23ms/step - loss: 1.0664 - accuracy: 0.4446 - val_loss: 1.0099 - val_accuracy: 0.4253\n",
      "Epoch 2/100\n",
      "34/34 [==============================] - 0s 9ms/step - loss: 0.9107 - accuracy: 0.5546 - val_loss: 0.8524 - val_accuracy: 0.4231\n",
      "Epoch 3/100\n",
      "34/34 [==============================] - 0s 8ms/step - loss: 0.7874 - accuracy: 0.6300 - val_loss: 0.7323 - val_accuracy: 0.7059\n",
      "Epoch 4/100\n",
      "34/34 [==============================] - 0s 8ms/step - loss: 0.6286 - accuracy: 0.7581 - val_loss: 0.4623 - val_accuracy: 0.8213\n",
      "Epoch 5/100\n",
      "34/34 [==============================] - 0s 9ms/step - loss: 0.5060 - accuracy: 0.8078 - val_loss: 0.4820 - val_accuracy: 0.8054\n",
      "Epoch 6/100\n",
      "34/34 [==============================] - 0s 9ms/step - loss: 0.4460 - accuracy: 0.8289 - val_loss: 0.4091 - val_accuracy: 0.8348\n",
      "Epoch 7/100\n",
      "34/34 [==============================] - 0s 8ms/step - loss: 0.4349 - accuracy: 0.8259 - val_loss: 0.3538 - val_accuracy: 0.8484\n",
      "Epoch 8/100\n",
      "34/34 [==============================] - 0s 9ms/step - loss: 0.4162 - accuracy: 0.8485 - val_loss: 0.3345 - val_accuracy: 0.8597\n",
      "Epoch 9/100\n",
      "34/34 [==============================] - 0s 8ms/step - loss: 0.3988 - accuracy: 0.8448 - val_loss: 0.4120 - val_accuracy: 0.8190\n",
      "Epoch 10/100\n",
      "34/34 [==============================] - 0s 9ms/step - loss: 0.3994 - accuracy: 0.8463 - val_loss: 0.3323 - val_accuracy: 0.8575\n",
      "Epoch 11/100\n",
      "34/34 [==============================] - 0s 9ms/step - loss: 0.3523 - accuracy: 0.8651 - val_loss: 0.3389 - val_accuracy: 0.8484\n",
      "Epoch 12/100\n",
      "34/34 [==============================] - 0s 9ms/step - loss: 0.3607 - accuracy: 0.8644 - val_loss: 0.3058 - val_accuracy: 0.8643\n",
      "Epoch 13/100\n",
      "34/34 [==============================] - 0s 7ms/step - loss: 0.3497 - accuracy: 0.8583 - val_loss: 0.3110 - val_accuracy: 0.8756\n",
      "Epoch 14/100\n",
      "34/34 [==============================] - 0s 8ms/step - loss: 0.3816 - accuracy: 0.8553 - val_loss: 0.2964 - val_accuracy: 0.8733\n",
      "Epoch 15/100\n",
      "34/34 [==============================] - 0s 9ms/step - loss: 0.3541 - accuracy: 0.8568 - val_loss: 0.2978 - val_accuracy: 0.8688\n",
      "Epoch 16/100\n",
      "34/34 [==============================] - 0s 9ms/step - loss: 0.3238 - accuracy: 0.8674 - val_loss: 0.2972 - val_accuracy: 0.8756\n",
      "Epoch 17/100\n",
      "34/34 [==============================] - 0s 9ms/step - loss: 0.3106 - accuracy: 0.8666 - val_loss: 0.3255 - val_accuracy: 0.8416\n"
     ]
    },
    {
     "name": "stderr",
     "output_type": "stream",
     "text": [
      "[I 2024-02-12 10:56:47,026] Trial 0 finished with value: 0.8416289687156677 and parameters: {'filters': 83, 'dropout_rate': 0.4061016657162585}. Best is trial 0 with value: 0.8416289687156677.\n"
     ]
    },
    {
     "name": "stdout",
     "output_type": "stream",
     "text": [
      "Epoch 1/100\n",
      "34/34 [==============================] - 4s 22ms/step - loss: 1.0201 - accuracy: 0.5087 - val_loss: 0.8909 - val_accuracy: 0.4276\n",
      "Epoch 2/100\n",
      "34/34 [==============================] - 0s 10ms/step - loss: 0.7545 - accuracy: 0.6843 - val_loss: 0.5766 - val_accuracy: 0.8032\n",
      "Epoch 3/100\n",
      "34/34 [==============================] - 0s 11ms/step - loss: 0.5023 - accuracy: 0.8003 - val_loss: 0.4823 - val_accuracy: 0.8167\n",
      "Epoch 4/100\n",
      "34/34 [==============================] - 0s 12ms/step - loss: 0.4155 - accuracy: 0.8402 - val_loss: 0.3834 - val_accuracy: 0.8462\n",
      "Epoch 5/100\n",
      "34/34 [==============================] - 0s 11ms/step - loss: 0.3802 - accuracy: 0.8576 - val_loss: 0.3479 - val_accuracy: 0.8529\n",
      "Epoch 6/100\n",
      "34/34 [==============================] - 0s 10ms/step - loss: 0.3975 - accuracy: 0.8448 - val_loss: 0.4006 - val_accuracy: 0.8462\n",
      "Epoch 7/100\n",
      "34/34 [==============================] - 0s 11ms/step - loss: 0.3587 - accuracy: 0.8568 - val_loss: 0.3113 - val_accuracy: 0.8665\n",
      "Epoch 8/100\n",
      "34/34 [==============================] - 0s 12ms/step - loss: 0.3295 - accuracy: 0.8719 - val_loss: 0.3204 - val_accuracy: 0.8688\n",
      "Epoch 9/100\n",
      "34/34 [==============================] - 0s 11ms/step - loss: 0.3103 - accuracy: 0.8787 - val_loss: 0.2762 - val_accuracy: 0.8756\n",
      "Epoch 10/100\n",
      "34/34 [==============================] - 0s 11ms/step - loss: 0.2922 - accuracy: 0.8809 - val_loss: 0.2848 - val_accuracy: 0.8756\n",
      "Epoch 11/100\n",
      "34/34 [==============================] - 0s 9ms/step - loss: 0.2721 - accuracy: 0.8937 - val_loss: 0.2513 - val_accuracy: 0.8914\n",
      "Epoch 12/100\n",
      "34/34 [==============================] - 0s 11ms/step - loss: 0.2668 - accuracy: 0.8990 - val_loss: 0.3140 - val_accuracy: 0.8620\n",
      "Epoch 13/100\n",
      "34/34 [==============================] - 0s 9ms/step - loss: 0.2678 - accuracy: 0.8877 - val_loss: 0.2381 - val_accuracy: 0.9095\n",
      "Epoch 14/100\n",
      "34/34 [==============================] - 0s 11ms/step - loss: 0.2429 - accuracy: 0.9088 - val_loss: 0.3066 - val_accuracy: 0.8688\n",
      "Epoch 15/100\n",
      "34/34 [==============================] - 0s 10ms/step - loss: 0.2512 - accuracy: 0.9020 - val_loss: 0.2458 - val_accuracy: 0.8982\n",
      "Epoch 16/100\n",
      "34/34 [==============================] - 0s 9ms/step - loss: 0.2476 - accuracy: 0.9013 - val_loss: 0.2215 - val_accuracy: 0.9140\n",
      "Epoch 17/100\n",
      "34/34 [==============================] - 0s 11ms/step - loss: 0.2114 - accuracy: 0.9171 - val_loss: 0.2538 - val_accuracy: 0.8869\n",
      "Epoch 18/100\n",
      "34/34 [==============================] - 0s 9ms/step - loss: 0.2172 - accuracy: 0.9096 - val_loss: 0.2293 - val_accuracy: 0.9005\n",
      "Epoch 19/100\n",
      "34/34 [==============================] - 0s 9ms/step - loss: 0.2117 - accuracy: 0.9201 - val_loss: 0.3270 - val_accuracy: 0.8597\n"
     ]
    },
    {
     "name": "stderr",
     "output_type": "stream",
     "text": [
      "[I 2024-02-12 10:56:57,454] Trial 1 finished with value: 0.8597285151481628 and parameters: {'filters': 120, 'dropout_rate': 0.16300149694800437}. Best is trial 1 with value: 0.8597285151481628.\n"
     ]
    },
    {
     "name": "stdout",
     "output_type": "stream",
     "text": [
      "Epoch 1/100\n",
      "34/34 [==============================] - 3s 25ms/step - loss: 1.0430 - accuracy: 0.5154 - val_loss: 0.9069 - val_accuracy: 0.8122\n",
      "Epoch 2/100\n",
      "34/34 [==============================] - 0s 12ms/step - loss: 0.7204 - accuracy: 0.7257 - val_loss: 0.5877 - val_accuracy: 0.7308\n",
      "Epoch 3/100\n",
      "34/34 [==============================] - 0s 9ms/step - loss: 0.4994 - accuracy: 0.7995 - val_loss: 0.3863 - val_accuracy: 0.8416\n",
      "Epoch 4/100\n",
      "34/34 [==============================] - 0s 14ms/step - loss: 0.4069 - accuracy: 0.8440 - val_loss: 0.4216 - val_accuracy: 0.8326\n",
      "Epoch 5/100\n",
      "34/34 [==============================] - 0s 8ms/step - loss: 0.3748 - accuracy: 0.8553 - val_loss: 0.3396 - val_accuracy: 0.8529\n",
      "Epoch 6/100\n",
      "34/34 [==============================] - 0s 9ms/step - loss: 0.3559 - accuracy: 0.8568 - val_loss: 0.3655 - val_accuracy: 0.8394\n",
      "Epoch 7/100\n",
      "34/34 [==============================] - 0s 10ms/step - loss: 0.3563 - accuracy: 0.8478 - val_loss: 0.3281 - val_accuracy: 0.8507\n",
      "Epoch 8/100\n",
      "34/34 [==============================] - 0s 10ms/step - loss: 0.3520 - accuracy: 0.8500 - val_loss: 0.3144 - val_accuracy: 0.8688\n",
      "Epoch 9/100\n",
      "34/34 [==============================] - 0s 10ms/step - loss: 0.3236 - accuracy: 0.8659 - val_loss: 0.2860 - val_accuracy: 0.8846\n",
      "Epoch 10/100\n",
      "34/34 [==============================] - 0s 11ms/step - loss: 0.3063 - accuracy: 0.8734 - val_loss: 0.2990 - val_accuracy: 0.8643\n",
      "Epoch 11/100\n",
      "34/34 [==============================] - 0s 11ms/step - loss: 0.3021 - accuracy: 0.8757 - val_loss: 0.3136 - val_accuracy: 0.8484\n",
      "Epoch 12/100\n",
      "34/34 [==============================] - 0s 13ms/step - loss: 0.3799 - accuracy: 0.8335 - val_loss: 0.3049 - val_accuracy: 0.8507\n"
     ]
    },
    {
     "name": "stderr",
     "output_type": "stream",
     "text": [
      "[I 2024-02-12 10:57:04,872] Trial 2 finished with value: 0.8506787419319153 and parameters: {'filters': 122, 'dropout_rate': 0.21744465984830263}. Best is trial 1 with value: 0.8597285151481628.\n"
     ]
    },
    {
     "name": "stdout",
     "output_type": "stream",
     "text": [
      "Epoch 1/100\n",
      "34/34 [==============================] - 3s 24ms/step - loss: 1.0650 - accuracy: 0.4484 - val_loss: 0.9926 - val_accuracy: 0.4118\n",
      "Epoch 2/100\n",
      "34/34 [==============================] - 0s 9ms/step - loss: 0.8830 - accuracy: 0.5471 - val_loss: 0.8315 - val_accuracy: 0.6991\n",
      "Epoch 3/100\n",
      "34/34 [==============================] - 0s 9ms/step - loss: 0.7470 - accuracy: 0.6918 - val_loss: 0.5889 - val_accuracy: 0.7851\n",
      "Epoch 4/100\n",
      "34/34 [==============================] - 0s 9ms/step - loss: 0.5376 - accuracy: 0.7822 - val_loss: 0.4053 - val_accuracy: 0.8484\n",
      "Epoch 5/100\n",
      "34/34 [==============================] - 0s 9ms/step - loss: 0.4196 - accuracy: 0.8455 - val_loss: 0.3636 - val_accuracy: 0.8462\n",
      "Epoch 6/100\n",
      "34/34 [==============================] - 0s 10ms/step - loss: 0.4138 - accuracy: 0.8357 - val_loss: 0.4051 - val_accuracy: 0.8439\n",
      "Epoch 7/100\n",
      "34/34 [==============================] - 0s 10ms/step - loss: 0.4023 - accuracy: 0.8448 - val_loss: 0.3292 - val_accuracy: 0.8529\n",
      "Epoch 8/100\n",
      "34/34 [==============================] - 0s 9ms/step - loss: 0.3732 - accuracy: 0.8576 - val_loss: 0.3907 - val_accuracy: 0.8371\n",
      "Epoch 9/100\n",
      "34/34 [==============================] - 0s 10ms/step - loss: 0.4054 - accuracy: 0.8320 - val_loss: 0.3124 - val_accuracy: 0.8643\n",
      "Epoch 10/100\n",
      "34/34 [==============================] - 0s 10ms/step - loss: 0.3704 - accuracy: 0.8515 - val_loss: 0.3125 - val_accuracy: 0.8733\n",
      "Epoch 11/100\n",
      "34/34 [==============================] - 0s 9ms/step - loss: 0.3301 - accuracy: 0.8644 - val_loss: 0.3301 - val_accuracy: 0.8552\n",
      "Epoch 12/100\n",
      "34/34 [==============================] - 0s 10ms/step - loss: 0.3260 - accuracy: 0.8726 - val_loss: 0.3190 - val_accuracy: 0.8552\n"
     ]
    },
    {
     "name": "stderr",
     "output_type": "stream",
     "text": [
      "[I 2024-02-12 10:57:11,745] Trial 3 finished with value: 0.8552036285400391 and parameters: {'filters': 115, 'dropout_rate': 0.4412827026541275}. Best is trial 1 with value: 0.8597285151481628.\n"
     ]
    },
    {
     "name": "stdout",
     "output_type": "stream",
     "text": [
      "Epoch 1/100\n",
      "34/34 [==============================] - 3s 22ms/step - loss: 1.0573 - accuracy: 0.4461 - val_loss: 0.9795 - val_accuracy: 0.4163\n",
      "Epoch 2/100\n",
      "34/34 [==============================] - 0s 8ms/step - loss: 0.8689 - accuracy: 0.5848 - val_loss: 0.7680 - val_accuracy: 0.7081\n",
      "Epoch 3/100\n",
      "34/34 [==============================] - 0s 9ms/step - loss: 0.6427 - accuracy: 0.7491 - val_loss: 0.4710 - val_accuracy: 0.8258\n",
      "Epoch 4/100\n",
      "34/34 [==============================] - 0s 9ms/step - loss: 0.4835 - accuracy: 0.8109 - val_loss: 0.4299 - val_accuracy: 0.8439\n",
      "Epoch 5/100\n",
      "34/34 [==============================] - 0s 9ms/step - loss: 0.4371 - accuracy: 0.8372 - val_loss: 0.3717 - val_accuracy: 0.8439\n",
      "Epoch 6/100\n",
      "34/34 [==============================] - 0s 9ms/step - loss: 0.3951 - accuracy: 0.8433 - val_loss: 0.3327 - val_accuracy: 0.8529\n",
      "Epoch 7/100\n",
      "34/34 [==============================] - 0s 9ms/step - loss: 0.3689 - accuracy: 0.8583 - val_loss: 0.3818 - val_accuracy: 0.8462\n",
      "Epoch 8/100\n",
      "34/34 [==============================] - 0s 9ms/step - loss: 0.3618 - accuracy: 0.8591 - val_loss: 0.3383 - val_accuracy: 0.8688\n",
      "Epoch 9/100\n",
      "34/34 [==============================] - 0s 9ms/step - loss: 0.3474 - accuracy: 0.8666 - val_loss: 0.3058 - val_accuracy: 0.8710\n",
      "Epoch 10/100\n",
      "34/34 [==============================] - 0s 9ms/step - loss: 0.3401 - accuracy: 0.8757 - val_loss: 0.3519 - val_accuracy: 0.8439\n",
      "Epoch 11/100\n",
      "34/34 [==============================] - 0s 8ms/step - loss: 0.3356 - accuracy: 0.8606 - val_loss: 0.2957 - val_accuracy: 0.8597\n",
      "Epoch 12/100\n",
      "34/34 [==============================] - 0s 9ms/step - loss: 0.3199 - accuracy: 0.8719 - val_loss: 0.3005 - val_accuracy: 0.8665\n",
      "Epoch 13/100\n",
      "34/34 [==============================] - 0s 11ms/step - loss: 0.3141 - accuracy: 0.8681 - val_loss: 0.3007 - val_accuracy: 0.8778\n",
      "Epoch 14/100\n",
      "34/34 [==============================] - 0s 14ms/step - loss: 0.2900 - accuracy: 0.8817 - val_loss: 0.3386 - val_accuracy: 0.8462\n"
     ]
    },
    {
     "name": "stderr",
     "output_type": "stream",
     "text": [
      "[I 2024-02-12 10:57:19,278] Trial 4 finished with value: 0.8461538553237915 and parameters: {'filters': 112, 'dropout_rate': 0.30305509359685556}. Best is trial 1 with value: 0.8597285151481628.\n"
     ]
    },
    {
     "name": "stdout",
     "output_type": "stream",
     "text": [
      "Epoch 1/100\n",
      "34/34 [==============================] - 3s 24ms/step - loss: 1.0331 - accuracy: 0.5109 - val_loss: 0.9072 - val_accuracy: 0.7534\n",
      "Epoch 2/100\n",
      "34/34 [==============================] - 0s 10ms/step - loss: 0.6997 - accuracy: 0.7084 - val_loss: 0.4598 - val_accuracy: 0.8258\n",
      "Epoch 3/100\n",
      "34/34 [==============================] - 0s 10ms/step - loss: 0.4418 - accuracy: 0.8425 - val_loss: 0.4604 - val_accuracy: 0.7964\n",
      "Epoch 4/100\n",
      "34/34 [==============================] - 0s 10ms/step - loss: 0.4197 - accuracy: 0.8342 - val_loss: 0.3618 - val_accuracy: 0.8552\n",
      "Epoch 5/100\n",
      "34/34 [==============================] - 0s 10ms/step - loss: 0.3778 - accuracy: 0.8485 - val_loss: 0.3405 - val_accuracy: 0.8620\n",
      "Epoch 6/100\n",
      "34/34 [==============================] - 0s 10ms/step - loss: 0.3696 - accuracy: 0.8463 - val_loss: 0.3497 - val_accuracy: 0.8643\n",
      "Epoch 7/100\n",
      "34/34 [==============================] - 0s 11ms/step - loss: 0.3805 - accuracy: 0.8500 - val_loss: 0.3201 - val_accuracy: 0.8643\n",
      "Epoch 8/100\n",
      "34/34 [==============================] - 0s 11ms/step - loss: 0.3330 - accuracy: 0.8538 - val_loss: 0.3470 - val_accuracy: 0.8394\n",
      "Epoch 9/100\n",
      "34/34 [==============================] - 0s 10ms/step - loss: 0.3325 - accuracy: 0.8644 - val_loss: 0.3570 - val_accuracy: 0.8303\n",
      "Epoch 10/100\n",
      "34/34 [==============================] - 0s 10ms/step - loss: 0.3311 - accuracy: 0.8628 - val_loss: 0.3015 - val_accuracy: 0.8733\n",
      "Epoch 11/100\n",
      "34/34 [==============================] - 0s 10ms/step - loss: 0.2877 - accuracy: 0.8832 - val_loss: 0.2831 - val_accuracy: 0.8665\n",
      "Epoch 12/100\n",
      "34/34 [==============================] - 0s 9ms/step - loss: 0.2792 - accuracy: 0.8817 - val_loss: 0.2836 - val_accuracy: 0.8643\n",
      "Epoch 13/100\n",
      "34/34 [==============================] - 0s 9ms/step - loss: 0.2687 - accuracy: 0.8885 - val_loss: 0.2647 - val_accuracy: 0.8846\n",
      "Epoch 14/100\n",
      "34/34 [==============================] - 0s 10ms/step - loss: 0.2643 - accuracy: 0.8907 - val_loss: 0.2683 - val_accuracy: 0.8824\n",
      "Epoch 15/100\n",
      "34/34 [==============================] - 0s 10ms/step - loss: 0.2645 - accuracy: 0.8922 - val_loss: 0.2941 - val_accuracy: 0.8620\n",
      "Epoch 16/100\n",
      "34/34 [==============================] - 0s 11ms/step - loss: 0.2512 - accuracy: 0.8998 - val_loss: 0.2575 - val_accuracy: 0.8846\n",
      "Epoch 17/100\n",
      "34/34 [==============================] - 0s 12ms/step - loss: 0.2611 - accuracy: 0.8930 - val_loss: 0.2627 - val_accuracy: 0.8914\n",
      "Epoch 18/100\n",
      "34/34 [==============================] - 0s 10ms/step - loss: 0.2876 - accuracy: 0.8772 - val_loss: 0.2709 - val_accuracy: 0.8937\n",
      "Epoch 19/100\n",
      "34/34 [==============================] - 0s 10ms/step - loss: 0.2610 - accuracy: 0.8968 - val_loss: 0.2421 - val_accuracy: 0.8937\n",
      "Epoch 20/100\n",
      "34/34 [==============================] - 0s 10ms/step - loss: 0.2338 - accuracy: 0.8975 - val_loss: 0.2279 - val_accuracy: 0.9027\n",
      "Epoch 21/100\n",
      "34/34 [==============================] - 0s 10ms/step - loss: 0.2589 - accuracy: 0.8922 - val_loss: 0.2862 - val_accuracy: 0.8756\n",
      "Epoch 22/100\n",
      "34/34 [==============================] - 0s 11ms/step - loss: 0.2545 - accuracy: 0.8983 - val_loss: 0.2458 - val_accuracy: 0.8937\n",
      "Epoch 23/100\n",
      "34/34 [==============================] - 0s 11ms/step - loss: 0.2172 - accuracy: 0.9066 - val_loss: 0.2223 - val_accuracy: 0.9253\n",
      "Epoch 24/100\n",
      "34/34 [==============================] - 0s 12ms/step - loss: 0.2288 - accuracy: 0.9035 - val_loss: 0.2427 - val_accuracy: 0.8891\n",
      "Epoch 25/100\n",
      "34/34 [==============================] - 0s 13ms/step - loss: 0.2175 - accuracy: 0.9081 - val_loss: 0.2249 - val_accuracy: 0.9027\n",
      "Epoch 26/100\n",
      "34/34 [==============================] - 0s 14ms/step - loss: 0.1977 - accuracy: 0.9254 - val_loss: 0.2108 - val_accuracy: 0.9118\n",
      "Epoch 27/100\n",
      "34/34 [==============================] - 0s 11ms/step - loss: 0.2110 - accuracy: 0.9141 - val_loss: 0.2347 - val_accuracy: 0.8937\n",
      "Epoch 28/100\n",
      "34/34 [==============================] - 0s 11ms/step - loss: 0.1982 - accuracy: 0.9164 - val_loss: 0.2545 - val_accuracy: 0.8959\n",
      "Epoch 29/100\n",
      "34/34 [==============================] - 0s 11ms/step - loss: 0.2064 - accuracy: 0.9224 - val_loss: 0.2120 - val_accuracy: 0.9231\n"
     ]
    },
    {
     "name": "stderr",
     "output_type": "stream",
     "text": [
      "[I 2024-02-12 10:57:32,826] Trial 5 finished with value: 0.9230769276618958 and parameters: {'filters': 126, 'dropout_rate': 0.1464422537036291}. Best is trial 5 with value: 0.9230769276618958.\n"
     ]
    },
    {
     "name": "stdout",
     "output_type": "stream",
     "text": [
      "Epoch 1/100\n",
      "34/34 [==============================] - 4s 23ms/step - loss: 1.0544 - accuracy: 0.4740 - val_loss: 0.9743 - val_accuracy: 0.7330\n",
      "Epoch 2/100\n",
      "34/34 [==============================] - 0s 8ms/step - loss: 0.8355 - accuracy: 0.6458 - val_loss: 0.6418 - val_accuracy: 0.8122\n",
      "Epoch 3/100\n",
      "34/34 [==============================] - 0s 9ms/step - loss: 0.5682 - accuracy: 0.7671 - val_loss: 0.4576 - val_accuracy: 0.7783\n",
      "Epoch 4/100\n",
      "34/34 [==============================] - 0s 9ms/step - loss: 0.4596 - accuracy: 0.8124 - val_loss: 0.4355 - val_accuracy: 0.8303\n",
      "Epoch 5/100\n",
      "34/34 [==============================] - 0s 10ms/step - loss: 0.4329 - accuracy: 0.8161 - val_loss: 0.3760 - val_accuracy: 0.8484\n",
      "Epoch 6/100\n",
      "34/34 [==============================] - 0s 9ms/step - loss: 0.4037 - accuracy: 0.8493 - val_loss: 0.3515 - val_accuracy: 0.8462\n",
      "Epoch 7/100\n",
      "34/34 [==============================] - 0s 9ms/step - loss: 0.3676 - accuracy: 0.8515 - val_loss: 0.3212 - val_accuracy: 0.8507\n",
      "Epoch 8/100\n",
      "34/34 [==============================] - 0s 9ms/step - loss: 0.3650 - accuracy: 0.8531 - val_loss: 0.3103 - val_accuracy: 0.8643\n",
      "Epoch 9/100\n",
      "34/34 [==============================] - 0s 9ms/step - loss: 0.3376 - accuracy: 0.8696 - val_loss: 0.3351 - val_accuracy: 0.8575\n",
      "Epoch 10/100\n",
      "34/34 [==============================] - 0s 8ms/step - loss: 0.3466 - accuracy: 0.8591 - val_loss: 0.2948 - val_accuracy: 0.8778\n",
      "Epoch 11/100\n",
      "34/34 [==============================] - 0s 10ms/step - loss: 0.3345 - accuracy: 0.8749 - val_loss: 0.3257 - val_accuracy: 0.8620\n",
      "Epoch 12/100\n",
      "34/34 [==============================] - 0s 13ms/step - loss: 0.3194 - accuracy: 0.8704 - val_loss: 0.2765 - val_accuracy: 0.8846\n",
      "Epoch 13/100\n",
      "34/34 [==============================] - 0s 12ms/step - loss: 0.2923 - accuracy: 0.8802 - val_loss: 0.2681 - val_accuracy: 0.8778\n",
      "Epoch 14/100\n",
      "34/34 [==============================] - 0s 11ms/step - loss: 0.2860 - accuracy: 0.8817 - val_loss: 0.2691 - val_accuracy: 0.8891\n",
      "Epoch 15/100\n",
      "34/34 [==============================] - 0s 10ms/step - loss: 0.2856 - accuracy: 0.8779 - val_loss: 0.2630 - val_accuracy: 0.8801\n",
      "Epoch 16/100\n",
      "34/34 [==============================] - 0s 10ms/step - loss: 0.2716 - accuracy: 0.8892 - val_loss: 0.2734 - val_accuracy: 0.8710\n",
      "Epoch 17/100\n",
      "34/34 [==============================] - 0s 11ms/step - loss: 0.2595 - accuracy: 0.8915 - val_loss: 0.2336 - val_accuracy: 0.9027\n",
      "Epoch 18/100\n",
      "34/34 [==============================] - 0s 9ms/step - loss: 0.2336 - accuracy: 0.8998 - val_loss: 0.2677 - val_accuracy: 0.8869\n",
      "Epoch 19/100\n",
      "34/34 [==============================] - 0s 9ms/step - loss: 0.2690 - accuracy: 0.8915 - val_loss: 0.2456 - val_accuracy: 0.8869\n",
      "Epoch 20/100\n",
      "34/34 [==============================] - 0s 11ms/step - loss: 0.2284 - accuracy: 0.9050 - val_loss: 0.2825 - val_accuracy: 0.8778\n"
     ]
    },
    {
     "name": "stderr",
     "output_type": "stream",
     "text": [
      "[I 2024-02-12 10:57:43,408] Trial 6 finished with value: 0.877828061580658 and parameters: {'filters': 107, 'dropout_rate': 0.4317071274936224}. Best is trial 5 with value: 0.9230769276618958.\n"
     ]
    },
    {
     "name": "stdout",
     "output_type": "stream",
     "text": [
      "Best Hyperparameters: {'filters': 126, 'dropout_rate': 0.1464422537036291}\n"
     ]
    }
   ],
   "source": [
    "\n",
    "best_params=optimize_model2(X_train_arr, y_train_arr, X_valid_arr, y_valid_arr)"
   ]
  },
  {
   "cell_type": "code",
   "execution_count": 119,
   "metadata": {},
   "outputs": [
    {
     "data": {
      "text/plain": [
       "{'filters': 126, 'dropout_rate': 0.1464422537036291}"
      ]
     },
     "execution_count": 119,
     "metadata": {},
     "output_type": "execute_result"
    }
   ],
   "source": [
    "best_params"
   ]
  },
  {
   "cell_type": "code",
   "execution_count": 133,
   "metadata": {},
   "outputs": [],
   "source": [
    "# fit and evaluate a model\n",
    "def evaluate_model_1(trainX, trainy,validX,validy, testX, testy):\n",
    "#  verbose, epochs, batch_size = 1, 1500, 100\n",
    " n_timesteps, n_features, n_outputs = trainX.shape[1], trainX.shape[2], 3\n",
    " model = Sequential()\n",
    " model.add(Conv1D(filters=best_params['filters'], kernel_size=3, activation='relu', input_shape=(n_timesteps,n_features)))\n",
    "#  model.add(MaxPooling1D(pool_size=2))\n",
    " model.add(LSTM(units=best_params['filters']))\n",
    " model.add(Dense(100, activation='relu'))\n",
    " model.add(Dense(best_params['filters'], activation='relu'))\n",
    " model.add(Dropout(best_params['dropout_rate']))\n",
    " model.add(Dense(n_outputs, activation='softmax')) # \"softmax\" for multi-class\n",
    " model.compile(loss='categorical_crossentropy', optimizer='adam', metrics=['accuracy'])\n",
    " # fit network\n",
    " history=model.fit(trainX, trainy, validation_data=(validX, validy), epochs=epochs, batch_size=batch_size,callbacks=[callback], verbose=verbose) \n",
    " # evaluate model\n",
    " _, accuracy = model.evaluate(testX, testy, batch_size=batch_size, verbose=0)\n",
    " # '_,'-->a variable is being used for a specific purpose, but its value is not of interest or not used in the subsequent code.\n",
    " return accuracy,history"
   ]
  },
  {
   "cell_type": "code",
   "execution_count": 134,
   "metadata": {},
   "outputs": [
    {
     "name": "stdout",
     "output_type": "stream",
     "text": [
      "Epoch 1/100\n",
      "34/34 [==============================] - 3s 31ms/step - loss: 1.0380 - accuracy: 0.4665 - val_loss: 0.9576 - val_accuracy: 0.4977\n",
      "Epoch 2/100\n",
      "34/34 [==============================] - 1s 17ms/step - loss: 0.8308 - accuracy: 0.6209 - val_loss: 0.7028 - val_accuracy: 0.7127\n",
      "Epoch 3/100\n",
      "34/34 [==============================] - 0s 15ms/step - loss: 0.5817 - accuracy: 0.7596 - val_loss: 0.4758 - val_accuracy: 0.7919\n",
      "Epoch 4/100\n",
      "34/34 [==============================] - 0s 14ms/step - loss: 0.4957 - accuracy: 0.8041 - val_loss: 0.4184 - val_accuracy: 0.8167\n",
      "Epoch 5/100\n",
      "34/34 [==============================] - 0s 14ms/step - loss: 0.4419 - accuracy: 0.8184 - val_loss: 0.4314 - val_accuracy: 0.8303\n",
      "Epoch 6/100\n",
      "34/34 [==============================] - 0s 14ms/step - loss: 0.4155 - accuracy: 0.8297 - val_loss: 0.4527 - val_accuracy: 0.7828\n",
      "Epoch 7/100\n",
      "34/34 [==============================] - 0s 14ms/step - loss: 0.4402 - accuracy: 0.8229 - val_loss: 0.4009 - val_accuracy: 0.8439\n",
      "Epoch 8/100\n",
      "34/34 [==============================] - 0s 14ms/step - loss: 0.3732 - accuracy: 0.8523 - val_loss: 0.3607 - val_accuracy: 0.8258\n",
      "Epoch 9/100\n",
      "34/34 [==============================] - 1s 15ms/step - loss: 0.3577 - accuracy: 0.8500 - val_loss: 0.3391 - val_accuracy: 0.8394\n",
      "Epoch 10/100\n",
      "34/34 [==============================] - 1s 21ms/step - loss: 0.3849 - accuracy: 0.8387 - val_loss: 0.3094 - val_accuracy: 0.8507\n",
      "Epoch 11/100\n",
      "34/34 [==============================] - 1s 20ms/step - loss: 0.3438 - accuracy: 0.8553 - val_loss: 0.3115 - val_accuracy: 0.8462\n",
      "Epoch 12/100\n",
      "34/34 [==============================] - 0s 13ms/step - loss: 0.3206 - accuracy: 0.8674 - val_loss: 0.2755 - val_accuracy: 0.8620\n",
      "Epoch 13/100\n",
      "34/34 [==============================] - 0s 14ms/step - loss: 0.3175 - accuracy: 0.8674 - val_loss: 0.2781 - val_accuracy: 0.8710\n",
      "Epoch 14/100\n",
      "34/34 [==============================] - 0s 13ms/step - loss: 0.3098 - accuracy: 0.8666 - val_loss: 0.2902 - val_accuracy: 0.8552\n",
      "Epoch 15/100\n",
      "34/34 [==============================] - 0s 14ms/step - loss: 0.2971 - accuracy: 0.8794 - val_loss: 0.2857 - val_accuracy: 0.8733\n",
      "88.03611993789673\n",
      "Test Accuracy: 88.036% (+/-0.000)\n"
     ]
    }
   ],
   "source": [
    "\n",
    "score_1,history_1= evaluate_model_1(X_train_arr, y_train_arr, X_valid_arr, y_valid_arr, X_test_arr, y_test_arr)\n",
    "score_1 = score_1 * 100.0\n",
    "summarize_results(score_1)"
   ]
  },
  {
   "cell_type": "markdown",
   "metadata": {},
   "source": [
    "**defined-model**"
   ]
  },
  {
   "cell_type": "code",
   "execution_count": 122,
   "metadata": {},
   "outputs": [],
   "source": [
    "# import pickle\n",
    "\n",
    "# # fit and evaluate a model\n",
    "# def evaluate_model_2(trainX, trainy,validX,validy, testX, testy):\n",
    "# #  verbose, epochs, batch_size = 1, 1500, 100\n",
    "#  n_timesteps, n_features, n_outputs = trainX.shape[1], trainX.shape[2], 7\n",
    "\n",
    "#  model = Sequential()\n",
    "#  model.add(Conv1D(filters=64, kernel_size=3, activation='relu', input_shape=(n_timesteps, n_features)))\n",
    "#  model.add(MaxPooling1D(pool_size=2))\n",
    "#  model.add(LSTM(units=64)) # remember the important features\n",
    "#  model.add(Dense(100, activation='relu'))\n",
    "#  model.add(Dense(64, activation='relu')) \n",
    "#  model.add(Dropout(0.5))#for regularization\n",
    "#  model.add(Dense(n_outputs, activation='softmax'))\n",
    "#  model.compile(loss='categorical_crossentropy', optimizer='adam', metrics=['accuracy'])\n",
    "#  # fit network\n",
    "#  history=model.fit(trainX, trainy, validation_data=(validX, validy), epochs=epochs, batch_size=batch_size,callbacks=[callback], verbose=verbose)\n",
    "#  #summarize_mode\n",
    "#  print(model.summary())\n",
    "\n",
    "#  #load-model\n",
    "#  pickle.dump(model, open(\"../all_pkl_file/all_tuned_model/PCA_model2_fitted_2.pkl\", \"wb\"))\n",
    " \n",
    "#  # evaluate model\n",
    "#  _, accuracy = model.evaluate(testX, testy, batch_size=batch_size, verbose=0)\n",
    "#  # '_,'-->a variable is being used for a specific purpose, but its value is not of interest or not used in the subsequent code.\n",
    "#  return accuracy,history"
   ]
  },
  {
   "cell_type": "code",
   "execution_count": 123,
   "metadata": {},
   "outputs": [],
   "source": [
    "# score_2,history_2= evaluate_model_2(X_train_arr, y_train_arr, X_valid_arr, y_valid_arr, X_test_arr, y_test_arr)\n",
    "# score_2 = score_2 * 100.0\n",
    "# summarize_results(score_2)"
   ]
  },
  {
   "cell_type": "markdown",
   "metadata": {},
   "source": [
    "# Evaluation"
   ]
  },
  {
   "cell_type": "code",
   "execution_count": 124,
   "metadata": {},
   "outputs": [],
   "source": [
    "# # plot loss-curve_2\n",
    "# pyplot.plot(history_2.history['loss'], label='training')\n",
    "# pyplot.plot(history_2.history['val_loss'], label='validation')\n",
    "# plt.xlabel('epoch')\n",
    "# plt.ylabel('loss')\n",
    "# plt.title('Loss-curve')\n",
    "# pyplot.legend()\n",
    "# pyplot.show()"
   ]
  },
  {
   "cell_type": "code",
   "execution_count": null,
   "metadata": {},
   "outputs": [],
   "source": []
  },
  {
   "cell_type": "markdown",
   "metadata": {},
   "source": [
    "# Confusion-matrix"
   ]
  },
  {
   "cell_type": "code",
   "execution_count": 125,
   "metadata": {},
   "outputs": [],
   "source": [
    "# # Load the encoder model from the saved file\n",
    "# with open(\"../all_pkl_file/all_tuned_model/PCA_model2_fitted_2.pkl\", \"rb\") as file: #\"rb\"= read mode\n",
    "#     model = pickle.load(file)\n",
    "\n",
    "# model"
   ]
  },
  {
   "cell_type": "markdown",
   "metadata": {},
   "source": [
    "**confusionmatrix**"
   ]
  },
  {
   "cell_type": "code",
   "execution_count": 126,
   "metadata": {},
   "outputs": [],
   "source": [
    "#  #confusion_matrix\n",
    "\n",
    "# from sklearn.metrics import ConfusionMatrixDisplay, confusion_matrix\n",
    "\n",
    "\n",
    "# predictions=model.predict(X_test_arr)\n",
    "# print(y_test_arr)\n",
    "# print(len(y_test_arr),',',len(y_test_arr[0]))\n",
    "# print(predictions)\n",
    "# print(len(predictions),',',len(predictions[0]))\n",
    "\n",
    "# for i in range(len(predictions)):\n",
    "#     for j in range(len(predictions[0])):\n",
    "#         if predictions[i][j]==max(predictions[i]):\n",
    "#             predictions[i][j]=1\n",
    "#         else: predictions[i][j]=0\n",
    "\n",
    "# # reverse one-hot encoding for fit into confusion matrix\n",
    "# y_test_cm=y_test_arr.argmax(axis=1)\n",
    "# print(y_test_cm)\n",
    "# predictions_cm=predictions.argmax(axis=1)\n",
    "# print(predictions_cm)\n",
    "\n",
    "# cm = confusion_matrix(y_test_cm, predictions_cm, labels=[0,1,2,3,4,5,6])\n",
    "# disp = ConfusionMatrixDisplay(confusion_matrix=cm,\n",
    "#                             display_labels=[0,1,2,3,4,5,6])\n",
    "# disp.plot()\n",
    "# plt.show()\n"
   ]
  },
  {
   "cell_type": "markdown",
   "metadata": {},
   "source": [
    "# Evaluation"
   ]
  },
  {
   "cell_type": "code",
   "execution_count": 127,
   "metadata": {},
   "outputs": [],
   "source": [
    "# # plot loss-curve\n",
    "# pyplot.plot(history_1.history['loss'], label='training')\n",
    "# pyplot.plot(history_1.history['val_loss'], label='validation')\n",
    "# plt.xlabel('epoch')\n",
    "# plt.ylabel('loss')\n",
    "# plt.title('Loss-curve')\n",
    "# pyplot.legend()\n",
    "# pyplot.show()"
   ]
  },
  {
   "cell_type": "code",
   "execution_count": 128,
   "metadata": {},
   "outputs": [],
   "source": [
    "# # plot training history\n",
    "# pyplot.plot(history.history['accuracy'], label='train')\n",
    "# pyplot.plot(history.history['val_accuracy'], label='test')\n",
    "# plt.xlabel('epoch')\n",
    "# plt.ylabel('accuracy')\n",
    "# plt.title('Accuracy-curve')\n",
    "# pyplot.legend()\n",
    "# pyplot.show()"
   ]
  },
  {
   "cell_type": "markdown",
   "metadata": {},
   "source": [
    "# ROC curve"
   ]
  },
  {
   "cell_type": "code",
   "execution_count": 129,
   "metadata": {},
   "outputs": [],
   "source": [
    "# # Load the encoder model from the saved file\n",
    "# with open(\"../all_pkl_file/all_tuned_model/PCA_model2_fitted_2.pkl\", \"rb\") as file: #\"rb\"= read mode\n",
    "#     model = pickle.load(file)\n",
    "\n",
    "# model"
   ]
  },
  {
   "cell_type": "code",
   "execution_count": 130,
   "metadata": {},
   "outputs": [],
   "source": [
    "# import matplotlib.pyplot as plt\n",
    "# from sklearn.metrics import roc_curve, auc"
   ]
  },
  {
   "cell_type": "code",
   "execution_count": 131,
   "metadata": {},
   "outputs": [],
   "source": [
    "# predictions=model.predict(X_test_arr)\n",
    "# for i in range(len(predictions)):\n",
    "#     for j in range(len(predictions[0])):\n",
    "#         if predictions[i][j]==max(predictions[i]):\n",
    "#             predictions[i][j]=1\n",
    "#         else: predictions[i][j]=0\n",
    "# # Compute ROC curve and ROC area for each class\n",
    "# fpr = dict()\n",
    "# tpr = dict()\n",
    "# roc_auc = dict()\n",
    "\n",
    "# for i in range(7):\n",
    "#     fpr[i], tpr[i], _ = roc_curve(y_test_arr[:, i], predictions[:, i])\n",
    "#     roc_auc[i] = auc(fpr[i], tpr[i])"
   ]
  },
  {
   "cell_type": "code",
   "execution_count": 132,
   "metadata": {},
   "outputs": [],
   "source": [
    "# # Plot ROC curve for each class\n",
    "# plt.figure()\n",
    "# for i in range(7):\n",
    "#     plt.plot(fpr[i], tpr[i], label=f'class {i}(area = {roc_auc[i]:0.2f})')\n",
    "# plt.plot([0, 1], [0, 1], 'k--')\n",
    "# plt.xlabel('False Positive Rate')\n",
    "# plt.ylabel('True Positive Rate')\n",
    "# plt.title('ROC Curve')\n",
    "# plt.legend(loc='lower right')\n",
    "# plt.show()"
   ]
  }
 ],
 "metadata": {
  "kernelspec": {
   "display_name": "Python 3",
   "language": "python",
   "name": "python3"
  },
  "language_info": {
   "codemirror_mode": {
    "name": "ipython",
    "version": 3
   },
   "file_extension": ".py",
   "mimetype": "text/x-python",
   "name": "python",
   "nbconvert_exporter": "python",
   "pygments_lexer": "ipython3",
   "version": "3.11.4"
  }
 },
 "nbformat": 4,
 "nbformat_minor": 2
}
