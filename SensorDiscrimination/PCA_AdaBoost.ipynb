{
 "cells": [
  {
   "cell_type": "code",
   "execution_count": 94,
   "metadata": {},
   "outputs": [],
   "source": [
    "import pandas as pd\n",
    "import numpy as np\n",
    "from sklearn.preprocessing import StandardScaler\n",
    "from sklearn.decomposition import PCA\n",
    "import seaborn as sns\n",
    "import matplotlib.pyplot as plt\n",
    "import optuna\n",
    "from sklearn.model_selection import train_test_split\n",
    "from sklearn.metrics import roc_auc_score\n",
    "import sklearn\n",
    "import random\n"
   ]
  },
  {
   "cell_type": "code",
   "execution_count": 95,
   "metadata": {},
   "outputs": [],
   "source": [
    "import warnings\n",
    "warnings.filterwarnings(\"ignore\")\n",
    "from sklearn.metrics import mean_absolute_error"
   ]
  },
  {
   "cell_type": "code",
   "execution_count": 96,
   "metadata": {},
   "outputs": [
    {
     "name": "stdout",
     "output_type": "stream",
     "text": [
      "            F2        F3        F1       F11        F4        F6       F10  \\\n",
      "654   0.569198  0.866925  0.519099  0.186702  0.720605  0.134552  0.275602   \n",
      "715   0.266310  0.885599  0.793144  0.188121  0.813238  0.400220  0.250188   \n",
      "789   0.163465  0.920256  0.885602  0.192199  0.873108  0.567070  0.390060   \n",
      "1961  0.119337  0.911339  0.778061  0.342021  0.917678  0.530511  0.689383   \n",
      "766   0.223957  0.893506  0.746131  0.173794  0.822219  0.351017  0.216867   \n",
      "...        ...       ...       ...       ...       ...       ...       ...   \n",
      "1456  0.611337  0.608513  0.325759  0.193794  0.535007  0.043293  0.215926   \n",
      "387   0.660321  0.501682  0.257199  0.170550  0.360552  0.014428  0.201054   \n",
      "726   0.190866  0.870626  0.850539  0.198227  0.819225  0.539307  0.293298   \n",
      "595   0.221176  0.901077  0.800784  0.197695  0.867454  0.460418  0.267508   \n",
      "718   0.202888  0.908479  0.823310  0.192021  0.819558  0.474711  0.244917   \n",
      "\n",
      "            F9        F5      F7      F12      F8  \n",
      "654   0.209723  0.223384  0.3406   5.4350  0.2539  \n",
      "715   0.188754  0.290777  0.4565   5.5050  0.2014  \n",
      "789   0.295041  0.324473  0.6079   5.2810  0.2368  \n",
      "1961  0.365599  0.371097  0.5969   0.9082  0.3308  \n",
      "766   0.191605  0.275708  0.4114   5.2510  0.3174  \n",
      "...        ...       ...     ...      ...     ...  \n",
      "1456  0.124405  0.156899  0.1794   5.6240  0.2393  \n",
      "387   0.114877  0.127669  0.2161   5.0320  0.1184  \n",
      "726   0.256423  0.280138  0.7043   4.8650  0.3357  \n",
      "595   0.202109  0.288562  0.4041  20.0000  0.1990  \n",
      "718   0.225927  0.327124  0.4321   4.6850  0.2747  \n",
      "\n",
      "[2212 rows x 12 columns]\n",
      "654     1\n",
      "715     1\n",
      "789     1\n",
      "1961    1\n",
      "766     1\n",
      "       ..\n",
      "1456    0\n",
      "387     0\n",
      "726     1\n",
      "595     1\n",
      "718     1\n",
      "Name: out, Length: 2212, dtype: int64\n"
     ]
    }
   ],
   "source": [
    "filename = 'Dataset/Sensor_Discrimination_normalized.csv'\n",
    "df=pd.read_csv(filename)\n",
    "# shuffle the DataFrame rows\n",
    "df = df.sample(frac = 1) #frac = fraction\n",
    "dataset=df.iloc[:,:-1]\n",
    "label=df.iloc[:,-1]\n",
    "print(dataset)\n",
    "print(label)"
   ]
  },
  {
   "cell_type": "code",
   "execution_count": 97,
   "metadata": {},
   "outputs": [
    {
     "name": "stdout",
     "output_type": "stream",
     "text": [
      "PCA(n_components=3)\n",
      "<class 'numpy.ndarray'>\n",
      "3\n",
      "[[ 1.57117946 -0.50825339  0.07986403]\n",
      " [ 1.63062058 -0.22905738 -0.22910767]\n",
      " [ 1.39303591  0.05400007 -0.31136704]\n",
      " ...\n",
      " [ 0.97652718  0.02343892 -0.17835766]\n",
      " [16.10637881  0.5033303  -0.16584294]\n",
      " [ 0.80882501 -0.19868749 -0.30882391]]\n"
     ]
    }
   ],
   "source": [
    "pcaTrain = PCA(n_components=3).fit(dataset)# --train-- pca with the \"dataset\" Dataframe\n",
    "print(pcaTrain)\n",
    "compressed_dataset_X= pcaTrain.transform(dataset) # --transform-- the original \"dataset\" Dataframe into a lower-dimensional space based on the model's learned parameters\n",
    "print(type(compressed_dataset_X))\n",
    "print(len(compressed_dataset_X[0]))\n",
    "print(compressed_dataset_X)"
   ]
  },
  {
   "cell_type": "code",
   "execution_count": 98,
   "metadata": {},
   "outputs": [
    {
     "name": "stdout",
     "output_type": "stream",
     "text": [
      "1548\n"
     ]
    }
   ],
   "source": [
    "dataset_arr=dataset.to_numpy()\n",
    "# from NecessaryModules.splitData import split_data\n",
    "X_train, X_test, y_train, y_test = train_test_split(dataset_arr, label, test_size=0.3, random_state=42)\n",
    "print(len(X_train))"
   ]
  },
  {
   "cell_type": "code",
   "execution_count": 99,
   "metadata": {},
   "outputs": [
    {
     "name": "stdout",
     "output_type": "stream",
     "text": [
      "<class 'numpy.ndarray'>\n",
      "1548\n",
      "[[ 1.88049457 -0.73950016  0.10442432]\n",
      " [ 1.49760936 -0.3986497  -0.03417375]\n",
      " [-3.06928653 -0.281977   -0.36668908]\n",
      " ...\n",
      " [ 1.55494296 -0.21742346  0.0091188 ]\n",
      " [ 1.48653888  0.59087009 -0.1833134 ]\n",
      " [ 1.24315233 -0.65289401 -0.05096868]]\n",
      "<class 'numpy.ndarray'>\n",
      "664\n",
      "[[-3.42371198  1.52126193  0.69052   ]\n",
      " [ 1.33974143 -0.6214661  -0.1069403 ]\n",
      " [ 1.30348846 -0.74378904  0.09968995]\n",
      " ...\n",
      " [-3.90513627 -1.30256663  0.35402689]\n",
      " [ 1.02514396 -0.85734914  0.30265169]\n",
      " [ 1.57772554 -0.30016595  0.19475083]]\n"
     ]
    }
   ],
   "source": [
    "compressed_dataset_X_train= pcaTrain.transform(X_train) # --transform-- the original \"dataset\" Dataframe into a lower-dimensional space based on the model's learned parameters\n",
    "print(type(compressed_dataset_X_train))\n",
    "print(len(compressed_dataset_X_train))\n",
    "print(compressed_dataset_X_train)\n",
    "\n",
    "compressed_dataset_X_test= pcaTrain.transform(X_test) # --transform-- the original \"dataset\" Dataframe into a lower-dimensional space based on the model's learned parameters\n",
    "print(type(compressed_dataset_X_test))\n",
    "print(len(compressed_dataset_X_test))\n",
    "print(compressed_dataset_X_test)"
   ]
  },
  {
   "cell_type": "markdown",
   "metadata": {},
   "source": [
    "# Tune D tree for Ada-boost"
   ]
  },
  {
   "cell_type": "code",
   "execution_count": 100,
   "metadata": {},
   "outputs": [
    {
     "data": {
      "text/html": [
       "<style>#sk-container-id-7 {\n",
       "  /* Definition of color scheme common for light and dark mode */\n",
       "  --sklearn-color-text: black;\n",
       "  --sklearn-color-line: gray;\n",
       "  /* Definition of color scheme for unfitted estimators */\n",
       "  --sklearn-color-unfitted-level-0: #fff5e6;\n",
       "  --sklearn-color-unfitted-level-1: #f6e4d2;\n",
       "  --sklearn-color-unfitted-level-2: #ffe0b3;\n",
       "  --sklearn-color-unfitted-level-3: chocolate;\n",
       "  /* Definition of color scheme for fitted estimators */\n",
       "  --sklearn-color-fitted-level-0: #f0f8ff;\n",
       "  --sklearn-color-fitted-level-1: #d4ebff;\n",
       "  --sklearn-color-fitted-level-2: #b3dbfd;\n",
       "  --sklearn-color-fitted-level-3: cornflowerblue;\n",
       "\n",
       "  /* Specific color for light theme */\n",
       "  --sklearn-color-text-on-default-background: var(--sg-text-color, var(--theme-code-foreground, var(--jp-content-font-color1, black)));\n",
       "  --sklearn-color-background: var(--sg-background-color, var(--theme-background, var(--jp-layout-color0, white)));\n",
       "  --sklearn-color-border-box: var(--sg-text-color, var(--theme-code-foreground, var(--jp-content-font-color1, black)));\n",
       "  --sklearn-color-icon: #696969;\n",
       "\n",
       "  @media (prefers-color-scheme: dark) {\n",
       "    /* Redefinition of color scheme for dark theme */\n",
       "    --sklearn-color-text-on-default-background: var(--sg-text-color, var(--theme-code-foreground, var(--jp-content-font-color1, white)));\n",
       "    --sklearn-color-background: var(--sg-background-color, var(--theme-background, var(--jp-layout-color0, #111)));\n",
       "    --sklearn-color-border-box: var(--sg-text-color, var(--theme-code-foreground, var(--jp-content-font-color1, white)));\n",
       "    --sklearn-color-icon: #878787;\n",
       "  }\n",
       "}\n",
       "\n",
       "#sk-container-id-7 {\n",
       "  color: var(--sklearn-color-text);\n",
       "}\n",
       "\n",
       "#sk-container-id-7 pre {\n",
       "  padding: 0;\n",
       "}\n",
       "\n",
       "#sk-container-id-7 input.sk-hidden--visually {\n",
       "  border: 0;\n",
       "  clip: rect(1px 1px 1px 1px);\n",
       "  clip: rect(1px, 1px, 1px, 1px);\n",
       "  height: 1px;\n",
       "  margin: -1px;\n",
       "  overflow: hidden;\n",
       "  padding: 0;\n",
       "  position: absolute;\n",
       "  width: 1px;\n",
       "}\n",
       "\n",
       "#sk-container-id-7 div.sk-dashed-wrapped {\n",
       "  border: 1px dashed var(--sklearn-color-line);\n",
       "  margin: 0 0.4em 0.5em 0.4em;\n",
       "  box-sizing: border-box;\n",
       "  padding-bottom: 0.4em;\n",
       "  background-color: var(--sklearn-color-background);\n",
       "}\n",
       "\n",
       "#sk-container-id-7 div.sk-container {\n",
       "  /* jupyter's `normalize.less` sets `[hidden] { display: none; }`\n",
       "     but bootstrap.min.css set `[hidden] { display: none !important; }`\n",
       "     so we also need the `!important` here to be able to override the\n",
       "     default hidden behavior on the sphinx rendered scikit-learn.org.\n",
       "     See: https://github.com/scikit-learn/scikit-learn/issues/21755 */\n",
       "  display: inline-block !important;\n",
       "  position: relative;\n",
       "}\n",
       "\n",
       "#sk-container-id-7 div.sk-text-repr-fallback {\n",
       "  display: none;\n",
       "}\n",
       "\n",
       "div.sk-parallel-item,\n",
       "div.sk-serial,\n",
       "div.sk-item {\n",
       "  /* draw centered vertical line to link estimators */\n",
       "  background-image: linear-gradient(var(--sklearn-color-text-on-default-background), var(--sklearn-color-text-on-default-background));\n",
       "  background-size: 2px 100%;\n",
       "  background-repeat: no-repeat;\n",
       "  background-position: center center;\n",
       "}\n",
       "\n",
       "/* Parallel-specific style estimator block */\n",
       "\n",
       "#sk-container-id-7 div.sk-parallel-item::after {\n",
       "  content: \"\";\n",
       "  width: 100%;\n",
       "  border-bottom: 2px solid var(--sklearn-color-text-on-default-background);\n",
       "  flex-grow: 1;\n",
       "}\n",
       "\n",
       "#sk-container-id-7 div.sk-parallel {\n",
       "  display: flex;\n",
       "  align-items: stretch;\n",
       "  justify-content: center;\n",
       "  background-color: var(--sklearn-color-background);\n",
       "  position: relative;\n",
       "}\n",
       "\n",
       "#sk-container-id-7 div.sk-parallel-item {\n",
       "  display: flex;\n",
       "  flex-direction: column;\n",
       "}\n",
       "\n",
       "#sk-container-id-7 div.sk-parallel-item:first-child::after {\n",
       "  align-self: flex-end;\n",
       "  width: 50%;\n",
       "}\n",
       "\n",
       "#sk-container-id-7 div.sk-parallel-item:last-child::after {\n",
       "  align-self: flex-start;\n",
       "  width: 50%;\n",
       "}\n",
       "\n",
       "#sk-container-id-7 div.sk-parallel-item:only-child::after {\n",
       "  width: 0;\n",
       "}\n",
       "\n",
       "/* Serial-specific style estimator block */\n",
       "\n",
       "#sk-container-id-7 div.sk-serial {\n",
       "  display: flex;\n",
       "  flex-direction: column;\n",
       "  align-items: center;\n",
       "  background-color: var(--sklearn-color-background);\n",
       "  padding-right: 1em;\n",
       "  padding-left: 1em;\n",
       "}\n",
       "\n",
       "\n",
       "/* Toggleable style: style used for estimator/Pipeline/ColumnTransformer box that is\n",
       "clickable and can be expanded/collapsed.\n",
       "- Pipeline and ColumnTransformer use this feature and define the default style\n",
       "- Estimators will overwrite some part of the style using the `sk-estimator` class\n",
       "*/\n",
       "\n",
       "/* Pipeline and ColumnTransformer style (default) */\n",
       "\n",
       "#sk-container-id-7 div.sk-toggleable {\n",
       "  /* Default theme specific background. It is overwritten whether we have a\n",
       "  specific estimator or a Pipeline/ColumnTransformer */\n",
       "  background-color: var(--sklearn-color-background);\n",
       "}\n",
       "\n",
       "/* Toggleable label */\n",
       "#sk-container-id-7 label.sk-toggleable__label {\n",
       "  cursor: pointer;\n",
       "  display: block;\n",
       "  width: 100%;\n",
       "  margin-bottom: 0;\n",
       "  padding: 0.5em;\n",
       "  box-sizing: border-box;\n",
       "  text-align: center;\n",
       "}\n",
       "\n",
       "#sk-container-id-7 label.sk-toggleable__label-arrow:before {\n",
       "  /* Arrow on the left of the label */\n",
       "  content: \"▸\";\n",
       "  float: left;\n",
       "  margin-right: 0.25em;\n",
       "  color: var(--sklearn-color-icon);\n",
       "}\n",
       "\n",
       "#sk-container-id-7 label.sk-toggleable__label-arrow:hover:before {\n",
       "  color: var(--sklearn-color-text);\n",
       "}\n",
       "\n",
       "/* Toggleable content - dropdown */\n",
       "\n",
       "#sk-container-id-7 div.sk-toggleable__content {\n",
       "  max-height: 0;\n",
       "  max-width: 0;\n",
       "  overflow: hidden;\n",
       "  text-align: left;\n",
       "  /* unfitted */\n",
       "  background-color: var(--sklearn-color-unfitted-level-0);\n",
       "}\n",
       "\n",
       "#sk-container-id-7 div.sk-toggleable__content.fitted {\n",
       "  /* fitted */\n",
       "  background-color: var(--sklearn-color-fitted-level-0);\n",
       "}\n",
       "\n",
       "#sk-container-id-7 div.sk-toggleable__content pre {\n",
       "  margin: 0.2em;\n",
       "  border-radius: 0.25em;\n",
       "  color: var(--sklearn-color-text);\n",
       "  /* unfitted */\n",
       "  background-color: var(--sklearn-color-unfitted-level-0);\n",
       "}\n",
       "\n",
       "#sk-container-id-7 div.sk-toggleable__content.fitted pre {\n",
       "  /* unfitted */\n",
       "  background-color: var(--sklearn-color-fitted-level-0);\n",
       "}\n",
       "\n",
       "#sk-container-id-7 input.sk-toggleable__control:checked~div.sk-toggleable__content {\n",
       "  /* Expand drop-down */\n",
       "  max-height: 200px;\n",
       "  max-width: 100%;\n",
       "  overflow: auto;\n",
       "}\n",
       "\n",
       "#sk-container-id-7 input.sk-toggleable__control:checked~label.sk-toggleable__label-arrow:before {\n",
       "  content: \"▾\";\n",
       "}\n",
       "\n",
       "/* Pipeline/ColumnTransformer-specific style */\n",
       "\n",
       "#sk-container-id-7 div.sk-label input.sk-toggleable__control:checked~label.sk-toggleable__label {\n",
       "  color: var(--sklearn-color-text);\n",
       "  background-color: var(--sklearn-color-unfitted-level-2);\n",
       "}\n",
       "\n",
       "#sk-container-id-7 div.sk-label.fitted input.sk-toggleable__control:checked~label.sk-toggleable__label {\n",
       "  background-color: var(--sklearn-color-fitted-level-2);\n",
       "}\n",
       "\n",
       "/* Estimator-specific style */\n",
       "\n",
       "/* Colorize estimator box */\n",
       "#sk-container-id-7 div.sk-estimator input.sk-toggleable__control:checked~label.sk-toggleable__label {\n",
       "  /* unfitted */\n",
       "  background-color: var(--sklearn-color-unfitted-level-2);\n",
       "}\n",
       "\n",
       "#sk-container-id-7 div.sk-estimator.fitted input.sk-toggleable__control:checked~label.sk-toggleable__label {\n",
       "  /* fitted */\n",
       "  background-color: var(--sklearn-color-fitted-level-2);\n",
       "}\n",
       "\n",
       "#sk-container-id-7 div.sk-label label.sk-toggleable__label,\n",
       "#sk-container-id-7 div.sk-label label {\n",
       "  /* The background is the default theme color */\n",
       "  color: var(--sklearn-color-text-on-default-background);\n",
       "}\n",
       "\n",
       "/* On hover, darken the color of the background */\n",
       "#sk-container-id-7 div.sk-label:hover label.sk-toggleable__label {\n",
       "  color: var(--sklearn-color-text);\n",
       "  background-color: var(--sklearn-color-unfitted-level-2);\n",
       "}\n",
       "\n",
       "/* Label box, darken color on hover, fitted */\n",
       "#sk-container-id-7 div.sk-label.fitted:hover label.sk-toggleable__label.fitted {\n",
       "  color: var(--sklearn-color-text);\n",
       "  background-color: var(--sklearn-color-fitted-level-2);\n",
       "}\n",
       "\n",
       "/* Estimator label */\n",
       "\n",
       "#sk-container-id-7 div.sk-label label {\n",
       "  font-family: monospace;\n",
       "  font-weight: bold;\n",
       "  display: inline-block;\n",
       "  line-height: 1.2em;\n",
       "}\n",
       "\n",
       "#sk-container-id-7 div.sk-label-container {\n",
       "  text-align: center;\n",
       "}\n",
       "\n",
       "/* Estimator-specific */\n",
       "#sk-container-id-7 div.sk-estimator {\n",
       "  font-family: monospace;\n",
       "  border: 1px dotted var(--sklearn-color-border-box);\n",
       "  border-radius: 0.25em;\n",
       "  box-sizing: border-box;\n",
       "  margin-bottom: 0.5em;\n",
       "  /* unfitted */\n",
       "  background-color: var(--sklearn-color-unfitted-level-0);\n",
       "}\n",
       "\n",
       "#sk-container-id-7 div.sk-estimator.fitted {\n",
       "  /* fitted */\n",
       "  background-color: var(--sklearn-color-fitted-level-0);\n",
       "}\n",
       "\n",
       "/* on hover */\n",
       "#sk-container-id-7 div.sk-estimator:hover {\n",
       "  /* unfitted */\n",
       "  background-color: var(--sklearn-color-unfitted-level-2);\n",
       "}\n",
       "\n",
       "#sk-container-id-7 div.sk-estimator.fitted:hover {\n",
       "  /* fitted */\n",
       "  background-color: var(--sklearn-color-fitted-level-2);\n",
       "}\n",
       "\n",
       "/* Specification for estimator info (e.g. \"i\" and \"?\") */\n",
       "\n",
       "/* Common style for \"i\" and \"?\" */\n",
       "\n",
       ".sk-estimator-doc-link,\n",
       "a:link.sk-estimator-doc-link,\n",
       "a:visited.sk-estimator-doc-link {\n",
       "  float: right;\n",
       "  font-size: smaller;\n",
       "  line-height: 1em;\n",
       "  font-family: monospace;\n",
       "  background-color: var(--sklearn-color-background);\n",
       "  border-radius: 1em;\n",
       "  height: 1em;\n",
       "  width: 1em;\n",
       "  text-decoration: none !important;\n",
       "  margin-left: 1ex;\n",
       "  /* unfitted */\n",
       "  border: var(--sklearn-color-unfitted-level-1) 1pt solid;\n",
       "  color: var(--sklearn-color-unfitted-level-1);\n",
       "}\n",
       "\n",
       ".sk-estimator-doc-link.fitted,\n",
       "a:link.sk-estimator-doc-link.fitted,\n",
       "a:visited.sk-estimator-doc-link.fitted {\n",
       "  /* fitted */\n",
       "  border: var(--sklearn-color-fitted-level-1) 1pt solid;\n",
       "  color: var(--sklearn-color-fitted-level-1);\n",
       "}\n",
       "\n",
       "/* On hover */\n",
       "div.sk-estimator:hover .sk-estimator-doc-link:hover,\n",
       ".sk-estimator-doc-link:hover,\n",
       "div.sk-label-container:hover .sk-estimator-doc-link:hover,\n",
       ".sk-estimator-doc-link:hover {\n",
       "  /* unfitted */\n",
       "  background-color: var(--sklearn-color-unfitted-level-3);\n",
       "  color: var(--sklearn-color-background);\n",
       "  text-decoration: none;\n",
       "}\n",
       "\n",
       "div.sk-estimator.fitted:hover .sk-estimator-doc-link.fitted:hover,\n",
       ".sk-estimator-doc-link.fitted:hover,\n",
       "div.sk-label-container:hover .sk-estimator-doc-link.fitted:hover,\n",
       ".sk-estimator-doc-link.fitted:hover {\n",
       "  /* fitted */\n",
       "  background-color: var(--sklearn-color-fitted-level-3);\n",
       "  color: var(--sklearn-color-background);\n",
       "  text-decoration: none;\n",
       "}\n",
       "\n",
       "/* Span, style for the box shown on hovering the info icon */\n",
       ".sk-estimator-doc-link span {\n",
       "  display: none;\n",
       "  z-index: 9999;\n",
       "  position: relative;\n",
       "  font-weight: normal;\n",
       "  right: .2ex;\n",
       "  padding: .5ex;\n",
       "  margin: .5ex;\n",
       "  width: min-content;\n",
       "  min-width: 20ex;\n",
       "  max-width: 50ex;\n",
       "  color: var(--sklearn-color-text);\n",
       "  box-shadow: 2pt 2pt 4pt #999;\n",
       "  /* unfitted */\n",
       "  background: var(--sklearn-color-unfitted-level-0);\n",
       "  border: .5pt solid var(--sklearn-color-unfitted-level-3);\n",
       "}\n",
       "\n",
       ".sk-estimator-doc-link.fitted span {\n",
       "  /* fitted */\n",
       "  background: var(--sklearn-color-fitted-level-0);\n",
       "  border: var(--sklearn-color-fitted-level-3);\n",
       "}\n",
       "\n",
       ".sk-estimator-doc-link:hover span {\n",
       "  display: block;\n",
       "}\n",
       "\n",
       "/* \"?\"-specific style due to the `<a>` HTML tag */\n",
       "\n",
       "#sk-container-id-7 a.estimator_doc_link {\n",
       "  float: right;\n",
       "  font-size: 1rem;\n",
       "  line-height: 1em;\n",
       "  font-family: monospace;\n",
       "  background-color: var(--sklearn-color-background);\n",
       "  border-radius: 1rem;\n",
       "  height: 1rem;\n",
       "  width: 1rem;\n",
       "  text-decoration: none;\n",
       "  /* unfitted */\n",
       "  color: var(--sklearn-color-unfitted-level-1);\n",
       "  border: var(--sklearn-color-unfitted-level-1) 1pt solid;\n",
       "}\n",
       "\n",
       "#sk-container-id-7 a.estimator_doc_link.fitted {\n",
       "  /* fitted */\n",
       "  border: var(--sklearn-color-fitted-level-1) 1pt solid;\n",
       "  color: var(--sklearn-color-fitted-level-1);\n",
       "}\n",
       "\n",
       "/* On hover */\n",
       "#sk-container-id-7 a.estimator_doc_link:hover {\n",
       "  /* unfitted */\n",
       "  background-color: var(--sklearn-color-unfitted-level-3);\n",
       "  color: var(--sklearn-color-background);\n",
       "  text-decoration: none;\n",
       "}\n",
       "\n",
       "#sk-container-id-7 a.estimator_doc_link.fitted:hover {\n",
       "  /* fitted */\n",
       "  background-color: var(--sklearn-color-fitted-level-3);\n",
       "}\n",
       "</style><div id=\"sk-container-id-7\" class=\"sk-top-container\"><div class=\"sk-text-repr-fallback\"><pre>DecisionTreeClassifier(max_depth=12, max_features=&#x27;sqrt&#x27;)</pre><b>In a Jupyter environment, please rerun this cell to show the HTML representation or trust the notebook. <br />On GitHub, the HTML representation is unable to render, please try loading this page with nbviewer.org.</b></div><div class=\"sk-container\" hidden><div class=\"sk-item\"><div class=\"sk-estimator fitted sk-toggleable\"><input class=\"sk-toggleable__control sk-hidden--visually\" id=\"sk-estimator-id-13\" type=\"checkbox\" checked><label for=\"sk-estimator-id-13\" class=\"sk-toggleable__label fitted sk-toggleable__label-arrow fitted\">&nbsp;&nbsp;DecisionTreeClassifier<a class=\"sk-estimator-doc-link fitted\" rel=\"noreferrer\" target=\"_blank\" href=\"https://scikit-learn.org/1.4/modules/generated/sklearn.tree.DecisionTreeClassifier.html\">?<span>Documentation for DecisionTreeClassifier</span></a><span class=\"sk-estimator-doc-link fitted\">i<span>Fitted</span></span></label><div class=\"sk-toggleable__content fitted\"><pre>DecisionTreeClassifier(max_depth=12, max_features=&#x27;sqrt&#x27;)</pre></div> </div></div></div></div>"
      ],
      "text/plain": [
       "DecisionTreeClassifier(max_depth=12, max_features='sqrt')"
      ]
     },
     "execution_count": 100,
     "metadata": {},
     "output_type": "execute_result"
    }
   ],
   "source": [
    "from sklearn.tree import DecisionTreeClassifier\n",
    "params_dt = {'max_depth': 12,    \n",
    "             'max_features': \"sqrt\"}\n",
    "\n",
    "model_dt = DecisionTreeClassifier(**params_dt)\n",
    "\n",
    "model_dt.fit(compressed_dataset_X_train, y_train)"
   ]
  },
  {
   "cell_type": "code",
   "execution_count": 101,
   "metadata": {},
   "outputs": [
    {
     "data": {
      "text/plain": [
       "0.06626506024096386"
      ]
     },
     "execution_count": 101,
     "metadata": {},
     "output_type": "execute_result"
    }
   ],
   "source": [
    "# Finding mean absolute error\n",
    "preds = model_dt.predict(compressed_dataset_X_test)\n",
    "preds = preds.astype(int)\n",
    "mae = np.abs(y_test-preds).mean()\n",
    "mae"
   ]
  },
  {
   "cell_type": "code",
   "execution_count": 102,
   "metadata": {},
   "outputs": [],
   "source": [
    "# Defining the best parameter with optuna\n",
    "from sklearn.model_selection import StratifiedKFold\n",
    "from sklearn.metrics import mean_absolute_error\n",
    "K = 5 # stratified 5 fold cross validation, The folds are made by preserving the percentage of samples for each class.\n",
    "skf = StratifiedKFold(n_splits = K, random_state = 42, shuffle = True)\n",
    "\n",
    "\n",
    "train_tunned_dt = np.array(compressed_dataset_X)\n",
    "target_train_tunned_dt = np.array(label)\n",
    "\n",
    "oof_preds_dt = np.zeros((len(train_tunned_dt)))\n",
    "abs_error_arr_dt=[]\n",
    "def objective(trial):\n",
    "\n",
    " for train_index, val_index in (skf.split(compressed_dataset_X,label)):\n",
    "    train_X, valid_X = train_tunned_dt[train_index], train_tunned_dt[val_index]\n",
    "    train_Y, valid_Y = target_train_tunned_dt[train_index], target_train_tunned_dt[val_index]\n",
    "    \n",
    "        \n",
    "        # train_x, test_x, train_y, test_y = train_test_split(data, target, test_size=0.25,random_state=0)\n",
    "    param = {\n",
    "        'criterion':trial.suggest_categorical('criterion',[\"gini\", \"entropy\", \"log_loss\"]), #The function to measure the quality of a split.\n",
    "        'splitter':trial.suggest_categorical('splitter',[\"best\", \"random\"]),\n",
    "        'max_features':trial.suggest_categorical('max_features',['sqrt','log2',1,2,3,4,5,6,7,8,9,10,11]), #a categorical value can be an integer\n",
    "        'random_state':trial.suggest_int('random_state',0,5),\n",
    "\n",
    "\n",
    "        }\n",
    "    model = DecisionTreeClassifier(**param)  \n",
    "        \n",
    "    model.fit(train_X,train_Y)\n",
    "        \n",
    "    preds = model.predict(valid_X)\n",
    "    oof_preds_dt[val_index] = preds # preds gives total 3846 predicted value for valid_X\n",
    "\n",
    "\n",
    " \n",
    "#  print(len(oof_preds_dt))\n",
    "      \n",
    " mae = mean_absolute_error(target_train_tunned_dt, oof_preds_dt)\n",
    "        \n",
    " return mae"
   ]
  },
  {
   "cell_type": "code",
   "execution_count": 103,
   "metadata": {},
   "outputs": [
    {
     "name": "stderr",
     "output_type": "stream",
     "text": [
      "[I 2024-02-12 11:20:41,186] A new study created in memory with name: no-name-32f354f1-bd92-4724-9e6f-bc20ed277f26\n"
     ]
    }
   ],
   "source": [
    "# this is the main optuna for optimizing a object-->\"objective\"\n",
    "study = optuna.create_study(direction='minimize')"
   ]
  },
  {
   "cell_type": "code",
   "execution_count": 104,
   "metadata": {},
   "outputs": [
    {
     "name": "stderr",
     "output_type": "stream",
     "text": [
      "[I 2024-02-12 11:20:41,236] Trial 0 finished with value: 0.06645569620253164 and parameters: {'criterion': 'entropy', 'splitter': 'best', 'max_features': 10, 'random_state': 5}. Best is trial 0 with value: 0.06645569620253164.\n",
      "[I 2024-02-12 11:20:41,278] Trial 1 finished with value: 0.06329113924050633 and parameters: {'criterion': 'entropy', 'splitter': 'best', 'max_features': 7, 'random_state': 0}. Best is trial 1 with value: 0.06329113924050633.\n",
      "[I 2024-02-12 11:20:41,292] Trial 2 finished with value: 0.11301989150090416 and parameters: {'criterion': 'log_loss', 'splitter': 'random', 'max_features': 'log2', 'random_state': 5}. Best is trial 1 with value: 0.06329113924050633.\n",
      "[I 2024-02-12 11:20:41,305] Trial 3 finished with value: 0.07775768535262206 and parameters: {'criterion': 'gini', 'splitter': 'random', 'max_features': 4, 'random_state': 4}. Best is trial 1 with value: 0.06329113924050633.\n",
      "[I 2024-02-12 11:20:41,318] Trial 4 finished with value: 0.07640144665461121 and parameters: {'criterion': 'log_loss', 'splitter': 'random', 'max_features': 4, 'random_state': 2}. Best is trial 1 with value: 0.06329113924050633.\n",
      "[I 2024-02-12 11:20:41,333] Trial 5 finished with value: 0.08408679927667269 and parameters: {'criterion': 'entropy', 'splitter': 'random', 'max_features': 7, 'random_state': 5}. Best is trial 1 with value: 0.06329113924050633.\n",
      "[I 2024-02-12 11:20:41,348] Trial 6 finished with value: 0.08408679927667269 and parameters: {'criterion': 'log_loss', 'splitter': 'random', 'max_features': 5, 'random_state': 5}. Best is trial 1 with value: 0.06329113924050633.\n",
      "[I 2024-02-12 11:20:41,364] Trial 7 finished with value: 0.09086799276672694 and parameters: {'criterion': 'gini', 'splitter': 'best', 'max_features': 'log2', 'random_state': 2}. Best is trial 1 with value: 0.06329113924050633.\n",
      "[I 2024-02-12 11:20:41,382] Trial 8 finished with value: 0.07866184448462929 and parameters: {'criterion': 'entropy', 'splitter': 'random', 'max_features': 6, 'random_state': 3}. Best is trial 1 with value: 0.06329113924050633.\n",
      "[I 2024-02-12 11:20:41,415] Trial 9 finished with value: 0.07097649186256781 and parameters: {'criterion': 'gini', 'splitter': 'best', 'max_features': 8, 'random_state': 4}. Best is trial 1 with value: 0.06329113924050633.\n",
      "[I 2024-02-12 11:20:41,466] Trial 10 finished with value: 0.06329113924050633 and parameters: {'criterion': 'entropy', 'splitter': 'best', 'max_features': 7, 'random_state': 0}. Best is trial 1 with value: 0.06329113924050633.\n"
     ]
    },
    {
     "name": "stderr",
     "output_type": "stream",
     "text": [
      "[I 2024-02-12 11:20:41,517] Trial 11 finished with value: 0.06329113924050633 and parameters: {'criterion': 'entropy', 'splitter': 'best', 'max_features': 7, 'random_state': 0}. Best is trial 1 with value: 0.06329113924050633.\n",
      "[I 2024-02-12 11:20:41,625] Trial 12 finished with value: 0.06329113924050633 and parameters: {'criterion': 'entropy', 'splitter': 'best', 'max_features': 7, 'random_state': 0}. Best is trial 1 with value: 0.06329113924050633.\n",
      "[I 2024-02-12 11:20:41,692] Trial 13 finished with value: 0.08770343580470162 and parameters: {'criterion': 'entropy', 'splitter': 'best', 'max_features': 'sqrt', 'random_state': 1}. Best is trial 1 with value: 0.06329113924050633.\n",
      "[I 2024-02-12 11:20:41,769] Trial 14 finished with value: 0.07685352622061482 and parameters: {'criterion': 'entropy', 'splitter': 'best', 'max_features': 2, 'random_state': 1}. Best is trial 1 with value: 0.06329113924050633.\n",
      "[I 2024-02-12 11:20:41,826] Trial 15 finished with value: 0.0650994575045208 and parameters: {'criterion': 'entropy', 'splitter': 'best', 'max_features': 3, 'random_state': 1}. Best is trial 1 with value: 0.06329113924050633.\n",
      "[I 2024-02-12 11:20:41,865] Trial 16 finished with value: 0.09312839059674503 and parameters: {'criterion': 'entropy', 'splitter': 'best', 'max_features': 1, 'random_state': 0}. Best is trial 1 with value: 0.06329113924050633.\n",
      "[I 2024-02-12 11:20:41,914] Trial 17 finished with value: 0.0650994575045208 and parameters: {'criterion': 'entropy', 'splitter': 'best', 'max_features': 9, 'random_state': 1}. Best is trial 1 with value: 0.06329113924050633.\n",
      "[I 2024-02-12 11:20:41,954] Trial 18 finished with value: 0.06329113924050633 and parameters: {'criterion': 'log_loss', 'splitter': 'best', 'max_features': 11, 'random_state': 0}. Best is trial 1 with value: 0.06329113924050633.\n",
      "[I 2024-02-12 11:20:41,989] Trial 19 finished with value: 0.06962025316455696 and parameters: {'criterion': 'gini', 'splitter': 'best', 'max_features': 7, 'random_state': 2}. Best is trial 1 with value: 0.06329113924050633.\n",
      "[I 2024-02-12 11:20:42,029] Trial 20 finished with value: 0.06871609403254973 and parameters: {'criterion': 'entropy', 'splitter': 'best', 'max_features': 7, 'random_state': 3}. Best is trial 1 with value: 0.06329113924050633.\n",
      "[I 2024-02-12 11:20:42,080] Trial 21 finished with value: 0.06329113924050633 and parameters: {'criterion': 'entropy', 'splitter': 'best', 'max_features': 7, 'random_state': 0}. Best is trial 1 with value: 0.06329113924050633.\n",
      "[I 2024-02-12 11:20:42,120] Trial 22 finished with value: 0.06329113924050633 and parameters: {'criterion': 'entropy', 'splitter': 'best', 'max_features': 7, 'random_state': 0}. Best is trial 1 with value: 0.06329113924050633.\n",
      "[I 2024-02-12 11:20:42,169] Trial 23 finished with value: 0.0650994575045208 and parameters: {'criterion': 'entropy', 'splitter': 'best', 'max_features': 7, 'random_state': 1}. Best is trial 1 with value: 0.06329113924050633.\n",
      "[I 2024-02-12 11:20:42,209] Trial 24 finished with value: 0.06329113924050633 and parameters: {'criterion': 'entropy', 'splitter': 'best', 'max_features': 11, 'random_state': 0}. Best is trial 1 with value: 0.06329113924050633.\n",
      "[I 2024-02-12 11:20:42,249] Trial 25 finished with value: 0.0650994575045208 and parameters: {'criterion': 'entropy', 'splitter': 'best', 'max_features': 6, 'random_state': 1}. Best is trial 1 with value: 0.06329113924050633.\n",
      "[I 2024-02-12 11:20:42,299] Trial 26 finished with value: 0.06329113924050633 and parameters: {'criterion': 'entropy', 'splitter': 'best', 'max_features': 8, 'random_state': 0}. Best is trial 1 with value: 0.06329113924050633.\n",
      "[I 2024-02-12 11:20:42,340] Trial 27 finished with value: 0.0650994575045208 and parameters: {'criterion': 'entropy', 'splitter': 'best', 'max_features': 9, 'random_state': 1}. Best is trial 1 with value: 0.06329113924050633.\n",
      "[I 2024-02-12 11:20:42,375] Trial 28 finished with value: 0.09312839059674503 and parameters: {'criterion': 'log_loss', 'splitter': 'best', 'max_features': 'sqrt', 'random_state': 0}. Best is trial 1 with value: 0.06329113924050633.\n",
      "[I 2024-02-12 11:20:42,414] Trial 29 finished with value: 0.06962025316455696 and parameters: {'criterion': 'gini', 'splitter': 'best', 'max_features': 10, 'random_state': 2}. Best is trial 1 with value: 0.06329113924050633.\n",
      "[I 2024-02-12 11:20:42,444] Trial 30 finished with value: 0.07368896925858952 and parameters: {'criterion': 'entropy', 'splitter': 'best', 'max_features': 2, 'random_state': 0}. Best is trial 1 with value: 0.06329113924050633.\n",
      "[I 2024-02-12 11:20:42,484] Trial 31 finished with value: 0.06329113924050633 and parameters: {'criterion': 'entropy', 'splitter': 'best', 'max_features': 7, 'random_state': 0}. Best is trial 1 with value: 0.06329113924050633.\n",
      "[I 2024-02-12 11:20:42,534] Trial 32 finished with value: 0.06329113924050633 and parameters: {'criterion': 'entropy', 'splitter': 'best', 'max_features': 7, 'random_state': 0}. Best is trial 1 with value: 0.06329113924050633.\n",
      "[I 2024-02-12 11:20:42,576] Trial 33 finished with value: 0.0650994575045208 and parameters: {'criterion': 'entropy', 'splitter': 'best', 'max_features': 7, 'random_state': 1}. Best is trial 1 with value: 0.06329113924050633.\n",
      "[I 2024-02-12 11:20:42,594] Trial 34 finished with value: 0.08273056057866185 and parameters: {'criterion': 'entropy', 'splitter': 'random', 'max_features': 5, 'random_state': 0}. Best is trial 1 with value: 0.06329113924050633.\n",
      "[I 2024-02-12 11:20:42,614] Trial 35 finished with value: 0.1112115732368897 and parameters: {'criterion': 'log_loss', 'splitter': 'random', 'max_features': 1, 'random_state': 1}. Best is trial 1 with value: 0.06329113924050633.\n",
      "[I 2024-02-12 11:20:42,660] Trial 36 finished with value: 0.06329113924050633 and parameters: {'criterion': 'entropy', 'splitter': 'best', 'max_features': 4, 'random_state': 0}. Best is trial 1 with value: 0.06329113924050633.\n",
      "[I 2024-02-12 11:20:42,680] Trial 37 finished with value: 0.08182640144665461 and parameters: {'criterion': 'gini', 'splitter': 'random', 'max_features': 3, 'random_state': 2}. Best is trial 1 with value: 0.06329113924050633.\n",
      "[I 2024-02-12 11:20:42,720] Trial 38 finished with value: 0.06735985533453888 and parameters: {'criterion': 'log_loss', 'splitter': 'best', 'max_features': 10, 'random_state': 4}. Best is trial 1 with value: 0.06329113924050633.\n",
      "[I 2024-02-12 11:20:42,740] Trial 39 finished with value: 0.11211573236889692 and parameters: {'criterion': 'entropy', 'splitter': 'random', 'max_features': 'log2', 'random_state': 0}. Best is trial 1 with value: 0.06329113924050633.\n",
      "[I 2024-02-12 11:20:42,780] Trial 40 finished with value: 0.0650994575045208 and parameters: {'criterion': 'entropy', 'splitter': 'best', 'max_features': 7, 'random_state': 1}. Best is trial 1 with value: 0.06329113924050633.\n",
      "[I 2024-02-12 11:20:42,830] Trial 41 finished with value: 0.06329113924050633 and parameters: {'criterion': 'log_loss', 'splitter': 'best', 'max_features': 11, 'random_state': 0}. Best is trial 1 with value: 0.06329113924050633.\n",
      "[I 2024-02-12 11:20:42,876] Trial 42 finished with value: 0.06329113924050633 and parameters: {'criterion': 'log_loss', 'splitter': 'best', 'max_features': 11, 'random_state': 0}. Best is trial 1 with value: 0.06329113924050633.\n",
      "[I 2024-02-12 11:20:42,917] Trial 43 finished with value: 0.06329113924050633 and parameters: {'criterion': 'log_loss', 'splitter': 'best', 'max_features': 11, 'random_state': 0}. Best is trial 1 with value: 0.06329113924050633.\n",
      "[I 2024-02-12 11:20:42,967] Trial 44 finished with value: 0.06329113924050633 and parameters: {'criterion': 'log_loss', 'splitter': 'best', 'max_features': 7, 'random_state': 0}. Best is trial 1 with value: 0.06329113924050633.\n",
      "[I 2024-02-12 11:20:43,007] Trial 45 finished with value: 0.06871609403254973 and parameters: {'criterion': 'log_loss', 'splitter': 'best', 'max_features': 5, 'random_state': 3}. Best is trial 1 with value: 0.06329113924050633.\n",
      "[I 2024-02-12 11:20:43,037] Trial 46 finished with value: 0.0705244122965642 and parameters: {'criterion': 'gini', 'splitter': 'best', 'max_features': 4, 'random_state': 1}. Best is trial 1 with value: 0.06329113924050633.\n",
      "[I 2024-02-12 11:20:43,057] Trial 47 finished with value: 0.08408679927667269 and parameters: {'criterion': 'entropy', 'splitter': 'random', 'max_features': 7, 'random_state': 5}. Best is trial 1 with value: 0.06329113924050633.\n",
      "[I 2024-02-12 11:20:43,107] Trial 48 finished with value: 0.0650994575045208 and parameters: {'criterion': 'entropy', 'splitter': 'best', 'max_features': 6, 'random_state': 1}. Best is trial 1 with value: 0.06329113924050633.\n",
      "[I 2024-02-12 11:20:43,137] Trial 49 finished with value: 0.09312839059674503 and parameters: {'criterion': 'log_loss', 'splitter': 'best', 'max_features': 'sqrt', 'random_state': 0}. Best is trial 1 with value: 0.06329113924050633.\n",
      "[I 2024-02-12 11:20:43,176] Trial 50 finished with value: 0.06735985533453888 and parameters: {'criterion': 'entropy', 'splitter': 'best', 'max_features': 8, 'random_state': 4}. Best is trial 1 with value: 0.06329113924050633.\n",
      "[I 2024-02-12 11:20:43,216] Trial 51 finished with value: 0.06329113924050633 and parameters: {'criterion': 'entropy', 'splitter': 'best', 'max_features': 7, 'random_state': 0}. Best is trial 1 with value: 0.06329113924050633.\n",
      "[I 2024-02-12 11:20:43,266] Trial 52 finished with value: 0.06329113924050633 and parameters: {'criterion': 'entropy', 'splitter': 'best', 'max_features': 7, 'random_state': 0}. Best is trial 1 with value: 0.06329113924050633.\n",
      "[I 2024-02-12 11:20:43,306] Trial 53 finished with value: 0.06329113924050633 and parameters: {'criterion': 'entropy', 'splitter': 'best', 'max_features': 7, 'random_state': 0}. Best is trial 1 with value: 0.06329113924050633.\n",
      "[I 2024-02-12 11:20:43,336] Trial 54 finished with value: 0.08770343580470162 and parameters: {'criterion': 'entropy', 'splitter': 'best', 'max_features': 'log2', 'random_state': 1}. Best is trial 1 with value: 0.06329113924050633.\n",
      "[I 2024-02-12 11:20:43,376] Trial 55 finished with value: 0.06329113924050633 and parameters: {'criterion': 'entropy', 'splitter': 'best', 'max_features': 7, 'random_state': 0}. Best is trial 1 with value: 0.06329113924050633.\n",
      "[I 2024-02-12 11:20:43,426] Trial 56 finished with value: 0.06329113924050633 and parameters: {'criterion': 'entropy', 'splitter': 'best', 'max_features': 9, 'random_state': 0}. Best is trial 1 with value: 0.06329113924050633.\n",
      "[I 2024-02-12 11:20:43,451] Trial 57 finished with value: 0.08182640144665461 and parameters: {'criterion': 'gini', 'splitter': 'best', 'max_features': 2, 'random_state': 1}. Best is trial 1 with value: 0.06329113924050633.\n",
      "[I 2024-02-12 11:20:43,481] Trial 58 finished with value: 0.09312839059674503 and parameters: {'criterion': 'entropy', 'splitter': 'best', 'max_features': 1, 'random_state': 0}. Best is trial 1 with value: 0.06329113924050633.\n",
      "[I 2024-02-12 11:20:43,531] Trial 59 finished with value: 0.06329113924050633 and parameters: {'criterion': 'entropy', 'splitter': 'best', 'max_features': 3, 'random_state': 0}. Best is trial 1 with value: 0.06329113924050633.\n",
      "[I 2024-02-12 11:20:43,571] Trial 60 finished with value: 0.0650994575045208 and parameters: {'criterion': 'entropy', 'splitter': 'best', 'max_features': 7, 'random_state': 1}. Best is trial 1 with value: 0.06329113924050633.\n",
      "[I 2024-02-12 11:20:43,611] Trial 61 finished with value: 0.06329113924050633 and parameters: {'criterion': 'entropy', 'splitter': 'best', 'max_features': 7, 'random_state': 0}. Best is trial 1 with value: 0.06329113924050633.\n",
      "[I 2024-02-12 11:20:43,659] Trial 62 finished with value: 0.06329113924050633 and parameters: {'criterion': 'entropy', 'splitter': 'best', 'max_features': 7, 'random_state': 0}. Best is trial 1 with value: 0.06329113924050633.\n",
      "[I 2024-02-12 11:20:43,699] Trial 63 finished with value: 0.06329113924050633 and parameters: {'criterion': 'entropy', 'splitter': 'best', 'max_features': 11, 'random_state': 0}. Best is trial 1 with value: 0.06329113924050633.\n",
      "[I 2024-02-12 11:20:43,749] Trial 64 finished with value: 0.06329113924050633 and parameters: {'criterion': 'entropy', 'splitter': 'best', 'max_features': 7, 'random_state': 0}. Best is trial 1 with value: 0.06329113924050633.\n",
      "[I 2024-02-12 11:20:43,789] Trial 65 finished with value: 0.0650994575045208 and parameters: {'criterion': 'entropy', 'splitter': 'best', 'max_features': 7, 'random_state': 1}. Best is trial 1 with value: 0.06329113924050633.\n",
      "[I 2024-02-12 11:20:43,809] Trial 66 finished with value: 0.08273056057866185 and parameters: {'criterion': 'entropy', 'splitter': 'random', 'max_features': 10, 'random_state': 0}. Best is trial 1 with value: 0.06329113924050633.\n",
      "[I 2024-02-12 11:20:43,849] Trial 67 finished with value: 0.07278481012658228 and parameters: {'criterion': 'gini', 'splitter': 'best', 'max_features': 7, 'random_state': 0}. Best is trial 1 with value: 0.06329113924050633.\n",
      "[I 2024-02-12 11:20:43,889] Trial 68 finished with value: 0.0650994575045208 and parameters: {'criterion': 'log_loss', 'splitter': 'best', 'max_features': 6, 'random_state': 1}. Best is trial 1 with value: 0.06329113924050633.\n",
      "[I 2024-02-12 11:20:43,939] Trial 69 finished with value: 0.06329113924050633 and parameters: {'criterion': 'entropy', 'splitter': 'best', 'max_features': 8, 'random_state': 0}. Best is trial 1 with value: 0.06329113924050633.\n",
      "[I 2024-02-12 11:20:43,984] Trial 70 finished with value: 0.06329113924050633 and parameters: {'criterion': 'entropy', 'splitter': 'best', 'max_features': 7, 'random_state': 0}. Best is trial 1 with value: 0.06329113924050633.\n",
      "[I 2024-02-12 11:20:44,024] Trial 71 finished with value: 0.06329113924050633 and parameters: {'criterion': 'entropy', 'splitter': 'best', 'max_features': 11, 'random_state': 0}. Best is trial 1 with value: 0.06329113924050633.\n",
      "[I 2024-02-12 11:20:44,074] Trial 72 finished with value: 0.06329113924050633 and parameters: {'criterion': 'entropy', 'splitter': 'best', 'max_features': 11, 'random_state': 0}. Best is trial 1 with value: 0.06329113924050633.\n",
      "[I 2024-02-12 11:20:44,114] Trial 73 finished with value: 0.06329113924050633 and parameters: {'criterion': 'entropy', 'splitter': 'best', 'max_features': 11, 'random_state': 0}. Best is trial 1 with value: 0.06329113924050633.\n",
      "[I 2024-02-12 11:20:44,159] Trial 74 finished with value: 0.06329113924050633 and parameters: {'criterion': 'entropy', 'splitter': 'best', 'max_features': 5, 'random_state': 0}. Best is trial 1 with value: 0.06329113924050633.\n",
      "[I 2024-02-12 11:20:44,179] Trial 75 finished with value: 0.11211573236889692 and parameters: {'criterion': 'log_loss', 'splitter': 'random', 'max_features': 'sqrt', 'random_state': 0}. Best is trial 1 with value: 0.06329113924050633.\n",
      "[I 2024-02-12 11:20:44,219] Trial 76 finished with value: 0.0650994575045208 and parameters: {'criterion': 'entropy', 'splitter': 'best', 'max_features': 4, 'random_state': 1}. Best is trial 1 with value: 0.06329113924050633.\n",
      "[I 2024-02-12 11:20:44,269] Trial 77 finished with value: 0.07097649186256781 and parameters: {'criterion': 'entropy', 'splitter': 'best', 'max_features': 11, 'random_state': 2}. Best is trial 1 with value: 0.06329113924050633.\n",
      "[I 2024-02-12 11:20:44,309] Trial 78 finished with value: 0.06329113924050633 and parameters: {'criterion': 'entropy', 'splitter': 'best', 'max_features': 9, 'random_state': 0}. Best is trial 1 with value: 0.06329113924050633.\n",
      "[I 2024-02-12 11:20:44,359] Trial 79 finished with value: 0.0650994575045208 and parameters: {'criterion': 'log_loss', 'splitter': 'best', 'max_features': 7, 'random_state': 1}. Best is trial 1 with value: 0.06329113924050633.\n",
      "[I 2024-02-12 11:20:44,389] Trial 80 finished with value: 0.07866184448462929 and parameters: {'criterion': 'gini', 'splitter': 'best', 'max_features': 2, 'random_state': 0}. Best is trial 1 with value: 0.06329113924050633.\n",
      "[I 2024-02-12 11:20:44,429] Trial 81 finished with value: 0.06329113924050633 and parameters: {'criterion': 'entropy', 'splitter': 'best', 'max_features': 8, 'random_state': 0}. Best is trial 1 with value: 0.06329113924050633.\n",
      "[I 2024-02-12 11:20:44,479] Trial 82 finished with value: 0.06329113924050633 and parameters: {'criterion': 'entropy', 'splitter': 'best', 'max_features': 8, 'random_state': 0}. Best is trial 1 with value: 0.06329113924050633.\n",
      "[I 2024-02-12 11:20:44,517] Trial 83 finished with value: 0.06329113924050633 and parameters: {'criterion': 'entropy', 'splitter': 'best', 'max_features': 8, 'random_state': 0}. Best is trial 1 with value: 0.06329113924050633.\n",
      "[I 2024-02-12 11:20:44,547] Trial 84 finished with value: 0.09312839059674503 and parameters: {'criterion': 'entropy', 'splitter': 'best', 'max_features': 1, 'random_state': 0}. Best is trial 1 with value: 0.06329113924050633.\n",
      "[I 2024-02-12 11:20:44,587] Trial 85 finished with value: 0.09312839059674503 and parameters: {'criterion': 'entropy', 'splitter': 'best', 'max_features': 'log2', 'random_state': 0}. Best is trial 1 with value: 0.06329113924050633.\n",
      "[I 2024-02-12 11:20:44,597] Trial 86 finished with value: 0.07911392405063292 and parameters: {'criterion': 'entropy', 'splitter': 'random', 'max_features': 7, 'random_state': 4}. Best is trial 1 with value: 0.06329113924050633.\n",
      "[I 2024-02-12 11:20:44,647] Trial 87 finished with value: 0.06329113924050633 and parameters: {'criterion': 'log_loss', 'splitter': 'best', 'max_features': 3, 'random_state': 0}. Best is trial 1 with value: 0.06329113924050633.\n",
      "[I 2024-02-12 11:20:44,696] Trial 88 finished with value: 0.0650994575045208 and parameters: {'criterion': 'entropy', 'splitter': 'best', 'max_features': 7, 'random_state': 1}. Best is trial 1 with value: 0.06329113924050633.\n",
      "[I 2024-02-12 11:20:44,736] Trial 89 finished with value: 0.06329113924050633 and parameters: {'criterion': 'entropy', 'splitter': 'best', 'max_features': 11, 'random_state': 0}. Best is trial 1 with value: 0.06329113924050633.\n",
      "[I 2024-02-12 11:20:44,786] Trial 90 finished with value: 0.06329113924050633 and parameters: {'criterion': 'entropy', 'splitter': 'best', 'max_features': 10, 'random_state': 0}. Best is trial 1 with value: 0.06329113924050633.\n",
      "[I 2024-02-12 11:20:44,826] Trial 91 finished with value: 0.06329113924050633 and parameters: {'criterion': 'entropy', 'splitter': 'best', 'max_features': 7, 'random_state': 0}. Best is trial 1 with value: 0.06329113924050633.\n",
      "[I 2024-02-12 11:20:44,877] Trial 92 finished with value: 0.06329113924050633 and parameters: {'criterion': 'entropy', 'splitter': 'best', 'max_features': 7, 'random_state': 0}. Best is trial 1 with value: 0.06329113924050633.\n",
      "[I 2024-02-12 11:20:44,917] Trial 93 finished with value: 0.06329113924050633 and parameters: {'criterion': 'entropy', 'splitter': 'best', 'max_features': 7, 'random_state': 0}. Best is trial 1 with value: 0.06329113924050633.\n",
      "[I 2024-02-12 11:20:44,967] Trial 94 finished with value: 0.06329113924050633 and parameters: {'criterion': 'entropy', 'splitter': 'best', 'max_features': 7, 'random_state': 0}. Best is trial 1 with value: 0.06329113924050633.\n",
      "[I 2024-02-12 11:20:45,014] Trial 95 finished with value: 0.06329113924050633 and parameters: {'criterion': 'entropy', 'splitter': 'best', 'max_features': 7, 'random_state': 0}. Best is trial 1 with value: 0.06329113924050633.\n",
      "[I 2024-02-12 11:20:45,064] Trial 96 finished with value: 0.06329113924050633 and parameters: {'criterion': 'log_loss', 'splitter': 'best', 'max_features': 6, 'random_state': 0}. Best is trial 1 with value: 0.06329113924050633.\n",
      "[I 2024-02-12 11:20:45,104] Trial 97 finished with value: 0.06329113924050633 and parameters: {'criterion': 'entropy', 'splitter': 'best', 'max_features': 5, 'random_state': 0}. Best is trial 1 with value: 0.06329113924050633.\n",
      "[I 2024-02-12 11:20:45,124] Trial 98 finished with value: 0.07549728752260398 and parameters: {'criterion': 'entropy', 'splitter': 'random', 'max_features': 7, 'random_state': 1}. Best is trial 1 with value: 0.06329113924050633.\n",
      "[I 2024-02-12 11:20:45,149] Trial 99 finished with value: 0.11528028933092224 and parameters: {'criterion': 'gini', 'splitter': 'best', 'max_features': 'sqrt', 'random_state': 0}. Best is trial 1 with value: 0.06329113924050633.\n"
     ]
    },
    {
     "name": "stdout",
     "output_type": "stream",
     "text": [
      "Number of finished trials: 100\n",
      "Best trial: {'criterion': 'entropy', 'splitter': 'best', 'max_features': 7, 'random_state': 0}\n"
     ]
    }
   ],
   "source": [
    "\n",
    "study.optimize(objective, n_trials=100) # 150 bar \"objective\" object ke trial kore kore dekhbe, here total 5*100=750\n",
    "print('Number of finished trials:', len(study.trials))\n",
    "print('Best trial:', study.best_trial.params)"
   ]
  },
  {
   "cell_type": "code",
   "execution_count": 105,
   "metadata": {},
   "outputs": [
    {
     "data": {
      "application/vnd.plotly.v1+json": {
       "config": {
        "plotlyServerURL": "https://plot.ly"
       },
       "data": [
        {
         "dimensions": [
          {
           "label": "Objective Value",
           "range": [
            0.06329113924050633,
            0.11528028933092224
           ],
           "values": [
            0.06645569620253164,
            0.06329113924050633,
            0.11301989150090416,
            0.07775768535262206,
            0.07640144665461121,
            0.08408679927667269,
            0.08408679927667269,
            0.09086799276672694,
            0.07866184448462929,
            0.07097649186256781,
            0.06329113924050633,
            0.06329113924050633,
            0.06329113924050633,
            0.08770343580470162,
            0.07685352622061482,
            0.0650994575045208,
            0.09312839059674503,
            0.0650994575045208,
            0.06329113924050633,
            0.06962025316455696,
            0.06871609403254973,
            0.06329113924050633,
            0.06329113924050633,
            0.0650994575045208,
            0.06329113924050633,
            0.0650994575045208,
            0.06329113924050633,
            0.0650994575045208,
            0.09312839059674503,
            0.06962025316455696,
            0.07368896925858952,
            0.06329113924050633,
            0.06329113924050633,
            0.0650994575045208,
            0.08273056057866185,
            0.1112115732368897,
            0.06329113924050633,
            0.08182640144665461,
            0.06735985533453888,
            0.11211573236889692,
            0.0650994575045208,
            0.06329113924050633,
            0.06329113924050633,
            0.06329113924050633,
            0.06329113924050633,
            0.06871609403254973,
            0.0705244122965642,
            0.08408679927667269,
            0.0650994575045208,
            0.09312839059674503,
            0.06735985533453888,
            0.06329113924050633,
            0.06329113924050633,
            0.06329113924050633,
            0.08770343580470162,
            0.06329113924050633,
            0.06329113924050633,
            0.08182640144665461,
            0.09312839059674503,
            0.06329113924050633,
            0.0650994575045208,
            0.06329113924050633,
            0.06329113924050633,
            0.06329113924050633,
            0.06329113924050633,
            0.0650994575045208,
            0.08273056057866185,
            0.07278481012658228,
            0.0650994575045208,
            0.06329113924050633,
            0.06329113924050633,
            0.06329113924050633,
            0.06329113924050633,
            0.06329113924050633,
            0.06329113924050633,
            0.11211573236889692,
            0.0650994575045208,
            0.07097649186256781,
            0.06329113924050633,
            0.0650994575045208,
            0.07866184448462929,
            0.06329113924050633,
            0.06329113924050633,
            0.06329113924050633,
            0.09312839059674503,
            0.09312839059674503,
            0.07911392405063292,
            0.06329113924050633,
            0.0650994575045208,
            0.06329113924050633,
            0.06329113924050633,
            0.06329113924050633,
            0.06329113924050633,
            0.06329113924050633,
            0.06329113924050633,
            0.06329113924050633,
            0.06329113924050633,
            0.06329113924050633,
            0.07549728752260398,
            0.11528028933092224
           ]
          },
          {
           "label": "criterion",
           "range": [
            0,
            2
           ],
           "ticktext": [
            "entropy",
            "log_loss",
            "gini"
           ],
           "tickvals": [
            0,
            1,
            2
           ],
           "values": [
            0,
            0,
            1,
            2,
            1,
            0,
            1,
            2,
            0,
            2,
            0,
            0,
            0,
            0,
            0,
            0,
            0,
            0,
            1,
            2,
            0,
            0,
            0,
            0,
            0,
            0,
            0,
            0,
            1,
            2,
            0,
            0,
            0,
            0,
            0,
            1,
            0,
            2,
            1,
            0,
            0,
            1,
            1,
            1,
            1,
            1,
            2,
            0,
            0,
            1,
            0,
            0,
            0,
            0,
            0,
            0,
            0,
            2,
            0,
            0,
            0,
            0,
            0,
            0,
            0,
            0,
            0,
            2,
            1,
            0,
            0,
            0,
            0,
            0,
            0,
            1,
            0,
            0,
            0,
            1,
            2,
            0,
            0,
            0,
            0,
            0,
            0,
            1,
            0,
            0,
            0,
            0,
            0,
            0,
            0,
            0,
            1,
            0,
            0,
            2
           ]
          },
          {
           "label": "max_features",
           "range": [
            0,
            12
           ],
           "ticktext": [
            "10",
            "7",
            "log2",
            "4",
            "5",
            "6",
            "8",
            "sqrt",
            "2",
            "3",
            "1",
            "9",
            "11"
           ],
           "tickvals": [
            0,
            1,
            2,
            3,
            4,
            5,
            6,
            7,
            8,
            9,
            10,
            11,
            12
           ],
           "values": [
            0,
            1,
            2,
            3,
            3,
            1,
            4,
            2,
            5,
            6,
            1,
            1,
            1,
            7,
            8,
            9,
            10,
            11,
            12,
            1,
            1,
            1,
            1,
            1,
            12,
            5,
            6,
            11,
            7,
            0,
            8,
            1,
            1,
            1,
            4,
            10,
            3,
            9,
            0,
            2,
            1,
            12,
            12,
            12,
            1,
            4,
            3,
            1,
            5,
            7,
            6,
            1,
            1,
            1,
            2,
            1,
            11,
            8,
            10,
            9,
            1,
            1,
            1,
            12,
            1,
            1,
            0,
            1,
            5,
            6,
            1,
            12,
            12,
            12,
            4,
            7,
            3,
            12,
            11,
            1,
            8,
            6,
            6,
            6,
            10,
            2,
            1,
            9,
            1,
            12,
            0,
            1,
            1,
            1,
            1,
            1,
            5,
            4,
            1,
            7
           ]
          },
          {
           "label": "random_state",
           "range": [
            0,
            5
           ],
           "values": [
            5,
            0,
            5,
            4,
            2,
            5,
            5,
            2,
            3,
            4,
            0,
            0,
            0,
            1,
            1,
            1,
            0,
            1,
            0,
            2,
            3,
            0,
            0,
            1,
            0,
            1,
            0,
            1,
            0,
            2,
            0,
            0,
            0,
            1,
            0,
            1,
            0,
            2,
            4,
            0,
            1,
            0,
            0,
            0,
            0,
            3,
            1,
            5,
            1,
            0,
            4,
            0,
            0,
            0,
            1,
            0,
            0,
            1,
            0,
            0,
            1,
            0,
            0,
            0,
            0,
            1,
            0,
            0,
            1,
            0,
            0,
            0,
            0,
            0,
            0,
            0,
            1,
            2,
            0,
            1,
            0,
            0,
            0,
            0,
            0,
            0,
            4,
            0,
            1,
            0,
            0,
            0,
            0,
            0,
            0,
            0,
            0,
            0,
            1,
            0
           ]
          },
          {
           "label": "splitter",
           "range": [
            0,
            1
           ],
           "ticktext": [
            "best",
            "random"
           ],
           "tickvals": [
            0,
            1
           ],
           "values": [
            0,
            0,
            1,
            1,
            1,
            1,
            1,
            0,
            1,
            0,
            0,
            0,
            0,
            0,
            0,
            0,
            0,
            0,
            0,
            0,
            0,
            0,
            0,
            0,
            0,
            0,
            0,
            0,
            0,
            0,
            0,
            0,
            0,
            0,
            1,
            1,
            0,
            1,
            0,
            1,
            0,
            0,
            0,
            0,
            0,
            0,
            0,
            1,
            0,
            0,
            0,
            0,
            0,
            0,
            0,
            0,
            0,
            0,
            0,
            0,
            0,
            0,
            0,
            0,
            0,
            0,
            1,
            0,
            0,
            0,
            0,
            0,
            0,
            0,
            0,
            1,
            0,
            0,
            0,
            0,
            0,
            0,
            0,
            0,
            0,
            0,
            1,
            0,
            0,
            0,
            0,
            0,
            0,
            0,
            0,
            0,
            0,
            0,
            1,
            0
           ]
          }
         ],
         "labelangle": 30,
         "labelside": "bottom",
         "line": {
          "color": [
           0.06645569620253164,
           0.06329113924050633,
           0.11301989150090416,
           0.07775768535262206,
           0.07640144665461121,
           0.08408679927667269,
           0.08408679927667269,
           0.09086799276672694,
           0.07866184448462929,
           0.07097649186256781,
           0.06329113924050633,
           0.06329113924050633,
           0.06329113924050633,
           0.08770343580470162,
           0.07685352622061482,
           0.0650994575045208,
           0.09312839059674503,
           0.0650994575045208,
           0.06329113924050633,
           0.06962025316455696,
           0.06871609403254973,
           0.06329113924050633,
           0.06329113924050633,
           0.0650994575045208,
           0.06329113924050633,
           0.0650994575045208,
           0.06329113924050633,
           0.0650994575045208,
           0.09312839059674503,
           0.06962025316455696,
           0.07368896925858952,
           0.06329113924050633,
           0.06329113924050633,
           0.0650994575045208,
           0.08273056057866185,
           0.1112115732368897,
           0.06329113924050633,
           0.08182640144665461,
           0.06735985533453888,
           0.11211573236889692,
           0.0650994575045208,
           0.06329113924050633,
           0.06329113924050633,
           0.06329113924050633,
           0.06329113924050633,
           0.06871609403254973,
           0.0705244122965642,
           0.08408679927667269,
           0.0650994575045208,
           0.09312839059674503,
           0.06735985533453888,
           0.06329113924050633,
           0.06329113924050633,
           0.06329113924050633,
           0.08770343580470162,
           0.06329113924050633,
           0.06329113924050633,
           0.08182640144665461,
           0.09312839059674503,
           0.06329113924050633,
           0.0650994575045208,
           0.06329113924050633,
           0.06329113924050633,
           0.06329113924050633,
           0.06329113924050633,
           0.0650994575045208,
           0.08273056057866185,
           0.07278481012658228,
           0.0650994575045208,
           0.06329113924050633,
           0.06329113924050633,
           0.06329113924050633,
           0.06329113924050633,
           0.06329113924050633,
           0.06329113924050633,
           0.11211573236889692,
           0.0650994575045208,
           0.07097649186256781,
           0.06329113924050633,
           0.0650994575045208,
           0.07866184448462929,
           0.06329113924050633,
           0.06329113924050633,
           0.06329113924050633,
           0.09312839059674503,
           0.09312839059674503,
           0.07911392405063292,
           0.06329113924050633,
           0.0650994575045208,
           0.06329113924050633,
           0.06329113924050633,
           0.06329113924050633,
           0.06329113924050633,
           0.06329113924050633,
           0.06329113924050633,
           0.06329113924050633,
           0.06329113924050633,
           0.06329113924050633,
           0.07549728752260398,
           0.11528028933092224
          ],
          "colorbar": {
           "title": {
            "text": "Objective Value"
           }
          },
          "colorscale": [
           [
            0,
            "rgb(247,251,255)"
           ],
           [
            0.125,
            "rgb(222,235,247)"
           ],
           [
            0.25,
            "rgb(198,219,239)"
           ],
           [
            0.375,
            "rgb(158,202,225)"
           ],
           [
            0.5,
            "rgb(107,174,214)"
           ],
           [
            0.625,
            "rgb(66,146,198)"
           ],
           [
            0.75,
            "rgb(33,113,181)"
           ],
           [
            0.875,
            "rgb(8,81,156)"
           ],
           [
            1,
            "rgb(8,48,107)"
           ]
          ],
          "reversescale": true,
          "showscale": true
         },
         "type": "parcoords"
        }
       ],
       "layout": {
        "template": {
         "data": {
          "bar": [
           {
            "error_x": {
             "color": "#2a3f5f"
            },
            "error_y": {
             "color": "#2a3f5f"
            },
            "marker": {
             "line": {
              "color": "#E5ECF6",
              "width": 0.5
             },
             "pattern": {
              "fillmode": "overlay",
              "size": 10,
              "solidity": 0.2
             }
            },
            "type": "bar"
           }
          ],
          "barpolar": [
           {
            "marker": {
             "line": {
              "color": "#E5ECF6",
              "width": 0.5
             },
             "pattern": {
              "fillmode": "overlay",
              "size": 10,
              "solidity": 0.2
             }
            },
            "type": "barpolar"
           }
          ],
          "carpet": [
           {
            "aaxis": {
             "endlinecolor": "#2a3f5f",
             "gridcolor": "white",
             "linecolor": "white",
             "minorgridcolor": "white",
             "startlinecolor": "#2a3f5f"
            },
            "baxis": {
             "endlinecolor": "#2a3f5f",
             "gridcolor": "white",
             "linecolor": "white",
             "minorgridcolor": "white",
             "startlinecolor": "#2a3f5f"
            },
            "type": "carpet"
           }
          ],
          "choropleth": [
           {
            "colorbar": {
             "outlinewidth": 0,
             "ticks": ""
            },
            "type": "choropleth"
           }
          ],
          "contour": [
           {
            "colorbar": {
             "outlinewidth": 0,
             "ticks": ""
            },
            "colorscale": [
             [
              0,
              "#0d0887"
             ],
             [
              0.1111111111111111,
              "#46039f"
             ],
             [
              0.2222222222222222,
              "#7201a8"
             ],
             [
              0.3333333333333333,
              "#9c179e"
             ],
             [
              0.4444444444444444,
              "#bd3786"
             ],
             [
              0.5555555555555556,
              "#d8576b"
             ],
             [
              0.6666666666666666,
              "#ed7953"
             ],
             [
              0.7777777777777778,
              "#fb9f3a"
             ],
             [
              0.8888888888888888,
              "#fdca26"
             ],
             [
              1,
              "#f0f921"
             ]
            ],
            "type": "contour"
           }
          ],
          "contourcarpet": [
           {
            "colorbar": {
             "outlinewidth": 0,
             "ticks": ""
            },
            "type": "contourcarpet"
           }
          ],
          "heatmap": [
           {
            "colorbar": {
             "outlinewidth": 0,
             "ticks": ""
            },
            "colorscale": [
             [
              0,
              "#0d0887"
             ],
             [
              0.1111111111111111,
              "#46039f"
             ],
             [
              0.2222222222222222,
              "#7201a8"
             ],
             [
              0.3333333333333333,
              "#9c179e"
             ],
             [
              0.4444444444444444,
              "#bd3786"
             ],
             [
              0.5555555555555556,
              "#d8576b"
             ],
             [
              0.6666666666666666,
              "#ed7953"
             ],
             [
              0.7777777777777778,
              "#fb9f3a"
             ],
             [
              0.8888888888888888,
              "#fdca26"
             ],
             [
              1,
              "#f0f921"
             ]
            ],
            "type": "heatmap"
           }
          ],
          "heatmapgl": [
           {
            "colorbar": {
             "outlinewidth": 0,
             "ticks": ""
            },
            "colorscale": [
             [
              0,
              "#0d0887"
             ],
             [
              0.1111111111111111,
              "#46039f"
             ],
             [
              0.2222222222222222,
              "#7201a8"
             ],
             [
              0.3333333333333333,
              "#9c179e"
             ],
             [
              0.4444444444444444,
              "#bd3786"
             ],
             [
              0.5555555555555556,
              "#d8576b"
             ],
             [
              0.6666666666666666,
              "#ed7953"
             ],
             [
              0.7777777777777778,
              "#fb9f3a"
             ],
             [
              0.8888888888888888,
              "#fdca26"
             ],
             [
              1,
              "#f0f921"
             ]
            ],
            "type": "heatmapgl"
           }
          ],
          "histogram": [
           {
            "marker": {
             "pattern": {
              "fillmode": "overlay",
              "size": 10,
              "solidity": 0.2
             }
            },
            "type": "histogram"
           }
          ],
          "histogram2d": [
           {
            "colorbar": {
             "outlinewidth": 0,
             "ticks": ""
            },
            "colorscale": [
             [
              0,
              "#0d0887"
             ],
             [
              0.1111111111111111,
              "#46039f"
             ],
             [
              0.2222222222222222,
              "#7201a8"
             ],
             [
              0.3333333333333333,
              "#9c179e"
             ],
             [
              0.4444444444444444,
              "#bd3786"
             ],
             [
              0.5555555555555556,
              "#d8576b"
             ],
             [
              0.6666666666666666,
              "#ed7953"
             ],
             [
              0.7777777777777778,
              "#fb9f3a"
             ],
             [
              0.8888888888888888,
              "#fdca26"
             ],
             [
              1,
              "#f0f921"
             ]
            ],
            "type": "histogram2d"
           }
          ],
          "histogram2dcontour": [
           {
            "colorbar": {
             "outlinewidth": 0,
             "ticks": ""
            },
            "colorscale": [
             [
              0,
              "#0d0887"
             ],
             [
              0.1111111111111111,
              "#46039f"
             ],
             [
              0.2222222222222222,
              "#7201a8"
             ],
             [
              0.3333333333333333,
              "#9c179e"
             ],
             [
              0.4444444444444444,
              "#bd3786"
             ],
             [
              0.5555555555555556,
              "#d8576b"
             ],
             [
              0.6666666666666666,
              "#ed7953"
             ],
             [
              0.7777777777777778,
              "#fb9f3a"
             ],
             [
              0.8888888888888888,
              "#fdca26"
             ],
             [
              1,
              "#f0f921"
             ]
            ],
            "type": "histogram2dcontour"
           }
          ],
          "mesh3d": [
           {
            "colorbar": {
             "outlinewidth": 0,
             "ticks": ""
            },
            "type": "mesh3d"
           }
          ],
          "parcoords": [
           {
            "line": {
             "colorbar": {
              "outlinewidth": 0,
              "ticks": ""
             }
            },
            "type": "parcoords"
           }
          ],
          "pie": [
           {
            "automargin": true,
            "type": "pie"
           }
          ],
          "scatter": [
           {
            "fillpattern": {
             "fillmode": "overlay",
             "size": 10,
             "solidity": 0.2
            },
            "type": "scatter"
           }
          ],
          "scatter3d": [
           {
            "line": {
             "colorbar": {
              "outlinewidth": 0,
              "ticks": ""
             }
            },
            "marker": {
             "colorbar": {
              "outlinewidth": 0,
              "ticks": ""
             }
            },
            "type": "scatter3d"
           }
          ],
          "scattercarpet": [
           {
            "marker": {
             "colorbar": {
              "outlinewidth": 0,
              "ticks": ""
             }
            },
            "type": "scattercarpet"
           }
          ],
          "scattergeo": [
           {
            "marker": {
             "colorbar": {
              "outlinewidth": 0,
              "ticks": ""
             }
            },
            "type": "scattergeo"
           }
          ],
          "scattergl": [
           {
            "marker": {
             "colorbar": {
              "outlinewidth": 0,
              "ticks": ""
             }
            },
            "type": "scattergl"
           }
          ],
          "scattermapbox": [
           {
            "marker": {
             "colorbar": {
              "outlinewidth": 0,
              "ticks": ""
             }
            },
            "type": "scattermapbox"
           }
          ],
          "scatterpolar": [
           {
            "marker": {
             "colorbar": {
              "outlinewidth": 0,
              "ticks": ""
             }
            },
            "type": "scatterpolar"
           }
          ],
          "scatterpolargl": [
           {
            "marker": {
             "colorbar": {
              "outlinewidth": 0,
              "ticks": ""
             }
            },
            "type": "scatterpolargl"
           }
          ],
          "scatterternary": [
           {
            "marker": {
             "colorbar": {
              "outlinewidth": 0,
              "ticks": ""
             }
            },
            "type": "scatterternary"
           }
          ],
          "surface": [
           {
            "colorbar": {
             "outlinewidth": 0,
             "ticks": ""
            },
            "colorscale": [
             [
              0,
              "#0d0887"
             ],
             [
              0.1111111111111111,
              "#46039f"
             ],
             [
              0.2222222222222222,
              "#7201a8"
             ],
             [
              0.3333333333333333,
              "#9c179e"
             ],
             [
              0.4444444444444444,
              "#bd3786"
             ],
             [
              0.5555555555555556,
              "#d8576b"
             ],
             [
              0.6666666666666666,
              "#ed7953"
             ],
             [
              0.7777777777777778,
              "#fb9f3a"
             ],
             [
              0.8888888888888888,
              "#fdca26"
             ],
             [
              1,
              "#f0f921"
             ]
            ],
            "type": "surface"
           }
          ],
          "table": [
           {
            "cells": {
             "fill": {
              "color": "#EBF0F8"
             },
             "line": {
              "color": "white"
             }
            },
            "header": {
             "fill": {
              "color": "#C8D4E3"
             },
             "line": {
              "color": "white"
             }
            },
            "type": "table"
           }
          ]
         },
         "layout": {
          "annotationdefaults": {
           "arrowcolor": "#2a3f5f",
           "arrowhead": 0,
           "arrowwidth": 1
          },
          "autotypenumbers": "strict",
          "coloraxis": {
           "colorbar": {
            "outlinewidth": 0,
            "ticks": ""
           }
          },
          "colorscale": {
           "diverging": [
            [
             0,
             "#8e0152"
            ],
            [
             0.1,
             "#c51b7d"
            ],
            [
             0.2,
             "#de77ae"
            ],
            [
             0.3,
             "#f1b6da"
            ],
            [
             0.4,
             "#fde0ef"
            ],
            [
             0.5,
             "#f7f7f7"
            ],
            [
             0.6,
             "#e6f5d0"
            ],
            [
             0.7,
             "#b8e186"
            ],
            [
             0.8,
             "#7fbc41"
            ],
            [
             0.9,
             "#4d9221"
            ],
            [
             1,
             "#276419"
            ]
           ],
           "sequential": [
            [
             0,
             "#0d0887"
            ],
            [
             0.1111111111111111,
             "#46039f"
            ],
            [
             0.2222222222222222,
             "#7201a8"
            ],
            [
             0.3333333333333333,
             "#9c179e"
            ],
            [
             0.4444444444444444,
             "#bd3786"
            ],
            [
             0.5555555555555556,
             "#d8576b"
            ],
            [
             0.6666666666666666,
             "#ed7953"
            ],
            [
             0.7777777777777778,
             "#fb9f3a"
            ],
            [
             0.8888888888888888,
             "#fdca26"
            ],
            [
             1,
             "#f0f921"
            ]
           ],
           "sequentialminus": [
            [
             0,
             "#0d0887"
            ],
            [
             0.1111111111111111,
             "#46039f"
            ],
            [
             0.2222222222222222,
             "#7201a8"
            ],
            [
             0.3333333333333333,
             "#9c179e"
            ],
            [
             0.4444444444444444,
             "#bd3786"
            ],
            [
             0.5555555555555556,
             "#d8576b"
            ],
            [
             0.6666666666666666,
             "#ed7953"
            ],
            [
             0.7777777777777778,
             "#fb9f3a"
            ],
            [
             0.8888888888888888,
             "#fdca26"
            ],
            [
             1,
             "#f0f921"
            ]
           ]
          },
          "colorway": [
           "#636efa",
           "#EF553B",
           "#00cc96",
           "#ab63fa",
           "#FFA15A",
           "#19d3f3",
           "#FF6692",
           "#B6E880",
           "#FF97FF",
           "#FECB52"
          ],
          "font": {
           "color": "#2a3f5f"
          },
          "geo": {
           "bgcolor": "white",
           "lakecolor": "white",
           "landcolor": "#E5ECF6",
           "showlakes": true,
           "showland": true,
           "subunitcolor": "white"
          },
          "hoverlabel": {
           "align": "left"
          },
          "hovermode": "closest",
          "mapbox": {
           "style": "light"
          },
          "paper_bgcolor": "white",
          "plot_bgcolor": "#E5ECF6",
          "polar": {
           "angularaxis": {
            "gridcolor": "white",
            "linecolor": "white",
            "ticks": ""
           },
           "bgcolor": "#E5ECF6",
           "radialaxis": {
            "gridcolor": "white",
            "linecolor": "white",
            "ticks": ""
           }
          },
          "scene": {
           "xaxis": {
            "backgroundcolor": "#E5ECF6",
            "gridcolor": "white",
            "gridwidth": 2,
            "linecolor": "white",
            "showbackground": true,
            "ticks": "",
            "zerolinecolor": "white"
           },
           "yaxis": {
            "backgroundcolor": "#E5ECF6",
            "gridcolor": "white",
            "gridwidth": 2,
            "linecolor": "white",
            "showbackground": true,
            "ticks": "",
            "zerolinecolor": "white"
           },
           "zaxis": {
            "backgroundcolor": "#E5ECF6",
            "gridcolor": "white",
            "gridwidth": 2,
            "linecolor": "white",
            "showbackground": true,
            "ticks": "",
            "zerolinecolor": "white"
           }
          },
          "shapedefaults": {
           "line": {
            "color": "#2a3f5f"
           }
          },
          "ternary": {
           "aaxis": {
            "gridcolor": "white",
            "linecolor": "white",
            "ticks": ""
           },
           "baxis": {
            "gridcolor": "white",
            "linecolor": "white",
            "ticks": ""
           },
           "bgcolor": "#E5ECF6",
           "caxis": {
            "gridcolor": "white",
            "linecolor": "white",
            "ticks": ""
           }
          },
          "title": {
           "x": 0.05
          },
          "xaxis": {
           "automargin": true,
           "gridcolor": "white",
           "linecolor": "white",
           "ticks": "",
           "title": {
            "standoff": 15
           },
           "zerolinecolor": "white",
           "zerolinewidth": 2
          },
          "yaxis": {
           "automargin": true,
           "gridcolor": "white",
           "linecolor": "white",
           "ticks": "",
           "title": {
            "standoff": 15
           },
           "zerolinecolor": "white",
           "zerolinewidth": 2
          }
         }
        },
        "title": {
         "text": "Parallel Coordinate Plot"
        }
       }
      }
     },
     "metadata": {},
     "output_type": "display_data"
    }
   ],
   "source": [
    "from matplotlib import pyplot as plt\n",
    "fig_study = optuna.visualization.plot_parallel_coordinate(study, params=[\"criterion\", \"splitter\",\"max_features\",\"random_state\"])\n",
    "fig_study.show()"
   ]
  },
  {
   "cell_type": "code",
   "execution_count": 106,
   "metadata": {},
   "outputs": [
    {
     "name": "stdout",
     "output_type": "stream",
     "text": [
      "Number of finished trials:  100\n",
      "Best trial:\n",
      "  Value:  0.06329113924050633\n",
      "  Params: \n",
      "    criterion: entropy\n",
      "    splitter: best\n",
      "    max_features: 7\n",
      "    random_state: 0\n"
     ]
    }
   ],
   "source": [
    "#evaluate the trial\n",
    "print(\"Number of finished trials: \", len(study.trials))\n",
    "print(\"Best trial:\")\n",
    "trial = study.best_trial\n",
    "print(\"  Value: \", trial.value)\n",
    "print(\"  Params: \")\n",
    "for key, value in trial.params.items():\n",
    "    print(\"    {}: {}\".format(key, value))"
   ]
  },
  {
   "cell_type": "markdown",
   "metadata": {},
   "source": [
    "# Tune Adaboost classifier"
   ]
  },
  {
   "cell_type": "code",
   "execution_count": 107,
   "metadata": {},
   "outputs": [
    {
     "data": {
      "text/html": [
       "<style>#sk-container-id-8 {\n",
       "  /* Definition of color scheme common for light and dark mode */\n",
       "  --sklearn-color-text: black;\n",
       "  --sklearn-color-line: gray;\n",
       "  /* Definition of color scheme for unfitted estimators */\n",
       "  --sklearn-color-unfitted-level-0: #fff5e6;\n",
       "  --sklearn-color-unfitted-level-1: #f6e4d2;\n",
       "  --sklearn-color-unfitted-level-2: #ffe0b3;\n",
       "  --sklearn-color-unfitted-level-3: chocolate;\n",
       "  /* Definition of color scheme for fitted estimators */\n",
       "  --sklearn-color-fitted-level-0: #f0f8ff;\n",
       "  --sklearn-color-fitted-level-1: #d4ebff;\n",
       "  --sklearn-color-fitted-level-2: #b3dbfd;\n",
       "  --sklearn-color-fitted-level-3: cornflowerblue;\n",
       "\n",
       "  /* Specific color for light theme */\n",
       "  --sklearn-color-text-on-default-background: var(--sg-text-color, var(--theme-code-foreground, var(--jp-content-font-color1, black)));\n",
       "  --sklearn-color-background: var(--sg-background-color, var(--theme-background, var(--jp-layout-color0, white)));\n",
       "  --sklearn-color-border-box: var(--sg-text-color, var(--theme-code-foreground, var(--jp-content-font-color1, black)));\n",
       "  --sklearn-color-icon: #696969;\n",
       "\n",
       "  @media (prefers-color-scheme: dark) {\n",
       "    /* Redefinition of color scheme for dark theme */\n",
       "    --sklearn-color-text-on-default-background: var(--sg-text-color, var(--theme-code-foreground, var(--jp-content-font-color1, white)));\n",
       "    --sklearn-color-background: var(--sg-background-color, var(--theme-background, var(--jp-layout-color0, #111)));\n",
       "    --sklearn-color-border-box: var(--sg-text-color, var(--theme-code-foreground, var(--jp-content-font-color1, white)));\n",
       "    --sklearn-color-icon: #878787;\n",
       "  }\n",
       "}\n",
       "\n",
       "#sk-container-id-8 {\n",
       "  color: var(--sklearn-color-text);\n",
       "}\n",
       "\n",
       "#sk-container-id-8 pre {\n",
       "  padding: 0;\n",
       "}\n",
       "\n",
       "#sk-container-id-8 input.sk-hidden--visually {\n",
       "  border: 0;\n",
       "  clip: rect(1px 1px 1px 1px);\n",
       "  clip: rect(1px, 1px, 1px, 1px);\n",
       "  height: 1px;\n",
       "  margin: -1px;\n",
       "  overflow: hidden;\n",
       "  padding: 0;\n",
       "  position: absolute;\n",
       "  width: 1px;\n",
       "}\n",
       "\n",
       "#sk-container-id-8 div.sk-dashed-wrapped {\n",
       "  border: 1px dashed var(--sklearn-color-line);\n",
       "  margin: 0 0.4em 0.5em 0.4em;\n",
       "  box-sizing: border-box;\n",
       "  padding-bottom: 0.4em;\n",
       "  background-color: var(--sklearn-color-background);\n",
       "}\n",
       "\n",
       "#sk-container-id-8 div.sk-container {\n",
       "  /* jupyter's `normalize.less` sets `[hidden] { display: none; }`\n",
       "     but bootstrap.min.css set `[hidden] { display: none !important; }`\n",
       "     so we also need the `!important` here to be able to override the\n",
       "     default hidden behavior on the sphinx rendered scikit-learn.org.\n",
       "     See: https://github.com/scikit-learn/scikit-learn/issues/21755 */\n",
       "  display: inline-block !important;\n",
       "  position: relative;\n",
       "}\n",
       "\n",
       "#sk-container-id-8 div.sk-text-repr-fallback {\n",
       "  display: none;\n",
       "}\n",
       "\n",
       "div.sk-parallel-item,\n",
       "div.sk-serial,\n",
       "div.sk-item {\n",
       "  /* draw centered vertical line to link estimators */\n",
       "  background-image: linear-gradient(var(--sklearn-color-text-on-default-background), var(--sklearn-color-text-on-default-background));\n",
       "  background-size: 2px 100%;\n",
       "  background-repeat: no-repeat;\n",
       "  background-position: center center;\n",
       "}\n",
       "\n",
       "/* Parallel-specific style estimator block */\n",
       "\n",
       "#sk-container-id-8 div.sk-parallel-item::after {\n",
       "  content: \"\";\n",
       "  width: 100%;\n",
       "  border-bottom: 2px solid var(--sklearn-color-text-on-default-background);\n",
       "  flex-grow: 1;\n",
       "}\n",
       "\n",
       "#sk-container-id-8 div.sk-parallel {\n",
       "  display: flex;\n",
       "  align-items: stretch;\n",
       "  justify-content: center;\n",
       "  background-color: var(--sklearn-color-background);\n",
       "  position: relative;\n",
       "}\n",
       "\n",
       "#sk-container-id-8 div.sk-parallel-item {\n",
       "  display: flex;\n",
       "  flex-direction: column;\n",
       "}\n",
       "\n",
       "#sk-container-id-8 div.sk-parallel-item:first-child::after {\n",
       "  align-self: flex-end;\n",
       "  width: 50%;\n",
       "}\n",
       "\n",
       "#sk-container-id-8 div.sk-parallel-item:last-child::after {\n",
       "  align-self: flex-start;\n",
       "  width: 50%;\n",
       "}\n",
       "\n",
       "#sk-container-id-8 div.sk-parallel-item:only-child::after {\n",
       "  width: 0;\n",
       "}\n",
       "\n",
       "/* Serial-specific style estimator block */\n",
       "\n",
       "#sk-container-id-8 div.sk-serial {\n",
       "  display: flex;\n",
       "  flex-direction: column;\n",
       "  align-items: center;\n",
       "  background-color: var(--sklearn-color-background);\n",
       "  padding-right: 1em;\n",
       "  padding-left: 1em;\n",
       "}\n",
       "\n",
       "\n",
       "/* Toggleable style: style used for estimator/Pipeline/ColumnTransformer box that is\n",
       "clickable and can be expanded/collapsed.\n",
       "- Pipeline and ColumnTransformer use this feature and define the default style\n",
       "- Estimators will overwrite some part of the style using the `sk-estimator` class\n",
       "*/\n",
       "\n",
       "/* Pipeline and ColumnTransformer style (default) */\n",
       "\n",
       "#sk-container-id-8 div.sk-toggleable {\n",
       "  /* Default theme specific background. It is overwritten whether we have a\n",
       "  specific estimator or a Pipeline/ColumnTransformer */\n",
       "  background-color: var(--sklearn-color-background);\n",
       "}\n",
       "\n",
       "/* Toggleable label */\n",
       "#sk-container-id-8 label.sk-toggleable__label {\n",
       "  cursor: pointer;\n",
       "  display: block;\n",
       "  width: 100%;\n",
       "  margin-bottom: 0;\n",
       "  padding: 0.5em;\n",
       "  box-sizing: border-box;\n",
       "  text-align: center;\n",
       "}\n",
       "\n",
       "#sk-container-id-8 label.sk-toggleable__label-arrow:before {\n",
       "  /* Arrow on the left of the label */\n",
       "  content: \"▸\";\n",
       "  float: left;\n",
       "  margin-right: 0.25em;\n",
       "  color: var(--sklearn-color-icon);\n",
       "}\n",
       "\n",
       "#sk-container-id-8 label.sk-toggleable__label-arrow:hover:before {\n",
       "  color: var(--sklearn-color-text);\n",
       "}\n",
       "\n",
       "/* Toggleable content - dropdown */\n",
       "\n",
       "#sk-container-id-8 div.sk-toggleable__content {\n",
       "  max-height: 0;\n",
       "  max-width: 0;\n",
       "  overflow: hidden;\n",
       "  text-align: left;\n",
       "  /* unfitted */\n",
       "  background-color: var(--sklearn-color-unfitted-level-0);\n",
       "}\n",
       "\n",
       "#sk-container-id-8 div.sk-toggleable__content.fitted {\n",
       "  /* fitted */\n",
       "  background-color: var(--sklearn-color-fitted-level-0);\n",
       "}\n",
       "\n",
       "#sk-container-id-8 div.sk-toggleable__content pre {\n",
       "  margin: 0.2em;\n",
       "  border-radius: 0.25em;\n",
       "  color: var(--sklearn-color-text);\n",
       "  /* unfitted */\n",
       "  background-color: var(--sklearn-color-unfitted-level-0);\n",
       "}\n",
       "\n",
       "#sk-container-id-8 div.sk-toggleable__content.fitted pre {\n",
       "  /* unfitted */\n",
       "  background-color: var(--sklearn-color-fitted-level-0);\n",
       "}\n",
       "\n",
       "#sk-container-id-8 input.sk-toggleable__control:checked~div.sk-toggleable__content {\n",
       "  /* Expand drop-down */\n",
       "  max-height: 200px;\n",
       "  max-width: 100%;\n",
       "  overflow: auto;\n",
       "}\n",
       "\n",
       "#sk-container-id-8 input.sk-toggleable__control:checked~label.sk-toggleable__label-arrow:before {\n",
       "  content: \"▾\";\n",
       "}\n",
       "\n",
       "/* Pipeline/ColumnTransformer-specific style */\n",
       "\n",
       "#sk-container-id-8 div.sk-label input.sk-toggleable__control:checked~label.sk-toggleable__label {\n",
       "  color: var(--sklearn-color-text);\n",
       "  background-color: var(--sklearn-color-unfitted-level-2);\n",
       "}\n",
       "\n",
       "#sk-container-id-8 div.sk-label.fitted input.sk-toggleable__control:checked~label.sk-toggleable__label {\n",
       "  background-color: var(--sklearn-color-fitted-level-2);\n",
       "}\n",
       "\n",
       "/* Estimator-specific style */\n",
       "\n",
       "/* Colorize estimator box */\n",
       "#sk-container-id-8 div.sk-estimator input.sk-toggleable__control:checked~label.sk-toggleable__label {\n",
       "  /* unfitted */\n",
       "  background-color: var(--sklearn-color-unfitted-level-2);\n",
       "}\n",
       "\n",
       "#sk-container-id-8 div.sk-estimator.fitted input.sk-toggleable__control:checked~label.sk-toggleable__label {\n",
       "  /* fitted */\n",
       "  background-color: var(--sklearn-color-fitted-level-2);\n",
       "}\n",
       "\n",
       "#sk-container-id-8 div.sk-label label.sk-toggleable__label,\n",
       "#sk-container-id-8 div.sk-label label {\n",
       "  /* The background is the default theme color */\n",
       "  color: var(--sklearn-color-text-on-default-background);\n",
       "}\n",
       "\n",
       "/* On hover, darken the color of the background */\n",
       "#sk-container-id-8 div.sk-label:hover label.sk-toggleable__label {\n",
       "  color: var(--sklearn-color-text);\n",
       "  background-color: var(--sklearn-color-unfitted-level-2);\n",
       "}\n",
       "\n",
       "/* Label box, darken color on hover, fitted */\n",
       "#sk-container-id-8 div.sk-label.fitted:hover label.sk-toggleable__label.fitted {\n",
       "  color: var(--sklearn-color-text);\n",
       "  background-color: var(--sklearn-color-fitted-level-2);\n",
       "}\n",
       "\n",
       "/* Estimator label */\n",
       "\n",
       "#sk-container-id-8 div.sk-label label {\n",
       "  font-family: monospace;\n",
       "  font-weight: bold;\n",
       "  display: inline-block;\n",
       "  line-height: 1.2em;\n",
       "}\n",
       "\n",
       "#sk-container-id-8 div.sk-label-container {\n",
       "  text-align: center;\n",
       "}\n",
       "\n",
       "/* Estimator-specific */\n",
       "#sk-container-id-8 div.sk-estimator {\n",
       "  font-family: monospace;\n",
       "  border: 1px dotted var(--sklearn-color-border-box);\n",
       "  border-radius: 0.25em;\n",
       "  box-sizing: border-box;\n",
       "  margin-bottom: 0.5em;\n",
       "  /* unfitted */\n",
       "  background-color: var(--sklearn-color-unfitted-level-0);\n",
       "}\n",
       "\n",
       "#sk-container-id-8 div.sk-estimator.fitted {\n",
       "  /* fitted */\n",
       "  background-color: var(--sklearn-color-fitted-level-0);\n",
       "}\n",
       "\n",
       "/* on hover */\n",
       "#sk-container-id-8 div.sk-estimator:hover {\n",
       "  /* unfitted */\n",
       "  background-color: var(--sklearn-color-unfitted-level-2);\n",
       "}\n",
       "\n",
       "#sk-container-id-8 div.sk-estimator.fitted:hover {\n",
       "  /* fitted */\n",
       "  background-color: var(--sklearn-color-fitted-level-2);\n",
       "}\n",
       "\n",
       "/* Specification for estimator info (e.g. \"i\" and \"?\") */\n",
       "\n",
       "/* Common style for \"i\" and \"?\" */\n",
       "\n",
       ".sk-estimator-doc-link,\n",
       "a:link.sk-estimator-doc-link,\n",
       "a:visited.sk-estimator-doc-link {\n",
       "  float: right;\n",
       "  font-size: smaller;\n",
       "  line-height: 1em;\n",
       "  font-family: monospace;\n",
       "  background-color: var(--sklearn-color-background);\n",
       "  border-radius: 1em;\n",
       "  height: 1em;\n",
       "  width: 1em;\n",
       "  text-decoration: none !important;\n",
       "  margin-left: 1ex;\n",
       "  /* unfitted */\n",
       "  border: var(--sklearn-color-unfitted-level-1) 1pt solid;\n",
       "  color: var(--sklearn-color-unfitted-level-1);\n",
       "}\n",
       "\n",
       ".sk-estimator-doc-link.fitted,\n",
       "a:link.sk-estimator-doc-link.fitted,\n",
       "a:visited.sk-estimator-doc-link.fitted {\n",
       "  /* fitted */\n",
       "  border: var(--sklearn-color-fitted-level-1) 1pt solid;\n",
       "  color: var(--sklearn-color-fitted-level-1);\n",
       "}\n",
       "\n",
       "/* On hover */\n",
       "div.sk-estimator:hover .sk-estimator-doc-link:hover,\n",
       ".sk-estimator-doc-link:hover,\n",
       "div.sk-label-container:hover .sk-estimator-doc-link:hover,\n",
       ".sk-estimator-doc-link:hover {\n",
       "  /* unfitted */\n",
       "  background-color: var(--sklearn-color-unfitted-level-3);\n",
       "  color: var(--sklearn-color-background);\n",
       "  text-decoration: none;\n",
       "}\n",
       "\n",
       "div.sk-estimator.fitted:hover .sk-estimator-doc-link.fitted:hover,\n",
       ".sk-estimator-doc-link.fitted:hover,\n",
       "div.sk-label-container:hover .sk-estimator-doc-link.fitted:hover,\n",
       ".sk-estimator-doc-link.fitted:hover {\n",
       "  /* fitted */\n",
       "  background-color: var(--sklearn-color-fitted-level-3);\n",
       "  color: var(--sklearn-color-background);\n",
       "  text-decoration: none;\n",
       "}\n",
       "\n",
       "/* Span, style for the box shown on hovering the info icon */\n",
       ".sk-estimator-doc-link span {\n",
       "  display: none;\n",
       "  z-index: 9999;\n",
       "  position: relative;\n",
       "  font-weight: normal;\n",
       "  right: .2ex;\n",
       "  padding: .5ex;\n",
       "  margin: .5ex;\n",
       "  width: min-content;\n",
       "  min-width: 20ex;\n",
       "  max-width: 50ex;\n",
       "  color: var(--sklearn-color-text);\n",
       "  box-shadow: 2pt 2pt 4pt #999;\n",
       "  /* unfitted */\n",
       "  background: var(--sklearn-color-unfitted-level-0);\n",
       "  border: .5pt solid var(--sklearn-color-unfitted-level-3);\n",
       "}\n",
       "\n",
       ".sk-estimator-doc-link.fitted span {\n",
       "  /* fitted */\n",
       "  background: var(--sklearn-color-fitted-level-0);\n",
       "  border: var(--sklearn-color-fitted-level-3);\n",
       "}\n",
       "\n",
       ".sk-estimator-doc-link:hover span {\n",
       "  display: block;\n",
       "}\n",
       "\n",
       "/* \"?\"-specific style due to the `<a>` HTML tag */\n",
       "\n",
       "#sk-container-id-8 a.estimator_doc_link {\n",
       "  float: right;\n",
       "  font-size: 1rem;\n",
       "  line-height: 1em;\n",
       "  font-family: monospace;\n",
       "  background-color: var(--sklearn-color-background);\n",
       "  border-radius: 1rem;\n",
       "  height: 1rem;\n",
       "  width: 1rem;\n",
       "  text-decoration: none;\n",
       "  /* unfitted */\n",
       "  color: var(--sklearn-color-unfitted-level-1);\n",
       "  border: var(--sklearn-color-unfitted-level-1) 1pt solid;\n",
       "}\n",
       "\n",
       "#sk-container-id-8 a.estimator_doc_link.fitted {\n",
       "  /* fitted */\n",
       "  border: var(--sklearn-color-fitted-level-1) 1pt solid;\n",
       "  color: var(--sklearn-color-fitted-level-1);\n",
       "}\n",
       "\n",
       "/* On hover */\n",
       "#sk-container-id-8 a.estimator_doc_link:hover {\n",
       "  /* unfitted */\n",
       "  background-color: var(--sklearn-color-unfitted-level-3);\n",
       "  color: var(--sklearn-color-background);\n",
       "  text-decoration: none;\n",
       "}\n",
       "\n",
       "#sk-container-id-8 a.estimator_doc_link.fitted:hover {\n",
       "  /* fitted */\n",
       "  background-color: var(--sklearn-color-fitted-level-3);\n",
       "}\n",
       "</style><div id=\"sk-container-id-8\" class=\"sk-top-container\"><div class=\"sk-text-repr-fallback\"><pre>AdaBoostClassifier(algorithm=&#x27;SAMME&#x27;,\n",
       "                   estimator=DecisionTreeClassifier(criterion=&#x27;entropy&#x27;,\n",
       "                                                    max_features=7,\n",
       "                                                    random_state=0),\n",
       "                   learning_rate=1.2, n_estimators=180)</pre><b>In a Jupyter environment, please rerun this cell to show the HTML representation or trust the notebook. <br />On GitHub, the HTML representation is unable to render, please try loading this page with nbviewer.org.</b></div><div class=\"sk-container\" hidden><div class=\"sk-item sk-dashed-wrapped\"><div class=\"sk-label-container\"><div class=\"sk-label fitted sk-toggleable\"><input class=\"sk-toggleable__control sk-hidden--visually\" id=\"sk-estimator-id-14\" type=\"checkbox\" ><label for=\"sk-estimator-id-14\" class=\"sk-toggleable__label fitted sk-toggleable__label-arrow fitted\">&nbsp;&nbsp;AdaBoostClassifier<a class=\"sk-estimator-doc-link fitted\" rel=\"noreferrer\" target=\"_blank\" href=\"https://scikit-learn.org/1.4/modules/generated/sklearn.ensemble.AdaBoostClassifier.html\">?<span>Documentation for AdaBoostClassifier</span></a><span class=\"sk-estimator-doc-link fitted\">i<span>Fitted</span></span></label><div class=\"sk-toggleable__content fitted\"><pre>AdaBoostClassifier(algorithm=&#x27;SAMME&#x27;,\n",
       "                   estimator=DecisionTreeClassifier(criterion=&#x27;entropy&#x27;,\n",
       "                                                    max_features=7,\n",
       "                                                    random_state=0),\n",
       "                   learning_rate=1.2, n_estimators=180)</pre></div> </div></div><div class=\"sk-parallel\"><div class=\"sk-parallel-item\"><div class=\"sk-item\"><div class=\"sk-label-container\"><div class=\"sk-label fitted sk-toggleable\"><input class=\"sk-toggleable__control sk-hidden--visually\" id=\"sk-estimator-id-15\" type=\"checkbox\" ><label for=\"sk-estimator-id-15\" class=\"sk-toggleable__label fitted sk-toggleable__label-arrow fitted\">estimator: DecisionTreeClassifier</label><div class=\"sk-toggleable__content fitted\"><pre>DecisionTreeClassifier(criterion=&#x27;entropy&#x27;, max_features=7, random_state=0)</pre></div> </div></div><div class=\"sk-serial\"><div class=\"sk-item\"><div class=\"sk-estimator fitted sk-toggleable\"><input class=\"sk-toggleable__control sk-hidden--visually\" id=\"sk-estimator-id-16\" type=\"checkbox\" ><label for=\"sk-estimator-id-16\" class=\"sk-toggleable__label fitted sk-toggleable__label-arrow fitted\">&nbsp;DecisionTreeClassifier<a class=\"sk-estimator-doc-link fitted\" rel=\"noreferrer\" target=\"_blank\" href=\"https://scikit-learn.org/1.4/modules/generated/sklearn.tree.DecisionTreeClassifier.html\">?<span>Documentation for DecisionTreeClassifier</span></a></label><div class=\"sk-toggleable__content fitted\"><pre>DecisionTreeClassifier(criterion=&#x27;entropy&#x27;, max_features=7, random_state=0)</pre></div> </div></div></div></div></div></div></div></div></div>"
      ],
      "text/plain": [
       "AdaBoostClassifier(algorithm='SAMME',\n",
       "                   estimator=DecisionTreeClassifier(criterion='entropy',\n",
       "                                                    max_features=7,\n",
       "                                                    random_state=0),\n",
       "                   learning_rate=1.2, n_estimators=180)"
      ]
     },
     "execution_count": 107,
     "metadata": {},
     "output_type": "execute_result"
    }
   ],
   "source": [
    "# train the model with random parameter\n",
    "from sklearn.ensemble import AdaBoostClassifier\n",
    "# Preparing the regressor and fitting data with some parameters\n",
    "dt_params = study.best_trial.params\n",
    "model_dt = DecisionTreeClassifier(**dt_params)\n",
    "#model_dt = estimator\n",
    "#model = predictor = model_dt.fit()\n",
    "\n",
    "model_Ada = AdaBoostClassifier(\n",
    "        estimator=model_dt,\n",
    "        n_estimators=180, # maximum number of estimators at which boosting is terminated\n",
    "        learning_rate=1.2,\n",
    "        algorithm=\"SAMME\", #SAMME.R=real boosting algorithm\n",
    "        \n",
    "     )\n",
    "\n",
    "model_Ada.fit(compressed_dataset_X_train, y_train)"
   ]
  },
  {
   "cell_type": "code",
   "execution_count": 108,
   "metadata": {},
   "outputs": [
    {
     "data": {
      "text/plain": [
       "0.05421686746987952"
      ]
     },
     "execution_count": 108,
     "metadata": {},
     "output_type": "execute_result"
    }
   ],
   "source": [
    "# Finding mean absolute error\n",
    "preds = model_Ada.predict(compressed_dataset_X_test)\n",
    "preds = preds.astype(int)\n",
    "mae = np.abs(y_test-preds).mean()\n",
    "mae"
   ]
  },
  {
   "cell_type": "code",
   "execution_count": 109,
   "metadata": {},
   "outputs": [],
   "source": [
    "# Defining the best parameter with optuna\n",
    "\n",
    "K = 5 # 5 fold cross validation\n",
    "skf = StratifiedKFold(n_splits = K, random_state = 42, shuffle = True)\n",
    "\n",
    "\n",
    "train_tunned_Ada= np.array(compressed_dataset_X)\n",
    "target_train_tunned_Ada = np.array(label)\n",
    "\n",
    "# test = np.array(X)\n",
    "# target_train = df_train['congestion'].values\n",
    "\n",
    "# test_preds = np.zeros((len(test)))\n",
    "oof_preds_Ada = np.zeros((len(train_tunned_Ada)))\n",
    "abs_error_arr_Ada=[]\n",
    "def objective_Ada(trial):\n",
    "\n",
    " for train_index, val_index in (skf.split(compressed_dataset_X,label)):\n",
    "    train_X, valid_X = train_tunned_Ada[train_index], train_tunned_Ada[val_index]\n",
    "    train_Y, valid_Y = target_train_tunned_Ada[train_index], target_train_tunned_Ada[val_index]\n",
    "    \n",
    "        \n",
    "        # train_x, test_x, train_y, test_y = train_test_split(data, target, test_size=0.25,random_state=0)\n",
    "    param = {\n",
    "            # 'tree_method':'gpu_hist',  # this parameter means using the GPU when training our model to speedup the training process \n",
    "        'estimator':model_dt,\n",
    "        'n_estimators':trial.suggest_int(\"n_estimators\",50,500), # maximum number of estimators at which boosting is terminated\n",
    "        'learning_rate':trial.suggest_float(\"learning_rate\",1,3),\n",
    "        'algorithm':trial.suggest_categorical(\"algorithm\",[\"SAMME\",\"SAMME.R\"]),\n",
    "        'random_state':trial.suggest_int('random_state',0,5),\n",
    "        }\n",
    "    model_2 = AdaBoostClassifier(**param)  \n",
    "        \n",
    "    model_2.fit(train_X,train_Y)\n",
    "        \n",
    "    preds = model_2.predict(valid_X)\n",
    "    oof_preds_Ada[val_index] = preds # preds gives total 3846 predicted value for valid_X\n",
    "\n",
    "#  abs_error=np.abs(oof_preds-target_train_tunned).mean() \n",
    "#  abs_error_arr.append(abs_error)  \n",
    "#  abs_error=np.abs(oof_preds-target_train).mean()\n",
    " \n",
    "#  print(len(oof_preds))\n",
    "      \n",
    " mae = mean_absolute_error(target_train_tunned_Ada, oof_preds_Ada)\n",
    "        \n",
    " return mae"
   ]
  },
  {
   "cell_type": "code",
   "execution_count": 110,
   "metadata": {},
   "outputs": [
    {
     "name": "stderr",
     "output_type": "stream",
     "text": [
      "[I 2024-02-12 11:20:45,282] A new study created in memory with name: Ada_tunning\n"
     ]
    }
   ],
   "source": [
    "# this is the main optuna for optimizing a object-->\"objective\"\n",
    "study_Ada = optuna.create_study(direction='minimize',study_name=\"Ada_tunning\")"
   ]
  },
  {
   "cell_type": "code",
   "execution_count": 111,
   "metadata": {},
   "outputs": [
    {
     "name": "stderr",
     "output_type": "stream",
     "text": [
      "[I 2024-02-12 11:20:45,352] Trial 0 finished with value: 0.06871609403254973 and parameters: {'n_estimators': 236, 'learning_rate': 1.5803231862479403, 'algorithm': 'SAMME.R', 'random_state': 3}. Best is trial 0 with value: 0.06871609403254973.\n",
      "[I 2024-02-12 11:20:45,409] Trial 1 finished with value: 0.06600361663652803 and parameters: {'n_estimators': 50, 'learning_rate': 1.132671754920058, 'algorithm': 'SAMME.R', 'random_state': 1}. Best is trial 1 with value: 0.06600361663652803.\n"
     ]
    },
    {
     "name": "stderr",
     "output_type": "stream",
     "text": [
      "[I 2024-02-12 11:20:45,463] Trial 2 finished with value: 0.06871609403254973 and parameters: {'n_estimators': 316, 'learning_rate': 2.2963660149425595, 'algorithm': 'SAMME', 'random_state': 3}. Best is trial 1 with value: 0.06600361663652803.\n",
      "[I 2024-02-12 11:20:45,506] Trial 3 finished with value: 0.06645569620253164 and parameters: {'n_estimators': 183, 'learning_rate': 2.3455924827886223, 'algorithm': 'SAMME.R', 'random_state': 5}. Best is trial 1 with value: 0.06600361663652803.\n",
      "[I 2024-02-12 11:20:45,547] Trial 4 finished with value: 0.06464737793851717 and parameters: {'n_estimators': 74, 'learning_rate': 2.493604876056324, 'algorithm': 'SAMME', 'random_state': 2}. Best is trial 4 with value: 0.06464737793851717.\n",
      "[I 2024-02-12 11:20:45,598] Trial 5 finished with value: 0.06600361663652803 and parameters: {'n_estimators': 140, 'learning_rate': 1.1005531637719543, 'algorithm': 'SAMME.R', 'random_state': 1}. Best is trial 4 with value: 0.06464737793851717.\n",
      "[I 2024-02-12 11:20:45,638] Trial 6 finished with value: 0.06600361663652803 and parameters: {'n_estimators': 182, 'learning_rate': 2.4811224746939944, 'algorithm': 'SAMME', 'random_state': 0}. Best is trial 4 with value: 0.06464737793851717.\n",
      "[I 2024-02-12 11:20:45,685] Trial 7 finished with value: 0.06600361663652803 and parameters: {'n_estimators': 56, 'learning_rate': 2.405430526312581, 'algorithm': 'SAMME', 'random_state': 1}. Best is trial 4 with value: 0.06464737793851717.\n",
      "[I 2024-02-12 11:20:45,735] Trial 8 finished with value: 0.06600361663652803 and parameters: {'n_estimators': 179, 'learning_rate': 1.920186447204293, 'algorithm': 'SAMME', 'random_state': 1}. Best is trial 4 with value: 0.06464737793851717.\n",
      "[I 2024-02-12 11:20:45,778] Trial 9 finished with value: 0.06826401446654612 and parameters: {'n_estimators': 255, 'learning_rate': 2.9051432157605563, 'algorithm': 'SAMME.R', 'random_state': 4}. Best is trial 4 with value: 0.06464737793851717.\n",
      "[I 2024-02-12 11:20:45,836] Trial 10 finished with value: 0.06464737793851717 and parameters: {'n_estimators': 444, 'learning_rate': 2.961400278749186, 'algorithm': 'SAMME', 'random_state': 2}. Best is trial 4 with value: 0.06464737793851717.\n",
      "[I 2024-02-12 11:20:45,886] Trial 11 finished with value: 0.06464737793851717 and parameters: {'n_estimators': 449, 'learning_rate': 2.9862689865243968, 'algorithm': 'SAMME', 'random_state': 2}. Best is trial 4 with value: 0.06464737793851717.\n",
      "[I 2024-02-12 11:20:45,947] Trial 12 finished with value: 0.06464737793851717 and parameters: {'n_estimators': 491, 'learning_rate': 2.703840094256408, 'algorithm': 'SAMME', 'random_state': 2}. Best is trial 4 with value: 0.06464737793851717.\n",
      "[I 2024-02-12 11:20:46,007] Trial 13 finished with value: 0.06871609403254973 and parameters: {'n_estimators': 381, 'learning_rate': 2.69119215785745, 'algorithm': 'SAMME', 'random_state': 3}. Best is trial 4 with value: 0.06464737793851717.\n",
      "[I 2024-02-12 11:20:46,067] Trial 14 finished with value: 0.06464737793851717 and parameters: {'n_estimators': 347, 'learning_rate': 1.7926584344190082, 'algorithm': 'SAMME', 'random_state': 2}. Best is trial 4 with value: 0.06464737793851717.\n",
      "[I 2024-02-12 11:20:46,131] Trial 15 finished with value: 0.06826401446654612 and parameters: {'n_estimators': 413, 'learning_rate': 2.7038758234984717, 'algorithm': 'SAMME', 'random_state': 4}. Best is trial 4 with value: 0.06464737793851717.\n",
      "[I 2024-02-12 11:20:46,190] Trial 16 finished with value: 0.06600361663652803 and parameters: {'n_estimators': 303, 'learning_rate': 2.1044542433931306, 'algorithm': 'SAMME', 'random_state': 0}. Best is trial 4 with value: 0.06464737793851717.\n",
      "[I 2024-02-12 11:20:46,252] Trial 17 finished with value: 0.06464737793851717 and parameters: {'n_estimators': 100, 'learning_rate': 2.636144804028361, 'algorithm': 'SAMME', 'random_state': 2}. Best is trial 4 with value: 0.06464737793851717.\n",
      "[I 2024-02-12 11:20:46,312] Trial 18 finished with value: 0.06826401446654612 and parameters: {'n_estimators': 455, 'learning_rate': 2.110701960273544, 'algorithm': 'SAMME', 'random_state': 4}. Best is trial 4 with value: 0.06464737793851717.\n",
      "[I 2024-02-12 11:20:46,372] Trial 19 finished with value: 0.06871609403254973 and parameters: {'n_estimators': 381, 'learning_rate': 2.9068806364843374, 'algorithm': 'SAMME', 'random_state': 3}. Best is trial 4 with value: 0.06464737793851717.\n",
      "[I 2024-02-12 11:20:46,432] Trial 20 finished with value: 0.06645569620253164 and parameters: {'n_estimators': 224, 'learning_rate': 2.5375551532595355, 'algorithm': 'SAMME', 'random_state': 5}. Best is trial 4 with value: 0.06464737793851717.\n",
      "[I 2024-02-12 11:20:46,482] Trial 21 finished with value: 0.06464737793851717 and parameters: {'n_estimators': 498, 'learning_rate': 2.974445361067437, 'algorithm': 'SAMME', 'random_state': 2}. Best is trial 4 with value: 0.06464737793851717.\n",
      "[I 2024-02-12 11:20:46,542] Trial 22 finished with value: 0.06464737793851717 and parameters: {'n_estimators': 435, 'learning_rate': 2.9984769631575245, 'algorithm': 'SAMME', 'random_state': 2}. Best is trial 4 with value: 0.06464737793851717.\n",
      "[I 2024-02-12 11:20:46,602] Trial 23 finished with value: 0.06600361663652803 and parameters: {'n_estimators': 462, 'learning_rate': 2.823565718335457, 'algorithm': 'SAMME', 'random_state': 1}. Best is trial 4 with value: 0.06464737793851717.\n",
      "[I 2024-02-12 11:20:46,660] Trial 24 finished with value: 0.06464737793851717 and parameters: {'n_estimators': 393, 'learning_rate': 2.82248379923702, 'algorithm': 'SAMME', 'random_state': 2}. Best is trial 4 with value: 0.06464737793851717.\n",
      "[I 2024-02-12 11:20:46,729] Trial 25 finished with value: 0.06871609403254973 and parameters: {'n_estimators': 352, 'learning_rate': 2.230642596738956, 'algorithm': 'SAMME', 'random_state': 3}. Best is trial 4 with value: 0.06464737793851717.\n",
      "[I 2024-02-12 11:20:46,786] Trial 26 finished with value: 0.06600361663652803 and parameters: {'n_estimators': 431, 'learning_rate': 2.568316872436526, 'algorithm': 'SAMME.R', 'random_state': 1}. Best is trial 4 with value: 0.06464737793851717.\n",
      "[I 2024-02-12 11:20:46,847] Trial 27 finished with value: 0.06464737793851717 and parameters: {'n_estimators': 309, 'learning_rate': 2.774279491628282, 'algorithm': 'SAMME', 'random_state': 2}. Best is trial 4 with value: 0.06464737793851717.\n",
      "[I 2024-02-12 11:20:46,966] Trial 28 finished with value: 0.06600361663652803 and parameters: {'n_estimators': 117, 'learning_rate': 1.5896030543632511, 'algorithm': 'SAMME', 'random_state': 0}. Best is trial 4 with value: 0.06464737793851717.\n",
      "[I 2024-02-12 11:20:47,097] Trial 29 finished with value: 0.06871609403254973 and parameters: {'n_estimators': 279, 'learning_rate': 2.5404773739663806, 'algorithm': 'SAMME.R', 'random_state': 3}. Best is trial 4 with value: 0.06464737793851717.\n",
      "[I 2024-02-12 11:20:47,164] Trial 30 finished with value: 0.06826401446654612 and parameters: {'n_estimators': 233, 'learning_rate': 2.8281350069886253, 'algorithm': 'SAMME', 'random_state': 4}. Best is trial 4 with value: 0.06464737793851717.\n",
      "[I 2024-02-12 11:20:47,219] Trial 31 finished with value: 0.06464737793851717 and parameters: {'n_estimators': 496, 'learning_rate': 2.676015130056605, 'algorithm': 'SAMME', 'random_state': 2}. Best is trial 4 with value: 0.06464737793851717.\n",
      "[I 2024-02-12 11:20:47,290] Trial 32 finished with value: 0.06464737793851717 and parameters: {'n_estimators': 468, 'learning_rate': 1.2439616170204708, 'algorithm': 'SAMME', 'random_state': 2}. Best is trial 4 with value: 0.06464737793851717.\n",
      "[I 2024-02-12 11:20:47,364] Trial 33 finished with value: 0.06600361663652803 and parameters: {'n_estimators': 479, 'learning_rate': 2.984206968447487, 'algorithm': 'SAMME', 'random_state': 1}. Best is trial 4 with value: 0.06464737793851717.\n",
      "[I 2024-02-12 11:20:47,423] Trial 34 finished with value: 0.06871609403254973 and parameters: {'n_estimators': 424, 'learning_rate': 2.3991733963335173, 'algorithm': 'SAMME.R', 'random_state': 3}. Best is trial 4 with value: 0.06464737793851717.\n",
      "[I 2024-02-12 11:20:47,484] Trial 35 finished with value: 0.06464737793851717 and parameters: {'n_estimators': 353, 'learning_rate': 2.750913141312123, 'algorithm': 'SAMME', 'random_state': 2}. Best is trial 4 with value: 0.06464737793851717.\n",
      "[I 2024-02-12 11:20:47,544] Trial 36 finished with value: 0.06600361663652803 and parameters: {'n_estimators': 455, 'learning_rate': 2.8840119874911267, 'algorithm': 'SAMME', 'random_state': 1}. Best is trial 4 with value: 0.06464737793851717.\n",
      "[I 2024-02-12 11:20:47,604] Trial 37 finished with value: 0.06871609403254973 and parameters: {'n_estimators': 404, 'learning_rate': 2.468330517625481, 'algorithm': 'SAMME.R', 'random_state': 3}. Best is trial 4 with value: 0.06464737793851717.\n",
      "[I 2024-02-12 11:20:47,663] Trial 38 finished with value: 0.06600361663652803 and parameters: {'n_estimators': 78, 'learning_rate': 2.2995780747878087, 'algorithm': 'SAMME', 'random_state': 1}. Best is trial 4 with value: 0.06464737793851717.\n",
      "[I 2024-02-12 11:20:47,732] Trial 39 finished with value: 0.06464737793851717 and parameters: {'n_estimators': 151, 'learning_rate': 2.639800276033986, 'algorithm': 'SAMME', 'random_state': 2}. Best is trial 4 with value: 0.06464737793851717.\n",
      "[I 2024-02-12 11:20:47,800] Trial 40 finished with value: 0.06600361663652803 and parameters: {'n_estimators': 205, 'learning_rate': 2.1763993199942724, 'algorithm': 'SAMME.R', 'random_state': 1}. Best is trial 4 with value: 0.06464737793851717.\n",
      "[I 2024-02-12 11:20:47,865] Trial 41 finished with value: 0.06464737793851717 and parameters: {'n_estimators': 339, 'learning_rate': 1.8814791704661311, 'algorithm': 'SAMME', 'random_state': 2}. Best is trial 4 with value: 0.06464737793851717.\n",
      "[I 2024-02-12 11:20:47,946] Trial 42 finished with value: 0.06464737793851717 and parameters: {'n_estimators': 435, 'learning_rate': 1.7243855221332807, 'algorithm': 'SAMME', 'random_state': 2}. Best is trial 4 with value: 0.06464737793851717.\n",
      "[I 2024-02-12 11:20:48,013] Trial 43 finished with value: 0.06464737793851717 and parameters: {'n_estimators': 478, 'learning_rate': 1.7439299700010265, 'algorithm': 'SAMME', 'random_state': 2}. Best is trial 4 with value: 0.06464737793851717.\n",
      "[I 2024-02-12 11:20:48,080] Trial 44 finished with value: 0.06871609403254973 and parameters: {'n_estimators': 279, 'learning_rate': 1.3619041463311286, 'algorithm': 'SAMME', 'random_state': 3}. Best is trial 4 with value: 0.06464737793851717.\n",
      "[I 2024-02-12 11:20:48,150] Trial 45 finished with value: 0.06464737793851717 and parameters: {'n_estimators': 366, 'learning_rate': 1.9626654669861059, 'algorithm': 'SAMME', 'random_state': 2}. Best is trial 4 with value: 0.06464737793851717.\n",
      "[I 2024-02-12 11:20:48,214] Trial 46 finished with value: 0.06871609403254973 and parameters: {'n_estimators': 321, 'learning_rate': 1.8111460162849442, 'algorithm': 'SAMME', 'random_state': 3}. Best is trial 4 with value: 0.06464737793851717.\n",
      "[I 2024-02-12 11:20:48,291] Trial 47 finished with value: 0.06600361663652803 and parameters: {'n_estimators': 445, 'learning_rate': 2.888361972039013, 'algorithm': 'SAMME', 'random_state': 1}. Best is trial 4 with value: 0.06464737793851717.\n",
      "[I 2024-02-12 11:20:48,365] Trial 48 finished with value: 0.06464737793851717 and parameters: {'n_estimators': 407, 'learning_rate': 2.0306300393311454, 'algorithm': 'SAMME', 'random_state': 2}. Best is trial 4 with value: 0.06464737793851717.\n",
      "[I 2024-02-12 11:20:48,441] Trial 49 finished with value: 0.06464737793851717 and parameters: {'n_estimators': 380, 'learning_rate': 1.5373565290011915, 'algorithm': 'SAMME', 'random_state': 2}. Best is trial 4 with value: 0.06464737793851717.\n",
      "[I 2024-02-12 11:20:48,516] Trial 50 finished with value: 0.06600361663652803 and parameters: {'n_estimators': 258, 'learning_rate': 2.5961393652884883, 'algorithm': 'SAMME', 'random_state': 1}. Best is trial 4 with value: 0.06464737793851717.\n",
      "[I 2024-02-12 11:20:48,581] Trial 51 finished with value: 0.06464737793851717 and parameters: {'n_estimators': 98, 'learning_rate': 2.7187046910248798, 'algorithm': 'SAMME', 'random_state': 2}. Best is trial 4 with value: 0.06464737793851717.\n",
      "[I 2024-02-12 11:20:48,659] Trial 52 finished with value: 0.06464737793851717 and parameters: {'n_estimators': 51, 'learning_rate': 2.4241261452930387, 'algorithm': 'SAMME', 'random_state': 2}. Best is trial 4 with value: 0.06464737793851717.\n",
      "[I 2024-02-12 11:20:48,731] Trial 53 finished with value: 0.06871609403254973 and parameters: {'n_estimators': 70, 'learning_rate': 2.91955176287287, 'algorithm': 'SAMME', 'random_state': 3}. Best is trial 4 with value: 0.06464737793851717.\n",
      "[I 2024-02-12 11:20:48,797] Trial 54 finished with value: 0.06464737793851717 and parameters: {'n_estimators': 133, 'learning_rate': 1.0200115421378118, 'algorithm': 'SAMME', 'random_state': 2}. Best is trial 4 with value: 0.06464737793851717.\n",
      "[I 2024-02-12 11:20:48,865] Trial 55 finished with value: 0.06600361663652803 and parameters: {'n_estimators': 498, 'learning_rate': 2.666165675199288, 'algorithm': 'SAMME', 'random_state': 1}. Best is trial 4 with value: 0.06464737793851717.\n",
      "[I 2024-02-12 11:20:48,940] Trial 56 finished with value: 0.06871609403254973 and parameters: {'n_estimators': 173, 'learning_rate': 2.8174760122827034, 'algorithm': 'SAMME', 'random_state': 3}. Best is trial 4 with value: 0.06464737793851717.\n",
      "[I 2024-02-12 11:20:49,014] Trial 57 finished with value: 0.06464737793851717 and parameters: {'n_estimators': 100, 'learning_rate': 2.759918620404016, 'algorithm': 'SAMME.R', 'random_state': 2}. Best is trial 4 with value: 0.06464737793851717.\n",
      "[I 2024-02-12 11:20:49,081] Trial 58 finished with value: 0.06464737793851717 and parameters: {'n_estimators': 477, 'learning_rate': 2.6031207890134525, 'algorithm': 'SAMME', 'random_state': 2}. Best is trial 4 with value: 0.06464737793851717.\n",
      "[I 2024-02-12 11:20:49,149] Trial 59 finished with value: 0.06871609403254973 and parameters: {'n_estimators': 81, 'learning_rate': 2.510200407366609, 'algorithm': 'SAMME', 'random_state': 3}. Best is trial 4 with value: 0.06464737793851717.\n",
      "[I 2024-02-12 11:20:49,209] Trial 60 finished with value: 0.06464737793851717 and parameters: {'n_estimators': 424, 'learning_rate': 2.97305678215002, 'algorithm': 'SAMME', 'random_state': 2}. Best is trial 4 with value: 0.06464737793851717.\n",
      "[I 2024-02-12 11:20:49,281] Trial 61 finished with value: 0.06464737793851717 and parameters: {'n_estimators': 487, 'learning_rate': 2.989677121699454, 'algorithm': 'SAMME', 'random_state': 2}. Best is trial 4 with value: 0.06464737793851717.\n",
      "[I 2024-02-12 11:20:49,343] Trial 62 finished with value: 0.06464737793851717 and parameters: {'n_estimators': 449, 'learning_rate': 2.8578060577026174, 'algorithm': 'SAMME', 'random_state': 2}. Best is trial 4 with value: 0.06464737793851717.\n",
      "[I 2024-02-12 11:20:49,403] Trial 63 finished with value: 0.06464737793851717 and parameters: {'n_estimators': 499, 'learning_rate': 2.9200197526678804, 'algorithm': 'SAMME', 'random_state': 2}. Best is trial 4 with value: 0.06464737793851717.\n",
      "[I 2024-02-12 11:20:49,463] Trial 64 finished with value: 0.06600361663652803 and parameters: {'n_estimators': 465, 'learning_rate': 2.802306674728659, 'algorithm': 'SAMME', 'random_state': 1}. Best is trial 4 with value: 0.06464737793851717.\n",
      "[I 2024-02-12 11:20:49,533] Trial 65 finished with value: 0.06464737793851717 and parameters: {'n_estimators': 443, 'learning_rate': 2.710841438411848, 'algorithm': 'SAMME', 'random_state': 2}. Best is trial 4 with value: 0.06464737793851717.\n",
      "[I 2024-02-12 11:20:49,593] Trial 66 finished with value: 0.06645569620253164 and parameters: {'n_estimators': 468, 'learning_rate': 1.6568463645375089, 'algorithm': 'SAMME', 'random_state': 5}. Best is trial 4 with value: 0.06464737793851717.\n",
      "[I 2024-02-12 11:20:49,658] Trial 67 finished with value: 0.06464737793851717 and parameters: {'n_estimators': 394, 'learning_rate': 2.9310253773169967, 'algorithm': 'SAMME.R', 'random_state': 2}. Best is trial 4 with value: 0.06464737793851717.\n",
      "[I 2024-02-12 11:20:49,730] Trial 68 finished with value: 0.06871609403254973 and parameters: {'n_estimators': 483, 'learning_rate': 2.3358619176772555, 'algorithm': 'SAMME', 'random_state': 3}. Best is trial 4 with value: 0.06464737793851717.\n",
      "[I 2024-02-12 11:20:49,798] Trial 69 finished with value: 0.06600361663652803 and parameters: {'n_estimators': 415, 'learning_rate': 2.755748689080087, 'algorithm': 'SAMME', 'random_state': 1}. Best is trial 4 with value: 0.06464737793851717.\n",
      "[I 2024-02-12 11:20:49,866] Trial 70 finished with value: 0.06464737793851717 and parameters: {'n_estimators': 207, 'learning_rate': 2.861305886976462, 'algorithm': 'SAMME', 'random_state': 2}. Best is trial 4 with value: 0.06464737793851717.\n",
      "[I 2024-02-12 11:20:49,923] Trial 71 finished with value: 0.06464737793851717 and parameters: {'n_estimators': 436, 'learning_rate': 2.956053094891816, 'algorithm': 'SAMME', 'random_state': 2}. Best is trial 4 with value: 0.06464737793851717.\n",
      "[I 2024-02-12 11:20:49,996] Trial 72 finished with value: 0.06464737793851717 and parameters: {'n_estimators': 455, 'learning_rate': 2.999965834475344, 'algorithm': 'SAMME', 'random_state': 2}. Best is trial 4 with value: 0.06464737793851717.\n",
      "[I 2024-02-12 11:20:50,062] Trial 73 finished with value: 0.06464737793851717 and parameters: {'n_estimators': 290, 'learning_rate': 2.638251378108427, 'algorithm': 'SAMME', 'random_state': 2}. Best is trial 4 with value: 0.06464737793851717.\n",
      "[I 2024-02-12 11:20:50,126] Trial 74 finished with value: 0.06464737793851717 and parameters: {'n_estimators': 425, 'learning_rate': 2.865878893518701, 'algorithm': 'SAMME', 'random_state': 2}. Best is trial 4 with value: 0.06464737793851717.\n",
      "[I 2024-02-12 11:20:50,195] Trial 75 finished with value: 0.06600361663652803 and parameters: {'n_estimators': 329, 'learning_rate': 2.776145966619553, 'algorithm': 'SAMME', 'random_state': 1}. Best is trial 4 with value: 0.06464737793851717.\n",
      "[I 2024-02-12 11:20:50,255] Trial 76 finished with value: 0.06464737793851717 and parameters: {'n_estimators': 464, 'learning_rate': 2.232244613580476, 'algorithm': 'SAMME.R', 'random_state': 2}. Best is trial 4 with value: 0.06464737793851717.\n",
      "[I 2024-02-12 11:20:50,323] Trial 77 finished with value: 0.06871609403254973 and parameters: {'n_estimators': 64, 'learning_rate': 1.4907763940949188, 'algorithm': 'SAMME', 'random_state': 3}. Best is trial 4 with value: 0.06464737793851717.\n",
      "[I 2024-02-12 11:20:50,383] Trial 78 finished with value: 0.06464737793851717 and parameters: {'n_estimators': 490, 'learning_rate': 1.8366823893040993, 'algorithm': 'SAMME', 'random_state': 2}. Best is trial 4 with value: 0.06464737793851717.\n",
      "[I 2024-02-12 11:20:50,443] Trial 79 finished with value: 0.06464737793851717 and parameters: {'n_estimators': 367, 'learning_rate': 2.4546914193266685, 'algorithm': 'SAMME', 'random_state': 2}. Best is trial 4 with value: 0.06464737793851717.\n",
      "[I 2024-02-12 11:20:50,513] Trial 80 finished with value: 0.06871609403254973 and parameters: {'n_estimators': 397, 'learning_rate': 2.5461498044157436, 'algorithm': 'SAMME', 'random_state': 3}. Best is trial 4 with value: 0.06464737793851717.\n",
      "[I 2024-02-12 11:20:50,573] Trial 81 finished with value: 0.06464737793851717 and parameters: {'n_estimators': 384, 'learning_rate': 2.8319023774314993, 'algorithm': 'SAMME', 'random_state': 2}. Best is trial 4 with value: 0.06464737793851717.\n",
      "[I 2024-02-12 11:20:50,643] Trial 82 finished with value: 0.06464737793851717 and parameters: {'n_estimators': 410, 'learning_rate': 2.9206884758067115, 'algorithm': 'SAMME', 'random_state': 2}. Best is trial 4 with value: 0.06464737793851717.\n",
      "[I 2024-02-12 11:20:50,711] Trial 83 finished with value: 0.06464737793851717 and parameters: {'n_estimators': 473, 'learning_rate': 2.806230877185639, 'algorithm': 'SAMME', 'random_state': 2}. Best is trial 4 with value: 0.06464737793851717.\n",
      "[I 2024-02-12 11:20:50,798] Trial 84 finished with value: 0.06464737793851717 and parameters: {'n_estimators': 433, 'learning_rate': 2.7114101608957486, 'algorithm': 'SAMME', 'random_state': 2}. Best is trial 4 with value: 0.06464737793851717.\n",
      "[I 2024-02-12 11:20:50,885] Trial 85 finished with value: 0.06600361663652803 and parameters: {'n_estimators': 106, 'learning_rate': 2.9998389444972426, 'algorithm': 'SAMME', 'random_state': 1}. Best is trial 4 with value: 0.06464737793851717.\n",
      "[I 2024-02-12 11:20:50,998] Trial 86 finished with value: 0.06464737793851717 and parameters: {'n_estimators': 348, 'learning_rate': 2.877770334298353, 'algorithm': 'SAMME', 'random_state': 2}. Best is trial 4 with value: 0.06464737793851717.\n",
      "[I 2024-02-12 11:20:51,133] Trial 87 finished with value: 0.06464737793851717 and parameters: {'n_estimators': 454, 'learning_rate': 2.9392458409293734, 'algorithm': 'SAMME', 'random_state': 2}. Best is trial 4 with value: 0.06464737793851717.\n",
      "[I 2024-02-12 11:20:51,238] Trial 88 finished with value: 0.06464737793851717 and parameters: {'n_estimators': 131, 'learning_rate': 2.0292449131917607, 'algorithm': 'SAMME.R', 'random_state': 2}. Best is trial 4 with value: 0.06464737793851717.\n",
      "[I 2024-02-12 11:20:51,343] Trial 89 finished with value: 0.06600361663652803 and parameters: {'n_estimators': 83, 'learning_rate': 2.655332251215453, 'algorithm': 'SAMME', 'random_state': 1}. Best is trial 4 with value: 0.06464737793851717.\n",
      "[I 2024-02-12 11:20:51,486] Trial 90 finished with value: 0.06464737793851717 and parameters: {'n_estimators': 261, 'learning_rate': 2.601212654479902, 'algorithm': 'SAMME', 'random_state': 2}. Best is trial 4 with value: 0.06464737793851717.\n",
      "[I 2024-02-12 11:20:51,746] Trial 91 finished with value: 0.06464737793851717 and parameters: {'n_estimators': 321, 'learning_rate': 2.7373950667360933, 'algorithm': 'SAMME', 'random_state': 2}. Best is trial 4 with value: 0.06464737793851717.\n",
      "[I 2024-02-12 11:20:51,848] Trial 92 finished with value: 0.06464737793851717 and parameters: {'n_estimators': 361, 'learning_rate': 2.801982905107332, 'algorithm': 'SAMME', 'random_state': 2}. Best is trial 4 with value: 0.06464737793851717.\n",
      "[I 2024-02-12 11:20:51,949] Trial 93 finished with value: 0.06464737793851717 and parameters: {'n_estimators': 299, 'learning_rate': 2.8914955028810603, 'algorithm': 'SAMME', 'random_state': 2}. Best is trial 4 with value: 0.06464737793851717.\n",
      "[I 2024-02-12 11:20:52,114] Trial 94 finished with value: 0.06464737793851717 and parameters: {'n_estimators': 307, 'learning_rate': 2.958584007832048, 'algorithm': 'SAMME', 'random_state': 2}. Best is trial 4 with value: 0.06464737793851717.\n",
      "[I 2024-02-12 11:20:52,216] Trial 95 finished with value: 0.06871609403254973 and parameters: {'n_estimators': 334, 'learning_rate': 2.846369568091718, 'algorithm': 'SAMME', 'random_state': 3}. Best is trial 4 with value: 0.06464737793851717.\n",
      "[I 2024-02-12 11:20:52,336] Trial 96 finished with value: 0.06464737793851717 and parameters: {'n_estimators': 442, 'learning_rate': 2.773973808713196, 'algorithm': 'SAMME', 'random_state': 2}. Best is trial 4 with value: 0.06464737793851717.\n",
      "[I 2024-02-12 11:20:52,490] Trial 97 finished with value: 0.06464737793851717 and parameters: {'n_estimators': 415, 'learning_rate': 2.6882762385314325, 'algorithm': 'SAMME', 'random_state': 2}. Best is trial 4 with value: 0.06464737793851717.\n",
      "[I 2024-02-12 11:20:52,594] Trial 98 finished with value: 0.06464737793851717 and parameters: {'n_estimators': 385, 'learning_rate': 2.9526734147836042, 'algorithm': 'SAMME', 'random_state': 2}. Best is trial 4 with value: 0.06464737793851717.\n",
      "[I 2024-02-12 11:20:52,684] Trial 99 finished with value: 0.06464737793851717 and parameters: {'n_estimators': 492, 'learning_rate': 2.9062602008458858, 'algorithm': 'SAMME', 'random_state': 2}. Best is trial 4 with value: 0.06464737793851717.\n"
     ]
    },
    {
     "name": "stdout",
     "output_type": "stream",
     "text": [
      "Number of finished trials: 100\n",
      "Best trial: {'n_estimators': 74, 'learning_rate': 2.493604876056324, 'algorithm': 'SAMME', 'random_state': 2}\n"
     ]
    }
   ],
   "source": [
    "\n",
    "study_Ada.optimize(objective_Ada, n_trials=100) # 150 bar \"objective\" object ke trial kore kore dekhbe, here total 5*100=750\n",
    "print('Number of finished trials:', len(study_Ada.trials))\n",
    "print('Best trial:', study_Ada.best_trial.params)"
   ]
  },
  {
   "cell_type": "code",
   "execution_count": 112,
   "metadata": {},
   "outputs": [],
   "source": [
    "# import pickle\n",
    "# model_tuned=AdaBoostClassifier(**study_Ada.best_trial.params)\n",
    "# pickle.dump(model_tuned, open(\"all_pkl_file/all_tuned_model/PCA_Ada.pkl\", \"wb\"))"
   ]
  },
  {
   "cell_type": "code",
   "execution_count": 113,
   "metadata": {},
   "outputs": [
    {
     "data": {
      "application/vnd.plotly.v1+json": {
       "config": {
        "plotlyServerURL": "https://plot.ly"
       },
       "data": [
        {
         "dimensions": [
          {
           "label": "Objective Value",
           "range": [
            0.06464737793851717,
            0.06871609403254973
           ],
           "values": [
            0.06871609403254973,
            0.06600361663652803,
            0.06871609403254973,
            0.06645569620253164,
            0.06464737793851717,
            0.06600361663652803,
            0.06600361663652803,
            0.06600361663652803,
            0.06600361663652803,
            0.06826401446654612,
            0.06464737793851717,
            0.06464737793851717,
            0.06464737793851717,
            0.06871609403254973,
            0.06464737793851717,
            0.06826401446654612,
            0.06600361663652803,
            0.06464737793851717,
            0.06826401446654612,
            0.06871609403254973,
            0.06645569620253164,
            0.06464737793851717,
            0.06464737793851717,
            0.06600361663652803,
            0.06464737793851717,
            0.06871609403254973,
            0.06600361663652803,
            0.06464737793851717,
            0.06600361663652803,
            0.06871609403254973,
            0.06826401446654612,
            0.06464737793851717,
            0.06464737793851717,
            0.06600361663652803,
            0.06871609403254973,
            0.06464737793851717,
            0.06600361663652803,
            0.06871609403254973,
            0.06600361663652803,
            0.06464737793851717,
            0.06600361663652803,
            0.06464737793851717,
            0.06464737793851717,
            0.06464737793851717,
            0.06871609403254973,
            0.06464737793851717,
            0.06871609403254973,
            0.06600361663652803,
            0.06464737793851717,
            0.06464737793851717,
            0.06600361663652803,
            0.06464737793851717,
            0.06464737793851717,
            0.06871609403254973,
            0.06464737793851717,
            0.06600361663652803,
            0.06871609403254973,
            0.06464737793851717,
            0.06464737793851717,
            0.06871609403254973,
            0.06464737793851717,
            0.06464737793851717,
            0.06464737793851717,
            0.06464737793851717,
            0.06600361663652803,
            0.06464737793851717,
            0.06645569620253164,
            0.06464737793851717,
            0.06871609403254973,
            0.06600361663652803,
            0.06464737793851717,
            0.06464737793851717,
            0.06464737793851717,
            0.06464737793851717,
            0.06464737793851717,
            0.06600361663652803,
            0.06464737793851717,
            0.06871609403254973,
            0.06464737793851717,
            0.06464737793851717,
            0.06871609403254973,
            0.06464737793851717,
            0.06464737793851717,
            0.06464737793851717,
            0.06464737793851717,
            0.06600361663652803,
            0.06464737793851717,
            0.06464737793851717,
            0.06464737793851717,
            0.06600361663652803,
            0.06464737793851717,
            0.06464737793851717,
            0.06464737793851717,
            0.06464737793851717,
            0.06464737793851717,
            0.06871609403254973,
            0.06464737793851717,
            0.06464737793851717,
            0.06464737793851717,
            0.06464737793851717
           ]
          },
          {
           "label": "algorithm",
           "range": [
            0,
            1
           ],
           "ticktext": [
            "SAMME.R",
            "SAMME"
           ],
           "tickvals": [
            0,
            1
           ],
           "values": [
            0,
            0,
            1,
            0,
            1,
            0,
            1,
            1,
            1,
            0,
            1,
            1,
            1,
            1,
            1,
            1,
            1,
            1,
            1,
            1,
            1,
            1,
            1,
            1,
            1,
            1,
            0,
            1,
            1,
            0,
            1,
            1,
            1,
            1,
            0,
            1,
            1,
            0,
            1,
            1,
            0,
            1,
            1,
            1,
            1,
            1,
            1,
            1,
            1,
            1,
            1,
            1,
            1,
            1,
            1,
            1,
            1,
            0,
            1,
            1,
            1,
            1,
            1,
            1,
            1,
            1,
            1,
            0,
            1,
            1,
            1,
            1,
            1,
            1,
            1,
            1,
            0,
            1,
            1,
            1,
            1,
            1,
            1,
            1,
            1,
            1,
            1,
            1,
            0,
            1,
            1,
            1,
            1,
            1,
            1,
            1,
            1,
            1,
            1,
            1
           ]
          },
          {
           "label": "learning_rate",
           "range": [
            1.0200115421378118,
            2.999965834475344
           ],
           "values": [
            1.5803231862479403,
            1.132671754920058,
            2.2963660149425595,
            2.3455924827886223,
            2.493604876056324,
            1.1005531637719543,
            2.4811224746939944,
            2.405430526312581,
            1.920186447204293,
            2.9051432157605563,
            2.961400278749186,
            2.9862689865243968,
            2.703840094256408,
            2.69119215785745,
            1.7926584344190082,
            2.7038758234984717,
            2.1044542433931306,
            2.636144804028361,
            2.110701960273544,
            2.9068806364843374,
            2.5375551532595355,
            2.974445361067437,
            2.9984769631575245,
            2.823565718335457,
            2.82248379923702,
            2.230642596738956,
            2.568316872436526,
            2.774279491628282,
            1.5896030543632511,
            2.5404773739663806,
            2.8281350069886253,
            2.676015130056605,
            1.2439616170204708,
            2.984206968447487,
            2.3991733963335173,
            2.750913141312123,
            2.8840119874911267,
            2.468330517625481,
            2.2995780747878087,
            2.639800276033986,
            2.1763993199942724,
            1.8814791704661311,
            1.7243855221332807,
            1.7439299700010265,
            1.3619041463311286,
            1.9626654669861059,
            1.8111460162849442,
            2.888361972039013,
            2.0306300393311454,
            1.5373565290011915,
            2.5961393652884883,
            2.7187046910248798,
            2.4241261452930387,
            2.91955176287287,
            1.0200115421378118,
            2.666165675199288,
            2.8174760122827034,
            2.759918620404016,
            2.6031207890134525,
            2.510200407366609,
            2.97305678215002,
            2.989677121699454,
            2.8578060577026174,
            2.9200197526678804,
            2.802306674728659,
            2.710841438411848,
            1.6568463645375089,
            2.9310253773169967,
            2.3358619176772555,
            2.755748689080087,
            2.861305886976462,
            2.956053094891816,
            2.999965834475344,
            2.638251378108427,
            2.865878893518701,
            2.776145966619553,
            2.232244613580476,
            1.4907763940949188,
            1.8366823893040993,
            2.4546914193266685,
            2.5461498044157436,
            2.8319023774314993,
            2.9206884758067115,
            2.806230877185639,
            2.7114101608957486,
            2.9998389444972426,
            2.877770334298353,
            2.9392458409293734,
            2.0292449131917607,
            2.655332251215453,
            2.601212654479902,
            2.7373950667360933,
            2.801982905107332,
            2.8914955028810603,
            2.958584007832048,
            2.846369568091718,
            2.773973808713196,
            2.6882762385314325,
            2.9526734147836042,
            2.9062602008458858
           ]
          },
          {
           "label": "n_estimators",
           "range": [
            50,
            499
           ],
           "values": [
            236,
            50,
            316,
            183,
            74,
            140,
            182,
            56,
            179,
            255,
            444,
            449,
            491,
            381,
            347,
            413,
            303,
            100,
            455,
            381,
            224,
            498,
            435,
            462,
            393,
            352,
            431,
            309,
            117,
            279,
            233,
            496,
            468,
            479,
            424,
            353,
            455,
            404,
            78,
            151,
            205,
            339,
            435,
            478,
            279,
            366,
            321,
            445,
            407,
            380,
            258,
            98,
            51,
            70,
            133,
            498,
            173,
            100,
            477,
            81,
            424,
            487,
            449,
            499,
            465,
            443,
            468,
            394,
            483,
            415,
            207,
            436,
            455,
            290,
            425,
            329,
            464,
            64,
            490,
            367,
            397,
            384,
            410,
            473,
            433,
            106,
            348,
            454,
            131,
            83,
            261,
            321,
            361,
            299,
            307,
            334,
            442,
            415,
            385,
            492
           ]
          },
          {
           "label": "random_state",
           "range": [
            0,
            5
           ],
           "values": [
            3,
            1,
            3,
            5,
            2,
            1,
            0,
            1,
            1,
            4,
            2,
            2,
            2,
            3,
            2,
            4,
            0,
            2,
            4,
            3,
            5,
            2,
            2,
            1,
            2,
            3,
            1,
            2,
            0,
            3,
            4,
            2,
            2,
            1,
            3,
            2,
            1,
            3,
            1,
            2,
            1,
            2,
            2,
            2,
            3,
            2,
            3,
            1,
            2,
            2,
            1,
            2,
            2,
            3,
            2,
            1,
            3,
            2,
            2,
            3,
            2,
            2,
            2,
            2,
            1,
            2,
            5,
            2,
            3,
            1,
            2,
            2,
            2,
            2,
            2,
            1,
            2,
            3,
            2,
            2,
            3,
            2,
            2,
            2,
            2,
            1,
            2,
            2,
            2,
            1,
            2,
            2,
            2,
            2,
            2,
            3,
            2,
            2,
            2,
            2
           ]
          }
         ],
         "labelangle": 30,
         "labelside": "bottom",
         "line": {
          "color": [
           0.06871609403254973,
           0.06600361663652803,
           0.06871609403254973,
           0.06645569620253164,
           0.06464737793851717,
           0.06600361663652803,
           0.06600361663652803,
           0.06600361663652803,
           0.06600361663652803,
           0.06826401446654612,
           0.06464737793851717,
           0.06464737793851717,
           0.06464737793851717,
           0.06871609403254973,
           0.06464737793851717,
           0.06826401446654612,
           0.06600361663652803,
           0.06464737793851717,
           0.06826401446654612,
           0.06871609403254973,
           0.06645569620253164,
           0.06464737793851717,
           0.06464737793851717,
           0.06600361663652803,
           0.06464737793851717,
           0.06871609403254973,
           0.06600361663652803,
           0.06464737793851717,
           0.06600361663652803,
           0.06871609403254973,
           0.06826401446654612,
           0.06464737793851717,
           0.06464737793851717,
           0.06600361663652803,
           0.06871609403254973,
           0.06464737793851717,
           0.06600361663652803,
           0.06871609403254973,
           0.06600361663652803,
           0.06464737793851717,
           0.06600361663652803,
           0.06464737793851717,
           0.06464737793851717,
           0.06464737793851717,
           0.06871609403254973,
           0.06464737793851717,
           0.06871609403254973,
           0.06600361663652803,
           0.06464737793851717,
           0.06464737793851717,
           0.06600361663652803,
           0.06464737793851717,
           0.06464737793851717,
           0.06871609403254973,
           0.06464737793851717,
           0.06600361663652803,
           0.06871609403254973,
           0.06464737793851717,
           0.06464737793851717,
           0.06871609403254973,
           0.06464737793851717,
           0.06464737793851717,
           0.06464737793851717,
           0.06464737793851717,
           0.06600361663652803,
           0.06464737793851717,
           0.06645569620253164,
           0.06464737793851717,
           0.06871609403254973,
           0.06600361663652803,
           0.06464737793851717,
           0.06464737793851717,
           0.06464737793851717,
           0.06464737793851717,
           0.06464737793851717,
           0.06600361663652803,
           0.06464737793851717,
           0.06871609403254973,
           0.06464737793851717,
           0.06464737793851717,
           0.06871609403254973,
           0.06464737793851717,
           0.06464737793851717,
           0.06464737793851717,
           0.06464737793851717,
           0.06600361663652803,
           0.06464737793851717,
           0.06464737793851717,
           0.06464737793851717,
           0.06600361663652803,
           0.06464737793851717,
           0.06464737793851717,
           0.06464737793851717,
           0.06464737793851717,
           0.06464737793851717,
           0.06871609403254973,
           0.06464737793851717,
           0.06464737793851717,
           0.06464737793851717,
           0.06464737793851717
          ],
          "colorbar": {
           "title": {
            "text": "Objective Value"
           }
          },
          "colorscale": [
           [
            0,
            "rgb(247,251,255)"
           ],
           [
            0.125,
            "rgb(222,235,247)"
           ],
           [
            0.25,
            "rgb(198,219,239)"
           ],
           [
            0.375,
            "rgb(158,202,225)"
           ],
           [
            0.5,
            "rgb(107,174,214)"
           ],
           [
            0.625,
            "rgb(66,146,198)"
           ],
           [
            0.75,
            "rgb(33,113,181)"
           ],
           [
            0.875,
            "rgb(8,81,156)"
           ],
           [
            1,
            "rgb(8,48,107)"
           ]
          ],
          "reversescale": true,
          "showscale": true
         },
         "type": "parcoords"
        }
       ],
       "layout": {
        "template": {
         "data": {
          "bar": [
           {
            "error_x": {
             "color": "#2a3f5f"
            },
            "error_y": {
             "color": "#2a3f5f"
            },
            "marker": {
             "line": {
              "color": "#E5ECF6",
              "width": 0.5
             },
             "pattern": {
              "fillmode": "overlay",
              "size": 10,
              "solidity": 0.2
             }
            },
            "type": "bar"
           }
          ],
          "barpolar": [
           {
            "marker": {
             "line": {
              "color": "#E5ECF6",
              "width": 0.5
             },
             "pattern": {
              "fillmode": "overlay",
              "size": 10,
              "solidity": 0.2
             }
            },
            "type": "barpolar"
           }
          ],
          "carpet": [
           {
            "aaxis": {
             "endlinecolor": "#2a3f5f",
             "gridcolor": "white",
             "linecolor": "white",
             "minorgridcolor": "white",
             "startlinecolor": "#2a3f5f"
            },
            "baxis": {
             "endlinecolor": "#2a3f5f",
             "gridcolor": "white",
             "linecolor": "white",
             "minorgridcolor": "white",
             "startlinecolor": "#2a3f5f"
            },
            "type": "carpet"
           }
          ],
          "choropleth": [
           {
            "colorbar": {
             "outlinewidth": 0,
             "ticks": ""
            },
            "type": "choropleth"
           }
          ],
          "contour": [
           {
            "colorbar": {
             "outlinewidth": 0,
             "ticks": ""
            },
            "colorscale": [
             [
              0,
              "#0d0887"
             ],
             [
              0.1111111111111111,
              "#46039f"
             ],
             [
              0.2222222222222222,
              "#7201a8"
             ],
             [
              0.3333333333333333,
              "#9c179e"
             ],
             [
              0.4444444444444444,
              "#bd3786"
             ],
             [
              0.5555555555555556,
              "#d8576b"
             ],
             [
              0.6666666666666666,
              "#ed7953"
             ],
             [
              0.7777777777777778,
              "#fb9f3a"
             ],
             [
              0.8888888888888888,
              "#fdca26"
             ],
             [
              1,
              "#f0f921"
             ]
            ],
            "type": "contour"
           }
          ],
          "contourcarpet": [
           {
            "colorbar": {
             "outlinewidth": 0,
             "ticks": ""
            },
            "type": "contourcarpet"
           }
          ],
          "heatmap": [
           {
            "colorbar": {
             "outlinewidth": 0,
             "ticks": ""
            },
            "colorscale": [
             [
              0,
              "#0d0887"
             ],
             [
              0.1111111111111111,
              "#46039f"
             ],
             [
              0.2222222222222222,
              "#7201a8"
             ],
             [
              0.3333333333333333,
              "#9c179e"
             ],
             [
              0.4444444444444444,
              "#bd3786"
             ],
             [
              0.5555555555555556,
              "#d8576b"
             ],
             [
              0.6666666666666666,
              "#ed7953"
             ],
             [
              0.7777777777777778,
              "#fb9f3a"
             ],
             [
              0.8888888888888888,
              "#fdca26"
             ],
             [
              1,
              "#f0f921"
             ]
            ],
            "type": "heatmap"
           }
          ],
          "heatmapgl": [
           {
            "colorbar": {
             "outlinewidth": 0,
             "ticks": ""
            },
            "colorscale": [
             [
              0,
              "#0d0887"
             ],
             [
              0.1111111111111111,
              "#46039f"
             ],
             [
              0.2222222222222222,
              "#7201a8"
             ],
             [
              0.3333333333333333,
              "#9c179e"
             ],
             [
              0.4444444444444444,
              "#bd3786"
             ],
             [
              0.5555555555555556,
              "#d8576b"
             ],
             [
              0.6666666666666666,
              "#ed7953"
             ],
             [
              0.7777777777777778,
              "#fb9f3a"
             ],
             [
              0.8888888888888888,
              "#fdca26"
             ],
             [
              1,
              "#f0f921"
             ]
            ],
            "type": "heatmapgl"
           }
          ],
          "histogram": [
           {
            "marker": {
             "pattern": {
              "fillmode": "overlay",
              "size": 10,
              "solidity": 0.2
             }
            },
            "type": "histogram"
           }
          ],
          "histogram2d": [
           {
            "colorbar": {
             "outlinewidth": 0,
             "ticks": ""
            },
            "colorscale": [
             [
              0,
              "#0d0887"
             ],
             [
              0.1111111111111111,
              "#46039f"
             ],
             [
              0.2222222222222222,
              "#7201a8"
             ],
             [
              0.3333333333333333,
              "#9c179e"
             ],
             [
              0.4444444444444444,
              "#bd3786"
             ],
             [
              0.5555555555555556,
              "#d8576b"
             ],
             [
              0.6666666666666666,
              "#ed7953"
             ],
             [
              0.7777777777777778,
              "#fb9f3a"
             ],
             [
              0.8888888888888888,
              "#fdca26"
             ],
             [
              1,
              "#f0f921"
             ]
            ],
            "type": "histogram2d"
           }
          ],
          "histogram2dcontour": [
           {
            "colorbar": {
             "outlinewidth": 0,
             "ticks": ""
            },
            "colorscale": [
             [
              0,
              "#0d0887"
             ],
             [
              0.1111111111111111,
              "#46039f"
             ],
             [
              0.2222222222222222,
              "#7201a8"
             ],
             [
              0.3333333333333333,
              "#9c179e"
             ],
             [
              0.4444444444444444,
              "#bd3786"
             ],
             [
              0.5555555555555556,
              "#d8576b"
             ],
             [
              0.6666666666666666,
              "#ed7953"
             ],
             [
              0.7777777777777778,
              "#fb9f3a"
             ],
             [
              0.8888888888888888,
              "#fdca26"
             ],
             [
              1,
              "#f0f921"
             ]
            ],
            "type": "histogram2dcontour"
           }
          ],
          "mesh3d": [
           {
            "colorbar": {
             "outlinewidth": 0,
             "ticks": ""
            },
            "type": "mesh3d"
           }
          ],
          "parcoords": [
           {
            "line": {
             "colorbar": {
              "outlinewidth": 0,
              "ticks": ""
             }
            },
            "type": "parcoords"
           }
          ],
          "pie": [
           {
            "automargin": true,
            "type": "pie"
           }
          ],
          "scatter": [
           {
            "fillpattern": {
             "fillmode": "overlay",
             "size": 10,
             "solidity": 0.2
            },
            "type": "scatter"
           }
          ],
          "scatter3d": [
           {
            "line": {
             "colorbar": {
              "outlinewidth": 0,
              "ticks": ""
             }
            },
            "marker": {
             "colorbar": {
              "outlinewidth": 0,
              "ticks": ""
             }
            },
            "type": "scatter3d"
           }
          ],
          "scattercarpet": [
           {
            "marker": {
             "colorbar": {
              "outlinewidth": 0,
              "ticks": ""
             }
            },
            "type": "scattercarpet"
           }
          ],
          "scattergeo": [
           {
            "marker": {
             "colorbar": {
              "outlinewidth": 0,
              "ticks": ""
             }
            },
            "type": "scattergeo"
           }
          ],
          "scattergl": [
           {
            "marker": {
             "colorbar": {
              "outlinewidth": 0,
              "ticks": ""
             }
            },
            "type": "scattergl"
           }
          ],
          "scattermapbox": [
           {
            "marker": {
             "colorbar": {
              "outlinewidth": 0,
              "ticks": ""
             }
            },
            "type": "scattermapbox"
           }
          ],
          "scatterpolar": [
           {
            "marker": {
             "colorbar": {
              "outlinewidth": 0,
              "ticks": ""
             }
            },
            "type": "scatterpolar"
           }
          ],
          "scatterpolargl": [
           {
            "marker": {
             "colorbar": {
              "outlinewidth": 0,
              "ticks": ""
             }
            },
            "type": "scatterpolargl"
           }
          ],
          "scatterternary": [
           {
            "marker": {
             "colorbar": {
              "outlinewidth": 0,
              "ticks": ""
             }
            },
            "type": "scatterternary"
           }
          ],
          "surface": [
           {
            "colorbar": {
             "outlinewidth": 0,
             "ticks": ""
            },
            "colorscale": [
             [
              0,
              "#0d0887"
             ],
             [
              0.1111111111111111,
              "#46039f"
             ],
             [
              0.2222222222222222,
              "#7201a8"
             ],
             [
              0.3333333333333333,
              "#9c179e"
             ],
             [
              0.4444444444444444,
              "#bd3786"
             ],
             [
              0.5555555555555556,
              "#d8576b"
             ],
             [
              0.6666666666666666,
              "#ed7953"
             ],
             [
              0.7777777777777778,
              "#fb9f3a"
             ],
             [
              0.8888888888888888,
              "#fdca26"
             ],
             [
              1,
              "#f0f921"
             ]
            ],
            "type": "surface"
           }
          ],
          "table": [
           {
            "cells": {
             "fill": {
              "color": "#EBF0F8"
             },
             "line": {
              "color": "white"
             }
            },
            "header": {
             "fill": {
              "color": "#C8D4E3"
             },
             "line": {
              "color": "white"
             }
            },
            "type": "table"
           }
          ]
         },
         "layout": {
          "annotationdefaults": {
           "arrowcolor": "#2a3f5f",
           "arrowhead": 0,
           "arrowwidth": 1
          },
          "autotypenumbers": "strict",
          "coloraxis": {
           "colorbar": {
            "outlinewidth": 0,
            "ticks": ""
           }
          },
          "colorscale": {
           "diverging": [
            [
             0,
             "#8e0152"
            ],
            [
             0.1,
             "#c51b7d"
            ],
            [
             0.2,
             "#de77ae"
            ],
            [
             0.3,
             "#f1b6da"
            ],
            [
             0.4,
             "#fde0ef"
            ],
            [
             0.5,
             "#f7f7f7"
            ],
            [
             0.6,
             "#e6f5d0"
            ],
            [
             0.7,
             "#b8e186"
            ],
            [
             0.8,
             "#7fbc41"
            ],
            [
             0.9,
             "#4d9221"
            ],
            [
             1,
             "#276419"
            ]
           ],
           "sequential": [
            [
             0,
             "#0d0887"
            ],
            [
             0.1111111111111111,
             "#46039f"
            ],
            [
             0.2222222222222222,
             "#7201a8"
            ],
            [
             0.3333333333333333,
             "#9c179e"
            ],
            [
             0.4444444444444444,
             "#bd3786"
            ],
            [
             0.5555555555555556,
             "#d8576b"
            ],
            [
             0.6666666666666666,
             "#ed7953"
            ],
            [
             0.7777777777777778,
             "#fb9f3a"
            ],
            [
             0.8888888888888888,
             "#fdca26"
            ],
            [
             1,
             "#f0f921"
            ]
           ],
           "sequentialminus": [
            [
             0,
             "#0d0887"
            ],
            [
             0.1111111111111111,
             "#46039f"
            ],
            [
             0.2222222222222222,
             "#7201a8"
            ],
            [
             0.3333333333333333,
             "#9c179e"
            ],
            [
             0.4444444444444444,
             "#bd3786"
            ],
            [
             0.5555555555555556,
             "#d8576b"
            ],
            [
             0.6666666666666666,
             "#ed7953"
            ],
            [
             0.7777777777777778,
             "#fb9f3a"
            ],
            [
             0.8888888888888888,
             "#fdca26"
            ],
            [
             1,
             "#f0f921"
            ]
           ]
          },
          "colorway": [
           "#636efa",
           "#EF553B",
           "#00cc96",
           "#ab63fa",
           "#FFA15A",
           "#19d3f3",
           "#FF6692",
           "#B6E880",
           "#FF97FF",
           "#FECB52"
          ],
          "font": {
           "color": "#2a3f5f"
          },
          "geo": {
           "bgcolor": "white",
           "lakecolor": "white",
           "landcolor": "#E5ECF6",
           "showlakes": true,
           "showland": true,
           "subunitcolor": "white"
          },
          "hoverlabel": {
           "align": "left"
          },
          "hovermode": "closest",
          "mapbox": {
           "style": "light"
          },
          "paper_bgcolor": "white",
          "plot_bgcolor": "#E5ECF6",
          "polar": {
           "angularaxis": {
            "gridcolor": "white",
            "linecolor": "white",
            "ticks": ""
           },
           "bgcolor": "#E5ECF6",
           "radialaxis": {
            "gridcolor": "white",
            "linecolor": "white",
            "ticks": ""
           }
          },
          "scene": {
           "xaxis": {
            "backgroundcolor": "#E5ECF6",
            "gridcolor": "white",
            "gridwidth": 2,
            "linecolor": "white",
            "showbackground": true,
            "ticks": "",
            "zerolinecolor": "white"
           },
           "yaxis": {
            "backgroundcolor": "#E5ECF6",
            "gridcolor": "white",
            "gridwidth": 2,
            "linecolor": "white",
            "showbackground": true,
            "ticks": "",
            "zerolinecolor": "white"
           },
           "zaxis": {
            "backgroundcolor": "#E5ECF6",
            "gridcolor": "white",
            "gridwidth": 2,
            "linecolor": "white",
            "showbackground": true,
            "ticks": "",
            "zerolinecolor": "white"
           }
          },
          "shapedefaults": {
           "line": {
            "color": "#2a3f5f"
           }
          },
          "ternary": {
           "aaxis": {
            "gridcolor": "white",
            "linecolor": "white",
            "ticks": ""
           },
           "baxis": {
            "gridcolor": "white",
            "linecolor": "white",
            "ticks": ""
           },
           "bgcolor": "#E5ECF6",
           "caxis": {
            "gridcolor": "white",
            "linecolor": "white",
            "ticks": ""
           }
          },
          "title": {
           "x": 0.05
          },
          "xaxis": {
           "automargin": true,
           "gridcolor": "white",
           "linecolor": "white",
           "ticks": "",
           "title": {
            "standoff": 15
           },
           "zerolinecolor": "white",
           "zerolinewidth": 2
          },
          "yaxis": {
           "automargin": true,
           "gridcolor": "white",
           "linecolor": "white",
           "ticks": "",
           "title": {
            "standoff": 15
           },
           "zerolinecolor": "white",
           "zerolinewidth": 2
          }
         }
        },
        "title": {
         "text": "Parallel Coordinate Plot"
        }
       }
      }
     },
     "metadata": {},
     "output_type": "display_data"
    }
   ],
   "source": [
    "from matplotlib import pyplot as plt\n",
    "fig_study = optuna.visualization.plot_parallel_coordinate(study_Ada, params=[\"n_estimators\", \"learning_rate\",\"algorithm\",\"random_state\"])\n",
    "fig_study.show()"
   ]
  },
  {
   "cell_type": "code",
   "execution_count": 114,
   "metadata": {},
   "outputs": [
    {
     "name": "stdout",
     "output_type": "stream",
     "text": [
      "Number of finished trials:  100\n",
      "Best trial:\n",
      "  Value:  0.06464737793851717\n",
      "  Params: \n",
      "    n_estimators: 74\n",
      "    learning_rate: 2.493604876056324\n",
      "    algorithm: SAMME\n",
      "    random_state: 2\n"
     ]
    }
   ],
   "source": [
    "#evaluate the trial\n",
    "print(\"Number of finished trials: \", len(study_Ada.trials))\n",
    "print(\"Best trial:\")\n",
    "trial = study_Ada.best_trial\n",
    "print(\"  Value: \", trial.value)\n",
    "print(\"  Params: \")\n",
    "for key, value in trial.params.items():\n",
    "    print(\"    {}: {}\".format(key, value))"
   ]
  },
  {
   "cell_type": "markdown",
   "metadata": {},
   "source": [
    "# fit AdaBoost classifier"
   ]
  },
  {
   "cell_type": "code",
   "execution_count": 115,
   "metadata": {},
   "outputs": [],
   "source": [
    "\n",
    "K = 5 # 5 fold cross validation\n",
    "skf = StratifiedKFold(n_splits = K, random_state = 42, shuffle = True)"
   ]
  },
  {
   "cell_type": "code",
   "execution_count": 116,
   "metadata": {},
   "outputs": [
    {
     "name": "stderr",
     "output_type": "stream",
     "text": [
      "100%|██████████| 5/5 [00:00<00:00, 120.99it/s]"
     ]
    },
    {
     "name": "stdout",
     "output_type": "stream",
     "text": [
      "0.08397932816537468\n"
     ]
    },
    {
     "name": "stderr",
     "output_type": "stream",
     "text": [
      "\n"
     ]
    }
   ],
   "source": [
    "# Let us make predictions for each of the 5 models and find mean \n",
    "# of those predictions\n",
    "\n",
    "from tqdm import tqdm\n",
    "train_Ada = np.array(compressed_dataset_X_train)\n",
    "target_train_Ada = np.array(y_train)\n",
    "\n",
    "test_Ada = np.array(compressed_dataset_X_test) # or test_Ada = np.array(X)\n",
    "\n",
    "\n",
    "test_preds_Ada = np.zeros((len(test_Ada)))\n",
    "oof_preds_Ada = np.zeros((len(train_Ada)))\n",
    "\n",
    "for train_index, val_index in tqdm(skf.split(compressed_dataset_X_train,y_train), total=5):\n",
    "    train_X, valid_X = train_Ada[train_index], train_Ada[val_index]\n",
    "    train_y, valid_y = target_train_Ada[train_index], target_train_Ada[val_index]\n",
    "    ada_params = study_Ada.best_trial.params\n",
    "    model_Ada_2 = AdaBoostClassifier(**ada_params,estimator=model_dt)\n",
    "    model_Ada_2.fit(train_X, train_y)\n",
    "    # for train accuracy\n",
    "    preds = model_Ada_2.predict(valid_X)\n",
    "    oof_preds_Ada[val_index] = preds\n",
    "    # for test accuracy\n",
    "    preds = model_Ada_2.predict(test_Ada)\n",
    "    test_preds_Ada += (preds)/5\n",
    "print(np.abs(oof_preds_Ada-target_train_Ada).mean())"
   ]
  },
  {
   "cell_type": "code",
   "execution_count": 117,
   "metadata": {},
   "outputs": [
    {
     "name": "stdout",
     "output_type": "stream",
     "text": [
      "0.9263565891472868\n"
     ]
    }
   ],
   "source": [
    "from sklearn.metrics import accuracy_score\n",
    "valid_Acc_Ada=accuracy_score(target_train_Ada,oof_preds_Ada)\n",
    "print(valid_Acc_Ada)"
   ]
  },
  {
   "cell_type": "code",
   "execution_count": 118,
   "metadata": {},
   "outputs": [
    {
     "name": "stdout",
     "output_type": "stream",
     "text": [
      "0.9857881136950905\n"
     ]
    }
   ],
   "source": [
    "train_Acc_Ada=model_Ada_2.score(compressed_dataset_X_train,y_train)\n",
    "print(train_Acc_Ada)"
   ]
  },
  {
   "cell_type": "code",
   "execution_count": 119,
   "metadata": {},
   "outputs": [
    {
     "name": "stdout",
     "output_type": "stream",
     "text": [
      "0.9367469879518072\n"
     ]
    }
   ],
   "source": [
    "test_Acc_Ada=model_Ada_2.score(compressed_dataset_X_test,y_test)\n",
    "print(test_Acc_Ada)"
   ]
  },
  {
   "cell_type": "markdown",
   "metadata": {},
   "source": [
    "# Evaluation"
   ]
  },
  {
   "cell_type": "code",
   "execution_count": 120,
   "metadata": {},
   "outputs": [
    {
     "data": {
      "text/plain": [
       "array([2., 1., 0., 1., 1., 1., 1., 0., 0., 1., 0., 0., 2., 1., 1., 1., 0.,\n",
       "       1., 0., 0., 2., 1., 2., 1., 0., 0., 1., 2., 0., 1., 0., 0., 0., 1.,\n",
       "       0., 0., 1., 2., 1., 2., 1., 0., 2., 1., 1., 0., 1., 0., 2., 2., 1.,\n",
       "       1., 0., 1., 2., 1., 0., 2., 0., 0., 0., 0., 0., 1., 0., 1., 1., 0.,\n",
       "       0., 2., 0., 1., 2., 2., 0., 0., 0., 0., 0., 2., 0., 1., 0., 0., 0.,\n",
       "       1., 1., 0., 1., 2., 0., 2., 1., 1., 1., 0., 0., 2., 1., 1., 1., 2.,\n",
       "       1., 0., 1., 2., 2., 1., 1., 1., 2., 1., 1., 1., 0., 0., 1., 2., 0.,\n",
       "       1., 0., 0., 0., 0., 0., 2., 0., 1., 0., 0., 0., 2., 0., 0., 1., 2.,\n",
       "       1., 1., 2., 0., 0., 2., 1., 0., 0., 1., 0., 1., 1., 0., 1., 1., 1.,\n",
       "       1., 2., 0., 2., 0., 0., 1., 0., 0., 1., 0., 1., 1., 2., 0., 0., 1.,\n",
       "       2., 1., 0., 1., 0., 1., 2., 1., 2., 0., 0., 0., 2., 0., 2., 0., 0.,\n",
       "       0., 1., 1., 2., 0., 2., 0., 2., 0., 0., 0., 2., 2., 1., 0., 1., 0.,\n",
       "       2., 1., 0., 0., 1., 1., 0., 1., 1., 1., 1., 0., 1., 1., 0., 2., 2.,\n",
       "       2., 1., 1., 0., 1., 2., 1., 0., 0., 1., 1., 1., 1., 1., 2., 0., 1.,\n",
       "       2., 1., 1., 2., 0., 0., 0., 2., 1., 0., 0., 1., 1., 1., 1., 1., 0.,\n",
       "       0., 2., 2., 0., 1., 2., 0., 1., 1., 1., 0., 2., 0., 1., 1., 0., 1.,\n",
       "       0., 2., 0., 1., 1., 2., 0., 0., 0., 0., 0., 2., 0., 0., 1., 0., 0.,\n",
       "       1., 1., 1., 0., 0., 0., 0., 0., 0., 1., 2., 0., 0., 0., 0., 0., 1.,\n",
       "       0., 0., 0., 0., 1., 2., 1., 0., 0., 2., 2., 0., 2., 1., 0., 1., 2.,\n",
       "       2., 1., 2., 0., 1., 2., 1., 0., 2., 1., 1., 0., 2., 2., 1., 1., 1.,\n",
       "       1., 1., 0., 0., 0., 1., 0., 0., 2., 1., 2., 2., 0., 1., 1., 2., 0.,\n",
       "       0., 2., 0., 2., 0., 0., 0., 0., 2., 0., 2., 0., 0., 0., 0., 1., 1.,\n",
       "       2., 1., 2., 0., 1., 2., 0., 0., 0., 1., 1., 1., 0., 0., 2., 2., 0.,\n",
       "       0., 0., 0., 1., 0., 0., 0., 1., 1., 1., 2., 1., 1., 2., 2., 2., 0.,\n",
       "       0., 2., 2., 2., 2., 1., 1., 1., 1., 1., 1., 1., 0., 1., 1., 1., 0.,\n",
       "       2., 0., 0., 2., 0., 1., 2., 0., 0., 0., 1., 0., 0., 0., 0., 1., 0.,\n",
       "       0., 1., 1., 1., 2., 2., 2., 1., 1., 1., 2., 0., 0., 1., 0., 1., 0.,\n",
       "       0., 2., 2., 0., 1., 0., 0., 1., 0., 2., 0., 1., 2., 1., 0., 0., 1.,\n",
       "       1., 0., 0., 0., 0., 0., 1., 1., 1., 1., 1., 1., 1., 1., 1., 0., 0.,\n",
       "       0., 2., 0., 2., 0., 0., 0., 1., 2., 1., 0., 1., 1., 0., 0., 1., 2.,\n",
       "       2., 2., 0., 1., 0., 0., 1., 2., 0., 2., 2., 0., 0., 0., 1., 0., 1.,\n",
       "       2., 1., 2., 1., 1., 1., 2., 0., 1., 1., 0., 0., 0., 0., 0., 0., 0.,\n",
       "       0., 2., 2., 0., 1., 2., 2., 1., 1., 1., 1., 0., 2., 1., 1., 0., 0.,\n",
       "       0., 1., 0., 0., 0., 0., 0., 0., 0., 0., 1., 0., 0., 1., 1., 1., 0.,\n",
       "       1., 1., 0., 0., 2., 0., 1., 2., 1., 0., 0., 1., 0., 0., 0., 1., 1.,\n",
       "       1., 0., 0., 2., 0., 1., 2., 0., 1., 2., 1., 0., 0., 1., 0., 2., 0.,\n",
       "       1., 1., 1., 1., 0., 0., 0., 1., 0., 1., 0., 1., 1., 2., 0., 1., 2.,\n",
       "       1., 1., 1., 1., 2., 0., 0., 2., 0., 2., 1., 1., 2., 0., 2., 0., 0.,\n",
       "       1., 1., 0., 1., 1., 1., 0., 0., 1., 0., 2., 1., 2., 1., 0., 0., 0.,\n",
       "       1.])"
      ]
     },
     "execution_count": 120,
     "metadata": {},
     "output_type": "execute_result"
    }
   ],
   "source": [
    "test_preds_Ada.round()"
   ]
  },
  {
   "cell_type": "code",
   "execution_count": 121,
   "metadata": {},
   "outputs": [
    {
     "data": {
      "image/png": "[encoded data removed]",
      "text/plain": [
       "<Figure size 800x600 with 2 Axes>"
      ]
     },
     "metadata": {},
     "output_type": "display_data"
    }
   ],
   "source": [
    "############# plot confusion matrix ############\n",
    "\n",
    "from matplotlib import pyplot as plt\n",
    "from sklearn import metrics\n",
    "\n",
    "cm = metrics.confusion_matrix(y_test, test_preds_Ada.round())\n",
    "# Plot confusion matrix with custom color map\n",
    "\n",
    "plt.figure(figsize=(8, 6))\n",
    "plt.imshow(cm, interpolation='nearest', cmap=plt.cm.PuRd)  # Set cmap to custom color map\n",
    "plt.title('Confusion Matrix')\n",
    "plt.colorbar()\n",
    "\n",
    "# Adding annotations\n",
    "thresh = cm.max() / 2.\n",
    "for i in range(cm.shape[0]):\n",
    "    for j in range(cm.shape[1]):\n",
    "        plt.text(j, i, format(cm[i, j], 'd'), #'d = integer\n",
    "                 horizontalalignment=\"center\",\n",
    "                 color=\"white\" if cm[i, j] > thresh else \"black\")\n",
    "\n",
    "plt.ylabel('True label')\n",
    "plt.xlabel('Predicted label')\n",
    "plt.tight_layout() #improves the layout of plots by preventing overlapping elements such as axis labels, tick labels, and titles\n",
    "plt.show()\n"
   ]
  },
  {
   "cell_type": "code",
   "execution_count": 122,
   "metadata": {},
   "outputs": [],
   "source": [
    "# ############# validaition_curve #####################\n",
    "# from sklearn.model_selection import ValidationCurveDisplay\n",
    "# ValidationCurveDisplay.from_estimator(\n",
    "#    AdaBoostClassifier(**trial.params), compressed_dataset_X, label, param_name=\"n_estimators\", param_range=range(50,500,10)\n",
    "# )\n",
    "# plt.show()"
   ]
  }
 ],
 "metadata": {
  "kernelspec": {
   "display_name": "Python 3",
   "language": "python",
   "name": "python3"
  },
  "language_info": {
   "codemirror_mode": {
    "name": "ipython",
    "version": 3
   },
   "file_extension": ".py",
   "mimetype": "text/x-python",
   "name": "python",
   "nbconvert_exporter": "python",
   "pygments_lexer": "ipython3",
   "version": "3.11.4"
  }
 },
 "nbformat": 4,
 "nbformat_minor": 2
}
