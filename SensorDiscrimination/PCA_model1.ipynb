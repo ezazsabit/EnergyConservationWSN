{
 "cells": [
  {
   "cell_type": "code",
   "execution_count": 64,
   "metadata": {},
   "outputs": [],
   "source": [
    "import pandas as pd\n",
    "import numpy as np\n",
    "from sklearn.preprocessing import StandardScaler\n",
    "from sklearn.decomposition import PCA\n",
    "import seaborn as sns\n",
    "import matplotlib.pyplot as plt\n",
    "import optuna\n",
    "from sklearn.model_selection import train_test_split\n",
    "from sklearn.metrics import roc_auc_score\n",
    "import sklearn\n",
    "import random\n",
    "import warnings\n",
    "warnings.filterwarnings(\"ignore\")\n",
    "from sklearn.metrics import mean_absolute_error"
   ]
  },
  {
   "cell_type": "code",
   "execution_count": 65,
   "metadata": {},
   "outputs": [],
   "source": [
    "import warnings\n",
    "warnings.filterwarnings(\"ignore\")\n",
    "from sklearn.metrics import mean_absolute_error"
   ]
  },
  {
   "cell_type": "code",
   "execution_count": 66,
   "metadata": {},
   "outputs": [
    {
     "name": "stdout",
     "output_type": "stream",
     "text": [
      "            F2        F3        F1       F11        F4        F6       F10  \\\n",
      "339   0.802995  0.927826  0.594123  0.175745  0.584899  0.193595  0.182003   \n",
      "1158  0.259037  0.964334  0.899510  0.317376  0.938966  0.509346  0.967244   \n",
      "1830  0.247701  0.898721  0.702253  0.194149  0.771661  0.411765  0.256212   \n",
      "1452  0.622246  0.644684  0.280705  0.172074  0.555796  0.044283  0.202937   \n",
      "451   0.776898  0.783311  0.564349  0.247163  0.685016  0.082875  0.340550   \n",
      "...        ...       ...       ...       ...       ...       ...       ...   \n",
      "245   0.137861  0.937584  0.916748  0.984929  0.985864  0.734195  0.971197   \n",
      "1705  0.641283  0.933378  0.789814  0.466667  0.877432  0.321056  0.915474   \n",
      "1457  0.657540  0.610532  0.320274  0.179787  0.530517  0.042936  0.201619   \n",
      "1657  0.403636  0.660666  0.653281  0.200709  0.689007  0.122815  0.250941   \n",
      "223   0.426310  0.510767  0.228404  0.180142  0.416930  0.005033  0.178087   \n",
      "\n",
      "            F9        F5      F7      F12      F8  \n",
      "339   0.154900  0.161329  0.3003  0.05493  0.1599  \n",
      "1158  0.506052  0.696078  1.5990  0.91310  0.5750  \n",
      "1830  0.216400  0.241140  0.3674  0.03296  0.2258  \n",
      "1452  0.093909  0.144045  0.1599  5.23300  0.1562  \n",
      "451   0.190668  0.169753  0.2661  5.30800  0.1685  \n",
      "...        ...       ...     ...      ...     ...  \n",
      "245   0.701679  0.606754  0.9851  0.75200  0.3223  \n",
      "1705  0.355564  0.341285  0.6006  5.32800  0.3284  \n",
      "1457  0.113432  0.116122  0.1660  5.19800  0.1123  \n",
      "1657  0.118196  0.128540  0.2844  5.68000  0.2625  \n",
      "223   0.109137  0.044336  0.1086  5.63800  0.1050  \n",
      "\n",
      "[2212 rows x 12 columns]\n",
      "339     0\n",
      "1158    2\n",
      "1830    1\n",
      "1452    0\n",
      "451     0\n",
      "       ..\n",
      "245     0\n",
      "1705    0\n",
      "1457    0\n",
      "1657    0\n",
      "223     0\n",
      "Name: out, Length: 2212, dtype: int64\n"
     ]
    }
   ],
   "source": [
    "filename = 'Dataset/Sensor_Discrimination_normalized.csv'\n",
    "df=pd.read_csv(filename)\n",
    "# shuffle the DataFrame rows\n",
    "df = df.sample(frac = 1) #frac = fraction\n",
    "dataset=df.iloc[:,:-1]\n",
    "label=df.iloc[:,-1]\n",
    "print(dataset)\n",
    "print(label)"
   ]
  },
  {
   "cell_type": "markdown",
   "metadata": {},
   "source": [
    "# PCA implement"
   ]
  },
  {
   "cell_type": "code",
   "execution_count": 67,
   "metadata": {},
   "outputs": [
    {
     "name": "stdout",
     "output_type": "stream",
     "text": [
      "PCA(n_components=6)\n",
      "<class 'numpy.ndarray'>\n",
      "6\n",
      "[[-3.79713075 -0.92039075  0.06824349  0.03824535  0.23325957  0.12357748]\n",
      " [-3.02743211  0.91004451  0.27091498 -0.21075059  0.01847881 -0.18075476]\n",
      " [-3.83007756 -0.56891818 -0.31029451 -0.16771364 -0.0663768   0.08290127]\n",
      " ...\n",
      " [ 1.35402501 -0.91304382  0.2140062   0.10822778 -0.05955368  0.0123765 ]\n",
      " [ 1.82156269 -0.56447424 -0.01400076 -0.08751711 -0.04924772  0.0237216 ]\n",
      " [ 1.80099503 -0.98560002  0.16898436  0.05853036 -0.33323176 -0.02736764]]\n"
     ]
    }
   ],
   "source": [
    "pcaTrain = PCA(n_components=6).fit(dataset)# --train-- pca with the \"dataset\" Dataframe\n",
    "print(pcaTrain)\n",
    "compressed_dataset_X= pcaTrain.transform(dataset) # --transform-- the original \"dataset\" Dataframe into a lower-dimensional space based on the model's learned parameters\n",
    "print(type(compressed_dataset_X))\n",
    "print(len(compressed_dataset_X[0]))\n",
    "print(compressed_dataset_X)"
   ]
  },
  {
   "cell_type": "code",
   "execution_count": 68,
   "metadata": {},
   "outputs": [
    {
     "name": "stdout",
     "output_type": "stream",
     "text": [
      "1327\n"
     ]
    }
   ],
   "source": [
    "dataset_arr=dataset.to_numpy()\n",
    "# from NecessaryModules.splitData import split_data\n",
    "X_train,X_comb, y_train,y_comb = train_test_split(dataset_arr, label, test_size=0.4, random_state=42)\n",
    "print(len(X_train))"
   ]
  },
  {
   "cell_type": "code",
   "execution_count": 69,
   "metadata": {},
   "outputs": [
    {
     "name": "stdout",
     "output_type": "stream",
     "text": [
      "442\n"
     ]
    }
   ],
   "source": [
    "X_valid, X_test, y_valid, y_test = train_test_split(X_comb, y_comb, test_size=0.50, random_state=42)\n",
    "print(len(X_valid))"
   ]
  },
  {
   "cell_type": "code",
   "execution_count": 70,
   "metadata": {},
   "outputs": [
    {
     "name": "stdout",
     "output_type": "stream",
     "text": [
      "<class 'numpy.ndarray'>\n",
      "1327\n",
      "[[ 1.14283459 -0.15621602 -0.27123537 -0.1605309  -0.0246063  -0.00978981]\n",
      " [-3.81989475 -0.9424924  -0.04513249  0.06225578  0.17859383  0.07987313]\n",
      " [-3.02468608 -0.48277801  0.0905979  -0.02039975  0.36373179  0.11062757]\n",
      " ...\n",
      " [ 1.28577178 -0.29587899 -0.23508751 -0.13743094  0.01849441  0.05861232]\n",
      " [-3.25383883 -0.35374925 -0.32799795 -0.22660994 -0.08153252  0.07584645]\n",
      " [ 0.84010606 -0.90684502  0.31369749  0.16971851  0.02272835 -0.02026546]]\n",
      "<class 'numpy.ndarray'>\n",
      "442\n",
      "[[ 1.80941907e+00 -7.64476877e-01  1.75626189e-01 -2.90385333e-02\n",
      "  -2.39607038e-01 -2.35946857e-02]\n",
      " [-3.75381048e+00 -1.29405318e+00  3.35651119e-01  2.56812262e-01\n",
      "  -8.78314584e-02  1.59779324e-02]\n",
      " [ 1.55223586e+00  7.25552693e-03 -2.61800569e-01 -3.05475664e-01\n",
      "   1.02079475e-01  1.51004446e-01]\n",
      " ...\n",
      " [ 1.30167755e+00 -4.31881932e-01 -1.65569632e-05 -1.12775389e-01\n",
      "  -6.21175874e-03  1.65844208e-02]\n",
      " [ 1.31210499e+00 -8.57756674e-01  3.11478771e-01  1.73475821e-01\n",
      "   7.61032536e-02 -1.89655262e-02]\n",
      " [-3.16270703e+00 -4.85814227e-01  1.86248163e-02 -9.86236704e-02\n",
      "   2.29955163e-01  1.39742263e-01]]\n",
      "<class 'numpy.ndarray'>\n",
      "443\n",
      "[[ 1.48713137 -0.74110322  0.11100436  0.01236886 -0.21397874 -0.04444884]\n",
      " [ 1.12267758 -0.05279332 -0.20155299 -0.33197295  0.02784893  0.20687043]\n",
      " [ 1.53207283 -0.28873275 -0.23302426 -0.14909021 -0.02465299  0.05091141]\n",
      " ...\n",
      " [-3.13198766  1.40817694  0.41863674 -0.34829361 -0.09205543 -0.06431105]\n",
      " [ 1.35126224 -0.38831063  0.01499283 -0.04827039  0.03841911  0.02402164]\n",
      " [-3.08120768  0.1482478  -0.26392868 -0.25262262 -0.06200903 -0.00992051]]\n"
     ]
    }
   ],
   "source": [
    "compressed_dataset_X_train= pcaTrain.transform(X_train) # --transform-- the original \"dataset\" Dataframe into a lower-dimensional space based on the model's learned parameters\n",
    "print(type(compressed_dataset_X_train))\n",
    "print(len(compressed_dataset_X_train))\n",
    "print(compressed_dataset_X_train)\n",
    "\n",
    "compressed_dataset_X_valid= pcaTrain.transform(X_valid) # --transform-- the original \"dataset\" Dataframe into a lower-dimensional space based on the model's learned parameters\n",
    "print(type(compressed_dataset_X_valid))\n",
    "print(len(compressed_dataset_X_valid))\n",
    "print(compressed_dataset_X_valid)\n",
    "\n",
    "compressed_dataset_X_test= pcaTrain.transform(X_test) # --transform-- the original \"dataset\" Dataframe into a lower-dimensional space based on the model's learned parameters\n",
    "print(type(compressed_dataset_X_test))\n",
    "print(len(compressed_dataset_X_test))\n",
    "print(compressed_dataset_X_test)"
   ]
  },
  {
   "cell_type": "markdown",
   "metadata": {},
   "source": [
    "# reshape the data "
   ]
  },
  {
   "cell_type": "code",
   "execution_count": 71,
   "metadata": {},
   "outputs": [
    {
     "data": {
      "text/plain": [
       "(442, 6)"
      ]
     },
     "execution_count": 71,
     "metadata": {},
     "output_type": "execute_result"
    }
   ],
   "source": [
    "compressed_dataset_X_valid.shape"
   ]
  },
  {
   "cell_type": "code",
   "execution_count": 72,
   "metadata": {},
   "outputs": [
    {
     "data": {
      "text/plain": [
       "(1327, 6, 1)"
      ]
     },
     "execution_count": 72,
     "metadata": {},
     "output_type": "execute_result"
    }
   ],
   "source": [
    "X_train_arr=compressed_dataset_X_train.reshape(compressed_dataset_X_train.shape[0],compressed_dataset_X_train.shape[1],1)\n",
    "X_train_arr.shape"
   ]
  },
  {
   "cell_type": "code",
   "execution_count": 73,
   "metadata": {},
   "outputs": [
    {
     "data": {
      "text/plain": [
       "(442, 6, 1)"
      ]
     },
     "execution_count": 73,
     "metadata": {},
     "output_type": "execute_result"
    }
   ],
   "source": [
    "# X_valid_arr=compressed_dataset_X_valid.to_numpy()\n",
    "X_valid_arr=compressed_dataset_X_valid.reshape(compressed_dataset_X_valid.shape[0],compressed_dataset_X_valid.shape[1],1)\n",
    "X_valid_arr.shape"
   ]
  },
  {
   "cell_type": "code",
   "execution_count": 74,
   "metadata": {},
   "outputs": [
    {
     "data": {
      "text/plain": [
       "(443, 6, 1)"
      ]
     },
     "execution_count": 74,
     "metadata": {},
     "output_type": "execute_result"
    }
   ],
   "source": [
    "X_test_arr=compressed_dataset_X_test.reshape(compressed_dataset_X_test.shape[0],compressed_dataset_X_test.shape[1],1)\n",
    "X_test_arr.shape"
   ]
  },
  {
   "cell_type": "code",
   "execution_count": 75,
   "metadata": {},
   "outputs": [],
   "source": [
    "# for \"y\"\n",
    "\n",
    "y_train_arr=np.array(y_train)\n",
    "y_train_arr=y_train_arr.reshape(y_train_arr.shape[0],1)\n",
    "\n",
    "y_valid_arr=np.array(y_valid)\n",
    "y_valid_arr=y_valid_arr.reshape(y_valid_arr.shape[0],1)\n",
    "\n",
    "y_test_arr=np.array(y_test)\n",
    "y_test_arr=y_test_arr.reshape(y_test_arr.shape[0],1)"
   ]
  },
  {
   "cell_type": "code",
   "execution_count": 76,
   "metadata": {},
   "outputs": [
    {
     "data": {
      "text/plain": [
       "(443, 1)"
      ]
     },
     "execution_count": 76,
     "metadata": {},
     "output_type": "execute_result"
    }
   ],
   "source": [
    "y_test_arr.shape"
   ]
  },
  {
   "cell_type": "markdown",
   "metadata": {},
   "source": [
    "# one hot encode"
   ]
  },
  {
   "cell_type": "code",
   "execution_count": 77,
   "metadata": {},
   "outputs": [],
   "source": [
    "from keras.utils import to_categorical\n",
    "# one hot encoding\n",
    "y_train_arr = to_categorical(y_train, 3)\n",
    "y_valid_arr = to_categorical(y_valid, 3)\n",
    "y_test_arr = to_categorical(y_test, 3)"
   ]
  },
  {
   "cell_type": "code",
   "execution_count": 78,
   "metadata": {},
   "outputs": [
    {
     "data": {
      "text/plain": [
       "array([[1., 0., 0.],\n",
       "       [0., 1., 0.],\n",
       "       [0., 1., 0.],\n",
       "       ...,\n",
       "       [0., 0., 1.],\n",
       "       [0., 1., 0.],\n",
       "       [0., 1., 0.]], dtype=float32)"
      ]
     },
     "execution_count": 78,
     "metadata": {},
     "output_type": "execute_result"
    }
   ],
   "source": [
    "y_test_arr"
   ]
  },
  {
   "cell_type": "markdown",
   "metadata": {},
   "source": [
    "# model"
   ]
  },
  {
   "cell_type": "code",
   "execution_count": 79,
   "metadata": {},
   "outputs": [],
   "source": [
    "\n",
    "# cnn model\n",
    "from numpy import mean\n",
    "from numpy import std\n",
    "from numpy import dstack\n",
    "from pandas import read_csv\n",
    "from matplotlib import pyplot\n",
    "from keras.models import Sequential\n",
    "from keras.layers import Dense\n",
    "from keras.layers import Flatten\n",
    "from keras.layers import Dropout\n",
    "from keras.layers import Conv1D\n",
    "from keras.layers import MaxPooling1D\n"
   ]
  },
  {
   "cell_type": "code",
   "execution_count": 80,
   "metadata": {},
   "outputs": [],
   "source": [
    "import tensorflow as tf\n",
    "callback=tf.keras.callbacks.EarlyStopping(\n",
    "    monitor='val_loss',\n",
    "    min_delta=0,\n",
    "    patience=4,\n",
    "    verbose=0,\n",
    "    mode='auto',\n",
    "    baseline=None,\n",
    "    restore_best_weights=True,\n",
    "    start_from_epoch=0\n",
    ")"
   ]
  },
  {
   "cell_type": "code",
   "execution_count": 81,
   "metadata": {},
   "outputs": [],
   "source": [
    "# Global value\n",
    "verbose, epochs, batch_size = 1, 100, 40\n"
   ]
  },
  {
   "cell_type": "code",
   "execution_count": 82,
   "metadata": {},
   "outputs": [],
   "source": [
    "# fit and evaluate a model\n",
    "import optuna\n",
    "from matplotlib import pyplot as plt\n",
    "\n",
    "def optimize_model(trainX, trainy,validX,validy):\n",
    "    n_timesteps, n_features, n_outputs = trainX.shape[1], trainX.shape[2], 3\n",
    "    def objective_model1(trial):\n",
    "    # Define hyperparameters to be tuned\n",
    "     \n",
    "     filters = trial.suggest_int('filters', 32, 128)\n",
    "     \n",
    "     dropout_rate = trial.suggest_float('dropout_rate', 0.1, 0.5)\n",
    "     dense_units = trial.suggest_int('dense_units', 50, 200)\n",
    "     \n",
    "     # Build the CNN model\n",
    "     model = Sequential()\n",
    "     model.add(Conv1D(filters=filters, kernel_size=3, activation='relu', input_shape=(n_timesteps, n_features)))\n",
    "     model.add(Conv1D(filters=filters, kernel_size=2, activation='relu'))\n",
    "     model.add(Dropout(dropout_rate))\n",
    "     model.add(MaxPooling1D(pool_size=2))\n",
    "     model.add(Flatten())\n",
    "     model.add(Dense(dense_units, activation='relu'))\n",
    "     model.add(Dense(n_outputs, activation='softmax'))\n",
    " \n",
    "     # Compile the model\n",
    "     model.compile(loss='categorical_crossentropy', optimizer='adam', metrics=['accuracy'])\n",
    " \n",
    "     # Fit the model\n",
    "     history = model.fit(trainX, trainy, validation_data=(validX, validy), epochs=epochs,callbacks=[callback],batch_size=batch_size, verbose=verbose)\n",
    "    \n",
    "    # Return the validation accuracy as the objective value\n",
    "     return history.history['val_accuracy'][-1]\n",
    "    study = optuna.create_study(direction='maximize')\n",
    "    study.optimize(objective_model1, n_trials= 8, \n",
    "                   #timeout=600\n",
    "                   )#The maximum time (in seconds) allowed for the optimization process to run.\n",
    "    # Get the best hyperparameters\n",
    "    best_params = study.best_params\n",
    "    print(\"Best Hyperparameters:\", best_params)\n",
    "\n",
    "\n",
    "    return best_params\n",
    " \n",
    "\n"
   ]
  },
  {
   "cell_type": "code",
   "execution_count": 83,
   "metadata": {},
   "outputs": [],
   "source": [
    "# summarize scores\n",
    "def summarize_results(scores):\n",
    " print(scores)\n",
    " m, s = mean(scores), std(scores)\n",
    " print('Test Accuracy: %.3f%% (+/-%.3f)' % (m, s))\n",
    " "
   ]
  },
  {
   "cell_type": "markdown",
   "metadata": {},
   "source": [
    "# Calculate the accuracy"
   ]
  },
  {
   "cell_type": "code",
   "execution_count": 84,
   "metadata": {},
   "outputs": [
    {
     "name": "stderr",
     "output_type": "stream",
     "text": [
      "[I 2024-02-21 17:19:17,112] A new study created in memory with name: no-name-2c9127c5-05f9-495d-a5a5-d63aea5fb633\n"
     ]
    },
    {
     "name": "stdout",
     "output_type": "stream",
     "text": [
      "Epoch 1/100\n",
      "34/34 [==============================] - 2s 10ms/step - loss: 0.8325 - accuracy: 0.7114 - val_loss: 0.4962 - val_accuracy: 0.8688\n",
      "Epoch 2/100\n",
      "34/34 [==============================] - 0s 3ms/step - loss: 0.3260 - accuracy: 0.8968 - val_loss: 0.1668 - val_accuracy: 0.9502\n",
      "Epoch 3/100\n",
      "34/34 [==============================] - 0s 4ms/step - loss: 0.2034 - accuracy: 0.9269 - val_loss: 0.1353 - val_accuracy: 0.9638\n",
      "Epoch 4/100\n",
      "34/34 [==============================] - 0s 5ms/step - loss: 0.1801 - accuracy: 0.9412 - val_loss: 0.1224 - val_accuracy: 0.9683\n",
      "Epoch 5/100\n",
      "34/34 [==============================] - 0s 4ms/step - loss: 0.1766 - accuracy: 0.9397 - val_loss: 0.1051 - val_accuracy: 0.9683\n",
      "Epoch 6/100\n",
      "34/34 [==============================] - 0s 4ms/step - loss: 0.1556 - accuracy: 0.9548 - val_loss: 0.0986 - val_accuracy: 0.9729\n",
      "Epoch 7/100\n",
      "34/34 [==============================] - 0s 4ms/step - loss: 0.1599 - accuracy: 0.9503 - val_loss: 0.0893 - val_accuracy: 0.9751\n",
      "Epoch 8/100\n",
      "34/34 [==============================] - 0s 7ms/step - loss: 0.1421 - accuracy: 0.9533 - val_loss: 0.0909 - val_accuracy: 0.9729\n",
      "Epoch 9/100\n",
      "34/34 [==============================] - 0s 4ms/step - loss: 0.1429 - accuracy: 0.9563 - val_loss: 0.1061 - val_accuracy: 0.9615\n",
      "Epoch 10/100\n",
      "34/34 [==============================] - 0s 5ms/step - loss: 0.1404 - accuracy: 0.9533 - val_loss: 0.0796 - val_accuracy: 0.9819\n",
      "Epoch 11/100\n",
      "34/34 [==============================] - 0s 6ms/step - loss: 0.1344 - accuracy: 0.9631 - val_loss: 0.0738 - val_accuracy: 0.9774\n",
      "Epoch 12/100\n",
      "34/34 [==============================] - 0s 6ms/step - loss: 0.1283 - accuracy: 0.9563 - val_loss: 0.0824 - val_accuracy: 0.9819\n",
      "Epoch 13/100\n",
      "34/34 [==============================] - 0s 4ms/step - loss: 0.1249 - accuracy: 0.9608 - val_loss: 0.0759 - val_accuracy: 0.9796\n",
      "Epoch 14/100\n",
      "34/34 [==============================] - 0s 5ms/step - loss: 0.1186 - accuracy: 0.9638 - val_loss: 0.0769 - val_accuracy: 0.9796\n",
      "Epoch 15/100\n",
      "34/34 [==============================] - 0s 5ms/step - loss: 0.1161 - accuracy: 0.9623 - val_loss: 0.0656 - val_accuracy: 0.9842\n",
      "Epoch 16/100\n",
      "34/34 [==============================] - 0s 5ms/step - loss: 0.1062 - accuracy: 0.9661 - val_loss: 0.0714 - val_accuracy: 0.9819\n",
      "Epoch 17/100\n",
      "34/34 [==============================] - 0s 5ms/step - loss: 0.1099 - accuracy: 0.9608 - val_loss: 0.0732 - val_accuracy: 0.9774\n",
      "Epoch 18/100\n",
      "34/34 [==============================] - 0s 5ms/step - loss: 0.1048 - accuracy: 0.9623 - val_loss: 0.0633 - val_accuracy: 0.9796\n",
      "Epoch 19/100\n",
      "34/34 [==============================] - 0s 5ms/step - loss: 0.1050 - accuracy: 0.9661 - val_loss: 0.0625 - val_accuracy: 0.9864\n",
      "Epoch 20/100\n",
      "34/34 [==============================] - 0s 5ms/step - loss: 0.1055 - accuracy: 0.9683 - val_loss: 0.0662 - val_accuracy: 0.9796\n",
      "Epoch 21/100\n",
      "34/34 [==============================] - 0s 5ms/step - loss: 0.1010 - accuracy: 0.9676 - val_loss: 0.0628 - val_accuracy: 0.9751\n",
      "Epoch 22/100\n",
      "34/34 [==============================] - 0s 5ms/step - loss: 0.0943 - accuracy: 0.9676 - val_loss: 0.0547 - val_accuracy: 0.9796\n",
      "Epoch 23/100\n",
      "34/34 [==============================] - 0s 5ms/step - loss: 0.0946 - accuracy: 0.9683 - val_loss: 0.0595 - val_accuracy: 0.9864\n",
      "Epoch 24/100\n",
      "34/34 [==============================] - 0s 5ms/step - loss: 0.0913 - accuracy: 0.9668 - val_loss: 0.0566 - val_accuracy: 0.9864\n",
      "Epoch 25/100\n",
      "34/34 [==============================] - 0s 5ms/step - loss: 0.0812 - accuracy: 0.9736 - val_loss: 0.0551 - val_accuracy: 0.9842\n",
      "Epoch 26/100\n",
      "34/34 [==============================] - 0s 5ms/step - loss: 0.0855 - accuracy: 0.9676 - val_loss: 0.0508 - val_accuracy: 0.9887\n",
      "Epoch 27/100\n",
      "34/34 [==============================] - 0s 5ms/step - loss: 0.0909 - accuracy: 0.9676 - val_loss: 0.0660 - val_accuracy: 0.9819\n",
      "Epoch 28/100\n",
      "34/34 [==============================] - 0s 5ms/step - loss: 0.0882 - accuracy: 0.9699 - val_loss: 0.0585 - val_accuracy: 0.9774\n",
      "Epoch 29/100\n",
      "34/34 [==============================] - 0s 5ms/step - loss: 0.0850 - accuracy: 0.9683 - val_loss: 0.0588 - val_accuracy: 0.9774\n",
      "Epoch 30/100\n",
      "34/34 [==============================] - 0s 6ms/step - loss: 0.0802 - accuracy: 0.9729 - val_loss: 0.0540 - val_accuracy: 0.9842\n"
     ]
    },
    {
     "name": "stderr",
     "output_type": "stream",
     "text": [
      "[I 2024-02-21 17:19:24,231] Trial 0 finished with value: 0.9841628670692444 and parameters: {'filters': 86, 'dropout_rate': 0.11239404438100471, 'dense_units': 73}. Best is trial 0 with value: 0.9841628670692444.\n"
     ]
    },
    {
     "name": "stdout",
     "output_type": "stream",
     "text": [
      "Epoch 1/100\n",
      "34/34 [==============================] - 2s 8ms/step - loss: 0.9060 - accuracy: 0.6835 - val_loss: 0.6259 - val_accuracy: 0.8869\n",
      "Epoch 2/100\n",
      "34/34 [==============================] - 0s 4ms/step - loss: 0.4245 - accuracy: 0.8719 - val_loss: 0.2378 - val_accuracy: 0.9186\n",
      "Epoch 3/100\n",
      "34/34 [==============================] - 0s 4ms/step - loss: 0.2805 - accuracy: 0.8975 - val_loss: 0.1634 - val_accuracy: 0.9480\n",
      "Epoch 4/100\n",
      "34/34 [==============================] - 0s 4ms/step - loss: 0.2171 - accuracy: 0.9179 - val_loss: 0.1334 - val_accuracy: 0.9683\n",
      "Epoch 5/100\n",
      "34/34 [==============================] - 0s 4ms/step - loss: 0.1940 - accuracy: 0.9382 - val_loss: 0.1191 - val_accuracy: 0.9706\n",
      "Epoch 6/100\n",
      "34/34 [==============================] - 0s 5ms/step - loss: 0.1770 - accuracy: 0.9442 - val_loss: 0.1153 - val_accuracy: 0.9548\n",
      "Epoch 7/100\n",
      "34/34 [==============================] - 0s 4ms/step - loss: 0.1751 - accuracy: 0.9442 - val_loss: 0.1043 - val_accuracy: 0.9706\n",
      "Epoch 8/100\n",
      "34/34 [==============================] - 0s 5ms/step - loss: 0.1568 - accuracy: 0.9465 - val_loss: 0.0985 - val_accuracy: 0.9706\n",
      "Epoch 9/100\n",
      "34/34 [==============================] - 0s 5ms/step - loss: 0.1684 - accuracy: 0.9450 - val_loss: 0.0910 - val_accuracy: 0.9751\n",
      "Epoch 10/100\n",
      "34/34 [==============================] - 0s 5ms/step - loss: 0.1566 - accuracy: 0.9465 - val_loss: 0.0892 - val_accuracy: 0.9729\n",
      "Epoch 11/100\n",
      "34/34 [==============================] - 0s 5ms/step - loss: 0.1471 - accuracy: 0.9540 - val_loss: 0.0997 - val_accuracy: 0.9638\n",
      "Epoch 12/100\n",
      "34/34 [==============================] - 0s 5ms/step - loss: 0.1495 - accuracy: 0.9525 - val_loss: 0.0818 - val_accuracy: 0.9751\n",
      "Epoch 13/100\n",
      "34/34 [==============================] - 0s 5ms/step - loss: 0.1455 - accuracy: 0.9533 - val_loss: 0.0840 - val_accuracy: 0.9796\n",
      "Epoch 14/100\n",
      "34/34 [==============================] - 0s 5ms/step - loss: 0.1431 - accuracy: 0.9503 - val_loss: 0.0891 - val_accuracy: 0.9751\n",
      "Epoch 15/100\n",
      "34/34 [==============================] - 0s 5ms/step - loss: 0.1373 - accuracy: 0.9563 - val_loss: 0.0806 - val_accuracy: 0.9774\n",
      "Epoch 16/100\n",
      "34/34 [==============================] - 0s 5ms/step - loss: 0.1297 - accuracy: 0.9570 - val_loss: 0.0774 - val_accuracy: 0.9796\n",
      "Epoch 17/100\n",
      "34/34 [==============================] - 0s 5ms/step - loss: 0.1323 - accuracy: 0.9593 - val_loss: 0.0732 - val_accuracy: 0.9774\n",
      "Epoch 18/100\n",
      "34/34 [==============================] - 0s 5ms/step - loss: 0.1266 - accuracy: 0.9608 - val_loss: 0.0701 - val_accuracy: 0.9819\n",
      "Epoch 19/100\n",
      "34/34 [==============================] - 0s 5ms/step - loss: 0.1253 - accuracy: 0.9623 - val_loss: 0.0733 - val_accuracy: 0.9819\n",
      "Epoch 20/100\n",
      "34/34 [==============================] - 0s 5ms/step - loss: 0.1190 - accuracy: 0.9570 - val_loss: 0.0742 - val_accuracy: 0.9819\n",
      "Epoch 21/100\n",
      "34/34 [==============================] - 0s 4ms/step - loss: 0.1316 - accuracy: 0.9586 - val_loss: 0.0657 - val_accuracy: 0.9796\n",
      "Epoch 22/100\n",
      "34/34 [==============================] - 0s 5ms/step - loss: 0.1159 - accuracy: 0.9646 - val_loss: 0.0638 - val_accuracy: 0.9842\n",
      "Epoch 23/100\n",
      "34/34 [==============================] - 0s 5ms/step - loss: 0.1085 - accuracy: 0.9653 - val_loss: 0.0671 - val_accuracy: 0.9819\n",
      "Epoch 24/100\n",
      "34/34 [==============================] - 0s 5ms/step - loss: 0.1170 - accuracy: 0.9601 - val_loss: 0.0641 - val_accuracy: 0.9774\n",
      "Epoch 25/100\n",
      "34/34 [==============================] - 0s 4ms/step - loss: 0.1160 - accuracy: 0.9608 - val_loss: 0.0650 - val_accuracy: 0.9796\n",
      "Epoch 26/100\n",
      "34/34 [==============================] - 0s 4ms/step - loss: 0.1019 - accuracy: 0.9638 - val_loss: 0.0635 - val_accuracy: 0.9796\n",
      "Epoch 27/100\n",
      "34/34 [==============================] - 0s 4ms/step - loss: 0.0933 - accuracy: 0.9676 - val_loss: 0.0653 - val_accuracy: 0.9819\n",
      "Epoch 28/100\n",
      "34/34 [==============================] - 0s 4ms/step - loss: 0.0960 - accuracy: 0.9616 - val_loss: 0.0792 - val_accuracy: 0.9729\n",
      "Epoch 29/100\n",
      "34/34 [==============================] - 0s 4ms/step - loss: 0.1121 - accuracy: 0.9601 - val_loss: 0.0659 - val_accuracy: 0.9819\n",
      "Epoch 30/100\n",
      "34/34 [==============================] - 0s 4ms/step - loss: 0.1038 - accuracy: 0.9638 - val_loss: 0.0559 - val_accuracy: 0.9842\n",
      "Epoch 31/100\n",
      "34/34 [==============================] - 0s 4ms/step - loss: 0.0964 - accuracy: 0.9661 - val_loss: 0.0572 - val_accuracy: 0.9796\n",
      "Epoch 32/100\n",
      "34/34 [==============================] - 0s 4ms/step - loss: 0.0969 - accuracy: 0.9631 - val_loss: 0.0529 - val_accuracy: 0.9819\n",
      "Epoch 33/100\n",
      "34/34 [==============================] - 0s 4ms/step - loss: 0.0968 - accuracy: 0.9676 - val_loss: 0.0604 - val_accuracy: 0.9864\n",
      "Epoch 34/100\n",
      "34/34 [==============================] - 0s 4ms/step - loss: 0.0939 - accuracy: 0.9668 - val_loss: 0.0622 - val_accuracy: 0.9819\n",
      "Epoch 35/100\n",
      "34/34 [==============================] - 0s 4ms/step - loss: 0.0943 - accuracy: 0.9683 - val_loss: 0.0646 - val_accuracy: 0.9774\n",
      "Epoch 36/100\n",
      "34/34 [==============================] - 0s 4ms/step - loss: 0.0848 - accuracy: 0.9729 - val_loss: 0.0573 - val_accuracy: 0.9842\n"
     ]
    },
    {
     "name": "stderr",
     "output_type": "stream",
     "text": [
      "[I 2024-02-21 17:19:31,315] Trial 1 finished with value: 0.9841628670692444 and parameters: {'filters': 72, 'dropout_rate': 0.27035704094642454, 'dense_units': 59}. Best is trial 0 with value: 0.9841628670692444.\n"
     ]
    },
    {
     "name": "stdout",
     "output_type": "stream",
     "text": [
      "Epoch 1/100\n",
      "34/34 [==============================] - 1s 10ms/step - loss: 0.8255 - accuracy: 0.7099 - val_loss: 0.5293 - val_accuracy: 0.7896\n",
      "Epoch 2/100\n",
      "34/34 [==============================] - 0s 5ms/step - loss: 0.3623 - accuracy: 0.8696 - val_loss: 0.1939 - val_accuracy: 0.9412\n",
      "Epoch 3/100\n",
      "34/34 [==============================] - 0s 5ms/step - loss: 0.2123 - accuracy: 0.9254 - val_loss: 0.1296 - val_accuracy: 0.9638\n",
      "Epoch 4/100\n",
      "34/34 [==============================] - 0s 5ms/step - loss: 0.1987 - accuracy: 0.9352 - val_loss: 0.1199 - val_accuracy: 0.9638\n",
      "Epoch 5/100\n",
      "34/34 [==============================] - 0s 5ms/step - loss: 0.1933 - accuracy: 0.9367 - val_loss: 0.1106 - val_accuracy: 0.9661\n",
      "Epoch 6/100\n",
      "34/34 [==============================] - 0s 5ms/step - loss: 0.1766 - accuracy: 0.9397 - val_loss: 0.1241 - val_accuracy: 0.9548\n",
      "Epoch 7/100\n",
      "34/34 [==============================] - 0s 5ms/step - loss: 0.1815 - accuracy: 0.9329 - val_loss: 0.1023 - val_accuracy: 0.9661\n",
      "Epoch 8/100\n",
      "34/34 [==============================] - 0s 5ms/step - loss: 0.1672 - accuracy: 0.9488 - val_loss: 0.0901 - val_accuracy: 0.9751\n",
      "Epoch 9/100\n",
      "34/34 [==============================] - 0s 5ms/step - loss: 0.1540 - accuracy: 0.9495 - val_loss: 0.0885 - val_accuracy: 0.9751\n",
      "Epoch 10/100\n",
      "34/34 [==============================] - 0s 5ms/step - loss: 0.1596 - accuracy: 0.9510 - val_loss: 0.0841 - val_accuracy: 0.9819\n",
      "Epoch 11/100\n",
      "34/34 [==============================] - 0s 5ms/step - loss: 0.1484 - accuracy: 0.9555 - val_loss: 0.0821 - val_accuracy: 0.9774\n",
      "Epoch 12/100\n",
      "34/34 [==============================] - 0s 5ms/step - loss: 0.1278 - accuracy: 0.9548 - val_loss: 0.0753 - val_accuracy: 0.9796\n",
      "Epoch 13/100\n",
      "34/34 [==============================] - 0s 5ms/step - loss: 0.1447 - accuracy: 0.9518 - val_loss: 0.0791 - val_accuracy: 0.9819\n",
      "Epoch 14/100\n",
      "34/34 [==============================] - 0s 5ms/step - loss: 0.1211 - accuracy: 0.9570 - val_loss: 0.0702 - val_accuracy: 0.9774\n",
      "Epoch 15/100\n",
      "34/34 [==============================] - 0s 5ms/step - loss: 0.1199 - accuracy: 0.9631 - val_loss: 0.0689 - val_accuracy: 0.9796\n",
      "Epoch 16/100\n",
      "34/34 [==============================] - 0s 5ms/step - loss: 0.1262 - accuracy: 0.9548 - val_loss: 0.0757 - val_accuracy: 0.9774\n",
      "Epoch 17/100\n",
      "34/34 [==============================] - 0s 5ms/step - loss: 0.1237 - accuracy: 0.9593 - val_loss: 0.0740 - val_accuracy: 0.9751\n",
      "Epoch 18/100\n",
      "34/34 [==============================] - 0s 5ms/step - loss: 0.1177 - accuracy: 0.9623 - val_loss: 0.0668 - val_accuracy: 0.9774\n",
      "Epoch 19/100\n",
      "34/34 [==============================] - 0s 4ms/step - loss: 0.1269 - accuracy: 0.9586 - val_loss: 0.0758 - val_accuracy: 0.9774\n",
      "Epoch 20/100\n",
      "34/34 [==============================] - 0s 5ms/step - loss: 0.1133 - accuracy: 0.9578 - val_loss: 0.0598 - val_accuracy: 0.9842\n",
      "Epoch 21/100\n",
      "34/34 [==============================] - 0s 5ms/step - loss: 0.1084 - accuracy: 0.9608 - val_loss: 0.0616 - val_accuracy: 0.9864\n",
      "Epoch 22/100\n",
      "34/34 [==============================] - 0s 5ms/step - loss: 0.1019 - accuracy: 0.9638 - val_loss: 0.0654 - val_accuracy: 0.9729\n",
      "Epoch 23/100\n",
      "34/34 [==============================] - 0s 5ms/step - loss: 0.1008 - accuracy: 0.9646 - val_loss: 0.0619 - val_accuracy: 0.9819\n",
      "Epoch 24/100\n",
      "34/34 [==============================] - 0s 4ms/step - loss: 0.0950 - accuracy: 0.9653 - val_loss: 0.0587 - val_accuracy: 0.9819\n",
      "Epoch 25/100\n",
      "34/34 [==============================] - 0s 5ms/step - loss: 0.0958 - accuracy: 0.9638 - val_loss: 0.0575 - val_accuracy: 0.9796\n",
      "Epoch 26/100\n",
      "34/34 [==============================] - 0s 5ms/step - loss: 0.0965 - accuracy: 0.9653 - val_loss: 0.0537 - val_accuracy: 0.9842\n",
      "Epoch 27/100\n",
      "34/34 [==============================] - 0s 5ms/step - loss: 0.0959 - accuracy: 0.9653 - val_loss: 0.0819 - val_accuracy: 0.9751\n",
      "Epoch 28/100\n",
      "34/34 [==============================] - 0s 5ms/step - loss: 0.0946 - accuracy: 0.9653 - val_loss: 0.0582 - val_accuracy: 0.9796\n",
      "Epoch 29/100\n",
      "34/34 [==============================] - 0s 5ms/step - loss: 0.0942 - accuracy: 0.9676 - val_loss: 0.0539 - val_accuracy: 0.9819\n",
      "Epoch 30/100\n",
      "34/34 [==============================] - 0s 5ms/step - loss: 0.0792 - accuracy: 0.9729 - val_loss: 0.0584 - val_accuracy: 0.9796\n"
     ]
    },
    {
     "name": "stderr",
     "output_type": "stream",
     "text": [
      "[I 2024-02-21 17:19:37,377] Trial 2 finished with value: 0.9796379804611206 and parameters: {'filters': 71, 'dropout_rate': 0.32799015415268085, 'dense_units': 183}. Best is trial 0 with value: 0.9841628670692444.\n"
     ]
    },
    {
     "name": "stdout",
     "output_type": "stream",
     "text": [
      "Epoch 1/100\n",
      "34/34 [==============================] - 1s 8ms/step - loss: 0.7502 - accuracy: 0.7875 - val_loss: 0.3389 - val_accuracy: 0.8869\n",
      "Epoch 2/100\n",
      "34/34 [==============================] - 0s 4ms/step - loss: 0.2657 - accuracy: 0.9133 - val_loss: 0.1494 - val_accuracy: 0.9570\n",
      "Epoch 3/100\n",
      "34/34 [==============================] - 0s 4ms/step - loss: 0.1832 - accuracy: 0.9367 - val_loss: 0.1364 - val_accuracy: 0.9615\n",
      "Epoch 4/100\n",
      "34/34 [==============================] - 0s 4ms/step - loss: 0.1903 - accuracy: 0.9299 - val_loss: 0.1409 - val_accuracy: 0.9480\n",
      "Epoch 5/100\n",
      "34/34 [==============================] - 0s 4ms/step - loss: 0.1604 - accuracy: 0.9427 - val_loss: 0.1213 - val_accuracy: 0.9525\n",
      "Epoch 6/100\n",
      "34/34 [==============================] - 0s 4ms/step - loss: 0.1462 - accuracy: 0.9518 - val_loss: 0.0943 - val_accuracy: 0.9706\n",
      "Epoch 7/100\n",
      "34/34 [==============================] - 0s 4ms/step - loss: 0.1334 - accuracy: 0.9616 - val_loss: 0.0880 - val_accuracy: 0.9751\n",
      "Epoch 8/100\n",
      "34/34 [==============================] - 0s 4ms/step - loss: 0.1321 - accuracy: 0.9578 - val_loss: 0.0759 - val_accuracy: 0.9729\n",
      "Epoch 9/100\n",
      "34/34 [==============================] - 0s 4ms/step - loss: 0.1225 - accuracy: 0.9593 - val_loss: 0.0706 - val_accuracy: 0.9729\n",
      "Epoch 10/100\n",
      "34/34 [==============================] - 0s 4ms/step - loss: 0.1249 - accuracy: 0.9593 - val_loss: 0.0743 - val_accuracy: 0.9819\n",
      "Epoch 11/100\n",
      "34/34 [==============================] - 0s 4ms/step - loss: 0.1126 - accuracy: 0.9631 - val_loss: 0.0754 - val_accuracy: 0.9751\n",
      "Epoch 12/100\n",
      "34/34 [==============================] - 0s 4ms/step - loss: 0.1105 - accuracy: 0.9570 - val_loss: 0.0718 - val_accuracy: 0.9751\n",
      "Epoch 13/100\n",
      "34/34 [==============================] - 0s 4ms/step - loss: 0.1010 - accuracy: 0.9646 - val_loss: 0.0658 - val_accuracy: 0.9819\n",
      "Epoch 14/100\n",
      "34/34 [==============================] - 0s 4ms/step - loss: 0.1093 - accuracy: 0.9608 - val_loss: 0.0721 - val_accuracy: 0.9796\n",
      "Epoch 15/100\n",
      "34/34 [==============================] - 0s 4ms/step - loss: 0.1008 - accuracy: 0.9676 - val_loss: 0.0745 - val_accuracy: 0.9729\n",
      "Epoch 16/100\n",
      "34/34 [==============================] - 0s 4ms/step - loss: 0.0937 - accuracy: 0.9699 - val_loss: 0.0712 - val_accuracy: 0.9796\n",
      "Epoch 17/100\n",
      "34/34 [==============================] - 0s 4ms/step - loss: 0.0983 - accuracy: 0.9668 - val_loss: 0.0624 - val_accuracy: 0.9774\n",
      "Epoch 18/100\n",
      "34/34 [==============================] - 0s 4ms/step - loss: 0.0863 - accuracy: 0.9683 - val_loss: 0.0638 - val_accuracy: 0.9842\n",
      "Epoch 19/100\n",
      "34/34 [==============================] - 0s 4ms/step - loss: 0.0919 - accuracy: 0.9668 - val_loss: 0.0605 - val_accuracy: 0.9842\n",
      "Epoch 20/100\n",
      "34/34 [==============================] - 0s 4ms/step - loss: 0.0800 - accuracy: 0.9676 - val_loss: 0.0544 - val_accuracy: 0.9796\n",
      "Epoch 21/100\n",
      "34/34 [==============================] - 0s 4ms/step - loss: 0.0774 - accuracy: 0.9729 - val_loss: 0.0597 - val_accuracy: 0.9706\n",
      "Epoch 22/100\n",
      "34/34 [==============================] - 0s 4ms/step - loss: 0.0769 - accuracy: 0.9729 - val_loss: 0.0601 - val_accuracy: 0.9842\n",
      "Epoch 23/100\n",
      "34/34 [==============================] - 0s 4ms/step - loss: 0.0776 - accuracy: 0.9668 - val_loss: 0.0558 - val_accuracy: 0.9796\n",
      "Epoch 24/100\n",
      "34/34 [==============================] - 0s 4ms/step - loss: 0.0722 - accuracy: 0.9706 - val_loss: 0.0585 - val_accuracy: 0.9774\n"
     ]
    },
    {
     "name": "stderr",
     "output_type": "stream",
     "text": [
      "[I 2024-02-21 17:19:41,655] Trial 3 finished with value: 0.9773755669593811 and parameters: {'filters': 113, 'dropout_rate': 0.15421228631658068, 'dense_units': 173}. Best is trial 0 with value: 0.9841628670692444.\n"
     ]
    },
    {
     "name": "stdout",
     "output_type": "stream",
     "text": [
      "Epoch 1/100\n",
      "34/34 [==============================] - 1s 9ms/step - loss: 0.7640 - accuracy: 0.7091 - val_loss: 0.3532 - val_accuracy: 0.8665\n",
      "Epoch 2/100\n",
      "34/34 [==============================] - 0s 4ms/step - loss: 0.2559 - accuracy: 0.9088 - val_loss: 0.1538 - val_accuracy: 0.9480\n",
      "Epoch 3/100\n",
      "34/34 [==============================] - 0s 4ms/step - loss: 0.2127 - accuracy: 0.9224 - val_loss: 0.1474 - val_accuracy: 0.9480\n",
      "Epoch 4/100\n",
      "34/34 [==============================] - 0s 4ms/step - loss: 0.1859 - accuracy: 0.9359 - val_loss: 0.1322 - val_accuracy: 0.9480\n",
      "Epoch 5/100\n",
      "34/34 [==============================] - 0s 4ms/step - loss: 0.1701 - accuracy: 0.9442 - val_loss: 0.1033 - val_accuracy: 0.9706\n",
      "Epoch 6/100\n",
      "34/34 [==============================] - 0s 4ms/step - loss: 0.1579 - accuracy: 0.9540 - val_loss: 0.0937 - val_accuracy: 0.9706\n",
      "Epoch 7/100\n",
      "34/34 [==============================] - 0s 4ms/step - loss: 0.1542 - accuracy: 0.9503 - val_loss: 0.0848 - val_accuracy: 0.9796\n",
      "Epoch 8/100\n",
      "34/34 [==============================] - 0s 4ms/step - loss: 0.1503 - accuracy: 0.9450 - val_loss: 0.1391 - val_accuracy: 0.9480\n",
      "Epoch 9/100\n",
      "34/34 [==============================] - 0s 4ms/step - loss: 0.1555 - accuracy: 0.9518 - val_loss: 0.0763 - val_accuracy: 0.9751\n",
      "Epoch 10/100\n",
      "34/34 [==============================] - 0s 4ms/step - loss: 0.1358 - accuracy: 0.9555 - val_loss: 0.0811 - val_accuracy: 0.9751\n",
      "Epoch 11/100\n",
      "34/34 [==============================] - 0s 4ms/step - loss: 0.1225 - accuracy: 0.9638 - val_loss: 0.0795 - val_accuracy: 0.9706\n",
      "Epoch 12/100\n",
      "34/34 [==============================] - 0s 4ms/step - loss: 0.1202 - accuracy: 0.9586 - val_loss: 0.0699 - val_accuracy: 0.9751\n",
      "Epoch 13/100\n",
      "34/34 [==============================] - 0s 4ms/step - loss: 0.1228 - accuracy: 0.9578 - val_loss: 0.0823 - val_accuracy: 0.9774\n",
      "Epoch 14/100\n",
      "34/34 [==============================] - 0s 4ms/step - loss: 0.1101 - accuracy: 0.9638 - val_loss: 0.0608 - val_accuracy: 0.9842\n",
      "Epoch 15/100\n",
      "34/34 [==============================] - 0s 4ms/step - loss: 0.1077 - accuracy: 0.9653 - val_loss: 0.0625 - val_accuracy: 0.9819\n",
      "Epoch 16/100\n",
      "34/34 [==============================] - 0s 4ms/step - loss: 0.1050 - accuracy: 0.9608 - val_loss: 0.0575 - val_accuracy: 0.9796\n",
      "Epoch 17/100\n",
      "34/34 [==============================] - 0s 4ms/step - loss: 0.0932 - accuracy: 0.9638 - val_loss: 0.0601 - val_accuracy: 0.9842\n",
      "Epoch 18/100\n",
      "34/34 [==============================] - 0s 4ms/step - loss: 0.0989 - accuracy: 0.9616 - val_loss: 0.0545 - val_accuracy: 0.9887\n",
      "Epoch 19/100\n",
      "34/34 [==============================] - 0s 4ms/step - loss: 0.0983 - accuracy: 0.9638 - val_loss: 0.0519 - val_accuracy: 0.9842\n",
      "Epoch 20/100\n",
      "34/34 [==============================] - 0s 4ms/step - loss: 0.0883 - accuracy: 0.9721 - val_loss: 0.0545 - val_accuracy: 0.9819\n",
      "Epoch 21/100\n",
      "34/34 [==============================] - 0s 4ms/step - loss: 0.0879 - accuracy: 0.9721 - val_loss: 0.0652 - val_accuracy: 0.9751\n",
      "Epoch 22/100\n",
      "34/34 [==============================] - 0s 4ms/step - loss: 0.1019 - accuracy: 0.9623 - val_loss: 0.0560 - val_accuracy: 0.9819\n",
      "Epoch 23/100\n",
      "34/34 [==============================] - 0s 4ms/step - loss: 0.0880 - accuracy: 0.9676 - val_loss: 0.0604 - val_accuracy: 0.9774\n"
     ]
    },
    {
     "name": "stderr",
     "output_type": "stream",
     "text": [
      "[I 2024-02-21 17:19:46,330] Trial 4 finished with value: 0.9773755669593811 and parameters: {'filters': 124, 'dropout_rate': 0.3422525332278965, 'dense_units': 166}. Best is trial 0 with value: 0.9841628670692444.\n"
     ]
    },
    {
     "name": "stdout",
     "output_type": "stream",
     "text": [
      "Epoch 1/100\n",
      "34/34 [==============================] - 1s 10ms/step - loss: 0.8761 - accuracy: 0.6616 - val_loss: 0.5729 - val_accuracy: 0.8597\n",
      "Epoch 2/100\n",
      "34/34 [==============================] - 0s 4ms/step - loss: 0.4061 - accuracy: 0.8583 - val_loss: 0.2252 - val_accuracy: 0.9208\n",
      "Epoch 3/100\n",
      "34/34 [==============================] - 0s 4ms/step - loss: 0.2610 - accuracy: 0.9096 - val_loss: 0.1605 - val_accuracy: 0.9412\n",
      "Epoch 4/100\n",
      "34/34 [==============================] - 0s 4ms/step - loss: 0.2233 - accuracy: 0.9156 - val_loss: 0.1459 - val_accuracy: 0.9502\n",
      "Epoch 5/100\n",
      "34/34 [==============================] - 0s 5ms/step - loss: 0.2055 - accuracy: 0.9352 - val_loss: 0.1507 - val_accuracy: 0.9457\n",
      "Epoch 6/100\n",
      "34/34 [==============================] - 0s 4ms/step - loss: 0.1843 - accuracy: 0.9307 - val_loss: 0.1399 - val_accuracy: 0.9502\n",
      "Epoch 7/100\n",
      "34/34 [==============================] - 0s 4ms/step - loss: 0.1870 - accuracy: 0.9352 - val_loss: 0.1154 - val_accuracy: 0.9729\n",
      "Epoch 8/100\n",
      "34/34 [==============================] - 0s 4ms/step - loss: 0.1891 - accuracy: 0.9420 - val_loss: 0.1157 - val_accuracy: 0.9729\n",
      "Epoch 9/100\n",
      "34/34 [==============================] - 0s 4ms/step - loss: 0.1796 - accuracy: 0.9397 - val_loss: 0.1095 - val_accuracy: 0.9729\n",
      "Epoch 10/100\n",
      "34/34 [==============================] - 0s 4ms/step - loss: 0.1644 - accuracy: 0.9457 - val_loss: 0.0957 - val_accuracy: 0.9751\n",
      "Epoch 11/100\n",
      "34/34 [==============================] - 0s 4ms/step - loss: 0.1517 - accuracy: 0.9503 - val_loss: 0.0888 - val_accuracy: 0.9796\n",
      "Epoch 12/100\n",
      "34/34 [==============================] - 0s 4ms/step - loss: 0.1496 - accuracy: 0.9480 - val_loss: 0.0857 - val_accuracy: 0.9774\n",
      "Epoch 13/100\n",
      "34/34 [==============================] - 0s 6ms/step - loss: 0.1487 - accuracy: 0.9510 - val_loss: 0.0850 - val_accuracy: 0.9774\n",
      "Epoch 14/100\n",
      "34/34 [==============================] - 0s 6ms/step - loss: 0.1439 - accuracy: 0.9548 - val_loss: 0.0860 - val_accuracy: 0.9774\n",
      "Epoch 15/100\n",
      "34/34 [==============================] - 0s 7ms/step - loss: 0.1463 - accuracy: 0.9488 - val_loss: 0.0830 - val_accuracy: 0.9751\n",
      "Epoch 16/100\n",
      "34/34 [==============================] - 0s 5ms/step - loss: 0.1386 - accuracy: 0.9510 - val_loss: 0.0747 - val_accuracy: 0.9751\n",
      "Epoch 17/100\n",
      "34/34 [==============================] - 0s 5ms/step - loss: 0.1298 - accuracy: 0.9586 - val_loss: 0.0781 - val_accuracy: 0.9796\n",
      "Epoch 18/100\n",
      "34/34 [==============================] - 0s 5ms/step - loss: 0.1404 - accuracy: 0.9518 - val_loss: 0.0720 - val_accuracy: 0.9774\n",
      "Epoch 19/100\n",
      "34/34 [==============================] - 0s 4ms/step - loss: 0.1289 - accuracy: 0.9533 - val_loss: 0.0743 - val_accuracy: 0.9774\n",
      "Epoch 20/100\n",
      "34/34 [==============================] - 0s 4ms/step - loss: 0.1242 - accuracy: 0.9570 - val_loss: 0.0985 - val_accuracy: 0.9615\n",
      "Epoch 21/100\n",
      "34/34 [==============================] - 0s 4ms/step - loss: 0.1281 - accuracy: 0.9601 - val_loss: 0.0727 - val_accuracy: 0.9774\n",
      "Epoch 22/100\n",
      "34/34 [==============================] - 0s 4ms/step - loss: 0.1111 - accuracy: 0.9676 - val_loss: 0.0698 - val_accuracy: 0.9774\n",
      "Epoch 23/100\n",
      "34/34 [==============================] - 0s 4ms/step - loss: 0.1145 - accuracy: 0.9593 - val_loss: 0.0745 - val_accuracy: 0.9774\n",
      "Epoch 24/100\n",
      "34/34 [==============================] - 0s 5ms/step - loss: 0.1138 - accuracy: 0.9646 - val_loss: 0.0678 - val_accuracy: 0.9774\n",
      "Epoch 25/100\n",
      "34/34 [==============================] - 0s 5ms/step - loss: 0.1154 - accuracy: 0.9578 - val_loss: 0.0675 - val_accuracy: 0.9751\n",
      "Epoch 26/100\n",
      "34/34 [==============================] - 0s 5ms/step - loss: 0.1170 - accuracy: 0.9548 - val_loss: 0.0645 - val_accuracy: 0.9796\n",
      "Epoch 27/100\n",
      "34/34 [==============================] - 0s 5ms/step - loss: 0.1134 - accuracy: 0.9623 - val_loss: 0.0625 - val_accuracy: 0.9864\n",
      "Epoch 28/100\n",
      "34/34 [==============================] - 0s 5ms/step - loss: 0.1079 - accuracy: 0.9631 - val_loss: 0.0679 - val_accuracy: 0.9774\n",
      "Epoch 29/100\n",
      "34/34 [==============================] - 0s 5ms/step - loss: 0.1076 - accuracy: 0.9631 - val_loss: 0.0697 - val_accuracy: 0.9774\n",
      "Epoch 30/100\n",
      "34/34 [==============================] - 0s 6ms/step - loss: 0.1025 - accuracy: 0.9699 - val_loss: 0.0562 - val_accuracy: 0.9796\n",
      "Epoch 31/100\n",
      "34/34 [==============================] - 0s 5ms/step - loss: 0.1020 - accuracy: 0.9646 - val_loss: 0.0599 - val_accuracy: 0.9819\n",
      "Epoch 32/100\n",
      "34/34 [==============================] - 0s 5ms/step - loss: 0.1109 - accuracy: 0.9638 - val_loss: 0.0564 - val_accuracy: 0.9842\n",
      "Epoch 33/100\n",
      "34/34 [==============================] - 0s 5ms/step - loss: 0.0928 - accuracy: 0.9668 - val_loss: 0.0603 - val_accuracy: 0.9819\n",
      "Epoch 34/100\n",
      "34/34 [==============================] - 0s 5ms/step - loss: 0.1004 - accuracy: 0.9653 - val_loss: 0.0600 - val_accuracy: 0.9819\n"
     ]
    },
    {
     "name": "stderr",
     "output_type": "stream",
     "text": [
      "[I 2024-02-21 17:19:52,775] Trial 5 finished with value: 0.9819004535675049 and parameters: {'filters': 109, 'dropout_rate': 0.49852440337873294, 'dense_units': 51}. Best is trial 0 with value: 0.9841628670692444.\n"
     ]
    },
    {
     "name": "stdout",
     "output_type": "stream",
     "text": [
      "Epoch 1/100\n",
      "34/34 [==============================] - 1s 8ms/step - loss: 0.8883 - accuracy: 0.7001 - val_loss: 0.5992 - val_accuracy: 0.8462\n",
      "Epoch 2/100\n",
      "34/34 [==============================] - 0s 3ms/step - loss: 0.4192 - accuracy: 0.8606 - val_loss: 0.2226 - val_accuracy: 0.9253\n",
      "Epoch 3/100\n",
      "34/34 [==============================] - 0s 3ms/step - loss: 0.2347 - accuracy: 0.9239 - val_loss: 0.1472 - val_accuracy: 0.9502\n",
      "Epoch 4/100\n",
      "34/34 [==============================] - 0s 3ms/step - loss: 0.2057 - accuracy: 0.9239 - val_loss: 0.1165 - val_accuracy: 0.9683\n",
      "Epoch 5/100\n",
      "34/34 [==============================] - 0s 3ms/step - loss: 0.1823 - accuracy: 0.9397 - val_loss: 0.1043 - val_accuracy: 0.9706\n",
      "Epoch 6/100\n",
      "34/34 [==============================] - 0s 3ms/step - loss: 0.1831 - accuracy: 0.9465 - val_loss: 0.0993 - val_accuracy: 0.9706\n",
      "Epoch 7/100\n",
      "34/34 [==============================] - 0s 3ms/step - loss: 0.1602 - accuracy: 0.9510 - val_loss: 0.0943 - val_accuracy: 0.9706\n",
      "Epoch 8/100\n",
      "34/34 [==============================] - 0s 3ms/step - loss: 0.1506 - accuracy: 0.9495 - val_loss: 0.0949 - val_accuracy: 0.9729\n",
      "Epoch 9/100\n",
      "34/34 [==============================] - 0s 3ms/step - loss: 0.1608 - accuracy: 0.9488 - val_loss: 0.0890 - val_accuracy: 0.9751\n",
      "Epoch 10/100\n",
      "34/34 [==============================] - 0s 3ms/step - loss: 0.1442 - accuracy: 0.9540 - val_loss: 0.0753 - val_accuracy: 0.9774\n",
      "Epoch 11/100\n",
      "34/34 [==============================] - 0s 3ms/step - loss: 0.1413 - accuracy: 0.9533 - val_loss: 0.0749 - val_accuracy: 0.9774\n",
      "Epoch 12/100\n",
      "34/34 [==============================] - 0s 3ms/step - loss: 0.1275 - accuracy: 0.9586 - val_loss: 0.0733 - val_accuracy: 0.9796\n",
      "Epoch 13/100\n",
      "34/34 [==============================] - 0s 3ms/step - loss: 0.1312 - accuracy: 0.9586 - val_loss: 0.0729 - val_accuracy: 0.9774\n",
      "Epoch 14/100\n",
      "34/34 [==============================] - 0s 4ms/step - loss: 0.1404 - accuracy: 0.9548 - val_loss: 0.0733 - val_accuracy: 0.9774\n",
      "Epoch 15/100\n",
      "34/34 [==============================] - 0s 3ms/step - loss: 0.1364 - accuracy: 0.9601 - val_loss: 0.0686 - val_accuracy: 0.9796\n",
      "Epoch 16/100\n",
      "34/34 [==============================] - 0s 3ms/step - loss: 0.1287 - accuracy: 0.9586 - val_loss: 0.0662 - val_accuracy: 0.9796\n",
      "Epoch 17/100\n",
      "34/34 [==============================] - 0s 3ms/step - loss: 0.1255 - accuracy: 0.9593 - val_loss: 0.0886 - val_accuracy: 0.9706\n",
      "Epoch 18/100\n",
      "34/34 [==============================] - 0s 3ms/step - loss: 0.1333 - accuracy: 0.9616 - val_loss: 0.0644 - val_accuracy: 0.9819\n",
      "Epoch 19/100\n",
      "34/34 [==============================] - 0s 3ms/step - loss: 0.1196 - accuracy: 0.9601 - val_loss: 0.0606 - val_accuracy: 0.9796\n",
      "Epoch 20/100\n",
      "34/34 [==============================] - 0s 3ms/step - loss: 0.1211 - accuracy: 0.9555 - val_loss: 0.0618 - val_accuracy: 0.9796\n",
      "Epoch 21/100\n",
      "34/34 [==============================] - 0s 3ms/step - loss: 0.1143 - accuracy: 0.9623 - val_loss: 0.0582 - val_accuracy: 0.9842\n",
      "Epoch 22/100\n",
      "34/34 [==============================] - 0s 3ms/step - loss: 0.1047 - accuracy: 0.9638 - val_loss: 0.0580 - val_accuracy: 0.9842\n",
      "Epoch 23/100\n",
      "34/34 [==============================] - 0s 3ms/step - loss: 0.1022 - accuracy: 0.9616 - val_loss: 0.0655 - val_accuracy: 0.9819\n",
      "Epoch 24/100\n",
      "34/34 [==============================] - 0s 3ms/step - loss: 0.0998 - accuracy: 0.9676 - val_loss: 0.0541 - val_accuracy: 0.9819\n",
      "Epoch 25/100\n",
      "34/34 [==============================] - 0s 4ms/step - loss: 0.0882 - accuracy: 0.9691 - val_loss: 0.0491 - val_accuracy: 0.9887\n",
      "Epoch 26/100\n",
      "34/34 [==============================] - 0s 3ms/step - loss: 0.1046 - accuracy: 0.9623 - val_loss: 0.0511 - val_accuracy: 0.9864\n",
      "Epoch 27/100\n",
      "34/34 [==============================] - 0s 3ms/step - loss: 0.1007 - accuracy: 0.9646 - val_loss: 0.0537 - val_accuracy: 0.9864\n",
      "Epoch 28/100\n",
      "34/34 [==============================] - 0s 4ms/step - loss: 0.0899 - accuracy: 0.9646 - val_loss: 0.0533 - val_accuracy: 0.9864\n",
      "Epoch 29/100\n",
      "34/34 [==============================] - 0s 3ms/step - loss: 0.0962 - accuracy: 0.9646 - val_loss: 0.0487 - val_accuracy: 0.9842\n",
      "Epoch 30/100\n",
      "34/34 [==============================] - 0s 3ms/step - loss: 0.0899 - accuracy: 0.9676 - val_loss: 0.0534 - val_accuracy: 0.9796\n",
      "Epoch 31/100\n",
      "34/34 [==============================] - 0s 4ms/step - loss: 0.0892 - accuracy: 0.9729 - val_loss: 0.0502 - val_accuracy: 0.9864\n",
      "Epoch 32/100\n",
      "34/34 [==============================] - 0s 4ms/step - loss: 0.0860 - accuracy: 0.9699 - val_loss: 0.0465 - val_accuracy: 0.9864\n",
      "Epoch 33/100\n",
      "34/34 [==============================] - 0s 4ms/step - loss: 0.0822 - accuracy: 0.9661 - val_loss: 0.0456 - val_accuracy: 0.9887\n",
      "Epoch 34/100\n",
      "34/34 [==============================] - 0s 4ms/step - loss: 0.0908 - accuracy: 0.9653 - val_loss: 0.0467 - val_accuracy: 0.9842\n",
      "Epoch 35/100\n",
      "34/34 [==============================] - 0s 3ms/step - loss: 0.0789 - accuracy: 0.9714 - val_loss: 0.0444 - val_accuracy: 0.9887\n",
      "Epoch 36/100\n",
      "34/34 [==============================] - 0s 4ms/step - loss: 0.0792 - accuracy: 0.9721 - val_loss: 0.0457 - val_accuracy: 0.9842\n",
      "Epoch 37/100\n",
      "34/34 [==============================] - 0s 5ms/step - loss: 0.0788 - accuracy: 0.9714 - val_loss: 0.0502 - val_accuracy: 0.9842\n",
      "Epoch 38/100\n",
      "34/34 [==============================] - 0s 4ms/step - loss: 0.0769 - accuracy: 0.9714 - val_loss: 0.0472 - val_accuracy: 0.9842\n",
      "Epoch 39/100\n",
      "34/34 [==============================] - 0s 4ms/step - loss: 0.0739 - accuracy: 0.9721 - val_loss: 0.0491 - val_accuracy: 0.9819\n"
     ]
    },
    {
     "name": "stderr",
     "output_type": "stream",
     "text": [
      "[I 2024-02-21 17:19:58,556] Trial 6 finished with value: 0.9819004535675049 and parameters: {'filters': 47, 'dropout_rate': 0.20491642570197213, 'dense_units': 200}. Best is trial 0 with value: 0.9841628670692444.\n"
     ]
    },
    {
     "name": "stdout",
     "output_type": "stream",
     "text": [
      "Epoch 1/100\n",
      "34/34 [==============================] - 1s 9ms/step - loss: 0.9496 - accuracy: 0.6127 - val_loss: 0.7336 - val_accuracy: 0.7941\n",
      "Epoch 2/100\n",
      "34/34 [==============================] - 0s 4ms/step - loss: 0.5467 - accuracy: 0.8470 - val_loss: 0.3411 - val_accuracy: 0.9005\n",
      "Epoch 3/100\n",
      "34/34 [==============================] - 0s 4ms/step - loss: 0.2849 - accuracy: 0.9088 - val_loss: 0.1964 - val_accuracy: 0.9276\n",
      "Epoch 4/100\n",
      "34/34 [==============================] - 0s 4ms/step - loss: 0.2120 - accuracy: 0.9231 - val_loss: 0.1575 - val_accuracy: 0.9548\n",
      "Epoch 5/100\n",
      "34/34 [==============================] - 0s 4ms/step - loss: 0.2019 - accuracy: 0.9337 - val_loss: 0.1399 - val_accuracy: 0.9480\n",
      "Epoch 6/100\n",
      "34/34 [==============================] - 0s 4ms/step - loss: 0.1774 - accuracy: 0.9420 - val_loss: 0.1225 - val_accuracy: 0.9615\n",
      "Epoch 7/100\n",
      "34/34 [==============================] - 0s 4ms/step - loss: 0.1673 - accuracy: 0.9450 - val_loss: 0.1024 - val_accuracy: 0.9706\n",
      "Epoch 8/100\n",
      "34/34 [==============================] - 0s 3ms/step - loss: 0.1541 - accuracy: 0.9510 - val_loss: 0.1071 - val_accuracy: 0.9548\n",
      "Epoch 9/100\n",
      "34/34 [==============================] - 0s 4ms/step - loss: 0.1515 - accuracy: 0.9495 - val_loss: 0.0976 - val_accuracy: 0.9661\n",
      "Epoch 10/100\n",
      "34/34 [==============================] - 0s 4ms/step - loss: 0.1467 - accuracy: 0.9525 - val_loss: 0.0875 - val_accuracy: 0.9729\n",
      "Epoch 11/100\n",
      "34/34 [==============================] - 0s 4ms/step - loss: 0.1477 - accuracy: 0.9518 - val_loss: 0.0852 - val_accuracy: 0.9706\n",
      "Epoch 12/100\n",
      "34/34 [==============================] - 0s 3ms/step - loss: 0.1415 - accuracy: 0.9548 - val_loss: 0.0830 - val_accuracy: 0.9796\n",
      "Epoch 13/100\n",
      "34/34 [==============================] - 0s 3ms/step - loss: 0.1275 - accuracy: 0.9540 - val_loss: 0.0836 - val_accuracy: 0.9729\n",
      "Epoch 14/100\n",
      "34/34 [==============================] - 0s 4ms/step - loss: 0.1327 - accuracy: 0.9525 - val_loss: 0.0814 - val_accuracy: 0.9774\n",
      "Epoch 15/100\n",
      "34/34 [==============================] - 0s 3ms/step - loss: 0.1282 - accuracy: 0.9601 - val_loss: 0.0822 - val_accuracy: 0.9774\n",
      "Epoch 16/100\n",
      "34/34 [==============================] - 0s 3ms/step - loss: 0.1185 - accuracy: 0.9578 - val_loss: 0.0800 - val_accuracy: 0.9751\n",
      "Epoch 17/100\n",
      "34/34 [==============================] - 0s 3ms/step - loss: 0.1149 - accuracy: 0.9616 - val_loss: 0.0721 - val_accuracy: 0.9796\n",
      "Epoch 18/100\n",
      "34/34 [==============================] - 0s 4ms/step - loss: 0.1199 - accuracy: 0.9601 - val_loss: 0.0776 - val_accuracy: 0.9729\n",
      "Epoch 19/100\n",
      "34/34 [==============================] - 0s 4ms/step - loss: 0.1072 - accuracy: 0.9623 - val_loss: 0.0676 - val_accuracy: 0.9751\n",
      "Epoch 20/100\n",
      "34/34 [==============================] - 0s 4ms/step - loss: 0.1102 - accuracy: 0.9646 - val_loss: 0.0663 - val_accuracy: 0.9774\n",
      "Epoch 21/100\n",
      "34/34 [==============================] - 0s 4ms/step - loss: 0.1018 - accuracy: 0.9646 - val_loss: 0.0673 - val_accuracy: 0.9796\n",
      "Epoch 22/100\n",
      "34/34 [==============================] - 0s 5ms/step - loss: 0.1244 - accuracy: 0.9570 - val_loss: 0.0740 - val_accuracy: 0.9774\n",
      "Epoch 23/100\n",
      "34/34 [==============================] - 0s 4ms/step - loss: 0.1013 - accuracy: 0.9653 - val_loss: 0.0614 - val_accuracy: 0.9819\n",
      "Epoch 24/100\n",
      "34/34 [==============================] - 0s 10ms/step - loss: 0.0974 - accuracy: 0.9661 - val_loss: 0.0651 - val_accuracy: 0.9729\n",
      "Epoch 25/100\n",
      "34/34 [==============================] - 0s 7ms/step - loss: 0.1015 - accuracy: 0.9676 - val_loss: 0.0632 - val_accuracy: 0.9796\n",
      "Epoch 26/100\n",
      "34/34 [==============================] - 0s 4ms/step - loss: 0.0882 - accuracy: 0.9691 - val_loss: 0.0632 - val_accuracy: 0.9796\n",
      "Epoch 27/100\n",
      "34/34 [==============================] - 0s 5ms/step - loss: 0.0901 - accuracy: 0.9668 - val_loss: 0.0587 - val_accuracy: 0.9774\n",
      "Epoch 28/100\n",
      "34/34 [==============================] - 0s 5ms/step - loss: 0.0874 - accuracy: 0.9706 - val_loss: 0.0577 - val_accuracy: 0.9819\n",
      "Epoch 29/100\n",
      "34/34 [==============================] - 0s 4ms/step - loss: 0.0936 - accuracy: 0.9661 - val_loss: 0.0572 - val_accuracy: 0.9819\n",
      "Epoch 30/100\n",
      "34/34 [==============================] - 0s 4ms/step - loss: 0.0975 - accuracy: 0.9608 - val_loss: 0.0616 - val_accuracy: 0.9819\n",
      "Epoch 31/100\n",
      "34/34 [==============================] - 0s 4ms/step - loss: 0.0808 - accuracy: 0.9691 - val_loss: 0.0621 - val_accuracy: 0.9819\n",
      "Epoch 32/100\n",
      "34/34 [==============================] - 0s 4ms/step - loss: 0.0843 - accuracy: 0.9706 - val_loss: 0.0568 - val_accuracy: 0.9819\n",
      "Epoch 33/100\n",
      "34/34 [==============================] - 0s 3ms/step - loss: 0.0842 - accuracy: 0.9729 - val_loss: 0.0587 - val_accuracy: 0.9819\n",
      "Epoch 34/100\n",
      "34/34 [==============================] - 0s 3ms/step - loss: 0.0760 - accuracy: 0.9721 - val_loss: 0.0544 - val_accuracy: 0.9706\n",
      "Epoch 35/100\n",
      "34/34 [==============================] - 0s 3ms/step - loss: 0.0806 - accuracy: 0.9721 - val_loss: 0.0555 - val_accuracy: 0.9842\n",
      "Epoch 36/100\n",
      "34/34 [==============================] - 0s 4ms/step - loss: 0.0800 - accuracy: 0.9714 - val_loss: 0.0615 - val_accuracy: 0.9751\n",
      "Epoch 37/100\n",
      "34/34 [==============================] - 0s 5ms/step - loss: 0.0779 - accuracy: 0.9699 - val_loss: 0.0614 - val_accuracy: 0.9796\n",
      "Epoch 38/100\n",
      "34/34 [==============================] - 0s 4ms/step - loss: 0.0692 - accuracy: 0.9751 - val_loss: 0.0676 - val_accuracy: 0.9751\n"
     ]
    },
    {
     "name": "stderr",
     "output_type": "stream",
     "text": [
      "[I 2024-02-21 17:20:04,919] Trial 7 finished with value: 0.9751130938529968 and parameters: {'filters': 51, 'dropout_rate': 0.1136651130077559, 'dense_units': 68}. Best is trial 0 with value: 0.9841628670692444.\n"
     ]
    },
    {
     "name": "stdout",
     "output_type": "stream",
     "text": [
      "Best Hyperparameters: {'filters': 86, 'dropout_rate': 0.11239404438100471, 'dense_units': 73}\n"
     ]
    }
   ],
   "source": [
    "\n",
    "best_params=optimize_model(X_train_arr, y_train_arr, X_valid_arr, y_valid_arr)"
   ]
  },
  {
   "cell_type": "code",
   "execution_count": 85,
   "metadata": {},
   "outputs": [
    {
     "data": {
      "text/plain": [
       "{'filters': 86, 'dropout_rate': 0.11239404438100471, 'dense_units': 73}"
      ]
     },
     "execution_count": 85,
     "metadata": {},
     "output_type": "execute_result"
    }
   ],
   "source": [
    "best_params"
   ]
  },
  {
   "cell_type": "code",
   "execution_count": 86,
   "metadata": {},
   "outputs": [],
   "source": [
    "\n",
    "import pickle\n",
    "\n",
    "# fit and evaluate a model\n",
    "def evaluate_model(trainX, trainy,validX,validy, testX, testy):\n",
    "#  verbose, epochs, batch_size = 1, 1500, 100\n",
    " n_timesteps, n_features, n_outputs = trainX.shape[1], trainX.shape[2], 3\n",
    " model = Sequential()\n",
    " model.add(Conv1D(filters=best_params['filters'], kernel_size=3, activation='relu', input_shape=(n_timesteps,n_features)))\n",
    " model.add(Conv1D(filters=best_params['filters'], kernel_size=2, activation='relu'))\n",
    " model.add(Dropout(best_params['dropout_rate']))\n",
    "#  model.add(MaxPooling1D(pool_size=2))\n",
    " model.add(Flatten())\n",
    " model.add(Dense(best_params['dense_units'], activation='relu'))\n",
    " model.add(Dense(n_outputs, activation='softmax')) # \"softmax\" for multi-class\n",
    " model.compile(loss='categorical_crossentropy', optimizer='adam', metrics=['accuracy'])\n",
    " # fit network\n",
    " history=model.fit(trainX, trainy, validation_data=(validX, validy), epochs=epochs, batch_size=batch_size,callbacks=[callback], verbose=verbose)\n",
    " #summarize_mode\n",
    " print(model.summary())\n",
    " # evaluate model\n",
    " _, accuracy = model.evaluate(testX, testy, batch_size=batch_size, verbose=0)\n",
    " # '_,'-->a variable is being used for a specific purpose, but its value is not of interest or not used in the subsequent code.\n",
    " return accuracy,history"
   ]
  },
  {
   "cell_type": "code",
   "execution_count": 87,
   "metadata": {},
   "outputs": [
    {
     "name": "stdout",
     "output_type": "stream",
     "text": [
      "Epoch 1/100\n",
      "34/34 [==============================] - 2s 16ms/step - loss: 0.7098 - accuracy: 0.7754 - val_loss: 0.2691 - val_accuracy: 0.9118\n",
      "Epoch 2/100\n",
      "34/34 [==============================] - 0s 5ms/step - loss: 0.2315 - accuracy: 0.9329 - val_loss: 0.1201 - val_accuracy: 0.9729\n",
      "Epoch 3/100\n",
      "34/34 [==============================] - 0s 5ms/step - loss: 0.1637 - accuracy: 0.9480 - val_loss: 0.1132 - val_accuracy: 0.9661\n",
      "Epoch 4/100\n",
      "34/34 [==============================] - 0s 4ms/step - loss: 0.1410 - accuracy: 0.9548 - val_loss: 0.0813 - val_accuracy: 0.9796\n",
      "Epoch 5/100\n",
      "34/34 [==============================] - 0s 6ms/step - loss: 0.1253 - accuracy: 0.9578 - val_loss: 0.0814 - val_accuracy: 0.9796\n",
      "Epoch 6/100\n",
      "34/34 [==============================] - 0s 5ms/step - loss: 0.1140 - accuracy: 0.9638 - val_loss: 0.0642 - val_accuracy: 0.9842\n",
      "Epoch 7/100\n",
      "34/34 [==============================] - 0s 4ms/step - loss: 0.1007 - accuracy: 0.9661 - val_loss: 0.0571 - val_accuracy: 0.9819\n",
      "Epoch 8/100\n",
      "34/34 [==============================] - 0s 5ms/step - loss: 0.0869 - accuracy: 0.9706 - val_loss: 0.0545 - val_accuracy: 0.9796\n",
      "Epoch 9/100\n",
      "34/34 [==============================] - 0s 5ms/step - loss: 0.0996 - accuracy: 0.9616 - val_loss: 0.0503 - val_accuracy: 0.9887\n",
      "Epoch 10/100\n",
      "34/34 [==============================] - 0s 4ms/step - loss: 0.0863 - accuracy: 0.9699 - val_loss: 0.0506 - val_accuracy: 0.9864\n",
      "Epoch 11/100\n",
      "34/34 [==============================] - 0s 4ms/step - loss: 0.0756 - accuracy: 0.9706 - val_loss: 0.0556 - val_accuracy: 0.9819\n",
      "Epoch 12/100\n",
      "34/34 [==============================] - 0s 4ms/step - loss: 0.0646 - accuracy: 0.9789 - val_loss: 0.0449 - val_accuracy: 0.9910\n",
      "Epoch 13/100\n",
      "34/34 [==============================] - 0s 4ms/step - loss: 0.0696 - accuracy: 0.9729 - val_loss: 0.0468 - val_accuracy: 0.9910\n",
      "Epoch 14/100\n",
      "34/34 [==============================] - 0s 4ms/step - loss: 0.0620 - accuracy: 0.9789 - val_loss: 0.0524 - val_accuracy: 0.9796\n",
      "Epoch 15/100\n",
      "34/34 [==============================] - 0s 3ms/step - loss: 0.0608 - accuracy: 0.9774 - val_loss: 0.0503 - val_accuracy: 0.9819\n",
      "Epoch 16/100\n",
      "34/34 [==============================] - 0s 4ms/step - loss: 0.0594 - accuracy: 0.9789 - val_loss: 0.0433 - val_accuracy: 0.9864\n",
      "Epoch 17/100\n",
      "34/34 [==============================] - 0s 4ms/step - loss: 0.0599 - accuracy: 0.9766 - val_loss: 0.0432 - val_accuracy: 0.9887\n",
      "Epoch 18/100\n",
      "34/34 [==============================] - 0s 4ms/step - loss: 0.0531 - accuracy: 0.9781 - val_loss: 0.0415 - val_accuracy: 0.9864\n",
      "Epoch 19/100\n",
      "34/34 [==============================] - 0s 5ms/step - loss: 0.0714 - accuracy: 0.9714 - val_loss: 0.0399 - val_accuracy: 0.9910\n",
      "Epoch 20/100\n",
      "34/34 [==============================] - 0s 4ms/step - loss: 0.0594 - accuracy: 0.9781 - val_loss: 0.0496 - val_accuracy: 0.9842\n",
      "Epoch 21/100\n",
      "34/34 [==============================] - 0s 4ms/step - loss: 0.0517 - accuracy: 0.9827 - val_loss: 0.0487 - val_accuracy: 0.9864\n",
      "Epoch 22/100\n",
      "34/34 [==============================] - 0s 4ms/step - loss: 0.0479 - accuracy: 0.9849 - val_loss: 0.0390 - val_accuracy: 0.9842\n",
      "Epoch 23/100\n",
      "34/34 [==============================] - 0s 4ms/step - loss: 0.0462 - accuracy: 0.9857 - val_loss: 0.0401 - val_accuracy: 0.9887\n",
      "Epoch 24/100\n",
      "34/34 [==============================] - 0s 4ms/step - loss: 0.0483 - accuracy: 0.9834 - val_loss: 0.0416 - val_accuracy: 0.9887\n",
      "Epoch 25/100\n",
      "34/34 [==============================] - 0s 3ms/step - loss: 0.0473 - accuracy: 0.9857 - val_loss: 0.0430 - val_accuracy: 0.9842\n",
      "Epoch 26/100\n",
      "34/34 [==============================] - 0s 3ms/step - loss: 0.0501 - accuracy: 0.9827 - val_loss: 0.0460 - val_accuracy: 0.9819\n",
      "Model: \"sequential_11\"\n",
      "_________________________________________________________________\n",
      " Layer (type)                Output Shape              Param #   \n",
      "=================================================================\n",
      " conv1d_21 (Conv1D)          (None, 4, 86)             344       \n",
      "                                                                 \n",
      " conv1d_22 (Conv1D)          (None, 3, 86)             14878     \n",
      "                                                                 \n",
      " dropout_9 (Dropout)         (None, 3, 86)             0         \n",
      "                                                                 \n",
      " flatten_8 (Flatten)         (None, 258)               0         \n",
      "                                                                 \n",
      " dense_16 (Dense)            (None, 73)                18907     \n",
      "                                                                 \n",
      " dense_17 (Dense)            (None, 3)                 222       \n",
      "                                                                 \n",
      "=================================================================\n",
      "Total params: 34351 (134.18 KB)\n",
      "Trainable params: 34351 (134.18 KB)\n",
      "Non-trainable params: 0 (0.00 Byte)\n",
      "_________________________________________________________________\n",
      "None\n",
      "[99.54853057861328]\n",
      "Test Accuracy: 99.549% (+/-0.000)\n"
     ]
    }
   ],
   "source": [
    "scores = list()\n",
    "score,history= evaluate_model(X_train_arr, y_train_arr, X_valid_arr, y_valid_arr, X_test_arr, y_test_arr)\n",
    "score = score * 100.0\n",
    "scores.append(score)\n",
    "# summarize results\n",
    "summarize_results(scores)"
   ]
  },
  {
   "cell_type": "markdown",
   "metadata": {},
   "source": [
    "**Validation curve**"
   ]
  },
  {
   "cell_type": "code",
   "execution_count": 90,
   "metadata": {},
   "outputs": [
    {
     "data": {
      "image/png": "[encoded data removed]",
      "text/plain": [
       "<Figure size 640x480 with 1 Axes>"
      ]
     },
     "metadata": {},
     "output_type": "display_data"
    }
   ],
   "source": [
    "# plot loss-curve\n",
    "pyplot.plot(history.history['loss'], label='training')\n",
    "pyplot.plot(history.history['val_loss'], label='validation')\n",
    "plt.xlabel('epoch')\n",
    "plt.ylabel('loss')\n",
    "plt.title('Loss-curve')\n",
    "pyplot.legend()\n",
    "pyplot.show()"
   ]
  },
  {
   "cell_type": "markdown",
   "metadata": {},
   "source": [
    "**Experiment**"
   ]
  },
  {
   "cell_type": "code",
   "execution_count": 88,
   "metadata": {},
   "outputs": [],
   "source": [
    "\n",
    "from sklearn.metrics import confusion_matrix, ConfusionMatrixDisplay\n",
    "import pickle\n",
    "\n",
    "# fit and evaluate a model\n",
    "def evaluate_model_2(trainX, trainy,validX,validy, testX, testy):\n",
    " verbose, epochs, batch_size = 1, 1, 100\n",
    " n_timesteps, n_features, n_outputs = trainX.shape[1], trainX.shape[2], 7\n",
    " model = Sequential()\n",
    " model.add(Conv1D(filters=64, kernel_size=2, activation='relu', input_shape=(n_timesteps,n_features)))\n",
    " model.add(Conv1D(filters=64, kernel_size=1, activation='relu'))\n",
    " model.add(Dropout(0.5))\n",
    " model.add(MaxPooling1D(pool_size=2))\n",
    " model.add(Flatten())\n",
    " model.add(Dense(100, activation='relu'))\n",
    " model.add(Dense(n_outputs, activation='softmax')) # \"softmax\" for multi-class\n",
    " model.compile(loss='categorical_crossentropy', optimizer='adam', metrics=['accuracy'])\n",
    " # fit network\n",
    " history=model.fit(trainX, trainy, validation_data=(validX, validy), epochs=epochs, batch_size=batch_size,callbacks=[callback], verbose=verbose)\n",
    " #summarize_mode\n",
    " print(model.summary())\n",
    " # evaluate model\n",
    " _, accuracy = model.evaluate(testX, testy, batch_size=batch_size, verbose=0)\n",
    " # '_,'-->a variable is being used for a specific purpose, but its value is not of interest or not used in the subsequent code.\n",
    " return accuracy,history"
   ]
  }
 ],
 "metadata": {
  "kernelspec": {
   "display_name": "Python 3",
   "language": "python",
   "name": "python3"
  },
  "language_info": {
   "codemirror_mode": {
    "name": "ipython",
    "version": 3
   },
   "file_extension": ".py",
   "mimetype": "text/x-python",
   "name": "python",
   "nbconvert_exporter": "python",
   "pygments_lexer": "ipython3",
   "version": "3.11.4"
  }
 },
 "nbformat": 4,
 "nbformat_minor": 2
}
