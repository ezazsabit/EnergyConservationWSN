{
 "cells": [
  {
   "cell_type": "code",
   "execution_count": 58,
   "metadata": {},
   "outputs": [],
   "source": [
    "import pandas as pd\n",
    "import numpy as np\n",
    "from sklearn.preprocessing import StandardScaler\n",
    "from sklearn.decomposition import PCA\n",
    "import seaborn as sns\n",
    "import matplotlib.pyplot as plt\n",
    "import optuna\n",
    "from sklearn.model_selection import train_test_split\n",
    "from sklearn.metrics import roc_auc_score\n",
    "import sklearn\n",
    "import random\n",
    "import warnings\n",
    "warnings.filterwarnings(\"ignore\")\n",
    "from sklearn.metrics import mean_absolute_error"
   ]
  },
  {
   "cell_type": "code",
   "execution_count": 59,
   "metadata": {},
   "outputs": [],
   "source": [
    "import warnings\n",
    "warnings.filterwarnings(\"ignore\")\n",
    "from sklearn.metrics import mean_absolute_error"
   ]
  },
  {
   "cell_type": "code",
   "execution_count": 60,
   "metadata": {},
   "outputs": [
    {
     "name": "stdout",
     "output_type": "stream",
     "text": [
      "            F2        F3        F1       F11        F4        F6       F10  \\\n",
      "86    0.223957  0.898048  0.869736  0.976773  0.974721  0.589335  0.966303   \n",
      "296   0.823102  0.501514  0.223898  0.184752  0.373524  0.022147  0.173042   \n",
      "1851  0.114888  0.875673  0.897160  0.252837  0.904374  0.575866  0.390625   \n",
      "806   0.150139  0.958614  0.889520  0.202660  0.929154  0.593458  0.425828   \n",
      "644   0.662674  0.580922  0.451126  0.145018  0.696990  0.042936  0.194465   \n",
      "...        ...       ...       ...       ...       ...       ...       ...   \n",
      "106   0.485348  0.479307  0.226053  0.167961  0.405289 -0.029192  0.183603   \n",
      "1109  0.073904  1.000000  0.952204  0.963121  0.997006  0.983233  0.980798   \n",
      "1277  0.222888  0.968035  0.910480  0.951418  0.903043  0.847444  0.979857   \n",
      "130   0.503529  0.465007  0.255436  0.153245  0.468152  0.042276  0.184074   \n",
      "1830  0.247701  0.898721  0.702253  0.194149  0.771661  0.411765  0.256212   \n",
      "\n",
      "            F9        F5       F7      F12        F8  \n",
      "86    0.912144  0.835512  0.94850  4.95200  0.585900  \n",
      "296   0.096759  0.097531  0.21970  0.03540  0.267300  \n",
      "1851  0.369387  0.300073  0.61400  0.91670  0.382100  \n",
      "806   0.342718  0.389252  0.62500  5.46300  0.438200  \n",
      "644   0.145841  0.198148  0.45170  4.82300  0.147700  \n",
      "...        ...       ...      ...      ...       ...  \n",
      "106   0.079110  0.059840  0.07080  4.93700  0.174600  \n",
      "1109  0.779774  0.923021  2.34500  0.88620  1.165000  \n",
      "1277  0.500586  0.475309  1.14600  0.84230  0.565200  \n",
      "130   0.055291  0.062927  0.07446  5.13500 -0.009766  \n",
      "1830  0.216400  0.241140  0.36740  0.03296  0.225800  \n",
      "\n",
      "[2212 rows x 12 columns]\n",
      "86      0\n",
      "296     0\n",
      "1851    1\n",
      "806     1\n",
      "644     1\n",
      "       ..\n",
      "106     0\n",
      "1109    2\n",
      "1277    2\n",
      "130     0\n",
      "1830    1\n",
      "Name: out, Length: 2212, dtype: int64\n"
     ]
    }
   ],
   "source": [
    "filename = 'Dataset/Sensor_Discrimination_normalized.csv'\n",
    "df=pd.read_csv(filename)\n",
    "# shuffle the DataFrame rows\n",
    "df = df.sample(frac = 1) #frac = fraction\n",
    "dataset=df.iloc[:,:-1]\n",
    "label=df.iloc[:,-1]\n",
    "print(dataset)\n",
    "print(label)"
   ]
  },
  {
   "cell_type": "code",
   "execution_count": 61,
   "metadata": {},
   "outputs": [
    {
     "name": "stdout",
     "output_type": "stream",
     "text": [
      "1548\n"
     ]
    }
   ],
   "source": [
    "dataset_arr=dataset.to_numpy()\n",
    "# from NecessaryModules.splitData import split_data\n",
    "X_train, X_test, y_train, y_test = train_test_split(dataset_arr, label, test_size=0.3, random_state=42)\n",
    "print(len(X_train))"
   ]
  },
  {
   "cell_type": "markdown",
   "metadata": {},
   "source": [
    "# call the Encoder pkl file"
   ]
  },
  {
   "cell_type": "code",
   "execution_count": 62,
   "metadata": {},
   "outputs": [
    {
     "data": {
      "text/plain": [
       "<keras.src.engine.functional.Functional at 0x221c6afe550>"
      ]
     },
     "execution_count": 62,
     "metadata": {},
     "output_type": "execute_result"
    }
   ],
   "source": [
    "import pickle\n",
    "\n",
    "# Load the encoder model from the saved file\n",
    "with open(\"all_pkl_file/Encoder_3.pkl\", \"rb\") as file: #\"rb\"= read mode\n",
    "    encoder = pickle.load(file)\n",
    "\n",
    "encoder\n"
   ]
  },
  {
   "cell_type": "code",
   "execution_count": 63,
   "metadata": {},
   "outputs": [
    {
     "name": "stdout",
     "output_type": "stream",
     "text": [
      "70/70 [==============================] - 0s 909us/step\n"
     ]
    },
    {
     "name": "stdout",
     "output_type": "stream",
     "text": [
      "49/49 [==============================] - 0s 710us/step\n",
      "21/21 [==============================] - 0s 913us/step\n"
     ]
    }
   ],
   "source": [
    "encoded_X = pd.DataFrame(encoder.predict(dataset))\n",
    "encoded_X = encoded_X.add_prefix('feature_')\n",
    "\n",
    "encoded_X_train = pd.DataFrame(encoder.predict(X_train))\n",
    "encoded_X_train = encoded_X_train.add_prefix('feature_')\n",
    "\n",
    "encoded_X_test = pd.DataFrame(encoder.predict(X_test))\n",
    "encoded_X_test = encoded_X_test.add_prefix('feature_')\n",
    "\n"
   ]
  },
  {
   "cell_type": "markdown",
   "metadata": {},
   "source": [
    "# tune D tree for Ada-Boost"
   ]
  },
  {
   "cell_type": "code",
   "execution_count": 64,
   "metadata": {},
   "outputs": [
    {
     "data": {
      "text/plain": [
       "array([[0.23379679, 0.97863392, 0.95318315, ..., 0.68601799, 0.0503    ,\n",
       "        0.7676397 ],\n",
       "       [0.14596791, 0.93623822, 0.93143976, ..., 0.41537204, 1.        ,\n",
       "        0.393995  ],\n",
       "       [0.13448128, 0.97644684, 0.81547502, ..., 0.26700736, 0.04291   ,\n",
       "        0.30033361],\n",
       "       ...,\n",
       "       [0.2684492 , 0.83781965, 0.76591577, ..., 0.17269011, 0.0046385 ,\n",
       "        0.26980817],\n",
       "       [0.45582888, 0.60683042, 0.32908913, ..., 0.08086672, 0.24705   ,\n",
       "        0.09874896],\n",
       "       [0.48705882, 0.55888291, 0.28481881, ..., 0.08683565, 0.24645   ,\n",
       "        0.13027523]])"
      ]
     },
     "execution_count": 64,
     "metadata": {},
     "output_type": "execute_result"
    }
   ],
   "source": [
    "from sklearn.preprocessing import MaxAbsScaler\n",
    "\n",
    "scaler = MaxAbsScaler(copy=True).fit(dataset)\n",
    "encoded_X_n=scaler.transform(dataset)\n",
    "encoded_X_train_n=scaler.transform(X_train)\n",
    "encoded_X_test_n=scaler.transform(X_test)\n",
    "encoded_X_train_n"
   ]
  },
  {
   "cell_type": "code",
   "execution_count": 65,
   "metadata": {},
   "outputs": [
    {
     "data": {
      "text/html": [
       "<style>#sk-container-id-5 {\n",
       "  /* Definition of color scheme common for light and dark mode */\n",
       "  --sklearn-color-text: black;\n",
       "  --sklearn-color-line: gray;\n",
       "  /* Definition of color scheme for unfitted estimators */\n",
       "  --sklearn-color-unfitted-level-0: #fff5e6;\n",
       "  --sklearn-color-unfitted-level-1: #f6e4d2;\n",
       "  --sklearn-color-unfitted-level-2: #ffe0b3;\n",
       "  --sklearn-color-unfitted-level-3: chocolate;\n",
       "  /* Definition of color scheme for fitted estimators */\n",
       "  --sklearn-color-fitted-level-0: #f0f8ff;\n",
       "  --sklearn-color-fitted-level-1: #d4ebff;\n",
       "  --sklearn-color-fitted-level-2: #b3dbfd;\n",
       "  --sklearn-color-fitted-level-3: cornflowerblue;\n",
       "\n",
       "  /* Specific color for light theme */\n",
       "  --sklearn-color-text-on-default-background: var(--sg-text-color, var(--theme-code-foreground, var(--jp-content-font-color1, black)));\n",
       "  --sklearn-color-background: var(--sg-background-color, var(--theme-background, var(--jp-layout-color0, white)));\n",
       "  --sklearn-color-border-box: var(--sg-text-color, var(--theme-code-foreground, var(--jp-content-font-color1, black)));\n",
       "  --sklearn-color-icon: #696969;\n",
       "\n",
       "  @media (prefers-color-scheme: dark) {\n",
       "    /* Redefinition of color scheme for dark theme */\n",
       "    --sklearn-color-text-on-default-background: var(--sg-text-color, var(--theme-code-foreground, var(--jp-content-font-color1, white)));\n",
       "    --sklearn-color-background: var(--sg-background-color, var(--theme-background, var(--jp-layout-color0, #111)));\n",
       "    --sklearn-color-border-box: var(--sg-text-color, var(--theme-code-foreground, var(--jp-content-font-color1, white)));\n",
       "    --sklearn-color-icon: #878787;\n",
       "  }\n",
       "}\n",
       "\n",
       "#sk-container-id-5 {\n",
       "  color: var(--sklearn-color-text);\n",
       "}\n",
       "\n",
       "#sk-container-id-5 pre {\n",
       "  padding: 0;\n",
       "}\n",
       "\n",
       "#sk-container-id-5 input.sk-hidden--visually {\n",
       "  border: 0;\n",
       "  clip: rect(1px 1px 1px 1px);\n",
       "  clip: rect(1px, 1px, 1px, 1px);\n",
       "  height: 1px;\n",
       "  margin: -1px;\n",
       "  overflow: hidden;\n",
       "  padding: 0;\n",
       "  position: absolute;\n",
       "  width: 1px;\n",
       "}\n",
       "\n",
       "#sk-container-id-5 div.sk-dashed-wrapped {\n",
       "  border: 1px dashed var(--sklearn-color-line);\n",
       "  margin: 0 0.4em 0.5em 0.4em;\n",
       "  box-sizing: border-box;\n",
       "  padding-bottom: 0.4em;\n",
       "  background-color: var(--sklearn-color-background);\n",
       "}\n",
       "\n",
       "#sk-container-id-5 div.sk-container {\n",
       "  /* jupyter's `normalize.less` sets `[hidden] { display: none; }`\n",
       "     but bootstrap.min.css set `[hidden] { display: none !important; }`\n",
       "     so we also need the `!important` here to be able to override the\n",
       "     default hidden behavior on the sphinx rendered scikit-learn.org.\n",
       "     See: https://github.com/scikit-learn/scikit-learn/issues/21755 */\n",
       "  display: inline-block !important;\n",
       "  position: relative;\n",
       "}\n",
       "\n",
       "#sk-container-id-5 div.sk-text-repr-fallback {\n",
       "  display: none;\n",
       "}\n",
       "\n",
       "div.sk-parallel-item,\n",
       "div.sk-serial,\n",
       "div.sk-item {\n",
       "  /* draw centered vertical line to link estimators */\n",
       "  background-image: linear-gradient(var(--sklearn-color-text-on-default-background), var(--sklearn-color-text-on-default-background));\n",
       "  background-size: 2px 100%;\n",
       "  background-repeat: no-repeat;\n",
       "  background-position: center center;\n",
       "}\n",
       "\n",
       "/* Parallel-specific style estimator block */\n",
       "\n",
       "#sk-container-id-5 div.sk-parallel-item::after {\n",
       "  content: \"\";\n",
       "  width: 100%;\n",
       "  border-bottom: 2px solid var(--sklearn-color-text-on-default-background);\n",
       "  flex-grow: 1;\n",
       "}\n",
       "\n",
       "#sk-container-id-5 div.sk-parallel {\n",
       "  display: flex;\n",
       "  align-items: stretch;\n",
       "  justify-content: center;\n",
       "  background-color: var(--sklearn-color-background);\n",
       "  position: relative;\n",
       "}\n",
       "\n",
       "#sk-container-id-5 div.sk-parallel-item {\n",
       "  display: flex;\n",
       "  flex-direction: column;\n",
       "}\n",
       "\n",
       "#sk-container-id-5 div.sk-parallel-item:first-child::after {\n",
       "  align-self: flex-end;\n",
       "  width: 50%;\n",
       "}\n",
       "\n",
       "#sk-container-id-5 div.sk-parallel-item:last-child::after {\n",
       "  align-self: flex-start;\n",
       "  width: 50%;\n",
       "}\n",
       "\n",
       "#sk-container-id-5 div.sk-parallel-item:only-child::after {\n",
       "  width: 0;\n",
       "}\n",
       "\n",
       "/* Serial-specific style estimator block */\n",
       "\n",
       "#sk-container-id-5 div.sk-serial {\n",
       "  display: flex;\n",
       "  flex-direction: column;\n",
       "  align-items: center;\n",
       "  background-color: var(--sklearn-color-background);\n",
       "  padding-right: 1em;\n",
       "  padding-left: 1em;\n",
       "}\n",
       "\n",
       "\n",
       "/* Toggleable style: style used for estimator/Pipeline/ColumnTransformer box that is\n",
       "clickable and can be expanded/collapsed.\n",
       "- Pipeline and ColumnTransformer use this feature and define the default style\n",
       "- Estimators will overwrite some part of the style using the `sk-estimator` class\n",
       "*/\n",
       "\n",
       "/* Pipeline and ColumnTransformer style (default) */\n",
       "\n",
       "#sk-container-id-5 div.sk-toggleable {\n",
       "  /* Default theme specific background. It is overwritten whether we have a\n",
       "  specific estimator or a Pipeline/ColumnTransformer */\n",
       "  background-color: var(--sklearn-color-background);\n",
       "}\n",
       "\n",
       "/* Toggleable label */\n",
       "#sk-container-id-5 label.sk-toggleable__label {\n",
       "  cursor: pointer;\n",
       "  display: block;\n",
       "  width: 100%;\n",
       "  margin-bottom: 0;\n",
       "  padding: 0.5em;\n",
       "  box-sizing: border-box;\n",
       "  text-align: center;\n",
       "}\n",
       "\n",
       "#sk-container-id-5 label.sk-toggleable__label-arrow:before {\n",
       "  /* Arrow on the left of the label */\n",
       "  content: \"▸\";\n",
       "  float: left;\n",
       "  margin-right: 0.25em;\n",
       "  color: var(--sklearn-color-icon);\n",
       "}\n",
       "\n",
       "#sk-container-id-5 label.sk-toggleable__label-arrow:hover:before {\n",
       "  color: var(--sklearn-color-text);\n",
       "}\n",
       "\n",
       "/* Toggleable content - dropdown */\n",
       "\n",
       "#sk-container-id-5 div.sk-toggleable__content {\n",
       "  max-height: 0;\n",
       "  max-width: 0;\n",
       "  overflow: hidden;\n",
       "  text-align: left;\n",
       "  /* unfitted */\n",
       "  background-color: var(--sklearn-color-unfitted-level-0);\n",
       "}\n",
       "\n",
       "#sk-container-id-5 div.sk-toggleable__content.fitted {\n",
       "  /* fitted */\n",
       "  background-color: var(--sklearn-color-fitted-level-0);\n",
       "}\n",
       "\n",
       "#sk-container-id-5 div.sk-toggleable__content pre {\n",
       "  margin: 0.2em;\n",
       "  border-radius: 0.25em;\n",
       "  color: var(--sklearn-color-text);\n",
       "  /* unfitted */\n",
       "  background-color: var(--sklearn-color-unfitted-level-0);\n",
       "}\n",
       "\n",
       "#sk-container-id-5 div.sk-toggleable__content.fitted pre {\n",
       "  /* unfitted */\n",
       "  background-color: var(--sklearn-color-fitted-level-0);\n",
       "}\n",
       "\n",
       "#sk-container-id-5 input.sk-toggleable__control:checked~div.sk-toggleable__content {\n",
       "  /* Expand drop-down */\n",
       "  max-height: 200px;\n",
       "  max-width: 100%;\n",
       "  overflow: auto;\n",
       "}\n",
       "\n",
       "#sk-container-id-5 input.sk-toggleable__control:checked~label.sk-toggleable__label-arrow:before {\n",
       "  content: \"▾\";\n",
       "}\n",
       "\n",
       "/* Pipeline/ColumnTransformer-specific style */\n",
       "\n",
       "#sk-container-id-5 div.sk-label input.sk-toggleable__control:checked~label.sk-toggleable__label {\n",
       "  color: var(--sklearn-color-text);\n",
       "  background-color: var(--sklearn-color-unfitted-level-2);\n",
       "}\n",
       "\n",
       "#sk-container-id-5 div.sk-label.fitted input.sk-toggleable__control:checked~label.sk-toggleable__label {\n",
       "  background-color: var(--sklearn-color-fitted-level-2);\n",
       "}\n",
       "\n",
       "/* Estimator-specific style */\n",
       "\n",
       "/* Colorize estimator box */\n",
       "#sk-container-id-5 div.sk-estimator input.sk-toggleable__control:checked~label.sk-toggleable__label {\n",
       "  /* unfitted */\n",
       "  background-color: var(--sklearn-color-unfitted-level-2);\n",
       "}\n",
       "\n",
       "#sk-container-id-5 div.sk-estimator.fitted input.sk-toggleable__control:checked~label.sk-toggleable__label {\n",
       "  /* fitted */\n",
       "  background-color: var(--sklearn-color-fitted-level-2);\n",
       "}\n",
       "\n",
       "#sk-container-id-5 div.sk-label label.sk-toggleable__label,\n",
       "#sk-container-id-5 div.sk-label label {\n",
       "  /* The background is the default theme color */\n",
       "  color: var(--sklearn-color-text-on-default-background);\n",
       "}\n",
       "\n",
       "/* On hover, darken the color of the background */\n",
       "#sk-container-id-5 div.sk-label:hover label.sk-toggleable__label {\n",
       "  color: var(--sklearn-color-text);\n",
       "  background-color: var(--sklearn-color-unfitted-level-2);\n",
       "}\n",
       "\n",
       "/* Label box, darken color on hover, fitted */\n",
       "#sk-container-id-5 div.sk-label.fitted:hover label.sk-toggleable__label.fitted {\n",
       "  color: var(--sklearn-color-text);\n",
       "  background-color: var(--sklearn-color-fitted-level-2);\n",
       "}\n",
       "\n",
       "/* Estimator label */\n",
       "\n",
       "#sk-container-id-5 div.sk-label label {\n",
       "  font-family: monospace;\n",
       "  font-weight: bold;\n",
       "  display: inline-block;\n",
       "  line-height: 1.2em;\n",
       "}\n",
       "\n",
       "#sk-container-id-5 div.sk-label-container {\n",
       "  text-align: center;\n",
       "}\n",
       "\n",
       "/* Estimator-specific */\n",
       "#sk-container-id-5 div.sk-estimator {\n",
       "  font-family: monospace;\n",
       "  border: 1px dotted var(--sklearn-color-border-box);\n",
       "  border-radius: 0.25em;\n",
       "  box-sizing: border-box;\n",
       "  margin-bottom: 0.5em;\n",
       "  /* unfitted */\n",
       "  background-color: var(--sklearn-color-unfitted-level-0);\n",
       "}\n",
       "\n",
       "#sk-container-id-5 div.sk-estimator.fitted {\n",
       "  /* fitted */\n",
       "  background-color: var(--sklearn-color-fitted-level-0);\n",
       "}\n",
       "\n",
       "/* on hover */\n",
       "#sk-container-id-5 div.sk-estimator:hover {\n",
       "  /* unfitted */\n",
       "  background-color: var(--sklearn-color-unfitted-level-2);\n",
       "}\n",
       "\n",
       "#sk-container-id-5 div.sk-estimator.fitted:hover {\n",
       "  /* fitted */\n",
       "  background-color: var(--sklearn-color-fitted-level-2);\n",
       "}\n",
       "\n",
       "/* Specification for estimator info (e.g. \"i\" and \"?\") */\n",
       "\n",
       "/* Common style for \"i\" and \"?\" */\n",
       "\n",
       ".sk-estimator-doc-link,\n",
       "a:link.sk-estimator-doc-link,\n",
       "a:visited.sk-estimator-doc-link {\n",
       "  float: right;\n",
       "  font-size: smaller;\n",
       "  line-height: 1em;\n",
       "  font-family: monospace;\n",
       "  background-color: var(--sklearn-color-background);\n",
       "  border-radius: 1em;\n",
       "  height: 1em;\n",
       "  width: 1em;\n",
       "  text-decoration: none !important;\n",
       "  margin-left: 1ex;\n",
       "  /* unfitted */\n",
       "  border: var(--sklearn-color-unfitted-level-1) 1pt solid;\n",
       "  color: var(--sklearn-color-unfitted-level-1);\n",
       "}\n",
       "\n",
       ".sk-estimator-doc-link.fitted,\n",
       "a:link.sk-estimator-doc-link.fitted,\n",
       "a:visited.sk-estimator-doc-link.fitted {\n",
       "  /* fitted */\n",
       "  border: var(--sklearn-color-fitted-level-1) 1pt solid;\n",
       "  color: var(--sklearn-color-fitted-level-1);\n",
       "}\n",
       "\n",
       "/* On hover */\n",
       "div.sk-estimator:hover .sk-estimator-doc-link:hover,\n",
       ".sk-estimator-doc-link:hover,\n",
       "div.sk-label-container:hover .sk-estimator-doc-link:hover,\n",
       ".sk-estimator-doc-link:hover {\n",
       "  /* unfitted */\n",
       "  background-color: var(--sklearn-color-unfitted-level-3);\n",
       "  color: var(--sklearn-color-background);\n",
       "  text-decoration: none;\n",
       "}\n",
       "\n",
       "div.sk-estimator.fitted:hover .sk-estimator-doc-link.fitted:hover,\n",
       ".sk-estimator-doc-link.fitted:hover,\n",
       "div.sk-label-container:hover .sk-estimator-doc-link.fitted:hover,\n",
       ".sk-estimator-doc-link.fitted:hover {\n",
       "  /* fitted */\n",
       "  background-color: var(--sklearn-color-fitted-level-3);\n",
       "  color: var(--sklearn-color-background);\n",
       "  text-decoration: none;\n",
       "}\n",
       "\n",
       "/* Span, style for the box shown on hovering the info icon */\n",
       ".sk-estimator-doc-link span {\n",
       "  display: none;\n",
       "  z-index: 9999;\n",
       "  position: relative;\n",
       "  font-weight: normal;\n",
       "  right: .2ex;\n",
       "  padding: .5ex;\n",
       "  margin: .5ex;\n",
       "  width: min-content;\n",
       "  min-width: 20ex;\n",
       "  max-width: 50ex;\n",
       "  color: var(--sklearn-color-text);\n",
       "  box-shadow: 2pt 2pt 4pt #999;\n",
       "  /* unfitted */\n",
       "  background: var(--sklearn-color-unfitted-level-0);\n",
       "  border: .5pt solid var(--sklearn-color-unfitted-level-3);\n",
       "}\n",
       "\n",
       ".sk-estimator-doc-link.fitted span {\n",
       "  /* fitted */\n",
       "  background: var(--sklearn-color-fitted-level-0);\n",
       "  border: var(--sklearn-color-fitted-level-3);\n",
       "}\n",
       "\n",
       ".sk-estimator-doc-link:hover span {\n",
       "  display: block;\n",
       "}\n",
       "\n",
       "/* \"?\"-specific style due to the `<a>` HTML tag */\n",
       "\n",
       "#sk-container-id-5 a.estimator_doc_link {\n",
       "  float: right;\n",
       "  font-size: 1rem;\n",
       "  line-height: 1em;\n",
       "  font-family: monospace;\n",
       "  background-color: var(--sklearn-color-background);\n",
       "  border-radius: 1rem;\n",
       "  height: 1rem;\n",
       "  width: 1rem;\n",
       "  text-decoration: none;\n",
       "  /* unfitted */\n",
       "  color: var(--sklearn-color-unfitted-level-1);\n",
       "  border: var(--sklearn-color-unfitted-level-1) 1pt solid;\n",
       "}\n",
       "\n",
       "#sk-container-id-5 a.estimator_doc_link.fitted {\n",
       "  /* fitted */\n",
       "  border: var(--sklearn-color-fitted-level-1) 1pt solid;\n",
       "  color: var(--sklearn-color-fitted-level-1);\n",
       "}\n",
       "\n",
       "/* On hover */\n",
       "#sk-container-id-5 a.estimator_doc_link:hover {\n",
       "  /* unfitted */\n",
       "  background-color: var(--sklearn-color-unfitted-level-3);\n",
       "  color: var(--sklearn-color-background);\n",
       "  text-decoration: none;\n",
       "}\n",
       "\n",
       "#sk-container-id-5 a.estimator_doc_link.fitted:hover {\n",
       "  /* fitted */\n",
       "  background-color: var(--sklearn-color-fitted-level-3);\n",
       "}\n",
       "</style><div id=\"sk-container-id-5\" class=\"sk-top-container\"><div class=\"sk-text-repr-fallback\"><pre>DecisionTreeClassifier(max_depth=12, max_features=&#x27;sqrt&#x27;)</pre><b>In a Jupyter environment, please rerun this cell to show the HTML representation or trust the notebook. <br />On GitHub, the HTML representation is unable to render, please try loading this page with nbviewer.org.</b></div><div class=\"sk-container\" hidden><div class=\"sk-item\"><div class=\"sk-estimator fitted sk-toggleable\"><input class=\"sk-toggleable__control sk-hidden--visually\" id=\"sk-estimator-id-9\" type=\"checkbox\" checked><label for=\"sk-estimator-id-9\" class=\"sk-toggleable__label fitted sk-toggleable__label-arrow fitted\">&nbsp;&nbsp;DecisionTreeClassifier<a class=\"sk-estimator-doc-link fitted\" rel=\"noreferrer\" target=\"_blank\" href=\"https://scikit-learn.org/1.4/modules/generated/sklearn.tree.DecisionTreeClassifier.html\">?<span>Documentation for DecisionTreeClassifier</span></a><span class=\"sk-estimator-doc-link fitted\">i<span>Fitted</span></span></label><div class=\"sk-toggleable__content fitted\"><pre>DecisionTreeClassifier(max_depth=12, max_features=&#x27;sqrt&#x27;)</pre></div> </div></div></div></div>"
      ],
      "text/plain": [
       "DecisionTreeClassifier(max_depth=12, max_features='sqrt')"
      ]
     },
     "execution_count": 65,
     "metadata": {},
     "output_type": "execute_result"
    }
   ],
   "source": [
    "from sklearn.tree import DecisionTreeClassifier\n",
    "params_dt = {'max_depth': 12,    \n",
    "             'max_features': \"sqrt\"}\n",
    "\n",
    "model_dt = DecisionTreeClassifier(**params_dt)\n",
    "\n",
    "model_dt.fit(encoded_X_train_n, y_train)"
   ]
  },
  {
   "cell_type": "code",
   "execution_count": 66,
   "metadata": {},
   "outputs": [
    {
     "data": {
      "text/plain": [
       "0.022590361445783132"
      ]
     },
     "execution_count": 66,
     "metadata": {},
     "output_type": "execute_result"
    }
   ],
   "source": [
    "# Finding mean absolute error\n",
    "preds = model_dt.predict(encoded_X_test_n)\n",
    "preds = preds.astype(int)\n",
    "mae = np.abs(y_test-preds).mean()\n",
    "mae"
   ]
  },
  {
   "cell_type": "code",
   "execution_count": 67,
   "metadata": {},
   "outputs": [],
   "source": [
    "# Defining the best parameter with optuna\n",
    "from sklearn.model_selection import StratifiedKFold\n",
    "from sklearn.metrics import mean_absolute_error\n",
    "K = 5 # stratified 5 fold cross validation, The folds are made by preserving the percentage of samples for each class.\n",
    "skf = StratifiedKFold(n_splits = K, random_state = 42, shuffle = True)\n",
    "\n",
    "\n",
    "train_tunned_dt = np.array(encoded_X_n)\n",
    "target_train_tunned_dt = np.array(label)\n",
    "\n",
    "# test = np.array(X)\n",
    "# target_train = df_train['congestion'].values\n",
    "\n",
    "# test_preds = np.zeros((len(test)))\n",
    "oof_preds_dt = np.zeros((len(train_tunned_dt)))\n",
    "abs_error_arr_dt=[]\n",
    "def objective(trial):\n",
    "\n",
    " for train_index, val_index in (skf.split(encoded_X_n,label)):\n",
    "    train_X, valid_X = train_tunned_dt[train_index], train_tunned_dt[val_index]\n",
    "    train_Y, valid_Y = target_train_tunned_dt[train_index], target_train_tunned_dt[val_index]\n",
    "    \n",
    "        \n",
    "        # train_x, test_x, train_y, test_y = train_test_split(data, target, test_size=0.25,random_state=0)\n",
    "    param = {\n",
    "        'criterion':trial.suggest_categorical('criterion',[\"gini\", \"entropy\", \"log_loss\"]), #The function to measure the quality of a split.\n",
    "        'splitter':trial.suggest_categorical('splitter',[\"best\", \"random\"]),\n",
    "        'max_features':trial.suggest_categorical('max_features',['sqrt','log2',1,2,3,4,5,6,7,8,9,10,11]), #a categorical value can be an integer\n",
    "        'random_state':trial.suggest_int('random_state',0,5),\n",
    "\n",
    "\n",
    "        }\n",
    "    model = DecisionTreeClassifier(**param)  \n",
    "        \n",
    "    model.fit(train_X,train_Y)\n",
    "        \n",
    "    preds = model.predict(valid_X)\n",
    "    oof_preds_dt[val_index] = preds # preds gives total 3846 predicted value for valid_X\n",
    "\n",
    "\n",
    " \n",
    "#  print(len(oof_preds_dt))\n",
    "      \n",
    " mae = mean_absolute_error(target_train_tunned_dt, oof_preds_dt)\n",
    "        \n",
    " return mae"
   ]
  },
  {
   "cell_type": "code",
   "execution_count": 68,
   "metadata": {},
   "outputs": [
    {
     "name": "stderr",
     "output_type": "stream",
     "text": [
      "[I 2024-02-12 13:59:25,613] A new study created in memory with name: no-name-dad85de7-b1af-4bc1-82cb-de08bd4776ed\n"
     ]
    }
   ],
   "source": [
    "# this is the main optuna for optimizing a object-->\"objective\"\n",
    "import optuna\n",
    "study = optuna.create_study(direction='minimize')"
   ]
  },
  {
   "cell_type": "code",
   "execution_count": 69,
   "metadata": {},
   "outputs": [
    {
     "name": "stderr",
     "output_type": "stream",
     "text": [
      "[I 2024-02-12 13:59:25,700] Trial 0 finished with value: 0.02938517179023508 and parameters: {'criterion': 'gini', 'splitter': 'best', 'max_features': 11, 'random_state': 0}. Best is trial 0 with value: 0.02938517179023508.\n"
     ]
    },
    {
     "name": "stderr",
     "output_type": "stream",
     "text": [
      "[I 2024-02-12 13:59:25,769] Trial 1 finished with value: 0.019891500904159132 and parameters: {'criterion': 'log_loss', 'splitter': 'best', 'max_features': 7, 'random_state': 1}. Best is trial 1 with value: 0.019891500904159132.\n",
      "[I 2024-02-12 13:59:25,799] Trial 2 finished with value: 0.027576853526220614 and parameters: {'criterion': 'log_loss', 'splitter': 'best', 'max_features': 4, 'random_state': 3}. Best is trial 1 with value: 0.019891500904159132.\n",
      "[I 2024-02-12 13:59:25,825] Trial 3 finished with value: 0.06103074141048825 and parameters: {'criterion': 'entropy', 'splitter': 'best', 'max_features': 1, 'random_state': 5}. Best is trial 1 with value: 0.019891500904159132.\n",
      "[I 2024-02-12 13:59:25,839] Trial 4 finished with value: 0.021247739602169982 and parameters: {'criterion': 'gini', 'splitter': 'random', 'max_features': 9, 'random_state': 2}. Best is trial 1 with value: 0.019891500904159132.\n",
      "[I 2024-02-12 13:59:25,849] Trial 5 finished with value: 0.08453887884267632 and parameters: {'criterion': 'log_loss', 'splitter': 'random', 'max_features': 1, 'random_state': 3}. Best is trial 1 with value: 0.019891500904159132.\n",
      "[I 2024-02-12 13:59:25,909] Trial 6 finished with value: 0.01763110307414105 and parameters: {'criterion': 'entropy', 'splitter': 'best', 'max_features': 10, 'random_state': 3}. Best is trial 6 with value: 0.01763110307414105.\n",
      "[I 2024-02-12 13:59:25,961] Trial 7 finished with value: 0.03074141048824593 and parameters: {'criterion': 'entropy', 'splitter': 'best', 'max_features': 5, 'random_state': 4}. Best is trial 6 with value: 0.01763110307414105.\n",
      "[I 2024-02-12 13:59:26,034] Trial 8 finished with value: 0.01763110307414105 and parameters: {'criterion': 'entropy', 'splitter': 'best', 'max_features': 11, 'random_state': 4}. Best is trial 6 with value: 0.01763110307414105.\n",
      "[I 2024-02-12 13:59:26,065] Trial 9 finished with value: 0.021247739602169982 and parameters: {'criterion': 'log_loss', 'splitter': 'best', 'max_features': 5, 'random_state': 0}. Best is trial 6 with value: 0.01763110307414105.\n",
      "[I 2024-02-12 13:59:26,085] Trial 10 finished with value: 0.024412296564195298 and parameters: {'criterion': 'entropy', 'splitter': 'random', 'max_features': 10, 'random_state': 2}. Best is trial 6 with value: 0.01763110307414105.\n",
      "[I 2024-02-12 13:59:26,166] Trial 11 finished with value: 0.023508137432188065 and parameters: {'criterion': 'entropy', 'splitter': 'best', 'max_features': 10, 'random_state': 5}. Best is trial 6 with value: 0.01763110307414105.\n",
      "[I 2024-02-12 13:59:26,195] Trial 12 finished with value: 0.05605786618444846 and parameters: {'criterion': 'entropy', 'splitter': 'best', 'max_features': 2, 'random_state': 4}. Best is trial 6 with value: 0.01763110307414105.\n",
      "[I 2024-02-12 13:59:26,261] Trial 13 finished with value: 0.021247739602169982 and parameters: {'criterion': 'entropy', 'splitter': 'best', 'max_features': 8, 'random_state': 4}. Best is trial 6 with value: 0.01763110307414105.\n",
      "[I 2024-02-12 13:59:26,286] Trial 14 finished with value: 0.024864376130198915 and parameters: {'criterion': 'entropy', 'splitter': 'random', 'max_features': 11, 'random_state': 3}. Best is trial 6 with value: 0.01763110307414105.\n",
      "[I 2024-02-12 13:59:26,319] Trial 15 finished with value: 0.030289330922242313 and parameters: {'criterion': 'entropy', 'splitter': 'best', 'max_features': 'sqrt', 'random_state': 4}. Best is trial 6 with value: 0.01763110307414105.\n",
      "[I 2024-02-12 13:59:26,359] Trial 16 finished with value: 0.037070524412296565 and parameters: {'criterion': 'gini', 'splitter': 'best', 'max_features': 'log2', 'random_state': 2}. Best is trial 6 with value: 0.01763110307414105.\n",
      "[I 2024-02-12 13:59:26,399] Trial 17 finished with value: 0.0325497287522604 and parameters: {'criterion': 'entropy', 'splitter': 'best', 'max_features': 3, 'random_state': 5}. Best is trial 6 with value: 0.01763110307414105.\n",
      "[I 2024-02-12 13:59:26,419] Trial 18 finished with value: 0.02938517179023508 and parameters: {'criterion': 'entropy', 'splitter': 'random', 'max_features': 6, 'random_state': 1}. Best is trial 6 with value: 0.01763110307414105.\n",
      "[I 2024-02-12 13:59:26,479] Trial 19 finished with value: 0.034358047016274866 and parameters: {'criterion': 'gini', 'splitter': 'best', 'max_features': 10, 'random_state': 3}. Best is trial 6 with value: 0.01763110307414105.\n",
      "[I 2024-02-12 13:59:26,559] Trial 20 finished with value: 0.01763110307414105 and parameters: {'criterion': 'entropy', 'splitter': 'best', 'max_features': 11, 'random_state': 4}. Best is trial 6 with value: 0.01763110307414105.\n",
      "[I 2024-02-12 13:59:26,643] Trial 21 finished with value: 0.01763110307414105 and parameters: {'criterion': 'entropy', 'splitter': 'best', 'max_features': 11, 'random_state': 4}. Best is trial 6 with value: 0.01763110307414105.\n",
      "[I 2024-02-12 13:59:26,726] Trial 22 finished with value: 0.01763110307414105 and parameters: {'criterion': 'entropy', 'splitter': 'best', 'max_features': 11, 'random_state': 4}. Best is trial 6 with value: 0.01763110307414105.\n",
      "[I 2024-02-12 13:59:26,803] Trial 23 finished with value: 0.0189873417721519 and parameters: {'criterion': 'entropy', 'splitter': 'best', 'max_features': 11, 'random_state': 3}. Best is trial 6 with value: 0.01763110307414105.\n",
      "[I 2024-02-12 13:59:26,868] Trial 24 finished with value: 0.02034358047016275 and parameters: {'criterion': 'entropy', 'splitter': 'best', 'max_features': 8, 'random_state': 5}. Best is trial 6 with value: 0.01763110307414105.\n",
      "[I 2024-02-12 13:59:26,908] Trial 25 finished with value: 0.030289330922242313 and parameters: {'criterion': 'entropy', 'splitter': 'best', 'max_features': 3, 'random_state': 4}. Best is trial 6 with value: 0.01763110307414105.\n",
      "[I 2024-02-12 13:59:26,928] Trial 26 finished with value: 0.0352622061482821 and parameters: {'criterion': 'entropy', 'splitter': 'random', 'max_features': 6, 'random_state': 3}. Best is trial 6 with value: 0.01763110307414105.\n",
      "[I 2024-02-12 13:59:26,998] Trial 27 finished with value: 0.022151898734177215 and parameters: {'criterion': 'entropy', 'splitter': 'best', 'max_features': 9, 'random_state': 5}. Best is trial 6 with value: 0.01763110307414105.\n",
      "[I 2024-02-12 13:59:27,032] Trial 28 finished with value: 0.037070524412296565 and parameters: {'criterion': 'gini', 'splitter': 'best', 'max_features': 'log2', 'random_state': 2}. Best is trial 6 with value: 0.01763110307414105.\n",
      "[I 2024-02-12 13:59:27,117] Trial 29 finished with value: 0.01763110307414105 and parameters: {'criterion': 'log_loss', 'splitter': 'best', 'max_features': 11, 'random_state': 4}. Best is trial 6 with value: 0.01763110307414105.\n",
      "[I 2024-02-12 13:59:27,149] Trial 30 finished with value: 0.037070524412296565 and parameters: {'criterion': 'gini', 'splitter': 'best', 'max_features': 'sqrt', 'random_state': 1}. Best is trial 6 with value: 0.01763110307414105.\n",
      "[I 2024-02-12 13:59:27,228] Trial 31 finished with value: 0.01763110307414105 and parameters: {'criterion': 'entropy', 'splitter': 'best', 'max_features': 11, 'random_state': 4}. Best is trial 6 with value: 0.01763110307414105.\n",
      "[I 2024-02-12 13:59:27,278] Trial 32 finished with value: 0.02396021699819168 and parameters: {'criterion': 'entropy', 'splitter': 'best', 'max_features': 7, 'random_state': 4}. Best is trial 6 with value: 0.01763110307414105.\n",
      "[I 2024-02-12 13:59:27,358] Trial 33 finished with value: 0.0189873417721519 and parameters: {'criterion': 'entropy', 'splitter': 'best', 'max_features': 11, 'random_state': 3}. Best is trial 6 with value: 0.01763110307414105.\n",
      "[I 2024-02-12 13:59:27,408] Trial 34 finished with value: 0.024864376130198915 and parameters: {'criterion': 'entropy', 'splitter': 'best', 'max_features': 4, 'random_state': 5}. Best is trial 6 with value: 0.01763110307414105.\n",
      "[I 2024-02-12 13:59:27,488] Trial 35 finished with value: 0.01763110307414105 and parameters: {'criterion': 'log_loss', 'splitter': 'best', 'max_features': 11, 'random_state': 4}. Best is trial 6 with value: 0.01763110307414105.\n",
      "[I 2024-02-12 13:59:27,518] Trial 36 finished with value: 0.06148282097649186 and parameters: {'criterion': 'entropy', 'splitter': 'best', 'max_features': 2, 'random_state': 3}. Best is trial 6 with value: 0.01763110307414105.\n",
      "[I 2024-02-12 13:59:27,538] Trial 37 finished with value: 0.02938517179023508 and parameters: {'criterion': 'entropy', 'splitter': 'random', 'max_features': 10, 'random_state': 3}. Best is trial 6 with value: 0.01763110307414105.\n",
      "[I 2024-02-12 13:59:27,558] Trial 38 finished with value: 0.06103074141048825 and parameters: {'criterion': 'log_loss', 'splitter': 'best', 'max_features': 1, 'random_state': 5}. Best is trial 6 with value: 0.01763110307414105.\n",
      "[I 2024-02-12 13:59:27,638] Trial 39 finished with value: 0.021247739602169982 and parameters: {'criterion': 'entropy', 'splitter': 'best', 'max_features': 11, 'random_state': 2}. Best is trial 6 with value: 0.01763110307414105.\n",
      "[I 2024-02-12 13:59:27,659] Trial 40 finished with value: 0.03074141048824593 and parameters: {'criterion': 'gini', 'splitter': 'random', 'max_features': 7, 'random_state': 4}. Best is trial 6 with value: 0.01763110307414105.\n",
      "[I 2024-02-12 13:59:27,739] Trial 41 finished with value: 0.01763110307414105 and parameters: {'criterion': 'entropy', 'splitter': 'best', 'max_features': 11, 'random_state': 4}. Best is trial 6 with value: 0.01763110307414105.\n",
      "[I 2024-02-12 13:59:27,827] Trial 42 finished with value: 0.01763110307414105 and parameters: {'criterion': 'entropy', 'splitter': 'best', 'max_features': 11, 'random_state': 4}. Best is trial 6 with value: 0.01763110307414105.\n",
      "[I 2024-02-12 13:59:27,877] Trial 43 finished with value: 0.03074141048824593 and parameters: {'criterion': 'entropy', 'splitter': 'best', 'max_features': 5, 'random_state': 4}. Best is trial 6 with value: 0.01763110307414105.\n",
      "[I 2024-02-12 13:59:27,917] Trial 44 finished with value: 0.027576853526220614 and parameters: {'criterion': 'entropy', 'splitter': 'best', 'max_features': 4, 'random_state': 3}. Best is trial 6 with value: 0.01763110307414105.\n",
      "[I 2024-02-12 13:59:28,007] Trial 45 finished with value: 0.0216998191681736 and parameters: {'criterion': 'entropy', 'splitter': 'best', 'max_features': 11, 'random_state': 5}. Best is trial 6 with value: 0.01763110307414105.\n",
      "[I 2024-02-12 13:59:28,077] Trial 46 finished with value: 0.018535262206148283 and parameters: {'criterion': 'log_loss', 'splitter': 'best', 'max_features': 10, 'random_state': 4}. Best is trial 6 with value: 0.01763110307414105.\n",
      "[I 2024-02-12 13:59:28,147] Trial 47 finished with value: 0.026220614828209764 and parameters: {'criterion': 'entropy', 'splitter': 'best', 'max_features': 9, 'random_state': 3}. Best is trial 6 with value: 0.01763110307414105.\n",
      "[I 2024-02-12 13:59:28,232] Trial 48 finished with value: 0.020795660036166366 and parameters: {'criterion': 'entropy', 'splitter': 'best', 'max_features': 11, 'random_state': 0}. Best is trial 6 with value: 0.01763110307414105.\n",
      "[I 2024-02-12 13:59:28,252] Trial 49 finished with value: 0.07007233273056059 and parameters: {'criterion': 'entropy', 'splitter': 'random', 'max_features': 2, 'random_state': 4}. Best is trial 6 with value: 0.01763110307414105.\n",
      "[I 2024-02-12 13:59:28,272] Trial 50 finished with value: 0.06103074141048825 and parameters: {'criterion': 'entropy', 'splitter': 'best', 'max_features': 1, 'random_state': 5}. Best is trial 6 with value: 0.01763110307414105.\n",
      "[I 2024-02-12 13:59:28,357] Trial 51 finished with value: 0.01763110307414105 and parameters: {'criterion': 'log_loss', 'splitter': 'best', 'max_features': 11, 'random_state': 4}. Best is trial 6 with value: 0.01763110307414105.\n",
      "[I 2024-02-12 13:59:28,438] Trial 52 finished with value: 0.01763110307414105 and parameters: {'criterion': 'log_loss', 'splitter': 'best', 'max_features': 11, 'random_state': 4}. Best is trial 6 with value: 0.01763110307414105.\n",
      "[I 2024-02-12 13:59:28,518] Trial 53 finished with value: 0.01763110307414105 and parameters: {'criterion': 'log_loss', 'splitter': 'best', 'max_features': 11, 'random_state': 4}. Best is trial 6 with value: 0.01763110307414105.\n",
      "[I 2024-02-12 13:59:28,588] Trial 54 finished with value: 0.03074141048824593 and parameters: {'criterion': 'log_loss', 'splitter': 'best', 'max_features': 8, 'random_state': 3}. Best is trial 6 with value: 0.01763110307414105.\n",
      "[I 2024-02-12 13:59:28,708] Trial 55 finished with value: 0.023508137432188065 and parameters: {'criterion': 'log_loss', 'splitter': 'best', 'max_features': 10, 'random_state': 5}. Best is trial 6 with value: 0.01763110307414105.\n",
      "[I 2024-02-12 13:59:28,750] Trial 56 finished with value: 0.030289330922242313 and parameters: {'criterion': 'entropy', 'splitter': 'best', 'max_features': 3, 'random_state': 4}. Best is trial 6 with value: 0.01763110307414105.\n",
      "[I 2024-02-12 13:59:28,828] Trial 57 finished with value: 0.02531645569620253 and parameters: {'criterion': 'gini', 'splitter': 'best', 'max_features': 11, 'random_state': 2}. Best is trial 6 with value: 0.01763110307414105.\n",
      "[I 2024-02-12 13:59:28,848] Trial 58 finished with value: 0.042043399638336344 and parameters: {'criterion': 'entropy', 'splitter': 'random', 'max_features': 'sqrt', 'random_state': 4}. Best is trial 6 with value: 0.01763110307414105.\n",
      "[I 2024-02-12 13:59:28,904] Trial 59 finished with value: 0.02667269439421338 and parameters: {'criterion': 'log_loss', 'splitter': 'best', 'max_features': 6, 'random_state': 4}. Best is trial 6 with value: 0.01763110307414105.\n",
      "[I 2024-02-12 13:59:28,954] Trial 60 finished with value: 0.03164556962025317 and parameters: {'criterion': 'entropy', 'splitter': 'best', 'max_features': 5, 'random_state': 3}. Best is trial 6 with value: 0.01763110307414105.\n",
      "[I 2024-02-12 13:59:29,044] Trial 61 finished with value: 0.01763110307414105 and parameters: {'criterion': 'entropy', 'splitter': 'best', 'max_features': 11, 'random_state': 4}. Best is trial 6 with value: 0.01763110307414105.\n",
      "[I 2024-02-12 13:59:29,124] Trial 62 finished with value: 0.01763110307414105 and parameters: {'criterion': 'entropy', 'splitter': 'best', 'max_features': 11, 'random_state': 4}. Best is trial 6 with value: 0.01763110307414105.\n",
      "[I 2024-02-12 13:59:29,164] Trial 63 finished with value: 0.0325497287522604 and parameters: {'criterion': 'entropy', 'splitter': 'best', 'max_features': 'log2', 'random_state': 5}. Best is trial 6 with value: 0.01763110307414105.\n",
      "[I 2024-02-12 13:59:29,242] Trial 64 finished with value: 0.01763110307414105 and parameters: {'criterion': 'entropy', 'splitter': 'best', 'max_features': 11, 'random_state': 4}. Best is trial 6 with value: 0.01763110307414105.\n",
      "[I 2024-02-12 13:59:29,317] Trial 65 finished with value: 0.01763110307414105 and parameters: {'criterion': 'entropy', 'splitter': 'best', 'max_features': 11, 'random_state': 4}. Best is trial 6 with value: 0.01763110307414105.\n",
      "[I 2024-02-12 13:59:29,398] Trial 66 finished with value: 0.01763110307414105 and parameters: {'criterion': 'entropy', 'splitter': 'best', 'max_features': 10, 'random_state': 3}. Best is trial 6 with value: 0.01763110307414105.\n",
      "[I 2024-02-12 13:59:29,478] Trial 67 finished with value: 0.0216998191681736 and parameters: {'criterion': 'entropy', 'splitter': 'best', 'max_features': 11, 'random_state': 5}. Best is trial 6 with value: 0.01763110307414105.\n",
      "[I 2024-02-12 13:59:29,528] Trial 68 finished with value: 0.02531645569620253 and parameters: {'criterion': 'gini', 'splitter': 'best', 'max_features': 7, 'random_state': 3}. Best is trial 6 with value: 0.01763110307414105.\n",
      "[I 2024-02-12 13:59:29,548] Trial 69 finished with value: 0.027576853526220614 and parameters: {'criterion': 'entropy', 'splitter': 'random', 'max_features': 9, 'random_state': 4}. Best is trial 6 with value: 0.01763110307414105.\n",
      "[I 2024-02-12 13:59:29,638] Trial 70 finished with value: 0.01763110307414105 and parameters: {'criterion': 'entropy', 'splitter': 'best', 'max_features': 11, 'random_state': 4}. Best is trial 6 with value: 0.01763110307414105.\n",
      "[I 2024-02-12 13:59:29,718] Trial 71 finished with value: 0.01763110307414105 and parameters: {'criterion': 'log_loss', 'splitter': 'best', 'max_features': 11, 'random_state': 4}. Best is trial 6 with value: 0.01763110307414105.\n",
      "[I 2024-02-12 13:59:29,795] Trial 72 finished with value: 0.01763110307414105 and parameters: {'criterion': 'log_loss', 'splitter': 'best', 'max_features': 11, 'random_state': 4}. Best is trial 6 with value: 0.01763110307414105.\n",
      "[I 2024-02-12 13:59:29,844] Trial 73 finished with value: 0.03164556962025317 and parameters: {'criterion': 'log_loss', 'splitter': 'best', 'max_features': 4, 'random_state': 4}. Best is trial 6 with value: 0.01763110307414105.\n",
      "[I 2024-02-12 13:59:29,928] Trial 74 finished with value: 0.01763110307414105 and parameters: {'criterion': 'log_loss', 'splitter': 'best', 'max_features': 11, 'random_state': 4}. Best is trial 6 with value: 0.01763110307414105.\n",
      "[I 2024-02-12 13:59:30,004] Trial 75 finished with value: 0.0216998191681736 and parameters: {'criterion': 'log_loss', 'splitter': 'best', 'max_features': 11, 'random_state': 5}. Best is trial 6 with value: 0.01763110307414105.\n",
      "[I 2024-02-12 13:59:30,045] Trial 76 finished with value: 0.03481012658227848 and parameters: {'criterion': 'entropy', 'splitter': 'best', 'max_features': 3, 'random_state': 3}. Best is trial 6 with value: 0.01763110307414105.\n",
      "[I 2024-02-12 13:59:30,115] Trial 77 finished with value: 0.021247739602169982 and parameters: {'criterion': 'entropy', 'splitter': 'best', 'max_features': 8, 'random_state': 4}. Best is trial 6 with value: 0.01763110307414105.\n",
      "[I 2024-02-12 13:59:30,145] Trial 78 finished with value: 0.06148282097649186 and parameters: {'criterion': 'log_loss', 'splitter': 'best', 'max_features': 2, 'random_state': 3}. Best is trial 6 with value: 0.01763110307414105.\n",
      "[I 2024-02-12 13:59:30,175] Trial 79 finished with value: 0.06735985533453888 and parameters: {'criterion': 'gini', 'splitter': 'best', 'max_features': 1, 'random_state': 5}. Best is trial 6 with value: 0.01763110307414105.\n",
      "[I 2024-02-12 13:59:30,195] Trial 80 finished with value: 0.054701627486437615 and parameters: {'criterion': 'entropy', 'splitter': 'random', 'max_features': 'sqrt', 'random_state': 2}. Best is trial 6 with value: 0.01763110307414105.\n",
      "[I 2024-02-12 13:59:30,278] Trial 81 finished with value: 0.01763110307414105 and parameters: {'criterion': 'entropy', 'splitter': 'best', 'max_features': 11, 'random_state': 4}. Best is trial 6 with value: 0.01763110307414105.\n",
      "[I 2024-02-12 13:59:30,358] Trial 82 finished with value: 0.01763110307414105 and parameters: {'criterion': 'entropy', 'splitter': 'best', 'max_features': 11, 'random_state': 4}. Best is trial 6 with value: 0.01763110307414105.\n",
      "[I 2024-02-12 13:59:30,438] Trial 83 finished with value: 0.01763110307414105 and parameters: {'criterion': 'entropy', 'splitter': 'best', 'max_features': 11, 'random_state': 4}. Best is trial 6 with value: 0.01763110307414105.\n",
      "[I 2024-02-12 13:59:30,518] Trial 84 finished with value: 0.018535262206148283 and parameters: {'criterion': 'entropy', 'splitter': 'best', 'max_features': 10, 'random_state': 4}. Best is trial 6 with value: 0.01763110307414105.\n",
      "[I 2024-02-12 13:59:30,568] Trial 85 finished with value: 0.02667269439421338 and parameters: {'criterion': 'entropy', 'splitter': 'best', 'max_features': 6, 'random_state': 4}. Best is trial 6 with value: 0.01763110307414105.\n",
      "[I 2024-02-12 13:59:30,608] Trial 86 finished with value: 0.030289330922242313 and parameters: {'criterion': 'entropy', 'splitter': 'best', 'max_features': 'log2', 'random_state': 4}. Best is trial 6 with value: 0.01763110307414105.\n",
      "[I 2024-02-12 13:59:30,688] Trial 87 finished with value: 0.01763110307414105 and parameters: {'criterion': 'log_loss', 'splitter': 'best', 'max_features': 11, 'random_state': 4}. Best is trial 6 with value: 0.01763110307414105.\n",
      "[I 2024-02-12 13:59:30,770] Trial 88 finished with value: 0.022151898734177215 and parameters: {'criterion': 'entropy', 'splitter': 'best', 'max_features': 11, 'random_state': 1}. Best is trial 6 with value: 0.01763110307414105.\n",
      "[I 2024-02-12 13:59:30,832] Trial 89 finished with value: 0.03164556962025317 and parameters: {'criterion': 'entropy', 'splitter': 'best', 'max_features': 5, 'random_state': 3}. Best is trial 6 with value: 0.01763110307414105.\n",
      "[I 2024-02-12 13:59:30,912] Trial 90 finished with value: 0.01763110307414105 and parameters: {'criterion': 'entropy', 'splitter': 'best', 'max_features': 11, 'random_state': 4}. Best is trial 6 with value: 0.01763110307414105.\n",
      "[I 2024-02-12 13:59:30,992] Trial 91 finished with value: 0.01763110307414105 and parameters: {'criterion': 'entropy', 'splitter': 'best', 'max_features': 11, 'random_state': 4}. Best is trial 6 with value: 0.01763110307414105.\n",
      "[I 2024-02-12 13:59:31,072] Trial 92 finished with value: 0.01763110307414105 and parameters: {'criterion': 'entropy', 'splitter': 'best', 'max_features': 11, 'random_state': 4}. Best is trial 6 with value: 0.01763110307414105.\n",
      "[I 2024-02-12 13:59:31,152] Trial 93 finished with value: 0.01763110307414105 and parameters: {'criterion': 'entropy', 'splitter': 'best', 'max_features': 11, 'random_state': 4}. Best is trial 6 with value: 0.01763110307414105.\n",
      "[I 2024-02-12 13:59:31,232] Trial 94 finished with value: 0.01763110307414105 and parameters: {'criterion': 'entropy', 'splitter': 'best', 'max_features': 11, 'random_state': 4}. Best is trial 6 with value: 0.01763110307414105.\n",
      "[I 2024-02-12 13:59:31,316] Trial 95 finished with value: 0.018535262206148283 and parameters: {'criterion': 'entropy', 'splitter': 'best', 'max_features': 10, 'random_state': 4}. Best is trial 6 with value: 0.01763110307414105.\n",
      "[I 2024-02-12 13:59:31,375] Trial 96 finished with value: 0.023508137432188065 and parameters: {'criterion': 'log_loss', 'splitter': 'best', 'max_features': 7, 'random_state': 5}. Best is trial 6 with value: 0.01763110307414105.\n",
      "[I 2024-02-12 13:59:31,395] Trial 97 finished with value: 0.024864376130198915 and parameters: {'criterion': 'entropy', 'splitter': 'random', 'max_features': 11, 'random_state': 3}. Best is trial 6 with value: 0.01763110307414105.\n",
      "[I 2024-02-12 13:59:31,465] Trial 98 finished with value: 0.029837251356238697 and parameters: {'criterion': 'gini', 'splitter': 'best', 'max_features': 9, 'random_state': 4}. Best is trial 6 with value: 0.01763110307414105.\n",
      "[I 2024-02-12 13:59:31,515] Trial 99 finished with value: 0.03164556962025317 and parameters: {'criterion': 'entropy', 'splitter': 'best', 'max_features': 4, 'random_state': 4}. Best is trial 6 with value: 0.01763110307414105.\n"
     ]
    },
    {
     "name": "stdout",
     "output_type": "stream",
     "text": [
      "Number of finished trials: 100\n",
      "Best trial: {'criterion': 'entropy', 'splitter': 'best', 'max_features': 10, 'random_state': 3}\n"
     ]
    }
   ],
   "source": [
    "\n",
    "study.optimize(objective, n_trials=100) # 150 bar \"objective\" object ke trial kore kore dekhbe, here total 5*100=750\n",
    "print('Number of finished trials:', len(study.trials))\n",
    "print('Best trial:', study.best_trial.params)"
   ]
  },
  {
   "cell_type": "code",
   "execution_count": 70,
   "metadata": {},
   "outputs": [
    {
     "name": "stdout",
     "output_type": "stream",
     "text": [
      "Number of finished trials:  100\n",
      "Best trial:\n",
      "  Value:  0.01763110307414105\n",
      "  Params: \n",
      "    criterion: entropy\n",
      "    splitter: best\n",
      "    max_features: 10\n",
      "    random_state: 3\n"
     ]
    }
   ],
   "source": [
    "#evaluate the trial\n",
    "print(\"Number of finished trials: \", len(study.trials))\n",
    "print(\"Best trial:\")\n",
    "trial = study.best_trial\n",
    "print(\"  Value: \", trial.value)\n",
    "print(\"  Params: \")\n",
    "for key, value in trial.params.items():\n",
    "    print(\"    {}: {}\".format(key, value))"
   ]
  },
  {
   "cell_type": "code",
   "execution_count": 71,
   "metadata": {},
   "outputs": [
    {
     "data": {
      "application/vnd.plotly.v1+json": {
       "config": {
        "plotlyServerURL": "https://plot.ly"
       },
       "data": [
        {
         "dimensions": [
          {
           "label": "Objective Value",
           "range": [
            0.01763110307414105,
            0.08453887884267632
           ],
           "values": [
            0.02938517179023508,
            0.019891500904159132,
            0.027576853526220614,
            0.06103074141048825,
            0.021247739602169982,
            0.08453887884267632,
            0.01763110307414105,
            0.03074141048824593,
            0.01763110307414105,
            0.021247739602169982,
            0.024412296564195298,
            0.023508137432188065,
            0.05605786618444846,
            0.021247739602169982,
            0.024864376130198915,
            0.030289330922242313,
            0.037070524412296565,
            0.0325497287522604,
            0.02938517179023508,
            0.034358047016274866,
            0.01763110307414105,
            0.01763110307414105,
            0.01763110307414105,
            0.0189873417721519,
            0.02034358047016275,
            0.030289330922242313,
            0.0352622061482821,
            0.022151898734177215,
            0.037070524412296565,
            0.01763110307414105,
            0.037070524412296565,
            0.01763110307414105,
            0.02396021699819168,
            0.0189873417721519,
            0.024864376130198915,
            0.01763110307414105,
            0.06148282097649186,
            0.02938517179023508,
            0.06103074141048825,
            0.021247739602169982,
            0.03074141048824593,
            0.01763110307414105,
            0.01763110307414105,
            0.03074141048824593,
            0.027576853526220614,
            0.0216998191681736,
            0.018535262206148283,
            0.026220614828209764,
            0.020795660036166366,
            0.07007233273056059,
            0.06103074141048825,
            0.01763110307414105,
            0.01763110307414105,
            0.01763110307414105,
            0.03074141048824593,
            0.023508137432188065,
            0.030289330922242313,
            0.02531645569620253,
            0.042043399638336344,
            0.02667269439421338,
            0.03164556962025317,
            0.01763110307414105,
            0.01763110307414105,
            0.0325497287522604,
            0.01763110307414105,
            0.01763110307414105,
            0.01763110307414105,
            0.0216998191681736,
            0.02531645569620253,
            0.027576853526220614,
            0.01763110307414105,
            0.01763110307414105,
            0.01763110307414105,
            0.03164556962025317,
            0.01763110307414105,
            0.0216998191681736,
            0.03481012658227848,
            0.021247739602169982,
            0.06148282097649186,
            0.06735985533453888,
            0.054701627486437615,
            0.01763110307414105,
            0.01763110307414105,
            0.01763110307414105,
            0.018535262206148283,
            0.02667269439421338,
            0.030289330922242313,
            0.01763110307414105,
            0.022151898734177215,
            0.03164556962025317,
            0.01763110307414105,
            0.01763110307414105,
            0.01763110307414105,
            0.01763110307414105,
            0.01763110307414105,
            0.018535262206148283,
            0.023508137432188065,
            0.024864376130198915,
            0.029837251356238697,
            0.03164556962025317
           ]
          },
          {
           "label": "criterion",
           "range": [
            0,
            2
           ],
           "ticktext": [
            "gini",
            "log_loss",
            "entropy"
           ],
           "tickvals": [
            0,
            1,
            2
           ],
           "values": [
            0,
            1,
            1,
            2,
            0,
            1,
            2,
            2,
            2,
            1,
            2,
            2,
            2,
            2,
            2,
            2,
            0,
            2,
            2,
            0,
            2,
            2,
            2,
            2,
            2,
            2,
            2,
            2,
            0,
            1,
            0,
            2,
            2,
            2,
            2,
            1,
            2,
            2,
            1,
            2,
            0,
            2,
            2,
            2,
            2,
            2,
            1,
            2,
            2,
            2,
            2,
            1,
            1,
            1,
            1,
            1,
            2,
            0,
            2,
            1,
            2,
            2,
            2,
            2,
            2,
            2,
            2,
            2,
            0,
            2,
            2,
            1,
            1,
            1,
            1,
            1,
            2,
            2,
            1,
            0,
            2,
            2,
            2,
            2,
            2,
            2,
            2,
            1,
            2,
            2,
            2,
            2,
            2,
            2,
            2,
            2,
            1,
            2,
            0,
            2
           ]
          },
          {
           "label": "max_features",
           "range": [
            0,
            12
           ],
           "ticktext": [
            "11",
            "7",
            "4",
            "1",
            "9",
            "10",
            "5",
            "2",
            "8",
            "sqrt",
            "log2",
            "3",
            "6"
           ],
           "tickvals": [
            0,
            1,
            2,
            3,
            4,
            5,
            6,
            7,
            8,
            9,
            10,
            11,
            12
           ],
           "values": [
            0,
            1,
            2,
            3,
            4,
            3,
            5,
            6,
            0,
            6,
            5,
            5,
            7,
            8,
            0,
            9,
            10,
            11,
            12,
            5,
            0,
            0,
            0,
            0,
            8,
            11,
            12,
            4,
            10,
            0,
            9,
            0,
            1,
            0,
            2,
            0,
            7,
            5,
            3,
            0,
            1,
            0,
            0,
            6,
            2,
            0,
            5,
            4,
            0,
            7,
            3,
            0,
            0,
            0,
            8,
            5,
            11,
            0,
            9,
            12,
            6,
            0,
            0,
            10,
            0,
            0,
            5,
            0,
            1,
            4,
            0,
            0,
            0,
            2,
            0,
            0,
            11,
            8,
            7,
            3,
            9,
            0,
            0,
            0,
            5,
            12,
            10,
            0,
            0,
            6,
            0,
            0,
            0,
            0,
            0,
            5,
            1,
            0,
            4,
            2
           ]
          },
          {
           "label": "random_state",
           "range": [
            0,
            5
           ],
           "values": [
            0,
            1,
            3,
            5,
            2,
            3,
            3,
            4,
            4,
            0,
            2,
            5,
            4,
            4,
            3,
            4,
            2,
            5,
            1,
            3,
            4,
            4,
            4,
            3,
            5,
            4,
            3,
            5,
            2,
            4,
            1,
            4,
            4,
            3,
            5,
            4,
            3,
            3,
            5,
            2,
            4,
            4,
            4,
            4,
            3,
            5,
            4,
            3,
            0,
            4,
            5,
            4,
            4,
            4,
            3,
            5,
            4,
            2,
            4,
            4,
            3,
            4,
            4,
            5,
            4,
            4,
            3,
            5,
            3,
            4,
            4,
            4,
            4,
            4,
            4,
            5,
            3,
            4,
            3,
            5,
            2,
            4,
            4,
            4,
            4,
            4,
            4,
            4,
            1,
            3,
            4,
            4,
            4,
            4,
            4,
            4,
            5,
            3,
            4,
            4
           ]
          },
          {
           "label": "splitter",
           "range": [
            0,
            1
           ],
           "ticktext": [
            "best",
            "random"
           ],
           "tickvals": [
            0,
            1
           ],
           "values": [
            0,
            0,
            0,
            0,
            1,
            1,
            0,
            0,
            0,
            0,
            1,
            0,
            0,
            0,
            1,
            0,
            0,
            0,
            1,
            0,
            0,
            0,
            0,
            0,
            0,
            0,
            1,
            0,
            0,
            0,
            0,
            0,
            0,
            0,
            0,
            0,
            0,
            1,
            0,
            0,
            1,
            0,
            0,
            0,
            0,
            0,
            0,
            0,
            0,
            1,
            0,
            0,
            0,
            0,
            0,
            0,
            0,
            0,
            1,
            0,
            0,
            0,
            0,
            0,
            0,
            0,
            0,
            0,
            0,
            1,
            0,
            0,
            0,
            0,
            0,
            0,
            0,
            0,
            0,
            0,
            1,
            0,
            0,
            0,
            0,
            0,
            0,
            0,
            0,
            0,
            0,
            0,
            0,
            0,
            0,
            0,
            0,
            1,
            0,
            0
           ]
          }
         ],
         "labelangle": 30,
         "labelside": "bottom",
         "line": {
          "color": [
           0.02938517179023508,
           0.019891500904159132,
           0.027576853526220614,
           0.06103074141048825,
           0.021247739602169982,
           0.08453887884267632,
           0.01763110307414105,
           0.03074141048824593,
           0.01763110307414105,
           0.021247739602169982,
           0.024412296564195298,
           0.023508137432188065,
           0.05605786618444846,
           0.021247739602169982,
           0.024864376130198915,
           0.030289330922242313,
           0.037070524412296565,
           0.0325497287522604,
           0.02938517179023508,
           0.034358047016274866,
           0.01763110307414105,
           0.01763110307414105,
           0.01763110307414105,
           0.0189873417721519,
           0.02034358047016275,
           0.030289330922242313,
           0.0352622061482821,
           0.022151898734177215,
           0.037070524412296565,
           0.01763110307414105,
           0.037070524412296565,
           0.01763110307414105,
           0.02396021699819168,
           0.0189873417721519,
           0.024864376130198915,
           0.01763110307414105,
           0.06148282097649186,
           0.02938517179023508,
           0.06103074141048825,
           0.021247739602169982,
           0.03074141048824593,
           0.01763110307414105,
           0.01763110307414105,
           0.03074141048824593,
           0.027576853526220614,
           0.0216998191681736,
           0.018535262206148283,
           0.026220614828209764,
           0.020795660036166366,
           0.07007233273056059,
           0.06103074141048825,
           0.01763110307414105,
           0.01763110307414105,
           0.01763110307414105,
           0.03074141048824593,
           0.023508137432188065,
           0.030289330922242313,
           0.02531645569620253,
           0.042043399638336344,
           0.02667269439421338,
           0.03164556962025317,
           0.01763110307414105,
           0.01763110307414105,
           0.0325497287522604,
           0.01763110307414105,
           0.01763110307414105,
           0.01763110307414105,
           0.0216998191681736,
           0.02531645569620253,
           0.027576853526220614,
           0.01763110307414105,
           0.01763110307414105,
           0.01763110307414105,
           0.03164556962025317,
           0.01763110307414105,
           0.0216998191681736,
           0.03481012658227848,
           0.021247739602169982,
           0.06148282097649186,
           0.06735985533453888,
           0.054701627486437615,
           0.01763110307414105,
           0.01763110307414105,
           0.01763110307414105,
           0.018535262206148283,
           0.02667269439421338,
           0.030289330922242313,
           0.01763110307414105,
           0.022151898734177215,
           0.03164556962025317,
           0.01763110307414105,
           0.01763110307414105,
           0.01763110307414105,
           0.01763110307414105,
           0.01763110307414105,
           0.018535262206148283,
           0.023508137432188065,
           0.024864376130198915,
           0.029837251356238697,
           0.03164556962025317
          ],
          "colorbar": {
           "title": {
            "text": "Objective Value"
           }
          },
          "colorscale": [
           [
            0,
            "rgb(247,251,255)"
           ],
           [
            0.125,
            "rgb(222,235,247)"
           ],
           [
            0.25,
            "rgb(198,219,239)"
           ],
           [
            0.375,
            "rgb(158,202,225)"
           ],
           [
            0.5,
            "rgb(107,174,214)"
           ],
           [
            0.625,
            "rgb(66,146,198)"
           ],
           [
            0.75,
            "rgb(33,113,181)"
           ],
           [
            0.875,
            "rgb(8,81,156)"
           ],
           [
            1,
            "rgb(8,48,107)"
           ]
          ],
          "reversescale": true,
          "showscale": true
         },
         "type": "parcoords"
        }
       ],
       "layout": {
        "template": {
         "data": {
          "bar": [
           {
            "error_x": {
             "color": "#2a3f5f"
            },
            "error_y": {
             "color": "#2a3f5f"
            },
            "marker": {
             "line": {
              "color": "#E5ECF6",
              "width": 0.5
             },
             "pattern": {
              "fillmode": "overlay",
              "size": 10,
              "solidity": 0.2
             }
            },
            "type": "bar"
           }
          ],
          "barpolar": [
           {
            "marker": {
             "line": {
              "color": "#E5ECF6",
              "width": 0.5
             },
             "pattern": {
              "fillmode": "overlay",
              "size": 10,
              "solidity": 0.2
             }
            },
            "type": "barpolar"
           }
          ],
          "carpet": [
           {
            "aaxis": {
             "endlinecolor": "#2a3f5f",
             "gridcolor": "white",
             "linecolor": "white",
             "minorgridcolor": "white",
             "startlinecolor": "#2a3f5f"
            },
            "baxis": {
             "endlinecolor": "#2a3f5f",
             "gridcolor": "white",
             "linecolor": "white",
             "minorgridcolor": "white",
             "startlinecolor": "#2a3f5f"
            },
            "type": "carpet"
           }
          ],
          "choropleth": [
           {
            "colorbar": {
             "outlinewidth": 0,
             "ticks": ""
            },
            "type": "choropleth"
           }
          ],
          "contour": [
           {
            "colorbar": {
             "outlinewidth": 0,
             "ticks": ""
            },
            "colorscale": [
             [
              0,
              "#0d0887"
             ],
             [
              0.1111111111111111,
              "#46039f"
             ],
             [
              0.2222222222222222,
              "#7201a8"
             ],
             [
              0.3333333333333333,
              "#9c179e"
             ],
             [
              0.4444444444444444,
              "#bd3786"
             ],
             [
              0.5555555555555556,
              "#d8576b"
             ],
             [
              0.6666666666666666,
              "#ed7953"
             ],
             [
              0.7777777777777778,
              "#fb9f3a"
             ],
             [
              0.8888888888888888,
              "#fdca26"
             ],
             [
              1,
              "#f0f921"
             ]
            ],
            "type": "contour"
           }
          ],
          "contourcarpet": [
           {
            "colorbar": {
             "outlinewidth": 0,
             "ticks": ""
            },
            "type": "contourcarpet"
           }
          ],
          "heatmap": [
           {
            "colorbar": {
             "outlinewidth": 0,
             "ticks": ""
            },
            "colorscale": [
             [
              0,
              "#0d0887"
             ],
             [
              0.1111111111111111,
              "#46039f"
             ],
             [
              0.2222222222222222,
              "#7201a8"
             ],
             [
              0.3333333333333333,
              "#9c179e"
             ],
             [
              0.4444444444444444,
              "#bd3786"
             ],
             [
              0.5555555555555556,
              "#d8576b"
             ],
             [
              0.6666666666666666,
              "#ed7953"
             ],
             [
              0.7777777777777778,
              "#fb9f3a"
             ],
             [
              0.8888888888888888,
              "#fdca26"
             ],
             [
              1,
              "#f0f921"
             ]
            ],
            "type": "heatmap"
           }
          ],
          "heatmapgl": [
           {
            "colorbar": {
             "outlinewidth": 0,
             "ticks": ""
            },
            "colorscale": [
             [
              0,
              "#0d0887"
             ],
             [
              0.1111111111111111,
              "#46039f"
             ],
             [
              0.2222222222222222,
              "#7201a8"
             ],
             [
              0.3333333333333333,
              "#9c179e"
             ],
             [
              0.4444444444444444,
              "#bd3786"
             ],
             [
              0.5555555555555556,
              "#d8576b"
             ],
             [
              0.6666666666666666,
              "#ed7953"
             ],
             [
              0.7777777777777778,
              "#fb9f3a"
             ],
             [
              0.8888888888888888,
              "#fdca26"
             ],
             [
              1,
              "#f0f921"
             ]
            ],
            "type": "heatmapgl"
           }
          ],
          "histogram": [
           {
            "marker": {
             "pattern": {
              "fillmode": "overlay",
              "size": 10,
              "solidity": 0.2
             }
            },
            "type": "histogram"
           }
          ],
          "histogram2d": [
           {
            "colorbar": {
             "outlinewidth": 0,
             "ticks": ""
            },
            "colorscale": [
             [
              0,
              "#0d0887"
             ],
             [
              0.1111111111111111,
              "#46039f"
             ],
             [
              0.2222222222222222,
              "#7201a8"
             ],
             [
              0.3333333333333333,
              "#9c179e"
             ],
             [
              0.4444444444444444,
              "#bd3786"
             ],
             [
              0.5555555555555556,
              "#d8576b"
             ],
             [
              0.6666666666666666,
              "#ed7953"
             ],
             [
              0.7777777777777778,
              "#fb9f3a"
             ],
             [
              0.8888888888888888,
              "#fdca26"
             ],
             [
              1,
              "#f0f921"
             ]
            ],
            "type": "histogram2d"
           }
          ],
          "histogram2dcontour": [
           {
            "colorbar": {
             "outlinewidth": 0,
             "ticks": ""
            },
            "colorscale": [
             [
              0,
              "#0d0887"
             ],
             [
              0.1111111111111111,
              "#46039f"
             ],
             [
              0.2222222222222222,
              "#7201a8"
             ],
             [
              0.3333333333333333,
              "#9c179e"
             ],
             [
              0.4444444444444444,
              "#bd3786"
             ],
             [
              0.5555555555555556,
              "#d8576b"
             ],
             [
              0.6666666666666666,
              "#ed7953"
             ],
             [
              0.7777777777777778,
              "#fb9f3a"
             ],
             [
              0.8888888888888888,
              "#fdca26"
             ],
             [
              1,
              "#f0f921"
             ]
            ],
            "type": "histogram2dcontour"
           }
          ],
          "mesh3d": [
           {
            "colorbar": {
             "outlinewidth": 0,
             "ticks": ""
            },
            "type": "mesh3d"
           }
          ],
          "parcoords": [
           {
            "line": {
             "colorbar": {
              "outlinewidth": 0,
              "ticks": ""
             }
            },
            "type": "parcoords"
           }
          ],
          "pie": [
           {
            "automargin": true,
            "type": "pie"
           }
          ],
          "scatter": [
           {
            "fillpattern": {
             "fillmode": "overlay",
             "size": 10,
             "solidity": 0.2
            },
            "type": "scatter"
           }
          ],
          "scatter3d": [
           {
            "line": {
             "colorbar": {
              "outlinewidth": 0,
              "ticks": ""
             }
            },
            "marker": {
             "colorbar": {
              "outlinewidth": 0,
              "ticks": ""
             }
            },
            "type": "scatter3d"
           }
          ],
          "scattercarpet": [
           {
            "marker": {
             "colorbar": {
              "outlinewidth": 0,
              "ticks": ""
             }
            },
            "type": "scattercarpet"
           }
          ],
          "scattergeo": [
           {
            "marker": {
             "colorbar": {
              "outlinewidth": 0,
              "ticks": ""
             }
            },
            "type": "scattergeo"
           }
          ],
          "scattergl": [
           {
            "marker": {
             "colorbar": {
              "outlinewidth": 0,
              "ticks": ""
             }
            },
            "type": "scattergl"
           }
          ],
          "scattermapbox": [
           {
            "marker": {
             "colorbar": {
              "outlinewidth": 0,
              "ticks": ""
             }
            },
            "type": "scattermapbox"
           }
          ],
          "scatterpolar": [
           {
            "marker": {
             "colorbar": {
              "outlinewidth": 0,
              "ticks": ""
             }
            },
            "type": "scatterpolar"
           }
          ],
          "scatterpolargl": [
           {
            "marker": {
             "colorbar": {
              "outlinewidth": 0,
              "ticks": ""
             }
            },
            "type": "scatterpolargl"
           }
          ],
          "scatterternary": [
           {
            "marker": {
             "colorbar": {
              "outlinewidth": 0,
              "ticks": ""
             }
            },
            "type": "scatterternary"
           }
          ],
          "surface": [
           {
            "colorbar": {
             "outlinewidth": 0,
             "ticks": ""
            },
            "colorscale": [
             [
              0,
              "#0d0887"
             ],
             [
              0.1111111111111111,
              "#46039f"
             ],
             [
              0.2222222222222222,
              "#7201a8"
             ],
             [
              0.3333333333333333,
              "#9c179e"
             ],
             [
              0.4444444444444444,
              "#bd3786"
             ],
             [
              0.5555555555555556,
              "#d8576b"
             ],
             [
              0.6666666666666666,
              "#ed7953"
             ],
             [
              0.7777777777777778,
              "#fb9f3a"
             ],
             [
              0.8888888888888888,
              "#fdca26"
             ],
             [
              1,
              "#f0f921"
             ]
            ],
            "type": "surface"
           }
          ],
          "table": [
           {
            "cells": {
             "fill": {
              "color": "#EBF0F8"
             },
             "line": {
              "color": "white"
             }
            },
            "header": {
             "fill": {
              "color": "#C8D4E3"
             },
             "line": {
              "color": "white"
             }
            },
            "type": "table"
           }
          ]
         },
         "layout": {
          "annotationdefaults": {
           "arrowcolor": "#2a3f5f",
           "arrowhead": 0,
           "arrowwidth": 1
          },
          "autotypenumbers": "strict",
          "coloraxis": {
           "colorbar": {
            "outlinewidth": 0,
            "ticks": ""
           }
          },
          "colorscale": {
           "diverging": [
            [
             0,
             "#8e0152"
            ],
            [
             0.1,
             "#c51b7d"
            ],
            [
             0.2,
             "#de77ae"
            ],
            [
             0.3,
             "#f1b6da"
            ],
            [
             0.4,
             "#fde0ef"
            ],
            [
             0.5,
             "#f7f7f7"
            ],
            [
             0.6,
             "#e6f5d0"
            ],
            [
             0.7,
             "#b8e186"
            ],
            [
             0.8,
             "#7fbc41"
            ],
            [
             0.9,
             "#4d9221"
            ],
            [
             1,
             "#276419"
            ]
           ],
           "sequential": [
            [
             0,
             "#0d0887"
            ],
            [
             0.1111111111111111,
             "#46039f"
            ],
            [
             0.2222222222222222,
             "#7201a8"
            ],
            [
             0.3333333333333333,
             "#9c179e"
            ],
            [
             0.4444444444444444,
             "#bd3786"
            ],
            [
             0.5555555555555556,
             "#d8576b"
            ],
            [
             0.6666666666666666,
             "#ed7953"
            ],
            [
             0.7777777777777778,
             "#fb9f3a"
            ],
            [
             0.8888888888888888,
             "#fdca26"
            ],
            [
             1,
             "#f0f921"
            ]
           ],
           "sequentialminus": [
            [
             0,
             "#0d0887"
            ],
            [
             0.1111111111111111,
             "#46039f"
            ],
            [
             0.2222222222222222,
             "#7201a8"
            ],
            [
             0.3333333333333333,
             "#9c179e"
            ],
            [
             0.4444444444444444,
             "#bd3786"
            ],
            [
             0.5555555555555556,
             "#d8576b"
            ],
            [
             0.6666666666666666,
             "#ed7953"
            ],
            [
             0.7777777777777778,
             "#fb9f3a"
            ],
            [
             0.8888888888888888,
             "#fdca26"
            ],
            [
             1,
             "#f0f921"
            ]
           ]
          },
          "colorway": [
           "#636efa",
           "#EF553B",
           "#00cc96",
           "#ab63fa",
           "#FFA15A",
           "#19d3f3",
           "#FF6692",
           "#B6E880",
           "#FF97FF",
           "#FECB52"
          ],
          "font": {
           "color": "#2a3f5f"
          },
          "geo": {
           "bgcolor": "white",
           "lakecolor": "white",
           "landcolor": "#E5ECF6",
           "showlakes": true,
           "showland": true,
           "subunitcolor": "white"
          },
          "hoverlabel": {
           "align": "left"
          },
          "hovermode": "closest",
          "mapbox": {
           "style": "light"
          },
          "paper_bgcolor": "white",
          "plot_bgcolor": "#E5ECF6",
          "polar": {
           "angularaxis": {
            "gridcolor": "white",
            "linecolor": "white",
            "ticks": ""
           },
           "bgcolor": "#E5ECF6",
           "radialaxis": {
            "gridcolor": "white",
            "linecolor": "white",
            "ticks": ""
           }
          },
          "scene": {
           "xaxis": {
            "backgroundcolor": "#E5ECF6",
            "gridcolor": "white",
            "gridwidth": 2,
            "linecolor": "white",
            "showbackground": true,
            "ticks": "",
            "zerolinecolor": "white"
           },
           "yaxis": {
            "backgroundcolor": "#E5ECF6",
            "gridcolor": "white",
            "gridwidth": 2,
            "linecolor": "white",
            "showbackground": true,
            "ticks": "",
            "zerolinecolor": "white"
           },
           "zaxis": {
            "backgroundcolor": "#E5ECF6",
            "gridcolor": "white",
            "gridwidth": 2,
            "linecolor": "white",
            "showbackground": true,
            "ticks": "",
            "zerolinecolor": "white"
           }
          },
          "shapedefaults": {
           "line": {
            "color": "#2a3f5f"
           }
          },
          "ternary": {
           "aaxis": {
            "gridcolor": "white",
            "linecolor": "white",
            "ticks": ""
           },
           "baxis": {
            "gridcolor": "white",
            "linecolor": "white",
            "ticks": ""
           },
           "bgcolor": "#E5ECF6",
           "caxis": {
            "gridcolor": "white",
            "linecolor": "white",
            "ticks": ""
           }
          },
          "title": {
           "x": 0.05
          },
          "xaxis": {
           "automargin": true,
           "gridcolor": "white",
           "linecolor": "white",
           "ticks": "",
           "title": {
            "standoff": 15
           },
           "zerolinecolor": "white",
           "zerolinewidth": 2
          },
          "yaxis": {
           "automargin": true,
           "gridcolor": "white",
           "linecolor": "white",
           "ticks": "",
           "title": {
            "standoff": 15
           },
           "zerolinecolor": "white",
           "zerolinewidth": 2
          }
         }
        },
        "title": {
         "text": "Parallel Coordinate Plot"
        }
       }
      }
     },
     "metadata": {},
     "output_type": "display_data"
    }
   ],
   "source": [
    "from matplotlib import pyplot as plt\n",
    "fig_study = optuna.visualization.plot_parallel_coordinate(study, params=[\"criterion\", \"splitter\",\"max_features\",\"random_state\"])\n",
    "fig_study.show()\n"
   ]
  },
  {
   "cell_type": "markdown",
   "metadata": {},
   "source": [
    "# tune Ada-Boost"
   ]
  },
  {
   "cell_type": "code",
   "execution_count": 72,
   "metadata": {},
   "outputs": [
    {
     "data": {
      "text/html": [
       "<style>#sk-container-id-6 {\n",
       "  /* Definition of color scheme common for light and dark mode */\n",
       "  --sklearn-color-text: black;\n",
       "  --sklearn-color-line: gray;\n",
       "  /* Definition of color scheme for unfitted estimators */\n",
       "  --sklearn-color-unfitted-level-0: #fff5e6;\n",
       "  --sklearn-color-unfitted-level-1: #f6e4d2;\n",
       "  --sklearn-color-unfitted-level-2: #ffe0b3;\n",
       "  --sklearn-color-unfitted-level-3: chocolate;\n",
       "  /* Definition of color scheme for fitted estimators */\n",
       "  --sklearn-color-fitted-level-0: #f0f8ff;\n",
       "  --sklearn-color-fitted-level-1: #d4ebff;\n",
       "  --sklearn-color-fitted-level-2: #b3dbfd;\n",
       "  --sklearn-color-fitted-level-3: cornflowerblue;\n",
       "\n",
       "  /* Specific color for light theme */\n",
       "  --sklearn-color-text-on-default-background: var(--sg-text-color, var(--theme-code-foreground, var(--jp-content-font-color1, black)));\n",
       "  --sklearn-color-background: var(--sg-background-color, var(--theme-background, var(--jp-layout-color0, white)));\n",
       "  --sklearn-color-border-box: var(--sg-text-color, var(--theme-code-foreground, var(--jp-content-font-color1, black)));\n",
       "  --sklearn-color-icon: #696969;\n",
       "\n",
       "  @media (prefers-color-scheme: dark) {\n",
       "    /* Redefinition of color scheme for dark theme */\n",
       "    --sklearn-color-text-on-default-background: var(--sg-text-color, var(--theme-code-foreground, var(--jp-content-font-color1, white)));\n",
       "    --sklearn-color-background: var(--sg-background-color, var(--theme-background, var(--jp-layout-color0, #111)));\n",
       "    --sklearn-color-border-box: var(--sg-text-color, var(--theme-code-foreground, var(--jp-content-font-color1, white)));\n",
       "    --sklearn-color-icon: #878787;\n",
       "  }\n",
       "}\n",
       "\n",
       "#sk-container-id-6 {\n",
       "  color: var(--sklearn-color-text);\n",
       "}\n",
       "\n",
       "#sk-container-id-6 pre {\n",
       "  padding: 0;\n",
       "}\n",
       "\n",
       "#sk-container-id-6 input.sk-hidden--visually {\n",
       "  border: 0;\n",
       "  clip: rect(1px 1px 1px 1px);\n",
       "  clip: rect(1px, 1px, 1px, 1px);\n",
       "  height: 1px;\n",
       "  margin: -1px;\n",
       "  overflow: hidden;\n",
       "  padding: 0;\n",
       "  position: absolute;\n",
       "  width: 1px;\n",
       "}\n",
       "\n",
       "#sk-container-id-6 div.sk-dashed-wrapped {\n",
       "  border: 1px dashed var(--sklearn-color-line);\n",
       "  margin: 0 0.4em 0.5em 0.4em;\n",
       "  box-sizing: border-box;\n",
       "  padding-bottom: 0.4em;\n",
       "  background-color: var(--sklearn-color-background);\n",
       "}\n",
       "\n",
       "#sk-container-id-6 div.sk-container {\n",
       "  /* jupyter's `normalize.less` sets `[hidden] { display: none; }`\n",
       "     but bootstrap.min.css set `[hidden] { display: none !important; }`\n",
       "     so we also need the `!important` here to be able to override the\n",
       "     default hidden behavior on the sphinx rendered scikit-learn.org.\n",
       "     See: https://github.com/scikit-learn/scikit-learn/issues/21755 */\n",
       "  display: inline-block !important;\n",
       "  position: relative;\n",
       "}\n",
       "\n",
       "#sk-container-id-6 div.sk-text-repr-fallback {\n",
       "  display: none;\n",
       "}\n",
       "\n",
       "div.sk-parallel-item,\n",
       "div.sk-serial,\n",
       "div.sk-item {\n",
       "  /* draw centered vertical line to link estimators */\n",
       "  background-image: linear-gradient(var(--sklearn-color-text-on-default-background), var(--sklearn-color-text-on-default-background));\n",
       "  background-size: 2px 100%;\n",
       "  background-repeat: no-repeat;\n",
       "  background-position: center center;\n",
       "}\n",
       "\n",
       "/* Parallel-specific style estimator block */\n",
       "\n",
       "#sk-container-id-6 div.sk-parallel-item::after {\n",
       "  content: \"\";\n",
       "  width: 100%;\n",
       "  border-bottom: 2px solid var(--sklearn-color-text-on-default-background);\n",
       "  flex-grow: 1;\n",
       "}\n",
       "\n",
       "#sk-container-id-6 div.sk-parallel {\n",
       "  display: flex;\n",
       "  align-items: stretch;\n",
       "  justify-content: center;\n",
       "  background-color: var(--sklearn-color-background);\n",
       "  position: relative;\n",
       "}\n",
       "\n",
       "#sk-container-id-6 div.sk-parallel-item {\n",
       "  display: flex;\n",
       "  flex-direction: column;\n",
       "}\n",
       "\n",
       "#sk-container-id-6 div.sk-parallel-item:first-child::after {\n",
       "  align-self: flex-end;\n",
       "  width: 50%;\n",
       "}\n",
       "\n",
       "#sk-container-id-6 div.sk-parallel-item:last-child::after {\n",
       "  align-self: flex-start;\n",
       "  width: 50%;\n",
       "}\n",
       "\n",
       "#sk-container-id-6 div.sk-parallel-item:only-child::after {\n",
       "  width: 0;\n",
       "}\n",
       "\n",
       "/* Serial-specific style estimator block */\n",
       "\n",
       "#sk-container-id-6 div.sk-serial {\n",
       "  display: flex;\n",
       "  flex-direction: column;\n",
       "  align-items: center;\n",
       "  background-color: var(--sklearn-color-background);\n",
       "  padding-right: 1em;\n",
       "  padding-left: 1em;\n",
       "}\n",
       "\n",
       "\n",
       "/* Toggleable style: style used for estimator/Pipeline/ColumnTransformer box that is\n",
       "clickable and can be expanded/collapsed.\n",
       "- Pipeline and ColumnTransformer use this feature and define the default style\n",
       "- Estimators will overwrite some part of the style using the `sk-estimator` class\n",
       "*/\n",
       "\n",
       "/* Pipeline and ColumnTransformer style (default) */\n",
       "\n",
       "#sk-container-id-6 div.sk-toggleable {\n",
       "  /* Default theme specific background. It is overwritten whether we have a\n",
       "  specific estimator or a Pipeline/ColumnTransformer */\n",
       "  background-color: var(--sklearn-color-background);\n",
       "}\n",
       "\n",
       "/* Toggleable label */\n",
       "#sk-container-id-6 label.sk-toggleable__label {\n",
       "  cursor: pointer;\n",
       "  display: block;\n",
       "  width: 100%;\n",
       "  margin-bottom: 0;\n",
       "  padding: 0.5em;\n",
       "  box-sizing: border-box;\n",
       "  text-align: center;\n",
       "}\n",
       "\n",
       "#sk-container-id-6 label.sk-toggleable__label-arrow:before {\n",
       "  /* Arrow on the left of the label */\n",
       "  content: \"▸\";\n",
       "  float: left;\n",
       "  margin-right: 0.25em;\n",
       "  color: var(--sklearn-color-icon);\n",
       "}\n",
       "\n",
       "#sk-container-id-6 label.sk-toggleable__label-arrow:hover:before {\n",
       "  color: var(--sklearn-color-text);\n",
       "}\n",
       "\n",
       "/* Toggleable content - dropdown */\n",
       "\n",
       "#sk-container-id-6 div.sk-toggleable__content {\n",
       "  max-height: 0;\n",
       "  max-width: 0;\n",
       "  overflow: hidden;\n",
       "  text-align: left;\n",
       "  /* unfitted */\n",
       "  background-color: var(--sklearn-color-unfitted-level-0);\n",
       "}\n",
       "\n",
       "#sk-container-id-6 div.sk-toggleable__content.fitted {\n",
       "  /* fitted */\n",
       "  background-color: var(--sklearn-color-fitted-level-0);\n",
       "}\n",
       "\n",
       "#sk-container-id-6 div.sk-toggleable__content pre {\n",
       "  margin: 0.2em;\n",
       "  border-radius: 0.25em;\n",
       "  color: var(--sklearn-color-text);\n",
       "  /* unfitted */\n",
       "  background-color: var(--sklearn-color-unfitted-level-0);\n",
       "}\n",
       "\n",
       "#sk-container-id-6 div.sk-toggleable__content.fitted pre {\n",
       "  /* unfitted */\n",
       "  background-color: var(--sklearn-color-fitted-level-0);\n",
       "}\n",
       "\n",
       "#sk-container-id-6 input.sk-toggleable__control:checked~div.sk-toggleable__content {\n",
       "  /* Expand drop-down */\n",
       "  max-height: 200px;\n",
       "  max-width: 100%;\n",
       "  overflow: auto;\n",
       "}\n",
       "\n",
       "#sk-container-id-6 input.sk-toggleable__control:checked~label.sk-toggleable__label-arrow:before {\n",
       "  content: \"▾\";\n",
       "}\n",
       "\n",
       "/* Pipeline/ColumnTransformer-specific style */\n",
       "\n",
       "#sk-container-id-6 div.sk-label input.sk-toggleable__control:checked~label.sk-toggleable__label {\n",
       "  color: var(--sklearn-color-text);\n",
       "  background-color: var(--sklearn-color-unfitted-level-2);\n",
       "}\n",
       "\n",
       "#sk-container-id-6 div.sk-label.fitted input.sk-toggleable__control:checked~label.sk-toggleable__label {\n",
       "  background-color: var(--sklearn-color-fitted-level-2);\n",
       "}\n",
       "\n",
       "/* Estimator-specific style */\n",
       "\n",
       "/* Colorize estimator box */\n",
       "#sk-container-id-6 div.sk-estimator input.sk-toggleable__control:checked~label.sk-toggleable__label {\n",
       "  /* unfitted */\n",
       "  background-color: var(--sklearn-color-unfitted-level-2);\n",
       "}\n",
       "\n",
       "#sk-container-id-6 div.sk-estimator.fitted input.sk-toggleable__control:checked~label.sk-toggleable__label {\n",
       "  /* fitted */\n",
       "  background-color: var(--sklearn-color-fitted-level-2);\n",
       "}\n",
       "\n",
       "#sk-container-id-6 div.sk-label label.sk-toggleable__label,\n",
       "#sk-container-id-6 div.sk-label label {\n",
       "  /* The background is the default theme color */\n",
       "  color: var(--sklearn-color-text-on-default-background);\n",
       "}\n",
       "\n",
       "/* On hover, darken the color of the background */\n",
       "#sk-container-id-6 div.sk-label:hover label.sk-toggleable__label {\n",
       "  color: var(--sklearn-color-text);\n",
       "  background-color: var(--sklearn-color-unfitted-level-2);\n",
       "}\n",
       "\n",
       "/* Label box, darken color on hover, fitted */\n",
       "#sk-container-id-6 div.sk-label.fitted:hover label.sk-toggleable__label.fitted {\n",
       "  color: var(--sklearn-color-text);\n",
       "  background-color: var(--sklearn-color-fitted-level-2);\n",
       "}\n",
       "\n",
       "/* Estimator label */\n",
       "\n",
       "#sk-container-id-6 div.sk-label label {\n",
       "  font-family: monospace;\n",
       "  font-weight: bold;\n",
       "  display: inline-block;\n",
       "  line-height: 1.2em;\n",
       "}\n",
       "\n",
       "#sk-container-id-6 div.sk-label-container {\n",
       "  text-align: center;\n",
       "}\n",
       "\n",
       "/* Estimator-specific */\n",
       "#sk-container-id-6 div.sk-estimator {\n",
       "  font-family: monospace;\n",
       "  border: 1px dotted var(--sklearn-color-border-box);\n",
       "  border-radius: 0.25em;\n",
       "  box-sizing: border-box;\n",
       "  margin-bottom: 0.5em;\n",
       "  /* unfitted */\n",
       "  background-color: var(--sklearn-color-unfitted-level-0);\n",
       "}\n",
       "\n",
       "#sk-container-id-6 div.sk-estimator.fitted {\n",
       "  /* fitted */\n",
       "  background-color: var(--sklearn-color-fitted-level-0);\n",
       "}\n",
       "\n",
       "/* on hover */\n",
       "#sk-container-id-6 div.sk-estimator:hover {\n",
       "  /* unfitted */\n",
       "  background-color: var(--sklearn-color-unfitted-level-2);\n",
       "}\n",
       "\n",
       "#sk-container-id-6 div.sk-estimator.fitted:hover {\n",
       "  /* fitted */\n",
       "  background-color: var(--sklearn-color-fitted-level-2);\n",
       "}\n",
       "\n",
       "/* Specification for estimator info (e.g. \"i\" and \"?\") */\n",
       "\n",
       "/* Common style for \"i\" and \"?\" */\n",
       "\n",
       ".sk-estimator-doc-link,\n",
       "a:link.sk-estimator-doc-link,\n",
       "a:visited.sk-estimator-doc-link {\n",
       "  float: right;\n",
       "  font-size: smaller;\n",
       "  line-height: 1em;\n",
       "  font-family: monospace;\n",
       "  background-color: var(--sklearn-color-background);\n",
       "  border-radius: 1em;\n",
       "  height: 1em;\n",
       "  width: 1em;\n",
       "  text-decoration: none !important;\n",
       "  margin-left: 1ex;\n",
       "  /* unfitted */\n",
       "  border: var(--sklearn-color-unfitted-level-1) 1pt solid;\n",
       "  color: var(--sklearn-color-unfitted-level-1);\n",
       "}\n",
       "\n",
       ".sk-estimator-doc-link.fitted,\n",
       "a:link.sk-estimator-doc-link.fitted,\n",
       "a:visited.sk-estimator-doc-link.fitted {\n",
       "  /* fitted */\n",
       "  border: var(--sklearn-color-fitted-level-1) 1pt solid;\n",
       "  color: var(--sklearn-color-fitted-level-1);\n",
       "}\n",
       "\n",
       "/* On hover */\n",
       "div.sk-estimator:hover .sk-estimator-doc-link:hover,\n",
       ".sk-estimator-doc-link:hover,\n",
       "div.sk-label-container:hover .sk-estimator-doc-link:hover,\n",
       ".sk-estimator-doc-link:hover {\n",
       "  /* unfitted */\n",
       "  background-color: var(--sklearn-color-unfitted-level-3);\n",
       "  color: var(--sklearn-color-background);\n",
       "  text-decoration: none;\n",
       "}\n",
       "\n",
       "div.sk-estimator.fitted:hover .sk-estimator-doc-link.fitted:hover,\n",
       ".sk-estimator-doc-link.fitted:hover,\n",
       "div.sk-label-container:hover .sk-estimator-doc-link.fitted:hover,\n",
       ".sk-estimator-doc-link.fitted:hover {\n",
       "  /* fitted */\n",
       "  background-color: var(--sklearn-color-fitted-level-3);\n",
       "  color: var(--sklearn-color-background);\n",
       "  text-decoration: none;\n",
       "}\n",
       "\n",
       "/* Span, style for the box shown on hovering the info icon */\n",
       ".sk-estimator-doc-link span {\n",
       "  display: none;\n",
       "  z-index: 9999;\n",
       "  position: relative;\n",
       "  font-weight: normal;\n",
       "  right: .2ex;\n",
       "  padding: .5ex;\n",
       "  margin: .5ex;\n",
       "  width: min-content;\n",
       "  min-width: 20ex;\n",
       "  max-width: 50ex;\n",
       "  color: var(--sklearn-color-text);\n",
       "  box-shadow: 2pt 2pt 4pt #999;\n",
       "  /* unfitted */\n",
       "  background: var(--sklearn-color-unfitted-level-0);\n",
       "  border: .5pt solid var(--sklearn-color-unfitted-level-3);\n",
       "}\n",
       "\n",
       ".sk-estimator-doc-link.fitted span {\n",
       "  /* fitted */\n",
       "  background: var(--sklearn-color-fitted-level-0);\n",
       "  border: var(--sklearn-color-fitted-level-3);\n",
       "}\n",
       "\n",
       ".sk-estimator-doc-link:hover span {\n",
       "  display: block;\n",
       "}\n",
       "\n",
       "/* \"?\"-specific style due to the `<a>` HTML tag */\n",
       "\n",
       "#sk-container-id-6 a.estimator_doc_link {\n",
       "  float: right;\n",
       "  font-size: 1rem;\n",
       "  line-height: 1em;\n",
       "  font-family: monospace;\n",
       "  background-color: var(--sklearn-color-background);\n",
       "  border-radius: 1rem;\n",
       "  height: 1rem;\n",
       "  width: 1rem;\n",
       "  text-decoration: none;\n",
       "  /* unfitted */\n",
       "  color: var(--sklearn-color-unfitted-level-1);\n",
       "  border: var(--sklearn-color-unfitted-level-1) 1pt solid;\n",
       "}\n",
       "\n",
       "#sk-container-id-6 a.estimator_doc_link.fitted {\n",
       "  /* fitted */\n",
       "  border: var(--sklearn-color-fitted-level-1) 1pt solid;\n",
       "  color: var(--sklearn-color-fitted-level-1);\n",
       "}\n",
       "\n",
       "/* On hover */\n",
       "#sk-container-id-6 a.estimator_doc_link:hover {\n",
       "  /* unfitted */\n",
       "  background-color: var(--sklearn-color-unfitted-level-3);\n",
       "  color: var(--sklearn-color-background);\n",
       "  text-decoration: none;\n",
       "}\n",
       "\n",
       "#sk-container-id-6 a.estimator_doc_link.fitted:hover {\n",
       "  /* fitted */\n",
       "  background-color: var(--sklearn-color-fitted-level-3);\n",
       "}\n",
       "</style><div id=\"sk-container-id-6\" class=\"sk-top-container\"><div class=\"sk-text-repr-fallback\"><pre>AdaBoostClassifier(algorithm=&#x27;SAMME&#x27;,\n",
       "                   estimator=DecisionTreeClassifier(criterion=&#x27;entropy&#x27;,\n",
       "                                                    max_features=10,\n",
       "                                                    random_state=3),\n",
       "                   learning_rate=1.2, n_estimators=180)</pre><b>In a Jupyter environment, please rerun this cell to show the HTML representation or trust the notebook. <br />On GitHub, the HTML representation is unable to render, please try loading this page with nbviewer.org.</b></div><div class=\"sk-container\" hidden><div class=\"sk-item sk-dashed-wrapped\"><div class=\"sk-label-container\"><div class=\"sk-label fitted sk-toggleable\"><input class=\"sk-toggleable__control sk-hidden--visually\" id=\"sk-estimator-id-10\" type=\"checkbox\" ><label for=\"sk-estimator-id-10\" class=\"sk-toggleable__label fitted sk-toggleable__label-arrow fitted\">&nbsp;&nbsp;AdaBoostClassifier<a class=\"sk-estimator-doc-link fitted\" rel=\"noreferrer\" target=\"_blank\" href=\"https://scikit-learn.org/1.4/modules/generated/sklearn.ensemble.AdaBoostClassifier.html\">?<span>Documentation for AdaBoostClassifier</span></a><span class=\"sk-estimator-doc-link fitted\">i<span>Fitted</span></span></label><div class=\"sk-toggleable__content fitted\"><pre>AdaBoostClassifier(algorithm=&#x27;SAMME&#x27;,\n",
       "                   estimator=DecisionTreeClassifier(criterion=&#x27;entropy&#x27;,\n",
       "                                                    max_features=10,\n",
       "                                                    random_state=3),\n",
       "                   learning_rate=1.2, n_estimators=180)</pre></div> </div></div><div class=\"sk-parallel\"><div class=\"sk-parallel-item\"><div class=\"sk-item\"><div class=\"sk-label-container\"><div class=\"sk-label fitted sk-toggleable\"><input class=\"sk-toggleable__control sk-hidden--visually\" id=\"sk-estimator-id-11\" type=\"checkbox\" ><label for=\"sk-estimator-id-11\" class=\"sk-toggleable__label fitted sk-toggleable__label-arrow fitted\">estimator: DecisionTreeClassifier</label><div class=\"sk-toggleable__content fitted\"><pre>DecisionTreeClassifier(criterion=&#x27;entropy&#x27;, max_features=10, random_state=3)</pre></div> </div></div><div class=\"sk-serial\"><div class=\"sk-item\"><div class=\"sk-estimator fitted sk-toggleable\"><input class=\"sk-toggleable__control sk-hidden--visually\" id=\"sk-estimator-id-12\" type=\"checkbox\" ><label for=\"sk-estimator-id-12\" class=\"sk-toggleable__label fitted sk-toggleable__label-arrow fitted\">&nbsp;DecisionTreeClassifier<a class=\"sk-estimator-doc-link fitted\" rel=\"noreferrer\" target=\"_blank\" href=\"https://scikit-learn.org/1.4/modules/generated/sklearn.tree.DecisionTreeClassifier.html\">?<span>Documentation for DecisionTreeClassifier</span></a></label><div class=\"sk-toggleable__content fitted\"><pre>DecisionTreeClassifier(criterion=&#x27;entropy&#x27;, max_features=10, random_state=3)</pre></div> </div></div></div></div></div></div></div></div></div>"
      ],
      "text/plain": [
       "AdaBoostClassifier(algorithm='SAMME',\n",
       "                   estimator=DecisionTreeClassifier(criterion='entropy',\n",
       "                                                    max_features=10,\n",
       "                                                    random_state=3),\n",
       "                   learning_rate=1.2, n_estimators=180)"
      ]
     },
     "execution_count": 72,
     "metadata": {},
     "output_type": "execute_result"
    }
   ],
   "source": [
    "# train the model with random parameter\n",
    "from sklearn.ensemble import AdaBoostClassifier\n",
    "# Preparing the regressor and fitting data with some parameters\n",
    "dt_params = study.best_trial.params\n",
    "model_dt = DecisionTreeClassifier(**dt_params)\n",
    "#model_dt = estimator\n",
    "#model = predictor = model_dt.fit()\n",
    "\n",
    "model_Ada = AdaBoostClassifier(\n",
    "        estimator=model_dt,\n",
    "        n_estimators=180, # maximum number of estimators at which boosting is terminated\n",
    "        learning_rate=1.2,\n",
    "        algorithm=\"SAMME\", #SAMME.R=real boosting algorithm\n",
    "        \n",
    "     )\n",
    "\n",
    "model_Ada.fit(encoded_X_train_n, y_train)"
   ]
  },
  {
   "cell_type": "code",
   "execution_count": 73,
   "metadata": {},
   "outputs": [
    {
     "data": {
      "text/plain": [
       "0.018072289156626505"
      ]
     },
     "execution_count": 73,
     "metadata": {},
     "output_type": "execute_result"
    }
   ],
   "source": [
    "# Finding mean absolute error\n",
    "preds = model_Ada.predict(encoded_X_test_n)\n",
    "preds = preds.astype(int)\n",
    "mae = np.abs(y_test-preds).mean()\n",
    "mae"
   ]
  },
  {
   "cell_type": "code",
   "execution_count": 74,
   "metadata": {},
   "outputs": [],
   "source": [
    "# Defining the best parameter with optuna\n",
    "\n",
    "K = 5 # 5 fold cross validation\n",
    "skf = StratifiedKFold(n_splits = K, random_state = 42, shuffle = True)\n",
    "\n",
    "\n",
    "train_tunned_Ada= np.array(encoded_X_n)\n",
    "target_train_tunned_Ada = np.array(label)\n",
    "\n",
    "# test = np.array(X)\n",
    "# target_train = df_train['congestion'].values\n",
    "\n",
    "# test_preds = np.zeros((len(test)))\n",
    "oof_preds_Ada = np.zeros((len(train_tunned_Ada)))\n",
    "abs_error_arr_Ada=[]\n",
    "def objective_Ada(trial):\n",
    "\n",
    " for train_index, val_index in (skf.split(encoded_X_n,label)):\n",
    "    train_X, valid_X = train_tunned_Ada[train_index], train_tunned_Ada[val_index]\n",
    "    train_Y, valid_Y = target_train_tunned_Ada[train_index], target_train_tunned_Ada[val_index]\n",
    "    \n",
    "        \n",
    "        # train_x, test_x, train_y, test_y = train_test_split(data, target, test_size=0.25,random_state=0)\n",
    "    param = {\n",
    "            # 'tree_method':'gpu_hist',  # this parameter means using the GPU when training our model to speedup the training process \n",
    "        'estimator':model_dt,\n",
    "        'n_estimators':trial.suggest_int(\"n_estimators\",50,500), # maximum number of estimators at which boosting is terminated\n",
    "        'learning_rate':trial.suggest_float(\"learning_rate\",1,3),\n",
    "        'algorithm':trial.suggest_categorical(\"algorithm\",[\"SAMME\",\"SAMME.R\"]),\n",
    "        'random_state':trial.suggest_int('random_state',0,5),\n",
    "        }\n",
    "    model_2 = AdaBoostClassifier(**param)  \n",
    "        \n",
    "    model_2.fit(train_X,train_Y)\n",
    "        \n",
    "    preds = model_2.predict(valid_X)\n",
    "    oof_preds_Ada[val_index] = preds # preds gives total 3846 predicted value for valid_X\n",
    "\n",
    "#  abs_error=np.abs(oof_preds-target_train_tunned).mean() \n",
    "#  abs_error_arr.append(abs_error)  \n",
    "#  abs_error=np.abs(oof_preds-target_train).mean()\n",
    " \n",
    "#  print(len(oof_preds))\n",
    "      \n",
    " mae = mean_absolute_error(target_train_tunned_Ada, oof_preds_Ada)\n",
    "        \n",
    " return mae"
   ]
  },
  {
   "cell_type": "code",
   "execution_count": 75,
   "metadata": {},
   "outputs": [
    {
     "name": "stderr",
     "output_type": "stream",
     "text": [
      "[I 2024-02-12 13:59:31,636] A new study created in memory with name: Ada_tunning\n"
     ]
    }
   ],
   "source": [
    "# this is the main optuna for optimizing a object-->\"objective\"\n",
    "study_Ada = optuna.create_study(direction='minimize',study_name=\"Ada_tunning\")"
   ]
  },
  {
   "cell_type": "code",
   "execution_count": 76,
   "metadata": {},
   "outputs": [
    {
     "name": "stderr",
     "output_type": "stream",
     "text": [
      "[I 2024-02-12 13:59:31,758] Trial 0 finished with value: 0.02034358047016275 and parameters: {'n_estimators': 343, 'learning_rate': 1.9382635768315488, 'algorithm': 'SAMME.R', 'random_state': 1}. Best is trial 0 with value: 0.02034358047016275.\n"
     ]
    },
    {
     "name": "stderr",
     "output_type": "stream",
     "text": [
      "[I 2024-02-12 13:59:31,847] Trial 1 finished with value: 0.016726943942133816 and parameters: {'n_estimators': 236, 'learning_rate': 1.5217950908036497, 'algorithm': 'SAMME', 'random_state': 2}. Best is trial 1 with value: 0.016726943942133816.\n",
      "[I 2024-02-12 13:59:31,933] Trial 2 finished with value: 0.02034358047016275 and parameters: {'n_estimators': 65, 'learning_rate': 2.613265159076854, 'algorithm': 'SAMME', 'random_state': 5}. Best is trial 1 with value: 0.016726943942133816.\n",
      "[I 2024-02-12 13:59:32,013] Trial 3 finished with value: 0.02034358047016275 and parameters: {'n_estimators': 186, 'learning_rate': 2.7937771525589055, 'algorithm': 'SAMME.R', 'random_state': 1}. Best is trial 1 with value: 0.016726943942133816.\n",
      "[I 2024-02-12 13:59:32,093] Trial 4 finished with value: 0.016726943942133816 and parameters: {'n_estimators': 424, 'learning_rate': 2.1846390031193637, 'algorithm': 'SAMME.R', 'random_state': 2}. Best is trial 1 with value: 0.016726943942133816.\n",
      "[I 2024-02-12 13:59:32,173] Trial 5 finished with value: 0.02305605786618445 and parameters: {'n_estimators': 67, 'learning_rate': 2.962165889748724, 'algorithm': 'SAMME', 'random_state': 0}. Best is trial 1 with value: 0.016726943942133816.\n",
      "[I 2024-02-12 13:59:32,253] Trial 6 finished with value: 0.019439421338155516 and parameters: {'n_estimators': 90, 'learning_rate': 2.7838283246351896, 'algorithm': 'SAMME', 'random_state': 4}. Best is trial 1 with value: 0.016726943942133816.\n",
      "[I 2024-02-12 13:59:32,351] Trial 7 finished with value: 0.02034358047016275 and parameters: {'n_estimators': 491, 'learning_rate': 2.859173804543427, 'algorithm': 'SAMME.R', 'random_state': 1}. Best is trial 1 with value: 0.016726943942133816.\n",
      "[I 2024-02-12 13:59:32,432] Trial 8 finished with value: 0.019439421338155516 and parameters: {'n_estimators': 140, 'learning_rate': 1.310312418779438, 'algorithm': 'SAMME', 'random_state': 4}. Best is trial 1 with value: 0.016726943942133816.\n",
      "[I 2024-02-12 13:59:32,506] Trial 9 finished with value: 0.02305605786618445 and parameters: {'n_estimators': 88, 'learning_rate': 1.5552685061519458, 'algorithm': 'SAMME', 'random_state': 0}. Best is trial 1 with value: 0.016726943942133816.\n",
      "[I 2024-02-12 13:59:32,616] Trial 10 finished with value: 0.024864376130198915 and parameters: {'n_estimators': 254, 'learning_rate': 1.0402414778920666, 'algorithm': 'SAMME', 'random_state': 3}. Best is trial 1 with value: 0.016726943942133816.\n",
      "[I 2024-02-12 13:59:32,706] Trial 11 finished with value: 0.016726943942133816 and parameters: {'n_estimators': 392, 'learning_rate': 2.213542059053752, 'algorithm': 'SAMME.R', 'random_state': 2}. Best is trial 1 with value: 0.016726943942133816.\n",
      "[I 2024-02-12 13:59:32,806] Trial 12 finished with value: 0.016726943942133816 and parameters: {'n_estimators': 280, 'learning_rate': 1.8857567886649453, 'algorithm': 'SAMME.R', 'random_state': 2}. Best is trial 1 with value: 0.016726943942133816.\n",
      "[I 2024-02-12 13:59:32,914] Trial 13 finished with value: 0.024864376130198915 and parameters: {'n_estimators': 498, 'learning_rate': 2.296629850579553, 'algorithm': 'SAMME.R', 'random_state': 3}. Best is trial 1 with value: 0.016726943942133816.\n",
      "[I 2024-02-12 13:59:33,008] Trial 14 finished with value: 0.016726943942133816 and parameters: {'n_estimators': 405, 'learning_rate': 1.525847822800586, 'algorithm': 'SAMME', 'random_state': 2}. Best is trial 1 with value: 0.016726943942133816.\n",
      "[I 2024-02-12 13:59:33,114] Trial 15 finished with value: 0.024864376130198915 and parameters: {'n_estimators': 247, 'learning_rate': 1.606114719792672, 'algorithm': 'SAMME.R', 'random_state': 3}. Best is trial 1 with value: 0.016726943942133816.\n",
      "[I 2024-02-12 13:59:33,214] Trial 16 finished with value: 0.02034358047016275 and parameters: {'n_estimators': 329, 'learning_rate': 2.339903389170187, 'algorithm': 'SAMME', 'random_state': 1}. Best is trial 1 with value: 0.016726943942133816.\n",
      "[I 2024-02-12 13:59:33,303] Trial 17 finished with value: 0.019439421338155516 and parameters: {'n_estimators': 192, 'learning_rate': 1.7653818404733097, 'algorithm': 'SAMME.R', 'random_state': 4}. Best is trial 1 with value: 0.016726943942133816.\n",
      "[I 2024-02-12 13:59:33,393] Trial 18 finished with value: 0.016726943942133816 and parameters: {'n_estimators': 435, 'learning_rate': 1.2514963164361295, 'algorithm': 'SAMME.R', 'random_state': 2}. Best is trial 1 with value: 0.016726943942133816.\n",
      "[I 2024-02-12 13:59:33,501] Trial 19 finished with value: 0.024864376130198915 and parameters: {'n_estimators': 342, 'learning_rate': 2.1151081838161976, 'algorithm': 'SAMME', 'random_state': 3}. Best is trial 1 with value: 0.016726943942133816.\n",
      "[I 2024-02-12 13:59:33,591] Trial 20 finished with value: 0.02305605786618445 and parameters: {'n_estimators': 300, 'learning_rate': 2.5096988322841627, 'algorithm': 'SAMME', 'random_state': 0}. Best is trial 1 with value: 0.016726943942133816.\n",
      "[I 2024-02-12 13:59:33,681] Trial 21 finished with value: 0.016726943942133816 and parameters: {'n_estimators': 400, 'learning_rate': 2.1424746323143227, 'algorithm': 'SAMME.R', 'random_state': 2}. Best is trial 1 with value: 0.016726943942133816.\n",
      "[I 2024-02-12 13:59:33,771] Trial 22 finished with value: 0.016726943942133816 and parameters: {'n_estimators': 442, 'learning_rate': 2.237796169284393, 'algorithm': 'SAMME.R', 'random_state': 2}. Best is trial 1 with value: 0.016726943942133816.\n",
      "[I 2024-02-12 13:59:33,876] Trial 23 finished with value: 0.02034358047016275 and parameters: {'n_estimators': 214, 'learning_rate': 2.475259952275635, 'algorithm': 'SAMME.R', 'random_state': 1}. Best is trial 1 with value: 0.016726943942133816.\n",
      "[I 2024-02-12 13:59:33,966] Trial 24 finished with value: 0.016726943942133816 and parameters: {'n_estimators': 372, 'learning_rate': 1.7533147859165332, 'algorithm': 'SAMME.R', 'random_state': 2}. Best is trial 1 with value: 0.016726943942133816.\n",
      "[I 2024-02-12 13:59:34,075] Trial 25 finished with value: 0.024864376130198915 and parameters: {'n_estimators': 466, 'learning_rate': 2.0503873817367078, 'algorithm': 'SAMME.R', 'random_state': 3}. Best is trial 1 with value: 0.016726943942133816.\n",
      "[I 2024-02-12 13:59:34,165] Trial 26 finished with value: 0.016726943942133816 and parameters: {'n_estimators': 376, 'learning_rate': 1.3569834894148047, 'algorithm': 'SAMME.R', 'random_state': 2}. Best is trial 1 with value: 0.016726943942133816.\n",
      "[I 2024-02-12 13:59:34,265] Trial 27 finished with value: 0.02034358047016275 and parameters: {'n_estimators': 304, 'learning_rate': 1.7849569351843153, 'algorithm': 'SAMME.R', 'random_state': 1}. Best is trial 1 with value: 0.016726943942133816.\n",
      "[I 2024-02-12 13:59:34,373] Trial 28 finished with value: 0.024864376130198915 and parameters: {'n_estimators': 136, 'learning_rate': 1.9659513601586325, 'algorithm': 'SAMME', 'random_state': 3}. Best is trial 1 with value: 0.016726943942133816.\n",
      "[I 2024-02-12 13:59:34,463] Trial 29 finished with value: 0.016726943942133816 and parameters: {'n_estimators': 375, 'learning_rate': 2.411868754953441, 'algorithm': 'SAMME.R', 'random_state': 2}. Best is trial 1 with value: 0.016726943942133816.\n",
      "[I 2024-02-12 13:59:34,568] Trial 30 finished with value: 0.02034358047016275 and parameters: {'n_estimators': 427, 'learning_rate': 2.634459894054925, 'algorithm': 'SAMME.R', 'random_state': 1}. Best is trial 1 with value: 0.016726943942133816.\n",
      "[I 2024-02-12 13:59:34,658] Trial 31 finished with value: 0.016726943942133816 and parameters: {'n_estimators': 285, 'learning_rate': 1.8930872409006243, 'algorithm': 'SAMME.R', 'random_state': 2}. Best is trial 1 with value: 0.016726943942133816.\n",
      "[I 2024-02-12 13:59:34,760] Trial 32 finished with value: 0.016726943942133816 and parameters: {'n_estimators': 246, 'learning_rate': 1.8912478451819767, 'algorithm': 'SAMME.R', 'random_state': 2}. Best is trial 1 with value: 0.016726943942133816.\n",
      "[I 2024-02-12 13:59:34,847] Trial 33 finished with value: 0.016726943942133816 and parameters: {'n_estimators': 212, 'learning_rate': 2.217488682451507, 'algorithm': 'SAMME.R', 'random_state': 2}. Best is trial 1 with value: 0.016726943942133816.\n",
      "[I 2024-02-12 13:59:34,947] Trial 34 finished with value: 0.02034358047016275 and parameters: {'n_estimators': 316, 'learning_rate': 1.6745900835444767, 'algorithm': 'SAMME.R', 'random_state': 1}. Best is trial 1 with value: 0.016726943942133816.\n",
      "[I 2024-02-12 13:59:35,047] Trial 35 finished with value: 0.02034358047016275 and parameters: {'n_estimators': 272, 'learning_rate': 1.452932513266882, 'algorithm': 'SAMME.R', 'random_state': 5}. Best is trial 1 with value: 0.016726943942133816.\n",
      "[I 2024-02-12 13:59:35,145] Trial 36 finished with value: 0.02034358047016275 and parameters: {'n_estimators': 471, 'learning_rate': 1.173016120897175, 'algorithm': 'SAMME', 'random_state': 1}. Best is trial 1 with value: 0.016726943942133816.\n",
      "[I 2024-02-12 13:59:35,237] Trial 37 finished with value: 0.019439421338155516 and parameters: {'n_estimators': 349, 'learning_rate': 2.0499606788564426, 'algorithm': 'SAMME.R', 'random_state': 4}. Best is trial 1 with value: 0.016726943942133816.\n",
      "[I 2024-02-12 13:59:35,347] Trial 38 finished with value: 0.024864376130198915 and parameters: {'n_estimators': 401, 'learning_rate': 2.6751307908188036, 'algorithm': 'SAMME', 'random_state': 3}. Best is trial 1 with value: 0.016726943942133816.\n",
      "[I 2024-02-12 13:59:35,437] Trial 39 finished with value: 0.02305605786618445 and parameters: {'n_estimators': 130, 'learning_rate': 1.8509724011806243, 'algorithm': 'SAMME', 'random_state': 0}. Best is trial 1 with value: 0.016726943942133816.\n",
      "[I 2024-02-12 13:59:35,537] Trial 40 finished with value: 0.02034358047016275 and parameters: {'n_estimators': 154, 'learning_rate': 2.1585246675774967, 'algorithm': 'SAMME.R', 'random_state': 1}. Best is trial 1 with value: 0.016726943942133816.\n",
      "[I 2024-02-12 13:59:35,638] Trial 41 finished with value: 0.016726943942133816 and parameters: {'n_estimators': 408, 'learning_rate': 1.4922292923645208, 'algorithm': 'SAMME', 'random_state': 2}. Best is trial 1 with value: 0.016726943942133816.\n",
      "[I 2024-02-12 13:59:35,728] Trial 42 finished with value: 0.016726943942133816 and parameters: {'n_estimators': 454, 'learning_rate': 1.4111429222986898, 'algorithm': 'SAMME', 'random_state': 2}. Best is trial 1 with value: 0.016726943942133816.\n",
      "[I 2024-02-12 13:59:35,827] Trial 43 finished with value: 0.016726943942133816 and parameters: {'n_estimators': 415, 'learning_rate': 1.619391564257691, 'algorithm': 'SAMME', 'random_state': 2}. Best is trial 1 with value: 0.016726943942133816.\n",
      "[I 2024-02-12 13:59:35,933] Trial 44 finished with value: 0.024864376130198915 and parameters: {'n_estimators': 358, 'learning_rate': 2.356348046899927, 'algorithm': 'SAMME', 'random_state': 3}. Best is trial 1 with value: 0.016726943942133816.\n",
      "[I 2024-02-12 13:59:36,027] Trial 45 finished with value: 0.016726943942133816 and parameters: {'n_estimators': 214, 'learning_rate': 1.0019467227224363, 'algorithm': 'SAMME', 'random_state': 2}. Best is trial 1 with value: 0.016726943942133816.\n",
      "[I 2024-02-12 13:59:36,131] Trial 46 finished with value: 0.02034358047016275 and parameters: {'n_estimators': 487, 'learning_rate': 1.1241013694468058, 'algorithm': 'SAMME', 'random_state': 1}. Best is trial 1 with value: 0.016726943942133816.\n",
      "[I 2024-02-12 13:59:36,234] Trial 47 finished with value: 0.024864376130198915 and parameters: {'n_estimators': 387, 'learning_rate': 1.5455214451125998, 'algorithm': 'SAMME', 'random_state': 3}. Best is trial 1 with value: 0.016726943942133816.\n",
      "[I 2024-02-12 13:59:36,327] Trial 48 finished with value: 0.016726943942133816 and parameters: {'n_estimators': 263, 'learning_rate': 2.003524939559892, 'algorithm': 'SAMME.R', 'random_state': 2}. Best is trial 1 with value: 0.016726943942133816.\n",
      "[I 2024-02-12 13:59:36,434] Trial 49 finished with value: 0.024864376130198915 and parameters: {'n_estimators': 180, 'learning_rate': 1.6913429072338324, 'algorithm': 'SAMME', 'random_state': 3}. Best is trial 1 with value: 0.016726943942133816.\n",
      "[I 2024-02-12 13:59:36,527] Trial 50 finished with value: 0.016726943942133816 and parameters: {'n_estimators': 286, 'learning_rate': 2.2433031626287865, 'algorithm': 'SAMME.R', 'random_state': 2}. Best is trial 1 with value: 0.016726943942133816.\n",
      "[I 2024-02-12 13:59:36,617] Trial 51 finished with value: 0.016726943942133816 and parameters: {'n_estimators': 435, 'learning_rate': 1.2956897865714985, 'algorithm': 'SAMME.R', 'random_state': 2}. Best is trial 1 with value: 0.016726943942133816.\n",
      "[I 2024-02-12 13:59:36,715] Trial 52 finished with value: 0.016726943942133816 and parameters: {'n_estimators': 426, 'learning_rate': 1.2439201827479818, 'algorithm': 'SAMME.R', 'random_state': 2}. Best is trial 1 with value: 0.016726943942133816.\n",
      "[I 2024-02-12 13:59:36,814] Trial 53 finished with value: 0.016726943942133816 and parameters: {'n_estimators': 331, 'learning_rate': 1.2119210599394166, 'algorithm': 'SAMME.R', 'random_state': 2}. Best is trial 1 with value: 0.016726943942133816.\n",
      "[I 2024-02-12 13:59:36,914] Trial 54 finished with value: 0.024864376130198915 and parameters: {'n_estimators': 450, 'learning_rate': 1.1026430488008832, 'algorithm': 'SAMME.R', 'random_state': 3}. Best is trial 1 with value: 0.016726943942133816.\n",
      "[I 2024-02-12 13:59:37,014] Trial 55 finished with value: 0.016726943942133816 and parameters: {'n_estimators': 475, 'learning_rate': 1.414899430183043, 'algorithm': 'SAMME.R', 'random_state': 2}. Best is trial 1 with value: 0.016726943942133816.\n",
      "[I 2024-02-12 13:59:37,114] Trial 56 finished with value: 0.02034358047016275 and parameters: {'n_estimators': 232, 'learning_rate': 1.522739730445585, 'algorithm': 'SAMME.R', 'random_state': 1}. Best is trial 1 with value: 0.016726943942133816.\n",
      "[I 2024-02-12 13:59:37,208] Trial 57 finished with value: 0.016726943942133816 and parameters: {'n_estimators': 393, 'learning_rate': 1.3197494924012507, 'algorithm': 'SAMME.R', 'random_state': 2}. Best is trial 1 with value: 0.016726943942133816.\n",
      "[I 2024-02-12 13:59:37,308] Trial 58 finished with value: 0.016726943942133816 and parameters: {'n_estimators': 411, 'learning_rate': 2.0979885180303475, 'algorithm': 'SAMME', 'random_state': 2}. Best is trial 1 with value: 0.016726943942133816.\n",
      "[I 2024-02-12 13:59:37,407] Trial 59 finished with value: 0.024864376130198915 and parameters: {'n_estimators': 453, 'learning_rate': 1.6072803384842365, 'algorithm': 'SAMME.R', 'random_state': 3}. Best is trial 1 with value: 0.016726943942133816.\n",
      "[I 2024-02-12 13:59:37,517] Trial 60 finished with value: 0.02034358047016275 and parameters: {'n_estimators': 364, 'learning_rate': 2.972662422701037, 'algorithm': 'SAMME.R', 'random_state': 1}. Best is trial 1 with value: 0.016726943942133816.\n",
      "[I 2024-02-12 13:59:37,607] Trial 61 finished with value: 0.016726943942133816 and parameters: {'n_estimators': 383, 'learning_rate': 2.126831082993302, 'algorithm': 'SAMME.R', 'random_state': 2}. Best is trial 1 with value: 0.016726943942133816.\n",
      "[I 2024-02-12 13:59:37,707] Trial 62 finished with value: 0.016726943942133816 and parameters: {'n_estimators': 421, 'learning_rate': 2.1996583638327705, 'algorithm': 'SAMME.R', 'random_state': 2}. Best is trial 1 with value: 0.016726943942133816.\n",
      "[I 2024-02-12 13:59:37,804] Trial 63 finished with value: 0.016726943942133816 and parameters: {'n_estimators': 333, 'learning_rate': 2.5424922859697348, 'algorithm': 'SAMME.R', 'random_state': 2}. Best is trial 1 with value: 0.016726943942133816.\n",
      "[I 2024-02-12 13:59:37,903] Trial 64 finished with value: 0.016726943942133816 and parameters: {'n_estimators': 439, 'learning_rate': 2.2861437961176017, 'algorithm': 'SAMME.R', 'random_state': 2}. Best is trial 1 with value: 0.016726943942133816.\n",
      "[I 2024-02-12 13:59:38,013] Trial 65 finished with value: 0.024864376130198915 and parameters: {'n_estimators': 397, 'learning_rate': 1.8218008924673261, 'algorithm': 'SAMME.R', 'random_state': 3}. Best is trial 1 with value: 0.016726943942133816.\n",
      "[I 2024-02-12 13:59:38,103] Trial 66 finished with value: 0.016726943942133816 and parameters: {'n_estimators': 60, 'learning_rate': 1.9584037941178012, 'algorithm': 'SAMME.R', 'random_state': 2}. Best is trial 1 with value: 0.016726943942133816.\n",
      "[I 2024-02-12 13:59:38,213] Trial 67 finished with value: 0.02034358047016275 and parameters: {'n_estimators': 313, 'learning_rate': 2.4184059226264285, 'algorithm': 'SAMME', 'random_state': 1}. Best is trial 1 with value: 0.016726943942133816.\n",
      "[I 2024-02-12 13:59:38,313] Trial 68 finished with value: 0.016726943942133816 and parameters: {'n_estimators': 352, 'learning_rate': 1.7396395903145203, 'algorithm': 'SAMME.R', 'random_state': 2}. Best is trial 1 with value: 0.016726943942133816.\n",
      "[I 2024-02-12 13:59:38,407] Trial 69 finished with value: 0.02034358047016275 and parameters: {'n_estimators': 490, 'learning_rate': 2.0545244769007582, 'algorithm': 'SAMME.R', 'random_state': 1}. Best is trial 1 with value: 0.016726943942133816.\n",
      "[I 2024-02-12 13:59:38,517] Trial 70 finished with value: 0.024864376130198915 and parameters: {'n_estimators': 371, 'learning_rate': 2.330199628651737, 'algorithm': 'SAMME', 'random_state': 3}. Best is trial 1 with value: 0.016726943942133816.\n",
      "[I 2024-02-12 13:59:38,617] Trial 71 finished with value: 0.016726943942133816 and parameters: {'n_estimators': 438, 'learning_rate': 2.1710959362976285, 'algorithm': 'SAMME.R', 'random_state': 2}. Best is trial 1 with value: 0.016726943942133816.\n",
      "[I 2024-02-12 13:59:38,717] Trial 72 finished with value: 0.016726943942133816 and parameters: {'n_estimators': 465, 'learning_rate': 2.24603682877095, 'algorithm': 'SAMME.R', 'random_state': 2}. Best is trial 1 with value: 0.016726943942133816.\n",
      "[I 2024-02-12 13:59:38,816] Trial 73 finished with value: 0.016726943942133816 and parameters: {'n_estimators': 199, 'learning_rate': 2.005201341263879, 'algorithm': 'SAMME.R', 'random_state': 2}. Best is trial 1 with value: 0.016726943942133816.\n",
      "[I 2024-02-12 13:59:38,916] Trial 74 finished with value: 0.016726943942133816 and parameters: {'n_estimators': 230, 'learning_rate': 1.926603800716416, 'algorithm': 'SAMME.R', 'random_state': 2}. Best is trial 1 with value: 0.016726943942133816.\n",
      "[I 2024-02-12 13:59:39,016] Trial 75 finished with value: 0.016726943942133816 and parameters: {'n_estimators': 414, 'learning_rate': 2.394938276867761, 'algorithm': 'SAMME.R', 'random_state': 2}. Best is trial 1 with value: 0.016726943942133816.\n",
      "[I 2024-02-12 13:59:39,106] Trial 76 finished with value: 0.016726943942133816 and parameters: {'n_estimators': 449, 'learning_rate': 2.3056701950109644, 'algorithm': 'SAMME', 'random_state': 2}. Best is trial 1 with value: 0.016726943942133816.\n",
      "[I 2024-02-12 13:59:39,217] Trial 77 finished with value: 0.02034358047016275 and parameters: {'n_estimators': 403, 'learning_rate': 2.462072259993195, 'algorithm': 'SAMME.R', 'random_state': 5}. Best is trial 1 with value: 0.016726943942133816.\n",
      "[I 2024-02-12 13:59:39,315] Trial 78 finished with value: 0.016726943942133816 and parameters: {'n_estimators': 430, 'learning_rate': 2.0825642681618817, 'algorithm': 'SAMME.R', 'random_state': 2}. Best is trial 1 with value: 0.016726943942133816.\n",
      "[I 2024-02-12 13:59:39,417] Trial 79 finished with value: 0.02034358047016275 and parameters: {'n_estimators': 463, 'learning_rate': 2.1534823079665015, 'algorithm': 'SAMME', 'random_state': 1}. Best is trial 1 with value: 0.016726943942133816.\n",
      "[I 2024-02-12 13:59:39,517] Trial 80 finished with value: 0.024864376130198915 and parameters: {'n_estimators': 380, 'learning_rate': 2.270771418482817, 'algorithm': 'SAMME.R', 'random_state': 3}. Best is trial 1 with value: 0.016726943942133816.\n",
      "[I 2024-02-12 13:59:39,616] Trial 81 finished with value: 0.016726943942133816 and parameters: {'n_estimators': 389, 'learning_rate': 1.6956415428996157, 'algorithm': 'SAMME.R', 'random_state': 2}. Best is trial 1 with value: 0.016726943942133816.\n",
      "[I 2024-02-12 13:59:39,716] Trial 82 finished with value: 0.016726943942133816 and parameters: {'n_estimators': 403, 'learning_rate': 1.8146360804804818, 'algorithm': 'SAMME.R', 'random_state': 2}. Best is trial 1 with value: 0.016726943942133816.\n",
      "[I 2024-02-12 13:59:39,816] Trial 83 finished with value: 0.016726943942133816 and parameters: {'n_estimators': 370, 'learning_rate': 1.4576271619883863, 'algorithm': 'SAMME.R', 'random_state': 2}. Best is trial 1 with value: 0.016726943942133816.\n",
      "[I 2024-02-12 13:59:39,909] Trial 84 finished with value: 0.016726943942133816 and parameters: {'n_estimators': 422, 'learning_rate': 1.9166093622139173, 'algorithm': 'SAMME.R', 'random_state': 2}. Best is trial 1 with value: 0.016726943942133816.\n",
      "[I 2024-02-12 13:59:40,009] Trial 85 finished with value: 0.016726943942133816 and parameters: {'n_estimators': 478, 'learning_rate': 1.6448220510249383, 'algorithm': 'SAMME', 'random_state': 2}. Best is trial 1 with value: 0.016726943942133816.\n",
      "[I 2024-02-12 13:59:40,106] Trial 86 finished with value: 0.016726943942133816 and parameters: {'n_estimators': 166, 'learning_rate': 1.7481891171218027, 'algorithm': 'SAMME.R', 'random_state': 2}. Best is trial 1 with value: 0.016726943942133816.\n",
      "[I 2024-02-12 13:59:40,206] Trial 87 finished with value: 0.016726943942133816 and parameters: {'n_estimators': 287, 'learning_rate': 1.8736452524380371, 'algorithm': 'SAMME.R', 'random_state': 2}. Best is trial 1 with value: 0.016726943942133816.\n",
      "[I 2024-02-12 13:59:40,316] Trial 88 finished with value: 0.02034358047016275 and parameters: {'n_estimators': 339, 'learning_rate': 2.0184338349394966, 'algorithm': 'SAMME', 'random_state': 1}. Best is trial 1 with value: 0.016726943942133816.\n",
      "[I 2024-02-12 13:59:40,420] Trial 89 finished with value: 0.024864376130198915 and parameters: {'n_estimators': 440, 'learning_rate': 1.5560447349914792, 'algorithm': 'SAMME.R', 'random_state': 3}. Best is trial 1 with value: 0.016726943942133816.\n",
      "[I 2024-02-12 13:59:40,521] Trial 90 finished with value: 0.016726943942133816 and parameters: {'n_estimators': 97, 'learning_rate': 1.9734461289852012, 'algorithm': 'SAMME.R', 'random_state': 2}. Best is trial 1 with value: 0.016726943942133816.\n",
      "[I 2024-02-12 13:59:40,611] Trial 91 finished with value: 0.016726943942133816 and parameters: {'n_estimators': 358, 'learning_rate': 1.3603924731799935, 'algorithm': 'SAMME.R', 'random_state': 2}. Best is trial 1 with value: 0.016726943942133816.\n",
      "[I 2024-02-12 13:59:40,710] Trial 92 finished with value: 0.016726943942133816 and parameters: {'n_estimators': 379, 'learning_rate': 1.3516986074845105, 'algorithm': 'SAMME.R', 'random_state': 2}. Best is trial 1 with value: 0.016726943942133816.\n",
      "[I 2024-02-12 13:59:40,813] Trial 93 finished with value: 0.016726943942133816 and parameters: {'n_estimators': 238, 'learning_rate': 1.4075977400674475, 'algorithm': 'SAMME.R', 'random_state': 2}. Best is trial 1 with value: 0.016726943942133816.\n",
      "[I 2024-02-12 13:59:40,907] Trial 94 finished with value: 0.016726943942133816 and parameters: {'n_estimators': 320, 'learning_rate': 1.263960544390777, 'algorithm': 'SAMME.R', 'random_state': 2}. Best is trial 1 with value: 0.016726943942133816.\n",
      "[I 2024-02-12 13:59:41,007] Trial 95 finished with value: 0.016726943942133816 and parameters: {'n_estimators': 394, 'learning_rate': 1.5028113851674674, 'algorithm': 'SAMME.R', 'random_state': 2}. Best is trial 1 with value: 0.016726943942133816.\n",
      "[I 2024-02-12 13:59:41,107] Trial 96 finished with value: 0.016726943942133816 and parameters: {'n_estimators': 420, 'learning_rate': 1.181963106306457, 'algorithm': 'SAMME', 'random_state': 2}. Best is trial 1 with value: 0.016726943942133816.\n",
      "[I 2024-02-12 13:59:41,217] Trial 97 finished with value: 0.024864376130198915 and parameters: {'n_estimators': 259, 'learning_rate': 2.201393824586236, 'algorithm': 'SAMME.R', 'random_state': 3}. Best is trial 1 with value: 0.016726943942133816.\n",
      "[I 2024-02-12 13:59:41,317] Trial 98 finished with value: 0.016726943942133816 and parameters: {'n_estimators': 411, 'learning_rate': 1.4597611534978479, 'algorithm': 'SAMME.R', 'random_state': 2}. Best is trial 1 with value: 0.016726943942133816.\n",
      "[I 2024-02-12 13:59:41,413] Trial 99 finished with value: 0.016726943942133816 and parameters: {'n_estimators': 269, 'learning_rate': 1.5605677116624448, 'algorithm': 'SAMME', 'random_state': 2}. Best is trial 1 with value: 0.016726943942133816.\n"
     ]
    },
    {
     "name": "stdout",
     "output_type": "stream",
     "text": [
      "Number of finished trials: 100\n",
      "Best trial: {'n_estimators': 236, 'learning_rate': 1.5217950908036497, 'algorithm': 'SAMME', 'random_state': 2}\n"
     ]
    }
   ],
   "source": [
    "\n",
    "study_Ada.optimize(objective_Ada, n_trials=100) # 150 bar \"objective\" object ke trial kore kore dekhbe, here total 5*100=750\n",
    "print('Number of finished trials:', len(study_Ada.trials))\n",
    "print('Best trial:', study_Ada.best_trial.params)"
   ]
  },
  {
   "cell_type": "code",
   "execution_count": 77,
   "metadata": {},
   "outputs": [
    {
     "name": "stdout",
     "output_type": "stream",
     "text": [
      "Number of finished trials:  100\n",
      "Best trial:\n",
      "  Value:  0.016726943942133816\n",
      "  Params: \n",
      "    n_estimators: 236\n",
      "    learning_rate: 1.5217950908036497\n",
      "    algorithm: SAMME\n",
      "    random_state: 2\n"
     ]
    }
   ],
   "source": [
    "#evaluate the trial\n",
    "print(\"Number of finished trials: \", len(study_Ada.trials))\n",
    "print(\"Best trial:\")\n",
    "trial = study_Ada.best_trial\n",
    "print(\"  Value: \", trial.value)\n",
    "print(\"  Params: \")\n",
    "for key, value in trial.params.items():\n",
    "    print(\"    {}: {}\".format(key, value))"
   ]
  },
  {
   "cell_type": "code",
   "execution_count": 78,
   "metadata": {},
   "outputs": [
    {
     "data": {
      "application/vnd.plotly.v1+json": {
       "config": {
        "plotlyServerURL": "https://plot.ly"
       },
       "data": [
        {
         "dimensions": [
          {
           "label": "Objective Value",
           "range": [
            0.016726943942133816,
            0.024864376130198915
           ],
           "values": [
            0.02034358047016275,
            0.016726943942133816,
            0.02034358047016275,
            0.02034358047016275,
            0.016726943942133816,
            0.02305605786618445,
            0.019439421338155516,
            0.02034358047016275,
            0.019439421338155516,
            0.02305605786618445,
            0.024864376130198915,
            0.016726943942133816,
            0.016726943942133816,
            0.024864376130198915,
            0.016726943942133816,
            0.024864376130198915,
            0.02034358047016275,
            0.019439421338155516,
            0.016726943942133816,
            0.024864376130198915,
            0.02305605786618445,
            0.016726943942133816,
            0.016726943942133816,
            0.02034358047016275,
            0.016726943942133816,
            0.024864376130198915,
            0.016726943942133816,
            0.02034358047016275,
            0.024864376130198915,
            0.016726943942133816,
            0.02034358047016275,
            0.016726943942133816,
            0.016726943942133816,
            0.016726943942133816,
            0.02034358047016275,
            0.02034358047016275,
            0.02034358047016275,
            0.019439421338155516,
            0.024864376130198915,
            0.02305605786618445,
            0.02034358047016275,
            0.016726943942133816,
            0.016726943942133816,
            0.016726943942133816,
            0.024864376130198915,
            0.016726943942133816,
            0.02034358047016275,
            0.024864376130198915,
            0.016726943942133816,
            0.024864376130198915,
            0.016726943942133816,
            0.016726943942133816,
            0.016726943942133816,
            0.016726943942133816,
            0.024864376130198915,
            0.016726943942133816,
            0.02034358047016275,
            0.016726943942133816,
            0.016726943942133816,
            0.024864376130198915,
            0.02034358047016275,
            0.016726943942133816,
            0.016726943942133816,
            0.016726943942133816,
            0.016726943942133816,
            0.024864376130198915,
            0.016726943942133816,
            0.02034358047016275,
            0.016726943942133816,
            0.02034358047016275,
            0.024864376130198915,
            0.016726943942133816,
            0.016726943942133816,
            0.016726943942133816,
            0.016726943942133816,
            0.016726943942133816,
            0.016726943942133816,
            0.02034358047016275,
            0.016726943942133816,
            0.02034358047016275,
            0.024864376130198915,
            0.016726943942133816,
            0.016726943942133816,
            0.016726943942133816,
            0.016726943942133816,
            0.016726943942133816,
            0.016726943942133816,
            0.016726943942133816,
            0.02034358047016275,
            0.024864376130198915,
            0.016726943942133816,
            0.016726943942133816,
            0.016726943942133816,
            0.016726943942133816,
            0.016726943942133816,
            0.016726943942133816,
            0.016726943942133816,
            0.024864376130198915,
            0.016726943942133816,
            0.016726943942133816
           ]
          },
          {
           "label": "algorithm",
           "range": [
            0,
            1
           ],
           "ticktext": [
            "SAMME.R",
            "SAMME"
           ],
           "tickvals": [
            0,
            1
           ],
           "values": [
            0,
            1,
            1,
            0,
            0,
            1,
            1,
            0,
            1,
            1,
            1,
            0,
            0,
            0,
            1,
            0,
            1,
            0,
            0,
            1,
            1,
            0,
            0,
            0,
            0,
            0,
            0,
            0,
            1,
            0,
            0,
            0,
            0,
            0,
            0,
            0,
            1,
            0,
            1,
            1,
            0,
            1,
            1,
            1,
            1,
            1,
            1,
            1,
            0,
            1,
            0,
            0,
            0,
            0,
            0,
            0,
            0,
            0,
            1,
            0,
            0,
            0,
            0,
            0,
            0,
            0,
            0,
            1,
            0,
            0,
            1,
            0,
            0,
            0,
            0,
            0,
            1,
            0,
            0,
            1,
            0,
            0,
            0,
            0,
            0,
            1,
            0,
            0,
            1,
            0,
            0,
            0,
            0,
            0,
            0,
            0,
            1,
            0,
            0,
            1
           ]
          },
          {
           "label": "learning_rate",
           "range": [
            1.0019467227224363,
            2.972662422701037
           ],
           "values": [
            1.9382635768315488,
            1.5217950908036497,
            2.613265159076854,
            2.7937771525589055,
            2.1846390031193637,
            2.962165889748724,
            2.7838283246351896,
            2.859173804543427,
            1.310312418779438,
            1.5552685061519458,
            1.0402414778920666,
            2.213542059053752,
            1.8857567886649453,
            2.296629850579553,
            1.525847822800586,
            1.606114719792672,
            2.339903389170187,
            1.7653818404733097,
            1.2514963164361295,
            2.1151081838161976,
            2.5096988322841627,
            2.1424746323143227,
            2.237796169284393,
            2.475259952275635,
            1.7533147859165332,
            2.0503873817367078,
            1.3569834894148047,
            1.7849569351843153,
            1.9659513601586325,
            2.411868754953441,
            2.634459894054925,
            1.8930872409006243,
            1.8912478451819767,
            2.217488682451507,
            1.6745900835444767,
            1.452932513266882,
            1.173016120897175,
            2.0499606788564426,
            2.6751307908188036,
            1.8509724011806243,
            2.1585246675774967,
            1.4922292923645208,
            1.4111429222986898,
            1.619391564257691,
            2.356348046899927,
            1.0019467227224363,
            1.1241013694468058,
            1.5455214451125998,
            2.003524939559892,
            1.6913429072338324,
            2.2433031626287865,
            1.2956897865714985,
            1.2439201827479818,
            1.2119210599394166,
            1.1026430488008832,
            1.414899430183043,
            1.522739730445585,
            1.3197494924012507,
            2.0979885180303475,
            1.6072803384842365,
            2.972662422701037,
            2.126831082993302,
            2.1996583638327705,
            2.5424922859697348,
            2.2861437961176017,
            1.8218008924673261,
            1.9584037941178012,
            2.4184059226264285,
            1.7396395903145203,
            2.0545244769007582,
            2.330199628651737,
            2.1710959362976285,
            2.24603682877095,
            2.005201341263879,
            1.926603800716416,
            2.394938276867761,
            2.3056701950109644,
            2.462072259993195,
            2.0825642681618817,
            2.1534823079665015,
            2.270771418482817,
            1.6956415428996157,
            1.8146360804804818,
            1.4576271619883863,
            1.9166093622139173,
            1.6448220510249383,
            1.7481891171218027,
            1.8736452524380371,
            2.0184338349394966,
            1.5560447349914792,
            1.9734461289852012,
            1.3603924731799935,
            1.3516986074845105,
            1.4075977400674475,
            1.263960544390777,
            1.5028113851674674,
            1.181963106306457,
            2.201393824586236,
            1.4597611534978479,
            1.5605677116624448
           ]
          },
          {
           "label": "n_estimators",
           "range": [
            60,
            498
           ],
           "values": [
            343,
            236,
            65,
            186,
            424,
            67,
            90,
            491,
            140,
            88,
            254,
            392,
            280,
            498,
            405,
            247,
            329,
            192,
            435,
            342,
            300,
            400,
            442,
            214,
            372,
            466,
            376,
            304,
            136,
            375,
            427,
            285,
            246,
            212,
            316,
            272,
            471,
            349,
            401,
            130,
            154,
            408,
            454,
            415,
            358,
            214,
            487,
            387,
            263,
            180,
            286,
            435,
            426,
            331,
            450,
            475,
            232,
            393,
            411,
            453,
            364,
            383,
            421,
            333,
            439,
            397,
            60,
            313,
            352,
            490,
            371,
            438,
            465,
            199,
            230,
            414,
            449,
            403,
            430,
            463,
            380,
            389,
            403,
            370,
            422,
            478,
            166,
            287,
            339,
            440,
            97,
            358,
            379,
            238,
            320,
            394,
            420,
            259,
            411,
            269
           ]
          },
          {
           "label": "random_state",
           "range": [
            0,
            5
           ],
           "values": [
            1,
            2,
            5,
            1,
            2,
            0,
            4,
            1,
            4,
            0,
            3,
            2,
            2,
            3,
            2,
            3,
            1,
            4,
            2,
            3,
            0,
            2,
            2,
            1,
            2,
            3,
            2,
            1,
            3,
            2,
            1,
            2,
            2,
            2,
            1,
            5,
            1,
            4,
            3,
            0,
            1,
            2,
            2,
            2,
            3,
            2,
            1,
            3,
            2,
            3,
            2,
            2,
            2,
            2,
            3,
            2,
            1,
            2,
            2,
            3,
            1,
            2,
            2,
            2,
            2,
            3,
            2,
            1,
            2,
            1,
            3,
            2,
            2,
            2,
            2,
            2,
            2,
            5,
            2,
            1,
            3,
            2,
            2,
            2,
            2,
            2,
            2,
            2,
            1,
            3,
            2,
            2,
            2,
            2,
            2,
            2,
            2,
            3,
            2,
            2
           ]
          }
         ],
         "labelangle": 30,
         "labelside": "bottom",
         "line": {
          "color": [
           0.02034358047016275,
           0.016726943942133816,
           0.02034358047016275,
           0.02034358047016275,
           0.016726943942133816,
           0.02305605786618445,
           0.019439421338155516,
           0.02034358047016275,
           0.019439421338155516,
           0.02305605786618445,
           0.024864376130198915,
           0.016726943942133816,
           0.016726943942133816,
           0.024864376130198915,
           0.016726943942133816,
           0.024864376130198915,
           0.02034358047016275,
           0.019439421338155516,
           0.016726943942133816,
           0.024864376130198915,
           0.02305605786618445,
           0.016726943942133816,
           0.016726943942133816,
           0.02034358047016275,
           0.016726943942133816,
           0.024864376130198915,
           0.016726943942133816,
           0.02034358047016275,
           0.024864376130198915,
           0.016726943942133816,
           0.02034358047016275,
           0.016726943942133816,
           0.016726943942133816,
           0.016726943942133816,
           0.02034358047016275,
           0.02034358047016275,
           0.02034358047016275,
           0.019439421338155516,
           0.024864376130198915,
           0.02305605786618445,
           0.02034358047016275,
           0.016726943942133816,
           0.016726943942133816,
           0.016726943942133816,
           0.024864376130198915,
           0.016726943942133816,
           0.02034358047016275,
           0.024864376130198915,
           0.016726943942133816,
           0.024864376130198915,
           0.016726943942133816,
           0.016726943942133816,
           0.016726943942133816,
           0.016726943942133816,
           0.024864376130198915,
           0.016726943942133816,
           0.02034358047016275,
           0.016726943942133816,
           0.016726943942133816,
           0.024864376130198915,
           0.02034358047016275,
           0.016726943942133816,
           0.016726943942133816,
           0.016726943942133816,
           0.016726943942133816,
           0.024864376130198915,
           0.016726943942133816,
           0.02034358047016275,
           0.016726943942133816,
           0.02034358047016275,
           0.024864376130198915,
           0.016726943942133816,
           0.016726943942133816,
           0.016726943942133816,
           0.016726943942133816,
           0.016726943942133816,
           0.016726943942133816,
           0.02034358047016275,
           0.016726943942133816,
           0.02034358047016275,
           0.024864376130198915,
           0.016726943942133816,
           0.016726943942133816,
           0.016726943942133816,
           0.016726943942133816,
           0.016726943942133816,
           0.016726943942133816,
           0.016726943942133816,
           0.02034358047016275,
           0.024864376130198915,
           0.016726943942133816,
           0.016726943942133816,
           0.016726943942133816,
           0.016726943942133816,
           0.016726943942133816,
           0.016726943942133816,
           0.016726943942133816,
           0.024864376130198915,
           0.016726943942133816,
           0.016726943942133816
          ],
          "colorbar": {
           "title": {
            "text": "Objective Value"
           }
          },
          "colorscale": [
           [
            0,
            "rgb(247,251,255)"
           ],
           [
            0.125,
            "rgb(222,235,247)"
           ],
           [
            0.25,
            "rgb(198,219,239)"
           ],
           [
            0.375,
            "rgb(158,202,225)"
           ],
           [
            0.5,
            "rgb(107,174,214)"
           ],
           [
            0.625,
            "rgb(66,146,198)"
           ],
           [
            0.75,
            "rgb(33,113,181)"
           ],
           [
            0.875,
            "rgb(8,81,156)"
           ],
           [
            1,
            "rgb(8,48,107)"
           ]
          ],
          "reversescale": true,
          "showscale": true
         },
         "type": "parcoords"
        }
       ],
       "layout": {
        "template": {
         "data": {
          "bar": [
           {
            "error_x": {
             "color": "#2a3f5f"
            },
            "error_y": {
             "color": "#2a3f5f"
            },
            "marker": {
             "line": {
              "color": "#E5ECF6",
              "width": 0.5
             },
             "pattern": {
              "fillmode": "overlay",
              "size": 10,
              "solidity": 0.2
             }
            },
            "type": "bar"
           }
          ],
          "barpolar": [
           {
            "marker": {
             "line": {
              "color": "#E5ECF6",
              "width": 0.5
             },
             "pattern": {
              "fillmode": "overlay",
              "size": 10,
              "solidity": 0.2
             }
            },
            "type": "barpolar"
           }
          ],
          "carpet": [
           {
            "aaxis": {
             "endlinecolor": "#2a3f5f",
             "gridcolor": "white",
             "linecolor": "white",
             "minorgridcolor": "white",
             "startlinecolor": "#2a3f5f"
            },
            "baxis": {
             "endlinecolor": "#2a3f5f",
             "gridcolor": "white",
             "linecolor": "white",
             "minorgridcolor": "white",
             "startlinecolor": "#2a3f5f"
            },
            "type": "carpet"
           }
          ],
          "choropleth": [
           {
            "colorbar": {
             "outlinewidth": 0,
             "ticks": ""
            },
            "type": "choropleth"
           }
          ],
          "contour": [
           {
            "colorbar": {
             "outlinewidth": 0,
             "ticks": ""
            },
            "colorscale": [
             [
              0,
              "#0d0887"
             ],
             [
              0.1111111111111111,
              "#46039f"
             ],
             [
              0.2222222222222222,
              "#7201a8"
             ],
             [
              0.3333333333333333,
              "#9c179e"
             ],
             [
              0.4444444444444444,
              "#bd3786"
             ],
             [
              0.5555555555555556,
              "#d8576b"
             ],
             [
              0.6666666666666666,
              "#ed7953"
             ],
             [
              0.7777777777777778,
              "#fb9f3a"
             ],
             [
              0.8888888888888888,
              "#fdca26"
             ],
             [
              1,
              "#f0f921"
             ]
            ],
            "type": "contour"
           }
          ],
          "contourcarpet": [
           {
            "colorbar": {
             "outlinewidth": 0,
             "ticks": ""
            },
            "type": "contourcarpet"
           }
          ],
          "heatmap": [
           {
            "colorbar": {
             "outlinewidth": 0,
             "ticks": ""
            },
            "colorscale": [
             [
              0,
              "#0d0887"
             ],
             [
              0.1111111111111111,
              "#46039f"
             ],
             [
              0.2222222222222222,
              "#7201a8"
             ],
             [
              0.3333333333333333,
              "#9c179e"
             ],
             [
              0.4444444444444444,
              "#bd3786"
             ],
             [
              0.5555555555555556,
              "#d8576b"
             ],
             [
              0.6666666666666666,
              "#ed7953"
             ],
             [
              0.7777777777777778,
              "#fb9f3a"
             ],
             [
              0.8888888888888888,
              "#fdca26"
             ],
             [
              1,
              "#f0f921"
             ]
            ],
            "type": "heatmap"
           }
          ],
          "heatmapgl": [
           {
            "colorbar": {
             "outlinewidth": 0,
             "ticks": ""
            },
            "colorscale": [
             [
              0,
              "#0d0887"
             ],
             [
              0.1111111111111111,
              "#46039f"
             ],
             [
              0.2222222222222222,
              "#7201a8"
             ],
             [
              0.3333333333333333,
              "#9c179e"
             ],
             [
              0.4444444444444444,
              "#bd3786"
             ],
             [
              0.5555555555555556,
              "#d8576b"
             ],
             [
              0.6666666666666666,
              "#ed7953"
             ],
             [
              0.7777777777777778,
              "#fb9f3a"
             ],
             [
              0.8888888888888888,
              "#fdca26"
             ],
             [
              1,
              "#f0f921"
             ]
            ],
            "type": "heatmapgl"
           }
          ],
          "histogram": [
           {
            "marker": {
             "pattern": {
              "fillmode": "overlay",
              "size": 10,
              "solidity": 0.2
             }
            },
            "type": "histogram"
           }
          ],
          "histogram2d": [
           {
            "colorbar": {
             "outlinewidth": 0,
             "ticks": ""
            },
            "colorscale": [
             [
              0,
              "#0d0887"
             ],
             [
              0.1111111111111111,
              "#46039f"
             ],
             [
              0.2222222222222222,
              "#7201a8"
             ],
             [
              0.3333333333333333,
              "#9c179e"
             ],
             [
              0.4444444444444444,
              "#bd3786"
             ],
             [
              0.5555555555555556,
              "#d8576b"
             ],
             [
              0.6666666666666666,
              "#ed7953"
             ],
             [
              0.7777777777777778,
              "#fb9f3a"
             ],
             [
              0.8888888888888888,
              "#fdca26"
             ],
             [
              1,
              "#f0f921"
             ]
            ],
            "type": "histogram2d"
           }
          ],
          "histogram2dcontour": [
           {
            "colorbar": {
             "outlinewidth": 0,
             "ticks": ""
            },
            "colorscale": [
             [
              0,
              "#0d0887"
             ],
             [
              0.1111111111111111,
              "#46039f"
             ],
             [
              0.2222222222222222,
              "#7201a8"
             ],
             [
              0.3333333333333333,
              "#9c179e"
             ],
             [
              0.4444444444444444,
              "#bd3786"
             ],
             [
              0.5555555555555556,
              "#d8576b"
             ],
             [
              0.6666666666666666,
              "#ed7953"
             ],
             [
              0.7777777777777778,
              "#fb9f3a"
             ],
             [
              0.8888888888888888,
              "#fdca26"
             ],
             [
              1,
              "#f0f921"
             ]
            ],
            "type": "histogram2dcontour"
           }
          ],
          "mesh3d": [
           {
            "colorbar": {
             "outlinewidth": 0,
             "ticks": ""
            },
            "type": "mesh3d"
           }
          ],
          "parcoords": [
           {
            "line": {
             "colorbar": {
              "outlinewidth": 0,
              "ticks": ""
             }
            },
            "type": "parcoords"
           }
          ],
          "pie": [
           {
            "automargin": true,
            "type": "pie"
           }
          ],
          "scatter": [
           {
            "fillpattern": {
             "fillmode": "overlay",
             "size": 10,
             "solidity": 0.2
            },
            "type": "scatter"
           }
          ],
          "scatter3d": [
           {
            "line": {
             "colorbar": {
              "outlinewidth": 0,
              "ticks": ""
             }
            },
            "marker": {
             "colorbar": {
              "outlinewidth": 0,
              "ticks": ""
             }
            },
            "type": "scatter3d"
           }
          ],
          "scattercarpet": [
           {
            "marker": {
             "colorbar": {
              "outlinewidth": 0,
              "ticks": ""
             }
            },
            "type": "scattercarpet"
           }
          ],
          "scattergeo": [
           {
            "marker": {
             "colorbar": {
              "outlinewidth": 0,
              "ticks": ""
             }
            },
            "type": "scattergeo"
           }
          ],
          "scattergl": [
           {
            "marker": {
             "colorbar": {
              "outlinewidth": 0,
              "ticks": ""
             }
            },
            "type": "scattergl"
           }
          ],
          "scattermapbox": [
           {
            "marker": {
             "colorbar": {
              "outlinewidth": 0,
              "ticks": ""
             }
            },
            "type": "scattermapbox"
           }
          ],
          "scatterpolar": [
           {
            "marker": {
             "colorbar": {
              "outlinewidth": 0,
              "ticks": ""
             }
            },
            "type": "scatterpolar"
           }
          ],
          "scatterpolargl": [
           {
            "marker": {
             "colorbar": {
              "outlinewidth": 0,
              "ticks": ""
             }
            },
            "type": "scatterpolargl"
           }
          ],
          "scatterternary": [
           {
            "marker": {
             "colorbar": {
              "outlinewidth": 0,
              "ticks": ""
             }
            },
            "type": "scatterternary"
           }
          ],
          "surface": [
           {
            "colorbar": {
             "outlinewidth": 0,
             "ticks": ""
            },
            "colorscale": [
             [
              0,
              "#0d0887"
             ],
             [
              0.1111111111111111,
              "#46039f"
             ],
             [
              0.2222222222222222,
              "#7201a8"
             ],
             [
              0.3333333333333333,
              "#9c179e"
             ],
             [
              0.4444444444444444,
              "#bd3786"
             ],
             [
              0.5555555555555556,
              "#d8576b"
             ],
             [
              0.6666666666666666,
              "#ed7953"
             ],
             [
              0.7777777777777778,
              "#fb9f3a"
             ],
             [
              0.8888888888888888,
              "#fdca26"
             ],
             [
              1,
              "#f0f921"
             ]
            ],
            "type": "surface"
           }
          ],
          "table": [
           {
            "cells": {
             "fill": {
              "color": "#EBF0F8"
             },
             "line": {
              "color": "white"
             }
            },
            "header": {
             "fill": {
              "color": "#C8D4E3"
             },
             "line": {
              "color": "white"
             }
            },
            "type": "table"
           }
          ]
         },
         "layout": {
          "annotationdefaults": {
           "arrowcolor": "#2a3f5f",
           "arrowhead": 0,
           "arrowwidth": 1
          },
          "autotypenumbers": "strict",
          "coloraxis": {
           "colorbar": {
            "outlinewidth": 0,
            "ticks": ""
           }
          },
          "colorscale": {
           "diverging": [
            [
             0,
             "#8e0152"
            ],
            [
             0.1,
             "#c51b7d"
            ],
            [
             0.2,
             "#de77ae"
            ],
            [
             0.3,
             "#f1b6da"
            ],
            [
             0.4,
             "#fde0ef"
            ],
            [
             0.5,
             "#f7f7f7"
            ],
            [
             0.6,
             "#e6f5d0"
            ],
            [
             0.7,
             "#b8e186"
            ],
            [
             0.8,
             "#7fbc41"
            ],
            [
             0.9,
             "#4d9221"
            ],
            [
             1,
             "#276419"
            ]
           ],
           "sequential": [
            [
             0,
             "#0d0887"
            ],
            [
             0.1111111111111111,
             "#46039f"
            ],
            [
             0.2222222222222222,
             "#7201a8"
            ],
            [
             0.3333333333333333,
             "#9c179e"
            ],
            [
             0.4444444444444444,
             "#bd3786"
            ],
            [
             0.5555555555555556,
             "#d8576b"
            ],
            [
             0.6666666666666666,
             "#ed7953"
            ],
            [
             0.7777777777777778,
             "#fb9f3a"
            ],
            [
             0.8888888888888888,
             "#fdca26"
            ],
            [
             1,
             "#f0f921"
            ]
           ],
           "sequentialminus": [
            [
             0,
             "#0d0887"
            ],
            [
             0.1111111111111111,
             "#46039f"
            ],
            [
             0.2222222222222222,
             "#7201a8"
            ],
            [
             0.3333333333333333,
             "#9c179e"
            ],
            [
             0.4444444444444444,
             "#bd3786"
            ],
            [
             0.5555555555555556,
             "#d8576b"
            ],
            [
             0.6666666666666666,
             "#ed7953"
            ],
            [
             0.7777777777777778,
             "#fb9f3a"
            ],
            [
             0.8888888888888888,
             "#fdca26"
            ],
            [
             1,
             "#f0f921"
            ]
           ]
          },
          "colorway": [
           "#636efa",
           "#EF553B",
           "#00cc96",
           "#ab63fa",
           "#FFA15A",
           "#19d3f3",
           "#FF6692",
           "#B6E880",
           "#FF97FF",
           "#FECB52"
          ],
          "font": {
           "color": "#2a3f5f"
          },
          "geo": {
           "bgcolor": "white",
           "lakecolor": "white",
           "landcolor": "#E5ECF6",
           "showlakes": true,
           "showland": true,
           "subunitcolor": "white"
          },
          "hoverlabel": {
           "align": "left"
          },
          "hovermode": "closest",
          "mapbox": {
           "style": "light"
          },
          "paper_bgcolor": "white",
          "plot_bgcolor": "#E5ECF6",
          "polar": {
           "angularaxis": {
            "gridcolor": "white",
            "linecolor": "white",
            "ticks": ""
           },
           "bgcolor": "#E5ECF6",
           "radialaxis": {
            "gridcolor": "white",
            "linecolor": "white",
            "ticks": ""
           }
          },
          "scene": {
           "xaxis": {
            "backgroundcolor": "#E5ECF6",
            "gridcolor": "white",
            "gridwidth": 2,
            "linecolor": "white",
            "showbackground": true,
            "ticks": "",
            "zerolinecolor": "white"
           },
           "yaxis": {
            "backgroundcolor": "#E5ECF6",
            "gridcolor": "white",
            "gridwidth": 2,
            "linecolor": "white",
            "showbackground": true,
            "ticks": "",
            "zerolinecolor": "white"
           },
           "zaxis": {
            "backgroundcolor": "#E5ECF6",
            "gridcolor": "white",
            "gridwidth": 2,
            "linecolor": "white",
            "showbackground": true,
            "ticks": "",
            "zerolinecolor": "white"
           }
          },
          "shapedefaults": {
           "line": {
            "color": "#2a3f5f"
           }
          },
          "ternary": {
           "aaxis": {
            "gridcolor": "white",
            "linecolor": "white",
            "ticks": ""
           },
           "baxis": {
            "gridcolor": "white",
            "linecolor": "white",
            "ticks": ""
           },
           "bgcolor": "#E5ECF6",
           "caxis": {
            "gridcolor": "white",
            "linecolor": "white",
            "ticks": ""
           }
          },
          "title": {
           "x": 0.05
          },
          "xaxis": {
           "automargin": true,
           "gridcolor": "white",
           "linecolor": "white",
           "ticks": "",
           "title": {
            "standoff": 15
           },
           "zerolinecolor": "white",
           "zerolinewidth": 2
          },
          "yaxis": {
           "automargin": true,
           "gridcolor": "white",
           "linecolor": "white",
           "ticks": "",
           "title": {
            "standoff": 15
           },
           "zerolinecolor": "white",
           "zerolinewidth": 2
          }
         }
        },
        "title": {
         "text": "Parallel Coordinate Plot"
        }
       }
      }
     },
     "metadata": {},
     "output_type": "display_data"
    }
   ],
   "source": [
    "from matplotlib import pyplot as plt\n",
    "fig_study_Ada = optuna.visualization.plot_parallel_coordinate(study_Ada, params=[\"n_estimators\", \"learning_rate\",\"algorithm\",\"random_state\"])\n",
    "fig_study_Ada.show()"
   ]
  },
  {
   "cell_type": "markdown",
   "metadata": {},
   "source": [
    "# fit the Ada-Boost model"
   ]
  },
  {
   "cell_type": "code",
   "execution_count": 79,
   "metadata": {},
   "outputs": [],
   "source": [
    "\n",
    "K = 5 # 5 fold cross validation\n",
    "skf = StratifiedKFold(n_splits = K, random_state = 42, shuffle = True)"
   ]
  },
  {
   "cell_type": "code",
   "execution_count": 80,
   "metadata": {},
   "outputs": [
    {
     "name": "stderr",
     "output_type": "stream",
     "text": [
      "100%|██████████| 5/5 [00:00<00:00, 57.08it/s]"
     ]
    },
    {
     "name": "stdout",
     "output_type": "stream",
     "text": [
      "0.027131782945736434\n"
     ]
    },
    {
     "name": "stderr",
     "output_type": "stream",
     "text": [
      "\n"
     ]
    }
   ],
   "source": [
    "# Let us make predictions for each of the 5 models and find mean \n",
    "# of those predictions\n",
    "\n",
    "from tqdm import tqdm\n",
    "train_Ada = np.array(encoded_X_train_n)\n",
    "target_train_Ada = np.array(y_train)\n",
    "\n",
    "test_Ada = np.array(encoded_X_test_n) # or test_Ada = np.array(X)\n",
    "\n",
    "\n",
    "test_preds_Ada = np.zeros((len(test_Ada)))\n",
    "oof_preds_Ada = np.zeros((len(train_Ada)))\n",
    "\n",
    "for train_index, val_index in tqdm(skf.split(encoded_X_train_n,y_train), total=5):\n",
    "    train_X, valid_X = train_Ada[train_index], train_Ada[val_index]\n",
    "    train_y, valid_y = target_train_Ada[train_index], target_train_Ada[val_index]\n",
    "    ada_params = study_Ada.best_trial.params\n",
    "    model_Ada_2 = AdaBoostClassifier(**ada_params,estimator=model_dt)\n",
    "    model_Ada_2.fit(train_X, train_y)\n",
    "    # for train accuracy\n",
    "    preds = model_Ada_2.predict(valid_X)\n",
    "    oof_preds_Ada[val_index] = preds\n",
    "    # for test accuracy\n",
    "    preds = model_Ada_2.predict(test_Ada)\n",
    "    test_preds_Ada += (preds)/5\n",
    "print(np.abs(oof_preds_Ada-target_train_Ada).mean())"
   ]
  },
  {
   "cell_type": "code",
   "execution_count": 81,
   "metadata": {},
   "outputs": [
    {
     "name": "stdout",
     "output_type": "stream",
     "text": [
      "0.9894578313253012\n"
     ]
    }
   ],
   "source": [
    "from sklearn.metrics import accuracy_score\n",
    "# valid_Acc_SVC=accuracy_score(target_train,oof_preds)\n",
    "# print(valid_Acc_SVC)\n",
    "target_test=np.array(y_test)\n",
    "# another technique for calculate test accuracy\n",
    "test_Acc_Ada=accuracy_score(target_test,test_preds_Ada.round())\n",
    "print(test_Acc_Ada)"
   ]
  },
  {
   "cell_type": "code",
   "execution_count": 82,
   "metadata": {},
   "outputs": [
    {
     "name": "stdout",
     "output_type": "stream",
     "text": [
      "0.977390180878553\n"
     ]
    }
   ],
   "source": [
    "#validation accuracy\n",
    "valid_Acc=accuracy_score(target_train_Ada,oof_preds_Ada)\n",
    "print(valid_Acc)"
   ]
  },
  {
   "cell_type": "code",
   "execution_count": 83,
   "metadata": {},
   "outputs": [
    {
     "name": "stdout",
     "output_type": "stream",
     "text": [
      "0.9954780361757106\n"
     ]
    }
   ],
   "source": [
    "# train accuracy\n",
    "train_Acc=model_Ada_2.score(encoded_X_train_n,y_train)\n",
    "print(train_Acc)"
   ]
  },
  {
   "cell_type": "code",
   "execution_count": 84,
   "metadata": {},
   "outputs": [
    {
     "name": "stdout",
     "output_type": "stream",
     "text": [
      "0.9864457831325302\n"
     ]
    }
   ],
   "source": [
    "# test_accuracy\n",
    "test_Acc=model_Ada_2.score(encoded_X_test_n,y_test)\n",
    "print(test_Acc)"
   ]
  },
  {
   "cell_type": "markdown",
   "metadata": {},
   "source": [
    "# Evaluation"
   ]
  },
  {
   "cell_type": "code",
   "execution_count": 85,
   "metadata": {},
   "outputs": [
    {
     "data": {
      "image/png": "[encoded data removed]",
      "text/plain": [
       "<Figure size 800x600 with 2 Axes>"
      ]
     },
     "metadata": {},
     "output_type": "display_data"
    }
   ],
   "source": [
    "############# plot confusion matrix ############\n",
    "\n",
    "from matplotlib import pyplot as plt\n",
    "from sklearn import metrics\n",
    "\n",
    "cm = metrics.confusion_matrix(y_test, test_preds_Ada.round())\n",
    "# Plot confusion matrix with custom color map\n",
    "\n",
    "plt.figure(figsize=(8, 6))\n",
    "plt.imshow(cm, interpolation='nearest', cmap=plt.cm.PuRd)  # Set cmap to custom color map\n",
    "plt.title('Confusion Matrix')\n",
    "plt.colorbar()\n",
    "\n",
    "# Adding annotations\n",
    "thresh = cm.max() / 2.\n",
    "for i in range(cm.shape[0]):\n",
    "    for j in range(cm.shape[1]):\n",
    "        plt.text(j, i, format(cm[i, j], 'd'), #'d = integer\n",
    "                 horizontalalignment=\"center\",\n",
    "                 color=\"white\" if cm[i, j] > thresh else \"black\")\n",
    "\n",
    "plt.ylabel('True label')\n",
    "plt.xlabel('Predicted label')\n",
    "plt.tight_layout() #improves the layout of plots by preventing overlapping elements such as axis labels, tick labels, and titles\n",
    "plt.show()\n"
   ]
  }
 ],
 "metadata": {
  "kernelspec": {
   "display_name": "Python 3",
   "language": "python",
   "name": "python3"
  },
  "language_info": {
   "codemirror_mode": {
    "name": "ipython",
    "version": 3
   },
   "file_extension": ".py",
   "mimetype": "text/x-python",
   "name": "python",
   "nbconvert_exporter": "python",
   "pygments_lexer": "ipython3",
   "version": "3.11.4"
  }
 },
 "nbformat": 4,
 "nbformat_minor": 2
}
